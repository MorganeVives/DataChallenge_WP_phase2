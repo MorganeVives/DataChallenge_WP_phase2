{
 "cells": [
  {
   "cell_type": "markdown",
   "metadata": {},
   "source": [
    "# Exploratory Data Analysis"
   ]
  },
  {
   "cell_type": "markdown",
   "metadata": {},
   "source": [
    "Ici nous pouvons faire toutes nos analyses des données"
   ]
  },
  {
   "cell_type": "code",
   "execution_count": null,
   "metadata": {},
   "outputs": [],
   "source": [
    "import pandas as pd"
   ]
  },
  {
   "cell_type": "markdown",
   "metadata": {},
   "source": [
    "Je reprends ta nomenclature sur les datasets cela nous permettra de pouvoir comparer les fonctions plus facilement comment on parlera de la même chose"
   ]
  },
  {
   "cell_type": "code",
   "execution_count": 2,
   "metadata": {},
   "outputs": [],
   "source": [
    "training_data_1 = pd.read_csv(\"Data/Initial/train.csv\")\n",
    "testing_data_1 = pd.read_csv(\"Data/Initial/test.csv\")\n",
    "\n",
    "wp_1_forecast = pd.read_csv(\"Data/Initial/wp1.csv\")\n",
    "wp_2_forecast = pd.read_csv(\"Data/Initial/wp2.csv\")\n",
    "wp_3_forecast = pd.read_csv(\"Data/Initial/wp3.csv\")\n",
    "wp_4_forecast = pd.read_csv(\"Data/Initial/wp4.csv\")\n",
    "wp_5_forecast = pd.read_csv(\"Data/Initial/wp5.csv\")\n",
    "wp_6_forecast = pd.read_csv(\"Data/Initial/wp6.csv\")"
   ]
  },
  {
   "cell_type": "code",
   "execution_count": 6,
   "metadata": {},
   "outputs": [
    {
     "data": {
      "text/html": [
       "<div>\n",
       "<style scoped>\n",
       "    .dataframe tbody tr th:only-of-type {\n",
       "        vertical-align: middle;\n",
       "    }\n",
       "\n",
       "    .dataframe tbody tr th {\n",
       "        vertical-align: top;\n",
       "    }\n",
       "\n",
       "    .dataframe thead th {\n",
       "        text-align: right;\n",
       "    }\n",
       "</style>\n",
       "<table border=\"1\" class=\"dataframe\">\n",
       "  <thead>\n",
       "    <tr style=\"text-align: right;\">\n",
       "      <th></th>\n",
       "      <th>date</th>\n",
       "      <th>hors</th>\n",
       "      <th>u</th>\n",
       "      <th>v</th>\n",
       "      <th>ws</th>\n",
       "      <th>wd</th>\n",
       "    </tr>\n",
       "  </thead>\n",
       "  <tbody>\n",
       "    <tr>\n",
       "      <th>0</th>\n",
       "      <td>2009070100</td>\n",
       "      <td>1</td>\n",
       "      <td>3.14</td>\n",
       "      <td>-3.62</td>\n",
       "      <td>4.79</td>\n",
       "      <td>139.09</td>\n",
       "    </tr>\n",
       "    <tr>\n",
       "      <th>1</th>\n",
       "      <td>2009070100</td>\n",
       "      <td>2</td>\n",
       "      <td>2.96</td>\n",
       "      <td>-3.56</td>\n",
       "      <td>4.63</td>\n",
       "      <td>140.26</td>\n",
       "    </tr>\n",
       "    <tr>\n",
       "      <th>2</th>\n",
       "      <td>2009070100</td>\n",
       "      <td>3</td>\n",
       "      <td>2.89</td>\n",
       "      <td>-3.46</td>\n",
       "      <td>4.51</td>\n",
       "      <td>140.15</td>\n",
       "    </tr>\n",
       "    <tr>\n",
       "      <th>3</th>\n",
       "      <td>2009070100</td>\n",
       "      <td>4</td>\n",
       "      <td>2.87</td>\n",
       "      <td>-3.33</td>\n",
       "      <td>4.40</td>\n",
       "      <td>139.26</td>\n",
       "    </tr>\n",
       "    <tr>\n",
       "      <th>4</th>\n",
       "      <td>2009070100</td>\n",
       "      <td>5</td>\n",
       "      <td>2.80</td>\n",
       "      <td>-3.19</td>\n",
       "      <td>4.25</td>\n",
       "      <td>138.73</td>\n",
       "    </tr>\n",
       "  </tbody>\n",
       "</table>\n",
       "</div>"
      ],
      "text/plain": [
       "         date  hors     u     v    ws      wd\n",
       "0  2009070100     1  3.14 -3.62  4.79  139.09\n",
       "1  2009070100     2  2.96 -3.56  4.63  140.26\n",
       "2  2009070100     3  2.89 -3.46  4.51  140.15\n",
       "3  2009070100     4  2.87 -3.33  4.40  139.26\n",
       "4  2009070100     5  2.80 -3.19  4.25  138.73"
      ]
     },
     "execution_count": 6,
     "metadata": {},
     "output_type": "execute_result"
    }
   ],
   "source": [
    "wp_1_forecast.head()"
   ]
  },
  {
   "cell_type": "code",
   "execution_count": null,
   "metadata": {},
   "outputs": [],
   "source": []
  }
 ],
 "metadata": {
  "interpreter": {
   "hash": "b3ba2566441a7c06988d0923437866b63cedc61552a5af99d1f4fb67d367b25f"
  },
  "kernelspec": {
   "display_name": "Python 3",
   "language": "python",
   "name": "python3"
  },
  "language_info": {
   "codemirror_mode": {
    "name": "ipython",
    "version": 3
   },
   "file_extension": ".py",
   "mimetype": "text/x-python",
   "name": "python",
   "nbconvert_exporter": "python",
   "pygments_lexer": "ipython3",
   "version": "3.8.3"
  }
 },
 "nbformat": 4,
 "nbformat_minor": 5
}
