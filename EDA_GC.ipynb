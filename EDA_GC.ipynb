{
 "cells": [
  {
   "cell_type": "markdown",
   "metadata": {},
   "source": [
    "# Exploratory Data Analysis"
   ]
  },
  {
   "cell_type": "markdown",
   "metadata": {},
   "source": [
    "Ici nous pouvons faire toutes nos analyses des données"
   ]
  },
  {
   "cell_type": "code",
   "execution_count": 1,
   "metadata": {},
   "outputs": [],
   "source": [
    "import pandas as pd"
   ]
  },
  {
   "cell_type": "code",
   "execution_count": 4,
   "metadata": {},
   "outputs": [],
   "source": [
    "data = pd.read_csv('Data/Initial/train.csv')"
   ]
  },
  {
   "cell_type": "code",
   "execution_count": 5,
   "metadata": {},
   "outputs": [
    {
     "output_type": "execute_result",
     "data": {
      "text/plain": [
       "         date    wp1    wp2    wp3    wp4    wp5    wp6\n",
       "0  2009070100  0.051  0.056  0.233  0.105  0.494  0.045\n",
       "1  2009070101  0.051  0.066  0.249  0.105  0.257  0.085\n",
       "2  2009070102  0.000  0.015  0.175  0.033  0.178  0.020\n",
       "3  2009070103  0.000  0.010  0.085  0.022  0.109  0.060\n",
       "4  2009070104  0.000  0.010  0.032  0.039  0.079  0.045"
      ],
      "text/html": "<div>\n<style scoped>\n    .dataframe tbody tr th:only-of-type {\n        vertical-align: middle;\n    }\n\n    .dataframe tbody tr th {\n        vertical-align: top;\n    }\n\n    .dataframe thead th {\n        text-align: right;\n    }\n</style>\n<table border=\"1\" class=\"dataframe\">\n  <thead>\n    <tr style=\"text-align: right;\">\n      <th></th>\n      <th>date</th>\n      <th>wp1</th>\n      <th>wp2</th>\n      <th>wp3</th>\n      <th>wp4</th>\n      <th>wp5</th>\n      <th>wp6</th>\n    </tr>\n  </thead>\n  <tbody>\n    <tr>\n      <th>0</th>\n      <td>2009070100</td>\n      <td>0.051</td>\n      <td>0.056</td>\n      <td>0.233</td>\n      <td>0.105</td>\n      <td>0.494</td>\n      <td>0.045</td>\n    </tr>\n    <tr>\n      <th>1</th>\n      <td>2009070101</td>\n      <td>0.051</td>\n      <td>0.066</td>\n      <td>0.249</td>\n      <td>0.105</td>\n      <td>0.257</td>\n      <td>0.085</td>\n    </tr>\n    <tr>\n      <th>2</th>\n      <td>2009070102</td>\n      <td>0.000</td>\n      <td>0.015</td>\n      <td>0.175</td>\n      <td>0.033</td>\n      <td>0.178</td>\n      <td>0.020</td>\n    </tr>\n    <tr>\n      <th>3</th>\n      <td>2009070103</td>\n      <td>0.000</td>\n      <td>0.010</td>\n      <td>0.085</td>\n      <td>0.022</td>\n      <td>0.109</td>\n      <td>0.060</td>\n    </tr>\n    <tr>\n      <th>4</th>\n      <td>2009070104</td>\n      <td>0.000</td>\n      <td>0.010</td>\n      <td>0.032</td>\n      <td>0.039</td>\n      <td>0.079</td>\n      <td>0.045</td>\n    </tr>\n  </tbody>\n</table>\n</div>"
     },
     "metadata": {},
     "execution_count": 5
    }
   ],
   "source": [
    "data.head()"
   ]
  },
  {
   "cell_type": "code",
   "execution_count": null,
   "metadata": {},
   "outputs": [],
   "source": []
  }
 ],
 "metadata": {
  "kernelspec": {
   "name": "python3",
   "display_name": "Python 3.7.6 64-bit ('base': conda)"
  },
  "language_info": {
   "codemirror_mode": {
    "name": "ipython",
    "version": 3
   },
   "file_extension": ".py",
   "mimetype": "text/x-python",
   "name": "python",
   "nbconvert_exporter": "python",
   "pygments_lexer": "ipython3",
   "version": "3.7.6"
  },
  "interpreter": {
   "hash": "b3ba2566441a7c06988d0923437866b63cedc61552a5af99d1f4fb67d367b25f"
  }
 },
 "nbformat": 4,
 "nbformat_minor": 5
}