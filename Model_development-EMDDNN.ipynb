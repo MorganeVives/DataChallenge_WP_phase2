{
 "cells": [
  {
   "cell_type": "code",
   "execution_count": 1,
   "id": "0188915a-ca5d-403a-aaa0-d45a08b977f2",
   "metadata": {},
   "outputs": [],
   "source": [
    "import pandas as pd\n",
    "import seaborn as sns\n",
    "from datetime import datetime, timedelta\n",
    "import matplotlib.pyplot as plt\n",
    "import numpy as np\n",
    "import os\n",
    "import pickle\n",
    "import time"
   ]
  },
  {
   "cell_type": "code",
   "execution_count": 2,
   "id": "03ddaa8e-0624-4b1c-8be7-deb1d512fba9",
   "metadata": {},
   "outputs": [],
   "source": [
    "from sklearn.ensemble import StackingRegressor, RandomForestRegressor\n",
    "from sklearn.linear_model import RidgeCV, Ridge \n",
    "from sklearn.svm import LinearSVR\n",
    "from lightgbm import LGBMRegressor\n",
    "from xgboost import XGBRegressor\n",
    "import tensorflow as tf\n",
    "from tensorflow import keras\n",
    "from tensorflow.keras import layers\n",
    "from keras.models import Sequential\n",
    "from keras.layers import Dense, Dropout,LSTM\n",
    "from keras import regularizers\n",
    "from sklearn.preprocessing import MinMaxScaler, StandardScaler\n",
    "from vmdpy import VMD"
   ]
  },
  {
   "cell_type": "code",
   "execution_count": 3,
   "id": "8f69d18d-d45b-445b-8dd9-fe8d313d46de",
   "metadata": {},
   "outputs": [],
   "source": [
    "from sklearn.model_selection import KFold, train_test_split, cross_val_score\n",
    "\n",
    "from sklearn.metrics import mean_squared_error, mean_absolute_error\n",
    "#import optuna"
   ]
  },
  {
   "cell_type": "code",
   "execution_count": 4,
   "id": "fbe4c8ff-0e84-46d5-801a-7ee0240314f3",
   "metadata": {},
   "outputs": [],
   "source": [
    "from Functions.helper_functions import * "
   ]
  },
  {
   "cell_type": "code",
   "execution_count": 5,
   "id": "1e137920-7e0d-43b0-97d7-fb01f39d5361",
   "metadata": {},
   "outputs": [],
   "source": [
    "import warnings\n",
    "warnings.filterwarnings(action='ignore', category=UserWarning)\n",
    "pd.options.mode.chained_assignment = None  # default='warn'"
   ]
  },
  {
   "cell_type": "code",
   "execution_count": 6,
   "id": "1f430cf4-6731-4344-95bf-825d901f3216",
   "metadata": {},
   "outputs": [],
   "source": [
    "np.random.seed(42)"
   ]
  },
  {
   "cell_type": "markdown",
   "id": "6199c530-4c80-4e01-8766-e0a1ac27f72b",
   "metadata": {
    "tags": []
   },
   "source": [
    "# Data"
   ]
  },
  {
   "cell_type": "code",
   "execution_count": 7,
   "id": "d12a2167-b7c7-437c-ab62-444c253f3d00",
   "metadata": {},
   "outputs": [
    {
     "name": "stdout",
     "output_type": "stream",
     "text": [
      "this cell took 41.00195002555847 s to run, be green, vectorize!\n"
     ]
    }
   ],
   "source": [
    "start_time = time.time()\n",
    "train_wp1 = pd.read_csv('Data/Preprocessing/WP1_train_preprocessed.csv', sep=',')\n",
    "train_wp2 = pd.read_csv('Data/Preprocessing/WP2_train_preprocessed.csv', sep=',')\n",
    "train_wp3 = pd.read_csv('Data/Preprocessing/WP3_train_preprocessed.csv', sep=',')\n",
    "train_wp4 = pd.read_csv('Data/Preprocessing/WP4_train_preprocessed.csv', sep=',')\n",
    "train_wp5 = pd.read_csv('Data/Preprocessing/WP5_train_preprocessed.csv', sep=',')\n",
    "train_wp6 = pd.read_csv('Data/Preprocessing/WP6_train_preprocessed.csv', sep=',')\n",
    "print('this cell took',(time.time() - start_time),'s to run, be green, vectorize!')"
   ]
  },
  {
   "cell_type": "code",
   "execution_count": 8,
   "id": "83f98a82-eb2d-433b-adcf-d8ead1b0d306",
   "metadata": {},
   "outputs": [],
   "source": [
    "train_wp1_imfs = pd.read_csv('Data/Preprocessing/WP1_train_imfs.csv', sep=',')\n",
    "train_wp2_imfs = pd.read_csv('Data/Preprocessing/WP2_train_imfs.csv', sep=',')\n",
    "train_wp3_imfs = pd.read_csv('Data/Preprocessing/WP3_train_imfs.csv', sep=',')\n",
    "train_wp4_imfs = pd.read_csv('Data/Preprocessing/WP4_train_imfs.csv', sep=',')\n",
    "train_wp5_imfs = pd.read_csv('Data/Preprocessing/WP5_train_imfs.csv', sep=',')\n",
    "train_wp6_imfs = pd.read_csv('Data/Preprocessing/WP6_train_imfs.csv', sep=',')"
   ]
  },
  {
   "cell_type": "code",
   "execution_count": 9,
   "id": "045bdc9e-3308-439e-9dbf-3618e1e9631d",
   "metadata": {},
   "outputs": [],
   "source": [
    "test_wp1 = pd.read_csv('Data/Preprocessing/WP1_test_preprocessed.csv', sep=',')\n",
    "test_wp2 = pd.read_csv('Data/Preprocessing/WP2_test_preprocessed.csv', sep=',')\n",
    "test_wp3 = pd.read_csv('Data/Preprocessing/WP3_test_preprocessed.csv', sep=',')\n",
    "test_wp4 = pd.read_csv('Data/Preprocessing/WP4_test_preprocessed.csv', sep=',')\n",
    "test_wp5 = pd.read_csv('Data/Preprocessing/WP5_test_preprocessed.csv', sep=',')\n",
    "test_wp6 = pd.read_csv('Data/Preprocessing/WP6_test_preprocessed.csv', sep=',')\n",
    "test_dates = pd.read_csv('Data/Initial/test.csv', sep=',').date.values"
   ]
  },
  {
   "cell_type": "code",
   "execution_count": 10,
   "id": "3a4ac5a4-3c5b-4531-8f41-0884252ebdc3",
   "metadata": {},
   "outputs": [],
   "source": [
    "to_drop = ['date','wd','forecast_time', 'forecast', \"forecast_dist\"]"
   ]
  },
  {
   "cell_type": "markdown",
   "id": "e8658c54-2f8c-4dc2-b3b1-db680b6ee582",
   "metadata": {
    "tags": []
   },
   "source": [
    "# Functions"
   ]
  },
  {
   "cell_type": "code",
   "execution_count": 11,
   "id": "43f1c0d8-9021-459a-9a56-5a358cc36f1b",
   "metadata": {},
   "outputs": [],
   "source": [
    "#Architecture du modèle:\n",
    "def build_model(data,n_neurons,output_shape,activation):\n",
    "    model = Sequential()\n",
    "    model.add(Dense(n_neurons,activation='relu',input_shape=(data.shape[1],)))\n",
    "    #model.add(Dropout(0.1))\n",
    "    model.add(Dense(n_neurons/2,activation='relu',))\n",
    "    #model.add(Dropout(0.1))\n",
    "    model.add(Dense(n_neurons/4,activation='relu'))\n",
    "    \n",
    "    model.add(Dense(output_shape,))\n",
    "\n",
    "  \n",
    "\n",
    "    model.compile(loss='mse',\n",
    "                optimizer='rmsprop',\n",
    "                metrics=[tf.keras.metrics.RootMeanSquaredError()])\n",
    "    return model"
   ]
  },
  {
   "cell_type": "code",
   "execution_count": 13,
   "id": "ebdd3d49-1bf8-4736-9795-feab299c75f2",
   "metadata": {},
   "outputs": [],
   "source": [
    "def dnn_cross_validation(X, y, epochs, n_neurons,output_shape,activation):\n",
    "    model = build_model(X,n_neurons,output_shape,activation)\n",
    "    print(model.summary())\n",
    "    model.save_weights('model.h5')\n",
    "    scaler_X=MinMaxScaler(feature_range=(y.min(),y.max()))\n",
    "    X = scaler_X.fit_transform(X)\n",
    "\n",
    "    print('-----------DNN CROSS VALIDATION BEGINNING-----------')\n",
    "    split = 10\n",
    "    kf = KFold(n_splits=split, shuffle=True)       \n",
    "    dnn_rmse_scores = []\n",
    "    dnn_mae_scores = []\n",
    "    i = 1\n",
    "    for (train_index, test_index) in kf.split(pd.DataFrame(X), pd.DataFrame(y)):\n",
    "        start_time = time.time()\n",
    "        X_train, X_test = pd.DataFrame(X).iloc[train_index], pd.DataFrame(X).iloc[test_index]\n",
    "        Y_train, Y_test = pd.DataFrame(y).iloc[train_index],pd.DataFrame(y).iloc[test_index]\n",
    "\n",
    "        model.fit(X_train, Y_train,epochs = epochs, verbose=0, shuffle=True)\n",
    "        if output_shape > 1:\n",
    "            prediction = model.predict(X_test).reshape(len(X_test),output_shape)\n",
    "        else:\n",
    "            prediction = model.predict(X_test).reshape(len(X_test),)\n",
    "        #print('--first raw prediction--:', prediction[0])\n",
    "        #print('--first raw y_true:',y.values[0])\n",
    "        dnn_rmse_scores.append(mean_squared_error(Y_test, prediction,squared=False))\n",
    "        dnn_mae_scores.append(mean_absolute_error(Y_test, prediction))\n",
    "        model.load_weights('model.h5')\n",
    "        print(show_evaluation(prediction, Y_test))\n",
    "        print('this fold was executed in ',(time.time() - start_time),'seconds')\n",
    "        print(f'-------------------FOLD {i}-----------------')\n",
    "        i+=1\n",
    "\n",
    "    print('---------------CROSS VALIDATION COMPLETE-------------')\n",
    "    print('--------------------------RMSE-----------------------')\n",
    "    display_scores(dnn_rmse_scores)\n",
    "    print('--------------------------MAE------------------------')\n",
    "    display_scores(dnn_mae_scores)"
   ]
  },
  {
   "cell_type": "code",
   "execution_count": 14,
   "id": "d91d2257-006a-49fa-849a-ade7a6911354",
   "metadata": {},
   "outputs": [],
   "source": [
    "def dnn_cross_validation_fourmodel(X, y_true, y1,y2,y3,y4, epochs, n_neurons,output_shape,activation):\n",
    "    \n",
    "    #print(model.summary())\n",
    "    #Scaling\n",
    "    scaler_X1=MinMaxScaler(feature_range=(y1.min(),y1.max()))\n",
    "    scaler_X2=MinMaxScaler(feature_range=(y2.min(),y2.max()))\n",
    "    scaler_X3=MinMaxScaler(feature_range=(y3.min(),y3.max()))\n",
    "    scaler_X4=MinMaxScaler(feature_range=(y4.min(),y4.max()))\n",
    "    X1 = scaler_X1.fit_transform(X)\n",
    "    X2 = scaler_X2.fit_transform(X)\n",
    "    X3 = scaler_X3.fit_transform(X)\n",
    "    X4 = scaler_X4.fit_transform(X)\n",
    "    #Complex model for first VMFs, basic one for the remaining\n",
    "    \n",
    "    model_1 = build_model(X1,n_neurons,output_shape,activation)\n",
    "    model_2 = build_model(X2,200,1,activation)\n",
    "    model_3 = build_model(X3,200,1,activation)\n",
    "    model_4 = build_model(X4,200,1,activation)\n",
    "    #Save weight for reset in the loop\n",
    "    model_1.save_weights('model_1.h5')\n",
    "    model_2.save_weights('model_2.h5')\n",
    "    model_3.save_weights('model_3.h5')\n",
    "    model_4.save_weights('model_4.h5')\n",
    "\n",
    "    print('-----------DNN CROSS VALIDATION BEGINNING-----------')\n",
    "    split = 10\n",
    "    kf = KFold(n_splits=split, shuffle=True)       \n",
    "    dnn_rmse_scores = []\n",
    "    dnn_mae_scores = []\n",
    "    i = 1\n",
    "    for (train_index, test_index) in kf.split(pd.DataFrame(X), pd.DataFrame(y1)):\n",
    "        start_time = time.time()\n",
    "        X1_train, X1_test = pd.DataFrame(X1).iloc[train_index], pd.DataFrame(X1).iloc[test_index]\n",
    "        X2_train, X2_test = pd.DataFrame(X2).iloc[train_index], pd.DataFrame(X2).iloc[test_index]\n",
    "        X3_train, X3_test = pd.DataFrame(X3).iloc[train_index], pd.DataFrame(X3).iloc[test_index]\n",
    "        X4_train, X4_test = pd.DataFrame(X4).iloc[train_index], pd.DataFrame(X4).iloc[test_index]\n",
    "        Y1_train, Y1_test = pd.DataFrame(y1).iloc[train_index],pd.DataFrame(y1).iloc[test_index]\n",
    "        Y2_train, Y2_test = pd.DataFrame(y2).iloc[train_index],pd.DataFrame(y2).iloc[test_index]\n",
    "        Y3_train, Y3_test = pd.DataFrame(y3).iloc[train_index],pd.DataFrame(y3).iloc[test_index]\n",
    "        Y4_train, Y4_test = pd.DataFrame(y4).iloc[train_index],pd.DataFrame(y4).iloc[test_index]\n",
    "        Y_train, Y_test = pd.DataFrame(y_true).iloc[train_index],pd.DataFrame(y_true).iloc[test_index]\n",
    "\n",
    "        model_1.fit(X1_train, Y1_train,epochs = epochs, verbose=0, shuffle=True)\n",
    "        model_2.fit(X2_train, Y2_train,epochs = 10, verbose=0, shuffle=True)\n",
    "        model_3.fit(X3_train, Y3_train,epochs = 10, verbose=0, shuffle=True)\n",
    "        model_4.fit(X4_train, Y4_train,epochs = 10, verbose=0, shuffle=True)\n",
    "        prediction = (model_1.predict(X1_test).reshape(len(X1_test),)\n",
    "                      +model_2.predict(X2_test).reshape(len(X2_test),)\n",
    "                      +model_3.predict(X3_test).reshape(len(X3_test),)\n",
    "                      +model_4.predict(X4_test).reshape(len(X4_test),))\n",
    "        #print('--first raw prediction--:', prediction[0])\n",
    "        #print('--first raw y_true:',y.values[0])\n",
    "        dnn_rmse_scores.append(mean_squared_error(Y_test, prediction,squared=False))\n",
    "        dnn_mae_scores.append(mean_absolute_error(Y_test, prediction))\n",
    "        model_1.load_weights('model_1.h5')\n",
    "        model_2.load_weights('model_2.h5')\n",
    "        model_3.load_weights('model_3.h5')\n",
    "        model_4.load_weights('model_4.h5')\n",
    "        print(show_evaluation(prediction, Y_test))\n",
    "        print('this fold was executed in ',(time.time() - start_time),'seconds')\n",
    "        print(f'-------------------FOLD {i}-----------------')\n",
    "        i+=1\n",
    "\n",
    "    print('---------------CROSS VALIDATION COMPLETE-------------')\n",
    "    print('--------------------------RMSE-----------------------')\n",
    "    display_scores(dnn_rmse_scores)\n",
    "    print('--------------------------MAE------------------------')\n",
    "    display_scores(dnn_mae_scores)"
   ]
  },
  {
   "cell_type": "code",
   "execution_count": 15,
   "id": "af4bd019-be38-4225-9045-6d29ba0b7c78",
   "metadata": {},
   "outputs": [],
   "source": [
    "def dnn_cross_validation_double(X, y_imfs,y_true, epochs, n_neurons):\n",
    "    model_emd = build_model(X,n_neurons,15,'relu')\n",
    "    model_recompose = build_model(y_imfs,n_neurons,1,'sigmoid')\n",
    "    print(model_emd.summary())\n",
    "    print(model_recompose.summary())\n",
    "    model_emd.save_weights('model.h5')\n",
    "    model_recompose.save_weights('model_recomp.h5')\n",
    "    scaler_imfs = StandardScaler()\n",
    "    y_imfs = scaler_imfs.fit_transform(y_imfs)\n",
    "    scaler_X = MinMaxScaler(feature_range=(0,1))\n",
    "    X = scaler_X.fit_transform(X)\n",
    "\n",
    "    print('-----------DNN CROSS VALIDATION BEGINNING-----------')\n",
    "    split = 3\n",
    "    kf = KFold(n_splits=split, shuffle=True)       \n",
    "    dnn_rmse_scores = []\n",
    "    dnn_mae_scores = []\n",
    "    i = 1\n",
    "    for (train_index, test_index) in kf.split(pd.DataFrame(X), pd.DataFrame(y_true)):\n",
    "        start_time = time.time()\n",
    "        print('----Creating dataset----')\n",
    "        X_train, X_test = pd.DataFrame(X).iloc[train_index], pd.DataFrame(X).iloc[test_index]\n",
    "        Y_train, Y_test  = pd.DataFrame(y_true).iloc[train_index],pd.DataFrame(y_true).iloc[test_index]\n",
    "        X_train_imfs, X_test_imfs = pd.DataFrame(y_imfs).iloc[train_index], pd.DataFrame(y_imfs).iloc[test_index]\n",
    "        Y_train_imfs,Y_test_imfs = pd.DataFrame(y_imfs).iloc[train_index],pd.DataFrame(y_imfs).iloc[test_index]\n",
    "        print('------First model-----')\n",
    "        model_emd.fit(X_train, Y_train_imfs,epochs = epochs, verbose=0, shuffle=True)\n",
    "        prediction_imfs = model_emd.predict(X_test).reshape(len(X_test),15)\n",
    "        print('------Second model-----')\n",
    "        model_recompose.fit(X_train_imfs,Y_train, epochs=epochs,verbose=0,shuffle=True)\n",
    "        prediction_final = model_recompose.predict(prediction_imfs).reshape(len(X_test),)\n",
    "        \n",
    "        #print('--first raw prediction--:', prediction[0])\n",
    "        #print('--first raw y_true:',y.values[0])\n",
    "        \n",
    "        dnn_rmse_scores.append(mean_squared_error(Y_test, prediction_final,squared=False))\n",
    "        dnn_mae_scores.append(mean_absolute_error(Y_test, prediction_final))\n",
    "        model_emd.load_weights('model.h5')\n",
    "        model_recompose.load_weights('model_recomp.h5')\n",
    "        print(show_evaluation(prediction_final, Y_test))\n",
    "        print('this fold was executed in ',(time.time() - start_time),'seconds')\n",
    "        print(f'-------------------FOLD {i}-----------------')\n",
    "        i+=1\n",
    "\n",
    "    print('---------------CROSS VALIDATION COMPLETE-------------')\n",
    "    print('--------------------------RMSE-----------------------')\n",
    "    display_scores(dnn_rmse_scores)\n",
    "    print('--------------------------MAE------------------------')\n",
    "    display_scores(dnn_mae_scores)"
   ]
  },
  {
   "cell_type": "code",
   "execution_count": 16,
   "id": "0b859e32-9a78-4035-8e42-a8ccd10576e7",
   "metadata": {},
   "outputs": [],
   "source": [
    "def dnn_cross_validation_sum(X, y_imfs,y_true, epochs, n_neurons):\n",
    "    model_emd = build_model(X,n_neurons,15,'relu')\n",
    "    #model_recompose = build_model(y_imfs,n_neurons,1,'sigmoid')\n",
    "    print(model_emd.summary())\n",
    "    #print(model_recompose.summary())\n",
    "    model_emd.save_weights('model.h5')\n",
    "    #model_recompose.save_weights('model_recomp.h5')\n",
    "    #scaler_imfs = StandardScaler()\n",
    "    #y_imfs = scaler_imfs.fit_transform(y_imfs)\n",
    "    scaler_X = MinMaxScaler(feature_range=(-1,1))\n",
    "    scaler_imfs = MinMaxScaler(feature_range=(-1,1))\n",
    "    X = scaler_X.fit_transform(X)\n",
    "    y_imfs = scaler_imfs.fit_transform(y_imfs)\n",
    "\n",
    "    print('-----------DNN CROSS VALIDATION BEGINNING-----------')\n",
    "    split = 3\n",
    "    kf = KFold(n_splits=split, shuffle=True)       \n",
    "    dnn_rmse_scores = []\n",
    "    dnn_mae_scores = []\n",
    "    i = 1\n",
    "    for (train_index, test_index) in kf.split(pd.DataFrame(X), pd.DataFrame(y_true)):\n",
    "        start_time = time.time()\n",
    "        print('----Creating dataset----')\n",
    "        X_train, X_test = pd.DataFrame(X).iloc[train_index], pd.DataFrame(X).iloc[test_index]\n",
    "        Y_train, Y_test  = pd.DataFrame(y_true).iloc[train_index],pd.DataFrame(y_true).iloc[test_index]\n",
    "        X_train_imfs, X_test_imfs = pd.DataFrame(y_imfs).iloc[train_index], pd.DataFrame(y_imfs).iloc[test_index]\n",
    "        Y_train_imfs,Y_test_imfs = pd.DataFrame(y_imfs).iloc[train_index],pd.DataFrame(y_imfs).iloc[test_index]\n",
    "        print('------First model-----')\n",
    "        model_emd.fit(X_train, Y_train_imfs,epochs = epochs, verbose=0, shuffle=True)\n",
    "        prediction_imfs = model_emd.predict(X_test).reshape(len(X_test),15)\n",
    "        print('------combining results-----')\n",
    "        #model_recompose.fit(X_train_imfs,Y_train, epochs=epochs,verbose=0,shuffle=True)\n",
    "        prediction_final = scaler_imfs.inverse_transform(prediction_imfs).sum(axis=1).reshape(len(X_test),)\n",
    "        \n",
    "        #print('--first raw prediction--:', prediction[0])\n",
    "        #print('--first raw y_true:',y.values[0])\n",
    "        \n",
    "        dnn_rmse_scores.append(mean_squared_error(Y_test, prediction_final,squared=False))\n",
    "        dnn_mae_scores.append(mean_absolute_error(Y_test, prediction_final))\n",
    "        model_emd.load_weights('model.h5')\n",
    "        #model_recompose.load_weights('model_recomp.h5')\n",
    "        print(show_evaluation(prediction_final, Y_test))\n",
    "        print('this fold was executed in ',(time.time() - start_time),'seconds')\n",
    "        print(f'-------------------FOLD {i}-----------------')\n",
    "        i+=1\n",
    "\n",
    "    print('---------------CROSS VALIDATION COMPLETE-------------')\n",
    "    print('--------------------------RMSE-----------------------')\n",
    "    display_scores(dnn_rmse_scores)\n",
    "    print('--------------------------MAE------------------------')\n",
    "    display_scores(dnn_mae_scores)"
   ]
  },
  {
   "cell_type": "code",
   "execution_count": 12,
   "id": "5a8578d8-bfb9-49f1-8ffa-97295ca55b4f",
   "metadata": {},
   "outputs": [],
   "source": [
    "def vmd(y,k):\n",
    "    \n",
    "    #Intrinsic mode generation\n",
    "     #Empirical Mode Decomposition\n",
    "    #. some sample parameters for VMD  \n",
    "    alpha = 1       # moderate bandwidth constraint  \n",
    "    tau = 0.           # noise-tolerance (no strict fidelity enforcement)  \n",
    "    K = k              # k modes  \n",
    "    DC = 0             # no DC part imposed  \n",
    "    init = 1           # initialize omegas uniformly  \n",
    "    tol = 1e-7\n",
    "    u, u_hat, omega = VMD(y,alpha, tau, K, DC, init, tol)\n",
    "    df_vmfs = pd.DataFrame()\n",
    "    #Integration in the dataframe\n",
    "    for num, imf in enumerate(u):\n",
    "        #print('----Creating VMFwp{0} EMD columns----'.format(num+1))\n",
    "        df_vmfs['IMFwp{0}'.format(num+1)] = imf\n",
    "    return df_vmfs"
   ]
  },
  {
   "cell_type": "markdown",
   "id": "df96a038-4f3d-489f-9136-7d903230542b",
   "metadata": {
    "tags": []
   },
   "source": [
    "# WP1"
   ]
  },
  {
   "cell_type": "markdown",
   "id": "8e7316c5-b08f-4a1c-8abd-c067671d3482",
   "metadata": {},
   "source": [
    "## Data Prep + EMD"
   ]
  },
  {
   "cell_type": "code",
   "execution_count": 13,
   "id": "fb8c7942-d93f-4afe-adc4-28716078fd98",
   "metadata": {},
   "outputs": [],
   "source": [
    "wp1_X = train_wp1[[c for c in train_wp1 if c not in [\"wp\"]] + [\"wp\"]].drop(to_drop, axis = 1)\n",
    "X1 = wp1_X.drop('wp', axis=1)\n",
    "vmfs= vmd(wp1_X.wp,4)\n",
    "#y1_1 = vmfs['IMFwp1']\n",
    "#y1_2 = vmfs['IMFwp2']\n",
    "#y1_3 = vmfs['IMFwp3']\n",
    "#y1_4 = vmfs['IMFwp4']\n",
    "y1_true = wp1_X['wp']"
   ]
  },
  {
   "cell_type": "markdown",
   "id": "eb67c27c-52f4-428e-916d-518f75bf9154",
   "metadata": {
    "jp-MarkdownHeadingCollapsed": true,
    "tags": []
   },
   "source": [
    "## Cross-Val Sums"
   ]
  },
  {
   "cell_type": "code",
   "execution_count": 17,
   "id": "264113fb-8d25-4ad1-b7de-0968440052d8",
   "metadata": {},
   "outputs": [],
   "source": [
    "#dnn_cross_validation_sum(X1,y1,y1_true,100,10)"
   ]
  },
  {
   "cell_type": "markdown",
   "id": "0df8354d-d860-4a25-9da2-9751ada9554c",
   "metadata": {
    "jp-MarkdownHeadingCollapsed": true,
    "tags": []
   },
   "source": [
    "## Cross_Val embedded models"
   ]
  },
  {
   "cell_type": "code",
   "execution_count": 18,
   "id": "ce26d6b9-7ea4-4112-a6c1-0069adb511ca",
   "metadata": {},
   "outputs": [],
   "source": [
    "#dnn_cross_validation_double(X1,y1,y1_true,100,1000)"
   ]
  },
  {
   "cell_type": "markdown",
   "id": "6cf80e8b-c76d-4660-a328-acc8eef7ecbe",
   "metadata": {
    "jp-MarkdownHeadingCollapsed": true,
    "tags": []
   },
   "source": [
    "## Cross-Val"
   ]
  },
  {
   "cell_type": "code",
   "execution_count": 49,
   "id": "b3dcc1d6-29b3-4b2c-a0f4-d3e0b44017d9",
   "metadata": {},
   "outputs": [
    {
     "name": "stdout",
     "output_type": "stream",
     "text": [
      "-----------DNN CROSS VALIDATION BEGINNING-----------\n",
      "RMSE score: 0.09732701013489164\n",
      "MAE score: 0.07116780466721945\n",
      "None\n",
      "this fold was executed in  324.46967697143555 seconds\n",
      "-------------------FOLD 1-----------------\n",
      "RMSE score: 0.10018372870509974\n",
      "MAE score: 0.07348860533351562\n",
      "None\n",
      "this fold was executed in  287.0926094055176 seconds\n",
      "-------------------FOLD 2-----------------\n",
      "RMSE score: 0.098730823994966\n",
      "MAE score: 0.07186643187861211\n",
      "None\n",
      "this fold was executed in  294.97344493865967 seconds\n",
      "-------------------FOLD 3-----------------\n",
      "RMSE score: 0.09290383923958416\n",
      "MAE score: 0.06615979616149946\n",
      "None\n",
      "this fold was executed in  290.0992343425751 seconds\n",
      "-------------------FOLD 4-----------------\n",
      "RMSE score: 0.12180670780430629\n",
      "MAE score: 0.08879154508637434\n",
      "None\n",
      "this fold was executed in  304.54967522621155 seconds\n",
      "-------------------FOLD 5-----------------\n",
      "RMSE score: 0.10341936011223321\n",
      "MAE score: 0.07768967296367633\n",
      "None\n",
      "this fold was executed in  293.27346563339233 seconds\n",
      "-------------------FOLD 6-----------------\n",
      "RMSE score: 0.09798423311038082\n",
      "MAE score: 0.07172079820620055\n",
      "None\n",
      "this fold was executed in  297.3283758163452 seconds\n",
      "-------------------FOLD 7-----------------\n",
      "RMSE score: 0.10106905568166534\n",
      "MAE score: 0.07295687499149861\n",
      "None\n",
      "this fold was executed in  293.80221223831177 seconds\n",
      "-------------------FOLD 8-----------------\n",
      "RMSE score: 0.10185299568615838\n",
      "MAE score: 0.074344320794274\n",
      "None\n",
      "this fold was executed in  293.00540924072266 seconds\n",
      "-------------------FOLD 9-----------------\n",
      "RMSE score: 0.09694833904630547\n",
      "MAE score: 0.07025170573192255\n",
      "None\n",
      "this fold was executed in  294.85290908813477 seconds\n",
      "-------------------FOLD 10-----------------\n",
      "---------------CROSS VALIDATION COMPLETE-------------\n",
      "--------------------------RMSE-----------------------\n",
      "Scores: [0.09732701013489164, 0.10018372870509974, 0.098730823994966, 0.09290383923958416, 0.12180670780430629, 0.10341936011223321, 0.09798423311038082, 0.10106905568166534, 0.10185299568615838, 0.09694833904630547]\n",
      "Mean: 0.10122260935155909\n",
      "Std: 0.00741197782439213\n",
      "--------------------------MAE------------------------\n",
      "Scores: [0.07116780466721945, 0.07348860533351562, 0.07186643187861211, 0.06615979616149946, 0.08879154508637434, 0.07768967296367633, 0.07172079820620055, 0.07295687499149861, 0.074344320794274, 0.07025170573192255]\n",
      "Mean: 0.07384375558147929\n",
      "Std: 0.005717641741429813\n"
     ]
    }
   ],
   "source": [
    "#dnn_cross_validation(X1, y1, 50, 400,1,'relu')\n",
    "#dnn_cross_validation(X1, y2, 10, 200,1,'relu')\n",
    "#dnn_cross_validation(X1, y3, 10, 200,1,'relu')\n",
    "#dnn_cross_validation(X1, y4, 10, 200,1,'relu')\n",
    "#dnn_cross_validation(y1, y1_true, 2, 20,1,'sigmoid')\n",
    "dnn_cross_validation_fourmodel(X1, y1_true,y1_1,y1_2,y1_3,y1_4, 50, 400,1,'relu')"
   ]
  },
  {
   "cell_type": "markdown",
   "id": "45424586-edbe-4227-bfaf-6c3186ae35d0",
   "metadata": {
    "tags": []
   },
   "source": [
    "# WP2"
   ]
  },
  {
   "cell_type": "markdown",
   "id": "0981e66e-cfa3-4ab6-80b7-42cc355abb88",
   "metadata": {},
   "source": [
    "## Data Prep + EMD"
   ]
  },
  {
   "cell_type": "code",
   "execution_count": 14,
   "id": "6ed6785a-5975-4a75-979c-93ffeac26a6c",
   "metadata": {},
   "outputs": [],
   "source": [
    "wp2_X = train_wp2[[c for c in train_wp1 if c not in [\"wp\"]] + [\"wp\"]].drop(to_drop, axis = 1)\n",
    "X2 = wp2_X.drop('wp', axis=1)\n",
    "vmfs_2= vmd(wp2_X.wp,4)\n",
    "#y2_1 = vmfs_2['IMFwp1']\n",
    "#y2_2 = vmfs_2['IMFwp2']\n",
    "#y2_3 = vmfs_2['IMFwp3']\n",
    "#y2_4 = vmfs_2['IMFwp4']\n",
    "y2_true = wp2_X['wp']"
   ]
  },
  {
   "cell_type": "markdown",
   "id": "15d8b60b-ecf4-467a-b622-379c3613d4d1",
   "metadata": {},
   "source": [
    "## Cross-Val"
   ]
  },
  {
   "cell_type": "code",
   "execution_count": 54,
   "id": "82d15262-3515-4649-b511-2855b1cb585b",
   "metadata": {},
   "outputs": [
    {
     "name": "stdout",
     "output_type": "stream",
     "text": [
      "-----------DNN CROSS VALIDATION BEGINNING-----------\n",
      "RMSE score: 0.10114605284002343\n",
      "MAE score: 0.07438661257283267\n",
      "None\n",
      "this fold was executed in  384.53218936920166 seconds\n",
      "-------------------FOLD 1-----------------\n",
      "RMSE score: 0.10819166171305307\n",
      "MAE score: 0.08107454344962511\n",
      "None\n",
      "this fold was executed in  332.79622983932495 seconds\n",
      "-------------------FOLD 2-----------------\n",
      "RMSE score: 0.1112802208889649\n",
      "MAE score: 0.08109208780179432\n",
      "None\n",
      "this fold was executed in  298.4663395881653 seconds\n",
      "-------------------FOLD 3-----------------\n",
      "RMSE score: 0.11345052087325462\n",
      "MAE score: 0.08342394832102387\n",
      "None\n",
      "this fold was executed in  344.33134365081787 seconds\n",
      "-------------------FOLD 4-----------------\n",
      "RMSE score: 0.10168832071758209\n",
      "MAE score: 0.07358053864845107\n",
      "None\n",
      "this fold was executed in  324.5699338912964 seconds\n",
      "-------------------FOLD 5-----------------\n",
      "RMSE score: 0.10315720100598738\n",
      "MAE score: 0.07298497608898954\n",
      "None\n",
      "this fold was executed in  326.1068608760834 seconds\n",
      "-------------------FOLD 6-----------------\n",
      "RMSE score: 0.10630858854538516\n",
      "MAE score: 0.07922286771918581\n",
      "None\n",
      "this fold was executed in  341.71264386177063 seconds\n",
      "-------------------FOLD 7-----------------\n",
      "RMSE score: 0.10328801098807819\n",
      "MAE score: 0.07296729360550835\n",
      "None\n",
      "this fold was executed in  308.21454191207886 seconds\n",
      "-------------------FOLD 8-----------------\n",
      "RMSE score: 0.09885851500013186\n",
      "MAE score: 0.07144194757654208\n",
      "None\n",
      "this fold was executed in  311.4571924209595 seconds\n",
      "-------------------FOLD 9-----------------\n",
      "RMSE score: 0.10228465380765162\n",
      "MAE score: 0.07165760493120261\n",
      "None\n",
      "this fold was executed in  321.2587342262268 seconds\n",
      "-------------------FOLD 10-----------------\n",
      "---------------CROSS VALIDATION COMPLETE-------------\n",
      "--------------------------RMSE-----------------------\n",
      "Scores: [0.10114605284002343, 0.10819166171305307, 0.1112802208889649, 0.11345052087325462, 0.10168832071758209, 0.10315720100598738, 0.10630858854538516, 0.10328801098807819, 0.09885851500013186, 0.10228465380765162]\n",
      "Mean: 0.10496537463801123\n",
      "Std: 0.004471884195693414\n",
      "--------------------------MAE------------------------\n",
      "Scores: [0.07438661257283267, 0.08107454344962511, 0.08109208780179432, 0.08342394832102387, 0.07358053864845107, 0.07298497608898954, 0.07922286771918581, 0.07296729360550835, 0.07144194757654208, 0.07165760493120261]\n",
      "Mean: 0.07618324207151554\n",
      "Std: 0.004280457734327346\n"
     ]
    }
   ],
   "source": [
    "#dnn_cross_validation(X2, y2, 10, 20,len(y2.columns),'relu')\n",
    "#dnn_cross_validation(y2, y2_true, 10, 20,1,'sigmoid')\n",
    "dnn_cross_validation_fourmodel(X2, y2_true,y2_1,y2_2,y2_3,y2_4, 50, 400,1,'relu')"
   ]
  },
  {
   "cell_type": "markdown",
   "id": "39598ec4-6c04-48fb-845a-b854110167e2",
   "metadata": {
    "tags": []
   },
   "source": [
    "# WP3"
   ]
  },
  {
   "cell_type": "markdown",
   "id": "e5f77e39-4096-42a6-a468-ba08ddf70e6b",
   "metadata": {},
   "source": [
    "## EMD"
   ]
  },
  {
   "cell_type": "code",
   "execution_count": 15,
   "id": "f7bb383b-c043-4f22-83e1-84ffde46ccf6",
   "metadata": {},
   "outputs": [],
   "source": [
    "wp3_X = train_wp3[[c for c in train_wp3 if c not in [\"wp\"]] + [\"wp\"]].drop(to_drop, axis = 1)\n",
    "X3 = wp3_X.drop('wp', axis=1)\n",
    "vmfs_3= vmd(wp3_X.wp,4)\n",
    "#y3_1 = vmfs_3['IMFwp1']\n",
    "#y3_2 = vmfs_3['IMFwp2']\n",
    "#y3_3 = vmfs_3['IMFwp3']\n",
    "#y3_4 = vmfs_3['IMFwp4']\n",
    "y3_true = wp3_X['wp']"
   ]
  },
  {
   "cell_type": "markdown",
   "id": "a0c3ba96-5601-4d8c-a1fa-8dd9ed3d4da4",
   "metadata": {},
   "source": [
    "## Cross-Val"
   ]
  },
  {
   "cell_type": "code",
   "execution_count": 56,
   "id": "2817d88c-9137-4df9-b11b-30dd32e5a529",
   "metadata": {},
   "outputs": [
    {
     "name": "stdout",
     "output_type": "stream",
     "text": [
      "-----------DNN CROSS VALIDATION BEGINNING-----------\n",
      "RMSE score: 0.08917313611192038\n",
      "MAE score: 0.06614608783977911\n",
      "None\n",
      "this fold was executed in  355.3935639858246 seconds\n",
      "-------------------FOLD 1-----------------\n",
      "RMSE score: 0.09057487910469252\n",
      "MAE score: 0.06635065834775432\n",
      "None\n",
      "this fold was executed in  315.4036018848419 seconds\n",
      "-------------------FOLD 2-----------------\n",
      "RMSE score: 0.0893588561414929\n",
      "MAE score: 0.065267571627837\n",
      "None\n",
      "this fold was executed in  313.3716928958893 seconds\n",
      "-------------------FOLD 3-----------------\n",
      "RMSE score: 0.09053358803864875\n",
      "MAE score: 0.06530221921298528\n",
      "None\n",
      "this fold was executed in  331.3442373275757 seconds\n",
      "-------------------FOLD 4-----------------\n",
      "RMSE score: 0.08850560978550209\n",
      "MAE score: 0.06463404227907561\n",
      "None\n",
      "this fold was executed in  339.4361400604248 seconds\n",
      "-------------------FOLD 5-----------------\n",
      "RMSE score: 0.08756620818195278\n",
      "MAE score: 0.06407043426580947\n",
      "None\n",
      "this fold was executed in  308.48728346824646 seconds\n",
      "-------------------FOLD 6-----------------\n",
      "RMSE score: 0.08809679051368713\n",
      "MAE score: 0.06501213478044733\n",
      "None\n",
      "this fold was executed in  312.3597128391266 seconds\n",
      "-------------------FOLD 7-----------------\n",
      "RMSE score: 0.09627008836135591\n",
      "MAE score: 0.07265167859989521\n",
      "None\n",
      "this fold was executed in  324.10497879981995 seconds\n",
      "-------------------FOLD 8-----------------\n",
      "RMSE score: 0.09616142435556627\n",
      "MAE score: 0.07593062235877476\n",
      "None\n",
      "this fold was executed in  308.1687476634979 seconds\n",
      "-------------------FOLD 9-----------------\n",
      "RMSE score: 0.0970629600424215\n",
      "MAE score: 0.07115747326396409\n",
      "None\n",
      "this fold was executed in  315.8822786808014 seconds\n",
      "-------------------FOLD 10-----------------\n",
      "---------------CROSS VALIDATION COMPLETE-------------\n",
      "--------------------------RMSE-----------------------\n",
      "Scores: [0.08917313611192038, 0.09057487910469252, 0.0893588561414929, 0.09053358803864875, 0.08850560978550209, 0.08756620818195278, 0.08809679051368713, 0.09627008836135591, 0.09616142435556627, 0.0970629600424215]\n",
      "Mean: 0.09133035406372403\n",
      "Std: 0.003506463545412003\n",
      "--------------------------MAE------------------------\n",
      "Scores: [0.06614608783977911, 0.06635065834775432, 0.065267571627837, 0.06530221921298528, 0.06463404227907561, 0.06407043426580947, 0.06501213478044733, 0.07265167859989521, 0.07593062235877476, 0.07115747326396409]\n",
      "Mean: 0.06765229225763222\n",
      "Std: 0.0038716084053254433\n"
     ]
    }
   ],
   "source": [
    "#dnn_cross_validation(X3, y3, 10, 20,len(y3.columns),'relu')\n",
    "#dnn_cross_validation(y3, y3_true, 10, 20,1,'sigmoid')\n",
    "dnn_cross_validation_fourmodel(X3, y3_true,y3_1,y3_2,y3_3,y3_4, 50, 400,1,'relu')"
   ]
  },
  {
   "cell_type": "markdown",
   "id": "682e9474-eb4b-4ff1-8045-4d1916d231b6",
   "metadata": {
    "tags": []
   },
   "source": [
    "# WP4"
   ]
  },
  {
   "cell_type": "markdown",
   "id": "3d4a8ff9-23e5-4768-a7ba-24b4bd074044",
   "metadata": {},
   "source": [
    "## EMD"
   ]
  },
  {
   "cell_type": "code",
   "execution_count": 16,
   "id": "92df400c-341b-4a43-bbc9-318b6281aa72",
   "metadata": {},
   "outputs": [],
   "source": [
    "wp4_X = train_wp4[[c for c in train_wp4 if c not in [\"wp\"]] + [\"wp\"]].drop(to_drop, axis = 1)\n",
    "X4 = wp4_X.drop('wp', axis=1)\n",
    "vmfs_4= vmd(wp4_X.wp,4)\n",
    "#y4_1 = vmfs_4['IMFwp1']\n",
    "#y4_2 = vmfs_4['IMFwp2']\n",
    "#y4_3 = vmfs_4['IMFwp3']\n",
    "#y4_4 = vmfs_4['IMFwp4']\n",
    "y4_true = wp4_X['wp']"
   ]
  },
  {
   "cell_type": "markdown",
   "id": "7e2a4154-7faf-4a02-82b5-ad7028eeafb6",
   "metadata": {},
   "source": [
    "## Cross-Val"
   ]
  },
  {
   "cell_type": "code",
   "execution_count": 58,
   "id": "88f5f8f2-3fb3-4f10-ba80-7df3c442e0ff",
   "metadata": {},
   "outputs": [
    {
     "name": "stdout",
     "output_type": "stream",
     "text": [
      "-----------DNN CROSS VALIDATION BEGINNING-----------\n",
      "RMSE score: 0.09394177222171435\n",
      "MAE score: 0.06858893195669231\n",
      "None\n",
      "this fold was executed in  316.61136984825134 seconds\n",
      "-------------------FOLD 1-----------------\n",
      "RMSE score: 0.09549117068362831\n",
      "MAE score: 0.0684493118514245\n",
      "None\n",
      "this fold was executed in  318.715779542923 seconds\n",
      "-------------------FOLD 2-----------------\n",
      "RMSE score: 0.0988361729935827\n",
      "MAE score: 0.07497429145010169\n",
      "None\n",
      "this fold was executed in  308.10666942596436 seconds\n",
      "-------------------FOLD 3-----------------\n",
      "RMSE score: 0.09723660754495198\n",
      "MAE score: 0.07238289809828405\n",
      "None\n",
      "this fold was executed in  305.4794225692749 seconds\n",
      "-------------------FOLD 4-----------------\n",
      "RMSE score: 0.09661359495802657\n",
      "MAE score: 0.07098989148372596\n",
      "None\n",
      "this fold was executed in  305.7193353176117 seconds\n",
      "-------------------FOLD 5-----------------\n",
      "RMSE score: 0.09496139823725876\n",
      "MAE score: 0.0699240349047061\n",
      "None\n",
      "this fold was executed in  308.2600562572479 seconds\n",
      "-------------------FOLD 6-----------------\n",
      "RMSE score: 0.09495324620436256\n",
      "MAE score: 0.06804416511075788\n",
      "None\n",
      "this fold was executed in  306.3824508190155 seconds\n",
      "-------------------FOLD 7-----------------\n",
      "RMSE score: 0.10241296699126932\n",
      "MAE score: 0.07494122207123574\n",
      "None\n",
      "this fold was executed in  298.9433410167694 seconds\n",
      "-------------------FOLD 8-----------------\n",
      "RMSE score: 0.09618349776999642\n",
      "MAE score: 0.06971653926546888\n",
      "None\n",
      "this fold was executed in  302.270649433136 seconds\n",
      "-------------------FOLD 9-----------------\n",
      "RMSE score: 0.09648054234794001\n",
      "MAE score: 0.07402595909874786\n",
      "None\n",
      "this fold was executed in  299.99040699005127 seconds\n",
      "-------------------FOLD 10-----------------\n",
      "---------------CROSS VALIDATION COMPLETE-------------\n",
      "--------------------------RMSE-----------------------\n",
      "Scores: [0.09394177222171435, 0.09549117068362831, 0.0988361729935827, 0.09723660754495198, 0.09661359495802657, 0.09496139823725876, 0.09495324620436256, 0.10241296699126932, 0.09618349776999642, 0.09648054234794001]\n",
      "Mean: 0.09671109699527311\n",
      "Std: 0.0023011588140985674\n",
      "--------------------------MAE------------------------\n",
      "Scores: [0.06858893195669231, 0.0684493118514245, 0.07497429145010169, 0.07238289809828405, 0.07098989148372596, 0.0699240349047061, 0.06804416511075788, 0.07494122207123574, 0.06971653926546888, 0.07402595909874786]\n",
      "Mean: 0.07120372452911448\n",
      "Std: 0.002565995251042562\n"
     ]
    }
   ],
   "source": [
    "#dnn_cross_validation(X4, y4, 10, 20,len(y4.columns),'relu')\n",
    "#dnn_cross_validation(y4, y4_true, 10, 20,1,'sigmoid')\n",
    "dnn_cross_validation_fourmodel(X4, y4_true,y4_1,y4_2,y4_3,y4_4, 50, 400,1,'relu')"
   ]
  },
  {
   "cell_type": "markdown",
   "id": "22b1b9cb-66b1-45c6-ba02-d27a0ab0744d",
   "metadata": {},
   "source": [
    "# WP5"
   ]
  },
  {
   "cell_type": "markdown",
   "id": "d1de88a2-210e-4675-ba4b-0c52401018cb",
   "metadata": {
    "tags": []
   },
   "source": [
    "## EMD"
   ]
  },
  {
   "cell_type": "code",
   "execution_count": 17,
   "id": "f51b1587-e1ac-482b-a85e-2cf8864ff59a",
   "metadata": {},
   "outputs": [],
   "source": [
    "wp5_X = train_wp5[[c for c in train_wp5 if c not in [\"wp\"]] + [\"wp\"]].drop(to_drop, axis = 1)\n",
    "X5 = wp5_X.drop('wp', axis=1)\n",
    "vmfs_5= vmd(wp5_X.wp,10)\n",
    "#y5_1 = vmfs_5['IMFwp1']\n",
    "#y5_2 = vmfs_5['IMFwp2']\n",
    "#y5_3 = vmfs_5['IMFwp3']\n",
    "#y5_4 = vmfs_5['IMFwp4']\n",
    "y5_1imf = train_wp5_imfs['IMFwp1']\n",
    "y5_true = wp5_X['wp']"
   ]
  },
  {
   "cell_type": "markdown",
   "id": "bea8cb0f-8774-44ed-b769-01014456bd0f",
   "metadata": {
    "tags": []
   },
   "source": [
    "## Cross-Val"
   ]
  },
  {
   "cell_type": "code",
   "execution_count": 87,
   "id": "1ee93a38-59ae-4940-a5eb-ecc5350671f8",
   "metadata": {},
   "outputs": [],
   "source": [
    "#Architecture du modèle:\n",
    "def build_model(data,n_neurons,output_shape,activation):\n",
    "    model = Sequential()\n",
    "    model.add(Dense(n_neurons,activation='relu',input_shape=(data.shape[1],)))\n",
    "    model.add(Dropout(0.1))\n",
    "    model.add(Dense(n_neurons/2,activation='relu',))\n",
    "    model.add(Dropout(0.1))\n",
    "    model.add(Dense(n_neurons/4,activation='relu'))\n",
    "    #model.add(Dense(n_neurons/8,activation='relu'))\n",
    "    \n",
    "    model.add(Dense(output_shape,))\n",
    "\n",
    "  \n",
    "\n",
    "    model.compile(loss='mse',\n",
    "                optimizer='rmsprop',\n",
    "                metrics=[tf.keras.metrics.RootMeanSquaredError()])\n",
    "    return model"
   ]
  },
  {
   "cell_type": "code",
   "execution_count": 49,
   "id": "15635639-1a18-4d6b-b4c6-43f7687972ce",
   "metadata": {},
   "outputs": [],
   "source": [
    "alpha = 10000       # moderate bandwidth constraint  \n",
    "tau = 0.           # noise-tolerance (no strict fidelity enforcement)  \n",
    "K = 4              # k modes  \n",
    "DC = 0             # no DC part imposed  \n",
    "init = 1           # initialize omegas uniformly  \n",
    "tol = 1e-7\n",
    "vmfs_5= vmd(wp5_X.wp,K,alpha, tau,DC, init, tol)\n",
    "y5_1 = vmfs_5['IMFwp1']"
   ]
  },
  {
   "cell_type": "code",
   "execution_count": null,
   "id": "746db712-b573-43ca-874c-c3b90e49d6a0",
   "metadata": {},
   "outputs": [],
   "source": [
    "dnn_cross_validation(X5, y5_1, 5, 10,1,'relu')"
   ]
  },
  {
   "cell_type": "code",
   "execution_count": 47,
   "id": "282d1b76-c698-4033-8b58-47e294636c82",
   "metadata": {},
   "outputs": [],
   "source": [
    "#dnn_cross_validation(X5, y5_1, 50, 574,1,'relu')\n",
    "#dnn_cross_validation(X5, train_wp5_imfs['IMFwp1'], 5, 10,1,'relu')\n",
    "#dnn_cross_validation(X5, y5_2, 5, 20,1,'relu')\n",
    "#dnn_cross_validation(X5, y5_3, 5, 20,1,'relu')\n",
    "#dnn_cross_validation(X5, y5_4, 5, 20,1,'relu')\n",
    "#dnn_cross_validation(y1, y1_true, 2, 20,1,'sigmoid')"
   ]
  },
  {
   "cell_type": "code",
   "execution_count": 25,
   "id": "d6057522-b6fa-4e83-884f-93ef354dfb3e",
   "metadata": {},
   "outputs": [],
   "source": [
    "#dnn_cross_validation(X5, y5, 10, 20,len(y5.columns),'relu')\n",
    "#dnn_cross_validation(y5, y5_true, 10, 20,1,'sigmoid')\n",
    "#dnn_cross_validation_fourmodel(X5, y5_true,y5_1,y5_2,y5_3,y5_4, 100, 1000,1,'relu')"
   ]
  },
  {
   "cell_type": "markdown",
   "id": "d5f98fa3-6c54-4538-903e-60c910dd3ddd",
   "metadata": {},
   "source": [
    "Le nombre de mode ne semble pas avoir d'influence sur le RMSE (on peut se limiter à 3 ou 4) du premier mode (pas tester sur les autres, peut-être que lorsque K augmente les autres modes sont plus simples à prédire et on diminue l'erreur globale ?)\n",
    "\n",
    "La structure du réseau de neurones n'a que peu d'influence sur le RMSE avec un nombre d'epochs petit, à 50 epoches l'ajout de deux couches à fait gagner 0,01 sur le RMSE.\n",
    "Le nombre d'epochs lui oui.\n",
    "\n",
    "Execution speed: VMD > EEMD.\n",
    "\n",
    "Les RMSE sur les IMFs sont très bons (bien qu'indépendant du nombre de neurones et du nombre d'epochs -> Weird.) Il faut refaire un IMFs complet et entrainer 1 NN par IMFS (essayer avec des petits modèles 5 epochs et 10 neurones, une seule couche).\n",
    "On peut tester aussi avec CEEMDAN et FFT.\n",
    "Il faut tester aussi avec d'autres modèles comme XGBoost"
   ]
  },
  {
   "cell_type": "markdown",
   "id": "4ab459f0-887d-4e31-ab3f-8a97c38f4f68",
   "metadata": {
    "tags": []
   },
   "source": [
    "# WP6"
   ]
  },
  {
   "cell_type": "code",
   "execution_count": 21,
   "id": "2022d6d5-f790-4864-8c27-483e2fc7d22e",
   "metadata": {},
   "outputs": [],
   "source": [
    "wp6_X = train_wp6[[c for c in train_wp6 if c not in [\"wp\"]] + [\"wp\"]].drop(to_drop, axis = 1)\n",
    "X6 = wp6_X.drop('wp', axis=1)\n",
    "vmfs_6= vmd(wp6_X.wp,4)\n",
    "y6_true = wp6_X['wp']"
   ]
  },
  {
   "cell_type": "markdown",
   "id": "df505d49-96f7-4cf3-a0f2-cb93a49f4e8b",
   "metadata": {},
   "source": [
    "## EMD"
   ]
  },
  {
   "cell_type": "code",
   "execution_count": 18,
   "id": "083a5b79-4418-4796-bb75-8023b3e3f6cd",
   "metadata": {},
   "outputs": [],
   "source": [
    "wp6_X = train_wp6[[c for c in train_wp6 if c not in [\"wp\"]] + [\"wp\"]].drop(to_drop, axis = 1)\n",
    "X6 = wp6_X.drop('wp', axis=1)\n",
    "vmfs_6= vmd(wp6_X.wp,4)\n",
    "y6_1 = vmfs_6['IMFwp1']\n",
    "y6_2 = vmfs_6['IMFwp2']\n",
    "y6_3 = vmfs_6['IMFwp3']\n",
    "y6_4 = vmfs_6['IMFwp4']\n",
    "y6_true = wp6_X['wp']"
   ]
  },
  {
   "cell_type": "markdown",
   "id": "0ea1f366-9e80-4955-9ac6-1a1598b31185",
   "metadata": {},
   "source": [
    "## Cross-Val"
   ]
  },
  {
   "cell_type": "code",
   "execution_count": 19,
   "id": "9687dd31-0c5e-4463-a3e6-03035291e692",
   "metadata": {},
   "outputs": [
    {
     "name": "stdout",
     "output_type": "stream",
     "text": [
      "Model: \"sequential_4\"\n",
      "_________________________________________________________________\n",
      "Layer (type)                 Output Shape              Param #   \n",
      "=================================================================\n",
      "dense_16 (Dense)             (None, 400)               115200    \n",
      "_________________________________________________________________\n",
      "dense_17 (Dense)             (None, 200)               80200     \n",
      "_________________________________________________________________\n",
      "dense_18 (Dense)             (None, 100)               20100     \n",
      "_________________________________________________________________\n",
      "dense_19 (Dense)             (None, 1)                 101       \n",
      "=================================================================\n",
      "Total params: 215,601\n",
      "Trainable params: 215,601\n",
      "Non-trainable params: 0\n",
      "_________________________________________________________________\n",
      "None\n",
      "-----------DNN CROSS VALIDATION BEGINNING-----------\n"
     ]
    },
    {
     "ename": "KeyboardInterrupt",
     "evalue": "",
     "output_type": "error",
     "traceback": [
      "\u001b[1;31m---------------------------------------------------------------------------\u001b[0m",
      "\u001b[1;31mKeyboardInterrupt\u001b[0m                         Traceback (most recent call last)",
      "\u001b[1;32mC:\\Users\\GERALD~1.CAS\\AppData\\Local\\Temp/ipykernel_3644/1059824584.py\u001b[0m in \u001b[0;36m<module>\u001b[1;34m\u001b[0m\n\u001b[1;32m----> 1\u001b[1;33m \u001b[0mdnn_cross_validation\u001b[0m\u001b[1;33m(\u001b[0m\u001b[0mX6\u001b[0m\u001b[1;33m,\u001b[0m \u001b[0my6_1\u001b[0m\u001b[1;33m,\u001b[0m \u001b[1;36m50\u001b[0m\u001b[1;33m,\u001b[0m \u001b[1;36m400\u001b[0m\u001b[1;33m,\u001b[0m\u001b[1;36m1\u001b[0m\u001b[1;33m,\u001b[0m\u001b[1;34m'relu'\u001b[0m\u001b[1;33m)\u001b[0m\u001b[1;33m\u001b[0m\u001b[1;33m\u001b[0m\u001b[0m\n\u001b[0m\u001b[0;32m      2\u001b[0m \u001b[0mdnn_cross_validation\u001b[0m\u001b[1;33m(\u001b[0m\u001b[0mX6\u001b[0m\u001b[1;33m,\u001b[0m \u001b[0my6_2\u001b[0m\u001b[1;33m,\u001b[0m \u001b[1;36m10\u001b[0m\u001b[1;33m,\u001b[0m \u001b[1;36m200\u001b[0m\u001b[1;33m,\u001b[0m\u001b[1;36m1\u001b[0m\u001b[1;33m,\u001b[0m\u001b[1;34m'relu'\u001b[0m\u001b[1;33m)\u001b[0m\u001b[1;33m\u001b[0m\u001b[1;33m\u001b[0m\u001b[0m\n\u001b[0;32m      3\u001b[0m \u001b[0mdnn_cross_validation\u001b[0m\u001b[1;33m(\u001b[0m\u001b[0mX6\u001b[0m\u001b[1;33m,\u001b[0m \u001b[0my6_3\u001b[0m\u001b[1;33m,\u001b[0m \u001b[1;36m10\u001b[0m\u001b[1;33m,\u001b[0m \u001b[1;36m200\u001b[0m\u001b[1;33m,\u001b[0m\u001b[1;36m1\u001b[0m\u001b[1;33m,\u001b[0m\u001b[1;34m'relu'\u001b[0m\u001b[1;33m)\u001b[0m\u001b[1;33m\u001b[0m\u001b[1;33m\u001b[0m\u001b[0m\n\u001b[0;32m      4\u001b[0m \u001b[0mdnn_cross_validation\u001b[0m\u001b[1;33m(\u001b[0m\u001b[0mX6\u001b[0m\u001b[1;33m,\u001b[0m \u001b[0my6_4\u001b[0m\u001b[1;33m,\u001b[0m \u001b[1;36m10\u001b[0m\u001b[1;33m,\u001b[0m \u001b[1;36m200\u001b[0m\u001b[1;33m,\u001b[0m\u001b[1;36m1\u001b[0m\u001b[1;33m,\u001b[0m\u001b[1;34m'relu'\u001b[0m\u001b[1;33m)\u001b[0m\u001b[1;33m\u001b[0m\u001b[1;33m\u001b[0m\u001b[0m\n",
      "\u001b[1;32mC:\\Users\\GERALD~1.CAS\\AppData\\Local\\Temp/ipykernel_3644/1151930223.py\u001b[0m in \u001b[0;36mdnn_cross_validation\u001b[1;34m(X, y, epochs, n_neurons, output_shape, activation)\u001b[0m\n\u001b[0;32m     17\u001b[0m         \u001b[0mY_train\u001b[0m\u001b[1;33m,\u001b[0m \u001b[0mY_test\u001b[0m \u001b[1;33m=\u001b[0m \u001b[0mpd\u001b[0m\u001b[1;33m.\u001b[0m\u001b[0mDataFrame\u001b[0m\u001b[1;33m(\u001b[0m\u001b[0my\u001b[0m\u001b[1;33m)\u001b[0m\u001b[1;33m.\u001b[0m\u001b[0miloc\u001b[0m\u001b[1;33m[\u001b[0m\u001b[0mtrain_index\u001b[0m\u001b[1;33m]\u001b[0m\u001b[1;33m,\u001b[0m\u001b[0mpd\u001b[0m\u001b[1;33m.\u001b[0m\u001b[0mDataFrame\u001b[0m\u001b[1;33m(\u001b[0m\u001b[0my\u001b[0m\u001b[1;33m)\u001b[0m\u001b[1;33m.\u001b[0m\u001b[0miloc\u001b[0m\u001b[1;33m[\u001b[0m\u001b[0mtest_index\u001b[0m\u001b[1;33m]\u001b[0m\u001b[1;33m\u001b[0m\u001b[1;33m\u001b[0m\u001b[0m\n\u001b[0;32m     18\u001b[0m \u001b[1;33m\u001b[0m\u001b[0m\n\u001b[1;32m---> 19\u001b[1;33m         \u001b[0mmodel\u001b[0m\u001b[1;33m.\u001b[0m\u001b[0mfit\u001b[0m\u001b[1;33m(\u001b[0m\u001b[0mX_train\u001b[0m\u001b[1;33m,\u001b[0m \u001b[0mY_train\u001b[0m\u001b[1;33m,\u001b[0m\u001b[0mepochs\u001b[0m \u001b[1;33m=\u001b[0m \u001b[0mepochs\u001b[0m\u001b[1;33m,\u001b[0m \u001b[0mverbose\u001b[0m\u001b[1;33m=\u001b[0m\u001b[1;36m0\u001b[0m\u001b[1;33m,\u001b[0m \u001b[0mshuffle\u001b[0m\u001b[1;33m=\u001b[0m\u001b[1;32mTrue\u001b[0m\u001b[1;33m)\u001b[0m\u001b[1;33m\u001b[0m\u001b[1;33m\u001b[0m\u001b[0m\n\u001b[0m\u001b[0;32m     20\u001b[0m         \u001b[1;32mif\u001b[0m \u001b[0moutput_shape\u001b[0m \u001b[1;33m>\u001b[0m \u001b[1;36m1\u001b[0m\u001b[1;33m:\u001b[0m\u001b[1;33m\u001b[0m\u001b[1;33m\u001b[0m\u001b[0m\n\u001b[0;32m     21\u001b[0m             \u001b[0mprediction\u001b[0m \u001b[1;33m=\u001b[0m \u001b[0mmodel\u001b[0m\u001b[1;33m.\u001b[0m\u001b[0mpredict\u001b[0m\u001b[1;33m(\u001b[0m\u001b[0mX_test\u001b[0m\u001b[1;33m)\u001b[0m\u001b[1;33m.\u001b[0m\u001b[0mreshape\u001b[0m\u001b[1;33m(\u001b[0m\u001b[0mlen\u001b[0m\u001b[1;33m(\u001b[0m\u001b[0mX_test\u001b[0m\u001b[1;33m)\u001b[0m\u001b[1;33m,\u001b[0m\u001b[0moutput_shape\u001b[0m\u001b[1;33m)\u001b[0m\u001b[1;33m\u001b[0m\u001b[1;33m\u001b[0m\u001b[0m\n",
      "\u001b[1;32mc:\\users\\gerald.casterou\\venv\\datachallenge_wp_phase2\\lib\\site-packages\\keras\\engine\\training.py\u001b[0m in \u001b[0;36mfit\u001b[1;34m(self, x, y, batch_size, epochs, verbose, callbacks, validation_split, validation_data, shuffle, class_weight, sample_weight, initial_epoch, steps_per_epoch, validation_steps, validation_batch_size, validation_freq, max_queue_size, workers, use_multiprocessing)\u001b[0m\n\u001b[0;32m   1182\u001b[0m                 _r=1):\n\u001b[0;32m   1183\u001b[0m               \u001b[0mcallbacks\u001b[0m\u001b[1;33m.\u001b[0m\u001b[0mon_train_batch_begin\u001b[0m\u001b[1;33m(\u001b[0m\u001b[0mstep\u001b[0m\u001b[1;33m)\u001b[0m\u001b[1;33m\u001b[0m\u001b[1;33m\u001b[0m\u001b[0m\n\u001b[1;32m-> 1184\u001b[1;33m               \u001b[0mtmp_logs\u001b[0m \u001b[1;33m=\u001b[0m \u001b[0mself\u001b[0m\u001b[1;33m.\u001b[0m\u001b[0mtrain_function\u001b[0m\u001b[1;33m(\u001b[0m\u001b[0miterator\u001b[0m\u001b[1;33m)\u001b[0m\u001b[1;33m\u001b[0m\u001b[1;33m\u001b[0m\u001b[0m\n\u001b[0m\u001b[0;32m   1185\u001b[0m               \u001b[1;32mif\u001b[0m \u001b[0mdata_handler\u001b[0m\u001b[1;33m.\u001b[0m\u001b[0mshould_sync\u001b[0m\u001b[1;33m:\u001b[0m\u001b[1;33m\u001b[0m\u001b[1;33m\u001b[0m\u001b[0m\n\u001b[0;32m   1186\u001b[0m                 \u001b[0mcontext\u001b[0m\u001b[1;33m.\u001b[0m\u001b[0masync_wait\u001b[0m\u001b[1;33m(\u001b[0m\u001b[1;33m)\u001b[0m\u001b[1;33m\u001b[0m\u001b[1;33m\u001b[0m\u001b[0m\n",
      "\u001b[1;32mc:\\users\\gerald.casterou\\venv\\datachallenge_wp_phase2\\lib\\site-packages\\tensorflow\\python\\eager\\def_function.py\u001b[0m in \u001b[0;36m__call__\u001b[1;34m(self, *args, **kwds)\u001b[0m\n\u001b[0;32m    883\u001b[0m \u001b[1;33m\u001b[0m\u001b[0m\n\u001b[0;32m    884\u001b[0m       \u001b[1;32mwith\u001b[0m \u001b[0mOptionalXlaContext\u001b[0m\u001b[1;33m(\u001b[0m\u001b[0mself\u001b[0m\u001b[1;33m.\u001b[0m\u001b[0m_jit_compile\u001b[0m\u001b[1;33m)\u001b[0m\u001b[1;33m:\u001b[0m\u001b[1;33m\u001b[0m\u001b[1;33m\u001b[0m\u001b[0m\n\u001b[1;32m--> 885\u001b[1;33m         \u001b[0mresult\u001b[0m \u001b[1;33m=\u001b[0m \u001b[0mself\u001b[0m\u001b[1;33m.\u001b[0m\u001b[0m_call\u001b[0m\u001b[1;33m(\u001b[0m\u001b[1;33m*\u001b[0m\u001b[0margs\u001b[0m\u001b[1;33m,\u001b[0m \u001b[1;33m**\u001b[0m\u001b[0mkwds\u001b[0m\u001b[1;33m)\u001b[0m\u001b[1;33m\u001b[0m\u001b[1;33m\u001b[0m\u001b[0m\n\u001b[0m\u001b[0;32m    886\u001b[0m \u001b[1;33m\u001b[0m\u001b[0m\n\u001b[0;32m    887\u001b[0m       \u001b[0mnew_tracing_count\u001b[0m \u001b[1;33m=\u001b[0m \u001b[0mself\u001b[0m\u001b[1;33m.\u001b[0m\u001b[0mexperimental_get_tracing_count\u001b[0m\u001b[1;33m(\u001b[0m\u001b[1;33m)\u001b[0m\u001b[1;33m\u001b[0m\u001b[1;33m\u001b[0m\u001b[0m\n",
      "\u001b[1;32mc:\\users\\gerald.casterou\\venv\\datachallenge_wp_phase2\\lib\\site-packages\\tensorflow\\python\\eager\\def_function.py\u001b[0m in \u001b[0;36m_call\u001b[1;34m(self, *args, **kwds)\u001b[0m\n\u001b[0;32m    915\u001b[0m       \u001b[1;31m# In this case we have created variables on the first call, so we run the\u001b[0m\u001b[1;33m\u001b[0m\u001b[1;33m\u001b[0m\u001b[1;33m\u001b[0m\u001b[0m\n\u001b[0;32m    916\u001b[0m       \u001b[1;31m# defunned version which is guaranteed to never create variables.\u001b[0m\u001b[1;33m\u001b[0m\u001b[1;33m\u001b[0m\u001b[1;33m\u001b[0m\u001b[0m\n\u001b[1;32m--> 917\u001b[1;33m       \u001b[1;32mreturn\u001b[0m \u001b[0mself\u001b[0m\u001b[1;33m.\u001b[0m\u001b[0m_stateless_fn\u001b[0m\u001b[1;33m(\u001b[0m\u001b[1;33m*\u001b[0m\u001b[0margs\u001b[0m\u001b[1;33m,\u001b[0m \u001b[1;33m**\u001b[0m\u001b[0mkwds\u001b[0m\u001b[1;33m)\u001b[0m  \u001b[1;31m# pylint: disable=not-callable\u001b[0m\u001b[1;33m\u001b[0m\u001b[1;33m\u001b[0m\u001b[0m\n\u001b[0m\u001b[0;32m    918\u001b[0m     \u001b[1;32melif\u001b[0m \u001b[0mself\u001b[0m\u001b[1;33m.\u001b[0m\u001b[0m_stateful_fn\u001b[0m \u001b[1;32mis\u001b[0m \u001b[1;32mnot\u001b[0m \u001b[1;32mNone\u001b[0m\u001b[1;33m:\u001b[0m\u001b[1;33m\u001b[0m\u001b[1;33m\u001b[0m\u001b[0m\n\u001b[0;32m    919\u001b[0m       \u001b[1;31m# Release the lock early so that multiple threads can perform the call\u001b[0m\u001b[1;33m\u001b[0m\u001b[1;33m\u001b[0m\u001b[1;33m\u001b[0m\u001b[0m\n",
      "\u001b[1;32mc:\\users\\gerald.casterou\\venv\\datachallenge_wp_phase2\\lib\\site-packages\\tensorflow\\python\\eager\\function.py\u001b[0m in \u001b[0;36m__call__\u001b[1;34m(self, *args, **kwargs)\u001b[0m\n\u001b[0;32m   3037\u001b[0m       (graph_function,\n\u001b[0;32m   3038\u001b[0m        filtered_flat_args) = self._maybe_define_function(args, kwargs)\n\u001b[1;32m-> 3039\u001b[1;33m     return graph_function._call_flat(\n\u001b[0m\u001b[0;32m   3040\u001b[0m         filtered_flat_args, captured_inputs=graph_function.captured_inputs)  # pylint: disable=protected-access\n\u001b[0;32m   3041\u001b[0m \u001b[1;33m\u001b[0m\u001b[0m\n",
      "\u001b[1;32mc:\\users\\gerald.casterou\\venv\\datachallenge_wp_phase2\\lib\\site-packages\\tensorflow\\python\\eager\\function.py\u001b[0m in \u001b[0;36m_call_flat\u001b[1;34m(self, args, captured_inputs, cancellation_manager)\u001b[0m\n\u001b[0;32m   1961\u001b[0m         and executing_eagerly):\n\u001b[0;32m   1962\u001b[0m       \u001b[1;31m# No tape is watching; skip to running the function.\u001b[0m\u001b[1;33m\u001b[0m\u001b[1;33m\u001b[0m\u001b[1;33m\u001b[0m\u001b[0m\n\u001b[1;32m-> 1963\u001b[1;33m       return self._build_call_outputs(self._inference_function.call(\n\u001b[0m\u001b[0;32m   1964\u001b[0m           ctx, args, cancellation_manager=cancellation_manager))\n\u001b[0;32m   1965\u001b[0m     forward_backward = self._select_forward_and_backward_functions(\n",
      "\u001b[1;32mc:\\users\\gerald.casterou\\venv\\datachallenge_wp_phase2\\lib\\site-packages\\tensorflow\\python\\eager\\function.py\u001b[0m in \u001b[0;36mcall\u001b[1;34m(self, ctx, args, cancellation_manager)\u001b[0m\n\u001b[0;32m    589\u001b[0m       \u001b[1;32mwith\u001b[0m \u001b[0m_InterpolateFunctionError\u001b[0m\u001b[1;33m(\u001b[0m\u001b[0mself\u001b[0m\u001b[1;33m)\u001b[0m\u001b[1;33m:\u001b[0m\u001b[1;33m\u001b[0m\u001b[1;33m\u001b[0m\u001b[0m\n\u001b[0;32m    590\u001b[0m         \u001b[1;32mif\u001b[0m \u001b[0mcancellation_manager\u001b[0m \u001b[1;32mis\u001b[0m \u001b[1;32mNone\u001b[0m\u001b[1;33m:\u001b[0m\u001b[1;33m\u001b[0m\u001b[1;33m\u001b[0m\u001b[0m\n\u001b[1;32m--> 591\u001b[1;33m           outputs = execute.execute(\n\u001b[0m\u001b[0;32m    592\u001b[0m               \u001b[0mstr\u001b[0m\u001b[1;33m(\u001b[0m\u001b[0mself\u001b[0m\u001b[1;33m.\u001b[0m\u001b[0msignature\u001b[0m\u001b[1;33m.\u001b[0m\u001b[0mname\u001b[0m\u001b[1;33m)\u001b[0m\u001b[1;33m,\u001b[0m\u001b[1;33m\u001b[0m\u001b[1;33m\u001b[0m\u001b[0m\n\u001b[0;32m    593\u001b[0m               \u001b[0mnum_outputs\u001b[0m\u001b[1;33m=\u001b[0m\u001b[0mself\u001b[0m\u001b[1;33m.\u001b[0m\u001b[0m_num_outputs\u001b[0m\u001b[1;33m,\u001b[0m\u001b[1;33m\u001b[0m\u001b[1;33m\u001b[0m\u001b[0m\n",
      "\u001b[1;32mc:\\users\\gerald.casterou\\venv\\datachallenge_wp_phase2\\lib\\site-packages\\tensorflow\\python\\eager\\execute.py\u001b[0m in \u001b[0;36mquick_execute\u001b[1;34m(op_name, num_outputs, inputs, attrs, ctx, name)\u001b[0m\n\u001b[0;32m     57\u001b[0m   \u001b[1;32mtry\u001b[0m\u001b[1;33m:\u001b[0m\u001b[1;33m\u001b[0m\u001b[1;33m\u001b[0m\u001b[0m\n\u001b[0;32m     58\u001b[0m     \u001b[0mctx\u001b[0m\u001b[1;33m.\u001b[0m\u001b[0mensure_initialized\u001b[0m\u001b[1;33m(\u001b[0m\u001b[1;33m)\u001b[0m\u001b[1;33m\u001b[0m\u001b[1;33m\u001b[0m\u001b[0m\n\u001b[1;32m---> 59\u001b[1;33m     tensors = pywrap_tfe.TFE_Py_Execute(ctx._handle, device_name, op_name,\n\u001b[0m\u001b[0;32m     60\u001b[0m                                         inputs, attrs, num_outputs)\n\u001b[0;32m     61\u001b[0m   \u001b[1;32mexcept\u001b[0m \u001b[0mcore\u001b[0m\u001b[1;33m.\u001b[0m\u001b[0m_NotOkStatusException\u001b[0m \u001b[1;32mas\u001b[0m \u001b[0me\u001b[0m\u001b[1;33m:\u001b[0m\u001b[1;33m\u001b[0m\u001b[1;33m\u001b[0m\u001b[0m\n",
      "\u001b[1;31mKeyboardInterrupt\u001b[0m: "
     ]
    }
   ],
   "source": [
    "dnn_cross_validation(X6, y6_1, 50, 400,1,'relu')\n",
    "dnn_cross_validation(X6, y6_2, 10, 200,1,'relu')\n",
    "dnn_cross_validation(X6, y6_3, 10, 200,1,'relu')\n",
    "dnn_cross_validation(X6, y6_4, 10, 200,1,'relu')"
   ]
  },
  {
   "cell_type": "code",
   "execution_count": 62,
   "id": "08a13eda-9a2a-44f5-ae89-6c4ad18503f9",
   "metadata": {},
   "outputs": [
    {
     "name": "stdout",
     "output_type": "stream",
     "text": [
      "-----------DNN CROSS VALIDATION BEGINNING-----------\n",
      "RMSE score: 0.08276164299818455\n",
      "MAE score: 0.06172820880335714\n",
      "None\n",
      "this fold was executed in  392.608286857605 seconds\n",
      "-------------------FOLD 1-----------------\n",
      "RMSE score: 0.08320333372133203\n",
      "MAE score: 0.062421739877188465\n",
      "None\n",
      "this fold was executed in  313.23662209510803 seconds\n",
      "-------------------FOLD 2-----------------\n",
      "RMSE score: 0.08200542877959022\n",
      "MAE score: 0.06205025659468721\n",
      "None\n",
      "this fold was executed in  314.99518036842346 seconds\n",
      "-------------------FOLD 3-----------------\n",
      "RMSE score: 0.08355036744945708\n",
      "MAE score: 0.06191393785543906\n",
      "None\n",
      "this fold was executed in  313.10744738578796 seconds\n",
      "-------------------FOLD 4-----------------\n",
      "RMSE score: 0.08836352208138551\n",
      "MAE score: 0.06739736485704748\n",
      "None\n",
      "this fold was executed in  320.3291265964508 seconds\n",
      "-------------------FOLD 5-----------------\n",
      "RMSE score: 0.08005235471298426\n",
      "MAE score: 0.05914774457766656\n",
      "None\n",
      "this fold was executed in  313.63411355018616 seconds\n",
      "-------------------FOLD 6-----------------\n",
      "RMSE score: 0.08127271661960125\n",
      "MAE score: 0.061652322388200086\n",
      "None\n",
      "this fold was executed in  315.4271459579468 seconds\n",
      "-------------------FOLD 7-----------------\n",
      "RMSE score: 0.07953237879799785\n",
      "MAE score: 0.05962815386040054\n",
      "None\n",
      "this fold was executed in  317.6707684993744 seconds\n",
      "-------------------FOLD 8-----------------\n",
      "RMSE score: 0.07913478884997738\n",
      "MAE score: 0.05864262537536028\n",
      "None\n",
      "this fold was executed in  320.6596267223358 seconds\n",
      "-------------------FOLD 9-----------------\n",
      "RMSE score: 0.08478697079747995\n",
      "MAE score: 0.0659174646453648\n",
      "None\n",
      "this fold was executed in  309.1764838695526 seconds\n",
      "-------------------FOLD 10-----------------\n",
      "---------------CROSS VALIDATION COMPLETE-------------\n",
      "--------------------------RMSE-----------------------\n",
      "Scores: [0.08276164299818455, 0.08320333372133203, 0.08200542877959022, 0.08355036744945708, 0.08836352208138551, 0.08005235471298426, 0.08127271661960125, 0.07953237879799785, 0.07913478884997738, 0.08478697079747995]\n",
      "Mean: 0.082466350480799\n",
      "Std: 0.0026294376814949977\n",
      "--------------------------MAE------------------------\n",
      "Scores: [0.06172820880335714, 0.062421739877188465, 0.06205025659468721, 0.06191393785543906, 0.06739736485704748, 0.05914774457766656, 0.061652322388200086, 0.05962815386040054, 0.05864262537536028, 0.0659174646453648]\n",
      "Mean: 0.06204998188347115\n",
      "Std: 0.0026432673219658554\n"
     ]
    }
   ],
   "source": [
    "#dnn_cross_validation(X6, y6, 10, 20,len(y5.columns),'relu')\n",
    "#dnn_cross_validation(y6, y6_true, 10, 20,1,'sigmoid')\n",
    "dnn_cross_validation_fourmodel(X6, y6_true,y6_1,y6_2,y6_3,y6_4, 50, 400,1,'relu')"
   ]
  },
  {
   "cell_type": "markdown",
   "id": "58c18615-ae04-491f-9fab-50914ec05b6c",
   "metadata": {
    "tags": []
   },
   "source": [
    "# Predictions"
   ]
  },
  {
   "cell_type": "markdown",
   "id": "aae9c2fb-5e55-4d07-84fe-19052df84b69",
   "metadata": {
    "tags": []
   },
   "source": [
    "## Functions"
   ]
  },
  {
   "cell_type": "code",
   "execution_count": 19,
   "id": "69eae55f-746f-4a17-a8bd-0bbd8729758c",
   "metadata": {},
   "outputs": [],
   "source": [
    "to_drop_test = ['date','wd','forecast_time', 'forecast', \"forecast_dist\", 'wp']\n",
    "def make_prediction_dataset(test, to_drop=to_drop_test):\n",
    "    test_to_predict = test.dropna(subset=['ws','u','v'], how = 'any') # keeps only lines with u,v,ws,wd\n",
    "    test_to_predict = test_to_predict[test_to_predict['wp'].isna()] # keeps only lines with no wp\n",
    "    test_to_predict = test_to_predict.sort_values(by=['date', 'forecast_time'], ascending = [True, False]).drop_duplicates(subset='date')\n",
    "    test_to_predict = test_to_predict.drop(to_drop, axis = 1)\n",
    "    return test_to_predict"
   ]
  },
  {
   "cell_type": "code",
   "execution_count": 22,
   "id": "e8a2731e-b99b-46ad-ae85-eccc74ffc246",
   "metadata": {},
   "outputs": [],
   "source": [
    "def make_predictions_IMFs(lst_X_trains, lst_y_trains_imfs, lst_tests, lst_models_imfs,epochs):\n",
    "    i = 1\n",
    "    lst_prediction = []\n",
    "    for X, y, test, model in zip(lst_X_trains, lst_y_trains_imfs, lst_tests, lst_models_imfs):\n",
    "        print(f'--------------Model {i}--------------')\n",
    "        model.fit(X, y,epochs,verbose=0)\n",
    "        print('-------Starting predictions of Imfs---------')\n",
    "        predictions = model.predict(test).reshape(len(test),y.shape[1])\n",
    "        print('-------Predictions finished, appending to list---------')\n",
    "        lst_prediction.append(predictions)\n",
    "        i +=1\n",
    "    return lst_prediction\n",
    "    "
   ]
  },
  {
   "cell_type": "code",
   "execution_count": 23,
   "id": "6f9b0d0d-a5ae-4acf-a9ef-8c1c911f2b82",
   "metadata": {},
   "outputs": [],
   "source": [
    "def make_submission_file(lst_X_trains, lst_y_trains, lst_tests, lst_models, dates,epochs):\n",
    "    i = 1\n",
    "    lst_prediction = []\n",
    "    lst_models_trained = []\n",
    "    for X, y, test, model in zip(lst_X_trains, lst_y_trains, lst_tests, lst_models):\n",
    "        print(f'--------------Model {i}--------------')\n",
    "        model.fit(X, y,epochs,verbose=0)\n",
    "        print(f'True:\\n\\tMin:{min(y)}\\n\\tMax:{max(y)}\\n\\tMean:{y.mean()}')\n",
    "        predictions = model.predict(test).reshape(len(test),)\n",
    "        print(f'Prediction:\\n\\tMin:{min(predictions)}\\n\\tMax:{max(predictions)}\\n\\tMean:{np.mean(predictions)}')\n",
    "        predictions = [min(y) if i < 0 else i for i in predictions]\n",
    "        predictions = [max(y) if i > max(y) else i for i in predictions]\n",
    "        print(f'Prediction corrected:\\n\\tMin:{min(predictions)}\\n\\tMax:{max(predictions)}\\n\\tMean:{np.mean(predictions)}')\n",
    "        lst_prediction.append(predictions)\n",
    "        lst_models_trained.append(model)\n",
    "        i+=1\n",
    "    \n",
    "    df_predictions = pd.DataFrame({\n",
    "        'date': test_dates,\n",
    "        'wp1': lst_prediction[0],\n",
    "        'wp2': lst_prediction[1],\n",
    "        'wp3': lst_prediction[2],\n",
    "        'wp4': lst_prediction[3],\n",
    "        'wp5': lst_prediction[4],\n",
    "        'wp6': lst_prediction[5],        \n",
    "    })\n",
    "    return df_predictions, lst_models_trained"
   ]
  },
  {
   "cell_type": "code",
   "execution_count": 125,
   "id": "afc8cfa4-1401-4033-bcb9-659ea36d16a4",
   "metadata": {},
   "outputs": [],
   "source": [
    "def make_submission_file_vmfs(lst_X_trains, lst_y_trains, lst_tests, lst_models, dates,epochs,y_true):\n",
    "    i = 1\n",
    "    lst_prediction = []\n",
    "    lst_models_trained = []\n",
    "    for X, y, test, model in zip(lst_X_trains, lst_y_trains, lst_tests, lst_models):\n",
    "        y_train_true = y_true[i-1]\n",
    "        print('---------------Scaling---------------')\n",
    "        scaler_X1=MinMaxScaler(feature_range=(y[0].min(),y[0].max()))\n",
    "        scaler_X2=MinMaxScaler(feature_range=(y[1].min(),y[1].max()))\n",
    "        scaler_X3=MinMaxScaler(feature_range=(y[2].min(),y[2].max()))\n",
    "        scaler_X4=MinMaxScaler(feature_range=(y[3].min(),y[3].max()))\n",
    "        print('---------------Scaling train---------------')\n",
    "        X1=scaler_X1.fit_transform(X)\n",
    "        X2=scaler_X2.fit_transform(X)\n",
    "        X3=scaler_X3.fit_transform(X)\n",
    "        X4=scaler_X4.fit_transform(X)\n",
    "        print('---------------Scaling test---------------')\n",
    "        test_1=scaler_X1.transform(test)\n",
    "        test_2=scaler_X2.transform(test)\n",
    "        test_3=scaler_X3.transform(test)\n",
    "        test_4=scaler_X4.transform(test)      \n",
    "        \n",
    "        print(f'--------------Model {i}--------------')\n",
    "        model[0].fit(X1, y[0],epochs,verbose=0,shuffle=True)\n",
    "        model[1].fit(X2, y[1],5,verbose=0,shuffle=True)\n",
    "        model[2].fit(X3, y[2],5,verbose=0,shuffle=True)\n",
    "        model[3].fit(X4, y[3],5,verbose=0,shuffle=True)\n",
    "        \n",
    "        print(f'True:\\n\\tMin:{min(y_train_true)}\\n\\tMax:{max(y_train_true)}\\n\\tMean:{y_train_true.mean()}')\n",
    "        predictions = (model[0].predict(test_1).reshape(len(test_1),)+\n",
    "                      model[1].predict(test_2).reshape(len(test_2),)+\n",
    "                      model[2].predict(test_3).reshape(len(test_3),)+\n",
    "                      model[3].predict(test_4).reshape(len(test_4),))\n",
    "        print(f'Prediction:\\n\\tMin:{min(predictions)}\\n\\tMax:{max(predictions)}\\n\\tMean:{np.mean(predictions)}')\n",
    "        predictions = [min(y_train_true) if i < 0 else i for i in predictions]\n",
    "        predictions = [max(y_train_true) if i > max(y_train_true) else i for i in predictions]\n",
    "        print(f'Prediction corrected:\\n\\tMin:{min(predictions)}\\n\\tMax:{max(predictions)}\\n\\tMean:{np.mean(predictions)}')\n",
    "        lst_prediction.append(predictions)\n",
    "        lst_models_trained.append(model)\n",
    "        i+=1\n",
    "    \n",
    "    df_predictions = pd.DataFrame({\n",
    "        'date': test_dates,\n",
    "        'wp1': lst_prediction[0],\n",
    "        'wp2': lst_prediction[1],\n",
    "        'wp3': lst_prediction[2],\n",
    "        'wp4': lst_prediction[3],\n",
    "        'wp5': lst_prediction[4],\n",
    "        'wp6': lst_prediction[5],        \n",
    "    })\n",
    "    return df_predictions, lst_models_trained"
   ]
  },
  {
   "cell_type": "markdown",
   "id": "c50c316c-af75-4944-965d-fdcf73df732c",
   "metadata": {
    "tags": []
   },
   "source": [
    "## Submissions"
   ]
  },
  {
   "cell_type": "code",
   "execution_count": 26,
   "id": "6acd366b-74a3-4652-9765-867a8ca3fc89",
   "metadata": {},
   "outputs": [],
   "source": [
    "#scaler_train_imfs_wp1 = StandardScaler()\n",
    "#scaler_train_imfs_wp2 = StandardScaler()\n",
    "#scaler_train_imfs_wp3 = StandardScaler()\n",
    "#scaler_train_imfs_wp4 = StandardScaler()\n",
    "#scaler_train_imfs_wp5 = StandardScaler()\n",
    "#scaler_train_imfs_wp6 = StandardScaler()"
   ]
  },
  {
   "cell_type": "code",
   "execution_count": 27,
   "id": "20aa2f2d-9b10-4f58-87a8-817c8ee14807",
   "metadata": {},
   "outputs": [],
   "source": [
    "#y1 = scaler_train_imfs_wp1.fit_transform(y1.values)\n",
    "#y2 = scaler_train_imfs_wp2.fit_transform(y2.values)\n",
    "#y3 = scaler_train_imfs_wp3.fit_transform(y3.values)\n",
    "#y4 = scaler_train_imfs_wp4.fit_transform(y4.values)\n",
    "#y5 = scaler_train_imfs_wp5.fit_transform(y5.values)\n",
    "#y6 = scaler_train_imfs_wp6.fit_transform(y6.values)"
   ]
  },
  {
   "cell_type": "markdown",
   "id": "22a252fd-1176-4197-a396-827e861993e9",
   "metadata": {},
   "source": [
    "### Data + Model WP1"
   ]
  },
  {
   "cell_type": "code",
   "execution_count": 126,
   "id": "d8a15b38-c7f7-4509-9e97-7d0cfd97d79e",
   "metadata": {},
   "outputs": [],
   "source": [
    "model_1_1= build_model(X1,128,1,'relu')\n",
    "model_1_2= build_model(X1,20,1,'relu')\n",
    "model_1_3= build_model(X1,20,1,'relu')\n",
    "model_1_4= build_model(X1,20,1,'relu')\n",
    "lst_model_wp1=[model_1_1,model_1_2,model_1_3,model_1_4]\n",
    "y_wp1=[]\n",
    "for i in range(1,5):\n",
    "    y_wp1.append(vmfs['IMFwp'+str(i)])\n"
   ]
  },
  {
   "cell_type": "markdown",
   "id": "3c80f01f-4518-477c-9db9-632363bfaf00",
   "metadata": {},
   "source": [
    "### Data + Model WP2"
   ]
  },
  {
   "cell_type": "code",
   "execution_count": 127,
   "id": "73cb43be-dd9a-4b7d-9fdd-e203761464f7",
   "metadata": {},
   "outputs": [],
   "source": [
    "model_2_1= build_model(X2,128,1,'relu')\n",
    "model_2_2= build_model(X2,20,1,'relu')\n",
    "model_2_3= build_model(X2,20,1,'relu')\n",
    "model_2_4= build_model(X2,20,1,'relu')\n",
    "lst_model_wp2=[model_2_1,model_2_2,model_2_3,model_2_4]\n",
    "y_wp2=[]\n",
    "for i in range(1,5):\n",
    "    y_wp2.append(vmfs_2['IMFwp'+str(i)])\n"
   ]
  },
  {
   "cell_type": "markdown",
   "id": "77bf7b52-482f-4851-bbbd-6ff44fbe9632",
   "metadata": {},
   "source": [
    "### Data + Model WP3"
   ]
  },
  {
   "cell_type": "code",
   "execution_count": 128,
   "id": "92e93395-3d3e-4333-8678-6c933000bde1",
   "metadata": {},
   "outputs": [],
   "source": [
    "model_3_1= build_model(X3,128,1,'relu')\n",
    "model_3_2= build_model(X3,20,1,'relu')\n",
    "model_3_3= build_model(X3,20,1,'relu')\n",
    "model_3_4= build_model(X3,20,1,'relu')\n",
    "lst_model_wp3=[model_3_1,model_3_2,model_3_3,model_3_4]\n",
    "y_wp3=[]\n",
    "for i in range(1,5):\n",
    "    y_wp3.append(vmfs_3['IMFwp'+str(i)])\n"
   ]
  },
  {
   "cell_type": "markdown",
   "id": "64f002d0-c264-4285-826f-f9f9df532f3e",
   "metadata": {},
   "source": [
    "### Data + Model WP4"
   ]
  },
  {
   "cell_type": "code",
   "execution_count": 131,
   "id": "cfa91e8d-286e-4cff-a712-e34031fdedeb",
   "metadata": {},
   "outputs": [],
   "source": [
    "model_4_1= build_model(X4,128,1,'relu')\n",
    "model_4_2= build_model(X4,20,1,'relu')\n",
    "model_4_3= build_model(X4,20,1,'relu')\n",
    "model_4_4= build_model(X4,20,1,'relu')\n",
    "lst_model_wp4=[model_4_1,model_4_2,model_4_3,model_4_4]\n",
    "y_wp4=[]\n",
    "for i in range(1,5):\n",
    "    y_wp4.append(vmfs_4['IMFwp'+str(i)])\n"
   ]
  },
  {
   "cell_type": "markdown",
   "id": "f5648750-60be-43ad-82a7-50f09753a504",
   "metadata": {},
   "source": [
    "### Data + Model WP5"
   ]
  },
  {
   "cell_type": "code",
   "execution_count": 132,
   "id": "c6accb7a-a7d8-42f7-90b5-565aebaff23d",
   "metadata": {},
   "outputs": [],
   "source": [
    "model_5_1= build_model(X5,128,1,'relu')\n",
    "model_5_2= build_model(X5,20,1,'relu')\n",
    "model_5_3= build_model(X5,20,1,'relu')\n",
    "model_5_4= build_model(X5,20,1,'relu')\n",
    "lst_model_wp5=[model_5_1,model_5_2,model_5_3,model_5_4]\n",
    "y_wp5=[]\n",
    "for i in range(1,5):\n",
    "    y_wp5.append(vmfs_5['IMFwp'+str(i)])\n"
   ]
  },
  {
   "cell_type": "markdown",
   "id": "290a13d6-0205-41f8-a2ef-8ac0bff43921",
   "metadata": {},
   "source": [
    "### Data + Model WP6"
   ]
  },
  {
   "cell_type": "code",
   "execution_count": 133,
   "id": "68e6acc3-e527-4ffd-8573-199ab74b0472",
   "metadata": {},
   "outputs": [],
   "source": [
    "model_6_1= build_model(X6,128,1,'relu')\n",
    "model_6_2= build_model(X6,20,1,'relu')\n",
    "model_6_3= build_model(X6,20,1,'relu')\n",
    "model_6_4= build_model(X6,20,1,'relu')\n",
    "lst_model_wp6=[model_6_1,model_6_2,model_6_3,model_6_4]\n",
    "y_wp6=[]\n",
    "for i in range(1,5):\n",
    "    y_wp6.append(vmfs_6['IMFwp'+str(i)])\n"
   ]
  },
  {
   "cell_type": "code",
   "execution_count": 134,
   "id": "dc87975c-8dda-4ced-9d9a-17ec3f21f250",
   "metadata": {},
   "outputs": [],
   "source": [
    "lst_models=[lst_model_wp1,lst_model_wp2,lst_model_wp3,lst_model_wp4,lst_model_wp5,lst_model_wp6]\n",
    "lst_X_trains = [X1, X2, X3, X4, X5, X6]\n",
    "lst_y_trains = [y_wp1,y_wp2,y_wp3,y_wp4,y_wp5,y_wp6]\n",
    "lst_y_trains_true = [y1_true, y2_true, y3_true, y4_true, y5_true, y6_true]"
   ]
  },
  {
   "cell_type": "code",
   "execution_count": 135,
   "id": "f17afa7e-22fe-470a-8c22-98e60ada7d06",
   "metadata": {},
   "outputs": [],
   "source": [
    "#model_1_imfs = build_model(X1,600,y1.shape[1],'relu')\n",
    "#model_2_imfs = build_model(X2,600,y2.shape[1],'relu')\n",
    "#model_3_imfs = build_model(X3,600,y3.shape[1],'relu')\n",
    "#model_4_imfs = build_model(X4,600,y4.shape[1],'relu')\n",
    "#model_5_imfs = build_model(X5,600,y5.shape[1],'relu')\n",
    "#model_6_imfs = build_model(X6,600,y6.shape[1],'relu')\n",
    "#model_1_true = build_model(y1,20,1,'sigmoid')\n",
    "#model_2_true = build_model(y2,20,1,'sigmoid')\n",
    "#model_3_true = build_model(y3,20,1,'sigmoid')\n",
    "#model_4_true = build_model(y4,20,1,'sigmoid')\n",
    "#model_5_true = build_model(y5,20,1,'sigmoid')\n",
    "#model_6_true = build_model(y6,20,1,'sigmoid')\n",
    "\n",
    "#lst_models_imfs = [model_1_imfs, model_2_imfs, model_3_imfs, model_4_imfs, model_5_imfs, model_6_imfs]\n",
    "#lst_models = [model_1_true, model_2_true, model_3_true, model_4_true, model_5_true, model_6_true]\n",
    "#lst_X_trains = [X1, X2, X3, X4, X5, X6]\n",
    "#lst_y_trains_imfs = [y1, y2, y3, y4, y5, y6]\n",
    "#lst_y_trains_true = [y1_true, y2_true, y3_true, y4_true, y5_true, y6_true]"
   ]
  },
  {
   "cell_type": "code",
   "execution_count": 136,
   "id": "dbd8f283-3527-4aba-b88a-536929747299",
   "metadata": {},
   "outputs": [],
   "source": [
    "lst_tests = []\n",
    "for test in [test_wp1, test_wp2, test_wp3, test_wp4, test_wp5, test_wp6]:\n",
    "    test = make_prediction_dataset(test)\n",
    "    lst_tests.append(test)"
   ]
  },
  {
   "cell_type": "code",
   "execution_count": 137,
   "id": "238adf55-6c7e-4408-ac45-948a3eadc16e",
   "metadata": {},
   "outputs": [],
   "source": [
    "epochs = 5"
   ]
  },
  {
   "cell_type": "code",
   "execution_count": 138,
   "id": "99720dc4-732c-4a68-8c99-32580924b813",
   "metadata": {},
   "outputs": [],
   "source": [
    "#lst_tests_imfs = make_predictions_IMFs(lst_X_trains,lst_y_trains_imfs,lst_tests,lst_models_imfs,epochs)"
   ]
  },
  {
   "cell_type": "code",
   "execution_count": 139,
   "id": "7500b13b-7748-4313-8018-d6d0175d18f8",
   "metadata": {},
   "outputs": [],
   "source": [
    "#df_predictions, lst_models_trained = make_submission_file(lst_y_trains_imfs, lst_y_trains_true, lst_tests_imfs, lst_models, test_dates,epochs)"
   ]
  },
  {
   "cell_type": "code",
   "execution_count": 140,
   "id": "64672a76-d832-4723-87d2-f3bdc4341bef",
   "metadata": {},
   "outputs": [
    {
     "name": "stdout",
     "output_type": "stream",
     "text": [
      "---------------Scaling---------------\n",
      "---------------Scaling train---------------\n",
      "---------------Scaling test---------------\n",
      "--------------Model 1--------------\n",
      "True:\n",
      "\tMin:0.0\n",
      "\tMax:0.96\n",
      "\tMean:0.2845981952075702\n",
      "Prediction:\n",
      "\tMin:-0.08959788829088211\n",
      "\tMax:1.033633828163147\n",
      "\tMean:0.27683302760124207\n",
      "Prediction corrected:\n",
      "\tMin:0.0\n",
      "\tMax:0.96\n",
      "\tMean:0.2777666549098757\n",
      "---------------Scaling---------------\n",
      "---------------Scaling train---------------\n",
      "---------------Scaling test---------------\n",
      "--------------Model 2--------------\n",
      "True:\n",
      "\tMin:0.0\n",
      "\tMax:0.966\n",
      "\tMean:0.25890153769841273\n",
      "Prediction:\n",
      "\tMin:-0.006351999007165432\n",
      "\tMax:0.9864106774330139\n",
      "\tMean:0.22436754405498505\n",
      "Prediction corrected:\n",
      "\tMin:0.0\n",
      "\tMax:0.966\n",
      "\tMean:0.224358071494453\n",
      "---------------Scaling---------------\n",
      "---------------Scaling train---------------\n",
      "---------------Scaling test---------------\n",
      "--------------Model 3--------------\n",
      "True:\n",
      "\tMin:0.0\n",
      "\tMax:0.989\n",
      "\tMean:0.2625247252747253\n",
      "Prediction:\n",
      "\tMin:-0.06661219149827957\n",
      "\tMax:1.4774748086929321\n",
      "\tMean:0.28173717856407166\n",
      "Prediction corrected:\n",
      "\tMin:0.0\n",
      "\tMax:0.989\n",
      "\tMean:0.2805152577163777\n",
      "---------------Scaling---------------\n",
      "---------------Scaling train---------------\n",
      "---------------Scaling test---------------\n",
      "--------------Model 4--------------\n",
      "True:\n",
      "\tMin:0.0\n",
      "\tMax:0.992\n",
      "\tMean:0.2763637820512821\n",
      "Prediction:\n",
      "\tMin:-0.05662154778838158\n",
      "\tMax:0.9853442311286926\n",
      "\tMean:0.26596367359161377\n",
      "Prediction corrected:\n",
      "\tMin:0.0\n",
      "\tMax:0.9853442311286926\n",
      "\tMean:0.2664201239710398\n",
      "---------------Scaling---------------\n",
      "---------------Scaling train---------------\n",
      "---------------Scaling test---------------\n",
      "--------------Model 5--------------\n",
      "True:\n",
      "\tMin:0.0\n",
      "\tMax:0.978\n",
      "\tMean:0.32622119200244204\n",
      "Prediction:\n",
      "\tMin:-0.03516508266329765\n",
      "\tMax:1.0866073369979858\n",
      "\tMean:0.2760430574417114\n",
      "Prediction corrected:\n",
      "\tMin:0.0\n",
      "\tMax:0.978\n",
      "\tMean:0.2760107806230775\n",
      "---------------Scaling---------------\n",
      "---------------Scaling train---------------\n",
      "---------------Scaling test---------------\n",
      "--------------Model 6--------------\n",
      "True:\n",
      "\tMin:0.0\n",
      "\tMax:0.947\n",
      "\tMean:0.2425176472832723\n",
      "Prediction:\n",
      "\tMin:-0.0901225209236145\n",
      "\tMax:1.1118172407150269\n",
      "\tMean:0.18672065436840057\n",
      "Prediction corrected:\n",
      "\tMin:0.0\n",
      "\tMax:0.947\n",
      "\tMean:0.18663828519578543\n"
     ]
    }
   ],
   "source": [
    "df_predictions, lst_models_trained = make_submission_file_vmfs(lst_X_trains, lst_y_trains, lst_tests, lst_models, test_dates,epochs,lst_y_trains_true)"
   ]
  },
  {
   "cell_type": "code",
   "execution_count": 141,
   "id": "2fe2d1ec-b6fe-4a5c-b0ca-96c4770b4a3b",
   "metadata": {},
   "outputs": [],
   "source": [
    "df_predictions.to_csv('Predictions/submission_nb_XX_full_4EEMDdnn.csv', index=False, sep=';')"
   ]
  },
  {
   "cell_type": "code",
   "execution_count": 142,
   "id": "8fff65c1-4ee7-4ee8-b153-e473894d8037",
   "metadata": {},
   "outputs": [
    {
     "data": {
      "text/html": [
       "<div>\n",
       "<style scoped>\n",
       "    .dataframe tbody tr th:only-of-type {\n",
       "        vertical-align: middle;\n",
       "    }\n",
       "\n",
       "    .dataframe tbody tr th {\n",
       "        vertical-align: top;\n",
       "    }\n",
       "\n",
       "    .dataframe thead th {\n",
       "        text-align: right;\n",
       "    }\n",
       "</style>\n",
       "<table border=\"1\" class=\"dataframe\">\n",
       "  <thead>\n",
       "    <tr style=\"text-align: right;\">\n",
       "      <th></th>\n",
       "      <th>date</th>\n",
       "      <th>wp1</th>\n",
       "      <th>wp2</th>\n",
       "      <th>wp3</th>\n",
       "      <th>wp4</th>\n",
       "      <th>wp5</th>\n",
       "      <th>wp6</th>\n",
       "    </tr>\n",
       "  </thead>\n",
       "  <tbody>\n",
       "    <tr>\n",
       "      <th>0</th>\n",
       "      <td>2011010101</td>\n",
       "      <td>0.534261</td>\n",
       "      <td>0.357932</td>\n",
       "      <td>0.027795</td>\n",
       "      <td>0.456634</td>\n",
       "      <td>0.609270</td>\n",
       "      <td>0.412266</td>\n",
       "    </tr>\n",
       "    <tr>\n",
       "      <th>1</th>\n",
       "      <td>2011010102</td>\n",
       "      <td>0.518538</td>\n",
       "      <td>0.398270</td>\n",
       "      <td>0.042506</td>\n",
       "      <td>0.449256</td>\n",
       "      <td>0.609760</td>\n",
       "      <td>0.411037</td>\n",
       "    </tr>\n",
       "    <tr>\n",
       "      <th>2</th>\n",
       "      <td>2011010103</td>\n",
       "      <td>0.510604</td>\n",
       "      <td>0.405404</td>\n",
       "      <td>0.081804</td>\n",
       "      <td>0.448530</td>\n",
       "      <td>0.619996</td>\n",
       "      <td>0.411495</td>\n",
       "    </tr>\n",
       "    <tr>\n",
       "      <th>3</th>\n",
       "      <td>2011010104</td>\n",
       "      <td>0.520218</td>\n",
       "      <td>0.392948</td>\n",
       "      <td>0.163433</td>\n",
       "      <td>0.458774</td>\n",
       "      <td>0.639812</td>\n",
       "      <td>0.409357</td>\n",
       "    </tr>\n",
       "    <tr>\n",
       "      <th>4</th>\n",
       "      <td>2011010105</td>\n",
       "      <td>0.545196</td>\n",
       "      <td>0.370599</td>\n",
       "      <td>0.321330</td>\n",
       "      <td>0.477879</td>\n",
       "      <td>0.664969</td>\n",
       "      <td>0.404788</td>\n",
       "    </tr>\n",
       "  </tbody>\n",
       "</table>\n",
       "</div>"
      ],
      "text/plain": [
       "         date       wp1       wp2       wp3       wp4       wp5       wp6\n",
       "0  2011010101  0.534261  0.357932  0.027795  0.456634  0.609270  0.412266\n",
       "1  2011010102  0.518538  0.398270  0.042506  0.449256  0.609760  0.411037\n",
       "2  2011010103  0.510604  0.405404  0.081804  0.448530  0.619996  0.411495\n",
       "3  2011010104  0.520218  0.392948  0.163433  0.458774  0.639812  0.409357\n",
       "4  2011010105  0.545196  0.370599  0.321330  0.477879  0.664969  0.404788"
      ]
     },
     "execution_count": 142,
     "metadata": {},
     "output_type": "execute_result"
    }
   ],
   "source": [
    "df_predictions.head()"
   ]
  },
  {
   "cell_type": "code",
   "execution_count": null,
   "id": "3e8c723d-0123-4cde-a230-ff0ed6f2070a",
   "metadata": {},
   "outputs": [],
   "source": []
  }
 ],
 "metadata": {
  "kernelspec": {
   "display_name": "Python 3 (ipykernel)",
   "language": "python",
   "name": "python3"
  },
  "language_info": {
   "codemirror_mode": {
    "name": "ipython",
    "version": 3
   },
   "file_extension": ".py",
   "mimetype": "text/x-python",
   "name": "python",
   "nbconvert_exporter": "python",
   "pygments_lexer": "ipython3",
   "version": "3.8.6"
  }
 },
 "nbformat": 4,
 "nbformat_minor": 5
}
