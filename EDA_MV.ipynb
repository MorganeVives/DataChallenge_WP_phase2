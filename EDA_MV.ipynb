{
 "cells": [
  {
   "cell_type": "markdown",
   "id": "51e26ae8-cf52-426a-bc1f-073e8311d12c",
   "metadata": {},
   "source": [
    "# Exploratory Data Analysis"
   ]
  },
  {
   "cell_type": "markdown",
   "id": "db20b617-1a0f-453b-b269-48d819f1679f",
   "metadata": {},
   "source": [
    "Ici nous pouvons faire toutes nos analyses des données"
   ]
  },
  {
   "cell_type": "code",
   "execution_count": null,
   "id": "6b4a9deb-a6f2-41eb-9b63-f7a645572f0b",
   "metadata": {},
   "outputs": [],
   "source": []
  }
 ],
 "metadata": {
  "kernelspec": {
   "display_name": "Python 3",
   "language": "python",
   "name": "python3"
  },
  "language_info": {
   "codemirror_mode": {
    "name": "ipython",
    "version": 3
   },
   "file_extension": ".py",
   "mimetype": "text/x-python",
   "name": "python",
   "nbconvert_exporter": "python",
   "pygments_lexer": "ipython3",
   "version": "3.8.5"
  }
 },
 "nbformat": 4,
 "nbformat_minor": 5
}
