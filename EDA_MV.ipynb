{
 "cells": [
  {
   "cell_type": "markdown",
   "id": "51e26ae8-cf52-426a-bc1f-073e8311d12c",
   "metadata": {},
   "source": [
    "# Exploratory Data Analysis"
   ]
  },
  {
   "cell_type": "markdown",
   "id": "d36f50ce-2987-4f67-a717-46876da937b6",
   "metadata": {},
   "source": [
    " - Wind forecast and wind power from __2009/07/01 to 2011/01/01__, the initial train phase\n",
    " - Wind forecast and wind power on 36 hours phases between each of the 157 test periods on which you can retrain you models"
   ]
  },
  {
   "cell_type": "code",
   "execution_count": 1,
   "id": "6b4a9deb-a6f2-41eb-9b63-f7a645572f0b",
   "metadata": {},
   "outputs": [],
   "source": [
    "import pandas as pd\n",
    "import seaborn as sns\n",
    "from datetime import datetime, timedelta\n",
    "import matplotlib.pyplot as plt\n",
    "import numpy as np\n",
    "\n",
    "from sklearn.preprocessing import PolynomialFeatures\n",
    "from sklearn.linear_model import LinearRegression\n",
    "\n",
    "pd.options.mode.chained_assignment = None  # default='warn'"
   ]
  },
  {
   "cell_type": "code",
   "execution_count": 2,
   "id": "fd5fc7bf-5c9b-4682-8e55-56e1659cd657",
   "metadata": {},
   "outputs": [],
   "source": [
    "training_data_1 = pd.read_csv(\"Data/Initial/train.csv\")\n",
    "testing_data_1 = pd.read_csv(\"Data/Initial/test.csv\")\n",
    "\n",
    "wp_1_forecast = pd.read_csv(\"Data/Initial/wp1.csv\")\n",
    "wp_2_forecast = pd.read_csv(\"Data/Initial/wp2.csv\")\n",
    "wp_3_forecast = pd.read_csv(\"Data/Initial/wp3.csv\")\n",
    "wp_4_forecast = pd.read_csv(\"Data/Initial/wp4.csv\")\n",
    "wp_5_forecast = pd.read_csv(\"Data/Initial/wp5.csv\")\n",
    "wp_6_forecast = pd.read_csv(\"Data/Initial/wp6.csv\")"
   ]
  },
  {
   "cell_type": "code",
   "execution_count": 30,
   "id": "fb59140b-6340-4e41-9ffd-5c46b179bdeb",
   "metadata": {},
   "outputs": [
    {
     "data": {
      "text/html": [
       "<div>\n",
       "<style scoped>\n",
       "    .dataframe tbody tr th:only-of-type {\n",
       "        vertical-align: middle;\n",
       "    }\n",
       "\n",
       "    .dataframe tbody tr th {\n",
       "        vertical-align: top;\n",
       "    }\n",
       "\n",
       "    .dataframe thead th {\n",
       "        text-align: right;\n",
       "    }\n",
       "</style>\n",
       "<table border=\"1\" class=\"dataframe\">\n",
       "  <thead>\n",
       "    <tr style=\"text-align: right;\">\n",
       "      <th></th>\n",
       "      <th>date</th>\n",
       "      <th>u</th>\n",
       "      <th>v</th>\n",
       "      <th>ws</th>\n",
       "      <th>wd</th>\n",
       "      <th>cast</th>\n",
       "      <th>forecast_time</th>\n",
       "      <th>cos_hour</th>\n",
       "      <th>sin_hour</th>\n",
       "      <th>cos_month</th>\n",
       "      <th>sin_month</th>\n",
       "      <th>cosWind_direction</th>\n",
       "      <th>sinWind_direction</th>\n",
       "      <th>cosws</th>\n",
       "      <th>sinws</th>\n",
       "      <th>ws3</th>\n",
       "      <th>wp1</th>\n",
       "    </tr>\n",
       "  </thead>\n",
       "  <tbody>\n",
       "    <tr>\n",
       "      <th>0</th>\n",
       "      <td>2009-07-01 01:00:00</td>\n",
       "      <td>3.14</td>\n",
       "      <td>-3.62</td>\n",
       "      <td>4.79</td>\n",
       "      <td>139.09</td>\n",
       "      <td>1.0</td>\n",
       "      <td>2009-07-01</td>\n",
       "      <td>0.965926</td>\n",
       "      <td>0.258819</td>\n",
       "      <td>-0.866025</td>\n",
       "      <td>-0.5</td>\n",
       "      <td>0.652496</td>\n",
       "      <td>0.757792</td>\n",
       "      <td>0.077533</td>\n",
       "      <td>-0.996990</td>\n",
       "      <td>-0.998569</td>\n",
       "      <td>0.051</td>\n",
       "    </tr>\n",
       "    <tr>\n",
       "      <th>1</th>\n",
       "      <td>2009-07-01 02:00:00</td>\n",
       "      <td>2.96</td>\n",
       "      <td>-3.56</td>\n",
       "      <td>4.63</td>\n",
       "      <td>140.26</td>\n",
       "      <td>1.0</td>\n",
       "      <td>2009-07-01</td>\n",
       "      <td>0.866025</td>\n",
       "      <td>0.500000</td>\n",
       "      <td>-0.866025</td>\n",
       "      <td>-0.5</td>\n",
       "      <td>-0.443166</td>\n",
       "      <td>0.896440</td>\n",
       "      <td>-0.082296</td>\n",
       "      <td>-0.996608</td>\n",
       "      <td>0.288518</td>\n",
       "      <td>0.000</td>\n",
       "    </tr>\n",
       "    <tr>\n",
       "      <th>2</th>\n",
       "      <td>2009-07-01 03:00:00</td>\n",
       "      <td>2.89</td>\n",
       "      <td>-3.46</td>\n",
       "      <td>4.51</td>\n",
       "      <td>140.15</td>\n",
       "      <td>1.0</td>\n",
       "      <td>2009-07-01</td>\n",
       "      <td>0.707107</td>\n",
       "      <td>0.707107</td>\n",
       "      <td>-0.866025</td>\n",
       "      <td>-0.5</td>\n",
       "      <td>-0.342078</td>\n",
       "      <td>0.939672</td>\n",
       "      <td>-0.201010</td>\n",
       "      <td>-0.979589</td>\n",
       "      <td>-0.809402</td>\n",
       "      <td>0.000</td>\n",
       "    </tr>\n",
       "    <tr>\n",
       "      <th>3</th>\n",
       "      <td>2009-07-01 04:00:00</td>\n",
       "      <td>2.87</td>\n",
       "      <td>-3.33</td>\n",
       "      <td>4.40</td>\n",
       "      <td>139.26</td>\n",
       "      <td>1.0</td>\n",
       "      <td>2009-07-01</td>\n",
       "      <td>0.500000</td>\n",
       "      <td>0.866025</td>\n",
       "      <td>-0.866025</td>\n",
       "      <td>-0.5</td>\n",
       "      <td>0.514885</td>\n",
       "      <td>0.857259</td>\n",
       "      <td>-0.307333</td>\n",
       "      <td>-0.951602</td>\n",
       "      <td>-0.935545</td>\n",
       "      <td>0.000</td>\n",
       "    </tr>\n",
       "    <tr>\n",
       "      <th>4</th>\n",
       "      <td>2009-07-01 05:00:00</td>\n",
       "      <td>2.80</td>\n",
       "      <td>-3.19</td>\n",
       "      <td>4.25</td>\n",
       "      <td>138.73</td>\n",
       "      <td>1.0</td>\n",
       "      <td>2009-07-01</td>\n",
       "      <td>0.258819</td>\n",
       "      <td>0.965926</td>\n",
       "      <td>-0.866025</td>\n",
       "      <td>-0.5</td>\n",
       "      <td>0.877619</td>\n",
       "      <td>0.479358</td>\n",
       "      <td>-0.446087</td>\n",
       "      <td>-0.894989</td>\n",
       "      <td>0.201996</td>\n",
       "      <td>0.000</td>\n",
       "    </tr>\n",
       "  </tbody>\n",
       "</table>\n",
       "</div>"
      ],
      "text/plain": [
       "                 date     u     v    ws      wd  cast forecast_time  cos_hour  \\\n",
       "0 2009-07-01 01:00:00  3.14 -3.62  4.79  139.09   1.0    2009-07-01  0.965926   \n",
       "1 2009-07-01 02:00:00  2.96 -3.56  4.63  140.26   1.0    2009-07-01  0.866025   \n",
       "2 2009-07-01 03:00:00  2.89 -3.46  4.51  140.15   1.0    2009-07-01  0.707107   \n",
       "3 2009-07-01 04:00:00  2.87 -3.33  4.40  139.26   1.0    2009-07-01  0.500000   \n",
       "4 2009-07-01 05:00:00  2.80 -3.19  4.25  138.73   1.0    2009-07-01  0.258819   \n",
       "\n",
       "   sin_hour  cos_month  sin_month  cosWind_direction  sinWind_direction  \\\n",
       "0  0.258819  -0.866025       -0.5           0.652496           0.757792   \n",
       "1  0.500000  -0.866025       -0.5          -0.443166           0.896440   \n",
       "2  0.707107  -0.866025       -0.5          -0.342078           0.939672   \n",
       "3  0.866025  -0.866025       -0.5           0.514885           0.857259   \n",
       "4  0.965926  -0.866025       -0.5           0.877619           0.479358   \n",
       "\n",
       "      cosws     sinws       ws3    wp1  \n",
       "0  0.077533 -0.996990 -0.998569  0.051  \n",
       "1 -0.082296 -0.996608  0.288518  0.000  \n",
       "2 -0.201010 -0.979589 -0.809402  0.000  \n",
       "3 -0.307333 -0.951602 -0.935545  0.000  \n",
       "4 -0.446087 -0.894989  0.201996  0.000  "
      ]
     },
     "execution_count": 30,
     "metadata": {},
     "output_type": "execute_result"
    }
   ],
   "source": [
    "wp_1_forecast.head()"
   ]
  },
  {
   "cell_type": "markdown",
   "id": "4c455865-6d5b-4832-a978-d1911d0ae1ba",
   "metadata": {},
   "source": [
    "Pour limiter les données d'entrainement j'utilise l'heure du dernier forecast (*forecast_time*) avant les données test à prédire et non les heures prédites par le forecast (*date*), afin de ne pas utiliser des données dans le future tout en conservant celles du future qui ont été prédites dans le passé... \n",
    "\n",
    "Par contre pour les données tests j'ai choisi d'utiliser un créneau plus large que la date de départ, afin d'avoir les 4 forecast de 36h précedants les premières heures de prédiction à fournir. Cela permettra de faire du rolling windows sur ces données et de récupérer les features d'intêret."
   ]
  },
  {
   "cell_type": "code",
   "execution_count": 3,
   "id": "51cf5207-46a6-4b26-97a0-bea548de7e8c",
   "metadata": {},
   "outputs": [],
   "source": [
    "# 36hrs before the real start date of the prediction\n",
    "before_start_36h = '2010-12-30 13:00:00'\n",
    "start_date = '2011-01-01 01:00:00'\n",
    "start_forecastdate = '2011-01-01 00:00:00'\n",
    "without_wp_date = '2010-12-30 12:00:00'\n",
    "end_date = '2012-06-25 00:00:00'"
   ]
  },
  {
   "cell_type": "code",
   "execution_count": 4,
   "id": "c357e31b-0230-4783-9a91-d5d22a7051e9",
   "metadata": {},
   "outputs": [],
   "source": [
    "# datetime(2011,1,1,1,0,0)+timedelta(hours=(36+48)*155)-timedelta(hours=36)"
   ]
  },
  {
   "cell_type": "markdown",
   "id": "2917bf23-dc40-4f1e-bc17-c2f3a5ed8efd",
   "metadata": {},
   "source": [
    "# Functions"
   ]
  },
  {
   "cell_type": "code",
   "execution_count": 5,
   "id": "8c4f8555-ebd3-4d01-8394-956890c508bc",
   "metadata": {
    "tags": []
   },
   "outputs": [],
   "source": [
    "def integer2date(s):\n",
    "    s = str(s)\n",
    "    return  datetime(year=int(s[0:4]), month=int(s[4:6]), day=int(s[6:8]), hour=int(s[8:]))\n",
    "\n",
    "def adding_hours(h):\n",
    "    return timedelta(hours = h)\n",
    "\n",
    "def date_conversion(df):\n",
    "    df['forecast_time'] = df.date.apply(lambda x: integer2date(x))\n",
    "    df['hours_added'] = df.hors.apply(lambda x: adding_hours(x))\n",
    "    df['date'] = df['forecast_time'] + df['hours_added']\n",
    "    df = df.drop(['hours_added', 'hors'], axis = 1)\n",
    "    return df"
   ]
  },
  {
   "cell_type": "code",
   "execution_count": 6,
   "id": "05158485-cd9f-4afa-896e-e32a664a4fb2",
   "metadata": {
    "tags": []
   },
   "outputs": [],
   "source": [
    "def hr_func(ts):\n",
    "    return ts.hour\n",
    "\n",
    "def month_func(ts):\n",
    "    return ts.month\n",
    "\n",
    "def feature_engineering(data):\n",
    "#     Voir si il y a une temporalité dans les saisons puisqu'on ne sait pas ou l'on se trouve sur le globe... \n",
    "#     Surement en Belgique au vu des contrats entre Total et Airliquide ;) \n",
    "    \n",
    "    data['cos_hour'] = np.cos(2*np.pi *(data['date']).apply(hr_func)/24)\n",
    "    data['sin_hour'] = np.sin(2*np.pi *(data['date']).apply(hr_func)/24)\n",
    "    \n",
    "    data['cos_month'] = np.cos(2*np.pi *data['date'].apply(month_func)/12)\n",
    "    data['sin_month'] = np.sin(2*np.pi *data['date'].apply(month_func)/12)\n",
    "    \n",
    "#     Ajouter le traitement de u et v\n",
    "    \n",
    "    data['cosWind_direction'] = np.cos(data['wd'])\n",
    "    data['sinWind_direction'] = np.sin(data['wd'])\n",
    "\n",
    "    data['cosws'] = np.cos(data['ws'])\n",
    "    data['sinws'] = np.sin(data['ws'])\n",
    "\n",
    "    data['ws3'] = np.cos(data['ws']**3)\n",
    "    \n",
    "    return data"
   ]
  },
  {
   "cell_type": "code",
   "execution_count": 7,
   "id": "652135d7-ace2-4ea2-98f7-cee59cbc7aab",
   "metadata": {
    "jupyter": {
     "source_hidden": true
    },
    "tags": []
   },
   "outputs": [],
   "source": [
    "def rolling_windows(data):\n",
    "    ## WIND SPEED\n",
    "    for i in [1, 2, 3, 4, 5, 6, 7, 8, 12, 24]:\n",
    "        data['ws_T_' + str(i)] = data['ws'].shift(i)     \n",
    "    \n",
    "    for i in [2, 3, 4, 5, 6, 7, 8, 9, 10, 11, 12, 24]:\n",
    "        data['ws_T_' + str(i) + '_mean'] = data['ws'].rolling(window = i).mean() \n",
    "        \n",
    "    for i in [2, 3, 4, 5, 6, 12]:\n",
    "        data['ws_T_' + str(i) + '_std'] = data['ws'].rolling(window = i).std()\n",
    "        \n",
    "    for i in [2, 3, 4, 5, 6, 12]:\n",
    "        data['ws_T_' + str(i) + '_median'] = data['ws'].rolling(window = i).median()\n",
    "        \n",
    "    for i in [1, 2, 3, 4, 5, 6, 12, 24]:\n",
    "        data['ws_T_' + str(i) + '_max'] = data['ws'].rolling(window = i).max()    \n",
    "        \n",
    "    for i in [1, 2, 3, 4, 5, 6, 12, 24]:\n",
    "        data['ws_T_' + str(i) + '_min'] = data['ws'].rolling(window = i).min()         \n",
    "       \n",
    "    ## X_com \n",
    "    for i in [1, 2, 3, 4, 5, 6, 12, 24]:\n",
    "        data['x_T_' + str(i)] = data['u'].shift(i)\n",
    "        \n",
    "    for i in [2, 3, 4, 5, 6, 7, 8, 9, 10, 11, 12]:\n",
    "        data['x_T_' + str(i) + '_mean'] = data['u'].rolling(window = i).mean()  \n",
    "        \n",
    "    for i in [2, 3, 4, 5, 6]:\n",
    "        data['x_T_' + str(i) + '_std'] = data['u'].rolling(window = i).std()     \n",
    "        \n",
    "    ## Y_com\n",
    "    for i in [1, 2, 3, 4, 5, 6, 12, 24]:\n",
    "        data['y_T_' + str(i)] = data['v'].shift(i)\n",
    "        \n",
    "    for i in [2, 3, 4, 5, 6, 7, 8, 9, 10, 11, 12]:\n",
    "        data['y_T_' + str(i) + '_mean'] = data['v'].rolling(window = i).mean()  \n",
    "        \n",
    "    for i in [2, 3, 4, 5, 6]:\n",
    "        data['y_T_' + str(i) + '_std'] = data['v'].rolling(window = i).std()        \n",
    "\n",
    "    return data"
   ]
  },
  {
   "cell_type": "markdown",
   "id": "3bfa122b-2ae9-4dea-b5d9-9be7ea117984",
   "metadata": {},
   "source": [
    "# Date correction"
   ]
  },
  {
   "cell_type": "code",
   "execution_count": 8,
   "id": "5601464b-ace5-4377-9049-34e5f5b32cab",
   "metadata": {},
   "outputs": [],
   "source": [
    "training_data_1['date'] = training_data_1.date.apply(lambda x: integer2date(x))"
   ]
  },
  {
   "cell_type": "code",
   "execution_count": 9,
   "id": "aaf38471-e97c-4113-ad52-54154ea397fc",
   "metadata": {},
   "outputs": [],
   "source": [
    "testing_data_1['date'] = testing_data_1.date.apply(lambda x: integer2date(x))"
   ]
  },
  {
   "cell_type": "markdown",
   "id": "f3c6c372-4fa8-4a20-b06b-65039af64e3e",
   "metadata": {},
   "source": [
    "# WP1 analysis"
   ]
  },
  {
   "cell_type": "markdown",
   "id": "3f236ee7-c87a-401f-8d3b-d82afcde3dfc",
   "metadata": {},
   "source": [
    "Defines batch of forecasts for QC:"
   ]
  },
  {
   "cell_type": "code",
   "execution_count": 10,
   "id": "b21ef96a-b16c-40f2-949d-c9213924e41d",
   "metadata": {
    "tags": []
   },
   "outputs": [],
   "source": [
    "i = 1\n",
    "for date in wp_1_forecast.date.unique():\n",
    "    wp_1_forecast.loc[wp_1_forecast.date == date, 'cast'] = i\n",
    "    i += 1"
   ]
  },
  {
   "cell_type": "markdown",
   "id": "e7df86db-d0df-4730-a1d7-28fef8f3b007",
   "metadata": {},
   "source": [
    "Converts the date corresponding to the forecast and also the forecast date"
   ]
  },
  {
   "cell_type": "code",
   "execution_count": 11,
   "id": "dbc26eed-68d4-401a-9213-e899ce61fd2b",
   "metadata": {
    "tags": []
   },
   "outputs": [],
   "source": [
    "wp_1_forecast = date_conversion(wp_1_forecast)\n",
    "wp_1_forecast = feature_engineering(wp_1_forecast)"
   ]
  },
  {
   "cell_type": "code",
   "execution_count": 12,
   "id": "5efe8acd-954d-45a6-b46f-7b0880db2212",
   "metadata": {
    "scrolled": true,
    "tags": []
   },
   "outputs": [],
   "source": [
    "# Gets the right wind power value for each date of the dataset\n",
    "wp_1_target = training_data_1[['date','wp1']]\n",
    "for date in wp_1_target.date.unique():\n",
    "     wp_1_forecast.loc[wp_1_forecast.date == date, 'wp1'] = wp_1_target.loc[wp_1_target.date == date, 'wp1'].values[0]"
   ]
  },
  {
   "cell_type": "markdown",
   "id": "4b5f69f5-9533-49a3-982c-16112dd7542e",
   "metadata": {},
   "source": [
    "Use this to see the count of data (nice when you want to be sure you have 4 counts) :"
   ]
  },
  {
   "cell_type": "code",
   "execution_count": 13,
   "id": "368985a4-3d2a-4e55-99f4-ec6129b5fe42",
   "metadata": {},
   "outputs": [],
   "source": [
    "# wp_1_test_data = wp_1_forecast[(wp_1_forecast.date >= start_date)].sort_values(by='date').head(4*48+4*36)\n",
    "# wp_1_test_data.groupby([wp_1_test_data[\"date\"].dt.year, wp_1_test_data[\"date\"].dt.month, wp_1_test_data[\"date\"].dt.day,  wp_1_test_data[\"date\"].dt.hour]).count().plot(kind=\"bar\", figsize=(40,5))"
   ]
  },
  {
   "cell_type": "markdown",
   "id": "f11c807f-d825-4196-9579-058b2616538e",
   "metadata": {},
   "source": [
    "# Separation into training and testing data"
   ]
  },
  {
   "cell_type": "markdown",
   "id": "46a1fc36-5975-4f07-ac8c-3d5b0144942c",
   "metadata": {},
   "source": [
    "For the predicted data, I choose to take a larger sample in order to use the rolling_windows function"
   ]
  },
  {
   "cell_type": "code",
   "execution_count": 14,
   "id": "e0d48c61-6a7d-4d3f-a2f9-c33df698ba1c",
   "metadata": {},
   "outputs": [],
   "source": [
    "wp_1_training = wp_1_forecast[(wp_1_forecast.forecast_time < without_wp_date)]"
   ]
  },
  {
   "cell_type": "code",
   "execution_count": 15,
   "id": "3d9811c9-d067-4506-822a-5d26e9e9aa20",
   "metadata": {},
   "outputs": [],
   "source": [
    "wp_1_testing = wp_1_forecast[(wp_1_forecast.date >= before_start_36h)]"
   ]
  },
  {
   "cell_type": "markdown",
   "id": "39813ed0-d1c5-4bcc-b199-961287427e1f",
   "metadata": {},
   "source": [
    "# Rolling window preprocessing"
   ]
  },
  {
   "cell_type": "markdown",
   "id": "e121c27a-c90a-48b9-8f7b-b8c5c0046dd9",
   "metadata": {},
   "source": [
    "### Rolling window on training data"
   ]
  },
  {
   "cell_type": "markdown",
   "id": "7c8b24c3-ddab-4761-b949-1e1e53890db5",
   "metadata": {},
   "source": [
    "Le but est de récuperer les 24h/36h précedentes afin de faire du rolling windows pour chaque 48h à prédire.</br>"
   ]
  },
  {
   "cell_type": "code",
   "execution_count": null,
   "id": "45b2ef37-8abd-45c4-a593-718bebeef1de",
   "metadata": {},
   "outputs": [],
   "source": [
    "training_data = pd.DataFrame()\n",
    "                                    \n",
    "for i in range(4, int(len(wp_1_training)/48 + 1)):\n",
    "    # Ici on garde 2 des 48h de prediction différentes (pour avoir 24h (ou 36h) avant) + 48h qui seront a prédire afin de faire du rolling windows\n",
    "    # i correspond au cast à garder de 48h\n",
    "    condition = (wp_1_training.cast >= i-3) & (wp_1_training.cast <= i)\n",
    "    forecast_48 = wp_1_training[condition].sort_values(by = ['date', 'forecast_time'], ascending=[True, False])\n",
    "    forecast_48 = forecast_48.drop_duplicates(subset = 'date')\n",
    "    forecast_48 = rolling_windows(forecast_48)\n",
    "    forecast_48 = forecast_48[forecast_48.cast == i]\n",
    "    training_data = pd.concat([training_data, forecast_48], ignore_index=True)\n",
    "\n",
    "len(training_data)/48"
   ]
  },
  {
   "cell_type": "markdown",
   "id": "86ff9beb-e0c6-4ccc-9715-96ae07d07a51",
   "metadata": {},
   "source": [
    "### Rolling window on testing data"
   ]
  },
  {
   "cell_type": "markdown",
   "id": "64d804da-ba4b-4c61-8f1f-a8cd8426a752",
   "metadata": {},
   "source": [
    "Ici je récupère les indices des forecasts de 48h à prédire. Le rolling window se limite à ces batchs pour le moment"
   ]
  },
  {
   "cell_type": "code",
   "execution_count": null,
   "id": "bb3cd048-1c8d-4b64-8044-5e884da4ab2c",
   "metadata": {},
   "outputs": [],
   "source": [
    "first_test_forecast = wp_1_testing[wp_1_testing.forecast_time >= start_forecastdate].head(1)['cast'].values[0]\n",
    "nb_forecast = int(len(testing_data_1)/48)\n",
    "cast_predict = [first_test_forecast]\n",
    "\n",
    "for i in range(1, nb_forecast):\n",
    "    cast_predict.append(cast_predict[i-1] + 7)"
   ]
  },
  {
   "cell_type": "code",
   "execution_count": null,
   "id": "421f781e-0ac0-4c5e-8177-89c297a3f639",
   "metadata": {},
   "outputs": [],
   "source": [
    "testing_data = pd.DataFrame()\n",
    "for i in cast_predict:\n",
    "    # Ici on garde 2 des 48h de prediction différentes (pour avoir 24h (ou 36h) avant) + 48h qui seront a prédire afin de faire du rolling windows\n",
    "    # i correspond au cast à garder de 48h\n",
    "    condition = (wp_1_testing.cast >= i-3) & (wp_1_testing.cast <= i)\n",
    "    forecast_48 = wp_1_testing[condition].sort_values(by = ['date', 'forecast_time'], ascending=[True, False])\n",
    "    forecast_48 = forecast_48.drop_duplicates(subset = 'date')\n",
    "    forecast_48 = rolling_windows(forecast_48)\n",
    "    forecast_48 = forecast_48[forecast_48.cast == i]\n",
    "    testing_data = pd.concat([testing_data, forecast_48], ignore_index=True)\n",
    "\n",
    "len(testing_data)/48"
   ]
  },
  {
   "cell_type": "markdown",
   "id": "39f0c3b2-5dc9-44b0-a1c8-858cea38a7e9",
   "metadata": {},
   "source": [
    "# A discuter"
   ]
  },
  {
   "cell_type": "code",
   "execution_count": 27,
   "id": "ef4bdf69-358f-4c4e-885e-1036bc9ae227",
   "metadata": {
    "tags": []
   },
   "outputs": [
    {
     "data": {
      "text/html": [
       "<div>\n",
       "<style scoped>\n",
       "    .dataframe tbody tr th:only-of-type {\n",
       "        vertical-align: middle;\n",
       "    }\n",
       "\n",
       "    .dataframe tbody tr th {\n",
       "        vertical-align: top;\n",
       "    }\n",
       "\n",
       "    .dataframe thead th {\n",
       "        text-align: right;\n",
       "    }\n",
       "</style>\n",
       "<table border=\"1\" class=\"dataframe\">\n",
       "  <thead>\n",
       "    <tr style=\"text-align: right;\">\n",
       "      <th></th>\n",
       "      <th>date</th>\n",
       "      <th>u</th>\n",
       "      <th>v</th>\n",
       "      <th>ws</th>\n",
       "      <th>wd</th>\n",
       "      <th>cast</th>\n",
       "      <th>forecast_time</th>\n",
       "      <th>cos_hour</th>\n",
       "      <th>sin_hour</th>\n",
       "      <th>cos_month</th>\n",
       "      <th>sin_month</th>\n",
       "      <th>cosWind_direction</th>\n",
       "      <th>sinWind_direction</th>\n",
       "      <th>cosws</th>\n",
       "      <th>sinws</th>\n",
       "      <th>ws3</th>\n",
       "      <th>wp1</th>\n",
       "    </tr>\n",
       "  </thead>\n",
       "  <tbody>\n",
       "    <tr>\n",
       "      <th>1</th>\n",
       "      <td>2009-07-01 02:00:00</td>\n",
       "      <td>2.96</td>\n",
       "      <td>-3.56</td>\n",
       "      <td>4.63</td>\n",
       "      <td>140.26</td>\n",
       "      <td>1.0</td>\n",
       "      <td>2009-07-01</td>\n",
       "      <td>8.660254e-01</td>\n",
       "      <td>0.500000</td>\n",
       "      <td>-0.866025</td>\n",
       "      <td>-0.5</td>\n",
       "      <td>-0.443166</td>\n",
       "      <td>0.896440</td>\n",
       "      <td>-0.082296</td>\n",
       "      <td>-0.996608</td>\n",
       "      <td>0.288518</td>\n",
       "      <td>0.0</td>\n",
       "    </tr>\n",
       "    <tr>\n",
       "      <th>2</th>\n",
       "      <td>2009-07-01 03:00:00</td>\n",
       "      <td>2.89</td>\n",
       "      <td>-3.46</td>\n",
       "      <td>4.51</td>\n",
       "      <td>140.15</td>\n",
       "      <td>1.0</td>\n",
       "      <td>2009-07-01</td>\n",
       "      <td>7.071068e-01</td>\n",
       "      <td>0.707107</td>\n",
       "      <td>-0.866025</td>\n",
       "      <td>-0.5</td>\n",
       "      <td>-0.342078</td>\n",
       "      <td>0.939672</td>\n",
       "      <td>-0.201010</td>\n",
       "      <td>-0.979589</td>\n",
       "      <td>-0.809402</td>\n",
       "      <td>0.0</td>\n",
       "    </tr>\n",
       "    <tr>\n",
       "      <th>3</th>\n",
       "      <td>2009-07-01 04:00:00</td>\n",
       "      <td>2.87</td>\n",
       "      <td>-3.33</td>\n",
       "      <td>4.40</td>\n",
       "      <td>139.26</td>\n",
       "      <td>1.0</td>\n",
       "      <td>2009-07-01</td>\n",
       "      <td>5.000000e-01</td>\n",
       "      <td>0.866025</td>\n",
       "      <td>-0.866025</td>\n",
       "      <td>-0.5</td>\n",
       "      <td>0.514885</td>\n",
       "      <td>0.857259</td>\n",
       "      <td>-0.307333</td>\n",
       "      <td>-0.951602</td>\n",
       "      <td>-0.935545</td>\n",
       "      <td>0.0</td>\n",
       "    </tr>\n",
       "    <tr>\n",
       "      <th>4</th>\n",
       "      <td>2009-07-01 05:00:00</td>\n",
       "      <td>2.80</td>\n",
       "      <td>-3.19</td>\n",
       "      <td>4.25</td>\n",
       "      <td>138.73</td>\n",
       "      <td>1.0</td>\n",
       "      <td>2009-07-01</td>\n",
       "      <td>2.588190e-01</td>\n",
       "      <td>0.965926</td>\n",
       "      <td>-0.866025</td>\n",
       "      <td>-0.5</td>\n",
       "      <td>0.877619</td>\n",
       "      <td>0.479358</td>\n",
       "      <td>-0.446087</td>\n",
       "      <td>-0.894989</td>\n",
       "      <td>0.201996</td>\n",
       "      <td>0.0</td>\n",
       "    </tr>\n",
       "    <tr>\n",
       "      <th>5</th>\n",
       "      <td>2009-07-01 06:00:00</td>\n",
       "      <td>2.57</td>\n",
       "      <td>-3.07</td>\n",
       "      <td>4.00</td>\n",
       "      <td>140.00</td>\n",
       "      <td>1.0</td>\n",
       "      <td>2009-07-01</td>\n",
       "      <td>6.123234e-17</td>\n",
       "      <td>1.000000</td>\n",
       "      <td>-0.866025</td>\n",
       "      <td>-0.5</td>\n",
       "      <td>-0.197814</td>\n",
       "      <td>0.980240</td>\n",
       "      <td>-0.653644</td>\n",
       "      <td>-0.756802</td>\n",
       "      <td>0.391857</td>\n",
       "      <td>0.0</td>\n",
       "    </tr>\n",
       "  </tbody>\n",
       "</table>\n",
       "</div>"
      ],
      "text/plain": [
       "                 date     u     v    ws      wd  cast forecast_time  \\\n",
       "1 2009-07-01 02:00:00  2.96 -3.56  4.63  140.26   1.0    2009-07-01   \n",
       "2 2009-07-01 03:00:00  2.89 -3.46  4.51  140.15   1.0    2009-07-01   \n",
       "3 2009-07-01 04:00:00  2.87 -3.33  4.40  139.26   1.0    2009-07-01   \n",
       "4 2009-07-01 05:00:00  2.80 -3.19  4.25  138.73   1.0    2009-07-01   \n",
       "5 2009-07-01 06:00:00  2.57 -3.07  4.00  140.00   1.0    2009-07-01   \n",
       "\n",
       "       cos_hour  sin_hour  cos_month  sin_month  cosWind_direction  \\\n",
       "1  8.660254e-01  0.500000  -0.866025       -0.5          -0.443166   \n",
       "2  7.071068e-01  0.707107  -0.866025       -0.5          -0.342078   \n",
       "3  5.000000e-01  0.866025  -0.866025       -0.5           0.514885   \n",
       "4  2.588190e-01  0.965926  -0.866025       -0.5           0.877619   \n",
       "5  6.123234e-17  1.000000  -0.866025       -0.5          -0.197814   \n",
       "\n",
       "   sinWind_direction     cosws     sinws       ws3  wp1  \n",
       "1           0.896440 -0.082296 -0.996608  0.288518  0.0  \n",
       "2           0.939672 -0.201010 -0.979589 -0.809402  0.0  \n",
       "3           0.857259 -0.307333 -0.951602 -0.935545  0.0  \n",
       "4           0.479358 -0.446087 -0.894989  0.201996  0.0  \n",
       "5           0.980240 -0.653644 -0.756802  0.391857  0.0  "
      ]
     },
     "execution_count": 27,
     "metadata": {},
     "output_type": "execute_result"
    }
   ],
   "source": [
    "wp_1_training[((wp_1_training['wp1'] <=0) & (wp_1_training['ws'] > 3.3))].head()"
   ]
  },
  {
   "cell_type": "markdown",
   "id": "ad7578cf-9dd9-424f-9b14-b672b6561c56",
   "metadata": {},
   "source": [
    "Au vu de la répartition du temps, le mieux serait d'utiliser un modèle ML avec une matrice 48h en entrée et 48h en sorti. </br>\n",
    "Dans le set de training, on a 1095 forecast de 48h complet. Le test commence au forecast 1099.0 </br>\n",
    "**To discuss**: Est ce que forecast de la date du test peut être conservée si elle a été émise avant la date test ? (Selon moi oui, mais ce sera dommage d'être disqualifiés pour ça)\n",
    "\n",
    "***Update***:\n",
    "Bon au final utiliser 48h pour predire 48h c'est embêtant car ça diminue de beaucoup notre donnée... On passe de 50k lignes de données à 1000 casts différents. A voir si ça impact notre algorithm. Une alternative serait de séparer les 48h, de rajouter une feature \"distance\" qui donnerait la distance entre la date du forecast et l'heure à laquelle il a été fait. Cela nous permettrait de tout bonnement virer les lignes anomaliques de maintenance sans causer de soucis aux données (voir dans WP1 preprocessing training data). Cela n'est pas le cas si on utilise des batchs de 48h, car il faudrait modifier les wp1 anomaliques ce qui est délicat (supprimer un batch complet de forecast pour chaque anomalie nous ferait perdre 2/3 de la donnée haha)"
   ]
  },
  {
   "cell_type": "code",
   "execution_count": null,
   "id": "b37bdf6c-2739-4a98-bd92-96c669d2ff8b",
   "metadata": {
    "tags": []
   },
   "outputs": [],
   "source": [
    "# X = training_data['ws'].values.reshape(-1, 1)\n",
    "# y = training_data['wp1'].values.reshape(-1, 1)\n",
    "\n",
    "\n",
    "# poly_reg = PolynomialFeatures(degree=3)\n",
    "# X_poly = poly_reg.fit_transform(X)\n",
    "# pol_reg = LinearRegression()\n",
    "# pol_reg.fit(X_poly, y)\n",
    "\n",
    "# def viz_polymonial(X, y, pol_reg):\n",
    "#     plt.scatter(X, y, color='red')\n",
    "#     plt.plot(X, pol_reg.predict(poly_reg.fit_transform(X)), color='blue')\n",
    "#     plt.title('Linear Regression')\n",
    "#     plt.xlabel('Wind speed')\n",
    "#     plt.ylabel('Wind power')\n",
    "#     plt.show()\n",
    "#     return\n",
    "\n",
    "# # training_data['theoretical_power'] = pol_reg.predict(poly_reg.fit_transform(X))\n",
    "# viz_polymonial(X, y, pol_reg)"
   ]
  }
 ],
 "metadata": {
  "kernelspec": {
   "display_name": "Python 3",
   "language": "python",
   "name": "python3"
  },
  "language_info": {
   "codemirror_mode": {
    "name": "ipython",
    "version": 3
   },
   "file_extension": ".py",
   "mimetype": "text/x-python",
   "name": "python",
   "nbconvert_exporter": "python",
   "pygments_lexer": "ipython3",
   "version": "3.8.5"
  }
 },
 "nbformat": 4,
 "nbformat_minor": 5
}
