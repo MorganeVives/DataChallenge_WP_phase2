{
 "cells": [
  {
   "cell_type": "markdown",
   "id": "51e26ae8-cf52-426a-bc1f-073e8311d12c",
   "metadata": {},
   "source": [
    "# Exploratory Data Analysis"
   ]
  },
  {
   "cell_type": "markdown",
   "id": "d36f50ce-2987-4f67-a717-46876da937b6",
   "metadata": {},
   "source": [
    " - Wind forecast and wind power from __2009/07/01 to 2011/01/01__, the initial train phase\n",
    " - Wind forecast and wind power on 36 hours phases between each of the 157 test periods on which you can retrain you models"
   ]
  },
  {
   "cell_type": "code",
   "execution_count": 134,
   "id": "6b4a9deb-a6f2-41eb-9b63-f7a645572f0b",
   "metadata": {},
   "outputs": [],
   "source": [
    "import pandas as pd\n",
    "import seaborn as sns\n",
    "from datetime import datetime, timedelta\n",
    "import matplotlib.pyplot as plt\n",
    "import numpy as np\n",
    "\n",
    "from sklearn.preprocessing import PolynomialFeatures\n",
    "from sklearn.linear_model import LinearRegression\n",
    "\n",
    "pd.options.mode.chained_assignment = None  # default='warn'"
   ]
  },
  {
   "cell_type": "code",
   "execution_count": 135,
   "id": "fd5fc7bf-5c9b-4682-8e55-56e1659cd657",
   "metadata": {},
   "outputs": [],
   "source": [
    "training_data_1 = pd.read_csv(\"Data/Initial/train.csv\")\n",
    "testing_data_1 = pd.read_csv(\"Data/Initial/test.csv\")\n",
    "\n",
    "wp_1_forecast = pd.read_csv(\"Data/Initial/wp1.csv\")\n",
    "# wp_2_forecast = pd.read_csv(\"Data/Initial/wp2.csv\")\n",
    "# wp_3_forecast = pd.read_csv(\"Data/Initial/wp3.csv\")\n",
    "# wp_4_forecast = pd.read_csv(\"Data/Initial/wp4.csv\")\n",
    "# wp_5_forecast = pd.read_csv(\"Data/Initial/wp5.csv\")\n",
    "# wp_6_forecast = pd.read_csv(\"Data/Initial/wp6.csv\")"
   ]
  },
  {
   "cell_type": "code",
   "execution_count": 136,
   "id": "fb59140b-6340-4e41-9ffd-5c46b179bdeb",
   "metadata": {},
   "outputs": [
    {
     "data": {
      "text/html": [
       "<div>\n",
       "<style scoped>\n",
       "    .dataframe tbody tr th:only-of-type {\n",
       "        vertical-align: middle;\n",
       "    }\n",
       "\n",
       "    .dataframe tbody tr th {\n",
       "        vertical-align: top;\n",
       "    }\n",
       "\n",
       "    .dataframe thead th {\n",
       "        text-align: right;\n",
       "    }\n",
       "</style>\n",
       "<table border=\"1\" class=\"dataframe\">\n",
       "  <thead>\n",
       "    <tr style=\"text-align: right;\">\n",
       "      <th></th>\n",
       "      <th>date</th>\n",
       "      <th>hors</th>\n",
       "      <th>u</th>\n",
       "      <th>v</th>\n",
       "      <th>ws</th>\n",
       "      <th>wd</th>\n",
       "    </tr>\n",
       "  </thead>\n",
       "  <tbody>\n",
       "    <tr>\n",
       "      <th>0</th>\n",
       "      <td>2009070100</td>\n",
       "      <td>1</td>\n",
       "      <td>3.14</td>\n",
       "      <td>-3.62</td>\n",
       "      <td>4.79</td>\n",
       "      <td>139.09</td>\n",
       "    </tr>\n",
       "    <tr>\n",
       "      <th>1</th>\n",
       "      <td>2009070100</td>\n",
       "      <td>2</td>\n",
       "      <td>2.96</td>\n",
       "      <td>-3.56</td>\n",
       "      <td>4.63</td>\n",
       "      <td>140.26</td>\n",
       "    </tr>\n",
       "    <tr>\n",
       "      <th>2</th>\n",
       "      <td>2009070100</td>\n",
       "      <td>3</td>\n",
       "      <td>2.89</td>\n",
       "      <td>-3.46</td>\n",
       "      <td>4.51</td>\n",
       "      <td>140.15</td>\n",
       "    </tr>\n",
       "    <tr>\n",
       "      <th>3</th>\n",
       "      <td>2009070100</td>\n",
       "      <td>4</td>\n",
       "      <td>2.87</td>\n",
       "      <td>-3.33</td>\n",
       "      <td>4.40</td>\n",
       "      <td>139.26</td>\n",
       "    </tr>\n",
       "    <tr>\n",
       "      <th>4</th>\n",
       "      <td>2009070100</td>\n",
       "      <td>5</td>\n",
       "      <td>2.80</td>\n",
       "      <td>-3.19</td>\n",
       "      <td>4.25</td>\n",
       "      <td>138.73</td>\n",
       "    </tr>\n",
       "  </tbody>\n",
       "</table>\n",
       "</div>"
      ],
      "text/plain": [
       "         date  hors     u     v    ws      wd\n",
       "0  2009070100     1  3.14 -3.62  4.79  139.09\n",
       "1  2009070100     2  2.96 -3.56  4.63  140.26\n",
       "2  2009070100     3  2.89 -3.46  4.51  140.15\n",
       "3  2009070100     4  2.87 -3.33  4.40  139.26\n",
       "4  2009070100     5  2.80 -3.19  4.25  138.73"
      ]
     },
     "execution_count": 136,
     "metadata": {},
     "output_type": "execute_result"
    }
   ],
   "source": [
    "wp_1_forecast.head()"
   ]
  },
  {
   "cell_type": "markdown",
   "id": "4c455865-6d5b-4832-a978-d1911d0ae1ba",
   "metadata": {},
   "source": [
    "Pour limiter les données d'entrainement j'utilise l'heure du dernier forecast (*forecast_time*) avant les données test à prédire et non les heures prédites par le forecast (*date*), afin de ne pas utiliser des données dans le future tout en conservant celles du future qui ont été prédites dans le passé... \n",
    "\n",
    "Par contre pour les données tests j'ai choisi d'utiliser un créneau plus large que la date de départ, afin d'avoir les 4 forecast de 36h précedants les premières heures de prédiction à fournir. Cela permettra de faire du rolling windows sur ces données et de récupérer les features d'intêret."
   ]
  },
  {
   "cell_type": "code",
   "execution_count": 137,
   "id": "51cf5207-46a6-4b26-97a0-bea548de7e8c",
   "metadata": {},
   "outputs": [],
   "source": [
    "# 36hrs before the real start date of the prediction\n",
    "before_start_36h = '2010-12-30 13:00:00'\n",
    "start_date = '2011-01-01 01:00:00'\n",
    "start_forecastdate = '2011-01-01 00:00:00'\n",
    "without_wp_date = '2010-12-30 12:00:00'\n",
    "end_date = '2012-06-25 00:00:00'"
   ]
  },
  {
   "cell_type": "code",
   "execution_count": 138,
   "id": "c357e31b-0230-4783-9a91-d5d22a7051e9",
   "metadata": {},
   "outputs": [],
   "source": [
    "# datetime(2011,1,1,1,0,0)+timedelta(hours=(36+48)*155)-timedelta(hours=36)"
   ]
  },
  {
   "cell_type": "markdown",
   "id": "2917bf23-dc40-4f1e-bc17-c2f3a5ed8efd",
   "metadata": {},
   "source": [
    "# Functions"
   ]
  },
  {
   "cell_type": "code",
   "execution_count": 139,
   "id": "8c4f8555-ebd3-4d01-8394-956890c508bc",
   "metadata": {
    "tags": []
   },
   "outputs": [],
   "source": [
    "def integer2date(s):\n",
    "    s = str(s)\n",
    "    return  datetime(year=int(s[0:4]), month=int(s[4:6]), day=int(s[6:8]), hour=int(s[8:]))\n",
    "\n",
    "def adding_hours(h):\n",
    "    return timedelta(hours = h)\n",
    "\n",
    "def date_conversion(df):\n",
    "    \"\"\" Converts the given time of forecast and distance to the forecast into the forecast date.\"\"\"\n",
    "    df['forecast_time'] = df.date.apply(lambda x: integer2date(x))\n",
    "    df['hours_added'] = df.hors.apply(lambda x: adding_hours(x))\n",
    "    df['date'] = df['forecast_time'] + df['hours_added']\n",
    "    df = df.drop(['hours_added', 'hors'], axis = 1)\n",
    "    return df"
   ]
  },
  {
   "cell_type": "code",
   "execution_count": 140,
   "id": "464caf40-f97f-45a8-a4cb-d72ddc0ccf78",
   "metadata": {
    "tags": []
   },
   "outputs": [],
   "source": [
    "def forecast_batch(df):\n",
    "    \"\"\"Creates a batch number feature for each 48h predicted.\"\"\"\n",
    "    i = 1\n",
    "    for date in df.date.unique():\n",
    "        df.loc[df.date == date, 'forecast'] = i\n",
    "        i += 1\n",
    "    return df \n",
    "\n",
    "def forecast_distance(df):\n",
    "    \"\"\"Computes the distance from the time of forecast and the date forecast. \n",
    "    The incertitude of the forecast increases with the distance\"\"\"\n",
    "    df.sort_values(by = ['forecast', 'date'], inplace = True)\n",
    "    for cast in df.forecast.unique():\n",
    "        nb_forecast = len(df.loc[df.forecast == cast, 'date'])\n",
    "        i = 0\n",
    "        for date in df[df.forecast == cast].date.unique():\n",
    "            df.loc[(df.forecast == cast)&(df.date == date), 'forecast_dist'] = i\n",
    "            i+=1  \n",
    "    return df"
   ]
  },
  {
   "cell_type": "code",
   "execution_count": 141,
   "id": "05158485-cd9f-4afa-896e-e32a664a4fb2",
   "metadata": {
    "tags": []
   },
   "outputs": [],
   "source": [
    "def hr_func(ts):\n",
    "    return ts.hour\n",
    "\n",
    "def month_func(ts):\n",
    "    return ts.month\n",
    "\n",
    "def feature_engineering(df):  \n",
    "    df['cos_hour'] = np.cos(2*np.pi *(df['date']).apply(hr_func)/24)\n",
    "    df['sin_hour'] = np.sin(2*np.pi *(df['date']).apply(hr_func)/24)\n",
    "    \n",
    "    df['cos_month'] = np.cos(2*np.pi *df['date'].apply(month_func)/12)\n",
    "    df['sin_month'] = np.sin(2*np.pi *df['date'].apply(month_func)/12)\n",
    "    \n",
    "#     Ajouter le traitement de u et v\n",
    "    \n",
    "    df['cosWind_direction'] = np.cos(df['wd'])\n",
    "    df['sinWind_direction'] = np.sin(df['wd'])\n",
    "\n",
    "    df['cosws'] = np.cos(df['ws'])\n",
    "    df['sinws'] = np.sin(df['ws'])\n",
    "\n",
    "    df['ws3'] = np.cos(df['ws']**3)\n",
    "    \n",
    "    return df"
   ]
  },
  {
   "cell_type": "code",
   "execution_count": 142,
   "id": "8b2cfad1-155f-42ef-b513-7a6635bb71db",
   "metadata": {
    "tags": []
   },
   "outputs": [],
   "source": [
    "def wp_getter(df, target, target_wp_col):\n",
    "    for date in target.date.unique():\n",
    "         df.loc[df.date == date, 'wp'] = target.loc[target.date == date, target_wp_col].values[0]\n",
    "    return df"
   ]
  },
  {
   "cell_type": "code",
   "execution_count": 143,
   "id": "652135d7-ace2-4ea2-98f7-cee59cbc7aab",
   "metadata": {
    "tags": []
   },
   "outputs": [],
   "source": [
    "def rolling_window_48h(df):\n",
    "    \"\"\"Makes a rolling window for each batch of 48h forecast. \n",
    "    The goal here is to take the 36h prior which have the smallest distance to forecast time. This way, \n",
    "    the forecast (u,v,ws...) used is more accurate.\"\"\"\n",
    "    df_rolled = pd.DataFrame()   \n",
    "    nb_48h = int(len(df)/48 + 1)\n",
    "    for i in range(4, nb_48h): \n",
    "            condition = (df.forecast >= i-3) & (df.forecast <= i)\n",
    "            forecast_48 = df[condition].sort_values(by = ['date', 'forecast_time'], ascending=[True, False])\n",
    "            forecast_48 = forecast_48.drop_duplicates(subset = 'date')\n",
    "            forecast_48 = rolling_windows(forecast_48)\n",
    "            forecast_48 = forecast_48[forecast_48.forecast == i]\n",
    "            df_rolled = pd.concat([df_rolled, forecast_48], ignore_index=True)\n",
    "    return df_rolled\n",
    "\n",
    "\n",
    "def rolling_windows(df):\n",
    "    # Wind speed\n",
    "    for i in [1, 2, 3, 4, 5, 6, 7, 8, 12, 24]:\n",
    "        df['ws_T_' + str(i)] = df['ws'].shift(i)     \n",
    "    \n",
    "    for i in [2, 3, 4, 5, 6, 7, 8, 9, 10, 11, 12, 24]:\n",
    "        df['ws_T_' + str(i) + '_mean'] = df['ws'].rolling(window = i).mean() \n",
    "        \n",
    "    for i in [2, 3, 4, 5, 6, 12]:\n",
    "        df['ws_T_' + str(i) + '_std'] = df['ws'].rolling(window = i).std()\n",
    "        \n",
    "    for i in [2, 3, 4, 5, 6, 12]:\n",
    "        df['ws_T_' + str(i) + '_median'] = df['ws'].rolling(window = i).median()\n",
    "        \n",
    "    for i in [1, 2, 3, 4, 5, 6, 12, 24]:\n",
    "        df['ws_T_' + str(i) + '_max'] = df['ws'].rolling(window = i).max()    \n",
    "        \n",
    "    for i in [1, 2, 3, 4, 5, 6, 12, 24]:\n",
    "        df['ws_T_' + str(i) + '_min'] = df['ws'].rolling(window = i).min()         \n",
    "       \n",
    "    # u \n",
    "    for i in [1, 2, 3, 4, 5, 6, 12, 24]:\n",
    "        df['x_T_' + str(i)] = df['u'].shift(i)\n",
    "        \n",
    "    for i in [2, 3, 4, 5, 6, 7, 8, 9, 10, 11, 12]:\n",
    "        df['x_T_' + str(i) + '_mean'] = df['u'].rolling(window = i).mean()  \n",
    "        \n",
    "    for i in [2, 3, 4, 5, 6]:\n",
    "        df['x_T_' + str(i) + '_std'] = df['u'].rolling(window = i).std()     \n",
    "        \n",
    "    # v\n",
    "    for i in [1, 2, 3, 4, 5, 6, 12, 24]:\n",
    "        df['y_T_' + str(i)] = df['v'].shift(i)\n",
    "        \n",
    "    for i in [2, 3, 4, 5, 6, 7, 8, 9, 10, 11, 12]:\n",
    "        df['y_T_' + str(i) + '_mean'] = df['v'].rolling(window = i).mean()  \n",
    "        \n",
    "    for i in [2, 3, 4, 5, 6]:\n",
    "        df['y_T_' + str(i) + '_std'] = df['v'].rolling(window = i).std()        \n",
    "\n",
    "    return df"
   ]
  },
  {
   "cell_type": "code",
   "execution_count": 177,
   "id": "19ba525d-c161-4b39-88ad-ec199e77bc02",
   "metadata": {
    "tags": []
   },
   "outputs": [],
   "source": [
    "def forecast_nb_to_predict(df, target_dates, start_forecastdate):\n",
    "    \"\"\"Returns a list of the forecast number to be predicted for the contest.\"\"\"\n",
    "    first_nb = df[df.forecast_time >= start_forecastdate].head(1).forecast.values[0]\n",
    "    nb_forecast = int(len(target_dates)/48)\n",
    "    cast_predict = [first_nb]\n",
    "    for i in range(1, nb_forecast):\n",
    "        cast_predict.append(cast_predict[i-1] + 7)\n",
    "    return cast_predict"
   ]
  },
  {
   "cell_type": "markdown",
   "id": "3bfa122b-2ae9-4dea-b5d9-9be7ea117984",
   "metadata": {},
   "source": [
    "# Date correction"
   ]
  },
  {
   "cell_type": "code",
   "execution_count": 144,
   "id": "5601464b-ace5-4377-9049-34e5f5b32cab",
   "metadata": {},
   "outputs": [],
   "source": [
    "training_data_1['date'] = training_data_1.date.apply(lambda x: integer2date(x))"
   ]
  },
  {
   "cell_type": "code",
   "execution_count": 145,
   "id": "aaf38471-e97c-4113-ad52-54154ea397fc",
   "metadata": {},
   "outputs": [],
   "source": [
    "testing_data_1['date'] = testing_data_1.date.apply(lambda x: integer2date(x))"
   ]
  },
  {
   "cell_type": "code",
   "execution_count": 146,
   "id": "d5a30cee-7a94-47ce-897d-64bf5dbdc530",
   "metadata": {},
   "outputs": [
    {
     "data": {
      "text/plain": [
       "155.0"
      ]
     },
     "execution_count": 146,
     "metadata": {},
     "output_type": "execute_result"
    }
   ],
   "source": [
    "len(testing_data_1)/48"
   ]
  },
  {
   "cell_type": "markdown",
   "id": "f3c6c372-4fa8-4a20-b06b-65039af64e3e",
   "metadata": {},
   "source": [
    "# WP1 preprocessing"
   ]
  },
  {
   "cell_type": "code",
   "execution_count": 147,
   "id": "dbc26eed-68d4-401a-9213-e899ce61fd2b",
   "metadata": {
    "tags": []
   },
   "outputs": [],
   "source": [
    "wp_1_forecast = forecast_batch(wp_1_forecast)\n",
    "wp_1_forecast = date_conversion(wp_1_forecast)\n",
    "wp_1_forecast = forecast_distance(wp_1_forecast)\n",
    "wp_1_forecast = feature_engineering(wp_1_forecast)"
   ]
  },
  {
   "cell_type": "code",
   "execution_count": 148,
   "id": "5efe8acd-954d-45a6-b46f-7b0880db2212",
   "metadata": {
    "scrolled": true,
    "tags": []
   },
   "outputs": [],
   "source": [
    "wp_1_forecast = wp_getter(wp_1_forecast, training_data_1, 'wp1')"
   ]
  },
  {
   "cell_type": "code",
   "execution_count": null,
   "id": "04eb9559-edd8-474a-84ea-d0a8af271799",
   "metadata": {},
   "outputs": [],
   "source": [
    "wp_1_forecast = rolling_window_48h(wp_1_forecast)"
   ]
  },
  {
   "cell_type": "markdown",
   "id": "0047b875-0a8f-4de5-abc7-3fc808e1cfef",
   "metadata": {},
   "source": [
    "## Cleaning the technical maintenance period"
   ]
  },
  {
   "cell_type": "code",
   "execution_count": 182,
   "id": "38edb728-f06e-4b02-992d-791a773bf389",
   "metadata": {},
   "outputs": [],
   "source": [
    "wp_to_predict = forecast_nb_to_predict(wp_1_forecast, testing_data_1, start_forecastdate)\n",
    "wp_1_forecast_cl = wp_1_forecast[~((wp_1_forecast.wp <=0) & (wp_1_forecast.ws > 3.3)) & (~wp_1_forecast.forecast.isin(wp_to_predict))]"
   ]
  },
  {
   "cell_type": "markdown",
   "id": "f11c807f-d825-4196-9579-058b2616538e",
   "metadata": {},
   "source": [
    "# Separation into training and testing data"
   ]
  },
  {
   "cell_type": "markdown",
   "id": "46a1fc36-5975-4f07-ac8c-3d5b0144942c",
   "metadata": {},
   "source": [
    "For the predicted data, I choose to take a larger sample in order to use the rolling_windows function"
   ]
  },
  {
   "cell_type": "code",
   "execution_count": 190,
   "id": "e0d48c61-6a7d-4d3f-a2f9-c33df698ba1c",
   "metadata": {},
   "outputs": [],
   "source": [
    "wp_1_training = wp_1_forecast[(wp_1_forecast.forecast_time < without_wp_date)]"
   ]
  },
  {
   "cell_type": "code",
   "execution_count": 152,
   "id": "3d9811c9-d067-4506-822a-5d26e9e9aa20",
   "metadata": {},
   "outputs": [],
   "source": [
    "# wp_1_testing = wp_1_forecast[(wp_1_forecast.date >= before_start_36h)]"
   ]
  },
  {
   "cell_type": "markdown",
   "id": "e7ea32f9-d178-408f-8199-9613c45f89c1",
   "metadata": {},
   "source": [
    "# Visualisation"
   ]
  },
  {
   "cell_type": "code",
   "execution_count": 154,
   "id": "1d552400-edeb-4131-9d84-9efb46b14d71",
   "metadata": {
    "collapsed": true,
    "jupyter": {
     "outputs_hidden": true
    },
    "tags": []
   },
   "outputs": [
    {
     "data": {
      "image/png": "[encoded data removed]",
      "text/plain": [
       "<Figure size 1440x1440 with 20 Axes>"
      ]
     },
     "metadata": {
      "needs_background": "light"
     },
     "output_type": "display_data"
    }
   ],
   "source": [
    "n_rows=5\n",
    "n_cols=4\n",
    "\n",
    "a4_dims = (20, 20)\n",
    "fig, axes = plt.subplots(nrows=n_rows, ncols=n_cols, figsize=a4_dims)\n",
    "\n",
    "for i, column in enumerate(wp_1_forecast.columns):\n",
    "    sns.histplot(wp_1_forecast[column],ax=axes[i//n_cols,i%n_cols])"
   ]
  },
  {
   "cell_type": "code",
   "execution_count": 150,
   "id": "9093a820-19dd-44c5-8138-81e534cb2a7c",
   "metadata": {
    "tags": []
   },
   "outputs": [],
   "source": [
    "# wp_1_test_data = wp_1_forecast[(wp_1_forecast.date >= start_date)].sort_values(by='date').head(4*48+4*36)\n",
    "# wp_1_test_data.groupby([wp_1_test_data[\"date\"].dt.year, wp_1_test_data[\"date\"].dt.month, wp_1_test_data[\"date\"].dt.day,  wp_1_test_data[\"date\"].dt.hour]).count().plot(kind=\"bar\", figsize=(40,5))"
   ]
  },
  {
   "cell_type": "markdown",
   "id": "39f0c3b2-5dc9-44b0-a1c8-858cea38a7e9",
   "metadata": {},
   "source": [
    "# A discuter"
   ]
  },
  {
   "cell_type": "markdown",
   "id": "ad7578cf-9dd9-424f-9b14-b672b6561c56",
   "metadata": {},
   "source": [
    "**To discuss**: Est ce que forecast de la date du test peut être conservée si elle a été émise avant la date test ? (Selon moi oui, mais ce sera dommage d'être disqualifiés pour ça)\n",
    "\n",
    "***Update 2***:\n",
    "- Je retire l'idée des 48h à envoyer au modèle, c'est une très très mauvaise idée! Par contre j'ai bien rajouté une colonne forecast_dist qui donne la distance entre l'heure du forecast et la date de la météo forecast.\n",
    "- Pour les heures de maintenance, le mieux c'est de les retirer. Au départ j'ai pensé à de l'imputation avec la médian, mais on parle de notre target. Ca indurait trop de biais, et ça nous fait perdre que peu de donnée de juste la retirer. On perd 6% de notre donnée entre les retirant...\n",
    "- Pour le rolling window, je le fais directement sur le jeu de donnée entier. Au final je m'embetais à séparer test and train en pensant qu'il y avait les 3 forecast après les 48h à prédire qui étaient manquants. En fait fait ils sont dans le jeu, juste en NaN au niveau de u,v,... Donc ça maintient la continuité temporelle ! \n",
    "\n",
    "Dès que l'on sera OK sur le preprocessing, il faudra se créer une classe Model, avec tout le preprocessing. Ensuite, il faudra enregistrer les jeux de données, et faire note cross validation sur plusieurs modèles. Je pense qu'on peut prévoir un modèle par ferme. "
   ]
  },
  {
   "cell_type": "code",
   "execution_count": null,
   "id": "b37bdf6c-2739-4a98-bd92-96c669d2ff8b",
   "metadata": {
    "tags": []
   },
   "outputs": [],
   "source": [
    "# X = training_data['ws'].values.reshape(-1, 1)\n",
    "# y = training_data['wp1'].values.reshape(-1, 1)\n",
    "\n",
    "\n",
    "# poly_reg = PolynomialFeatures(degree=3)\n",
    "# X_poly = poly_reg.fit_transform(X)\n",
    "# pol_reg = LinearRegression()\n",
    "# pol_reg.fit(X_poly, y)\n",
    "\n",
    "# def viz_polymonial(X, y, pol_reg):\n",
    "#     plt.scatter(X, y, color='red')\n",
    "#     plt.plot(X, pol_reg.predict(poly_reg.fit_transform(X)), color='blue')\n",
    "#     plt.title('Linear Regression')\n",
    "#     plt.xlabel('Wind speed')\n",
    "#     plt.ylabel('Wind power')\n",
    "#     plt.show()\n",
    "#     return\n",
    "\n",
    "# # training_data['theoretical_power'] = pol_reg.predict(poly_reg.fit_transform(X))\n",
    "# viz_polymonial(X, y, pol_reg)"
   ]
  }
 ],
 "metadata": {
  "kernelspec": {
   "display_name": "Python 3",
   "language": "python",
   "name": "python3"
  },
  "language_info": {
   "codemirror_mode": {
    "name": "ipython",
    "version": 3
   },
   "file_extension": ".py",
   "mimetype": "text/x-python",
   "name": "python",
   "nbconvert_exporter": "python",
   "pygments_lexer": "ipython3",
   "version": "3.8.5"
  }
 },
 "nbformat": 4,
 "nbformat_minor": 5
}
