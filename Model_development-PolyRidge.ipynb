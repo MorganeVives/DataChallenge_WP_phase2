{
 "cells": [
  {
   "cell_type": "markdown",
   "id": "261ec557-50a0-4cd6-8bec-268d1dee685a",
   "metadata": {},
   "source": [
    "# Model development"
   ]
  },
  {
   "cell_type": "markdown",
   "id": "080db2e8-f090-42a3-9f49-d563a929c6ef",
   "metadata": {},
   "source": [
    "Ici on fait nos modèles et prédictions. Le mieux c'est de faire des parties par modèles je pense ?"
   ]
  },
  {
   "cell_type": "markdown",
   "id": "ec86fdcd-e169-4431-8b0b-10686b89feca",
   "metadata": {},
   "source": [
    "Il faut aussi qu'on trouve un nomenclature pour les modèles si on les enregistre, afin de garder en tête les différents résultats"
   ]
  },
  {
   "cell_type": "code",
   "execution_count": 1,
   "id": "1399bb0f-0234-43a6-b724-73f21f9b28b7",
   "metadata": {},
   "outputs": [],
   "source": [
    "import pandas as pd\n",
    "import seaborn as sns\n",
    "import openpyxl\n",
    "from datetime import datetime, timedelta\n",
    "import matplotlib.pyplot as plt\n",
    "import numpy as np\n",
    "import os\n",
    "import pickle"
   ]
  },
  {
   "cell_type": "code",
   "execution_count": 2,
   "id": "9a662ef3-a957-41fe-955d-1c5e99709226",
   "metadata": {},
   "outputs": [],
   "source": [
    "from sklearn.model_selection import KFold, train_test_split\n",
    "from sklearn.linear_model import RidgeCV\n",
    "from sklearn.metrics import mean_squared_error, mean_absolute_error\n",
    "from sklearn.pipeline import Pipeline\n",
    "from sklearn.preprocessing import MinMaxScaler, StandardScaler\n",
    "from sklearn.preprocessing import PolynomialFeatures\n",
    "\n",
    "import optuna"
   ]
  },
  {
   "cell_type": "code",
   "execution_count": 3,
   "id": "0bc7dfff-4363-41ad-bfd2-5e5dd7c0ef63",
   "metadata": {},
   "outputs": [],
   "source": [
    "from Functions.helper_functions import * "
   ]
  },
  {
   "cell_type": "code",
   "execution_count": 4,
   "id": "3c184629-3914-4a2c-ba3f-5f111909f344",
   "metadata": {},
   "outputs": [],
   "source": [
    "import warnings\n",
    "warnings.filterwarnings(action='ignore', category=UserWarning)\n",
    "pd.options.mode.chained_assignment = None  # default='warn'"
   ]
  },
  {
   "cell_type": "code",
   "execution_count": 5,
   "id": "6333588b-f1b0-4a5b-afea-e53064be0d99",
   "metadata": {},
   "outputs": [],
   "source": [
    "np.random.seed(42)"
   ]
  },
  {
   "cell_type": "markdown",
   "id": "b617c0f5-e679-4a3f-9a62-12e03303d11f",
   "metadata": {},
   "source": [
    "# Data"
   ]
  },
  {
   "cell_type": "code",
   "execution_count": 6,
   "id": "c4d3258c-6931-447d-84b7-ac52ed05673a",
   "metadata": {},
   "outputs": [],
   "source": [
    "train_wp1 = pd.read_csv('Data/Preprocessing/WP1_train_preprocessed.csv', sep=',')\n",
    "train_wp2 = pd.read_csv('Data/Preprocessing/WP2_train_preprocessed.csv', sep=',')\n",
    "train_wp3 = pd.read_csv('Data/Preprocessing/WP3_train_preprocessed.csv', sep=',')\n",
    "train_wp4 = pd.read_csv('Data/Preprocessing/WP4_train_preprocessed.csv', sep=',')\n",
    "train_wp5 = pd.read_csv('Data/Preprocessing/WP5_train_preprocessed.csv', sep=',')\n",
    "train_wp6 = pd.read_csv('Data/Preprocessing/WP6_train_preprocessed.csv', sep=',')"
   ]
  },
  {
   "cell_type": "code",
   "execution_count": 7,
   "id": "69f752d4-63ed-43b9-9315-41ecaa114ce4",
   "metadata": {},
   "outputs": [],
   "source": [
    "test_wp1 = pd.read_csv('Data/Preprocessing/WP1_test_preprocessed.csv', sep=',')\n",
    "test_wp2 = pd.read_csv('Data/Preprocessing/WP2_test_preprocessed.csv', sep=',')\n",
    "test_wp3 = pd.read_csv('Data/Preprocessing/WP3_test_preprocessed.csv', sep=',')\n",
    "test_wp4 = pd.read_csv('Data/Preprocessing/WP4_test_preprocessed.csv', sep=',')\n",
    "test_wp5 = pd.read_csv('Data/Preprocessing/WP5_test_preprocessed.csv', sep=',')\n",
    "test_wp6 = pd.read_csv('Data/Preprocessing/WP6_test_preprocessed.csv', sep=',')\n",
    "test_dates = pd.read_csv('Data/Initial/test.csv', sep=',').date.values"
   ]
  },
  {
   "cell_type": "code",
   "execution_count": 8,
   "id": "7540aa92-fc5e-4431-8e79-faba9f0cecad",
   "metadata": {},
   "outputs": [],
   "source": [
    "to_drop = ['date','wd','forecast_time', 'forecast', \"forecast_dist\"]"
   ]
  },
  {
   "cell_type": "code",
   "execution_count": 9,
   "id": "68a3b615-3cc3-4942-afdf-911b5d03aea8",
   "metadata": {},
   "outputs": [],
   "source": [
    "u_to_drop = [\n",
    "    'u_T_1', 'u_T_2', 'u_T_3', 'u_T_4', 'u_T_5', 'u_T_6', \n",
    "    'u_T_2_mean', 'u_T_3_mean', 'u_T_4_mean', 'u_T_5_mean', 'u_T_6_mean', 'u_T_7_mean',\n",
    "    'u_T_8_mean', 'u_T_9_mean', 'u_T_10_mean', 'u_T_11_mean', 'u_T_12_mean','u_T_24_mean',\n",
    "    'u_T_2_std', 'u_T_4_std', 'u_T_5_std', 'u_T_6_std',\n",
    "    'u_T_2_median', 'u_T_3_median', 'u_T_4_median', 'u_T_5_median', 'u_T_6_median', 'u_T_12_median','u_T_24_median', 'u_T_36_median',\n",
    "    'u_T_2_max', 'u_T_3_max', 'u_T_4_max', 'u_T_5_max', 'u_T_6_max', 'u_T_12_max',\n",
    "    'u_T_2_min', 'u_T_3_min', 'u_T_4_min', 'u_T_5_min', 'u_T_6_min', 'u_T_12_min',\n",
    "    'u2_T_1', 'u2_T_2', 'u2_T_3', 'u2_T_4', 'u2_T_5', 'u2_T_6', \n",
    "    'u2_T_2_mean', 'u2_T_3_mean', 'u2_T_4_mean', 'u2_T_5_mean', 'u2_T_6_mean', 'u2_T_7_mean',\n",
    "    'u2_T_8_mean', 'u2_T_9_mean', 'u2_T_10_mean', 'u2_T_11_mean', 'u2_T_12_mean','u2_T_24_mean',\n",
    "    'u2_T_2_std', 'u2_T_4_std', 'u2_T_5_std', 'u2_T_6_std', 'u2_T_24_std',\n",
    "    'u2_T_2_median', 'u2_T_3_median', 'u2_T_4_median', 'u2_T_5_median', 'u2_T_6_median', 'u2_T_12_median',\n",
    "    'u2_T_2_max','u2_T_3_max', 'u2_T_4_max','u2_T_5_max', 'u2_T_6_max', 'u2_T_12_max',\n",
    "    'u2_T_2_min', 'u2_T_3_min', 'u2_T_4_min', 'u2_T_5_min', 'u2_T_6_min',\n",
    "    'u2_T_12', 'u2_T_36_mean', 'u2_T_36_std', 'u2_T_24_median', 'u2_T_24_max',\n",
    "    'u_T_36_mean','u_T_12','u_T_24_max','u2_T_36_median','u_T_24_min'\n",
    "]\n",
    "ws_to_drop = [\n",
    "    'ws_T_1', 'ws_T_2', 'ws_T_3', 'ws_T_4', 'ws_T_5', 'ws_T_6', 'ws_T_7', 'ws_T_8', 'ws_T_10','ws_T_11', 'ws_T_12',\n",
    "    'ws_T_2_mean', 'ws_T_3_mean', 'ws_T_4_mean', 'ws_T_5_mean', 'ws_T_6_mean', 'ws_T_7_mean', 'ws_T_8_mean', 'ws_T_9_mean', \n",
    "    'ws_T_10_mean', 'ws_T_11_mean', 'ws_T_12_mean', 'ws_T_24_mean', \n",
    "    'ws_T_2_std', 'ws_T_3_std', 'ws_T_4_std', 'ws_T_5_std', \n",
    "    'ws_T_2_median', 'ws_T_3_median', 'ws_T_4_median', 'ws_T_5_median', 'ws_T_6_median',\n",
    "    'ws_T_12_median', 'ws_T_24_median', 'ws_T_36_median',\n",
    "    'ws_T_2_max', 'ws_T_3_max', 'ws_T_4_max', 'ws_T_5_max','ws_T_6_max', 'ws_T_12_max',\n",
    "     'ws_T_2_min', 'ws_T_3_min', 'ws_T_4_min', 'ws_T_5_min', 'ws_T_6_min', 'ws_T_12_min','ws_T_24_max','ws_T_24_min'\n",
    "]\n",
    "\n",
    "v_to_drop = [\n",
    "    'v_T_1', 'v_T_2', 'v_T_3', 'v_T_4', 'v_T_5', 'v_T_6', \n",
    "    'v_T_2_mean', 'v_T_3_mean', 'v_T_4_mean', 'v_T_5_mean', 'v_T_6_mean', 'v_T_7_mean',\n",
    "    'v_T_8_mean', 'v_T_9_mean', 'v_T_10_mean', 'v_T_11_mean', 'v_T_12_mean', 'v_T_24_mean','v_T_36_mean',\n",
    "    'v_T_3_std', 'v_T_4_std', 'v_T_5_std','v_T_6_std','v_T_24_std', 'v_T_36_median',\n",
    "    'v_T_2_median', 'v_T_3_median', 'v_T_4_median', 'v_T_5_median', 'v_T_6_median', \n",
    "    'v_T_2_max', 'v_T_3_max', 'v_T_4_max', 'v_T_5_max', 'v_T_6_max', 'v_T_12_max', \n",
    "    'v_T_2_min', 'v_T_3_min', 'v_T_4_min', 'v_T_5_min', 'v_T_6_min', 'v_T_12_min', \n",
    "    'v_T_36_min', 'v_T_36', 'v_T_24_max',  'v_T_12_median', 'v_T_24_median',\n",
    "]\n",
    "\n",
    "wd_to_drop = [\n",
    "    'coswd_1', 'coswd_2', 'coswd_3', 'coswd_4', 'coswd_5', 'coswd_6',\n",
    "    'coswd_2_mean', 'coswd_3_mean', 'coswd_4_mean', 'coswd_5_mean', 'coswd_6_mean', 'coswd_7_mean', \n",
    "    'coswd_8_mean', 'coswd_9_mean', 'coswd_10_mean', 'coswd_11_mean', 'coswd_12_mean', 'coswd_24_mean', \n",
    "    'coswd_3_std', 'coswd_4_std','coswd_5_std','coswd_2_median', 'coswd_3_median','coswd_4_median', \n",
    "    'coswd_5_median', 'coswd_6_median', 'coswd_36_median', 'coswd_24_median', 'coswd_12_median',\n",
    "    'coswd_2_max', 'coswd_3_max', 'coswd_4_max', 'coswd_5_max', 'coswd_6_max', 'coswd_12_max', 'coswd_24_max',\n",
    "    'coswd_2_min', 'coswd_3_min', 'coswd_4_min', 'coswd_5_min', 'coswd_6_min', 'coswd_12_min', 'coswd_24_min',\n",
    "    'ws_T_36_max', 'ws_T_36_min', 'coswd_12', 'coswd_24'\n",
    "]\n",
    "\n",
    "other_to_drop = [\n",
    "    'cos_day', 'u', 'v'\n",
    "]\n",
    "\n",
    "feature_corr = u_to_drop+ws_to_drop+v_to_drop+wd_to_drop+other_to_drop\n",
    "to_drop = feature_corr+to_drop"
   ]
  },
  {
   "cell_type": "markdown",
   "id": "d0204367-344e-4837-9d27-c07833112862",
   "metadata": {},
   "source": [
    "# RidgeCV"
   ]
  },
  {
   "cell_type": "code",
   "execution_count": 10,
   "id": "c84ef189-289c-4da5-98e5-1a94fbb3d264",
   "metadata": {},
   "outputs": [],
   "source": [
    "def ridge_cross_validation(X, y, scaler):\n",
    "    if scaler == 'minmax':\n",
    "        model = Pipeline([('scaler', MinMaxScaler()),('ridge', RidgeCV(alphas = [1e-3, 1e-2, 1e-1, 1]))])\n",
    "    else:\n",
    "        model = Pipeline([('scaler', StandardScaler()),('ridge', RidgeCV(alphas = [1e-3, 1e-2, 1e-1, 1]))])\n",
    "\n",
    "    print('-----------RIDGECV CROSS VALIDATION BEGINNING-----------')\n",
    "    split = 10\n",
    "    kf = KFold(n_splits=split, shuffle=True)       \n",
    "    ridge_rmse_scores = []\n",
    "    ridge_mae_scores = []\n",
    "    i = 1\n",
    "    for (train_index, test_index) in kf.split(pd.DataFrame(X), pd.DataFrame(y)):\n",
    "        X_train, X_test = pd.DataFrame(X).iloc[train_index], pd.DataFrame(X).iloc[test_index]\n",
    "        Y_train, Y_test = pd.DataFrame(y).iloc[train_index],pd.DataFrame(y).iloc[test_index]\n",
    "\n",
    "        model.fit(X_train, Y_train)\n",
    "        \n",
    "        prediction = model.predict(X_test)\n",
    "        prediction = [0 if i < 0 else i for i in prediction]\n",
    "        prediction = [Y_test.wp.max() if i > Y_test.wp.max() else i for i in prediction]\n",
    "        \n",
    "        ridge_rmse_scores.append(mean_squared_error(Y_test, prediction,squared=False))\n",
    "        ridge_mae_scores.append(mean_absolute_error(Y_test, prediction))\n",
    "        \n",
    "        print(show_evaluation(prediction, Y_test))\n",
    "        print(f'-------------------FOLD {i}-----------------')\n",
    "        i+=1\n",
    "\n",
    "    print('---------------CROSS VALIDATION COMPLETE-------------')\n",
    "    print('--------------------------RMSE-----------------------')\n",
    "    display_scores(ridge_rmse_scores)\n",
    "    print('--------------------------MAE------------------------')\n",
    "    display_scores(ridge_mae_scores)"
   ]
  },
  {
   "cell_type": "markdown",
   "id": "bbc3509e-c676-463f-97ac-c0ac98b5f3ed",
   "metadata": {},
   "source": [
    "## WP1 "
   ]
  },
  {
   "cell_type": "code",
   "execution_count": 11,
   "id": "70c3af58-11fa-437e-80d2-d58c9901ce08",
   "metadata": {},
   "outputs": [],
   "source": [
    "wp1_X = train_wp1[[c for c in train_wp1 if c not in [\"wp\"]] + [\"wp\"]].drop(to_drop, axis = 1)\n",
    "X1 = wp1_X.drop('wp', axis=1)\n",
    "y1 = wp1_X['wp']"
   ]
  },
  {
   "cell_type": "code",
   "execution_count": 12,
   "id": "ce60b0b1-b92e-42aa-8734-07709f0dc159",
   "metadata": {
    "tags": []
   },
   "outputs": [
    {
     "name": "stdout",
     "output_type": "stream",
     "text": [
      "-----------RIDGECV CROSS VALIDATION BEGINNING-----------\n",
      "RMSE score: 0.15714193061179552\n",
      "MAE score: 0.11716140359583194\n",
      "None\n",
      "-------------------FOLD 1-----------------\n",
      "RMSE score: 0.15639769397558537\n",
      "MAE score: 0.11729927677637784\n",
      "None\n",
      "-------------------FOLD 2-----------------\n",
      "RMSE score: 0.15578578239613716\n",
      "MAE score: 0.1161580638565696\n",
      "None\n",
      "-------------------FOLD 3-----------------\n",
      "RMSE score: 0.15824561727426106\n",
      "MAE score: 0.11881950200698262\n",
      "None\n",
      "-------------------FOLD 4-----------------\n",
      "RMSE score: 0.1575995842317239\n",
      "MAE score: 0.11765013545543963\n",
      "None\n",
      "-------------------FOLD 5-----------------\n",
      "RMSE score: 0.15539547474615323\n",
      "MAE score: 0.11531249529876327\n",
      "None\n",
      "-------------------FOLD 6-----------------\n",
      "RMSE score: 0.1591913852686654\n",
      "MAE score: 0.11857716735661045\n",
      "None\n",
      "-------------------FOLD 7-----------------\n",
      "RMSE score: 0.1564258281314072\n",
      "MAE score: 0.11672662727844012\n",
      "None\n",
      "-------------------FOLD 8-----------------\n",
      "RMSE score: 0.16177848210129075\n",
      "MAE score: 0.1217152888836149\n",
      "None\n",
      "-------------------FOLD 9-----------------\n",
      "RMSE score: 0.15485932854503823\n",
      "MAE score: 0.11575995207422465\n",
      "None\n",
      "-------------------FOLD 10-----------------\n",
      "---------------CROSS VALIDATION COMPLETE-------------\n",
      "--------------------------RMSE-----------------------\n",
      "Scores: [0.15714193061179552, 0.15639769397558537, 0.15578578239613716, 0.15824561727426106, 0.1575995842317239, 0.15539547474615323, 0.1591913852686654, 0.1564258281314072, 0.16177848210129075, 0.15485932854503823]\n",
      "Mean: 0.1572821107282058\n",
      "Std: 0.0019517978825023372\n",
      "--------------------------MAE------------------------\n",
      "Scores: [0.11716140359583194, 0.11729927677637784, 0.1161580638565696, 0.11881950200698262, 0.11765013545543963, 0.11531249529876327, 0.11857716735661045, 0.11672662727844012, 0.1217152888836149, 0.11575995207422465]\n",
      "Mean: 0.1175179912582855\n",
      "Std: 0.0017622746140423522\n"
     ]
    }
   ],
   "source": [
    "ridge_cross_validation(X1, y1, 'minmax')"
   ]
  },
  {
   "cell_type": "markdown",
   "id": "2d4d08ad-3af3-408b-8834-57c1349d328a",
   "metadata": {},
   "source": [
    "## WP2"
   ]
  },
  {
   "cell_type": "code",
   "execution_count": 13,
   "id": "e6b8fee4-9fba-4818-a7df-29cd5d3806ad",
   "metadata": {},
   "outputs": [],
   "source": [
    "wp2_X = train_wp2[[c for c in train_wp2 if c not in [\"wp\"]] + [\"wp\"]].drop(to_drop, axis = 1)\n",
    "X2 = wp2_X.drop('wp', axis=1)\n",
    "y2 = wp2_X['wp']"
   ]
  },
  {
   "cell_type": "code",
   "execution_count": 14,
   "id": "e297d1bd-f11e-4f8b-9fe2-634e78ca9c85",
   "metadata": {
    "tags": []
   },
   "outputs": [
    {
     "name": "stdout",
     "output_type": "stream",
     "text": [
      "-----------RIDGECV CROSS VALIDATION BEGINNING-----------\n",
      "RMSE score: 0.1643467031691214\n",
      "MAE score: 0.12053765508493974\n",
      "None\n",
      "-------------------FOLD 1-----------------\n",
      "RMSE score: 0.1724295341867724\n",
      "MAE score: 0.12741507459822363\n",
      "None\n",
      "-------------------FOLD 2-----------------\n",
      "RMSE score: 0.16540086834693246\n",
      "MAE score: 0.12230310462787282\n",
      "None\n",
      "-------------------FOLD 3-----------------\n",
      "RMSE score: 0.1709641558665732\n",
      "MAE score: 0.12686077354371794\n",
      "None\n",
      "-------------------FOLD 4-----------------\n",
      "RMSE score: 0.16949514084412498\n",
      "MAE score: 0.12515630992998844\n",
      "None\n",
      "-------------------FOLD 5-----------------\n",
      "RMSE score: 0.16514875997275655\n",
      "MAE score: 0.12272517869440792\n",
      "None\n",
      "-------------------FOLD 6-----------------\n",
      "RMSE score: 0.17205582623058557\n",
      "MAE score: 0.1285501716543369\n",
      "None\n",
      "-------------------FOLD 7-----------------\n",
      "RMSE score: 0.17221329180192915\n",
      "MAE score: 0.1267402019071862\n",
      "None\n",
      "-------------------FOLD 8-----------------\n",
      "RMSE score: 0.17049331863553308\n",
      "MAE score: 0.1241862036206829\n",
      "None\n",
      "-------------------FOLD 9-----------------\n",
      "RMSE score: 0.1688713107590264\n",
      "MAE score: 0.12393141089605755\n",
      "None\n",
      "-------------------FOLD 10-----------------\n",
      "---------------CROSS VALIDATION COMPLETE-------------\n",
      "--------------------------RMSE-----------------------\n",
      "Scores: [0.1643467031691214, 0.1724295341867724, 0.16540086834693246, 0.1709641558665732, 0.16949514084412498, 0.16514875997275655, 0.17205582623058557, 0.17221329180192915, 0.17049331863553308, 0.1688713107590264]\n",
      "Mean: 0.1691418909813355\n",
      "Std: 0.002949784676544784\n",
      "--------------------------MAE------------------------\n",
      "Scores: [0.12053765508493974, 0.12741507459822363, 0.12230310462787282, 0.12686077354371794, 0.12515630992998844, 0.12272517869440792, 0.1285501716543369, 0.1267402019071862, 0.1241862036206829, 0.12393141089605755]\n",
      "Mean: 0.12484060845574141\n",
      "Std: 0.002426153067739419\n"
     ]
    }
   ],
   "source": [
    "ridge_cross_validation(X2, y2, 'minmax')"
   ]
  },
  {
   "cell_type": "markdown",
   "id": "966468d2-d1a2-4c0a-a190-c37d85ef61f5",
   "metadata": {},
   "source": [
    "## WP3"
   ]
  },
  {
   "cell_type": "code",
   "execution_count": 15,
   "id": "1a19adfe-a591-4616-827c-70140477879b",
   "metadata": {},
   "outputs": [],
   "source": [
    "wp3_X = train_wp3[[c for c in train_wp3 if c not in [\"wp\"]] + [\"wp\"]].drop(to_drop, axis = 1)\n",
    "X3 = wp3_X.drop('wp', axis = 1)\n",
    "y3 = wp3_X['wp']"
   ]
  },
  {
   "cell_type": "code",
   "execution_count": 16,
   "id": "de738d33-8e08-49d4-af3f-0e3fc5609cec",
   "metadata": {
    "tags": []
   },
   "outputs": [
    {
     "name": "stdout",
     "output_type": "stream",
     "text": [
      "-----------RIDGECV CROSS VALIDATION BEGINNING-----------\n",
      "RMSE score: 0.16809392636339116\n",
      "MAE score: 0.1272431980441684\n",
      "None\n",
      "-------------------FOLD 1-----------------\n",
      "RMSE score: 0.17132685789652488\n",
      "MAE score: 0.12886432399264128\n",
      "None\n",
      "-------------------FOLD 2-----------------\n",
      "RMSE score: 0.17490474443834758\n",
      "MAE score: 0.13197879805774906\n",
      "None\n",
      "-------------------FOLD 3-----------------\n",
      "RMSE score: 0.16995819711093788\n",
      "MAE score: 0.12873045193851276\n",
      "None\n",
      "-------------------FOLD 4-----------------\n",
      "RMSE score: 0.17256352902564087\n",
      "MAE score: 0.1302465830363438\n",
      "None\n",
      "-------------------FOLD 5-----------------\n",
      "RMSE score: 0.1738219963346922\n",
      "MAE score: 0.1315325870065274\n",
      "None\n",
      "-------------------FOLD 6-----------------\n",
      "RMSE score: 0.17435116705992212\n",
      "MAE score: 0.131595627530549\n",
      "None\n",
      "-------------------FOLD 7-----------------\n",
      "RMSE score: 0.17179630195485998\n",
      "MAE score: 0.13065157807040956\n",
      "None\n",
      "-------------------FOLD 8-----------------\n",
      "RMSE score: 0.17289397688691976\n",
      "MAE score: 0.13092038040728327\n",
      "None\n",
      "-------------------FOLD 9-----------------\n",
      "RMSE score: 0.1707978624173378\n",
      "MAE score: 0.1294627528241947\n",
      "None\n",
      "-------------------FOLD 10-----------------\n",
      "---------------CROSS VALIDATION COMPLETE-------------\n",
      "--------------------------RMSE-----------------------\n",
      "Scores: [0.16809392636339116, 0.17132685789652488, 0.17490474443834758, 0.16995819711093788, 0.17256352902564087, 0.1738219963346922, 0.17435116705992212, 0.17179630195485998, 0.17289397688691976, 0.1707978624173378]\n",
      "Mean: 0.17205085594885744\n",
      "Std: 0.001993544884025871\n",
      "--------------------------MAE------------------------\n",
      "Scores: [0.1272431980441684, 0.12886432399264128, 0.13197879805774906, 0.12873045193851276, 0.1302465830363438, 0.1315325870065274, 0.131595627530549, 0.13065157807040956, 0.13092038040728327, 0.1294627528241947]\n",
      "Mean: 0.1301226280908379\n",
      "Std: 0.0014416198011616818\n"
     ]
    }
   ],
   "source": [
    "ridge_cross_validation(X3, y3, 'minmax')"
   ]
  },
  {
   "cell_type": "markdown",
   "id": "cdc76c8c-9cc7-441f-b25e-e1ecf293298e",
   "metadata": {},
   "source": [
    "## WP4"
   ]
  },
  {
   "cell_type": "code",
   "execution_count": 17,
   "id": "185fd52e-5fe9-4ab7-817d-03feda6a42ab",
   "metadata": {},
   "outputs": [],
   "source": [
    "wp4_X = train_wp4[[c for c in train_wp4 if c not in [\"wp\"]] + [\"wp\"]].drop(to_drop, axis = 1)\n",
    "X4 = wp4_X.drop('wp', axis = 1)\n",
    "y4 = wp4_X['wp']"
   ]
  },
  {
   "cell_type": "code",
   "execution_count": 18,
   "id": "c96a6e3e-8a1b-4fe9-a162-1f2fa994023d",
   "metadata": {
    "tags": []
   },
   "outputs": [
    {
     "name": "stdout",
     "output_type": "stream",
     "text": [
      "-----------RIDGECV CROSS VALIDATION BEGINNING-----------\n",
      "RMSE score: 0.15624125564212518\n",
      "MAE score: 0.11793165609669976\n",
      "None\n",
      "-------------------FOLD 1-----------------\n",
      "RMSE score: 0.1547731580815974\n",
      "MAE score: 0.11684807821529153\n",
      "None\n",
      "-------------------FOLD 2-----------------\n",
      "RMSE score: 0.15852850083865822\n",
      "MAE score: 0.12055334685140717\n",
      "None\n",
      "-------------------FOLD 3-----------------\n",
      "RMSE score: 0.15886802773783193\n",
      "MAE score: 0.12031326293054939\n",
      "None\n",
      "-------------------FOLD 4-----------------\n",
      "RMSE score: 0.15750395725028324\n",
      "MAE score: 0.11863586576036554\n",
      "None\n",
      "-------------------FOLD 5-----------------\n",
      "RMSE score: 0.15562014793657358\n",
      "MAE score: 0.11849485470615498\n",
      "None\n",
      "-------------------FOLD 6-----------------\n",
      "RMSE score: 0.1551631907304398\n",
      "MAE score: 0.11851312514385284\n",
      "None\n",
      "-------------------FOLD 7-----------------\n",
      "RMSE score: 0.1562716628780599\n",
      "MAE score: 0.11797216790512659\n",
      "None\n",
      "-------------------FOLD 8-----------------\n",
      "RMSE score: 0.1584149569741389\n",
      "MAE score: 0.11930623487803022\n",
      "None\n",
      "-------------------FOLD 9-----------------\n",
      "RMSE score: 0.15698477333633248\n",
      "MAE score: 0.11899842051886712\n",
      "None\n",
      "-------------------FOLD 10-----------------\n",
      "---------------CROSS VALIDATION COMPLETE-------------\n",
      "--------------------------RMSE-----------------------\n",
      "Scores: [0.15624125564212518, 0.1547731580815974, 0.15852850083865822, 0.15886802773783193, 0.15750395725028324, 0.15562014793657358, 0.1551631907304398, 0.1562716628780599, 0.1584149569741389, 0.15698477333633248]\n",
      "Mean: 0.15683696314060408\n",
      "Std: 0.001384167373223973\n",
      "--------------------------MAE------------------------\n",
      "Scores: [0.11793165609669976, 0.11684807821529153, 0.12055334685140717, 0.12031326293054939, 0.11863586576036554, 0.11849485470615498, 0.11851312514385284, 0.11797216790512659, 0.11930623487803022, 0.11899842051886712]\n",
      "Mean: 0.11875670130063451\n",
      "Std: 0.001053221876248069\n"
     ]
    }
   ],
   "source": [
    "ridge_cross_validation(X4, y4, 'minmax')"
   ]
  },
  {
   "cell_type": "markdown",
   "id": "640e4455-cfc5-493a-b3e6-95b608171368",
   "metadata": {},
   "source": [
    "## WP5"
   ]
  },
  {
   "cell_type": "code",
   "execution_count": 19,
   "id": "44f38883-24ef-46f1-bc0b-1070f4e36d2f",
   "metadata": {},
   "outputs": [],
   "source": [
    "wp5_X = train_wp5[[c for c in train_wp5 if c not in [\"wp\"]] + [\"wp\"]].drop(to_drop, axis = 1)\n",
    "X5 = wp5_X.drop('wp', axis = 1)\n",
    "y5 = wp5_X['wp']"
   ]
  },
  {
   "cell_type": "code",
   "execution_count": 20,
   "id": "c4ece078-3e34-4754-b23c-1ba712563b3e",
   "metadata": {
    "tags": []
   },
   "outputs": [
    {
     "name": "stdout",
     "output_type": "stream",
     "text": [
      "-----------RIDGECV CROSS VALIDATION BEGINNING-----------\n",
      "RMSE score: 0.17228265445529223\n",
      "MAE score: 0.12975811632983286\n",
      "None\n",
      "-------------------FOLD 1-----------------\n",
      "RMSE score: 0.17094715933454124\n",
      "MAE score: 0.1289937894252428\n",
      "None\n",
      "-------------------FOLD 2-----------------\n",
      "RMSE score: 0.1726040781211631\n",
      "MAE score: 0.13125926206156402\n",
      "None\n",
      "-------------------FOLD 3-----------------\n",
      "RMSE score: 0.17262042488533672\n",
      "MAE score: 0.1312218382823617\n",
      "None\n",
      "-------------------FOLD 4-----------------\n",
      "RMSE score: 0.1740750050882022\n",
      "MAE score: 0.13174705864582933\n",
      "None\n",
      "-------------------FOLD 5-----------------\n",
      "RMSE score: 0.16921134305462857\n",
      "MAE score: 0.12770567062225607\n",
      "None\n",
      "-------------------FOLD 6-----------------\n",
      "RMSE score: 0.1707356765107346\n",
      "MAE score: 0.1291456408744331\n",
      "None\n",
      "-------------------FOLD 7-----------------\n",
      "RMSE score: 0.1702382864773385\n",
      "MAE score: 0.12910443878185449\n",
      "None\n",
      "-------------------FOLD 8-----------------\n",
      "RMSE score: 0.16892929930681405\n",
      "MAE score: 0.12704293954257861\n",
      "None\n",
      "-------------------FOLD 9-----------------\n",
      "RMSE score: 0.17007169052415377\n",
      "MAE score: 0.12855556790162379\n",
      "None\n",
      "-------------------FOLD 10-----------------\n",
      "---------------CROSS VALIDATION COMPLETE-------------\n",
      "--------------------------RMSE-----------------------\n",
      "Scores: [0.17228265445529223, 0.17094715933454124, 0.1726040781211631, 0.17262042488533672, 0.1740750050882022, 0.16921134305462857, 0.1707356765107346, 0.1702382864773385, 0.16892929930681405, 0.17007169052415377]\n",
      "Mean: 0.1711715617758205\n",
      "Std: 0.0015813629497423215\n",
      "--------------------------MAE------------------------\n",
      "Scores: [0.12975811632983286, 0.1289937894252428, 0.13125926206156402, 0.1312218382823617, 0.13174705864582933, 0.12770567062225607, 0.1291456408744331, 0.12910443878185449, 0.12704293954257861, 0.12855556790162379]\n",
      "Mean: 0.12945343224675765\n",
      "Std: 0.0014778682391146528\n"
     ]
    }
   ],
   "source": [
    "ridge_cross_validation(X5, y5, 'minmax')"
   ]
  },
  {
   "cell_type": "markdown",
   "id": "ccd547b2-24e6-4023-8959-d7955620108f",
   "metadata": {},
   "source": [
    "## WP6"
   ]
  },
  {
   "cell_type": "code",
   "execution_count": 21,
   "id": "da2f9ef4-ad90-4d75-9137-735cd41284fe",
   "metadata": {
    "tags": []
   },
   "outputs": [],
   "source": [
    "wp6_X = train_wp6[[c for c in train_wp6 if c not in [\"wp\"]] + [\"wp\"]].drop(to_drop, axis = 1)\n",
    "X6 = wp6_X.drop('wp', axis = 1)\n",
    "y6 = wp6_X['wp']"
   ]
  },
  {
   "cell_type": "code",
   "execution_count": 22,
   "id": "9582d271-b478-4351-81aa-3be5cd3077b1",
   "metadata": {
    "tags": []
   },
   "outputs": [
    {
     "name": "stdout",
     "output_type": "stream",
     "text": [
      "-----------RIDGECV CROSS VALIDATION BEGINNING-----------\n",
      "RMSE score: 0.15248079245857016\n",
      "MAE score: 0.11561917612969624\n",
      "None\n",
      "-------------------FOLD 1-----------------\n",
      "RMSE score: 0.15384563186195266\n",
      "MAE score: 0.11604214642893365\n",
      "None\n",
      "-------------------FOLD 2-----------------\n",
      "RMSE score: 0.15397801649513237\n",
      "MAE score: 0.11621178992729903\n",
      "None\n",
      "-------------------FOLD 3-----------------\n",
      "RMSE score: 0.1509461069566942\n",
      "MAE score: 0.11510833199438879\n",
      "None\n",
      "-------------------FOLD 4-----------------\n",
      "RMSE score: 0.14921944196731626\n",
      "MAE score: 0.11333970338988189\n",
      "None\n",
      "-------------------FOLD 5-----------------\n",
      "RMSE score: 0.14881544075922662\n",
      "MAE score: 0.11276965824671341\n",
      "None\n",
      "-------------------FOLD 6-----------------\n",
      "RMSE score: 0.15250166991812256\n",
      "MAE score: 0.11661239796146085\n",
      "None\n",
      "-------------------FOLD 7-----------------\n",
      "RMSE score: 0.1518090789024589\n",
      "MAE score: 0.11582385256762003\n",
      "None\n",
      "-------------------FOLD 8-----------------\n",
      "RMSE score: 0.15127962199162026\n",
      "MAE score: 0.11503261081670617\n",
      "None\n",
      "-------------------FOLD 9-----------------\n",
      "RMSE score: 0.152953331544518\n",
      "MAE score: 0.1158008207715098\n",
      "None\n",
      "-------------------FOLD 10-----------------\n",
      "---------------CROSS VALIDATION COMPLETE-------------\n",
      "--------------------------RMSE-----------------------\n",
      "Scores: [0.15248079245857016, 0.15384563186195266, 0.15397801649513237, 0.1509461069566942, 0.14921944196731626, 0.14881544075922662, 0.15250166991812256, 0.1518090789024589, 0.15127962199162026, 0.152953331544518]\n",
      "Mean: 0.1517829132855612\n",
      "Std: 0.0016666829739347977\n",
      "--------------------------MAE------------------------\n",
      "Scores: [0.11561917612969624, 0.11604214642893365, 0.11621178992729903, 0.11510833199438879, 0.11333970338988189, 0.11276965824671341, 0.11661239796146085, 0.11582385256762003, 0.11503261081670617, 0.1158008207715098]\n",
      "Mean: 0.11523604882342098\n",
      "Std: 0.0011850896683466739\n"
     ]
    }
   ],
   "source": [
    "ridge_cross_validation(X6, y6, 'minmax')"
   ]
  },
  {
   "cell_type": "markdown",
   "id": "599f0c09-97e8-4e3b-a117-f707ed6235e2",
   "metadata": {},
   "source": [
    "# RidgeCV Predictions"
   ]
  },
  {
   "cell_type": "markdown",
   "id": "2b0f85a0-3a62-4985-b2d6-8fa0aecc6a4b",
   "metadata": {},
   "source": [
    "## Functions"
   ]
  },
  {
   "cell_type": "code",
   "execution_count": 28,
   "id": "2e673e92-7f3f-4ffd-a822-c574b030dac4",
   "metadata": {},
   "outputs": [],
   "source": [
    "to_drop = ['date','wd','forecast_time', 'forecast', \"forecast_dist\", 'wp']+feature_corr\n",
    "def make_prediction_dataset(test, to_drop=to_drop):\n",
    "    test_to_predict = test.dropna(subset=['ws','u','v'], how = 'any') # keeps only lines with u,v,ws,wd\n",
    "    test_to_predict = test_to_predict[test_to_predict['wp'].isna()] # keeps only lines with no wp\n",
    "    test_to_predict = test_to_predict.sort_values(by=['date', 'forecast_time'], ascending = [True, False]).drop_duplicates(subset='date')\n",
    "    test_to_predict = test_to_predict.drop(to_drop, axis = 1)\n",
    "    return test_to_predict"
   ]
  },
  {
   "cell_type": "code",
   "execution_count": 31,
   "id": "911631de-e039-4791-885d-73d714bc3115",
   "metadata": {},
   "outputs": [],
   "source": [
    "def make_submission_file(lst_X_trains, lst_y_trains, lst_tests, lst_models, dates):\n",
    "    i = 1\n",
    "    lst_prediction = []\n",
    "    lst_models_trained = []\n",
    "    for X, y, test, model in zip(lst_X_trains, lst_y_trains, lst_tests, lst_models):\n",
    "        print(f'--------------Model {i}--------------')\n",
    "        model.fit(X, y)\n",
    "        print(f'True:\\n\\tMin:{min(y)}\\n\\tMax:{max(y)}\\n\\tMean:{y.mean()}')\n",
    "        predictions = model.predict(test)\n",
    "        print(f'Prediction:\\n\\tMin:{min(predictions)}\\n\\tMax:{max(predictions)}\\n\\tMean:{np.mean(predictions)}')\n",
    "        predictions = [min(y) if i < 0 else i for i in predictions]\n",
    "        predictions = [max(y) if i > max(y) else i for i in predictions]\n",
    "        print(f'Prediction corrected:\\n\\tMin:{min(predictions)}\\n\\tMax:{max(predictions)}\\n\\tMean:{np.mean(predictions)}')\n",
    "        lst_prediction.append(predictions)\n",
    "        lst_models_trained.append(model)\n",
    "        i+=1\n",
    "    \n",
    "    df_predictions = pd.DataFrame({\n",
    "        'date': test_dates,\n",
    "        'wp1': lst_prediction[0],\n",
    "        'wp2': lst_prediction[1],\n",
    "        'wp3': lst_prediction[2],\n",
    "        'wp4': lst_prediction[3],\n",
    "        'wp5': lst_prediction[4],\n",
    "        'wp6': lst_prediction[5],        \n",
    "    })\n",
    "    return df_predictions, lst_models_trained"
   ]
  },
  {
   "cell_type": "markdown",
   "id": "b413c6e2-20eb-425f-9376-29f19676626b",
   "metadata": {},
   "source": [
    "## Submission"
   ]
  },
  {
   "cell_type": "code",
   "execution_count": 30,
   "id": "8921365d-a1b4-4d3f-a6fa-693733ac2f3e",
   "metadata": {},
   "outputs": [],
   "source": [
    "model_1 = Pipeline([('scaler', MinMaxScaler()),('ridge', RidgeCV())])\n",
    "model_2 = Pipeline([('scaler', MinMaxScaler()),('ridge', RidgeCV())])\n",
    "model_3 = Pipeline([('scaler', MinMaxScaler()),('ridge', RidgeCV())])\n",
    "model_4 = Pipeline([('scaler', MinMaxScaler()),('ridge', RidgeCV())])\n",
    "model_5 = Pipeline([('scaler', MinMaxScaler()),('ridge', RidgeCV())])\n",
    "model_6 = Pipeline([('scaler', MinMaxScaler()),('ridge', RidgeCV())])\n",
    "\n",
    "lst_models = [model_1, model_2, model_3, model_4, model_5, model_6]\n",
    "lst_X_trains = [X1, X2, X3, X4, X5, X6]\n",
    "lst_y_trains = [y1, y2, y3, y4, y5, y6]"
   ]
  },
  {
   "cell_type": "code",
   "execution_count": 32,
   "id": "ca47f1f3-34a9-4a23-8312-2a9402f563ff",
   "metadata": {},
   "outputs": [],
   "source": [
    "lst_tests = []\n",
    "for test in [test_wp1, test_wp2, test_wp3, test_wp4, test_wp5, test_wp6]:\n",
    "    test = make_prediction_dataset(test)\n",
    "    lst_tests.append(test)"
   ]
  },
  {
   "cell_type": "code",
   "execution_count": 33,
   "id": "df54ea09-8916-4fdd-a8be-0516f0ed5395",
   "metadata": {
    "tags": []
   },
   "outputs": [
    {
     "name": "stdout",
     "output_type": "stream",
     "text": [
      "--------------Model 1--------------\n",
      "True:\n",
      "\tMin:0.0\n",
      "\tMax:0.96\n",
      "\tMean:0.2845981952075702\n",
      "Prediction:\n",
      "\tMin:-0.4766415909848688\n",
      "\tMax:1.3986940981181895\n",
      "\tMean:0.30346395141349247\n",
      "Prediction corrected:\n",
      "\tMin:0.0\n",
      "\tMax:0.96\n",
      "\tMean:0.3100917494541774\n",
      "--------------Model 2--------------\n",
      "True:\n",
      "\tMin:0.0\n",
      "\tMax:0.966\n",
      "\tMean:0.25890153769841273\n",
      "Prediction:\n",
      "\tMin:-0.3098633004102123\n",
      "\tMax:1.3229435779243248\n",
      "\tMean:0.26061850555633775\n",
      "Prediction corrected:\n",
      "\tMin:0.0\n",
      "\tMax:0.966\n",
      "\tMean:0.26714909157674804\n",
      "--------------Model 3--------------\n",
      "True:\n",
      "\tMin:0.0\n",
      "\tMax:0.989\n",
      "\tMean:0.2625247252747253\n",
      "Prediction:\n",
      "\tMin:-0.3652711407865974\n",
      "\tMax:1.562625016073661\n",
      "\tMean:0.3008239822123913\n",
      "Prediction corrected:\n",
      "\tMin:0.0\n",
      "\tMax:0.989\n",
      "\tMean:0.3042360471467673\n",
      "--------------Model 4--------------\n",
      "True:\n",
      "\tMin:0.0\n",
      "\tMax:0.992\n",
      "\tMean:0.2763637820512821\n",
      "Prediction:\n",
      "\tMin:-0.42578879042305023\n",
      "\tMax:1.1675270554068433\n",
      "\tMean:0.28890313534211337\n",
      "Prediction corrected:\n",
      "\tMin:0.0\n",
      "\tMax:0.992\n",
      "\tMean:0.2989969234663061\n",
      "--------------Model 5--------------\n",
      "True:\n",
      "\tMin:0.0\n",
      "\tMax:0.978\n",
      "\tMean:0.32622119200244204\n",
      "Prediction:\n",
      "\tMin:-0.42708587039859347\n",
      "\tMax:1.4936861658839569\n",
      "\tMean:0.34159387290837817\n",
      "Prediction corrected:\n",
      "\tMin:0.0\n",
      "\tMax:0.978\n",
      "\tMean:0.3472464197565375\n",
      "--------------Model 6--------------\n",
      "True:\n",
      "\tMin:0.0\n",
      "\tMax:0.947\n",
      "\tMean:0.2425176472832723\n",
      "Prediction:\n",
      "\tMin:-0.299457955856714\n",
      "\tMax:1.212138208076067\n",
      "\tMean:0.24815517141416632\n",
      "Prediction corrected:\n",
      "\tMin:0.0\n",
      "\tMax:0.947\n",
      "\tMean:0.251015889755496\n"
     ]
    }
   ],
   "source": [
    "df_predictions, lst_models_trained = make_submission_file(lst_X_trains, lst_y_trains, lst_tests, lst_models, test_dates)"
   ]
  },
  {
   "cell_type": "code",
   "execution_count": 34,
   "id": "1fa2c859-6e63-40e3-adc4-045fe68c06de",
   "metadata": {},
   "outputs": [],
   "source": [
    "df_predictions.to_csv('Predictions/submission_nb_11_full_ridgecv-featselect.csv', index=False, sep=';')"
   ]
  },
  {
   "cell_type": "code",
   "execution_count": 35,
   "id": "06adda7c-2354-45c5-8a09-1efade23848e",
   "metadata": {},
   "outputs": [],
   "source": [
    "pkl_model = \"Models/RidgeCV/RidgeCV-wp1-featselect.pkl\"\n",
    "with open(pkl_model, 'wb') as file:\n",
    "    pickle.dump(lst_models_trained[0], file)"
   ]
  },
  {
   "cell_type": "code",
   "execution_count": 36,
   "id": "8e3d9762-fb73-4389-b051-292852d314ab",
   "metadata": {},
   "outputs": [],
   "source": [
    "pkl_model = \"Models/RidgeCV/RidgeCV-wp2-featselect.pkl\"\n",
    "with open(pkl_model, 'wb') as file:\n",
    "    pickle.dump(lst_models_trained[1], file)"
   ]
  },
  {
   "cell_type": "code",
   "execution_count": 37,
   "id": "042b67bf-31a2-4b72-8ff7-d3209d4836c0",
   "metadata": {},
   "outputs": [],
   "source": [
    "pkl_model = \"Models/RidgeCV/RidgeCV-wp3-featselect.pkl\"\n",
    "with open(pkl_model, 'wb') as file:\n",
    "    pickle.dump(lst_models_trained[2], file)"
   ]
  },
  {
   "cell_type": "code",
   "execution_count": 38,
   "id": "1582398e-0854-4675-975f-c367d8010d42",
   "metadata": {},
   "outputs": [],
   "source": [
    "pkl_model = \"Models/RidgeCV/RidgeCV-wp4-featselect.pkl\"\n",
    "with open(pkl_model, 'wb') as file:\n",
    "    pickle.dump(lst_models_trained[3], file)"
   ]
  },
  {
   "cell_type": "code",
   "execution_count": 39,
   "id": "0d5ee6b1-ebad-4e10-b40f-f0811f5b66f8",
   "metadata": {},
   "outputs": [],
   "source": [
    "pkl_model = \"Models/RidgeCV/RidgeCV-wp5-featselect.pkl\"\n",
    "with open(pkl_model, 'wb') as file:\n",
    "    pickle.dump(lst_models_trained[4], file)"
   ]
  },
  {
   "cell_type": "code",
   "execution_count": 40,
   "id": "3b0d9b33-202a-433c-a1c3-9156bedd7492",
   "metadata": {},
   "outputs": [],
   "source": [
    "pkl_model = \"Models/RidgeCV/RidgeCV-wp6-featselect.pkl\"\n",
    "with open(pkl_model, 'wb') as file:\n",
    "    pickle.dump(lst_models_trained[5], file)"
   ]
  }
 ],
 "metadata": {
  "kernelspec": {
   "display_name": "Python 3",
   "language": "python",
   "name": "python3"
  },
  "language_info": {
   "codemirror_mode": {
    "name": "ipython",
    "version": 3
   },
   "file_extension": ".py",
   "mimetype": "text/x-python",
   "name": "python",
   "nbconvert_exporter": "python",
   "pygments_lexer": "ipython3",
   "version": "3.8.5"
  }
 },
 "nbformat": 4,
 "nbformat_minor": 5
}
