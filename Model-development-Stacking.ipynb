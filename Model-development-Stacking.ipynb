{
 "cells": [
  {
   "cell_type": "code",
   "execution_count": 1,
   "id": "87f2b96a-5b8f-49c2-bb10-d56eea7c9473",
   "metadata": {},
   "outputs": [],
   "source": [
    "import pandas as pd\n",
    "import seaborn as sns\n",
    "import openpyxl\n",
    "from datetime import datetime, timedelta\n",
    "import matplotlib.pyplot as plt\n",
    "import numpy as np\n",
    "import os\n",
    "import pickle"
   ]
  },
  {
   "cell_type": "code",
   "execution_count": 2,
   "id": "18142a1a-449c-4056-ad68-3704c86e321a",
   "metadata": {},
   "outputs": [],
   "source": [
    "from sklearn.model_selection import KFold, train_test_split, cross_val_score\n",
    "from sklearn.preprocessing import MinMaxScaler, StandardScaler, MaxAbsScaler, RobustScaler\n",
    "from sklearn.pipeline import Pipeline, make_pipeline\n",
    "from sklearn.metrics import mean_squared_error, mean_absolute_error\n",
    "import optuna"
   ]
  },
  {
   "cell_type": "code",
   "execution_count": 3,
   "id": "fbdb953f-9b6c-402f-97a7-694ea991772a",
   "metadata": {},
   "outputs": [],
   "source": [
    "from sklearn.ensemble import StackingRegressor, RandomForestRegressor, ExtraTreesRegressor, GradientBoostingRegressor\n",
    "from sklearn.linear_model import ElasticNet, Lasso,  BayesianRidge, LassoLarsIC, RidgeCV, Ridge\n",
    "from sklearn.kernel_ridge import KernelRidge\n",
    "from sklearn.base import BaseEstimator, TransformerMixin, RegressorMixin, clone\n",
    "from sklearn.svm import LinearSVR\n",
    "from lightgbm import LGBMRegressor\n",
    "from xgboost import XGBRegressor"
   ]
  },
  {
   "cell_type": "code",
   "execution_count": 4,
   "id": "dfbdb5cf-fddb-4c1d-8d99-5712adf34c7f",
   "metadata": {},
   "outputs": [],
   "source": [
    "from Functions.helper_functions import * "
   ]
  },
  {
   "cell_type": "code",
   "execution_count": 5,
   "id": "6b402172-9749-43c5-a553-c94813496dbb",
   "metadata": {},
   "outputs": [],
   "source": [
    "import warnings\n",
    "warnings.filterwarnings(action='ignore', category=UserWarning)\n",
    "pd.options.mode.chained_assignment = None  # default='warn'"
   ]
  },
  {
   "cell_type": "markdown",
   "id": "0038d4f6-5114-412b-b438-324e4d0ccbf3",
   "metadata": {},
   "source": [
    "# Data import"
   ]
  },
  {
   "cell_type": "code",
   "execution_count": 6,
   "id": "eb7ce6b3-5881-4db0-87ca-244b7161cd65",
   "metadata": {},
   "outputs": [],
   "source": [
    "train_wp1 = pd.read_csv('Data/Preprocessing/WP1_train_preprocessed.csv', sep=',')\n",
    "train_wp2 = pd.read_csv('Data/Preprocessing/WP2_train_preprocessed.csv', sep=',')\n",
    "train_wp3 = pd.read_csv('Data/Preprocessing/WP3_train_preprocessed.csv', sep=',')\n",
    "train_wp4 = pd.read_csv('Data/Preprocessing/WP4_train_preprocessed.csv', sep=',')\n",
    "train_wp5 = pd.read_csv('Data/Preprocessing/WP5_train_preprocessed.csv', sep=',')\n",
    "train_wp6 = pd.read_csv('Data/Preprocessing/WP6_train_preprocessed.csv', sep=',')"
   ]
  },
  {
   "cell_type": "code",
   "execution_count": 7,
   "id": "88839967-5d4a-4ed6-b3ad-2ed819309b8c",
   "metadata": {},
   "outputs": [],
   "source": [
    "test_wp1 = pd.read_csv('Data/Preprocessing/WP1_test_preprocessed.csv', sep=',')\n",
    "test_wp2 = pd.read_csv('Data/Preprocessing/WP2_test_preprocessed.csv', sep=',')\n",
    "test_wp3 = pd.read_csv('Data/Preprocessing/WP3_test_preprocessed.csv', sep=',')\n",
    "test_wp4 = pd.read_csv('Data/Preprocessing/WP4_test_preprocessed.csv', sep=',')\n",
    "test_wp5 = pd.read_csv('Data/Preprocessing/WP5_test_preprocessed.csv', sep=',')\n",
    "test_wp6 = pd.read_csv('Data/Preprocessing/WP6_test_preprocessed.csv', sep=',')\n",
    "test_dates = pd.read_csv('Data/Initial/test.csv', sep=',').date.values"
   ]
  },
  {
   "cell_type": "code",
   "execution_count": 8,
   "id": "b03471da-2aaa-4017-a1f8-d870bd6af00a",
   "metadata": {},
   "outputs": [],
   "source": [
    "to_drop = ['date','wd','forecast_time', 'forecast', \"forecast_dist\"]"
   ]
  },
  {
   "cell_type": "markdown",
   "id": "44978992-7c60-4d80-9f6e-21daa27a8645",
   "metadata": {},
   "source": [
    "# Functions"
   ]
  },
  {
   "cell_type": "code",
   "execution_count": 9,
   "id": "27ca6bea-9980-422f-b77d-40e76b090317",
   "metadata": {},
   "outputs": [],
   "source": [
    "def stacking_scaled_cross_validation(X, y, model):\n",
    "    if model == None:\n",
    "        return None\n",
    "\n",
    "    print('-----------STACKING CROSS VALIDATION BEGINNING-----------')\n",
    "    split = 10\n",
    "    kf = KFold(n_splits=split, shuffle=True)       \n",
    "    stack_rmse_scores = []\n",
    "    stack_mae_scores = []\n",
    "    i = 1\n",
    "    for (train_index, test_index) in kf.split(pd.DataFrame(X), pd.DataFrame(y)):\n",
    "        X_train, X_test = pd.DataFrame(X).iloc[train_index], pd.DataFrame(X).iloc[test_index]\n",
    "        Y_train, Y_test = pd.DataFrame(y).iloc[train_index],pd.DataFrame(y).iloc[test_index]\n",
    "\n",
    "        model.fit(X_train, Y_train)\n",
    "\n",
    "        prediction = model.predict(X_test)\n",
    "        stack_rmse_scores.append(mean_squared_error(Y_test, prediction,squared=False))\n",
    "        stack_mae_scores.append(mean_absolute_error(Y_test, prediction))\n",
    "        \n",
    "        print(show_evaluation(prediction, Y_test))\n",
    "        print(f'-------------------FOLD {i}-----------------')\n",
    "        i+=1\n",
    "\n",
    "    print('---------------CROSS VALIDATION COMPLETE-------------')\n",
    "    print('--------------------------RMSE-----------------------')\n",
    "    display_scores(stack_rmse_scores)\n",
    "    print('--------------------------MAE------------------------')\n",
    "    display_scores(stack_mae_scores)"
   ]
  },
  {
   "cell_type": "code",
   "execution_count": 10,
   "id": "ee85933e-0529-44a3-b246-f6e9e2f0084e",
   "metadata": {},
   "outputs": [],
   "source": [
    "def stacking_model(xgb_params_1, xgb_params_2, lgbm_params_1, lgbm_params_2):\n",
    "    estimators = [\n",
    "#         ('lr', RidgeCV()),\n",
    "#         ('svr', LinearSVR(random_state=42)),\n",
    "        ('lgbm-1', Pipeline([('scaler', MaxAbsScaler()),('lgbm', LGBMRegressor(**lgbm_params_1))])),\n",
    "        ('lgbm-2', Pipeline([('scaler', MaxAbsScaler()),('lgbm', LGBMRegressor(**lgbm_params_2))])),        \n",
    "        ('xgb-1', Pipeline([('scaler', MaxAbsScaler()),('xgb', XGBRegressor(**xgb_params_1))])),\n",
    "        ('xgb-2', Pipeline([('scaler', MaxAbsScaler()),('xgb', XGBRegressor(**xgb_params_2))])),\n",
    "        ('xtree', ExtraTreesRegressor(n_estimators=100)),\n",
    "        ('ridgecv', Pipeline([('scaler', MaxAbsScaler()),('ridgecv', RidgeCV())])),\n",
    "        ('linearsvr', Pipeline([('scaler', MaxAbsScaler()),('ridgecv', LinearSVR())]))\n",
    "    ]\n",
    "\n",
    "    reg = StackingRegressor(\n",
    "         estimators=estimators,\n",
    "         final_estimator=LinearSVR(random_state=42),\n",
    "         verbose = 10,\n",
    "         n_jobs = -1\n",
    "    )\n",
    "    \n",
    "#     reg = StackingRegressor(\n",
    "#          estimators=estimators,\n",
    "#          final_estimator=XGBRegressor(random_state=42),\n",
    "#          n_jobs = -1,\n",
    "#          verbose = 10\n",
    "#     )\n",
    "    \n",
    "#     reg = StackingRegressor(\n",
    "#          estimators=estimators,\n",
    "#          final_estimator=RandomForestRegressor(random_state=42),\n",
    "#          verbose = 10, \n",
    "#          n_jobs = -1,\n",
    "#     )\n",
    "    \n",
    "    return reg "
   ]
  },
  {
   "cell_type": "markdown",
   "id": "5ae2eb33-a6b7-42a5-9d72-c742afbaedb0",
   "metadata": {},
   "source": [
    "# Stacking "
   ]
  },
  {
   "cell_type": "markdown",
   "id": "70dc1d32-9202-4d51-86a7-c246bda4d349",
   "metadata": {},
   "source": [
    "## WP1"
   ]
  },
  {
   "cell_type": "code",
   "execution_count": 11,
   "id": "39473823-b3c0-4823-945f-82252d0836de",
   "metadata": {},
   "outputs": [],
   "source": [
    "wp1_X = train_wp1[[c for c in train_wp1 if c not in [\"wp\"]] + [\"wp\"]].drop(to_drop, axis = 1)\n",
    "X1 = wp1_X.drop('wp', axis=1)\n",
    "y1 = wp1_X['wp']"
   ]
  },
  {
   "cell_type": "code",
   "execution_count": 12,
   "id": "aa6cd2e4-16bd-40a1-8f3a-a7a074871c4f",
   "metadata": {
    "tags": []
   },
   "outputs": [],
   "source": [
    "params_lgbm_1 =   {\n",
    "    'reg_alpha': 0.25020407037516895,\n",
    "    'reg_lambda': 7.183180037262842,\n",
    "    'colsample_bytree': 1.0,\n",
    "    'subsample': 1.0,\n",
    "    'learning_rate': 0.11751089382716717,\n",
    "    'max_depth': 84,\n",
    "    'num_leaves': 596,\n",
    "    'min_child_samples': 15,\n",
    "#     'n_jobs' : -2,\n",
    "}\n",
    "\n",
    "params_lgbm_1_bis = {\n",
    "    'reg_alpha': 0.8314449043001416,\n",
    "    'reg_lambda': 9.093012403173608,\n",
    "    'colsample_bytree': 0.9,\n",
    "    'subsample': 0.4,\n",
    "    'learning_rate': 0.2033256175102991,\n",
    "    'max_depth': 55,\n",
    "    'num_leaves': 964,\n",
    "    'min_child_samples': 25,\n",
    "#     'n_jobs' : -2,\n",
    "}\n",
    "\n",
    "params_xbg_1 = {\n",
    "    'lambda': 0.3643806022565838,\n",
    "    'alpha': 0.003650309466012506,\n",
    "    'colsample_bytree': 0.9640425007241273,\n",
    "    'subsample': 0.8,\n",
    "    'learning_rate': 0.052762727588106954,\n",
    "    'n_estimators': 700,\n",
    "    'max_depth': 54,\n",
    "    'min_child_weight': 96,\n",
    "    'eta': 3.119364108002744e-05,\n",
    "    'gamma': 5.177778739056542e-05,\n",
    "    'grow_policy': 'lossguide',\n",
    "#     'n_jobs' : -2,\n",
    "}\n",
    "\n",
    "params_xbg_1_bis = {\n",
    "    'lambda': 2.1359622347936646,\n",
    "    'alpha': 0.016202766042783825,\n",
    "    'colsample_bytree': 0.8075360516891219,\n",
    "    'subsample': 0.8,\n",
    "    'learning_rate': 0.06792370224097045,\n",
    "    'n_estimators': 320,\n",
    "    'max_depth': 58,\n",
    "    'min_child_weight': 102,\n",
    "    'eta': 6.934521001624072e-05,\n",
    "    'gamma': 4.369012735807193e-06,\n",
    "    'grow_policy': 'lossguide',\n",
    "#     'n_jobs' : -2,\n",
    "}"
   ]
  },
  {
   "cell_type": "code",
   "execution_count": 13,
   "id": "37d762d3-2ed6-4d2a-b0c7-b8ab3037075a",
   "metadata": {},
   "outputs": [],
   "source": [
    "# model_1 = stacking_model(params_xbg_1, params_xbg_1_bis, params_lgbm_1, params_lgbm_1_bis)"
   ]
  },
  {
   "cell_type": "markdown",
   "id": "6022a2f2-47bf-471c-9434-af2b39ea2429",
   "metadata": {},
   "source": [
    "## WP2"
   ]
  },
  {
   "cell_type": "code",
   "execution_count": 14,
   "id": "f706b351-afe7-4d9e-bbb5-d8e0360ab5ab",
   "metadata": {},
   "outputs": [],
   "source": [
    "wp2_X = train_wp2[[c for c in train_wp2 if c not in [\"wp\"]] + [\"wp\"]].drop(to_drop, axis = 1)\n",
    "X2 = wp2_X.drop('wp', axis=1)\n",
    "y2 = wp2_X['wp']"
   ]
  },
  {
   "cell_type": "code",
   "execution_count": 15,
   "id": "575cf4a3-88ca-45ad-b0e0-387e4f99804d",
   "metadata": {
    "tags": []
   },
   "outputs": [],
   "source": [
    "params_lgbm_2 = {\n",
    "    'reg_alpha': 0.18268883436586145,\n",
    "    'reg_lambda': 0.15916821051528962,\n",
    "    'colsample_bytree': 1.0,\n",
    "    'subsample': 0.6,\n",
    "    'learning_rate': 0.18007000714755378,\n",
    "    'max_depth': 77,\n",
    "    'num_leaves': 425,\n",
    "    'min_child_samples': 10,\n",
    "    'min_data_per_groups': 19,\n",
    "#     'n_jobs' : -2,\n",
    "}\n",
    "\n",
    "params_lgbm_2_bis = {\n",
    "    'reg_alpha': 0.34026994469471555,\n",
    "    'reg_lambda': 1.1032197453137866,\n",
    "    'colsample_bytree': 0.9,\n",
    "    'subsample': 0.6,\n",
    "    'learning_rate': 0.13414826176962302,\n",
    "    'max_depth': 81,\n",
    "    'num_leaves': 987,\n",
    "    'min_child_samples': 39,\n",
    "#     'n_jobs' : -2,\n",
    "}\n",
    "\n",
    "\n",
    "params_xbg_2 = {\n",
    "    'lambda': 0.005195058020286749,\n",
    "    'alpha': 0.15427340616771562,\n",
    "    'colsample_bytree': 0.4794118698886291,\n",
    "    'subsample': 0.7,\n",
    "    'learning_rate': 0.13969003989794868,\n",
    "    'n_estimators': 583,\n",
    "    'max_depth': 20,\n",
    "    'min_child_weight': 81,\n",
    "    'eta': 0.0006994052800675432,\n",
    "    'gamma': 4.0927842177131904e-08,\n",
    "    'grow_policy': 'depthwise',\n",
    "#     'n_jobs' : -2,\n",
    "}\n",
    "\n",
    "\n",
    "params_xbg_2_bis = {\n",
    "    'lambda': 4.982427302967441,\n",
    "    'alpha': 0.023879453147379343,\n",
    "    'colsample_bytree': 0.29850970311481473,\n",
    "    'subsample': 0.7,\n",
    "    'learning_rate': 0.07986759823219342,\n",
    "    'n_estimators': 634,\n",
    "    'max_depth': 52,\n",
    "    'min_child_weight': 142,\n",
    "    'eta': 0.9698508070965183,\n",
    "    'gamma': 6.168834828494383e-06,\n",
    "    'grow_policy': 'depthwise',\n",
    "#     'n_jobs' : -2,\n",
    "}"
   ]
  },
  {
   "cell_type": "code",
   "execution_count": 16,
   "id": "f68707cc-224a-4f75-b5f5-f054e40a3959",
   "metadata": {},
   "outputs": [],
   "source": [
    "# model_2 = stacking_model(params_xbg_2, params_xbg_2_bis, params_lgbm_2, params_lgbm_2_bis)"
   ]
  },
  {
   "cell_type": "markdown",
   "id": "dc2d4dc5-2f59-4184-83cb-dbb4951975c9",
   "metadata": {},
   "source": [
    "## WP3"
   ]
  },
  {
   "cell_type": "code",
   "execution_count": 17,
   "id": "5163d5b8-ea9c-4c3a-9014-9b15f541925a",
   "metadata": {},
   "outputs": [],
   "source": [
    "wp3_X = train_wp3[[c for c in train_wp3 if c not in [\"wp\"]] + [\"wp\"]].drop(to_drop, axis = 1)\n",
    "X3 = wp3_X.drop('wp', axis = 1)\n",
    "y3 = wp3_X['wp']"
   ]
  },
  {
   "cell_type": "code",
   "execution_count": 18,
   "id": "ef277fd5-a26e-4004-afd8-97e6120d034e",
   "metadata": {
    "tags": []
   },
   "outputs": [],
   "source": [
    "params_lgbm_3 = {\n",
    "    'reg_alpha': 0.2380367567801365,\n",
    "    'reg_lambda': 0.005052844767806766,\n",
    "    'colsample_bytree': 0.9,\n",
    "    'subsample': 0.5,\n",
    "    'learning_rate': 0.11958787026894079,\n",
    "    'max_depth': 41,\n",
    "    'num_leaves': 690,\n",
    "#     'n_jobs' : -2,\n",
    "}\n",
    "\n",
    "params_lgbm_3_bis = {\n",
    "    'reg_alpha': 0.26013926149282945,\n",
    "    'reg_lambda': 0.002325658512162904,\n",
    "    'colsample_bytree': 1.0,\n",
    "    'subsample': 0.7,\n",
    "    'learning_rate': 0.10619054458258967,\n",
    "    'max_depth': 83,\n",
    "    'num_leaves': 647,\n",
    "    'min_child_samples': 3,\n",
    "#     'n_jobs' : -2,\n",
    "}\n",
    "    \n",
    "    \n",
    "    \n",
    "params_xbg_3 = {\n",
    "    'lambda': 0.018191871915246106,\n",
    "    'alpha': 0.2397827070234125,\n",
    "    'colsample_bytree': 0.4710946041352672,\n",
    "    'subsample': 0.8,\n",
    "    'learning_rate': 0.14812785561924302,\n",
    "    'n_estimators': 688,\n",
    "    'max_depth': 32,\n",
    "    'min_child_weight': 218,\n",
    "    'eta': 6.950960910550952e-08,\n",
    "    'gamma': 2.0149702062428016e-07,\n",
    "    'grow_policy': 'lossguide',\n",
    "#     'n_jobs' : -2,\n",
    "}\n",
    "\n",
    "params_xbg_3_bis = {\n",
    "    'lambda': 0.018191871915246106,\n",
    "    'alpha': 0.2397827070234125,\n",
    "    'colsample_bytree': 0.4710946041352672,\n",
    "    'subsample': 0.9,\n",
    "    'learning_rate': 0.11812785561924302,\n",
    "    'n_estimators': 400,\n",
    "    'max_depth': 28,\n",
    "    'min_child_weight': 220,\n",
    "    'eta': 6.950960910550952e-08,\n",
    "    'gamma': 2.0149702062428016e-07,\n",
    "    'grow_policy': 'lossguide',\n",
    "#     'n_jobs' : -2,\n",
    "}"
   ]
  },
  {
   "cell_type": "code",
   "execution_count": 19,
   "id": "671ea812-5ac9-42de-a83c-54b3426090c8",
   "metadata": {},
   "outputs": [],
   "source": [
    "# model_3 = stacking_model(params_xbg_3, params_xbg_3_bis, params_lgbm_3, params_lgbm_3_bis)"
   ]
  },
  {
   "cell_type": "markdown",
   "id": "273f92bf-cd57-4163-90ab-c4e98c88aa0a",
   "metadata": {},
   "source": [
    "## WP4"
   ]
  },
  {
   "cell_type": "code",
   "execution_count": 20,
   "id": "84673a7f-5192-451e-b1e7-c6f8046deb52",
   "metadata": {},
   "outputs": [],
   "source": [
    "wp4_X = train_wp4[[c for c in train_wp4 if c not in [\"wp\"]] + [\"wp\"]].drop(to_drop, axis = 1)\n",
    "X4 = wp4_X.drop('wp', axis = 1)\n",
    "y4 = wp4_X['wp']"
   ]
  },
  {
   "cell_type": "code",
   "execution_count": 21,
   "id": "56dfeafa-025c-487d-9844-318c8a11cc6f",
   "metadata": {
    "tags": []
   },
   "outputs": [],
   "source": [
    "params_lgbm_4 = {\n",
    "    'reg_alpha': 0.08714703614419553,\n",
    "    'reg_lambda': 9.983645262139024,\n",
    "    'colsample_bytree': 0.9,\n",
    "    'subsample': 0.8,\n",
    "    'learning_rate': 0.13413154768816146,\n",
    "    'max_depth': 41,\n",
    "    'num_leaves': 613,\n",
    "    'min_child_samples': 15,\n",
    "#     'n_jobs' : -2,\n",
    "}\n",
    "\n",
    "params_lgbm_4_bis = {\n",
    "    'reg_alpha': 0.15331128149569725,\n",
    "    'reg_lambda': 0.28560184971009756,\n",
    "    'colsample_bytree': 0.7,\n",
    "    'subsample': 0.5,\n",
    "    'learning_rate': 0.11430869527789024,\n",
    "    'max_depth': 24,\n",
    "    'num_leaves': 856,\n",
    "    'min_child_samples': 14,\n",
    "#     'n_jobs' : -2,\n",
    "}\n",
    "\n",
    "params_xbg_4 = {\n",
    "    'lambda': 0.13763482520556616,\n",
    "    'alpha': 0.0010077676339636944,\n",
    "    'colsample_bytree': 0.954734556572597,\n",
    "    'subsample': 0.8,\n",
    "    'learning_rate': 0.05499114408834853,\n",
    "    'n_estimators': 546,\n",
    "    'max_depth': 43,\n",
    "    'min_child_weight': 94,\n",
    "    'eta': 1.2784286267654713e-06,\n",
    "    'gamma': 1.6935174502873177e-05,\n",
    "    'grow_policy': 'depthwise',\n",
    "#     'n_jobs' : -2,\n",
    "}\n",
    "\n",
    "params_xbg_4_bis = {\n",
    "    'lambda': 0.001340947773207149,\n",
    "    'alpha': 0.002479638085657274,\n",
    "    'colsample_bytree': 0.3030181981060389,\n",
    "    'subsample': 0.7,\n",
    "    'learning_rate': 0.07696248319007938,\n",
    "    'n_estimators': 367,\n",
    "    'max_depth': 31,\n",
    "    'min_child_weight': 72,\n",
    "    'eta': 3.704957186572025e-08,\n",
    "    'gamma': 8.44315434172209e-05,\n",
    "    'grow_policy': 'depthwise',\n",
    "#     'n_jobs' : -2,\n",
    "}"
   ]
  },
  {
   "cell_type": "code",
   "execution_count": 22,
   "id": "0fc87d25-870c-4f5b-ac4b-6c5b88b89ad3",
   "metadata": {},
   "outputs": [],
   "source": [
    "# model_4 = stacking_model(params_xbg_4, params_xbg_4_bis, params_lgbm_4, params_lgbm_4_bis)"
   ]
  },
  {
   "cell_type": "markdown",
   "id": "8fb8967b-d516-487d-9a5f-1bdf5d965d41",
   "metadata": {},
   "source": [
    "## WP5"
   ]
  },
  {
   "cell_type": "code",
   "execution_count": 23,
   "id": "f711b6de-c37a-4af2-86ec-2058d155234a",
   "metadata": {},
   "outputs": [],
   "source": [
    "wp5_X = train_wp5[[c for c in train_wp5 if c not in [\"wp\"]] + [\"wp\"]].drop(to_drop, axis = 1)\n",
    "X5 = wp5_X.drop('wp', axis = 1)\n",
    "y5 = wp5_X['wp']"
   ]
  },
  {
   "cell_type": "code",
   "execution_count": 24,
   "id": "f048dba3-0231-4aeb-8aaa-d554594605ad",
   "metadata": {
    "tags": []
   },
   "outputs": [],
   "source": [
    "params_lgbm_5 = {\n",
    "    'reg_alpha': 0.1420112281892889,\n",
    "    'reg_lambda': 0.14745955581286027,\n",
    "    'colsample_bytree': 0.9,\n",
    "    'subsample': 0.7,\n",
    "    'learning_rate': 0.15576554024588912,\n",
    "    'max_depth': 61,\n",
    "    'num_leaves': 483,\n",
    "    'min_child_samples': 10,\n",
    "#     'n_jobs' : -2,\n",
    "}\n",
    "\n",
    "params_lgbm_5_bis = {\n",
    "    'reg_alpha': 0.04781362061382749,\n",
    "    'reg_lambda': 9.716980953182604,\n",
    "    'colsample_bytree': 0.9,\n",
    "    'subsample': 0.7,\n",
    "    'learning_rate': 0.14614317149730652,\n",
    "    'max_depth': 57,\n",
    "    'num_leaves': 532,\n",
    "    'min_child_samples': 7,\n",
    "#     'n_jobs' : -2,\n",
    "}\n",
    "\n",
    "\n",
    "params_xbg_5 = {\n",
    "    'lambda': 4.7653031074423104,\n",
    "    'alpha': 0.004963619239675007,\n",
    "    'colsample_bytree': 0.8616303151950829,\n",
    "    'subsample': 0.8,\n",
    "    'learning_rate': 0.167247240657064,\n",
    "    'n_estimators': 509,\n",
    "    'max_depth': 31,\n",
    "    'min_child_weight': 73,\n",
    "    'eta': 0.1392993925005545,\n",
    "    'gamma': 1.4909263616645174e-07,\n",
    "    'grow_policy': 'depthwise',\n",
    "#     'n_jobs' : -2,\n",
    "}\n",
    "\n",
    "params_xbg_5_bis = {\n",
    "    'lambda': 4.537995153532639,\n",
    "    'alpha': 0.15887083612902936,\n",
    "    'colsample_bytree': 0.35129085402309673,\n",
    "    'subsample': 0.8,\n",
    "    'learning_rate': 0.20146110291550628,\n",
    "    'n_estimators': 354,\n",
    "    'max_depth': 27,\n",
    "    'min_child_weight': 91,\n",
    "    'eta': 0.1963402390178624,\n",
    "    'gamma': 4.730295821405375e-07,\n",
    "    'grow_policy': 'lossguide',\n",
    "#     'n_jobs' : -2,\n",
    "}"
   ]
  },
  {
   "cell_type": "code",
   "execution_count": 25,
   "id": "21b613da-05d5-4c00-a4c4-fcc0336fc586",
   "metadata": {},
   "outputs": [],
   "source": [
    "# model_5 = stacking_model(params_xbg_5, params_xbg_5_bis, params_lgbm_5, params_lgbm_5_bis)"
   ]
  },
  {
   "cell_type": "markdown",
   "id": "40d5b1f0-9cbc-4b4d-80bb-2fcbb5a2a138",
   "metadata": {},
   "source": [
    "## WP6"
   ]
  },
  {
   "cell_type": "code",
   "execution_count": 26,
   "id": "038868ba-c901-4e9a-b4d1-cd59bbb32a5d",
   "metadata": {},
   "outputs": [],
   "source": [
    "wp6_X = train_wp6[[c for c in train_wp6 if c not in [\"wp\"]] + [\"wp\"]].drop(to_drop, axis = 1)\n",
    "X6 = wp6_X.drop('wp', axis = 1)\n",
    "y6 = wp6_X['wp']"
   ]
  },
  {
   "cell_type": "code",
   "execution_count": 27,
   "id": "06f05bae-cf5d-4f74-89ab-28d9aaafee64",
   "metadata": {
    "tags": []
   },
   "outputs": [],
   "source": [
    "params_lgbm_6 = {\n",
    "    'reg_alpha': 0.19099691249064502,\n",
    "    'reg_lambda': 0.3893771552082417,\n",
    "    'colsample_bytree': 0.6,\n",
    "    'subsample': 0.7,\n",
    "    'learning_rate': 0.10214699989265669,\n",
    "    'max_depth': 70,\n",
    "    'num_leaves': 903,\n",
    "    'min_child_samples': 1,\n",
    "#     'n_jobs' : -2,\n",
    "} \n",
    "\n",
    "params_lgbm_6_bis ={\n",
    "    'reg_alpha': 0.23451110075396234,\n",
    "    'reg_lambda': 0.796705483623135,\n",
    "    'colsample_bytree': 0.9,\n",
    "    'subsample': 0.4,\n",
    "    'learning_rate': 0.1561492653707781,\n",
    "    'max_depth': 67,\n",
    "    'num_leaves': 998,\n",
    "    'min_child_samples': 45,\n",
    "#     'n_jobs' : -2,\n",
    "}\n",
    "\n",
    "\n",
    "\n",
    "params_xbg_6 = {\n",
    "    'lambda': 6.198890709955999,\n",
    "    'alpha': 0.009212761583335095,\n",
    "    'colsample_bytree': 0.9364947872025757,\n",
    "    'subsample': 0.6,\n",
    "    'learning_rate': 0.0377294321765545,\n",
    "    'n_estimators': 458,\n",
    "    'max_depth': 50,\n",
    "    'min_child_weight': 28,\n",
    "    'eta': 1.0671149195024988e-08,\n",
    "    'gamma': 1.4697758952551594e-05,\n",
    "    'grow_policy': 'depthwise',\n",
    "#     'n_jobs' : -2,\n",
    "}\n",
    "\n",
    "params_xbg_6_bis = {\n",
    "    'lambda': 0.5705269295320163,\n",
    "    'alpha': 0.06713843687958011,\n",
    "    'colsample_bytree': 0.8718486759988152,\n",
    "    'subsample': 0.8,\n",
    "    'learning_rate': 0.07668854905667996,\n",
    "    'n_estimators': 582,\n",
    "    'max_depth': 49,\n",
    "    'min_child_weight': 143,\n",
    "    'eta': 9.055710235537663e-07,\n",
    "    'gamma': 1.111486195598291e-06,\n",
    "    'grow_policy': 'depthwise',\n",
    "#     'n_jobs' : -2,\n",
    "}"
   ]
  },
  {
   "cell_type": "code",
   "execution_count": 28,
   "id": "430eab5b-b681-4093-805d-441e9814cfb5",
   "metadata": {},
   "outputs": [],
   "source": [
    "# model_6 = stacking_model(params_xbg_6, params_xbg_6_bis, params_lgbm_6, params_lgbm_6_bis)"
   ]
  },
  {
   "cell_type": "markdown",
   "id": "4f798f81-9f98-4889-806d-c3fd68503df0",
   "metadata": {},
   "source": [
    "# Stacking manual"
   ]
  },
  {
   "cell_type": "code",
   "execution_count": 29,
   "id": "ec83c430-c3eb-45c7-9259-5d33ba69ece1",
   "metadata": {},
   "outputs": [],
   "source": [
    "class StackingAveragedModels(BaseEstimator, RegressorMixin, TransformerMixin):\n",
    "    def __init__(self, base_models, meta_model, n_folds=6):\n",
    "        self.base_models = base_models\n",
    "        self.meta_model = meta_model\n",
    "        self.n_folds = n_folds\n",
    "   \n",
    "    # We again fit the data on clones of the original models\n",
    "    def fit(self, X, y):\n",
    "        self.base_models_ = [list() for x in self.base_models]\n",
    "        self.meta_model_ = clone(self.meta_model)\n",
    "        kfold = KFold(n_splits=self.n_folds, shuffle=True, random_state=156)\n",
    "        \n",
    "        # Train cloned base models then create out-of-fold predictions\n",
    "        # that are needed to train the cloned meta-model\n",
    "        out_of_fold_predictions = np.zeros((X.shape[0], len(self.base_models)))\n",
    "        for i, model in enumerate(self.base_models):\n",
    "            for train_index, holdout_index in kfold.split(X, y):\n",
    "                instance = clone(model)\n",
    "                self.base_models_[i].append(instance)\n",
    "                instance.fit(X[train_index], y[train_index])\n",
    "                y_pred = instance.predict(X[holdout_index])\n",
    "                out_of_fold_predictions[holdout_index, i] = y_pred\n",
    "                \n",
    "        # Now train the cloned  meta-model using the out-of-fold predictions as new feature\n",
    "        self.meta_model_.fit(out_of_fold_predictions, y)\n",
    "        return self\n",
    "   \n",
    "    #Do the predictions of all base models on the test data and use the averaged predictions as \n",
    "    #meta-features for the final prediction which is done by the meta-model\n",
    "    def predict(self, X):\n",
    "        meta_features = np.column_stack([\n",
    "            np.column_stack([model.predict(X) \n",
    "            for model in base_models]).mean(axis=1) \n",
    "            for base_models in self.base_models_ ])\n",
    "        return self.meta_model_.predict(meta_features)"
   ]
  },
  {
   "cell_type": "markdown",
   "id": "cbfc0c35-727f-4a86-9249-ab6831764939",
   "metadata": {},
   "source": [
    "## Used model"
   ]
  },
  {
   "cell_type": "code",
   "execution_count": 30,
   "id": "ca05de9e-06b1-452f-b54d-6629ee94af33",
   "metadata": {},
   "outputs": [],
   "source": [
    "xtratree = ExtraTreesRegressor(n_estimators=100)\n",
    "ridge = make_pipeline(RobustScaler(), RidgeCV())\n",
    "lasso = make_pipeline(RobustScaler(), Lasso(alpha =0.0005, random_state=1))\n",
    "SVR = make_pipeline(RobustScaler(), LinearSVR())\n",
    "KRR = KernelRidge(alpha=0.6, kernel='polynomial', degree=2, coef0=2.5)\n",
    "ENet = make_pipeline(RobustScaler(), ElasticNet(alpha=0.0005, l1_ratio=.9, random_state=3))\n",
    "GBoost = GradientBoostingRegressor(n_estimators=3000, learning_rate=0.05,\n",
    "                                   max_depth=4, max_features='sqrt',\n",
    "                                   min_samples_leaf=15, min_samples_split=10, \n",
    "                                   loss='huber', random_state =5)"
   ]
  },
  {
   "cell_type": "code",
   "execution_count": 48,
   "id": "e8070b13-5999-4974-a8a3-05e200929d4b",
   "metadata": {},
   "outputs": [],
   "source": [
    "def rmsle_cv(model, X, y):\n",
    "    kf = KFold(2, shuffle=True, random_state=42).get_n_splits(X)\n",
    "    rmse= np.sqrt(-cross_val_score(model, X, y, scoring=\"neg_mean_squared_error\", cv = kf))\n",
    "    return(rmse)"
   ]
  },
  {
   "cell_type": "markdown",
   "id": "5e048a6c-a82d-4e37-8eb7-369f4fe09b8d",
   "metadata": {},
   "source": [
    "## WP1"
   ]
  },
  {
   "cell_type": "code",
   "execution_count": 31,
   "id": "fa000723-8204-490d-beed-fc96133ab0fd",
   "metadata": {},
   "outputs": [],
   "source": [
    "model_1 = StackingAveragedModels(base_models = (ENet, GBoost, KRR, SVR, ridge, xtratree), meta_model = lasso, n_folds=6)"
   ]
  },
  {
   "cell_type": "code",
   "execution_count": 49,
   "id": "82a994a9-0543-4117-bd09-6d50877cc1a2",
   "metadata": {},
   "outputs": [
    {
     "data": {
      "text/plain": [
       "array([0.15712201, 0.15407175])"
      ]
     },
     "execution_count": 49,
     "metadata": {},
     "output_type": "execute_result"
    }
   ],
   "source": [
    "rmsle_cv(model_1, X1.to_numpy(), y1.to_numpy())"
   ]
  },
  {
   "cell_type": "code",
   "execution_count": 32,
   "id": "c79fc8f9-1bb4-4ffc-bef7-0b70e6f18d6e",
   "metadata": {},
   "outputs": [],
   "source": [
    "model_2 = StackingAveragedModels(base_models = (ENet, GBoost, KRR, SVR, ridge, xtratree), meta_model = lasso, n_folds=6)"
   ]
  },
  {
   "cell_type": "code",
   "execution_count": 33,
   "id": "d9bfbec7-b9b0-4f0e-93ec-c2b45dc06c3c",
   "metadata": {},
   "outputs": [],
   "source": [
    "model_3 = StackingAveragedModels(base_models = (ENet, GBoost, KRR, SVR, ridge, xtratree), meta_model = lasso, n_folds=6)"
   ]
  },
  {
   "cell_type": "code",
   "execution_count": 34,
   "id": "fe15a9a0-21d4-44c4-8c16-659b459c3b8c",
   "metadata": {},
   "outputs": [],
   "source": [
    "model_4 = StackingAveragedModels(base_models = (ENet, GBoost, KRR, SVR, ridge, xtratree), meta_model = lasso, n_folds=6)"
   ]
  },
  {
   "cell_type": "code",
   "execution_count": 35,
   "id": "60d481e3-b147-4c41-acc0-d3d757b4887c",
   "metadata": {},
   "outputs": [],
   "source": [
    "model_5 = StackingAveragedModels(base_models = (ENet, GBoost, KRR, SVR, ridge, xtratree), meta_model = lasso, n_folds=6)"
   ]
  },
  {
   "cell_type": "code",
   "execution_count": 36,
   "id": "c6bd0236-8130-4afa-bd26-a70228303406",
   "metadata": {},
   "outputs": [],
   "source": [
    "model_6 = StackingAveragedModels(base_models = (ENet, GBoost, KRR, SVR, ridge, xtratree), meta_model = lasso, n_folds=6)"
   ]
  },
  {
   "cell_type": "markdown",
   "id": "9e0905a9-40eb-4356-a6d6-f94184795224",
   "metadata": {},
   "source": [
    "# Predictions "
   ]
  },
  {
   "cell_type": "code",
   "execution_count": 37,
   "id": "ab4a8367-cf20-4315-afec-7f79878102e4",
   "metadata": {},
   "outputs": [],
   "source": [
    "to_drop_test = ['date','wd','forecast_time', 'forecast', \"forecast_dist\", 'wp']\n",
    "def make_prediction_dataset(test, to_drop=to_drop_test):\n",
    "    test_to_predict = test.dropna(subset=['ws','u','v'], how = 'any') # keeps only lines with u,v,ws,wd\n",
    "    test_to_predict = test_to_predict[test_to_predict['wp'].isna()] # keeps only lines with no wp\n",
    "    test_to_predict = test_to_predict.sort_values(by=['date', 'forecast_time'], ascending = [True, False]).drop_duplicates(subset='date')\n",
    "    test_to_predict = test_to_predict.drop(to_drop, axis = 1)\n",
    "    return test_to_predict"
   ]
  },
  {
   "cell_type": "code",
   "execution_count": 38,
   "id": "787439b7-6c92-42ef-b540-cda0dc986fa4",
   "metadata": {},
   "outputs": [],
   "source": [
    "def make_submission_file(lst_X_trains, lst_y_trains, lst_tests, lst_models, dates):\n",
    "    i = 1\n",
    "    lst_prediction = []\n",
    "    lst_models_trained = []\n",
    "    for X, y, test, model in zip(lst_X_trains, lst_y_trains, lst_tests, lst_models):\n",
    "        print(f'--------------Model {i}--------------')\n",
    "        X = X.to_numpy()\n",
    "        y = y.to_numpy()\n",
    "        test = test.to_numpy()\n",
    "        model.fit(X, y)\n",
    "        print(f'True:\\n\\tMin:{min(y)}\\n\\tMax:{max(y)}\\n\\tMean:{y.mean()}')\n",
    "        predictions = model.predict(test)\n",
    "        print(f'Prediction:\\n\\tMin:{min(predictions)}\\n\\tMax:{max(predictions)}\\n\\tMean:{np.mean(predictions)}')\n",
    "        predictions = [min(y) if i < 0 else i for i in predictions]\n",
    "        predictions = [max(y) if i > max(y) else i for i in predictions]\n",
    "        print(f'Prediction corrected:\\n\\tMin:{min(predictions)}\\n\\tMax:{max(predictions)}\\n\\tMean:{np.mean(predictions)}')\n",
    "        lst_prediction.append(predictions)\n",
    "        lst_models_trained.append(model)\n",
    "        i+=1\n",
    "    \n",
    "    df_predictions = pd.DataFrame({\n",
    "        'date': test_dates,\n",
    "        'wp1': lst_prediction[0],\n",
    "        'wp2': lst_prediction[1],\n",
    "        'wp3': lst_prediction[2],\n",
    "        'wp4': lst_prediction[3],\n",
    "        'wp5': lst_prediction[4],\n",
    "        'wp6': lst_prediction[5],        \n",
    "    })\n",
    "    return df_predictions, lst_models_trained"
   ]
  },
  {
   "cell_type": "code",
   "execution_count": 39,
   "id": "4e500e68-a4c6-493c-87ab-bbab9199f27e",
   "metadata": {},
   "outputs": [],
   "source": [
    "lst_models = [model_1, model_2, model_3, model_4, model_5, model_6]\n",
    "lst_X_trains = [X1, X2, X3, X4, X5, X6]\n",
    "lst_y_trains = [y1, y2, y3, y4, y5, y6]"
   ]
  },
  {
   "cell_type": "code",
   "execution_count": 40,
   "id": "a60d7dcd-85e7-4d07-990b-7b17cd2010e1",
   "metadata": {},
   "outputs": [],
   "source": [
    "lst_tests = []\n",
    "for test in [test_wp1, test_wp2, test_wp3, test_wp4, test_wp5, test_wp6]:\n",
    "    test = make_prediction_dataset(test)\n",
    "    lst_tests.append(test)"
   ]
  },
  {
   "cell_type": "markdown",
   "id": "becbb508-0320-4a9c-a7dd-05db21988b62",
   "metadata": {},
   "source": [
    "## Submission"
   ]
  },
  {
   "cell_type": "code",
   "execution_count": 50,
   "id": "26d8d32a-6e49-4bc8-b7c3-cb0e26082de3",
   "metadata": {
    "tags": []
   },
   "outputs": [
    {
     "name": "stdout",
     "output_type": "stream",
     "text": [
      "--------------Model 1--------------\n",
      "True:\n",
      "\tMin:0.0\n",
      "\tMax:0.96\n",
      "\tMean:0.2845981952075702\n",
      "Prediction:\n",
      "\tMin:-0.006746746432916978\n",
      "\tMax:0.9419688023249324\n",
      "\tMean:0.29716862371303715\n",
      "Prediction corrected:\n",
      "\tMin:0.0\n",
      "\tMax:0.9419688023249324\n",
      "\tMean:0.2971729038754171\n",
      "--------------Model 2--------------\n",
      "True:\n",
      "\tMin:0.0\n",
      "\tMax:0.966\n",
      "\tMean:0.25890153769841273\n",
      "Prediction:\n",
      "\tMin:-0.0030598439980085435\n",
      "\tMax:0.9835092777083578\n",
      "\tMean:0.25596330456912203\n",
      "Prediction corrected:\n",
      "\tMin:0.0\n",
      "\tMax:0.966\n",
      "\tMean:0.25595698472900497\n",
      "--------------Model 3--------------\n",
      "True:\n",
      "\tMin:0.0\n",
      "\tMax:0.989\n",
      "\tMean:0.2625247252747253\n",
      "Prediction:\n",
      "\tMin:-0.00470184864105494\n",
      "\tMax:0.9511918187193119\n",
      "\tMean:0.2875914958986607\n",
      "Prediction corrected:\n",
      "\tMin:0.0\n",
      "\tMax:0.9511918187193119\n",
      "\tMean:0.28759268047851366\n",
      "--------------Model 4--------------\n",
      "True:\n",
      "\tMin:0.0\n",
      "\tMax:0.992\n",
      "\tMean:0.2763637820512821\n",
      "Prediction:\n",
      "\tMin:-0.010767024353864674\n",
      "\tMax:0.9612622999141156\n",
      "\tMean:0.28081059911031253\n",
      "Prediction corrected:\n",
      "\tMin:0.0\n",
      "\tMax:0.9612622999141156\n",
      "\tMean:0.28081872135973857\n",
      "--------------Model 5--------------\n",
      "True:\n",
      "\tMin:0.0\n",
      "\tMax:0.978\n",
      "\tMean:0.32622119200244204\n",
      "Prediction:\n",
      "\tMin:-0.001105187618497816\n",
      "\tMax:0.9968900146920459\n",
      "\tMean:0.32926877395567644\n",
      "Prediction corrected:\n",
      "\tMin:0.0\n",
      "\tMax:0.978\n",
      "\tMean:0.3292548596592423\n",
      "--------------Model 6--------------\n",
      "True:\n",
      "\tMin:0.0\n",
      "\tMax:0.947\n",
      "\tMean:0.2425176472832723\n",
      "Prediction:\n",
      "\tMin:0.0008846019163106233\n",
      "\tMax:0.8677501234413378\n",
      "\tMean:0.2342524658362989\n",
      "Prediction corrected:\n",
      "\tMin:0.0008846019163106233\n",
      "\tMax:0.8677501234413378\n",
      "\tMean:0.2342524658362989\n"
     ]
    }
   ],
   "source": [
    "df_predictions, lst_models_trained = make_submission_file(lst_X_trains, lst_y_trains, lst_tests, lst_models, test_dates)"
   ]
  },
  {
   "cell_type": "code",
   "execution_count": 51,
   "id": "1bddcaf4-3b78-4794-8260-415f8f37871d",
   "metadata": {},
   "outputs": [],
   "source": [
    "nb_sub = 25\n",
    "model = \"cv_stacking\"\n",
    "lvl0 = \"0-ENet-GBoost-KRR-SVR-ridge-xtratree\"\n",
    "lvl1 = \"1-Lasso\"\n",
    "prepro = 'MaxAbs for all'\n",
    "postpro = \"Prediction limited by X_train min&max\""
   ]
  },
  {
   "cell_type": "code",
   "execution_count": 52,
   "id": "e4e8d0d3-e657-4682-b2a5-9268f92be5ee",
   "metadata": {},
   "outputs": [],
   "source": [
    "df_predictions.to_csv(f'Predictions/submission_nb_{nb_sub}_{model}_{lvl0}_{lvl1}.csv', index=False, sep=';')"
   ]
  },
  {
   "cell_type": "code",
   "execution_count": 57,
   "id": "0a0c6290-64a3-4e21-a045-d8b9df7fac7f",
   "metadata": {
    "tags": []
   },
   "outputs": [
    {
     "ename": "FileExistsError",
     "evalue": "[Errno 17] File exists: 'Predictions/submission-23_cv_stacking_0-ENet-GBoost-KRR-SVR-ridge-xtratree_1-Lasso.txt'",
     "output_type": "error",
     "traceback": [
      "\u001b[1;31m---------------------------------------------------------------------------\u001b[0m",
      "\u001b[1;31mFileExistsError\u001b[0m                           Traceback (most recent call last)",
      "\u001b[1;32m<ipython-input-57-8e084cda15eb>\u001b[0m in \u001b[0;36m<module>\u001b[1;34m\u001b[0m\n\u001b[1;32m----> 1\u001b[1;33m \u001b[0mf\u001b[0m \u001b[1;33m=\u001b[0m \u001b[0mopen\u001b[0m\u001b[1;33m(\u001b[0m\u001b[1;34mf\"Predictions/submission-{nb_sub}_{model}_{lvl0}_{lvl1}.txt\"\u001b[0m\u001b[1;33m,\u001b[0m \u001b[1;34m\"x\"\u001b[0m\u001b[1;33m)\u001b[0m\u001b[1;33m\u001b[0m\u001b[1;33m\u001b[0m\u001b[0m\n\u001b[0m\u001b[0;32m      2\u001b[0m \u001b[1;31m# f.write(f\"params_lgbm_1 = {str(params_lgbm_1)}\\nparams_xgb_1 = {str(params_xbg_1)}\\n\")\u001b[0m\u001b[1;33m\u001b[0m\u001b[1;33m\u001b[0m\u001b[1;33m\u001b[0m\u001b[0m\n\u001b[0;32m      3\u001b[0m \u001b[1;31m# f.write(f\"params_lgbm_1_bis = {str(params_lgbm_1_bis)}\\nparams_xbg_1_bis = {str(params_xbg_1_bis)}\\n\\n\")\u001b[0m\u001b[1;33m\u001b[0m\u001b[1;33m\u001b[0m\u001b[1;33m\u001b[0m\u001b[0m\n\u001b[0;32m      4\u001b[0m \u001b[1;31m# f.write(f\"params_lgbm_2 = {str(params_lgbm_2)}\\nparams_xgb_2 = {str(params_xbg_2)}\\n\")\u001b[0m\u001b[1;33m\u001b[0m\u001b[1;33m\u001b[0m\u001b[1;33m\u001b[0m\u001b[0m\n\u001b[0;32m      5\u001b[0m \u001b[1;31m# f.write(f\"params_lgbm_2_bis = {str(params_lgbm_2_bis)}\\nparams_xgb_2_bis = {str(params_xbg_2_bis)}\\n\\n\")\u001b[0m\u001b[1;33m\u001b[0m\u001b[1;33m\u001b[0m\u001b[1;33m\u001b[0m\u001b[0m\n",
      "\u001b[1;31mFileExistsError\u001b[0m: [Errno 17] File exists: 'Predictions/submission-23_cv_stacking_0-ENet-GBoost-KRR-SVR-ridge-xtratree_1-Lasso.txt'"
     ]
    }
   ],
   "source": [
    "f = open(f\"Predictions/submission-{nb_sub}_{model}_{lvl0}_{lvl1}.txt\", \"x\")\n",
    "# f.write(f\"params_lgbm_1 = {str(params_lgbm_1)}\\nparams_xgb_1 = {str(params_xbg_1)}\\n\")\n",
    "# f.write(f\"params_lgbm_1_bis = {str(params_lgbm_1_bis)}\\nparams_xbg_1_bis = {str(params_xbg_1_bis)}\\n\\n\")\n",
    "# f.write(f\"params_lgbm_2 = {str(params_lgbm_2)}\\nparams_xgb_2 = {str(params_xbg_2)}\\n\")\n",
    "# f.write(f\"params_lgbm_2_bis = {str(params_lgbm_2_bis)}\\nparams_xgb_2_bis = {str(params_xbg_2_bis)}\\n\\n\")\n",
    "# f.write(f\"params_lgbm_3 = {str(params_lgbm_3)}\\nparams_xgb_3 = {str(params_xbg_3)}\\n\")\n",
    "# f.write(f\"params_lgbm_3_bis = {str(params_lgbm_3_bis)}\\nparams_xgb_3_bis = {str(params_xbg_3_bis)}\\n\\n\")\n",
    "# f.write(f\"params_lgbm_4 = {str(params_lgbm_4)}\\nparams_xgb_4 = {str(params_xbg_4)}\\n\")\n",
    "# f.write(f\"params_lgbm_4_bis = {str(params_lgbm_4_bis)}\\nparams_xgb_4_bis = {str(params_xbg_4_bis)}\\n\\n\")\n",
    "# f.write(f\"params_lgbm_5 = {str(params_lgbm_5)}\\nparams_xgb_5 = {str(params_xbg_5)}\\n\")\n",
    "# f.write(f\"params_lgbm_5_bis = {str(params_lgbm_5_bis)}\\nparams_xgb_5_bis = {str(params_xbg_5_bis)}\\n\\n\")\n",
    "# f.write(f\"params_lgbm_6 = {str(params_lgbm_6)}\\nparams_xgb_6 = {str(params_xbg_6)}\\n\")\n",
    "# f.write(f\"params_lgbm_6_bis = {str(params_lgbm_6_bis)}\\nparams_xgb_6_bis = {str(params_xbg_6_bis)}\\n\\n\")\n",
    "f.write(\"Level 0 estimators:\")\n",
    "f.write(f\"xtratree = ExtraTreesRegressor(n_estimators=100)\\n ridge = make_pipeline(RobustScaler(), RidgeCV())\\n lasso = make_pipeline(RobustScaler(), Lasso(alpha =0.0005, random_state=1))\\n SVR = make_pipeline(RobustScaler(), LinearSVR())\\n KRR = KernelRidge(alpha=0.6, kernel='polynomial', degree=2, coef0=2.5)\\n ENet = make_pipeline(RobustScaler(), ElasticNet(alpha=0.0005, l1_ratio=.9, random_state=3))\\n GBoost = GradientBoostingRegressor(n_estimators=3000, learning_rate=0.05,\\nmax_depth=4, max_features='sqrt',\\nmin_samples_leaf=15, min_samples_split=10, \\nloss='huber', random_state =5)\\n\")\n",
    "\n",
    "# f.write(f\"Preprocessing: {prepro}\\n\")\n",
    "# f.write(f\"Postprocessing: {postpro}\\n\")\n",
    "f.write(f\"Level1 estimator: {lvl1}\\n\")\n",
    "f.write(f\"Models under the name: {model}_{lvl0}_{lvl1}\")\n",
    "f.close()"
   ]
  },
  {
   "cell_type": "code",
   "execution_count": 56,
   "id": "8cdf7692-020d-43d9-a644-0c28ddf87e0f",
   "metadata": {},
   "outputs": [],
   "source": [
    "pkl_model = f\"Models/Stacking/model_1-{model}_{lvl0}_{lvl1}.pkl\"\n",
    "with open(pkl_model, 'wb') as file:\n",
    "    pickle.dump(lst_models_trained[0], file)\n",
    "    \n",
    "    \n",
    "pkl_model = f\"Models/Stacking/model_2-{model}_{lvl0}_{lvl1}.pkl\"\n",
    "with open(pkl_model, 'wb') as file:\n",
    "    pickle.dump(lst_models_trained[1], file)\n",
    "    \n",
    "\n",
    "pkl_model = f\"Models/Stacking/model_3-{model}_{lvl0}_{lvl1}.pkl\"\n",
    "with open(pkl_model, 'wb') as file:\n",
    "    pickle.dump(lst_models_trained[2], file)\n",
    "\n",
    "\n",
    "pkl_model = f\"Models/Stacking/model_4-{model}_{lvl0}_{lvl1}.pkl\"\n",
    "with open(pkl_model, 'wb') as file:\n",
    "    pickle.dump(lst_models_trained[3], file)\n",
    "\n",
    "\n",
    "pkl_model = f\"Models/Stacking/model_5-{model}_{lvl0}_{lvl1}.pkl\"\n",
    "with open(pkl_model, 'wb') as file:\n",
    "    pickle.dump(lst_models_trained[4], file)\n",
    "\n",
    "\n",
    "pkl_model = f\"Models/Stacking/model_6-{model}_{lvl0}_{lvl1}.pkl\"\n",
    "with open(pkl_model, 'wb') as file:\n",
    "    pickle.dump(lst_models_trained[5], file)"
   ]
  }
 ],
 "metadata": {
  "kernelspec": {
   "display_name": "Python 3",
   "language": "python",
   "name": "python3"
  },
  "language_info": {
   "codemirror_mode": {
    "name": "ipython",
    "version": 3
   },
   "file_extension": ".py",
   "mimetype": "text/x-python",
   "name": "python",
   "nbconvert_exporter": "python",
   "pygments_lexer": "ipython3",
   "version": "3.8.5"
  },
  "toc-autonumbering": true,
  "toc-showcode": false,
  "toc-showmarkdowntxt": false
 },
 "nbformat": 4,
 "nbformat_minor": 5
}
