{
 "cells": [
  {
   "cell_type": "markdown",
   "id": "261ec557-50a0-4cd6-8bec-268d1dee685a",
   "metadata": {
    "jp-MarkdownHeadingCollapsed": true,
    "tags": []
   },
   "source": [
    "# LGBM Model development - CV one model per fold - optim NelderMead"
   ]
  },
  {
   "cell_type": "code",
   "execution_count": 3,
   "id": "1399bb0f-0234-43a6-b724-73f21f9b28b7",
   "metadata": {},
   "outputs": [],
   "source": [
    "import pandas as pd\n",
    "import seaborn as sns\n",
    "import openpyxl\n",
    "from datetime import datetime, timedelta\n",
    "import matplotlib.pyplot as plt\n",
    "import numpy as np\n",
    "import os\n",
    "import pickle\n",
    "import time"
   ]
  },
  {
   "cell_type": "code",
   "execution_count": 4,
   "id": "9a662ef3-a957-41fe-955d-1c5e99709226",
   "metadata": {},
   "outputs": [],
   "source": [
    "from sklearn.model_selection import KFold, train_test_split, cross_val_score\n",
    "from sklearn.preprocessing import MinMaxScaler, StandardScaler, MaxAbsScaler, RobustScaler\n",
    "from sklearn.pipeline import Pipeline\n",
    "from sklearn.metrics import mean_squared_error, mean_absolute_error\n",
    "import optuna\n",
    "from vmdpy import VMD"
   ]
  },
  {
   "cell_type": "code",
   "execution_count": 5,
   "id": "f54f8406-f577-4449-8edb-631854c78d48",
   "metadata": {},
   "outputs": [],
   "source": [
    "from scipy.optimize import minimize"
   ]
  },
  {
   "cell_type": "code",
   "execution_count": 6,
   "id": "0bc7dfff-4363-41ad-bfd2-5e5dd7c0ef63",
   "metadata": {},
   "outputs": [],
   "source": [
    "from Functions.helper_functions import * "
   ]
  },
  {
   "cell_type": "code",
   "execution_count": 7,
   "id": "3c184629-3914-4a2c-ba3f-5f111909f344",
   "metadata": {},
   "outputs": [],
   "source": [
    "import warnings\n",
    "warnings.filterwarnings(action='ignore', category=UserWarning)\n",
    "pd.options.mode.chained_assignment = None  # default='warn'"
   ]
  },
  {
   "cell_type": "code",
   "execution_count": 8,
   "id": "6333588b-f1b0-4a5b-afea-e53064be0d99",
   "metadata": {},
   "outputs": [],
   "source": [
    "np.random.seed(42)"
   ]
  },
  {
   "cell_type": "code",
   "execution_count": 9,
   "id": "27fe2014-4515-47a0-a3f9-b345a20341f8",
   "metadata": {},
   "outputs": [],
   "source": [
    "from Functions.preprocessing import *"
   ]
  },
  {
   "cell_type": "markdown",
   "id": "b617c0f5-e679-4a3f-9a62-12e03303d11f",
   "metadata": {
    "jp-MarkdownHeadingCollapsed": true,
    "tags": []
   },
   "source": [
    "# Data"
   ]
  },
  {
   "cell_type": "code",
   "execution_count": 10,
   "id": "c4d3258c-6931-447d-84b7-ac52ed05673a",
   "metadata": {},
   "outputs": [],
   "source": [
    "train_wp1 = pd.read_csv('Data/Preprocessing/WP1_train_preprocessed.csv', sep=',')\n",
    "train_wp2 = pd.read_csv('Data/Preprocessing/WP2_train_preprocessed.csv', sep=',')\n",
    "train_wp3 = pd.read_csv('Data/Preprocessing/WP3_train_preprocessed.csv', sep=',')\n",
    "train_wp4 = pd.read_csv('Data/Preprocessing/WP4_train_preprocessed.csv', sep=',')\n",
    "train_wp5 = pd.read_csv('Data/Preprocessing/WP5_train_preprocessed.csv', sep=',')\n",
    "train_wp6 = pd.read_csv('Data/Preprocessing/WP6_train_preprocessed.csv', sep=',')"
   ]
  },
  {
   "cell_type": "code",
   "execution_count": 11,
   "id": "69f752d4-63ed-43b9-9315-41ecaa114ce4",
   "metadata": {},
   "outputs": [],
   "source": [
    "test_wp1 = pd.read_csv('Data/Preprocessing/WP1_test_preprocessed.csv', sep=',')\n",
    "test_wp2 = pd.read_csv('Data/Preprocessing/WP2_test_preprocessed.csv', sep=',')\n",
    "test_wp3 = pd.read_csv('Data/Preprocessing/WP3_test_preprocessed.csv', sep=',')\n",
    "test_wp4 = pd.read_csv('Data/Preprocessing/WP4_test_preprocessed.csv', sep=',')\n",
    "test_wp5 = pd.read_csv('Data/Preprocessing/WP5_test_preprocessed.csv', sep=',')\n",
    "test_wp6 = pd.read_csv('Data/Preprocessing/WP6_test_preprocessed.csv', sep=',')\n",
    "test_dates = pd.read_csv('Data/Initial/test.csv', sep=',').date.values"
   ]
  },
  {
   "cell_type": "code",
   "execution_count": 12,
   "id": "9353d78d-6554-4d5c-924c-462c4b6dba54",
   "metadata": {},
   "outputs": [],
   "source": [
    "train_wp1_vmf = pd.read_csv('Data/Preprocessing/WP1_train_Signal.csv', sep=',')\n",
    "train_wp2_vmf = pd.read_csv('Data/Preprocessing/WP2_train_Signal.csv', sep=',')\n",
    "train_wp3_vmf = pd.read_csv('Data/Preprocessing/WP3_train_Signal.csv', sep=',')\n",
    "train_wp4_vmf = pd.read_csv('Data/Preprocessing/WP4_train_Signal.csv', sep=',')\n",
    "train_wp5_vmf = pd.read_csv('Data/Preprocessing/WP5_train_Signal.csv', sep=',')\n",
    "train_wp6_vmf = pd.read_csv('Data/Preprocessing/WP6_train_Signal.csv', sep=',')"
   ]
  },
  {
   "cell_type": "code",
   "execution_count": 13,
   "id": "7540aa92-fc5e-4431-8e79-faba9f0cecad",
   "metadata": {},
   "outputs": [],
   "source": [
    "to_drop = ['date','wd','forecast_time', 'forecast', \"forecast_dist\"]"
   ]
  },
  {
   "cell_type": "code",
   "execution_count": 14,
   "id": "b0be88be-a88e-4777-a80f-66d64c4d0089",
   "metadata": {},
   "outputs": [],
   "source": [
    "u_to_drop = [\n",
    "    'u_T_1', 'u_T_2', 'u_T_3', 'u_T_4', 'u_T_5', 'u_T_6', \n",
    "    'u_T_2_mean', 'u_T_3_mean', 'u_T_4_mean', 'u_T_5_mean', 'u_T_6_mean', 'u_T_7_mean',\n",
    "    'u_T_8_mean', 'u_T_9_mean', 'u_T_10_mean', 'u_T_11_mean', 'u_T_12_mean','u_T_24_mean',\n",
    "    'u_T_2_std', 'u_T_4_std', 'u_T_5_std', 'u_T_6_std',\n",
    "    'u_T_2_median', 'u_T_3_median', 'u_T_4_median', 'u_T_5_median', 'u_T_6_median', 'u_T_12_median','u_T_24_median', 'u_T_36_median',\n",
    "    'u_T_2_max', 'u_T_3_max', 'u_T_4_max', 'u_T_5_max', 'u_T_6_max', 'u_T_12_max',\n",
    "    'u_T_2_min', 'u_T_3_min', 'u_T_4_min', 'u_T_5_min', 'u_T_6_min', 'u_T_12_min',\n",
    "    'u2_T_1', 'u2_T_2', 'u2_T_3', 'u2_T_4', 'u2_T_5', 'u2_T_6', \n",
    "    'u2_T_2_mean', 'u2_T_3_mean', 'u2_T_4_mean', 'u2_T_5_mean', 'u2_T_6_mean', 'u2_T_7_mean',\n",
    "    'u2_T_8_mean', 'u2_T_9_mean', 'u2_T_10_mean', 'u2_T_11_mean', 'u2_T_12_mean','u2_T_24_mean',\n",
    "    'u2_T_2_std', 'u2_T_4_std', 'u2_T_5_std', 'u2_T_6_std', 'u2_T_24_std',\n",
    "    'u2_T_2_median', 'u2_T_3_median', 'u2_T_4_median', 'u2_T_5_median', 'u2_T_6_median', 'u2_T_12_median',\n",
    "    'u2_T_2_max','u2_T_3_max', 'u2_T_4_max','u2_T_5_max', 'u2_T_6_max', 'u2_T_12_max',\n",
    "    'u2_T_2_min', 'u2_T_3_min', 'u2_T_4_min', 'u2_T_5_min', 'u2_T_6_min',\n",
    "    'u2_T_12', 'u2_T_36_mean', 'u2_T_36_std', 'u2_T_24_median', 'u2_T_24_max',\n",
    "    'u_T_36_mean','u_T_12','u_T_24_max','u2_T_36_median','u_T_24_min'\n",
    "]\n",
    "ws_to_drop = [\n",
    "    'ws_T_1', 'ws_T_2', 'ws_T_3', 'ws_T_4', 'ws_T_5', 'ws_T_6', 'ws_T_7', 'ws_T_8', 'ws_T_10','ws_T_11', 'ws_T_12',\n",
    "    'ws_T_2_mean', 'ws_T_3_mean', 'ws_T_4_mean', 'ws_T_5_mean', 'ws_T_6_mean', 'ws_T_7_mean', 'ws_T_8_mean', 'ws_T_9_mean', \n",
    "    'ws_T_10_mean', 'ws_T_11_mean', 'ws_T_12_mean', 'ws_T_24_mean', \n",
    "    'ws_T_2_std', 'ws_T_3_std', 'ws_T_4_std', 'ws_T_5_std', \n",
    "    'ws_T_2_median', 'ws_T_3_median', 'ws_T_4_median', 'ws_T_5_median', 'ws_T_6_median',\n",
    "    'ws_T_12_median', 'ws_T_24_median', 'ws_T_36_median',\n",
    "    'ws_T_2_max', 'ws_T_3_max', 'ws_T_4_max', 'ws_T_5_max','ws_T_6_max', 'ws_T_12_max',\n",
    "     'ws_T_2_min', 'ws_T_3_min', 'ws_T_4_min', 'ws_T_5_min', 'ws_T_6_min', 'ws_T_12_min','ws_T_24_max','ws_T_24_min'\n",
    "]\n",
    "\n",
    "v_to_drop = [\n",
    "    'v_T_1', 'v_T_2', 'v_T_3', 'v_T_4', 'v_T_5', 'v_T_6', \n",
    "    'v_T_2_mean', 'v_T_3_mean', 'v_T_4_mean', 'v_T_5_mean', 'v_T_6_mean', 'v_T_7_mean',\n",
    "    'v_T_8_mean', 'v_T_9_mean', 'v_T_10_mean', 'v_T_11_mean', 'v_T_12_mean', 'v_T_24_mean','v_T_36_mean',\n",
    "    'v_T_3_std', 'v_T_4_std', 'v_T_5_std','v_T_6_std','v_T_24_std', 'v_T_36_median',\n",
    "    'v_T_2_median', 'v_T_3_median', 'v_T_4_median', 'v_T_5_median', 'v_T_6_median', \n",
    "    'v_T_2_max', 'v_T_3_max', 'v_T_4_max', 'v_T_5_max', 'v_T_6_max', 'v_T_12_max', \n",
    "    'v_T_2_min', 'v_T_3_min', 'v_T_4_min', 'v_T_5_min', 'v_T_6_min', 'v_T_12_min', \n",
    "    'v_T_36_min', 'v_T_36', 'v_T_24_max',  'v_T_12_median', 'v_T_24_median',\n",
    "]\n",
    "\n",
    "wd_to_drop = [\n",
    "    'coswd_1', 'coswd_2', 'coswd_3', 'coswd_4', 'coswd_5', 'coswd_6',\n",
    "    'coswd_2_mean', 'coswd_3_mean', 'coswd_4_mean', 'coswd_5_mean', 'coswd_6_mean', 'coswd_7_mean', \n",
    "    'coswd_8_mean', 'coswd_9_mean', 'coswd_10_mean', 'coswd_11_mean', 'coswd_12_mean', 'coswd_24_mean', \n",
    "    'coswd_3_std', 'coswd_4_std','coswd_5_std','coswd_2_median', 'coswd_3_median','coswd_4_median', \n",
    "    'coswd_5_median', 'coswd_6_median', 'coswd_36_median', 'coswd_24_median', 'coswd_12_median',\n",
    "    'coswd_2_max', 'coswd_3_max', 'coswd_4_max', 'coswd_5_max', 'coswd_6_max', 'coswd_12_max', 'coswd_24_max',\n",
    "    'coswd_2_min', 'coswd_3_min', 'coswd_4_min', 'coswd_5_min', 'coswd_6_min', 'coswd_12_min', 'coswd_24_min',\n",
    "    'ws_T_36_max', 'ws_T_36_min', 'coswd_12', 'coswd_24'\n",
    "]\n",
    "\n",
    "other_to_drop = [\n",
    "    'cos_day', 'u', 'v'\n",
    "]\n",
    "\n",
    "feature_corr = u_to_drop+ws_to_drop+v_to_drop+wd_to_drop+other_to_drop\n",
    "#to_drop = to_drop+feature_corr"
   ]
  },
  {
   "cell_type": "markdown",
   "id": "d0204367-344e-4837-9d27-c07833112862",
   "metadata": {
    "jp-MarkdownHeadingCollapsed": true,
    "tags": []
   },
   "source": [
    "# LGBM functions"
   ]
  },
  {
   "cell_type": "code",
   "execution_count": 15,
   "id": "df77bdff-aa3c-42cd-91a2-4ecb5bffdead",
   "metadata": {
    "tags": []
   },
   "outputs": [],
   "source": [
    "from lightgbm import LGBMRegressor"
   ]
  },
  {
   "cell_type": "code",
   "execution_count": 16,
   "id": "06b25086-f413-4305-a2a3-ca3de93887f1",
   "metadata": {},
   "outputs": [],
   "source": [
    "def create_dataset(data,n,split):\n",
    "    n_batch=int(len(data)/84)\n",
    "    new_data=np.array_split(data,n_batch)\n",
    "    train = pd.DataFrame()\n",
    "    val=pd.DataFrame()\n",
    "    for i in range(n_batch):\n",
    "        if (i+n)%split ==0:\n",
    "            val = pd.concat([val,new_data[i]])\n",
    "        else:\n",
    "            train=pd.concat([train,new_data[i]])\n",
    "    return train,val"
   ]
  },
  {
   "cell_type": "code",
   "execution_count": 17,
   "id": "71b925ab-bed2-43ee-9ea5-514ba40b9f0d",
   "metadata": {},
   "outputs": [],
   "source": [
    "def create_lst_dataset(x,y,cv):\n",
    "    lst_X=[]\n",
    "    lst_Y=[]\n",
    "    split=cv\n",
    "    for n in range(cv):\n",
    "        print('-----Creating {0} Xs-----'.format(n+1))\n",
    "        X_train,X_test=create_dataset(data=x,n=n,split=split)\n",
    "        lst_X.append(X_train)\n",
    "        print('-----Creating {0} Ys-----'.format(n+1))\n",
    "        Y_train,Y_test=create_dataset(data=y,n=n,split=split)\n",
    "        lst_Y.append(Y_train)\n",
    "        try:\n",
    "            len(X_train)==len(Y_train)\n",
    "        except:\n",
    "            print('/!\\ lengh non identicale')\n",
    "    return lst_X, lst_Y"
   ]
  },
  {
   "cell_type": "code",
   "execution_count": 18,
   "id": "d65dc789-3fea-4c32-8e13-89dc54654109",
   "metadata": {},
   "outputs": [],
   "source": [
    "def create_lst_lst_dataset(x,y,cv):\n",
    "    lst_dataset_Y=[]\n",
    "    lst_dataset_X=[]\n",
    "    i=0\n",
    "    for x,y in zip(x,y):\n",
    "        start_time = time.time()\n",
    "        \n",
    "\n",
    "        print('----Start Creating {0} dataset list----'.format(i+1))\n",
    "        X_train,Y_train=create_lst_dataset(x=x,y=y,cv=cv)\n",
    "        print('--------Appending-----')\n",
    "        lst_dataset_X.append(X_train)\n",
    "        lst_dataset_Y.append(Y_train)\n",
    "        print('-----completed round {0}'.format(i+1))\n",
    "        i+=1\n",
    "        print(\"--- %s seconds ---\" % (time.time() - start_time))\n",
    "    return lst_dataset_X,lst_dataset_Y"
   ]
  },
  {
   "cell_type": "code",
   "execution_count": 19,
   "id": "38829e20-4afe-4300-90c4-770c194f75ea",
   "metadata": {},
   "outputs": [],
   "source": [
    "def create_lst_model(cv,n_estimators):\n",
    "    model_1=[]\n",
    "    model_2=[]\n",
    "    model_3=[]\n",
    "    model_4=[]\n",
    "    model_5=[]\n",
    "    model_6=[]\n",
    "    for i in range(cv):\n",
    "        model=Pipeline([('scaler', MaxAbsScaler()),('ridge', LGBMRegressor(num_iterations=n_estimators,n_jobs=-1))])\n",
    "        model_1+=[model]\n",
    "        model_2+=[model]\n",
    "        model_3+=[model]\n",
    "        model_4+=[model]\n",
    "        model_5+=[model]\n",
    "        model_6+=[model]\n",
    "    return [model_1,model_2,model_3,model_4,model_5,model_6]"
   ]
  },
  {
   "cell_type": "markdown",
   "id": "b78ff012-f8a3-49e7-a5e5-ab5afd7ae9a6",
   "metadata": {
    "jp-MarkdownHeadingCollapsed": true,
    "tags": []
   },
   "source": [
    "# DATA"
   ]
  },
  {
   "cell_type": "code",
   "execution_count": 20,
   "id": "9d6619b7-3127-4695-9099-e2eb9b098eeb",
   "metadata": {
    "tags": []
   },
   "outputs": [],
   "source": [
    "wp1_X = train_wp1[[c for c in train_wp1 if c not in [\"wp\"]] + [\"wp\"]].drop(to_drop, axis = 1)\n",
    "X1 = wp1_X.drop('wp', axis=1)\n",
    "y1 = wp1_X['wp']"
   ]
  },
  {
   "cell_type": "code",
   "execution_count": 21,
   "id": "963168d9-5603-43b1-849c-44027e745841",
   "metadata": {},
   "outputs": [],
   "source": [
    "wp2_X = train_wp2[[c for c in train_wp2 if c not in [\"wp\"]] + [\"wp\"]].drop(to_drop, axis = 1)\n",
    "X2 = wp2_X.drop('wp', axis=1)\n",
    "y2 = wp2_X['wp']"
   ]
  },
  {
   "cell_type": "code",
   "execution_count": 22,
   "id": "ec857fb9-02d5-4524-8edd-43bbe5c79da4",
   "metadata": {},
   "outputs": [],
   "source": [
    "wp3_X = train_wp3[[c for c in train_wp3 if c not in [\"wp\"]] + [\"wp\"]].drop(to_drop, axis = 1)\n",
    "X3 = wp3_X.drop('wp', axis = 1)\n",
    "y3 = wp3_X['wp']\n"
   ]
  },
  {
   "cell_type": "code",
   "execution_count": 23,
   "id": "b3d5a0f0-2fc9-432c-bd7f-378fa37aeb0b",
   "metadata": {},
   "outputs": [],
   "source": [
    "wp4_X = train_wp4[[c for c in train_wp4 if c not in [\"wp\"]] + [\"wp\"]].drop(to_drop, axis = 1)\n",
    "X4 = wp4_X.drop('wp', axis = 1)\n",
    "y4 = wp4_X['wp']"
   ]
  },
  {
   "cell_type": "code",
   "execution_count": 24,
   "id": "2b517321-b217-46e1-b80a-3200bd61e747",
   "metadata": {},
   "outputs": [],
   "source": [
    "wp5_X = train_wp5[[c for c in train_wp5 if c not in [\"wp\"]] + [\"wp\"]].drop(to_drop, axis = 1)\n",
    "X5 = wp5_X.drop('wp', axis = 1)\n",
    "y5 = wp5_X['wp']"
   ]
  },
  {
   "cell_type": "code",
   "execution_count": 25,
   "id": "736f3edb-9f25-4a7b-a266-816425438b42",
   "metadata": {
    "tags": []
   },
   "outputs": [],
   "source": [
    "wp6_X = train_wp6[[c for c in train_wp6 if c not in [\"wp\"]] + [\"wp\"]].drop(to_drop, axis = 1)\n",
    "X6 = wp6_X.drop('wp', axis = 1)\n",
    "y6 = wp6_X['wp']"
   ]
  },
  {
   "cell_type": "markdown",
   "id": "50001434-5b44-4a93-8005-ab7794310e1d",
   "metadata": {
    "tags": []
   },
   "source": [
    "# Creating the 8 dataset per WP"
   ]
  },
  {
   "cell_type": "code",
   "execution_count": 26,
   "id": "26f64486-fdcb-4668-bd4a-8bc534f90d8f",
   "metadata": {},
   "outputs": [],
   "source": [
    "lst_X1_train, lst_y1_train,lst_X1_test,lst_y1_test =  splitting_train_test_forecast(df_wp=train_wp1)\n",
    "lst_y1_vmf_train,lst_y1_vmf_test = splitting_train_test_vmd(df_wp=train_wp1_vmf)"
   ]
  },
  {
   "cell_type": "code",
   "execution_count": 27,
   "id": "2828fed6-5ee9-4a76-9a1c-a4f2ed13fe17",
   "metadata": {},
   "outputs": [],
   "source": [
    "for i in range(len(lst_X1_train)):\n",
    "    lst_X1_train[i] = lst_X1_train[i].drop(to_drop,axis=1)\n",
    "    lst_X1_test[i] = lst_X1_test[i].drop(to_drop,axis=1)"
   ]
  },
  {
   "cell_type": "code",
   "execution_count": 28,
   "id": "0748e737-db22-40b2-baf0-de6ec557b352",
   "metadata": {},
   "outputs": [],
   "source": [
    "lst_X2_train, lst_y2_train,lst_X2_test,lst_y2_test =  splitting_train_test_forecast(df_wp=train_wp2)\n",
    "lst_y2_vmf_train,lst_y2_vmf_test = splitting_train_test_vmd(df_wp=train_wp2_vmf)"
   ]
  },
  {
   "cell_type": "code",
   "execution_count": 29,
   "id": "f506fd37-e04b-401d-979d-9a4def6b2ab0",
   "metadata": {},
   "outputs": [],
   "source": [
    "for i in range(len(lst_X1_train)):\n",
    "    lst_X2_train[i] = lst_X2_train[i].drop(to_drop,axis=1)\n",
    "    lst_X2_test[i] = lst_X2_test[i].drop(to_drop,axis=1)"
   ]
  },
  {
   "cell_type": "code",
   "execution_count": 30,
   "id": "8dbd8dbc-33ea-4728-9c9d-90dfe2e4044d",
   "metadata": {},
   "outputs": [],
   "source": [
    "lst_X3_train, lst_y3_train,lst_X3_test,lst_y3_test =  splitting_train_test_forecast(df_wp=train_wp3)\n",
    "lst_y3_vmf_train,lst_y3_vmf_test = splitting_train_test_vmd(df_wp=train_wp3_vmf)"
   ]
  },
  {
   "cell_type": "code",
   "execution_count": 31,
   "id": "576eead0-95a8-4a4f-95d6-c8ffb74a2e87",
   "metadata": {},
   "outputs": [],
   "source": [
    "for i in range(len(lst_X3_train)):\n",
    "    lst_X3_train[i] = lst_X3_train[i].drop(to_drop,axis=1)\n",
    "    lst_X3_test[i] = lst_X3_test[i].drop(to_drop,axis=1)"
   ]
  },
  {
   "cell_type": "code",
   "execution_count": 32,
   "id": "eec04690-f7d0-4730-b1fd-d528df1e82d9",
   "metadata": {},
   "outputs": [],
   "source": [
    "lst_X4_train, lst_y4_train,lst_X4_test,lst_y4_test =  splitting_train_test_forecast(df_wp=train_wp4)\n",
    "lst_y4_vmf_train,lst_y4_vmf_test = splitting_train_test_vmd(df_wp=train_wp4_vmf)"
   ]
  },
  {
   "cell_type": "code",
   "execution_count": 33,
   "id": "9888c5d3-9cd2-4ecb-8248-044390910b49",
   "metadata": {},
   "outputs": [],
   "source": [
    "for i in range(len(lst_X4_train)):\n",
    "    lst_X4_train[i] = lst_X4_train[i].drop(to_drop,axis=1)\n",
    "    lst_X4_test[i] = lst_X4_test[i].drop(to_drop,axis=1)"
   ]
  },
  {
   "cell_type": "code",
   "execution_count": 34,
   "id": "475c5ffe-ade5-416a-8f33-57692438371f",
   "metadata": {},
   "outputs": [],
   "source": [
    "lst_X5_train, lst_y5_train,lst_X5_test,lst_y5_test =  splitting_train_test_forecast(df_wp=train_wp5)\n",
    "lst_y5_vmf_train,lst_y5_vmf_test = splitting_train_test_vmd(df_wp=train_wp5_vmf)"
   ]
  },
  {
   "cell_type": "code",
   "execution_count": 35,
   "id": "3669c3b6-fa82-4df8-9935-ba4e406826c4",
   "metadata": {},
   "outputs": [],
   "source": [
    "for i in range(len(lst_X5_train)):\n",
    "    lst_X5_train[i] = lst_X5_train[i].drop(to_drop,axis=1)\n",
    "    lst_X5_test[i] = lst_X5_test[i].drop(to_drop,axis=1)"
   ]
  },
  {
   "cell_type": "code",
   "execution_count": 36,
   "id": "e2f5b953-e947-4b48-9959-974294a2cf6e",
   "metadata": {},
   "outputs": [],
   "source": [
    "lst_X6_train, lst_y6_train,lst_X6_test,lst_y6_test =  splitting_train_test_forecast(df_wp=train_wp6)\n",
    "lst_y6_vmf_train,lst_y6_vmf_test = splitting_train_test_vmd(df_wp=train_wp6_vmf)"
   ]
  },
  {
   "cell_type": "code",
   "execution_count": 37,
   "id": "f85dc15b-cc9f-4628-b54b-5d4c0d18fd3c",
   "metadata": {},
   "outputs": [],
   "source": [
    "for i in range(len(lst_X6_train)):\n",
    "    lst_X6_train[i] = lst_X6_train[i].drop(to_drop,axis=1)\n",
    "    lst_X6_test[i] = lst_X6_test[i].drop(to_drop,axis=1)"
   ]
  },
  {
   "cell_type": "code",
   "execution_count": 51,
   "id": "787d13e7-c21a-4c38-9484-b6377869c153",
   "metadata": {},
   "outputs": [],
   "source": [
    "def create_lst_model(cv,n_estimators):\n",
    "    model_1=[]\n",
    "    model_2=[]\n",
    "    model_3=[]\n",
    "    model_4=[]\n",
    "    model_5=[]\n",
    "    model_6=[]\n",
    "    model_1_vmf=[]\n",
    "    model_2_vmf=[]\n",
    "    model_3_vmf=[]\n",
    "    model_4_vmf=[]\n",
    "    model_5_vmf=[]\n",
    "    model_6_vmf=[]\n",
    "    \n",
    "    for i in range(cv):\n",
    "        model=Pipeline([('scaler', RobustScaler()),('ridge', LGBMRegressor(num_iterations=n_estimators,n_jobs=-1))])\n",
    "        model_1+=[model]\n",
    "        model_2+=[model]\n",
    "        model_3+=[model]\n",
    "        model_4+=[model]\n",
    "        model_5+=[model]\n",
    "        model_6+=[model]\n",
    "    for i in range(4):\n",
    "        model_1_vmf.append(model_1)\n",
    "        model_2_vmf.append(model_2)\n",
    "        model_3_vmf.append(model_3)\n",
    "        model_4_vmf.append(model_4)\n",
    "        model_5_vmf.append(model_5)\n",
    "        model_6_vmf.append(model_6)\n",
    "    return [model_1_vmf,model_2_vmf,model_3_vmf,model_4_vmf,model_5_vmf,model_6_vmf]"
   ]
  },
  {
   "cell_type": "code",
   "execution_count": 39,
   "id": "6a3262d6-9405-487c-b270-64a5f1b0c656",
   "metadata": {},
   "outputs": [],
   "source": [
    "lst_X = [X1, X2, X3, X4, X5, X6]\n",
    "lst_Y = [y1, y2, y3, y4, y5, y6]"
   ]
  },
  {
   "cell_type": "code",
   "execution_count": 52,
   "id": "fc014aa8-eaff-4414-b808-7b8e9b2a26ab",
   "metadata": {},
   "outputs": [],
   "source": [
    "lst_model = create_lst_model(cv=8,n_estimators=50)"
   ]
  },
  {
   "cell_type": "code",
   "execution_count": 59,
   "id": "bca5e147-a542-4a27-8973-19cd426ebfa1",
   "metadata": {},
   "outputs": [],
   "source": [
    "lst_X_trains_split = [lst_X1_train,lst_X2_train,lst_X3_train,lst_X4_train,lst_X5_train,lst_X6_train]\n",
    "lst_Y_trains_split = [lst_y1_train,lst_y2_train,lst_y3_train,lst_y4_train,lst_y5_train,lst_y6_train]\n",
    "lst_Y_trains_vmf = [lst_y1_vmf_train,lst_y2_vmf_train,lst_y3_vmf_train,lst_y4_vmf_train,lst_y5_vmf_train,lst_y6_vmf_train]"
   ]
  },
  {
   "cell_type": "markdown",
   "id": "85f011b9-f16d-4591-91b6-c0e973b99f54",
   "metadata": {},
   "source": [
    "# WIP"
   ]
  },
  {
   "cell_type": "code",
   "execution_count": 63,
   "id": "65d70891-36d3-412f-8b6a-7f47e968a4f2",
   "metadata": {},
   "outputs": [
    {
     "name": "stdout",
     "output_type": "stream",
     "text": [
      "wpn° 1 vmf n° 0 set n° 0\n",
      "wpn° 1 vmf n° 0 set n° 1\n",
      "wpn° 1 vmf n° 0 set n° 2\n",
      "wpn° 1 vmf n° 0 set n° 3\n",
      "wpn° 1 vmf n° 0 set n° 4\n",
      "wpn° 1 vmf n° 0 set n° 5\n",
      "wpn° 1 vmf n° 0 set n° 6\n",
      "wpn° 1 vmf n° 0 set n° 7\n",
      "wpn° 1 vmf n° 1 set n° 0\n",
      "wpn° 1 vmf n° 1 set n° 1\n",
      "wpn° 1 vmf n° 1 set n° 2\n",
      "wpn° 1 vmf n° 1 set n° 3\n",
      "wpn° 1 vmf n° 1 set n° 4\n",
      "wpn° 1 vmf n° 1 set n° 5\n",
      "wpn° 1 vmf n° 1 set n° 6\n",
      "wpn° 1 vmf n° 1 set n° 7\n",
      "wpn° 1 vmf n° 2 set n° 0\n",
      "wpn° 1 vmf n° 2 set n° 1\n",
      "wpn° 1 vmf n° 2 set n° 2\n",
      "wpn° 1 vmf n° 2 set n° 3\n",
      "wpn° 1 vmf n° 2 set n° 4\n",
      "wpn° 1 vmf n° 2 set n° 5\n",
      "wpn° 1 vmf n° 2 set n° 6\n",
      "wpn° 1 vmf n° 2 set n° 7\n",
      "wpn° 1 vmf n° 3 set n° 0\n",
      "wpn° 1 vmf n° 3 set n° 1\n",
      "wpn° 1 vmf n° 3 set n° 2\n",
      "wpn° 1 vmf n° 3 set n° 3\n",
      "wpn° 1 vmf n° 3 set n° 4\n",
      "wpn° 1 vmf n° 3 set n° 5\n",
      "wpn° 1 vmf n° 3 set n° 6\n",
      "wpn° 1 vmf n° 3 set n° 7\n",
      "wpn° 2 vmf n° 0 set n° 0\n",
      "wpn° 2 vmf n° 0 set n° 1\n",
      "wpn° 2 vmf n° 0 set n° 2\n",
      "wpn° 2 vmf n° 0 set n° 3\n",
      "wpn° 2 vmf n° 0 set n° 4\n",
      "wpn° 2 vmf n° 0 set n° 5\n",
      "wpn° 2 vmf n° 0 set n° 6\n",
      "wpn° 2 vmf n° 0 set n° 7\n",
      "wpn° 2 vmf n° 1 set n° 0\n",
      "wpn° 2 vmf n° 1 set n° 1\n",
      "wpn° 2 vmf n° 1 set n° 2\n",
      "wpn° 2 vmf n° 1 set n° 3\n",
      "wpn° 2 vmf n° 1 set n° 4\n",
      "wpn° 2 vmf n° 1 set n° 5\n",
      "wpn° 2 vmf n° 1 set n° 6\n",
      "wpn° 2 vmf n° 1 set n° 7\n",
      "wpn° 2 vmf n° 2 set n° 0\n",
      "wpn° 2 vmf n° 2 set n° 1\n",
      "wpn° 2 vmf n° 2 set n° 2\n",
      "wpn° 2 vmf n° 2 set n° 3\n",
      "wpn° 2 vmf n° 2 set n° 4\n",
      "wpn° 2 vmf n° 2 set n° 5\n",
      "wpn° 2 vmf n° 2 set n° 6\n",
      "wpn° 2 vmf n° 2 set n° 7\n",
      "wpn° 2 vmf n° 3 set n° 0\n",
      "wpn° 2 vmf n° 3 set n° 1\n",
      "wpn° 2 vmf n° 3 set n° 2\n",
      "wpn° 2 vmf n° 3 set n° 3\n",
      "wpn° 2 vmf n° 3 set n° 4\n",
      "wpn° 2 vmf n° 3 set n° 5\n",
      "wpn° 2 vmf n° 3 set n° 6\n",
      "wpn° 2 vmf n° 3 set n° 7\n",
      "wpn° 3 vmf n° 0 set n° 0\n",
      "wpn° 3 vmf n° 0 set n° 1\n",
      "wpn° 3 vmf n° 0 set n° 2\n",
      "wpn° 3 vmf n° 0 set n° 3\n",
      "wpn° 3 vmf n° 0 set n° 4\n",
      "wpn° 3 vmf n° 0 set n° 5\n",
      "wpn° 3 vmf n° 0 set n° 6\n",
      "wpn° 3 vmf n° 0 set n° 7\n",
      "wpn° 3 vmf n° 1 set n° 0\n",
      "wpn° 3 vmf n° 1 set n° 1\n",
      "wpn° 3 vmf n° 1 set n° 2\n",
      "wpn° 3 vmf n° 1 set n° 3\n",
      "wpn° 3 vmf n° 1 set n° 4\n",
      "wpn° 3 vmf n° 1 set n° 5\n",
      "wpn° 3 vmf n° 1 set n° 6\n",
      "wpn° 3 vmf n° 1 set n° 7\n",
      "wpn° 3 vmf n° 2 set n° 0\n",
      "wpn° 3 vmf n° 2 set n° 1\n",
      "wpn° 3 vmf n° 2 set n° 2\n",
      "wpn° 3 vmf n° 2 set n° 3\n",
      "wpn° 3 vmf n° 2 set n° 4\n",
      "wpn° 3 vmf n° 2 set n° 5\n",
      "wpn° 3 vmf n° 2 set n° 6\n",
      "wpn° 3 vmf n° 2 set n° 7\n",
      "wpn° 3 vmf n° 3 set n° 0\n",
      "wpn° 3 vmf n° 3 set n° 1\n",
      "wpn° 3 vmf n° 3 set n° 2\n",
      "wpn° 3 vmf n° 3 set n° 3\n",
      "wpn° 3 vmf n° 3 set n° 4\n",
      "wpn° 3 vmf n° 3 set n° 5\n",
      "wpn° 3 vmf n° 3 set n° 6\n",
      "wpn° 3 vmf n° 3 set n° 7\n",
      "wpn° 4 vmf n° 0 set n° 0\n",
      "wpn° 4 vmf n° 0 set n° 1\n",
      "wpn° 4 vmf n° 0 set n° 2\n",
      "wpn° 4 vmf n° 0 set n° 3\n",
      "wpn° 4 vmf n° 0 set n° 4\n",
      "wpn° 4 vmf n° 0 set n° 5\n",
      "wpn° 4 vmf n° 0 set n° 6\n",
      "wpn° 4 vmf n° 0 set n° 7\n",
      "wpn° 4 vmf n° 1 set n° 0\n",
      "wpn° 4 vmf n° 1 set n° 1\n",
      "wpn° 4 vmf n° 1 set n° 2\n",
      "wpn° 4 vmf n° 1 set n° 3\n",
      "wpn° 4 vmf n° 1 set n° 4\n",
      "wpn° 4 vmf n° 1 set n° 5\n",
      "wpn° 4 vmf n° 1 set n° 6\n",
      "wpn° 4 vmf n° 1 set n° 7\n",
      "wpn° 4 vmf n° 2 set n° 0\n",
      "wpn° 4 vmf n° 2 set n° 1\n",
      "wpn° 4 vmf n° 2 set n° 2\n",
      "wpn° 4 vmf n° 2 set n° 3\n",
      "wpn° 4 vmf n° 2 set n° 4\n",
      "wpn° 4 vmf n° 2 set n° 5\n",
      "wpn° 4 vmf n° 2 set n° 6\n",
      "wpn° 4 vmf n° 2 set n° 7\n",
      "wpn° 4 vmf n° 3 set n° 0\n",
      "wpn° 4 vmf n° 3 set n° 1\n",
      "wpn° 4 vmf n° 3 set n° 2\n",
      "wpn° 4 vmf n° 3 set n° 3\n",
      "wpn° 4 vmf n° 3 set n° 4\n",
      "wpn° 4 vmf n° 3 set n° 5\n",
      "wpn° 4 vmf n° 3 set n° 6\n",
      "wpn° 4 vmf n° 3 set n° 7\n",
      "wpn° 5 vmf n° 0 set n° 0\n",
      "wpn° 5 vmf n° 0 set n° 1\n",
      "wpn° 5 vmf n° 0 set n° 2\n",
      "wpn° 5 vmf n° 0 set n° 3\n",
      "wpn° 5 vmf n° 0 set n° 4\n",
      "wpn° 5 vmf n° 0 set n° 5\n",
      "wpn° 5 vmf n° 0 set n° 6\n",
      "wpn° 5 vmf n° 0 set n° 7\n",
      "wpn° 5 vmf n° 1 set n° 0\n",
      "wpn° 5 vmf n° 1 set n° 1\n",
      "wpn° 5 vmf n° 1 set n° 2\n",
      "wpn° 5 vmf n° 1 set n° 3\n",
      "wpn° 5 vmf n° 1 set n° 4\n",
      "wpn° 5 vmf n° 1 set n° 5\n",
      "wpn° 5 vmf n° 1 set n° 6\n",
      "wpn° 5 vmf n° 1 set n° 7\n",
      "wpn° 5 vmf n° 2 set n° 0\n",
      "wpn° 5 vmf n° 2 set n° 1\n",
      "wpn° 5 vmf n° 2 set n° 2\n",
      "wpn° 5 vmf n° 2 set n° 3\n",
      "wpn° 5 vmf n° 2 set n° 4\n",
      "wpn° 5 vmf n° 2 set n° 5\n",
      "wpn° 5 vmf n° 2 set n° 6\n",
      "wpn° 5 vmf n° 2 set n° 7\n",
      "wpn° 5 vmf n° 3 set n° 0\n",
      "wpn° 5 vmf n° 3 set n° 1\n",
      "wpn° 5 vmf n° 3 set n° 2\n",
      "wpn° 5 vmf n° 3 set n° 3\n",
      "wpn° 5 vmf n° 3 set n° 4\n",
      "wpn° 5 vmf n° 3 set n° 5\n",
      "wpn° 5 vmf n° 3 set n° 6\n",
      "wpn° 5 vmf n° 3 set n° 7\n",
      "wpn° 6 vmf n° 0 set n° 0\n",
      "wpn° 6 vmf n° 0 set n° 1\n",
      "wpn° 6 vmf n° 0 set n° 2\n",
      "wpn° 6 vmf n° 0 set n° 3\n",
      "wpn° 6 vmf n° 0 set n° 4\n",
      "wpn° 6 vmf n° 0 set n° 5\n",
      "wpn° 6 vmf n° 0 set n° 6\n",
      "wpn° 6 vmf n° 0 set n° 7\n",
      "wpn° 6 vmf n° 1 set n° 0\n",
      "wpn° 6 vmf n° 1 set n° 1\n",
      "wpn° 6 vmf n° 1 set n° 2\n",
      "wpn° 6 vmf n° 1 set n° 3\n",
      "wpn° 6 vmf n° 1 set n° 4\n",
      "wpn° 6 vmf n° 1 set n° 5\n",
      "wpn° 6 vmf n° 1 set n° 6\n",
      "wpn° 6 vmf n° 1 set n° 7\n",
      "wpn° 6 vmf n° 2 set n° 0\n",
      "wpn° 6 vmf n° 2 set n° 1\n",
      "wpn° 6 vmf n° 2 set n° 2\n",
      "wpn° 6 vmf n° 2 set n° 3\n",
      "wpn° 6 vmf n° 2 set n° 4\n",
      "wpn° 6 vmf n° 2 set n° 5\n",
      "wpn° 6 vmf n° 2 set n° 6\n",
      "wpn° 6 vmf n° 2 set n° 7\n",
      "wpn° 6 vmf n° 3 set n° 0\n",
      "wpn° 6 vmf n° 3 set n° 1\n",
      "wpn° 6 vmf n° 3 set n° 2\n",
      "wpn° 6 vmf n° 3 set n° 3\n",
      "wpn° 6 vmf n° 3 set n° 4\n",
      "wpn° 6 vmf n° 3 set n° 5\n",
      "wpn° 6 vmf n° 3 set n° 6\n",
      "wpn° 6 vmf n° 3 set n° 7\n"
     ]
    }
   ],
   "source": [
    "lst_predictions_all=[]\n",
    "t=1\n",
    "for model,x_all,x,y in zip(lst_model,lst_X,lst_X_trains_split,lst_Y_trains_vmf):\n",
    "    lst_predictions_wp=[]\n",
    "    for n  in range(4):\n",
    "        lst_predictions=[]\n",
    "        #print(t)\n",
    "        for i in range(8):\n",
    "            print('wpn°',t,'vmf n°',n,'set n°',i)\n",
    "            clf=model[n][i]\n",
    "            clf.fit(x[i],y[n][i])\n",
    "            lst_predictions.append(clf.predict(x_all))\n",
    "        lst_predictions_wp.append(lst_predictions)\n",
    "    lst_predictions_all.append(lst_predictions_wp)\n",
    "    t+=1"
   ]
  },
  {
   "cell_type": "code",
   "execution_count": null,
   "id": "36ee40dc-d985-476e-b551-aad55b8ed87c",
   "metadata": {},
   "outputs": [
    {
     "name": "stdout",
     "output_type": "stream",
     "text": [
      "(6, 4, 8, 52416)\n"
     ]
    }
   ],
   "source": [
    "print(np.shape(lst_predictions_all))"
   ]
  },
  {
   "cell_type": "code",
   "execution_count": 79,
   "id": "26a8ee58-726e-451c-9189-0a20c5cad820",
   "metadata": {},
   "outputs": [],
   "source": [
    "lst_Y_vmf=[train_wp1_vmf,train_wp2_vmf,train_wp3_vmf,train_wp4_vmf,train_wp5_vmf,train_wp6_vmf]"
   ]
  },
  {
   "cell_type": "code",
   "execution_count": 86,
   "id": "08911be8-0fae-4632-a8e8-8e107976d796",
   "metadata": {},
   "outputs": [],
   "source": [
    "weights_all=[]\n",
    "\n",
    "\n",
    "for pred,y in zip(lst_predictions_all,lst_Y_vmf):\n",
    "    weights_wp=[]\n",
    "    for n in y:\n",
    "        t=0\n",
    "        weights=[]\n",
    "        for i in range(8):\n",
    "            weights.append(0)\n",
    "        def mae_func(weights):\n",
    "            #final_prediction=0\n",
    "            for i in range(len(weights)):\n",
    "                if i==0:\n",
    "                    vmf_prediction = weights[i]*pred[t][i]\n",
    "                else:\n",
    "                    vmf_prediction += weights[i]*pred[t][i]\n",
    "            return mean_absolute_error(y[n], vmf_prediction)\n",
    "        res = minimize(mae_func, weights, method='Nelder-Mead')\n",
    "        weights_wp.append(res['x'])\n",
    "        t+=1\n",
    "    weights_all.append(weights_wp)\n",
    "        \n",
    "    "
   ]
  },
  {
   "cell_type": "code",
   "execution_count": null,
   "id": "997e3c7b-a04c-4ccc-a4fd-0394885f7fdf",
   "metadata": {},
   "outputs": [],
   "source": [
    "np.shape(weights_all)"
   ]
  },
  {
   "cell_type": "code",
   "execution_count": 121,
   "id": "64b7331e-6dad-4ad3-9789-7f7da95f8dfe",
   "metadata": {},
   "outputs": [
    {
     "data": {
      "text/plain": [
       "[array([ 0.16152797,  0.15239149,  0.27934466, -0.04361564,  0.14972733,\n",
       "         0.28971335, -0.0020108 ,  0.03745717]),\n",
       " array([-0.00965762,  0.00750477,  0.00623397,  0.00347515,  0.00301775,\n",
       "         0.01089148, -0.01031694, -0.00373615]),\n",
       " array([-0.05969936,  0.03095898,  0.00498088,  0.00423984,  0.02918677,\n",
       "         0.01444835, -0.02558098,  0.01725592]),\n",
       " array([-0.00302778,  0.00416696,  0.00018796, -0.00036801,  0.00105584,\n",
       "        -0.00420941,  0.00040992,  0.00125723])]"
      ]
     },
     "execution_count": 121,
     "metadata": {},
     "output_type": "execute_result"
    }
   ],
   "source": [
    "weights_all[6]"
   ]
  },
  {
   "cell_type": "code",
   "execution_count": 88,
   "id": "ddea936d-2fde-484e-bec0-ba50e358d61d",
   "metadata": {},
   "outputs": [],
   "source": [
    "to_drop_test = ['date','wd','forecast_time', 'forecast', \"forecast_dist\", 'wp']#+feature_corr\n",
    "def make_prediction_dataset(test, to_drop=to_drop_test):\n",
    "    test_to_predict = test.dropna(subset=['ws','u','v'], how = 'any') # keeps only lines with u,v,ws,wd\n",
    "    test_to_predict = test_to_predict[test_to_predict['wp'].isna()] # keeps only lines with no wp\n",
    "    test_to_predict = test_to_predict.sort_values(by=['date', 'forecast_time'], ascending = [True, False]).drop_duplicates(subset='date')\n",
    "    test_to_predict = test_to_predict.drop(to_drop, axis = 1)\n",
    "    return test_to_predict"
   ]
  },
  {
   "cell_type": "code",
   "execution_count": 89,
   "id": "fd2987dc-69fb-4490-b24c-4fab7ebb6ceb",
   "metadata": {},
   "outputs": [],
   "source": [
    "lst_tests = []\n",
    "for test in [test_wp1, test_wp2, test_wp3, test_wp4, test_wp5, test_wp6]:\n",
    "    test = make_prediction_dataset(test)\n",
    "    lst_tests.append(test)"
   ]
  },
  {
   "cell_type": "code",
   "execution_count": 98,
   "id": "0a11b39c-4f13-431f-88a0-de3b6fdef4ea",
   "metadata": {},
   "outputs": [
    {
     "data": {
      "text/plain": [
       "(0       -0.000561\n",
       " 1        0.000560\n",
       " 2       -0.000524\n",
       " 3        0.000538\n",
       " 4        0.024409\n",
       "            ...   \n",
       " 52411    0.884414\n",
       " 52412    0.883417\n",
       " 52413    0.859542\n",
       " 52414    0.832535\n",
       " 52415    0.833492\n",
       " Length: 52416, dtype: float64,\n",
       " array([3, 3, 3, 3]))"
      ]
     },
     "execution_count": 98,
     "metadata": {},
     "output_type": "execute_result"
    }
   ],
   "source": [
    "test_lst = [[1,2],[1,2],[1,2],[1,2]]\n",
    "np.sum(lst_Y_vmf[0],axis=1), np.sum(test_lst,axis=1)"
   ]
  },
  {
   "cell_type": "code",
   "execution_count": 103,
   "id": "dd3a8490-22a9-415f-8006-40c817bbe994",
   "metadata": {},
   "outputs": [],
   "source": [
    "lst_final_prediction=[]\n",
    "for weights,model,test,x_train,y_train in zip(weights_all,lst_model,lst_tests,lst_X_trains_split,lst_Y_trains_vmf):\n",
    "    lst_wp_prediction=[]\n",
    "    for t in range(4):\n",
    "        #lst_vmf_prediction=[]\n",
    "        for i in range(8):\n",
    "            clf=model[t][i]\n",
    "            clf.fit(x_train[i],y_train[t][i])\n",
    "            if i==0:\n",
    "                y_pred=clf.predict(test)*weights[t][i]\n",
    "            else:\n",
    "                y_pred+=clf.predict(test)*weights[t][i]\n",
    "        lst_wp_prediction.append(y_pred)\n",
    "    lst_final_prediction.append(np.sum(lst_wp_prediction,axis=0))\n",
    "    \n",
    "        "
   ]
  },
  {
   "cell_type": "code",
   "execution_count": 104,
   "id": "0ceb66c3-9c59-435a-9b5d-7f2c3a697b5b",
   "metadata": {},
   "outputs": [
    {
     "data": {
      "text/plain": [
       "(6, 7440)"
      ]
     },
     "execution_count": 104,
     "metadata": {},
     "output_type": "execute_result"
    }
   ],
   "source": [
    "np.shape(lst_final_prediction)"
   ]
  },
  {
   "cell_type": "code",
   "execution_count": 106,
   "id": "84437c05-13cb-4047-965c-e00df8ce32dc",
   "metadata": {},
   "outputs": [
    {
     "data": {
      "text/plain": [
       "7440"
      ]
     },
     "execution_count": 106,
     "metadata": {},
     "output_type": "execute_result"
    }
   ],
   "source": [
    "len(lst_tests[0])"
   ]
  },
  {
   "cell_type": "code",
   "execution_count": 105,
   "id": "a9414a3b-297f-43f7-8f32-b825ae651851",
   "metadata": {},
   "outputs": [
    {
     "data": {
      "text/plain": [
       "array([0.64193229, 0.62571231, 0.62381889, ..., 0.11791451, 0.09170484,\n",
       "       0.12799395])"
      ]
     },
     "execution_count": 105,
     "metadata": {},
     "output_type": "execute_result"
    }
   ],
   "source": [
    "lst_final_prediction[0]"
   ]
  },
  {
   "cell_type": "code",
   "execution_count": 107,
   "id": "851f2c25-1fb3-4901-a478-b041c7361c6e",
   "metadata": {},
   "outputs": [],
   "source": [
    "df_predictions = pd.DataFrame({\n",
    "        'date': test_dates,\n",
    "        'wp1': lst_final_prediction[0],\n",
    "        'wp2': lst_final_prediction[1],\n",
    "        'wp3': lst_final_prediction[2],\n",
    "        'wp4': lst_final_prediction[3],\n",
    "        'wp5': lst_final_prediction[4],\n",
    "        'wp6': lst_final_prediction[5],        \n",
    "    })"
   ]
  },
  {
   "cell_type": "code",
   "execution_count": 108,
   "id": "b82ee477-0e9a-4398-b111-50bfb57c441f",
   "metadata": {},
   "outputs": [],
   "source": [
    "nb_sub = 46\n",
    "model = \"vmdlgm_7models_traintestsplit\"\n",
    "prepro = 'RobustScaler'\n",
    "postpro = \"Prediction limited by 0-1\""
   ]
  },
  {
   "cell_type": "code",
   "execution_count": 109,
   "id": "2da8a01e-0303-45f0-b6c4-d67d55e654f0",
   "metadata": {},
   "outputs": [],
   "source": [
    "# df_predictions.to_csv('Predictions/submission_nb_10_full_maxabs-lgbm-featselect.csv', index=False, sep=';')\n",
    "df_predictions.to_csv(f'Predictions/submission_nb_{nb_sub}_{model}.csv', index=False, sep=';')"
   ]
  },
  {
   "cell_type": "code",
   "execution_count": 111,
   "id": "afae81d3-9c79-488b-ab82-b2cb7dc5a1bf",
   "metadata": {},
   "outputs": [
    {
     "data": {
      "text/html": [
       "<div>\n",
       "<style scoped>\n",
       "    .dataframe tbody tr th:only-of-type {\n",
       "        vertical-align: middle;\n",
       "    }\n",
       "\n",
       "    .dataframe tbody tr th {\n",
       "        vertical-align: top;\n",
       "    }\n",
       "\n",
       "    .dataframe thead th {\n",
       "        text-align: right;\n",
       "    }\n",
       "</style>\n",
       "<table border=\"1\" class=\"dataframe\">\n",
       "  <thead>\n",
       "    <tr style=\"text-align: right;\">\n",
       "      <th></th>\n",
       "      <th>date</th>\n",
       "      <th>wp1</th>\n",
       "      <th>wp2</th>\n",
       "      <th>wp3</th>\n",
       "      <th>wp4</th>\n",
       "      <th>wp5</th>\n",
       "      <th>wp6</th>\n",
       "    </tr>\n",
       "  </thead>\n",
       "  <tbody>\n",
       "    <tr>\n",
       "      <th>7435</th>\n",
       "      <td>2012062420</td>\n",
       "      <td>0.136342</td>\n",
       "      <td>0.083236</td>\n",
       "      <td>0.206316</td>\n",
       "      <td>0.144016</td>\n",
       "      <td>0.208217</td>\n",
       "      <td>0.172234</td>\n",
       "    </tr>\n",
       "    <tr>\n",
       "      <th>7436</th>\n",
       "      <td>2012062421</td>\n",
       "      <td>0.144033</td>\n",
       "      <td>0.077648</td>\n",
       "      <td>0.255161</td>\n",
       "      <td>0.113880</td>\n",
       "      <td>0.205506</td>\n",
       "      <td>0.161259</td>\n",
       "    </tr>\n",
       "    <tr>\n",
       "      <th>7437</th>\n",
       "      <td>2012062422</td>\n",
       "      <td>0.117915</td>\n",
       "      <td>0.078133</td>\n",
       "      <td>0.311428</td>\n",
       "      <td>0.101872</td>\n",
       "      <td>0.205371</td>\n",
       "      <td>0.157525</td>\n",
       "    </tr>\n",
       "    <tr>\n",
       "      <th>7438</th>\n",
       "      <td>2012062423</td>\n",
       "      <td>0.091705</td>\n",
       "      <td>0.076934</td>\n",
       "      <td>0.355547</td>\n",
       "      <td>0.099505</td>\n",
       "      <td>0.187013</td>\n",
       "      <td>0.171684</td>\n",
       "    </tr>\n",
       "    <tr>\n",
       "      <th>7439</th>\n",
       "      <td>2012062500</td>\n",
       "      <td>0.127994</td>\n",
       "      <td>0.065098</td>\n",
       "      <td>0.363785</td>\n",
       "      <td>0.105747</td>\n",
       "      <td>0.195329</td>\n",
       "      <td>0.199380</td>\n",
       "    </tr>\n",
       "  </tbody>\n",
       "</table>\n",
       "</div>"
      ],
      "text/plain": [
       "            date       wp1       wp2       wp3       wp4       wp5       wp6\n",
       "7435  2012062420  0.136342  0.083236  0.206316  0.144016  0.208217  0.172234\n",
       "7436  2012062421  0.144033  0.077648  0.255161  0.113880  0.205506  0.161259\n",
       "7437  2012062422  0.117915  0.078133  0.311428  0.101872  0.205371  0.157525\n",
       "7438  2012062423  0.091705  0.076934  0.355547  0.099505  0.187013  0.171684\n",
       "7439  2012062500  0.127994  0.065098  0.363785  0.105747  0.195329  0.199380"
      ]
     },
     "execution_count": 111,
     "metadata": {},
     "output_type": "execute_result"
    }
   ],
   "source": [
    "df_predictions.tail()"
   ]
  },
  {
   "cell_type": "code",
   "execution_count": null,
   "id": "103a570b-7743-43e5-8db0-297ea268f9b8",
   "metadata": {},
   "outputs": [],
   "source": []
  }
 ],
 "metadata": {
  "kernelspec": {
   "display_name": "Python 3 (ipykernel)",
   "language": "python",
   "name": "python3"
  },
  "language_info": {
   "codemirror_mode": {
    "name": "ipython",
    "version": 3
   },
   "file_extension": ".py",
   "mimetype": "text/x-python",
   "name": "python",
   "nbconvert_exporter": "python",
   "pygments_lexer": "ipython3",
   "version": "3.8.6"
  }
 },
 "nbformat": 4,
 "nbformat_minor": 5
}
