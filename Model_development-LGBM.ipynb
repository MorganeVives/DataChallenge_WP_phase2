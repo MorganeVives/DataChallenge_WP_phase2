{
 "cells": [
  {
   "cell_type": "markdown",
   "id": "261ec557-50a0-4cd6-8bec-268d1dee685a",
   "metadata": {},
   "source": [
    "# LGBM Model development"
   ]
  },
  {
   "cell_type": "code",
   "execution_count": 21,
   "id": "1399bb0f-0234-43a6-b724-73f21f9b28b7",
   "metadata": {},
   "outputs": [],
   "source": [
    "import pandas as pd\n",
    "import seaborn as sns\n",
    "import openpyxl\n",
    "from datetime import datetime, timedelta\n",
    "import matplotlib.pyplot as plt\n",
    "import numpy as np\n",
    "import os\n",
    "import pickle"
   ]
  },
  {
   "cell_type": "code",
   "execution_count": 22,
   "id": "9a662ef3-a957-41fe-955d-1c5e99709226",
   "metadata": {},
   "outputs": [],
   "source": [
    "from sklearn.model_selection import KFold, train_test_split, cross_val_score\n",
    "from sklearn.preprocessing import MinMaxScaler, StandardScaler, MaxAbsScaler\n",
    "from sklearn.pipeline import Pipeline\n",
    "from sklearn.metrics import mean_squared_error, mean_absolute_error\n",
    "import optuna"
   ]
  },
  {
   "cell_type": "code",
   "execution_count": 23,
   "id": "0bc7dfff-4363-41ad-bfd2-5e5dd7c0ef63",
   "metadata": {},
   "outputs": [],
   "source": [
    "from Functions.helper_functions import * "
   ]
  },
  {
   "cell_type": "code",
   "execution_count": 24,
   "id": "3c184629-3914-4a2c-ba3f-5f111909f344",
   "metadata": {},
   "outputs": [],
   "source": [
    "import warnings\n",
    "warnings.filterwarnings(action='ignore', category=UserWarning)\n",
    "pd.options.mode.chained_assignment = None  # default='warn'"
   ]
  },
  {
   "cell_type": "code",
   "execution_count": 25,
   "id": "6333588b-f1b0-4a5b-afea-e53064be0d99",
   "metadata": {},
   "outputs": [],
   "source": [
    "np.random.seed(42)"
   ]
  },
  {
   "cell_type": "markdown",
   "id": "b617c0f5-e679-4a3f-9a62-12e03303d11f",
   "metadata": {},
   "source": [
    "# Data"
   ]
  },
  {
   "cell_type": "code",
   "execution_count": 27,
   "id": "c4d3258c-6931-447d-84b7-ac52ed05673a",
   "metadata": {},
   "outputs": [],
   "source": [
    "train_wp1 = pd.read_csv('Data/Preprocessing/WP1_train_preprocessed.csv', sep=',')\n",
    "train_wp2 = pd.read_csv('Data/Preprocessing/WP2_train_preprocessed.csv', sep=',')\n",
    "train_wp3 = pd.read_csv('Data/Preprocessing/WP3_train_preprocessed.csv', sep=',')\n",
    "train_wp4 = pd.read_csv('Data/Preprocessing/WP4_train_preprocessed.csv', sep=',')\n",
    "train_wp5 = pd.read_csv('Data/Preprocessing/WP5_train_preprocessed.csv', sep=',')\n",
    "train_wp6 = pd.read_csv('Data/Preprocessing/WP6_train_preprocessed.csv', sep=',')"
   ]
  },
  {
   "cell_type": "code",
   "execution_count": 28,
   "id": "69f752d4-63ed-43b9-9315-41ecaa114ce4",
   "metadata": {},
   "outputs": [],
   "source": [
    "test_wp1 = pd.read_csv('Data/Preprocessing/WP1_test_preprocessed.csv', sep=',')\n",
    "test_wp2 = pd.read_csv('Data/Preprocessing/WP2_test_preprocessed.csv', sep=',')\n",
    "test_wp3 = pd.read_csv('Data/Preprocessing/WP3_test_preprocessed.csv', sep=',')\n",
    "test_wp4 = pd.read_csv('Data/Preprocessing/WP4_test_preprocessed.csv', sep=',')\n",
    "test_wp5 = pd.read_csv('Data/Preprocessing/WP5_test_preprocessed.csv', sep=',')\n",
    "test_wp6 = pd.read_csv('Data/Preprocessing/WP6_test_preprocessed.csv', sep=',')\n",
    "test_dates = pd.read_csv('Data/Initial/test.csv', sep=',').date.values"
   ]
  },
  {
   "cell_type": "code",
   "execution_count": 29,
   "id": "7540aa92-fc5e-4431-8e79-faba9f0cecad",
   "metadata": {},
   "outputs": [],
   "source": [
    "to_drop = ['date','wd','forecast_time', 'forecast', \"forecast_dist\"]"
   ]
  },
  {
   "cell_type": "code",
   "execution_count": 30,
   "id": "b0be88be-a88e-4777-a80f-66d64c4d0089",
   "metadata": {
    "jupyter": {
     "source_hidden": true
    },
    "tags": []
   },
   "outputs": [],
   "source": [
    "u_to_drop = [\n",
    "    'u_T_1', 'u_T_2', 'u_T_3', 'u_T_4', 'u_T_5', 'u_T_6', \n",
    "    'u_T_2_mean', 'u_T_3_mean', 'u_T_4_mean', 'u_T_5_mean', 'u_T_6_mean', 'u_T_7_mean',\n",
    "    'u_T_8_mean', 'u_T_9_mean', 'u_T_10_mean', 'u_T_11_mean', 'u_T_12_mean','u_T_24_mean',\n",
    "    'u_T_2_std', 'u_T_4_std', 'u_T_5_std', 'u_T_6_std',\n",
    "    'u_T_2_median', 'u_T_3_median', 'u_T_4_median', 'u_T_5_median', 'u_T_6_median', 'u_T_12_median','u_T_24_median', 'u_T_36_median',\n",
    "    'u_T_2_max', 'u_T_3_max', 'u_T_4_max', 'u_T_5_max', 'u_T_6_max', 'u_T_12_max',\n",
    "    'u_T_2_min', 'u_T_3_min', 'u_T_4_min', 'u_T_5_min', 'u_T_6_min', 'u_T_12_min',\n",
    "    'u2_T_1', 'u2_T_2', 'u2_T_3', 'u2_T_4', 'u2_T_5', 'u2_T_6', \n",
    "    'u2_T_2_mean', 'u2_T_3_mean', 'u2_T_4_mean', 'u2_T_5_mean', 'u2_T_6_mean', 'u2_T_7_mean',\n",
    "    'u2_T_8_mean', 'u2_T_9_mean', 'u2_T_10_mean', 'u2_T_11_mean', 'u2_T_12_mean','u2_T_24_mean',\n",
    "    'u2_T_2_std', 'u2_T_4_std', 'u2_T_5_std', 'u2_T_6_std', 'u2_T_24_std',\n",
    "    'u2_T_2_median', 'u2_T_3_median', 'u2_T_4_median', 'u2_T_5_median', 'u2_T_6_median', 'u2_T_12_median',\n",
    "    'u2_T_2_max','u2_T_3_max', 'u2_T_4_max','u2_T_5_max', 'u2_T_6_max', 'u2_T_12_max',\n",
    "    'u2_T_2_min', 'u2_T_3_min', 'u2_T_4_min', 'u2_T_5_min', 'u2_T_6_min',\n",
    "    'u2_T_12', 'u2_T_36_mean', 'u2_T_36_std', 'u2_T_24_median', 'u2_T_24_max',\n",
    "    'u_T_36_mean','u_T_12','u_T_24_max','u2_T_36_median','u_T_24_min'\n",
    "]\n",
    "ws_to_drop = [\n",
    "    'ws_T_1', 'ws_T_2', 'ws_T_3', 'ws_T_4', 'ws_T_5', 'ws_T_6', 'ws_T_7', 'ws_T_8', 'ws_T_10','ws_T_11', 'ws_T_12',\n",
    "    'ws_T_2_mean', 'ws_T_3_mean', 'ws_T_4_mean', 'ws_T_5_mean', 'ws_T_6_mean', 'ws_T_7_mean', 'ws_T_8_mean', 'ws_T_9_mean', \n",
    "    'ws_T_10_mean', 'ws_T_11_mean', 'ws_T_12_mean', 'ws_T_24_mean', \n",
    "    'ws_T_2_std', 'ws_T_3_std', 'ws_T_4_std', 'ws_T_5_std', \n",
    "    'ws_T_2_median', 'ws_T_3_median', 'ws_T_4_median', 'ws_T_5_median', 'ws_T_6_median',\n",
    "    'ws_T_12_median', 'ws_T_24_median', 'ws_T_36_median',\n",
    "    'ws_T_2_max', 'ws_T_3_max', 'ws_T_4_max', 'ws_T_5_max','ws_T_6_max', 'ws_T_12_max',\n",
    "     'ws_T_2_min', 'ws_T_3_min', 'ws_T_4_min', 'ws_T_5_min', 'ws_T_6_min', 'ws_T_12_min','ws_T_24_max','ws_T_24_min'\n",
    "]\n",
    "\n",
    "v_to_drop = [\n",
    "    'v_T_1', 'v_T_2', 'v_T_3', 'v_T_4', 'v_T_5', 'v_T_6', \n",
    "    'v_T_2_mean', 'v_T_3_mean', 'v_T_4_mean', 'v_T_5_mean', 'v_T_6_mean', 'v_T_7_mean',\n",
    "    'v_T_8_mean', 'v_T_9_mean', 'v_T_10_mean', 'v_T_11_mean', 'v_T_12_mean', 'v_T_24_mean','v_T_36_mean',\n",
    "    'v_T_3_std', 'v_T_4_std', 'v_T_5_std','v_T_6_std','v_T_24_std', 'v_T_36_median',\n",
    "    'v_T_2_median', 'v_T_3_median', 'v_T_4_median', 'v_T_5_median', 'v_T_6_median', \n",
    "    'v_T_2_max', 'v_T_3_max', 'v_T_4_max', 'v_T_5_max', 'v_T_6_max', 'v_T_12_max', \n",
    "    'v_T_2_min', 'v_T_3_min', 'v_T_4_min', 'v_T_5_min', 'v_T_6_min', 'v_T_12_min', \n",
    "    'v_T_36_min', 'v_T_36', 'v_T_24_max',  'v_T_12_median', 'v_T_24_median',\n",
    "]\n",
    "\n",
    "wd_to_drop = [\n",
    "    'coswd_1', 'coswd_2', 'coswd_3', 'coswd_4', 'coswd_5', 'coswd_6',\n",
    "    'coswd_2_mean', 'coswd_3_mean', 'coswd_4_mean', 'coswd_5_mean', 'coswd_6_mean', 'coswd_7_mean', \n",
    "    'coswd_8_mean', 'coswd_9_mean', 'coswd_10_mean', 'coswd_11_mean', 'coswd_12_mean', 'coswd_24_mean', \n",
    "    'coswd_3_std', 'coswd_4_std','coswd_5_std','coswd_2_median', 'coswd_3_median','coswd_4_median', \n",
    "    'coswd_5_median', 'coswd_6_median', 'coswd_36_median', 'coswd_24_median', 'coswd_12_median',\n",
    "    'coswd_2_max', 'coswd_3_max', 'coswd_4_max', 'coswd_5_max', 'coswd_6_max', 'coswd_12_max', 'coswd_24_max',\n",
    "    'coswd_2_min', 'coswd_3_min', 'coswd_4_min', 'coswd_5_min', 'coswd_6_min', 'coswd_12_min', 'coswd_24_min',\n",
    "    'ws_T_36_max', 'ws_T_36_min', 'coswd_12', 'coswd_24'\n",
    "]\n",
    "\n",
    "other_to_drop = [\n",
    "    'cos_day', 'u', 'v'\n",
    "]\n",
    "\n",
    "feature_corr = u_to_drop+ws_to_drop+v_to_drop+wd_to_drop+other_to_drop\n",
    "to_drop = feature_corr+to_drop"
   ]
  },
  {
   "cell_type": "markdown",
   "id": "d0204367-344e-4837-9d27-c07833112862",
   "metadata": {},
   "source": [
    "# LGBM functions"
   ]
  },
  {
   "cell_type": "code",
   "execution_count": 31,
   "id": "df77bdff-aa3c-42cd-91a2-4ecb5bffdead",
   "metadata": {
    "tags": []
   },
   "outputs": [],
   "source": [
    "from lightgbm import LGBMRegressor"
   ]
  },
  {
   "cell_type": "code",
   "execution_count": 32,
   "id": "0c2fd0c0-976c-4e83-8a23-a86d1864e2a7",
   "metadata": {
    "tags": []
   },
   "outputs": [],
   "source": [
    "# def lgbm_cross_validation(X, y, params):\n",
    "#     if params == None:\n",
    "#         model = LGBMRegressor()\n",
    "#     else:\n",
    "#         model = LGBMRegressor(**params)\n",
    "\n",
    "#     print('-----------LGBM CROSS VALIDATION BEGINNING-----------')\n",
    "#     split = 10\n",
    "#     kf = KFold(n_splits=split, shuffle=True)       \n",
    "#     lgbm_rmse_scores = []\n",
    "#     lgbm_mae_scores = []\n",
    "#     i = 1\n",
    "#     for (train_index, test_index) in kf.split(pd.DataFrame(X), pd.DataFrame(y)):\n",
    "#         X_train, X_test = pd.DataFrame(X).iloc[train_index], pd.DataFrame(X).iloc[test_index]\n",
    "#         Y_train, Y_test = pd.DataFrame(y).iloc[train_index],pd.DataFrame(y).iloc[test_index]\n",
    "\n",
    "#         model.fit(X_train, Y_train, eval_set=[(X_test, Y_test)], verbose=100)\n",
    "\n",
    "#         prediction = model.predict(X_test)\n",
    "#         lgbm_rmse_scores.append(mean_squared_error(Y_test, prediction,squared=False))\n",
    "#         lgbm_mae_scores.append(mean_absolute_error(Y_test, prediction))\n",
    "        \n",
    "#         print(show_evaluation(prediction, Y_test))\n",
    "#         print(f'-------------------FOLD {i}-----------------')\n",
    "#         i+=1\n",
    "\n",
    "#     print('---------------CROSS VALIDATION COMPLETE-------------')\n",
    "#     print('--------------------------RMSE-----------------------')\n",
    "#     display_scores(lgbm_rmse_scores)\n",
    "#     print('--------------------------MAE------------------------')\n",
    "#     display_scores(lgbm_mae_scores)"
   ]
  },
  {
   "cell_type": "code",
   "execution_count": 33,
   "id": "2f35f398-953b-4984-97de-0cc2e9c637b1",
   "metadata": {
    "tags": []
   },
   "outputs": [],
   "source": [
    "def lgbm_scaled_cross_validation(X, y, params):\n",
    "    if params == None:\n",
    "        model = Pipeline([('scaler', MinMaxScaler()),('ridge', LGBMRegressor())])\n",
    "    else:\n",
    "        model = Pipeline([('scaler', MinMaxScaler()),('ridge', LGBMRegressor(**params))])\n",
    "\n",
    "    print('-----------LGBM CROSS VALIDATION BEGINNING-----------')\n",
    "    split = 10\n",
    "    kf = KFold(n_splits=split, shuffle=True)       \n",
    "    lgbm_rmse_scores = []\n",
    "    lgbm_mae_scores = []\n",
    "    i = 1\n",
    "    for (train_index, test_index) in kf.split(pd.DataFrame(X), pd.DataFrame(y)):\n",
    "        X_train, X_test = pd.DataFrame(X).iloc[train_index], pd.DataFrame(X).iloc[test_index]\n",
    "        Y_train, Y_test = pd.DataFrame(y).iloc[train_index],pd.DataFrame(y).iloc[test_index]\n",
    "\n",
    "        model.fit(X_train, Y_train)\n",
    "\n",
    "        prediction = model.predict(X_test)\n",
    "        lgbm_rmse_scores.append(mean_squared_error(Y_test, prediction,squared=False))\n",
    "        lgbm_mae_scores.append(mean_absolute_error(Y_test, prediction))\n",
    "        \n",
    "        print(show_evaluation(prediction, Y_test))\n",
    "        print(f'-------------------FOLD {i}-----------------')\n",
    "        i+=1\n",
    "\n",
    "    print('---------------CROSS VALIDATION COMPLETE-------------')\n",
    "    print('--------------------------RMSE-----------------------')\n",
    "    display_scores(lgbm_rmse_scores)\n",
    "    print('--------------------------MAE------------------------')\n",
    "    display_scores(lgbm_mae_scores)"
   ]
  },
  {
   "cell_type": "code",
   "execution_count": 34,
   "id": "2155b5a6-2476-434d-832f-2f92dd646d67",
   "metadata": {
    "tags": []
   },
   "outputs": [],
   "source": [
    "def hyperparametrization(trial, train_x, test_x, train_y, test_y):\n",
    "    param = {\n",
    "        'metric': 'rmse', \n",
    "        'reg_alpha': trial.suggest_loguniform('reg_alpha', 1e-3, 10.0),\n",
    "        'reg_lambda': trial.suggest_loguniform('reg_lambda', 1e-3, 10.0),\n",
    "        'colsample_bytree': trial.suggest_categorical('colsample_bytree', [0.3,0.4,0.5,0.6,0.7,0.8,0.9, 1.0]),\n",
    "        'subsample': trial.suggest_categorical('subsample', [0.4,0.5,0.6,0.7,0.8,1.0]),\n",
    "        'learning_rate': trial.suggest_loguniform('learning_rate', 1e-3, 0.3),\n",
    "        'max_depth': trial.suggest_int(\"max_depth\", 20, 100),\n",
    "        'num_leaves' : trial.suggest_int('num_leaves', 1, 1000),\n",
    "        'min_child_samples': trial.suggest_int('min_child_samples', 1, 300),\n",
    "    }\n",
    "    \n",
    "#     model = LGBMRegressor(**param)  \n",
    "    model = Pipeline([('scaler', MinMaxScaler()),('ridge', LGBMRegressor(**param))])\n",
    "#     model.fit(train_x,train_y,eval_set=[(test_x,test_y)],early_stopping_rounds=100,verbose=False)\n",
    "    model.fit(train_x,train_y)\n",
    "    \n",
    "    preds = model.predict(test_x)\n",
    "    \n",
    "    rmse =  mean_squared_error(test_y, preds,squared=False)\n",
    "    \n",
    "    return rmse"
   ]
  },
  {
   "cell_type": "code",
   "execution_count": 35,
   "id": "3859e13c-87d0-4249-b9ed-f479b3edc2ac",
   "metadata": {
    "tags": []
   },
   "outputs": [],
   "source": [
    "def hyperparametrization_cv(trial, X, y):\n",
    "    param = {\n",
    "        'metric': 'rmse', \n",
    "        'reg_alpha': trial.suggest_loguniform('reg_alpha', 1e-3, 10.0),\n",
    "        'reg_lambda': trial.suggest_loguniform('reg_lambda', 1e-3, 10.0),\n",
    "        'colsample_bytree': trial.suggest_categorical('colsample_bytree', [0.3,0.4,0.5,0.6,0.7,0.8,0.9, 1.0]),\n",
    "        'subsample': trial.suggest_categorical('subsample', [0.4,0.5,0.6,0.7,0.8,1.0]),\n",
    "        'learning_rate': trial.suggest_loguniform('learning_rate', 1e-3, 0.3),\n",
    "        'max_depth': trial.suggest_int(\"max_depth\", 20, 100),\n",
    "        'num_leaves' : trial.suggest_int('num_leaves', 1, 1000),\n",
    "        'min_child_samples': trial.suggest_int('min_child_samples', 1, 300),\n",
    "    }\n",
    "    \n",
    "    model = LGBMRegressor(**param)\n",
    "    rmse = - cross_val_score(model, X, y, cv=3, scoring = 'neg_root_mean_squared_error').mean()\n",
    "    \n",
    "    return rmse"
   ]
  },
  {
   "cell_type": "markdown",
   "id": "bbc3509e-c676-463f-97ac-c0ac98b5f3ed",
   "metadata": {},
   "source": [
    "## WP1 "
   ]
  },
  {
   "cell_type": "markdown",
   "id": "7cd32285-01cf-4ab5-8fcb-706b7f8a294b",
   "metadata": {},
   "source": [
    "| |  | Mean | Std | Sum up |\n",
    "| --- | --- | --- | --- | --- |\n",
    "| No params | RMSE | 0.10344875448880764 | 0.0019070131550065564 |  |\n",
    "| No params - StandardScaler | RMSE | 0.10355855436437653 | 0.0019043784372002228 |  |\n",
    "| After tuning 50trials| RMSE | 0.06830085723562579 | 0.0012998671387256361 | To keep, maybe redo optuna with warm start with it - first sub|\n",
    "| After tuning 100trials| RMSE | 0.0695930431604128 | 0.0015123892627707553 | |\n",
    "| After tuning warm start 60trials | RMSE | 0.0671868765178121 | 0.0019357892229500213 | second sub - BETTER |\n",
    "| After tuning warm start 50trials - StandardScaler | RMSE | 0.06705406618054667 | 0.0013509038914922506 | with warm start 1 parameters |\n",
    "| --- | --- | --- | --- | --- |\n",
    "| No params | MAE | 0.07306057409517844 | 0.0009857628815465762 |  |\n",
    "| No params - StandardScaler | MAE | 0.07310137331348271 | 0.0010945145617042643 |  |\n",
    "| After tuning 50trials| MAE | 0.04481696427654311 | 0.000727722171899004 |  |\n",
    "| After tuning 100trials| MAE | 0.045696725242359994 | 0.0008508558100930331 |  |\n",
    "| After tuning warm start 60trials | MAE | 0.04322865305311156 | 0.0009454253743042544 | |\n",
    "| After tuning warm start 50trials - StandardScaler | MAE | 0.043173032898780175 | 0.0007696056550296055 | with warm start 1 parameters |"
   ]
  },
  {
   "cell_type": "code",
   "execution_count": 47,
   "id": "70c3af58-11fa-437e-80d2-d58c9901ce08",
   "metadata": {
    "tags": []
   },
   "outputs": [],
   "source": [
    "wp1_X = train_wp1[[c for c in train_wp1 if c not in [\"wp\"]] + [\"wp\"]].drop(to_drop+feature_corr, axis = 1)\n",
    "X1 = wp1_X.drop('wp', axis=1)\n",
    "y1 = wp1_X['wp']\n",
    "\n",
    "def objective_wp1(trial,data=X1,target=y1):\n",
    "    train_x, test_x, train_y, test_y = train_test_split(data, target, test_size=0.15,random_state=42)\n",
    "    return hyperparametrization(trial, train_x, test_x, train_y, test_y)"
   ]
  },
  {
   "cell_type": "code",
   "execution_count": 37,
   "id": "ce60b0b1-b92e-42aa-8734-07709f0dc159",
   "metadata": {
    "collapsed": true,
    "jupyter": {
     "outputs_hidden": true
    },
    "tags": []
   },
   "outputs": [
    {
     "name": "stdout",
     "output_type": "stream",
     "text": [
      "-----------LGBM CROSS VALIDATION BEGINNING-----------\n",
      "RMSE score: 0.10732270371619028\n",
      "MAE score: 0.07571007135576018\n",
      "None\n",
      "-------------------FOLD 1-----------------\n",
      "RMSE score: 0.10886917727677274\n",
      "MAE score: 0.07634181570136926\n",
      "None\n",
      "-------------------FOLD 2-----------------\n",
      "RMSE score: 0.10736229882111793\n",
      "MAE score: 0.07545585548085655\n",
      "None\n",
      "-------------------FOLD 3-----------------\n",
      "RMSE score: 0.10911831651184314\n",
      "MAE score: 0.07750026292976274\n",
      "None\n",
      "-------------------FOLD 4-----------------\n",
      "RMSE score: 0.10704179620830895\n",
      "MAE score: 0.07648866023010195\n",
      "None\n",
      "-------------------FOLD 5-----------------\n",
      "RMSE score: 0.10710112334031804\n",
      "MAE score: 0.07511977294091005\n",
      "None\n",
      "-------------------FOLD 6-----------------\n",
      "RMSE score: 0.11025646953823802\n",
      "MAE score: 0.07762902676974258\n",
      "None\n",
      "-------------------FOLD 7-----------------\n",
      "RMSE score: 0.10765743908831053\n",
      "MAE score: 0.07589383654776555\n",
      "None\n",
      "-------------------FOLD 8-----------------\n",
      "RMSE score: 0.10977016770862105\n",
      "MAE score: 0.07819720082629229\n",
      "None\n",
      "-------------------FOLD 9-----------------\n",
      "RMSE score: 0.10712049114753731\n",
      "MAE score: 0.07581587677052483\n",
      "None\n",
      "-------------------FOLD 10-----------------\n",
      "---------------CROSS VALIDATION COMPLETE-------------\n",
      "--------------------------RMSE-----------------------\n",
      "Scores: [0.10732270371619028, 0.10886917727677274, 0.10736229882111793, 0.10911831651184314, 0.10704179620830895, 0.10710112334031804, 0.11025646953823802, 0.10765743908831053, 0.10977016770862105, 0.10712049114753731]\n",
      "Mean: 0.10816199833572579\n",
      "Std: 0.0011597941821763246\n",
      "--------------------------MAE------------------------\n",
      "Scores: [0.07571007135576018, 0.07634181570136926, 0.07545585548085655, 0.07750026292976274, 0.07648866023010195, 0.07511977294091005, 0.07762902676974258, 0.07589383654776555, 0.07819720082629229, 0.07581587677052483]\n",
      "Mean: 0.07641523795530861\n",
      "Std: 0.000977943420610641\n"
     ]
    }
   ],
   "source": [
    "# lgbm_cross_validation(X1, y1, None)\n",
    "# lgbm_scaled_cross_validation(X1, y1, None)"
   ]
  },
  {
   "cell_type": "code",
   "execution_count": 38,
   "id": "b59a3d8b-ab17-406b-869d-15074de0454c",
   "metadata": {
    "tags": []
   },
   "outputs": [],
   "source": [
    "# try_these_first = [{\n",
    "#     'reg_alpha': 0.664265743859848,\n",
    "#     'reg_lambda': 9.83047434398735,\n",
    "#     'colsample_bytree': 1.0,\n",
    "#     'subsample': 1.0,\n",
    "#     'learning_rate': 0.24237997149103074,\n",
    "#     'max_depth': 77,\n",
    "#     'num_leaves': 389,\n",
    "#     'min_child_samples': 2,\n",
    "# },  {\n",
    "#     'reg_alpha': 0.8314449043001416,\n",
    "#     'reg_lambda': 9.093012403173608,\n",
    "#     'colsample_bytree': 0.9,\n",
    "#     'subsample': 0.4,\n",
    "#     'learning_rate': 0.2033256175102991,\n",
    "#     'max_depth': 55,\n",
    "#     'num_leaves': 964,\n",
    "#     'min_child_samples': 25,\n",
    "# },  {\n",
    "#     'reg_alpha': 0.06611820641937002,\n",
    "#     'reg_lambda': 0.00402359814884553,\n",
    "#     'colsample_bytree': 0.8,\n",
    "#     'subsample': 0.5,\n",
    "#     'learning_rate': 0.15622705931571296,\n",
    "#     'max_depth': 72,\n",
    "#     'num_leaves': 596,\n",
    "#     'min_child_samples': 2,\n",
    "# },  {\n",
    "#     'reg_alpha': 0.25020407037516895,\n",
    "#     'reg_lambda': 7.183180037262842,\n",
    "#     'colsample_bytree': 1.0,\n",
    "#     'subsample': 1.0,\n",
    "#     'learning_rate': 0.11751089382716717,\n",
    "#     'max_depth': 84,\n",
    "#     'num_leaves': 596,\n",
    "#     'min_child_samples': 15,\n",
    "#     'min_data_per_groups': 35\n",
    "# }]\n",
    "\n",
    "# study = optuna.create_study(direction='minimize')\n",
    "# study.enqueue_trial(try_these_first[0])\n",
    "# study.enqueue_trial(try_these_first[1])"
   ]
  },
  {
   "cell_type": "code",
   "execution_count": 39,
   "id": "ab792f0b-e669-4e29-b434-8db786b194a2",
   "metadata": {
    "tags": []
   },
   "outputs": [],
   "source": [
    "# # study = optuna.create_study(direction='minimize')\n",
    "study.optimize(objective_wp1, n_trials=5)\n",
    "# write_results('Data/Hyperparametrization/lgbm_50trials_cv.xlsx', 'wp1', study.trials_dataframe())\n",
    "best_trial = study.best_trial.params\n",
    "best_trial"
   ]
  },
  {
   "cell_type": "code",
   "execution_count": 40,
   "id": "772ef566-6d0d-421c-b00d-7a1f91692384",
   "metadata": {
    "tags": []
   },
   "outputs": [],
   "source": [
    "# # 100\n",
    "# params_1 = {\n",
    "#     'reg_alpha': 0.8314449043001416,\n",
    "#     'reg_lambda': 9.093012403173608,\n",
    "#     'colsample_bytree': 0.9,\n",
    "#     'subsample': 0.4,\n",
    "#     'learning_rate': 0.2033256175102991,\n",
    "#     'max_depth': 55,\n",
    "#     'num_leaves': 964,\n",
    "#     'min_child_samples': 25,\n",
    "#     'min_data_per_groups': 36\n",
    "# }\n",
    "\n",
    "# #50\n",
    "# params_1 = {\n",
    "#     'reg_alpha': 0.664265743859848,\n",
    "#     'reg_lambda': 9.83047434398735,\n",
    "#     'colsample_bytree': 1.0,\n",
    "#     'subsample': 1.0,\n",
    "#     'learning_rate': 0.24237997149103074,\n",
    "#     'max_depth': 77,\n",
    "#     'num_leaves': 389,\n",
    "#     'min_child_samples': 2,\n",
    "#     'min_data_per_groups': 75\n",
    "# }\n",
    "\n",
    "# warm start\n",
    "params_1 = {\n",
    "    'reg_alpha': 0.25020407037516895,\n",
    "    'reg_lambda': 7.183180037262842,\n",
    "    'colsample_bytree': 1.0,\n",
    "    'subsample': 1.0,\n",
    "    'learning_rate': 0.11751089382716717,\n",
    "    'max_depth': 84,\n",
    "    'num_leaves': 596,\n",
    "    'min_child_samples': 15,\n",
    "    'min_data_per_groups': 35\n",
    "}\n",
    "\n",
    "# params_1 = best_trial"
   ]
  },
  {
   "cell_type": "code",
   "execution_count": 41,
   "id": "6e8b9581-1e59-40fc-ba46-cac68640c7ff",
   "metadata": {
    "collapsed": true,
    "jupyter": {
     "outputs_hidden": true
    },
    "tags": []
   },
   "outputs": [
    {
     "name": "stdout",
     "output_type": "stream",
     "text": [
      "-----------LGBM CROSS VALIDATION BEGINNING-----------\n",
      "RMSE score: 0.06787525916403352\n",
      "MAE score: 0.042995212934237824\n",
      "None\n",
      "-------------------FOLD 1-----------------\n",
      "RMSE score: 0.07190475286451645\n",
      "MAE score: 0.045573344414612096\n",
      "None\n",
      "-------------------FOLD 2-----------------\n",
      "RMSE score: 0.06905120117081694\n",
      "MAE score: 0.0442099780490888\n",
      "None\n",
      "-------------------FOLD 3-----------------\n",
      "RMSE score: 0.06743650527177474\n",
      "MAE score: 0.04404054729505381\n",
      "None\n",
      "-------------------FOLD 4-----------------\n"
     ]
    },
    {
     "ename": "KeyboardInterrupt",
     "evalue": "",
     "output_type": "error",
     "traceback": [
      "\u001b[1;31m---------------------------------------------------------------------------\u001b[0m",
      "\u001b[1;31mKeyboardInterrupt\u001b[0m                         Traceback (most recent call last)",
      "\u001b[1;32m<ipython-input-41-c597e3e82eef>\u001b[0m in \u001b[0;36m<module>\u001b[1;34m\u001b[0m\n\u001b[0;32m      1\u001b[0m \u001b[1;31m# lgbm_cross_validation(X1, y1, params_1)\u001b[0m\u001b[1;33m\u001b[0m\u001b[1;33m\u001b[0m\u001b[1;33m\u001b[0m\u001b[0m\n\u001b[1;32m----> 2\u001b[1;33m \u001b[0mlgbm_scaled_cross_validation\u001b[0m\u001b[1;33m(\u001b[0m\u001b[0mX1\u001b[0m\u001b[1;33m,\u001b[0m \u001b[0my1\u001b[0m\u001b[1;33m,\u001b[0m \u001b[0mparams_1\u001b[0m\u001b[1;33m)\u001b[0m\u001b[1;33m\u001b[0m\u001b[1;33m\u001b[0m\u001b[0m\n\u001b[0m",
      "\u001b[1;32m<ipython-input-33-d4e6eee21747>\u001b[0m in \u001b[0;36mlgbm_scaled_cross_validation\u001b[1;34m(X, y, params)\u001b[0m\n\u001b[0;32m     15\u001b[0m         \u001b[0mY_train\u001b[0m\u001b[1;33m,\u001b[0m \u001b[0mY_test\u001b[0m \u001b[1;33m=\u001b[0m \u001b[0mpd\u001b[0m\u001b[1;33m.\u001b[0m\u001b[0mDataFrame\u001b[0m\u001b[1;33m(\u001b[0m\u001b[0my\u001b[0m\u001b[1;33m)\u001b[0m\u001b[1;33m.\u001b[0m\u001b[0miloc\u001b[0m\u001b[1;33m[\u001b[0m\u001b[0mtrain_index\u001b[0m\u001b[1;33m]\u001b[0m\u001b[1;33m,\u001b[0m\u001b[0mpd\u001b[0m\u001b[1;33m.\u001b[0m\u001b[0mDataFrame\u001b[0m\u001b[1;33m(\u001b[0m\u001b[0my\u001b[0m\u001b[1;33m)\u001b[0m\u001b[1;33m.\u001b[0m\u001b[0miloc\u001b[0m\u001b[1;33m[\u001b[0m\u001b[0mtest_index\u001b[0m\u001b[1;33m]\u001b[0m\u001b[1;33m\u001b[0m\u001b[1;33m\u001b[0m\u001b[0m\n\u001b[0;32m     16\u001b[0m \u001b[1;33m\u001b[0m\u001b[0m\n\u001b[1;32m---> 17\u001b[1;33m         \u001b[0mmodel\u001b[0m\u001b[1;33m.\u001b[0m\u001b[0mfit\u001b[0m\u001b[1;33m(\u001b[0m\u001b[0mX_train\u001b[0m\u001b[1;33m,\u001b[0m \u001b[0mY_train\u001b[0m\u001b[1;33m)\u001b[0m\u001b[1;33m\u001b[0m\u001b[1;33m\u001b[0m\u001b[0m\n\u001b[0m\u001b[0;32m     18\u001b[0m \u001b[1;33m\u001b[0m\u001b[0m\n\u001b[0;32m     19\u001b[0m         \u001b[0mprediction\u001b[0m \u001b[1;33m=\u001b[0m \u001b[0mmodel\u001b[0m\u001b[1;33m.\u001b[0m\u001b[0mpredict\u001b[0m\u001b[1;33m(\u001b[0m\u001b[0mX_test\u001b[0m\u001b[1;33m)\u001b[0m\u001b[1;33m\u001b[0m\u001b[1;33m\u001b[0m\u001b[0m\n",
      "\u001b[1;32m~\\AppData\\Roaming\\Python\\Python38\\site-packages\\sklearn\\pipeline.py\u001b[0m in \u001b[0;36mfit\u001b[1;34m(self, X, y, **fit_params)\u001b[0m\n\u001b[0;32m    333\u001b[0m             \u001b[1;32mif\u001b[0m \u001b[0mself\u001b[0m\u001b[1;33m.\u001b[0m\u001b[0m_final_estimator\u001b[0m \u001b[1;33m!=\u001b[0m \u001b[1;34m'passthrough'\u001b[0m\u001b[1;33m:\u001b[0m\u001b[1;33m\u001b[0m\u001b[1;33m\u001b[0m\u001b[0m\n\u001b[0;32m    334\u001b[0m                 \u001b[0mfit_params_last_step\u001b[0m \u001b[1;33m=\u001b[0m \u001b[0mfit_params_steps\u001b[0m\u001b[1;33m[\u001b[0m\u001b[0mself\u001b[0m\u001b[1;33m.\u001b[0m\u001b[0msteps\u001b[0m\u001b[1;33m[\u001b[0m\u001b[1;33m-\u001b[0m\u001b[1;36m1\u001b[0m\u001b[1;33m]\u001b[0m\u001b[1;33m[\u001b[0m\u001b[1;36m0\u001b[0m\u001b[1;33m]\u001b[0m\u001b[1;33m]\u001b[0m\u001b[1;33m\u001b[0m\u001b[1;33m\u001b[0m\u001b[0m\n\u001b[1;32m--> 335\u001b[1;33m                 \u001b[0mself\u001b[0m\u001b[1;33m.\u001b[0m\u001b[0m_final_estimator\u001b[0m\u001b[1;33m.\u001b[0m\u001b[0mfit\u001b[0m\u001b[1;33m(\u001b[0m\u001b[0mXt\u001b[0m\u001b[1;33m,\u001b[0m \u001b[0my\u001b[0m\u001b[1;33m,\u001b[0m \u001b[1;33m**\u001b[0m\u001b[0mfit_params_last_step\u001b[0m\u001b[1;33m)\u001b[0m\u001b[1;33m\u001b[0m\u001b[1;33m\u001b[0m\u001b[0m\n\u001b[0m\u001b[0;32m    336\u001b[0m \u001b[1;33m\u001b[0m\u001b[0m\n\u001b[0;32m    337\u001b[0m         \u001b[1;32mreturn\u001b[0m \u001b[0mself\u001b[0m\u001b[1;33m\u001b[0m\u001b[1;33m\u001b[0m\u001b[0m\n",
      "\u001b[1;32m~\\AppData\\Roaming\\Python\\Python38\\site-packages\\lightgbm\\sklearn.py\u001b[0m in \u001b[0;36mfit\u001b[1;34m(self, X, y, sample_weight, init_score, eval_set, eval_names, eval_sample_weight, eval_init_score, eval_metric, early_stopping_rounds, verbose, feature_name, categorical_feature, callbacks)\u001b[0m\n\u001b[0;32m    732\u001b[0m             verbose=True, feature_name='auto', categorical_feature='auto', callbacks=None):\n\u001b[0;32m    733\u001b[0m         \u001b[1;34m\"\"\"Docstring is inherited from the LGBMModel.\"\"\"\u001b[0m\u001b[1;33m\u001b[0m\u001b[1;33m\u001b[0m\u001b[0m\n\u001b[1;32m--> 734\u001b[1;33m         super(LGBMRegressor, self).fit(X, y, sample_weight=sample_weight,\n\u001b[0m\u001b[0;32m    735\u001b[0m                                        \u001b[0minit_score\u001b[0m\u001b[1;33m=\u001b[0m\u001b[0minit_score\u001b[0m\u001b[1;33m,\u001b[0m \u001b[0meval_set\u001b[0m\u001b[1;33m=\u001b[0m\u001b[0meval_set\u001b[0m\u001b[1;33m,\u001b[0m\u001b[1;33m\u001b[0m\u001b[1;33m\u001b[0m\u001b[0m\n\u001b[0;32m    736\u001b[0m                                        \u001b[0meval_names\u001b[0m\u001b[1;33m=\u001b[0m\u001b[0meval_names\u001b[0m\u001b[1;33m,\u001b[0m\u001b[1;33m\u001b[0m\u001b[1;33m\u001b[0m\u001b[0m\n",
      "\u001b[1;32m~\\AppData\\Roaming\\Python\\Python38\\site-packages\\lightgbm\\sklearn.py\u001b[0m in \u001b[0;36mfit\u001b[1;34m(self, X, y, sample_weight, init_score, group, eval_set, eval_names, eval_sample_weight, eval_class_weight, eval_init_score, eval_group, eval_metric, early_stopping_rounds, verbose, feature_name, categorical_feature, callbacks)\u001b[0m\n\u001b[0;32m    592\u001b[0m                 \u001b[0mvalid_sets\u001b[0m\u001b[1;33m.\u001b[0m\u001b[0mappend\u001b[0m\u001b[1;33m(\u001b[0m\u001b[0mvalid_set\u001b[0m\u001b[1;33m)\u001b[0m\u001b[1;33m\u001b[0m\u001b[1;33m\u001b[0m\u001b[0m\n\u001b[0;32m    593\u001b[0m \u001b[1;33m\u001b[0m\u001b[0m\n\u001b[1;32m--> 594\u001b[1;33m         self._Booster = train(params, train_set,\n\u001b[0m\u001b[0;32m    595\u001b[0m                               \u001b[0mself\u001b[0m\u001b[1;33m.\u001b[0m\u001b[0mn_estimators\u001b[0m\u001b[1;33m,\u001b[0m \u001b[0mvalid_sets\u001b[0m\u001b[1;33m=\u001b[0m\u001b[0mvalid_sets\u001b[0m\u001b[1;33m,\u001b[0m \u001b[0mvalid_names\u001b[0m\u001b[1;33m=\u001b[0m\u001b[0meval_names\u001b[0m\u001b[1;33m,\u001b[0m\u001b[1;33m\u001b[0m\u001b[1;33m\u001b[0m\u001b[0m\n\u001b[0;32m    596\u001b[0m                               \u001b[0mearly_stopping_rounds\u001b[0m\u001b[1;33m=\u001b[0m\u001b[0mearly_stopping_rounds\u001b[0m\u001b[1;33m,\u001b[0m\u001b[1;33m\u001b[0m\u001b[1;33m\u001b[0m\u001b[0m\n",
      "\u001b[1;32m~\\AppData\\Roaming\\Python\\Python38\\site-packages\\lightgbm\\engine.py\u001b[0m in \u001b[0;36mtrain\u001b[1;34m(params, train_set, num_boost_round, valid_sets, valid_names, fobj, feval, init_model, feature_name, categorical_feature, early_stopping_rounds, evals_result, verbose_eval, learning_rates, keep_training_booster, callbacks)\u001b[0m\n\u001b[0;32m    247\u001b[0m                                     evaluation_result_list=None))\n\u001b[0;32m    248\u001b[0m \u001b[1;33m\u001b[0m\u001b[0m\n\u001b[1;32m--> 249\u001b[1;33m         \u001b[0mbooster\u001b[0m\u001b[1;33m.\u001b[0m\u001b[0mupdate\u001b[0m\u001b[1;33m(\u001b[0m\u001b[0mfobj\u001b[0m\u001b[1;33m=\u001b[0m\u001b[0mfobj\u001b[0m\u001b[1;33m)\u001b[0m\u001b[1;33m\u001b[0m\u001b[1;33m\u001b[0m\u001b[0m\n\u001b[0m\u001b[0;32m    250\u001b[0m \u001b[1;33m\u001b[0m\u001b[0m\n\u001b[0;32m    251\u001b[0m         \u001b[0mevaluation_result_list\u001b[0m \u001b[1;33m=\u001b[0m \u001b[1;33m[\u001b[0m\u001b[1;33m]\u001b[0m\u001b[1;33m\u001b[0m\u001b[1;33m\u001b[0m\u001b[0m\n",
      "\u001b[1;32m~\\AppData\\Roaming\\Python\\Python38\\site-packages\\lightgbm\\basic.py\u001b[0m in \u001b[0;36mupdate\u001b[1;34m(self, train_set, fobj)\u001b[0m\n\u001b[0;32m   1972\u001b[0m             \u001b[1;32mif\u001b[0m \u001b[0mself\u001b[0m\u001b[1;33m.\u001b[0m\u001b[0m__set_objective_to_none\u001b[0m\u001b[1;33m:\u001b[0m\u001b[1;33m\u001b[0m\u001b[1;33m\u001b[0m\u001b[0m\n\u001b[0;32m   1973\u001b[0m                 \u001b[1;32mraise\u001b[0m \u001b[0mLightGBMError\u001b[0m\u001b[1;33m(\u001b[0m\u001b[1;34m'Cannot update due to null objective function.'\u001b[0m\u001b[1;33m)\u001b[0m\u001b[1;33m\u001b[0m\u001b[1;33m\u001b[0m\u001b[0m\n\u001b[1;32m-> 1974\u001b[1;33m             _safe_call(_LIB.LGBM_BoosterUpdateOneIter(\n\u001b[0m\u001b[0;32m   1975\u001b[0m                 \u001b[0mself\u001b[0m\u001b[1;33m.\u001b[0m\u001b[0mhandle\u001b[0m\u001b[1;33m,\u001b[0m\u001b[1;33m\u001b[0m\u001b[1;33m\u001b[0m\u001b[0m\n\u001b[0;32m   1976\u001b[0m                 ctypes.byref(is_finished)))\n",
      "\u001b[1;31mKeyboardInterrupt\u001b[0m: "
     ]
    }
   ],
   "source": [
    "# lgbm_cross_validation(X1, y1, params_1)\n",
    "lgbm_scaled_cross_validation(X1, y1, params_1)"
   ]
  },
  {
   "cell_type": "markdown",
   "id": "2d4d08ad-3af3-408b-8834-57c1349d328a",
   "metadata": {},
   "source": [
    "## WP2"
   ]
  },
  {
   "cell_type": "markdown",
   "id": "61678924-2941-418d-93bf-84336d13fc89",
   "metadata": {},
   "source": [
    "| |  | Mean | Std | Sum up|\n",
    "| --- | --- | --- | --- | |\n",
    "| No params | RMSE | 0.10935335541057582 | 0.0014425096116734836 | |\n",
    "| No params - StandardScaler | RMSE | 0.10938240918068962 | 0.002563571983412213 |  |\n",
    "| After tuning - 50trials| RMSE | 0.0725081520968898 | 0.0016974702626377217 | |\n",
    "| After tuning 100trials| RMSE | 0.0707064364904941 | 0.001396820290618349 | More stable, to keep |\n",
    "| After tuning warm start 50trials - StandardScaler | RMSE | 0.07072007438762447 | 0.0010396359382112443 | With 100trials parameters |\n",
    "| --- | --- | --- | --- |---|\n",
    "| No params | MAE | 0.07681923856705511 | 0.0008670825615244791 | |\n",
    "| No params - StandardScaler | MAE | 0.0768829843356125 | 0.0017568758903956435 |  |\n",
    "| After tuning - 50trials| MAE | 0.04512164110351975 |  0.0006579433030966575 | |\n",
    "| After tuning 100trials| MAE | 0.04457902842458915 | 0.0006807155447311589 | |\n",
    "| After tuning warm start 50trials - StandardScaler | MAE | 0.04456161763710905 | 0.0005342365137369251 | With 100trials parameters |"
   ]
  },
  {
   "cell_type": "code",
   "execution_count": 48,
   "id": "e6b8fee4-9fba-4818-a7df-29cd5d3806ad",
   "metadata": {},
   "outputs": [],
   "source": [
    "wp2_X = train_wp2[[c for c in train_wp2 if c not in [\"wp\"]] + [\"wp\"]].drop(to_drop, axis = 1)\n",
    "X2 = wp2_X.drop('wp', axis=1)\n",
    "y2 = wp2_X['wp']\n",
    "\n",
    "def objective_wp2(trial,data = X2,target = y2):\n",
    "    train_x, test_x, train_y, test_y = train_test_split(data, target, test_size=0.15,random_state=42)\n",
    "    return hyperparametrization(trial, train_x, test_x, train_y, test_y)"
   ]
  },
  {
   "cell_type": "code",
   "execution_count": null,
   "id": "e297d1bd-f11e-4f8b-9fe2-634e78ca9c85",
   "metadata": {
    "tags": []
   },
   "outputs": [],
   "source": [
    "# lgbm_cross_validation(X2, y2, None)\n",
    "lgbm_scaled_cross_validation(X2, y2, None)"
   ]
  },
  {
   "cell_type": "code",
   "execution_count": null,
   "id": "1edd83fc-09f5-4ef1-ae90-6b3dda7b6583",
   "metadata": {
    "tags": []
   },
   "outputs": [],
   "source": [
    "try_these_first = [{\n",
    "    'reg_alpha': 0.18268883436586145,\n",
    "    'reg_lambda': 0.15916821051528962,\n",
    "    'colsample_bytree': 1.0,\n",
    "    'subsample': 0.6,\n",
    "    'learning_rate': 0.18007000714755378,\n",
    "    'max_depth': 77,\n",
    "    'num_leaves': 425,\n",
    "    'min_child_samples': 10,\n",
    "    'min_data_per_groups': 19\n",
    "},  {\n",
    " 'reg_alpha': 0.04439450895032273,\n",
    " 'reg_lambda': 0.7790968728875318,\n",
    " 'colsample_bytree': 0.4,\n",
    " 'subsample': 1.0,\n",
    " 'learning_rate': 0.09520041095092219,\n",
    " 'max_depth': 31,\n",
    " 'num_leaves': 883,\n",
    " 'min_child_samples': 18,\n",
    " 'min_data_per_groups': 56\n",
    "}]\n",
    "\n",
    "study = optuna.create_study(direction='minimize')\n",
    "study.enqueue_trial(try_these_first[0])\n",
    "study.enqueue_trial(try_these_first[1])"
   ]
  },
  {
   "cell_type": "code",
   "execution_count": null,
   "id": "0728372a-8909-4a7a-8cdc-be27e96cfc70",
   "metadata": {
    "tags": []
   },
   "outputs": [],
   "source": [
    "# # study = optuna.create_study(direction='minimize')\n",
    "# study.optimize(objective_wp2, n_trials=50)\n",
    "# write_results('Data/Hyperparametrization/lgbm_100trials.xlsx', 'wp2', study.trials_dataframe())\n",
    "# best_trial = study.best_trial.params\n",
    "# best_trial"
   ]
  },
  {
   "cell_type": "code",
   "execution_count": null,
   "id": "9ae90b08-6b61-4c17-90d8-a0d0c0f8a455",
   "metadata": {
    "tags": []
   },
   "outputs": [],
   "source": [
    "# # Std warm start \n",
    "# params_2 = {\n",
    "#     'reg_alpha': 0.34026994469471555,\n",
    "#     'reg_lambda': 1.1032197453137866,\n",
    "#     'colsample_bytree': 0.9,\n",
    "#     'subsample': 0.6,\n",
    "#     'learning_rate': 0.13414826176962302,\n",
    "#     'max_depth': 81,\n",
    "#     'num_leaves': 987,\n",
    "#     'min_child_samples': 39\n",
    "# }\n",
    "\n",
    "# 100\n",
    "params_2 = {\n",
    "    'reg_alpha': 0.18268883436586145,\n",
    "    'reg_lambda': 0.15916821051528962,\n",
    "    'colsample_bytree': 1.0,\n",
    "    'subsample': 0.6,\n",
    "    'learning_rate': 0.18007000714755378,\n",
    "    'max_depth': 77,\n",
    "    'num_leaves': 425,\n",
    "    'min_child_samples': 10,\n",
    "    'min_data_per_groups': 19\n",
    "}\n",
    "\n",
    "# 50\n",
    "# params_2 = {\n",
    "#  'reg_alpha': 0.04439450895032273,\n",
    "#  'reg_lambda': 0.7790968728875318,\n",
    "#  'colsample_bytree': 0.4,\n",
    "#  'subsample': 1.0,\n",
    "#  'learning_rate': 0.09520041095092219,\n",
    "#  'max_depth': 31,\n",
    "#  'num_leaves': 883,\n",
    "#  'min_child_samples': 18,\n",
    "#  'min_data_per_groups': 56}"
   ]
  },
  {
   "cell_type": "code",
   "execution_count": null,
   "id": "4deb0297-bfb2-491c-9885-9795b2596248",
   "metadata": {
    "tags": []
   },
   "outputs": [],
   "source": [
    "# lgbm_cross_validation(X2, y2, params_2)\n",
    "lgbm_scaled_cross_validation(X2, y2, params_2)"
   ]
  },
  {
   "cell_type": "markdown",
   "id": "966468d2-d1a2-4c0a-a190-c37d85ef61f5",
   "metadata": {},
   "source": [
    "## WP3"
   ]
  },
  {
   "cell_type": "markdown",
   "id": "4c9c1b64-7897-4824-92b2-8f6ac0236b43",
   "metadata": {},
   "source": [
    "| |  | Mean | Std ||\n",
    "| --- | --- | --- | --- ||\n",
    "| No params | RMSE | 0.10392558077951244 | 0.0019038044796542812 ||\n",
    "| No params - StandardScaler | RMSE | 0.10354114984428979 | 0.0013629826554706927 ||\n",
    "| After tuning - 50trials| RMSE | 0.058253804820626545 | 0.0009893279354834155 | More stable, to keep |\n",
    "| After tuning 100trials| RMSE | 0.058338944346627106 | 0.0017133930174837203 ||\n",
    "| After tuning warm start 50trials - StandardScaler | RMSE | 0.05839355310487706 | 0.0009599824558874801 ||\n",
    "| After tuning - 50trial - StandardScaler | RMSE | 0.05828701989178382 | 0.0013469437248627486 | with 50trials best|\n",
    "| --- | --- | --- | --- | --- |\n",
    "| No params | MAE | 0.07550802464973318 | 0.0012006073434917633 ||\n",
    "| No params - StandardScaler | MAE | 0.0753220326933334 | 0.0007353049410651828 | |\n",
    "| After tuning - 50trials| MAE | 0.03787310900962521 | 0.000442034368456366 ||\n",
    "| After tuning 100trials| MAE | 0.03838030476025398 | 0.0007480100565996748 ||\n",
    "| After tuning warm start 50trials - - StandardScaler | MAE | 0.03838277636708219 | 0.0006195357541130345 ||\n",
    "| After tuning 50trials - StandardScaler | MAE | 0.03796602386426936 | 0.0006588818520419181 | with 50trials best|"
   ]
  },
  {
   "cell_type": "code",
   "execution_count": 49,
   "id": "1a19adfe-a591-4616-827c-70140477879b",
   "metadata": {},
   "outputs": [],
   "source": [
    "wp3_X = train_wp3[[c for c in train_wp3 if c not in [\"wp\"]] + [\"wp\"]].drop(to_drop, axis = 1)\n",
    "X3 = wp3_X.drop('wp', axis = 1)\n",
    "y3 = wp3_X['wp']\n",
    "\n",
    "def objective_wp3(trial,data = X3,target = y3):\n",
    "    train_x, test_x, train_y, test_y = train_test_split(data, target, test_size=0.15,random_state=42)\n",
    "    return hyperparametrization(trial, train_x, test_x, train_y, test_y)"
   ]
  },
  {
   "cell_type": "code",
   "execution_count": null,
   "id": "de738d33-8e08-49d4-af3f-0e3fc5609cec",
   "metadata": {
    "tags": []
   },
   "outputs": [],
   "source": [
    "# lgbm_cross_validation(X3, y3, None)\n",
    "lgbm_scaled_cross_validation(X3, y3, None)"
   ]
  },
  {
   "cell_type": "code",
   "execution_count": null,
   "id": "08d236db-32da-41cf-8788-8d0ed6e5217d",
   "metadata": {},
   "outputs": [],
   "source": [
    "# try_these_first = [{\n",
    "#     'reg_alpha': 0.26013926149282945,\n",
    "#     'reg_lambda': 0.002325658512162904,\n",
    "#     'colsample_bytree': 1.0,\n",
    "#     'subsample': 0.7,\n",
    "#     'learning_rate': 0.10619054458258967,\n",
    "#     'max_depth': 83,\n",
    "#     'num_leaves': 647,\n",
    "#     'min_child_samples': 3,\n",
    "#     'min_data_per_groups': 24\n",
    "# },  {\n",
    "#     'reg_alpha': 0.002937356908910416,\n",
    "#     'reg_lambda': 0.003822180117262245,\n",
    "#     'colsample_bytree': 0.8,\n",
    "#     'subsample': 1.0,\n",
    "#     'learning_rate': 0.09489749817678472,\n",
    "#     'max_depth': 41,\n",
    "#     'num_leaves': 842,\n",
    "#     'min_child_samples': 18,\n",
    "#     'min_data_per_groups': 46\n",
    "# }]\n",
    "\n",
    "# study = optuna.create_study(direction='minimize')\n",
    "# study.enqueue_trial(try_these_first[0])\n",
    "# study.enqueue_trial(try_these_first[1])"
   ]
  },
  {
   "cell_type": "code",
   "execution_count": null,
   "id": "76fcd3f6-9ee9-4a40-9208-371c72445408",
   "metadata": {
    "tags": []
   },
   "outputs": [],
   "source": [
    "# study = optuna.create_study(direction='minimize')\n",
    "study.optimize(objective_wp3, n_trials=50)\n",
    "# write_results('Data/Hyperparametrization/lgbm_100trials.xlsx', 'wp3', study.trials_dataframe())\n",
    "best_trial = study.best_trial.params\n",
    "best_trial"
   ]
  },
  {
   "cell_type": "code",
   "execution_count": null,
   "id": "0799bdb2-b009-446a-af9f-5f3e2fbed56b",
   "metadata": {},
   "outputs": [],
   "source": [
    "# # 100\n",
    "# params_3 = {\n",
    "#     'reg_alpha': 0.26013926149282945,\n",
    "#     'reg_lambda': 0.002325658512162904,\n",
    "#     'colsample_bytree': 1.0,\n",
    "#     'subsample': 0.7,\n",
    "#     'learning_rate': 0.10619054458258967,\n",
    "#     'max_depth': 83,\n",
    "#     'num_leaves': 647,\n",
    "#     'min_child_samples': 3,\n",
    "#     'min_data_per_groups': 24\n",
    "# }\n",
    "\n",
    "# # # 50\n",
    "# params_3 = {\n",
    "#     'reg_alpha': 0.002937356908910416,\n",
    "#     'reg_lambda': 0.003822180117262245,\n",
    "#     'colsample_bytree': 0.8,\n",
    "#     'subsample': 1.0,\n",
    "#     'learning_rate': 0.09489749817678472,\n",
    "#     'max_depth': 41,\n",
    "#     'num_leaves': 842,\n",
    "#     'min_child_samples': 18,\n",
    "#     'min_data_per_groups': 46\n",
    "# }\n",
    "\n",
    "# 50 warm start std scaler\n",
    "params_3 = {\n",
    "    'reg_alpha': 0.2380367567801365,\n",
    "    'reg_lambda': 0.005052844767806766,\n",
    "    'colsample_bytree': 0.9,\n",
    "    'subsample': 0.5,\n",
    "    'learning_rate': 0.11958787026894079,\n",
    "    'max_depth': 41,\n",
    "    'num_leaves': 690,\n",
    "    'min_child_samples': 16\n",
    "}"
   ]
  },
  {
   "cell_type": "code",
   "execution_count": null,
   "id": "b0d45d0b-664c-4c89-8493-ed650660fb0e",
   "metadata": {
    "tags": []
   },
   "outputs": [],
   "source": [
    "# lgbm_cross_validation(X3, y3, params_3)\n",
    "lgbm_scaled_cross_validation(X3, y3, params_3)"
   ]
  },
  {
   "cell_type": "markdown",
   "id": "cdc76c8c-9cc7-441f-b25e-e1ecf293298e",
   "metadata": {},
   "source": [
    "## WP4"
   ]
  },
  {
   "cell_type": "markdown",
   "id": "895876ff-0734-4527-a0b9-68cf9b097dec",
   "metadata": {},
   "source": [
    "| |  | Mean | Std | |\n",
    "| --- | --- | --- | --- | --- |\n",
    "| No params | RMSE | 0.10486204816363351 | 0.0015105949978751166 ||\n",
    "| No params  - Std | RMSE | 0.10480849342496516 | 0.0010370863436755212 ||\n",
    "| After tuning - 50trials| RMSE | 0.06513233717204232 | 0.0015891617240032727 ||\n",
    "| After tuning 100trials| RMSE | 0.06357594848470964 | 0.0013676749030776929 ||\n",
    "| After tuning with warm start - 50trials - Std | RMSE | 0.06339401569270936 | 0.001228053306037005 ||\n",
    "| No params | MAE | 0.07564776733421566 | 0.00104638869825841 ||\n",
    "| No params  - Std | MAE | 0.07570794104041156 | 0.0008419207475550308 ||\n",
    "| After tuning - 50trials| MAE | 0.04219236028055372 | 0.0008190579419060266 ||\n",
    "| After tuning 100trials| MAE |0.04172111697148837  | 0.0009349285385250968 ||\n",
    "| After tuning with warm start - 50trials  - Std | MAE | 0.04150668920859586 | 0.0005729825500890684 ||"
   ]
  },
  {
   "cell_type": "code",
   "execution_count": 50,
   "id": "185fd52e-5fe9-4ab7-817d-03feda6a42ab",
   "metadata": {},
   "outputs": [],
   "source": [
    "wp4_X = train_wp4[[c for c in train_wp4 if c not in [\"wp\"]] + [\"wp\"]].drop(to_drop, axis = 1)\n",
    "X4 = wp4_X.drop('wp', axis = 1)\n",
    "y4 = wp4_X['wp']\n",
    "\n",
    "def objective_wp4(trial,data = X4,target = y4):\n",
    "    train_x, test_x, train_y, test_y = train_test_split(data, target, test_size=0.15,random_state=42)\n",
    "    return hyperparametrization(trial, train_x, test_x, train_y, test_y)"
   ]
  },
  {
   "cell_type": "code",
   "execution_count": null,
   "id": "c96a6e3e-8a1b-4fe9-a162-1f2fa994023d",
   "metadata": {
    "tags": []
   },
   "outputs": [],
   "source": [
    "# lgbm_cross_validation(X4, y4, None)\n",
    "lgbm_scaled_cross_validation(X4, y4, None)"
   ]
  },
  {
   "cell_type": "code",
   "execution_count": null,
   "id": "4331771a-6b74-4af0-9861-599192713f9c",
   "metadata": {},
   "outputs": [],
   "source": [
    "# try_these_first = [{\n",
    "#     'reg_alpha': 0.08714703614419553,\n",
    "#     'reg_lambda': 9.983645262139024,\n",
    "#     'colsample_bytree': 0.9,\n",
    "#     'subsample': 0.8,\n",
    "#     'learning_rate': 0.13413154768816146,\n",
    "#     'max_depth': 41,\n",
    "#     'num_leaves': 613,\n",
    "#     'min_child_samples': 15,\n",
    "#     'min_data_per_groups': 29\n",
    "# },  {\n",
    "#     'reg_alpha': 0.15331128149569725,\n",
    "#     'reg_lambda': 0.28560184971009756,\n",
    "#     'colsample_bytree': 0.7,\n",
    "#     'subsample': 0.5,\n",
    "#     'learning_rate': 0.11430869527789024,\n",
    "#     'max_depth': 24,\n",
    "#     'num_leaves': 856,\n",
    "#     'min_child_samples': 14,\n",
    "#     'min_data_per_groups': 33\n",
    "# }]\n",
    "\n",
    "# study = optuna.create_study(direction='minimize')\n",
    "# study.enqueue_trial(try_these_first[0])\n",
    "# study.enqueue_trial(try_these_first[1])"
   ]
  },
  {
   "cell_type": "code",
   "execution_count": null,
   "id": "713019ee-cf12-4fa6-8971-7a09d0aa227a",
   "metadata": {
    "tags": []
   },
   "outputs": [],
   "source": [
    "# # study = optuna.create_study(direction='minimize')\n",
    "# study.optimize(objective_wp4, n_trials=50)\n",
    "# # write_results('Data/Hyperparametrization/scaled_lgbm_50trials.xlsx', 'wp4', study.trials_dataframe())\n",
    "# best_trial = study.best_trial.params\n",
    "# best_trial"
   ]
  },
  {
   "cell_type": "code",
   "execution_count": null,
   "id": "fc00a25c-08c8-4cbe-9373-bcf6ad6b429a",
   "metadata": {
    "tags": []
   },
   "outputs": [],
   "source": [
    "# 100\n",
    "params_4 = {\n",
    "    'reg_alpha': 0.08714703614419553,\n",
    "    'reg_lambda': 9.983645262139024,\n",
    "    'colsample_bytree': 0.9,\n",
    "    'subsample': 0.8,\n",
    "    'learning_rate': 0.13413154768816146,\n",
    "    'max_depth': 41,\n",
    "    'num_leaves': 613,\n",
    "    'min_child_samples': 15,\n",
    "    'min_data_per_groups': 29\n",
    "}\n",
    "\n",
    "# {\n",
    "#     'reg_alpha': 0.15331128149569725,\n",
    "#     'reg_lambda': 0.28560184971009756,\n",
    "#     'colsample_bytree': 0.7,\n",
    "#     'subsample': 0.5,\n",
    "#     'learning_rate': 0.11430869527789024,\n",
    "#     'max_depth': 24,\n",
    "#     'num_leaves': 856,\n",
    "#     'min_child_samples': 14,\n",
    "#     'min_data_per_groups': 33\n",
    "# }"
   ]
  },
  {
   "cell_type": "code",
   "execution_count": null,
   "id": "731ce6d4-2612-45d6-8e37-89e2c27e9be1",
   "metadata": {
    "tags": []
   },
   "outputs": [],
   "source": [
    "# lgbm_cross_validation(X4, y4, params_4)\n",
    "lgbm_scaled_cross_validation(X4, y4, params_4)"
   ]
  },
  {
   "cell_type": "markdown",
   "id": "640e4455-cfc5-493a-b3e6-95b608171368",
   "metadata": {},
   "source": [
    "## WP5"
   ]
  },
  {
   "cell_type": "markdown",
   "id": "57cd823c-ff5c-41ba-9e0e-8b8d75cf2c65",
   "metadata": {},
   "source": [
    "| |  | Mean | Std |\n",
    "| --- | --- | --- | --- |\n",
    "| No params | RMSE | 0.11722129743692011 | 0.0017732599261516583 |\n",
    "| No params - Std | RMSE | 0.11729790317307003 | 0.0014884067903823003 |\n",
    "| After tuning - 50trials| RMSE | 0.07721413638593042 | 0.0011020420293213135 |\n",
    "| After tuning - 100trials| RMSE | 0.07297648991888442 | 0.0014970317509404526 |\n",
    "| After tuning - 100trials - warm start | RMSE | 0.07362803793800192 | 0.0013223501622953715 |\n",
    "| After tuning 50trials - std - warm start | RMSE | 0.07379631452164911 | 0.0019249511778190373 |\n",
    "| --- | --- | --- | --- |\n",
    "| No params | MAE | 0.08497074568090211 | 0.0009101526501392155 |\n",
    "| No params - Std | MAE | 0.0849648687365363 | 0.0011901882563545429 |\n",
    "| After tuning - 50trials| MAE | 0.051677856581467195 | 0.0006374939894477714 |\n",
    "| After tuning - 100trials| MAE | 0.04765271414503236 | 0.0006257356756510128 |\n",
    "| After tuning - 100trials - warm trials | MAE | 0.04785179154681675 | 0.0005795839605605526 |\n",
    "| After tuning 50trials - std - warm start | MAE | 0.0480147138609328 | 0.0008230908433814974 |"
   ]
  },
  {
   "cell_type": "code",
   "execution_count": 51,
   "id": "44f38883-24ef-46f1-bc0b-1070f4e36d2f",
   "metadata": {},
   "outputs": [],
   "source": [
    "wp5_X = train_wp5[[c for c in train_wp5 if c not in [\"wp\"]] + [\"wp\"]].drop(to_drop, axis = 1)\n",
    "X5 = wp5_X.drop('wp', axis = 1)\n",
    "y5 = wp5_X['wp']\n",
    "\n",
    "def objective_wp5(trial, data = X5,target = y5):\n",
    "    train_x, test_x, train_y, test_y = train_test_split(data, target, test_size=0.15,random_state=42)\n",
    "    return hyperparametrization(trial, train_x, test_x, train_y, test_y)"
   ]
  },
  {
   "cell_type": "code",
   "execution_count": null,
   "id": "c4ece078-3e34-4754-b23c-1ba712563b3e",
   "metadata": {
    "tags": []
   },
   "outputs": [],
   "source": [
    "# lgbm_cross_validation(X5, y5, None)\n",
    "lgbm_scaled_cross_validation(X5, y5, None)"
   ]
  },
  {
   "cell_type": "code",
   "execution_count": null,
   "id": "4267a817-51ec-49d3-924f-899489bc6e12",
   "metadata": {
    "tags": []
   },
   "outputs": [],
   "source": [
    "# try_these_first = [{\n",
    "#     'reg_alpha': 0.04781362061382749,\n",
    "#     'reg_lambda': 9.716980953182604,\n",
    "#     'colsample_bytree': 0.9,\n",
    "#     'subsample': 0.7,\n",
    "#     'learning_rate': 0.14614317149730652,\n",
    "#     'max_depth': 57,\n",
    "#     'num_leaves': 532,\n",
    "#     'min_child_samples': 7,\n",
    "#     'min_data_per_groups': 84\n",
    "# },  {\n",
    "#     'reg_alpha': 0.0025641515787025067,\n",
    "#     'reg_lambda': 0.024580995322705475,\n",
    "#     'colsample_bytree': 0.8,\n",
    "#     'subsample': 0.4,\n",
    "#     'learning_rate': 0.11844862032615265,\n",
    "#     'max_depth': 69,\n",
    "#     'num_leaves': 328,\n",
    "#     'min_child_samples': 62,\n",
    "#     'min_data_per_groups': 34\n",
    "# },  {\n",
    "#     'reg_alpha': 0.1420112281892889,\n",
    "#     'reg_lambda': 0.14745955581286027,\n",
    "#     'colsample_bytree': 0.9,\n",
    "#     'subsample': 0.7,\n",
    "#     'learning_rate': 0.15576554024588912,\n",
    "#     'max_depth': 61,\n",
    "#     'num_leaves': 483,\n",
    "#     'min_child_samples': 10,\n",
    "#     'min_data_per_groups': 49\n",
    "# }]\n",
    "\n",
    "# study = optuna.create_study(direction='minimize')\n",
    "# study.enqueue_trial(try_these_first[0])\n",
    "# study.enqueue_trial(try_these_first[1])\n",
    "# study.enqueue_trial(try_these_first[2])"
   ]
  },
  {
   "cell_type": "code",
   "execution_count": null,
   "id": "eaa2050d-bf47-4311-b386-0a8d40eae30b",
   "metadata": {
    "tags": []
   },
   "outputs": [],
   "source": [
    "# # study = optuna.create_study(direction='minimize')\n",
    "# study.optimize(objective_wp5, n_trials=50)\n",
    "# write_results('Data/Hyperparametrization/scaled_lgbm_50trials.xlsx', 'wp5', study.trials_dataframe())\n",
    "# best_trial = study.best_trial.params\n",
    "# best_trial"
   ]
  },
  {
   "cell_type": "code",
   "execution_count": null,
   "id": "dde520d3-4565-42ff-8382-d787e91e8c7b",
   "metadata": {
    "tags": []
   },
   "outputs": [],
   "source": [
    "# warm start 50 std\n",
    "params_5 = {\n",
    "    'reg_alpha': 0.1420112281892889,\n",
    "    'reg_lambda': 0.14745955581286027,\n",
    "    'colsample_bytree': 0.9,\n",
    "    'subsample': 0.7,\n",
    "    'learning_rate': 0.15576554024588912,\n",
    "    'max_depth': 61,\n",
    "    'num_leaves': 483,\n",
    "    'min_child_samples': 10\n",
    "}\n",
    "\n",
    "# warm start \n",
    "# params_5 = {\n",
    "#     'reg_alpha': 0.1420112281892889,\n",
    "#     'reg_lambda': 0.14745955581286027,\n",
    "#     'colsample_bytree': 0.9,\n",
    "#     'subsample': 0.7,\n",
    "#     'learning_rate': 0.15576554024588912,\n",
    "#     'max_depth': 61,\n",
    "#     'num_leaves': 483,\n",
    "#     'min_child_samples': 10,\n",
    "#     'min_data_per_groups': 49\n",
    "# }\n",
    "\n",
    "\n",
    "# # 100\n",
    "# params_5 = {\n",
    "#     'reg_alpha': 0.04781362061382749,\n",
    "#     'reg_lambda': 9.716980953182604,\n",
    "#     'colsample_bytree': 0.9,\n",
    "#     'subsample': 0.7,\n",
    "#     'learning_rate': 0.14614317149730652,\n",
    "#     'max_depth': 57,\n",
    "#     'num_leaves': 532,\n",
    "#     'min_child_samples': 7,\n",
    "#     'min_data_per_groups': 84\n",
    "# }\n",
    "\n",
    "# # 50\n",
    "# params_5 = {\n",
    "#     'reg_alpha': 0.0025641515787025067,\n",
    "#     'reg_lambda': 0.024580995322705475,\n",
    "#     'colsample_bytree': 0.8,\n",
    "#     'subsample': 0.4,\n",
    "#     'learning_rate': 0.11844862032615265,\n",
    "#     'max_depth': 69,\n",
    "#     'num_leaves': 328,\n",
    "#     'min_child_samples': 62,\n",
    "#     'min_data_per_groups': 34\n",
    "# }"
   ]
  },
  {
   "cell_type": "code",
   "execution_count": null,
   "id": "c45f8446-417b-4fc3-8180-88c091fe37cf",
   "metadata": {
    "tags": []
   },
   "outputs": [],
   "source": [
    "# lgbm_cross_validation(X5, y5, params_5)\n",
    "lgbm_scaled_cross_validation(X5, y5, params_5)"
   ]
  },
  {
   "cell_type": "markdown",
   "id": "ccd547b2-24e6-4023-8959-d7955620108f",
   "metadata": {},
   "source": [
    "## WP6"
   ]
  },
  {
   "cell_type": "markdown",
   "id": "284dc175-a45f-4e3f-b577-2833794fe5ae",
   "metadata": {},
   "source": [
    "| |  | Mean | Std |\n",
    "| --- | --- | --- | --- |\n",
    "| No params | RMSE | 0.0940394026188472 | 0.0010749562915831372 |\n",
    "| No params - std | RMSE | 0.09409110695713666 | 0.0013476052174559326 |\n",
    "| After tuning - 50trials| RMSE | 0.05404362835213171 | 0.0008595325139047733 |\n",
    "| After tuning 100trials| RMSE | 0.054861488499908594 | 0.0007335378238383901 |\n",
    "| After tuning 50trials std - warm start| RMSE |  0.05446642457662869 | 0.0009850877593637966 |\n",
    "| --- | --- | --- | --- |\n",
    "| No params | MAE | 0.070455643271004 | 0.0006641538274191148 |\n",
    "| After tuning - 50trials| MAE | 0.03657758274248596 | 0.0005325521314198646 |\n",
    "| After tuning 100trials| MAE | 0.03783933495157941 | 0.00045956939815828987 |\n",
    "| After tuning 50trials std - warm start| MAE | 0.0367847898055025 | 0.00039001216012464674 |"
   ]
  },
  {
   "cell_type": "code",
   "execution_count": 52,
   "id": "da2f9ef4-ad90-4d75-9137-735cd41284fe",
   "metadata": {
    "tags": []
   },
   "outputs": [],
   "source": [
    "wp6_X = train_wp6[[c for c in train_wp6 if c not in [\"wp\"]] + [\"wp\"]].drop(to_drop, axis = 1)\n",
    "X6 = wp6_X.drop('wp', axis = 1)\n",
    "y6 = wp6_X['wp']\n",
    "\n",
    "def objective_wp6(trial,data = X6,target = y6):\n",
    "    train_x, test_x, train_y, test_y = train_test_split(data, target, test_size=0.15,random_state=42)\n",
    "    return hyperparametrization(trial, train_x, test_x, train_y, test_y)"
   ]
  },
  {
   "cell_type": "code",
   "execution_count": null,
   "id": "9582d271-b478-4351-81aa-3be5cd3077b1",
   "metadata": {
    "tags": []
   },
   "outputs": [],
   "source": [
    "# lgbm_cross_validation(X6, y6, None)\n",
    "lgbm_scaled_cross_validation(X6, y6, None)"
   ]
  },
  {
   "cell_type": "code",
   "execution_count": null,
   "id": "56f96530-ea8e-4fc5-9657-a632f5e8ffbd",
   "metadata": {
    "jupyter": {
     "source_hidden": true
    },
    "tags": []
   },
   "outputs": [],
   "source": [
    "# try_these_first = [{\n",
    "#     'reg_alpha': 0.23451110075396234,\n",
    "#     'reg_lambda': 0.796705483623135,\n",
    "#     'colsample_bytree': 0.9,\n",
    "#     'subsample': 0.4,\n",
    "#     'learning_rate': 0.1561492653707781,\n",
    "#     'max_depth': 67,\n",
    "#     'num_leaves': 998,\n",
    "#     'min_child_samples': 45,\n",
    "#     'min_data_per_groups': 48\n",
    "# },  {\n",
    "#     'reg_alpha': 0.11420484028619322,\n",
    "#     'reg_lambda': 2.6106462927544216,\n",
    "#     'colsample_bytree': 0.5,\n",
    "#     'subsample': 0.4,\n",
    "#     'learning_rate': 0.13579539259861131,\n",
    "#     'max_depth': 35,\n",
    "#     'num_leaves': 765,\n",
    "#     'min_child_samples': 3,\n",
    "#     'min_data_per_groups': 29\n",
    "# }]\n",
    "\n",
    "# study = optuna.create_study(direction='minimize')\n",
    "# study.enqueue_trial(try_these_first[0])\n",
    "# study.enqueue_trial(try_these_first[1])"
   ]
  },
  {
   "cell_type": "code",
   "execution_count": null,
   "id": "cf4cb7dd-bf83-4cd6-ac64-483e7c498375",
   "metadata": {
    "jupyter": {
     "source_hidden": true
    },
    "tags": []
   },
   "outputs": [],
   "source": [
    "# # study = optuna.create_study(direction='minimize')\n",
    "# study.optimize(objective_wp6, n_trials=50)\n",
    "# write_results('Data/Hyperparametrization/scaled_lgbm_50trials.xlsx', 'wp6', study.trials_dataframe())\n",
    "# best_trial = study.best_trial.params\n",
    "# best_trial"
   ]
  },
  {
   "cell_type": "code",
   "execution_count": null,
   "id": "267b98ff-3269-4adb-8f99-b7ce9bb55521",
   "metadata": {},
   "outputs": [],
   "source": [
    "# warm start\n",
    "params_6 = {\n",
    "    'reg_alpha': 0.19099691249064502,\n",
    "    'reg_lambda': 0.3893771552082417,\n",
    "    'colsample_bytree': 0.6,\n",
    "    'subsample': 0.7,\n",
    "    'learning_rate': 0.10214699989265669,\n",
    "    'max_depth': 70,\n",
    "    'num_leaves': 903,\n",
    "    'min_child_samples': 1\n",
    "} \n",
    "\n",
    "# # 100\n",
    "# params_6 = {\n",
    "#     'reg_alpha': 0.23451110075396234,\n",
    "#     'reg_lambda': 0.796705483623135,\n",
    "#     'colsample_bytree': 0.9,\n",
    "#     'subsample': 0.4,\n",
    "#     'learning_rate': 0.1561492653707781,\n",
    "#     'max_depth': 67,\n",
    "#     'num_leaves': 998,\n",
    "#     'min_child_samples': 45,\n",
    "#     'min_data_per_groups': 48\n",
    "# }\n",
    "\n",
    "# # 50\n",
    "# params_6 = {\n",
    "#     'reg_alpha': 0.11420484028619322,\n",
    "#     'reg_lambda': 2.6106462927544216,\n",
    "#     'colsample_bytree': 0.5,\n",
    "#     'subsample': 0.4,\n",
    "#     'learning_rate': 0.13579539259861131,\n",
    "#     'max_depth': 35,\n",
    "#     'num_leaves': 765,\n",
    "#     'min_child_samples': 3,\n",
    "#     'min_data_per_groups': 29\n",
    "# }"
   ]
  },
  {
   "cell_type": "code",
   "execution_count": null,
   "id": "c6b49cfc-b7ed-4309-a114-0257264fe9bf",
   "metadata": {
    "tags": []
   },
   "outputs": [],
   "source": [
    "# lgbm_cross_validation(X6, y6, params_6)\n",
    "lgbm_scaled_cross_validation(X6, y6, params_6)"
   ]
  },
  {
   "cell_type": "markdown",
   "id": "599f0c09-97e8-4e3b-a117-f707ed6235e2",
   "metadata": {},
   "source": [
    "# Predictions"
   ]
  },
  {
   "cell_type": "markdown",
   "id": "56a64913-6e53-4cb4-9cb5-2d7a5f33c2d2",
   "metadata": {},
   "source": [
    "## Functions"
   ]
  },
  {
   "cell_type": "code",
   "execution_count": 56,
   "id": "2e673e92-7f3f-4ffd-a822-c574b030dac4",
   "metadata": {},
   "outputs": [],
   "source": [
    "to_drop_test = ['date','wd','forecast_time', 'forecast', \"forecast_dist\", 'wp']+feature_corr\n",
    "def make_prediction_dataset(test, to_drop=to_drop_test):\n",
    "    test_to_predict = test.dropna(subset=['ws','u','v'], how = 'any') # keeps only lines with u,v,ws,wd\n",
    "    test_to_predict = test_to_predict[test_to_predict['wp'].isna()] # keeps only lines with no wp\n",
    "    test_to_predict = test_to_predict.sort_values(by=['date', 'forecast_time'], ascending = [True, False]).drop_duplicates(subset='date')\n",
    "    test_to_predict = test_to_predict.drop(to_drop, axis = 1)\n",
    "    return test_to_predict"
   ]
  },
  {
   "cell_type": "code",
   "execution_count": 57,
   "id": "911631de-e039-4791-885d-73d714bc3115",
   "metadata": {},
   "outputs": [],
   "source": [
    "def make_submission_file(lst_X_trains, lst_y_trains, lst_tests, lst_models, dates):\n",
    "    i = 1\n",
    "    lst_prediction = []\n",
    "    lst_models_trained = []\n",
    "    for X, y, test, model in zip(lst_X_trains, lst_y_trains, lst_tests, lst_models):\n",
    "        print(f'--------------Model {i}--------------')\n",
    "        model.fit(X, y)\n",
    "        print(f'True:\\n\\tMin:{min(y)}\\n\\tMax:{max(y)}\\n\\tMean:{y.mean()}')\n",
    "        predictions = model.predict(test)\n",
    "        print(f'Prediction:\\n\\tMin:{min(predictions)}\\n\\tMax:{max(predictions)}\\n\\tMean:{np.mean(predictions)}')\n",
    "        predictions = [min(y) if i < 0 else i for i in predictions]\n",
    "        predictions = [max(y) if i > max(y) else i for i in predictions]\n",
    "        print(f'Prediction corrected:\\n\\tMin:{min(predictions)}\\n\\tMax:{max(predictions)}\\n\\tMean:{np.mean(predictions)}')\n",
    "        lst_prediction.append(predictions)\n",
    "        lst_models_trained.append(model)\n",
    "        i+=1\n",
    "    \n",
    "    df_predictions = pd.DataFrame({\n",
    "        'date': test_dates,\n",
    "        'wp1': lst_prediction[0],\n",
    "        'wp2': lst_prediction[1],\n",
    "        'wp3': lst_prediction[2],\n",
    "        'wp4': lst_prediction[3],\n",
    "        'wp5': lst_prediction[4],\n",
    "        'wp6': lst_prediction[5],        \n",
    "    })\n",
    "    return df_predictions, lst_models_trained"
   ]
  },
  {
   "cell_type": "markdown",
   "id": "c8f21883-d940-4252-a2e8-0bf49e780a3d",
   "metadata": {},
   "source": [
    "## Submission "
   ]
  },
  {
   "cell_type": "code",
   "execution_count": 58,
   "id": "e5441a77-c516-4594-acd1-026138dcbb2c",
   "metadata": {},
   "outputs": [],
   "source": [
    "model_1 = Pipeline([('scaler', MaxAbsScaler()),('ridge', LGBMRegressor(**params_1))])\n",
    "model_2 = Pipeline([('scaler', MaxAbsScaler()),('ridge', LGBMRegressor(**params_2))])\n",
    "model_3 = Pipeline([('scaler', MaxAbsScaler()),('ridge', LGBMRegressor(**params_3))])\n",
    "model_4 = Pipeline([('scaler', MaxAbsScaler()),('ridge', LGBMRegressor(**params_4))])\n",
    "model_5 = Pipeline([('scaler', MaxAbsScaler()),('ridge', LGBMRegressor(**params_5))])\n",
    "model_6 = Pipeline([('scaler', MaxAbsScaler()),('ridge', LGBMRegressor(**params_6))])"
   ]
  },
  {
   "cell_type": "code",
   "execution_count": 59,
   "id": "8921365d-a1b4-4d3f-a6fa-693733ac2f3e",
   "metadata": {},
   "outputs": [],
   "source": [
    "# model_1 = LGBMRegressor(**params_1)\n",
    "# model_2 = LGBMRegressor(**params_2)\n",
    "# model_3 = LGBMRegressor(**params_3)\n",
    "# model_4 = LGBMRegressor(**params_4)\n",
    "# model_5 = LGBMRegressor(**params_5)\n",
    "# model_6 = LGBMRegressor(**params_6)\n",
    "\n",
    "lst_models = [model_1, model_2, model_3, model_4, model_5, model_6]\n",
    "lst_X_trains = [X1, X2, X3, X4, X5, X6]\n",
    "lst_y_trains = [y1, y2, y3, y4, y5, y6]"
   ]
  },
  {
   "cell_type": "code",
   "execution_count": 60,
   "id": "ca47f1f3-34a9-4a23-8312-2a9402f563ff",
   "metadata": {},
   "outputs": [],
   "source": [
    "lst_tests = []\n",
    "for test in [test_wp1, test_wp2, test_wp3, test_wp4, test_wp5, test_wp6]:\n",
    "    test = make_prediction_dataset(test)\n",
    "    lst_tests.append(test)"
   ]
  },
  {
   "cell_type": "code",
   "execution_count": 61,
   "id": "df54ea09-8916-4fdd-a8be-0516f0ed5395",
   "metadata": {
    "collapsed": true,
    "jupyter": {
     "outputs_hidden": true
    },
    "tags": []
   },
   "outputs": [
    {
     "name": "stdout",
     "output_type": "stream",
     "text": [
      "--------------Model 1--------------\n",
      "True:\n",
      "\tMin:0.0\n",
      "\tMax:0.96\n",
      "\tMean:0.2845981952075702\n",
      "Prediction:\n",
      "\tMin:-0.06270481396737551\n",
      "\tMax:0.9959193151767103\n",
      "\tMean:0.30001763028971734\n",
      "Prediction corrected:\n",
      "\tMin:0.0\n",
      "\tMax:0.96\n",
      "\tMean:0.3000638337471024\n",
      "--------------Model 2--------------\n",
      "True:\n",
      "\tMin:0.0\n",
      "\tMax:0.966\n",
      "\tMean:0.25890153769841273\n",
      "Prediction:\n",
      "\tMin:-0.04862701689611222\n",
      "\tMax:1.0752733750886052\n",
      "\tMean:0.25445528695585135\n",
      "Prediction corrected:\n",
      "\tMin:0.0\n",
      "\tMax:0.966\n",
      "\tMean:0.2544183961408785\n",
      "--------------Model 3--------------\n",
      "True:\n",
      "\tMin:0.0\n",
      "\tMax:0.989\n",
      "\tMean:0.2625247252747253\n",
      "Prediction:\n",
      "\tMin:-0.07510566009564784\n",
      "\tMax:1.0322431842989495\n",
      "\tMean:0.28966257371606147\n",
      "Prediction corrected:\n",
      "\tMin:0.0\n",
      "\tMax:0.989\n",
      "\tMean:0.2901427408259324\n",
      "--------------Model 4--------------\n",
      "True:\n",
      "\tMin:0.0\n",
      "\tMax:0.992\n",
      "\tMean:0.2763637820512821\n",
      "Prediction:\n",
      "\tMin:-0.057743049195960315\n",
      "\tMax:0.9709534568975586\n",
      "\tMean:0.2819305898806336\n",
      "Prediction corrected:\n",
      "\tMin:0.0\n",
      "\tMax:0.9709534568975586\n",
      "\tMean:0.2823063044721959\n",
      "--------------Model 5--------------\n",
      "True:\n",
      "\tMin:0.0\n",
      "\tMax:0.978\n",
      "\tMean:0.32622119200244204\n",
      "Prediction:\n",
      "\tMin:-0.15663993877834184\n",
      "\tMax:1.1070347127987372\n",
      "\tMean:0.3364224208865625\n",
      "Prediction corrected:\n",
      "\tMin:0.0\n",
      "\tMax:0.978\n",
      "\tMean:0.33645667992784334\n",
      "--------------Model 6--------------\n",
      "True:\n",
      "\tMin:0.0\n",
      "\tMax:0.947\n",
      "\tMean:0.2425176472832723\n",
      "Prediction:\n",
      "\tMin:-0.04468118369898867\n",
      "\tMax:0.9487820571060975\n",
      "\tMean:0.24412271393614385\n",
      "Prediction corrected:\n",
      "\tMin:0.0\n",
      "\tMax:0.947\n",
      "\tMean:0.24430454497015255\n"
     ]
    }
   ],
   "source": [
    "df_predictions, lst_models_trained = make_submission_file(lst_X_trains, lst_y_trains, lst_tests, lst_models, test_dates)"
   ]
  },
  {
   "cell_type": "code",
   "execution_count": 62,
   "id": "1fa2c859-6e63-40e3-adc4-045fe68c06de",
   "metadata": {},
   "outputs": [],
   "source": [
    "df_predictions.to_csv('Predictions/submission_nb_10_full_maxabs-lgbm-featselect.csv', index=False, sep=';')"
   ]
  },
  {
   "cell_type": "markdown",
   "id": "7a9f9df6-0310-4202-8e27-64a9fc7ac69a",
   "metadata": {},
   "source": [
    "## Saving models"
   ]
  },
  {
   "cell_type": "code",
   "execution_count": 63,
   "id": "3b0d9b33-202a-433c-a1c3-9156bedd7492",
   "metadata": {},
   "outputs": [],
   "source": [
    "pkl_model = \"Models/LGBM/LGBM-maxabs-wp1-100trials_best_warm_start-featselect.pkl\"\n",
    "with open(pkl_model, 'wb') as file:\n",
    "    pickle.dump(lst_models_trained[0], file)\n",
    "    \n",
    "    \n",
    "pkl_model = \"Models/LGBM/LGBM-maxabs-wp2-50trials_best_warm_start-featselect.pkl\"\n",
    "with open(pkl_model, 'wb') as file:\n",
    "    pickle.dump(lst_models_trained[1], file)\n",
    "    \n",
    "\n",
    "pkl_model = \"Models/LGBM/LGBM-maxabs-wp3-100trials_best_warm_start-featselect.pkl\"\n",
    "with open(pkl_model, 'wb') as file:\n",
    "    pickle.dump(lst_models_trained[2], file)\n",
    "\n",
    "\n",
    "pkl_model = \"Models/LGBM/LGBM-maxabs-wp4-50trials_best_warm_start-featselect.pkl\"\n",
    "with open(pkl_model, 'wb') as file:\n",
    "    pickle.dump(lst_models_trained[3], file)\n",
    "\n",
    "\n",
    "pkl_model = \"Models/LGBM/LGBM-maxabs-wp5-50trials_best_warm_start-featselect.pkl\"\n",
    "with open(pkl_model, 'wb') as file:\n",
    "    pickle.dump(lst_models_trained[4], file)\n",
    "\n",
    "\n",
    "pkl_model = \"Models/LGBM/LGBM-maxabs-wp6-50trials_best_warm_start-featselect.pkl\"\n",
    "with open(pkl_model, 'wb') as file:\n",
    "    pickle.dump(lst_models_trained[5], file)"
   ]
  }
 ],
 "metadata": {
  "kernelspec": {
   "display_name": "Python 3",
   "language": "python",
   "name": "python3"
  },
  "language_info": {
   "codemirror_mode": {
    "name": "ipython",
    "version": 3
   },
   "file_extension": ".py",
   "mimetype": "text/x-python",
   "name": "python",
   "nbconvert_exporter": "python",
   "pygments_lexer": "ipython3",
   "version": "3.8.5"
  }
 },
 "nbformat": 4,
 "nbformat_minor": 5
}
