{
 "cells": [
  {
   "cell_type": "markdown",
   "id": "261ec557-50a0-4cd6-8bec-268d1dee685a",
   "metadata": {},
   "source": [
    "# LGBM Model development"
   ]
  },
  {
   "cell_type": "code",
   "execution_count": 29,
   "id": "1399bb0f-0234-43a6-b724-73f21f9b28b7",
   "metadata": {},
   "outputs": [],
   "source": [
    "import pandas as pd\n",
    "import seaborn as sns\n",
    "import openpyxl\n",
    "from datetime import datetime, timedelta\n",
    "import matplotlib.pyplot as plt\n",
    "import numpy as np\n",
    "import os\n",
    "import pickle"
   ]
  },
  {
   "cell_type": "code",
   "execution_count": 30,
   "id": "9a662ef3-a957-41fe-955d-1c5e99709226",
   "metadata": {},
   "outputs": [],
   "source": [
    "from sklearn.model_selection import KFold, train_test_split, cross_val_score\n",
    "from sklearn.preprocessing import MinMaxScaler, StandardScaler, MaxAbsScaler, RobustScaler\n",
    "from sklearn.pipeline import Pipeline\n",
    "from sklearn.metrics import mean_squared_error, mean_absolute_error\n",
    "import optuna"
   ]
  },
  {
   "cell_type": "code",
   "execution_count": 31,
   "id": "0bc7dfff-4363-41ad-bfd2-5e5dd7c0ef63",
   "metadata": {},
   "outputs": [],
   "source": [
    "from Functions.helper_functions import * "
   ]
  },
  {
   "cell_type": "code",
   "execution_count": 32,
   "id": "3c184629-3914-4a2c-ba3f-5f111909f344",
   "metadata": {},
   "outputs": [],
   "source": [
    "import warnings\n",
    "warnings.filterwarnings(action='ignore', category=UserWarning)\n",
    "pd.options.mode.chained_assignment = None  # default='warn'"
   ]
  },
  {
   "cell_type": "code",
   "execution_count": 33,
   "id": "6333588b-f1b0-4a5b-afea-e53064be0d99",
   "metadata": {},
   "outputs": [],
   "source": [
    "np.random.seed(42)"
   ]
  },
  {
   "cell_type": "markdown",
   "id": "b617c0f5-e679-4a3f-9a62-12e03303d11f",
   "metadata": {},
   "source": [
    "# Data"
   ]
  },
  {
   "cell_type": "code",
   "execution_count": 34,
   "id": "c4d3258c-6931-447d-84b7-ac52ed05673a",
   "metadata": {},
   "outputs": [],
   "source": [
    "train_wp1 = pd.read_csv('Data/Preprocessing/WP1_train_preprocessed.csv', sep=',')\n",
    "train_wp2 = pd.read_csv('Data/Preprocessing/WP2_train_preprocessed.csv', sep=',')\n",
    "train_wp3 = pd.read_csv('Data/Preprocessing/WP3_train_preprocessed.csv', sep=',')\n",
    "train_wp4 = pd.read_csv('Data/Preprocessing/WP4_train_preprocessed.csv', sep=',')\n",
    "train_wp5 = pd.read_csv('Data/Preprocessing/WP5_train_preprocessed.csv', sep=',')\n",
    "train_wp6 = pd.read_csv('Data/Preprocessing/WP6_train_preprocessed.csv', sep=',')"
   ]
  },
  {
   "cell_type": "code",
   "execution_count": 35,
   "id": "69f752d4-63ed-43b9-9315-41ecaa114ce4",
   "metadata": {},
   "outputs": [],
   "source": [
    "test_wp1 = pd.read_csv('Data/Preprocessing/WP1_test_preprocessed.csv', sep=',')\n",
    "test_wp2 = pd.read_csv('Data/Preprocessing/WP2_test_preprocessed.csv', sep=',')\n",
    "test_wp3 = pd.read_csv('Data/Preprocessing/WP3_test_preprocessed.csv', sep=',')\n",
    "test_wp4 = pd.read_csv('Data/Preprocessing/WP4_test_preprocessed.csv', sep=',')\n",
    "test_wp5 = pd.read_csv('Data/Preprocessing/WP5_test_preprocessed.csv', sep=',')\n",
    "test_wp6 = pd.read_csv('Data/Preprocessing/WP6_test_preprocessed.csv', sep=',')\n",
    "test_dates = pd.read_csv('Data/Initial/test.csv', sep=',').date.values"
   ]
  },
  {
   "cell_type": "code",
   "execution_count": 36,
   "id": "7540aa92-fc5e-4431-8e79-faba9f0cecad",
   "metadata": {},
   "outputs": [],
   "source": [
    "to_drop = ['date','wd','forecast_time', 'forecast', \"forecast_dist\"]"
   ]
  },
  {
   "cell_type": "code",
   "execution_count": 37,
   "id": "b0be88be-a88e-4777-a80f-66d64c4d0089",
   "metadata": {
    "tags": []
   },
   "outputs": [],
   "source": [
    "u_to_drop = [\n",
    "    'u_T_1', 'u_T_2', 'u_T_3', 'u_T_4', 'u_T_5', 'u_T_6', \n",
    "    'u_T_2_mean', 'u_T_3_mean', 'u_T_4_mean', 'u_T_5_mean', 'u_T_6_mean', 'u_T_7_mean',\n",
    "    'u_T_8_mean', 'u_T_9_mean', 'u_T_10_mean', 'u_T_11_mean', 'u_T_12_mean','u_T_24_mean',\n",
    "    'u_T_2_std', 'u_T_4_std', 'u_T_5_std', 'u_T_6_std',\n",
    "    'u_T_2_median', 'u_T_3_median', 'u_T_4_median', 'u_T_5_median', 'u_T_6_median', 'u_T_12_median','u_T_24_median', 'u_T_36_median',\n",
    "    'u_T_2_max', 'u_T_3_max', 'u_T_4_max', 'u_T_5_max', 'u_T_6_max', 'u_T_12_max',\n",
    "    'u_T_2_min', 'u_T_3_min', 'u_T_4_min', 'u_T_5_min', 'u_T_6_min', 'u_T_12_min',\n",
    "    'u2_T_1', 'u2_T_2', 'u2_T_3', 'u2_T_4', 'u2_T_5', 'u2_T_6', \n",
    "    'u2_T_2_mean', 'u2_T_3_mean', 'u2_T_4_mean', 'u2_T_5_mean', 'u2_T_6_mean', 'u2_T_7_mean',\n",
    "    'u2_T_8_mean', 'u2_T_9_mean', 'u2_T_10_mean', 'u2_T_11_mean', 'u2_T_12_mean','u2_T_24_mean',\n",
    "    'u2_T_2_std', 'u2_T_4_std', 'u2_T_5_std', 'u2_T_6_std', 'u2_T_24_std',\n",
    "    'u2_T_2_median', 'u2_T_3_median', 'u2_T_4_median', 'u2_T_5_median', 'u2_T_6_median', 'u2_T_12_median',\n",
    "    'u2_T_2_max','u2_T_3_max', 'u2_T_4_max','u2_T_5_max', 'u2_T_6_max', 'u2_T_12_max',\n",
    "    'u2_T_2_min', 'u2_T_3_min', 'u2_T_4_min', 'u2_T_5_min', 'u2_T_6_min',\n",
    "    'u2_T_12', 'u2_T_36_mean', 'u2_T_36_std', 'u2_T_24_median', 'u2_T_24_max',\n",
    "    'u_T_36_mean','u_T_12','u_T_24_max','u2_T_36_median','u_T_24_min'\n",
    "]\n",
    "ws_to_drop = [\n",
    "    'ws_T_1', 'ws_T_2', 'ws_T_3', 'ws_T_4', 'ws_T_5', 'ws_T_6', 'ws_T_7', 'ws_T_8', 'ws_T_10','ws_T_11', 'ws_T_12',\n",
    "    'ws_T_2_mean', 'ws_T_3_mean', 'ws_T_4_mean', 'ws_T_5_mean', 'ws_T_6_mean', 'ws_T_7_mean', 'ws_T_8_mean', 'ws_T_9_mean', \n",
    "    'ws_T_10_mean', 'ws_T_11_mean', 'ws_T_12_mean', 'ws_T_24_mean', \n",
    "    'ws_T_2_std', 'ws_T_3_std', 'ws_T_4_std', 'ws_T_5_std', \n",
    "    'ws_T_2_median', 'ws_T_3_median', 'ws_T_4_median', 'ws_T_5_median', 'ws_T_6_median',\n",
    "    'ws_T_12_median', 'ws_T_24_median', 'ws_T_36_median',\n",
    "    'ws_T_2_max', 'ws_T_3_max', 'ws_T_4_max', 'ws_T_5_max','ws_T_6_max', 'ws_T_12_max',\n",
    "     'ws_T_2_min', 'ws_T_3_min', 'ws_T_4_min', 'ws_T_5_min', 'ws_T_6_min', 'ws_T_12_min','ws_T_24_max','ws_T_24_min'\n",
    "]\n",
    "\n",
    "v_to_drop = [\n",
    "    'v_T_1', 'v_T_2', 'v_T_3', 'v_T_4', 'v_T_5', 'v_T_6', \n",
    "    'v_T_2_mean', 'v_T_3_mean', 'v_T_4_mean', 'v_T_5_mean', 'v_T_6_mean', 'v_T_7_mean',\n",
    "    'v_T_8_mean', 'v_T_9_mean', 'v_T_10_mean', 'v_T_11_mean', 'v_T_12_mean', 'v_T_24_mean','v_T_36_mean',\n",
    "    'v_T_3_std', 'v_T_4_std', 'v_T_5_std','v_T_6_std','v_T_24_std', 'v_T_36_median',\n",
    "    'v_T_2_median', 'v_T_3_median', 'v_T_4_median', 'v_T_5_median', 'v_T_6_median', \n",
    "    'v_T_2_max', 'v_T_3_max', 'v_T_4_max', 'v_T_5_max', 'v_T_6_max', 'v_T_12_max', \n",
    "    'v_T_2_min', 'v_T_3_min', 'v_T_4_min', 'v_T_5_min', 'v_T_6_min', 'v_T_12_min', \n",
    "    'v_T_36_min', 'v_T_36', 'v_T_24_max',  'v_T_12_median', 'v_T_24_median',\n",
    "]\n",
    "\n",
    "wd_to_drop = [\n",
    "    'coswd_1', 'coswd_2', 'coswd_3', 'coswd_4', 'coswd_5', 'coswd_6',\n",
    "    'coswd_2_mean', 'coswd_3_mean', 'coswd_4_mean', 'coswd_5_mean', 'coswd_6_mean', 'coswd_7_mean', \n",
    "    'coswd_8_mean', 'coswd_9_mean', 'coswd_10_mean', 'coswd_11_mean', 'coswd_12_mean', 'coswd_24_mean', \n",
    "    'coswd_3_std', 'coswd_4_std','coswd_5_std','coswd_2_median', 'coswd_3_median','coswd_4_median', \n",
    "    'coswd_5_median', 'coswd_6_median', 'coswd_36_median', 'coswd_24_median', 'coswd_12_median',\n",
    "    'coswd_2_max', 'coswd_3_max', 'coswd_4_max', 'coswd_5_max', 'coswd_6_max', 'coswd_12_max', 'coswd_24_max',\n",
    "    'coswd_2_min', 'coswd_3_min', 'coswd_4_min', 'coswd_5_min', 'coswd_6_min', 'coswd_12_min', 'coswd_24_min',\n",
    "    'ws_T_36_max', 'ws_T_36_min', 'coswd_12', 'coswd_24'\n",
    "]\n",
    "\n",
    "other_to_drop = [\n",
    "    'cos_day', 'u', 'v'\n",
    "]\n",
    "\n",
    "feature_corr = u_to_drop+ws_to_drop+v_to_drop+wd_to_drop+other_to_drop\n",
    "to_drop = feature_corr+to_drop"
   ]
  },
  {
   "cell_type": "markdown",
   "id": "d0204367-344e-4837-9d27-c07833112862",
   "metadata": {},
   "source": [
    "# LGBM functions"
   ]
  },
  {
   "cell_type": "code",
   "execution_count": 38,
   "id": "df77bdff-aa3c-42cd-91a2-4ecb5bffdead",
   "metadata": {
    "tags": []
   },
   "outputs": [],
   "source": [
    "from lightgbm import LGBMRegressor"
   ]
  },
  {
   "cell_type": "code",
   "execution_count": 39,
   "id": "0c2fd0c0-976c-4e83-8a23-a86d1864e2a7",
   "metadata": {
    "tags": []
   },
   "outputs": [],
   "source": [
    "# def lgbm_cross_validation(X, y, params):\n",
    "#     if params == None:\n",
    "#         model = LGBMRegressor()\n",
    "#     else:\n",
    "#         model = LGBMRegressor(**params)\n",
    "\n",
    "#     print('-----------LGBM CROSS VALIDATION BEGINNING-----------')\n",
    "#     split = 10\n",
    "#     kf = KFold(n_splits=split, shuffle=True)       \n",
    "#     lgbm_rmse_scores = []\n",
    "#     lgbm_mae_scores = []\n",
    "#     i = 1\n",
    "#     for (train_index, test_index) in kf.split(pd.DataFrame(X), pd.DataFrame(y)):\n",
    "#         X_train, X_test = pd.DataFrame(X).iloc[train_index], pd.DataFrame(X).iloc[test_index]\n",
    "#         Y_train, Y_test = pd.DataFrame(y).iloc[train_index],pd.DataFrame(y).iloc[test_index]\n",
    "\n",
    "#         model.fit(X_train, Y_train, eval_set=[(X_test, Y_test)], verbose=100)\n",
    "\n",
    "#         prediction = model.predict(X_test)\n",
    "#         lgbm_rmse_scores.append(mean_squared_error(Y_test, prediction,squared=False))\n",
    "#         lgbm_mae_scores.append(mean_absolute_error(Y_test, prediction))\n",
    "        \n",
    "#         print(show_evaluation(prediction, Y_test))\n",
    "#         print(f'-------------------FOLD {i}-----------------')\n",
    "#         i+=1\n",
    "\n",
    "#     print('---------------CROSS VALIDATION COMPLETE-------------')\n",
    "#     print('--------------------------RMSE-----------------------')\n",
    "#     display_scores(lgbm_rmse_scores)\n",
    "#     print('--------------------------MAE------------------------')\n",
    "#     display_scores(lgbm_mae_scores)"
   ]
  },
  {
   "cell_type": "code",
   "execution_count": 40,
   "id": "2f35f398-953b-4984-97de-0cc2e9c637b1",
   "metadata": {
    "tags": []
   },
   "outputs": [],
   "source": [
    "def lgbm_scaled_cross_validation(X, y, params):\n",
    "    if params == None:\n",
    "#         model = Pipeline([('scaler', MaxAbsScaler()),('ridge', LGBMRegressor())])\n",
    "        model = Pipeline([('scaler', RobustScaler()),('ridge', LGBMRegressor())])\n",
    "    else:\n",
    "#         model = Pipeline([('scaler', MaxAbsScaler()),('ridge', LGBMRegressor(**params))])\n",
    "        model = Pipeline([('scaler', RobustScaler()),('ridge', LGBMRegressor(**params))])\n",
    "\n",
    "    print('-----------LGBM CROSS VALIDATION BEGINNING-----------')\n",
    "    split = 10\n",
    "    kf = KFold(n_splits=split, shuffle=True)       \n",
    "    lgbm_rmse_scores = []\n",
    "    lgbm_mae_scores = []\n",
    "    i = 1\n",
    "    for (train_index, test_index) in kf.split(pd.DataFrame(X), pd.DataFrame(y)):\n",
    "        X_train, X_test = pd.DataFrame(X).iloc[train_index], pd.DataFrame(X).iloc[test_index]\n",
    "        Y_train, Y_test = pd.DataFrame(y).iloc[train_index],pd.DataFrame(y).iloc[test_index]\n",
    "\n",
    "        model.fit(X_train, Y_train)\n",
    "\n",
    "        prediction = model.predict(X_test)\n",
    "        lgbm_rmse_scores.append(mean_squared_error(Y_test, prediction,squared=False))\n",
    "        lgbm_mae_scores.append(mean_absolute_error(Y_test, prediction))\n",
    "        \n",
    "        print(show_evaluation(prediction, Y_test))\n",
    "        print(f'-------------------FOLD {i}-----------------')\n",
    "        i+=1\n",
    "\n",
    "    print('---------------CROSS VALIDATION COMPLETE-------------')\n",
    "    print('--------------------------RMSE-----------------------')\n",
    "    display_scores(lgbm_rmse_scores)\n",
    "    print('--------------------------MAE------------------------')\n",
    "    display_scores(lgbm_mae_scores)"
   ]
  },
  {
   "cell_type": "code",
   "execution_count": 41,
   "id": "2155b5a6-2476-434d-832f-2f92dd646d67",
   "metadata": {
    "tags": []
   },
   "outputs": [],
   "source": [
    "def hyperparametrization(trial, train_x, test_x, train_y, test_y):\n",
    "    param = {\n",
    "        'metric': 'rmse', \n",
    "        'reg_alpha': trial.suggest_loguniform('reg_alpha', 1e-3, 10.0),\n",
    "        'reg_lambda': trial.suggest_loguniform('reg_lambda', 1e-3, 10.0),\n",
    "        'colsample_bytree': trial.suggest_categorical('colsample_bytree', [0.3,0.4,0.5,0.6,0.7,0.8,0.9, 1.0]),\n",
    "        'subsample': trial.suggest_categorical('subsample', [0.4,0.5,0.6,0.7,0.8,1.0]),\n",
    "        'learning_rate': trial.suggest_loguniform('learning_rate', 1e-3, 0.3),\n",
    "        'max_depth': trial.suggest_int(\"max_depth\", 20, 100),\n",
    "        'num_leaves' : trial.suggest_int('num_leaves', 1, 1000),\n",
    "        'min_child_samples': trial.suggest_int('min_child_samples', 1, 300),\n",
    "    }\n",
    "    \n",
    "#     model = LGBMRegressor(**param)  \n",
    "    model = Pipeline([('scaler', MinMaxScaler()),('ridge', LGBMRegressor(**param))])\n",
    "#     model.fit(train_x,train_y,eval_set=[(test_x,test_y)],early_stopping_rounds=100,verbose=False)\n",
    "    model.fit(train_x,train_y)\n",
    "    \n",
    "    preds = model.predict(test_x)\n",
    "    \n",
    "    rmse =  mean_squared_error(test_y, preds,squared=False)\n",
    "    \n",
    "    return rmse"
   ]
  },
  {
   "cell_type": "code",
   "execution_count": 42,
   "id": "3859e13c-87d0-4249-b9ed-f479b3edc2ac",
   "metadata": {
    "tags": []
   },
   "outputs": [],
   "source": [
    "def hyperparametrization_cv(trial, X, y):\n",
    "    param = {\n",
    "        'metric': 'rmse', \n",
    "        'reg_alpha': trial.suggest_loguniform('reg_alpha', 1e-3, 10.0),\n",
    "        'reg_lambda': trial.suggest_loguniform('reg_lambda', 1e-3, 10.0),\n",
    "        'colsample_bytree': trial.suggest_categorical('colsample_bytree', [0.3,0.4,0.5,0.6,0.7,0.8,0.9, 1.0]),\n",
    "        'subsample': trial.suggest_categorical('subsample', [0.4,0.5,0.6,0.7,0.8,1.0]),\n",
    "        'learning_rate': trial.suggest_loguniform('learning_rate', 1e-3, 0.3),\n",
    "        'max_depth': trial.suggest_int(\"max_depth\", 20, 100),\n",
    "        'num_leaves' : trial.suggest_int('num_leaves', 1, 1000),\n",
    "        'min_child_samples': trial.suggest_int('min_child_samples', 1, 300),\n",
    "    }\n",
    "    \n",
    "    model = LGBMRegressor(**param)\n",
    "    rmse = - cross_val_score(model, X, y, cv=3, scoring = 'neg_root_mean_squared_error').mean()\n",
    "    \n",
    "    return rmse"
   ]
  },
  {
   "cell_type": "markdown",
   "id": "bbc3509e-c676-463f-97ac-c0ac98b5f3ed",
   "metadata": {},
   "source": [
    "## WP1 "
   ]
  },
  {
   "cell_type": "markdown",
   "id": "7cd32285-01cf-4ab5-8fcb-706b7f8a294b",
   "metadata": {},
   "source": [
    "| |  | Mean | Std | Sum up |\n",
    "| --- | --- | --- | --- | --- |\n",
    "| No params | RMSE | 0.10344875448880764 | 0.0019070131550065564 |  |\n",
    "| No params - StandardScaler | RMSE | 0.10355855436437653 | 0.0019043784372002228 |  |\n",
    "| After tuning 50trials| RMSE | 0.06830085723562579 | 0.0012998671387256361 | To keep, maybe redo optuna with warm start with it - first sub|\n",
    "| After tuning 100trials| RMSE | 0.0695930431604128 | 0.0015123892627707553 | |\n",
    "| After tuning W.S 60trials | RMSE | 0.0671868765178121 | 0.0019357892229500213 | second sub - BETTER |\n",
    "| After tuning W.S 50trials - StandardScaler | RMSE | 0.06705406618054667 | 0.0013509038914922506 | with warm start 1 parameters |\n",
    "| After tuning W.S 50trials - RobustScaler | RMSE | 0.06736753027260156 | 0.0009971394767292064 | |\n",
    "| --- | --- | --- | --- | --- |\n",
    "| No params | MAE | 0.07306057409517844 | 0.0009857628815465762 |  |\n",
    "| No params - StandardScaler | MAE | 0.07310137331348271 | 0.0010945145617042643 |  |\n",
    "| After tuning 50trials| MAE | 0.04481696427654311 | 0.000727722171899004 |  |\n",
    "| After tuning 100trials| MAE | 0.045696725242359994 | 0.0008508558100930331 |  |\n",
    "| After tuning W.S 60trials | MAE | 0.04322865305311156 | 0.0009454253743042544 | |\n",
    "| After tuning W.S 50trials - StandardScaler | MAE | 0.043173032898780175 | 0.0007696056550296055 | with warm start 1 parameters |\n",
    "| After tuning W.S 50trials - RobustScaler | MAE | 0.043246198690701294 | 0.000596545751975941 | |"
   ]
  },
  {
   "cell_type": "code",
   "execution_count": 43,
   "id": "70c3af58-11fa-437e-80d2-d58c9901ce08",
   "metadata": {
    "tags": []
   },
   "outputs": [],
   "source": [
    "wp1_X = train_wp1[[c for c in train_wp1 if c not in [\"wp\"]] + [\"wp\"]].drop(to_drop+feature_corr, axis = 1)\n",
    "X1 = wp1_X.drop('wp', axis=1)\n",
    "y1 = wp1_X['wp']\n",
    "\n",
    "def objective_wp1(trial,data=X1,target=y1):\n",
    "    train_x, test_x, train_y, test_y = train_test_split(data, target, test_size=0.15,random_state=42)\n",
    "    return hyperparametrization(trial, train_x, test_x, train_y, test_y)"
   ]
  },
  {
   "cell_type": "code",
   "execution_count": 44,
   "id": "ce60b0b1-b92e-42aa-8734-07709f0dc159",
   "metadata": {
    "collapsed": true,
    "jupyter": {
     "outputs_hidden": true
    },
    "tags": []
   },
   "outputs": [
    {
     "name": "stdout",
     "output_type": "stream",
     "text": [
      "-----------LGBM CROSS VALIDATION BEGINNING-----------\n",
      "RMSE score: 0.10673394295125199\n",
      "MAE score: 0.07538804107084769\n",
      "None\n",
      "-------------------FOLD 1-----------------\n",
      "RMSE score: 0.10878477339303502\n",
      "MAE score: 0.07651142955181095\n",
      "None\n",
      "-------------------FOLD 2-----------------\n",
      "RMSE score: 0.10741580059761964\n",
      "MAE score: 0.07544854425678599\n",
      "None\n",
      "-------------------FOLD 3-----------------\n",
      "RMSE score: 0.10874503918978277\n",
      "MAE score: 0.07756358640866627\n",
      "None\n",
      "-------------------FOLD 4-----------------\n",
      "RMSE score: 0.10773881942674152\n",
      "MAE score: 0.07681605858992606\n",
      "None\n",
      "-------------------FOLD 5-----------------\n",
      "RMSE score: 0.10738854648859955\n",
      "MAE score: 0.0755259174514674\n",
      "None\n",
      "-------------------FOLD 6-----------------\n",
      "RMSE score: 0.11060736094755703\n",
      "MAE score: 0.07764645493616058\n",
      "None\n",
      "-------------------FOLD 7-----------------\n",
      "RMSE score: 0.10812659200067887\n",
      "MAE score: 0.07638246361872644\n",
      "None\n",
      "-------------------FOLD 8-----------------\n",
      "RMSE score: 0.11055504988722631\n",
      "MAE score: 0.07855139547735543\n",
      "None\n",
      "-------------------FOLD 9-----------------\n",
      "RMSE score: 0.10609507665572693\n",
      "MAE score: 0.07511911090151234\n",
      "None\n",
      "-------------------FOLD 10-----------------\n",
      "---------------CROSS VALIDATION COMPLETE-------------\n",
      "--------------------------RMSE-----------------------\n",
      "Scores: [0.10673394295125199, 0.10878477339303502, 0.10741580059761964, 0.10874503918978277, 0.10773881942674152, 0.10738854648859955, 0.11060736094755703, 0.10812659200067887, 0.11055504988722631, 0.10609507665572693]\n",
      "Mean: 0.10821910015382197\n",
      "Std: 0.001415929147196657\n",
      "--------------------------MAE------------------------\n",
      "Scores: [0.07538804107084769, 0.07651142955181095, 0.07544854425678599, 0.07756358640866627, 0.07681605858992606, 0.0755259174514674, 0.07764645493616058, 0.07638246361872644, 0.07855139547735543, 0.07511911090151234]\n",
      "Mean: 0.07649530022632592\n",
      "Std: 0.001093851878305086\n"
     ]
    }
   ],
   "source": [
    "# lgbm_cross_validation(X1, y1, None)\n",
    "lgbm_scaled_cross_validation(X1, y1, None)"
   ]
  },
  {
   "cell_type": "code",
   "execution_count": 83,
   "id": "b59a3d8b-ab17-406b-869d-15074de0454c",
   "metadata": {
    "tags": []
   },
   "outputs": [
    {
     "name": "stderr",
     "output_type": "stream",
     "text": [
      "\u001b[32m[I 2021-09-07 11:09:32,102]\u001b[0m A new study created in memory with name: no-name-98124f97-6686-403c-926d-a4204c5c140a\u001b[0m\n",
      "<ipython-input-83-e7f3c309ccf4>:31: ExperimentalWarning: enqueue_trial is experimental (supported from v1.2.0). The interface can change in the future.\n",
      "  study.enqueue_trial(try_these_first[0])\n",
      "C:\\Users\\J0528925\\Anaconda3\\envs\\datachallenge\\lib\\site-packages\\optuna\\study\\study.py:857: ExperimentalWarning: create_trial is experimental (supported from v2.0.0). The interface can change in the future.\n",
      "  create_trial(state=TrialState.WAITING, system_attrs={\"fixed_params\": params})\n",
      "C:\\Users\\J0528925\\Anaconda3\\envs\\datachallenge\\lib\\site-packages\\optuna\\study\\study.py:856: ExperimentalWarning: add_trial is experimental (supported from v2.0.0). The interface can change in the future.\n",
      "  self.add_trial(\n",
      "<ipython-input-83-e7f3c309ccf4>:32: ExperimentalWarning: enqueue_trial is experimental (supported from v1.2.0). The interface can change in the future.\n",
      "  study.enqueue_trial(try_these_first[1])\n",
      "<ipython-input-83-e7f3c309ccf4>:33: ExperimentalWarning: enqueue_trial is experimental (supported from v1.2.0). The interface can change in the future.\n",
      "  study.enqueue_trial(try_these_first[2])\n"
     ]
    }
   ],
   "source": [
    "# try_these_first = [{\n",
    "#     'reg_alpha': 0.664265743859848,\n",
    "#     'reg_lambda': 9.83047434398735,\n",
    "#     'colsample_bytree': 1.0,\n",
    "#     'subsample': 1.0,\n",
    "#     'learning_rate': 0.24237997149103074,\n",
    "#     'max_depth': 77,\n",
    "#     'num_leaves': 389,\n",
    "#     'min_child_samples': 2,\n",
    "# },  {\n",
    "#     'reg_alpha': 0.8314449043001416,\n",
    "#     'reg_lambda': 9.093012403173608,\n",
    "#     'colsample_bytree': 0.9,\n",
    "#     'subsample': 0.4,\n",
    "#     'learning_rate': 0.2033256175102991,\n",
    "#     'max_depth': 55,\n",
    "#     'num_leaves': 964,\n",
    "#     'min_child_samples': 25,\n",
    "# }, {\n",
    "#     'reg_alpha': 0.25020407037516895,\n",
    "#     'reg_lambda': 7.183180037262842,\n",
    "#     'colsample_bytree': 1.0,\n",
    "#     'subsample': 1.0,\n",
    "#     'learning_rate': 0.11751089382716717,\n",
    "#     'max_depth': 84,\n",
    "#     'num_leaves': 596,\n",
    "#     'min_child_samples': 15,\n",
    "# }]\n",
    "\n",
    "# study = optuna.create_study(direction='minimize')\n",
    "# study.enqueue_trial(try_these_first[0])\n",
    "# study.enqueue_trial(try_these_first[1])\n",
    "# study.enqueue_trial(try_these_first[2])"
   ]
  },
  {
   "cell_type": "code",
   "execution_count": 84,
   "id": "ab792f0b-e669-4e29-b434-8db786b194a2",
   "metadata": {
    "tags": []
   },
   "outputs": [
    {
     "name": "stderr",
     "output_type": "stream",
     "text": [
      "\u001b[32m[I 2021-09-07 11:09:37,212]\u001b[0m Trial 0 finished with value: 0.0679311388874414 and parameters: {'reg_alpha': 0.664265743859848, 'reg_lambda': 9.83047434398735, 'colsample_bytree': 1.0, 'subsample': 1.0, 'learning_rate': 0.24237997149103074, 'max_depth': 77, 'num_leaves': 389, 'min_child_samples': 2}. Best is trial 0 with value: 0.0679311388874414.\u001b[0m\n",
      "\u001b[32m[I 2021-09-07 11:09:40,584]\u001b[0m Trial 1 finished with value: 0.06794682477114562 and parameters: {'reg_alpha': 0.8314449043001416, 'reg_lambda': 9.093012403173608, 'colsample_bytree': 0.9, 'subsample': 0.4, 'learning_rate': 0.2033256175102991, 'max_depth': 55, 'num_leaves': 964, 'min_child_samples': 25}. Best is trial 0 with value: 0.0679311388874414.\u001b[0m\n",
      "\u001b[32m[I 2021-09-07 11:09:45,211]\u001b[0m Trial 2 finished with value: 0.06773921527333406 and parameters: {'reg_alpha': 0.25020407037516895, 'reg_lambda': 7.183180037262842, 'colsample_bytree': 1.0, 'subsample': 1.0, 'learning_rate': 0.11751089382716717, 'max_depth': 84, 'num_leaves': 596, 'min_child_samples': 15}. Best is trial 2 with value: 0.06773921527333406.\u001b[0m\n",
      "\u001b[32m[I 2021-09-07 11:09:47,031]\u001b[0m Trial 3 finished with value: 0.06911055925419365 and parameters: {'reg_alpha': 0.027359591386201663, 'reg_lambda': 0.015232554225536075, 'colsample_bytree': 0.6, 'subsample': 0.5, 'learning_rate': 0.15640719339188536, 'max_depth': 82, 'num_leaves': 334, 'min_child_samples': 47}. Best is trial 2 with value: 0.06773921527333406.\u001b[0m\n",
      "\u001b[32m[I 2021-09-07 11:09:48,312]\u001b[0m Trial 4 finished with value: 0.2777177873962473 and parameters: {'reg_alpha': 1.2969445298492612, 'reg_lambda': 0.47881644123612505, 'colsample_bytree': 0.8, 'subsample': 0.8, 'learning_rate': 0.0011262421723304472, 'max_depth': 53, 'num_leaves': 405, 'min_child_samples': 75}. Best is trial 2 with value: 0.06773921527333406.\u001b[0m\n",
      "\u001b[32m[I 2021-09-07 11:09:49,796]\u001b[0m Trial 5 finished with value: 0.16535915626198722 and parameters: {'reg_alpha': 0.02593365142078986, 'reg_lambda': 0.004100664355762384, 'colsample_bytree': 1.0, 'subsample': 0.6, 'learning_rate': 0.010163779695677088, 'max_depth': 22, 'num_leaves': 714, 'min_child_samples': 217}. Best is trial 2 with value: 0.06773921527333406.\u001b[0m\n",
      "\u001b[32m[I 2021-09-07 11:09:50,475]\u001b[0m Trial 6 finished with value: 0.10591328940807587 and parameters: {'reg_alpha': 0.5732189741078051, 'reg_lambda': 2.970531644403043, 'colsample_bytree': 0.3, 'subsample': 0.8, 'learning_rate': 0.050378459445844966, 'max_depth': 52, 'num_leaves': 98, 'min_child_samples': 57}. Best is trial 2 with value: 0.06773921527333406.\u001b[0m\n",
      "\u001b[32m[I 2021-09-07 11:09:51,676]\u001b[0m Trial 7 finished with value: 0.1342343636140932 and parameters: {'reg_alpha': 0.023275562479106237, 'reg_lambda': 0.002852048957765766, 'colsample_bytree': 0.7, 'subsample': 1.0, 'learning_rate': 0.01667939761370236, 'max_depth': 50, 'num_leaves': 187, 'min_child_samples': 164}. Best is trial 2 with value: 0.06773921527333406.\u001b[0m\n",
      "\u001b[32m[I 2021-09-07 11:09:52,334]\u001b[0m Trial 8 finished with value: 0.1514130922612146 and parameters: {'reg_alpha': 1.6086370335794304, 'reg_lambda': 0.6501867615902418, 'colsample_bytree': 0.6, 'subsample': 0.6, 'learning_rate': 0.014369433810952374, 'max_depth': 27, 'num_leaves': 823, 'min_child_samples': 272}. Best is trial 2 with value: 0.06773921527333406.\u001b[0m\n",
      "\u001b[32m[I 2021-09-07 11:09:52,795]\u001b[0m Trial 9 finished with value: 0.09885330723647598 and parameters: {'reg_alpha': 0.010789269461984325, 'reg_lambda': 1.6317349823251441, 'colsample_bytree': 0.4, 'subsample': 0.8, 'learning_rate': 0.14026695503066056, 'max_depth': 71, 'num_leaves': 46, 'min_child_samples': 117}. Best is trial 2 with value: 0.06773921527333406.\u001b[0m\n",
      "\u001b[32m[I 2021-09-07 11:09:54,206]\u001b[0m Trial 10 finished with value: 0.095735418750428 and parameters: {'reg_alpha': 0.0023243429303014874, 'reg_lambda': 0.08302236344765421, 'colsample_bytree': 0.5, 'subsample': 0.7, 'learning_rate': 0.04731310903655936, 'max_depth': 98, 'num_leaves': 639, 'min_child_samples': 131}. Best is trial 2 with value: 0.06773921527333406.\u001b[0m\n",
      "\u001b[32m[I 2021-09-07 11:09:55,777]\u001b[0m Trial 11 finished with value: 0.08381703089035877 and parameters: {'reg_alpha': 7.36450336639757, 'reg_lambda': 8.838284367040346, 'colsample_bytree': 1.0, 'subsample': 1.0, 'learning_rate': 0.288989687209661, 'max_depth': 89, 'num_leaves': 546, 'min_child_samples': 4}. Best is trial 2 with value: 0.06773921527333406.\u001b[0m\n",
      "\u001b[32m[I 2021-09-07 11:10:00,465]\u001b[0m Trial 12 finished with value: 0.07232257078938065 and parameters: {'reg_alpha': 0.23310362676193971, 'reg_lambda': 0.14669919437467513, 'colsample_bytree': 1.0, 'subsample': 1.0, 'learning_rate': 0.07703801366541797, 'max_depth': 72, 'num_leaves': 374, 'min_child_samples': 2}. Best is trial 2 with value: 0.06773921527333406.\u001b[0m\n",
      "\u001b[32m[I 2021-09-07 11:10:02,921]\u001b[0m Trial 13 finished with value: 0.07984298133095981 and parameters: {'reg_alpha': 0.12913216222336668, 'reg_lambda': 3.0210881955629176, 'colsample_bytree': 1.0, 'subsample': 1.0, 'learning_rate': 0.0776307305726303, 'max_depth': 71, 'num_leaves': 515, 'min_child_samples': 89}. Best is trial 2 with value: 0.06773921527333406.\u001b[0m\n",
      "\u001b[32m[I 2021-09-07 11:10:03,863]\u001b[0m Trial 14 finished with value: 0.2504810072096772 and parameters: {'reg_alpha': 6.057685691261245, 'reg_lambda': 0.1298443515019811, 'colsample_bytree': 1.0, 'subsample': 1.0, 'learning_rate': 0.002670525726433537, 'max_depth': 100, 'num_leaves': 310, 'min_child_samples': 169}. Best is trial 2 with value: 0.06773921527333406.\u001b[0m\n",
      "\u001b[32m[I 2021-09-07 11:10:06,138]\u001b[0m Trial 15 finished with value: 0.10269059090158512 and parameters: {'reg_alpha': 0.23434499219264093, 'reg_lambda': 1.0117071024142588, 'colsample_bytree': 0.8, 'subsample': 0.5, 'learning_rate': 0.030640434567233525, 'max_depth': 83, 'num_leaves': 678, 'min_child_samples': 91}. Best is trial 2 with value: 0.06773921527333406.\u001b[0m\n",
      "\u001b[32m[I 2021-09-07 11:10:07,485]\u001b[0m Trial 16 finished with value: 0.08557406900888358 and parameters: {'reg_alpha': 3.077322573655783, 'reg_lambda': 7.643161198105747, 'colsample_bytree': 0.3, 'subsample': 0.4, 'learning_rate': 0.1123794444797109, 'max_depth': 39, 'num_leaves': 834, 'min_child_samples': 33}. Best is trial 2 with value: 0.06773921527333406.\u001b[0m\n",
      "\u001b[32m[I 2021-09-07 11:10:08,628]\u001b[0m Trial 17 finished with value: 0.17721808526264907 and parameters: {'reg_alpha': 0.37946344015712846, 'reg_lambda': 0.017957890051349772, 'colsample_bytree': 0.9, 'subsample': 0.7, 'learning_rate': 0.008542588001865402, 'max_depth': 65, 'num_leaves': 196, 'min_child_samples': 197}. Best is trial 2 with value: 0.06773921527333406.\u001b[0m\n",
      "\u001b[32m[I 2021-09-07 11:10:09,407]\u001b[0m Trial 18 finished with value: 0.08095650997128527 and parameters: {'reg_alpha': 0.0802995464805304, 'reg_lambda': 0.30656034994857484, 'colsample_bytree': 0.4, 'subsample': 1.0, 'learning_rate': 0.2940989288747081, 'max_depth': 88, 'num_leaves': 494, 'min_child_samples': 288}. Best is trial 2 with value: 0.06773921527333406.\u001b[0m\n",
      "\u001b[32m[I 2021-09-07 11:10:10,930]\u001b[0m Trial 19 finished with value: 0.10654200041465745 and parameters: {'reg_alpha': 0.09830014802413344, 'reg_lambda': 2.893297335012321, 'colsample_bytree': 0.7, 'subsample': 1.0, 'learning_rate': 0.03048859984438376, 'max_depth': 77, 'num_leaves': 591, 'min_child_samples': 119}. Best is trial 2 with value: 0.06773921527333406.\u001b[0m\n",
      "\u001b[32m[I 2021-09-07 11:10:12,928]\u001b[0m Trial 20 finished with value: 0.07236102879519611 and parameters: {'reg_alpha': 0.0026091806461948984, 'reg_lambda': 0.0011128220942708108, 'colsample_bytree': 0.5, 'subsample': 1.0, 'learning_rate': 0.09073708377182733, 'max_depth': 63, 'num_leaves': 464, 'min_child_samples': 68}. Best is trial 2 with value: 0.06773921527333406.\u001b[0m\n",
      "\u001b[32m[I 2021-09-07 11:10:16,221]\u001b[0m Trial 21 finished with value: 0.06822157419003988 and parameters: {'reg_alpha': 0.9057629500758467, 'reg_lambda': 7.419975276897913, 'colsample_bytree': 0.9, 'subsample': 0.4, 'learning_rate': 0.2014450478079638, 'max_depth': 38, 'num_leaves': 992, 'min_child_samples': 25}. Best is trial 2 with value: 0.06773921527333406.\u001b[0m\n",
      "\u001b[32m[I 2021-09-07 11:10:18,456]\u001b[0m Trial 22 finished with value: 0.07428696755184339 and parameters: {'reg_alpha': 2.931296808556627, 'reg_lambda': 4.321170723867978, 'colsample_bytree': 0.9, 'subsample': 0.4, 'learning_rate': 0.1811688363018356, 'max_depth': 92, 'num_leaves': 971, 'min_child_samples': 26}. Best is trial 2 with value: 0.06773921527333406.\u001b[0m\n",
      "\u001b[32m[I 2021-09-07 11:10:22,522]\u001b[0m Trial 23 finished with value: 0.07060779599101903 and parameters: {'reg_alpha': 0.6035651053057125, 'reg_lambda': 1.4701804598028714, 'colsample_bytree': 0.9, 'subsample': 0.4, 'learning_rate': 0.28815596329523524, 'max_depth': 59, 'num_leaves': 876, 'min_child_samples': 10}. Best is trial 2 with value: 0.06773921527333406.\u001b[0m\n",
      "\u001b[32m[I 2021-09-07 11:10:25,057]\u001b[0m Trial 24 finished with value: 0.08891171161145923 and parameters: {'reg_alpha': 0.2540725609002885, 'reg_lambda': 9.500890190350399, 'colsample_bytree': 1.0, 'subsample': 0.4, 'learning_rate': 0.04886318681247821, 'max_depth': 79, 'num_leaves': 255, 'min_child_samples': 48}. Best is trial 2 with value: 0.06773921527333406.\u001b[0m\n",
      "\u001b[32m[I 2021-09-07 11:10:28,206]\u001b[0m Trial 25 finished with value: 0.07395161380527109 and parameters: {'reg_alpha': 1.9552299625735636, 'reg_lambda': 3.2842222996274284, 'colsample_bytree': 1.0, 'subsample': 0.6, 'learning_rate': 0.12136649486536881, 'max_depth': 45, 'num_leaves': 750, 'min_child_samples': 21}. Best is trial 2 with value: 0.06773921527333406.\u001b[0m\n",
      "\u001b[32m[I 2021-09-07 11:10:30,622]\u001b[0m Trial 26 finished with value: 0.0694373691220398 and parameters: {'reg_alpha': 0.05893455479814922, 'reg_lambda': 1.2954950037337845, 'colsample_bytree': 0.9, 'subsample': 0.7, 'learning_rate': 0.19135308485081373, 'max_depth': 59, 'num_leaves': 435, 'min_child_samples': 98}. Best is trial 2 with value: 0.06773921527333406.\u001b[0m\n",
      "\u001b[32m[I 2021-09-07 11:10:32,903]\u001b[0m Trial 27 finished with value: 0.21189285150848886 and parameters: {'reg_alpha': 0.8974411559811248, 'reg_lambda': 0.04048428587111402, 'colsample_bytree': 1.0, 'subsample': 0.5, 'learning_rate': 0.00484652936083222, 'max_depth': 67, 'num_leaves': 926, 'min_child_samples': 43}. Best is trial 2 with value: 0.06773921527333406.\u001b[0m\n",
      "\u001b[32m[I 2021-09-07 11:10:34,544]\u001b[0m Trial 28 finished with value: 0.10289792925924382 and parameters: {'reg_alpha': 0.47507712700471866, 'reg_lambda': 5.318033389065428, 'colsample_bytree': 0.5, 'subsample': 0.4, 'learning_rate': 0.03006178181922679, 'max_depth': 77, 'num_leaves': 769, 'min_child_samples': 66}. Best is trial 2 with value: 0.06773921527333406.\u001b[0m\n",
      "\u001b[32m[I 2021-09-07 11:10:35,926]\u001b[0m Trial 29 finished with value: 0.07844035449052152 and parameters: {'reg_alpha': 3.532254060833746, 'reg_lambda': 0.3189700209969378, 'colsample_bytree': 0.6, 'subsample': 0.5, 'learning_rate': 0.17455359843090074, 'max_depth': 84, 'num_leaves': 607, 'min_child_samples': 46}. Best is trial 2 with value: 0.06773921527333406.\u001b[0m\n"
     ]
    },
    {
     "data": {
      "text/plain": [
       "{'reg_alpha': 0.25020407037516895,\n",
       " 'reg_lambda': 7.183180037262842,\n",
       " 'colsample_bytree': 1.0,\n",
       " 'subsample': 1.0,\n",
       " 'learning_rate': 0.11751089382716717,\n",
       " 'max_depth': 84,\n",
       " 'num_leaves': 596,\n",
       " 'min_child_samples': 15}"
      ]
     },
     "execution_count": 84,
     "metadata": {},
     "output_type": "execute_result"
    }
   ],
   "source": [
    "# # # study = optuna.create_study(direction='minimize')\n",
    "# study.optimize(objective_wp1, n_trials=30)\n",
    "# # write_results('Data/Hyperparametrization/lgbm_50trials_cv.xlsx', 'wp1', study.trials_dataframe())\n",
    "# best_trial = study.best_trial.params\n",
    "# best_trial"
   ]
  },
  {
   "cell_type": "code",
   "execution_count": 113,
   "id": "772ef566-6d0d-421c-b00d-7a1f91692384",
   "metadata": {
    "tags": []
   },
   "outputs": [],
   "source": [
    "# # 100\n",
    "# params_1 = {\n",
    "#     'reg_alpha': 0.8314449043001416,\n",
    "#     'reg_lambda': 9.093012403173608,\n",
    "#     'colsample_bytree': 0.9,\n",
    "#     'subsample': 0.4,\n",
    "#     'learning_rate': 0.2033256175102991,\n",
    "#     'max_depth': 55,\n",
    "#     'num_leaves': 964,\n",
    "#     'min_child_samples': 25,\n",
    "# }\n",
    "\n",
    "# #50\n",
    "# params_1 = {\n",
    "#     'reg_alpha': 0.664265743859848,\n",
    "#     'reg_lambda': 9.83047434398735,\n",
    "#     'colsample_bytree': 1.0,\n",
    "#     'subsample': 1.0,\n",
    "#     'learning_rate': 0.24237997149103074,\n",
    "#     'max_depth': 77,\n",
    "#     'num_leaves': 389,\n",
    "#     'min_child_samples': 2,\n",
    "# }\n",
    "\n",
    "# warm start\n",
    "# params_1 = {\n",
    "#     'reg_alpha': 0.25020407037516895,\n",
    "#     'reg_lambda': 7.183180037262842,\n",
    "#     'colsample_bytree': 1.0,\n",
    "#     'subsample': 1.0,\n",
    "#     'learning_rate': 0.11751089382716717,\n",
    "#     'max_depth': 84,\n",
    "#     'num_leaves': 596,\n",
    "#     'min_child_samples': 15,\n",
    "# }\n",
    "\n",
    "# robust scaler with warm start\n",
    "params_1 = {\n",
    "    'reg_alpha': 0.25020407037516895,\n",
    "    'reg_lambda': 7.183180037262842,\n",
    "    'colsample_bytree': 1.0,\n",
    "    'subsample': 1.0,\n",
    "    'learning_rate': 0.11751089382716717,\n",
    "    'max_depth': 84,\n",
    "    'num_leaves': 596,\n",
    "    'min_child_samples': 15\n",
    "}"
   ]
  },
  {
   "cell_type": "code",
   "execution_count": 86,
   "id": "6e8b9581-1e59-40fc-ba46-cac68640c7ff",
   "metadata": {
    "tags": []
   },
   "outputs": [
    {
     "name": "stdout",
     "output_type": "stream",
     "text": [
      "-----------LGBM CROSS VALIDATION BEGINNING-----------\n",
      "RMSE score: 0.06717849943315866\n",
      "MAE score: 0.04295040911537695\n",
      "None\n",
      "-------------------FOLD 1-----------------\n",
      "RMSE score: 0.06656592895845817\n",
      "MAE score: 0.0427058814549603\n",
      "None\n",
      "-------------------FOLD 2-----------------\n",
      "RMSE score: 0.0685985271202238\n",
      "MAE score: 0.044247394394914624\n",
      "None\n",
      "-------------------FOLD 3-----------------\n",
      "RMSE score: 0.0673729928421063\n",
      "MAE score: 0.04373887190080029\n",
      "None\n",
      "-------------------FOLD 4-----------------\n",
      "RMSE score: 0.0678651281207079\n",
      "MAE score: 0.04270283283224531\n",
      "None\n",
      "-------------------FOLD 5-----------------\n",
      "RMSE score: 0.06594548251098918\n",
      "MAE score: 0.04253764531270707\n",
      "None\n",
      "-------------------FOLD 6-----------------\n",
      "RMSE score: 0.06685366059114577\n",
      "MAE score: 0.04274888757718109\n",
      "None\n",
      "-------------------FOLD 7-----------------\n",
      "RMSE score: 0.06616759457408684\n",
      "MAE score: 0.04313831000299249\n",
      "None\n",
      "-------------------FOLD 8-----------------\n",
      "RMSE score: 0.06923961551526447\n",
      "MAE score: 0.044127509220684924\n",
      "None\n",
      "-------------------FOLD 9-----------------\n",
      "RMSE score: 0.06788787305987454\n",
      "MAE score: 0.04356424509514991\n",
      "None\n",
      "-------------------FOLD 10-----------------\n",
      "---------------CROSS VALIDATION COMPLETE-------------\n",
      "--------------------------RMSE-----------------------\n",
      "Scores: [0.06717849943315866, 0.06656592895845817, 0.0685985271202238, 0.0673729928421063, 0.0678651281207079, 0.06594548251098918, 0.06685366059114577, 0.06616759457408684, 0.06923961551526447, 0.06788787305987454]\n",
      "Mean: 0.06736753027260156\n",
      "Std: 0.0009971394767292064\n",
      "--------------------------MAE------------------------\n",
      "Scores: [0.04295040911537695, 0.0427058814549603, 0.044247394394914624, 0.04373887190080029, 0.04270283283224531, 0.04253764531270707, 0.04274888757718109, 0.04313831000299249, 0.044127509220684924, 0.04356424509514991]\n",
      "Mean: 0.043246198690701294\n",
      "Std: 0.000596545751975941\n"
     ]
    }
   ],
   "source": [
    "# lgbm_cross_validation(X1, y1, params_1)\n",
    "lgbm_scaled_cross_validation(X1, y1, params_1)"
   ]
  },
  {
   "cell_type": "markdown",
   "id": "2d4d08ad-3af3-408b-8834-57c1349d328a",
   "metadata": {},
   "source": [
    "## WP2"
   ]
  },
  {
   "cell_type": "markdown",
   "id": "61678924-2941-418d-93bf-84336d13fc89",
   "metadata": {},
   "source": [
    "| |  | Mean | Std | Sum up|\n",
    "| --- | --- | --- | --- | |\n",
    "| No params | RMSE | 0.10935335541057582 | 0.0014425096116734836 | |\n",
    "| No params - StandardScaler | RMSE | 0.10938240918068962 | 0.002563571983412213 |  |\n",
    "| After tuning - 50trials| RMSE | 0.0725081520968898 | 0.0016974702626377217 | |\n",
    "| After tuning 100trials| RMSE | 0.0707064364904941 | 0.001396820290618349 | More stable, to keep |\n",
    "| After tuning W.S. 50trials - StandardScaler | RMSE | 0.07072007438762447 | 0.0010396359382112443 | With 100trials parameters |\n",
    "| After tuning W.S. 50trials - RobustScaler | RMSE | 0.07014346508497502 | 0.0013671602187583412 | |\n",
    "| --- | --- | --- | --- |---|\n",
    "| No params | MAE | 0.07681923856705511 | 0.0008670825615244791 | |\n",
    "| No params - StandardScaler | MAE | 0.0768829843356125 | 0.0017568758903956435 |  |\n",
    "| After tuning - 50trials| MAE | 0.04512164110351975 |  0.0006579433030966575 | |\n",
    "| After tuning 100trials| MAE | 0.04457902842458915 | 0.0006807155447311589 | |\n",
    "| After tuning W.S. 50trials - StandardScaler | MAE | 0.04456161763710905 | 0.0005342365137369251 | With 100trials parameters |\n",
    "| After tuning W.S. 50trials - RobustScaler | MAE | 0.044471464183373825 | 0.0007098731360466324 | |"
   ]
  },
  {
   "cell_type": "code",
   "execution_count": 87,
   "id": "e6b8fee4-9fba-4818-a7df-29cd5d3806ad",
   "metadata": {},
   "outputs": [],
   "source": [
    "wp2_X = train_wp2[[c for c in train_wp2 if c not in [\"wp\"]] + [\"wp\"]].drop(to_drop, axis = 1)\n",
    "X2 = wp2_X.drop('wp', axis=1)\n",
    "y2 = wp2_X['wp']\n",
    "\n",
    "def objective_wp2(trial,data = X2,target = y2):\n",
    "    train_x, test_x, train_y, test_y = train_test_split(data, target, test_size=0.15,random_state=42)\n",
    "    return hyperparametrization(trial, train_x, test_x, train_y, test_y)"
   ]
  },
  {
   "cell_type": "code",
   "execution_count": 50,
   "id": "e297d1bd-f11e-4f8b-9fe2-634e78ca9c85",
   "metadata": {
    "collapsed": true,
    "jupyter": {
     "outputs_hidden": true
    },
    "tags": []
   },
   "outputs": [
    {
     "name": "stdout",
     "output_type": "stream",
     "text": [
      "-----------LGBM CROSS VALIDATION BEGINNING-----------\n",
      "RMSE score: 0.11402888619107272\n",
      "MAE score: 0.07963794352868463\n",
      "None\n",
      "-------------------FOLD 1-----------------\n",
      "RMSE score: 0.11141340439487576\n",
      "MAE score: 0.07839824043459855\n",
      "None\n",
      "-------------------FOLD 2-----------------\n",
      "RMSE score: 0.11320267516145571\n",
      "MAE score: 0.07925618975223588\n",
      "None\n",
      "-------------------FOLD 3-----------------\n",
      "RMSE score: 0.11439731977703196\n",
      "MAE score: 0.0791782503104171\n",
      "None\n",
      "-------------------FOLD 4-----------------\n",
      "RMSE score: 0.11598329629623258\n",
      "MAE score: 0.08158136796727551\n",
      "None\n",
      "-------------------FOLD 5-----------------\n",
      "RMSE score: 0.11626585634812774\n",
      "MAE score: 0.08130743886734008\n",
      "None\n",
      "-------------------FOLD 6-----------------\n",
      "RMSE score: 0.11479460869406412\n",
      "MAE score: 0.08143363149534559\n",
      "None\n",
      "-------------------FOLD 7-----------------\n",
      "RMSE score: 0.11236475618580724\n",
      "MAE score: 0.08023735021214357\n",
      "None\n",
      "-------------------FOLD 8-----------------\n",
      "RMSE score: 0.11216017414861613\n",
      "MAE score: 0.07972013970798147\n",
      "None\n",
      "-------------------FOLD 9-----------------\n",
      "RMSE score: 0.1175773619503002\n",
      "MAE score: 0.08218595694235117\n",
      "None\n",
      "-------------------FOLD 10-----------------\n",
      "---------------CROSS VALIDATION COMPLETE-------------\n",
      "--------------------------RMSE-----------------------\n",
      "Scores: [0.11402888619107272, 0.11141340439487576, 0.11320267516145571, 0.11439731977703196, 0.11598329629623258, 0.11626585634812774, 0.11479460869406412, 0.11236475618580724, 0.11216017414861613, 0.1175773619503002]\n",
      "Mean: 0.11421883391475843\n",
      "Std: 0.00188577545062483\n",
      "--------------------------MAE------------------------\n",
      "Scores: [0.07963794352868463, 0.07839824043459855, 0.07925618975223588, 0.0791782503104171, 0.08158136796727551, 0.08130743886734008, 0.08143363149534559, 0.08023735021214357, 0.07972013970798147, 0.08218595694235117]\n",
      "Mean: 0.08029365092183736\n",
      "Std: 0.0011933742563041846\n"
     ]
    }
   ],
   "source": [
    "# lgbm_cross_validation(X2, y2, None)\n",
    "lgbm_scaled_cross_validation(X2, y2, None)"
   ]
  },
  {
   "cell_type": "code",
   "execution_count": 88,
   "id": "1edd83fc-09f5-4ef1-ae90-6b3dda7b6583",
   "metadata": {
    "collapsed": true,
    "jupyter": {
     "outputs_hidden": true
    },
    "tags": []
   },
   "outputs": [
    {
     "name": "stderr",
     "output_type": "stream",
     "text": [
      "\u001b[32m[I 2021-09-07 11:11:26,112]\u001b[0m A new study created in memory with name: no-name-1183b78d-4fa2-4d82-9772-1f3e5c7305de\u001b[0m\n",
      "<ipython-input-88-17d27106ed0b>:33: ExperimentalWarning: enqueue_trial is experimental (supported from v1.2.0). The interface can change in the future.\n",
      "  study.enqueue_trial(try_these_first[0])\n",
      "C:\\Users\\J0528925\\Anaconda3\\envs\\datachallenge\\lib\\site-packages\\optuna\\study\\study.py:857: ExperimentalWarning: create_trial is experimental (supported from v2.0.0). The interface can change in the future.\n",
      "  create_trial(state=TrialState.WAITING, system_attrs={\"fixed_params\": params})\n",
      "C:\\Users\\J0528925\\Anaconda3\\envs\\datachallenge\\lib\\site-packages\\optuna\\study\\study.py:856: ExperimentalWarning: add_trial is experimental (supported from v2.0.0). The interface can change in the future.\n",
      "  self.add_trial(\n",
      "<ipython-input-88-17d27106ed0b>:34: ExperimentalWarning: enqueue_trial is experimental (supported from v1.2.0). The interface can change in the future.\n",
      "  study.enqueue_trial(try_these_first[1])\n",
      "<ipython-input-88-17d27106ed0b>:35: ExperimentalWarning: enqueue_trial is experimental (supported from v1.2.0). The interface can change in the future.\n",
      "  study.enqueue_trial(try_these_first[2])\n"
     ]
    }
   ],
   "source": [
    "try_these_first = [{\n",
    "    'reg_alpha': 0.18268883436586145,\n",
    "    'reg_lambda': 0.15916821051528962,\n",
    "    'colsample_bytree': 1.0,\n",
    "    'subsample': 0.6,\n",
    "    'learning_rate': 0.18007000714755378,\n",
    "    'max_depth': 77,\n",
    "    'num_leaves': 425,\n",
    "    'min_child_samples': 10,\n",
    "    'min_data_per_groups': 19\n",
    "},  {\n",
    "    'reg_alpha': 0.04439450895032273,\n",
    "    'reg_lambda': 0.7790968728875318,\n",
    "    'colsample_bytree': 0.4,\n",
    "    'subsample': 1.0,\n",
    "    'learning_rate': 0.09520041095092219,\n",
    "    'max_depth': 31,\n",
    "    'num_leaves': 883,\n",
    "    'min_child_samples': 18,\n",
    "    'min_data_per_groups': 56\n",
    "},  {\n",
    "    'reg_alpha': 0.34026994469471555,\n",
    "    'reg_lambda': 1.1032197453137866,\n",
    "    'colsample_bytree': 0.9,\n",
    "    'subsample': 0.6,\n",
    "    'learning_rate': 0.13414826176962302,\n",
    "    'max_depth': 81,\n",
    "    'num_leaves': 987,\n",
    "    'min_child_samples': 39\n",
    "}]\n",
    "\n",
    "study = optuna.create_study(direction='minimize')\n",
    "study.enqueue_trial(try_these_first[0])\n",
    "study.enqueue_trial(try_these_first[1])\n",
    "study.enqueue_trial(try_these_first[2])"
   ]
  },
  {
   "cell_type": "code",
   "execution_count": 89,
   "id": "0728372a-8909-4a7a-8cdc-be27e96cfc70",
   "metadata": {
    "collapsed": true,
    "jupyter": {
     "outputs_hidden": true
    },
    "tags": []
   },
   "outputs": [
    {
     "name": "stderr",
     "output_type": "stream",
     "text": [
      "\u001b[32m[I 2021-09-07 11:11:30,099]\u001b[0m Trial 0 finished with value: 0.07149250538746527 and parameters: {'reg_alpha': 0.18268883436586145, 'reg_lambda': 0.15916821051528962, 'colsample_bytree': 1.0, 'subsample': 0.6, 'learning_rate': 0.18007000714755378, 'max_depth': 77, 'num_leaves': 425, 'min_child_samples': 10}. Best is trial 0 with value: 0.07149250538746527.\u001b[0m\n",
      "\u001b[32m[I 2021-09-07 11:11:34,015]\u001b[0m Trial 1 finished with value: 0.07251265314809148 and parameters: {'reg_alpha': 0.04439450895032273, 'reg_lambda': 0.7790968728875318, 'colsample_bytree': 0.4, 'subsample': 1.0, 'learning_rate': 0.09520041095092219, 'max_depth': 31, 'num_leaves': 883, 'min_child_samples': 18}. Best is trial 0 with value: 0.07149250538746527.\u001b[0m\n",
      "\u001b[32m[I 2021-09-07 11:11:37,834]\u001b[0m Trial 2 finished with value: 0.07259107229157469 and parameters: {'reg_alpha': 0.34026994469471555, 'reg_lambda': 1.1032197453137866, 'colsample_bytree': 0.9, 'subsample': 0.6, 'learning_rate': 0.13414826176962302, 'max_depth': 81, 'num_leaves': 987, 'min_child_samples': 39}. Best is trial 0 with value: 0.07149250538746527.\u001b[0m\n",
      "\u001b[32m[I 2021-09-07 11:11:38,533]\u001b[0m Trial 3 finished with value: 0.19260910088464486 and parameters: {'reg_alpha': 3.2673401558168766, 'reg_lambda': 0.006881135487712127, 'colsample_bytree': 0.9, 'subsample': 0.8, 'learning_rate': 0.007202579603698007, 'max_depth': 41, 'num_leaves': 615, 'min_child_samples': 224}. Best is trial 0 with value: 0.07149250538746527.\u001b[0m\n",
      "\u001b[32m[I 2021-09-07 11:11:39,737]\u001b[0m Trial 4 finished with value: 0.0898038407430554 and parameters: {'reg_alpha': 0.023261710100172195, 'reg_lambda': 1.269417024089552, 'colsample_bytree': 0.8, 'subsample': 0.8, 'learning_rate': 0.11835159586973153, 'max_depth': 66, 'num_leaves': 143, 'min_child_samples': 194}. Best is trial 0 with value: 0.07149250538746527.\u001b[0m\n",
      "\u001b[32m[I 2021-09-07 11:11:40,509]\u001b[0m Trial 5 finished with value: 0.20447330371903513 and parameters: {'reg_alpha': 0.14500692952378522, 'reg_lambda': 0.0022442791533821, 'colsample_bytree': 0.5, 'subsample': 1.0, 'learning_rate': 0.006181442698344994, 'max_depth': 65, 'num_leaves': 341, 'min_child_samples': 289}. Best is trial 0 with value: 0.07149250538746527.\u001b[0m\n",
      "\u001b[32m[I 2021-09-07 11:11:40,791]\u001b[0m Trial 6 finished with value: 0.1306828102799429 and parameters: {'reg_alpha': 1.4140667813700971, 'reg_lambda': 7.198710900314103, 'colsample_bytree': 0.4, 'subsample': 0.5, 'learning_rate': 0.2623934489822228, 'max_depth': 41, 'num_leaves': 9, 'min_child_samples': 212}. Best is trial 0 with value: 0.07149250538746527.\u001b[0m\n",
      "\u001b[32m[I 2021-09-07 11:11:41,969]\u001b[0m Trial 7 finished with value: 0.13200811701973422 and parameters: {'reg_alpha': 1.4819154423645462, 'reg_lambda': 0.07935969615982183, 'colsample_bytree': 1.0, 'subsample': 0.7, 'learning_rate': 0.022757400563502846, 'max_depth': 84, 'num_leaves': 438, 'min_child_samples': 146}. Best is trial 0 with value: 0.07149250538746527.\u001b[0m\n",
      "\u001b[32m[I 2021-09-07 11:11:43,119]\u001b[0m Trial 8 finished with value: 0.08055827747755107 and parameters: {'reg_alpha': 0.015505004196715563, 'reg_lambda': 0.049910405702088885, 'colsample_bytree': 0.3, 'subsample': 0.7, 'learning_rate': 0.12223101010537885, 'max_depth': 99, 'num_leaves': 190, 'min_child_samples': 10}. Best is trial 0 with value: 0.07149250538746527.\u001b[0m\n",
      "\u001b[32m[I 2021-09-07 11:11:45,490]\u001b[0m Trial 9 finished with value: 0.23970129882194197 and parameters: {'reg_alpha': 0.10021195135808338, 'reg_lambda': 8.931522027699575, 'colsample_bytree': 0.7, 'subsample': 1.0, 'learning_rate': 0.002378909701918158, 'max_depth': 92, 'num_leaves': 612, 'min_child_samples': 30}. Best is trial 0 with value: 0.07149250538746527.\u001b[0m\n",
      "\u001b[32m[I 2021-09-07 11:11:47,890]\u001b[0m Trial 10 finished with value: 0.11227064062108454 and parameters: {'reg_alpha': 0.001917945167141906, 'reg_lambda': 0.017830724347746418, 'colsample_bytree': 1.0, 'subsample': 0.6, 'learning_rate': 0.030766106327082897, 'max_depth': 54, 'num_leaves': 730, 'min_child_samples': 109}. Best is trial 0 with value: 0.07149250538746527.\u001b[0m\n",
      "\u001b[32m[I 2021-09-07 11:11:49,558]\u001b[0m Trial 11 finished with value: 0.0895393281136615 and parameters: {'reg_alpha': 0.018264973126192338, 'reg_lambda': 0.4889603557030685, 'colsample_bytree': 0.4, 'subsample': 0.4, 'learning_rate': 0.05909225758547946, 'max_depth': 21, 'num_leaves': 993, 'min_child_samples': 82}. Best is trial 0 with value: 0.07149250538746527.\u001b[0m\n",
      "\u001b[32m[I 2021-09-07 11:11:51,570]\u001b[0m Trial 12 finished with value: 0.07438481197669726 and parameters: {'reg_alpha': 0.3473632231451861, 'reg_lambda': 0.22826125789487894, 'colsample_bytree': 0.6, 'subsample': 1.0, 'learning_rate': 0.26400435748736534, 'max_depth': 24, 'num_leaves': 756, 'min_child_samples': 67}. Best is trial 0 with value: 0.07149250538746527.\u001b[0m\n",
      "\u001b[32m[I 2021-09-07 11:11:54,298]\u001b[0m Trial 13 finished with value: 0.07904544312951095 and parameters: {'reg_alpha': 0.003021360557439342, 'reg_lambda': 2.0146370843052805, 'colsample_bytree': 0.4, 'subsample': 0.6, 'learning_rate': 0.06123213647838171, 'max_depth': 74, 'num_leaves': 368, 'min_child_samples': 2}. Best is trial 0 with value: 0.07149250538746527.\u001b[0m\n",
      "\u001b[32m[I 2021-09-07 11:11:56,756]\u001b[0m Trial 14 finished with value: 0.09584105223680388 and parameters: {'reg_alpha': 0.042158556926605605, 'reg_lambda': 0.2095028993114295, 'colsample_bytree': 1.0, 'subsample': 0.5, 'learning_rate': 0.05324164105358059, 'max_depth': 51, 'num_leaves': 822, 'min_child_samples': 113}. Best is trial 0 with value: 0.07149250538746527.\u001b[0m\n",
      "\u001b[32m[I 2021-09-07 11:11:58,722]\u001b[0m Trial 15 finished with value: 0.14315868231998655 and parameters: {'reg_alpha': 0.0054824080782320105, 'reg_lambda': 0.030872459622094953, 'colsample_bytree': 0.3, 'subsample': 0.4, 'learning_rate': 0.014463058205274023, 'max_depth': 36, 'num_leaves': 581, 'min_child_samples': 58}. Best is trial 0 with value: 0.07149250538746527.\u001b[0m\n",
      "\u001b[32m[I 2021-09-07 11:12:00,200]\u001b[0m Trial 16 finished with value: 0.26063470280172407 and parameters: {'reg_alpha': 0.3586320655643829, 'reg_lambda': 0.26156275030857457, 'colsample_bytree': 0.7, 'subsample': 1.0, 'learning_rate': 0.0011316048721360895, 'max_depth': 72, 'num_leaves': 272, 'min_child_samples': 103}. Best is trial 0 with value: 0.07149250538746527.\u001b[0m\n",
      "\u001b[32m[I 2021-09-07 11:12:01,366]\u001b[0m Trial 17 finished with value: 0.08419248441394774 and parameters: {'reg_alpha': 0.0629911809386147, 'reg_lambda': 2.8665571814147173, 'colsample_bytree': 0.5, 'subsample': 0.6, 'learning_rate': 0.1467511259914827, 'max_depth': 30, 'num_leaves': 490, 'min_child_samples': 157}. Best is trial 0 with value: 0.07149250538746527.\u001b[0m\n",
      "\u001b[32m[I 2021-09-07 11:12:02,348]\u001b[0m Trial 18 finished with value: 0.09316766692605302 and parameters: {'reg_alpha': 8.760133663899383, 'reg_lambda': 0.6320261030357108, 'colsample_bytree': 0.8, 'subsample': 1.0, 'learning_rate': 0.29188688353397385, 'max_depth': 49, 'num_leaves': 862, 'min_child_samples': 38}. Best is trial 0 with value: 0.07149250538746527.\u001b[0m\n",
      "\u001b[32m[I 2021-09-07 11:12:03,361]\u001b[0m Trial 19 finished with value: 0.10635118491453044 and parameters: {'reg_alpha': 0.00777889865119005, 'reg_lambda': 0.12169618289638914, 'colsample_bytree': 0.6, 'subsample': 0.6, 'learning_rate': 0.07736092205704291, 'max_depth': 60, 'num_leaves': 661, 'min_child_samples': 299}. Best is trial 0 with value: 0.07149250538746527.\u001b[0m\n",
      "\u001b[32m[I 2021-09-07 11:12:04,695]\u001b[0m Trial 20 finished with value: 0.113224761417644 and parameters: {'reg_alpha': 0.1756778694743669, 'reg_lambda': 0.00797530148451199, 'colsample_bytree': 0.4, 'subsample': 0.8, 'learning_rate': 0.03741354130562142, 'max_depth': 86, 'num_leaves': 891, 'min_child_samples': 143}. Best is trial 0 with value: 0.07149250538746527.\u001b[0m\n",
      "\u001b[32m[I 2021-09-07 11:12:08,137]\u001b[0m Trial 21 finished with value: 0.07314712477773444 and parameters: {'reg_alpha': 0.4052176998599969, 'reg_lambda': 0.8433722063534662, 'colsample_bytree': 0.9, 'subsample': 0.6, 'learning_rate': 0.16633338372456083, 'max_depth': 78, 'num_leaves': 1000, 'min_child_samples': 39}. Best is trial 0 with value: 0.07149250538746527.\u001b[0m\n",
      "\u001b[32m[I 2021-09-07 11:12:13,171]\u001b[0m Trial 22 finished with value: 0.0763389377518476 and parameters: {'reg_alpha': 1.0072897865494792, 'reg_lambda': 3.5199801364210286, 'colsample_bytree': 0.9, 'subsample': 0.6, 'learning_rate': 0.089389608742809, 'max_depth': 82, 'num_leaves': 914, 'min_child_samples': 6}. Best is trial 0 with value: 0.07149250538746527.\u001b[0m\n",
      "\u001b[32m[I 2021-09-07 11:12:16,777]\u001b[0m Trial 23 finished with value: 0.07266174178658064 and parameters: {'reg_alpha': 0.0473552527832237, 'reg_lambda': 0.35430929675171363, 'colsample_bytree': 1.0, 'subsample': 0.6, 'learning_rate': 0.16295726757895893, 'max_depth': 92, 'num_leaves': 513, 'min_child_samples': 56}. Best is trial 0 with value: 0.07149250538746527.\u001b[0m\n",
      "\u001b[32m[I 2021-09-07 11:12:19,869]\u001b[0m Trial 24 finished with value: 0.14228311600993265 and parameters: {'reg_alpha': 0.5615116434299486, 'reg_lambda': 1.2131988004167709, 'colsample_bytree': 0.9, 'subsample': 0.6, 'learning_rate': 0.012075906773984261, 'max_depth': 70, 'num_leaves': 734, 'min_child_samples': 28}. Best is trial 0 with value: 0.07149250538746527.\u001b[0m\n",
      "\u001b[32m[I 2021-09-07 11:12:22,637]\u001b[0m Trial 25 finished with value: 0.09767573343671011 and parameters: {'reg_alpha': 0.17637711819374505, 'reg_lambda': 0.12214785128980991, 'colsample_bytree': 0.9, 'subsample': 0.4, 'learning_rate': 0.0385621334370713, 'max_depth': 60, 'num_leaves': 941, 'min_child_samples': 70}. Best is trial 0 with value: 0.07149250538746527.\u001b[0m\n",
      "\u001b[32m[I 2021-09-07 11:12:24,414]\u001b[0m Trial 26 finished with value: 0.08232382449663737 and parameters: {'reg_alpha': 0.06966274523154953, 'reg_lambda': 4.078645233536086, 'colsample_bytree': 0.4, 'subsample': 0.5, 'learning_rate': 0.09441251470363525, 'max_depth': 93, 'num_leaves': 819, 'min_child_samples': 85}. Best is trial 0 with value: 0.07149250538746527.\u001b[0m\n",
      "\u001b[32m[I 2021-09-07 11:12:26,629]\u001b[0m Trial 27 finished with value: 0.07899096591783156 and parameters: {'reg_alpha': 2.9532064176012884, 'reg_lambda': 1.7251114390869864, 'colsample_bytree': 1.0, 'subsample': 0.7, 'learning_rate': 0.19774838768088704, 'max_depth': 79, 'num_leaves': 453, 'min_child_samples': 23}. Best is trial 0 with value: 0.07149250538746527.\u001b[0m\n",
      "\u001b[32m[I 2021-09-07 11:12:28,953]\u001b[0m Trial 28 finished with value: 0.11148982107426135 and parameters: {'reg_alpha': 0.23734872674880292, 'reg_lambda': 0.6217226102762153, 'colsample_bytree': 0.6, 'subsample': 1.0, 'learning_rate': 0.022650619442993174, 'max_depth': 86, 'num_leaves': 541, 'min_child_samples': 48}. Best is trial 0 with value: 0.07149250538746527.\u001b[0m\n",
      "\u001b[32m[I 2021-09-07 11:12:29,811]\u001b[0m Trial 29 finished with value: 0.1774737168784864 and parameters: {'reg_alpha': 0.773243597238374, 'reg_lambda': 0.001237519652319323, 'colsample_bytree': 0.9, 'subsample': 0.8, 'learning_rate': 0.009238376689844398, 'max_depth': 45, 'num_leaves': 672, 'min_child_samples': 267}. Best is trial 0 with value: 0.07149250538746527.\u001b[0m\n",
      "\u001b[32m[I 2021-09-07 11:12:32,602]\u001b[0m Trial 30 finished with value: 0.21188626440833483 and parameters: {'reg_alpha': 2.7953647642712696, 'reg_lambda': 0.07069465567663036, 'colsample_bytree': 0.3, 'subsample': 0.6, 'learning_rate': 0.005028515313807746, 'max_depth': 34, 'num_leaves': 804, 'min_child_samples': 2}. Best is trial 0 with value: 0.07149250538746527.\u001b[0m\n",
      "\u001b[32m[I 2021-09-07 11:12:35,761]\u001b[0m Trial 31 finished with value: 0.0730779511036281 and parameters: {'reg_alpha': 0.032128965004529116, 'reg_lambda': 0.3563259724994436, 'colsample_bytree': 1.0, 'subsample': 0.6, 'learning_rate': 0.18415446875728325, 'max_depth': 92, 'num_leaves': 405, 'min_child_samples': 52}. Best is trial 0 with value: 0.07149250538746527.\u001b[0m\n",
      "\u001b[32m[I 2021-09-07 11:12:38,263]\u001b[0m Trial 32 finished with value: 0.07515949979923375 and parameters: {'reg_alpha': 0.07113272505993078, 'reg_lambda': 1.0145379395854233, 'colsample_bytree': 1.0, 'subsample': 0.6, 'learning_rate': 0.11529561729000166, 'max_depth': 96, 'num_leaves': 270, 'min_child_samples': 21}. Best is trial 0 with value: 0.07149250538746527.\u001b[0m\n",
      "\u001b[32m[I 2021-09-07 11:12:40,675]\u001b[0m Trial 33 finished with value: 0.07373168425275523 and parameters: {'reg_alpha': 0.011438980256077882, 'reg_lambda': 0.40760133209155397, 'colsample_bytree': 0.8, 'subsample': 0.6, 'learning_rate': 0.19458244776186234, 'max_depth': 67, 'num_leaves': 531, 'min_child_samples': 78}. Best is trial 0 with value: 0.07149250538746527.\u001b[0m\n",
      "\u001b[32m[I 2021-09-07 11:12:42,006]\u001b[0m Trial 34 finished with value: 0.09228867659499809 and parameters: {'reg_alpha': 0.03754827301607343, 'reg_lambda': 0.18699349385270045, 'colsample_bytree': 1.0, 'subsample': 0.6, 'learning_rate': 0.07728520052224307, 'max_depth': 89, 'num_leaves': 125, 'min_child_samples': 54}. Best is trial 0 with value: 0.07149250538746527.\u001b[0m\n",
      "\u001b[32m[I 2021-09-07 11:12:43,455]\u001b[0m Trial 35 finished with value: 0.0794157615082563 and parameters: {'reg_alpha': 0.09949112101273164, 'reg_lambda': 1.5434493262589009, 'colsample_bytree': 0.5, 'subsample': 0.8, 'learning_rate': 0.1241539483788595, 'max_depth': 77, 'num_leaves': 305, 'min_child_samples': 94}. Best is trial 0 with value: 0.07149250538746527.\u001b[0m\n",
      "\u001b[32m[I 2021-09-07 11:12:44,916]\u001b[0m Trial 36 finished with value: 0.07939314255489839 and parameters: {'reg_alpha': 0.11093083117006691, 'reg_lambda': 4.989221365800426, 'colsample_bytree': 1.0, 'subsample': 1.0, 'learning_rate': 0.2145345299134503, 'max_depth': 99, 'num_leaves': 664, 'min_child_samples': 176}. Best is trial 0 with value: 0.07149250538746527.\u001b[0m\n",
      "\u001b[32m[I 2021-09-07 11:12:45,764]\u001b[0m Trial 37 finished with value: 0.09187287768634318 and parameters: {'reg_alpha': 0.03245639354354232, 'reg_lambda': 0.045192600427329734, 'colsample_bytree': 0.7, 'subsample': 0.7, 'learning_rate': 0.13418466920687191, 'max_depth': 64, 'num_leaves': 71, 'min_child_samples': 15}. Best is trial 0 with value: 0.07149250538746527.\u001b[0m\n",
      "\u001b[32m[I 2021-09-07 11:12:46,963]\u001b[0m Trial 38 finished with value: 0.10114993071858668 and parameters: {'reg_alpha': 0.21379030566593196, 'reg_lambda': 0.1568972215167563, 'colsample_bytree': 0.4, 'subsample': 0.6, 'learning_rate': 0.051545785574603244, 'max_depth': 81, 'num_leaves': 960, 'min_child_samples': 127}. Best is trial 0 with value: 0.07149250538746527.\u001b[0m\n",
      "\u001b[32m[I 2021-09-07 11:12:48,197]\u001b[0m Trial 39 finished with value: 0.09595929378981252 and parameters: {'reg_alpha': 0.018926223438615955, 'reg_lambda': 0.3423498958373646, 'colsample_bytree': 1.0, 'subsample': 0.5, 'learning_rate': 0.0993884696501003, 'max_depth': 88, 'num_leaves': 205, 'min_child_samples': 227}. Best is trial 0 with value: 0.07149250538746527.\u001b[0m\n",
      "\u001b[32m[I 2021-09-07 11:12:49,989]\u001b[0m Trial 40 finished with value: 0.0769748852641093 and parameters: {'reg_alpha': 1.64354446175813, 'reg_lambda': 0.7827074248393435, 'colsample_bytree': 0.8, 'subsample': 1.0, 'learning_rate': 0.24741465891065748, 'max_depth': 56, 'num_leaves': 361, 'min_child_samples': 38}. Best is trial 0 with value: 0.07149250538746527.\u001b[0m\n",
      "\u001b[32m[I 2021-09-07 11:12:52,904]\u001b[0m Trial 41 finished with value: 0.07301278640667944 and parameters: {'reg_alpha': 0.029304054871510332, 'reg_lambda': 0.42627351114517015, 'colsample_bytree': 1.0, 'subsample': 0.6, 'learning_rate': 0.1585399104748829, 'max_depth': 93, 'num_leaves': 420, 'min_child_samples': 54}. Best is trial 0 with value: 0.07149250538746527.\u001b[0m\n",
      "\u001b[32m[I 2021-09-07 11:12:55,774]\u001b[0m Trial 42 finished with value: 0.07496721186867297 and parameters: {'reg_alpha': 0.011516891833307074, 'reg_lambda': 0.4936899614269007, 'colsample_bytree': 1.0, 'subsample': 0.6, 'learning_rate': 0.15659318213602946, 'max_depth': 95, 'num_leaves': 436, 'min_child_samples': 67}. Best is trial 0 with value: 0.07149250538746527.\u001b[0m\n",
      "\u001b[32m[I 2021-09-07 11:12:59,171]\u001b[0m Trial 43 finished with value: 0.07505853599077736 and parameters: {'reg_alpha': 0.045633231582443985, 'reg_lambda': 0.08404015113170342, 'colsample_bytree': 1.0, 'subsample': 0.6, 'learning_rate': 0.29980075319653576, 'max_depth': 89, 'num_leaves': 484, 'min_child_samples': 27}. Best is trial 0 with value: 0.07149250538746527.\u001b[0m\n",
      "\u001b[32m[I 2021-09-07 11:13:02,835]\u001b[0m Trial 44 finished with value: 0.07897728492040222 and parameters: {'reg_alpha': 0.1190721023720104, 'reg_lambda': 0.2856989508125246, 'colsample_bytree': 1.0, 'subsample': 0.6, 'learning_rate': 0.07296573176497786, 'max_depth': 100, 'num_leaves': 585, 'min_child_samples': 44}. Best is trial 0 with value: 0.07149250538746527.\u001b[0m\n",
      "\u001b[32m[I 2021-09-07 11:13:04,813]\u001b[0m Trial 45 finished with value: 0.07308098536941018 and parameters: {'reg_alpha': 0.005772144423772543, 'reg_lambda': 2.7554750688684813, 'colsample_bytree': 0.4, 'subsample': 0.4, 'learning_rate': 0.1142317010544859, 'max_depth': 75, 'num_leaves': 383, 'min_child_samples': 17}. Best is trial 0 with value: 0.07149250538746527.\u001b[0m\n",
      "\u001b[32m[I 2021-09-07 11:13:06,378]\u001b[0m Trial 46 finished with value: 0.07491624475542398 and parameters: {'reg_alpha': 0.023817007198911024, 'reg_lambda': 1.0230510213399004, 'colsample_bytree': 0.5, 'subsample': 0.7, 'learning_rate': 0.22045755702080339, 'max_depth': 83, 'num_leaves': 321, 'min_child_samples': 68}. Best is trial 0 with value: 0.07149250538746527.\u001b[0m\n",
      "\u001b[32m[I 2021-09-07 11:13:07,339]\u001b[0m Trial 47 finished with value: 0.10228520118707159 and parameters: {'reg_alpha': 0.05797562656091608, 'reg_lambda': 0.01710725237342332, 'colsample_bytree': 0.3, 'subsample': 0.6, 'learning_rate': 0.04731063863782158, 'max_depth': 96, 'num_leaves': 226, 'min_child_samples': 94}. Best is trial 0 with value: 0.07149250538746527.\u001b[0m\n",
      "\u001b[32m[I 2021-09-07 11:13:08,911]\u001b[0m Trial 48 finished with value: 0.07830467762039925 and parameters: {'reg_alpha': 0.0014098636261261636, 'reg_lambda': 2.189960708734614, 'colsample_bytree': 0.7, 'subsample': 1.0, 'learning_rate': 0.15255882840854407, 'max_depth': 69, 'num_leaves': 412, 'min_child_samples': 122}. Best is trial 0 with value: 0.07149250538746527.\u001b[0m\n",
      "\u001b[32m[I 2021-09-07 11:13:18,309]\u001b[0m Trial 49 finished with value: 0.09402089909110956 and parameters: {'reg_alpha': 0.26755371240369297, 'reg_lambda': 0.5923644439963002, 'colsample_bytree': 1.0, 'subsample': 0.6, 'learning_rate': 0.02751744041284426, 'max_depth': 26, 'num_leaves': 879, 'min_child_samples': 1}. Best is trial 0 with value: 0.07149250538746527.\u001b[0m\n"
     ]
    },
    {
     "data": {
      "text/plain": [
       "{'reg_alpha': 0.18268883436586145,\n",
       " 'reg_lambda': 0.15916821051528962,\n",
       " 'colsample_bytree': 1.0,\n",
       " 'subsample': 0.6,\n",
       " 'learning_rate': 0.18007000714755378,\n",
       " 'max_depth': 77,\n",
       " 'num_leaves': 425,\n",
       " 'min_child_samples': 10}"
      ]
     },
     "execution_count": 89,
     "metadata": {},
     "output_type": "execute_result"
    }
   ],
   "source": [
    "# study = optuna.create_study(direction='minimize')\n",
    "study.optimize(objective_wp2, n_trials=50)\n",
    "# write_results('Data/Hyperparametrization/lgbm_100trials.xlsx', 'wp2', study.trials_dataframe())\n",
    "best_trial = study.best_trial.params\n",
    "best_trial"
   ]
  },
  {
   "cell_type": "code",
   "execution_count": 114,
   "id": "9ae90b08-6b61-4c17-90d8-a0d0c0f8a455",
   "metadata": {
    "tags": []
   },
   "outputs": [],
   "source": [
    "# # Std warm start \n",
    "# params_2 = {\n",
    "#     'reg_alpha': 0.34026994469471555,\n",
    "#     'reg_lambda': 1.1032197453137866,\n",
    "#     'colsample_bytree': 0.9,\n",
    "#     'subsample': 0.6,\n",
    "#     'learning_rate': 0.13414826176962302,\n",
    "#     'max_depth': 81,\n",
    "#     'num_leaves': 987,\n",
    "#     'min_child_samples': 39\n",
    "# }\n",
    "\n",
    "# 100\n",
    "# params_2 = {\n",
    "#     'reg_alpha': 0.18268883436586145,\n",
    "#     'reg_lambda': 0.15916821051528962,\n",
    "#     'colsample_bytree': 1.0,\n",
    "#     'subsample': 0.6,\n",
    "#     'learning_rate': 0.18007000714755378,\n",
    "#     'max_depth': 77,\n",
    "#     'num_leaves': 425,\n",
    "#     'min_child_samples': 10,\n",
    "# }\n",
    "\n",
    "# 50\n",
    "# params_2 = {\n",
    "#  'reg_alpha': 0.04439450895032273,\n",
    "#  'reg_lambda': 0.7790968728875318,\n",
    "#  'colsample_bytree': 0.4,\n",
    "#  'subsample': 1.0,\n",
    "#  'learning_rate': 0.09520041095092219,\n",
    "#  'max_depth': 31,\n",
    "#  'num_leaves': 883,\n",
    "#  'min_child_samples': 18\n",
    "# }\n",
    "\n",
    "\n",
    "# robust scaler with warm start\n",
    "params_2 = {\n",
    "    'reg_alpha': 0.18268883436586145,\n",
    "    'reg_lambda': 0.15916821051528962,\n",
    "    'colsample_bytree': 1.0,\n",
    "    'subsample': 0.6,\n",
    "    'learning_rate': 0.18007000714755378,\n",
    "    'max_depth': 77,\n",
    "    'num_leaves': 425,\n",
    "    'min_child_samples': 10\n",
    "}"
   ]
  },
  {
   "cell_type": "code",
   "execution_count": 91,
   "id": "4deb0297-bfb2-491c-9885-9795b2596248",
   "metadata": {
    "collapsed": true,
    "jupyter": {
     "outputs_hidden": true
    },
    "tags": []
   },
   "outputs": [
    {
     "name": "stdout",
     "output_type": "stream",
     "text": [
      "-----------LGBM CROSS VALIDATION BEGINNING-----------\n",
      "RMSE score: 0.07104300308934304\n",
      "MAE score: 0.0455226067353088\n",
      "None\n",
      "-------------------FOLD 1-----------------\n",
      "RMSE score: 0.06900433105779964\n",
      "MAE score: 0.04395819566162341\n",
      "None\n",
      "-------------------FOLD 2-----------------\n",
      "RMSE score: 0.07006814246944029\n",
      "MAE score: 0.044146504366775294\n",
      "None\n",
      "-------------------FOLD 3-----------------\n",
      "RMSE score: 0.06941898518594897\n",
      "MAE score: 0.0441689727077893\n",
      "None\n",
      "-------------------FOLD 4-----------------\n",
      "RMSE score: 0.06879222552665089\n",
      "MAE score: 0.04404154532239421\n",
      "None\n",
      "-------------------FOLD 5-----------------\n",
      "RMSE score: 0.07126433741583171\n",
      "MAE score: 0.04509508348151645\n",
      "None\n",
      "-------------------FOLD 6-----------------\n",
      "RMSE score: 0.07067185696910876\n",
      "MAE score: 0.04418925412439994\n",
      "None\n",
      "-------------------FOLD 7-----------------\n",
      "RMSE score: 0.06991148710195359\n",
      "MAE score: 0.0440879238677574\n",
      "None\n",
      "-------------------FOLD 8-----------------\n",
      "RMSE score: 0.06816386758869793\n",
      "MAE score: 0.04363076898352364\n",
      "None\n",
      "-------------------FOLD 9-----------------\n",
      "RMSE score: 0.07309641444497543\n",
      "MAE score: 0.04587378658264985\n",
      "None\n",
      "-------------------FOLD 10-----------------\n",
      "---------------CROSS VALIDATION COMPLETE-------------\n",
      "--------------------------RMSE-----------------------\n",
      "Scores: [0.07104300308934304, 0.06900433105779964, 0.07006814246944029, 0.06941898518594897, 0.06879222552665089, 0.07126433741583171, 0.07067185696910876, 0.06991148710195359, 0.06816386758869793, 0.07309641444497543]\n",
      "Mean: 0.07014346508497502\n",
      "Std: 0.0013671602187583412\n",
      "--------------------------MAE------------------------\n",
      "Scores: [0.0455226067353088, 0.04395819566162341, 0.044146504366775294, 0.0441689727077893, 0.04404154532239421, 0.04509508348151645, 0.04418925412439994, 0.0440879238677574, 0.04363076898352364, 0.04587378658264985]\n",
      "Mean: 0.044471464183373825\n",
      "Std: 0.0007098731360466324\n"
     ]
    }
   ],
   "source": [
    "# lgbm_cross_validation(X2, y2, params_2)\n",
    "lgbm_scaled_cross_validation(X2, y2, params_2)"
   ]
  },
  {
   "cell_type": "markdown",
   "id": "966468d2-d1a2-4c0a-a190-c37d85ef61f5",
   "metadata": {},
   "source": [
    "## WP3"
   ]
  },
  {
   "cell_type": "markdown",
   "id": "4c9c1b64-7897-4824-92b2-8f6ac0236b43",
   "metadata": {},
   "source": [
    "| |  | Mean | Std ||\n",
    "| --- | --- | --- | --- ||\n",
    "| No params | RMSE | 0.10392558077951244 | 0.0019038044796542812 ||\n",
    "| No params - StandardScaler | RMSE | 0.10354114984428979 | 0.0013629826554706927 ||\n",
    "| After tuning - 50trials| RMSE | 0.058253804820626545 | 0.0009893279354834155 | More stable, to keep |\n",
    "| After tuning - 100trials| RMSE | 0.058338944346627106 | 0.0017133930174837203 ||\n",
    "| After tuning W.S. - 50trials - StandardScaler | RMSE | 0.05839355310487706 | 0.0009599824558874801 ||\n",
    "| After tuning - 50trial - StandardScaler | RMSE | 0.05828701989178382 | 0.0013469437248627486 | with 50trials best|\n",
    "| After tuning - 50trial W.S. - RobustScaler | RMSE | 0.05907568414783913 | 0.0010120672015320588 | |\n",
    "| --- | --- | --- | --- | --- |\n",
    "| No params | MAE | 0.07550802464973318 | 0.0012006073434917633 ||\n",
    "| No params - StandardScaler | MAE | 0.0753220326933334 | 0.0007353049410651828 | |\n",
    "| After tuning - 50trials| MAE | 0.03787310900962521 | 0.000442034368456366 ||\n",
    "| After tuning - 100trials| MAE | 0.03838030476025398 | 0.0007480100565996748 ||\n",
    "| After tuning W.S. - 50trials -StandardScaler | MAE | 0.03838277636708219 | 0.0006195357541130345 ||\n",
    "| After tuning - 50trials - StandardScaler | MAE | 0.03796602386426936 | 0.0006588818520419181 | with 50trials best|\n",
    "| After tuning - 50trial W.S. - RobustScaler | MAE | 0.03824961618901729 | 0.0007043585347168141 | |\n"
   ]
  },
  {
   "cell_type": "code",
   "execution_count": 55,
   "id": "1a19adfe-a591-4616-827c-70140477879b",
   "metadata": {},
   "outputs": [],
   "source": [
    "wp3_X = train_wp3[[c for c in train_wp3 if c not in [\"wp\"]] + [\"wp\"]].drop(to_drop, axis = 1)\n",
    "X3 = wp3_X.drop('wp', axis = 1)\n",
    "y3 = wp3_X['wp']\n",
    "\n",
    "def objective_wp3(trial,data = X3,target = y3):\n",
    "    train_x, test_x, train_y, test_y = train_test_split(data, target, test_size=0.15,random_state=42)\n",
    "    return hyperparametrization(trial, train_x, test_x, train_y, test_y)"
   ]
  },
  {
   "cell_type": "code",
   "execution_count": 56,
   "id": "de738d33-8e08-49d4-af3f-0e3fc5609cec",
   "metadata": {
    "collapsed": true,
    "jupyter": {
     "outputs_hidden": true
    },
    "tags": []
   },
   "outputs": [
    {
     "name": "stdout",
     "output_type": "stream",
     "text": [
      "-----------LGBM CROSS VALIDATION BEGINNING-----------\n",
      "RMSE score: 0.10784104982964099\n",
      "MAE score: 0.0779862795420197\n",
      "None\n",
      "-------------------FOLD 1-----------------\n",
      "RMSE score: 0.11005158383080127\n",
      "MAE score: 0.07964961198847581\n",
      "None\n",
      "-------------------FOLD 2-----------------\n",
      "RMSE score: 0.10976714666270865\n",
      "MAE score: 0.079575174022256\n",
      "None\n",
      "-------------------FOLD 3-----------------\n",
      "RMSE score: 0.10860242836368786\n",
      "MAE score: 0.07877072106913185\n",
      "None\n",
      "-------------------FOLD 4-----------------\n",
      "RMSE score: 0.10865226958512926\n",
      "MAE score: 0.07872170540355627\n",
      "None\n",
      "-------------------FOLD 5-----------------\n",
      "RMSE score: 0.1091451770259513\n",
      "MAE score: 0.0796468386781163\n",
      "None\n",
      "-------------------FOLD 6-----------------\n",
      "RMSE score: 0.11042219371995066\n",
      "MAE score: 0.08052251239006873\n",
      "None\n",
      "-------------------FOLD 7-----------------\n",
      "RMSE score: 0.1121371644824601\n",
      "MAE score: 0.08132981807980641\n",
      "None\n",
      "-------------------FOLD 8-----------------\n",
      "RMSE score: 0.11085648281615004\n",
      "MAE score: 0.08031359003713218\n",
      "None\n",
      "-------------------FOLD 9-----------------\n",
      "RMSE score: 0.10761287154190911\n",
      "MAE score: 0.07887941743107331\n",
      "None\n",
      "-------------------FOLD 10-----------------\n",
      "---------------CROSS VALIDATION COMPLETE-------------\n",
      "--------------------------RMSE-----------------------\n",
      "Scores: [0.10784104982964099, 0.11005158383080127, 0.10976714666270865, 0.10860242836368786, 0.10865226958512926, 0.1091451770259513, 0.11042219371995066, 0.1121371644824601, 0.11085648281615004, 0.10761287154190911]\n",
      "Mean: 0.10950883678583892\n",
      "Std: 0.0013410259168161651\n",
      "--------------------------MAE------------------------\n",
      "Scores: [0.0779862795420197, 0.07964961198847581, 0.079575174022256, 0.07877072106913185, 0.07872170540355627, 0.0796468386781163, 0.08052251239006873, 0.08132981807980641, 0.08031359003713218, 0.07887941743107331]\n",
      "Mean: 0.07953956686416365\n",
      "Std: 0.0009435940991701873\n"
     ]
    }
   ],
   "source": [
    "# lgbm_cross_validation(X3, y3, None)\n",
    "lgbm_scaled_cross_validation(X3, y3, None)"
   ]
  },
  {
   "cell_type": "code",
   "execution_count": 92,
   "id": "08d236db-32da-41cf-8788-8d0ed6e5217d",
   "metadata": {
    "collapsed": true,
    "jupyter": {
     "outputs_hidden": true
    },
    "tags": []
   },
   "outputs": [
    {
     "name": "stderr",
     "output_type": "stream",
     "text": [
      "\u001b[32m[I 2021-09-07 11:14:02,372]\u001b[0m A new study created in memory with name: no-name-6344541c-33af-42df-969d-8bae9e5074a2\u001b[0m\n",
      "<ipython-input-92-81c31266f3c7>:31: ExperimentalWarning: enqueue_trial is experimental (supported from v1.2.0). The interface can change in the future.\n",
      "  study.enqueue_trial(try_these_first[0])\n",
      "C:\\Users\\J0528925\\Anaconda3\\envs\\datachallenge\\lib\\site-packages\\optuna\\study\\study.py:857: ExperimentalWarning: create_trial is experimental (supported from v2.0.0). The interface can change in the future.\n",
      "  create_trial(state=TrialState.WAITING, system_attrs={\"fixed_params\": params})\n",
      "C:\\Users\\J0528925\\Anaconda3\\envs\\datachallenge\\lib\\site-packages\\optuna\\study\\study.py:856: ExperimentalWarning: add_trial is experimental (supported from v2.0.0). The interface can change in the future.\n",
      "  self.add_trial(\n",
      "<ipython-input-92-81c31266f3c7>:32: ExperimentalWarning: enqueue_trial is experimental (supported from v1.2.0). The interface can change in the future.\n",
      "  study.enqueue_trial(try_these_first[1])\n",
      "<ipython-input-92-81c31266f3c7>:33: ExperimentalWarning: enqueue_trial is experimental (supported from v1.2.0). The interface can change in the future.\n",
      "  study.enqueue_trial(try_these_first[2])\n"
     ]
    }
   ],
   "source": [
    "try_these_first = [{\n",
    "    'reg_alpha': 0.26013926149282945,\n",
    "    'reg_lambda': 0.002325658512162904,\n",
    "    'colsample_bytree': 1.0,\n",
    "    'subsample': 0.7,\n",
    "    'learning_rate': 0.10619054458258967,\n",
    "    'max_depth': 83,\n",
    "    'num_leaves': 647,\n",
    "    'min_child_samples': 3,\n",
    "},  {\n",
    "    'reg_alpha': 0.002937356908910416,\n",
    "    'reg_lambda': 0.003822180117262245,\n",
    "    'colsample_bytree': 0.8,\n",
    "    'subsample': 1.0,\n",
    "    'learning_rate': 0.09489749817678472,\n",
    "    'max_depth': 41,\n",
    "    'num_leaves': 842,\n",
    "    'min_child_samples': 18,\n",
    "}, {\n",
    "    'reg_alpha': 0.2380367567801365,\n",
    "    'reg_lambda': 0.005052844767806766,\n",
    "    'colsample_bytree': 0.9,\n",
    "    'subsample': 0.5,\n",
    "    'learning_rate': 0.11958787026894079,\n",
    "    'max_depth': 41,\n",
    "    'num_leaves': 690,\n",
    "    'min_child_samples': 16\n",
    "}]\n",
    "\n",
    "study = optuna.create_study(direction='minimize')\n",
    "study.enqueue_trial(try_these_first[0])\n",
    "study.enqueue_trial(try_these_first[1])\n",
    "study.enqueue_trial(try_these_first[2])"
   ]
  },
  {
   "cell_type": "code",
   "execution_count": 93,
   "id": "76fcd3f6-9ee9-4a40-9208-371c72445408",
   "metadata": {
    "collapsed": true,
    "jupyter": {
     "outputs_hidden": true
    },
    "tags": []
   },
   "outputs": [
    {
     "name": "stderr",
     "output_type": "stream",
     "text": [
      "\u001b[32m[I 2021-09-07 11:14:09,836]\u001b[0m Trial 0 finished with value: 0.06097317755060667 and parameters: {'reg_alpha': 0.26013926149282945, 'reg_lambda': 0.002325658512162904, 'colsample_bytree': 1.0, 'subsample': 0.7, 'learning_rate': 0.10619054458258967, 'max_depth': 83, 'num_leaves': 647, 'min_child_samples': 3}. Best is trial 0 with value: 0.06097317755060667.\u001b[0m\n",
      "\u001b[32m[I 2021-09-07 11:14:15,991]\u001b[0m Trial 1 finished with value: 0.059834159129533125 and parameters: {'reg_alpha': 0.002937356908910416, 'reg_lambda': 0.003822180117262245, 'colsample_bytree': 0.8, 'subsample': 1.0, 'learning_rate': 0.09489749817678472, 'max_depth': 41, 'num_leaves': 842, 'min_child_samples': 18}. Best is trial 1 with value: 0.059834159129533125.\u001b[0m\n",
      "\u001b[32m[I 2021-09-07 11:14:21,119]\u001b[0m Trial 2 finished with value: 0.060331851442134515 and parameters: {'reg_alpha': 0.2380367567801365, 'reg_lambda': 0.005052844767806766, 'colsample_bytree': 0.9, 'subsample': 0.5, 'learning_rate': 0.11958787026894079, 'max_depth': 41, 'num_leaves': 690, 'min_child_samples': 16}. Best is trial 1 with value: 0.059834159129533125.\u001b[0m\n",
      "\u001b[32m[I 2021-09-07 11:14:21,746]\u001b[0m Trial 3 finished with value: 0.22509901314192904 and parameters: {'reg_alpha': 5.9215785214532355, 'reg_lambda': 0.1372619727207785, 'colsample_bytree': 0.6, 'subsample': 0.7, 'learning_rate': 0.0037723337561271627, 'max_depth': 47, 'num_leaves': 839, 'min_child_samples': 262}. Best is trial 1 with value: 0.059834159129533125.\u001b[0m\n",
      "\u001b[32m[I 2021-09-07 11:14:23,468]\u001b[0m Trial 4 finished with value: 0.13777325314124547 and parameters: {'reg_alpha': 0.5617426557120675, 'reg_lambda': 0.07566847727751513, 'colsample_bytree': 0.3, 'subsample': 0.7, 'learning_rate': 0.014059258796347703, 'max_depth': 47, 'num_leaves': 646, 'min_child_samples': 45}. Best is trial 1 with value: 0.059834159129533125.\u001b[0m\n",
      "\u001b[32m[I 2021-09-07 11:14:25,336]\u001b[0m Trial 5 finished with value: 0.11985095151589532 and parameters: {'reg_alpha': 0.011630287206250527, 'reg_lambda': 0.0016455572774915113, 'colsample_bytree': 0.8, 'subsample': 1.0, 'learning_rate': 0.01975056713793393, 'max_depth': 30, 'num_leaves': 451, 'min_child_samples': 112}. Best is trial 1 with value: 0.059834159129533125.\u001b[0m\n",
      "\u001b[32m[I 2021-09-07 11:14:26,393]\u001b[0m Trial 6 finished with value: 0.0693523539859551 and parameters: {'reg_alpha': 0.11620757616735237, 'reg_lambda': 0.9535734500343198, 'colsample_bytree': 0.5, 'subsample': 0.4, 'learning_rate': 0.2431954953517048, 'max_depth': 96, 'num_leaves': 194, 'min_child_samples': 160}. Best is trial 1 with value: 0.059834159129533125.\u001b[0m\n",
      "\u001b[32m[I 2021-09-07 11:14:27,089]\u001b[0m Trial 7 finished with value: 0.1745560649861326 and parameters: {'reg_alpha': 0.006256570955921367, 'reg_lambda': 8.740571622452718, 'colsample_bytree': 0.5, 'subsample': 0.5, 'learning_rate': 0.010337986800170923, 'max_depth': 61, 'num_leaves': 279, 'min_child_samples': 298}. Best is trial 1 with value: 0.059834159129533125.\u001b[0m\n",
      "\u001b[32m[I 2021-09-07 11:14:27,981]\u001b[0m Trial 8 finished with value: 0.10030394658125373 and parameters: {'reg_alpha': 0.2676214326701924, 'reg_lambda': 0.0018804372456632773, 'colsample_bytree': 0.3, 'subsample': 0.8, 'learning_rate': 0.05235387015576716, 'max_depth': 61, 'num_leaves': 883, 'min_child_samples': 167}. Best is trial 1 with value: 0.059834159129533125.\u001b[0m\n",
      "\u001b[32m[I 2021-09-07 11:14:28,772]\u001b[0m Trial 9 finished with value: 0.2283904683843909 and parameters: {'reg_alpha': 0.48895659147819737, 'reg_lambda': 0.004920771493170291, 'colsample_bytree': 0.7, 'subsample': 0.6, 'learning_rate': 0.003177788895029452, 'max_depth': 39, 'num_leaves': 281, 'min_child_samples': 273}. Best is trial 1 with value: 0.059834159129533125.\u001b[0m\n",
      "\u001b[32m[I 2021-09-07 11:14:29,275]\u001b[0m Trial 10 finished with value: 0.2577998479741674 and parameters: {'reg_alpha': 0.001205228222678508, 'reg_lambda': 0.03222523307541847, 'colsample_bytree': 0.8, 'subsample': 1.0, 'learning_rate': 0.0012233462447480514, 'max_depth': 20, 'num_leaves': 14, 'min_child_samples': 96}. Best is trial 1 with value: 0.059834159129533125.\u001b[0m\n",
      "\u001b[32m[I 2021-09-07 11:14:38,020]\u001b[0m Trial 11 finished with value: 0.06551913818863231 and parameters: {'reg_alpha': 0.016183487554174553, 'reg_lambda': 0.020492856478382775, 'colsample_bytree': 0.9, 'subsample': 0.5, 'learning_rate': 0.24960944772658802, 'max_depth': 49, 'num_leaves': 953, 'min_child_samples': 3}. Best is trial 1 with value: 0.059834159129533125.\u001b[0m\n",
      "\u001b[32m[I 2021-09-07 11:14:39,330]\u001b[0m Trial 12 finished with value: 0.08632386706064828 and parameters: {'reg_alpha': 1.7316706043654941, 'reg_lambda': 0.00936304609550166, 'colsample_bytree': 0.4, 'subsample': 1.0, 'learning_rate': 0.05848896923206887, 'max_depth': 71, 'num_leaves': 702, 'min_child_samples': 68}. Best is trial 1 with value: 0.059834159129533125.\u001b[0m\n",
      "\u001b[32m[I 2021-09-07 11:14:43,440]\u001b[0m Trial 13 finished with value: 0.06179431035722496 and parameters: {'reg_alpha': 0.039946547767415616, 'reg_lambda': 0.4682757409411757, 'colsample_bytree': 0.9, 'subsample': 0.5, 'learning_rate': 0.0933604865426689, 'max_depth': 30, 'num_leaves': 785, 'min_child_samples': 46}. Best is trial 1 with value: 0.059834159129533125.\u001b[0m\n",
      "\u001b[32m[I 2021-09-07 11:14:44,743]\u001b[0m Trial 14 finished with value: 0.1217077014898298 and parameters: {'reg_alpha': 0.003052781710363758, 'reg_lambda': 0.009186946600198947, 'colsample_bytree': 0.9, 'subsample': 0.8, 'learning_rate': 0.02696493879411748, 'max_depth': 34, 'num_leaves': 530, 'min_child_samples': 221}. Best is trial 1 with value: 0.059834159129533125.\u001b[0m\n",
      "\u001b[32m[I 2021-09-07 11:14:46,491]\u001b[0m Trial 15 finished with value: 0.07038557166360968 and parameters: {'reg_alpha': 0.03257892146176488, 'reg_lambda': 0.00125663286016392, 'colsample_bytree': 0.8, 'subsample': 0.6, 'learning_rate': 0.12914217227805852, 'max_depth': 20, 'num_leaves': 990, 'min_child_samples': 120}. Best is trial 1 with value: 0.059834159129533125.\u001b[0m\n",
      "\u001b[32m[I 2021-09-07 11:14:49,428]\u001b[0m Trial 16 finished with value: 0.08312007782470204 and parameters: {'reg_alpha': 0.08306909804894744, 'reg_lambda': 0.029669162328696385, 'colsample_bytree': 0.6, 'subsample': 0.4, 'learning_rate': 0.033564332011525616, 'max_depth': 53, 'num_leaves': 744, 'min_child_samples': 48}. Best is trial 1 with value: 0.059834159129533125.\u001b[0m\n",
      "\u001b[32m[I 2021-09-07 11:14:50,739]\u001b[0m Trial 17 finished with value: 0.0697360446811348 and parameters: {'reg_alpha': 0.0010558792076707116, 'reg_lambda': 0.004894939272781946, 'colsample_bytree': 1.0, 'subsample': 1.0, 'learning_rate': 0.2760959492443041, 'max_depth': 38, 'num_leaves': 523, 'min_child_samples': 202}. Best is trial 1 with value: 0.059834159129533125.\u001b[0m\n",
      "\u001b[32m[I 2021-09-07 11:14:51,915]\u001b[0m Trial 18 finished with value: 0.094125262848909 and parameters: {'reg_alpha': 2.6432922079246137, 'reg_lambda': 0.19426855438129687, 'colsample_bytree': 0.4, 'subsample': 0.5, 'learning_rate': 0.05611015055562466, 'max_depth': 73, 'num_leaves': 596, 'min_child_samples': 82}. Best is trial 1 with value: 0.059834159129533125.\u001b[0m\n",
      "\u001b[32m[I 2021-09-07 11:14:54,572]\u001b[0m Trial 19 finished with value: 0.06146635455095775 and parameters: {'reg_alpha': 0.004873071466800067, 'reg_lambda': 0.013254259884683994, 'colsample_bytree': 0.7, 'subsample': 0.5, 'learning_rate': 0.1477421612384198, 'max_depth': 56, 'num_leaves': 395, 'min_child_samples': 26}. Best is trial 1 with value: 0.059834159129533125.\u001b[0m\n",
      "\u001b[32m[I 2021-09-07 11:14:56,071]\u001b[0m Trial 20 finished with value: 0.08142617606219218 and parameters: {'reg_alpha': 1.1328539944656515, 'reg_lambda': 0.05632838476950085, 'colsample_bytree': 0.8, 'subsample': 1.0, 'learning_rate': 0.07612629642849476, 'max_depth': 42, 'num_leaves': 862, 'min_child_samples': 134}. Best is trial 1 with value: 0.059834159129533125.\u001b[0m\n",
      "\u001b[32m[I 2021-09-07 11:15:01,714]\u001b[0m Trial 21 finished with value: 0.060648990707276564 and parameters: {'reg_alpha': 0.21741217961923348, 'reg_lambda': 0.003311505728869658, 'colsample_bytree': 1.0, 'subsample': 0.7, 'learning_rate': 0.1325449527903559, 'max_depth': 89, 'num_leaves': 666, 'min_child_samples': 15}. Best is trial 1 with value: 0.059834159129533125.\u001b[0m\n",
      "\u001b[32m[I 2021-09-07 11:15:07,619]\u001b[0m Trial 22 finished with value: 0.061783084111794014 and parameters: {'reg_alpha': 0.0952763893672776, 'reg_lambda': 0.004223630613010142, 'colsample_bytree': 1.0, 'subsample': 0.7, 'learning_rate': 0.18862592344210927, 'max_depth': 98, 'num_leaves': 788, 'min_child_samples': 23}. Best is trial 1 with value: 0.059834159129533125.\u001b[0m\n",
      "\u001b[32m[I 2021-09-07 11:15:10,414]\u001b[0m Trial 23 finished with value: 0.08957789488966497 and parameters: {'reg_alpha': 0.2161127412427088, 'reg_lambda': 0.0010345538811694969, 'colsample_bytree': 1.0, 'subsample': 0.7, 'learning_rate': 0.035225326455189075, 'max_depth': 88, 'num_leaves': 701, 'min_child_samples': 70}. Best is trial 1 with value: 0.059834159129533125.\u001b[0m\n",
      "\u001b[32m[I 2021-09-07 11:15:15,331]\u001b[0m Trial 24 finished with value: 0.05959469779300525 and parameters: {'reg_alpha': 0.045830406801363764, 'reg_lambda': 0.0029006420478372807, 'colsample_bytree': 0.9, 'subsample': 0.6, 'learning_rate': 0.1506577044157042, 'max_depth': 69, 'num_leaves': 604, 'min_child_samples': 24}. Best is trial 24 with value: 0.05959469779300525.\u001b[0m\n",
      "\u001b[32m[I 2021-09-07 11:15:19,808]\u001b[0m Trial 25 finished with value: 0.06356585676401476 and parameters: {'reg_alpha': 0.035214257846504074, 'reg_lambda': 0.008610274994080016, 'colsample_bytree': 0.9, 'subsample': 0.6, 'learning_rate': 0.06980855744572698, 'max_depth': 70, 'num_leaves': 606, 'min_child_samples': 41}. Best is trial 24 with value: 0.05959469779300525.\u001b[0m\n",
      "\u001b[32m[I 2021-09-07 11:15:22,164]\u001b[0m Trial 26 finished with value: 0.17568283369689394 and parameters: {'reg_alpha': 0.020810311059527128, 'reg_lambda': 5.554728734640883, 'colsample_bytree': 0.9, 'subsample': 0.6, 'learning_rate': 0.007278993956536163, 'max_depth': 64, 'num_leaves': 940, 'min_child_samples': 61}. Best is trial 24 with value: 0.05959469779300525.\u001b[0m\n",
      "\u001b[32m[I 2021-09-07 11:15:24,604]\u001b[0m Trial 27 finished with value: 0.06270928897368261 and parameters: {'reg_alpha': 0.0018405580908830994, 'reg_lambda': 0.018421781192212196, 'colsample_bytree': 0.9, 'subsample': 0.6, 'learning_rate': 0.18495249574817224, 'max_depth': 76, 'num_leaves': 431, 'min_child_samples': 86}. Best is trial 24 with value: 0.05959469779300525.\u001b[0m\n",
      "\u001b[32m[I 2021-09-07 11:15:28,789]\u001b[0m Trial 28 finished with value: 0.07212311644407274 and parameters: {'reg_alpha': 0.00649556092674708, 'reg_lambda': 0.005676263485475682, 'colsample_bytree': 0.9, 'subsample': 0.8, 'learning_rate': 0.041536732050731655, 'max_depth': 66, 'num_leaves': 563, 'min_child_samples': 28}. Best is trial 24 with value: 0.05959469779300525.\u001b[0m\n",
      "\u001b[32m[I 2021-09-07 11:15:34,679]\u001b[0m Trial 29 finished with value: 0.06023683048058635 and parameters: {'reg_alpha': 0.06377725188928764, 'reg_lambda': 0.00280625872472288, 'colsample_bytree': 0.8, 'subsample': 0.4, 'learning_rate': 0.1035928895700814, 'max_depth': 81, 'num_leaves': 777, 'min_child_samples': 11}. Best is trial 24 with value: 0.05959469779300525.\u001b[0m\n",
      "\u001b[32m[I 2021-09-07 11:15:41,048]\u001b[0m Trial 30 finished with value: 0.059557484042184056 and parameters: {'reg_alpha': 0.06683447917277437, 'reg_lambda': 0.002178006602642388, 'colsample_bytree': 0.8, 'subsample': 0.4, 'learning_rate': 0.09087311207917749, 'max_depth': 79, 'num_leaves': 782, 'min_child_samples': 8}. Best is trial 30 with value: 0.059557484042184056.\u001b[0m\n",
      "\u001b[32m[I 2021-09-07 11:15:47,027]\u001b[0m Trial 31 finished with value: 0.05946659703348636 and parameters: {'reg_alpha': 0.06649338500801931, 'reg_lambda': 0.002793361950032026, 'colsample_bytree': 0.8, 'subsample': 0.4, 'learning_rate': 0.08696299263443041, 'max_depth': 80, 'num_leaves': 796, 'min_child_samples': 11}. Best is trial 31 with value: 0.05946659703348636.\u001b[0m\n",
      "\u001b[32m[I 2021-09-07 11:15:56,008]\u001b[0m Trial 32 finished with value: 0.05941774169640142 and parameters: {'reg_alpha': 0.013728350276458868, 'reg_lambda': 0.002557827949836765, 'colsample_bytree': 0.8, 'subsample': 0.4, 'learning_rate': 0.08404139563379286, 'max_depth': 80, 'num_leaves': 886, 'min_child_samples': 1}. Best is trial 32 with value: 0.05941774169640142.\u001b[0m\n",
      "\u001b[32m[I 2021-09-07 11:16:04,856]\u001b[0m Trial 33 finished with value: 0.0597641715228559 and parameters: {'reg_alpha': 0.013135603346913806, 'reg_lambda': 0.0022037438304093712, 'colsample_bytree': 0.8, 'subsample': 0.4, 'learning_rate': 0.0840242505325763, 'max_depth': 81, 'num_leaves': 900, 'min_child_samples': 2}. Best is trial 32 with value: 0.05941774169640142.\u001b[0m\n",
      "\u001b[32m[I 2021-09-07 11:16:09,246]\u001b[0m Trial 34 finished with value: 0.06119900251820386 and parameters: {'reg_alpha': 0.054430091554168565, 'reg_lambda': 0.001008654839411302, 'colsample_bytree': 0.8, 'subsample': 0.4, 'learning_rate': 0.17344522393037604, 'max_depth': 87, 'num_leaves': 825, 'min_child_samples': 34}. Best is trial 32 with value: 0.05941774169640142.\u001b[0m\n",
      "\u001b[32m[I 2021-09-07 11:16:16,608]\u001b[0m Trial 35 finished with value: 0.08589061859697811 and parameters: {'reg_alpha': 0.13247377152046855, 'reg_lambda': 0.002337032510867774, 'colsample_bytree': 0.8, 'subsample': 0.4, 'learning_rate': 0.022957921249591826, 'max_depth': 77, 'num_leaves': 732, 'min_child_samples': 1}. Best is trial 32 with value: 0.05941774169640142.\u001b[0m\n",
      "\u001b[32m[I 2021-09-07 11:16:20,507]\u001b[0m Trial 36 finished with value: 0.07349408492007994 and parameters: {'reg_alpha': 0.025238150533267098, 'reg_lambda': 0.00755271061396629, 'colsample_bytree': 0.8, 'subsample': 0.4, 'learning_rate': 0.046285301657286115, 'max_depth': 92, 'num_leaves': 639, 'min_child_samples': 52}. Best is trial 32 with value: 0.05941774169640142.\u001b[0m\n",
      "\u001b[32m[I 2021-09-07 11:16:25,063]\u001b[0m Trial 37 finished with value: 0.11352916179333396 and parameters: {'reg_alpha': 0.01111147567195359, 'reg_lambda': 0.0031059432183818555, 'colsample_bytree': 0.6, 'subsample': 0.4, 'learning_rate': 0.015015086074816122, 'max_depth': 83, 'num_leaves': 1000, 'min_child_samples': 30}. Best is trial 32 with value: 0.05941774169640142.\u001b[0m\n",
      "\u001b[32m[I 2021-09-07 11:16:26,280]\u001b[0m Trial 38 finished with value: 0.0726577806103641 and parameters: {'reg_alpha': 0.1432047086282118, 'reg_lambda': 0.0018752113937473996, 'colsample_bytree': 0.3, 'subsample': 0.4, 'learning_rate': 0.11235084070008056, 'max_depth': 77, 'num_leaves': 823, 'min_child_samples': 104}. Best is trial 32 with value: 0.05941774169640142.\u001b[0m\n",
      "\u001b[32m[I 2021-09-07 11:16:30,487]\u001b[0m Trial 39 finished with value: 0.060632737001735125 and parameters: {'reg_alpha': 0.05485958684452366, 'reg_lambda': 0.015380174077481854, 'colsample_bytree': 0.5, 'subsample': 0.4, 'learning_rate': 0.0782511232709378, 'max_depth': 69, 'num_leaves': 903, 'min_child_samples': 19}. Best is trial 32 with value: 0.05941774169640142.\u001b[0m\n",
      "\u001b[32m[I 2021-09-07 11:16:33,120]\u001b[0m Trial 40 finished with value: 0.06255225778891103 and parameters: {'reg_alpha': 0.36765165407521727, 'reg_lambda': 0.03909639599551908, 'colsample_bytree': 0.8, 'subsample': 0.4, 'learning_rate': 0.1731813128567073, 'max_depth': 93, 'num_leaves': 752, 'min_child_samples': 62}. Best is trial 32 with value: 0.05941774169640142.\u001b[0m\n",
      "\u001b[32m[I 2021-09-07 11:16:41,196]\u001b[0m Trial 41 finished with value: 0.05943238847939322 and parameters: {'reg_alpha': 0.011691456016347062, 'reg_lambda': 0.0016021429079762896, 'colsample_bytree': 0.8, 'subsample': 0.4, 'learning_rate': 0.08384028375373359, 'max_depth': 82, 'num_leaves': 903, 'min_child_samples': 4}. Best is trial 32 with value: 0.05941774169640142.\u001b[0m\n",
      "\u001b[32m[I 2021-09-07 11:16:47,434]\u001b[0m Trial 42 finished with value: 0.059798612676348194 and parameters: {'reg_alpha': 0.010319873644791847, 'reg_lambda': 0.0015008476485479881, 'colsample_bytree': 0.8, 'subsample': 0.4, 'learning_rate': 0.10479681921445523, 'max_depth': 85, 'num_leaves': 877, 'min_child_samples': 10}. Best is trial 32 with value: 0.05941774169640142.\u001b[0m\n",
      "\u001b[32m[I 2021-09-07 11:16:52,022]\u001b[0m Trial 43 finished with value: 0.06352038755004046 and parameters: {'reg_alpha': 0.020481981349724013, 'reg_lambda': 0.0035981206733182317, 'colsample_bytree': 0.8, 'subsample': 0.4, 'learning_rate': 0.06574415684131585, 'max_depth': 79, 'num_leaves': 950, 'min_child_samples': 38}. Best is trial 32 with value: 0.05941774169640142.\u001b[0m\n",
      "\u001b[32m[I 2021-09-07 11:16:56,720]\u001b[0m Trial 44 finished with value: 0.06309666173816954 and parameters: {'reg_alpha': 0.00845235033894588, 'reg_lambda': 0.0016224935066676779, 'colsample_bytree': 0.7, 'subsample': 0.4, 'learning_rate': 0.21246395508813457, 'max_depth': 74, 'num_leaves': 831, 'min_child_samples': 17}. Best is trial 32 with value: 0.05941774169640142.\u001b[0m\n",
      "\u001b[32m[I 2021-09-07 11:17:05,357]\u001b[0m Trial 45 finished with value: 0.062191838249073005 and parameters: {'reg_alpha': 0.003834143701856221, 'reg_lambda': 0.006317797166979851, 'colsample_bytree': 0.8, 'subsample': 0.6, 'learning_rate': 0.1423361056708413, 'max_depth': 68, 'num_leaves': 917, 'min_child_samples': 2}. Best is trial 32 with value: 0.05941774169640142.\u001b[0m\n",
      "\u001b[32m[I 2021-09-07 11:17:07,720]\u001b[0m Trial 46 finished with value: 0.0783135165375927 and parameters: {'reg_alpha': 0.03623017306501551, 'reg_lambda': 0.0025066069469028714, 'colsample_bytree': 0.4, 'subsample': 0.4, 'learning_rate': 0.044261920813732036, 'max_depth': 84, 'num_leaves': 804, 'min_child_samples': 54}. Best is trial 32 with value: 0.05941774169640142.\u001b[0m\n",
      "\u001b[32m[I 2021-09-07 11:17:09,993]\u001b[0m Trial 47 finished with value: 0.1706871962477997 and parameters: {'reg_alpha': 0.01876867816920414, 'reg_lambda': 0.0015323915653968482, 'colsample_bytree': 0.3, 'subsample': 0.8, 'learning_rate': 0.00797404000035239, 'max_depth': 100, 'num_leaves': 481, 'min_child_samples': 28}. Best is trial 32 with value: 0.05941774169640142.\u001b[0m\n",
      "\u001b[32m[I 2021-09-07 11:17:10,747]\u001b[0m Trial 48 finished with value: 0.12728396392767327 and parameters: {'reg_alpha': 8.91831445636528, 'reg_lambda': 1.6072891553921884, 'colsample_bytree': 0.5, 'subsample': 0.6, 'learning_rate': 0.03047863647805863, 'max_depth': 91, 'num_leaves': 340, 'min_child_samples': 81}. Best is trial 32 with value: 0.05941774169640142.\u001b[0m\n",
      "\u001b[32m[I 2021-09-07 11:17:11,882]\u001b[0m Trial 49 finished with value: 0.2455864303264919 and parameters: {'reg_alpha': 0.07236554252907369, 'reg_lambda': 0.011197832651008443, 'colsample_bytree': 0.8, 'subsample': 0.4, 'learning_rate': 0.0017726256397694862, 'max_depth': 64, 'num_leaves': 130, 'min_child_samples': 227}. Best is trial 32 with value: 0.05941774169640142.\u001b[0m\n"
     ]
    },
    {
     "data": {
      "text/plain": [
       "{'reg_alpha': 0.013728350276458868,\n",
       " 'reg_lambda': 0.002557827949836765,\n",
       " 'colsample_bytree': 0.8,\n",
       " 'subsample': 0.4,\n",
       " 'learning_rate': 0.08404139563379286,\n",
       " 'max_depth': 80,\n",
       " 'num_leaves': 886,\n",
       " 'min_child_samples': 1}"
      ]
     },
     "execution_count": 93,
     "metadata": {},
     "output_type": "execute_result"
    }
   ],
   "source": [
    "# study = optuna.create_study(direction='minimize')\n",
    "study.optimize(objective_wp3, n_trials=50)\n",
    "# write_results('Data/Hyperparametrization/lgbm_100trials.xlsx', 'wp3', study.trials_dataframe())\n",
    "best_trial = study.best_trial.params\n",
    "best_trial"
   ]
  },
  {
   "cell_type": "code",
   "execution_count": 116,
   "id": "0799bdb2-b009-446a-af9f-5f3e2fbed56b",
   "metadata": {
    "tags": []
   },
   "outputs": [],
   "source": [
    "# # 100\n",
    "# params_3 = {\n",
    "#     'reg_alpha': 0.26013926149282945,\n",
    "#     'reg_lambda': 0.002325658512162904,\n",
    "#     'colsample_bytree': 1.0,\n",
    "#     'subsample': 0.7,\n",
    "#     'learning_rate': 0.10619054458258967,\n",
    "#     'max_depth': 83,\n",
    "#     'num_leaves': 647,\n",
    "#     'min_child_samples': 3,\n",
    "# }\n",
    "\n",
    "# # # 50\n",
    "# params_3 = {\n",
    "#     'reg_alpha': 0.002937356908910416,\n",
    "#     'reg_lambda': 0.003822180117262245,\n",
    "#     'colsample_bytree': 0.8,\n",
    "#     'subsample': 1.0,\n",
    "#     'learning_rate': 0.09489749817678472,\n",
    "#     'max_depth': 41,\n",
    "#     'num_leaves': 842,\n",
    "#     'min_child_samples': 18,\n",
    "# }\n",
    "\n",
    "# 50 warm start std scaler\n",
    "# params_3 = {\n",
    "#     'reg_alpha': 0.2380367567801365,\n",
    "#     'reg_lambda': 0.005052844767806766,\n",
    "#     'colsample_bytree': 0.9,\n",
    "#     'subsample': 0.5,\n",
    "#     'learning_rate': 0.11958787026894079,\n",
    "#     'max_depth': 41,\n",
    "#     'num_leaves': 690,\n",
    "#     'min_child_samples': 16\n",
    "# }\n",
    "\n",
    "\n",
    "# robust scaler with warm start\n",
    "params_3 = {\n",
    "    'reg_alpha': 0.013728350276458868,\n",
    "    'reg_lambda': 0.002557827949836765,\n",
    "    'colsample_bytree': 0.8,\n",
    "    'subsample': 0.4,\n",
    "    'learning_rate': 0.08404139563379286,\n",
    "    'max_depth': 80,\n",
    "    'num_leaves': 886,\n",
    "    'min_child_samples': 1\n",
    "}"
   ]
  },
  {
   "cell_type": "code",
   "execution_count": 95,
   "id": "b0d45d0b-664c-4c89-8493-ed650660fb0e",
   "metadata": {
    "collapsed": true,
    "jupyter": {
     "outputs_hidden": true
    },
    "tags": []
   },
   "outputs": [
    {
     "name": "stdout",
     "output_type": "stream",
     "text": [
      "-----------LGBM CROSS VALIDATION BEGINNING-----------\n",
      "RMSE score: 0.06064624432688606\n",
      "MAE score: 0.03887273275254841\n",
      "None\n",
      "-------------------FOLD 1-----------------\n",
      "RMSE score: 0.0601302325869877\n",
      "MAE score: 0.03914922759031806\n",
      "None\n",
      "-------------------FOLD 2-----------------\n",
      "RMSE score: 0.05794151276900089\n",
      "MAE score: 0.03762067611130553\n",
      "None\n",
      "-------------------FOLD 3-----------------\n",
      "RMSE score: 0.05936794963006943\n",
      "MAE score: 0.03838169212263983\n",
      "None\n",
      "-------------------FOLD 4-----------------\n",
      "RMSE score: 0.05833107169680216\n",
      "MAE score: 0.03738948646954827\n",
      "None\n",
      "-------------------FOLD 5-----------------\n",
      "RMSE score: 0.05741202981171924\n",
      "MAE score: 0.03715121985482552\n",
      "None\n",
      "-------------------FOLD 6-----------------\n",
      "RMSE score: 0.059130738871233685\n",
      "MAE score: 0.03786656768570517\n",
      "None\n",
      "-------------------FOLD 7-----------------\n",
      "RMSE score: 0.058156135786221856\n",
      "MAE score: 0.038074541627495406\n",
      "None\n",
      "-------------------FOLD 8-----------------\n",
      "RMSE score: 0.05989830883539013\n",
      "MAE score: 0.038754457851266584\n",
      "None\n",
      "-------------------FOLD 9-----------------\n",
      "RMSE score: 0.059742617164080136\n",
      "MAE score: 0.039235559824520115\n",
      "None\n",
      "-------------------FOLD 10-----------------\n",
      "---------------CROSS VALIDATION COMPLETE-------------\n",
      "--------------------------RMSE-----------------------\n",
      "Scores: [0.06064624432688606, 0.0601302325869877, 0.05794151276900089, 0.05936794963006943, 0.05833107169680216, 0.05741202981171924, 0.059130738871233685, 0.058156135786221856, 0.05989830883539013, 0.059742617164080136]\n",
      "Mean: 0.05907568414783913\n",
      "Std: 0.0010120672015320588\n",
      "--------------------------MAE------------------------\n",
      "Scores: [0.03887273275254841, 0.03914922759031806, 0.03762067611130553, 0.03838169212263983, 0.03738948646954827, 0.03715121985482552, 0.03786656768570517, 0.038074541627495406, 0.038754457851266584, 0.039235559824520115]\n",
      "Mean: 0.03824961618901729\n",
      "Std: 0.0007043585347168141\n"
     ]
    }
   ],
   "source": [
    "# lgbm_cross_validation(X3, y3, params_3)\n",
    "lgbm_scaled_cross_validation(X3, y3, params_3)"
   ]
  },
  {
   "cell_type": "markdown",
   "id": "cdc76c8c-9cc7-441f-b25e-e1ecf293298e",
   "metadata": {},
   "source": [
    "## WP4"
   ]
  },
  {
   "cell_type": "markdown",
   "id": "895876ff-0734-4527-a0b9-68cf9b097dec",
   "metadata": {},
   "source": [
    "| |  | Mean | Std | |\n",
    "| --- | --- | --- | --- | --- |\n",
    "| No params | RMSE | 0.10486204816363351 | 0.0015105949978751166 ||\n",
    "| No params  - Std | RMSE | 0.10480849342496516 | 0.0010370863436755212 ||\n",
    "| After tuning - 50trials| RMSE | 0.06513233717204232 | 0.0015891617240032727 ||\n",
    "| After tuning 100trials| RMSE | 0.06357594848470964 | 0.0013676749030776929 ||\n",
    "| After tuning with W.S - 50trials - Std | RMSE | 0.06339401569270936 | 0.001228053306037005 ||\n",
    "| After tuning with W.S. - 50trials - RobustScaler | RMSE | 0.0632324115841705 | 0.0010081050240456021 ||\n",
    "| --- | --- | --- | --- | --- |\n",
    "| No params | MAE | 0.07564776733421566 | 0.00104638869825841 ||\n",
    "| No params  - Std | MAE | 0.07570794104041156 | 0.0008419207475550308 ||\n",
    "| After tuning - 50trials| MAE | 0.04219236028055372 | 0.0008190579419060266 ||\n",
    "| After tuning 100trials| MAE |0.04172111697148837  | 0.0009349285385250968 ||\n",
    "| After tuning with W.S - 50trials  - Std | MAE | 0.04150668920859586 | 0.0005729825500890684 ||\n",
    "| After tuning with W.S. - 50trials - RobustScaler | MAE | 0.04170428506837879 | 0.0006101247158768171 ||"
   ]
  },
  {
   "cell_type": "code",
   "execution_count": 61,
   "id": "185fd52e-5fe9-4ab7-817d-03feda6a42ab",
   "metadata": {},
   "outputs": [],
   "source": [
    "wp4_X = train_wp4[[c for c in train_wp4 if c not in [\"wp\"]] + [\"wp\"]].drop(to_drop, axis = 1)\n",
    "X4 = wp4_X.drop('wp', axis = 1)\n",
    "y4 = wp4_X['wp']\n",
    "\n",
    "def objective_wp4(trial,data = X4,target = y4):\n",
    "    train_x, test_x, train_y, test_y = train_test_split(data, target, test_size=0.15,random_state=42)\n",
    "    return hyperparametrization(trial, train_x, test_x, train_y, test_y)"
   ]
  },
  {
   "cell_type": "code",
   "execution_count": 62,
   "id": "c96a6e3e-8a1b-4fe9-a162-1f2fa994023d",
   "metadata": {
    "collapsed": true,
    "jupyter": {
     "outputs_hidden": true
    },
    "tags": []
   },
   "outputs": [
    {
     "name": "stdout",
     "output_type": "stream",
     "text": [
      "-----------LGBM CROSS VALIDATION BEGINNING-----------\n",
      "RMSE score: 0.11227449275038803\n",
      "MAE score: 0.08067967144788524\n",
      "None\n",
      "-------------------FOLD 1-----------------\n",
      "RMSE score: 0.11028855428139524\n",
      "MAE score: 0.07960583378521108\n",
      "None\n",
      "-------------------FOLD 2-----------------\n",
      "RMSE score: 0.1088487783793776\n",
      "MAE score: 0.07872772765228164\n",
      "None\n",
      "-------------------FOLD 3-----------------\n",
      "RMSE score: 0.10671296331306089\n",
      "MAE score: 0.07674760451886291\n",
      "None\n",
      "-------------------FOLD 4-----------------\n",
      "RMSE score: 0.10667076125606384\n",
      "MAE score: 0.07715723935804648\n",
      "None\n",
      "-------------------FOLD 5-----------------\n",
      "RMSE score: 0.10899821120451332\n",
      "MAE score: 0.07859465707376892\n",
      "None\n",
      "-------------------FOLD 6-----------------\n",
      "RMSE score: 0.10930209913646854\n",
      "MAE score: 0.07822105884261472\n",
      "None\n",
      "-------------------FOLD 7-----------------\n",
      "RMSE score: 0.11110307228893893\n",
      "MAE score: 0.07990342867273831\n",
      "None\n",
      "-------------------FOLD 8-----------------\n",
      "RMSE score: 0.10652195393070206\n",
      "MAE score: 0.07656027772431939\n",
      "None\n",
      "-------------------FOLD 9-----------------\n",
      "RMSE score: 0.10773510251830064\n",
      "MAE score: 0.07733700997080294\n",
      "None\n",
      "-------------------FOLD 10-----------------\n",
      "---------------CROSS VALIDATION COMPLETE-------------\n",
      "--------------------------RMSE-----------------------\n",
      "Scores: [0.11227449275038803, 0.11028855428139524, 0.1088487783793776, 0.10671296331306089, 0.10667076125606384, 0.10899821120451332, 0.10930209913646854, 0.11110307228893893, 0.10652195393070206, 0.10773510251830064]\n",
      "Mean: 0.10884559890592091\n",
      "Std: 0.001872909339595472\n",
      "--------------------------MAE------------------------\n",
      "Scores: [0.08067967144788524, 0.07960583378521108, 0.07872772765228164, 0.07674760451886291, 0.07715723935804648, 0.07859465707376892, 0.07822105884261472, 0.07990342867273831, 0.07656027772431939, 0.07733700997080294]\n",
      "Mean: 0.07835345090465316\n",
      "Std: 0.001336273701021566\n"
     ]
    }
   ],
   "source": [
    "# lgbm_cross_validation(X4, y4, None)\n",
    "lgbm_scaled_cross_validation(X4, y4, None)"
   ]
  },
  {
   "cell_type": "code",
   "execution_count": 96,
   "id": "4331771a-6b74-4af0-9861-599192713f9c",
   "metadata": {
    "collapsed": true,
    "jupyter": {
     "outputs_hidden": true
    },
    "tags": []
   },
   "outputs": [
    {
     "name": "stderr",
     "output_type": "stream",
     "text": [
      "\u001b[32m[I 2021-09-07 11:19:06,603]\u001b[0m A new study created in memory with name: no-name-162367fd-e48a-432b-a703-e10196a4b6be\u001b[0m\n",
      "<ipython-input-96-7eac72bf6b5c>:24: ExperimentalWarning: enqueue_trial is experimental (supported from v1.2.0). The interface can change in the future.\n",
      "  study.enqueue_trial(try_these_first[0])\n",
      "C:\\Users\\J0528925\\Anaconda3\\envs\\datachallenge\\lib\\site-packages\\optuna\\study\\study.py:857: ExperimentalWarning: create_trial is experimental (supported from v2.0.0). The interface can change in the future.\n",
      "  create_trial(state=TrialState.WAITING, system_attrs={\"fixed_params\": params})\n",
      "C:\\Users\\J0528925\\Anaconda3\\envs\\datachallenge\\lib\\site-packages\\optuna\\study\\study.py:856: ExperimentalWarning: add_trial is experimental (supported from v2.0.0). The interface can change in the future.\n",
      "  self.add_trial(\n",
      "<ipython-input-96-7eac72bf6b5c>:25: ExperimentalWarning: enqueue_trial is experimental (supported from v1.2.0). The interface can change in the future.\n",
      "  study.enqueue_trial(try_these_first[1])\n"
     ]
    }
   ],
   "source": [
    "try_these_first = [{\n",
    "    'reg_alpha': 0.08714703614419553,\n",
    "    'reg_lambda': 9.983645262139024,\n",
    "    'colsample_bytree': 0.9,\n",
    "    'subsample': 0.8,\n",
    "    'learning_rate': 0.13413154768816146,\n",
    "    'max_depth': 41,\n",
    "    'num_leaves': 613,\n",
    "    'min_child_samples': 15,\n",
    "    'min_data_per_groups': 29\n",
    "},  {\n",
    "    'reg_alpha': 0.15331128149569725,\n",
    "    'reg_lambda': 0.28560184971009756,\n",
    "    'colsample_bytree': 0.7,\n",
    "    'subsample': 0.5,\n",
    "    'learning_rate': 0.11430869527789024,\n",
    "    'max_depth': 24,\n",
    "    'num_leaves': 856,\n",
    "    'min_child_samples': 14,\n",
    "    'min_data_per_groups': 33\n",
    "}]\n",
    "\n",
    "study = optuna.create_study(direction='minimize')\n",
    "study.enqueue_trial(try_these_first[0])\n",
    "study.enqueue_trial(try_these_first[1])"
   ]
  },
  {
   "cell_type": "code",
   "execution_count": 97,
   "id": "713019ee-cf12-4fa6-8971-7a09d0aa227a",
   "metadata": {
    "collapsed": true,
    "jupyter": {
     "outputs_hidden": true
    },
    "tags": []
   },
   "outputs": [
    {
     "name": "stderr",
     "output_type": "stream",
     "text": [
      "\u001b[32m[I 2021-09-07 11:19:15,786]\u001b[0m Trial 0 finished with value: 0.06422184601752864 and parameters: {'reg_alpha': 0.08714703614419553, 'reg_lambda': 9.983645262139024, 'colsample_bytree': 0.9, 'subsample': 0.8, 'learning_rate': 0.13413154768816146, 'max_depth': 41, 'num_leaves': 613, 'min_child_samples': 15}. Best is trial 0 with value: 0.06422184601752864.\u001b[0m\n",
      "\u001b[32m[I 2021-09-07 11:19:21,843]\u001b[0m Trial 1 finished with value: 0.06519212725219317 and parameters: {'reg_alpha': 0.15331128149569725, 'reg_lambda': 0.28560184971009756, 'colsample_bytree': 0.7, 'subsample': 0.5, 'learning_rate': 0.11430869527789024, 'max_depth': 24, 'num_leaves': 856, 'min_child_samples': 14}. Best is trial 0 with value: 0.06422184601752864.\u001b[0m\n",
      "\u001b[32m[I 2021-09-07 11:19:22,337]\u001b[0m Trial 2 finished with value: 0.13619985008349192 and parameters: {'reg_alpha': 8.181665894479984, 'reg_lambda': 0.29305648023034275, 'colsample_bytree': 0.4, 'subsample': 0.4, 'learning_rate': 0.03012063115122468, 'max_depth': 65, 'num_leaves': 136, 'min_child_samples': 293}. Best is trial 0 with value: 0.06422184601752864.\u001b[0m\n",
      "\u001b[32m[I 2021-09-07 11:19:23,084]\u001b[0m Trial 3 finished with value: 0.14829060043770223 and parameters: {'reg_alpha': 0.798287072818794, 'reg_lambda': 0.017770610687466076, 'colsample_bytree': 0.7, 'subsample': 0.4, 'learning_rate': 0.014917486257484024, 'max_depth': 71, 'num_leaves': 627, 'min_child_samples': 289}. Best is trial 0 with value: 0.06422184601752864.\u001b[0m\n",
      "\u001b[32m[I 2021-09-07 11:19:26,142]\u001b[0m Trial 4 finished with value: 0.07522763726214195 and parameters: {'reg_alpha': 0.7568897325029255, 'reg_lambda': 0.028598740118809286, 'colsample_bytree': 0.5, 'subsample': 0.8, 'learning_rate': 0.05886728596368888, 'max_depth': 53, 'num_leaves': 634, 'min_child_samples': 14}. Best is trial 0 with value: 0.06422184601752864.\u001b[0m\n",
      "\u001b[32m[I 2021-09-07 11:19:27,304]\u001b[0m Trial 5 finished with value: 0.2059108437278569 and parameters: {'reg_alpha': 1.2982026085297833, 'reg_lambda': 3.105066056070709, 'colsample_bytree': 1.0, 'subsample': 0.6, 'learning_rate': 0.0051965733865649, 'max_depth': 75, 'num_leaves': 615, 'min_child_samples': 123}. Best is trial 0 with value: 0.06422184601752864.\u001b[0m\n",
      "\u001b[32m[I 2021-09-07 11:19:28,902]\u001b[0m Trial 6 finished with value: 0.12741721435628428 and parameters: {'reg_alpha': 0.26554527290986685, 'reg_lambda': 3.4469936913678034, 'colsample_bytree': 0.3, 'subsample': 0.6, 'learning_rate': 0.018328718029184402, 'max_depth': 38, 'num_leaves': 652, 'min_child_samples': 59}. Best is trial 0 with value: 0.06422184601752864.\u001b[0m\n",
      "\u001b[32m[I 2021-09-07 11:19:30,233]\u001b[0m Trial 7 finished with value: 0.07430554752530404 and parameters: {'reg_alpha': 1.7036036655208053, 'reg_lambda': 6.748099147534785, 'colsample_bytree': 0.8, 'subsample': 0.5, 'learning_rate': 0.27201686532134267, 'max_depth': 53, 'num_leaves': 411, 'min_child_samples': 140}. Best is trial 0 with value: 0.06422184601752864.\u001b[0m\n",
      "\u001b[32m[I 2021-09-07 11:19:31,449]\u001b[0m Trial 8 finished with value: 0.09136992178608735 and parameters: {'reg_alpha': 0.17684533876268943, 'reg_lambda': 3.5775326518350106, 'colsample_bytree': 0.3, 'subsample': 0.5, 'learning_rate': 0.0607862484779122, 'max_depth': 72, 'num_leaves': 941, 'min_child_samples': 116}. Best is trial 0 with value: 0.06422184601752864.\u001b[0m\n",
      "\u001b[32m[I 2021-09-07 11:19:32,155]\u001b[0m Trial 9 finished with value: 0.2625539184530013 and parameters: {'reg_alpha': 0.5586932836959029, 'reg_lambda': 2.7092982324474773, 'colsample_bytree': 0.4, 'subsample': 0.8, 'learning_rate': 0.001553184997850762, 'max_depth': 76, 'num_leaves': 100, 'min_child_samples': 118}. Best is trial 0 with value: 0.06422184601752864.\u001b[0m\n",
      "\u001b[32m[I 2021-09-07 11:19:33,376]\u001b[0m Trial 10 finished with value: 0.0737961368285224 and parameters: {'reg_alpha': 0.00679539900965595, 'reg_lambda': 0.002010983806399118, 'colsample_bytree': 0.9, 'subsample': 1.0, 'learning_rate': 0.2826615665522039, 'max_depth': 94, 'num_leaves': 320, 'min_child_samples': 218}. Best is trial 0 with value: 0.06422184601752864.\u001b[0m\n",
      "\u001b[32m[I 2021-09-07 11:19:40,420]\u001b[0m Trial 11 finished with value: 0.0655650778547847 and parameters: {'reg_alpha': 0.011261840748830418, 'reg_lambda': 0.35567861475705365, 'colsample_bytree': 0.6, 'subsample': 0.7, 'learning_rate': 0.10941138386801036, 'max_depth': 23, 'num_leaves': 924, 'min_child_samples': 2}. Best is trial 0 with value: 0.06422184601752864.\u001b[0m\n",
      "\u001b[32m[I 2021-09-07 11:19:42,653]\u001b[0m Trial 12 finished with value: 0.06935206402028612 and parameters: {'reg_alpha': 0.03683777334632243, 'reg_lambda': 0.5086437568929352, 'colsample_bytree': 0.7, 'subsample': 0.8, 'learning_rate': 0.12325569838838021, 'max_depth': 22, 'num_leaves': 786, 'min_child_samples': 60}. Best is trial 0 with value: 0.06422184601752864.\u001b[0m\n",
      "\u001b[32m[I 2021-09-07 11:19:45,825]\u001b[0m Trial 13 finished with value: 0.0683778456910853 and parameters: {'reg_alpha': 0.0010439672578787594, 'reg_lambda': 0.07939835052023528, 'colsample_bytree': 0.9, 'subsample': 0.5, 'learning_rate': 0.11899749638632319, 'max_depth': 36, 'num_leaves': 797, 'min_child_samples': 61}. Best is trial 0 with value: 0.06422184601752864.\u001b[0m\n",
      "\u001b[32m[I 2021-09-07 11:19:46,951]\u001b[0m Trial 14 finished with value: 0.19319256647886748 and parameters: {'reg_alpha': 0.0460277917045024, 'reg_lambda': 0.0023014691570331447, 'colsample_bytree': 0.7, 'subsample': 1.0, 'learning_rate': 0.006642635298811219, 'max_depth': 37, 'num_leaves': 800, 'min_child_samples': 207}. Best is trial 0 with value: 0.06422184601752864.\u001b[0m\n",
      "\u001b[32m[I 2021-09-07 11:19:50,150]\u001b[0m Trial 15 finished with value: 0.08139255612842083 and parameters: {'reg_alpha': 0.07904312103620055, 'reg_lambda': 0.9927392144704257, 'colsample_bytree': 0.9, 'subsample': 0.7, 'learning_rate': 0.045680896613514044, 'max_depth': 45, 'num_leaves': 436, 'min_child_samples': 37}. Best is trial 0 with value: 0.06422184601752864.\u001b[0m\n",
      "\u001b[32m[I 2021-09-07 11:19:52,186]\u001b[0m Trial 16 finished with value: 0.06818571949857244 and parameters: {'reg_alpha': 0.01751097538581544, 'reg_lambda': 0.09126262797999717, 'colsample_bytree': 0.6, 'subsample': 0.8, 'learning_rate': 0.1613692914436318, 'max_depth': 28, 'num_leaves': 983, 'min_child_samples': 78}. Best is trial 0 with value: 0.06422184601752864.\u001b[0m\n",
      "\u001b[32m[I 2021-09-07 11:19:53,397]\u001b[0m Trial 17 finished with value: 0.1187973324303022 and parameters: {'reg_alpha': 0.003913737170022205, 'reg_lambda': 0.007302090526859978, 'colsample_bytree': 0.8, 'subsample': 0.5, 'learning_rate': 0.026882182878053468, 'max_depth': 30, 'num_leaves': 523, 'min_child_samples': 203}. Best is trial 0 with value: 0.06422184601752864.\u001b[0m\n",
      "\u001b[32m[I 2021-09-07 11:19:55,490]\u001b[0m Trial 18 finished with value: 0.08713722439394525 and parameters: {'reg_alpha': 3.5922073233504506, 'reg_lambda': 9.064644385700248, 'colsample_bytree': 1.0, 'subsample': 0.8, 'learning_rate': 0.07549180539088819, 'max_depth': 49, 'num_leaves': 747, 'min_child_samples': 29}. Best is trial 0 with value: 0.06422184601752864.\u001b[0m\n",
      "\u001b[32m[I 2021-09-07 11:19:56,404]\u001b[0m Trial 19 finished with value: 0.17846137204957355 and parameters: {'reg_alpha': 0.21192962097254728, 'reg_lambda': 0.16635089334863234, 'colsample_bytree': 0.5, 'subsample': 0.5, 'learning_rate': 0.00863749548382134, 'max_depth': 45, 'num_leaves': 221, 'min_child_samples': 168}. Best is trial 0 with value: 0.06422184601752864.\u001b[0m\n",
      "\u001b[32m[I 2021-09-07 11:19:56,708]\u001b[0m Trial 20 finished with value: 0.24998144378401407 and parameters: {'reg_alpha': 0.05648419720010793, 'reg_lambda': 0.8862631179874749, 'colsample_bytree': 0.7, 'subsample': 0.4, 'learning_rate': 0.0029165398114757647, 'max_depth': 98, 'num_leaves': 5, 'min_child_samples': 86}. Best is trial 0 with value: 0.06422184601752864.\u001b[0m\n",
      "\u001b[32m[I 2021-09-07 11:20:01,951]\u001b[0m Trial 21 finished with value: 0.0672110586882401 and parameters: {'reg_alpha': 0.011202207490983189, 'reg_lambda': 0.04492760814248039, 'colsample_bytree': 0.6, 'subsample': 0.7, 'learning_rate': 0.16177502734391974, 'max_depth': 20, 'num_leaves': 904, 'min_child_samples': 5}. Best is trial 0 with value: 0.06422184601752864.\u001b[0m\n",
      "\u001b[32m[I 2021-09-07 11:20:09,283]\u001b[0m Trial 22 finished with value: 0.06524779101251102 and parameters: {'reg_alpha': 0.0029535293616638637, 'reg_lambda': 1.1626765323392316, 'colsample_bytree': 0.6, 'subsample': 0.7, 'learning_rate': 0.10934357581207656, 'max_depth': 29, 'num_leaves': 878, 'min_child_samples': 1}. Best is trial 0 with value: 0.06422184601752864.\u001b[0m\n",
      "\u001b[32m[I 2021-09-07 11:20:14,115]\u001b[0m Trial 23 finished with value: 0.08026107721554888 and parameters: {'reg_alpha': 0.0011324691212325618, 'reg_lambda': 1.079414020584362, 'colsample_bytree': 0.9, 'subsample': 0.7, 'learning_rate': 0.03921254825477849, 'max_depth': 30, 'num_leaves': 866, 'min_child_samples': 34}. Best is trial 0 with value: 0.06422184601752864.\u001b[0m\n",
      "\u001b[32m[I 2021-09-07 11:20:15,775]\u001b[0m Trial 24 finished with value: 0.06908432797150052 and parameters: {'reg_alpha': 0.0035533277198488986, 'reg_lambda': 1.257857610995162, 'colsample_bytree': 0.6, 'subsample': 0.7, 'learning_rate': 0.19794800659095105, 'max_depth': 40, 'num_leaves': 727, 'min_child_samples': 95}. Best is trial 0 with value: 0.06422184601752864.\u001b[0m\n",
      "\u001b[32m[I 2021-09-07 11:20:19,131]\u001b[0m Trial 25 finished with value: 0.06952747527095131 and parameters: {'reg_alpha': 0.026274583305091668, 'reg_lambda': 0.22086652819648417, 'colsample_bytree': 0.9, 'subsample': 1.0, 'learning_rate': 0.0869145968986798, 'max_depth': 28, 'num_leaves': 535, 'min_child_samples': 41}. Best is trial 0 with value: 0.06422184601752864.\u001b[0m\n",
      "\u001b[32m[I 2021-09-07 11:20:23,376]\u001b[0m Trial 26 finished with value: 0.06659596040924463 and parameters: {'reg_alpha': 0.11783422240352102, 'reg_lambda': 1.5372528436753756, 'colsample_bytree': 0.7, 'subsample': 0.6, 'learning_rate': 0.08549296785694063, 'max_depth': 34, 'num_leaves': 850, 'min_child_samples': 23}. Best is trial 0 with value: 0.06422184601752864.\u001b[0m\n",
      "\u001b[32m[I 2021-09-07 11:20:25,632]\u001b[0m Trial 27 finished with value: 0.06686924218496021 and parameters: {'reg_alpha': 0.32315364965595905, 'reg_lambda': 0.5961288338244264, 'colsample_bytree': 0.6, 'subsample': 0.5, 'learning_rate': 0.22908539976159273, 'max_depth': 59, 'num_leaves': 699, 'min_child_samples': 60}. Best is trial 0 with value: 0.06422184601752864.\u001b[0m\n",
      "\u001b[32m[I 2021-09-07 11:20:31,181]\u001b[0m Trial 28 finished with value: 0.11402570709495241 and parameters: {'reg_alpha': 0.02275127454167173, 'reg_lambda': 6.324784547039846, 'colsample_bytree': 0.4, 'subsample': 0.8, 'learning_rate': 0.01693304265131976, 'max_depth': 85, 'num_leaves': 994, 'min_child_samples': 2}. Best is trial 0 with value: 0.06422184601752864.\u001b[0m\n",
      "\u001b[32m[I 2021-09-07 11:20:32,034]\u001b[0m Trial 29 finished with value: 0.1255750370883375 and parameters: {'reg_alpha': 3.738534690705303, 'reg_lambda': 0.1488784444164332, 'colsample_bytree': 1.0, 'subsample': 0.4, 'learning_rate': 0.03142198196245723, 'max_depth': 61, 'num_leaves': 839, 'min_child_samples': 273}. Best is trial 0 with value: 0.06422184601752864.\u001b[0m\n",
      "\u001b[32m[I 2021-09-07 11:20:33,238]\u001b[0m Trial 30 finished with value: 0.09872436609613247 and parameters: {'reg_alpha': 0.0020855364706487967, 'reg_lambda': 0.382842694757615, 'colsample_bytree': 0.5, 'subsample': 0.7, 'learning_rate': 0.049730259116455906, 'max_depth': 42, 'num_leaves': 567, 'min_child_samples': 167}. Best is trial 0 with value: 0.06422184601752864.\u001b[0m\n",
      "\u001b[32m[I 2021-09-07 11:20:40,440]\u001b[0m Trial 31 finished with value: 0.06522892509927247 and parameters: {'reg_alpha': 0.011495096509650898, 'reg_lambda': 0.30717872162713833, 'colsample_bytree': 0.6, 'subsample': 0.7, 'learning_rate': 0.12176377489342995, 'max_depth': 24, 'num_leaves': 917, 'min_child_samples': 2}. Best is trial 0 with value: 0.06422184601752864.\u001b[0m\n",
      "\u001b[32m[I 2021-09-07 11:20:44,731]\u001b[0m Trial 32 finished with value: 0.06669210828579536 and parameters: {'reg_alpha': 0.004736106678299603, 'reg_lambda': 1.810513735412424, 'colsample_bytree': 0.6, 'subsample': 0.7, 'learning_rate': 0.15928277472340013, 'max_depth': 25, 'num_leaves': 899, 'min_child_samples': 22}. Best is trial 0 with value: 0.06422184601752864.\u001b[0m\n",
      "\u001b[32m[I 2021-09-07 11:20:47,808]\u001b[0m Trial 33 finished with value: 0.0662188247147274 and parameters: {'reg_alpha': 0.11588383183707524, 'reg_lambda': 0.05579618338735563, 'colsample_bytree': 0.6, 'subsample': 0.7, 'learning_rate': 0.1046299095272272, 'max_depth': 32, 'num_leaves': 679, 'min_child_samples': 37}. Best is trial 0 with value: 0.06422184601752864.\u001b[0m\n",
      "\u001b[32m[I 2021-09-07 11:20:53,082]\u001b[0m Trial 34 finished with value: 0.0670811631620915 and parameters: {'reg_alpha': 0.010018539275627352, 'reg_lambda': 0.013455542210393209, 'colsample_bytree': 0.7, 'subsample': 0.7, 'learning_rate': 0.06687205689435373, 'max_depth': 26, 'num_leaves': 763, 'min_child_samples': 17}. Best is trial 0 with value: 0.06422184601752864.\u001b[0m\n",
      "\u001b[32m[I 2021-09-07 11:20:54,920]\u001b[0m Trial 35 finished with value: 0.10268644555804529 and parameters: {'reg_alpha': 0.06507403907516411, 'reg_lambda': 0.29444378079662886, 'colsample_bytree': 0.3, 'subsample': 0.4, 'learning_rate': 0.02733587045257661, 'max_depth': 33, 'num_leaves': 453, 'min_child_samples': 51}. Best is trial 0 with value: 0.06422184601752864.\u001b[0m\n",
      "\u001b[32m[I 2021-09-07 11:20:56,898]\u001b[0m Trial 36 finished with value: 0.06845710981898473 and parameters: {'reg_alpha': 0.0018444413063110076, 'reg_lambda': 0.6791409836223516, 'colsample_bytree': 0.8, 'subsample': 0.6, 'learning_rate': 0.17970819434840832, 'max_depth': 20, 'num_leaves': 597, 'min_child_samples': 75}. Best is trial 0 with value: 0.06422184601752864.\u001b[0m\n",
      "\u001b[32m[I 2021-09-07 11:21:02,443]\u001b[0m Trial 37 finished with value: 0.06968076686828108 and parameters: {'reg_alpha': 0.436557291289945, 'reg_lambda': 4.643719454476056, 'colsample_bytree': 0.6, 'subsample': 0.8, 'learning_rate': 0.2961301236058523, 'max_depth': 52, 'num_leaves': 962, 'min_child_samples': 1}. Best is trial 0 with value: 0.06422184601752864.\u001b[0m\n",
      "\u001b[32m[I 2021-09-07 11:21:04,781]\u001b[0m Trial 38 finished with value: 0.0842557937030391 and parameters: {'reg_alpha': 0.006563730944706833, 'reg_lambda': 2.5018857695117362, 'colsample_bytree': 0.9, 'subsample': 0.5, 'learning_rate': 0.057590711970326836, 'max_depth': 43, 'num_leaves': 311, 'min_child_samples': 96}. Best is trial 0 with value: 0.06422184601752864.\u001b[0m\n",
      "\u001b[32m[I 2021-09-07 11:21:07,616]\u001b[0m Trial 39 finished with value: 0.06940458790564973 and parameters: {'reg_alpha': 0.8629973118649341, 'reg_lambda': 0.13579817919817108, 'colsample_bytree': 0.4, 'subsample': 0.7, 'learning_rate': 0.1240174693222515, 'max_depth': 24, 'num_leaves': 847, 'min_child_samples': 16}. Best is trial 0 with value: 0.06422184601752864.\u001b[0m\n",
      "\u001b[32m[I 2021-09-07 11:21:09,823]\u001b[0m Trial 40 finished with value: 0.15897172086990866 and parameters: {'reg_alpha': 0.0026814900739778463, 'reg_lambda': 0.03232005615617401, 'colsample_bytree': 0.3, 'subsample': 0.8, 'learning_rate': 0.0102204500112302, 'max_depth': 37, 'num_leaves': 636, 'min_child_samples': 46}. Best is trial 0 with value: 0.06422184601752864.\u001b[0m\n",
      "\u001b[32m[I 2021-09-07 11:21:15,391]\u001b[0m Trial 41 finished with value: 0.06476878917686242 and parameters: {'reg_alpha': 0.012743722895987237, 'reg_lambda': 0.3538741615282318, 'colsample_bytree': 0.6, 'subsample': 0.7, 'learning_rate': 0.101361164553026, 'max_depth': 25, 'num_leaves': 909, 'min_child_samples': 11}. Best is trial 0 with value: 0.06422184601752864.\u001b[0m\n",
      "\u001b[32m[I 2021-09-07 11:21:20,228]\u001b[0m Trial 42 finished with value: 0.06554812938459227 and parameters: {'reg_alpha': 0.015957213391235785, 'reg_lambda': 0.24451970229332162, 'colsample_bytree': 0.6, 'subsample': 0.7, 'learning_rate': 0.08959238740149189, 'max_depth': 28, 'num_leaves': 912, 'min_child_samples': 22}. Best is trial 0 with value: 0.06422184601752864.\u001b[0m\n",
      "\u001b[32m[I 2021-09-07 11:21:24,835]\u001b[0m Trial 43 finished with value: 0.06561776708553717 and parameters: {'reg_alpha': 0.03218133571614565, 'reg_lambda': 0.4484438201998569, 'colsample_bytree': 0.6, 'subsample': 0.7, 'learning_rate': 0.13816793928696164, 'max_depth': 24, 'num_leaves': 821, 'min_child_samples': 18}. Best is trial 0 with value: 0.06422184601752864.\u001b[0m\n",
      "\u001b[32m[I 2021-09-07 11:21:30,362]\u001b[0m Trial 44 finished with value: 0.06620676249926151 and parameters: {'reg_alpha': 0.007285010281916586, 'reg_lambda': 2.0436481463983487, 'colsample_bytree': 0.6, 'subsample': 1.0, 'learning_rate': 0.06685048115594378, 'max_depth': 33, 'num_leaves': 950, 'min_child_samples': 12}. Best is trial 0 with value: 0.06422184601752864.\u001b[0m\n",
      "\u001b[32m[I 2021-09-07 11:21:33,050]\u001b[0m Trial 45 finished with value: 0.06610138549285947 and parameters: {'reg_alpha': 0.17149950375925846, 'reg_lambda': 4.479586282906425, 'colsample_bytree': 0.7, 'subsample': 0.7, 'learning_rate': 0.21765979238349623, 'max_depth': 20, 'num_leaves': 999, 'min_child_samples': 49}. Best is trial 0 with value: 0.06422184601752864.\u001b[0m\n",
      "\u001b[32m[I 2021-09-07 11:21:34,955]\u001b[0m Trial 46 finished with value: 0.26668316826721833 and parameters: {'reg_alpha': 0.01567720548747145, 'reg_lambda': 0.7708413973674731, 'colsample_bytree': 0.5, 'subsample': 0.6, 'learning_rate': 0.001131926370167499, 'max_depth': 39, 'num_leaves': 872, 'min_child_samples': 70}. Best is trial 0 with value: 0.06422184601752864.\u001b[0m\n",
      "\u001b[32m[I 2021-09-07 11:21:35,854]\u001b[0m Trial 47 finished with value: 0.09141718746761072 and parameters: {'reg_alpha': 0.09140573771219897, 'reg_lambda': 0.10534237583924033, 'colsample_bytree': 0.6, 'subsample': 0.5, 'learning_rate': 0.09594724238021837, 'max_depth': 48, 'num_leaves': 710, 'min_child_samples': 251}. Best is trial 0 with value: 0.06422184601752864.\u001b[0m\n",
      "\u001b[32m[I 2021-09-07 11:21:37,732]\u001b[0m Trial 48 finished with value: 0.10297261301570293 and parameters: {'reg_alpha': 0.04572881664551733, 'reg_lambda': 0.21197781732243004, 'colsample_bytree': 1.0, 'subsample': 0.8, 'learning_rate': 0.03704672654806357, 'max_depth': 29, 'num_leaves': 775, 'min_child_samples': 134}. Best is trial 0 with value: 0.06422184601752864.\u001b[0m\n",
      "\u001b[32m[I 2021-09-07 11:21:42,320]\u001b[0m Trial 49 finished with value: 0.06615006195136452 and parameters: {'reg_alpha': 0.005880087196442182, 'reg_lambda': 9.167391617754362, 'colsample_bytree': 0.9, 'subsample': 0.7, 'learning_rate': 0.22440959721730563, 'max_depth': 26, 'num_leaves': 945, 'min_child_samples': 31}. Best is trial 0 with value: 0.06422184601752864.\u001b[0m\n"
     ]
    },
    {
     "data": {
      "text/plain": [
       "{'reg_alpha': 0.08714703614419553,\n",
       " 'reg_lambda': 9.983645262139024,\n",
       " 'colsample_bytree': 0.9,\n",
       " 'subsample': 0.8,\n",
       " 'learning_rate': 0.13413154768816146,\n",
       " 'max_depth': 41,\n",
       " 'num_leaves': 613,\n",
       " 'min_child_samples': 15}"
      ]
     },
     "execution_count": 97,
     "metadata": {},
     "output_type": "execute_result"
    }
   ],
   "source": [
    "# study = optuna.create_study(direction='minimize')\n",
    "study.optimize(objective_wp4, n_trials=50)\n",
    "# write_results('Data/Hyperparametrization/scaled_lgbm_50trials.xlsx', 'wp4', study.trials_dataframe())\n",
    "best_trial = study.best_trial.params\n",
    "best_trial"
   ]
  },
  {
   "cell_type": "code",
   "execution_count": 117,
   "id": "fc00a25c-08c8-4cbe-9373-bcf6ad6b429a",
   "metadata": {
    "tags": []
   },
   "outputs": [],
   "source": [
    "# 100\n",
    "# params_4 = {\n",
    "#     'reg_alpha': 0.08714703614419553,\n",
    "#     'reg_lambda': 9.983645262139024,\n",
    "#     'colsample_bytree': 0.9,\n",
    "#     'subsample': 0.8,\n",
    "#     'learning_rate': 0.13413154768816146,\n",
    "#     'max_depth': 41,\n",
    "#     'num_leaves': 613,\n",
    "#     'min_child_samples': 15,\n",
    "# }\n",
    "\n",
    "# {\n",
    "#     'reg_alpha': 0.15331128149569725,\n",
    "#     'reg_lambda': 0.28560184971009756,\n",
    "#     'colsample_bytree': 0.7,\n",
    "#     'subsample': 0.5,\n",
    "#     'learning_rate': 0.11430869527789024,\n",
    "#     'max_depth': 24,\n",
    "#     'num_leaves': 856,\n",
    "#     'min_child_samples': 14,\n",
    "# }\n",
    "\n",
    "\n",
    "# robust scaler with warm start\n",
    "params_4 = {\n",
    "    'reg_alpha': 0.08714703614419553,\n",
    "    'reg_lambda': 9.983645262139024,\n",
    "    'colsample_bytree': 0.9,\n",
    "    'subsample': 0.8,\n",
    "    'learning_rate': 0.13413154768816146,\n",
    "    'max_depth': 41,\n",
    "    'num_leaves': 613,\n",
    "    'min_child_samples': 15\n",
    "}"
   ]
  },
  {
   "cell_type": "code",
   "execution_count": 99,
   "id": "731ce6d4-2612-45d6-8e37-89e2c27e9be1",
   "metadata": {
    "tags": []
   },
   "outputs": [
    {
     "name": "stdout",
     "output_type": "stream",
     "text": [
      "-----------LGBM CROSS VALIDATION BEGINNING-----------\n",
      "RMSE score: 0.06132943722936564\n",
      "MAE score: 0.04104272073751141\n",
      "None\n",
      "-------------------FOLD 1-----------------\n",
      "RMSE score: 0.0651100416043352\n",
      "MAE score: 0.04247006738347042\n",
      "None\n",
      "-------------------FOLD 2-----------------\n",
      "RMSE score: 0.06259852024703741\n",
      "MAE score: 0.04101797797592181\n",
      "None\n",
      "-------------------FOLD 3-----------------\n",
      "RMSE score: 0.06252702036247586\n",
      "MAE score: 0.04111022663571434\n",
      "None\n",
      "-------------------FOLD 4-----------------\n",
      "RMSE score: 0.0631443393718535\n",
      "MAE score: 0.04147863284954414\n",
      "None\n",
      "-------------------FOLD 5-----------------\n",
      "RMSE score: 0.06375804692090321\n",
      "MAE score: 0.041918650791172664\n",
      "None\n",
      "-------------------FOLD 6-----------------\n",
      "RMSE score: 0.0630222172074326\n",
      "MAE score: 0.04163907681643609\n",
      "None\n",
      "-------------------FOLD 7-----------------\n",
      "RMSE score: 0.0635700455540836\n",
      "MAE score: 0.04182726662870645\n",
      "None\n",
      "-------------------FOLD 8-----------------\n",
      "RMSE score: 0.06445521501400622\n",
      "MAE score: 0.043017511743637854\n",
      "None\n",
      "-------------------FOLD 9-----------------\n",
      "RMSE score: 0.06280923233021199\n",
      "MAE score: 0.04152071912167268\n",
      "None\n",
      "-------------------FOLD 10-----------------\n",
      "---------------CROSS VALIDATION COMPLETE-------------\n",
      "--------------------------RMSE-----------------------\n",
      "Scores: [0.06132943722936564, 0.0651100416043352, 0.06259852024703741, 0.06252702036247586, 0.0631443393718535, 0.06375804692090321, 0.0630222172074326, 0.0635700455540836, 0.06445521501400622, 0.06280923233021199]\n",
      "Mean: 0.0632324115841705\n",
      "Std: 0.0010081050240456021\n",
      "--------------------------MAE------------------------\n",
      "Scores: [0.04104272073751141, 0.04247006738347042, 0.04101797797592181, 0.04111022663571434, 0.04147863284954414, 0.041918650791172664, 0.04163907681643609, 0.04182726662870645, 0.043017511743637854, 0.04152071912167268]\n",
      "Mean: 0.04170428506837879\n",
      "Std: 0.0006101247158768171\n"
     ]
    }
   ],
   "source": [
    "# lgbm_cross_validation(X4, y4, params_4)\n",
    "lgbm_scaled_cross_validation(X4, y4, params_4)"
   ]
  },
  {
   "cell_type": "markdown",
   "id": "640e4455-cfc5-493a-b3e6-95b608171368",
   "metadata": {},
   "source": [
    "## WP5"
   ]
  },
  {
   "cell_type": "markdown",
   "id": "57cd823c-ff5c-41ba-9e0e-8b8d75cf2c65",
   "metadata": {},
   "source": [
    "| |  | Mean | Std |\n",
    "| --- | --- | --- | --- |\n",
    "| No params | RMSE | 0.11722129743692011 | 0.0017732599261516583 |\n",
    "| No params - Std | RMSE | 0.11729790317307003 | 0.0014884067903823003 |\n",
    "| After tuning - 50trials| RMSE | 0.07721413638593042 | 0.0011020420293213135 |\n",
    "| After tuning - 100trials| RMSE | 0.07297648991888442 | 0.0014970317509404526 |\n",
    "| After tuning - 100trials - warm start | RMSE | 0.07362803793800192 | 0.0013223501622953715 |\n",
    "| After tuning 50trials - std - warm start | RMSE | 0.07379631452164911 | 0.0019249511778190373 |\n",
    "| After tuning 50trials W.S - RobustScaler | RMSE | 0.07295312559507504 | 0.0017094978756410563 |\n",
    "| --- | --- | --- | --- |\n",
    "| No params | MAE | 0.08497074568090211 | 0.0009101526501392155 |\n",
    "| No params - Std | MAE | 0.0849648687365363 | 0.0011901882563545429 |\n",
    "| After tuning - 50trials| MAE | 0.051677856581467195 | 0.0006374939894477714 |\n",
    "| After tuning - 100trials| MAE | 0.04765271414503236 | 0.0006257356756510128 |\n",
    "| After tuning - 100trials - warm trials | MAE | 0.04785179154681675 | 0.0005795839605605526 |\n",
    "| After tuning 50trials - std - warm start | MAE | 0.0480147138609328 | 0.0008230908433814974 |\n",
    "| After tuning 50trials W.S - RobustScaler | MAE | 0.04783683731205745 | 0.0007485320718195094 |"
   ]
  },
  {
   "cell_type": "code",
   "execution_count": 67,
   "id": "44f38883-24ef-46f1-bc0b-1070f4e36d2f",
   "metadata": {},
   "outputs": [],
   "source": [
    "wp5_X = train_wp5[[c for c in train_wp5 if c not in [\"wp\"]] + [\"wp\"]].drop(to_drop, axis = 1)\n",
    "X5 = wp5_X.drop('wp', axis = 1)\n",
    "y5 = wp5_X['wp']\n",
    "\n",
    "def objective_wp5(trial, data = X5,target = y5):\n",
    "    train_x, test_x, train_y, test_y = train_test_split(data, target, test_size=0.15,random_state=42)\n",
    "    return hyperparametrization(trial, train_x, test_x, train_y, test_y)"
   ]
  },
  {
   "cell_type": "code",
   "execution_count": 68,
   "id": "c4ece078-3e34-4754-b23c-1ba712563b3e",
   "metadata": {
    "collapsed": true,
    "jupyter": {
     "outputs_hidden": true
    },
    "tags": []
   },
   "outputs": [
    {
     "name": "stdout",
     "output_type": "stream",
     "text": [
      "-----------LGBM CROSS VALIDATION BEGINNING-----------\n",
      "RMSE score: 0.12160449868539627\n",
      "MAE score: 0.08798263988907014\n",
      "None\n",
      "-------------------FOLD 1-----------------\n",
      "RMSE score: 0.12242553521341798\n",
      "MAE score: 0.0889302913568743\n",
      "None\n",
      "-------------------FOLD 2-----------------\n",
      "RMSE score: 0.1229999294538851\n",
      "MAE score: 0.08888647888357365\n",
      "None\n",
      "-------------------FOLD 3-----------------\n",
      "RMSE score: 0.12045816733281568\n",
      "MAE score: 0.08782639945492014\n",
      "None\n",
      "-------------------FOLD 4-----------------\n",
      "RMSE score: 0.1204457747415774\n",
      "MAE score: 0.0870096976234127\n",
      "None\n",
      "-------------------FOLD 5-----------------\n",
      "RMSE score: 0.11799889097696373\n",
      "MAE score: 0.08542675864744775\n",
      "None\n",
      "-------------------FOLD 6-----------------\n",
      "RMSE score: 0.12409313595923488\n",
      "MAE score: 0.08930081757228697\n",
      "None\n",
      "-------------------FOLD 7-----------------\n",
      "RMSE score: 0.11941588632662829\n",
      "MAE score: 0.08651072866434162\n",
      "None\n",
      "-------------------FOLD 8-----------------\n",
      "RMSE score: 0.12246390650104498\n",
      "MAE score: 0.08776810002970215\n",
      "None\n",
      "-------------------FOLD 9-----------------\n",
      "RMSE score: 0.12242358955159113\n",
      "MAE score: 0.08940928083459913\n",
      "None\n",
      "-------------------FOLD 10-----------------\n",
      "---------------CROSS VALIDATION COMPLETE-------------\n",
      "--------------------------RMSE-----------------------\n",
      "Scores: [0.12160449868539627, 0.12242553521341798, 0.1229999294538851, 0.12045816733281568, 0.1204457747415774, 0.11799889097696373, 0.12409313595923488, 0.11941588632662829, 0.12246390650104498, 0.12242358955159113]\n",
      "Mean: 0.12143293147425553\n",
      "Std: 0.001742897868607754\n",
      "--------------------------MAE------------------------\n",
      "Scores: [0.08798263988907014, 0.0889302913568743, 0.08888647888357365, 0.08782639945492014, 0.0870096976234127, 0.08542675864744775, 0.08930081757228697, 0.08651072866434162, 0.08776810002970215, 0.08940928083459913]\n",
      "Mean: 0.08790511929562285\n",
      "Std: 0.0012306046177349463\n"
     ]
    }
   ],
   "source": [
    "# lgbm_cross_validation(X5, y5, None)\n",
    "lgbm_scaled_cross_validation(X5, y5, None)"
   ]
  },
  {
   "cell_type": "code",
   "execution_count": 101,
   "id": "4267a817-51ec-49d3-924f-899489bc6e12",
   "metadata": {
    "tags": []
   },
   "outputs": [
    {
     "name": "stderr",
     "output_type": "stream",
     "text": [
      "\u001b[32m[I 2021-09-07 11:37:16,029]\u001b[0m A new study created in memory with name: no-name-dd7e39e8-9cfc-40fe-bb98-65457d0a0a25\u001b[0m\n",
      "<ipython-input-101-e20a88395859>:31: ExperimentalWarning: enqueue_trial is experimental (supported from v1.2.0). The interface can change in the future.\n",
      "  study.enqueue_trial(try_these_first[0])\n",
      "<ipython-input-101-e20a88395859>:32: ExperimentalWarning: enqueue_trial is experimental (supported from v1.2.0). The interface can change in the future.\n",
      "  study.enqueue_trial(try_these_first[1])\n",
      "<ipython-input-101-e20a88395859>:33: ExperimentalWarning: enqueue_trial is experimental (supported from v1.2.0). The interface can change in the future.\n",
      "  study.enqueue_trial(try_these_first[2])\n"
     ]
    }
   ],
   "source": [
    "try_these_first = [{\n",
    "    'reg_alpha': 0.04781362061382749,\n",
    "    'reg_lambda': 9.716980953182604,\n",
    "    'colsample_bytree': 0.9,\n",
    "    'subsample': 0.7,\n",
    "    'learning_rate': 0.14614317149730652,\n",
    "    'max_depth': 57,\n",
    "    'num_leaves': 532,\n",
    "    'min_child_samples': 7,\n",
    "},  {\n",
    "    'reg_alpha': 0.0025641515787025067,\n",
    "    'reg_lambda': 0.024580995322705475,\n",
    "    'colsample_bytree': 0.8,\n",
    "    'subsample': 0.4,\n",
    "    'learning_rate': 0.11844862032615265,\n",
    "    'max_depth': 69,\n",
    "    'num_leaves': 328,\n",
    "    'min_child_samples': 62,\n",
    "},  {\n",
    "    'reg_alpha': 0.1420112281892889,\n",
    "    'reg_lambda': 0.14745955581286027,\n",
    "    'colsample_bytree': 0.9,\n",
    "    'subsample': 0.7,\n",
    "    'learning_rate': 0.15576554024588912,\n",
    "    'max_depth': 61,\n",
    "    'num_leaves': 483,\n",
    "    'min_child_samples': 10,\n",
    "}]\n",
    "\n",
    "study = optuna.create_study(direction='minimize')\n",
    "study.enqueue_trial(try_these_first[0])\n",
    "study.enqueue_trial(try_these_first[1])\n",
    "study.enqueue_trial(try_these_first[2])"
   ]
  },
  {
   "cell_type": "code",
   "execution_count": 103,
   "id": "eaa2050d-bf47-4311-b386-0a8d40eae30b",
   "metadata": {
    "collapsed": true,
    "jupyter": {
     "outputs_hidden": true
    },
    "tags": []
   },
   "outputs": [
    {
     "name": "stderr",
     "output_type": "stream",
     "text": [
      "\u001b[32m[I 2021-09-07 11:37:32,529]\u001b[0m Trial 0 finished with value: 0.07328114869595546 and parameters: {'reg_alpha': 0.04781362061382749, 'reg_lambda': 9.716980953182604, 'colsample_bytree': 0.9, 'subsample': 0.7, 'learning_rate': 0.14614317149730652, 'max_depth': 57, 'num_leaves': 532, 'min_child_samples': 7}. Best is trial 0 with value: 0.07328114869595546.\u001b[0m\n",
      "\u001b[32m[I 2021-09-07 11:37:35,041]\u001b[0m Trial 1 finished with value: 0.07834956112406605 and parameters: {'reg_alpha': 0.0025641515787025067, 'reg_lambda': 0.024580995322705475, 'colsample_bytree': 0.8, 'subsample': 0.4, 'learning_rate': 0.11844862032615265, 'max_depth': 69, 'num_leaves': 328, 'min_child_samples': 62}. Best is trial 0 with value: 0.07328114869595546.\u001b[0m\n",
      "\u001b[32m[I 2021-09-07 11:37:39,304]\u001b[0m Trial 2 finished with value: 0.07527507779945834 and parameters: {'reg_alpha': 0.1420112281892889, 'reg_lambda': 0.14745955581286027, 'colsample_bytree': 0.9, 'subsample': 0.7, 'learning_rate': 0.15576554024588912, 'max_depth': 61, 'num_leaves': 483, 'min_child_samples': 10}. Best is trial 0 with value: 0.07328114869595546.\u001b[0m\n",
      "\u001b[32m[I 2021-09-07 11:37:40,465]\u001b[0m Trial 3 finished with value: 0.19061510333493376 and parameters: {'reg_alpha': 0.04532189626191867, 'reg_lambda': 0.0020621813864585615, 'colsample_bytree': 0.4, 'subsample': 0.7, 'learning_rate': 0.009026078566859162, 'max_depth': 94, 'num_leaves': 186, 'min_child_samples': 65}. Best is trial 0 with value: 0.07328114869595546.\u001b[0m\n",
      "\u001b[32m[I 2021-09-07 11:37:41,154]\u001b[0m Trial 4 finished with value: 0.2901089802491653 and parameters: {'reg_alpha': 0.9952901695461767, 'reg_lambda': 0.010873058680120236, 'colsample_bytree': 0.5, 'subsample': 0.4, 'learning_rate': 0.0013611614058450358, 'max_depth': 59, 'num_leaves': 774, 'min_child_samples': 290}. Best is trial 0 with value: 0.07328114869595546.\u001b[0m\n",
      "\u001b[32m[I 2021-09-07 11:37:42,245]\u001b[0m Trial 5 finished with value: 0.13783594196952556 and parameters: {'reg_alpha': 0.010307995728661952, 'reg_lambda': 0.11091214548025233, 'colsample_bytree': 0.5, 'subsample': 0.6, 'learning_rate': 0.025928475728249866, 'max_depth': 37, 'num_leaves': 858, 'min_child_samples': 216}. Best is trial 0 with value: 0.07328114869595546.\u001b[0m\n",
      "\u001b[32m[I 2021-09-07 11:37:43,334]\u001b[0m Trial 6 finished with value: 0.1445189002406954 and parameters: {'reg_alpha': 0.34964673178885514, 'reg_lambda': 0.01241070864989026, 'colsample_bytree': 0.8, 'subsample': 0.7, 'learning_rate': 0.022471856732904513, 'max_depth': 40, 'num_leaves': 523, 'min_child_samples': 253}. Best is trial 0 with value: 0.07328114869595546.\u001b[0m\n",
      "\u001b[32m[I 2021-09-07 11:37:45,797]\u001b[0m Trial 7 finished with value: 0.29348049492262596 and parameters: {'reg_alpha': 0.011368302307779464, 'reg_lambda': 0.0028988680621169064, 'colsample_bytree': 0.7, 'subsample': 0.8, 'learning_rate': 0.0010354176243219473, 'max_depth': 33, 'num_leaves': 805, 'min_child_samples': 82}. Best is trial 0 with value: 0.07328114869595546.\u001b[0m\n",
      "\u001b[32m[I 2021-09-07 11:37:52,850]\u001b[0m Trial 8 finished with value: 0.2630554414888175 and parameters: {'reg_alpha': 0.04077296173940555, 'reg_lambda': 2.441092037140392, 'colsample_bytree': 0.9, 'subsample': 0.4, 'learning_rate': 0.0023713151656350856, 'max_depth': 80, 'num_leaves': 995, 'min_child_samples': 9}. Best is trial 0 with value: 0.07328114869595546.\u001b[0m\n",
      "\u001b[32m[I 2021-09-07 11:37:53,933]\u001b[0m Trial 9 finished with value: 0.29309896508395766 and parameters: {'reg_alpha': 0.003588156587725481, 'reg_lambda': 0.09819941662585756, 'colsample_bytree': 0.6, 'subsample': 0.8, 'learning_rate': 0.0011289322512560893, 'max_depth': 56, 'num_leaves': 427, 'min_child_samples': 189}. Best is trial 0 with value: 0.07328114869595546.\u001b[0m\n",
      "\u001b[32m[I 2021-09-07 11:37:54,509]\u001b[0m Trial 10 finished with value: 0.10562072219569954 and parameters: {'reg_alpha': 7.935703510941375, 'reg_lambda': 9.769260029448413, 'colsample_bytree': 0.3, 'subsample': 1.0, 'learning_rate': 0.2795159282149811, 'max_depth': 95, 'num_leaves': 118, 'min_child_samples': 138}. Best is trial 0 with value: 0.07328114869595546.\u001b[0m\n",
      "\u001b[32m[I 2021-09-07 11:38:00,464]\u001b[0m Trial 11 finished with value: 0.07821553518953175 and parameters: {'reg_alpha': 0.24946905520855753, 'reg_lambda': 0.7703070695792329, 'colsample_bytree': 0.9, 'subsample': 0.7, 'learning_rate': 0.08080250577740178, 'max_depth': 50, 'num_leaves': 522, 'min_child_samples': 1}. Best is trial 0 with value: 0.07328114869595546.\u001b[0m\n",
      "\u001b[32m[I 2021-09-07 11:38:02,133]\u001b[0m Trial 12 finished with value: 0.07997123153026252 and parameters: {'reg_alpha': 1.3455225030029663, 'reg_lambda': 0.3720846293631343, 'colsample_bytree': 0.9, 'subsample': 0.5, 'learning_rate': 0.2497630040366552, 'max_depth': 73, 'num_leaves': 641, 'min_child_samples': 107}. Best is trial 0 with value: 0.07328114869595546.\u001b[0m\n",
      "\u001b[32m[I 2021-09-07 11:38:05,413]\u001b[0m Trial 13 finished with value: 0.08724689703220287 and parameters: {'reg_alpha': 0.08704349000671885, 'reg_lambda': 7.616345886654509, 'colsample_bytree': 0.9, 'subsample': 0.7, 'learning_rate': 0.06197691105075196, 'max_depth': 25, 'num_leaves': 316, 'min_child_samples': 27}. Best is trial 0 with value: 0.07328114869595546.\u001b[0m\n",
      "\u001b[32m[I 2021-09-07 11:38:09,559]\u001b[0m Trial 14 finished with value: 0.09333896136932991 and parameters: {'reg_alpha': 0.013211387231120376, 'reg_lambda': 1.094431508515875, 'colsample_bytree': 1.0, 'subsample': 0.7, 'learning_rate': 0.045285273588869406, 'max_depth': 48, 'num_leaves': 609, 'min_child_samples': 44}. Best is trial 0 with value: 0.07328114869595546.\u001b[0m\n",
      "\u001b[32m[I 2021-09-07 11:38:09,912]\u001b[0m Trial 15 finished with value: 0.1464060677905361 and parameters: {'reg_alpha': 0.1727534256911794, 'reg_lambda': 0.15633695695181796, 'colsample_bytree': 0.9, 'subsample': 0.5, 'learning_rate': 0.136726127929007, 'max_depth': 68, 'num_leaves': 7, 'min_child_samples': 119}. Best is trial 0 with value: 0.07328114869595546.\u001b[0m\n",
      "\u001b[32m[I 2021-09-07 11:38:10,569]\u001b[0m Trial 16 finished with value: 0.22231494399917295 and parameters: {'reg_alpha': 0.8706115419919987, 'reg_lambda': 3.011176623751352, 'colsample_bytree': 0.3, 'subsample': 0.6, 'learning_rate': 0.006774965431901471, 'max_depth': 85, 'num_leaves': 357, 'min_child_samples': 180}. Best is trial 0 with value: 0.07328114869595546.\u001b[0m\n",
      "\u001b[32m[I 2021-09-07 11:38:13,291]\u001b[0m Trial 17 finished with value: 0.10722165211289865 and parameters: {'reg_alpha': 0.0010831523249785241, 'reg_lambda': 0.02721974520940617, 'colsample_bytree': 1.0, 'subsample': 1.0, 'learning_rate': 0.037652827801589926, 'max_depth': 63, 'num_leaves': 669, 'min_child_samples': 83}. Best is trial 0 with value: 0.07328114869595546.\u001b[0m\n",
      "\u001b[32m[I 2021-09-07 11:38:14,650]\u001b[0m Trial 18 finished with value: 0.08926099528167943 and parameters: {'reg_alpha': 4.332846232917789, 'reg_lambda': 0.3490543839991968, 'colsample_bytree': 0.6, 'subsample': 0.7, 'learning_rate': 0.1733207543199474, 'max_depth': 51, 'num_leaves': 440, 'min_child_samples': 36}. Best is trial 0 with value: 0.07328114869595546.\u001b[0m\n",
      "\u001b[32m[I 2021-09-07 11:38:15,522]\u001b[0m Trial 19 finished with value: 0.18047476252966793 and parameters: {'reg_alpha': 0.035545272458140854, 'reg_lambda': 2.5244600008793725, 'colsample_bytree': 0.4, 'subsample': 0.7, 'learning_rate': 0.01130012218278953, 'max_depth': 79, 'num_leaves': 248, 'min_child_samples': 159}. Best is trial 0 with value: 0.07328114869595546.\u001b[0m\n",
      "\u001b[32m[I 2021-09-07 11:38:16,969]\u001b[0m Trial 20 finished with value: 0.09207730580249468 and parameters: {'reg_alpha': 0.09119530739937756, 'reg_lambda': 0.05871986735426529, 'colsample_bytree': 0.7, 'subsample': 0.7, 'learning_rate': 0.08309132324864264, 'max_depth': 20, 'num_leaves': 559, 'min_child_samples': 111}. Best is trial 0 with value: 0.07328114869595546.\u001b[0m\n",
      "\u001b[32m[I 2021-09-07 11:38:21,850]\u001b[0m Trial 21 finished with value: 0.078148662745237 and parameters: {'reg_alpha': 0.26743776846101636, 'reg_lambda': 0.5638312019442548, 'colsample_bytree': 0.9, 'subsample': 0.7, 'learning_rate': 0.08215663130310126, 'max_depth': 47, 'num_leaves': 453, 'min_child_samples': 3}. Best is trial 0 with value: 0.07328114869595546.\u001b[0m\n",
      "\u001b[32m[I 2021-09-07 11:38:26,743]\u001b[0m Trial 22 finished with value: 0.07476176388920477 and parameters: {'reg_alpha': 0.3943136922950482, 'reg_lambda': 0.37324024888732227, 'colsample_bytree': 0.9, 'subsample': 0.7, 'learning_rate': 0.18259149758530488, 'max_depth': 44, 'num_leaves': 436, 'min_child_samples': 1}. Best is trial 0 with value: 0.07328114869595546.\u001b[0m\n",
      "\u001b[32m[I 2021-09-07 11:38:29,767]\u001b[0m Trial 23 finished with value: 0.0758949619717946 and parameters: {'reg_alpha': 0.5956870774269138, 'reg_lambda': 1.3891498490899175, 'colsample_bytree': 0.9, 'subsample': 0.7, 'learning_rate': 0.18317298403709642, 'max_depth': 40, 'num_leaves': 391, 'min_child_samples': 27}. Best is trial 0 with value: 0.07328114869595546.\u001b[0m\n",
      "\u001b[32m[I 2021-09-07 11:38:31,612]\u001b[0m Trial 24 finished with value: 0.08557057253141102 and parameters: {'reg_alpha': 2.7136677675335736, 'reg_lambda': 0.21521254519101274, 'colsample_bytree': 0.9, 'subsample': 0.7, 'learning_rate': 0.14509188650724383, 'max_depth': 62, 'num_leaves': 752, 'min_child_samples': 53}. Best is trial 0 with value: 0.07328114869595546.\u001b[0m\n",
      "\u001b[32m[I 2021-09-07 11:38:36,704]\u001b[0m Trial 25 finished with value: 0.08141834475787171 and parameters: {'reg_alpha': 0.12963320767693448, 'reg_lambda': 0.04765302272433262, 'colsample_bytree': 0.9, 'subsample': 1.0, 'learning_rate': 0.2963280273310535, 'max_depth': 54, 'num_leaves': 691, 'min_child_samples': 18}. Best is trial 0 with value: 0.07328114869595546.\u001b[0m\n",
      "\u001b[32m[I 2021-09-07 11:38:39,875]\u001b[0m Trial 26 finished with value: 0.10338520456407548 and parameters: {'reg_alpha': 0.4453435429060944, 'reg_lambda': 3.5529976914066848, 'colsample_bytree': 0.9, 'subsample': 0.5, 'learning_rate': 0.04681342276584001, 'max_depth': 44, 'num_leaves': 577, 'min_child_samples': 83}. Best is trial 0 with value: 0.07328114869595546.\u001b[0m\n",
      "\u001b[32m[I 2021-09-07 11:38:45,019]\u001b[0m Trial 27 finished with value: 0.07975077074012943 and parameters: {'reg_alpha': 0.025425036448474925, 'reg_lambda': 0.2851025608510964, 'colsample_bytree': 0.9, 'subsample': 0.6, 'learning_rate': 0.11269018503166175, 'max_depth': 65, 'num_leaves': 261, 'min_child_samples': 33}. Best is trial 0 with value: 0.07328114869595546.\u001b[0m\n",
      "\u001b[32m[I 2021-09-07 11:38:50,984]\u001b[0m Trial 28 finished with value: 0.21624018582739288 and parameters: {'reg_alpha': 0.08282656601083636, 'reg_lambda': 5.2340603873250595, 'colsample_bytree': 0.7, 'subsample': 0.8, 'learning_rate': 0.005451735239478459, 'max_depth': 31, 'num_leaves': 497, 'min_child_samples': 1}. Best is trial 0 with value: 0.07328114869595546.\u001b[0m\n",
      "\u001b[32m[I 2021-09-07 11:38:54,280]\u001b[0m Trial 29 finished with value: 0.07992466662535136 and parameters: {'reg_alpha': 0.005107161239330801, 'reg_lambda': 0.040944361155554616, 'colsample_bytree': 0.8, 'subsample': 0.4, 'learning_rate': 0.1065540051074235, 'max_depth': 71, 'num_leaves': 328, 'min_child_samples': 63}. Best is trial 0 with value: 0.07328114869595546.\u001b[0m\n",
      "\u001b[32m[I 2021-09-07 11:38:55,912]\u001b[0m Trial 30 finished with value: 0.08595483259859728 and parameters: {'reg_alpha': 2.4726312377698854, 'reg_lambda': 0.011964691719840975, 'colsample_bytree': 0.4, 'subsample': 0.7, 'learning_rate': 0.18625115226213543, 'max_depth': 57, 'num_leaves': 478, 'min_child_samples': 51}. Best is trial 0 with value: 0.07328114869595546.\u001b[0m\n",
      "\u001b[32m[I 2021-09-07 11:38:58,623]\u001b[0m Trial 31 finished with value: 0.07569087966551126 and parameters: {'reg_alpha': 0.5023931122709681, 'reg_lambda': 1.3977698891779067, 'colsample_bytree': 0.9, 'subsample': 0.7, 'learning_rate': 0.2097368548995703, 'max_depth': 43, 'num_leaves': 387, 'min_child_samples': 26}. Best is trial 0 with value: 0.07328114869595546.\u001b[0m\n",
      "\u001b[32m[I 2021-09-07 11:39:01,478]\u001b[0m Trial 32 finished with value: 0.07427692456849003 and parameters: {'reg_alpha': 0.1916033374450352, 'reg_lambda': 1.226419049135413, 'colsample_bytree': 0.9, 'subsample': 0.7, 'learning_rate': 0.2124760818005223, 'max_depth': 44, 'num_leaves': 373, 'min_child_samples': 21}. Best is trial 0 with value: 0.07328114869595546.\u001b[0m\n",
      "\u001b[32m[I 2021-09-07 11:39:02,965]\u001b[0m Trial 33 finished with value: 0.08225175642802182 and parameters: {'reg_alpha': 0.1758461364059199, 'reg_lambda': 0.5648247982305827, 'colsample_bytree': 0.5, 'subsample': 0.7, 'learning_rate': 0.116358906276735, 'max_depth': 53, 'num_leaves': 271, 'min_child_samples': 71}. Best is trial 0 with value: 0.07328114869595546.\u001b[0m\n",
      "\u001b[32m[I 2021-09-07 11:39:05,020]\u001b[0m Trial 34 finished with value: 0.0890705577908004 and parameters: {'reg_alpha': 0.020833350657251976, 'reg_lambda': 0.12159185834773466, 'colsample_bytree': 0.9, 'subsample': 0.7, 'learning_rate': 0.06860759951136497, 'max_depth': 31, 'num_leaves': 213, 'min_child_samples': 19}. Best is trial 0 with value: 0.07328114869595546.\u001b[0m\n",
      "\u001b[32m[I 2021-09-07 11:39:07,569]\u001b[0m Trial 35 finished with value: 0.11086507385370967 and parameters: {'reg_alpha': 0.05770624434762668, 'reg_lambda': 1.6926178201140658, 'colsample_bytree': 0.8, 'subsample': 0.7, 'learning_rate': 0.02800750018622769, 'max_depth': 59, 'num_leaves': 554, 'min_child_samples': 58}. Best is trial 0 with value: 0.07328114869595546.\u001b[0m\n",
      "\u001b[32m[I 2021-09-07 11:39:09,275]\u001b[0m Trial 36 finished with value: 0.1397952235607705 and parameters: {'reg_alpha': 0.05474397260373597, 'reg_lambda': 0.7305460879003438, 'colsample_bytree': 0.5, 'subsample': 0.4, 'learning_rate': 0.016241080298682518, 'max_depth': 36, 'num_leaves': 323, 'min_child_samples': 43}. Best is trial 0 with value: 0.07328114869595546.\u001b[0m\n",
      "\u001b[32m[I 2021-09-07 11:39:10,358]\u001b[0m Trial 37 finished with value: 0.08438371415073372 and parameters: {'reg_alpha': 1.25732118197114, 'reg_lambda': 0.00407907521509222, 'colsample_bytree': 0.6, 'subsample': 0.6, 'learning_rate': 0.21506458003679005, 'max_depth': 45, 'num_leaves': 159, 'min_child_samples': 97}. Best is trial 0 with value: 0.07328114869595546.\u001b[0m\n",
      "\u001b[32m[I 2021-09-07 11:39:10,994]\u001b[0m Trial 38 finished with value: 0.10134325285640919 and parameters: {'reg_alpha': 0.17216102284108145, 'reg_lambda': 5.0795148400921795, 'colsample_bytree': 0.3, 'subsample': 0.7, 'learning_rate': 0.1485916314039886, 'max_depth': 39, 'num_leaves': 414, 'min_child_samples': 279}. Best is trial 0 with value: 0.07328114869595546.\u001b[0m\n",
      "\u001b[32m[I 2021-09-07 11:39:14,518]\u001b[0m Trial 39 finished with value: 0.2600888420871895 and parameters: {'reg_alpha': 0.7271342032042559, 'reg_lambda': 0.1557212736544409, 'colsample_bytree': 1.0, 'subsample': 0.8, 'learning_rate': 0.0026120858793216755, 'max_depth': 66, 'num_leaves': 607, 'min_child_samples': 18}. Best is trial 0 with value: 0.07328114869595546.\u001b[0m\n",
      "\u001b[32m[I 2021-09-07 11:39:16,736]\u001b[0m Trial 40 finished with value: 0.09271062308169428 and parameters: {'reg_alpha': 0.3569410779074156, 'reg_lambda': 0.08257330640399539, 'colsample_bytree': 0.9, 'subsample': 0.7, 'learning_rate': 0.05827711929364963, 'max_depth': 99, 'num_leaves': 721, 'min_child_samples': 73}. Best is trial 0 with value: 0.07328114869595546.\u001b[0m\n",
      "\u001b[32m[I 2021-09-07 11:39:19,541]\u001b[0m Trial 41 finished with value: 0.07601748997837539 and parameters: {'reg_alpha': 0.43918351651462945, 'reg_lambda': 0.0010837356908225547, 'colsample_bytree': 0.9, 'subsample': 0.7, 'learning_rate': 0.23365028402904497, 'max_depth': 43, 'num_leaves': 367, 'min_child_samples': 19}. Best is trial 0 with value: 0.07328114869595546.\u001b[0m\n",
      "\u001b[32m[I 2021-09-07 11:39:20,660]\u001b[0m Trial 42 finished with value: 0.08572211276885171 and parameters: {'reg_alpha': 0.24865206015981534, 'reg_lambda': 1.1018869033286793, 'colsample_bytree': 0.9, 'subsample': 0.7, 'learning_rate': 0.2939161780157507, 'max_depth': 35, 'num_leaves': 485, 'min_child_samples': 240}. Best is trial 0 with value: 0.07328114869595546.\u001b[0m\n",
      "\u001b[32m[I 2021-09-07 11:39:22,646]\u001b[0m Trial 43 finished with value: 0.07954406206166696 and parameters: {'reg_alpha': 2.0075203660153074, 'reg_lambda': 1.676986515863904, 'colsample_bytree': 0.9, 'subsample': 0.7, 'learning_rate': 0.20963179105175128, 'max_depth': 42, 'num_leaves': 517, 'min_child_samples': 37}. Best is trial 0 with value: 0.07328114869595546.\u001b[0m\n",
      "\u001b[32m[I 2021-09-07 11:39:29,150]\u001b[0m Trial 44 finished with value: 0.07642027488853503 and parameters: {'reg_alpha': 0.12002050342886803, 'reg_lambda': 0.2313769515653077, 'colsample_bytree': 0.9, 'subsample': 0.7, 'learning_rate': 0.09915930789804826, 'max_depth': 27, 'num_leaves': 880, 'min_child_samples': 14}. Best is trial 0 with value: 0.07328114869595546.\u001b[0m\n",
      "\u001b[32m[I 2021-09-07 11:39:32,940]\u001b[0m Trial 45 finished with value: 0.0751647725827595 and parameters: {'reg_alpha': 0.522532527716652, 'reg_lambda': 0.585380158858717, 'colsample_bytree': 0.9, 'subsample': 1.0, 'learning_rate': 0.1612586759688912, 'max_depth': 49, 'num_leaves': 409, 'min_child_samples': 3}. Best is trial 0 with value: 0.07328114869595546.\u001b[0m\n",
      "\u001b[32m[I 2021-09-07 11:39:35,453]\u001b[0m Trial 46 finished with value: 0.07501153538266715 and parameters: {'reg_alpha': 0.2669853553876027, 'reg_lambda': 0.6278275317471845, 'colsample_bytree': 0.4, 'subsample': 1.0, 'learning_rate': 0.13246528397783291, 'max_depth': 51, 'num_leaves': 434, 'min_child_samples': 7}. Best is trial 0 with value: 0.07328114869595546.\u001b[0m\n",
      "\u001b[32m[I 2021-09-07 11:39:38,449]\u001b[0m Trial 47 finished with value: 0.07425450670260421 and parameters: {'reg_alpha': 0.2604785621570944, 'reg_lambda': 0.47464695654294364, 'colsample_bytree': 0.4, 'subsample': 1.0, 'learning_rate': 0.14367071543265764, 'max_depth': 50, 'num_leaves': 455, 'min_child_samples': 1}. Best is trial 0 with value: 0.07328114869595546.\u001b[0m\n",
      "\u001b[32m[I 2021-09-07 11:39:40,788]\u001b[0m Trial 48 finished with value: 0.07405666568130784 and parameters: {'reg_alpha': 0.2383548735491406, 'reg_lambda': 0.5173981975065084, 'colsample_bytree': 0.4, 'subsample': 1.0, 'learning_rate': 0.12729116373014718, 'max_depth': 54, 'num_leaves': 441, 'min_child_samples': 12}. Best is trial 0 with value: 0.07328114869595546.\u001b[0m\n",
      "\u001b[32m[I 2021-09-07 11:39:42,323]\u001b[0m Trial 49 finished with value: 0.08086264252490435 and parameters: {'reg_alpha': 0.06053132354456374, 'reg_lambda': 0.38011341258661047, 'colsample_bytree': 0.4, 'subsample': 1.0, 'learning_rate': 0.09725461128882473, 'max_depth': 56, 'num_leaves': 306, 'min_child_samples': 41}. Best is trial 0 with value: 0.07328114869595546.\u001b[0m\n"
     ]
    },
    {
     "data": {
      "text/plain": [
       "{'reg_alpha': 0.04781362061382749,\n",
       " 'reg_lambda': 9.716980953182604,\n",
       " 'colsample_bytree': 0.9,\n",
       " 'subsample': 0.7,\n",
       " 'learning_rate': 0.14614317149730652,\n",
       " 'max_depth': 57,\n",
       " 'num_leaves': 532,\n",
       " 'min_child_samples': 7}"
      ]
     },
     "execution_count": 103,
     "metadata": {},
     "output_type": "execute_result"
    }
   ],
   "source": [
    "# study = optuna.create_study(direction='minimize')\n",
    "study.optimize(objective_wp5, n_trials=50)\n",
    "# write_results('Data/Hyperparametrization/scaled_lgbm_50trials.xlsx', 'wp5', study.trials_dataframe())\n",
    "best_trial = study.best_trial.params\n",
    "best_trial"
   ]
  },
  {
   "cell_type": "code",
   "execution_count": 118,
   "id": "dde520d3-4565-42ff-8382-d787e91e8c7b",
   "metadata": {
    "tags": []
   },
   "outputs": [],
   "source": [
    "# warm start 50 std\n",
    "# params_5 = {\n",
    "#     'reg_alpha': 0.1420112281892889,\n",
    "#     'reg_lambda': 0.14745955581286027,\n",
    "#     'colsample_bytree': 0.9,\n",
    "#     'subsample': 0.7,\n",
    "#     'learning_rate': 0.15576554024588912,\n",
    "#     'max_depth': 61,\n",
    "#     'num_leaves': 483,\n",
    "#     'min_child_samples': 10\n",
    "# }\n",
    "\n",
    "\n",
    "# # 100\n",
    "# params_5 = {\n",
    "#     'reg_alpha': 0.04781362061382749,\n",
    "#     'reg_lambda': 9.716980953182604,\n",
    "#     'colsample_bytree': 0.9,\n",
    "#     'subsample': 0.7,\n",
    "#     'learning_rate': 0.14614317149730652,\n",
    "#     'max_depth': 57,\n",
    "#     'num_leaves': 532,\n",
    "#     'min_child_samples': 7,\n",
    "# }\n",
    "\n",
    "# # 50\n",
    "# params_5 = {\n",
    "#     'reg_alpha': 0.0025641515787025067,\n",
    "#     'reg_lambda': 0.024580995322705475,\n",
    "#     'colsample_bytree': 0.8,\n",
    "#     'subsample': 0.4,\n",
    "#     'learning_rate': 0.11844862032615265,\n",
    "#     'max_depth': 69,\n",
    "#     'num_leaves': 328,\n",
    "#     'min_child_samples': 62,\n",
    "# }\n",
    "\n",
    "# robust scaler with warm start\n",
    "params_5 = {\n",
    "    'reg_alpha': 0.04781362061382749,\n",
    "    'reg_lambda': 9.716980953182604,\n",
    "    'colsample_bytree': 0.9,\n",
    "    'subsample': 0.7,\n",
    "    'learning_rate': 0.14614317149730652,\n",
    "    'max_depth': 57,\n",
    "    'num_leaves': 532,\n",
    "    'min_child_samples': 7\n",
    "}"
   ]
  },
  {
   "cell_type": "code",
   "execution_count": 105,
   "id": "c45f8446-417b-4fc3-8180-88c091fe37cf",
   "metadata": {
    "tags": []
   },
   "outputs": [
    {
     "name": "stdout",
     "output_type": "stream",
     "text": [
      "-----------LGBM CROSS VALIDATION BEGINNING-----------\n",
      "RMSE score: 0.07537217049347301\n",
      "MAE score: 0.048555942836035475\n",
      "None\n",
      "-------------------FOLD 1-----------------\n",
      "RMSE score: 0.07590944351197824\n",
      "MAE score: 0.0492342085223887\n",
      "None\n",
      "-------------------FOLD 2-----------------\n",
      "RMSE score: 0.07481956883284945\n",
      "MAE score: 0.0475218989674185\n",
      "None\n",
      "-------------------FOLD 3-----------------\n",
      "RMSE score: 0.0732349855552006\n",
      "MAE score: 0.04847627456606321\n",
      "None\n",
      "-------------------FOLD 4-----------------\n",
      "RMSE score: 0.07121162666363555\n",
      "MAE score: 0.047344262257087856\n",
      "None\n",
      "-------------------FOLD 5-----------------\n",
      "RMSE score: 0.07336281614315454\n",
      "MAE score: 0.04806400625485194\n",
      "None\n",
      "-------------------FOLD 6-----------------\n",
      "RMSE score: 0.07029425824800647\n",
      "MAE score: 0.046300188760616035\n",
      "None\n",
      "-------------------FOLD 7-----------------\n",
      "RMSE score: 0.0725241158364099\n",
      "MAE score: 0.04682132935919499\n",
      "None\n",
      "-------------------FOLD 8-----------------\n",
      "RMSE score: 0.07326264859947337\n",
      "MAE score: 0.04772755678246909\n",
      "None\n",
      "-------------------FOLD 9-----------------\n",
      "RMSE score: 0.06901410080065797\n",
      "MAE score: 0.045944990758216266\n",
      "None\n",
      "-------------------FOLD 10-----------------\n",
      "---------------CROSS VALIDATION COMPLETE-------------\n",
      "--------------------------RMSE-----------------------\n",
      "Scores: [0.07537217049347301, 0.07590944351197824, 0.07481956883284945, 0.0732349855552006, 0.07121162666363555, 0.07336281614315454, 0.07029425824800647, 0.0725241158364099, 0.07326264859947337, 0.06901410080065797]\n",
      "Mean: 0.07290057346848391\n",
      "Std: 0.002102214133244842\n",
      "--------------------------MAE------------------------\n",
      "Scores: [0.048555942836035475, 0.0492342085223887, 0.0475218989674185, 0.04847627456606321, 0.047344262257087856, 0.04806400625485194, 0.046300188760616035, 0.04682132935919499, 0.04772755678246909, 0.045944990758216266]\n",
      "Mean: 0.04759906590643421\n",
      "Std: 0.0009843921732339508\n"
     ]
    }
   ],
   "source": [
    "# lgbm_cross_validation(X5, y5, params_5)\n",
    "lgbm_scaled_cross_validation(X5, y5, params_5)"
   ]
  },
  {
   "cell_type": "markdown",
   "id": "ccd547b2-24e6-4023-8959-d7955620108f",
   "metadata": {},
   "source": [
    "## WP6"
   ]
  },
  {
   "cell_type": "markdown",
   "id": "284dc175-a45f-4e3f-b577-2833794fe5ae",
   "metadata": {},
   "source": [
    "| |  | Mean | Std |\n",
    "| --- | --- | --- | --- |\n",
    "| No params | RMSE | 0.0940394026188472 | 0.0010749562915831372 |\n",
    "| No params - std | RMSE | 0.09409110695713666 | 0.0013476052174559326 |\n",
    "| After tuning - 50trials| RMSE | 0.05404362835213171 | 0.0008595325139047733 |\n",
    "| After tuning 100trials| RMSE | 0.054861488499908594 | 0.0007335378238383901 |\n",
    "| After tuning 50trials std - W.S. | RMSE |  0.05446642457662869 | 0.0009850877593637966 |\n",
    "| After tuning with W.S. - 50trials - RobustScaler | RMSE | 0.053430744425113176 | 0.0010865698281516414 ||\n",
    "| --- | --- | --- | --- |\n",
    "| No params | MAE | 0.070455643271004 | 0.0006641538274191148 |\n",
    "| After tuning - 50trials| MAE | 0.03657758274248596 | 0.0005325521314198646 |\n",
    "| After tuning 100trials| MAE | 0.03783933495157941 | 0.00045956939815828987 |\n",
    "| After tuning 50trials std - warm start| MAE | 0.0367847898055025 | 0.00039001216012464674 |\n",
    "| After tuning with W.S. - 50trials - RobustScaler | RMSE | 0.03652663713189234 | 0.0006251342721346248 ||"
   ]
  },
  {
   "cell_type": "code",
   "execution_count": 106,
   "id": "da2f9ef4-ad90-4d75-9137-735cd41284fe",
   "metadata": {
    "tags": []
   },
   "outputs": [],
   "source": [
    "wp6_X = train_wp6[[c for c in train_wp6 if c not in [\"wp\"]] + [\"wp\"]].drop(to_drop, axis = 1)\n",
    "X6 = wp6_X.drop('wp', axis = 1)\n",
    "y6 = wp6_X['wp']\n",
    "\n",
    "def objective_wp6(trial,data = X6,target = y6):\n",
    "    train_x, test_x, train_y, test_y = train_test_split(data, target, test_size=0.15,random_state=42)\n",
    "    return hyperparametrization(trial, train_x, test_x, train_y, test_y)"
   ]
  },
  {
   "cell_type": "code",
   "execution_count": 74,
   "id": "9582d271-b478-4351-81aa-3be5cd3077b1",
   "metadata": {
    "collapsed": true,
    "jupyter": {
     "outputs_hidden": true
    },
    "tags": []
   },
   "outputs": [
    {
     "name": "stdout",
     "output_type": "stream",
     "text": [
      "-----------LGBM CROSS VALIDATION BEGINNING-----------\n",
      "RMSE score: 0.09859424794094925\n",
      "MAE score: 0.07315841746939594\n",
      "None\n",
      "-------------------FOLD 1-----------------\n",
      "RMSE score: 0.10022450839793628\n",
      "MAE score: 0.07475606849683573\n",
      "None\n",
      "-------------------FOLD 2-----------------\n",
      "RMSE score: 0.09597798461053336\n",
      "MAE score: 0.07169925212215536\n",
      "None\n",
      "-------------------FOLD 3-----------------\n",
      "RMSE score: 0.09788397193388976\n",
      "MAE score: 0.07418759492601489\n",
      "None\n",
      "-------------------FOLD 4-----------------\n",
      "RMSE score: 0.09769395690138527\n",
      "MAE score: 0.07323600907984107\n",
      "None\n",
      "-------------------FOLD 5-----------------\n",
      "RMSE score: 0.09952243539425228\n",
      "MAE score: 0.07479873656793729\n",
      "None\n",
      "-------------------FOLD 6-----------------\n",
      "RMSE score: 0.09711192615006495\n",
      "MAE score: 0.07311671003773038\n",
      "None\n",
      "-------------------FOLD 7-----------------\n",
      "RMSE score: 0.09947074306722367\n",
      "MAE score: 0.07425401048117601\n",
      "None\n",
      "-------------------FOLD 8-----------------\n",
      "RMSE score: 0.09663323833248737\n",
      "MAE score: 0.0727290621284366\n",
      "None\n",
      "-------------------FOLD 9-----------------\n",
      "RMSE score: 0.09984048493370262\n",
      "MAE score: 0.07429133089269123\n",
      "None\n",
      "-------------------FOLD 10-----------------\n",
      "---------------CROSS VALIDATION COMPLETE-------------\n",
      "--------------------------RMSE-----------------------\n",
      "Scores: [0.09859424794094925, 0.10022450839793628, 0.09597798461053336, 0.09788397193388976, 0.09769395690138527, 0.09952243539425228, 0.09711192615006495, 0.09947074306722367, 0.09663323833248737, 0.09984048493370262]\n",
      "Mean: 0.09829534976624248\n",
      "Std: 0.0013838322376125223\n",
      "--------------------------MAE------------------------\n",
      "Scores: [0.07315841746939594, 0.07475606849683573, 0.07169925212215536, 0.07418759492601489, 0.07323600907984107, 0.07479873656793729, 0.07311671003773038, 0.07425401048117601, 0.0727290621284366, 0.07429133089269123]\n",
      "Mean: 0.07362271922022144\n",
      "Std: 0.0009461324954225405\n"
     ]
    }
   ],
   "source": [
    "# lgbm_cross_validation(X6, y6, None)\n",
    "lgbm_scaled_cross_validation(X6, y6, None)"
   ]
  },
  {
   "cell_type": "code",
   "execution_count": 108,
   "id": "56f96530-ea8e-4fc5-9657-a632f5e8ffbd",
   "metadata": {
    "tags": []
   },
   "outputs": [
    {
     "name": "stderr",
     "output_type": "stream",
     "text": [
      "\u001b[32m[I 2021-09-07 11:43:45,114]\u001b[0m A new study created in memory with name: no-name-4bf8d3f7-841b-44c9-8763-2cc0d4be1945\u001b[0m\n",
      "<ipython-input-108-a71cd8f90683>:31: ExperimentalWarning: enqueue_trial is experimental (supported from v1.2.0). The interface can change in the future.\n",
      "  study.enqueue_trial(try_these_first[0])\n",
      "<ipython-input-108-a71cd8f90683>:32: ExperimentalWarning: enqueue_trial is experimental (supported from v1.2.0). The interface can change in the future.\n",
      "  study.enqueue_trial(try_these_first[1])\n",
      "<ipython-input-108-a71cd8f90683>:33: ExperimentalWarning: enqueue_trial is experimental (supported from v1.2.0). The interface can change in the future.\n",
      "  study.enqueue_trial(try_these_first[2])\n"
     ]
    }
   ],
   "source": [
    "try_these_first = [{\n",
    "    'reg_alpha': 0.23451110075396234,\n",
    "    'reg_lambda': 0.796705483623135,\n",
    "    'colsample_bytree': 0.9,\n",
    "    'subsample': 0.4,\n",
    "    'learning_rate': 0.1561492653707781,\n",
    "    'max_depth': 67,\n",
    "    'num_leaves': 998,\n",
    "    'min_child_samples': 45,\n",
    "},  {\n",
    "    'reg_alpha': 0.11420484028619322,\n",
    "    'reg_lambda': 2.6106462927544216,\n",
    "    'colsample_bytree': 0.5,\n",
    "    'subsample': 0.4,\n",
    "    'learning_rate': 0.13579539259861131,\n",
    "    'max_depth': 35,\n",
    "    'num_leaves': 765,\n",
    "    'min_child_samples': 3,\n",
    "}, {\n",
    "    'reg_alpha': 0.19099691249064502,\n",
    "    'reg_lambda': 0.3893771552082417,\n",
    "    'colsample_bytree': 0.6,\n",
    "    'subsample': 0.7,\n",
    "    'learning_rate': 0.10214699989265669,\n",
    "    'max_depth': 70,\n",
    "    'num_leaves': 903,\n",
    "    'min_child_samples': 1\n",
    "} ]\n",
    "\n",
    "study = optuna.create_study(direction='minimize')\n",
    "study.enqueue_trial(try_these_first[0])\n",
    "study.enqueue_trial(try_these_first[1])\n",
    "study.enqueue_trial(try_these_first[2])"
   ]
  },
  {
   "cell_type": "code",
   "execution_count": 109,
   "id": "cf4cb7dd-bf83-4cd6-ac64-483e7c498375",
   "metadata": {
    "collapsed": true,
    "jupyter": {
     "outputs_hidden": true
    },
    "tags": []
   },
   "outputs": [
    {
     "name": "stderr",
     "output_type": "stream",
     "text": [
      "\u001b[32m[I 2021-09-07 11:43:51,514]\u001b[0m Trial 0 finished with value: 0.05714406123297331 and parameters: {'reg_alpha': 0.23451110075396234, 'reg_lambda': 0.796705483623135, 'colsample_bytree': 0.9, 'subsample': 0.4, 'learning_rate': 0.1561492653707781, 'max_depth': 67, 'num_leaves': 998, 'min_child_samples': 45}. Best is trial 0 with value: 0.05714406123297331.\u001b[0m\n",
      "\u001b[32m[I 2021-09-07 11:43:56,559]\u001b[0m Trial 1 finished with value: 0.05509693896422073 and parameters: {'reg_alpha': 0.11420484028619322, 'reg_lambda': 2.6106462927544216, 'colsample_bytree': 0.5, 'subsample': 0.4, 'learning_rate': 0.13579539259861131, 'max_depth': 35, 'num_leaves': 765, 'min_child_samples': 3}. Best is trial 1 with value: 0.05509693896422073.\u001b[0m\n",
      "\u001b[32m[I 2021-09-07 11:44:03,428]\u001b[0m Trial 2 finished with value: 0.054681706617884254 and parameters: {'reg_alpha': 0.19099691249064502, 'reg_lambda': 0.3893771552082417, 'colsample_bytree': 0.6, 'subsample': 0.7, 'learning_rate': 0.10214699989265669, 'max_depth': 70, 'num_leaves': 903, 'min_child_samples': 1}. Best is trial 2 with value: 0.054681706617884254.\u001b[0m\n",
      "\u001b[32m[I 2021-09-07 11:44:08,334]\u001b[0m Trial 3 finished with value: 0.0570063255683133 and parameters: {'reg_alpha': 0.28015648779679164, 'reg_lambda': 0.013967136046553372, 'colsample_bytree': 0.8, 'subsample': 0.4, 'learning_rate': 0.08696713156801493, 'max_depth': 81, 'num_leaves': 552, 'min_child_samples': 6}. Best is trial 2 with value: 0.054681706617884254.\u001b[0m\n",
      "\u001b[32m[I 2021-09-07 11:44:10,503]\u001b[0m Trial 4 finished with value: 0.21271270992495386 and parameters: {'reg_alpha': 0.04204988286916326, 'reg_lambda': 0.5508709126797652, 'colsample_bytree': 1.0, 'subsample': 1.0, 'learning_rate': 0.00203574405598429, 'max_depth': 45, 'num_leaves': 869, 'min_child_samples': 110}. Best is trial 2 with value: 0.054681706617884254.\u001b[0m\n",
      "\u001b[32m[I 2021-09-07 11:44:12,754]\u001b[0m Trial 5 finished with value: 0.07105313968947446 and parameters: {'reg_alpha': 1.1285172828779295, 'reg_lambda': 0.007048224496546248, 'colsample_bytree': 0.8, 'subsample': 0.5, 'learning_rate': 0.06473097579897137, 'max_depth': 60, 'num_leaves': 929, 'min_child_samples': 64}. Best is trial 2 with value: 0.054681706617884254.\u001b[0m\n",
      "\u001b[32m[I 2021-09-07 11:44:13,392]\u001b[0m Trial 6 finished with value: 0.11982817950226736 and parameters: {'reg_alpha': 4.893487808491201, 'reg_lambda': 0.00436967614833002, 'colsample_bytree': 0.6, 'subsample': 0.5, 'learning_rate': 0.031562737306226926, 'max_depth': 90, 'num_leaves': 324, 'min_child_samples': 294}. Best is trial 2 with value: 0.054681706617884254.\u001b[0m\n",
      "\u001b[32m[I 2021-09-07 11:44:14,818]\u001b[0m Trial 7 finished with value: 0.1378355023001951 and parameters: {'reg_alpha': 0.010989050235349806, 'reg_lambda': 3.0658316881157597, 'colsample_bytree': 0.9, 'subsample': 1.0, 'learning_rate': 0.01279341963238414, 'max_depth': 24, 'num_leaves': 746, 'min_child_samples': 168}. Best is trial 2 with value: 0.054681706617884254.\u001b[0m\n",
      "\u001b[32m[I 2021-09-07 11:44:15,869]\u001b[0m Trial 8 finished with value: 0.2187026007856199 and parameters: {'reg_alpha': 0.0033172637150915515, 'reg_lambda': 0.011218735938128452, 'colsample_bytree': 0.7, 'subsample': 1.0, 'learning_rate': 0.0018000569625138216, 'max_depth': 84, 'num_leaves': 227, 'min_child_samples': 258}. Best is trial 2 with value: 0.054681706617884254.\u001b[0m\n",
      "\u001b[32m[I 2021-09-07 11:44:19,047]\u001b[0m Trial 9 finished with value: 0.21774751849751234 and parameters: {'reg_alpha': 0.032974543401334364, 'reg_lambda': 0.24287193106470334, 'colsample_bytree': 0.5, 'subsample': 0.8, 'learning_rate': 0.0015313122539641509, 'max_depth': 96, 'num_leaves': 609, 'min_child_samples': 26}. Best is trial 2 with value: 0.054681706617884254.\u001b[0m\n",
      "\u001b[32m[I 2021-09-07 11:44:19,571]\u001b[0m Trial 10 finished with value: 0.09891051939180442 and parameters: {'reg_alpha': 9.851659884613275, 'reg_lambda': 0.05519685552361653, 'colsample_bytree': 0.6, 'subsample': 0.7, 'learning_rate': 0.27926617995351205, 'max_depth': 67, 'num_leaves': 24, 'min_child_samples': 189}. Best is trial 2 with value: 0.054681706617884254.\u001b[0m\n",
      "\u001b[32m[I 2021-09-07 11:44:20,588]\u001b[0m Trial 11 finished with value: 0.15704884431791624 and parameters: {'reg_alpha': 0.7064869009598782, 'reg_lambda': 9.816118376618386, 'colsample_bytree': 0.3, 'subsample': 0.6, 'learning_rate': 0.009890787660002516, 'max_depth': 26, 'num_leaves': 721, 'min_child_samples': 99}. Best is trial 2 with value: 0.054681706617884254.\u001b[0m\n",
      "\u001b[32m[I 2021-09-07 11:44:24,570]\u001b[0m Trial 12 finished with value: 0.06339550028334534 and parameters: {'reg_alpha': 0.09104167507933528, 'reg_lambda': 2.033067516132661, 'colsample_bytree': 0.4, 'subsample': 0.7, 'learning_rate': 0.044792073530962546, 'max_depth': 46, 'num_leaves': 744, 'min_child_samples': 9}. Best is trial 2 with value: 0.054681706617884254.\u001b[0m\n",
      "\u001b[32m[I 2021-09-07 11:44:26,537]\u001b[0m Trial 13 finished with value: 0.05960801938450297 and parameters: {'reg_alpha': 0.0011682779419158816, 'reg_lambda': 0.11097328147483147, 'colsample_bytree': 0.5, 'subsample': 0.4, 'learning_rate': 0.26775359941143184, 'max_depth': 42, 'num_leaves': 849, 'min_child_samples': 80}. Best is trial 2 with value: 0.054681706617884254.\u001b[0m\n",
      "\u001b[32m[I 2021-09-07 11:44:27,558]\u001b[0m Trial 14 finished with value: 0.07429607955179425 and parameters: {'reg_alpha': 1.5184155986038566, 'reg_lambda': 8.11511851823283, 'colsample_bytree': 0.5, 'subsample': 0.7, 'learning_rate': 0.10973298751612444, 'max_depth': 57, 'num_leaves': 404, 'min_child_samples': 139}. Best is trial 2 with value: 0.054681706617884254.\u001b[0m\n",
      "\u001b[32m[I 2021-09-07 11:44:28,535]\u001b[0m Trial 15 finished with value: 0.11430168919538379 and parameters: {'reg_alpha': 0.011558278730274622, 'reg_lambda': 1.3243277392496016, 'colsample_bytree': 0.6, 'subsample': 0.8, 'learning_rate': 0.025374441286267813, 'max_depth': 74, 'num_leaves': 650, 'min_child_samples': 223}. Best is trial 2 with value: 0.054681706617884254.\u001b[0m\n",
      "\u001b[32m[I 2021-09-07 11:44:30,453]\u001b[0m Trial 16 finished with value: 0.1680924868238429 and parameters: {'reg_alpha': 0.23354501849206782, 'reg_lambda': 0.001108267520268758, 'colsample_bytree': 0.3, 'subsample': 0.6, 'learning_rate': 0.006450056003273125, 'max_depth': 37, 'num_leaves': 814, 'min_child_samples': 50}. Best is trial 2 with value: 0.054681706617884254.\u001b[0m\n",
      "\u001b[32m[I 2021-09-07 11:44:32,118]\u001b[0m Trial 17 finished with value: 0.06018297969125587 and parameters: {'reg_alpha': 0.0636636627962576, 'reg_lambda': 0.2898743387837843, 'colsample_bytree': 0.7, 'subsample': 0.4, 'learning_rate': 0.1572506712335905, 'max_depth': 54, 'num_leaves': 484, 'min_child_samples': 113}. Best is trial 2 with value: 0.054681706617884254.\u001b[0m\n",
      "\u001b[32m[I 2021-09-07 11:44:37,959]\u001b[0m Trial 18 finished with value: 0.1763231095293772 and parameters: {'reg_alpha': 0.0183042476816854, 'reg_lambda': 0.06127458433132025, 'colsample_bytree': 0.4, 'subsample': 0.7, 'learning_rate': 0.004412344216243056, 'max_depth': 33, 'num_leaves': 999, 'min_child_samples': 3}. Best is trial 2 with value: 0.054681706617884254.\u001b[0m\n",
      "\u001b[32m[I 2021-09-07 11:44:41,727]\u001b[0m Trial 19 finished with value: 0.06860110265569062 and parameters: {'reg_alpha': 0.4567220286507783, 'reg_lambda': 3.771404094899022, 'colsample_bytree': 1.0, 'subsample': 0.7, 'learning_rate': 0.05463142436778191, 'max_depth': 71, 'num_leaves': 890, 'min_child_samples': 39}. Best is trial 2 with value: 0.054681706617884254.\u001b[0m\n",
      "\u001b[32m[I 2021-09-07 11:44:42,908]\u001b[0m Trial 20 finished with value: 0.11515416366076535 and parameters: {'reg_alpha': 2.8228636512072702, 'reg_lambda': 0.2265210510883234, 'colsample_bytree': 0.5, 'subsample': 0.4, 'learning_rate': 0.022084618842927825, 'max_depth': 51, 'num_leaves': 684, 'min_child_samples': 80}. Best is trial 2 with value: 0.054681706617884254.\u001b[0m\n",
      "\u001b[32m[I 2021-09-07 11:44:47,809]\u001b[0m Trial 21 finished with value: 0.055976545378916644 and parameters: {'reg_alpha': 0.20161085814325955, 'reg_lambda': 0.021779606275994585, 'colsample_bytree': 0.8, 'subsample': 0.4, 'learning_rate': 0.09704138513302599, 'max_depth': 83, 'num_leaves': 553, 'min_child_samples': 8}. Best is trial 2 with value: 0.054681706617884254.\u001b[0m\n",
      "\u001b[32m[I 2021-09-07 11:44:51,554]\u001b[0m Trial 22 finished with value: 0.05636524053975166 and parameters: {'reg_alpha': 0.13977399492057876, 'reg_lambda': 0.030242554482909297, 'colsample_bytree': 0.8, 'subsample': 0.4, 'learning_rate': 0.14352750477175027, 'max_depth': 79, 'num_leaves': 475, 'min_child_samples': 28}. Best is trial 2 with value: 0.054681706617884254.\u001b[0m\n",
      "\u001b[32m[I 2021-09-07 11:44:57,793]\u001b[0m Trial 23 finished with value: 0.05578712199506351 and parameters: {'reg_alpha': 0.10760213550339803, 'reg_lambda': 0.7417332385917346, 'colsample_bytree': 0.8, 'subsample': 0.4, 'learning_rate': 0.0880253798094889, 'max_depth': 89, 'num_leaves': 608, 'min_child_samples': 1}. Best is trial 2 with value: 0.054681706617884254.\u001b[0m\n",
      "\u001b[32m[I 2021-09-07 11:45:00,115]\u001b[0m Trial 24 finished with value: 0.07848097014984773 and parameters: {'reg_alpha': 0.10195534382512832, 'reg_lambda': 0.6551702423979068, 'colsample_bytree': 0.6, 'subsample': 0.4, 'learning_rate': 0.03597437824515126, 'max_depth': 95, 'num_leaves': 803, 'min_child_samples': 62}. Best is trial 2 with value: 0.054681706617884254.\u001b[0m\n",
      "\u001b[32m[I 2021-09-07 11:45:02,456]\u001b[0m Trial 25 finished with value: 0.057996195246188396 and parameters: {'reg_alpha': 0.5135268366253873, 'reg_lambda': 1.3198052540177638, 'colsample_bytree': 0.5, 'subsample': 0.8, 'learning_rate': 0.192464925114028, 'max_depth': 100, 'num_leaves': 601, 'min_child_samples': 38}. Best is trial 2 with value: 0.054681706617884254.\u001b[0m\n",
      "\u001b[32m[I 2021-09-07 11:45:04,099]\u001b[0m Trial 26 finished with value: 0.07040018856162873 and parameters: {'reg_alpha': 0.02615003043670566, 'reg_lambda': 3.8614662760030893, 'colsample_bytree': 0.8, 'subsample': 0.5, 'learning_rate': 0.0822530794272451, 'max_depth': 63, 'num_leaves': 786, 'min_child_samples': 133}. Best is trial 2 with value: 0.054681706617884254.\u001b[0m\n",
      "\u001b[32m[I 2021-09-07 11:45:08,899]\u001b[0m Trial 27 finished with value: 0.09740045637057748 and parameters: {'reg_alpha': 0.0653459403269215, 'reg_lambda': 0.4277443661305193, 'colsample_bytree': 0.6, 'subsample': 0.6, 'learning_rate': 0.016250791094054653, 'max_depth': 75, 'num_leaves': 931, 'min_child_samples': 21}. Best is trial 2 with value: 0.054681706617884254.\u001b[0m\n",
      "\u001b[32m[I 2021-09-07 11:45:11,527]\u001b[0m Trial 28 finished with value: 0.0683507335888292 and parameters: {'reg_alpha': 0.006186720035628977, 'reg_lambda': 0.13725884604760968, 'colsample_bytree': 0.7, 'subsample': 0.7, 'learning_rate': 0.05652148033153133, 'max_depth': 89, 'num_leaves': 663, 'min_child_samples': 76}. Best is trial 2 with value: 0.054681706617884254.\u001b[0m\n",
      "\u001b[32m[I 2021-09-07 11:45:14,496]\u001b[0m Trial 29 finished with value: 0.057378835350119874 and parameters: {'reg_alpha': 0.317437609072896, 'reg_lambda': 0.9070321354886641, 'colsample_bytree': 0.9, 'subsample': 0.4, 'learning_rate': 0.21442324752085176, 'max_depth': 66, 'num_leaves': 415, 'min_child_samples': 49}. Best is trial 2 with value: 0.054681706617884254.\u001b[0m\n",
      "\u001b[32m[I 2021-09-07 11:45:16,218]\u001b[0m Trial 30 finished with value: 0.06900182003249503 and parameters: {'reg_alpha': 0.13519723875591172, 'reg_lambda': 1.8755286628610202, 'colsample_bytree': 1.0, 'subsample': 0.4, 'learning_rate': 0.13063915960756314, 'max_depth': 33, 'num_leaves': 938, 'min_child_samples': 197}. Best is trial 2 with value: 0.054681706617884254.\u001b[0m\n",
      "\u001b[32m[I 2021-09-07 11:45:22,078]\u001b[0m Trial 31 finished with value: 0.05652553928785797 and parameters: {'reg_alpha': 0.19016940904830212, 'reg_lambda': 0.030269505811344462, 'colsample_bytree': 0.8, 'subsample': 0.4, 'learning_rate': 0.08808872046461814, 'max_depth': 87, 'num_leaves': 539, 'min_child_samples': 1}. Best is trial 2 with value: 0.054681706617884254.\u001b[0m\n",
      "\u001b[32m[I 2021-09-07 11:45:26,624]\u001b[0m Trial 32 finished with value: 0.05601847328663614 and parameters: {'reg_alpha': 0.048922467441481945, 'reg_lambda': 0.3526407800867888, 'colsample_bytree': 0.8, 'subsample': 0.4, 'learning_rate': 0.1066201196426967, 'max_depth': 80, 'num_leaves': 606, 'min_child_samples': 27}. Best is trial 2 with value: 0.054681706617884254.\u001b[0m\n",
      "\u001b[32m[I 2021-09-07 11:45:31,007]\u001b[0m Trial 33 finished with value: 0.058321868540872075 and parameters: {'reg_alpha': 0.2769650162215376, 'reg_lambda': 0.8920200208696858, 'colsample_bytree': 0.8, 'subsample': 0.4, 'learning_rate': 0.07434094227573408, 'max_depth': 71, 'num_leaves': 556, 'min_child_samples': 13}. Best is trial 2 with value: 0.054681706617884254.\u001b[0m\n",
      "\u001b[32m[I 2021-09-07 11:45:33,020]\u001b[0m Trial 34 finished with value: 0.06122936954920543 and parameters: {'reg_alpha': 1.2509359709283772, 'reg_lambda': 0.1790242011233931, 'colsample_bytree': 0.8, 'subsample': 0.4, 'learning_rate': 0.18385510379852696, 'max_depth': 84, 'num_leaves': 714, 'min_child_samples': 59}. Best is trial 2 with value: 0.054681706617884254.\u001b[0m\n",
      "\u001b[32m[I 2021-09-07 11:45:35,657]\u001b[0m Trial 35 finished with value: 0.07425199107285985 and parameters: {'reg_alpha': 0.5301286251882767, 'reg_lambda': 0.06462049786948801, 'colsample_bytree': 0.8, 'subsample': 0.4, 'learning_rate': 0.04679476824796688, 'max_depth': 77, 'num_leaves': 291, 'min_child_samples': 20}. Best is trial 2 with value: 0.054681706617884254.\u001b[0m\n",
      "\u001b[32m[I 2021-09-07 11:45:40,069]\u001b[0m Trial 36 finished with value: 0.05684908365751543 and parameters: {'reg_alpha': 0.1583293138327164, 'reg_lambda': 0.02397190307453805, 'colsample_bytree': 0.9, 'subsample': 1.0, 'learning_rate': 0.1144816239676069, 'max_depth': 92, 'num_leaves': 875, 'min_child_samples': 42}. Best is trial 2 with value: 0.054681706617884254.\u001b[0m\n",
      "\u001b[32m[I 2021-09-07 11:45:43,933]\u001b[0m Trial 37 finished with value: 0.07482678187426335 and parameters: {'reg_alpha': 0.09374393085465758, 'reg_lambda': 0.002686896378414809, 'colsample_bytree': 0.6, 'subsample': 0.5, 'learning_rate': 0.03326978505526444, 'max_depth': 85, 'num_leaves': 432, 'min_child_samples': 3}. Best is trial 2 with value: 0.054681706617884254.\u001b[0m\n",
      "\u001b[32m[I 2021-09-07 11:45:45,154]\u001b[0m Trial 38 finished with value: 0.21065650806026942 and parameters: {'reg_alpha': 0.3576244667397771, 'reg_lambda': 5.509536387981092, 'colsample_bytree': 0.3, 'subsample': 0.4, 'learning_rate': 0.0026379352718914036, 'max_depth': 21, 'num_leaves': 570, 'min_child_samples': 91}. Best is trial 2 with value: 0.054681706617884254.\u001b[0m\n",
      "\u001b[32m[I 2021-09-07 11:45:45,971]\u001b[0m Trial 39 finished with value: 0.09229696717374913 and parameters: {'reg_alpha': 0.023042332500700285, 'reg_lambda': 0.007844351974220879, 'colsample_bytree': 0.4, 'subsample': 1.0, 'learning_rate': 0.0655810786956957, 'max_depth': 61, 'num_leaves': 778, 'min_child_samples': 281}. Best is trial 2 with value: 0.054681706617884254.\u001b[0m\n",
      "\u001b[32m[I 2021-09-07 11:45:47,825]\u001b[0m Trial 40 finished with value: 0.06333841955961182 and parameters: {'reg_alpha': 0.8726841497218288, 'reg_lambda': 0.4660428584937108, 'colsample_bytree': 0.5, 'subsample': 0.7, 'learning_rate': 0.09102097166991417, 'max_depth': 68, 'num_leaves': 349, 'min_child_samples': 33}. Best is trial 2 with value: 0.054681706617884254.\u001b[0m\n",
      "\u001b[32m[I 2021-09-07 11:45:52,654]\u001b[0m Trial 41 finished with value: 0.22364124308773842 and parameters: {'reg_alpha': 0.04272603941682772, 'reg_lambda': 0.33759398698544446, 'colsample_bytree': 0.8, 'subsample': 0.4, 'learning_rate': 0.0010940551913538408, 'max_depth': 81, 'num_leaves': 626, 'min_child_samples': 19}. Best is trial 2 with value: 0.054681706617884254.\u001b[0m\n",
      "\u001b[32m[I 2021-09-07 11:45:56,638]\u001b[0m Trial 42 finished with value: 0.05545947461567 and parameters: {'reg_alpha': 0.04548246022024185, 'reg_lambda': 0.6045990230070131, 'colsample_bytree': 0.8, 'subsample': 0.4, 'learning_rate': 0.10627992569236465, 'max_depth': 82, 'num_leaves': 517, 'min_child_samples': 19}. Best is trial 2 with value: 0.054681706617884254.\u001b[0m\n",
      "\u001b[32m[I 2021-09-07 11:46:01,320]\u001b[0m Trial 43 finished with value: 0.05787362954228689 and parameters: {'reg_alpha': 0.07030693911249808, 'reg_lambda': 1.867191094896841, 'colsample_bytree': 0.8, 'subsample': 0.4, 'learning_rate': 0.23965815489970754, 'max_depth': 93, 'num_leaves': 501, 'min_child_samples': 3}. Best is trial 2 with value: 0.054681706617884254.\u001b[0m\n",
      "\u001b[32m[I 2021-09-07 11:46:06,656]\u001b[0m Trial 44 finished with value: 0.056174404681773545 and parameters: {'reg_alpha': 0.015952175927353682, 'reg_lambda': 0.6260942338411439, 'colsample_bytree': 0.8, 'subsample': 0.8, 'learning_rate': 0.1646156982072047, 'max_depth': 82, 'num_leaves': 699, 'min_child_samples': 19}. Best is trial 2 with value: 0.054681706617884254.\u001b[0m\n",
      "\u001b[32m[I 2021-09-07 11:46:07,234]\u001b[0m Trial 45 finished with value: 0.08252058659103527 and parameters: {'reg_alpha': 0.19575089687238528, 'reg_lambda': 1.2522869443408575, 'colsample_bytree': 0.6, 'subsample': 0.5, 'learning_rate': 0.2959671859283698, 'max_depth': 87, 'num_leaves': 33, 'min_child_samples': 52}. Best is trial 2 with value: 0.054681706617884254.\u001b[0m\n",
      "\u001b[32m[I 2021-09-07 11:46:11,320]\u001b[0m Trial 46 finished with value: 0.07051512295898348 and parameters: {'reg_alpha': 0.033784286523676085, 'reg_lambda': 2.8615335041433596, 'colsample_bytree': 0.8, 'subsample': 0.6, 'learning_rate': 0.0406834173665368, 'max_depth': 99, 'num_leaves': 532, 'min_child_samples': 35}. Best is trial 2 with value: 0.054681706617884254.\u001b[0m\n",
      "\u001b[32m[I 2021-09-07 11:46:12,657]\u001b[0m Trial 47 finished with value: 0.06378765313423411 and parameters: {'reg_alpha': 0.1187176324749604, 'reg_lambda': 0.015248038237668776, 'colsample_bytree': 0.5, 'subsample': 0.4, 'learning_rate': 0.11611671615704375, 'max_depth': 73, 'num_leaves': 223, 'min_child_samples': 65}. Best is trial 2 with value: 0.054681706617884254.\u001b[0m\n",
      "\u001b[32m[I 2021-09-07 11:46:14,348]\u001b[0m Trial 48 finished with value: 0.07839960431025676 and parameters: {'reg_alpha': 0.007971187568769477, 'reg_lambda': 0.09823231698953447, 'colsample_bytree': 1.0, 'subsample': 0.7, 'learning_rate': 0.06733772212039806, 'max_depth': 77, 'num_leaves': 831, 'min_child_samples': 166}. Best is trial 2 with value: 0.054681706617884254.\u001b[0m\n",
      "\u001b[32m[I 2021-09-07 11:46:16,994]\u001b[0m Trial 49 finished with value: 0.06207585634895654 and parameters: {'reg_alpha': 1.7994243781359331, 'reg_lambda': 5.7191878627184, 'colsample_bytree': 0.7, 'subsample': 0.4, 'learning_rate': 0.1437658085278158, 'max_depth': 49, 'num_leaves': 748, 'min_child_samples': 15}. Best is trial 2 with value: 0.054681706617884254.\u001b[0m\n"
     ]
    },
    {
     "data": {
      "text/plain": [
       "{'reg_alpha': 0.19099691249064502,\n",
       " 'reg_lambda': 0.3893771552082417,\n",
       " 'colsample_bytree': 0.6,\n",
       " 'subsample': 0.7,\n",
       " 'learning_rate': 0.10214699989265669,\n",
       " 'max_depth': 70,\n",
       " 'num_leaves': 903,\n",
       " 'min_child_samples': 1}"
      ]
     },
     "execution_count": 109,
     "metadata": {},
     "output_type": "execute_result"
    }
   ],
   "source": [
    "# study = optuna.create_study(direction='minimize')\n",
    "study.optimize(objective_wp6, n_trials=50)\n",
    "# write_results('Data/Hyperparametrization/scaled_lgbm_50trials.xlsx', 'wp6', study.trials_dataframe())\n",
    "best_trial = study.best_trial.params\n",
    "best_trial"
   ]
  },
  {
   "cell_type": "code",
   "execution_count": 119,
   "id": "267b98ff-3269-4adb-8f99-b7ce9bb55521",
   "metadata": {},
   "outputs": [],
   "source": [
    "# warm start\n",
    "# params_6 = {\n",
    "#     'reg_alpha': 0.19099691249064502,\n",
    "#     'reg_lambda': 0.3893771552082417,\n",
    "#     'colsample_bytree': 0.6,\n",
    "#     'subsample': 0.7,\n",
    "#     'learning_rate': 0.10214699989265669,\n",
    "#     'max_depth': 70,\n",
    "#     'num_leaves': 903,\n",
    "#     'min_child_samples': 1\n",
    "# } \n",
    "\n",
    "# # 100\n",
    "# params_6 = {\n",
    "#     'reg_alpha': 0.23451110075396234,\n",
    "#     'reg_lambda': 0.796705483623135,\n",
    "#     'colsample_bytree': 0.9,\n",
    "#     'subsample': 0.4,\n",
    "#     'learning_rate': 0.1561492653707781,\n",
    "#     'max_depth': 67,\n",
    "#     'num_leaves': 998,\n",
    "#     'min_child_samples': 45,\n",
    "# }\n",
    "\n",
    "# # 50\n",
    "# params_6 = {\n",
    "#     'reg_alpha': 0.11420484028619322,\n",
    "#     'reg_lambda': 2.6106462927544216,\n",
    "#     'colsample_bytree': 0.5,\n",
    "#     'subsample': 0.4,\n",
    "#     'learning_rate': 0.13579539259861131,\n",
    "#     'max_depth': 35,\n",
    "#     'num_leaves': 765,\n",
    "#     'min_child_samples': 3,\n",
    "# }\n",
    "\n",
    "\n",
    "params_6 = {\n",
    "    'reg_alpha': 0.19099691249064502,\n",
    "    'reg_lambda': 0.3893771552082417,\n",
    "    'colsample_bytree': 0.6,\n",
    "    'subsample': 0.7,\n",
    "    'learning_rate': 0.10214699989265669,\n",
    "    'max_depth': 70,\n",
    "    'num_leaves': 903,\n",
    "    'min_child_samples': 1\n",
    "}"
   ]
  },
  {
   "cell_type": "code",
   "execution_count": 111,
   "id": "c6b49cfc-b7ed-4309-a114-0257264fe9bf",
   "metadata": {
    "tags": []
   },
   "outputs": [
    {
     "name": "stdout",
     "output_type": "stream",
     "text": [
      "-----------LGBM CROSS VALIDATION BEGINNING-----------\n",
      "RMSE score: 0.0537528384482343\n",
      "MAE score: 0.03657699049921024\n",
      "None\n",
      "-------------------FOLD 1-----------------\n",
      "RMSE score: 0.0537478893963279\n",
      "MAE score: 0.03631704530369509\n",
      "None\n",
      "-------------------FOLD 2-----------------\n",
      "RMSE score: 0.05434696871806744\n",
      "MAE score: 0.037521997421402234\n",
      "None\n",
      "-------------------FOLD 3-----------------\n",
      "RMSE score: 0.05328186001666546\n",
      "MAE score: 0.03656512301544506\n",
      "None\n",
      "-------------------FOLD 4-----------------\n",
      "RMSE score: 0.051757643318816805\n",
      "MAE score: 0.035761813873787296\n",
      "None\n",
      "-------------------FOLD 5-----------------\n",
      "RMSE score: 0.05284533455633231\n",
      "MAE score: 0.035975112340831554\n",
      "None\n",
      "-------------------FOLD 6-----------------\n",
      "RMSE score: 0.05322163973750589\n",
      "MAE score: 0.03654121789965823\n",
      "None\n",
      "-------------------FOLD 7-----------------\n",
      "RMSE score: 0.055621951061471823\n",
      "MAE score: 0.03746817525946214\n",
      "None\n",
      "-------------------FOLD 8-----------------\n",
      "RMSE score: 0.05183739503088155\n",
      "MAE score: 0.03557622797044053\n",
      "None\n",
      "-------------------FOLD 9-----------------\n",
      "RMSE score: 0.053893923966828246\n",
      "MAE score: 0.036962667734991045\n",
      "None\n",
      "-------------------FOLD 10-----------------\n",
      "---------------CROSS VALIDATION COMPLETE-------------\n",
      "--------------------------RMSE-----------------------\n",
      "Scores: [0.0537528384482343, 0.0537478893963279, 0.05434696871806744, 0.05328186001666546, 0.051757643318816805, 0.05284533455633231, 0.05322163973750589, 0.055621951061471823, 0.05183739503088155, 0.053893923966828246]\n",
      "Mean: 0.053430744425113176\n",
      "Std: 0.0010865698281516414\n",
      "--------------------------MAE------------------------\n",
      "Scores: [0.03657699049921024, 0.03631704530369509, 0.037521997421402234, 0.03656512301544506, 0.035761813873787296, 0.035975112340831554, 0.03654121789965823, 0.03746817525946214, 0.03557622797044053, 0.036962667734991045]\n",
      "Mean: 0.03652663713189234\n",
      "Std: 0.0006251342721346248\n"
     ]
    }
   ],
   "source": [
    "# lgbm_cross_validation(X6, y6, params_6)\n",
    "lgbm_scaled_cross_validation(X6, y6, params_6)"
   ]
  },
  {
   "cell_type": "markdown",
   "id": "599f0c09-97e8-4e3b-a117-f707ed6235e2",
   "metadata": {},
   "source": [
    "# Predictions"
   ]
  },
  {
   "cell_type": "markdown",
   "id": "56a64913-6e53-4cb4-9cb5-2d7a5f33c2d2",
   "metadata": {},
   "source": [
    "## Functions"
   ]
  },
  {
   "cell_type": "code",
   "execution_count": 123,
   "id": "2e673e92-7f3f-4ffd-a822-c574b030dac4",
   "metadata": {},
   "outputs": [],
   "source": [
    "to_drop_test = ['date','wd','forecast_time', 'forecast', \"forecast_dist\", 'wp']+feature_corr\n",
    "def make_prediction_dataset(test, to_drop=to_drop_test):\n",
    "    test_to_predict = test.dropna(subset=['ws','u','v'], how = 'any') # keeps only lines with u,v,ws,wd\n",
    "    test_to_predict = test_to_predict[test_to_predict['wp'].isna()] # keeps only lines with no wp\n",
    "    test_to_predict = test_to_predict.sort_values(by=['date', 'forecast_time'], ascending = [True, False]).drop_duplicates(subset='date')\n",
    "    test_to_predict = test_to_predict.drop(to_drop, axis = 1)\n",
    "    return test_to_predict"
   ]
  },
  {
   "cell_type": "code",
   "execution_count": 148,
   "id": "911631de-e039-4791-885d-73d714bc3115",
   "metadata": {},
   "outputs": [],
   "source": [
    "def make_submission_file(lst_X_trains, lst_y_trains, lst_tests, lst_models, dates):\n",
    "    i = 1\n",
    "    lst_prediction = []\n",
    "    lst_models_trained = []\n",
    "    for X, y, test, model in zip(lst_X_trains, lst_y_trains, lst_tests, lst_models):\n",
    "        print(f'--------------Model {i}--------------')\n",
    "        model.fit(X, y)\n",
    "        print(f'True:\\n\\tMin:{min(y)}\\n\\tMax:{max(y)}\\n\\tMean:{y.mean()}')\n",
    "        predictions = model.predict(test)\n",
    "        print(f'Prediction:\\n\\tMin:{min(predictions)}\\n\\tMax:{max(predictions)}\\n\\tMean:{np.mean(predictions)}')\n",
    "#         predictions = [min(y) if i < 0 else i for i in predictions]\n",
    "#         predictions = [max(y) if i > max(y) else i for i in predictions]\n",
    "        predictions = [0 if i < 0 else i for i in predictions]\n",
    "        predictions = [1 if i > 1 else i for i in predictions]\n",
    "        print(f'Prediction corrected:\\n\\tMin:{min(predictions)}\\n\\tMax:{max(predictions)}\\n\\tMean:{np.mean(predictions)}')\n",
    "        lst_prediction.append(predictions)\n",
    "        lst_models_trained.append(model)\n",
    "        i+=1\n",
    "    \n",
    "    df_predictions = pd.DataFrame({\n",
    "        'date': test_dates,\n",
    "        'wp1': lst_prediction[0],\n",
    "        'wp2': lst_prediction[1],\n",
    "        'wp3': lst_prediction[2],\n",
    "        'wp4': lst_prediction[3],\n",
    "        'wp5': lst_prediction[4],\n",
    "        'wp6': lst_prediction[5],        \n",
    "    })\n",
    "    return df_predictions, lst_models_trained"
   ]
  },
  {
   "cell_type": "markdown",
   "id": "c8f21883-d940-4252-a2e8-0bf49e780a3d",
   "metadata": {},
   "source": [
    "## Submission "
   ]
  },
  {
   "cell_type": "code",
   "execution_count": 149,
   "id": "e5441a77-c516-4594-acd1-026138dcbb2c",
   "metadata": {},
   "outputs": [],
   "source": [
    "model_1 = Pipeline([('scaler', MaxAbsScaler()),('ridge', LGBMRegressor(**params_1))])\n",
    "model_2 = Pipeline([('scaler', MaxAbsScaler()),('ridge', LGBMRegressor(**params_2))])\n",
    "model_3 = Pipeline([('scaler', MaxAbsScaler()),('ridge', LGBMRegressor(**params_3))])\n",
    "model_4 = Pipeline([('scaler', MaxAbsScaler()),('ridge', LGBMRegressor(**params_4))])\n",
    "model_5 = Pipeline([('scaler', MaxAbsScaler()),('ridge', LGBMRegressor(**params_5))])\n",
    "model_6 = Pipeline([('scaler', MaxAbsScaler()),('ridge', LGBMRegressor(**params_6))])"
   ]
  },
  {
   "cell_type": "code",
   "execution_count": 150,
   "id": "8921365d-a1b4-4d3f-a6fa-693733ac2f3e",
   "metadata": {},
   "outputs": [],
   "source": [
    "# model_1 = LGBMRegressor(**params_1)\n",
    "# model_2 = LGBMRegressor(**params_2)\n",
    "# model_3 = LGBMRegressor(**params_3)\n",
    "# model_4 = LGBMRegressor(**params_4)\n",
    "# model_5 = LGBMRegressor(**params_5)\n",
    "# model_6 = LGBMRegressor(**params_6)\n",
    "\n",
    "lst_models = [model_1, model_2, model_3, model_4, model_5, model_6]\n",
    "lst_X_trains = [X1, X2, X3, X4, X5, X6]\n",
    "lst_y_trains = [y1, y2, y3, y4, y5, y6]"
   ]
  },
  {
   "cell_type": "code",
   "execution_count": 151,
   "id": "ca47f1f3-34a9-4a23-8312-2a9402f563ff",
   "metadata": {},
   "outputs": [],
   "source": [
    "lst_tests = []\n",
    "for test in [test_wp1, test_wp2, test_wp3, test_wp4, test_wp5, test_wp6]:\n",
    "    test = make_prediction_dataset(test)\n",
    "    lst_tests.append(test)"
   ]
  },
  {
   "cell_type": "code",
   "execution_count": 152,
   "id": "df54ea09-8916-4fdd-a8be-0516f0ed5395",
   "metadata": {
    "tags": []
   },
   "outputs": [
    {
     "name": "stdout",
     "output_type": "stream",
     "text": [
      "--------------Model 1--------------\n",
      "True:\n",
      "\tMin:0.0\n",
      "\tMax:0.96\n",
      "\tMean:0.2845981952075702\n",
      "Prediction:\n",
      "\tMin:-0.013845727204492645\n",
      "\tMax:0.962581150337638\n",
      "\tMean:0.29682551865581636\n",
      "Prediction corrected:\n",
      "\tMin:0\n",
      "\tMax:0.962581150337638\n",
      "\tMean:0.29685571274116673\n",
      "--------------Model 2--------------\n",
      "True:\n",
      "\tMin:0.0\n",
      "\tMax:0.966\n",
      "\tMean:0.25890153769841273\n",
      "Prediction:\n",
      "\tMin:-0.014861700692300516\n",
      "\tMax:0.9848387095488478\n",
      "\tMean:0.25566332951768944\n",
      "Prediction corrected:\n",
      "\tMin:0\n",
      "\tMax:0.9848387095488478\n",
      "\tMean:0.25567592292927865\n",
      "--------------Model 3--------------\n",
      "True:\n",
      "\tMin:0.0\n",
      "\tMax:0.989\n",
      "\tMean:0.2625247252747253\n",
      "Prediction:\n",
      "\tMin:-0.004031606720203462\n",
      "\tMax:0.9379342912891017\n",
      "\tMean:0.28904000448245387\n",
      "Prediction corrected:\n",
      "\tMin:0\n",
      "\tMax:0.9379342912891017\n",
      "\tMean:0.28904188290485683\n",
      "--------------Model 4--------------\n",
      "True:\n",
      "\tMin:0.0\n",
      "\tMax:0.992\n",
      "\tMean:0.2763637820512821\n",
      "Prediction:\n",
      "\tMin:-0.017744098520285082\n",
      "\tMax:0.9256871227201043\n",
      "\tMean:0.2803732040461147\n",
      "Prediction corrected:\n",
      "\tMin:0\n",
      "\tMax:0.9256871227201043\n",
      "\tMean:0.28043959118320577\n",
      "--------------Model 5--------------\n",
      "True:\n",
      "\tMin:0.0\n",
      "\tMax:0.978\n",
      "\tMean:0.32622119200244204\n",
      "Prediction:\n",
      "\tMin:-0.01713639690073068\n",
      "\tMax:0.9898627351175274\n",
      "\tMean:0.3289233156859009\n",
      "Prediction corrected:\n",
      "\tMin:0\n",
      "\tMax:0.9898627351175274\n",
      "\tMean:0.32893562911906926\n",
      "--------------Model 6--------------\n",
      "True:\n",
      "\tMin:0.0\n",
      "\tMax:0.947\n",
      "\tMean:0.2425176472832723\n",
      "Prediction:\n",
      "\tMin:-0.0048104277686626075\n",
      "\tMax:0.8979803396224498\n",
      "\tMean:0.23460364229340822\n",
      "Prediction corrected:\n",
      "\tMin:0\n",
      "\tMax:0.8979803396224498\n",
      "\tMean:0.23460920038463173\n"
     ]
    }
   ],
   "source": [
    "df_predictions, lst_models_trained = make_submission_file(lst_X_trains, lst_y_trains, lst_tests, lst_models, test_dates)"
   ]
  },
  {
   "cell_type": "markdown",
   "id": "7a9f9df6-0310-4202-8e27-64a9fc7ac69a",
   "metadata": {},
   "source": [
    "## Saving models"
   ]
  },
  {
   "cell_type": "code",
   "execution_count": 153,
   "id": "a0d37c4a-98cf-43a3-8667-eaac2fc226f4",
   "metadata": {},
   "outputs": [],
   "source": [
    "nb_sub = 30\n",
    "model = \"robustscaler-lgbm\"\n",
    "prepro = 'RobustScaler'\n",
    "postpro = \"Prediction limited by 0-1\""
   ]
  },
  {
   "cell_type": "code",
   "execution_count": 154,
   "id": "1fa2c859-6e63-40e3-adc4-045fe68c06de",
   "metadata": {},
   "outputs": [],
   "source": [
    "# df_predictions.to_csv('Predictions/submission_nb_10_full_maxabs-lgbm-featselect.csv', index=False, sep=';')\n",
    "df_predictions.to_csv(f'Predictions/submission_nb_{nb_sub}_{model}.csv', index=False, sep=';')"
   ]
  },
  {
   "cell_type": "code",
   "execution_count": 155,
   "id": "4b05ffe1-1cfd-44ed-942b-f93ac06f3f69",
   "metadata": {},
   "outputs": [],
   "source": [
    "f = open(f\"Predictions/submission-{nb_sub}_{model}.txt\", \"x\")\n",
    "f.write(f\"params_lgbm_1 = {str(params_1)}\\n\")\n",
    "f.write(f\"params_lgbm_1 = {str(params_2)}\\n\")\n",
    "f.write(f\"params_lgbm_1 = {str(params_3)}\\n\")\n",
    "f.write(f\"params_lgbm_1 = {str(params_4)}\\n\")\n",
    "f.write(f\"params_lgbm_1 = {str(params_5)}\\n\")\n",
    "f.write(f\"params_lgbm_1 = {str(params_6)}\\n\")\n",
    "f.write(f\"Preprocessing: {prepro}\\n\")\n",
    "f.write(f\"Postprocessing: {postpro}\\n\")\n",
    "f.close()"
   ]
  },
  {
   "cell_type": "code",
   "execution_count": 132,
   "id": "3b0d9b33-202a-433c-a1c3-9156bedd7492",
   "metadata": {},
   "outputs": [],
   "source": [
    "# pkl_model = \"Models/LGBM/LGBM-maxabs-wp1-100trials_best_warm_start-featselect.pkl\"\n",
    "# with open(pkl_model, 'wb') as file:\n",
    "#     pickle.dump(lst_models_trained[0], file)\n",
    "    \n",
    "    \n",
    "# pkl_model = \"Models/LGBM/LGBM-maxabs-wp2-50trials_best_warm_start-featselect.pkl\"\n",
    "# with open(pkl_model, 'wb') as file:\n",
    "#     pickle.dump(lst_models_trained[1], file)\n",
    "    \n",
    "\n",
    "# pkl_model = \"Models/LGBM/LGBM-maxabs-wp3-100trials_best_warm_start-featselect.pkl\"\n",
    "# with open(pkl_model, 'wb') as file:\n",
    "#     pickle.dump(lst_models_trained[2], file)\n",
    "\n",
    "\n",
    "# pkl_model = \"Models/LGBM/LGBM-maxabs-wp4-50trials_best_warm_start-featselect.pkl\"\n",
    "# with open(pkl_model, 'wb') as file:\n",
    "#     pickle.dump(lst_models_trained[3], file)\n",
    "\n",
    "\n",
    "# pkl_model = \"Models/LGBM/LGBM-maxabs-wp5-50trials_best_warm_start-featselect.pkl\"\n",
    "# with open(pkl_model, 'wb') as file:\n",
    "#     pickle.dump(lst_models_trained[4], file)\n",
    "\n",
    "\n",
    "# pkl_model = \"Models/LGBM/LGBM-maxabs-wp6-50trials_best_warm_start-featselect.pkl\"\n",
    "# with open(pkl_model, 'wb') as file:\n",
    "#     pickle.dump(lst_models_trained[5], file)"
   ]
  }
 ],
 "metadata": {
  "kernelspec": {
   "display_name": "Python 3",
   "language": "python",
   "name": "python3"
  },
  "language_info": {
   "codemirror_mode": {
    "name": "ipython",
    "version": 3
   },
   "file_extension": ".py",
   "mimetype": "text/x-python",
   "name": "python",
   "nbconvert_exporter": "python",
   "pygments_lexer": "ipython3",
   "version": "3.9.2"
  }
 },
 "nbformat": 4,
 "nbformat_minor": 5
}
