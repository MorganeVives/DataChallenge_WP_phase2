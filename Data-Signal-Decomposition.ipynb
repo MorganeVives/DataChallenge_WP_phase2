{
 "cells": [
  {
   "cell_type": "code",
   "execution_count": 2,
   "id": "e2681c77-7727-4731-bf37-2a44b8b7e749",
   "metadata": {},
   "outputs": [],
   "source": [
    "from PyEMD import EMD, EEMD\n",
    "import pandas as pd\n",
    "import seaborn as sns\n",
    "from datetime import datetime, timedelta\n",
    "import matplotlib.pyplot as plt\n",
    "import numpy as np\n",
    "import os\n",
    "import pickle\n",
    "from vmdpy import VMD\n",
    "from sklearn.metrics import mean_squared_error, mean_absolute_error"
   ]
  },
  {
   "cell_type": "code",
   "execution_count": 3,
   "id": "b47d8581-8a53-433a-a46d-a782b5a471c7",
   "metadata": {},
   "outputs": [],
   "source": [
    "def vmd(y,k):\n",
    "    \n",
    "    #Intrinsic mode generation\n",
    "     #Empirical Mode Decomposition\n",
    "    #. some sample parameters for VMD  \n",
    "    alpha = 1       # moderate bandwidth constraint  \n",
    "    tau = 0.           # noise-tolerance (no strict fidelity enforcement)  \n",
    "    K = k              # k modes  \n",
    "    DC = 0             # no DC part imposed  \n",
    "    init = 1           # initialize omegas uniformly  \n",
    "    tol = 1e-7\n",
    "    u, u_hat, omega = VMD(y,alpha, tau, K, DC, init, tol)\n",
    "    df_vmfs = pd.DataFrame()\n",
    "    #Integration in the dataframe\n",
    "    for num, imf in enumerate(u):\n",
    "        #print('----Creating VMFwp{0} EMD columns----'.format(num+1))\n",
    "        df_vmfs['IMFwp{0}'.format(num+1)] = imf\n",
    "    return df_vmfs"
   ]
  },
  {
   "cell_type": "code",
   "execution_count": 4,
   "id": "74dc0d68-e4c1-4347-9b0a-2795c94cb211",
   "metadata": {},
   "outputs": [],
   "source": [
    "train_wp1 = pd.read_csv('Data/Preprocessing/WP1_train_preprocessed.csv', sep=',')\n",
    "train_wp2 = pd.read_csv('Data/Preprocessing/WP2_train_preprocessed.csv', sep=',')\n",
    "train_wp3 = pd.read_csv('Data/Preprocessing/WP3_train_preprocessed.csv', sep=',')\n",
    "train_wp4 = pd.read_csv('Data/Preprocessing/WP4_train_preprocessed.csv', sep=',')\n",
    "train_wp5 = pd.read_csv('Data/Preprocessing/WP5_train_preprocessed.csv', sep=',')\n",
    "train_wp6 = pd.read_csv('Data/Preprocessing/WP6_train_preprocessed.csv', sep=',')"
   ]
  },
  {
   "cell_type": "code",
   "execution_count": 5,
   "id": "9e32bee3-102c-4302-9c5c-27e8e4a91193",
   "metadata": {},
   "outputs": [],
   "source": [
    "to_drop = ['date','wd','forecast_time', 'forecast', \"forecast_dist\"]"
   ]
  },
  {
   "cell_type": "code",
   "execution_count": 6,
   "id": "57d9dda6-2dc3-4732-bfce-ffe3fc45f120",
   "metadata": {},
   "outputs": [],
   "source": [
    "vmf_wp1 = vmd(train_wp1['wp'],k=4)"
   ]
  },
  {
   "cell_type": "code",
   "execution_count": 7,
   "id": "36083ec0-2739-4e1d-acec-db15da54c042",
   "metadata": {},
   "outputs": [],
   "source": [
    "vmf_wp1.to_csv('Data/Preprocessing/WP1_train_Signal.csv', sep=',', index=False)"
   ]
  },
  {
   "cell_type": "code",
   "execution_count": 16,
   "id": "9426050b-4dc5-45a8-8df7-0ec4750b43d7",
   "metadata": {},
   "outputs": [],
   "source": [
    "vmf_wp2 = vmd(train_wp2['wp'],k=4)\n",
    "vmf_wp2.to_csv('Data/Preprocessing/WP2_train_Signal.csv', sep=',', index=False)"
   ]
  },
  {
   "cell_type": "code",
   "execution_count": 17,
   "id": "93fd67a0-3211-456f-a7b5-c134b4f1c487",
   "metadata": {},
   "outputs": [],
   "source": [
    "vmf_wp3 = vmd(train_wp3['wp'],k=4)\n",
    "vmf_wp3.to_csv('Data/Preprocessing/WP3_train_Signal.csv', sep=',', index=False)"
   ]
  },
  {
   "cell_type": "code",
   "execution_count": 18,
   "id": "6a37d8bc-8aab-4970-9668-6e717f583f4b",
   "metadata": {},
   "outputs": [],
   "source": [
    "vmf_wp4 = vmd(train_wp4['wp'],k=4)\n",
    "vmf_wp4.to_csv('Data/Preprocessing/WP4_train_Signal.csv', sep=',', index=False)"
   ]
  },
  {
   "cell_type": "code",
   "execution_count": 19,
   "id": "656c1266-68f6-43e8-adf6-961f5eee8c23",
   "metadata": {},
   "outputs": [],
   "source": [
    "vmf_wp5 = vmd(train_wp5['wp'],k=4)\n",
    "vmf_wp5.to_csv('Data/Preprocessing/WP5_train_Signal.csv', sep=',', index=False)"
   ]
  },
  {
   "cell_type": "code",
   "execution_count": 20,
   "id": "668218a1-e7b4-4c5b-903c-590e932fad60",
   "metadata": {},
   "outputs": [],
   "source": [
    "vmf_wp6 = vmd(train_wp6['wp'],k=4)\n",
    "vmf_wp6.to_csv('Data/Preprocessing/WP6_train_Signal.csv', sep=',', index=False)"
   ]
  },
  {
   "cell_type": "code",
   "execution_count": 22,
   "id": "2d088779-fcc7-4dcd-adf5-f5cff66ff021",
   "metadata": {},
   "outputs": [],
   "source": [
    "from Functions.preprocessing import *"
   ]
  },
  {
   "cell_type": "code",
   "execution_count": 24,
   "id": "0e06d066-f80e-48d0-9b3e-b0c54644a80a",
   "metadata": {},
   "outputs": [],
   "source": [
    "y1_train,y1_test = splitting_train_test_vmd(vmf_wp1)"
   ]
  },
  {
   "cell_type": "code",
   "execution_count": null,
   "id": "bd505964-2059-4a8a-969a-b36fe2c901c1",
   "metadata": {},
   "outputs": [],
   "source": []
  }
 ],
 "metadata": {
  "kernelspec": {
   "display_name": "Python 3 (ipykernel)",
   "language": "python",
   "name": "python3"
  },
  "language_info": {
   "codemirror_mode": {
    "name": "ipython",
    "version": 3
   },
   "file_extension": ".py",
   "mimetype": "text/x-python",
   "name": "python",
   "nbconvert_exporter": "python",
   "pygments_lexer": "ipython3",
   "version": "3.8.6"
  }
 },
 "nbformat": 4,
 "nbformat_minor": 5
}
