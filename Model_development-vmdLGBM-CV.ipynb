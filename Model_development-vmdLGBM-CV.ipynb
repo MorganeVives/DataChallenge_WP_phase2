{
 "cells": [
  {
   "cell_type": "markdown",
   "id": "261ec557-50a0-4cd6-8bec-268d1dee685a",
   "metadata": {},
   "source": [
    "# LGBM VMD Model development"
   ]
  },
  {
   "cell_type": "code",
   "execution_count": 4,
   "id": "1399bb0f-0234-43a6-b724-73f21f9b28b7",
   "metadata": {},
   "outputs": [],
   "source": [
    "import pandas as pd\n",
    "import seaborn as sns\n",
    "import openpyxl\n",
    "from datetime import datetime, timedelta\n",
    "import matplotlib.pyplot as plt\n",
    "import numpy as np\n",
    "import os\n",
    "import pickle"
   ]
  },
  {
   "cell_type": "code",
   "execution_count": 5,
   "id": "9a662ef3-a957-41fe-955d-1c5e99709226",
   "metadata": {},
   "outputs": [],
   "source": [
    "from sklearn.model_selection import KFold, train_test_split, cross_val_score\n",
    "from sklearn.preprocessing import MinMaxScaler, StandardScaler, MaxAbsScaler, RobustScaler\n",
    "from sklearn.pipeline import Pipeline\n",
    "from sklearn.metrics import mean_squared_error, mean_absolute_error\n",
    "import optuna\n",
    "from vmdpy import VMD"
   ]
  },
  {
   "cell_type": "code",
   "execution_count": 6,
   "id": "0bc7dfff-4363-41ad-bfd2-5e5dd7c0ef63",
   "metadata": {},
   "outputs": [],
   "source": [
    "from Functions.helper_functions import * "
   ]
  },
  {
   "cell_type": "code",
   "execution_count": 7,
   "id": "3c184629-3914-4a2c-ba3f-5f111909f344",
   "metadata": {},
   "outputs": [],
   "source": [
    "import warnings\n",
    "warnings.filterwarnings(action='ignore', category=UserWarning)\n",
    "pd.options.mode.chained_assignment = None  # default='warn'"
   ]
  },
  {
   "cell_type": "code",
   "execution_count": 8,
   "id": "6333588b-f1b0-4a5b-afea-e53064be0d99",
   "metadata": {},
   "outputs": [],
   "source": [
    "np.random.seed(42)"
   ]
  },
  {
   "cell_type": "markdown",
   "id": "b617c0f5-e679-4a3f-9a62-12e03303d11f",
   "metadata": {},
   "source": [
    "# Data"
   ]
  },
  {
   "cell_type": "code",
   "execution_count": 9,
   "id": "c4d3258c-6931-447d-84b7-ac52ed05673a",
   "metadata": {},
   "outputs": [],
   "source": [
    "train_wp1 = pd.read_csv('Data/Preprocessing/WP1_train_preprocessed.csv', sep=',')\n",
    "train_wp2 = pd.read_csv('Data/Preprocessing/WP2_train_preprocessed.csv', sep=',')\n",
    "train_wp3 = pd.read_csv('Data/Preprocessing/WP3_train_preprocessed.csv', sep=',')\n",
    "train_wp4 = pd.read_csv('Data/Preprocessing/WP4_train_preprocessed.csv', sep=',')\n",
    "train_wp5 = pd.read_csv('Data/Preprocessing/WP5_train_preprocessed.csv', sep=',')\n",
    "train_wp6 = pd.read_csv('Data/Preprocessing/WP6_train_preprocessed.csv', sep=',')"
   ]
  },
  {
   "cell_type": "code",
   "execution_count": 10,
   "id": "69f752d4-63ed-43b9-9315-41ecaa114ce4",
   "metadata": {},
   "outputs": [],
   "source": [
    "test_wp1 = pd.read_csv('Data/Preprocessing/WP1_test_preprocessed.csv', sep=',')\n",
    "test_wp2 = pd.read_csv('Data/Preprocessing/WP2_test_preprocessed.csv', sep=',')\n",
    "test_wp3 = pd.read_csv('Data/Preprocessing/WP3_test_preprocessed.csv', sep=',')\n",
    "test_wp4 = pd.read_csv('Data/Preprocessing/WP4_test_preprocessed.csv', sep=',')\n",
    "test_wp5 = pd.read_csv('Data/Preprocessing/WP5_test_preprocessed.csv', sep=',')\n",
    "test_wp6 = pd.read_csv('Data/Preprocessing/WP6_test_preprocessed.csv', sep=',')\n",
    "test_dates = pd.read_csv('Data/Initial/test.csv', sep=',').date.values"
   ]
  },
  {
   "cell_type": "code",
   "execution_count": 11,
   "id": "7540aa92-fc5e-4431-8e79-faba9f0cecad",
   "metadata": {},
   "outputs": [],
   "source": [
    "to_drop = ['date','wd','forecast_time', 'forecast', \"forecast_dist\"]"
   ]
  },
  {
   "cell_type": "code",
   "execution_count": 12,
   "id": "b0be88be-a88e-4777-a80f-66d64c4d0089",
   "metadata": {
    "tags": []
   },
   "outputs": [],
   "source": [
    "u_to_drop = [\n",
    "    'u_T_1', 'u_T_2', 'u_T_3', 'u_T_4', 'u_T_5', 'u_T_6', \n",
    "    'u_T_2_mean', 'u_T_3_mean', 'u_T_4_mean', 'u_T_5_mean', 'u_T_6_mean', 'u_T_7_mean',\n",
    "    'u_T_8_mean', 'u_T_9_mean', 'u_T_10_mean', 'u_T_11_mean', 'u_T_12_mean','u_T_24_mean',\n",
    "    'u_T_2_std', 'u_T_4_std', 'u_T_5_std', 'u_T_6_std',\n",
    "    'u_T_2_median', 'u_T_3_median', 'u_T_4_median', 'u_T_5_median', 'u_T_6_median', 'u_T_12_median','u_T_24_median', 'u_T_36_median',\n",
    "    'u_T_2_max', 'u_T_3_max', 'u_T_4_max', 'u_T_5_max', 'u_T_6_max', 'u_T_12_max',\n",
    "    'u_T_2_min', 'u_T_3_min', 'u_T_4_min', 'u_T_5_min', 'u_T_6_min', 'u_T_12_min',\n",
    "    'u2_T_1', 'u2_T_2', 'u2_T_3', 'u2_T_4', 'u2_T_5', 'u2_T_6', \n",
    "    'u2_T_2_mean', 'u2_T_3_mean', 'u2_T_4_mean', 'u2_T_5_mean', 'u2_T_6_mean', 'u2_T_7_mean',\n",
    "    'u2_T_8_mean', 'u2_T_9_mean', 'u2_T_10_mean', 'u2_T_11_mean', 'u2_T_12_mean','u2_T_24_mean',\n",
    "    'u2_T_2_std', 'u2_T_4_std', 'u2_T_5_std', 'u2_T_6_std', 'u2_T_24_std',\n",
    "    'u2_T_2_median', 'u2_T_3_median', 'u2_T_4_median', 'u2_T_5_median', 'u2_T_6_median', 'u2_T_12_median',\n",
    "    'u2_T_2_max','u2_T_3_max', 'u2_T_4_max','u2_T_5_max', 'u2_T_6_max', 'u2_T_12_max',\n",
    "    'u2_T_2_min', 'u2_T_3_min', 'u2_T_4_min', 'u2_T_5_min', 'u2_T_6_min',\n",
    "    'u2_T_12', 'u2_T_36_mean', 'u2_T_36_std', 'u2_T_24_median', 'u2_T_24_max',\n",
    "    'u_T_36_mean','u_T_12','u_T_24_max','u2_T_36_median','u_T_24_min'\n",
    "]\n",
    "ws_to_drop = [\n",
    "    'ws_T_1', 'ws_T_2', 'ws_T_3', 'ws_T_4', 'ws_T_5', 'ws_T_6', 'ws_T_7', 'ws_T_8', 'ws_T_10','ws_T_11', 'ws_T_12',\n",
    "    'ws_T_2_mean', 'ws_T_3_mean', 'ws_T_4_mean', 'ws_T_5_mean', 'ws_T_6_mean', 'ws_T_7_mean', 'ws_T_8_mean', 'ws_T_9_mean', \n",
    "    'ws_T_10_mean', 'ws_T_11_mean', 'ws_T_12_mean', 'ws_T_24_mean', \n",
    "    'ws_T_2_std', 'ws_T_3_std', 'ws_T_4_std', 'ws_T_5_std', \n",
    "    'ws_T_2_median', 'ws_T_3_median', 'ws_T_4_median', 'ws_T_5_median', 'ws_T_6_median',\n",
    "    'ws_T_12_median', 'ws_T_24_median', 'ws_T_36_median',\n",
    "    'ws_T_2_max', 'ws_T_3_max', 'ws_T_4_max', 'ws_T_5_max','ws_T_6_max', 'ws_T_12_max',\n",
    "     'ws_T_2_min', 'ws_T_3_min', 'ws_T_4_min', 'ws_T_5_min', 'ws_T_6_min', 'ws_T_12_min','ws_T_24_max','ws_T_24_min'\n",
    "]\n",
    "\n",
    "v_to_drop = [\n",
    "    'v_T_1', 'v_T_2', 'v_T_3', 'v_T_4', 'v_T_5', 'v_T_6', \n",
    "    'v_T_2_mean', 'v_T_3_mean', 'v_T_4_mean', 'v_T_5_mean', 'v_T_6_mean', 'v_T_7_mean',\n",
    "    'v_T_8_mean', 'v_T_9_mean', 'v_T_10_mean', 'v_T_11_mean', 'v_T_12_mean', 'v_T_24_mean','v_T_36_mean',\n",
    "    'v_T_3_std', 'v_T_4_std', 'v_T_5_std','v_T_6_std','v_T_24_std', 'v_T_36_median',\n",
    "    'v_T_2_median', 'v_T_3_median', 'v_T_4_median', 'v_T_5_median', 'v_T_6_median', \n",
    "    'v_T_2_max', 'v_T_3_max', 'v_T_4_max', 'v_T_5_max', 'v_T_6_max', 'v_T_12_max', \n",
    "    'v_T_2_min', 'v_T_3_min', 'v_T_4_min', 'v_T_5_min', 'v_T_6_min', 'v_T_12_min', \n",
    "    'v_T_36_min', 'v_T_36', 'v_T_24_max',  'v_T_12_median', 'v_T_24_median',\n",
    "]\n",
    "\n",
    "wd_to_drop = [\n",
    "    'coswd_1', 'coswd_2', 'coswd_3', 'coswd_4', 'coswd_5', 'coswd_6',\n",
    "    'coswd_2_mean', 'coswd_3_mean', 'coswd_4_mean', 'coswd_5_mean', 'coswd_6_mean', 'coswd_7_mean', \n",
    "    'coswd_8_mean', 'coswd_9_mean', 'coswd_10_mean', 'coswd_11_mean', 'coswd_12_mean', 'coswd_24_mean', \n",
    "    'coswd_3_std', 'coswd_4_std','coswd_5_std','coswd_2_median', 'coswd_3_median','coswd_4_median', \n",
    "    'coswd_5_median', 'coswd_6_median', 'coswd_36_median', 'coswd_24_median', 'coswd_12_median',\n",
    "    'coswd_2_max', 'coswd_3_max', 'coswd_4_max', 'coswd_5_max', 'coswd_6_max', 'coswd_12_max', 'coswd_24_max',\n",
    "    'coswd_2_min', 'coswd_3_min', 'coswd_4_min', 'coswd_5_min', 'coswd_6_min', 'coswd_12_min', 'coswd_24_min',\n",
    "    'ws_T_36_max', 'ws_T_36_min', 'coswd_12', 'coswd_24'\n",
    "]\n",
    "\n",
    "other_to_drop = [\n",
    "    'cos_day', 'u', 'v'\n",
    "]\n",
    "\n",
    "feature_corr = u_to_drop+ws_to_drop+v_to_drop+wd_to_drop+other_to_drop\n",
    "to_drop = feature_corr+to_drop"
   ]
  },
  {
   "cell_type": "markdown",
   "id": "d0204367-344e-4837-9d27-c07833112862",
   "metadata": {},
   "source": [
    "# LGBM functions"
   ]
  },
  {
   "cell_type": "code",
   "execution_count": 13,
   "id": "df77bdff-aa3c-42cd-91a2-4ecb5bffdead",
   "metadata": {
    "tags": []
   },
   "outputs": [],
   "source": [
    "from lightgbm import LGBMRegressor"
   ]
  },
  {
   "cell_type": "code",
   "execution_count": 14,
   "id": "06b25086-f413-4305-a2a3-ca3de93887f1",
   "metadata": {},
   "outputs": [],
   "source": [
    "def create_dataset(data,n):\n",
    "    n_batch=int(len(data)/84)\n",
    "    new_data=np.array_split(data,n_batch)\n",
    "    train = pd.DataFrame()\n",
    "    val=pd.DataFrame()\n",
    "    for i in range(0,624):\n",
    "        if (i+n)%10 ==0:\n",
    "            val = pd.concat([val,new_data[i]])\n",
    "        else:\n",
    "            train=pd.concat([train,new_data[i]])\n",
    "    return train,val"
   ]
  },
  {
   "cell_type": "code",
   "execution_count": 43,
   "id": "2155b5a6-2476-434d-832f-2f92dd646d67",
   "metadata": {
    "tags": []
   },
   "outputs": [],
   "source": [
    "def hyperparametrization(trial, train_x, test_x, train_y, test_y):\n",
    "    param = {\n",
    "        'num_iterations':trial.suggest_int('num_iterations',10,200),\n",
    "        'metric': 'rmse', \n",
    "        'reg_alpha': trial.suggest_loguniform('reg_alpha', 1e-3, 10.0),\n",
    "        'reg_lambda': trial.suggest_loguniform('reg_lambda', 1e-3, 10.0),\n",
    "        'colsample_bytree': trial.suggest_categorical('colsample_bytree', [0.3,0.4,0.5,0.6,0.7,0.8,0.9, 1.0]),\n",
    "        'subsample': trial.suggest_categorical('subsample', [0.4,0.5,0.6,0.7,0.8,1.0]),\n",
    "        'learning_rate': trial.suggest_loguniform('learning_rate', 1e-3, 0.3),\n",
    "        'max_depth': trial.suggest_int(\"max_depth\", 20, 100),\n",
    "        'num_leaves' : trial.suggest_int('num_leaves', 2, 1000),\n",
    "        'min_child_samples': trial.suggest_int('min_child_samples', 1, 300),\n",
    "    }\n",
    "    \n",
    "#     model = LGBMRegressor(**param)  \n",
    "    model = Pipeline([('scaler', MinMaxScaler()),('ridge', LGBMRegressor(**param))])\n",
    "#     model.fit(train_x,train_y,eval_set=[(test_x,test_y)],early_stopping_rounds=100,verbose=False)\n",
    "    model.fit(train_x,train_y)\n",
    "    \n",
    "    preds = model.predict(test_x)\n",
    "    \n",
    "    rmse =  mean_squared_error(test_y, preds,squared=False)\n",
    "    \n",
    "    return rmse"
   ]
  },
  {
   "cell_type": "code",
   "execution_count": 16,
   "id": "bb1f232a-8c04-46e1-92df-858297f8384f",
   "metadata": {},
   "outputs": [],
   "source": [
    "def vmd(y,k):\n",
    "    \n",
    "    #Intrinsic mode generation\n",
    "     #Empirical Mode Decomposition\n",
    "    #. some sample parameters for VMD  \n",
    "    alpha = 1       # moderate bandwidth constraint  \n",
    "    tau = 0.           # noise-tolerance (no strict fidelity enforcement)  \n",
    "    K = k              # k modes  \n",
    "    DC = 0             # no DC part imposed  \n",
    "    init = 1           # initialize omegas uniformly  \n",
    "    tol = 1e-7\n",
    "    u, u_hat, omega = VMD(y,alpha, tau, K, DC, init, tol)\n",
    "    df_vmfs = pd.DataFrame()\n",
    "    #Integration in the dataframe\n",
    "    for num, imf in enumerate(u):\n",
    "        #print('----Creating VMFwp{0} EMD columns----'.format(num+1))\n",
    "        df_vmfs['IMFwp{0}'.format(num+1)] = imf\n",
    "    return df_vmfs"
   ]
  },
  {
   "cell_type": "code",
   "execution_count": 36,
   "id": "9e0357f1-807c-4ed7-9c29-c5b53fc532d8",
   "metadata": {
    "tags": []
   },
   "outputs": [],
   "source": [
    "def lgbm_scaled_cross_validation_vmf(X, y1,y2,y3,y4,y_true, params):\n",
    "   # if params == None:\n",
    "#         model = Pipeline([('scaler', MaxAbsScaler()),('ridge', LGBMRegressor())])\n",
    "        #model = Pipeline([('scaler', RobustScaler()),('ridge', LGBMRegressor())])\n",
    "   # else:\n",
    "#         model = Pipeline([('scaler', MaxAbsScaler()),('ridge', LGBMRegressor(**params))])\n",
    "    model1 = Pipeline([('scaler', RobustScaler()),('ridge', LGBMRegressor(**params[0]))])\n",
    "    model2 = Pipeline([('scaler', RobustScaler()),('ridge', LGBMRegressor(**params[1]))])\n",
    "    model3 = Pipeline([('scaler', RobustScaler()),('ridge', LGBMRegressor(**params[2]))])\n",
    "    model4 = Pipeline([('scaler', RobustScaler()),('ridge', LGBMRegressor(**params[3]))])\n",
    "\n",
    "    print('-----------LGBM CROSS VALIDATION BEGINNING-----------')\n",
    "    split = 10\n",
    "    #kf = KFold(n_splits=split, shuffle=True)       \n",
    "    lgbm_rmse_scores = []\n",
    "    lgbm_mae_scores = []\n",
    "    i = 1\n",
    "    for n in range(split):\n",
    "        X_train, X_test = create_dataset(X,n)\n",
    "        Y1_train, Y1_test = create_dataset(y1,n)\n",
    "        Y2_train, Y2_test = create_dataset(y2,n)\n",
    "        Y3_train, Y3_test = create_dataset(y3,n)\n",
    "        Y4_train, Y4_test = create_dataset(y4,n)\n",
    "        Y_train, Y_test = create_dataset(y_true,n)\n",
    "\n",
    "        model1.fit(X_train, Y1_train)\n",
    "        model2.fit(X_train, Y2_train)\n",
    "        model3.fit(X_train, Y3_train)\n",
    "        model4.fit(X_train, Y4_train)\n",
    "\n",
    "        prediction = model1.predict(X_test)+model2.predict(X_test)+model3.predict(X_test)+model4.predict(X_test)\n",
    "        lgbm_rmse_scores.append(mean_squared_error(Y_test, prediction,squared=False))\n",
    "        lgbm_mae_scores.append(mean_absolute_error(Y_test, prediction))\n",
    "        \n",
    "        print(show_evaluation(prediction, Y_test))\n",
    "        print(f'-------------------FOLD {i}-----------------')\n",
    "        i+=1\n",
    "\n",
    "    print('---------------CROSS VALIDATION COMPLETE-------------')\n",
    "    print('--------------------------RMSE-----------------------')\n",
    "    display_scores(lgbm_rmse_scores)\n",
    "    print('--------------------------MAE------------------------')\n",
    "    display_scores(lgbm_mae_scores)"
   ]
  },
  {
   "cell_type": "markdown",
   "id": "bbc3509e-c676-463f-97ac-c0ac98b5f3ed",
   "metadata": {},
   "source": [
    "## WP1 "
   ]
  },
  {
   "cell_type": "markdown",
   "id": "7cd32285-01cf-4ab5-8fcb-706b7f8a294b",
   "metadata": {},
   "source": [
    "| |  | Mean | Std | Sum up |\n",
    "| --- | --- | --- | --- | --- |\n",
    "| No params | RMSE | 0.10344875448880764 | 0.0019070131550065564 |  |\n",
    "| No params - StandardScaler | RMSE | 0.10355855436437653 | 0.0019043784372002228 |  |\n",
    "| After tuning 50trials| RMSE | 0.06830085723562579 | 0.0012998671387256361 | To keep, maybe redo optuna with warm start with it - first sub|\n",
    "| After tuning 100trials| RMSE | 0.0695930431604128 | 0.0015123892627707553 | |\n",
    "| After tuning W.S 60trials | RMSE | 0.0671868765178121 | 0.0019357892229500213 | second sub - BETTER |\n",
    "| After tuning W.S 50trials - StandardScaler | RMSE | 0.06705406618054667 | 0.0013509038914922506 | with warm start 1 parameters |\n",
    "| After tuning W.S 50trials - RobustScaler | RMSE | 0.06736753027260156 | 0.0009971394767292064 | |\n",
    "| --- | --- | --- | --- | --- |\n",
    "| No params | MAE | 0.07306057409517844 | 0.0009857628815465762 |  |\n",
    "| No params - StandardScaler | MAE | 0.07310137331348271 | 0.0010945145617042643 |  |\n",
    "| After tuning 50trials| MAE | 0.04481696427654311 | 0.000727722171899004 |  |\n",
    "| After tuning 100trials| MAE | 0.045696725242359994 | 0.0008508558100930331 |  |\n",
    "| After tuning W.S 60trials | MAE | 0.04322865305311156 | 0.0009454253743042544 | |\n",
    "| After tuning W.S 50trials - StandardScaler | MAE | 0.043173032898780175 | 0.0007696056550296055 | with warm start 1 parameters |\n",
    "| After tuning W.S 50trials - RobustScaler | MAE | 0.043246198690701294 | 0.000596545751975941 | |"
   ]
  },
  {
   "cell_type": "code",
   "execution_count": 18,
   "id": "70c3af58-11fa-437e-80d2-d58c9901ce08",
   "metadata": {
    "tags": []
   },
   "outputs": [],
   "source": [
    "wp1_X = train_wp1[[c for c in train_wp1 if c not in [\"wp\"]] + [\"wp\"]].drop(to_drop+feature_corr, axis = 1)\n",
    "X1 = wp1_X.drop('wp', axis=1)\n",
    "y1 = wp1_X['wp']"
   ]
  },
  {
   "cell_type": "code",
   "execution_count": 19,
   "id": "7b697370-1d87-4ce0-8b0e-80439e2764c3",
   "metadata": {},
   "outputs": [],
   "source": [
    "vmf_1 = vmd(y1,4)"
   ]
  },
  {
   "cell_type": "code",
   "execution_count": null,
   "id": "e684f183-2486-4a97-aead-c6feee96c515",
   "metadata": {},
   "outputs": [],
   "source": [
    "params_1=[]\n",
    "for i in range(1,5):\n",
    "    def objective_wp1(trial,data=X1,target=vmf_1['IMFwp'+str(i)]):\n",
    "        train_x, test_x = create_dataset(data,0)\n",
    "        train_y,test_y=create_dataset(target,0)\n",
    "        return hyperparametrization(trial, train_x, test_x, train_y, test_y)\n",
    "    study = optuna.create_study(direction='minimize')\n",
    "    study.optimize(objective_wp1, n_trials=50)\n",
    "    #write_results('Data/Hyperparametrization/lgbm_vmd_50trials_cv.xlsx', 'wp1', study.trials_dataframe())\n",
    "    params_1.append(study.best_trial.params)\n",
    "    #best_trial"
   ]
  },
  {
   "cell_type": "code",
   "execution_count": 67,
   "id": "9043340a-fa94-4c3c-aff4-a0124bfc6654",
   "metadata": {},
   "outputs": [],
   "source": [
    "#optuna.logging.set_verbosity(0)"
   ]
  },
  {
   "cell_type": "code",
   "execution_count": 65,
   "id": "83be5c41-427b-49ab-bbbb-55cd2a8f9242",
   "metadata": {},
   "outputs": [
    {
     "data": {
      "text/plain": [
       "2"
      ]
     },
     "execution_count": 65,
     "metadata": {},
     "output_type": "execute_result"
    }
   ],
   "source": [
    "optuna.logging.get_verbosity()"
   ]
  },
  {
   "cell_type": "code",
   "execution_count": 93,
   "id": "62fa5359-b84c-432d-aef1-f78eb5d71749",
   "metadata": {},
   "outputs": [
    {
     "data": {
      "text/plain": [
       "[]"
      ]
     },
     "execution_count": 93,
     "metadata": {},
     "output_type": "execute_result"
    }
   ],
   "source": [
    "params_1"
   ]
  },
  {
   "cell_type": "code",
   "execution_count": 49,
   "id": "7dfe1062-91d9-4442-a175-4bf6442ed93d",
   "metadata": {},
   "outputs": [],
   "source": [
    "#def objective_wp1(trial,data=X1,target=vmf_1['IMFwp1']):\n",
    "#    train_x, test_x = create_dataset(data,0)\n",
    "#    train_y,test_y=create_dataset(target,0)\n",
    "#    return hyperparametrization(trial, train_x, test_x, train_y, test_y)"
   ]
  },
  {
   "cell_type": "code",
   "execution_count": 50,
   "id": "ab792f0b-e669-4e29-b434-8db786b194a2",
   "metadata": {
    "tags": []
   },
   "outputs": [],
   "source": [
    "#study = optuna.create_study(direction='minimize')\n",
    "#study.optimize(objective_wp1, n_trials=30)\n",
    "#write_results('Data/Hyperparametrization/lgbm_vmd_50trials_cv.xlsx', 'wp1', study.trials_dataframe())\n",
    "#best_trial = study.best_trial.params\n",
    "#best_trial"
   ]
  },
  {
   "cell_type": "code",
   "execution_count": 47,
   "id": "155f4d19-4b83-46bb-9b9e-775357faeb38",
   "metadata": {},
   "outputs": [],
   "source": [
    "#30\n",
    "#param_1_1 = {\n",
    "#        'reg_alpha': 0.005623861124729257,\n",
    " #  'reg_lambda': 0.22406174588522088,\n",
    "  #  'colsample_bytree': 0.7,\n",
    " #'subsample': 0.4,\n",
    " #'learning_rate': 0.11907721244377018,\n",
    " #'max_depth': 31,\n",
    " #'num_leaves': 776,\n",
    " #'min_child_samples': 29}\n",
    "#\n",
    "#param_1_2 = {'reg_alpha': 0.003075982697697176,\n",
    " #'reg_lambda': 9.876348984550155,\n",
    " #'colsample_bytree': 0.3,\n",
    " #'subsample': 0.7,\n",
    " #'learning_rate': 0.15883690225856262,\n",
    " #'max_depth': 64,\n",
    " #'num_leaves': 657,\n",
    " #'min_child_samples': 20}\n",
    "#\n",
    "#param_1_3 = {'reg_alpha': 0.018182754684069484,\n",
    "# 'reg_lambda': 0.006831890665560452,\n",
    "# 'colsample_bytree': 0.5,\n",
    "# 'subsample': 0.5,\n",
    "# 'learning_rate': 0.11202987530753453,\n",
    "# 'max_depth': 53,\n",
    "# 'num_leaves': 848,\n",
    "# 'min_child_samples': 27}\n",
    "    \n",
    "#param_1_4 = {'reg_alpha': 0.0038530142853001356,\n",
    "# 'reg_lambda': 0.0021589196685704304,\n",
    "# 'colsample_bytree': 1.0,\n",
    "# 'subsample': 0.6,\n",
    "# 'learning_rate': 0.05089100428869571,\n",
    "# 'max_depth': 94,\n",
    "# 'num_leaves': 881,\n",
    "# 'min_child_samples': 29}\n",
    "\n",
    "#params_vmf=[param_1_1,param_1_2,param_1_3,param_1_4]"
   ]
  },
  {
   "cell_type": "code",
   "execution_count": 48,
   "id": "ff52651e-8cdd-45bf-b810-41757048b7b9",
   "metadata": {},
   "outputs": [],
   "source": [
    "#y1_vmfs = []\n",
    "#for i in range(1,5):\n",
    "#    y1_vmfs.append(vmf_1['IMFwp'+str(i)])\n",
    "#y_vmfs"
   ]
  },
  {
   "cell_type": "code",
   "execution_count": 46,
   "id": "db8ce085-5a12-4114-aa31-73d871ce5b3c",
   "metadata": {},
   "outputs": [
    {
     "name": "stdout",
     "output_type": "stream",
     "text": [
      "-----------LGBM CROSS VALIDATION BEGINNING-----------\n",
      "RMSE score: 0.09278747975585935\n",
      "MAE score: 0.06453001424424233\n",
      "None\n",
      "-------------------FOLD 1-----------------\n",
      "RMSE score: 0.10298803883287531\n",
      "MAE score: 0.06942072886164485\n",
      "None\n",
      "-------------------FOLD 2-----------------\n",
      "RMSE score: 0.09811999866968998\n",
      "MAE score: 0.0700667543726276\n",
      "None\n",
      "-------------------FOLD 3-----------------\n",
      "RMSE score: 0.10727334167300454\n",
      "MAE score: 0.07191095912120853\n",
      "None\n",
      "-------------------FOLD 4-----------------\n",
      "RMSE score: 0.107423144610324\n",
      "MAE score: 0.07211693548470784\n",
      "None\n",
      "-------------------FOLD 5-----------------\n",
      "RMSE score: 0.09773209716044177\n",
      "MAE score: 0.06607837756164867\n",
      "None\n",
      "-------------------FOLD 6-----------------\n",
      "RMSE score: 0.09237100146931441\n",
      "MAE score: 0.06310940092591404\n",
      "None\n",
      "-------------------FOLD 7-----------------\n",
      "RMSE score: 0.09628197628562973\n",
      "MAE score: 0.06521873046767863\n",
      "None\n",
      "-------------------FOLD 8-----------------\n",
      "RMSE score: 0.09799794976714232\n",
      "MAE score: 0.06690831486290562\n",
      "None\n",
      "-------------------FOLD 9-----------------\n",
      "RMSE score: 0.09079179821620577\n",
      "MAE score: 0.06341779607640843\n",
      "None\n",
      "-------------------FOLD 10-----------------\n",
      "---------------CROSS VALIDATION COMPLETE-------------\n",
      "--------------------------RMSE-----------------------\n",
      "Scores: [0.09278747975585935, 0.10298803883287531, 0.09811999866968998, 0.10727334167300454, 0.107423144610324, 0.09773209716044177, 0.09237100146931441, 0.09628197628562973, 0.09799794976714232, 0.09079179821620577]\n",
      "Mean: 0.09837668264404872\n",
      "Std: 0.005586627778857766\n",
      "--------------------------MAE------------------------\n",
      "Scores: [0.06453001424424233, 0.06942072886164485, 0.0700667543726276, 0.07191095912120853, 0.07211693548470784, 0.06607837756164867, 0.06310940092591404, 0.06521873046767863, 0.06690831486290562, 0.06341779607640843]\n",
      "Mean: 0.06727780119789864\n",
      "Std: 0.0032077128107433073\n"
     ]
    }
   ],
   "source": [
    "lgbm_scaled_cross_validation_vmf(X1, vmf_1['IMFwp1'],vmf_1['IMFwp2'],vmf_1['IMFwp3'],vmf_1['IMFwp4'],y1, params_1)"
   ]
  },
  {
   "cell_type": "code",
   "execution_count": 51,
   "id": "6e8b9581-1e59-40fc-ba46-cac68640c7ff",
   "metadata": {
    "tags": []
   },
   "outputs": [],
   "source": [
    "# lgbm_cross_validation(X1, y1, params_1)\n",
    "#lgbm_scaled_cross_validation(X1, y1, params_1)"
   ]
  },
  {
   "cell_type": "markdown",
   "id": "2d4d08ad-3af3-408b-8834-57c1349d328a",
   "metadata": {},
   "source": [
    "## WP2"
   ]
  },
  {
   "cell_type": "markdown",
   "id": "61678924-2941-418d-93bf-84336d13fc89",
   "metadata": {},
   "source": [
    "| |  | Mean | Std | Sum up|\n",
    "| --- | --- | --- | --- | |\n",
    "| No params | RMSE | 0.10935335541057582 | 0.0014425096116734836 | |\n",
    "| No params - StandardScaler | RMSE | 0.10938240918068962 | 0.002563571983412213 |  |\n",
    "| After tuning - 50trials| RMSE | 0.0725081520968898 | 0.0016974702626377217 | |\n",
    "| After tuning 100trials| RMSE | 0.0707064364904941 | 0.001396820290618349 | More stable, to keep |\n",
    "| After tuning W.S. 50trials - StandardScaler | RMSE | 0.07072007438762447 | 0.0010396359382112443 | With 100trials parameters |\n",
    "| After tuning W.S. 50trials - RobustScaler | RMSE | 0.07014346508497502 | 0.0013671602187583412 | |\n",
    "| 50 trials per vmf - RobustScaler | RMSE | 0.06362570142793085 |0.001287144743120583 | |\n",
    "| --- | --- | --- | --- |---|\n",
    "| No params | MAE | 0.07681923856705511 | 0.0008670825615244791 | |\n",
    "| No params - StandardScaler | MAE | 0.0768829843356125 | 0.0017568758903956435 |  |\n",
    "| After tuning - 50trials| MAE | 0.04512164110351975 |  0.0006579433030966575 | |\n",
    "| After tuning 100trials| MAE | 0.04457902842458915 | 0.0006807155447311589 | |\n",
    "| After tuning W.S. 50trials - StandardScaler | MAE | 0.04456161763710905 | 0.0005342365137369251 | With 100trials parameters |\n",
    "| After tuning W.S. 50trials - RobustScaler | MAE | 0.044471464183373825 | 0.0007098731360466324 | |\n",
    "| 50 trials per vmf - RobustScaler | MAE | 0.04180182904890137 |0.000707244027895384 | |"
   ]
  },
  {
   "cell_type": "code",
   "execution_count": 37,
   "id": "e6b8fee4-9fba-4818-a7df-29cd5d3806ad",
   "metadata": {},
   "outputs": [],
   "source": [
    "wp2_X = train_wp2[[c for c in train_wp2 if c not in [\"wp\"]] + [\"wp\"]].drop(to_drop, axis = 1)\n",
    "X2 = wp2_X.drop('wp', axis=1)\n",
    "y2 = wp2_X['wp']"
   ]
  },
  {
   "cell_type": "code",
   "execution_count": 38,
   "id": "e297d1bd-f11e-4f8b-9fe2-634e78ca9c85",
   "metadata": {
    "tags": []
   },
   "outputs": [],
   "source": [
    "# lgbm_cross_validation(X2, y2, None)\n",
    "#lgbm_scaled_cross_validation(X2, y2, None)"
   ]
  },
  {
   "cell_type": "code",
   "execution_count": 39,
   "id": "08e46471-867c-4be0-acdf-1b67a94f005b",
   "metadata": {},
   "outputs": [],
   "source": [
    "vmf_2=vmd(y2,4)"
   ]
  },
  {
   "cell_type": "code",
   "execution_count": null,
   "id": "aa8f2ac7-7b51-4980-9b09-176fc3bdfded",
   "metadata": {},
   "outputs": [],
   "source": [
    "params_2=[]\n",
    "for i in range(1,5):\n",
    "    def objective_wp2(trial,data=X2,target=vmf_2['IMFwp'+str(i)]):\n",
    "        train_x, test_x = create_dataset(data,0)\n",
    "        train_y,test_y=create_dataset(target,0)\n",
    "        return hyperparametrization(trial, train_x, test_x, train_y, test_y)\n",
    "    study = optuna.create_study(direction='minimize')\n",
    "    study.optimize(objective_wp2, n_trials=30)\n",
    "    #write_results('Data/Hyperparametrization/lgbm_vmd_50trials_cv.xlsx', 'wp1', study.trials_dataframe())\n",
    "    params_2.append(study.best_trial.params)\n",
    "    #best_trial"
   ]
  },
  {
   "cell_type": "code",
   "execution_count": 41,
   "id": "7cf6d1ae-6ce5-4072-81e7-e3260f03c085",
   "metadata": {},
   "outputs": [
    {
     "data": {
      "text/plain": [
       "[{'reg_alpha': 0.8989626290992829,\n",
       "  'reg_lambda': 0.02860416768666997,\n",
       "  'colsample_bytree': 0.9,\n",
       "  'subsample': 0.7,\n",
       "  'learning_rate': 0.14818986270396325,\n",
       "  'max_depth': 77,\n",
       "  'num_leaves': 493,\n",
       "  'min_child_samples': 139},\n",
       " {'reg_alpha': 0.04814562073250691,\n",
       "  'reg_lambda': 0.1853132756141036,\n",
       "  'colsample_bytree': 0.7,\n",
       "  'subsample': 0.6,\n",
       "  'learning_rate': 0.12216486361334354,\n",
       "  'max_depth': 46,\n",
       "  'num_leaves': 451,\n",
       "  'min_child_samples': 2},\n",
       " {'reg_alpha': 0.13886086557652427,\n",
       "  'reg_lambda': 0.006035145058825088,\n",
       "  'colsample_bytree': 0.5,\n",
       "  'subsample': 0.8,\n",
       "  'learning_rate': 0.11292949949226556,\n",
       "  'max_depth': 80,\n",
       "  'num_leaves': 408,\n",
       "  'min_child_samples': 28},\n",
       " {'reg_alpha': 0.03208743299589346,\n",
       "  'reg_lambda': 0.05996184640295221,\n",
       "  'colsample_bytree': 0.6,\n",
       "  'subsample': 0.8,\n",
       "  'learning_rate': 0.09630331232627548,\n",
       "  'max_depth': 91,\n",
       "  'num_leaves': 351,\n",
       "  'min_child_samples': 34}]"
      ]
     },
     "execution_count": 41,
     "metadata": {},
     "output_type": "execute_result"
    }
   ],
   "source": [
    "params_2"
   ]
  },
  {
   "cell_type": "code",
   "execution_count": 42,
   "id": "bf5a9ed4-82f3-432e-b648-48ed4649db59",
   "metadata": {},
   "outputs": [
    {
     "name": "stdout",
     "output_type": "stream",
     "text": [
      "-----------LGBM CROSS VALIDATION BEGINNING-----------\n",
      "RMSE score: 0.10038003588674906\n",
      "MAE score: 0.06875916314897694\n",
      "None\n",
      "-------------------FOLD 1-----------------\n",
      "RMSE score: 0.1204145323195303\n",
      "MAE score: 0.08254122024341674\n",
      "None\n",
      "-------------------FOLD 2-----------------\n",
      "RMSE score: 0.10945412554541814\n",
      "MAE score: 0.0756417143528146\n",
      "None\n",
      "-------------------FOLD 3-----------------\n",
      "RMSE score: 0.10530271725132866\n",
      "MAE score: 0.07082110354262629\n",
      "None\n",
      "-------------------FOLD 4-----------------\n",
      "RMSE score: 0.11349410338125623\n",
      "MAE score: 0.07462548012578445\n",
      "None\n",
      "-------------------FOLD 5-----------------\n",
      "RMSE score: 0.10306035942620158\n",
      "MAE score: 0.06878288458227325\n",
      "None\n",
      "-------------------FOLD 6-----------------\n",
      "RMSE score: 0.10739607999279667\n",
      "MAE score: 0.07356228035706461\n",
      "None\n",
      "-------------------FOLD 7-----------------\n",
      "RMSE score: 0.11611966567312369\n",
      "MAE score: 0.07698641615965333\n",
      "None\n",
      "-------------------FOLD 8-----------------\n",
      "RMSE score: 0.10216120078531413\n",
      "MAE score: 0.06928451320165374\n",
      "None\n",
      "-------------------FOLD 9-----------------\n",
      "RMSE score: 0.09480780599436692\n",
      "MAE score: 0.06580186707414581\n",
      "None\n",
      "-------------------FOLD 10-----------------\n",
      "---------------CROSS VALIDATION COMPLETE-------------\n",
      "--------------------------RMSE-----------------------\n",
      "Scores: [0.10038003588674906, 0.1204145323195303, 0.10945412554541814, 0.10530271725132866, 0.11349410338125623, 0.10306035942620158, 0.10739607999279667, 0.11611966567312369, 0.10216120078531413, 0.09480780599436692]\n",
      "Mean: 0.10725906262560854\n",
      "Std: 0.007383013403297053\n",
      "--------------------------MAE------------------------\n",
      "Scores: [0.06875916314897694, 0.08254122024341674, 0.0756417143528146, 0.07082110354262629, 0.07462548012578445, 0.06878288458227325, 0.07356228035706461, 0.07698641615965333, 0.06928451320165374, 0.06580186707414581]\n",
      "Mean: 0.07268066427884097\n",
      "Std: 0.004711453631807362\n"
     ]
    }
   ],
   "source": [
    "lgbm_scaled_cross_validation_vmf(X2, vmf_2['IMFwp1'],vmf_2['IMFwp2'],vmf_2['IMFwp3'],vmf_2['IMFwp4'],y2, params_2)"
   ]
  },
  {
   "cell_type": "markdown",
   "id": "966468d2-d1a2-4c0a-a190-c37d85ef61f5",
   "metadata": {},
   "source": [
    "## WP3"
   ]
  },
  {
   "cell_type": "markdown",
   "id": "4c9c1b64-7897-4824-92b2-8f6ac0236b43",
   "metadata": {},
   "source": [
    "| |  | Mean | Std ||\n",
    "| --- | --- | --- | --- ||\n",
    "| No params | RMSE | 0.10392558077951244 | 0.0019038044796542812 ||\n",
    "| No params - StandardScaler | RMSE | 0.10354114984428979 | 0.0013629826554706927 ||\n",
    "| After tuning - 50trials| RMSE | 0.058253804820626545 | 0.0009893279354834155 | More stable, to keep |\n",
    "| After tuning - 100trials| RMSE | 0.058338944346627106 | 0.0017133930174837203 ||\n",
    "| After tuning W.S. - 50trials - StandardScaler | RMSE | 0.05839355310487706 | 0.0009599824558874801 ||\n",
    "| After tuning - 50trial - StandardScaler | RMSE | 0.05828701989178382 | 0.0013469437248627486 | with 50trials best|\n",
    "| After tuning - 50trial W.S. - RobustScaler | RMSE | 0.05907568414783913 | 0.0010120672015320588 | |\n",
    "| 50 trials per vmf - RobustScaler | RMSE | 0.055222505478173776 |0.001617631570145444 | |\n",
    "| --- | --- | --- | --- | --- |\n",
    "| No params | MAE | 0.07550802464973318 | 0.0012006073434917633 ||\n",
    "| No params - StandardScaler | MAE | 0.0753220326933334 | 0.0007353049410651828 | |\n",
    "| After tuning - 50trials| MAE | 0.03787310900962521 | 0.000442034368456366 ||\n",
    "| After tuning - 100trials| MAE | 0.03838030476025398 | 0.0007480100565996748 ||\n",
    "| After tuning W.S. - 50trials -StandardScaler | MAE | 0.03838277636708219 | 0.0006195357541130345 ||\n",
    "| After tuning - 50trials - StandardScaler | MAE | 0.03796602386426936 | 0.0006588818520419181 | with 50trials best|\n",
    "| After tuning - 50trial W.S. - RobustScaler | MAE | 0.03824961618901729 | 0.0007043585347168141 | |\n",
    "| 50 trials per vmf - RobustScaler | MAE | 0.03743940912757508 |0.0007763774066394942 | |\n"
   ]
  },
  {
   "cell_type": "code",
   "execution_count": 68,
   "id": "1a19adfe-a591-4616-827c-70140477879b",
   "metadata": {},
   "outputs": [],
   "source": [
    "wp3_X = train_wp3[[c for c in train_wp3 if c not in [\"wp\"]] + [\"wp\"]].drop(to_drop, axis = 1)\n",
    "X3 = wp3_X.drop('wp', axis = 1)\n",
    "y3 = wp3_X['wp']\n"
   ]
  },
  {
   "cell_type": "code",
   "execution_count": 69,
   "id": "bb7ec842-b244-4688-82a5-b7d876f33c80",
   "metadata": {},
   "outputs": [],
   "source": [
    "vmf_3=vmd(y3,4)"
   ]
  },
  {
   "cell_type": "code",
   "execution_count": 71,
   "id": "4ed2224b-ae06-427d-977a-79175147d995",
   "metadata": {},
   "outputs": [],
   "source": [
    "params_3=[]\n",
    "for i in range(1,5):\n",
    "    def objective_wp3(trial,data=X3,target=vmf_3['IMFwp'+str(i)]):\n",
    "        train_x, test_x = create_dataset(data,0)\n",
    "        train_y,test_y=create_dataset(target,0)\n",
    "        return hyperparametrization(trial, train_x, test_x, train_y, test_y)\n",
    "    study = optuna.create_study(direction='minimize')\n",
    "    study.optimize(objective_wp3, n_trials=50)\n",
    "    #write_results('Data/Hyperparametrization/lgbm_vmd_50trials_cv.xlsx', 'wp1', study.trials_dataframe())\n",
    "    params_3.append(study.best_trial.params)\n",
    "    #best_trial"
   ]
  },
  {
   "cell_type": "code",
   "execution_count": 72,
   "id": "a942248e-346f-4639-bbec-9f143715c426",
   "metadata": {},
   "outputs": [
    {
     "data": {
      "text/plain": [
       "[{'num_iterations': 198,\n",
       "  'reg_alpha': 0.013604579665063635,\n",
       "  'reg_lambda': 0.001104195569705583,\n",
       "  'colsample_bytree': 0.5,\n",
       "  'subsample': 1.0,\n",
       "  'learning_rate': 0.03570342942079682,\n",
       "  'max_depth': 77,\n",
       "  'num_leaves': 545,\n",
       "  'min_child_samples': 35},\n",
       " {'num_iterations': 146,\n",
       "  'reg_alpha': 0.017893652000519254,\n",
       "  'reg_lambda': 0.03568880524513762,\n",
       "  'colsample_bytree': 0.6,\n",
       "  'subsample': 0.7,\n",
       "  'learning_rate': 0.057595558537054746,\n",
       "  'max_depth': 57,\n",
       "  'num_leaves': 887,\n",
       "  'min_child_samples': 16},\n",
       " {'num_iterations': 194,\n",
       "  'reg_alpha': 0.0011405663569969192,\n",
       "  'reg_lambda': 0.03576227430274568,\n",
       "  'colsample_bytree': 0.6,\n",
       "  'subsample': 0.5,\n",
       "  'learning_rate': 0.06393047967439963,\n",
       "  'max_depth': 94,\n",
       "  'num_leaves': 374,\n",
       "  'min_child_samples': 54},\n",
       " {'num_iterations': 173,\n",
       "  'reg_alpha': 0.001997020726371583,\n",
       "  'reg_lambda': 0.938978270132322,\n",
       "  'colsample_bytree': 0.9,\n",
       "  'subsample': 0.5,\n",
       "  'learning_rate': 0.11345836510280095,\n",
       "  'max_depth': 24,\n",
       "  'num_leaves': 715,\n",
       "  'min_child_samples': 12}]"
      ]
     },
     "execution_count": 72,
     "metadata": {},
     "output_type": "execute_result"
    }
   ],
   "source": [
    "params_3"
   ]
  },
  {
   "cell_type": "code",
   "execution_count": 73,
   "id": "5cbcd443-c32b-44a3-a6a6-c61930cb8efc",
   "metadata": {},
   "outputs": [
    {
     "name": "stdout",
     "output_type": "stream",
     "text": [
      "-----------LGBM CROSS VALIDATION BEGINNING-----------\n",
      "RMSE score: 0.1060574269919031\n",
      "MAE score: 0.07281683676066975\n",
      "None\n",
      "-------------------FOLD 1-----------------\n",
      "RMSE score: 0.10818762021762672\n",
      "MAE score: 0.07296957337232776\n",
      "None\n",
      "-------------------FOLD 2-----------------\n",
      "RMSE score: 0.09861201829186156\n",
      "MAE score: 0.06811066522355663\n",
      "None\n",
      "-------------------FOLD 3-----------------\n",
      "RMSE score: 0.09212888035222459\n",
      "MAE score: 0.06459443912699175\n",
      "None\n",
      "-------------------FOLD 4-----------------\n",
      "RMSE score: 0.08651070645554249\n",
      "MAE score: 0.06103123198771605\n",
      "None\n",
      "-------------------FOLD 5-----------------\n",
      "RMSE score: 0.08920883846824865\n",
      "MAE score: 0.06196663099739528\n",
      "None\n",
      "-------------------FOLD 6-----------------\n",
      "RMSE score: 0.09195705948463435\n",
      "MAE score: 0.06351992392362356\n",
      "None\n",
      "-------------------FOLD 7-----------------\n",
      "RMSE score: 0.10207941847652546\n",
      "MAE score: 0.06914274987184395\n",
      "None\n",
      "-------------------FOLD 8-----------------\n",
      "RMSE score: 0.09970201185588567\n",
      "MAE score: 0.06711069611446545\n",
      "None\n",
      "-------------------FOLD 9-----------------\n",
      "RMSE score: 0.09566764334921525\n",
      "MAE score: 0.0663876205212428\n",
      "None\n",
      "-------------------FOLD 10-----------------\n",
      "---------------CROSS VALIDATION COMPLETE-------------\n",
      "--------------------------RMSE-----------------------\n",
      "Scores: [0.1060574269919031, 0.10818762021762672, 0.09861201829186156, 0.09212888035222459, 0.08651070645554249, 0.08920883846824865, 0.09195705948463435, 0.10207941847652546, 0.09970201185588567, 0.09566764334921525]\n",
      "Mean: 0.09701116239436677\n",
      "Std: 0.00681586571129689\n",
      "--------------------------MAE------------------------\n",
      "Scores: [0.07281683676066975, 0.07296957337232776, 0.06811066522355663, 0.06459443912699175, 0.06103123198771605, 0.06196663099739528, 0.06351992392362356, 0.06914274987184395, 0.06711069611446545, 0.0663876205212428]\n",
      "Mean: 0.0667650367899833\n",
      "Std: 0.0039241582953175825\n"
     ]
    }
   ],
   "source": [
    "lgbm_scaled_cross_validation_vmf(X3, vmf_3['IMFwp1'],vmf_3['IMFwp2'],vmf_3['IMFwp3'],vmf_3['IMFwp4'],y3, params_3)"
   ]
  },
  {
   "cell_type": "markdown",
   "id": "cdc76c8c-9cc7-441f-b25e-e1ecf293298e",
   "metadata": {},
   "source": [
    "## WP4"
   ]
  },
  {
   "cell_type": "markdown",
   "id": "895876ff-0734-4527-a0b9-68cf9b097dec",
   "metadata": {},
   "source": [
    "| |  | Mean | Std | |\n",
    "| --- | --- | --- | --- | --- |\n",
    "| No params | RMSE | 0.10486204816363351 | 0.0015105949978751166 ||\n",
    "| No params  - Std | RMSE | 0.10480849342496516 | 0.0010370863436755212 ||\n",
    "| After tuning - 50trials| RMSE | 0.06513233717204232 | 0.0015891617240032727 ||\n",
    "| After tuning 100trials| RMSE | 0.06357594848470964 | 0.0013676749030776929 ||\n",
    "| After tuning with W.S - 50trials - Std | RMSE | 0.06339401569270936 | 0.001228053306037005 ||\n",
    "| After tuning with W.S. - 50trials - RobustScaler | RMSE | 0.0632324115841705 | 0.0010081050240456021 ||\n",
    "| 50 trials per vmf - RobustScaler | RMSE |0.0593103048767063  |0.0011712884174825636 | |\n",
    "| --- | --- | --- | --- | --- |\n",
    "| No params | MAE | 0.07564776733421566 | 0.00104638869825841 ||\n",
    "| No params  - Std | MAE | 0.07570794104041156 | 0.0008419207475550308 ||\n",
    "| After tuning - 50trials| MAE | 0.04219236028055372 | 0.0008190579419060266 ||\n",
    "| After tuning 100trials| MAE |0.04172111697148837  | 0.0009349285385250968 ||\n",
    "| After tuning with W.S - 50trials  - Std | MAE | 0.04150668920859586 | 0.0005729825500890684 ||\n",
    "| After tuning with W.S. - 50trials - RobustScaler | MAE | 0.04170428506837879 | 0.0006101247158768171 ||\n",
    "| 50 trials per vmf - RobustScaler | MAE | 0.04115807160847805 |0.0006471350512019214 | |"
   ]
  },
  {
   "cell_type": "code",
   "execution_count": 74,
   "id": "185fd52e-5fe9-4ab7-817d-03feda6a42ab",
   "metadata": {},
   "outputs": [],
   "source": [
    "wp4_X = train_wp4[[c for c in train_wp4 if c not in [\"wp\"]] + [\"wp\"]].drop(to_drop, axis = 1)\n",
    "X4 = wp4_X.drop('wp', axis = 1)\n",
    "y4 = wp4_X['wp']"
   ]
  },
  {
   "cell_type": "code",
   "execution_count": 75,
   "id": "600d33ec-0f2b-4c52-9685-a9e019686f5e",
   "metadata": {},
   "outputs": [],
   "source": [
    "vmf_4 = vmd(y4,4)"
   ]
  },
  {
   "cell_type": "code",
   "execution_count": 76,
   "id": "d39e7810-189b-4e76-8a45-974360b0ac2f",
   "metadata": {},
   "outputs": [],
   "source": [
    "params_4=[]\n",
    "for i in range(1,5):\n",
    "    def objective_wp4(trial,data=X4,target=vmf_4['IMFwp'+str(i)]):\n",
    "        train_x, test_x = create_dataset(data,0)\n",
    "        train_y,test_y=create_dataset(target,0)\n",
    "        return hyperparametrization(trial, train_x, test_x, train_y, test_y)\n",
    "    study = optuna.create_study(direction='minimize')\n",
    "    study.optimize(objective_wp4, n_trials=50)\n",
    "    #write_results('Data/Hyperparametrization/lgbm_vmd_50trials_cv.xlsx', 'wp1', study.trials_dataframe())\n",
    "    params_4.append(study.best_trial.params)\n",
    "    #best_trial"
   ]
  },
  {
   "cell_type": "code",
   "execution_count": 77,
   "id": "808956f9-3702-4696-9f0a-fdd0905f8746",
   "metadata": {},
   "outputs": [
    {
     "data": {
      "text/plain": [
       "[{'num_iterations': 190,\n",
       "  'reg_alpha': 0.08740832339553317,\n",
       "  'reg_lambda': 0.05234226447415364,\n",
       "  'colsample_bytree': 0.6,\n",
       "  'subsample': 0.5,\n",
       "  'learning_rate': 0.05511212634467807,\n",
       "  'max_depth': 65,\n",
       "  'num_leaves': 953,\n",
       "  'min_child_samples': 78},\n",
       " {'num_iterations': 168,\n",
       "  'reg_alpha': 0.004422533925075392,\n",
       "  'reg_lambda': 0.02532810814326587,\n",
       "  'colsample_bytree': 0.8,\n",
       "  'subsample': 0.8,\n",
       "  'learning_rate': 0.08891098092291012,\n",
       "  'max_depth': 93,\n",
       "  'num_leaves': 741,\n",
       "  'min_child_samples': 16},\n",
       " {'num_iterations': 187,\n",
       "  'reg_alpha': 0.0014580334405515133,\n",
       "  'reg_lambda': 0.16466463497716385,\n",
       "  'colsample_bytree': 0.9,\n",
       "  'subsample': 0.6,\n",
       "  'learning_rate': 0.09659577021871608,\n",
       "  'max_depth': 85,\n",
       "  'num_leaves': 372,\n",
       "  'min_child_samples': 32},\n",
       " {'num_iterations': 147,\n",
       "  'reg_alpha': 0.005340968904620406,\n",
       "  'reg_lambda': 0.00482525231455719,\n",
       "  'colsample_bytree': 0.7,\n",
       "  'subsample': 0.4,\n",
       "  'learning_rate': 0.16200076449653428,\n",
       "  'max_depth': 72,\n",
       "  'num_leaves': 305,\n",
       "  'min_child_samples': 1}]"
      ]
     },
     "execution_count": 77,
     "metadata": {},
     "output_type": "execute_result"
    }
   ],
   "source": [
    "params_4"
   ]
  },
  {
   "cell_type": "code",
   "execution_count": 78,
   "id": "1ee00770-5a81-48e2-a95e-30ce54f1b811",
   "metadata": {},
   "outputs": [
    {
     "name": "stdout",
     "output_type": "stream",
     "text": [
      "-----------LGBM CROSS VALIDATION BEGINNING-----------\n",
      "RMSE score: 0.08891207264274348\n",
      "MAE score: 0.06381650696113399\n",
      "None\n",
      "-------------------FOLD 1-----------------\n",
      "RMSE score: 0.09654557832557174\n",
      "MAE score: 0.06777196143168283\n",
      "None\n",
      "-------------------FOLD 2-----------------\n",
      "RMSE score: 0.09918889459646066\n",
      "MAE score: 0.06925798489665161\n",
      "None\n",
      "-------------------FOLD 3-----------------\n",
      "RMSE score: 0.1024441653741253\n",
      "MAE score: 0.06999534705713298\n",
      "None\n",
      "-------------------FOLD 4-----------------\n",
      "RMSE score: 0.1002010995683427\n",
      "MAE score: 0.06781431417666353\n",
      "None\n",
      "-------------------FOLD 5-----------------\n",
      "RMSE score: 0.09816107525473769\n",
      "MAE score: 0.06519721917437178\n",
      "None\n",
      "-------------------FOLD 6-----------------\n",
      "RMSE score: 0.08977182599067389\n",
      "MAE score: 0.06296171758847799\n",
      "None\n",
      "-------------------FOLD 7-----------------\n",
      "RMSE score: 0.09821707531675966\n",
      "MAE score: 0.06680710435668857\n",
      "None\n",
      "-------------------FOLD 8-----------------\n",
      "RMSE score: 0.09885085770138041\n",
      "MAE score: 0.06626549603815145\n",
      "None\n",
      "-------------------FOLD 9-----------------\n",
      "RMSE score: 0.08957938237362104\n",
      "MAE score: 0.062328443105049494\n",
      "None\n",
      "-------------------FOLD 10-----------------\n",
      "---------------CROSS VALIDATION COMPLETE-------------\n",
      "--------------------------RMSE-----------------------\n",
      "Scores: [0.08891207264274348, 0.09654557832557174, 0.09918889459646066, 0.1024441653741253, 0.1002010995683427, 0.09816107525473769, 0.08977182599067389, 0.09821707531675966, 0.09885085770138041, 0.08957938237362104]\n",
      "Mean: 0.09618720271444166\n",
      "Std: 0.00466110519204013\n",
      "--------------------------MAE------------------------\n",
      "Scores: [0.06381650696113399, 0.06777196143168283, 0.06925798489665161, 0.06999534705713298, 0.06781431417666353, 0.06519721917437178, 0.06296171758847799, 0.06680710435668857, 0.06626549603815145, 0.062328443105049494]\n",
      "Mean: 0.06622160947860042\n",
      "Std: 0.00247716034744149\n"
     ]
    }
   ],
   "source": [
    "lgbm_scaled_cross_validation_vmf(X4, vmf_4['IMFwp1'],vmf_4['IMFwp2'],vmf_4['IMFwp3'],vmf_4['IMFwp4'],y4, params_4)"
   ]
  },
  {
   "cell_type": "markdown",
   "id": "640e4455-cfc5-493a-b3e6-95b608171368",
   "metadata": {},
   "source": [
    "## WP5"
   ]
  },
  {
   "cell_type": "markdown",
   "id": "57cd823c-ff5c-41ba-9e0e-8b8d75cf2c65",
   "metadata": {},
   "source": [
    "| |  | Mean | Std |\n",
    "| --- | --- | --- | --- |\n",
    "| No params | RMSE | 0.11722129743692011 | 0.0017732599261516583 |\n",
    "| No params - Std | RMSE | 0.11729790317307003 | 0.0014884067903823003 |\n",
    "| After tuning - 50trials| RMSE | 0.07721413638593042 | 0.0011020420293213135 |\n",
    "| After tuning - 100trials| RMSE | 0.07297648991888442 | 0.0014970317509404526 |\n",
    "| After tuning - 100trials - warm start | RMSE | 0.07362803793800192 | 0.0013223501622953715 |\n",
    "| After tuning 50trials - std - warm start | RMSE | 0.07379631452164911 | 0.0019249511778190373 |\n",
    "| After tuning 50trials W.S - RobustScaler | RMSE | 0.07295312559507504 | 0.0017094978756410563 |\n",
    "| 50 trials per vmf | RMSE | 0.06800612721907516 | 0.001364694216955839 |\n",
    "| --- | --- | --- | --- |\n",
    "| No params | MAE | 0.08497074568090211 | 0.0009101526501392155 |\n",
    "| No params - Std | MAE | 0.0849648687365363 | 0.0011901882563545429 |\n",
    "| After tuning - 50trials| MAE | 0.051677856581467195 | 0.0006374939894477714 |\n",
    "| After tuning - 100trials| MAE | 0.04765271414503236 | 0.0006257356756510128 |\n",
    "| After tuning - 100trials - warm trials | MAE | 0.04785179154681675 | 0.0005795839605605526 |\n",
    "| After tuning 50trials - std - warm start | MAE | 0.0480147138609328 | 0.0008230908433814974 |\n",
    "| After tuning 50trials W.S - RobustScaler | MAE | 0.04783683731205745 | 0.0007485320718195094 |\n",
    "| 50 trials per vmf | MAE | 0.04587332776201404 | 0.0008842958670279714 |"
   ]
  },
  {
   "cell_type": "code",
   "execution_count": 79,
   "id": "44f38883-24ef-46f1-bc0b-1070f4e36d2f",
   "metadata": {},
   "outputs": [],
   "source": [
    "wp5_X = train_wp5[[c for c in train_wp5 if c not in [\"wp\"]] + [\"wp\"]].drop(to_drop, axis = 1)\n",
    "X5 = wp5_X.drop('wp', axis = 1)\n",
    "y5 = wp5_X['wp']"
   ]
  },
  {
   "cell_type": "code",
   "execution_count": 80,
   "id": "266a426e-78b3-4ebe-b07b-c721d4a1a580",
   "metadata": {},
   "outputs": [],
   "source": [
    "vmf_5=vmd(y5,4)"
   ]
  },
  {
   "cell_type": "code",
   "execution_count": 81,
   "id": "069d009e-4fe3-4dd6-8e01-7ee51b8481d0",
   "metadata": {},
   "outputs": [],
   "source": [
    "params_5=[]\n",
    "for i in range(1,5):\n",
    "    def objective_wp5(trial,data=X5,target=vmf_5['IMFwp'+str(i)]):\n",
    "        train_x, test_x = create_dataset(data,0)\n",
    "        train_y,test_y=create_dataset(target,0)\n",
    "        return hyperparametrization(trial, train_x, test_x, train_y, test_y)\n",
    "    study = optuna.create_study(direction='minimize')\n",
    "    study.optimize(objective_wp5, n_trials=50)\n",
    "    #write_results('Data/Hyperparametrization/lgbm_vmd_50trials_cv.xlsx', 'wp1', study.trials_dataframe())\n",
    "    params_5.append(study.best_trial.params)\n",
    "    #best_trial"
   ]
  },
  {
   "cell_type": "code",
   "execution_count": 82,
   "id": "5667fa7b-c9ed-4430-8882-f519f9ef0076",
   "metadata": {},
   "outputs": [
    {
     "data": {
      "text/plain": [
       "[{'num_iterations': 184,\n",
       "  'reg_alpha': 0.06489604162697013,\n",
       "  'reg_lambda': 0.055007646697995204,\n",
       "  'colsample_bytree': 0.9,\n",
       "  'subsample': 0.4,\n",
       "  'learning_rate': 0.11026263866224266,\n",
       "  'max_depth': 21,\n",
       "  'num_leaves': 331,\n",
       "  'min_child_samples': 178},\n",
       " {'num_iterations': 164,\n",
       "  'reg_alpha': 0.005409667198241994,\n",
       "  'reg_lambda': 0.005321378546562433,\n",
       "  'colsample_bytree': 0.9,\n",
       "  'subsample': 0.6,\n",
       "  'learning_rate': 0.07753174946391972,\n",
       "  'max_depth': 44,\n",
       "  'num_leaves': 554,\n",
       "  'min_child_samples': 19},\n",
       " {'num_iterations': 151,\n",
       "  'reg_alpha': 0.9371384169028797,\n",
       "  'reg_lambda': 0.022972260326287724,\n",
       "  'colsample_bytree': 0.7,\n",
       "  'subsample': 0.5,\n",
       "  'learning_rate': 0.1506752607060971,\n",
       "  'max_depth': 99,\n",
       "  'num_leaves': 805,\n",
       "  'min_child_samples': 81},\n",
       " {'num_iterations': 126,\n",
       "  'reg_alpha': 0.0023359999509967723,\n",
       "  'reg_lambda': 1.0482967133747603,\n",
       "  'colsample_bytree': 0.5,\n",
       "  'subsample': 1.0,\n",
       "  'learning_rate': 0.12696480211679992,\n",
       "  'max_depth': 90,\n",
       "  'num_leaves': 575,\n",
       "  'min_child_samples': 26}]"
      ]
     },
     "execution_count": 82,
     "metadata": {},
     "output_type": "execute_result"
    }
   ],
   "source": [
    "params_5"
   ]
  },
  {
   "cell_type": "code",
   "execution_count": 83,
   "id": "eca43925-4129-49fe-a353-3936f5488039",
   "metadata": {},
   "outputs": [
    {
     "name": "stdout",
     "output_type": "stream",
     "text": [
      "-----------LGBM CROSS VALIDATION BEGINNING-----------\n",
      "RMSE score: 0.10207058891023578\n",
      "MAE score: 0.0713443866487568\n",
      "None\n",
      "-------------------FOLD 1-----------------\n",
      "RMSE score: 0.10599291612407934\n",
      "MAE score: 0.07257188473917432\n",
      "None\n",
      "-------------------FOLD 2-----------------\n",
      "RMSE score: 0.11459649722375616\n",
      "MAE score: 0.07801326522204596\n",
      "None\n",
      "-------------------FOLD 3-----------------\n",
      "RMSE score: 0.11209855774372034\n",
      "MAE score: 0.07879658055735482\n",
      "None\n",
      "-------------------FOLD 4-----------------\n",
      "RMSE score: 0.12473622318296942\n",
      "MAE score: 0.08696070626115071\n",
      "None\n",
      "-------------------FOLD 5-----------------\n",
      "RMSE score: 0.11368688554270887\n",
      "MAE score: 0.07819949803301844\n",
      "None\n",
      "-------------------FOLD 6-----------------\n",
      "RMSE score: 0.10620772359216918\n",
      "MAE score: 0.07432056535288271\n",
      "None\n",
      "-------------------FOLD 7-----------------\n",
      "RMSE score: 0.11493016175266649\n",
      "MAE score: 0.07835202711086822\n",
      "None\n",
      "-------------------FOLD 8-----------------\n",
      "RMSE score: 0.11268304967455353\n",
      "MAE score: 0.07614615451261236\n",
      "None\n",
      "-------------------FOLD 9-----------------\n",
      "RMSE score: 0.10578219520640639\n",
      "MAE score: 0.07253929228644937\n",
      "None\n",
      "-------------------FOLD 10-----------------\n",
      "---------------CROSS VALIDATION COMPLETE-------------\n",
      "--------------------------RMSE-----------------------\n",
      "Scores: [0.10207058891023578, 0.10599291612407934, 0.11459649722375616, 0.11209855774372034, 0.12473622318296942, 0.11368688554270887, 0.10620772359216918, 0.11493016175266649, 0.11268304967455353, 0.10578219520640639]\n",
      "Mean: 0.11127847989532655\n",
      "Std: 0.006185020542572789\n",
      "--------------------------MAE------------------------\n",
      "Scores: [0.0713443866487568, 0.07257188473917432, 0.07801326522204596, 0.07879658055735482, 0.08696070626115071, 0.07819949803301844, 0.07432056535288271, 0.07835202711086822, 0.07614615451261236, 0.07253929228644937]\n",
      "Mean: 0.07672443607243137\n",
      "Std: 0.004305554528516855\n"
     ]
    }
   ],
   "source": [
    "lgbm_scaled_cross_validation_vmf(X5, vmf_5['IMFwp1'],vmf_5['IMFwp2'],vmf_5['IMFwp3'],vmf_5['IMFwp4'],y5, params_5)"
   ]
  },
  {
   "cell_type": "markdown",
   "id": "ccd547b2-24e6-4023-8959-d7955620108f",
   "metadata": {},
   "source": [
    "## WP6"
   ]
  },
  {
   "cell_type": "markdown",
   "id": "284dc175-a45f-4e3f-b577-2833794fe5ae",
   "metadata": {},
   "source": [
    "| |  | Mean | Std |\n",
    "| --- | --- | --- | --- |\n",
    "| No params | RMSE | 0.0940394026188472 | 0.0010749562915831372 |\n",
    "| No params - std | RMSE | 0.09409110695713666 | 0.0013476052174559326 |\n",
    "| After tuning - 50trials| RMSE | 0.05404362835213171 | 0.0008595325139047733 |\n",
    "| After tuning 100trials| RMSE | 0.054861488499908594 | 0.0007335378238383901 |\n",
    "| After tuning 50trials std - W.S. | RMSE |  0.05446642457662869 | 0.0009850877593637966 |\n",
    "| After tuning with W.S. - 50trials - RobustScaler | RMSE | 0.053430744425113176 | 0.0010865698281516414 ||\n",
    "| 50 trials per vmf | RMSE | 0.05055279132726877 | 0.0006313072455945034 |\n",
    "| --- | --- | --- | --- |\n",
    "| No params | MAE | 0.070455643271004 | 0.0006641538274191148 |\n",
    "| After tuning - 50trials| MAE | 0.03657758274248596 | 0.0005325521314198646 |\n",
    "| After tuning 100trials| MAE | 0.03783933495157941 | 0.00045956939815828987 |\n",
    "| After tuning 50trials std - warm start| MAE | 0.0367847898055025 | 0.00039001216012464674 |\n",
    "| After tuning with W.S. - 50trials - RobustScaler | RMSE | 0.03652663713189234 | 0.0006251342721346248 ||\n",
    "| 50 trials per vmf | MAE | 0.0357185614133554 | 0.00028295806558658535 |"
   ]
  },
  {
   "cell_type": "code",
   "execution_count": 84,
   "id": "da2f9ef4-ad90-4d75-9137-735cd41284fe",
   "metadata": {
    "tags": []
   },
   "outputs": [],
   "source": [
    "wp6_X = train_wp6[[c for c in train_wp6 if c not in [\"wp\"]] + [\"wp\"]].drop(to_drop, axis = 1)\n",
    "X6 = wp6_X.drop('wp', axis = 1)\n",
    "y6 = wp6_X['wp']\n"
   ]
  },
  {
   "cell_type": "code",
   "execution_count": 85,
   "id": "8fe5a92c-2e3c-4254-b6d0-6c568268e624",
   "metadata": {},
   "outputs": [],
   "source": [
    "vmf_6=vmd(y6,4)"
   ]
  },
  {
   "cell_type": "code",
   "execution_count": 86,
   "id": "26cd0d6b-69b8-4b7f-983c-6fa6860035f0",
   "metadata": {},
   "outputs": [],
   "source": [
    "params_6=[]\n",
    "for i in range(1,5):\n",
    "    def objective_wp6(trial,data=X6,target=vmf_6['IMFwp'+str(i)]):\n",
    "        train_x, test_x = create_dataset(data,0)\n",
    "        train_y,test_y=create_dataset(target,0)\n",
    "        return hyperparametrization(trial, train_x, test_x, train_y, test_y)\n",
    "    study = optuna.create_study(direction='minimize')\n",
    "    study.optimize(objective_wp6, n_trials=50)\n",
    "    #write_results('Data/Hyperparametrization/lgbm_vmd_50trials_cv.xlsx', 'wp1', study.trials_dataframe())\n",
    "    params_6.append(study.best_trial.params)\n",
    "    #best_trial"
   ]
  },
  {
   "cell_type": "code",
   "execution_count": 87,
   "id": "4f19df79-e043-4266-9f00-57583480b7b9",
   "metadata": {},
   "outputs": [
    {
     "data": {
      "text/plain": [
       "[{'num_iterations': 200,\n",
       "  'reg_alpha': 0.004401912791258752,\n",
       "  'reg_lambda': 3.5836797388523163,\n",
       "  'colsample_bytree': 0.9,\n",
       "  'subsample': 0.4,\n",
       "  'learning_rate': 0.09929313022106498,\n",
       "  'max_depth': 85,\n",
       "  'num_leaves': 618,\n",
       "  'min_child_samples': 134},\n",
       " {'num_iterations': 198,\n",
       "  'reg_alpha': 0.004851715505257754,\n",
       "  'reg_lambda': 0.033387475224379924,\n",
       "  'colsample_bytree': 0.5,\n",
       "  'subsample': 0.6,\n",
       "  'learning_rate': 0.06866408396138152,\n",
       "  'max_depth': 100,\n",
       "  'num_leaves': 752,\n",
       "  'min_child_samples': 6},\n",
       " {'num_iterations': 194,\n",
       "  'reg_alpha': 0.015448045192685167,\n",
       "  'reg_lambda': 0.06754565730564002,\n",
       "  'colsample_bytree': 0.8,\n",
       "  'subsample': 0.7,\n",
       "  'learning_rate': 0.03440941519325138,\n",
       "  'max_depth': 86,\n",
       "  'num_leaves': 504,\n",
       "  'min_child_samples': 20},\n",
       " {'num_iterations': 135,\n",
       "  'reg_alpha': 0.04292869814058017,\n",
       "  'reg_lambda': 0.0016107561795408506,\n",
       "  'colsample_bytree': 0.7,\n",
       "  'subsample': 0.8,\n",
       "  'learning_rate': 0.06367284713708012,\n",
       "  'max_depth': 68,\n",
       "  'num_leaves': 664,\n",
       "  'min_child_samples': 3}]"
      ]
     },
     "execution_count": 87,
     "metadata": {},
     "output_type": "execute_result"
    }
   ],
   "source": [
    "params_6"
   ]
  },
  {
   "cell_type": "code",
   "execution_count": 88,
   "id": "a4078324-023c-40f0-94e8-320d85a49117",
   "metadata": {},
   "outputs": [
    {
     "name": "stdout",
     "output_type": "stream",
     "text": [
      "-----------LGBM CROSS VALIDATION BEGINNING-----------\n",
      "RMSE score: 0.07723576297315457\n",
      "MAE score: 0.05626532521463109\n",
      "None\n",
      "-------------------FOLD 1-----------------\n",
      "RMSE score: 0.08391360524292042\n",
      "MAE score: 0.06027632654303539\n",
      "None\n",
      "-------------------FOLD 2-----------------\n",
      "RMSE score: 0.08957150818348422\n",
      "MAE score: 0.06328572376287407\n",
      "None\n",
      "-------------------FOLD 3-----------------\n",
      "RMSE score: 0.08652882027755264\n",
      "MAE score: 0.06167631641106222\n",
      "None\n",
      "-------------------FOLD 4-----------------\n",
      "RMSE score: 0.09105409987030634\n",
      "MAE score: 0.06277940989940647\n",
      "None\n",
      "-------------------FOLD 5-----------------\n",
      "RMSE score: 0.08878002632316084\n",
      "MAE score: 0.06137593176491158\n",
      "None\n",
      "-------------------FOLD 6-----------------\n",
      "RMSE score: 0.08245386569803609\n",
      "MAE score: 0.0605293261446593\n",
      "None\n",
      "-------------------FOLD 7-----------------\n",
      "RMSE score: 0.08690182464304116\n",
      "MAE score: 0.06094273867761041\n",
      "None\n",
      "-------------------FOLD 8-----------------\n",
      "RMSE score: 0.08332078320626667\n",
      "MAE score: 0.058507812939888125\n",
      "None\n",
      "-------------------FOLD 9-----------------\n",
      "RMSE score: 0.07829433335837768\n",
      "MAE score: 0.055622704970592574\n",
      "None\n",
      "-------------------FOLD 10-----------------\n",
      "---------------CROSS VALIDATION COMPLETE-------------\n",
      "--------------------------RMSE-----------------------\n",
      "Scores: [0.07723576297315457, 0.08391360524292042, 0.08957150818348422, 0.08652882027755264, 0.09105409987030634, 0.08878002632316084, 0.08245386569803609, 0.08690182464304116, 0.08332078320626667, 0.07829433335837768]\n",
      "Mean: 0.08480546297763006\n",
      "Std: 0.004394853324152147\n",
      "--------------------------MAE------------------------\n",
      "Scores: [0.05626532521463109, 0.06027632654303539, 0.06328572376287407, 0.06167631641106222, 0.06277940989940647, 0.06137593176491158, 0.0605293261446593, 0.06094273867761041, 0.058507812939888125, 0.055622704970592574]\n",
      "Mean: 0.060126161632867124\n",
      "Std: 0.0024422445798859965\n"
     ]
    }
   ],
   "source": [
    "lgbm_scaled_cross_validation_vmf(X6, vmf_6['IMFwp1'],vmf_6['IMFwp2'],vmf_6['IMFwp3'],vmf_6['IMFwp4'],y6, params_6)"
   ]
  },
  {
   "cell_type": "markdown",
   "id": "599f0c09-97e8-4e3b-a117-f707ed6235e2",
   "metadata": {},
   "source": [
    "# Predictions"
   ]
  },
  {
   "cell_type": "markdown",
   "id": "56a64913-6e53-4cb4-9cb5-2d7a5f33c2d2",
   "metadata": {},
   "source": [
    "## Functions"
   ]
  },
  {
   "cell_type": "code",
   "execution_count": 89,
   "id": "2e673e92-7f3f-4ffd-a822-c574b030dac4",
   "metadata": {},
   "outputs": [],
   "source": [
    "to_drop_test = ['date','wd','forecast_time', 'forecast', \"forecast_dist\", 'wp']+feature_corr\n",
    "def make_prediction_dataset(test, to_drop=to_drop_test):\n",
    "    test_to_predict = test.dropna(subset=['ws','u','v'], how = 'any') # keeps only lines with u,v,ws,wd\n",
    "    test_to_predict = test_to_predict[test_to_predict['wp'].isna()] # keeps only lines with no wp\n",
    "    test_to_predict = test_to_predict.sort_values(by=['date', 'forecast_time'], ascending = [True, False]).drop_duplicates(subset='date')\n",
    "    test_to_predict = test_to_predict.drop(to_drop, axis = 1)\n",
    "    return test_to_predict"
   ]
  },
  {
   "cell_type": "code",
   "execution_count": 90,
   "id": "911631de-e039-4791-885d-73d714bc3115",
   "metadata": {},
   "outputs": [],
   "source": [
    "def make_submission_file(lst_X_trains, lst_y_trains,lst_y_vmfs,lst_tests, lst_models, dates):\n",
    "    i = 1\n",
    "    lst_prediction = []\n",
    "    lst_models_trained = []\n",
    "    for X, y, test, model in zip(lst_X_trains, lst_y_vmfs, lst_tests, lst_models):\n",
    "        print(f'--------------Model {i}--------------')\n",
    "        model[0].fit(X, y[0])\n",
    "        model[1].fit(X, y[1])\n",
    "        model[2].fit(X, y[2])\n",
    "        model[3].fit(X, y[3])\n",
    "        print(f'True:\\n\\tMin:{min(lst_y_trains[i-1])}\\n\\tMax:{max(lst_y_trains[i-1])}\\n\\tMean:{lst_y_trains[i-1].mean()}')\n",
    "        predictions = (model[0].predict(test)+\n",
    "                       model[1].predict(test)+\n",
    "                       model[2].predict(test)+\n",
    "                       model[3].predict(test))\n",
    "        print(f'Prediction:\\n\\tMin:{min(predictions)}\\n\\tMax:{max(predictions)}\\n\\tMean:{np.mean(predictions)}')\n",
    "#         predictions = [min(y) if i < 0 else i for i in predictions]\n",
    "#         predictions = [max(y) if i > max(y) else i for i in predictions]\n",
    "        predictions = [0 if i < 0 else i for i in predictions]\n",
    "        predictions = [1 if i > 1 else i for i in predictions]\n",
    "        print(f'Prediction corrected:\\n\\tMin:{min(predictions)}\\n\\tMax:{max(predictions)}\\n\\tMean:{np.mean(predictions)}')\n",
    "        lst_prediction.append(predictions)\n",
    "        lst_models_trained.append(model)\n",
    "        i+=1\n",
    "    \n",
    "    df_predictions = pd.DataFrame({\n",
    "        'date': test_dates,\n",
    "        'wp1': lst_prediction[0],\n",
    "        'wp2': lst_prediction[1],\n",
    "        'wp3': lst_prediction[2],\n",
    "        'wp4': lst_prediction[3],\n",
    "        'wp5': lst_prediction[4],\n",
    "        'wp6': lst_prediction[5],        \n",
    "    })\n",
    "    return df_predictions, lst_models_trained"
   ]
  },
  {
   "cell_type": "code",
   "execution_count": 91,
   "id": "00891316-887e-4bfe-9380-e697d854aa74",
   "metadata": {},
   "outputs": [],
   "source": [
    "def make_submission_file_nmodels(lst_X_trains, lst_y_trains,lst_y_vmfs,lst_tests, lst_models, dates):\n",
    "    i = 1\n",
    "    lst_prediction = []\n",
    "    lst_models_trained = []\n",
    "    for X, y, test, model in zip(lst_X_trains, lst_y_vmfs, lst_tests, lst_models):\n",
    "        print(f'--------------Model {i}--------------')\n",
    "        for n in range(len(model)):\n",
    "            model[n].fit(X,y[n])\n",
    "        \n",
    "        print(f'True:\\n\\tMin:{min(lst_y_trains[i-1])}\\n\\tMax:{max(lst_y_trains[i-1])}\\n\\tMean:{lst_y_trains[i-1].mean()}')\n",
    "        \n",
    "        for m in range(len(model)):\n",
    "            if m==0:\n",
    "                predictions = model[m].predict(test)\n",
    "            else:\n",
    "                predictions += model[m].predict(test)\n",
    "        print(f'Prediction:\\n\\tMin:{min(predictions)}\\n\\tMax:{max(predictions)}\\n\\tMean:{np.mean(predictions)}')\n",
    "#         predictions = [min(y) if i < 0 else i for i in predictions]\n",
    "#         predictions = [max(y) if i > max(y) else i for i in predictions]\n",
    "        predictions = [0 if i < 0 else i for i in predictions]\n",
    "        predictions = [1 if i > 1 else i for i in predictions]\n",
    "        print(f'Prediction corrected:\\n\\tMin:{min(predictions)}\\n\\tMax:{max(predictions)}\\n\\tMean:{np.mean(predictions)}')\n",
    "        lst_prediction.append(predictions)\n",
    "        lst_models_trained.append(model)\n",
    "        i+=1\n",
    "    \n",
    "    df_predictions = pd.DataFrame({\n",
    "        'date': test_dates,\n",
    "        'wp1': lst_prediction[0],\n",
    "        'wp2': lst_prediction[1],\n",
    "        'wp3': lst_prediction[2],\n",
    "        'wp4': lst_prediction[3],\n",
    "        'wp5': lst_prediction[4],\n",
    "        'wp6': lst_prediction[5],        \n",
    "    })\n",
    "    return df_predictions, lst_models_trained"
   ]
  },
  {
   "cell_type": "markdown",
   "id": "c8f21883-d940-4252-a2e8-0bf49e780a3d",
   "metadata": {},
   "source": [
    "## Submission "
   ]
  },
  {
   "cell_type": "code",
   "execution_count": null,
   "id": "bb92fbf4-59bf-438f-8efd-aa528d9d7feb",
   "metadata": {},
   "outputs": [],
   "source": [
    "model_1=[]\n",
    "\n",
    "for i in range(4):\n",
    "    model=Pipeline([('scaler', MaxAbsScaler()),('ridge', LGBMRegressor(**params_1[i]))])\n",
    "    model_1+=[model]\n",
    "    "
   ]
  },
  {
   "cell_type": "code",
   "execution_count": null,
   "id": "b3763cee-c1f6-468d-8921-b05d55655e64",
   "metadata": {},
   "outputs": [],
   "source": [
    "model_2=[]\n",
    "\n",
    "for i in range(4):\n",
    "    model=Pipeline([('scaler', MaxAbsScaler()),('ridge', LGBMRegressor(**params_2[i]))])\n",
    "    model_2+=[model]\n",
    "    "
   ]
  },
  {
   "cell_type": "code",
   "execution_count": null,
   "id": "c584e278-f0bd-447f-b094-824b74eab816",
   "metadata": {},
   "outputs": [],
   "source": [
    "model_3=[]\n",
    "\n",
    "for i in range(4):\n",
    "    model=Pipeline([('scaler', MaxAbsScaler()),('ridge', LGBMRegressor(**params_3[i]))])\n",
    "    model_3+=[model]\n",
    "    "
   ]
  },
  {
   "cell_type": "code",
   "execution_count": null,
   "id": "f023656f-d114-4ce4-a5c8-91033fc9243a",
   "metadata": {},
   "outputs": [],
   "source": [
    "model_4=[]\n",
    "\n",
    "for i in range(4):\n",
    "    model=Pipeline([('scaler', MaxAbsScaler()),('ridge', LGBMRegressor(**params_4[i]))])\n",
    "    model_4+=[model]\n",
    "    "
   ]
  },
  {
   "cell_type": "code",
   "execution_count": null,
   "id": "22135e28-b4e7-4697-bbea-f12036f3354c",
   "metadata": {},
   "outputs": [],
   "source": [
    "model_5=[]\n",
    "\n",
    "for i in range(4):\n",
    "    model=Pipeline([('scaler', MaxAbsScaler()),('ridge', LGBMRegressor(**params_5[i]))])\n",
    "    model_5+=[model]\n",
    "    "
   ]
  },
  {
   "cell_type": "code",
   "execution_count": null,
   "id": "7d38cfcc-0155-4a78-b8fc-ee782f2c87f3",
   "metadata": {},
   "outputs": [],
   "source": [
    "model_6=[]\n",
    "\n",
    "for i in range(4):\n",
    "    model=Pipeline([('scaler', MaxAbsScaler()),('ridge', LGBMRegressor(**params_6[i]))])\n",
    "    model_6+=[model]\n",
    "    "
   ]
  },
  {
   "cell_type": "code",
   "execution_count": null,
   "id": "937cf911-1ece-4694-9eac-d32b4f0f6aa2",
   "metadata": {},
   "outputs": [],
   "source": [
    "y_vmf1=[]\n",
    "y_vmf2=[]\n",
    "y_vmf3=[]\n",
    "y_vmf4=[]\n",
    "y_vmf5=[]\n",
    "y_vmf6=[]\n",
    "for i in range(1,k+1):\n",
    "    y_vmf1.append(vmf_1['IMFwp'+str(i)])\n",
    "    y_vmf2.append(vmf_2['IMFwp'+str(i)])\n",
    "    y_vmf3.append(vmf_3['IMFwp'+str(i)])\n",
    "    y_vmf4.append(vmf_4['IMFwp'+str(i)])\n",
    "    y_vmf5.append(vmf_5['IMFwp'+str(i)])\n",
    "    y_vmf6.append(vmf_6['IMFwp'+str(i)])"
   ]
  },
  {
   "cell_type": "code",
   "execution_count": null,
   "id": "8921365d-a1b4-4d3f-a6fa-693733ac2f3e",
   "metadata": {},
   "outputs": [],
   "source": [
    "# model_1 = LGBMRegressor(**params_1)\n",
    "# model_2 = LGBMRegressor(**params_2)\n",
    "# model_3 = LGBMRegressor(**params_3)\n",
    "# model_4 = LGBMRegressor(**params_4)\n",
    "# model_5 = LGBMRegressor(**params_5)\n",
    "# model_6 = LGBMRegressor(**params_6)\n",
    "\n",
    "lst_models = [model_1, model_2, model_3, model_4, model_5, model_6]\n",
    "#lst_params_none=[ , , , ]\n",
    "#lst_models=[lst_params_none,lst_params_none,lst_params_none,lst_params_none,lst_params_none,lst_params_none]\n",
    "lst_X_trains = [X1, X2, X3, X4, X5, X6]\n",
    "lst_y_trains = [y1, y2, y3, y4, y5, y6]\n",
    "lst_y_vmf=[y_vmf1, y_vmf2, y_vmf3, y_vmf4, y_vmf5, y_vmf6]"
   ]
  },
  {
   "cell_type": "code",
   "execution_count": null,
   "id": "ca47f1f3-34a9-4a23-8312-2a9402f563ff",
   "metadata": {},
   "outputs": [],
   "source": [
    "lst_tests = []\n",
    "for test in [test_wp1, test_wp2, test_wp3, test_wp4, test_wp5, test_wp6]:\n",
    "    test = make_prediction_dataset(test)\n",
    "    lst_tests.append(test)"
   ]
  },
  {
   "cell_type": "code",
   "execution_count": null,
   "id": "df54ea09-8916-4fdd-a8be-0516f0ed5395",
   "metadata": {
    "tags": []
   },
   "outputs": [],
   "source": [
    "#df_predictions, lst_models_trained = make_submission_file(lst_X_trains, lst_y_trains, lst_y_vmf,lst_tests, lst_models, test_dates)"
   ]
  },
  {
   "cell_type": "code",
   "execution_count": null,
   "id": "89043140-6139-4c1f-b251-c1ffb81aaa8f",
   "metadata": {},
   "outputs": [],
   "source": [
    "df_predictions, lst_models_trained = make_submission_file_nmodels(lst_X_trains, lst_y_trains, lst_y_vmf,lst_tests, lst_models, test_dates)"
   ]
  },
  {
   "cell_type": "markdown",
   "id": "7a9f9df6-0310-4202-8e27-64a9fc7ac69a",
   "metadata": {},
   "source": [
    "## Saving models"
   ]
  },
  {
   "cell_type": "code",
   "execution_count": null,
   "id": "a0d37c4a-98cf-43a3-8667-eaac2fc226f4",
   "metadata": {},
   "outputs": [],
   "source": [
    "nb_sub = 41\n",
    "model = \"robustscaler-lgbm-vmf-cv\"\n",
    "prepro = 'RobustScaler'\n",
    "postpro = \"Prediction limited by 0-1\""
   ]
  },
  {
   "cell_type": "code",
   "execution_count": null,
   "id": "1fa2c859-6e63-40e3-adc4-045fe68c06de",
   "metadata": {},
   "outputs": [],
   "source": [
    "# df_predictions.to_csv('Predictions/submission_nb_10_full_maxabs-lgbm-featselect.csv', index=False, sep=';')\n",
    "df_predictions.to_csv(f'Predictions/submission_nb_{nb_sub}_{model}.csv', index=False, sep=';')"
   ]
  },
  {
   "cell_type": "code",
   "execution_count": null,
   "id": "6275b9b6-2e34-415a-a162-ffba04c8bbae",
   "metadata": {},
   "outputs": [],
   "source": [
    "df_predictions.head()"
   ]
  },
  {
   "cell_type": "code",
   "execution_count": null,
   "id": "faa99dc6-907a-4097-b5df-8f0810638f3c",
   "metadata": {},
   "outputs": [],
   "source": []
  }
 ],
 "metadata": {
  "kernelspec": {
   "display_name": "Python 3 (ipykernel)",
   "language": "python",
   "name": "python3"
  },
  "language_info": {
   "codemirror_mode": {
    "name": "ipython",
    "version": 3
   },
   "file_extension": ".py",
   "mimetype": "text/x-python",
   "name": "python",
   "nbconvert_exporter": "python",
   "pygments_lexer": "ipython3",
   "version": "3.9.7"
  }
 },
 "nbformat": 4,
 "nbformat_minor": 5
}
