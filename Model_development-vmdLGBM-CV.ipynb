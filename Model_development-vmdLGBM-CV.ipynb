{
 "cells": [
  {
   "cell_type": "markdown",
   "id": "261ec557-50a0-4cd6-8bec-268d1dee685a",
   "metadata": {},
   "source": [
    "# LGBM VMD Model development"
   ]
  },
  {
   "cell_type": "code",
   "execution_count": 1,
   "id": "1399bb0f-0234-43a6-b724-73f21f9b28b7",
   "metadata": {},
   "outputs": [],
   "source": [
    "import pandas as pd\n",
    "import seaborn as sns\n",
    "import openpyxl\n",
    "from datetime import datetime, timedelta\n",
    "import matplotlib.pyplot as plt\n",
    "import numpy as np\n",
    "import os\n",
    "import pickle"
   ]
  },
  {
   "cell_type": "code",
   "execution_count": 2,
   "id": "9a662ef3-a957-41fe-955d-1c5e99709226",
   "metadata": {},
   "outputs": [],
   "source": [
    "from sklearn.model_selection import KFold, train_test_split, cross_val_score\n",
    "from sklearn.preprocessing import MinMaxScaler, StandardScaler, MaxAbsScaler, RobustScaler\n",
    "from sklearn.pipeline import Pipeline\n",
    "from sklearn.metrics import mean_squared_error, mean_absolute_error\n",
    "import optuna\n",
    "from vmdpy import VMD"
   ]
  },
  {
   "cell_type": "code",
   "execution_count": 3,
   "id": "0bc7dfff-4363-41ad-bfd2-5e5dd7c0ef63",
   "metadata": {},
   "outputs": [],
   "source": [
    "from Functions.helper_functions import * "
   ]
  },
  {
   "cell_type": "code",
   "execution_count": 4,
   "id": "3c184629-3914-4a2c-ba3f-5f111909f344",
   "metadata": {},
   "outputs": [],
   "source": [
    "import warnings\n",
    "warnings.filterwarnings(action='ignore', category=UserWarning)\n",
    "pd.options.mode.chained_assignment = None  # default='warn'"
   ]
  },
  {
   "cell_type": "code",
   "execution_count": 5,
   "id": "6333588b-f1b0-4a5b-afea-e53064be0d99",
   "metadata": {},
   "outputs": [],
   "source": [
    "np.random.seed(42)"
   ]
  },
  {
   "cell_type": "markdown",
   "id": "b617c0f5-e679-4a3f-9a62-12e03303d11f",
   "metadata": {},
   "source": [
    "# Data"
   ]
  },
  {
   "cell_type": "code",
   "execution_count": 6,
   "id": "c4d3258c-6931-447d-84b7-ac52ed05673a",
   "metadata": {},
   "outputs": [],
   "source": [
    "train_wp1 = pd.read_csv('Data/Preprocessing/WP1_train_preprocessed.csv', sep=',')\n",
    "train_wp2 = pd.read_csv('Data/Preprocessing/WP2_train_preprocessed.csv', sep=',')\n",
    "train_wp3 = pd.read_csv('Data/Preprocessing/WP3_train_preprocessed.csv', sep=',')\n",
    "train_wp4 = pd.read_csv('Data/Preprocessing/WP4_train_preprocessed.csv', sep=',')\n",
    "train_wp5 = pd.read_csv('Data/Preprocessing/WP5_train_preprocessed.csv', sep=',')\n",
    "train_wp6 = pd.read_csv('Data/Preprocessing/WP6_train_preprocessed.csv', sep=',')"
   ]
  },
  {
   "cell_type": "code",
   "execution_count": 7,
   "id": "69f752d4-63ed-43b9-9315-41ecaa114ce4",
   "metadata": {},
   "outputs": [],
   "source": [
    "test_wp1 = pd.read_csv('Data/Preprocessing/WP1_test_preprocessed.csv', sep=',')\n",
    "test_wp2 = pd.read_csv('Data/Preprocessing/WP2_test_preprocessed.csv', sep=',')\n",
    "test_wp3 = pd.read_csv('Data/Preprocessing/WP3_test_preprocessed.csv', sep=',')\n",
    "test_wp4 = pd.read_csv('Data/Preprocessing/WP4_test_preprocessed.csv', sep=',')\n",
    "test_wp5 = pd.read_csv('Data/Preprocessing/WP5_test_preprocessed.csv', sep=',')\n",
    "test_wp6 = pd.read_csv('Data/Preprocessing/WP6_test_preprocessed.csv', sep=',')\n",
    "test_dates = pd.read_csv('Data/Initial/test.csv', sep=',').date.values"
   ]
  },
  {
   "cell_type": "code",
   "execution_count": 8,
   "id": "7540aa92-fc5e-4431-8e79-faba9f0cecad",
   "metadata": {},
   "outputs": [],
   "source": [
    "to_drop = ['date','wd','forecast_time', 'forecast', \"forecast_dist\"]"
   ]
  },
  {
   "cell_type": "code",
   "execution_count": 9,
   "id": "b0be88be-a88e-4777-a80f-66d64c4d0089",
   "metadata": {
    "tags": []
   },
   "outputs": [],
   "source": [
    "u_to_drop = [\n",
    "    'u_T_1', 'u_T_2', 'u_T_3', 'u_T_4', 'u_T_5', 'u_T_6', \n",
    "    'u_T_2_mean', 'u_T_3_mean', 'u_T_4_mean', 'u_T_5_mean', 'u_T_6_mean', 'u_T_7_mean',\n",
    "    'u_T_8_mean', 'u_T_9_mean', 'u_T_10_mean', 'u_T_11_mean', 'u_T_12_mean','u_T_24_mean',\n",
    "    'u_T_2_std', 'u_T_4_std', 'u_T_5_std', 'u_T_6_std',\n",
    "    'u_T_2_median', 'u_T_3_median', 'u_T_4_median', 'u_T_5_median', 'u_T_6_median', 'u_T_12_median','u_T_24_median', 'u_T_36_median',\n",
    "    'u_T_2_max', 'u_T_3_max', 'u_T_4_max', 'u_T_5_max', 'u_T_6_max', 'u_T_12_max',\n",
    "    'u_T_2_min', 'u_T_3_min', 'u_T_4_min', 'u_T_5_min', 'u_T_6_min', 'u_T_12_min',\n",
    "    'u2_T_1', 'u2_T_2', 'u2_T_3', 'u2_T_4', 'u2_T_5', 'u2_T_6', \n",
    "    'u2_T_2_mean', 'u2_T_3_mean', 'u2_T_4_mean', 'u2_T_5_mean', 'u2_T_6_mean', 'u2_T_7_mean',\n",
    "    'u2_T_8_mean', 'u2_T_9_mean', 'u2_T_10_mean', 'u2_T_11_mean', 'u2_T_12_mean','u2_T_24_mean',\n",
    "    'u2_T_2_std', 'u2_T_4_std', 'u2_T_5_std', 'u2_T_6_std', 'u2_T_24_std',\n",
    "    'u2_T_2_median', 'u2_T_3_median', 'u2_T_4_median', 'u2_T_5_median', 'u2_T_6_median', 'u2_T_12_median',\n",
    "    'u2_T_2_max','u2_T_3_max', 'u2_T_4_max','u2_T_5_max', 'u2_T_6_max', 'u2_T_12_max',\n",
    "    'u2_T_2_min', 'u2_T_3_min', 'u2_T_4_min', 'u2_T_5_min', 'u2_T_6_min',\n",
    "    'u2_T_12', 'u2_T_36_mean', 'u2_T_36_std', 'u2_T_24_median', 'u2_T_24_max',\n",
    "    'u_T_36_mean','u_T_12','u_T_24_max','u2_T_36_median','u_T_24_min'\n",
    "]\n",
    "ws_to_drop = [\n",
    "    'ws_T_1', 'ws_T_2', 'ws_T_3', 'ws_T_4', 'ws_T_5', 'ws_T_6', 'ws_T_7', 'ws_T_8', 'ws_T_10','ws_T_11', 'ws_T_12',\n",
    "    'ws_T_2_mean', 'ws_T_3_mean', 'ws_T_4_mean', 'ws_T_5_mean', 'ws_T_6_mean', 'ws_T_7_mean', 'ws_T_8_mean', 'ws_T_9_mean', \n",
    "    'ws_T_10_mean', 'ws_T_11_mean', 'ws_T_12_mean', 'ws_T_24_mean', \n",
    "    'ws_T_2_std', 'ws_T_3_std', 'ws_T_4_std', 'ws_T_5_std', \n",
    "    'ws_T_2_median', 'ws_T_3_median', 'ws_T_4_median', 'ws_T_5_median', 'ws_T_6_median',\n",
    "    'ws_T_12_median', 'ws_T_24_median', 'ws_T_36_median',\n",
    "    'ws_T_2_max', 'ws_T_3_max', 'ws_T_4_max', 'ws_T_5_max','ws_T_6_max', 'ws_T_12_max',\n",
    "     'ws_T_2_min', 'ws_T_3_min', 'ws_T_4_min', 'ws_T_5_min', 'ws_T_6_min', 'ws_T_12_min','ws_T_24_max','ws_T_24_min'\n",
    "]\n",
    "\n",
    "v_to_drop = [\n",
    "    'v_T_1', 'v_T_2', 'v_T_3', 'v_T_4', 'v_T_5', 'v_T_6', \n",
    "    'v_T_2_mean', 'v_T_3_mean', 'v_T_4_mean', 'v_T_5_mean', 'v_T_6_mean', 'v_T_7_mean',\n",
    "    'v_T_8_mean', 'v_T_9_mean', 'v_T_10_mean', 'v_T_11_mean', 'v_T_12_mean', 'v_T_24_mean','v_T_36_mean',\n",
    "    'v_T_3_std', 'v_T_4_std', 'v_T_5_std','v_T_6_std','v_T_24_std', 'v_T_36_median',\n",
    "    'v_T_2_median', 'v_T_3_median', 'v_T_4_median', 'v_T_5_median', 'v_T_6_median', \n",
    "    'v_T_2_max', 'v_T_3_max', 'v_T_4_max', 'v_T_5_max', 'v_T_6_max', 'v_T_12_max', \n",
    "    'v_T_2_min', 'v_T_3_min', 'v_T_4_min', 'v_T_5_min', 'v_T_6_min', 'v_T_12_min', \n",
    "    'v_T_36_min', 'v_T_36', 'v_T_24_max',  'v_T_12_median', 'v_T_24_median',\n",
    "]\n",
    "\n",
    "wd_to_drop = [\n",
    "    'coswd_1', 'coswd_2', 'coswd_3', 'coswd_4', 'coswd_5', 'coswd_6',\n",
    "    'coswd_2_mean', 'coswd_3_mean', 'coswd_4_mean', 'coswd_5_mean', 'coswd_6_mean', 'coswd_7_mean', \n",
    "    'coswd_8_mean', 'coswd_9_mean', 'coswd_10_mean', 'coswd_11_mean', 'coswd_12_mean', 'coswd_24_mean', \n",
    "    'coswd_3_std', 'coswd_4_std','coswd_5_std','coswd_2_median', 'coswd_3_median','coswd_4_median', \n",
    "    'coswd_5_median', 'coswd_6_median', 'coswd_36_median', 'coswd_24_median', 'coswd_12_median',\n",
    "    'coswd_2_max', 'coswd_3_max', 'coswd_4_max', 'coswd_5_max', 'coswd_6_max', 'coswd_12_max', 'coswd_24_max',\n",
    "    'coswd_2_min', 'coswd_3_min', 'coswd_4_min', 'coswd_5_min', 'coswd_6_min', 'coswd_12_min', 'coswd_24_min',\n",
    "    'ws_T_36_max', 'ws_T_36_min', 'coswd_12', 'coswd_24'\n",
    "]\n",
    "\n",
    "other_to_drop = [\n",
    "    'cos_day', 'u', 'v'\n",
    "]\n",
    "\n",
    "feature_corr = u_to_drop+ws_to_drop+v_to_drop+wd_to_drop+other_to_drop\n",
    "to_drop = feature_corr+to_drop"
   ]
  },
  {
   "cell_type": "markdown",
   "id": "d0204367-344e-4837-9d27-c07833112862",
   "metadata": {},
   "source": [
    "# LGBM functions"
   ]
  },
  {
   "cell_type": "code",
   "execution_count": 10,
   "id": "df77bdff-aa3c-42cd-91a2-4ecb5bffdead",
   "metadata": {
    "tags": []
   },
   "outputs": [],
   "source": [
    "from lightgbm import LGBMRegressor"
   ]
  },
  {
   "cell_type": "code",
   "execution_count": 11,
   "id": "06b25086-f413-4305-a2a3-ca3de93887f1",
   "metadata": {},
   "outputs": [],
   "source": [
    "def create_dataset(data,n,split):\n",
    "    n_batch=int(len(data)/84)\n",
    "    new_data=np.array_split(data,n_batch)\n",
    "    train = pd.DataFrame()\n",
    "    val=pd.DataFrame()\n",
    "    for i in range(n_batch):\n",
    "        if (i+n)%split ==0:\n",
    "            val = pd.concat([val,new_data[i]])\n",
    "        else:\n",
    "            train=pd.concat([train,new_data[i]])\n",
    "    return train,val"
   ]
  },
  {
   "cell_type": "code",
   "execution_count": 12,
   "id": "2155b5a6-2476-434d-832f-2f92dd646d67",
   "metadata": {
    "tags": []
   },
   "outputs": [],
   "source": [
    "def hyperparametrization(trial, train_x, test_x, train_y, test_y):\n",
    "    param = {\n",
    "        'num_iterations':trial.suggest_int('num_iterations',10,200),\n",
    "        'metric': 'rmse', \n",
    "        'reg_alpha': trial.suggest_loguniform('reg_alpha', 1e-3, 10.0),\n",
    "        'reg_lambda': trial.suggest_loguniform('reg_lambda', 1e-3, 10.0),\n",
    "        'colsample_bytree': trial.suggest_categorical('colsample_bytree', [0.3,0.4,0.5,0.6,0.7,0.8,0.9, 1.0]),\n",
    "        'subsample': trial.suggest_categorical('subsample', [0.4,0.5,0.6,0.7,0.8,1.0]),\n",
    "        'learning_rate': trial.suggest_loguniform('learning_rate', 1e-3, 0.3),\n",
    "        'max_depth': trial.suggest_int(\"max_depth\", 20, 100),\n",
    "        'num_leaves' : trial.suggest_int('num_leaves', 2, 1000),\n",
    "        'min_child_samples': trial.suggest_int('min_child_samples', 1, 300),\n",
    "    }\n",
    "    \n",
    "#     model = LGBMRegressor(**param)  \n",
    "    model = Pipeline([('scaler', MinMaxScaler()),('ridge', LGBMRegressor(**param))])\n",
    "#     model.fit(train_x,train_y,eval_set=[(test_x,test_y)],early_stopping_rounds=100,verbose=False)\n",
    "    model.fit(train_x,train_y)\n",
    "    \n",
    "    preds = model.predict(test_x)\n",
    "    \n",
    "    rmse =  mean_squared_error(test_y, preds,squared=False)\n",
    "    \n",
    "    return rmse"
   ]
  },
  {
   "cell_type": "code",
   "execution_count": 13,
   "id": "bb1f232a-8c04-46e1-92df-858297f8384f",
   "metadata": {},
   "outputs": [],
   "source": [
    "def vmd(y,k):\n",
    "    \n",
    "    #Intrinsic mode generation\n",
    "     #Empirical Mode Decomposition\n",
    "    #. some sample parameters for VMD  \n",
    "    alpha = 1       # moderate bandwidth constraint  \n",
    "    tau = 0.           # noise-tolerance (no strict fidelity enforcement)  \n",
    "    K = k              # k modes  \n",
    "    DC = 0             # no DC part imposed  \n",
    "    init = 1           # initialize omegas uniformly  \n",
    "    tol = 1e-7\n",
    "    u, u_hat, omega = VMD(y,alpha, tau, K, DC, init, tol)\n",
    "    df_vmfs = pd.DataFrame()\n",
    "    #Integration in the dataframe\n",
    "    for num, imf in enumerate(u):\n",
    "        #print('----Creating VMFwp{0} EMD columns----'.format(num+1))\n",
    "        df_vmfs['IMFwp{0}'.format(num+1)] = imf\n",
    "    return df_vmfs"
   ]
  },
  {
   "cell_type": "code",
   "execution_count": 14,
   "id": "9e0357f1-807c-4ed7-9c29-c5b53fc532d8",
   "metadata": {
    "tags": []
   },
   "outputs": [],
   "source": [
    "def lgbm_scaled_cross_validation_vmf(X, y1,y2,y3,y4,y_true, params):\n",
    "   # if params == None:\n",
    "#         model = Pipeline([('scaler', MaxAbsScaler()),('ridge', LGBMRegressor())])\n",
    "        #model = Pipeline([('scaler', RobustScaler()),('ridge', LGBMRegressor())])\n",
    "   # else:\n",
    "#         model = Pipeline([('scaler', MaxAbsScaler()),('ridge', LGBMRegressor(**params))])\n",
    "    model1 = Pipeline([('scaler', RobustScaler()),('ridge', LGBMRegressor(**params[0]))])\n",
    "    model2 = Pipeline([('scaler', RobustScaler()),('ridge', LGBMRegressor(**params[1]))])\n",
    "    model3 = Pipeline([('scaler', RobustScaler()),('ridge', LGBMRegressor(**params[2]))])\n",
    "    model4 = Pipeline([('scaler', RobustScaler()),('ridge', LGBMRegressor(**params[3]))])\n",
    "\n",
    "    print('-----------LGBM CROSS VALIDATION BEGINNING-----------')\n",
    "    split = 5\n",
    "    #kf = KFold(n_splits=split, shuffle=True)       \n",
    "    lgbm_rmse_scores = []\n",
    "    lgbm_mae_scores = []\n",
    "    i = 1\n",
    "    for n in range(split):\n",
    "        X_train, X_test = create_dataset(X,n,split)\n",
    "        Y1_train, Y1_test = create_dataset(y1,n,split)\n",
    "        Y2_train, Y2_test = create_dataset(y2,n,split)\n",
    "        Y3_train, Y3_test = create_dataset(y3,n,split)\n",
    "        Y4_train, Y4_test = create_dataset(y4,n,split)\n",
    "        Y_train, Y_test = create_dataset(y_true,n,split)\n",
    "\n",
    "        model1.fit(X_train, Y1_train)\n",
    "        model2.fit(X_train, Y2_train)\n",
    "        model3.fit(X_train, Y3_train)\n",
    "        model4.fit(X_train, Y4_train)\n",
    "\n",
    "        prediction = model1.predict(X_test)+model2.predict(X_test)+model3.predict(X_test)+model4.predict(X_test)\n",
    "        lgbm_rmse_scores.append(mean_squared_error(Y_test, prediction,squared=False))\n",
    "        lgbm_mae_scores.append(mean_absolute_error(Y_test, prediction))\n",
    "        \n",
    "        print(show_evaluation(prediction, Y_test))\n",
    "        print(f'-------------------FOLD {i}-----------------')\n",
    "        i+=1\n",
    "\n",
    "    print('---------------CROSS VALIDATION COMPLETE-------------')\n",
    "    print('--------------------------RMSE-----------------------')\n",
    "    display_scores(lgbm_rmse_scores)\n",
    "    print('--------------------------MAE------------------------')\n",
    "    display_scores(lgbm_mae_scores)"
   ]
  },
  {
   "cell_type": "markdown",
   "id": "bbc3509e-c676-463f-97ac-c0ac98b5f3ed",
   "metadata": {},
   "source": [
    "## WP1 "
   ]
  },
  {
   "cell_type": "markdown",
   "id": "7cd32285-01cf-4ab5-8fcb-706b7f8a294b",
   "metadata": {},
   "source": [
    "| |  | Mean | Std | Sum up |\n",
    "| --- | --- | --- | --- | --- |\n",
    "| No params | RMSE | 0.10344875448880764 | 0.0019070131550065564 |  |\n",
    "| No params - StandardScaler | RMSE | 0.10355855436437653 | 0.0019043784372002228 |  |\n",
    "| After tuning 50trials| RMSE | 0.06830085723562579 | 0.0012998671387256361 | To keep, maybe redo optuna with warm start with it - first sub|\n",
    "| After tuning 100trials| RMSE | 0.0695930431604128 | 0.0015123892627707553 | |\n",
    "| After tuning W.S 60trials | RMSE | 0.0671868765178121 | 0.0019357892229500213 | second sub - BETTER |\n",
    "| After tuning W.S 50trials - StandardScaler | RMSE | 0.06705406618054667 | 0.0013509038914922506 | with warm start 1 parameters |\n",
    "| After tuning W.S 50trials - RobustScaler | RMSE | 0.06736753027260156 | 0.0009971394767292064 | |\n",
    "| --- | --- | --- | --- | --- |\n",
    "| No params | MAE | 0.07306057409517844 | 0.0009857628815465762 |  |\n",
    "| No params - StandardScaler | MAE | 0.07310137331348271 | 0.0010945145617042643 |  |\n",
    "| After tuning 50trials| MAE | 0.04481696427654311 | 0.000727722171899004 |  |\n",
    "| After tuning 100trials| MAE | 0.045696725242359994 | 0.0008508558100930331 |  |\n",
    "| After tuning W.S 60trials | MAE | 0.04322865305311156 | 0.0009454253743042544 | |\n",
    "| After tuning W.S 50trials - StandardScaler | MAE | 0.043173032898780175 | 0.0007696056550296055 | with warm start 1 parameters |\n",
    "| After tuning W.S 50trials - RobustScaler | MAE | 0.043246198690701294 | 0.000596545751975941 | |"
   ]
  },
  {
   "cell_type": "code",
   "execution_count": 15,
   "id": "70c3af58-11fa-437e-80d2-d58c9901ce08",
   "metadata": {
    "tags": []
   },
   "outputs": [],
   "source": [
    "wp1_X = train_wp1[[c for c in train_wp1 if c not in [\"wp\"]] + [\"wp\"]].drop(to_drop+feature_corr, axis = 1)\n",
    "X1 = wp1_X.drop('wp', axis=1)\n",
    "y1 = wp1_X['wp']"
   ]
  },
  {
   "cell_type": "code",
   "execution_count": 16,
   "id": "7b697370-1d87-4ce0-8b0e-80439e2764c3",
   "metadata": {},
   "outputs": [],
   "source": [
    "vmf_1 = vmd(y1,4)"
   ]
  },
  {
   "cell_type": "code",
   "execution_count": null,
   "id": "e684f183-2486-4a97-aead-c6feee96c515",
   "metadata": {},
   "outputs": [
    {
     "name": "stderr",
     "output_type": "stream",
     "text": [
      "\u001b[32m[I 2021-09-20 09:32:05,834]\u001b[0m A new study created in memory with name: no-name-446b1846-191c-4084-92c6-3d8ebf1ff328\u001b[0m\n",
      "\u001b[32m[I 2021-09-20 09:32:13,322]\u001b[0m Trial 0 finished with value: 0.24784192866732743 and parameters: {'num_iterations': 118, 'reg_alpha': 0.008266295226864673, 'reg_lambda': 0.004211081410760066, 'colsample_bytree': 0.4, 'subsample': 0.4, 'learning_rate': 0.0015163353957565245, 'max_depth': 56, 'num_leaves': 155, 'min_child_samples': 69}. Best is trial 0 with value: 0.24784192866732743.\u001b[0m\n",
      "\u001b[32m[I 2021-09-20 09:32:18,173]\u001b[0m Trial 1 finished with value: 0.09888440538041623 and parameters: {'num_iterations': 21, 'reg_alpha': 0.005065497375632208, 'reg_lambda': 0.09821436720709611, 'colsample_bytree': 0.7, 'subsample': 0.6, 'learning_rate': 0.17483469998281437, 'max_depth': 22, 'num_leaves': 934, 'min_child_samples': 172}. Best is trial 1 with value: 0.09888440538041623.\u001b[0m\n",
      "\u001b[32m[I 2021-09-20 09:32:26,315]\u001b[0m Trial 2 finished with value: 0.18852249738525645 and parameters: {'num_iterations': 191, 'reg_alpha': 0.09569217895308942, 'reg_lambda': 0.003321447978553807, 'colsample_bytree': 0.7, 'subsample': 0.8, 'learning_rate': 0.0029867559178265667, 'max_depth': 72, 'num_leaves': 429, 'min_child_samples': 155}. Best is trial 1 with value: 0.09888440538041623.\u001b[0m\n",
      "\u001b[32m[I 2021-09-20 09:32:34,997]\u001b[0m Trial 3 finished with value: 0.08634322150474061 and parameters: {'num_iterations': 199, 'reg_alpha': 1.407012134472255, 'reg_lambda': 0.4145533361192746, 'colsample_bytree': 0.9, 'subsample': 0.8, 'learning_rate': 0.1104740073716705, 'max_depth': 43, 'num_leaves': 422, 'min_child_samples': 103}. Best is trial 3 with value: 0.08634322150474061.\u001b[0m\n",
      "\u001b[32m[I 2021-09-20 09:32:38,915]\u001b[0m Trial 4 finished with value: 0.2630610822493649 and parameters: {'num_iterations': 22, 'reg_alpha': 1.2096456219327507, 'reg_lambda': 0.451116413227671, 'colsample_bytree': 0.5, 'subsample': 1.0, 'learning_rate': 0.00433763299114319, 'max_depth': 59, 'num_leaves': 217, 'min_child_samples': 288}. Best is trial 3 with value: 0.08634322150474061.\u001b[0m\n",
      "\u001b[32m[I 2021-09-20 09:32:43,911]\u001b[0m Trial 5 finished with value: 0.22246136095801367 and parameters: {'num_iterations': 51, 'reg_alpha': 0.005174204624916032, 'reg_lambda': 0.009135624987035875, 'colsample_bytree': 1.0, 'subsample': 0.6, 'learning_rate': 0.006081001932223055, 'max_depth': 43, 'num_leaves': 341, 'min_child_samples': 188}. Best is trial 3 with value: 0.08634322150474061.\u001b[0m\n",
      "\u001b[32m[I 2021-09-20 09:32:51,272]\u001b[0m Trial 6 finished with value: 0.08918450891778021 and parameters: {'num_iterations': 143, 'reg_alpha': 0.3484128292908741, 'reg_lambda': 0.004256673421460558, 'colsample_bytree': 1.0, 'subsample': 0.6, 'learning_rate': 0.2681784842776218, 'max_depth': 46, 'num_leaves': 455, 'min_child_samples': 198}. Best is trial 3 with value: 0.08634322150474061.\u001b[0m\n",
      "\u001b[32m[I 2021-09-20 09:32:55,028]\u001b[0m Trial 7 finished with value: 0.2116024078362814 and parameters: {'num_iterations': 16, 'reg_alpha': 7.155631013697544, 'reg_lambda': 0.08693486892756981, 'colsample_bytree': 0.9, 'subsample': 0.5, 'learning_rate': 0.02511070585636234, 'max_depth': 33, 'num_leaves': 624, 'min_child_samples': 135}. Best is trial 3 with value: 0.08634322150474061.\u001b[0m\n",
      "\u001b[32m[I 2021-09-20 09:33:00,947]\u001b[0m Trial 8 finished with value: 0.08865067371136263 and parameters: {'num_iterations': 153, 'reg_alpha': 1.453911698970782, 'reg_lambda': 1.6457088940985982, 'colsample_bytree': 0.4, 'subsample': 0.5, 'learning_rate': 0.1999982786717878, 'max_depth': 81, 'num_leaves': 1000, 'min_child_samples': 140}. Best is trial 3 with value: 0.08634322150474061.\u001b[0m\n",
      "\u001b[32m[I 2021-09-20 09:33:05,866]\u001b[0m Trial 9 finished with value: 0.0924258317083735 and parameters: {'num_iterations': 91, 'reg_alpha': 1.525615524457259, 'reg_lambda': 0.10292046459806913, 'colsample_bytree': 0.9, 'subsample': 0.8, 'learning_rate': 0.11426774728928281, 'max_depth': 37, 'num_leaves': 294, 'min_child_samples': 269}. Best is trial 3 with value: 0.08634322150474061.\u001b[0m\n",
      "\u001b[32m[I 2021-09-20 09:33:10,177]\u001b[0m Trial 10 finished with value: 0.10602943249351172 and parameters: {'num_iterations': 184, 'reg_alpha': 0.06554856913952534, 'reg_lambda': 7.394616971921929, 'colsample_bytree': 0.6, 'subsample': 0.7, 'learning_rate': 0.04362928728776079, 'max_depth': 95, 'num_leaves': 12, 'min_child_samples': 7}. Best is trial 3 with value: 0.08634322150474061.\u001b[0m\n",
      "\u001b[32m[I 2021-09-20 09:33:15,497]\u001b[0m Trial 11 finished with value: 0.09517416680046711 and parameters: {'num_iterations': 159, 'reg_alpha': 7.78568729696517, 'reg_lambda': 2.500113108330304, 'colsample_bytree': 0.4, 'subsample': 0.5, 'learning_rate': 0.06813742279036654, 'max_depth': 80, 'num_leaves': 676, 'min_child_samples': 95}. Best is trial 3 with value: 0.08634322150474061.\u001b[0m\n",
      "\u001b[32m[I 2021-09-20 09:33:25,025]\u001b[0m Trial 12 finished with value: 0.0989544026301832 and parameters: {'num_iterations': 199, 'reg_alpha': 0.7763833672284415, 'reg_lambda': 0.9222011990683995, 'colsample_bytree': 0.8, 'subsample': 0.8, 'learning_rate': 0.013463104705762253, 'max_depth': 79, 'num_leaves': 969, 'min_child_samples': 72}. Best is trial 3 with value: 0.08634322150474061.\u001b[0m\n",
      "\u001b[32m[I 2021-09-20 09:33:31,518]\u001b[0m Trial 13 finished with value: 0.08845115104614627 and parameters: {'num_iterations': 157, 'reg_alpha': 0.40382957475295106, 'reg_lambda': 0.458343667260874, 'colsample_bytree': 0.3, 'subsample': 0.5, 'learning_rate': 0.08831337241938436, 'max_depth': 98, 'num_leaves': 726, 'min_child_samples': 112}. Best is trial 3 with value: 0.08634322150474061.\u001b[0m\n",
      "\u001b[32m[I 2021-09-20 09:33:41,259]\u001b[0m Trial 14 finished with value: 0.08867883404979356 and parameters: {'num_iterations': 116, 'reg_alpha': 0.03472072690282536, 'reg_lambda': 0.33901132706212456, 'colsample_bytree': 0.3, 'subsample': 1.0, 'learning_rate': 0.058475199830326716, 'max_depth': 92, 'num_leaves': 737, 'min_child_samples': 18}. Best is trial 3 with value: 0.08634322150474061.\u001b[0m\n",
      "\u001b[32m[I 2021-09-20 09:33:47,987]\u001b[0m Trial 15 finished with value: 0.10331277467307039 and parameters: {'num_iterations': 171, 'reg_alpha': 0.39435454838887407, 'reg_lambda': 0.02140354739781902, 'colsample_bytree': 0.3, 'subsample': 0.4, 'learning_rate': 0.017157964395465544, 'max_depth': 64, 'num_leaves': 789, 'min_child_samples': 102}. Best is trial 3 with value: 0.08634322150474061.\u001b[0m\n",
      "\u001b[32m[I 2021-09-20 09:33:53,084]\u001b[0m Trial 16 finished with value: 0.0907849458278551 and parameters: {'num_iterations': 134, 'reg_alpha': 0.23211662988705287, 'reg_lambda': 0.1826107643403085, 'colsample_bytree': 0.3, 'subsample': 0.7, 'learning_rate': 0.10585504321452813, 'max_depth': 49, 'num_leaves': 546, 'min_child_samples': 217}. Best is trial 3 with value: 0.08634322150474061.\u001b[0m\n",
      "\u001b[32m[I 2021-09-20 09:34:04,740]\u001b[0m Trial 17 finished with value: 0.09250084354274703 and parameters: {'num_iterations': 96, 'reg_alpha': 0.0014384209672774644, 'reg_lambda': 0.028036063677603924, 'colsample_bytree': 0.9, 'subsample': 0.8, 'learning_rate': 0.03445364794392529, 'max_depth': 22, 'num_leaves': 846, 'min_child_samples': 49}. Best is trial 3 with value: 0.08634322150474061.\u001b[0m\n",
      "\u001b[32m[I 2021-09-20 09:34:10,862]\u001b[0m Trial 18 finished with value: 0.08800596683003659 and parameters: {'num_iterations': 173, 'reg_alpha': 3.181441568621818, 'reg_lambda': 8.178296053928648, 'colsample_bytree': 0.6, 'subsample': 0.5, 'learning_rate': 0.09363285217730152, 'max_depth': 33, 'num_leaves': 553, 'min_child_samples': 121}. Best is trial 3 with value: 0.08634322150474061.\u001b[0m\n",
      "\u001b[32m[I 2021-09-20 09:34:15,123]\u001b[0m Trial 19 finished with value: 0.09321053645812918 and parameters: {'num_iterations': 71, 'reg_alpha': 3.3004284341215104, 'reg_lambda': 7.3540784885137525, 'colsample_bytree': 0.6, 'subsample': 0.5, 'learning_rate': 0.2960843821191186, 'max_depth': 30, 'num_leaves': 563, 'min_child_samples': 234}. Best is trial 3 with value: 0.08634322150474061.\u001b[0m\n",
      "\u001b[32m[I 2021-09-20 09:34:20,468]\u001b[0m Trial 20 finished with value: 0.12023403790049617 and parameters: {'num_iterations': 175, 'reg_alpha': 4.445570301285657, 'reg_lambda': 3.8218602813257476, 'colsample_bytree': 0.6, 'subsample': 0.8, 'learning_rate': 0.0105449858296945, 'max_depth': 41, 'num_leaves': 391, 'min_child_samples': 127}. Best is trial 3 with value: 0.08634322150474061.\u001b[0m\n",
      "\u001b[32m[I 2021-09-20 09:34:28,009]\u001b[0m Trial 21 finished with value: 0.08670806933730647 and parameters: {'num_iterations': 166, 'reg_alpha': 0.6222237378238039, 'reg_lambda': 0.9017507498717751, 'colsample_bytree': 0.5, 'subsample': 0.5, 'learning_rate': 0.11442889821618821, 'max_depth': 28, 'num_leaves': 629, 'min_child_samples': 107}. Best is trial 3 with value: 0.08634322150474061.\u001b[0m\n",
      "\u001b[32m[I 2021-09-20 09:34:34,280]\u001b[0m Trial 22 finished with value: 0.08805451507626452 and parameters: {'num_iterations': 174, 'reg_alpha': 2.8159617519229103, 'reg_lambda': 1.1987818715931162, 'colsample_bytree': 0.5, 'subsample': 0.5, 'learning_rate': 0.14765610640253474, 'max_depth': 29, 'num_leaves': 599, 'min_child_samples': 77}. Best is trial 3 with value: 0.08634322150474061.\u001b[0m\n",
      "\u001b[32m[I 2021-09-20 09:34:46,666]\u001b[0m Trial 23 finished with value: 0.08644702799606077 and parameters: {'num_iterations': 199, 'reg_alpha': 0.7836018089216841, 'reg_lambda': 3.567355668794736, 'colsample_bytree': 0.5, 'subsample': 0.5, 'learning_rate': 0.03135316119167324, 'max_depth': 28, 'num_leaves': 472, 'min_child_samples': 44}. Best is trial 3 with value: 0.08634322150474061.\u001b[0m\n",
      "\u001b[32m[I 2021-09-20 09:34:58,262]\u001b[0m Trial 24 finished with value: 0.08583008840422028 and parameters: {'num_iterations': 197, 'reg_alpha': 0.17177233181399806, 'reg_lambda': 0.891816561890706, 'colsample_bytree': 0.5, 'subsample': 0.5, 'learning_rate': 0.02924877299211232, 'max_depth': 52, 'num_leaves': 471, 'min_child_samples': 45}. Best is trial 24 with value: 0.08583008840422028.\u001b[0m\n",
      "\u001b[32m[I 2021-09-20 09:35:10,425]\u001b[0m Trial 25 finished with value: 0.08602807410573086 and parameters: {'num_iterations': 195, 'reg_alpha': 0.16056204020201453, 'reg_lambda': 3.5329042267008526, 'colsample_bytree': 0.5, 'subsample': 1.0, 'learning_rate': 0.028488111788312457, 'max_depth': 50, 'num_leaves': 483, 'min_child_samples': 35}. Best is trial 24 with value: 0.08583008840422028.\u001b[0m\n",
      "\u001b[32m[I 2021-09-20 09:35:19,448]\u001b[0m Trial 26 finished with value: 0.11225653727939192 and parameters: {'num_iterations': 187, 'reg_alpha': 0.030630965274885204, 'reg_lambda': 0.23036866821582683, 'colsample_bytree': 0.5, 'subsample': 1.0, 'learning_rate': 0.009414257751434268, 'max_depth': 51, 'num_leaves': 241, 'min_child_samples': 31}. Best is trial 24 with value: 0.08583008840422028.\u001b[0m\n",
      "\u001b[32m[I 2021-09-20 09:35:28,852]\u001b[0m Trial 27 finished with value: 0.0951675316382641 and parameters: {'num_iterations': 131, 'reg_alpha': 0.1711147079626147, 'reg_lambda': 0.6208559983484894, 'colsample_bytree': 0.8, 'subsample': 1.0, 'learning_rate': 0.021229725023601632, 'max_depth': 67, 'num_leaves': 353, 'min_child_samples': 50}. Best is trial 24 with value: 0.08583008840422028.\u001b[0m\n",
      "\u001b[32m[I 2021-09-20 09:35:48,544]\u001b[0m Trial 28 finished with value: 0.08601358371286293 and parameters: {'num_iterations': 199, 'reg_alpha': 0.05049682833569203, 'reg_lambda': 1.919957551390561, 'colsample_bytree': 0.9, 'subsample': 1.0, 'learning_rate': 0.053807174907726324, 'max_depth': 56, 'num_leaves': 490, 'min_child_samples': 6}. Best is trial 24 with value: 0.08583008840422028.\u001b[0m\n",
      "\u001b[32m[I 2021-09-20 09:35:55,215]\u001b[0m Trial 29 finished with value: 0.08771473737916811 and parameters: {'num_iterations': 184, 'reg_alpha': 0.017539970935654157, 'reg_lambda': 1.9558098716696362, 'colsample_bytree': 0.5, 'subsample': 1.0, 'learning_rate': 0.04423458368901729, 'max_depth': 54, 'num_leaves': 111, 'min_child_samples': 3}. Best is trial 24 with value: 0.08583008840422028.\u001b[0m\n",
      "\u001b[32m[I 2021-09-20 09:36:05,724]\u001b[0m Trial 30 finished with value: 0.08582576478370574 and parameters: {'num_iterations': 145, 'reg_alpha': 0.054522617310185865, 'reg_lambda': 2.3279047677356144, 'colsample_bytree': 0.5, 'subsample': 0.4, 'learning_rate': 0.054787518528629134, 'max_depth': 56, 'num_leaves': 512, 'min_child_samples': 30}. Best is trial 30 with value: 0.08582576478370574.\u001b[0m\n",
      "\u001b[32m[I 2021-09-20 09:36:16,231]\u001b[0m Trial 31 finished with value: 0.08578668237328416 and parameters: {'num_iterations': 146, 'reg_alpha': 0.07128867975426434, 'reg_lambda': 4.266707342913917, 'colsample_bytree': 0.5, 'subsample': 0.4, 'learning_rate': 0.05718119573321006, 'max_depth': 56, 'num_leaves': 515, 'min_child_samples': 34}. Best is trial 31 with value: 0.08578668237328416.\u001b[0m\n",
      "\u001b[32m[I 2021-09-20 09:36:24,119]\u001b[0m Trial 32 finished with value: 0.08648445733730901 and parameters: {'num_iterations': 116, 'reg_alpha': 0.06003259591703364, 'reg_lambda': 4.735821310704832, 'colsample_bytree': 0.5, 'subsample': 0.4, 'learning_rate': 0.05412440525359428, 'max_depth': 59, 'num_leaves': 514, 'min_child_samples': 65}. Best is trial 31 with value: 0.08578668237328416.\u001b[0m\n",
      "\u001b[32m[I 2021-09-20 09:36:35,038]\u001b[0m Trial 33 finished with value: 0.2519756214891347 and parameters: {'num_iterations': 139, 'reg_alpha': 0.014832828264811363, 'reg_lambda': 1.6602158988173905, 'colsample_bytree': 0.7, 'subsample': 0.4, 'learning_rate': 0.0010157026816950668, 'max_depth': 65, 'num_leaves': 385, 'min_child_samples': 20}. Best is trial 31 with value: 0.08578668237328416.\u001b[0m\n",
      "\u001b[32m[I 2021-09-20 09:36:45,020]\u001b[0m Trial 34 finished with value: 0.0853572485268279 and parameters: {'num_iterations': 153, 'reg_alpha': 0.08899751015658527, 'reg_lambda': 0.9149858863414586, 'colsample_bytree': 0.5, 'subsample': 0.4, 'learning_rate': 0.0688068513260496, 'max_depth': 55, 'num_leaves': 505, 'min_child_samples': 61}. Best is trial 34 with value: 0.0853572485268279.\u001b[0m\n",
      "\u001b[32m[I 2021-09-20 09:36:52,432]\u001b[0m Trial 35 finished with value: 0.08594158149180667 and parameters: {'num_iterations': 147, 'reg_alpha': 0.10613723592583306, 'reg_lambda': 0.0012945674614084645, 'colsample_bytree': 0.5, 'subsample': 0.4, 'learning_rate': 0.07101826787644147, 'max_depth': 71, 'num_leaves': 296, 'min_child_samples': 85}. Best is trial 34 with value: 0.0853572485268279.\u001b[0m\n",
      "\u001b[32m[I 2021-09-20 09:37:00,884]\u001b[0m Trial 36 finished with value: 0.10432537717955578 and parameters: {'num_iterations': 121, 'reg_alpha': 0.09923564303904894, 'reg_lambda': 0.7709184895041565, 'colsample_bytree': 0.5, 'subsample': 0.4, 'learning_rate': 0.01754720664721389, 'max_depth': 61, 'num_leaves': 669, 'min_child_samples': 53}. Best is trial 34 with value: 0.0853572485268279.\u001b[0m\n",
      "\u001b[32m[I 2021-09-20 09:37:08,811]\u001b[0m Trial 37 finished with value: 0.08863563488398729 and parameters: {'num_iterations': 127, 'reg_alpha': 0.022393349255035087, 'reg_lambda': 5.409804010878278, 'colsample_bytree': 0.5, 'subsample': 0.4, 'learning_rate': 0.03758430271622145, 'max_depth': 55, 'num_leaves': 437, 'min_child_samples': 65}. Best is trial 34 with value: 0.0853572485268279.\u001b[0m\n",
      "\u001b[32m[I 2021-09-20 09:37:20,282]\u001b[0m Trial 38 finished with value: 0.2124367787086868 and parameters: {'num_iterations': 147, 'reg_alpha': 0.011257190577920354, 'reg_lambda': 9.79224534371163, 'colsample_bytree': 1.0, 'subsample': 0.4, 'learning_rate': 0.0025436865660647514, 'max_depth': 45, 'num_leaves': 536, 'min_child_samples': 27}. Best is trial 34 with value: 0.0853572485268279.\u001b[0m\n",
      "\u001b[32m[I 2021-09-20 09:37:26,471]\u001b[0m Trial 39 finished with value: 0.08885485662475569 and parameters: {'num_iterations': 105, 'reg_alpha': 0.004271398910426157, 'reg_lambda': 1.2254635597713786, 'colsample_bytree': 0.7, 'subsample': 0.4, 'learning_rate': 0.19240611481811656, 'max_depth': 72, 'num_leaves': 414, 'min_child_samples': 153}. Best is trial 34 with value: 0.0853572485268279.\u001b[0m\n",
      "\u001b[32m[I 2021-09-20 09:37:31,155]\u001b[0m Trial 40 finished with value: 0.11961025557255756 and parameters: {'num_iterations': 75, 'reg_alpha': 0.2193759815935819, 'reg_lambda': 0.17668470776024472, 'colsample_bytree': 0.5, 'subsample': 0.4, 'learning_rate': 0.023740043583125946, 'max_depth': 40, 'num_leaves': 594, 'min_child_samples': 175}. Best is trial 34 with value: 0.0853572485268279.\u001b[0m\n",
      "\u001b[32m[I 2021-09-20 09:37:38,879]\u001b[0m Trial 41 finished with value: 0.08608683196965701 and parameters: {'num_iterations': 148, 'reg_alpha': 0.1104839347542485, 'reg_lambda': 0.0014272659710286592, 'colsample_bytree': 0.5, 'subsample': 0.4, 'learning_rate': 0.0744503632328227, 'max_depth': 69, 'num_leaves': 317, 'min_child_samples': 90}. Best is trial 34 with value: 0.0853572485268279.\u001b[0m\n",
      "\u001b[32m[I 2021-09-20 09:37:46,248]\u001b[0m Trial 42 finished with value: 0.08616017461531154 and parameters: {'num_iterations': 158, 'reg_alpha': 0.08210662716620658, 'reg_lambda': 0.04045144023659562, 'colsample_bytree': 0.5, 'subsample': 0.6, 'learning_rate': 0.07225187936489574, 'max_depth': 75, 'num_leaves': 241, 'min_child_samples': 85}. Best is trial 34 with value: 0.0853572485268279.\u001b[0m\n",
      "\u001b[32m[I 2021-09-20 09:37:52,289]\u001b[0m Trial 43 finished with value: 0.0875159192428042 and parameters: {'num_iterations': 148, 'reg_alpha': 0.03355306790468429, 'reg_lambda': 0.0010149933668538852, 'colsample_bytree': 0.5, 'subsample': 0.4, 'learning_rate': 0.1453537877505455, 'max_depth': 61, 'num_leaves': 151, 'min_child_samples': 62}. Best is trial 34 with value: 0.0853572485268279.\u001b[0m\n",
      "\u001b[32m[I 2021-09-20 09:37:56,729]\u001b[0m Trial 44 finished with value: 0.1226127753393226 and parameters: {'num_iterations': 35, 'reg_alpha': 0.14429800095407902, 'reg_lambda': 2.6659638837696225, 'colsample_bytree': 0.4, 'subsample': 0.4, 'learning_rate': 0.043303210584085296, 'max_depth': 52, 'num_leaves': 286, 'min_child_samples': 39}. Best is trial 34 with value: 0.0853572485268279.\u001b[0m\n",
      "\u001b[32m[I 2021-09-20 09:38:07,196]\u001b[0m Trial 45 finished with value: 0.08503554934840915 and parameters: {'num_iterations': 165, 'reg_alpha': 0.052634292765391846, 'reg_lambda': 0.0048907362790501195, 'colsample_bytree': 0.5, 'subsample': 0.4, 'learning_rate': 0.057599093500608455, 'max_depth': 46, 'num_leaves': 357, 'min_child_samples': 17}. Best is trial 45 with value: 0.08503554934840915.\u001b[0m\n",
      "\u001b[32m[I 2021-09-20 09:38:22,371]\u001b[0m Trial 46 finished with value: 0.08802908826597566 and parameters: {'num_iterations': 181, 'reg_alpha': 0.04700931843022641, 'reg_lambda': 0.00533354242165821, 'colsample_bytree': 1.0, 'subsample': 0.7, 'learning_rate': 0.053321633814854504, 'max_depth': 46, 'num_leaves': 362, 'min_child_samples': 16}. Best is trial 45 with value: 0.08503554934840915.\u001b[0m\n",
      "\u001b[32m[I 2021-09-20 09:38:36,156]\u001b[0m Trial 47 finished with value: 0.08625840787717712 and parameters: {'num_iterations': 165, 'reg_alpha': 0.0074413735547950634, 'reg_lambda': 0.05917595885087708, 'colsample_bytree': 0.8, 'subsample': 0.6, 'learning_rate': 0.03501080143347238, 'max_depth': 58, 'num_leaves': 430, 'min_child_samples': 23}. Best is trial 45 with value: 0.08503554934840915.\u001b[0m\n",
      "\u001b[32m[I 2021-09-20 09:38:46,084]\u001b[0m Trial 48 finished with value: 0.08620403749870854 and parameters: {'num_iterations': 162, 'reg_alpha': 0.23528706420432574, 'reg_lambda': 0.31824146511206636, 'colsample_bytree': 0.5, 'subsample': 0.4, 'learning_rate': 0.08416290337913994, 'max_depth': 47, 'num_leaves': 670, 'min_child_samples': 59}. Best is trial 45 with value: 0.08503554934840915.\u001b[0m\n",
      "\u001b[32m[I 2021-09-20 09:38:55,995]\u001b[0m Trial 49 finished with value: 0.0873301619689107 and parameters: {'num_iterations': 154, 'reg_alpha': 0.07531943284098479, 'reg_lambda': 0.014865675780828237, 'colsample_bytree': 0.5, 'subsample': 0.4, 'learning_rate': 0.13514397159756544, 'max_depth': 36, 'num_leaves': 457, 'min_child_samples': 37}. Best is trial 45 with value: 0.08503554934840915.\u001b[0m\n",
      "\u001b[32m[I 2021-09-20 09:38:55,995]\u001b[0m A new study created in memory with name: no-name-2ce13ced-c10c-4b28-b2cb-b9f9747e22b1\u001b[0m\n",
      "\u001b[32m[I 2021-09-20 09:39:01,395]\u001b[0m Trial 0 finished with value: 0.05258069503314718 and parameters: {'num_iterations': 123, 'reg_alpha': 0.8264346439069146, 'reg_lambda': 4.961245740909953, 'colsample_bytree': 0.5, 'subsample': 0.6, 'learning_rate': 0.0013398587537818908, 'max_depth': 37, 'num_leaves': 918, 'min_child_samples': 279}. Best is trial 0 with value: 0.05258069503314718.\u001b[0m\n",
      "\u001b[32m[I 2021-09-20 09:39:06,662]\u001b[0m Trial 1 finished with value: 0.04616446048912809 and parameters: {'num_iterations': 37, 'reg_alpha': 0.966894853823428, 'reg_lambda': 4.753754807176408, 'colsample_bytree': 0.9, 'subsample': 0.7, 'learning_rate': 0.21399874461053975, 'max_depth': 30, 'num_leaves': 912, 'min_child_samples': 40}. Best is trial 1 with value: 0.04616446048912809.\u001b[0m\n",
      "\u001b[32m[I 2021-09-20 09:39:10,550]\u001b[0m Trial 2 finished with value: 0.04951785041978159 and parameters: {'num_iterations': 17, 'reg_alpha': 0.005358650144679804, 'reg_lambda': 0.28291772803118825, 'colsample_bytree': 0.4, 'subsample': 0.4, 'learning_rate': 0.10974613800169253, 'max_depth': 51, 'num_leaves': 516, 'min_child_samples': 98}. Best is trial 1 with value: 0.04616446048912809.\u001b[0m\n",
      "\u001b[32m[I 2021-09-20 09:39:14,185]\u001b[0m Trial 3 finished with value: 0.05199788818878786 and parameters: {'num_iterations': 11, 'reg_alpha': 0.008681233672881985, 'reg_lambda': 0.01274357718367475, 'colsample_bytree': 0.7, 'subsample': 0.4, 'learning_rate': 0.0315259871986386, 'max_depth': 90, 'num_leaves': 442, 'min_child_samples': 208}. Best is trial 1 with value: 0.04616446048912809.\u001b[0m\n",
      "\u001b[32m[I 2021-09-20 09:39:18,687]\u001b[0m Trial 4 finished with value: 0.052418806742109775 and parameters: {'num_iterations': 49, 'reg_alpha': 0.5310011171724691, 'reg_lambda': 0.05929841427391067, 'colsample_bytree': 1.0, 'subsample': 0.5, 'learning_rate': 0.0034415941709136392, 'max_depth': 69, 'num_leaves': 312, 'min_child_samples': 202}. Best is trial 1 with value: 0.04616446048912809.\u001b[0m\n",
      "\u001b[32m[I 2021-09-20 09:39:25,724]\u001b[0m Trial 5 finished with value: 0.04821263481305809 and parameters: {'num_iterations': 195, 'reg_alpha': 0.24428815912331936, 'reg_lambda': 0.03018994406057885, 'colsample_bytree': 0.4, 'subsample': 0.5, 'learning_rate': 0.02398804977208417, 'max_depth': 95, 'num_leaves': 619, 'min_child_samples': 152}. Best is trial 1 with value: 0.04616446048912809.\u001b[0m\n",
      "\u001b[32m[I 2021-09-20 09:39:29,855]\u001b[0m Trial 6 finished with value: 0.05259877685839641 and parameters: {'num_iterations': 45, 'reg_alpha': 2.1509267498510125, 'reg_lambda': 0.09353150392718407, 'colsample_bytree': 0.5, 'subsample': 0.6, 'learning_rate': 0.003417603498359962, 'max_depth': 53, 'num_leaves': 377, 'min_child_samples': 76}. Best is trial 1 with value: 0.04616446048912809.\u001b[0m\n",
      "\u001b[32m[I 2021-09-20 09:39:38,744]\u001b[0m Trial 7 finished with value: 0.04669002359572022 and parameters: {'num_iterations': 70, 'reg_alpha': 0.01882608815151483, 'reg_lambda': 0.16509069012991237, 'colsample_bytree': 0.8, 'subsample': 0.8, 'learning_rate': 0.02714079875512332, 'max_depth': 80, 'num_leaves': 519, 'min_child_samples': 9}. Best is trial 1 with value: 0.04616446048912809.\u001b[0m\n",
      "\u001b[32m[I 2021-09-20 09:39:43,599]\u001b[0m Trial 8 finished with value: 0.04773240723051065 and parameters: {'num_iterations': 75, 'reg_alpha': 0.4808338176609, 'reg_lambda': 0.11143098548116627, 'colsample_bytree': 0.5, 'subsample': 0.4, 'learning_rate': 0.09719001808733481, 'max_depth': 55, 'num_leaves': 591, 'min_child_samples': 159}. Best is trial 1 with value: 0.04616446048912809.\u001b[0m\n",
      "\u001b[32m[I 2021-09-20 09:39:48,406]\u001b[0m Trial 9 finished with value: 0.04812801630106373 and parameters: {'num_iterations': 129, 'reg_alpha': 1.7600981019112942, 'reg_lambda': 0.152902307197309, 'colsample_bytree': 0.3, 'subsample': 1.0, 'learning_rate': 0.08344425013824185, 'max_depth': 78, 'num_leaves': 322, 'min_child_samples': 128}. Best is trial 1 with value: 0.04616446048912809.\u001b[0m\n",
      "\u001b[32m[I 2021-09-20 09:39:52,660]\u001b[0m Trial 10 finished with value: 0.05040762513134153 and parameters: {'num_iterations': 192, 'reg_alpha': 7.17973335494142, 'reg_lambda': 0.0011778898955755433, 'colsample_bytree': 0.9, 'subsample': 0.7, 'learning_rate': 0.2938669243374381, 'max_depth': 20, 'num_leaves': 966, 'min_child_samples': 1}. Best is trial 1 with value: 0.04616446048912809.\u001b[0m\n",
      "\u001b[32m[I 2021-09-20 09:39:57,217]\u001b[0m Trial 11 finished with value: 0.051648944248039334 and parameters: {'num_iterations': 87, 'reg_alpha': 0.037407983194344095, 'reg_lambda': 8.385200227298736, 'colsample_bytree': 0.8, 'subsample': 0.8, 'learning_rate': 0.009490510082572618, 'max_depth': 20, 'num_leaves': 38, 'min_child_samples': 3}. Best is trial 1 with value: 0.04616446048912809.\u001b[0m\n",
      "\u001b[32m[I 2021-09-20 09:40:05,211]\u001b[0m Trial 12 finished with value: 0.04484134432882008 and parameters: {'num_iterations': 64, 'reg_alpha': 0.0010730604661194788, 'reg_lambda': 1.0397939609129143, 'colsample_bytree': 0.6, 'subsample': 0.7, 'learning_rate': 0.2801114187722485, 'max_depth': 78, 'num_leaves': 757, 'min_child_samples': 35}. Best is trial 12 with value: 0.04484134432882008.\u001b[0m\n",
      "\u001b[32m[I 2021-09-20 09:40:11,004]\u001b[0m Trial 13 finished with value: 0.045760471722104734 and parameters: {'num_iterations': 43, 'reg_alpha': 0.08191740808280945, 'reg_lambda': 1.4266783164893866, 'colsample_bytree': 0.6, 'subsample': 0.7, 'learning_rate': 0.23560691601387382, 'max_depth': 37, 'num_leaves': 782, 'min_child_samples': 56}. Best is trial 12 with value: 0.04484134432882008.\u001b[0m\n",
      "\u001b[32m[I 2021-09-20 09:40:18,583]\u001b[0m Trial 14 finished with value: 0.044865595621029784 and parameters: {'num_iterations': 103, 'reg_alpha': 0.0021480401984845404, 'reg_lambda': 0.8748166157422607, 'colsample_bytree': 0.6, 'subsample': 0.7, 'learning_rate': 0.15805977116422112, 'max_depth': 67, 'num_leaves': 757, 'min_child_samples': 82}. Best is trial 12 with value: 0.04484134432882008.\u001b[0m\n",
      "\u001b[32m[I 2021-09-20 09:40:27,198]\u001b[0m Trial 15 finished with value: 0.04525805913000338 and parameters: {'num_iterations': 151, 'reg_alpha': 0.0011082440111541427, 'reg_lambda': 0.8139898850681124, 'colsample_bytree': 0.6, 'subsample': 0.7, 'learning_rate': 0.060989032529215455, 'max_depth': 71, 'num_leaves': 753, 'min_child_samples': 101}. Best is trial 12 with value: 0.04484134432882008.\u001b[0m\n",
      "\u001b[32m[I 2021-09-20 09:40:36,994]\u001b[0m Trial 16 finished with value: 0.044399471640425715 and parameters: {'num_iterations': 104, 'reg_alpha': 0.0010651640253546532, 'reg_lambda': 0.9704948264439229, 'colsample_bytree': 0.6, 'subsample': 0.7, 'learning_rate': 0.14433951164815773, 'max_depth': 65, 'num_leaves': 760, 'min_child_samples': 53}. Best is trial 16 with value: 0.044399471640425715.\u001b[0m\n",
      "\u001b[32m[I 2021-09-20 09:40:50,376]\u001b[0m Trial 17 finished with value: 0.0437390850764478 and parameters: {'num_iterations': 158, 'reg_alpha': 0.002899037748623837, 'reg_lambda': 1.8356304115398572, 'colsample_bytree': 0.6, 'subsample': 1.0, 'learning_rate': 0.04844486322435717, 'max_depth': 84, 'num_leaves': 654, 'min_child_samples': 41}. Best is trial 17 with value: 0.0437390850764478.\u001b[0m\n",
      "\u001b[32m[I 2021-09-20 09:40:56,859]\u001b[0m Trial 18 finished with value: 0.04981578581660261 and parameters: {'num_iterations': 165, 'reg_alpha': 0.004249545904761405, 'reg_lambda': 2.611433524980789, 'colsample_bytree': 0.6, 'subsample': 1.0, 'learning_rate': 0.011645451583190388, 'max_depth': 88, 'num_leaves': 147, 'min_child_samples': 126}. Best is trial 17 with value: 0.0437390850764478.\u001b[0m\n",
      "\u001b[32m[I 2021-09-20 09:41:03,637]\u001b[0m Trial 19 finished with value: 0.0483457848409414 and parameters: {'num_iterations': 158, 'reg_alpha': 0.012875211679835684, 'reg_lambda': 0.3817846686061567, 'colsample_bytree': 1.0, 'subsample': 1.0, 'learning_rate': 0.04836489618602239, 'max_depth': 99, 'num_leaves': 686, 'min_child_samples': 295}. Best is trial 17 with value: 0.0437390850764478.\u001b[0m\n",
      "\u001b[32m[I 2021-09-20 09:41:08,840]\u001b[0m Trial 20 finished with value: 0.04847744733806958 and parameters: {'num_iterations': 123, 'reg_alpha': 0.0027542324703367527, 'reg_lambda': 2.437059507950621, 'colsample_bytree': 0.3, 'subsample': 1.0, 'learning_rate': 0.04432046255258756, 'max_depth': 62, 'num_leaves': 851, 'min_child_samples': 188}. Best is trial 17 with value: 0.0437390850764478.\u001b[0m\n",
      "\u001b[32m[I 2021-09-20 09:41:18,204]\u001b[0m Trial 21 finished with value: 0.04395250981294764 and parameters: {'num_iterations': 96, 'reg_alpha': 0.0010346014348807783, 'reg_lambda': 0.5652212729935473, 'colsample_bytree': 0.6, 'subsample': 0.7, 'learning_rate': 0.1517645442513685, 'max_depth': 78, 'num_leaves': 665, 'min_child_samples': 46}. Best is trial 17 with value: 0.0437390850764478.\u001b[0m\n",
      "\u001b[32m[I 2021-09-20 09:41:27,591]\u001b[0m Trial 22 finished with value: 0.0443588956304474 and parameters: {'num_iterations': 105, 'reg_alpha': 0.0019199990763959988, 'reg_lambda': 0.32412800240376893, 'colsample_bytree': 0.6, 'subsample': 0.7, 'learning_rate': 0.12180434102642332, 'max_depth': 85, 'num_leaves': 637, 'min_child_samples': 54}. Best is trial 17 with value: 0.0437390850764478.\u001b[0m\n",
      "\u001b[32m[I 2021-09-20 09:41:39,314]\u001b[0m Trial 23 finished with value: 0.04343998432253406 and parameters: {'num_iterations': 138, 'reg_alpha': 0.029718637283245298, 'reg_lambda': 0.3596830746771798, 'colsample_bytree': 0.6, 'subsample': 1.0, 'learning_rate': 0.07571842798871709, 'max_depth': 86, 'num_leaves': 629, 'min_child_samples': 35}. Best is trial 23 with value: 0.04343998432253406.\u001b[0m\n",
      "\u001b[32m[I 2021-09-20 09:41:51,487]\u001b[0m Trial 24 finished with value: 0.04345435045827455 and parameters: {'num_iterations': 141, 'reg_alpha': 0.028218218626242787, 'reg_lambda': 0.43223262169418447, 'colsample_bytree': 0.7, 'subsample': 1.0, 'learning_rate': 0.0743371134135642, 'max_depth': 75, 'num_leaves': 564, 'min_child_samples': 22}. Best is trial 23 with value: 0.04343998432253406.\u001b[0m\n",
      "\u001b[32m[I 2021-09-20 09:42:03,909]\u001b[0m Trial 25 finished with value: 0.04664908880431774 and parameters: {'num_iterations': 141, 'reg_alpha': 0.03311415032177635, 'reg_lambda': 0.01077542813686838, 'colsample_bytree': 0.7, 'subsample': 1.0, 'learning_rate': 0.015275598121189728, 'max_depth': 93, 'num_leaves': 554, 'min_child_samples': 27}. Best is trial 23 with value: 0.04343998432253406.\u001b[0m\n",
      "\u001b[32m[I 2021-09-20 09:42:16,055]\u001b[0m Trial 26 finished with value: 0.043302959814466205 and parameters: {'num_iterations': 176, 'reg_alpha': 0.11921931683238167, 'reg_lambda': 2.3843574350685137, 'colsample_bytree': 0.7, 'subsample': 1.0, 'learning_rate': 0.06941391570761382, 'max_depth': 100, 'num_leaves': 431, 'min_child_samples': 21}. Best is trial 26 with value: 0.043302959814466205.\u001b[0m\n",
      "\u001b[32m[I 2021-09-20 09:42:27,356]\u001b[0m Trial 27 finished with value: 0.04408666525399077 and parameters: {'num_iterations': 180, 'reg_alpha': 0.11077632025971902, 'reg_lambda': 0.03858915483612638, 'colsample_bytree': 0.7, 'subsample': 1.0, 'learning_rate': 0.06912080066897681, 'max_depth': 97, 'num_leaves': 450, 'min_child_samples': 75}. Best is trial 26 with value: 0.043302959814466205.\u001b[0m\n",
      "\u001b[32m[I 2021-09-20 09:42:35,964]\u001b[0m Trial 28 finished with value: 0.045835158013690744 and parameters: {'num_iterations': 177, 'reg_alpha': 0.10043246964718965, 'reg_lambda': 3.908413088294909, 'colsample_bytree': 0.7, 'subsample': 1.0, 'learning_rate': 0.03452361358045308, 'max_depth': 100, 'num_leaves': 215, 'min_child_samples': 19}. Best is trial 26 with value: 0.043302959814466205.\u001b[0m\n",
      "\u001b[32m[I 2021-09-20 09:42:41,472]\u001b[0m Trial 29 finished with value: 0.051449165159513026 and parameters: {'num_iterations': 124, 'reg_alpha': 0.03838327287955038, 'reg_lambda': 9.666664930263726, 'colsample_bytree': 0.7, 'subsample': 0.6, 'learning_rate': 0.006031649872930029, 'max_depth': 74, 'num_leaves': 432, 'min_child_samples': 261}. Best is trial 26 with value: 0.043302959814466205.\u001b[0m\n",
      "\u001b[32m[I 2021-09-20 09:42:48,791]\u001b[0m Trial 30 finished with value: 0.04874095268963701 and parameters: {'num_iterations': 140, 'reg_alpha': 0.18002706093589518, 'reg_lambda': 0.4307987995166179, 'colsample_bytree': 0.7, 'subsample': 1.0, 'learning_rate': 0.01832650155989542, 'max_depth': 89, 'num_leaves': 261, 'min_child_samples': 113}. Best is trial 26 with value: 0.043302959814466205.\u001b[0m\n",
      "\u001b[32m[I 2021-09-20 09:43:01,292]\u001b[0m Trial 31 finished with value: 0.0431810335562254 and parameters: {'num_iterations': 171, 'reg_alpha': 0.020129041828503762, 'reg_lambda': 1.7080421272884259, 'colsample_bytree': 0.7, 'subsample': 1.0, 'learning_rate': 0.05314328437436187, 'max_depth': 84, 'num_leaves': 476, 'min_child_samples': 24}. Best is trial 31 with value: 0.0431810335562254.\u001b[0m\n",
      "\u001b[32m[I 2021-09-20 09:43:14,809]\u001b[0m Trial 32 finished with value: 0.04286272442419105 and parameters: {'num_iterations': 178, 'reg_alpha': 0.017919011899605448, 'reg_lambda': 4.206473426103927, 'colsample_bytree': 0.7, 'subsample': 1.0, 'learning_rate': 0.07278843721735208, 'max_depth': 84, 'num_leaves': 485, 'min_child_samples': 18}. Best is trial 32 with value: 0.04286272442419105.\u001b[0m\n",
      "\u001b[32m[I 2021-09-20 09:43:25,303]\u001b[0m Trial 33 finished with value: 0.04463729996530246 and parameters: {'num_iterations': 175, 'reg_alpha': 0.057907744853688006, 'reg_lambda': 4.884387572087801, 'colsample_bytree': 0.7, 'subsample': 1.0, 'learning_rate': 0.05634000552479274, 'max_depth': 93, 'num_leaves': 384, 'min_child_samples': 67}. Best is trial 32 with value: 0.04286272442419105.\u001b[0m\n",
      "\u001b[32m[I 2021-09-20 09:43:40,960]\u001b[0m Trial 34 finished with value: 0.04374922668150322 and parameters: {'num_iterations': 186, 'reg_alpha': 0.007671150433493645, 'reg_lambda': 3.27355598397401, 'colsample_bytree': 0.9, 'subsample': 1.0, 'learning_rate': 0.03784386560114946, 'max_depth': 85, 'num_leaves': 475, 'min_child_samples': 23}. Best is trial 32 with value: 0.04286272442419105.\u001b[0m\n",
      "\u001b[32m[I 2021-09-20 09:43:47,979]\u001b[0m Trial 35 finished with value: 0.04620506819998013 and parameters: {'num_iterations': 200, 'reg_alpha': 0.018289161016582147, 'reg_lambda': 6.429740347454364, 'colsample_bytree': 0.7, 'subsample': 0.5, 'learning_rate': 0.10274876528196092, 'max_depth': 46, 'num_leaves': 525, 'min_child_samples': 237}. Best is trial 32 with value: 0.04286272442419105.\u001b[0m\n",
      "\u001b[32m[I 2021-09-20 09:43:56,096]\u001b[0m Trial 36 finished with value: 0.05217181781416754 and parameters: {'num_iterations': 167, 'reg_alpha': 0.009923594362622126, 'reg_lambda': 1.5039249856338694, 'colsample_bytree': 0.4, 'subsample': 0.4, 'learning_rate': 0.0013958463251332789, 'max_depth': 92, 'num_leaves': 392, 'min_child_samples': 86}. Best is trial 32 with value: 0.04286272442419105.\u001b[0m\n",
      "\u001b[32m[I 2021-09-20 09:44:06,051]\u001b[0m Trial 37 finished with value: 0.0458635228328506 and parameters: {'num_iterations': 171, 'reg_alpha': 0.22827981187642857, 'reg_lambda': 0.22918255019495357, 'colsample_bytree': 0.7, 'subsample': 0.6, 'learning_rate': 0.023714330759045228, 'max_depth': 82, 'num_leaves': 318, 'min_child_samples': 35}. Best is trial 32 with value: 0.04286272442419105.\u001b[0m\n",
      "\u001b[32m[I 2021-09-20 09:44:20,177]\u001b[0m Trial 38 finished with value: 0.043472228507313686 and parameters: {'num_iterations': 150, 'reg_alpha': 0.05840231342607795, 'reg_lambda': 4.31281731075731, 'colsample_bytree': 1.0, 'subsample': 0.8, 'learning_rate': 0.2049459126665131, 'max_depth': 88, 'num_leaves': 498, 'min_child_samples': 15}. Best is trial 32 with value: 0.04286272442419105.\u001b[0m\n",
      "\u001b[32m[I 2021-09-20 09:44:31,712]\u001b[0m Trial 39 finished with value: 0.043937367158306644 and parameters: {'num_iterations': 183, 'reg_alpha': 0.01970053084424799, 'reg_lambda': 1.9934626941360711, 'colsample_bytree': 0.5, 'subsample': 1.0, 'learning_rate': 0.07393394790985039, 'max_depth': 96, 'num_leaves': 593, 'min_child_samples': 65}. Best is trial 32 with value: 0.04286272442419105.\u001b[0m\n",
      "\u001b[32m[I 2021-09-20 09:44:41,486]\u001b[0m Trial 40 finished with value: 0.04651166315143687 and parameters: {'num_iterations': 158, 'reg_alpha': 0.005929465653304155, 'reg_lambda': 0.6746320336443508, 'colsample_bytree': 0.8, 'subsample': 0.5, 'learning_rate': 0.029576809179763502, 'max_depth': 58, 'num_leaves': 444, 'min_child_samples': 99}. Best is trial 32 with value: 0.04286272442419105.\u001b[0m\n",
      "\u001b[32m[I 2021-09-20 09:44:53,359]\u001b[0m Trial 41 finished with value: 0.04286273124551649 and parameters: {'num_iterations': 139, 'reg_alpha': 0.025134333000761146, 'reg_lambda': 0.23210159931130447, 'colsample_bytree': 0.7, 'subsample': 1.0, 'learning_rate': 0.08379693055161877, 'max_depth': 71, 'num_leaves': 557, 'min_child_samples': 26}. Best is trial 32 with value: 0.04286272442419105.\u001b[0m\n",
      "\u001b[32m[I 2021-09-20 09:45:07,182]\u001b[0m Trial 42 finished with value: 0.04330862872192455 and parameters: {'num_iterations': 131, 'reg_alpha': 0.016159308636682503, 'reg_lambda': 0.07210174676078476, 'colsample_bytree': 0.7, 'subsample': 1.0, 'learning_rate': 0.09559656549070661, 'max_depth': 72, 'num_leaves': 697, 'min_child_samples': 11}. Best is trial 32 with value: 0.04286272442419105.\u001b[0m\n",
      "\u001b[32m[I 2021-09-20 09:45:16,772]\u001b[0m Trial 43 finished with value: 0.04378926823256345 and parameters: {'num_iterations': 118, 'reg_alpha': 0.013689291664643433, 'reg_lambda': 0.009216922053497955, 'colsample_bytree': 0.7, 'subsample': 1.0, 'learning_rate': 0.11627416790392696, 'max_depth': 73, 'num_leaves': 361, 'min_child_samples': 2}. Best is trial 32 with value: 0.04286272442419105.\u001b[0m\n",
      "\u001b[32m[I 2021-09-20 09:45:33,147]\u001b[0m Trial 44 finished with value: 0.0434674615063691 and parameters: {'num_iterations': 190, 'reg_alpha': 0.1409604475432164, 'reg_lambda': 0.08159320074385927, 'colsample_bytree': 0.7, 'subsample': 1.0, 'learning_rate': 0.17955011832572387, 'max_depth': 64, 'num_leaves': 706, 'min_child_samples': 10}. Best is trial 32 with value: 0.04286272442419105.\u001b[0m\n",
      "\u001b[32m[I 2021-09-20 09:45:44,008]\u001b[0m Trial 45 finished with value: 0.04374250070790596 and parameters: {'num_iterations': 147, 'reg_alpha': 0.4358861391637323, 'reg_lambda': 0.032071454420232626, 'colsample_bytree': 0.7, 'subsample': 0.4, 'learning_rate': 0.09138770566210128, 'max_depth': 68, 'num_leaves': 554, 'min_child_samples': 30}. Best is trial 32 with value: 0.04286272442419105.\u001b[0m\n",
      "\u001b[32m[I 2021-09-20 09:45:50,584]\u001b[0m Trial 46 finished with value: 0.045584626617420326 and parameters: {'num_iterations': 131, 'reg_alpha': 0.0693578960988391, 'reg_lambda': 0.005162364827295691, 'colsample_bytree': 0.7, 'subsample': 1.0, 'learning_rate': 0.11700463306750503, 'max_depth': 81, 'num_leaves': 497, 'min_child_samples': 166}. Best is trial 32 with value: 0.04286272442419105.\u001b[0m\n",
      "\u001b[32m[I 2021-09-20 09:45:58,607]\u001b[0m Trial 47 finished with value: 0.04416695400195181 and parameters: {'num_iterations': 164, 'reg_alpha': 0.04820140496739611, 'reg_lambda': 0.05355906833783857, 'colsample_bytree': 0.3, 'subsample': 0.8, 'learning_rate': 0.05739937469033084, 'max_depth': 47, 'num_leaves': 412, 'min_child_samples': 45}. Best is trial 32 with value: 0.04286272442419105.\u001b[0m\n",
      "\u001b[32m[I 2021-09-20 09:46:15,983]\u001b[0m Trial 48 finished with value: 0.04310766553761099 and parameters: {'num_iterations': 200, 'reg_alpha': 0.020522382137041266, 'reg_lambda': 0.02121857961787794, 'colsample_bytree': 0.4, 'subsample': 1.0, 'learning_rate': 0.04114087120899794, 'max_depth': 70, 'num_leaves': 831, 'min_child_samples': 13}. Best is trial 32 with value: 0.04286272442419105.\u001b[0m\n",
      "\u001b[32m[I 2021-09-20 09:46:39,798]\u001b[0m Trial 49 finished with value: 0.043658322531115984 and parameters: {'num_iterations': 197, 'reg_alpha': 0.00974020357511967, 'reg_lambda': 0.019580163266177827, 'colsample_bytree': 0.4, 'subsample': 0.6, 'learning_rate': 0.022548906877498186, 'max_depth': 77, 'num_leaves': 934, 'min_child_samples': 1}. Best is trial 32 with value: 0.04286272442419105.\u001b[0m\n",
      "\u001b[32m[I 2021-09-20 09:46:39,798]\u001b[0m A new study created in memory with name: no-name-965e1c0e-a70b-498d-97c2-43a8f7648f5c\u001b[0m\n",
      "\u001b[32m[I 2021-09-20 09:46:46,345]\u001b[0m Trial 0 finished with value: 0.05107291856676399 and parameters: {'num_iterations': 168, 'reg_alpha': 0.0016372400117453543, 'reg_lambda': 0.0026445612693273327, 'colsample_bytree': 0.5, 'subsample': 0.4, 'learning_rate': 0.06387043370463884, 'max_depth': 61, 'num_leaves': 416, 'min_child_samples': 174}. Best is trial 0 with value: 0.05107291856676399.\u001b[0m\n",
      "\u001b[32m[I 2021-09-20 09:46:50,179]\u001b[0m Trial 1 finished with value: 0.05718366734207037 and parameters: {'num_iterations': 59, 'reg_alpha': 0.10615420765776784, 'reg_lambda': 7.662109004425963, 'colsample_bytree': 0.7, 'subsample': 1.0, 'learning_rate': 0.10683439792553745, 'max_depth': 31, 'num_leaves': 22, 'min_child_samples': 65}. Best is trial 0 with value: 0.05107291856676399.\u001b[0m\n",
      "\u001b[32m[I 2021-09-20 09:46:55,909]\u001b[0m Trial 2 finished with value: 0.06390946062057412 and parameters: {'num_iterations': 185, 'reg_alpha': 3.7352412182267276, 'reg_lambda': 0.05316861926722662, 'colsample_bytree': 1.0, 'subsample': 0.4, 'learning_rate': 0.0014686371781002516, 'max_depth': 48, 'num_leaves': 817, 'min_child_samples': 208}. Best is trial 0 with value: 0.05107291856676399.\u001b[0m\n",
      "\u001b[32m[I 2021-09-20 09:47:02,923]\u001b[0m Trial 3 finished with value: 0.06468436107772944 and parameters: {'num_iterations': 107, 'reg_alpha': 0.08626333834177102, 'reg_lambda': 3.130025825287295, 'colsample_bytree': 1.0, 'subsample': 0.4, 'learning_rate': 0.001026933126951352, 'max_depth': 58, 'num_leaves': 662, 'min_child_samples': 146}. Best is trial 0 with value: 0.05107291856676399.\u001b[0m\n",
      "\u001b[32m[I 2021-09-20 09:47:16,141]\u001b[0m Trial 4 finished with value: 0.06210233845898215 and parameters: {'num_iterations': 176, 'reg_alpha': 0.034333448847942045, 'reg_lambda': 0.007663980000194509, 'colsample_bytree': 1.0, 'subsample': 1.0, 'learning_rate': 0.0018239611684937023, 'max_depth': 65, 'num_leaves': 403, 'min_child_samples': 68}. Best is trial 0 with value: 0.05107291856676399.\u001b[0m\n",
      "\u001b[32m[I 2021-09-20 09:47:22,473]\u001b[0m Trial 5 finished with value: 0.05073527869535362 and parameters: {'num_iterations': 160, 'reg_alpha': 0.06391433974855858, 'reg_lambda': 0.004323412447081932, 'colsample_bytree': 0.7, 'subsample': 0.7, 'learning_rate': 0.20495900625190291, 'max_depth': 72, 'num_leaves': 904, 'min_child_samples': 242}. Best is trial 5 with value: 0.05073527869535362.\u001b[0m\n",
      "\u001b[32m[I 2021-09-20 09:47:26,130]\u001b[0m Trial 6 finished with value: 0.06491905708993866 and parameters: {'num_iterations': 14, 'reg_alpha': 0.0025346566660856503, 'reg_lambda': 3.077454872929063, 'colsample_bytree': 1.0, 'subsample': 0.7, 'learning_rate': 0.007055874072537221, 'max_depth': 72, 'num_leaves': 485, 'min_child_samples': 291}. Best is trial 5 with value: 0.05073527869535362.\u001b[0m\n",
      "\u001b[32m[I 2021-09-20 09:47:31,770]\u001b[0m Trial 7 finished with value: 0.054942270239491976 and parameters: {'num_iterations': 168, 'reg_alpha': 2.095368630389629, 'reg_lambda': 0.1150841050140126, 'colsample_bytree': 0.8, 'subsample': 0.5, 'learning_rate': 0.03964535791454116, 'max_depth': 85, 'num_leaves': 265, 'min_child_samples': 296}. Best is trial 5 with value: 0.05073527869535362.\u001b[0m\n",
      "\u001b[32m[I 2021-09-20 09:47:39,290]\u001b[0m Trial 8 finished with value: 0.058681252285485486 and parameters: {'num_iterations': 165, 'reg_alpha': 0.07768109265084476, 'reg_lambda': 0.004144962727954019, 'colsample_bytree': 1.0, 'subsample': 0.8, 'learning_rate': 0.00693154038309556, 'max_depth': 64, 'num_leaves': 370, 'min_child_samples': 218}. Best is trial 5 with value: 0.05073527869535362.\u001b[0m\n",
      "\u001b[32m[I 2021-09-20 09:47:47,777]\u001b[0m Trial 9 finished with value: 0.06278689309469587 and parameters: {'num_iterations': 113, 'reg_alpha': 0.909762092937834, 'reg_lambda': 0.006168503093393337, 'colsample_bytree': 0.5, 'subsample': 0.5, 'learning_rate': 0.003047539440819927, 'max_depth': 63, 'num_leaves': 674, 'min_child_samples': 25}. Best is trial 5 with value: 0.05073527869535362.\u001b[0m\n",
      "\u001b[32m[I 2021-09-20 09:47:54,302]\u001b[0m Trial 10 finished with value: 0.05174123359699229 and parameters: {'num_iterations': 140, 'reg_alpha': 0.008951889077876108, 'reg_lambda': 0.05111590543078336, 'colsample_bytree': 0.9, 'subsample': 0.7, 'learning_rate': 0.27107390237097756, 'max_depth': 100, 'num_leaves': 944, 'min_child_samples': 245}. Best is trial 5 with value: 0.05073527869535362.\u001b[0m\n",
      "\u001b[32m[I 2021-09-20 09:48:00,951]\u001b[0m Trial 11 finished with value: 0.05161656920694848 and parameters: {'num_iterations': 139, 'reg_alpha': 0.0012426908734224633, 'reg_lambda': 0.0010045282846913631, 'colsample_bytree': 0.5, 'subsample': 0.6, 'learning_rate': 0.04967365033191063, 'max_depth': 43, 'num_leaves': 999, 'min_child_samples': 159}. Best is trial 5 with value: 0.05073527869535362.\u001b[0m\n",
      "\u001b[32m[I 2021-09-20 09:48:07,257]\u001b[0m Trial 12 finished with value: 0.05004751613632644 and parameters: {'num_iterations': 200, 'reg_alpha': 0.46859894153009546, 'reg_lambda': 0.001457285745187966, 'colsample_bytree': 0.4, 'subsample': 0.7, 'learning_rate': 0.21513403210615653, 'max_depth': 81, 'num_leaves': 186, 'min_child_samples': 150}. Best is trial 12 with value: 0.05004751613632644.\u001b[0m\n",
      "\u001b[32m[I 2021-09-20 09:48:13,083]\u001b[0m Trial 13 finished with value: 0.051146949776360355 and parameters: {'num_iterations': 199, 'reg_alpha': 0.4562100652856965, 'reg_lambda': 0.017844722849313484, 'colsample_bytree': 0.4, 'subsample': 0.7, 'learning_rate': 0.2968310579024551, 'max_depth': 83, 'num_leaves': 101, 'min_child_samples': 114}. Best is trial 12 with value: 0.05004751613632644.\u001b[0m\n",
      "\u001b[32m[I 2021-09-20 09:48:17,226]\u001b[0m Trial 14 finished with value: 0.05685346997285508 and parameters: {'num_iterations': 139, 'reg_alpha': 9.743348869311262, 'reg_lambda': 0.0012031949663652778, 'colsample_bytree': 0.7, 'subsample': 0.7, 'learning_rate': 0.12916420092214617, 'max_depth': 85, 'num_leaves': 192, 'min_child_samples': 117}. Best is trial 12 with value: 0.05004751613632644.\u001b[0m\n",
      "\u001b[32m[I 2021-09-20 09:48:21,560]\u001b[0m Trial 15 finished with value: 0.05936004576644211 and parameters: {'num_iterations': 70, 'reg_alpha': 0.3183087851826763, 'reg_lambda': 0.4076130149828352, 'colsample_bytree': 0.3, 'subsample': 0.7, 'learning_rate': 0.02382926661221581, 'max_depth': 96, 'num_leaves': 705, 'min_child_samples': 242}. Best is trial 12 with value: 0.05004751613632644.\u001b[0m\n",
      "\u001b[32m[I 2021-09-20 09:48:28,907]\u001b[0m Trial 16 finished with value: 0.050509513617338075 and parameters: {'num_iterations': 198, 'reg_alpha': 0.015787135521036753, 'reg_lambda': 0.014955958734563865, 'colsample_bytree': 0.6, 'subsample': 0.8, 'learning_rate': 0.1400536831793274, 'max_depth': 76, 'num_leaves': 595, 'min_child_samples': 199}. Best is trial 12 with value: 0.05004751613632644.\u001b[0m\n",
      "\u001b[32m[I 2021-09-20 09:48:36,345]\u001b[0m Trial 17 finished with value: 0.05073718940856964 and parameters: {'num_iterations': 197, 'reg_alpha': 0.014280495840652807, 'reg_lambda': 0.024972982689948367, 'colsample_bytree': 0.6, 'subsample': 0.8, 'learning_rate': 0.13085073578786538, 'max_depth': 79, 'num_leaves': 597, 'min_child_samples': 195}. Best is trial 12 with value: 0.05004751613632644.\u001b[0m\n",
      "\u001b[32m[I 2021-09-20 09:48:42,242]\u001b[0m Trial 18 finished with value: 0.05815933882772375 and parameters: {'num_iterations': 91, 'reg_alpha': 0.006899322460534257, 'reg_lambda': 0.23967617628016188, 'colsample_bytree': 0.6, 'subsample': 0.8, 'learning_rate': 0.013364723617704409, 'max_depth': 91, 'num_leaves': 523, 'min_child_samples': 129}. Best is trial 12 with value: 0.05004751613632644.\u001b[0m\n",
      "\u001b[32m[I 2021-09-20 09:48:46,117]\u001b[0m Trial 19 finished with value: 0.05734946574795388 and parameters: {'num_iterations': 22, 'reg_alpha': 0.19641817676527365, 'reg_lambda': 0.01267239809249579, 'colsample_bytree': 0.4, 'subsample': 0.6, 'learning_rate': 0.08604437387395077, 'max_depth': 52, 'num_leaves': 256, 'min_child_samples': 99}. Best is trial 12 with value: 0.05004751613632644.\u001b[0m\n",
      "\u001b[32m[I 2021-09-20 09:48:52,028]\u001b[0m Trial 20 finished with value: 0.05446534929196116 and parameters: {'num_iterations': 146, 'reg_alpha': 0.02628711488037375, 'reg_lambda': 0.0021531424021997633, 'colsample_bytree': 0.4, 'subsample': 0.8, 'learning_rate': 0.028661493638463917, 'max_depth': 76, 'num_leaves': 813, 'min_child_samples': 181}. Best is trial 12 with value: 0.05004751613632644.\u001b[0m\n",
      "\u001b[32m[I 2021-09-20 09:48:58,973]\u001b[0m Trial 21 finished with value: 0.05097456773514027 and parameters: {'num_iterations': 198, 'reg_alpha': 0.0390610392191056, 'reg_lambda': 0.003787754513748928, 'colsample_bytree': 0.6, 'subsample': 0.7, 'learning_rate': 0.1783021711418355, 'max_depth': 73, 'num_leaves': 836, 'min_child_samples': 255}. Best is trial 12 with value: 0.05004751613632644.\u001b[0m\n",
      "\u001b[32m[I 2021-09-20 09:49:05,347]\u001b[0m Trial 22 finished with value: 0.05117414038268096 and parameters: {'num_iterations': 157, 'reg_alpha': 0.004344250425088242, 'reg_lambda': 0.010342968156961951, 'colsample_bytree': 0.7, 'subsample': 0.7, 'learning_rate': 0.1948197581247981, 'max_depth': 71, 'num_leaves': 563, 'min_child_samples': 224}. Best is trial 12 with value: 0.05004751613632644.\u001b[0m\n",
      "\u001b[32m[I 2021-09-20 09:49:11,944]\u001b[0m Trial 23 finished with value: 0.05206990529696422 and parameters: {'num_iterations': 183, 'reg_alpha': 0.6927724040119505, 'reg_lambda': 0.001892779012276256, 'colsample_bytree': 0.9, 'subsample': 0.8, 'learning_rate': 0.07651903280498837, 'max_depth': 92, 'num_leaves': 319, 'min_child_samples': 276}. Best is trial 12 with value: 0.05004751613632644.\u001b[0m\n",
      "\u001b[32m[I 2021-09-20 09:49:16,725]\u001b[0m Trial 24 finished with value: 0.05158404429672172 and parameters: {'num_iterations': 124, 'reg_alpha': 0.020546514072153403, 'reg_lambda': 0.03417908291474256, 'colsample_bytree': 0.3, 'subsample': 0.7, 'learning_rate': 0.18045036714719376, 'max_depth': 78, 'num_leaves': 156, 'min_child_samples': 148}. Best is trial 12 with value: 0.05004751613632644.\u001b[0m\n",
      "\u001b[32m[I 2021-09-20 09:49:24,040]\u001b[0m Trial 25 finished with value: 0.05063358690648497 and parameters: {'num_iterations': 188, 'reg_alpha': 0.14888156651104067, 'reg_lambda': 0.005785393808079889, 'colsample_bytree': 0.8, 'subsample': 1.0, 'learning_rate': 0.2256950154270879, 'max_depth': 22, 'num_leaves': 929, 'min_child_samples': 190}. Best is trial 12 with value: 0.05004751613632644.\u001b[0m\n",
      "\u001b[32m[I 2021-09-20 09:49:31,424]\u001b[0m Trial 26 finished with value: 0.050224732545754526 and parameters: {'num_iterations': 187, 'reg_alpha': 0.21359015678764529, 'reg_lambda': 0.012028724589338756, 'colsample_bytree': 0.8, 'subsample': 1.0, 'learning_rate': 0.11638518117725612, 'max_depth': 24, 'num_leaves': 742, 'min_child_samples': 185}. Best is trial 12 with value: 0.05004751613632644.\u001b[0m\n",
      "\u001b[32m[I 2021-09-20 09:49:38,408]\u001b[0m Trial 27 finished with value: 0.056424714675336246 and parameters: {'num_iterations': 180, 'reg_alpha': 1.3278997571536044, 'reg_lambda': 0.11823708074092736, 'colsample_bytree': 0.8, 'subsample': 1.0, 'learning_rate': 0.01458148558010652, 'max_depth': 35, 'num_leaves': 746, 'min_child_samples': 167}. Best is trial 12 with value: 0.05004751613632644.\u001b[0m\n",
      "\u001b[32m[I 2021-09-20 09:49:46,068]\u001b[0m Trial 28 finished with value: 0.051335291730355 and parameters: {'num_iterations': 200, 'reg_alpha': 0.2595789630149081, 'reg_lambda': 0.7788026339111014, 'colsample_bytree': 0.8, 'subsample': 1.0, 'learning_rate': 0.047874656265226995, 'max_depth': 26, 'num_leaves': 617, 'min_child_samples': 205}. Best is trial 12 with value: 0.05004751613632644.\u001b[0m\n",
      "\u001b[32m[I 2021-09-20 09:49:53,225]\u001b[0m Trial 29 finished with value: 0.050413153705754575 and parameters: {'num_iterations': 153, 'reg_alpha': 0.41428282250192755, 'reg_lambda': 0.014276980618700124, 'colsample_bytree': 0.4, 'subsample': 0.5, 'learning_rate': 0.06829957746956383, 'max_depth': 57, 'num_leaves': 434, 'min_child_samples': 84}. Best is trial 12 with value: 0.05004751613632644.\u001b[0m\n",
      "\u001b[32m[I 2021-09-20 09:50:00,278]\u001b[0m Trial 30 finished with value: 0.05053332598199051 and parameters: {'num_iterations': 151, 'reg_alpha': 0.47787763684835943, 'reg_lambda': 0.0022094838546909976, 'colsample_bytree': 0.4, 'subsample': 0.5, 'learning_rate': 0.06510996731510443, 'max_depth': 38, 'num_leaves': 468, 'min_child_samples': 82}. Best is trial 12 with value: 0.05004751613632644.\u001b[0m\n",
      "\u001b[32m[I 2021-09-20 09:50:07,316]\u001b[0m Trial 31 finished with value: 0.050900566992268255 and parameters: {'num_iterations': 178, 'reg_alpha': 1.973636555584497, 'reg_lambda': 0.01613303253889834, 'colsample_bytree': 0.4, 'subsample': 0.5, 'learning_rate': 0.10513431379881324, 'max_depth': 55, 'num_leaves': 433, 'min_child_samples': 24}. Best is trial 12 with value: 0.05004751613632644.\u001b[0m\n",
      "\u001b[32m[I 2021-09-20 09:50:11,800]\u001b[0m Trial 32 finished with value: 0.0535115620953433 and parameters: {'num_iterations': 170, 'reg_alpha': 0.2293653771449129, 'reg_lambda': 0.05197999415084211, 'colsample_bytree': 0.6, 'subsample': 0.5, 'learning_rate': 0.14535950743049905, 'max_depth': 46, 'num_leaves': 35, 'min_child_samples': 52}. Best is trial 12 with value: 0.05004751613632644.\u001b[0m\n",
      "\u001b[32m[I 2021-09-20 09:50:18,631]\u001b[0m Trial 33 finished with value: 0.0498651312333047 and parameters: {'num_iterations': 188, 'reg_alpha': 0.12376113943550601, 'reg_lambda': 0.02893689358311355, 'colsample_bytree': 0.4, 'subsample': 0.4, 'learning_rate': 0.09495476350515669, 'max_depth': 29, 'num_leaves': 541, 'min_child_samples': 136}. Best is trial 33 with value: 0.0498651312333047.\u001b[0m\n",
      "\u001b[32m[I 2021-09-20 09:50:24,402]\u001b[0m Trial 34 finished with value: 0.05070943936036782 and parameters: {'num_iterations': 128, 'reg_alpha': 0.14561042511413352, 'reg_lambda': 0.03288728828544075, 'colsample_bytree': 0.4, 'subsample': 0.4, 'learning_rate': 0.09212153212950469, 'max_depth': 29, 'num_leaves': 323, 'min_child_samples': 133}. Best is trial 33 with value: 0.0498651312333047.\u001b[0m\n",
      "\u001b[32m[I 2021-09-20 09:50:32,254]\u001b[0m Trial 35 finished with value: 0.049941775222034364 and parameters: {'num_iterations': 186, 'reg_alpha': 0.05179588572139204, 'reg_lambda': 0.07689003198050723, 'colsample_bytree': 0.4, 'subsample': 0.4, 'learning_rate': 0.056979247693504056, 'max_depth': 20, 'num_leaves': 758, 'min_child_samples': 86}. Best is trial 33 with value: 0.0498651312333047.\u001b[0m\n",
      "\u001b[32m[I 2021-09-20 09:50:43,088]\u001b[0m Trial 36 finished with value: 0.04981237108923783 and parameters: {'num_iterations': 186, 'reg_alpha': 0.05068948836770595, 'reg_lambda': 0.21971422820949985, 'colsample_bytree': 0.4, 'subsample': 0.4, 'learning_rate': 0.04253917924150442, 'max_depth': 22, 'num_leaves': 749, 'min_child_samples': 53}. Best is trial 36 with value: 0.04981237108923783.\u001b[0m\n",
      "\u001b[32m[I 2021-09-20 09:50:54,882]\u001b[0m Trial 37 finished with value: 0.05049475771885827 and parameters: {'num_iterations': 172, 'reg_alpha': 0.056092981311553713, 'reg_lambda': 0.2812173142975409, 'colsample_bytree': 0.4, 'subsample': 0.4, 'learning_rate': 0.03053815617257815, 'max_depth': 21, 'num_leaves': 842, 'min_child_samples': 47}. Best is trial 36 with value: 0.04981237108923783.\u001b[0m\n",
      "\u001b[32m[I 2021-09-20 09:51:00,217]\u001b[0m Trial 38 finished with value: 0.058251881407170206 and parameters: {'num_iterations': 54, 'reg_alpha': 0.04608360606577359, 'reg_lambda': 0.8245665678740753, 'colsample_bytree': 0.4, 'subsample': 0.4, 'learning_rate': 0.020275683341553528, 'max_depth': 32, 'num_leaves': 785, 'min_child_samples': 71}. Best is trial 36 with value: 0.04981237108923783.\u001b[0m\n",
      "\u001b[32m[I 2021-09-20 09:51:14,928]\u001b[0m Trial 39 finished with value: 0.04964772690491386 and parameters: {'num_iterations': 188, 'reg_alpha': 0.11058929702765766, 'reg_lambda': 0.08119454297505312, 'colsample_bytree': 0.4, 'subsample': 0.4, 'learning_rate': 0.046959940461852555, 'max_depth': 29, 'num_leaves': 654, 'min_child_samples': 9}. Best is trial 39 with value: 0.04964772690491386.\u001b[0m\n",
      "\u001b[32m[I 2021-09-20 09:51:28,000]\u001b[0m Trial 40 finished with value: 0.05025245625404129 and parameters: {'num_iterations': 162, 'reg_alpha': 0.10173955099987698, 'reg_lambda': 0.09207079527509152, 'colsample_bytree': 0.4, 'subsample': 0.4, 'learning_rate': 0.03944502215728392, 'max_depth': 39, 'num_leaves': 538, 'min_child_samples': 1}. Best is trial 39 with value: 0.04964772690491386.\u001b[0m\n",
      "\u001b[32m[I 2021-09-20 09:51:43,611]\u001b[0m Trial 41 finished with value: 0.04971338993065018 and parameters: {'num_iterations': 188, 'reg_alpha': 0.10242711918924426, 'reg_lambda': 0.1731534080320065, 'colsample_bytree': 0.4, 'subsample': 0.4, 'learning_rate': 0.04991876465314548, 'max_depth': 28, 'num_leaves': 647, 'min_child_samples': 3}. Best is trial 39 with value: 0.04964772690491386.\u001b[0m\n",
      "\u001b[32m[I 2021-09-20 09:51:58,778]\u001b[0m Trial 42 finished with value: 0.04969930735859199 and parameters: {'num_iterations': 187, 'reg_alpha': 0.10819966537493604, 'reg_lambda': 0.18741500692943666, 'colsample_bytree': 0.4, 'subsample': 0.4, 'learning_rate': 0.047812804154205336, 'max_depth': 29, 'num_leaves': 655, 'min_child_samples': 5}. Best is trial 39 with value: 0.04964772690491386.\u001b[0m\n",
      "\u001b[32m[I 2021-09-20 09:52:14,668]\u001b[0m Trial 43 finished with value: 0.05010591832908101 and parameters: {'num_iterations': 173, 'reg_alpha': 0.08620300024318828, 'reg_lambda': 0.15679428909243576, 'colsample_bytree': 0.4, 'subsample': 0.4, 'learning_rate': 0.03611674466206685, 'max_depth': 28, 'num_leaves': 659, 'min_child_samples': 1}. Best is trial 39 with value: 0.04964772690491386.\u001b[0m\n",
      "\u001b[32m[I 2021-09-20 09:52:27,892]\u001b[0m Trial 44 finished with value: 0.04961623066991213 and parameters: {'num_iterations': 187, 'reg_alpha': 0.1426238140216316, 'reg_lambda': 0.6720242462335821, 'colsample_bytree': 0.4, 'subsample': 0.4, 'learning_rate': 0.04764079941718353, 'max_depth': 33, 'num_leaves': 652, 'min_child_samples': 21}. Best is trial 44 with value: 0.04961623066991213.\u001b[0m\n",
      "\u001b[32m[I 2021-09-20 09:52:42,379]\u001b[0m Trial 45 finished with value: 0.05481418376262375 and parameters: {'num_iterations': 165, 'reg_alpha': 0.0765840043765819, 'reg_lambda': 0.6591214412003015, 'colsample_bytree': 0.5, 'subsample': 0.4, 'learning_rate': 0.009748397784425211, 'max_depth': 33, 'num_leaves': 652, 'min_child_samples': 19}. Best is trial 44 with value: 0.04961623066991213.\u001b[0m\n",
      "\u001b[32m[I 2021-09-20 09:53:02,998]\u001b[0m Trial 46 finished with value: 0.05014730967408227 and parameters: {'num_iterations': 190, 'reg_alpha': 0.037036656751786565, 'reg_lambda': 2.0757861188823, 'colsample_bytree': 1.0, 'subsample': 0.4, 'learning_rate': 0.025826828454226784, 'max_depth': 37, 'num_leaves': 715, 'min_child_samples': 38}. Best is trial 44 with value: 0.04961623066991213.\u001b[0m\n",
      "\u001b[32m[I 2021-09-20 09:53:23,348]\u001b[0m Trial 47 finished with value: 0.04960532567336412 and parameters: {'num_iterations': 178, 'reg_alpha': 0.12463872424735879, 'reg_lambda': 1.6423219984082815, 'colsample_bytree': 0.9, 'subsample': 0.4, 'learning_rate': 0.05235346731589089, 'max_depth': 25, 'num_leaves': 677, 'min_child_samples': 13}. Best is trial 47 with value: 0.04960532567336412.\u001b[0m\n",
      "\u001b[32m[I 2021-09-20 09:53:41,899]\u001b[0m Trial 48 finished with value: 0.049556407541117696 and parameters: {'num_iterations': 175, 'reg_alpha': 0.14903791922619802, 'reg_lambda': 9.721895932201738, 'colsample_bytree': 0.9, 'subsample': 0.4, 'learning_rate': 0.05496917935307794, 'max_depth': 42, 'num_leaves': 622, 'min_child_samples': 13}. Best is trial 48 with value: 0.049556407541117696.\u001b[0m\n",
      "\u001b[32m[I 2021-09-20 09:53:59,512]\u001b[0m Trial 49 finished with value: 0.05174319222571201 and parameters: {'num_iterations': 177, 'reg_alpha': 0.16323763436904937, 'reg_lambda': 8.345915038964776, 'colsample_bytree': 0.9, 'subsample': 0.4, 'learning_rate': 0.019463228721215742, 'max_depth': 43, 'num_leaves': 699, 'min_child_samples': 33}. Best is trial 48 with value: 0.049556407541117696.\u001b[0m\n",
      "\u001b[32m[I 2021-09-20 09:53:59,528]\u001b[0m A new study created in memory with name: no-name-ca733a7c-cdcc-4fbf-a950-e08686a34254\u001b[0m\n",
      "\u001b[32m[I 2021-09-20 09:54:03,121]\u001b[0m Trial 0 finished with value: 0.032795995977046626 and parameters: {'num_iterations': 52, 'reg_alpha': 1.0268394312893143, 'reg_lambda': 0.3678672716164146, 'colsample_bytree': 0.3, 'subsample': 0.6, 'learning_rate': 0.031710592833308494, 'max_depth': 26, 'num_leaves': 23, 'min_child_samples': 209}. Best is trial 0 with value: 0.032795995977046626.\u001b[0m\n",
      "\u001b[32m[I 2021-09-20 09:54:08,890]\u001b[0m Trial 1 finished with value: 0.03101000586093568 and parameters: {'num_iterations': 138, 'reg_alpha': 0.23860861045453624, 'reg_lambda': 3.0057424007389746, 'colsample_bytree': 0.3, 'subsample': 0.4, 'learning_rate': 0.22617943307732288, 'max_depth': 52, 'num_leaves': 216, 'min_child_samples': 6}. Best is trial 1 with value: 0.03101000586093568.\u001b[0m\n",
      "\u001b[32m[I 2021-09-20 09:54:13,305]\u001b[0m Trial 2 finished with value: 0.032970862656993505 and parameters: {'num_iterations': 69, 'reg_alpha': 0.03097115053331773, 'reg_lambda': 0.03781269365924377, 'colsample_bytree': 0.7, 'subsample': 0.5, 'learning_rate': 0.0019317646732053512, 'max_depth': 81, 'num_leaves': 125, 'min_child_samples': 104}. Best is trial 1 with value: 0.03101000586093568.\u001b[0m\n",
      "\u001b[32m[I 2021-09-20 09:54:18,421]\u001b[0m Trial 3 finished with value: 0.0325303942060861 and parameters: {'num_iterations': 186, 'reg_alpha': 2.301400747971146, 'reg_lambda': 0.01686698729378893, 'colsample_bytree': 0.8, 'subsample': 0.8, 'learning_rate': 0.012861458110058987, 'max_depth': 49, 'num_leaves': 998, 'min_child_samples': 287}. Best is trial 1 with value: 0.03101000586093568.\u001b[0m\n",
      "\u001b[32m[I 2021-09-20 09:54:22,380]\u001b[0m Trial 4 finished with value: 0.033017807970326954 and parameters: {'num_iterations': 81, 'reg_alpha': 5.318921767745373, 'reg_lambda': 0.45968373954938535, 'colsample_bytree': 1.0, 'subsample': 1.0, 'learning_rate': 0.016638730049180223, 'max_depth': 35, 'num_leaves': 784, 'min_child_samples': 51}. Best is trial 1 with value: 0.03101000586093568.\u001b[0m\n",
      "\u001b[32m[I 2021-09-20 09:54:27,553]\u001b[0m Trial 5 finished with value: 0.031976394803213216 and parameters: {'num_iterations': 105, 'reg_alpha': 0.002536656427631215, 'reg_lambda': 0.015157171871787127, 'colsample_bytree': 0.7, 'subsample': 0.6, 'learning_rate': 0.04267881579701372, 'max_depth': 51, 'num_leaves': 632, 'min_child_samples': 286}. Best is trial 1 with value: 0.03101000586093568.\u001b[0m\n",
      "\u001b[32m[I 2021-09-20 09:54:33,003]\u001b[0m Trial 6 finished with value: 0.032548532110621926 and parameters: {'num_iterations': 17, 'reg_alpha': 0.003994799798944624, 'reg_lambda': 1.1527114666409517, 'colsample_bytree': 0.6, 'subsample': 0.6, 'learning_rate': 0.014474874730968063, 'max_depth': 92, 'num_leaves': 959, 'min_child_samples': 2}. Best is trial 1 with value: 0.03101000586093568.\u001b[0m\n",
      "\u001b[32m[I 2021-09-20 09:54:36,769]\u001b[0m Trial 7 finished with value: 0.033080789014124735 and parameters: {'num_iterations': 10, 'reg_alpha': 0.014694074604765127, 'reg_lambda': 0.020872524177322316, 'colsample_bytree': 0.8, 'subsample': 0.5, 'learning_rate': 0.0024113733685146486, 'max_depth': 94, 'num_leaves': 286, 'min_child_samples': 43}. Best is trial 1 with value: 0.03101000586093568.\u001b[0m\n",
      "\u001b[32m[I 2021-09-20 09:54:43,027]\u001b[0m Trial 8 finished with value: 0.03144108465173959 and parameters: {'num_iterations': 66, 'reg_alpha': 0.06784479401190217, 'reg_lambda': 0.7590374629759382, 'colsample_bytree': 1.0, 'subsample': 0.4, 'learning_rate': 0.2555426091233218, 'max_depth': 63, 'num_leaves': 766, 'min_child_samples': 112}. Best is trial 1 with value: 0.03101000586093568.\u001b[0m\n",
      "\u001b[32m[I 2021-09-20 09:54:46,823]\u001b[0m Trial 9 finished with value: 0.033096952502047285 and parameters: {'num_iterations': 113, 'reg_alpha': 4.723261066530043, 'reg_lambda': 0.20481991797295457, 'colsample_bytree': 0.6, 'subsample': 0.8, 'learning_rate': 0.001338315629942708, 'max_depth': 44, 'num_leaves': 131, 'min_child_samples': 211}. Best is trial 1 with value: 0.03101000586093568.\u001b[0m\n",
      "\u001b[32m[I 2021-09-20 09:54:52,604]\u001b[0m Trial 10 finished with value: 0.03122788889908832 and parameters: {'num_iterations': 178, 'reg_alpha': 0.46461207477708155, 'reg_lambda': 6.9310843639582105, 'colsample_bytree': 0.4, 'subsample': 0.4, 'learning_rate': 0.18272540365244652, 'max_depth': 68, 'num_leaves': 389, 'min_child_samples': 173}. Best is trial 1 with value: 0.03101000586093568.\u001b[0m\n",
      "\u001b[32m[I 2021-09-20 09:54:58,564]\u001b[0m Trial 11 finished with value: 0.031265126777352485 and parameters: {'num_iterations': 178, 'reg_alpha': 0.3249522270582907, 'reg_lambda': 8.623579642946744, 'colsample_bytree': 0.4, 'subsample': 0.4, 'learning_rate': 0.23965151299761, 'max_depth': 69, 'num_leaves': 341, 'min_child_samples': 177}. Best is trial 1 with value: 0.03101000586093568.\u001b[0m\n",
      "\u001b[32m[I 2021-09-20 09:55:04,662]\u001b[0m Trial 12 finished with value: 0.03126511411597453 and parameters: {'num_iterations': 136, 'reg_alpha': 0.3915552902520837, 'reg_lambda': 8.508363608516108, 'colsample_bytree': 0.5, 'subsample': 0.7, 'learning_rate': 0.09652754725448659, 'max_depth': 74, 'num_leaves': 427, 'min_child_samples': 134}. Best is trial 1 with value: 0.03101000586093568.\u001b[0m\n",
      "\u001b[32m[I 2021-09-20 09:55:10,430]\u001b[0m Trial 13 finished with value: 0.031254338524000926 and parameters: {'num_iterations': 158, 'reg_alpha': 0.2998678602969859, 'reg_lambda': 2.343886209564479, 'colsample_bytree': 0.4, 'subsample': 0.4, 'learning_rate': 0.11843589062547064, 'max_depth': 58, 'num_leaves': 531, 'min_child_samples': 176}. Best is trial 1 with value: 0.03101000586093568.\u001b[0m\n",
      "\u001b[32m[I 2021-09-20 09:55:16,063]\u001b[0m Trial 14 finished with value: 0.03147974519630183 and parameters: {'num_iterations': 200, 'reg_alpha': 0.1094924758809034, 'reg_lambda': 2.766265771488705, 'colsample_bytree': 0.3, 'subsample': 0.4, 'learning_rate': 0.10374515480785436, 'max_depth': 81, 'num_leaves': 253, 'min_child_samples': 236}. Best is trial 1 with value: 0.03101000586093568.\u001b[0m\n",
      "\u001b[32m[I 2021-09-20 09:55:23,596]\u001b[0m Trial 15 finished with value: 0.03254525147368822 and parameters: {'num_iterations': 148, 'reg_alpha': 0.9749442389871441, 'reg_lambda': 0.0017536890199981094, 'colsample_bytree': 0.9, 'subsample': 0.4, 'learning_rate': 0.005517184146201002, 'max_depth': 38, 'num_leaves': 495, 'min_child_samples': 79}. Best is trial 1 with value: 0.03101000586093568.\u001b[0m\n",
      "\u001b[32m[I 2021-09-20 09:55:28,535]\u001b[0m Trial 16 finished with value: 0.03173588899751273 and parameters: {'num_iterations': 125, 'reg_alpha': 0.1185492950367072, 'reg_lambda': 3.9816094465996237, 'colsample_bytree': 0.3, 'subsample': 0.7, 'learning_rate': 0.051805990371031944, 'max_depth': 20, 'num_leaves': 216, 'min_child_samples': 154}. Best is trial 1 with value: 0.03101000586093568.\u001b[0m\n",
      "\u001b[32m[I 2021-09-20 09:55:37,743]\u001b[0m Trial 17 finished with value: 0.03074199652032547 and parameters: {'num_iterations': 167, 'reg_alpha': 0.01114761328260208, 'reg_lambda': 0.07810289034270887, 'colsample_bytree': 0.4, 'subsample': 1.0, 'learning_rate': 0.19995316336633553, 'max_depth': 58, 'num_leaves': 399, 'min_child_samples': 3}. Best is trial 17 with value: 0.03074199652032547.\u001b[0m\n",
      "\u001b[32m[I 2021-09-20 09:55:41,695]\u001b[0m Trial 18 finished with value: 0.03231270279265132 and parameters: {'num_iterations': 166, 'reg_alpha': 0.001045090052854051, 'reg_lambda': 0.12345650497725778, 'colsample_bytree': 0.5, 'subsample': 1.0, 'learning_rate': 0.06613994261578565, 'max_depth': 57, 'num_leaves': 21, 'min_child_samples': 11}. Best is trial 17 with value: 0.03074199652032547.\u001b[0m\n",
      "\u001b[32m[I 2021-09-20 09:55:55,650]\u001b[0m Trial 19 finished with value: 0.031721874502514576 and parameters: {'num_iterations': 135, 'reg_alpha': 0.012021065873201415, 'reg_lambda': 0.004011299746258486, 'colsample_bytree': 0.9, 'subsample': 1.0, 'learning_rate': 0.006976565140712708, 'max_depth': 37, 'num_leaves': 644, 'min_child_samples': 41}. Best is trial 17 with value: 0.03074199652032547.\u001b[0m\n",
      "\u001b[32m[I 2021-09-20 09:56:00,309]\u001b[0m Trial 20 finished with value: 0.03189961633446549 and parameters: {'num_iterations': 91, 'reg_alpha': 0.02659544648043476, 'reg_lambda': 0.04197083804811592, 'colsample_bytree': 0.4, 'subsample': 1.0, 'learning_rate': 0.029761074247386877, 'max_depth': 52, 'num_leaves': 166, 'min_child_samples': 82}. Best is trial 17 with value: 0.03074199652032547.\u001b[0m\n",
      "\u001b[32m[I 2021-09-20 09:56:07,223]\u001b[0m Trial 21 finished with value: 0.031239877893412284 and parameters: {'num_iterations': 175, 'reg_alpha': 0.9754532923204028, 'reg_lambda': 1.2422699029806454, 'colsample_bytree': 0.4, 'subsample': 0.4, 'learning_rate': 0.165302142108788, 'max_depth': 67, 'num_leaves': 385, 'min_child_samples': 20}. Best is trial 17 with value: 0.03074199652032547.\u001b[0m\n",
      "\u001b[32m[I 2021-09-20 09:56:15,684]\u001b[0m Trial 22 finished with value: 0.031026096358355744 and parameters: {'num_iterations': 198, 'reg_alpha': 0.17072188180067477, 'reg_lambda': 0.11878637322666546, 'colsample_bytree': 0.4, 'subsample': 0.4, 'learning_rate': 0.2877699413004841, 'max_depth': 75, 'num_leaves': 423, 'min_child_samples': 68}. Best is trial 17 with value: 0.03074199652032547.\u001b[0m\n",
      "\u001b[32m[I 2021-09-20 09:56:23,707]\u001b[0m Trial 23 finished with value: 0.03162221764121408 and parameters: {'num_iterations': 151, 'reg_alpha': 0.0663960211500997, 'reg_lambda': 0.08611748818564614, 'colsample_bytree': 0.3, 'subsample': 1.0, 'learning_rate': 0.29297750820073043, 'max_depth': 82, 'num_leaves': 516, 'min_child_samples': 65}. Best is trial 17 with value: 0.03074199652032547.\u001b[0m\n",
      "\u001b[32m[I 2021-09-20 09:56:31,919]\u001b[0m Trial 24 finished with value: 0.03034456168668111 and parameters: {'num_iterations': 197, 'reg_alpha': 0.17456424045693486, 'reg_lambda': 0.006111428511038251, 'colsample_bytree': 0.4, 'subsample': 0.4, 'learning_rate': 0.14573393369587706, 'max_depth': 100, 'num_leaves': 304, 'min_child_samples': 27}. Best is trial 24 with value: 0.03034456168668111.\u001b[0m\n",
      "\u001b[32m[I 2021-09-20 09:56:39,260]\u001b[0m Trial 25 finished with value: 0.03042746447558822 and parameters: {'num_iterations': 163, 'reg_alpha': 0.008524599058410503, 'reg_lambda': 0.005317531938549142, 'colsample_bytree': 0.4, 'subsample': 0.8, 'learning_rate': 0.13976766171937274, 'max_depth': 100, 'num_leaves': 326, 'min_child_samples': 27}. Best is trial 24 with value: 0.03034456168668111.\u001b[0m\n",
      "\u001b[32m[I 2021-09-20 09:56:46,517]\u001b[0m Trial 26 finished with value: 0.030514692344899428 and parameters: {'num_iterations': 165, 'reg_alpha': 0.007774606190337428, 'reg_lambda': 0.005731378988819193, 'colsample_bytree': 0.4, 'subsample': 0.8, 'learning_rate': 0.06980328794112493, 'max_depth': 89, 'num_leaves': 312, 'min_child_samples': 30}. Best is trial 24 with value: 0.03034456168668111.\u001b[0m\n",
      "\u001b[32m[I 2021-09-20 09:56:54,398]\u001b[0m Trial 27 finished with value: 0.030312167296764763 and parameters: {'num_iterations': 186, 'reg_alpha': 0.004834258994737586, 'reg_lambda': 0.005915006131938104, 'colsample_bytree': 0.4, 'subsample': 0.8, 'learning_rate': 0.07635268711621515, 'max_depth': 100, 'num_leaves': 319, 'min_child_samples': 29}. Best is trial 27 with value: 0.030312167296764763.\u001b[0m\n",
      "\u001b[32m[I 2021-09-20 09:56:59,304]\u001b[0m Trial 28 finished with value: 0.031466944949385026 and parameters: {'num_iterations': 178, 'reg_alpha': 0.001198929118215876, 'reg_lambda': 0.004918752107478948, 'colsample_bytree': 0.4, 'subsample': 0.8, 'learning_rate': 0.13701622583394057, 'max_depth': 100, 'num_leaves': 94, 'min_child_samples': 92}. Best is trial 27 with value: 0.030312167296764763.\u001b[0m\n",
      "\u001b[32m[I 2021-09-20 09:57:07,027]\u001b[0m Trial 29 finished with value: 0.031448526164211316 and parameters: {'num_iterations': 192, 'reg_alpha': 0.003459051967277456, 'reg_lambda': 0.0010130446407895562, 'colsample_bytree': 0.4, 'subsample': 0.8, 'learning_rate': 0.027090447663054212, 'max_depth': 98, 'num_leaves': 605, 'min_child_samples': 126}. Best is trial 27 with value: 0.030312167296764763.\u001b[0m\n",
      "\u001b[32m[I 2021-09-20 09:57:11,453]\u001b[0m Trial 30 finished with value: 0.0318762724060387 and parameters: {'num_iterations': 187, 'reg_alpha': 0.02987018109149211, 'reg_lambda': 0.008601774352516049, 'colsample_bytree': 0.4, 'subsample': 0.8, 'learning_rate': 0.07029714966780454, 'max_depth': 85, 'num_leaves': 59, 'min_child_samples': 53}. Best is trial 27 with value: 0.030312167296764763.\u001b[0m\n",
      "\u001b[32m[I 2021-09-20 09:57:18,632]\u001b[0m Trial 31 finished with value: 0.030485832155723633 and parameters: {'num_iterations': 161, 'reg_alpha': 0.006079269225523495, 'reg_lambda': 0.0026512765425220687, 'colsample_bytree': 0.4, 'subsample': 0.8, 'learning_rate': 0.07997128274233785, 'max_depth': 90, 'num_leaves': 312, 'min_child_samples': 30}. Best is trial 27 with value: 0.030312167296764763.\u001b[0m\n",
      "\u001b[32m[I 2021-09-20 09:57:24,567]\u001b[0m Trial 32 finished with value: 0.03126886641542804 and parameters: {'num_iterations': 148, 'reg_alpha': 0.005591230700027979, 'reg_lambda': 0.0023652752053196636, 'colsample_bytree': 0.4, 'subsample': 0.8, 'learning_rate': 0.03976022237546281, 'max_depth': 95, 'num_leaves': 219, 'min_child_samples': 27}. Best is trial 27 with value: 0.030312167296764763.\u001b[0m\n",
      "\u001b[32m[I 2021-09-20 09:57:29,194]\u001b[0m Trial 33 finished with value: 0.03151782022442223 and parameters: {'num_iterations': 36, 'reg_alpha': 0.0014940544602766745, 'reg_lambda': 0.0021574562473201933, 'colsample_bytree': 0.7, 'subsample': 0.8, 'learning_rate': 0.08163171274484098, 'max_depth': 88, 'num_leaves': 314, 'min_child_samples': 25}. Best is trial 27 with value: 0.030312167296764763.\u001b[0m\n",
      "\u001b[32m[I 2021-09-20 09:57:35,493]\u001b[0m Trial 34 finished with value: 0.031678055665034205 and parameters: {'num_iterations': 122, 'reg_alpha': 0.0023831469281919886, 'reg_lambda': 0.010648907138323671, 'colsample_bytree': 0.8, 'subsample': 0.8, 'learning_rate': 0.02460213459814515, 'max_depth': 100, 'num_leaves': 188, 'min_child_samples': 65}. Best is trial 27 with value: 0.030312167296764763.\u001b[0m\n",
      "\u001b[32m[I 2021-09-20 09:57:50,289]\u001b[0m Trial 35 finished with value: 0.03023865184133719 and parameters: {'num_iterations': 187, 'reg_alpha': 0.0208822490869686, 'reg_lambda': 0.0010473726309021922, 'colsample_bytree': 1.0, 'subsample': 0.5, 'learning_rate': 0.12400122813353988, 'max_depth': 91, 'num_leaves': 474, 'min_child_samples': 43}. Best is trial 35 with value: 0.03023865184133719.\u001b[0m\n",
      "\u001b[32m[I 2021-09-20 09:58:02,733]\u001b[0m Trial 36 finished with value: 0.030817786280144997 and parameters: {'num_iterations': 189, 'reg_alpha': 0.018031342241547805, 'reg_lambda': 0.02540437038070606, 'colsample_bytree': 1.0, 'subsample': 0.5, 'learning_rate': 0.13614881703814558, 'max_depth': 96, 'num_leaves': 485, 'min_child_samples': 97}. Best is trial 35 with value: 0.03023865184133719.\u001b[0m\n",
      "\u001b[32m[I 2021-09-20 09:58:18,084]\u001b[0m Trial 37 finished with value: 0.03045510091896716 and parameters: {'num_iterations': 198, 'reg_alpha': 0.03313097777918332, 'reg_lambda': 0.0014967785611676478, 'colsample_bytree': 1.0, 'subsample': 0.5, 'learning_rate': 0.15527849029516624, 'max_depth': 85, 'num_leaves': 451, 'min_child_samples': 50}. Best is trial 35 with value: 0.03023865184133719.\u001b[0m\n",
      "\u001b[32m[I 2021-09-20 09:58:34,797]\u001b[0m Trial 38 finished with value: 0.029948126088578334 and parameters: {'num_iterations': 180, 'reg_alpha': 0.03837501800228481, 'reg_lambda': 0.007371796902786868, 'colsample_bytree': 1.0, 'subsample': 0.5, 'learning_rate': 0.05185419719781074, 'max_depth': 93, 'num_leaves': 558, 'min_child_samples': 18}. Best is trial 38 with value: 0.029948126088578334.\u001b[0m\n",
      "\u001b[32m[I 2021-09-20 09:58:52,759]\u001b[0m Trial 39 finished with value: 0.030065511676603585 and parameters: {'num_iterations': 184, 'reg_alpha': 0.06102252317934927, 'reg_lambda': 0.009220060242264568, 'colsample_bytree': 1.0, 'subsample': 0.5, 'learning_rate': 0.049585912254949245, 'max_depth': 76, 'num_leaves': 574, 'min_child_samples': 12}. Best is trial 38 with value: 0.029948126088578334.\u001b[0m\n",
      "\u001b[32m[I 2021-09-20 09:59:11,584]\u001b[0m Trial 40 finished with value: 0.029957406281163886 and parameters: {'num_iterations': 185, 'reg_alpha': 0.05835344297413383, 'reg_lambda': 0.01128324777717355, 'colsample_bytree': 1.0, 'subsample': 0.5, 'learning_rate': 0.0430364363844224, 'max_depth': 77, 'num_leaves': 584, 'min_child_samples': 8}. Best is trial 38 with value: 0.029948126088578334.\u001b[0m\n",
      "\u001b[32m[I 2021-09-20 09:59:35,597]\u001b[0m Trial 41 finished with value: 0.029861682746677314 and parameters: {'num_iterations': 183, 'reg_alpha': 0.043294082101640916, 'reg_lambda': 0.012755367083883787, 'colsample_bytree': 1.0, 'subsample': 0.5, 'learning_rate': 0.04775858188092784, 'max_depth': 77, 'num_leaves': 688, 'min_child_samples': 2}. Best is trial 41 with value: 0.029861682746677314.\u001b[0m\n",
      "\u001b[32m[I 2021-09-20 10:00:00,185]\u001b[0m Trial 42 finished with value: 0.030214461449186568 and parameters: {'num_iterations': 178, 'reg_alpha': 0.06702542226333712, 'reg_lambda': 0.013814755460687302, 'colsample_bytree': 1.0, 'subsample': 0.5, 'learning_rate': 0.021995574459061872, 'max_depth': 76, 'num_leaves': 726, 'min_child_samples': 3}. Best is trial 41 with value: 0.029861682746677314.\u001b[0m\n",
      "\u001b[32m[I 2021-09-20 10:00:22,794]\u001b[0m Trial 43 finished with value: 0.0302977674218318 and parameters: {'num_iterations': 173, 'reg_alpha': 0.05278702865062354, 'reg_lambda': 0.03609976414962616, 'colsample_bytree': 1.0, 'subsample': 0.5, 'learning_rate': 0.02101716147151626, 'max_depth': 75, 'num_leaves': 738, 'min_child_samples': 6}. Best is trial 41 with value: 0.029861682746677314.\u001b[0m\n",
      "\u001b[32m[I 2021-09-20 10:00:46,740]\u001b[0m Trial 44 finished with value: 0.03109334794789077 and parameters: {'num_iterations': 154, 'reg_alpha': 0.0537762326441495, 'reg_lambda': 0.01416047848161587, 'colsample_bytree': 1.0, 'subsample': 0.5, 'learning_rate': 0.01121037966193628, 'max_depth': 77, 'num_leaves': 844, 'min_child_samples': 4}. Best is trial 41 with value: 0.029861682746677314.\u001b[0m\n",
      "\u001b[32m[I 2021-09-20 10:01:05,770]\u001b[0m Trial 45 finished with value: 0.03011115969180145 and parameters: {'num_iterations': 180, 'reg_alpha': 0.04016841115913098, 'reg_lambda': 0.024153622029051233, 'colsample_bytree': 1.0, 'subsample': 0.5, 'learning_rate': 0.03999763682478392, 'max_depth': 63, 'num_leaves': 577, 'min_child_samples': 17}. Best is trial 41 with value: 0.029861682746677314.\u001b[0m\n",
      "\u001b[32m[I 2021-09-20 10:01:20,073]\u001b[0m Trial 46 finished with value: 0.03018114816124598 and parameters: {'num_iterations': 144, 'reg_alpha': 0.04263445521011561, 'reg_lambda': 0.03567328842360005, 'colsample_bytree': 1.0, 'subsample': 0.5, 'learning_rate': 0.044932136195427456, 'max_depth': 71, 'num_leaves': 563, 'min_child_samples': 15}. Best is trial 41 with value: 0.029861682746677314.\u001b[0m\n",
      "\u001b[32m[I 2021-09-20 10:01:27,492]\u001b[0m Trial 47 finished with value: 0.03186787209932712 and parameters: {'num_iterations': 172, 'reg_alpha': 0.09594144994302334, 'reg_lambda': 0.021655243747829837, 'colsample_bytree': 1.0, 'subsample': 0.5, 'learning_rate': 0.034856159642430856, 'max_depth': 63, 'num_leaves': 669, 'min_child_samples': 267}. Best is trial 41 with value: 0.029861682746677314.\u001b[0m\n",
      "\u001b[32m[I 2021-09-20 10:01:35,127]\u001b[0m Trial 48 finished with value: 0.031329864976273866 and parameters: {'num_iterations': 93, 'reg_alpha': 0.6133697732514479, 'reg_lambda': 0.009721851246676056, 'colsample_bytree': 1.0, 'subsample': 0.6, 'learning_rate': 0.05250500812930138, 'max_depth': 80, 'num_leaves': 588, 'min_child_samples': 51}. Best is trial 41 with value: 0.029861682746677314.\u001b[0m\n"
     ]
    }
   ],
   "source": [
    "params_1=[]\n",
    "for i in range(1,5):\n",
    "    def objective_wp1(trial,data=X1,target=vmf_1['IMFwp'+str(i)]):\n",
    "        train_x, test_x = create_dataset(data,0,5)\n",
    "        train_y,test_y=create_dataset(target,0,5)\n",
    "        return hyperparametrization(trial, train_x, test_x, train_y, test_y)\n",
    "    study = optuna.create_study(direction='minimize')\n",
    "    study.optimize(objective_wp1, n_trials=50)\n",
    "    #write_results('Data/Hyperparametrization/lgbm_vmd_50trials_cv.xlsx', 'wp1', study.trials_dataframe())\n",
    "    params_1.append(study.best_trial.params)\n",
    "    #best_trial"
   ]
  },
  {
   "cell_type": "code",
   "execution_count": null,
   "id": "9043340a-fa94-4c3c-aff4-a0124bfc6654",
   "metadata": {},
   "outputs": [],
   "source": [
    "#optuna.logging.set_verbosity(0)"
   ]
  },
  {
   "cell_type": "code",
   "execution_count": null,
   "id": "83be5c41-427b-49ab-bbbb-55cd2a8f9242",
   "metadata": {},
   "outputs": [],
   "source": [
    "optuna.logging.get_verbosity()"
   ]
  },
  {
   "cell_type": "code",
   "execution_count": null,
   "id": "62fa5359-b84c-432d-aef1-f78eb5d71749",
   "metadata": {},
   "outputs": [],
   "source": [
    "params_1"
   ]
  },
  {
   "cell_type": "code",
   "execution_count": null,
   "id": "7dfe1062-91d9-4442-a175-4bf6442ed93d",
   "metadata": {},
   "outputs": [],
   "source": [
    "#def objective_wp1(trial,data=X1,target=vmf_1['IMFwp1']):\n",
    "#    train_x, test_x = create_dataset(data,0)\n",
    "#    train_y,test_y=create_dataset(target,0)\n",
    "#    return hyperparametrization(trial, train_x, test_x, train_y, test_y)"
   ]
  },
  {
   "cell_type": "code",
   "execution_count": null,
   "id": "ab792f0b-e669-4e29-b434-8db786b194a2",
   "metadata": {
    "tags": []
   },
   "outputs": [],
   "source": [
    "#study = optuna.create_study(direction='minimize')\n",
    "#study.optimize(objective_wp1, n_trials=30)\n",
    "#write_results('Data/Hyperparametrization/lgbm_vmd_50trials_cv.xlsx', 'wp1', study.trials_dataframe())\n",
    "#best_trial = study.best_trial.params\n",
    "#best_trial"
   ]
  },
  {
   "cell_type": "code",
   "execution_count": null,
   "id": "155f4d19-4b83-46bb-9b9e-775357faeb38",
   "metadata": {},
   "outputs": [],
   "source": [
    "#30\n",
    "#param_1_1 = {\n",
    "#        'reg_alpha': 0.005623861124729257,\n",
    " #  'reg_lambda': 0.22406174588522088,\n",
    "  #  'colsample_bytree': 0.7,\n",
    " #'subsample': 0.4,\n",
    " #'learning_rate': 0.11907721244377018,\n",
    " #'max_depth': 31,\n",
    " #'num_leaves': 776,\n",
    " #'min_child_samples': 29}\n",
    "#\n",
    "#param_1_2 = {'reg_alpha': 0.003075982697697176,\n",
    " #'reg_lambda': 9.876348984550155,\n",
    " #'colsample_bytree': 0.3,\n",
    " #'subsample': 0.7,\n",
    " #'learning_rate': 0.15883690225856262,\n",
    " #'max_depth': 64,\n",
    " #'num_leaves': 657,\n",
    " #'min_child_samples': 20}\n",
    "#\n",
    "#param_1_3 = {'reg_alpha': 0.018182754684069484,\n",
    "# 'reg_lambda': 0.006831890665560452,\n",
    "# 'colsample_bytree': 0.5,\n",
    "# 'subsample': 0.5,\n",
    "# 'learning_rate': 0.11202987530753453,\n",
    "# 'max_depth': 53,\n",
    "# 'num_leaves': 848,\n",
    "# 'min_child_samples': 27}\n",
    "    \n",
    "#param_1_4 = {'reg_alpha': 0.0038530142853001356,\n",
    "# 'reg_lambda': 0.0021589196685704304,\n",
    "# 'colsample_bytree': 1.0,\n",
    "# 'subsample': 0.6,\n",
    "# 'learning_rate': 0.05089100428869571,\n",
    "# 'max_depth': 94,\n",
    "# 'num_leaves': 881,\n",
    "# 'min_child_samples': 29}\n",
    "\n",
    "#params_vmf=[param_1_1,param_1_2,param_1_3,param_1_4]"
   ]
  },
  {
   "cell_type": "code",
   "execution_count": null,
   "id": "ff52651e-8cdd-45bf-b810-41757048b7b9",
   "metadata": {},
   "outputs": [],
   "source": [
    "#y1_vmfs = []\n",
    "#for i in range(1,5):\n",
    "#    y1_vmfs.append(vmf_1['IMFwp'+str(i)])\n",
    "#y_vmfs"
   ]
  },
  {
   "cell_type": "code",
   "execution_count": null,
   "id": "db8ce085-5a12-4114-aa31-73d871ce5b3c",
   "metadata": {},
   "outputs": [],
   "source": [
    "lgbm_scaled_cross_validation_vmf(X1, vmf_1['IMFwp1'],vmf_1['IMFwp2'],vmf_1['IMFwp3'],vmf_1['IMFwp4'],y1, params_1)"
   ]
  },
  {
   "cell_type": "code",
   "execution_count": null,
   "id": "6e8b9581-1e59-40fc-ba46-cac68640c7ff",
   "metadata": {
    "tags": []
   },
   "outputs": [],
   "source": [
    "# lgbm_cross_validation(X1, y1, params_1)\n",
    "#lgbm_scaled_cross_validation(X1, y1, params_1)"
   ]
  },
  {
   "cell_type": "markdown",
   "id": "2d4d08ad-3af3-408b-8834-57c1349d328a",
   "metadata": {},
   "source": [
    "## WP2"
   ]
  },
  {
   "cell_type": "markdown",
   "id": "61678924-2941-418d-93bf-84336d13fc89",
   "metadata": {},
   "source": [
    "| |  | Mean | Std | Sum up|\n",
    "| --- | --- | --- | --- | |\n",
    "| No params | RMSE | 0.10935335541057582 | 0.0014425096116734836 | |\n",
    "| No params - StandardScaler | RMSE | 0.10938240918068962 | 0.002563571983412213 |  |\n",
    "| After tuning - 50trials| RMSE | 0.0725081520968898 | 0.0016974702626377217 | |\n",
    "| After tuning 100trials| RMSE | 0.0707064364904941 | 0.001396820290618349 | More stable, to keep |\n",
    "| After tuning W.S. 50trials - StandardScaler | RMSE | 0.07072007438762447 | 0.0010396359382112443 | With 100trials parameters |\n",
    "| After tuning W.S. 50trials - RobustScaler | RMSE | 0.07014346508497502 | 0.0013671602187583412 | |\n",
    "| 50 trials per vmf - RobustScaler | RMSE | 0.06362570142793085 |0.001287144743120583 | |\n",
    "| --- | --- | --- | --- |---|\n",
    "| No params | MAE | 0.07681923856705511 | 0.0008670825615244791 | |\n",
    "| No params - StandardScaler | MAE | 0.0768829843356125 | 0.0017568758903956435 |  |\n",
    "| After tuning - 50trials| MAE | 0.04512164110351975 |  0.0006579433030966575 | |\n",
    "| After tuning 100trials| MAE | 0.04457902842458915 | 0.0006807155447311589 | |\n",
    "| After tuning W.S. 50trials - StandardScaler | MAE | 0.04456161763710905 | 0.0005342365137369251 | With 100trials parameters |\n",
    "| After tuning W.S. 50trials - RobustScaler | MAE | 0.044471464183373825 | 0.0007098731360466324 | |\n",
    "| 50 trials per vmf - RobustScaler | MAE | 0.04180182904890137 |0.000707244027895384 | |"
   ]
  },
  {
   "cell_type": "code",
   "execution_count": null,
   "id": "e6b8fee4-9fba-4818-a7df-29cd5d3806ad",
   "metadata": {},
   "outputs": [],
   "source": [
    "wp2_X = train_wp2[[c for c in train_wp2 if c not in [\"wp\"]] + [\"wp\"]].drop(to_drop, axis = 1)\n",
    "X2 = wp2_X.drop('wp', axis=1)\n",
    "y2 = wp2_X['wp']"
   ]
  },
  {
   "cell_type": "code",
   "execution_count": null,
   "id": "e297d1bd-f11e-4f8b-9fe2-634e78ca9c85",
   "metadata": {
    "tags": []
   },
   "outputs": [],
   "source": [
    "# lgbm_cross_validation(X2, y2, None)\n",
    "#lgbm_scaled_cross_validation(X2, y2, None)"
   ]
  },
  {
   "cell_type": "code",
   "execution_count": null,
   "id": "08e46471-867c-4be0-acdf-1b67a94f005b",
   "metadata": {},
   "outputs": [],
   "source": [
    "vmf_2=vmd(y2,4)"
   ]
  },
  {
   "cell_type": "code",
   "execution_count": null,
   "id": "aa8f2ac7-7b51-4980-9b09-176fc3bdfded",
   "metadata": {},
   "outputs": [],
   "source": [
    "params_2=[]\n",
    "for i in range(1,5):\n",
    "    def objective_wp2(trial,data=X2,target=vmf_2['IMFwp'+str(i)]):\n",
    "        train_x, test_x = create_dataset(data,0)\n",
    "        train_y,test_y=create_dataset(target,0)\n",
    "        return hyperparametrization(trial, train_x, test_x, train_y, test_y)\n",
    "    study = optuna.create_study(direction='minimize')\n",
    "    study.optimize(objective_wp2, n_trials=30)\n",
    "    #write_results('Data/Hyperparametrization/lgbm_vmd_50trials_cv.xlsx', 'wp1', study.trials_dataframe())\n",
    "    params_2.append(study.best_trial.params)\n",
    "    #best_trial"
   ]
  },
  {
   "cell_type": "code",
   "execution_count": null,
   "id": "7cf6d1ae-6ce5-4072-81e7-e3260f03c085",
   "metadata": {},
   "outputs": [],
   "source": [
    "params_2"
   ]
  },
  {
   "cell_type": "code",
   "execution_count": null,
   "id": "bf5a9ed4-82f3-432e-b648-48ed4649db59",
   "metadata": {},
   "outputs": [],
   "source": [
    "lgbm_scaled_cross_validation_vmf(X2, vmf_2['IMFwp1'],vmf_2['IMFwp2'],vmf_2['IMFwp3'],vmf_2['IMFwp4'],y2, params_2)"
   ]
  },
  {
   "cell_type": "markdown",
   "id": "966468d2-d1a2-4c0a-a190-c37d85ef61f5",
   "metadata": {},
   "source": [
    "## WP3"
   ]
  },
  {
   "cell_type": "markdown",
   "id": "4c9c1b64-7897-4824-92b2-8f6ac0236b43",
   "metadata": {},
   "source": [
    "| |  | Mean | Std ||\n",
    "| --- | --- | --- | --- ||\n",
    "| No params | RMSE | 0.10392558077951244 | 0.0019038044796542812 ||\n",
    "| No params - StandardScaler | RMSE | 0.10354114984428979 | 0.0013629826554706927 ||\n",
    "| After tuning - 50trials| RMSE | 0.058253804820626545 | 0.0009893279354834155 | More stable, to keep |\n",
    "| After tuning - 100trials| RMSE | 0.058338944346627106 | 0.0017133930174837203 ||\n",
    "| After tuning W.S. - 50trials - StandardScaler | RMSE | 0.05839355310487706 | 0.0009599824558874801 ||\n",
    "| After tuning - 50trial - StandardScaler | RMSE | 0.05828701989178382 | 0.0013469437248627486 | with 50trials best|\n",
    "| After tuning - 50trial W.S. - RobustScaler | RMSE | 0.05907568414783913 | 0.0010120672015320588 | |\n",
    "| 50 trials per vmf - RobustScaler | RMSE | 0.055222505478173776 |0.001617631570145444 | |\n",
    "| --- | --- | --- | --- | --- |\n",
    "| No params | MAE | 0.07550802464973318 | 0.0012006073434917633 ||\n",
    "| No params - StandardScaler | MAE | 0.0753220326933334 | 0.0007353049410651828 | |\n",
    "| After tuning - 50trials| MAE | 0.03787310900962521 | 0.000442034368456366 ||\n",
    "| After tuning - 100trials| MAE | 0.03838030476025398 | 0.0007480100565996748 ||\n",
    "| After tuning W.S. - 50trials -StandardScaler | MAE | 0.03838277636708219 | 0.0006195357541130345 ||\n",
    "| After tuning - 50trials - StandardScaler | MAE | 0.03796602386426936 | 0.0006588818520419181 | with 50trials best|\n",
    "| After tuning - 50trial W.S. - RobustScaler | MAE | 0.03824961618901729 | 0.0007043585347168141 | |\n",
    "| 50 trials per vmf - RobustScaler | MAE | 0.03743940912757508 |0.0007763774066394942 | |\n"
   ]
  },
  {
   "cell_type": "code",
   "execution_count": null,
   "id": "1a19adfe-a591-4616-827c-70140477879b",
   "metadata": {},
   "outputs": [],
   "source": [
    "wp3_X = train_wp3[[c for c in train_wp3 if c not in [\"wp\"]] + [\"wp\"]].drop(to_drop, axis = 1)\n",
    "X3 = wp3_X.drop('wp', axis = 1)\n",
    "y3 = wp3_X['wp']\n"
   ]
  },
  {
   "cell_type": "code",
   "execution_count": null,
   "id": "bb7ec842-b244-4688-82a5-b7d876f33c80",
   "metadata": {},
   "outputs": [],
   "source": [
    "vmf_3=vmd(y3,4)"
   ]
  },
  {
   "cell_type": "code",
   "execution_count": null,
   "id": "4ed2224b-ae06-427d-977a-79175147d995",
   "metadata": {},
   "outputs": [],
   "source": [
    "params_3=[]\n",
    "for i in range(1,5):\n",
    "    def objective_wp3(trial,data=X3,target=vmf_3['IMFwp'+str(i)]):\n",
    "        train_x, test_x = create_dataset(data,0)\n",
    "        train_y,test_y=create_dataset(target,0)\n",
    "        return hyperparametrization(trial, train_x, test_x, train_y, test_y)\n",
    "    study = optuna.create_study(direction='minimize')\n",
    "    study.optimize(objective_wp3, n_trials=50)\n",
    "    #write_results('Data/Hyperparametrization/lgbm_vmd_50trials_cv.xlsx', 'wp1', study.trials_dataframe())\n",
    "    params_3.append(study.best_trial.params)\n",
    "    #best_trial"
   ]
  },
  {
   "cell_type": "code",
   "execution_count": null,
   "id": "a942248e-346f-4639-bbec-9f143715c426",
   "metadata": {},
   "outputs": [],
   "source": [
    "params_3"
   ]
  },
  {
   "cell_type": "code",
   "execution_count": null,
   "id": "5cbcd443-c32b-44a3-a6a6-c61930cb8efc",
   "metadata": {},
   "outputs": [],
   "source": [
    "lgbm_scaled_cross_validation_vmf(X3, vmf_3['IMFwp1'],vmf_3['IMFwp2'],vmf_3['IMFwp3'],vmf_3['IMFwp4'],y3, params_3)"
   ]
  },
  {
   "cell_type": "markdown",
   "id": "cdc76c8c-9cc7-441f-b25e-e1ecf293298e",
   "metadata": {},
   "source": [
    "## WP4"
   ]
  },
  {
   "cell_type": "markdown",
   "id": "895876ff-0734-4527-a0b9-68cf9b097dec",
   "metadata": {},
   "source": [
    "| |  | Mean | Std | |\n",
    "| --- | --- | --- | --- | --- |\n",
    "| No params | RMSE | 0.10486204816363351 | 0.0015105949978751166 ||\n",
    "| No params  - Std | RMSE | 0.10480849342496516 | 0.0010370863436755212 ||\n",
    "| After tuning - 50trials| RMSE | 0.06513233717204232 | 0.0015891617240032727 ||\n",
    "| After tuning 100trials| RMSE | 0.06357594848470964 | 0.0013676749030776929 ||\n",
    "| After tuning with W.S - 50trials - Std | RMSE | 0.06339401569270936 | 0.001228053306037005 ||\n",
    "| After tuning with W.S. - 50trials - RobustScaler | RMSE | 0.0632324115841705 | 0.0010081050240456021 ||\n",
    "| 50 trials per vmf - RobustScaler | RMSE |0.0593103048767063  |0.0011712884174825636 | |\n",
    "| --- | --- | --- | --- | --- |\n",
    "| No params | MAE | 0.07564776733421566 | 0.00104638869825841 ||\n",
    "| No params  - Std | MAE | 0.07570794104041156 | 0.0008419207475550308 ||\n",
    "| After tuning - 50trials| MAE | 0.04219236028055372 | 0.0008190579419060266 ||\n",
    "| After tuning 100trials| MAE |0.04172111697148837  | 0.0009349285385250968 ||\n",
    "| After tuning with W.S - 50trials  - Std | MAE | 0.04150668920859586 | 0.0005729825500890684 ||\n",
    "| After tuning with W.S. - 50trials - RobustScaler | MAE | 0.04170428506837879 | 0.0006101247158768171 ||\n",
    "| 50 trials per vmf - RobustScaler | MAE | 0.04115807160847805 |0.0006471350512019214 | |"
   ]
  },
  {
   "cell_type": "code",
   "execution_count": null,
   "id": "185fd52e-5fe9-4ab7-817d-03feda6a42ab",
   "metadata": {},
   "outputs": [],
   "source": [
    "wp4_X = train_wp4[[c for c in train_wp4 if c not in [\"wp\"]] + [\"wp\"]].drop(to_drop, axis = 1)\n",
    "X4 = wp4_X.drop('wp', axis = 1)\n",
    "y4 = wp4_X['wp']"
   ]
  },
  {
   "cell_type": "code",
   "execution_count": null,
   "id": "600d33ec-0f2b-4c52-9685-a9e019686f5e",
   "metadata": {},
   "outputs": [],
   "source": [
    "vmf_4 = vmd(y4,4)"
   ]
  },
  {
   "cell_type": "code",
   "execution_count": null,
   "id": "d39e7810-189b-4e76-8a45-974360b0ac2f",
   "metadata": {},
   "outputs": [],
   "source": [
    "params_4=[]\n",
    "for i in range(1,5):\n",
    "    def objective_wp4(trial,data=X4,target=vmf_4['IMFwp'+str(i)]):\n",
    "        train_x, test_x = create_dataset(data,0)\n",
    "        train_y,test_y=create_dataset(target,0)\n",
    "        return hyperparametrization(trial, train_x, test_x, train_y, test_y)\n",
    "    study = optuna.create_study(direction='minimize')\n",
    "    study.optimize(objective_wp4, n_trials=50)\n",
    "    #write_results('Data/Hyperparametrization/lgbm_vmd_50trials_cv.xlsx', 'wp1', study.trials_dataframe())\n",
    "    params_4.append(study.best_trial.params)\n",
    "    #best_trial"
   ]
  },
  {
   "cell_type": "code",
   "execution_count": null,
   "id": "808956f9-3702-4696-9f0a-fdd0905f8746",
   "metadata": {},
   "outputs": [],
   "source": [
    "params_4"
   ]
  },
  {
   "cell_type": "code",
   "execution_count": null,
   "id": "1ee00770-5a81-48e2-a95e-30ce54f1b811",
   "metadata": {},
   "outputs": [],
   "source": [
    "lgbm_scaled_cross_validation_vmf(X4, vmf_4['IMFwp1'],vmf_4['IMFwp2'],vmf_4['IMFwp3'],vmf_4['IMFwp4'],y4, params_4)"
   ]
  },
  {
   "cell_type": "markdown",
   "id": "640e4455-cfc5-493a-b3e6-95b608171368",
   "metadata": {},
   "source": [
    "## WP5"
   ]
  },
  {
   "cell_type": "markdown",
   "id": "57cd823c-ff5c-41ba-9e0e-8b8d75cf2c65",
   "metadata": {},
   "source": [
    "| |  | Mean | Std |\n",
    "| --- | --- | --- | --- |\n",
    "| No params | RMSE | 0.11722129743692011 | 0.0017732599261516583 |\n",
    "| No params - Std | RMSE | 0.11729790317307003 | 0.0014884067903823003 |\n",
    "| After tuning - 50trials| RMSE | 0.07721413638593042 | 0.0011020420293213135 |\n",
    "| After tuning - 100trials| RMSE | 0.07297648991888442 | 0.0014970317509404526 |\n",
    "| After tuning - 100trials - warm start | RMSE | 0.07362803793800192 | 0.0013223501622953715 |\n",
    "| After tuning 50trials - std - warm start | RMSE | 0.07379631452164911 | 0.0019249511778190373 |\n",
    "| After tuning 50trials W.S - RobustScaler | RMSE | 0.07295312559507504 | 0.0017094978756410563 |\n",
    "| 50 trials per vmf | RMSE | 0.06800612721907516 | 0.001364694216955839 |\n",
    "| --- | --- | --- | --- |\n",
    "| No params | MAE | 0.08497074568090211 | 0.0009101526501392155 |\n",
    "| No params - Std | MAE | 0.0849648687365363 | 0.0011901882563545429 |\n",
    "| After tuning - 50trials| MAE | 0.051677856581467195 | 0.0006374939894477714 |\n",
    "| After tuning - 100trials| MAE | 0.04765271414503236 | 0.0006257356756510128 |\n",
    "| After tuning - 100trials - warm trials | MAE | 0.04785179154681675 | 0.0005795839605605526 |\n",
    "| After tuning 50trials - std - warm start | MAE | 0.0480147138609328 | 0.0008230908433814974 |\n",
    "| After tuning 50trials W.S - RobustScaler | MAE | 0.04783683731205745 | 0.0007485320718195094 |\n",
    "| 50 trials per vmf | MAE | 0.04587332776201404 | 0.0008842958670279714 |"
   ]
  },
  {
   "cell_type": "code",
   "execution_count": null,
   "id": "44f38883-24ef-46f1-bc0b-1070f4e36d2f",
   "metadata": {},
   "outputs": [],
   "source": [
    "wp5_X = train_wp5[[c for c in train_wp5 if c not in [\"wp\"]] + [\"wp\"]].drop(to_drop, axis = 1)\n",
    "X5 = wp5_X.drop('wp', axis = 1)\n",
    "y5 = wp5_X['wp']"
   ]
  },
  {
   "cell_type": "code",
   "execution_count": null,
   "id": "266a426e-78b3-4ebe-b07b-c721d4a1a580",
   "metadata": {},
   "outputs": [],
   "source": [
    "vmf_5=vmd(y5,4)"
   ]
  },
  {
   "cell_type": "code",
   "execution_count": null,
   "id": "069d009e-4fe3-4dd6-8e01-7ee51b8481d0",
   "metadata": {},
   "outputs": [],
   "source": [
    "params_5=[]\n",
    "for i in range(1,5):\n",
    "    def objective_wp5(trial,data=X5,target=vmf_5['IMFwp'+str(i)]):\n",
    "        train_x, test_x = create_dataset(data,0)\n",
    "        train_y,test_y=create_dataset(target,0)\n",
    "        return hyperparametrization(trial, train_x, test_x, train_y, test_y)\n",
    "    study = optuna.create_study(direction='minimize')\n",
    "    study.optimize(objective_wp5, n_trials=50)\n",
    "    #write_results('Data/Hyperparametrization/lgbm_vmd_50trials_cv.xlsx', 'wp1', study.trials_dataframe())\n",
    "    params_5.append(study.best_trial.params)\n",
    "    #best_trial"
   ]
  },
  {
   "cell_type": "code",
   "execution_count": null,
   "id": "5667fa7b-c9ed-4430-8882-f519f9ef0076",
   "metadata": {},
   "outputs": [],
   "source": [
    "params_5"
   ]
  },
  {
   "cell_type": "code",
   "execution_count": null,
   "id": "eca43925-4129-49fe-a353-3936f5488039",
   "metadata": {},
   "outputs": [],
   "source": [
    "lgbm_scaled_cross_validation_vmf(X5, vmf_5['IMFwp1'],vmf_5['IMFwp2'],vmf_5['IMFwp3'],vmf_5['IMFwp4'],y5, params_5)"
   ]
  },
  {
   "cell_type": "markdown",
   "id": "ccd547b2-24e6-4023-8959-d7955620108f",
   "metadata": {},
   "source": [
    "## WP6"
   ]
  },
  {
   "cell_type": "markdown",
   "id": "284dc175-a45f-4e3f-b577-2833794fe5ae",
   "metadata": {},
   "source": [
    "| |  | Mean | Std |\n",
    "| --- | --- | --- | --- |\n",
    "| No params | RMSE | 0.0940394026188472 | 0.0010749562915831372 |\n",
    "| No params - std | RMSE | 0.09409110695713666 | 0.0013476052174559326 |\n",
    "| After tuning - 50trials| RMSE | 0.05404362835213171 | 0.0008595325139047733 |\n",
    "| After tuning 100trials| RMSE | 0.054861488499908594 | 0.0007335378238383901 |\n",
    "| After tuning 50trials std - W.S. | RMSE |  0.05446642457662869 | 0.0009850877593637966 |\n",
    "| After tuning with W.S. - 50trials - RobustScaler | RMSE | 0.053430744425113176 | 0.0010865698281516414 ||\n",
    "| 50 trials per vmf | RMSE | 0.05055279132726877 | 0.0006313072455945034 |\n",
    "| --- | --- | --- | --- |\n",
    "| No params | MAE | 0.070455643271004 | 0.0006641538274191148 |\n",
    "| After tuning - 50trials| MAE | 0.03657758274248596 | 0.0005325521314198646 |\n",
    "| After tuning 100trials| MAE | 0.03783933495157941 | 0.00045956939815828987 |\n",
    "| After tuning 50trials std - warm start| MAE | 0.0367847898055025 | 0.00039001216012464674 |\n",
    "| After tuning with W.S. - 50trials - RobustScaler | RMSE | 0.03652663713189234 | 0.0006251342721346248 ||\n",
    "| 50 trials per vmf | MAE | 0.0357185614133554 | 0.00028295806558658535 |"
   ]
  },
  {
   "cell_type": "code",
   "execution_count": null,
   "id": "da2f9ef4-ad90-4d75-9137-735cd41284fe",
   "metadata": {
    "tags": []
   },
   "outputs": [],
   "source": [
    "wp6_X = train_wp6[[c for c in train_wp6 if c not in [\"wp\"]] + [\"wp\"]].drop(to_drop, axis = 1)\n",
    "X6 = wp6_X.drop('wp', axis = 1)\n",
    "y6 = wp6_X['wp']\n"
   ]
  },
  {
   "cell_type": "code",
   "execution_count": null,
   "id": "8fe5a92c-2e3c-4254-b6d0-6c568268e624",
   "metadata": {},
   "outputs": [],
   "source": [
    "vmf_6=vmd(y6,4)"
   ]
  },
  {
   "cell_type": "code",
   "execution_count": null,
   "id": "26cd0d6b-69b8-4b7f-983c-6fa6860035f0",
   "metadata": {},
   "outputs": [],
   "source": [
    "params_6=[]\n",
    "for i in range(1,5):\n",
    "    def objective_wp6(trial,data=X6,target=vmf_6['IMFwp'+str(i)]):\n",
    "        train_x, test_x = create_dataset(data,0)\n",
    "        train_y,test_y=create_dataset(target,0)\n",
    "        return hyperparametrization(trial, train_x, test_x, train_y, test_y)\n",
    "    study = optuna.create_study(direction='minimize')\n",
    "    study.optimize(objective_wp6, n_trials=50)\n",
    "    #write_results('Data/Hyperparametrization/lgbm_vmd_50trials_cv.xlsx', 'wp1', study.trials_dataframe())\n",
    "    params_6.append(study.best_trial.params)\n",
    "    #best_trial"
   ]
  },
  {
   "cell_type": "code",
   "execution_count": null,
   "id": "4f19df79-e043-4266-9f00-57583480b7b9",
   "metadata": {},
   "outputs": [],
   "source": [
    "params_6"
   ]
  },
  {
   "cell_type": "code",
   "execution_count": null,
   "id": "a4078324-023c-40f0-94e8-320d85a49117",
   "metadata": {},
   "outputs": [],
   "source": [
    "lgbm_scaled_cross_validation_vmf(X6, vmf_6['IMFwp1'],vmf_6['IMFwp2'],vmf_6['IMFwp3'],vmf_6['IMFwp4'],y6, params_6)"
   ]
  },
  {
   "cell_type": "markdown",
   "id": "599f0c09-97e8-4e3b-a117-f707ed6235e2",
   "metadata": {},
   "source": [
    "# Predictions"
   ]
  },
  {
   "cell_type": "markdown",
   "id": "56a64913-6e53-4cb4-9cb5-2d7a5f33c2d2",
   "metadata": {},
   "source": [
    "## Functions"
   ]
  },
  {
   "cell_type": "code",
   "execution_count": null,
   "id": "2e673e92-7f3f-4ffd-a822-c574b030dac4",
   "metadata": {},
   "outputs": [],
   "source": [
    "to_drop_test = ['date','wd','forecast_time', 'forecast', \"forecast_dist\", 'wp']+feature_corr\n",
    "def make_prediction_dataset(test, to_drop=to_drop_test):\n",
    "    test_to_predict = test.dropna(subset=['ws','u','v'], how = 'any') # keeps only lines with u,v,ws,wd\n",
    "    test_to_predict = test_to_predict[test_to_predict['wp'].isna()] # keeps only lines with no wp\n",
    "    test_to_predict = test_to_predict.sort_values(by=['date', 'forecast_time'], ascending = [True, False]).drop_duplicates(subset='date')\n",
    "    test_to_predict = test_to_predict.drop(to_drop, axis = 1)\n",
    "    return test_to_predict"
   ]
  },
  {
   "cell_type": "code",
   "execution_count": null,
   "id": "911631de-e039-4791-885d-73d714bc3115",
   "metadata": {},
   "outputs": [],
   "source": [
    "def make_submission_file(lst_X_trains, lst_y_trains,lst_y_vmfs,lst_tests, lst_models, dates):\n",
    "    i = 1\n",
    "    lst_prediction = []\n",
    "    lst_models_trained = []\n",
    "    for X, y, test, model in zip(lst_X_trains, lst_y_vmfs, lst_tests, lst_models):\n",
    "        print(f'--------------Model {i}--------------')\n",
    "        model[0].fit(X, y[0])\n",
    "        model[1].fit(X, y[1])\n",
    "        model[2].fit(X, y[2])\n",
    "        model[3].fit(X, y[3])\n",
    "        print(f'True:\\n\\tMin:{min(lst_y_trains[i-1])}\\n\\tMax:{max(lst_y_trains[i-1])}\\n\\tMean:{lst_y_trains[i-1].mean()}')\n",
    "        predictions = (model[0].predict(test)+\n",
    "                       model[1].predict(test)+\n",
    "                       model[2].predict(test)+\n",
    "                       model[3].predict(test))\n",
    "        print(f'Prediction:\\n\\tMin:{min(predictions)}\\n\\tMax:{max(predictions)}\\n\\tMean:{np.mean(predictions)}')\n",
    "#         predictions = [min(y) if i < 0 else i for i in predictions]\n",
    "#         predictions = [max(y) if i > max(y) else i for i in predictions]\n",
    "        predictions = [0 if i < 0 else i for i in predictions]\n",
    "        predictions = [1 if i > 1 else i for i in predictions]\n",
    "        print(f'Prediction corrected:\\n\\tMin:{min(predictions)}\\n\\tMax:{max(predictions)}\\n\\tMean:{np.mean(predictions)}')\n",
    "        lst_prediction.append(predictions)\n",
    "        lst_models_trained.append(model)\n",
    "        i+=1\n",
    "    \n",
    "    df_predictions = pd.DataFrame({\n",
    "        'date': test_dates,\n",
    "        'wp1': lst_prediction[0],\n",
    "        'wp2': lst_prediction[1],\n",
    "        'wp3': lst_prediction[2],\n",
    "        'wp4': lst_prediction[3],\n",
    "        'wp5': lst_prediction[4],\n",
    "        'wp6': lst_prediction[5],        \n",
    "    })\n",
    "    return df_predictions, lst_models_trained"
   ]
  },
  {
   "cell_type": "code",
   "execution_count": null,
   "id": "00891316-887e-4bfe-9380-e697d854aa74",
   "metadata": {},
   "outputs": [],
   "source": [
    "def make_submission_file_nmodels(lst_X_trains, lst_y_trains,lst_y_vmfs,lst_tests, lst_models, dates):\n",
    "    i = 1\n",
    "    lst_prediction = []\n",
    "    lst_models_trained = []\n",
    "    for X, y, test, model in zip(lst_X_trains, lst_y_vmfs, lst_tests, lst_models):\n",
    "        print(f'--------------Model {i}--------------')\n",
    "        for n in range(len(model)):\n",
    "            model[n].fit(X,y[n])\n",
    "        \n",
    "        print(f'True:\\n\\tMin:{min(lst_y_trains[i-1])}\\n\\tMax:{max(lst_y_trains[i-1])}\\n\\tMean:{lst_y_trains[i-1].mean()}')\n",
    "        \n",
    "        for m in range(len(model)):\n",
    "            if m==0:\n",
    "                predictions = model[m].predict(test)\n",
    "            else:\n",
    "                predictions += model[m].predict(test)\n",
    "        print(f'Prediction:\\n\\tMin:{min(predictions)}\\n\\tMax:{max(predictions)}\\n\\tMean:{np.mean(predictions)}')\n",
    "#         predictions = [min(y) if i < 0 else i for i in predictions]\n",
    "#         predictions = [max(y) if i > max(y) else i for i in predictions]\n",
    "        predictions = [0 if i < 0 else i for i in predictions]\n",
    "        predictions = [1 if i > 1 else i for i in predictions]\n",
    "        print(f'Prediction corrected:\\n\\tMin:{min(predictions)}\\n\\tMax:{max(predictions)}\\n\\tMean:{np.mean(predictions)}')\n",
    "        lst_prediction.append(predictions)\n",
    "        lst_models_trained.append(model)\n",
    "        i+=1\n",
    "    \n",
    "    df_predictions = pd.DataFrame({\n",
    "        'date': test_dates,\n",
    "        'wp1': lst_prediction[0],\n",
    "        'wp2': lst_prediction[1],\n",
    "        'wp3': lst_prediction[2],\n",
    "        'wp4': lst_prediction[3],\n",
    "        'wp5': lst_prediction[4],\n",
    "        'wp6': lst_prediction[5],        \n",
    "    })\n",
    "    return df_predictions, lst_models_trained"
   ]
  },
  {
   "cell_type": "markdown",
   "id": "c8f21883-d940-4252-a2e8-0bf49e780a3d",
   "metadata": {},
   "source": [
    "## Submission "
   ]
  },
  {
   "cell_type": "code",
   "execution_count": null,
   "id": "bb92fbf4-59bf-438f-8efd-aa528d9d7feb",
   "metadata": {},
   "outputs": [],
   "source": [
    "model_1=[]\n",
    "\n",
    "for i in range(4):\n",
    "    model=Pipeline([('scaler', MaxAbsScaler()),('ridge', LGBMRegressor(**params_1[i]))])\n",
    "    model_1+=[model]\n",
    "    "
   ]
  },
  {
   "cell_type": "code",
   "execution_count": null,
   "id": "b3763cee-c1f6-468d-8921-b05d55655e64",
   "metadata": {},
   "outputs": [],
   "source": [
    "model_2=[]\n",
    "\n",
    "for i in range(4):\n",
    "    model=Pipeline([('scaler', MaxAbsScaler()),('ridge', LGBMRegressor(**params_2[i]))])\n",
    "    model_2+=[model]\n",
    "    "
   ]
  },
  {
   "cell_type": "code",
   "execution_count": null,
   "id": "c584e278-f0bd-447f-b094-824b74eab816",
   "metadata": {},
   "outputs": [],
   "source": [
    "model_3=[]\n",
    "\n",
    "for i in range(4):\n",
    "    model=Pipeline([('scaler', MaxAbsScaler()),('ridge', LGBMRegressor(**params_3[i]))])\n",
    "    model_3+=[model]\n",
    "    "
   ]
  },
  {
   "cell_type": "code",
   "execution_count": null,
   "id": "f023656f-d114-4ce4-a5c8-91033fc9243a",
   "metadata": {},
   "outputs": [],
   "source": [
    "model_4=[]\n",
    "\n",
    "for i in range(4):\n",
    "    model=Pipeline([('scaler', MaxAbsScaler()),('ridge', LGBMRegressor(**params_4[i]))])\n",
    "    model_4+=[model]\n",
    "    "
   ]
  },
  {
   "cell_type": "code",
   "execution_count": null,
   "id": "22135e28-b4e7-4697-bbea-f12036f3354c",
   "metadata": {},
   "outputs": [],
   "source": [
    "model_5=[]\n",
    "\n",
    "for i in range(4):\n",
    "    model=Pipeline([('scaler', MaxAbsScaler()),('ridge', LGBMRegressor(**params_5[i]))])\n",
    "    model_5+=[model]\n",
    "    "
   ]
  },
  {
   "cell_type": "code",
   "execution_count": null,
   "id": "7d38cfcc-0155-4a78-b8fc-ee782f2c87f3",
   "metadata": {},
   "outputs": [],
   "source": [
    "model_6=[]\n",
    "\n",
    "for i in range(4):\n",
    "    model=Pipeline([('scaler', MaxAbsScaler()),('ridge', LGBMRegressor(**params_6[i]))])\n",
    "    model_6+=[model]\n",
    "    "
   ]
  },
  {
   "cell_type": "code",
   "execution_count": null,
   "id": "937cf911-1ece-4694-9eac-d32b4f0f6aa2",
   "metadata": {},
   "outputs": [],
   "source": [
    "y_vmf1=[]\n",
    "y_vmf2=[]\n",
    "y_vmf3=[]\n",
    "y_vmf4=[]\n",
    "y_vmf5=[]\n",
    "y_vmf6=[]\n",
    "for i in range(1,k+1):\n",
    "    y_vmf1.append(vmf_1['IMFwp'+str(i)])\n",
    "    y_vmf2.append(vmf_2['IMFwp'+str(i)])\n",
    "    y_vmf3.append(vmf_3['IMFwp'+str(i)])\n",
    "    y_vmf4.append(vmf_4['IMFwp'+str(i)])\n",
    "    y_vmf5.append(vmf_5['IMFwp'+str(i)])\n",
    "    y_vmf6.append(vmf_6['IMFwp'+str(i)])"
   ]
  },
  {
   "cell_type": "code",
   "execution_count": null,
   "id": "8921365d-a1b4-4d3f-a6fa-693733ac2f3e",
   "metadata": {},
   "outputs": [],
   "source": [
    "# model_1 = LGBMRegressor(**params_1)\n",
    "# model_2 = LGBMRegressor(**params_2)\n",
    "# model_3 = LGBMRegressor(**params_3)\n",
    "# model_4 = LGBMRegressor(**params_4)\n",
    "# model_5 = LGBMRegressor(**params_5)\n",
    "# model_6 = LGBMRegressor(**params_6)\n",
    "\n",
    "lst_models = [model_1, model_2, model_3, model_4, model_5, model_6]\n",
    "#lst_params_none=[ , , , ]\n",
    "#lst_models=[lst_params_none,lst_params_none,lst_params_none,lst_params_none,lst_params_none,lst_params_none]\n",
    "lst_X_trains = [X1, X2, X3, X4, X5, X6]\n",
    "lst_y_trains = [y1, y2, y3, y4, y5, y6]\n",
    "lst_y_vmf=[y_vmf1, y_vmf2, y_vmf3, y_vmf4, y_vmf5, y_vmf6]"
   ]
  },
  {
   "cell_type": "code",
   "execution_count": null,
   "id": "ca47f1f3-34a9-4a23-8312-2a9402f563ff",
   "metadata": {},
   "outputs": [],
   "source": [
    "lst_tests = []\n",
    "for test in [test_wp1, test_wp2, test_wp3, test_wp4, test_wp5, test_wp6]:\n",
    "    test = make_prediction_dataset(test)\n",
    "    lst_tests.append(test)"
   ]
  },
  {
   "cell_type": "code",
   "execution_count": null,
   "id": "df54ea09-8916-4fdd-a8be-0516f0ed5395",
   "metadata": {
    "tags": []
   },
   "outputs": [],
   "source": [
    "#df_predictions, lst_models_trained = make_submission_file(lst_X_trains, lst_y_trains, lst_y_vmf,lst_tests, lst_models, test_dates)"
   ]
  },
  {
   "cell_type": "code",
   "execution_count": null,
   "id": "89043140-6139-4c1f-b251-c1ffb81aaa8f",
   "metadata": {},
   "outputs": [],
   "source": [
    "df_predictions, lst_models_trained = make_submission_file_nmodels(lst_X_trains, lst_y_trains, lst_y_vmf,lst_tests, lst_models, test_dates)"
   ]
  },
  {
   "cell_type": "markdown",
   "id": "7a9f9df6-0310-4202-8e27-64a9fc7ac69a",
   "metadata": {},
   "source": [
    "## Saving models"
   ]
  },
  {
   "cell_type": "code",
   "execution_count": null,
   "id": "a0d37c4a-98cf-43a3-8667-eaac2fc226f4",
   "metadata": {},
   "outputs": [],
   "source": [
    "nb_sub = 41\n",
    "model = \"robustscaler-lgbm-vmf-cv\"\n",
    "prepro = 'RobustScaler'\n",
    "postpro = \"Prediction limited by 0-1\""
   ]
  },
  {
   "cell_type": "code",
   "execution_count": null,
   "id": "1fa2c859-6e63-40e3-adc4-045fe68c06de",
   "metadata": {},
   "outputs": [],
   "source": [
    "# df_predictions.to_csv('Predictions/submission_nb_10_full_maxabs-lgbm-featselect.csv', index=False, sep=';')\n",
    "df_predictions.to_csv(f'Predictions/submission_nb_{nb_sub}_{model}.csv', index=False, sep=';')"
   ]
  },
  {
   "cell_type": "code",
   "execution_count": null,
   "id": "6275b9b6-2e34-415a-a162-ffba04c8bbae",
   "metadata": {},
   "outputs": [],
   "source": [
    "df_predictions.head()"
   ]
  },
  {
   "cell_type": "code",
   "execution_count": null,
   "id": "faa99dc6-907a-4097-b5df-8f0810638f3c",
   "metadata": {},
   "outputs": [],
   "source": []
  }
 ],
 "metadata": {
  "kernelspec": {
   "display_name": "Python 3 (ipykernel)",
   "language": "python",
   "name": "python3"
  },
  "language_info": {
   "codemirror_mode": {
    "name": "ipython",
    "version": 3
   },
   "file_extension": ".py",
   "mimetype": "text/x-python",
   "name": "python",
   "nbconvert_exporter": "python",
   "pygments_lexer": "ipython3",
   "version": "3.9.7"
  }
 },
 "nbformat": 4,
 "nbformat_minor": 5
}
