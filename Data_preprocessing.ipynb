{
 "cells": [
  {
   "cell_type": "markdown",
   "id": "cfa53207-1f71-42b5-bf8a-df75fb99db6a",
   "metadata": {},
   "source": [
    "# 36hrs before the real start date of the prediction\n",
    "before_start_36h = '2010-12-30 13:00:00'\n",
    "start_date = '2011-01-01 01:00:00'\n",
    "start_forecastdate = '2011-01-01 00:00:00'\n",
    "without_wp_date = '2010-12-30 12:00:00'\n",
    "end_date = '2012-06-25 00:00:00'# Data preprocessing"
   ]
  },
  {
   "cell_type": "markdown",
   "id": "a59eb760-de60-4c54-a088-1cb1e589da86",
   "metadata": {},
   "source": [
    "Ici nous allons faire toutes nos modifications de la donnée d'entrainement. Ensuite on enregistre le tout et on utilise ça dans le notebook des modèles."
   ]
  },
  {
   "cell_type": "code",
   "execution_count": 1,
   "id": "1d6f1192-6d0e-4435-a8be-82e5a7150f81",
   "metadata": {},
   "outputs": [],
   "source": [
    "import pandas as pd\n",
    "import seaborn as sns\n",
    "import openpyxl\n",
    "from datetime import datetime, timedelta\n",
    "import matplotlib.pyplot as plt\n",
    "import numpy as np\n",
    "import os\n",
    "\n",
    "pd.options.mode.chained_assignment = None  # default='warn'\n",
    "np.random.seed(42)"
   ]
  },
  {
   "cell_type": "code",
   "execution_count": 2,
   "id": "accae68a-160c-482b-bb00-0194e49625b2",
   "metadata": {},
   "outputs": [],
   "source": [
    "from Functions.preprocessing import *\n",
    "from Functions.helper_functions import * "
   ]
  },
  {
   "cell_type": "code",
   "execution_count": 3,
   "id": "d7a6373b-981b-4044-8e14-0095a3082bcc",
   "metadata": {},
   "outputs": [],
   "source": [
    "training_data = pd.read_csv(\"Data/Initial/train.csv\")\n",
    "testing_data = pd.read_csv(\"Data/Initial/test.csv\")\n",
    "\n",
    "wp_1_forecast = pd.read_csv(\"Data/Initial/wp1.csv\")\n",
    "wp_2_forecast = pd.read_csv(\"Data/Initial/wp2.csv\")\n",
    "wp_3_forecast = pd.read_csv(\"Data/Initial/wp3.csv\")\n",
    "wp_4_forecast = pd.read_csv(\"Data/Initial/wp4.csv\")\n",
    "wp_5_forecast = pd.read_csv(\"Data/Initial/wp5.csv\")\n",
    "wp_6_forecast = pd.read_csv(\"Data/Initial/wp6.csv\")"
   ]
  },
  {
   "cell_type": "code",
   "execution_count": 4,
   "id": "50cec845-9b83-4972-a167-d08881da4f38",
   "metadata": {},
   "outputs": [],
   "source": [
    "# 36hrs before the real start date of the prediction\n",
    "before_start_36h = '2010-12-30 13:00:00'\n",
    "start_date = '2011-01-01 01:00:00'\n",
    "start_forecastdate = '2011-01-01 00:00:00'\n",
    "without_wp_date = '2010-12-30 12:00:00'\n",
    "end_date = '2012-06-25 00:00:00'"
   ]
  },
  {
   "cell_type": "code",
   "execution_count": 5,
   "id": "dc9f36b8-124b-4159-b57f-5b54745e340a",
   "metadata": {},
   "outputs": [],
   "source": [
    "training_data['date'] = training_data.date.apply(lambda x: integer2date(x))\n",
    "testing_data['date'] = testing_data.date.apply(lambda x: integer2date(x))"
   ]
  },
  {
   "cell_type": "code",
   "execution_count": 6,
   "id": "97a29f6c-3d89-4fb4-813e-ab7a6718ff84",
   "metadata": {},
   "outputs": [],
   "source": [
    "wp_preproc = FeaturesPreprocessing(training_data_1, without_wp_date, before_start_36h)\n",
    "train, test = wp_preproc.transform(wp_1_forecast, 'wp1')\n",
    "train.to_csv('Data/Preprocessing/WP1_train_preprocessed.csv', sep=',', index=False)\n",
    "test.to_csv('Data/Preprocessing/WP1_test_preprocessed.csv', sep=',', index=False)"
   ]
  },
  {
   "cell_type": "code",
   "execution_count": 7,
   "id": "23c1d7ee-b096-48f3-8345-21541739d5ec",
   "metadata": {},
   "outputs": [
    {
     "name": "stdout",
     "output_type": "stream",
     "text": [
      "---------------Attribute addition-----------\n",
      "\n",
      "---------------Rolling Window---------------\n",
      "\n",
      "------------Train/Test Separation-----------\n",
      "\n"
     ]
    }
   ],
   "source": [
    "wp_preproc = FeaturesPreprocessing(training_data, without_wp_date, before_start_36h)\n",
    "train, test = wp_preproc.transform(wp_2_forecast, 'wp2')\n",
    "train.to_csv('Data/Preprocessing/WP2_train_preprocessed.csv', sep=',', index=False)\n",
    "test.to_csv('Data/Preprocessing/WP2_test_preprocessed.csv', sep=',', index=False)"
   ]
  },
  {
   "cell_type": "code",
   "execution_count": 8,
   "id": "a9874287-1ae2-47b5-9bc1-98a724846b7a",
   "metadata": {},
   "outputs": [
    {
     "name": "stdout",
     "output_type": "stream",
     "text": [
      "---------------Attribute addition-----------\n",
      "\n",
      "---------------Rolling Window---------------\n",
      "\n",
      "------------Train/Test Separation-----------\n",
      "\n"
     ]
    }
   ],
   "source": [
    "wp_preproc = FeaturesPreprocessing(training_data, without_wp_date, before_start_36h)\n",
    "train, test = wp_preproc.transform(wp_3_forecast, 'wp3')\n",
    "train.to_csv('Data/Preprocessing/WP3_train_preprocessed.csv', sep=',', index=False)\n",
    "test.to_csv('Data/Preprocessing/WP3_test_preprocessed.csv', sep=',', index=False)"
   ]
  },
  {
   "cell_type": "code",
   "execution_count": 9,
   "id": "17ccdc39-5524-4599-92be-b017071c8037",
   "metadata": {},
   "outputs": [
    {
     "name": "stdout",
     "output_type": "stream",
     "text": [
      "---------------Attribute addition-----------\n",
      "\n",
      "---------------Rolling Window---------------\n",
      "\n",
      "------------Train/Test Separation-----------\n",
      "\n"
     ]
    }
   ],
   "source": [
    "wp_preproc = FeaturesPreprocessing(training_data, without_wp_date, before_start_36h)\n",
    "train, test = wp_preproc.transform(wp_4_forecast, 'wp4')\n",
    "train.to_csv('Data/Preprocessing/WP4_train_preprocessed.csv', sep=',', index=False)\n",
    "test.to_csv('Data/Preprocessing/WP4_test_preprocessed.csv', sep=',', index=False)"
   ]
  },
  {
   "cell_type": "code",
   "execution_count": 10,
   "id": "1691abbd-80da-4a86-9729-9bcdd9f6c1fb",
   "metadata": {},
   "outputs": [
    {
     "name": "stdout",
     "output_type": "stream",
     "text": [
      "---------------Attribute addition-----------\n",
      "\n",
      "---------------Rolling Window---------------\n",
      "\n",
      "------------Train/Test Separation-----------\n",
      "\n"
     ]
    }
   ],
   "source": [
    "wp_preproc = FeaturesPreprocessing(training_data, without_wp_date, before_start_36h)\n",
    "train, test = wp_preproc.transform(wp_5_forecast, 'wp5')\n",
    "train.to_csv('Data/Preprocessing/WP5_train_preprocessed.csv', sep=',', index=False)\n",
    "test.to_csv('Data/Preprocessing/WP5_test_preprocessed.csv', sep=',', index=False)"
   ]
  },
  {
   "cell_type": "code",
   "execution_count": 11,
   "id": "a9574b2d-49c9-49a2-9817-e9683fcde2e7",
   "metadata": {},
   "outputs": [
    {
     "name": "stdout",
     "output_type": "stream",
     "text": [
      "---------------Attribute addition-----------\n",
      "\n",
      "---------------Rolling Window---------------\n",
      "\n",
      "------------Train/Test Separation-----------\n",
      "\n"
     ]
    }
   ],
   "source": [
    "wp_preproc = FeaturesPreprocessing(training_data, without_wp_date, before_start_36h)\n",
    "train, test = wp_preproc.transform(wp_6_forecast, 'wp6')\n",
    "train.to_csv('Data/Preprocessing/WP6_train_preprocessed.csv', sep=',', index=False)\n",
    "test.to_csv('Data/Preprocessing/WP6_test_preprocessed.csv', sep=',', index=False)"
   ]
  }
 ],
 "metadata": {
  "kernelspec": {
   "display_name": "Python 3",
   "language": "python",
   "name": "python3"
  },
  "language_info": {
   "codemirror_mode": {
    "name": "ipython",
    "version": 3
   },
   "file_extension": ".py",
   "mimetype": "text/x-python",
   "name": "python",
   "nbconvert_exporter": "python",
   "pygments_lexer": "ipython3",
   "version": "3.8.5"
  }
 },
 "nbformat": 4,
 "nbformat_minor": 5
}
