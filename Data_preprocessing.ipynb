{
 "cells": [
  {
   "cell_type": "markdown",
   "id": "cfa53207-1f71-42b5-bf8a-df75fb99db6a",
   "metadata": {},
   "source": [
    "# Data preprocessing"
   ]
  },
  {
   "cell_type": "markdown",
   "id": "a59eb760-de60-4c54-a088-1cb1e589da86",
   "metadata": {},
   "source": [
    "Ici nous allons faire toutes nos modifications de la donnée d'entrainement. Ensuite on enregistre le tout et on utilise ça dans le notebook des modèles."
   ]
  },
  {
   "cell_type": "code",
   "execution_count": null,
   "id": "1d6f1192-6d0e-4435-a8be-82e5a7150f81",
   "metadata": {},
   "outputs": [],
   "source": []
  }
 ],
 "metadata": {
  "kernelspec": {
   "display_name": "Python 3",
   "language": "python",
   "name": "python3"
  },
  "language_info": {
   "codemirror_mode": {
    "name": "ipython",
    "version": 3
   },
   "file_extension": ".py",
   "mimetype": "text/x-python",
   "name": "python",
   "nbconvert_exporter": "python",
   "pygments_lexer": "ipython3",
   "version": "3.8.5"
  }
 },
 "nbformat": 4,
 "nbformat_minor": 5
}
