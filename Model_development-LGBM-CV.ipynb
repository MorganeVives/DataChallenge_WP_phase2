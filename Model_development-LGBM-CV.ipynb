{
 "cells": [
  {
   "cell_type": "markdown",
   "id": "261ec557-50a0-4cd6-8bec-268d1dee685a",
   "metadata": {},
   "source": [
    "# LGBM VMD Model development"
   ]
  },
  {
   "cell_type": "code",
   "execution_count": 1,
   "id": "1399bb0f-0234-43a6-b724-73f21f9b28b7",
   "metadata": {},
   "outputs": [],
   "source": [
    "import pandas as pd\n",
    "import seaborn as sns\n",
    "import openpyxl\n",
    "from datetime import datetime, timedelta\n",
    "import matplotlib.pyplot as plt\n",
    "import numpy as np\n",
    "import os\n",
    "import pickle"
   ]
  },
  {
   "cell_type": "code",
   "execution_count": 2,
   "id": "9a662ef3-a957-41fe-955d-1c5e99709226",
   "metadata": {},
   "outputs": [],
   "source": [
    "from sklearn.model_selection import KFold, train_test_split, cross_val_score\n",
    "from sklearn.preprocessing import MinMaxScaler, StandardScaler, MaxAbsScaler, RobustScaler\n",
    "from sklearn.pipeline import Pipeline\n",
    "from sklearn.metrics import mean_squared_error, mean_absolute_error\n",
    "import optuna\n",
    "from vmdpy import VMD"
   ]
  },
  {
   "cell_type": "code",
   "execution_count": 3,
   "id": "0bc7dfff-4363-41ad-bfd2-5e5dd7c0ef63",
   "metadata": {},
   "outputs": [],
   "source": [
    "from Functions.helper_functions import * "
   ]
  },
  {
   "cell_type": "code",
   "execution_count": 4,
   "id": "3c184629-3914-4a2c-ba3f-5f111909f344",
   "metadata": {},
   "outputs": [],
   "source": [
    "import warnings\n",
    "warnings.filterwarnings(action='ignore', category=UserWarning)\n",
    "pd.options.mode.chained_assignment = None  # default='warn'"
   ]
  },
  {
   "cell_type": "code",
   "execution_count": 5,
   "id": "6333588b-f1b0-4a5b-afea-e53064be0d99",
   "metadata": {},
   "outputs": [],
   "source": [
    "np.random.seed(42)"
   ]
  },
  {
   "cell_type": "markdown",
   "id": "b617c0f5-e679-4a3f-9a62-12e03303d11f",
   "metadata": {},
   "source": [
    "# Data"
   ]
  },
  {
   "cell_type": "code",
   "execution_count": 6,
   "id": "c4d3258c-6931-447d-84b7-ac52ed05673a",
   "metadata": {},
   "outputs": [],
   "source": [
    "train_wp1 = pd.read_csv('Data/Preprocessing/WP1_train_preprocessed.csv', sep=',')\n",
    "train_wp2 = pd.read_csv('Data/Preprocessing/WP2_train_preprocessed.csv', sep=',')\n",
    "train_wp3 = pd.read_csv('Data/Preprocessing/WP3_train_preprocessed.csv', sep=',')\n",
    "train_wp4 = pd.read_csv('Data/Preprocessing/WP4_train_preprocessed.csv', sep=',')\n",
    "train_wp5 = pd.read_csv('Data/Preprocessing/WP5_train_preprocessed.csv', sep=',')\n",
    "train_wp6 = pd.read_csv('Data/Preprocessing/WP6_train_preprocessed.csv', sep=',')"
   ]
  },
  {
   "cell_type": "code",
   "execution_count": 7,
   "id": "69f752d4-63ed-43b9-9315-41ecaa114ce4",
   "metadata": {},
   "outputs": [],
   "source": [
    "test_wp1 = pd.read_csv('Data/Preprocessing/WP1_test_preprocessed.csv', sep=',')\n",
    "test_wp2 = pd.read_csv('Data/Preprocessing/WP2_test_preprocessed.csv', sep=',')\n",
    "test_wp3 = pd.read_csv('Data/Preprocessing/WP3_test_preprocessed.csv', sep=',')\n",
    "test_wp4 = pd.read_csv('Data/Preprocessing/WP4_test_preprocessed.csv', sep=',')\n",
    "test_wp5 = pd.read_csv('Data/Preprocessing/WP5_test_preprocessed.csv', sep=',')\n",
    "test_wp6 = pd.read_csv('Data/Preprocessing/WP6_test_preprocessed.csv', sep=',')\n",
    "test_dates = pd.read_csv('Data/Initial/test.csv', sep=',').date.values"
   ]
  },
  {
   "cell_type": "code",
   "execution_count": 8,
   "id": "7540aa92-fc5e-4431-8e79-faba9f0cecad",
   "metadata": {},
   "outputs": [],
   "source": [
    "to_drop = ['date','wd','forecast_time', 'forecast', \"forecast_dist\"]"
   ]
  },
  {
   "cell_type": "code",
   "execution_count": 9,
   "id": "b0be88be-a88e-4777-a80f-66d64c4d0089",
   "metadata": {
    "tags": []
   },
   "outputs": [],
   "source": [
    "u_to_drop = [\n",
    "    'u_T_1', 'u_T_2', 'u_T_3', 'u_T_4', 'u_T_5', 'u_T_6', \n",
    "    'u_T_2_mean', 'u_T_3_mean', 'u_T_4_mean', 'u_T_5_mean', 'u_T_6_mean', 'u_T_7_mean',\n",
    "    'u_T_8_mean', 'u_T_9_mean', 'u_T_10_mean', 'u_T_11_mean', 'u_T_12_mean','u_T_24_mean',\n",
    "    'u_T_2_std', 'u_T_4_std', 'u_T_5_std', 'u_T_6_std',\n",
    "    'u_T_2_median', 'u_T_3_median', 'u_T_4_median', 'u_T_5_median', 'u_T_6_median', 'u_T_12_median','u_T_24_median', 'u_T_36_median',\n",
    "    'u_T_2_max', 'u_T_3_max', 'u_T_4_max', 'u_T_5_max', 'u_T_6_max', 'u_T_12_max',\n",
    "    'u_T_2_min', 'u_T_3_min', 'u_T_4_min', 'u_T_5_min', 'u_T_6_min', 'u_T_12_min',\n",
    "    'u2_T_1', 'u2_T_2', 'u2_T_3', 'u2_T_4', 'u2_T_5', 'u2_T_6', \n",
    "    'u2_T_2_mean', 'u2_T_3_mean', 'u2_T_4_mean', 'u2_T_5_mean', 'u2_T_6_mean', 'u2_T_7_mean',\n",
    "    'u2_T_8_mean', 'u2_T_9_mean', 'u2_T_10_mean', 'u2_T_11_mean', 'u2_T_12_mean','u2_T_24_mean',\n",
    "    'u2_T_2_std', 'u2_T_4_std', 'u2_T_5_std', 'u2_T_6_std', 'u2_T_24_std',\n",
    "    'u2_T_2_median', 'u2_T_3_median', 'u2_T_4_median', 'u2_T_5_median', 'u2_T_6_median', 'u2_T_12_median',\n",
    "    'u2_T_2_max','u2_T_3_max', 'u2_T_4_max','u2_T_5_max', 'u2_T_6_max', 'u2_T_12_max',\n",
    "    'u2_T_2_min', 'u2_T_3_min', 'u2_T_4_min', 'u2_T_5_min', 'u2_T_6_min',\n",
    "    'u2_T_12', 'u2_T_36_mean', 'u2_T_36_std', 'u2_T_24_median', 'u2_T_24_max',\n",
    "    'u_T_36_mean','u_T_12','u_T_24_max','u2_T_36_median','u_T_24_min'\n",
    "]\n",
    "ws_to_drop = [\n",
    "    'ws_T_1', 'ws_T_2', 'ws_T_3', 'ws_T_4', 'ws_T_5', 'ws_T_6', 'ws_T_7', 'ws_T_8', 'ws_T_10','ws_T_11', 'ws_T_12',\n",
    "    'ws_T_2_mean', 'ws_T_3_mean', 'ws_T_4_mean', 'ws_T_5_mean', 'ws_T_6_mean', 'ws_T_7_mean', 'ws_T_8_mean', 'ws_T_9_mean', \n",
    "    'ws_T_10_mean', 'ws_T_11_mean', 'ws_T_12_mean', 'ws_T_24_mean', \n",
    "    'ws_T_2_std', 'ws_T_3_std', 'ws_T_4_std', 'ws_T_5_std', \n",
    "    'ws_T_2_median', 'ws_T_3_median', 'ws_T_4_median', 'ws_T_5_median', 'ws_T_6_median',\n",
    "    'ws_T_12_median', 'ws_T_24_median', 'ws_T_36_median',\n",
    "    'ws_T_2_max', 'ws_T_3_max', 'ws_T_4_max', 'ws_T_5_max','ws_T_6_max', 'ws_T_12_max',\n",
    "     'ws_T_2_min', 'ws_T_3_min', 'ws_T_4_min', 'ws_T_5_min', 'ws_T_6_min', 'ws_T_12_min','ws_T_24_max','ws_T_24_min'\n",
    "]\n",
    "\n",
    "v_to_drop = [\n",
    "    'v_T_1', 'v_T_2', 'v_T_3', 'v_T_4', 'v_T_5', 'v_T_6', \n",
    "    'v_T_2_mean', 'v_T_3_mean', 'v_T_4_mean', 'v_T_5_mean', 'v_T_6_mean', 'v_T_7_mean',\n",
    "    'v_T_8_mean', 'v_T_9_mean', 'v_T_10_mean', 'v_T_11_mean', 'v_T_12_mean', 'v_T_24_mean','v_T_36_mean',\n",
    "    'v_T_3_std', 'v_T_4_std', 'v_T_5_std','v_T_6_std','v_T_24_std', 'v_T_36_median',\n",
    "    'v_T_2_median', 'v_T_3_median', 'v_T_4_median', 'v_T_5_median', 'v_T_6_median', \n",
    "    'v_T_2_max', 'v_T_3_max', 'v_T_4_max', 'v_T_5_max', 'v_T_6_max', 'v_T_12_max', \n",
    "    'v_T_2_min', 'v_T_3_min', 'v_T_4_min', 'v_T_5_min', 'v_T_6_min', 'v_T_12_min', \n",
    "    'v_T_36_min', 'v_T_36', 'v_T_24_max',  'v_T_12_median', 'v_T_24_median',\n",
    "]\n",
    "\n",
    "wd_to_drop = [\n",
    "    'coswd_1', 'coswd_2', 'coswd_3', 'coswd_4', 'coswd_5', 'coswd_6',\n",
    "    'coswd_2_mean', 'coswd_3_mean', 'coswd_4_mean', 'coswd_5_mean', 'coswd_6_mean', 'coswd_7_mean', \n",
    "    'coswd_8_mean', 'coswd_9_mean', 'coswd_10_mean', 'coswd_11_mean', 'coswd_12_mean', 'coswd_24_mean', \n",
    "    'coswd_3_std', 'coswd_4_std','coswd_5_std','coswd_2_median', 'coswd_3_median','coswd_4_median', \n",
    "    'coswd_5_median', 'coswd_6_median', 'coswd_36_median', 'coswd_24_median', 'coswd_12_median',\n",
    "    'coswd_2_max', 'coswd_3_max', 'coswd_4_max', 'coswd_5_max', 'coswd_6_max', 'coswd_12_max', 'coswd_24_max',\n",
    "    'coswd_2_min', 'coswd_3_min', 'coswd_4_min', 'coswd_5_min', 'coswd_6_min', 'coswd_12_min', 'coswd_24_min',\n",
    "    'ws_T_36_max', 'ws_T_36_min', 'coswd_12', 'coswd_24'\n",
    "]\n",
    "\n",
    "other_to_drop = [\n",
    "    'cos_day', 'u', 'v'\n",
    "]\n",
    "\n",
    "feature_corr = u_to_drop+ws_to_drop+v_to_drop+wd_to_drop+other_to_drop\n",
    "to_drop = feature_corr+to_drop"
   ]
  },
  {
   "cell_type": "markdown",
   "id": "d0204367-344e-4837-9d27-c07833112862",
   "metadata": {},
   "source": [
    "# LGBM functions"
   ]
  },
  {
   "cell_type": "code",
   "execution_count": 10,
   "id": "df77bdff-aa3c-42cd-91a2-4ecb5bffdead",
   "metadata": {
    "tags": []
   },
   "outputs": [],
   "source": [
    "from lightgbm import LGBMRegressor"
   ]
  },
  {
   "cell_type": "code",
   "execution_count": 11,
   "id": "06b25086-f413-4305-a2a3-ca3de93887f1",
   "metadata": {},
   "outputs": [],
   "source": [
    "def create_dataset(data,n,split):\n",
    "    n_batch=int(len(data)/84)\n",
    "    new_data=np.array_split(data,n_batch)\n",
    "    train = pd.DataFrame()\n",
    "    val=pd.DataFrame()\n",
    "    for i in range(n_batch):\n",
    "        if (i+n)%split ==0:\n",
    "            val = pd.concat([val,new_data[i]])\n",
    "        else:\n",
    "            train=pd.concat([train,new_data[i]])\n",
    "    return train,val"
   ]
  },
  {
   "cell_type": "code",
   "execution_count": 12,
   "id": "19e987b8-90e0-4350-85ac-24d454c5acc4",
   "metadata": {
    "tags": []
   },
   "outputs": [],
   "source": [
    "def hyperparametrization_cv(trial, x,y,cv):\n",
    "    param = {\n",
    "        'n_jobs':-1,\n",
    "        'metric': 'rmse', \n",
    "        'reg_alpha': trial.suggest_loguniform('reg_alpha', 1e-3, 10.0),\n",
    "        'reg_lambda': trial.suggest_loguniform('reg_lambda', 1e-3, 10.0),\n",
    "        'colsample_bytree': trial.suggest_categorical('colsample_bytree', [0.3,0.4,0.5,0.6,0.7,0.8,0.9, 1.0]),\n",
    "        'subsample': trial.suggest_categorical('subsample', [0.4,0.5,0.6,0.7,0.8,1.0]),\n",
    "        'learning_rate': trial.suggest_loguniform('learning_rate', 1e-3, 0.3),\n",
    "        'max_depth': trial.suggest_int(\"max_depth\", 20, 100),\n",
    "        'num_leaves' : trial.suggest_int('num_leaves', 1, 1000),\n",
    "        'min_child_samples': trial.suggest_int('min_child_samples', 1, 300),\n",
    "    }\n",
    "    \n",
    "#     model = LGBMRegressor(**param)  \n",
    "    model = Pipeline([('scaler', MinMaxScaler()),('ridge', LGBMRegressor(**param))])\n",
    "#     model.fit(train_x,train_y,eval_set=[(test_x,test_y)],early_stopping_rounds=100,verbose=False)\n",
    "    split=cv\n",
    "    rmse=[]\n",
    "    mae=[]\n",
    "    for n in range(split):\n",
    "        train_x,test_x=create_dataset(x,n,split)\n",
    "        train_y,test_y=create_dataset(y,n,split)\n",
    "        model.fit(train_x,train_y.values.ravel())\n",
    "        preds=model.predict(test_x)\n",
    "    \n",
    "        mae.append(mean_absolute_error(test_y, preds))\n",
    "        rmse.append(mean_squared_error(test_y, preds,squared=False))\n",
    "    \n",
    "    #rmse =  mean_squared_error(test_y, preds,squared=False)\n",
    "    #mae = mean_absolute_error(test_y,preds)\n",
    "    return np.mean(mae) #rmse"
   ]
  },
  {
   "cell_type": "code",
   "execution_count": 21,
   "id": "576cbaef-5252-4b11-bf85-cab00ca98eea",
   "metadata": {
    "tags": []
   },
   "outputs": [],
   "source": [
    "def lgbm_scaled_cross_validation(X, y, params,cv):\n",
    "    if params == None:\n",
    "#         model = Pipeline([('scaler', MaxAbsScaler()),('ridge', LGBMRegressor())])\n",
    "        model = Pipeline([('scaler', RobustScaler()),('ridge', LGBMRegressor())])\n",
    "    else:\n",
    "#         model = Pipeline([('scaler', MaxAbsScaler()),('ridge', LGBMRegressor(**params))])\n",
    "        model = Pipeline([('scaler', RobustScaler()),('ridge', LGBMRegressor(**params))])\n",
    "\n",
    "    print('-----------LGBM CROSS VALIDATION BEGINNING-----------')\n",
    "    split = cv\n",
    "    kf = KFold(n_splits=split, shuffle=True)       \n",
    "    lgbm_rmse_scores = []\n",
    "    lgbm_mae_scores = []\n",
    "    i = 1\n",
    "    for n in range(split):\n",
    "        X_train, X_test = create_dataset(X,n,split)\n",
    "        Y_train, Y_test = create_dataset(y,n,split)\n",
    "\n",
    "        model.fit(X_train, Y_train)\n",
    "\n",
    "        prediction = model.predict(X_test)\n",
    "        lgbm_rmse_scores.append(mean_squared_error(Y_test, prediction,squared=False))\n",
    "        lgbm_mae_scores.append(mean_absolute_error(Y_test, prediction))\n",
    "        \n",
    "        print(show_evaluation(prediction, Y_test))\n",
    "        print(f'-------------------FOLD {i}-----------------')\n",
    "        i+=1\n",
    "\n",
    "    print('---------------CROSS VALIDATION COMPLETE-------------')\n",
    "    print('--------------------------RMSE-----------------------')\n",
    "    display_scores(lgbm_rmse_scores)\n",
    "    print('--------------------------MAE------------------------')\n",
    "    display_scores(lgbm_mae_scores)"
   ]
  },
  {
   "cell_type": "markdown",
   "id": "bbc3509e-c676-463f-97ac-c0ac98b5f3ed",
   "metadata": {},
   "source": [
    "## WP1 "
   ]
  },
  {
   "cell_type": "markdown",
   "id": "7cd32285-01cf-4ab5-8fcb-706b7f8a294b",
   "metadata": {},
   "source": [
    "| |  | Mean | Std | Sum up |\n",
    "| --- | --- | --- | --- | --- |\n",
    "| No params | RMSE | 0.10344875448880764 | 0.0019070131550065564 |  |\n",
    "| No params - StandardScaler | RMSE | 0.10355855436437653 | 0.0019043784372002228 |  |\n",
    "| After tuning 50trials| RMSE | 0.06830085723562579 | 0.0012998671387256361 | To keep, maybe redo optuna with warm start with it - first sub|\n",
    "| After tuning 100trials| RMSE | 0.0695930431604128 | 0.0015123892627707553 | |\n",
    "| After tuning W.S 60trials | RMSE | 0.0671868765178121 | 0.0019357892229500213 | second sub - BETTER |\n",
    "| After tuning W.S 50trials - StandardScaler | RMSE | 0.06705406618054667 | 0.0013509038914922506 | with warm start 1 parameters |\n",
    "| After tuning W.S 50trials - RobustScaler | RMSE | 0.06736753027260156 | 0.0009971394767292064 | |\n",
    "| --- | --- | --- | --- | --- |\n",
    "| No params | MAE | 0.07306057409517844 | 0.0009857628815465762 |  |\n",
    "| No params - StandardScaler | MAE | 0.07310137331348271 | 0.0010945145617042643 |  |\n",
    "| After tuning 50trials| MAE | 0.04481696427654311 | 0.000727722171899004 |  |\n",
    "| After tuning 100trials| MAE | 0.045696725242359994 | 0.0008508558100930331 |  |\n",
    "| After tuning W.S 60trials | MAE | 0.04322865305311156 | 0.0009454253743042544 | |\n",
    "| After tuning W.S 50trials - StandardScaler | MAE | 0.043173032898780175 | 0.0007696056550296055 | with warm start 1 parameters |\n",
    "| After tuning W.S 50trials - RobustScaler | MAE | 0.043246198690701294 | 0.000596545751975941 | |"
   ]
  },
  {
   "cell_type": "code",
   "execution_count": 14,
   "id": "70c3af58-11fa-437e-80d2-d58c9901ce08",
   "metadata": {
    "tags": []
   },
   "outputs": [],
   "source": [
    "wp1_X = train_wp1[[c for c in train_wp1 if c not in [\"wp\"]] + [\"wp\"]].drop(to_drop+feature_corr, axis = 1)\n",
    "X1 = wp1_X.drop('wp', axis=1)\n",
    "y1 = wp1_X['wp']"
   ]
  },
  {
   "cell_type": "code",
   "execution_count": 15,
   "id": "cc0e12b6-1b3e-42a7-b8cb-210798fb4407",
   "metadata": {},
   "outputs": [],
   "source": [
    "def objective_wp1(trial,data=X1,target=y1,cv=5):\n",
    "    #train_x, test_x = create_dataset(data,0)\n",
    "    #train_y,test_y=create_dataset(target,0)\n",
    "    return hyperparametrization_cv(trial, data,target,cv)"
   ]
  },
  {
   "cell_type": "code",
   "execution_count": 16,
   "id": "e684f183-2486-4a97-aead-c6feee96c515",
   "metadata": {},
   "outputs": [
    {
     "name": "stderr",
     "output_type": "stream",
     "text": [
      "\u001b[32m[I 2021-09-20 12:55:51,818]\u001b[0m A new study created in memory with name: no-name-62a730ed-30f7-481b-8853-f215b023688c\u001b[0m\n",
      "\u001b[32m[I 2021-09-20 12:56:44,498]\u001b[0m Trial 0 finished with value: 0.07086629332091385 and parameters: {'reg_alpha': 1.914354919226198, 'reg_lambda': 0.048178000856428704, 'colsample_bytree': 0.7, 'subsample': 1.0, 'learning_rate': 0.09386243461297668, 'max_depth': 20, 'num_leaves': 816, 'min_child_samples': 3}. Best is trial 0 with value: 0.07086629332091385.\u001b[0m\n",
      "\u001b[32m[I 2021-09-20 12:57:10,431]\u001b[0m Trial 1 finished with value: 0.1587432561996897 and parameters: {'reg_alpha': 0.3775020995328389, 'reg_lambda': 1.4996066336672706, 'colsample_bytree': 0.5, 'subsample': 0.6, 'learning_rate': 0.007961715331160727, 'max_depth': 71, 'num_leaves': 736, 'min_child_samples': 100}. Best is trial 0 with value: 0.07086629332091385.\u001b[0m\n",
      "\u001b[32m[I 2021-09-20 12:57:39,538]\u001b[0m Trial 2 finished with value: 0.08124137737544093 and parameters: {'reg_alpha': 3.0264211159547183, 'reg_lambda': 0.9108064890576552, 'colsample_bytree': 0.5, 'subsample': 0.8, 'learning_rate': 0.07918180275974744, 'max_depth': 34, 'num_leaves': 906, 'min_child_samples': 147}. Best is trial 0 with value: 0.07086629332091385.\u001b[0m\n",
      "\u001b[32m[I 2021-09-20 12:58:01,302]\u001b[0m Trial 3 finished with value: 0.1054623139940164 and parameters: {'reg_alpha': 9.673230715394576, 'reg_lambda': 0.3752249740129462, 'colsample_bytree': 0.5, 'subsample': 0.5, 'learning_rate': 0.0275968085636477, 'max_depth': 89, 'num_leaves': 847, 'min_child_samples': 78}. Best is trial 0 with value: 0.07086629332091385.\u001b[0m\n",
      "\u001b[32m[I 2021-09-20 12:58:34,065]\u001b[0m Trial 4 finished with value: 0.23391476474304693 and parameters: {'reg_alpha': 0.384135202660325, 'reg_lambda': 0.0036498848070923417, 'colsample_bytree': 0.7, 'subsample': 0.8, 'learning_rate': 0.0011084541715092222, 'max_depth': 30, 'num_leaves': 502, 'min_child_samples': 54}. Best is trial 0 with value: 0.07086629332091385.\u001b[0m\n",
      "\u001b[32m[I 2021-09-20 12:59:00,491]\u001b[0m Trial 5 finished with value: 0.210263641977913 and parameters: {'reg_alpha': 0.002185443356690575, 'reg_lambda': 5.340987703431315, 'colsample_bytree': 0.8, 'subsample': 0.6, 'learning_rate': 0.002701033238309242, 'max_depth': 45, 'num_leaves': 789, 'min_child_samples': 123}. Best is trial 0 with value: 0.07086629332091385.\u001b[0m\n",
      "\u001b[32m[I 2021-09-20 12:59:25,141]\u001b[0m Trial 6 finished with value: 0.09477005219149445 and parameters: {'reg_alpha': 0.21729652648715572, 'reg_lambda': 0.08578247325772882, 'colsample_bytree': 0.9, 'subsample': 1.0, 'learning_rate': 0.02984324579798644, 'max_depth': 85, 'num_leaves': 339, 'min_child_samples': 244}. Best is trial 0 with value: 0.07086629332091385.\u001b[0m\n",
      "\u001b[32m[I 2021-09-20 12:59:44,646]\u001b[0m Trial 7 finished with value: 0.11824118104990892 and parameters: {'reg_alpha': 5.228530496862929, 'reg_lambda': 3.189254181233198, 'colsample_bytree': 0.4, 'subsample': 0.4, 'learning_rate': 0.01997467551594904, 'max_depth': 74, 'num_leaves': 819, 'min_child_samples': 146}. Best is trial 0 with value: 0.07086629332091385.\u001b[0m\n",
      "\u001b[32m[I 2021-09-20 13:00:12,871]\u001b[0m Trial 8 finished with value: 0.07439230271134359 and parameters: {'reg_alpha': 0.8115632530480553, 'reg_lambda': 0.4807218251576881, 'colsample_bytree': 0.6, 'subsample': 1.0, 'learning_rate': 0.07072125812561794, 'max_depth': 31, 'num_leaves': 358, 'min_child_samples': 87}. Best is trial 0 with value: 0.07086629332091385.\u001b[0m\n",
      "\u001b[32m[I 2021-09-20 13:00:33,324]\u001b[0m Trial 9 finished with value: 0.1254330887665353 and parameters: {'reg_alpha': 0.042447940142790436, 'reg_lambda': 2.692075619667194, 'colsample_bytree': 0.3, 'subsample': 0.7, 'learning_rate': 0.017539188598333273, 'max_depth': 90, 'num_leaves': 740, 'min_child_samples': 230}. Best is trial 0 with value: 0.07086629332091385.\u001b[0m\n",
      "\u001b[32m[I 2021-09-20 13:00:57,205]\u001b[0m Trial 10 finished with value: 0.0736143796689788 and parameters: {'reg_alpha': 0.03365374112099006, 'reg_lambda': 0.015401129349709386, 'colsample_bytree': 0.7, 'subsample': 1.0, 'learning_rate': 0.25932014873102915, 'max_depth': 55, 'num_leaves': 106, 'min_child_samples': 7}. Best is trial 0 with value: 0.07086629332091385.\u001b[0m\n",
      "\u001b[32m[I 2021-09-20 13:01:22,426]\u001b[0m Trial 11 finished with value: 0.07112894033850031 and parameters: {'reg_alpha': 0.02177830438749361, 'reg_lambda': 0.016398992910131534, 'colsample_bytree': 0.7, 'subsample': 1.0, 'learning_rate': 0.232137677278643, 'max_depth': 51, 'num_leaves': 149, 'min_child_samples': 24}. Best is trial 0 with value: 0.07086629332091385.\u001b[0m\n",
      "\u001b[32m[I 2021-09-20 13:01:46,860]\u001b[0m Trial 12 finished with value: 0.07315732653452373 and parameters: {'reg_alpha': 0.007016343865242059, 'reg_lambda': 0.03494076417275185, 'colsample_bytree': 0.7, 'subsample': 1.0, 'learning_rate': 0.2926533697263444, 'max_depth': 20, 'num_leaves': 136, 'min_child_samples': 42}. Best is trial 0 with value: 0.07086629332091385.\u001b[0m\n",
      "\u001b[32m[I 2021-09-20 13:02:51,080]\u001b[0m Trial 13 finished with value: 0.0660246607248027 and parameters: {'reg_alpha': 0.018078983057199488, 'reg_lambda': 0.002174603964707146, 'colsample_bytree': 1.0, 'subsample': 1.0, 'learning_rate': 0.11068373388876057, 'max_depth': 49, 'num_leaves': 552, 'min_child_samples': 9}. Best is trial 13 with value: 0.0660246607248027.\u001b[0m\n",
      "\u001b[32m[I 2021-09-20 13:03:19,435]\u001b[0m Trial 14 finished with value: 0.07697938170684836 and parameters: {'reg_alpha': 0.0010769878555126455, 'reg_lambda': 0.0012839123231501786, 'colsample_bytree': 1.0, 'subsample': 0.7, 'learning_rate': 0.08240358628178113, 'max_depth': 65, 'num_leaves': 581, 'min_child_samples': 198}. Best is trial 13 with value: 0.0660246607248027.\u001b[0m\n",
      "\u001b[32m[I 2021-09-20 13:03:43,166]\u001b[0m Trial 15 finished with value: 0.07822221608480215 and parameters: {'reg_alpha': 1.3072079882190268, 'reg_lambda': 0.0037366237893903856, 'colsample_bytree': 1.0, 'subsample': 0.4, 'learning_rate': 0.11813123919324099, 'max_depth': 42, 'num_leaves': 608, 'min_child_samples': 296}. Best is trial 13 with value: 0.0660246607248027.\u001b[0m\n",
      "\u001b[32m[I 2021-09-20 13:04:35,546]\u001b[0m Trial 16 finished with value: 0.15249145831132851 and parameters: {'reg_alpha': 0.08596642483787696, 'reg_lambda': 0.14439232451760833, 'colsample_bytree': 1.0, 'subsample': 1.0, 'learning_rate': 0.007563013191447855, 'max_depth': 21, 'num_leaves': 362, 'min_child_samples': 5}. Best is trial 13 with value: 0.0660246607248027.\u001b[0m\n",
      "\u001b[32m[I 2021-09-20 13:05:09,929]\u001b[0m Trial 17 finished with value: 0.07978008799567145 and parameters: {'reg_alpha': 0.007226119740271964, 'reg_lambda': 0.0012500182371682953, 'colsample_bytree': 0.3, 'subsample': 0.5, 'learning_rate': 0.04469396248432854, 'max_depth': 40, 'num_leaves': 971, 'min_child_samples': 57}. Best is trial 13 with value: 0.0660246607248027.\u001b[0m\n",
      "\u001b[32m[I 2021-09-20 13:05:54,404]\u001b[0m Trial 18 finished with value: 0.06728282025117995 and parameters: {'reg_alpha': 0.11315276951282154, 'reg_lambda': 0.005800418487520959, 'colsample_bytree': 0.6, 'subsample': 1.0, 'learning_rate': 0.1375318977156157, 'max_depth': 60, 'num_leaves': 644, 'min_child_samples': 34}. Best is trial 13 with value: 0.0660246607248027.\u001b[0m\n",
      "\u001b[32m[I 2021-09-20 13:06:18,874]\u001b[0m Trial 19 finished with value: 0.07336550183920493 and parameters: {'reg_alpha': 0.011053324633132562, 'reg_lambda': 0.005505940590394597, 'colsample_bytree': 0.6, 'subsample': 1.0, 'learning_rate': 0.15738345422453678, 'max_depth': 64, 'num_leaves': 622, 'min_child_samples': 189}. Best is trial 13 with value: 0.0660246607248027.\u001b[0m\n",
      "\u001b[32m[I 2021-09-20 13:06:46,979]\u001b[0m Trial 20 finished with value: 0.1554330728036828 and parameters: {'reg_alpha': 0.0746826643994834, 'reg_lambda': 0.009236738110152208, 'colsample_bytree': 0.6, 'subsample': 0.4, 'learning_rate': 0.00811298807316084, 'max_depth': 79, 'num_leaves': 434, 'min_child_samples': 113}. Best is trial 13 with value: 0.0660246607248027.\u001b[0m\n",
      "\u001b[32m[I 2021-09-20 13:07:25,689]\u001b[0m Trial 21 finished with value: 0.06998228357418826 and parameters: {'reg_alpha': 0.16140702136105592, 'reg_lambda': 0.029886601174830094, 'colsample_bytree': 0.4, 'subsample': 1.0, 'learning_rate': 0.13916263325819966, 'max_depth': 55, 'num_leaves': 671, 'min_child_samples': 39}. Best is trial 13 with value: 0.0660246607248027.\u001b[0m\n",
      "\u001b[32m[I 2021-09-20 13:08:04,219]\u001b[0m Trial 22 finished with value: 0.07503003037318887 and parameters: {'reg_alpha': 0.1820915249255748, 'reg_lambda': 0.0017474483153538988, 'colsample_bytree': 0.4, 'subsample': 1.0, 'learning_rate': 0.04797040134071493, 'max_depth': 100, 'num_leaves': 674, 'min_child_samples': 37}. Best is trial 13 with value: 0.0660246607248027.\u001b[0m\n",
      "\u001b[32m[I 2021-09-20 13:08:36,382]\u001b[0m Trial 23 finished with value: 0.07052362545131252 and parameters: {'reg_alpha': 0.01628217773171729, 'reg_lambda': 0.01839497455126597, 'colsample_bytree': 0.4, 'subsample': 1.0, 'learning_rate': 0.16249910574892482, 'max_depth': 56, 'num_leaves': 512, 'min_child_samples': 68}. Best is trial 13 with value: 0.0660246607248027.\u001b[0m\n",
      "\u001b[32m[I 2021-09-20 13:09:21,994]\u001b[0m Trial 24 finished with value: 0.06685666541627885 and parameters: {'reg_alpha': 0.15369022538551982, 'reg_lambda': 0.0033788924943520576, 'colsample_bytree': 0.8, 'subsample': 1.0, 'learning_rate': 0.1385168351960247, 'max_depth': 50, 'num_leaves': 535, 'min_child_samples': 37}. Best is trial 13 with value: 0.0660246607248027.\u001b[0m\n",
      "\u001b[32m[I 2021-09-20 13:09:56,333]\u001b[0m Trial 25 finished with value: 0.07552322143128479 and parameters: {'reg_alpha': 0.04484600337198276, 'reg_lambda': 0.0025701845860512727, 'colsample_bytree': 0.8, 'subsample': 0.8, 'learning_rate': 0.04637293991842419, 'max_depth': 48, 'num_leaves': 241, 'min_child_samples': 27}. Best is trial 13 with value: 0.0660246607248027.\u001b[0m\n",
      "\u001b[32m[I 2021-09-20 13:10:31,504]\u001b[0m Trial 26 finished with value: 0.06818162588123827 and parameters: {'reg_alpha': 0.547085398577412, 'reg_lambda': 0.007312513613341121, 'colsample_bytree': 0.9, 'subsample': 0.5, 'learning_rate': 0.18311868785832972, 'max_depth': 61, 'num_leaves': 444, 'min_child_samples': 72}. Best is trial 13 with value: 0.0660246607248027.\u001b[0m\n",
      "\u001b[32m[I 2021-09-20 13:11:24,818]\u001b[0m Trial 27 finished with value: 0.06814744661718597 and parameters: {'reg_alpha': 0.002829577615037685, 'reg_lambda': 0.001012064016700993, 'colsample_bytree': 0.8, 'subsample': 0.7, 'learning_rate': 0.05804356196169433, 'max_depth': 37, 'num_leaves': 569, 'min_child_samples': 18}. Best is trial 13 with value: 0.0660246607248027.\u001b[0m\n",
      "\u001b[32m[I 2021-09-20 13:11:58,143]\u001b[0m Trial 28 finished with value: 0.06955887551324813 and parameters: {'reg_alpha': 0.11071865665782579, 'reg_lambda': 0.002804857150507032, 'colsample_bytree': 0.8, 'subsample': 0.6, 'learning_rate': 0.12279399106514846, 'max_depth': 70, 'num_leaves': 443, 'min_child_samples': 96}. Best is trial 13 with value: 0.0660246607248027.\u001b[0m\n",
      "\u001b[32m[I 2021-09-20 13:12:16,973]\u001b[0m Trial 29 finished with value: 0.09187444871886537 and parameters: {'reg_alpha': 0.05473207689863635, 'reg_lambda': 0.008331240403048628, 'colsample_bytree': 1.0, 'subsample': 1.0, 'learning_rate': 0.11111188981786403, 'max_depth': 49, 'num_leaves': 15, 'min_child_samples': 1}. Best is trial 13 with value: 0.0660246607248027.\u001b[0m\n",
      "\u001b[32m[I 2021-09-20 13:12:56,352]\u001b[0m Trial 30 finished with value: 0.07937198194794862 and parameters: {'reg_alpha': 0.00398767361413002, 'reg_lambda': 0.10016649388211439, 'colsample_bytree': 0.6, 'subsample': 1.0, 'learning_rate': 0.03442464302232433, 'max_depth': 59, 'num_leaves': 533, 'min_child_samples': 54}. Best is trial 13 with value: 0.0660246607248027.\u001b[0m\n",
      "\u001b[32m[I 2021-09-20 13:13:50,137]\u001b[0m Trial 31 finished with value: 0.06783002577424317 and parameters: {'reg_alpha': 0.0023501505037713945, 'reg_lambda': 0.0010275776867830744, 'colsample_bytree': 0.8, 'subsample': 0.7, 'learning_rate': 0.05988331046834059, 'max_depth': 37, 'num_leaves': 579, 'min_child_samples': 18}. Best is trial 13 with value: 0.0660246607248027.\u001b[0m\n",
      "\u001b[32m[I 2021-09-20 13:14:46,372]\u001b[0m Trial 32 finished with value: 0.06638124337854741 and parameters: {'reg_alpha': 0.0010335253913117803, 'reg_lambda': 0.0023031604364655025, 'colsample_bytree': 0.8, 'subsample': 0.7, 'learning_rate': 0.08246506672584687, 'max_depth': 44, 'num_leaves': 702, 'min_child_samples': 27}. Best is trial 13 with value: 0.0660246607248027.\u001b[0m\n",
      "\u001b[32m[I 2021-09-20 13:15:38,457]\u001b[0m Trial 33 finished with value: 0.06705151960329163 and parameters: {'reg_alpha': 0.0011079202059467855, 'reg_lambda': 0.005044105477060322, 'colsample_bytree': 0.8, 'subsample': 0.7, 'learning_rate': 0.09341645387267192, 'max_depth': 51, 'num_leaves': 685, 'min_child_samples': 42}. Best is trial 13 with value: 0.0660246607248027.\u001b[0m\n",
      "\u001b[32m[I 2021-09-20 13:16:10,902]\u001b[0m Trial 34 finished with value: 0.07139026960543264 and parameters: {'reg_alpha': 0.001020241721019297, 'reg_lambda': 0.002121247963167828, 'colsample_bytree': 0.8, 'subsample': 0.7, 'learning_rate': 0.09727325562651842, 'max_depth': 45, 'num_leaves': 750, 'min_child_samples': 112}. Best is trial 13 with value: 0.0660246607248027.\u001b[0m\n",
      "\u001b[32m[I 2021-09-20 13:16:53,838]\u001b[0m Trial 35 finished with value: 0.13407843126289773 and parameters: {'reg_alpha': 0.0015805717954885173, 'reg_lambda': 0.0033039159204269687, 'colsample_bytree': 0.8, 'subsample': 0.7, 'learning_rate': 0.01046939146503191, 'max_depth': 52, 'num_leaves': 699, 'min_child_samples': 64}. Best is trial 13 with value: 0.0660246607248027.\u001b[0m\n",
      "\u001b[32m[I 2021-09-20 13:17:34,181]\u001b[0m Trial 36 finished with value: 0.06895972082780835 and parameters: {'reg_alpha': 0.00396949491192117, 'reg_lambda': 0.011267012086880211, 'colsample_bytree': 0.5, 'subsample': 0.7, 'learning_rate': 0.08528066765021886, 'max_depth': 28, 'num_leaves': 879, 'min_child_samples': 48}. Best is trial 13 with value: 0.0660246607248027.\u001b[0m\n",
      "\u001b[32m[I 2021-09-20 13:18:10,411]\u001b[0m Trial 37 finished with value: 0.06928598998354497 and parameters: {'reg_alpha': 0.004475933758934487, 'reg_lambda': 0.004622397505070361, 'colsample_bytree': 0.8, 'subsample': 0.6, 'learning_rate': 0.20722897878464624, 'max_depth': 41, 'num_leaves': 717, 'min_child_samples': 83}. Best is trial 13 with value: 0.0660246607248027.\u001b[0m\n",
      "\u001b[32m[I 2021-09-20 13:18:40,966]\u001b[0m Trial 38 finished with value: 0.21477570409435706 and parameters: {'reg_alpha': 0.0016786636743170496, 'reg_lambda': 0.0023019319379144823, 'colsample_bytree': 0.8, 'subsample': 0.8, 'learning_rate': 0.002353404983633861, 'max_depth': 45, 'num_leaves': 784, 'min_child_samples': 136}. Best is trial 13 with value: 0.0660246607248027.\u001b[0m\n",
      "\u001b[32m[I 2021-09-20 13:19:06,590]\u001b[0m Trial 39 finished with value: 0.09666717017454599 and parameters: {'reg_alpha': 0.35108287113308023, 'reg_lambda': 0.001792268075976133, 'colsample_bytree': 0.8, 'subsample': 0.7, 'learning_rate': 0.025601176253663146, 'max_depth': 34, 'num_leaves': 949, 'min_child_samples': 170}. Best is trial 13 with value: 0.0660246607248027.\u001b[0m\n",
      "\u001b[32m[I 2021-09-20 13:20:19,815]\u001b[0m Trial 40 finished with value: 0.11707584543427188 and parameters: {'reg_alpha': 0.025558331077696318, 'reg_lambda': 0.05029072908812273, 'colsample_bytree': 0.9, 'subsample': 0.7, 'learning_rate': 0.01238087642171768, 'max_depth': 47, 'num_leaves': 848, 'min_child_samples': 17}. Best is trial 13 with value: 0.0660246607248027.\u001b[0m\n",
      "\u001b[32m[I 2021-09-20 13:21:00,357]\u001b[0m Trial 41 finished with value: 0.06846652356108632 and parameters: {'reg_alpha': 0.31198711012587804, 'reg_lambda': 0.005666345614845003, 'colsample_bytree': 0.6, 'subsample': 0.5, 'learning_rate': 0.073677826720506, 'max_depth': 66, 'num_leaves': 631, 'min_child_samples': 35}. Best is trial 13 with value: 0.0660246607248027.\u001b[0m\n",
      "\u001b[32m[I 2021-09-20 13:21:38,370]\u001b[0m Trial 42 finished with value: 0.06944864787776904 and parameters: {'reg_alpha': 0.12346432966522627, 'reg_lambda': 0.00529156987897476, 'colsample_bytree': 0.5, 'subsample': 1.0, 'learning_rate': 0.17364621480503195, 'max_depth': 60, 'num_leaves': 661, 'min_child_samples': 53}. Best is trial 13 with value: 0.0660246607248027.\u001b[0m\n",
      "\u001b[32m[I 2021-09-20 13:22:41,580]\u001b[0m Trial 43 finished with value: 0.06625686013151391 and parameters: {'reg_alpha': 0.011609992651128947, 'reg_lambda': 0.01176384153271432, 'colsample_bytree': 1.0, 'subsample': 0.6, 'learning_rate': 0.1304275781291632, 'max_depth': 53, 'num_leaves': 534, 'min_child_samples': 14}. Best is trial 13 with value: 0.0660246607248027.\u001b[0m\n",
      "\u001b[32m[I 2021-09-20 13:23:33,609]\u001b[0m Trial 44 finished with value: 0.06670485808723861 and parameters: {'reg_alpha': 0.009954745256896469, 'reg_lambda': 0.014150713785068438, 'colsample_bytree': 1.0, 'subsample': 0.6, 'learning_rate': 0.09630019227043053, 'max_depth': 51, 'num_leaves': 461, 'min_child_samples': 14}. Best is trial 13 with value: 0.0660246607248027.\u001b[0m\n",
      "\u001b[32m[I 2021-09-20 13:24:27,565]\u001b[0m Trial 45 finished with value: 0.06811697663704705 and parameters: {'reg_alpha': 0.00665842209500998, 'reg_lambda': 0.026358210818185516, 'colsample_bytree': 1.0, 'subsample': 0.6, 'learning_rate': 0.21674769072076974, 'max_depth': 56, 'num_leaves': 395, 'min_child_samples': 1}. Best is trial 13 with value: 0.0660246607248027.\u001b[0m\n",
      "\u001b[32m[I 2021-09-20 13:25:20,559]\u001b[0m Trial 46 finished with value: 0.07451814630106432 and parameters: {'reg_alpha': 0.015347160353018795, 'reg_lambda': 0.01234093070470453, 'colsample_bytree': 1.0, 'subsample': 0.6, 'learning_rate': 0.03936926447193285, 'max_depth': 44, 'num_leaves': 463, 'min_child_samples': 20}. Best is trial 13 with value: 0.0660246607248027.\u001b[0m\n",
      "\u001b[32m[I 2021-09-20 13:26:01,300]\u001b[0m Trial 47 finished with value: 0.07186538645385655 and parameters: {'reg_alpha': 0.010506249313511774, 'reg_lambda': 0.022191665624840536, 'colsample_bytree': 1.0, 'subsample': 0.6, 'learning_rate': 0.06154902999102965, 'max_depth': 53, 'num_leaves': 255, 'min_child_samples': 13}. Best is trial 13 with value: 0.0660246607248027.\u001b[0m\n",
      "\u001b[32m[I 2021-09-20 13:27:00,298]\u001b[0m Trial 48 finished with value: 0.0686850355320753 and parameters: {'reg_alpha': 0.028352017339492053, 'reg_lambda': 8.909301096201313, 'colsample_bytree': 1.0, 'subsample': 0.6, 'learning_rate': 0.27147118020821703, 'max_depth': 38, 'num_leaves': 539, 'min_child_samples': 28}. Best is trial 13 with value: 0.0660246607248027.\u001b[0m\n",
      "\u001b[32m[I 2021-09-20 13:27:26,609]\u001b[0m Trial 49 finished with value: 0.10064952988500239 and parameters: {'reg_alpha': 0.06440463120216848, 'reg_lambda': 0.05416911024710188, 'colsample_bytree': 1.0, 'subsample': 0.6, 'learning_rate': 0.02498060604646323, 'max_depth': 26, 'num_leaves': 492, 'min_child_samples': 298}. Best is trial 13 with value: 0.0660246607248027.\u001b[0m\n"
     ]
    }
   ],
   "source": [
    "study = optuna.create_study(direction='minimize')\n",
    "study.optimize(objective_wp1, n_trials=50)\n",
    "#write_results('Data/Hyperparametrization/lgbm_vmd_50trials_cv.xlsx', 'wp1', study.trials_dataframe())\n",
    "params_1=study.best_trial.params\n",
    "#best_trial"
   ]
  },
  {
   "cell_type": "code",
   "execution_count": 17,
   "id": "9043340a-fa94-4c3c-aff4-a0124bfc6654",
   "metadata": {},
   "outputs": [],
   "source": [
    "#optuna.logging.set_verbosity(0)"
   ]
  },
  {
   "cell_type": "code",
   "execution_count": 18,
   "id": "83be5c41-427b-49ab-bbbb-55cd2a8f9242",
   "metadata": {},
   "outputs": [
    {
     "data": {
      "text/plain": [
       "20"
      ]
     },
     "execution_count": 18,
     "metadata": {},
     "output_type": "execute_result"
    }
   ],
   "source": [
    "optuna.logging.get_verbosity()"
   ]
  },
  {
   "cell_type": "code",
   "execution_count": 19,
   "id": "62fa5359-b84c-432d-aef1-f78eb5d71749",
   "metadata": {},
   "outputs": [
    {
     "data": {
      "text/plain": [
       "{'reg_alpha': 0.018078983057199488,\n",
       " 'reg_lambda': 0.002174603964707146,\n",
       " 'colsample_bytree': 1.0,\n",
       " 'subsample': 1.0,\n",
       " 'learning_rate': 0.11068373388876057,\n",
       " 'max_depth': 49,\n",
       " 'num_leaves': 552,\n",
       " 'min_child_samples': 9}"
      ]
     },
     "execution_count": 19,
     "metadata": {},
     "output_type": "execute_result"
    }
   ],
   "source": [
    "params_1"
   ]
  },
  {
   "cell_type": "code",
   "execution_count": 22,
   "id": "db8ce085-5a12-4114-aa31-73d871ce5b3c",
   "metadata": {},
   "outputs": [
    {
     "name": "stdout",
     "output_type": "stream",
     "text": [
      "-----------LGBM CROSS VALIDATION BEGINNING-----------\n",
      "RMSE score: 0.10052722451502887\n",
      "MAE score: 0.06470481785395771\n",
      "None\n",
      "-------------------FOLD 1-----------------\n",
      "RMSE score: 0.10168527605846683\n",
      "MAE score: 0.06455614996095457\n",
      "None\n",
      "-------------------FOLD 2-----------------\n",
      "RMSE score: 0.100693139684104\n",
      "MAE score: 0.06581741750655307\n",
      "None\n",
      "-------------------FOLD 3-----------------\n",
      "RMSE score: 0.10691986902185474\n",
      "MAE score: 0.06808964934479528\n",
      "None\n",
      "-------------------FOLD 4-----------------\n",
      "RMSE score: 0.10579764147593695\n",
      "MAE score: 0.06807591151598474\n",
      "None\n",
      "-------------------FOLD 5-----------------\n",
      "---------------CROSS VALIDATION COMPLETE-------------\n",
      "--------------------------RMSE-----------------------\n",
      "Scores: [0.10052722451502887, 0.10168527605846683, 0.100693139684104, 0.10691986902185474, 0.10579764147593695]\n",
      "Mean: 0.10312463015107828\n",
      "Std: 0.0026936677509359136\n",
      "--------------------------MAE------------------------\n",
      "Scores: [0.06470481785395771, 0.06455614996095457, 0.06581741750655307, 0.06808964934479528, 0.06807591151598474]\n",
      "Mean: 0.06624878923644907\n",
      "Std: 0.0015596216643230076\n"
     ]
    }
   ],
   "source": [
    "lgbm_scaled_cross_validation(X=X1,y=y1, params=params_1,cv=5)"
   ]
  },
  {
   "cell_type": "markdown",
   "id": "2d4d08ad-3af3-408b-8834-57c1349d328a",
   "metadata": {},
   "source": [
    "## WP2"
   ]
  },
  {
   "cell_type": "markdown",
   "id": "61678924-2941-418d-93bf-84336d13fc89",
   "metadata": {},
   "source": [
    "| |  | Mean | Std | Sum up|\n",
    "| --- | --- | --- | --- | |\n",
    "| No params | RMSE | 0.10935335541057582 | 0.0014425096116734836 | |\n",
    "| No params - StandardScaler | RMSE | 0.10938240918068962 | 0.002563571983412213 |  |\n",
    "| After tuning - 50trials| RMSE | 0.0725081520968898 | 0.0016974702626377217 | |\n",
    "| After tuning 100trials| RMSE | 0.0707064364904941 | 0.001396820290618349 | More stable, to keep |\n",
    "| After tuning W.S. 50trials - StandardScaler | RMSE | 0.07072007438762447 | 0.0010396359382112443 | With 100trials parameters |\n",
    "| After tuning W.S. 50trials - RobustScaler | RMSE | 0.07014346508497502 | 0.0013671602187583412 | |\n",
    "| 50 trials per vmf - RobustScaler | RMSE | 0.06362570142793085 |0.001287144743120583 | |\n",
    "| --- | --- | --- | --- |---|\n",
    "| No params | MAE | 0.07681923856705511 | 0.0008670825615244791 | |\n",
    "| No params - StandardScaler | MAE | 0.0768829843356125 | 0.0017568758903956435 |  |\n",
    "| After tuning - 50trials| MAE | 0.04512164110351975 |  0.0006579433030966575 | |\n",
    "| After tuning 100trials| MAE | 0.04457902842458915 | 0.0006807155447311589 | |\n",
    "| After tuning W.S. 50trials - StandardScaler | MAE | 0.04456161763710905 | 0.0005342365137369251 | With 100trials parameters |\n",
    "| After tuning W.S. 50trials - RobustScaler | MAE | 0.044471464183373825 | 0.0007098731360466324 | |\n",
    "| 50 trials per vmf - RobustScaler | MAE | 0.04180182904890137 |0.000707244027895384 | |"
   ]
  },
  {
   "cell_type": "code",
   "execution_count": 23,
   "id": "e6b8fee4-9fba-4818-a7df-29cd5d3806ad",
   "metadata": {},
   "outputs": [],
   "source": [
    "wp2_X = train_wp2[[c for c in train_wp2 if c not in [\"wp\"]] + [\"wp\"]].drop(to_drop, axis = 1)\n",
    "X2 = wp2_X.drop('wp', axis=1)\n",
    "y2 = wp2_X['wp']"
   ]
  },
  {
   "cell_type": "code",
   "execution_count": 24,
   "id": "34e2bb44-0e98-427d-baf2-386167bb60ee",
   "metadata": {},
   "outputs": [],
   "source": [
    "def objective_wp2(trial,data=X2,target=y2,cv=5):\n",
    "    #train_x, test_x = create_dataset(data,0)\n",
    "    #train_y,test_y=create_dataset(target,0)\n",
    "    return hyperparametrization_cv(trial, data,target,cv)"
   ]
  },
  {
   "cell_type": "code",
   "execution_count": 25,
   "id": "8c36f1d2-c7b7-4255-a63f-394f02c18294",
   "metadata": {},
   "outputs": [
    {
     "name": "stderr",
     "output_type": "stream",
     "text": [
      "\u001b[32m[I 2021-09-20 13:51:57,623]\u001b[0m A new study created in memory with name: no-name-46c9ef4c-25a6-426d-9cf8-5e9ea6f0667e\u001b[0m\n",
      "\u001b[32m[I 2021-09-20 13:52:20,776]\u001b[0m Trial 0 finished with value: 0.1213184581008508 and parameters: {'reg_alpha': 0.10570820429041153, 'reg_lambda': 2.0257743833060546, 'colsample_bytree': 0.3, 'subsample': 0.5, 'learning_rate': 0.017639060775824406, 'max_depth': 72, 'num_leaves': 940, 'min_child_samples': 137}. Best is trial 0 with value: 0.1213184581008508.\u001b[0m\n",
      "\u001b[32m[I 2021-09-20 13:53:03,511]\u001b[0m Trial 1 finished with value: 0.20692303868201672 and parameters: {'reg_alpha': 0.012166727964453908, 'reg_lambda': 4.080894028014074, 'colsample_bytree': 1.0, 'subsample': 0.4, 'learning_rate': 0.0012969444877625011, 'max_depth': 51, 'num_leaves': 811, 'min_child_samples': 46}. Best is trial 0 with value: 0.1213184581008508.\u001b[0m\n",
      "\u001b[32m[I 2021-09-20 13:53:31,397]\u001b[0m Trial 2 finished with value: 0.20759802200298197 and parameters: {'reg_alpha': 0.8760125296592365, 'reg_lambda': 0.0037169179335576714, 'colsample_bytree': 0.8, 'subsample': 1.0, 'learning_rate': 0.001310446329218152, 'max_depth': 33, 'num_leaves': 761, 'min_child_samples': 102}. Best is trial 0 with value: 0.1213184581008508.\u001b[0m\n",
      "\u001b[32m[I 2021-09-20 13:54:00,339]\u001b[0m Trial 3 finished with value: 0.08000824663449055 and parameters: {'reg_alpha': 1.6691787932542466, 'reg_lambda': 0.0013476644946211092, 'colsample_bytree': 0.3, 'subsample': 0.8, 'learning_rate': 0.2188943050235435, 'max_depth': 83, 'num_leaves': 221, 'min_child_samples': 1}. Best is trial 3 with value: 0.08000824663449055.\u001b[0m\n",
      "\u001b[32m[I 2021-09-20 13:54:22,455]\u001b[0m Trial 4 finished with value: 0.1883343174149519 and parameters: {'reg_alpha': 0.0021379237754821597, 'reg_lambda': 5.1543595110428635, 'colsample_bytree': 0.4, 'subsample': 0.8, 'learning_rate': 0.003500810506325385, 'max_depth': 79, 'num_leaves': 839, 'min_child_samples': 218}. Best is trial 3 with value: 0.08000824663449055.\u001b[0m\n",
      "\u001b[32m[I 2021-09-20 13:54:49,780]\u001b[0m Trial 5 finished with value: 0.21108514802779496 and parameters: {'reg_alpha': 0.03564513288083681, 'reg_lambda': 4.009789834926884, 'colsample_bytree': 0.9, 'subsample': 0.7, 'learning_rate': 0.001039449124871984, 'max_depth': 81, 'num_leaves': 688, 'min_child_samples': 128}. Best is trial 3 with value: 0.08000824663449055.\u001b[0m\n",
      "\u001b[32m[I 2021-09-20 13:55:10,518]\u001b[0m Trial 6 finished with value: 0.20358644566310707 and parameters: {'reg_alpha': 1.0449072229496865, 'reg_lambda': 3.7339851692254427, 'colsample_bytree': 0.7, 'subsample': 1.0, 'learning_rate': 0.001734334749109311, 'max_depth': 97, 'num_leaves': 320, 'min_child_samples': 231}. Best is trial 3 with value: 0.08000824663449055.\u001b[0m\n",
      "\u001b[32m[I 2021-09-20 13:55:36,338]\u001b[0m Trial 7 finished with value: 0.07372574110327404 and parameters: {'reg_alpha': 0.023745572841188913, 'reg_lambda': 0.0035435097468941436, 'colsample_bytree': 0.6, 'subsample': 0.5, 'learning_rate': 0.21055278379770398, 'max_depth': 48, 'num_leaves': 200, 'min_child_samples': 83}. Best is trial 7 with value: 0.07372574110327404.\u001b[0m\n",
      "\u001b[32m[I 2021-09-20 13:55:56,020]\u001b[0m Trial 8 finished with value: 0.07947320098370905 and parameters: {'reg_alpha': 0.0035173117438417898, 'reg_lambda': 8.145190141172337, 'colsample_bytree': 0.6, 'subsample': 0.8, 'learning_rate': 0.24778012603911134, 'max_depth': 20, 'num_leaves': 70, 'min_child_samples': 107}. Best is trial 7 with value: 0.07372574110327404.\u001b[0m\n",
      "\u001b[32m[I 2021-09-20 13:56:18,056]\u001b[0m Trial 9 finished with value: 0.08189917320001247 and parameters: {'reg_alpha': 3.183818526089379, 'reg_lambda': 0.05152837453822465, 'colsample_bytree': 0.4, 'subsample': 0.4, 'learning_rate': 0.11841161236302589, 'max_depth': 69, 'num_leaves': 316, 'min_child_samples': 100}. Best is trial 7 with value: 0.07372574110327404.\u001b[0m\n",
      "\u001b[32m[I 2021-09-20 13:56:39,205]\u001b[0m Trial 10 finished with value: 0.09445086690888041 and parameters: {'reg_alpha': 0.14514570278921962, 'reg_lambda': 0.02128148223592473, 'colsample_bytree': 0.5, 'subsample': 0.5, 'learning_rate': 0.04508077552815275, 'max_depth': 51, 'num_leaves': 508, 'min_child_samples': 293}. Best is trial 7 with value: 0.07372574110327404.\u001b[0m\n",
      "\u001b[32m[I 2021-09-20 13:56:56,644]\u001b[0m Trial 11 finished with value: 0.09005931283428072 and parameters: {'reg_alpha': 0.0013754632062797476, 'reg_lambda': 0.383092477284956, 'colsample_bytree': 0.6, 'subsample': 0.6, 'learning_rate': 0.28763692506631194, 'max_depth': 21, 'num_leaves': 21, 'min_child_samples': 61}. Best is trial 7 with value: 0.07372574110327404.\u001b[0m\n",
      "\u001b[32m[I 2021-09-20 13:57:13,714]\u001b[0m Trial 12 finished with value: 0.10261027424037365 and parameters: {'reg_alpha': 0.005556459801544192, 'reg_lambda': 0.47602027042272593, 'colsample_bytree': 0.6, 'subsample': 0.8, 'learning_rate': 0.07973522409933005, 'max_depth': 41, 'num_leaves': 12, 'min_child_samples': 193}. Best is trial 7 with value: 0.07372574110327404.\u001b[0m\n",
      "\u001b[32m[I 2021-09-20 13:57:39,219]\u001b[0m Trial 13 finished with value: 0.08964939720638157 and parameters: {'reg_alpha': 0.01817112594681022, 'reg_lambda': 0.010238667577748158, 'colsample_bytree': 0.6, 'subsample': 0.5, 'learning_rate': 0.035634349689502715, 'max_depth': 20, 'num_leaves': 157, 'min_child_samples': 57}. Best is trial 7 with value: 0.07372574110327404.\u001b[0m\n",
      "\u001b[32m[I 2021-09-20 13:58:03,830]\u001b[0m Trial 14 finished with value: 0.15366108498085176 and parameters: {'reg_alpha': 0.004382713091507151, 'reg_lambda': 0.18351526666503182, 'colsample_bytree': 0.6, 'subsample': 0.6, 'learning_rate': 0.0074451152094402425, 'max_depth': 34, 'num_leaves': 469, 'min_child_samples': 174}. Best is trial 7 with value: 0.07372574110327404.\u001b[0m\n",
      "\u001b[32m[I 2021-09-20 13:58:28,149]\u001b[0m Trial 15 finished with value: 0.0756392582277897 and parameters: {'reg_alpha': 0.042414287643397004, 'reg_lambda': 0.03861312078779748, 'colsample_bytree': 0.6, 'subsample': 0.7, 'learning_rate': 0.1398931188075358, 'max_depth': 55, 'num_leaves': 150, 'min_child_samples': 98}. Best is trial 7 with value: 0.07372574110327404.\u001b[0m\n",
      "\u001b[32m[I 2021-09-20 13:59:16,384]\u001b[0m Trial 16 finished with value: 0.06946807136766432 and parameters: {'reg_alpha': 0.2924213005077402, 'reg_lambda': 0.006983594249555895, 'colsample_bytree': 0.9, 'subsample': 0.7, 'learning_rate': 0.1191365339869242, 'max_depth': 57, 'num_leaves': 465, 'min_child_samples': 17}. Best is trial 16 with value: 0.06946807136766432.\u001b[0m\n",
      "\u001b[32m[I 2021-09-20 14:00:14,844]\u001b[0m Trial 17 finished with value: 0.07342468425880737 and parameters: {'reg_alpha': 0.32165794238329276, 'reg_lambda': 0.004861157594017113, 'colsample_bytree': 0.9, 'subsample': 0.7, 'learning_rate': 0.053262858951529275, 'max_depth': 63, 'num_leaves': 518, 'min_child_samples': 5}. Best is trial 16 with value: 0.06946807136766432.\u001b[0m\n",
      "\u001b[32m[I 2021-09-20 14:01:09,973]\u001b[0m Trial 18 finished with value: 0.0746283030375139 and parameters: {'reg_alpha': 0.2986000016061643, 'reg_lambda': 0.007360097089305169, 'colsample_bytree': 0.9, 'subsample': 0.7, 'learning_rate': 0.04686564170598557, 'max_depth': 63, 'num_leaves': 574, 'min_child_samples': 14}. Best is trial 16 with value: 0.06946807136766432.\u001b[0m\n",
      "\u001b[32m[I 2021-09-20 14:01:35,784]\u001b[0m Trial 19 finished with value: 0.11213929901686934 and parameters: {'reg_alpha': 6.324965852690658, 'reg_lambda': 0.0011090747905373086, 'colsample_bytree': 0.9, 'subsample': 0.7, 'learning_rate': 0.01917266427955544, 'max_depth': 61, 'num_leaves': 415, 'min_child_samples': 31}. Best is trial 16 with value: 0.06946807136766432.\u001b[0m\n",
      "\u001b[32m[I 2021-09-20 14:02:21,688]\u001b[0m Trial 20 finished with value: 0.13479672681352317 and parameters: {'reg_alpha': 0.5231239757116988, 'reg_lambda': 0.012564248373221074, 'colsample_bytree': 0.9, 'subsample': 0.7, 'learning_rate': 0.008990414176665087, 'max_depth': 93, 'num_leaves': 675, 'min_child_samples': 25}. Best is trial 16 with value: 0.06946807136766432.\u001b[0m\n",
      "\u001b[32m[I 2021-09-20 14:02:58,233]\u001b[0m Trial 21 finished with value: 0.07318953742717207 and parameters: {'reg_alpha': 0.21691503300696768, 'reg_lambda': 0.0037194227858324005, 'colsample_bytree': 0.9, 'subsample': 0.5, 'learning_rate': 0.0863631689941337, 'max_depth': 43, 'num_leaves': 339, 'min_child_samples': 73}. Best is trial 16 with value: 0.06946807136766432.\u001b[0m\n",
      "\u001b[32m[I 2021-09-20 14:03:46,438]\u001b[0m Trial 22 finished with value: 0.07117788032676517 and parameters: {'reg_alpha': 0.28770105115771377, 'reg_lambda': 0.0035833827801281387, 'colsample_bytree': 0.9, 'subsample': 0.7, 'learning_rate': 0.08339944249894399, 'max_depth': 43, 'num_leaves': 350, 'min_child_samples': 2}. Best is trial 16 with value: 0.06946807136766432.\u001b[0m\n",
      "\u001b[32m[I 2021-09-20 14:04:23,362]\u001b[0m Trial 23 finished with value: 0.07241677235357893 and parameters: {'reg_alpha': 0.18037226007718155, 'reg_lambda': 0.002143232884127332, 'colsample_bytree': 0.9, 'subsample': 0.7, 'learning_rate': 0.09970429009880764, 'max_depth': 37, 'num_leaves': 355, 'min_child_samples': 71}. Best is trial 16 with value: 0.06946807136766432.\u001b[0m\n",
      "\u001b[32m[I 2021-09-20 14:05:07,607]\u001b[0m Trial 24 finished with value: 0.08678834550170857 and parameters: {'reg_alpha': 0.06686427320699959, 'reg_lambda': 0.0017123164992410842, 'colsample_bytree': 0.9, 'subsample': 0.7, 'learning_rate': 0.02808040604080011, 'max_depth': 33, 'num_leaves': 432, 'min_child_samples': 41}. Best is trial 16 with value: 0.06946807136766432.\u001b[0m\n",
      "\u001b[32m[I 2021-09-20 14:05:41,003]\u001b[0m Trial 25 finished with value: 0.07387608369966911 and parameters: {'reg_alpha': 0.5991495320407684, 'reg_lambda': 0.02224454677778189, 'colsample_bytree': 0.5, 'subsample': 0.7, 'learning_rate': 0.08114820746496502, 'max_depth': 39, 'num_leaves': 375, 'min_child_samples': 32}. Best is trial 16 with value: 0.06946807136766432.\u001b[0m\n",
      "\u001b[32m[I 2021-09-20 14:06:21,914]\u001b[0m Trial 26 finished with value: 0.071611512192955 and parameters: {'reg_alpha': 0.10985074802645496, 'reg_lambda': 0.0023258455857500483, 'colsample_bytree': 1.0, 'subsample': 0.7, 'learning_rate': 0.12450854696714607, 'max_depth': 28, 'num_leaves': 603, 'min_child_samples': 64}. Best is trial 16 with value: 0.06946807136766432.\u001b[0m\n",
      "\u001b[32m[I 2021-09-20 14:07:35,203]\u001b[0m Trial 27 finished with value: 0.0700607976145727 and parameters: {'reg_alpha': 0.08758836102570047, 'reg_lambda': 0.10039620178303169, 'colsample_bytree': 1.0, 'subsample': 0.7, 'learning_rate': 0.1712145247904877, 'max_depth': 27, 'num_leaves': 612, 'min_child_samples': 4}. Best is trial 16 with value: 0.06946807136766432.\u001b[0m\n",
      "\u001b[32m[I 2021-09-20 14:08:47,561]\u001b[0m Trial 28 finished with value: 0.07015137004489032 and parameters: {'reg_alpha': 0.0703357633242074, 'reg_lambda': 0.16215590967104146, 'colsample_bytree': 1.0, 'subsample': 0.7, 'learning_rate': 0.15534161001061567, 'max_depth': 56, 'num_leaves': 614, 'min_child_samples': 2}. Best is trial 16 with value: 0.06946807136766432.\u001b[0m\n",
      "\u001b[32m[I 2021-09-20 14:09:17,766]\u001b[0m Trial 29 finished with value: 0.104269009267182 and parameters: {'reg_alpha': 0.06844542850633058, 'reg_lambda': 1.2070870939686804, 'colsample_bytree': 1.0, 'subsample': 0.6, 'learning_rate': 0.02183510953205721, 'max_depth': 57, 'num_leaves': 997, 'min_child_samples': 155}. Best is trial 16 with value: 0.06946807136766432.\u001b[0m\n",
      "\u001b[32m[I 2021-09-20 14:10:16,337]\u001b[0m Trial 30 finished with value: 0.07103843814932276 and parameters: {'reg_alpha': 0.00792266317186833, 'reg_lambda': 0.11268454936325462, 'colsample_bytree': 1.0, 'subsample': 0.4, 'learning_rate': 0.17452243061476275, 'max_depth': 71, 'num_leaves': 622, 'min_child_samples': 23}. Best is trial 16 with value: 0.06946807136766432.\u001b[0m\n",
      "\u001b[32m[I 2021-09-20 14:11:13,106]\u001b[0m Trial 31 finished with value: 0.07092887950325388 and parameters: {'reg_alpha': 0.006817743238483632, 'reg_lambda': 0.1139760160274726, 'colsample_bytree': 1.0, 'subsample': 0.4, 'learning_rate': 0.16799728807015674, 'max_depth': 71, 'num_leaves': 603, 'min_child_samples': 23}. Best is trial 16 with value: 0.06946807136766432.\u001b[0m\n",
      "\u001b[32m[I 2021-09-20 14:12:13,436]\u001b[0m Trial 32 finished with value: 0.07149518847502019 and parameters: {'reg_alpha': 0.01244864619356283, 'reg_lambda': 0.2118630692555737, 'colsample_bytree': 1.0, 'subsample': 0.4, 'learning_rate': 0.17476011213101358, 'max_depth': 76, 'num_leaves': 733, 'min_child_samples': 44}. Best is trial 16 with value: 0.06946807136766432.\u001b[0m\n",
      "\u001b[32m[I 2021-09-20 14:13:11,191]\u001b[0m Trial 33 finished with value: 0.07180138657549272 and parameters: {'reg_alpha': 0.058464678781778655, 'reg_lambda': 0.0719939431498393, 'colsample_bytree': 1.0, 'subsample': 0.4, 'learning_rate': 0.06233822579199177, 'max_depth': 69, 'num_leaves': 559, 'min_child_samples': 21}. Best is trial 16 with value: 0.06946807136766432.\u001b[0m\n",
      "\u001b[32m[I 2021-09-20 14:14:04,514]\u001b[0m Trial 34 finished with value: 0.07577254461198558 and parameters: {'reg_alpha': 0.02092057384473914, 'reg_lambda': 0.6577287869655937, 'colsample_bytree': 0.8, 'subsample': 1.0, 'learning_rate': 0.2949348301125938, 'max_depth': 89, 'num_leaves': 823, 'min_child_samples': 44}. Best is trial 16 with value: 0.06946807136766432.\u001b[0m\n",
      "\u001b[32m[I 2021-09-20 14:15:00,305]\u001b[0m Trial 35 finished with value: 0.07679475159294676 and parameters: {'reg_alpha': 0.10004211917144723, 'reg_lambda': 0.1364074367876521, 'colsample_bytree': 0.3, 'subsample': 0.4, 'learning_rate': 0.13985404864449158, 'max_depth': 49, 'num_leaves': 899, 'min_child_samples': 1}. Best is trial 16 with value: 0.06946807136766432.\u001b[0m\n",
      "\u001b[32m[I 2021-09-20 14:15:28,349]\u001b[0m Trial 36 finished with value: 0.07482653846637925 and parameters: {'reg_alpha': 1.501027886402911, 'reg_lambda': 0.24294190578032707, 'colsample_bytree': 1.0, 'subsample': 0.7, 'learning_rate': 0.17890743290144684, 'max_depth': 66, 'num_leaves': 647, 'min_child_samples': 128}. Best is trial 16 with value: 0.06946807136766432.\u001b[0m\n",
      "\u001b[32m[I 2021-09-20 14:16:26,168]\u001b[0m Trial 37 finished with value: 0.11645649528493358 and parameters: {'reg_alpha': 0.036165309620383154, 'reg_lambda': 0.07568007435233284, 'colsample_bytree': 0.7, 'subsample': 1.0, 'learning_rate': 0.01216585483590368, 'max_depth': 74, 'num_leaves': 716, 'min_child_samples': 15}. Best is trial 16 with value: 0.06946807136766432.\u001b[0m\n",
      "\u001b[32m[I 2021-09-20 14:17:08,924]\u001b[0m Trial 38 finished with value: 0.07528493110370992 and parameters: {'reg_alpha': 0.5321653551721085, 'reg_lambda': 0.03295320125452241, 'colsample_bytree': 1.0, 'subsample': 0.4, 'learning_rate': 0.06356279250536842, 'max_depth': 56, 'num_leaves': 776, 'min_child_samples': 52}. Best is trial 16 with value: 0.06946807136766432.\u001b[0m\n",
      "\u001b[32m[I 2021-09-20 14:17:48,914]\u001b[0m Trial 39 finished with value: 0.07250695740947402 and parameters: {'reg_alpha': 0.0023630285236242755, 'reg_lambda': 1.0458078582715842, 'colsample_bytree': 1.0, 'subsample': 0.7, 'learning_rate': 0.20935533320620217, 'max_depth': 85, 'num_leaves': 555, 'min_child_samples': 86}. Best is trial 16 with value: 0.06946807136766432.\u001b[0m\n",
      "\u001b[32m[I 2021-09-20 14:18:31,654]\u001b[0m Trial 40 finished with value: 0.07021412550349868 and parameters: {'reg_alpha': 0.012905087142265338, 'reg_lambda': 0.32107845075219865, 'colsample_bytree': 0.8, 'subsample': 0.8, 'learning_rate': 0.12377806281779058, 'max_depth': 26, 'num_leaves': 452, 'min_child_samples': 34}. Best is trial 16 with value: 0.06946807136766432.\u001b[0m\n",
      "\u001b[32m[I 2021-09-20 14:19:14,373]\u001b[0m Trial 41 finished with value: 0.0699844355549141 and parameters: {'reg_alpha': 0.010629321417220654, 'reg_lambda': 0.3074688510768993, 'colsample_bytree': 0.8, 'subsample': 0.8, 'learning_rate': 0.11076465877463161, 'max_depth': 27, 'num_leaves': 458, 'min_child_samples': 35}. Best is trial 16 with value: 0.06946807136766432.\u001b[0m\n",
      "\u001b[32m[I 2021-09-20 14:19:54,459]\u001b[0m Trial 42 finished with value: 0.07040293001540988 and parameters: {'reg_alpha': 0.009921864052028485, 'reg_lambda': 0.3008945500871196, 'colsample_bytree': 0.8, 'subsample': 0.8, 'learning_rate': 0.10760256410964178, 'max_depth': 26, 'num_leaves': 424, 'min_child_samples': 41}. Best is trial 16 with value: 0.06946807136766432.\u001b[0m\n",
      "\u001b[32m[I 2021-09-20 14:20:17,424]\u001b[0m Trial 43 finished with value: 0.07948784377009124 and parameters: {'reg_alpha': 0.01352467052453734, 'reg_lambda': 2.2961260448258023, 'colsample_bytree': 0.8, 'subsample': 0.8, 'learning_rate': 0.23284520368074002, 'max_depth': 26, 'num_leaves': 287, 'min_child_samples': 265}. Best is trial 16 with value: 0.06946807136766432.\u001b[0m\n",
      "\u001b[32m[I 2021-09-20 14:21:04,431]\u001b[0m Trial 44 finished with value: 0.06942036977812865 and parameters: {'reg_alpha': 0.029402734043432143, 'reg_lambda': 0.45456212808233626, 'colsample_bytree': 0.8, 'subsample': 0.8, 'learning_rate': 0.13658229494995808, 'max_depth': 29, 'num_leaves': 465, 'min_child_samples': 13}. Best is trial 44 with value: 0.06942036977812865.\u001b[0m\n",
      "\u001b[32m[I 2021-09-20 14:21:57,879]\u001b[0m Trial 45 finished with value: 0.18639423868554258 and parameters: {'reg_alpha': 0.031173814804351364, 'reg_lambda': 0.7061751893599583, 'colsample_bytree': 0.8, 'subsample': 0.8, 'learning_rate': 0.002849664255194691, 'max_depth': 29, 'num_leaves': 518, 'min_child_samples': 10}. Best is trial 44 with value: 0.06942036977812865.\u001b[0m\n",
      "\u001b[32m[I 2021-09-20 14:22:36,669]\u001b[0m Trial 46 finished with value: 0.07607795875367246 and parameters: {'reg_alpha': 0.13138685327796637, 'reg_lambda': 0.4596479870386709, 'colsample_bytree': 0.3, 'subsample': 0.8, 'learning_rate': 0.0723678952442079, 'max_depth': 23, 'num_leaves': 480, 'min_child_samples': 1}. Best is trial 44 with value: 0.06942036977812865.\u001b[0m\n",
      "\u001b[32m[I 2021-09-20 14:23:01,682]\u001b[0m Trial 47 finished with value: 0.09134128927328175 and parameters: {'reg_alpha': 0.057102442716302486, 'reg_lambda': 0.1695877979383753, 'colsample_bytree': 0.4, 'subsample': 0.8, 'learning_rate': 0.0366843133068661, 'max_depth': 46, 'num_leaves': 263, 'min_child_samples': 115}. Best is trial 44 with value: 0.06942036977812865.\u001b[0m\n",
      "\u001b[32m[I 2021-09-20 14:23:39,876]\u001b[0m Trial 48 finished with value: 0.07083297057014301 and parameters: {'reg_alpha': 0.027473845958371202, 'reg_lambda': 0.052467010196822414, 'colsample_bytree': 0.8, 'subsample': 0.8, 'learning_rate': 0.14873919286214823, 'max_depth': 31, 'num_leaves': 392, 'min_child_samples': 53}. Best is trial 44 with value: 0.06942036977812865.\u001b[0m\n",
      "\u001b[32m[I 2021-09-20 14:24:14,188]\u001b[0m Trial 49 finished with value: 0.07304599919652081 and parameters: {'reg_alpha': 0.0791729988689157, 'reg_lambda': 1.4199763315463776, 'colsample_bytree': 0.7, 'subsample': 0.6, 'learning_rate': 0.10205169941752036, 'max_depth': 37, 'num_leaves': 530, 'min_child_samples': 79}. Best is trial 44 with value: 0.06942036977812865.\u001b[0m\n"
     ]
    }
   ],
   "source": [
    "study = optuna.create_study(direction='minimize')\n",
    "study.optimize(objective_wp2, n_trials=50)\n",
    "#write_results('Data/Hyperparametrization/lgbm_vmd_50trials_cv.xlsx', 'wp1', study.trials_dataframe())\n",
    "params_2=study.best_trial.params\n",
    "#best_trial"
   ]
  },
  {
   "cell_type": "code",
   "execution_count": 26,
   "id": "7cf6d1ae-6ce5-4072-81e7-e3260f03c085",
   "metadata": {},
   "outputs": [
    {
     "data": {
      "text/plain": [
       "{'reg_alpha': 0.029402734043432143,\n",
       " 'reg_lambda': 0.45456212808233626,\n",
       " 'colsample_bytree': 0.8,\n",
       " 'subsample': 0.8,\n",
       " 'learning_rate': 0.13658229494995808,\n",
       " 'max_depth': 29,\n",
       " 'num_leaves': 465,\n",
       " 'min_child_samples': 13}"
      ]
     },
     "execution_count": 26,
     "metadata": {},
     "output_type": "execute_result"
    }
   ],
   "source": [
    "params_2"
   ]
  },
  {
   "cell_type": "code",
   "execution_count": 27,
   "id": "bf5a9ed4-82f3-432e-b648-48ed4649db59",
   "metadata": {},
   "outputs": [
    {
     "name": "stdout",
     "output_type": "stream",
     "text": [
      "-----------LGBM CROSS VALIDATION BEGINNING-----------\n",
      "RMSE score: 0.10053975151190245\n",
      "MAE score: 0.06502171920829278\n",
      "None\n",
      "-------------------FOLD 1-----------------\n",
      "RMSE score: 0.1134078708101767\n",
      "MAE score: 0.07468897852392722\n",
      "None\n",
      "-------------------FOLD 2-----------------\n",
      "RMSE score: 0.11153925835927998\n",
      "MAE score: 0.07232049986577652\n",
      "None\n",
      "-------------------FOLD 3-----------------\n",
      "RMSE score: 0.10207558696622762\n",
      "MAE score: 0.06666172738125264\n",
      "None\n",
      "-------------------FOLD 4-----------------\n",
      "RMSE score: 0.1057548915869517\n",
      "MAE score: 0.06703597850596066\n",
      "None\n",
      "-------------------FOLD 5-----------------\n",
      "---------------CROSS VALIDATION COMPLETE-------------\n",
      "--------------------------RMSE-----------------------\n",
      "Scores: [0.10053975151190245, 0.1134078708101767, 0.11153925835927998, 0.10207558696622762, 0.1057548915869517]\n",
      "Mean: 0.10666347184690769\n",
      "Std: 0.005072166558749562\n",
      "--------------------------MAE------------------------\n",
      "Scores: [0.06502171920829278, 0.07468897852392722, 0.07232049986577652, 0.06666172738125264, 0.06703597850596066]\n",
      "Mean: 0.06914578069704196\n",
      "Std: 0.0036996095273008375\n"
     ]
    }
   ],
   "source": [
    "lgbm_scaled_cross_validation(X=X2,y=y2, params=params_2,cv=5)"
   ]
  },
  {
   "cell_type": "markdown",
   "id": "966468d2-d1a2-4c0a-a190-c37d85ef61f5",
   "metadata": {},
   "source": [
    "## WP3"
   ]
  },
  {
   "cell_type": "markdown",
   "id": "4c9c1b64-7897-4824-92b2-8f6ac0236b43",
   "metadata": {},
   "source": [
    "| |  | Mean | Std ||\n",
    "| --- | --- | --- | --- ||\n",
    "| No params | RMSE | 0.10392558077951244 | 0.0019038044796542812 ||\n",
    "| No params - StandardScaler | RMSE | 0.10354114984428979 | 0.0013629826554706927 ||\n",
    "| After tuning - 50trials| RMSE | 0.058253804820626545 | 0.0009893279354834155 | More stable, to keep |\n",
    "| After tuning - 100trials| RMSE | 0.058338944346627106 | 0.0017133930174837203 ||\n",
    "| After tuning W.S. - 50trials - StandardScaler | RMSE | 0.05839355310487706 | 0.0009599824558874801 ||\n",
    "| After tuning - 50trial - StandardScaler | RMSE | 0.05828701989178382 | 0.0013469437248627486 | with 50trials best|\n",
    "| After tuning - 50trial W.S. - RobustScaler | RMSE | 0.05907568414783913 | 0.0010120672015320588 | |\n",
    "| 50 trials per vmf - RobustScaler | RMSE | 0.055222505478173776 |0.001617631570145444 | |\n",
    "| --- | --- | --- | --- | --- |\n",
    "| No params | MAE | 0.07550802464973318 | 0.0012006073434917633 ||\n",
    "| No params - StandardScaler | MAE | 0.0753220326933334 | 0.0007353049410651828 | |\n",
    "| After tuning - 50trials| MAE | 0.03787310900962521 | 0.000442034368456366 ||\n",
    "| After tuning - 100trials| MAE | 0.03838030476025398 | 0.0007480100565996748 ||\n",
    "| After tuning W.S. - 50trials -StandardScaler | MAE | 0.03838277636708219 | 0.0006195357541130345 ||\n",
    "| After tuning - 50trials - StandardScaler | MAE | 0.03796602386426936 | 0.0006588818520419181 | with 50trials best|\n",
    "| After tuning - 50trial W.S. - RobustScaler | MAE | 0.03824961618901729 | 0.0007043585347168141 | |\n",
    "| 50 trials per vmf - RobustScaler | MAE | 0.03743940912757508 |0.0007763774066394942 | |\n"
   ]
  },
  {
   "cell_type": "code",
   "execution_count": 28,
   "id": "1a19adfe-a591-4616-827c-70140477879b",
   "metadata": {},
   "outputs": [],
   "source": [
    "wp3_X = train_wp3[[c for c in train_wp3 if c not in [\"wp\"]] + [\"wp\"]].drop(to_drop, axis = 1)\n",
    "X3 = wp3_X.drop('wp', axis = 1)\n",
    "y3 = wp3_X['wp']\n"
   ]
  },
  {
   "cell_type": "code",
   "execution_count": 29,
   "id": "0e0451e0-9ca8-431e-898a-a3bff71b8425",
   "metadata": {},
   "outputs": [],
   "source": [
    "def objective_wp3(trial,data=X3,target=y3,cv=5):\n",
    "    #train_x, test_x = create_dataset(data,0)\n",
    "    #train_y,test_y=create_dataset(target,0)\n",
    "    return hyperparametrization_cv(trial, data,target,cv)"
   ]
  },
  {
   "cell_type": "code",
   "execution_count": 30,
   "id": "f5260271-fe42-43b8-b2c4-aed5c4577061",
   "metadata": {},
   "outputs": [
    {
     "name": "stderr",
     "output_type": "stream",
     "text": [
      "\u001b[32m[I 2021-09-20 14:25:03,779]\u001b[0m A new study created in memory with name: no-name-9d6e85e5-7902-48cd-a8b0-00bd9385402a\u001b[0m\n",
      "\u001b[32m[I 2021-09-20 14:25:29,903]\u001b[0m Trial 0 finished with value: 0.0737859413859929 and parameters: {'reg_alpha': 0.015223898666486832, 'reg_lambda': 0.5094496125761684, 'colsample_bytree': 0.7, 'subsample': 0.5, 'learning_rate': 0.2863687132539241, 'max_depth': 77, 'num_leaves': 376, 'min_child_samples': 163}. Best is trial 0 with value: 0.0737859413859929.\u001b[0m\n",
      "\u001b[32m[I 2021-09-20 14:25:56,720]\u001b[0m Trial 1 finished with value: 0.2060964095648755 and parameters: {'reg_alpha': 0.0055760760574993335, 'reg_lambda': 4.29795782944928, 'colsample_bytree': 0.8, 'subsample': 0.8, 'learning_rate': 0.0012803638594326876, 'max_depth': 47, 'num_leaves': 532, 'min_child_samples': 195}. Best is trial 0 with value: 0.0737859413859929.\u001b[0m\n",
      "\u001b[32m[I 2021-09-20 14:26:27,662]\u001b[0m Trial 2 finished with value: 0.17517731017632832 and parameters: {'reg_alpha': 0.0013644246518298884, 'reg_lambda': 0.00480880976781835, 'colsample_bytree': 1.0, 'subsample': 0.5, 'learning_rate': 0.004177983570156385, 'max_depth': 69, 'num_leaves': 512, 'min_child_samples': 182}. Best is trial 0 with value: 0.0737859413859929.\u001b[0m\n",
      "\u001b[32m[I 2021-09-20 14:26:50,631]\u001b[0m Trial 3 finished with value: 0.17953813084400058 and parameters: {'reg_alpha': 0.005319617562681395, 'reg_lambda': 5.730426560320087, 'colsample_bytree': 0.8, 'subsample': 0.8, 'learning_rate': 0.003965239223290195, 'max_depth': 80, 'num_leaves': 297, 'min_child_samples': 245}. Best is trial 0 with value: 0.0737859413859929.\u001b[0m\n",
      "\u001b[32m[I 2021-09-20 14:27:12,691]\u001b[0m Trial 4 finished with value: 0.18807747836465658 and parameters: {'reg_alpha': 0.754330956610963, 'reg_lambda': 0.0018755867287657659, 'colsample_bytree': 0.6, 'subsample': 0.5, 'learning_rate': 0.0031184395795033747, 'max_depth': 69, 'num_leaves': 552, 'min_child_samples': 209}. Best is trial 0 with value: 0.0737859413859929.\u001b[0m\n",
      "\u001b[32m[I 2021-09-20 14:27:51,548]\u001b[0m Trial 5 finished with value: 0.08383571682575207 and parameters: {'reg_alpha': 0.04842685245909655, 'reg_lambda': 5.357866121323416, 'colsample_bytree': 0.7, 'subsample': 1.0, 'learning_rate': 0.03149436454810524, 'max_depth': 80, 'num_leaves': 785, 'min_child_samples': 52}. Best is trial 0 with value: 0.0737859413859929.\u001b[0m\n",
      "\u001b[32m[I 2021-09-20 14:28:14,446]\u001b[0m Trial 6 finished with value: 0.08820834151911136 and parameters: {'reg_alpha': 1.8406815492059236, 'reg_lambda': 2.6819694622315975, 'colsample_bytree': 0.6, 'subsample': 0.6, 'learning_rate': 0.04907520782382624, 'max_depth': 40, 'num_leaves': 213, 'min_child_samples': 141}. Best is trial 0 with value: 0.0737859413859929.\u001b[0m\n",
      "\u001b[32m[I 2021-09-20 14:28:35,056]\u001b[0m Trial 7 finished with value: 0.2045413758424524 and parameters: {'reg_alpha': 4.373083394079491, 'reg_lambda': 1.3761321506436066, 'colsample_bytree': 0.9, 'subsample': 0.6, 'learning_rate': 0.0014703179461386404, 'max_depth': 38, 'num_leaves': 104, 'min_child_samples': 299}. Best is trial 0 with value: 0.0737859413859929.\u001b[0m\n",
      "\u001b[32m[I 2021-09-20 14:29:01,426]\u001b[0m Trial 8 finished with value: 0.1842152977501721 and parameters: {'reg_alpha': 0.0012741768753740592, 'reg_lambda': 0.9245803520536637, 'colsample_bytree': 1.0, 'subsample': 0.7, 'learning_rate': 0.0032508919190899523, 'max_depth': 66, 'num_leaves': 628, 'min_child_samples': 224}. Best is trial 0 with value: 0.0737859413859929.\u001b[0m\n",
      "\u001b[32m[I 2021-09-20 14:29:30,635]\u001b[0m Trial 9 finished with value: 0.08086393855666951 and parameters: {'reg_alpha': 0.021017320221870413, 'reg_lambda': 0.001079956408220113, 'colsample_bytree': 0.4, 'subsample': 0.8, 'learning_rate': 0.04889106148431967, 'max_depth': 81, 'num_leaves': 869, 'min_child_samples': 92}. Best is trial 0 with value: 0.0737859413859929.\u001b[0m\n",
      "\u001b[32m[I 2021-09-20 14:30:06,788]\u001b[0m Trial 10 finished with value: 0.07035820005062643 and parameters: {'reg_alpha': 0.17391728326486233, 'reg_lambda': 0.11050716011423758, 'colsample_bytree': 0.5, 'subsample': 0.4, 'learning_rate': 0.237759161362335, 'max_depth': 100, 'num_leaves': 341, 'min_child_samples': 5}. Best is trial 10 with value: 0.07035820005062643.\u001b[0m\n",
      "\u001b[32m[I 2021-09-20 14:30:38,971]\u001b[0m Trial 11 finished with value: 0.07280395334334955 and parameters: {'reg_alpha': 0.2555311123274797, 'reg_lambda': 0.08713431053367614, 'colsample_bytree': 0.5, 'subsample': 0.4, 'learning_rate': 0.2947747001732997, 'max_depth': 98, 'num_leaves': 329, 'min_child_samples': 25}. Best is trial 10 with value: 0.07035820005062643.\u001b[0m\n",
      "\u001b[32m[I 2021-09-20 14:31:03,010]\u001b[0m Trial 12 finished with value: 0.07430634249451305 and parameters: {'reg_alpha': 0.24588059456350403, 'reg_lambda': 0.04758731710032289, 'colsample_bytree': 0.5, 'subsample': 0.4, 'learning_rate': 0.24203144315791983, 'max_depth': 100, 'num_leaves': 117, 'min_child_samples': 1}. Best is trial 10 with value: 0.07035820005062643.\u001b[0m\n",
      "\u001b[32m[I 2021-09-20 14:31:39,197]\u001b[0m Trial 13 finished with value: 0.06856824920168722 and parameters: {'reg_alpha': 0.28002239040355925, 'reg_lambda': 0.06956756259607397, 'colsample_bytree': 0.5, 'subsample': 0.4, 'learning_rate': 0.09753084926859464, 'max_depth': 97, 'num_leaves': 369, 'min_child_samples': 12}. Best is trial 13 with value: 0.06856824920168722.\u001b[0m\n",
      "\u001b[32m[I 2021-09-20 14:32:06,624]\u001b[0m Trial 14 finished with value: 0.07208647651273935 and parameters: {'reg_alpha': 0.27531771010224954, 'reg_lambda': 0.019949701299183612, 'colsample_bytree': 0.5, 'subsample': 0.4, 'learning_rate': 0.10062633006846883, 'max_depth': 21, 'num_leaves': 387, 'min_child_samples': 93}. Best is trial 13 with value: 0.06856824920168722.\u001b[0m\n",
      "\u001b[32m[I 2021-09-20 14:32:23,210]\u001b[0m Trial 15 finished with value: 0.10572742905341703 and parameters: {'reg_alpha': 0.08808878695904987, 'reg_lambda': 0.2605955558323527, 'colsample_bytree': 0.3, 'subsample': 0.4, 'learning_rate': 0.09908036836162645, 'max_depth': 93, 'num_leaves': 15, 'min_child_samples': 68}. Best is trial 13 with value: 0.06856824920168722.\u001b[0m\n",
      "\u001b[32m[I 2021-09-20 14:33:13,195]\u001b[0m Trial 16 finished with value: 0.11681938687269544 and parameters: {'reg_alpha': 0.9761012304326763, 'reg_lambda': 0.028517517781281216, 'colsample_bytree': 0.5, 'subsample': 0.4, 'learning_rate': 0.013407832207150186, 'max_depth': 86, 'num_leaves': 683, 'min_child_samples': 2}. Best is trial 13 with value: 0.06856824920168722.\u001b[0m\n",
      "\u001b[32m[I 2021-09-20 14:33:39,585]\u001b[0m Trial 17 finished with value: 0.0834320182295318 and parameters: {'reg_alpha': 7.251470832028943, 'reg_lambda': 0.20949185770740367, 'colsample_bytree': 0.5, 'subsample': 1.0, 'learning_rate': 0.12366370466192705, 'max_depth': 90, 'num_leaves': 430, 'min_child_samples': 50}. Best is trial 13 with value: 0.06856824920168722.\u001b[0m\n",
      "\u001b[32m[I 2021-09-20 14:34:03,309]\u001b[0m Trial 18 finished with value: 0.1277260477423362 and parameters: {'reg_alpha': 0.10762303808375459, 'reg_lambda': 0.010588400839589642, 'colsample_bytree': 0.3, 'subsample': 0.4, 'learning_rate': 0.014968983051661654, 'max_depth': 91, 'num_leaves': 259, 'min_child_samples': 124}. Best is trial 13 with value: 0.06856824920168722.\u001b[0m\n",
      "\u001b[32m[I 2021-09-20 14:34:33,777]\u001b[0m Trial 19 finished with value: 0.0688528940406917 and parameters: {'reg_alpha': 0.5362414355674519, 'reg_lambda': 0.10881989204912218, 'colsample_bytree': 0.9, 'subsample': 0.7, 'learning_rate': 0.16457977687188197, 'max_depth': 60, 'num_leaves': 190, 'min_child_samples': 33}. Best is trial 13 with value: 0.06856824920168722.\u001b[0m\n",
      "\u001b[32m[I 2021-09-20 14:35:02,393]\u001b[0m Trial 20 finished with value: 0.09626125517843975 and parameters: {'reg_alpha': 0.7006370926678752, 'reg_lambda': 0.0072355972059352566, 'colsample_bytree': 0.9, 'subsample': 0.7, 'learning_rate': 0.026537517807249274, 'max_depth': 55, 'num_leaves': 178, 'min_child_samples': 91}. Best is trial 13 with value: 0.06856824920168722.\u001b[0m\n",
      "\u001b[32m[I 2021-09-20 14:35:36,944]\u001b[0m Trial 21 finished with value: 0.06923628701343548 and parameters: {'reg_alpha': 1.8853343165658207, 'reg_lambda': 0.10799875028785043, 'colsample_bytree': 0.9, 'subsample': 0.7, 'learning_rate': 0.15518299355818432, 'max_depth': 59, 'num_leaves': 454, 'min_child_samples': 25}. Best is trial 13 with value: 0.06856824920168722.\u001b[0m\n",
      "\u001b[32m[I 2021-09-20 14:36:09,123]\u001b[0m Trial 22 finished with value: 0.0703296851872015 and parameters: {'reg_alpha': 2.1330286010517074, 'reg_lambda': 0.06907435179670753, 'colsample_bytree': 0.9, 'subsample': 0.7, 'learning_rate': 0.1389207111544061, 'max_depth': 56, 'num_leaves': 437, 'min_child_samples': 37}. Best is trial 13 with value: 0.06856824920168722.\u001b[0m\n",
      "\u001b[32m[I 2021-09-20 14:36:25,905]\u001b[0m Trial 23 finished with value: 0.12692888556923548 and parameters: {'reg_alpha': 0.4499172587607556, 'reg_lambda': 0.19040661482188972, 'colsample_bytree': 0.9, 'subsample': 0.7, 'learning_rate': 0.06723886806406286, 'max_depth': 60, 'num_leaves': 3, 'min_child_samples': 75}. Best is trial 13 with value: 0.06856824920168722.\u001b[0m\n",
      "\u001b[32m[I 2021-09-20 14:36:57,723]\u001b[0m Trial 24 finished with value: 0.07163461750785455 and parameters: {'reg_alpha': 2.821321010909517, 'reg_lambda': 0.028986023802647462, 'colsample_bytree': 0.9, 'subsample': 0.7, 'learning_rate': 0.1929876690392439, 'max_depth': 46, 'num_leaves': 978, 'min_child_samples': 31}. Best is trial 13 with value: 0.06856824920168722.\u001b[0m\n",
      "\u001b[32m[I 2021-09-20 14:37:25,082]\u001b[0m Trial 25 finished with value: 0.0769630692540471 and parameters: {'reg_alpha': 1.253220219386068, 'reg_lambda': 0.590567638567647, 'colsample_bytree': 0.9, 'subsample': 0.7, 'learning_rate': 0.07420028220381265, 'max_depth': 60, 'num_leaves': 220, 'min_child_samples': 116}. Best is trial 13 with value: 0.06856824920168722.\u001b[0m\n",
      "\u001b[32m[I 2021-09-20 14:37:45,778]\u001b[0m Trial 26 finished with value: 0.08586226930151708 and parameters: {'reg_alpha': 8.214366436590653, 'reg_lambda': 0.3452662281758887, 'colsample_bytree': 0.4, 'subsample': 0.7, 'learning_rate': 0.1562560114789836, 'max_depth': 49, 'num_leaves': 608, 'min_child_samples': 62}. Best is trial 13 with value: 0.06856824920168722.\u001b[0m\n",
      "\u001b[32m[I 2021-09-20 14:38:26,599]\u001b[0m Trial 27 finished with value: 0.13368600341533265 and parameters: {'reg_alpha': 0.5121085519473533, 'reg_lambda': 0.13975134236104814, 'colsample_bytree': 0.9, 'subsample': 0.7, 'learning_rate': 0.00923009013359645, 'max_depth': 27, 'num_leaves': 466, 'min_child_samples': 36}. Best is trial 13 with value: 0.06856824920168722.\u001b[0m\n",
      "\u001b[32m[I 2021-09-20 14:38:53,683]\u001b[0m Trial 28 finished with value: 0.09385520106083245 and parameters: {'reg_alpha': 0.054422720424226884, 'reg_lambda': 0.05099685637200584, 'colsample_bytree': 0.9, 'subsample': 0.6, 'learning_rate': 0.03318314458274, 'max_depth': 73, 'num_leaves': 103, 'min_child_samples': 15}. Best is trial 13 with value: 0.06856824920168722.\u001b[0m\n",
      "\u001b[32m[I 2021-09-20 14:39:15,869]\u001b[0m Trial 29 finished with value: 0.08784851515248356 and parameters: {'reg_alpha': 4.248334691816131, 'reg_lambda': 0.48173915642135867, 'colsample_bytree': 0.7, 'subsample': 1.0, 'learning_rate': 0.065195981201716, 'max_depth': 66, 'num_leaves': 393, 'min_child_samples': 169}. Best is trial 13 with value: 0.06856824920168722.\u001b[0m\n",
      "\u001b[32m[I 2021-09-20 14:39:40,842]\u001b[0m Trial 30 finished with value: 0.07550222992535865 and parameters: {'reg_alpha': 1.4239325730865913, 'reg_lambda': 0.016469079268196834, 'colsample_bytree': 0.3, 'subsample': 0.5, 'learning_rate': 0.16383246914473723, 'max_depth': 74, 'num_leaves': 285, 'min_child_samples': 43}. Best is trial 13 with value: 0.06856824920168722.\u001b[0m\n",
      "\u001b[32m[I 2021-09-20 14:40:15,088]\u001b[0m Trial 31 finished with value: 0.07064347287305428 and parameters: {'reg_alpha': 2.383804208930487, 'reg_lambda': 0.05454855421685632, 'colsample_bytree': 0.9, 'subsample': 0.7, 'learning_rate': 0.1268981499126521, 'max_depth': 54, 'num_leaves': 440, 'min_child_samples': 23}. Best is trial 13 with value: 0.06856824920168722.\u001b[0m\n",
      "\u001b[32m[I 2021-09-20 14:40:50,278]\u001b[0m Trial 32 finished with value: 0.06811341368162287 and parameters: {'reg_alpha': 0.3772136148033824, 'reg_lambda': 0.08062006879971587, 'colsample_bytree': 0.9, 'subsample': 0.7, 'learning_rate': 0.1829302424933482, 'max_depth': 58, 'num_leaves': 551, 'min_child_samples': 79}. Best is trial 32 with value: 0.06811341368162287.\u001b[0m\n",
      "\u001b[32m[I 2021-09-20 14:41:25,752]\u001b[0m Trial 33 finished with value: 0.06939259904885646 and parameters: {'reg_alpha': 0.3522070109579253, 'reg_lambda': 0.10768194203780387, 'colsample_bytree': 0.8, 'subsample': 0.7, 'learning_rate': 0.09187308697032644, 'max_depth': 48, 'num_leaves': 563, 'min_child_samples': 80}. Best is trial 32 with value: 0.06811341368162287.\u001b[0m\n",
      "\u001b[32m[I 2021-09-20 14:42:14,814]\u001b[0m Trial 34 finished with value: 0.06702905107208308 and parameters: {'reg_alpha': 0.11419484717357947, 'reg_lambda': 0.032789462921793744, 'colsample_bytree': 1.0, 'subsample': 0.7, 'learning_rate': 0.19330759944969564, 'max_depth': 64, 'num_leaves': 689, 'min_child_samples': 55}. Best is trial 34 with value: 0.06702905107208308.\u001b[0m\n",
      "\u001b[32m[I 2021-09-20 14:42:49,831]\u001b[0m Trial 35 finished with value: 0.06952221057893009 and parameters: {'reg_alpha': 0.11804511726225049, 'reg_lambda': 0.0038935282829958427, 'colsample_bytree': 1.0, 'subsample': 0.8, 'learning_rate': 0.22412423658503544, 'max_depth': 65, 'num_leaves': 714, 'min_child_samples': 107}. Best is trial 34 with value: 0.06702905107208308.\u001b[0m\n",
      "\u001b[32m[I 2021-09-20 14:43:36,125]\u001b[0m Trial 36 finished with value: 0.07113295025650619 and parameters: {'reg_alpha': 0.020778388374107688, 'reg_lambda': 0.03225894719968939, 'colsample_bytree': 1.0, 'subsample': 0.7, 'learning_rate': 0.29076320265396505, 'max_depth': 39, 'num_leaves': 777, 'min_child_samples': 59}. Best is trial 34 with value: 0.06702905107208308.\u001b[0m\n",
      "\u001b[32m[I 2021-09-20 14:44:06,695]\u001b[0m Trial 37 finished with value: 0.0871194474417192 and parameters: {'reg_alpha': 0.04584040475265416, 'reg_lambda': 0.017286338347708867, 'colsample_bytree': 1.0, 'subsample': 0.5, 'learning_rate': 0.04037275299893519, 'max_depth': 75, 'num_leaves': 515, 'min_child_samples': 146}. Best is trial 34 with value: 0.06702905107208308.\u001b[0m\n",
      "\u001b[32m[I 2021-09-20 14:44:47,956]\u001b[0m Trial 38 finished with value: 0.09167411184585175 and parameters: {'reg_alpha': 0.005994543165992046, 'reg_lambda': 0.00926868744319644, 'colsample_bytree': 0.6, 'subsample': 0.8, 'learning_rate': 0.023447395260745522, 'max_depth': 33, 'num_leaves': 600, 'min_child_samples': 52}. Best is trial 34 with value: 0.06702905107208308.\u001b[0m\n",
      "\u001b[32m[I 2021-09-20 14:45:14,345]\u001b[0m Trial 39 finished with value: 0.07599475861087704 and parameters: {'reg_alpha': 0.15691187229167683, 'reg_lambda': 0.00324959197189418, 'colsample_bytree': 0.8, 'subsample': 0.6, 'learning_rate': 0.20251022422848342, 'max_depth': 70, 'num_leaves': 690, 'min_child_samples': 274}. Best is trial 34 with value: 0.06702905107208308.\u001b[0m\n",
      "\u001b[32m[I 2021-09-20 14:45:56,150]\u001b[0m Trial 40 finished with value: 0.07014109582887715 and parameters: {'reg_alpha': 0.06185401454111952, 'reg_lambda': 1.714454075373502, 'colsample_bytree': 1.0, 'subsample': 1.0, 'learning_rate': 0.08295358281491212, 'max_depth': 51, 'num_leaves': 802, 'min_child_samples': 79}. Best is trial 34 with value: 0.06702905107208308.\u001b[0m\n",
      "\u001b[32m[I 2021-09-20 14:46:40,193]\u001b[0m Trial 41 finished with value: 0.0669581584846534 and parameters: {'reg_alpha': 0.6819070375219648, 'reg_lambda': 9.509749356856396, 'colsample_bytree': 0.7, 'subsample': 0.7, 'learning_rate': 0.16031225258866585, 'max_depth': 64, 'num_leaves': 503, 'min_child_samples': 23}. Best is trial 41 with value: 0.0669581584846534.\u001b[0m\n",
      "\u001b[32m[I 2021-09-20 14:47:22,260]\u001b[0m Trial 42 finished with value: 0.06741016572803613 and parameters: {'reg_alpha': 0.6235983212727795, 'reg_lambda': 9.95441952774182, 'colsample_bytree': 0.7, 'subsample': 0.7, 'learning_rate': 0.11845719517123753, 'max_depth': 62, 'num_leaves': 551, 'min_child_samples': 44}. Best is trial 41 with value: 0.0669581584846534.\u001b[0m\n",
      "\u001b[32m[I 2021-09-20 14:48:08,673]\u001b[0m Trial 43 finished with value: 0.06732519246478051 and parameters: {'reg_alpha': 0.771845073848414, 'reg_lambda': 7.5288768194540765, 'colsample_bytree': 0.7, 'subsample': 0.7, 'learning_rate': 0.11377546051106754, 'max_depth': 64, 'num_leaves': 549, 'min_child_samples': 15}. Best is trial 41 with value: 0.0669581584846534.\u001b[0m\n",
      "\u001b[32m[I 2021-09-20 14:48:38,371]\u001b[0m Trial 44 finished with value: 0.15843427574028804 and parameters: {'reg_alpha': 0.8558989598674138, 'reg_lambda': 7.947605509829465, 'colsample_bytree': 0.7, 'subsample': 0.7, 'learning_rate': 0.006251065227574215, 'max_depth': 64, 'num_leaves': 539, 'min_child_samples': 51}. Best is trial 41 with value: 0.0669581584846534.\u001b[0m\n",
      "\u001b[32m[I 2021-09-20 14:49:04,489]\u001b[0m Trial 45 finished with value: 0.08165690697599477 and parameters: {'reg_alpha': 0.7227623939674526, 'reg_lambda': 3.505564501887265, 'colsample_bytree': 0.7, 'subsample': 0.7, 'learning_rate': 0.05550422997256006, 'max_depth': 69, 'num_leaves': 645, 'min_child_samples': 131}. Best is trial 41 with value: 0.0669581584846534.\u001b[0m\n",
      "\u001b[32m[I 2021-09-20 14:49:51,764]\u001b[0m Trial 46 finished with value: 0.06661102692385115 and parameters: {'reg_alpha': 0.18414058606504688, 'reg_lambda': 7.7190629869589245, 'colsample_bytree': 0.7, 'subsample': 0.7, 'learning_rate': 0.2036569237215554, 'max_depth': 44, 'num_leaves': 573, 'min_child_samples': 16}. Best is trial 46 with value: 0.06661102692385115.\u001b[0m\n",
      "\u001b[32m[I 2021-09-20 14:50:34,419]\u001b[0m Trial 47 finished with value: 0.1979728527298236 and parameters: {'reg_alpha': 0.17962058644252407, 'reg_lambda': 8.193217609782735, 'colsample_bytree': 0.7, 'subsample': 0.7, 'learning_rate': 0.001815271327459141, 'max_depth': 63, 'num_leaves': 489, 'min_child_samples': 13}. Best is trial 46 with value: 0.06661102692385115.\u001b[0m\n",
      "\u001b[32m[I 2021-09-20 14:51:25,881]\u001b[0m Trial 48 finished with value: 0.06582729706701987 and parameters: {'reg_alpha': 0.20741912347765662, 'reg_lambda': 4.95283355304233, 'colsample_bytree': 0.7, 'subsample': 0.7, 'learning_rate': 0.1269064972898481, 'max_depth': 44, 'num_leaves': 744, 'min_child_samples': 21}. Best is trial 48 with value: 0.06582729706701987.\u001b[0m\n",
      "\u001b[32m[I 2021-09-20 14:52:22,555]\u001b[0m Trial 49 finished with value: 0.06896923016410061 and parameters: {'reg_alpha': 0.03730249314885092, 'reg_lambda': 5.023188078227417, 'colsample_bytree': 0.7, 'subsample': 0.5, 'learning_rate': 0.25017237215339416, 'max_depth': 42, 'num_leaves': 747, 'min_child_samples': 19}. Best is trial 48 with value: 0.06582729706701987.\u001b[0m\n"
     ]
    }
   ],
   "source": [
    "study = optuna.create_study(direction='minimize')\n",
    "study.optimize(objective_wp3, n_trials=50)\n",
    "#write_results('Data/Hyperparametrization/lgbm_vmd_50trials_cv.xlsx', 'wp1', study.trials_dataframe())\n",
    "params_3=study.best_trial.params\n",
    "#best_trial"
   ]
  },
  {
   "cell_type": "code",
   "execution_count": 31,
   "id": "a942248e-346f-4639-bbec-9f143715c426",
   "metadata": {},
   "outputs": [
    {
     "data": {
      "text/plain": [
       "{'reg_alpha': 0.20741912347765662,\n",
       " 'reg_lambda': 4.95283355304233,\n",
       " 'colsample_bytree': 0.7,\n",
       " 'subsample': 0.7,\n",
       " 'learning_rate': 0.1269064972898481,\n",
       " 'max_depth': 44,\n",
       " 'num_leaves': 744,\n",
       " 'min_child_samples': 21}"
      ]
     },
     "execution_count": 31,
     "metadata": {},
     "output_type": "execute_result"
    }
   ],
   "source": [
    "params_3"
   ]
  },
  {
   "cell_type": "code",
   "execution_count": 32,
   "id": "5cbcd443-c32b-44a3-a6a6-c61930cb8efc",
   "metadata": {},
   "outputs": [
    {
     "name": "stdout",
     "output_type": "stream",
     "text": [
      "-----------LGBM CROSS VALIDATION BEGINNING-----------\n",
      "RMSE score: 0.09797277424877915\n",
      "MAE score: 0.06621343183643381\n",
      "None\n",
      "-------------------FOLD 1-----------------\n",
      "RMSE score: 0.1012938129340793\n",
      "MAE score: 0.06725475625542955\n",
      "None\n",
      "-------------------FOLD 2-----------------\n",
      "RMSE score: 0.1010066841161253\n",
      "MAE score: 0.06732280833256975\n",
      "None\n",
      "-------------------FOLD 3-----------------\n",
      "RMSE score: 0.09759658075552409\n",
      "MAE score: 0.06557784716606284\n",
      "None\n",
      "-------------------FOLD 4-----------------\n",
      "RMSE score: 0.09204660621950396\n",
      "MAE score: 0.0624905683273814\n",
      "None\n",
      "-------------------FOLD 5-----------------\n",
      "---------------CROSS VALIDATION COMPLETE-------------\n",
      "--------------------------RMSE-----------------------\n",
      "Scores: [0.09797277424877915, 0.1012938129340793, 0.1010066841161253, 0.09759658075552409, 0.09204660621950396]\n",
      "Mean: 0.09798329165480235\n",
      "Std: 0.0033314964508119782\n",
      "--------------------------MAE------------------------\n",
      "Scores: [0.06621343183643381, 0.06725475625542955, 0.06732280833256975, 0.06557784716606284, 0.0624905683273814]\n",
      "Mean: 0.06577188238357548\n",
      "Std: 0.001766574297301008\n"
     ]
    }
   ],
   "source": [
    "lgbm_scaled_cross_validation(X=X3,y=y3,params=params_3,cv=5)"
   ]
  },
  {
   "cell_type": "markdown",
   "id": "cdc76c8c-9cc7-441f-b25e-e1ecf293298e",
   "metadata": {},
   "source": [
    "## WP4"
   ]
  },
  {
   "cell_type": "markdown",
   "id": "895876ff-0734-4527-a0b9-68cf9b097dec",
   "metadata": {},
   "source": [
    "| |  | Mean | Std | |\n",
    "| --- | --- | --- | --- | --- |\n",
    "| No params | RMSE | 0.10486204816363351 | 0.0015105949978751166 ||\n",
    "| No params  - Std | RMSE | 0.10480849342496516 | 0.0010370863436755212 ||\n",
    "| After tuning - 50trials| RMSE | 0.06513233717204232 | 0.0015891617240032727 ||\n",
    "| After tuning 100trials| RMSE | 0.06357594848470964 | 0.0013676749030776929 ||\n",
    "| After tuning with W.S - 50trials - Std | RMSE | 0.06339401569270936 | 0.001228053306037005 ||\n",
    "| After tuning with W.S. - 50trials - RobustScaler | RMSE | 0.0632324115841705 | 0.0010081050240456021 ||\n",
    "| 50 trials per vmf - RobustScaler | RMSE |0.0593103048767063  |0.0011712884174825636 | |\n",
    "| --- | --- | --- | --- | --- |\n",
    "| No params | MAE | 0.07564776733421566 | 0.00104638869825841 ||\n",
    "| No params  - Std | MAE | 0.07570794104041156 | 0.0008419207475550308 ||\n",
    "| After tuning - 50trials| MAE | 0.04219236028055372 | 0.0008190579419060266 ||\n",
    "| After tuning 100trials| MAE |0.04172111697148837  | 0.0009349285385250968 ||\n",
    "| After tuning with W.S - 50trials  - Std | MAE | 0.04150668920859586 | 0.0005729825500890684 ||\n",
    "| After tuning with W.S. - 50trials - RobustScaler | MAE | 0.04170428506837879 | 0.0006101247158768171 ||\n",
    "| 50 trials per vmf - RobustScaler | MAE | 0.04115807160847805 |0.0006471350512019214 | |"
   ]
  },
  {
   "cell_type": "code",
   "execution_count": 33,
   "id": "185fd52e-5fe9-4ab7-817d-03feda6a42ab",
   "metadata": {},
   "outputs": [],
   "source": [
    "wp4_X = train_wp4[[c for c in train_wp4 if c not in [\"wp\"]] + [\"wp\"]].drop(to_drop, axis = 1)\n",
    "X4 = wp4_X.drop('wp', axis = 1)\n",
    "y4 = wp4_X['wp']"
   ]
  },
  {
   "cell_type": "code",
   "execution_count": 34,
   "id": "feac6180-b993-47af-bbd8-9b34703dc5c6",
   "metadata": {},
   "outputs": [],
   "source": [
    "def objective_wp4(trial,data=X4,target=y4,cv=5):\n",
    "    #train_x, test_x = create_dataset(data,0)\n",
    "    #train_y,test_y=create_dataset(target,0)\n",
    "    return hyperparametrization_cv(trial, data,target,cv)"
   ]
  },
  {
   "cell_type": "code",
   "execution_count": 35,
   "id": "1f616904-2b76-4973-bed8-bc69686bffd7",
   "metadata": {},
   "outputs": [
    {
     "name": "stderr",
     "output_type": "stream",
     "text": [
      "\u001b[32m[I 2021-09-20 14:53:16,743]\u001b[0m A new study created in memory with name: no-name-0b1418f0-a9b5-4aed-a81f-aa74ce1f640f\u001b[0m\n",
      "\u001b[32m[I 2021-09-20 14:53:43,714]\u001b[0m Trial 0 finished with value: 0.17466452207697153 and parameters: {'reg_alpha': 0.0187877992364005, 'reg_lambda': 3.076982239548737, 'colsample_bytree': 0.7, 'subsample': 0.5, 'learning_rate': 0.005260856326282007, 'max_depth': 80, 'num_leaves': 804, 'min_child_samples': 120}. Best is trial 0 with value: 0.17466452207697153.\u001b[0m\n",
      "\u001b[32m[I 2021-09-20 14:54:12,839]\u001b[0m Trial 1 finished with value: 0.08429887083202078 and parameters: {'reg_alpha': 0.4456979404377384, 'reg_lambda': 0.21318654821028002, 'colsample_bytree': 0.7, 'subsample': 0.6, 'learning_rate': 0.038366241120891785, 'max_depth': 82, 'num_leaves': 924, 'min_child_samples': 96}. Best is trial 1 with value: 0.08429887083202078.\u001b[0m\n",
      "\u001b[32m[I 2021-09-20 14:54:35,661]\u001b[0m Trial 2 finished with value: 0.07630409233042328 and parameters: {'reg_alpha': 0.032030908825470765, 'reg_lambda': 0.2134660403551539, 'colsample_bytree': 0.6, 'subsample': 0.8, 'learning_rate': 0.236298788417787, 'max_depth': 64, 'num_leaves': 438, 'min_child_samples': 230}. Best is trial 2 with value: 0.07630409233042328.\u001b[0m\n",
      "\u001b[32m[I 2021-09-20 14:54:57,699]\u001b[0m Trial 3 finished with value: 0.2107030679231392 and parameters: {'reg_alpha': 0.6316982303738521, 'reg_lambda': 0.501192149843883, 'colsample_bytree': 0.4, 'subsample': 0.7, 'learning_rate': 0.002301077385235815, 'max_depth': 39, 'num_leaves': 495, 'min_child_samples': 144}. Best is trial 2 with value: 0.07630409233042328.\u001b[0m\n",
      "\u001b[32m[I 2021-09-20 14:55:22,193]\u001b[0m Trial 4 finished with value: 0.19038067066911774 and parameters: {'reg_alpha': 0.00362662528197869, 'reg_lambda': 9.283768290053425, 'colsample_bytree': 0.7, 'subsample': 0.6, 'learning_rate': 0.0037836348474572785, 'max_depth': 32, 'num_leaves': 118, 'min_child_samples': 45}. Best is trial 2 with value: 0.07630409233042328.\u001b[0m\n",
      "\u001b[32m[I 2021-09-20 14:55:46,221]\u001b[0m Trial 5 finished with value: 0.21103172838412076 and parameters: {'reg_alpha': 0.7403164500312197, 'reg_lambda': 0.3666764459575767, 'colsample_bytree': 0.5, 'subsample': 0.8, 'learning_rate': 0.0021605094675141694, 'max_depth': 48, 'num_leaves': 398, 'min_child_samples': 146}. Best is trial 2 with value: 0.07630409233042328.\u001b[0m\n",
      "\u001b[32m[I 2021-09-20 14:56:15,868]\u001b[0m Trial 6 finished with value: 0.12169261317137159 and parameters: {'reg_alpha': 0.00867072492982175, 'reg_lambda': 0.0193740113946613, 'colsample_bytree': 0.9, 'subsample': 0.5, 'learning_rate': 0.01400107192224431, 'max_depth': 77, 'num_leaves': 370, 'min_child_samples': 183}. Best is trial 2 with value: 0.07630409233042328.\u001b[0m\n",
      "\u001b[32m[I 2021-09-20 14:56:43,804]\u001b[0m Trial 7 finished with value: 0.13532848031349948 and parameters: {'reg_alpha': 0.2463290694684771, 'reg_lambda': 0.37436279445811554, 'colsample_bytree': 0.8, 'subsample': 1.0, 'learning_rate': 0.011293646731333004, 'max_depth': 25, 'num_leaves': 84, 'min_child_samples': 84}. Best is trial 2 with value: 0.07630409233042328.\u001b[0m\n",
      "\u001b[32m[I 2021-09-20 14:57:06,507]\u001b[0m Trial 8 finished with value: 0.20496335414755856 and parameters: {'reg_alpha': 0.0011031374199951, 'reg_lambda': 1.0356006877505588, 'colsample_bytree': 0.8, 'subsample': 0.8, 'learning_rate': 0.002485393160160757, 'max_depth': 73, 'num_leaves': 84, 'min_child_samples': 165}. Best is trial 2 with value: 0.07630409233042328.\u001b[0m\n",
      "\u001b[32m[I 2021-09-20 14:57:39,427]\u001b[0m Trial 9 finished with value: 0.0779228858605727 and parameters: {'reg_alpha': 0.009758623583191524, 'reg_lambda': 0.03463605218799896, 'colsample_bytree': 0.9, 'subsample': 0.6, 'learning_rate': 0.048544681562680464, 'max_depth': 78, 'num_leaves': 225, 'min_child_samples': 47}. Best is trial 2 with value: 0.07630409233042328.\u001b[0m\n",
      "\u001b[32m[I 2021-09-20 14:57:58,982]\u001b[0m Trial 10 finished with value: 0.08406398976058597 and parameters: {'reg_alpha': 7.347021072236928, 'reg_lambda': 0.0010413887111804065, 'colsample_bytree': 0.6, 'subsample': 0.4, 'learning_rate': 0.2768975950024496, 'max_depth': 58, 'num_leaves': 696, 'min_child_samples': 282}. Best is trial 2 with value: 0.07630409233042328.\u001b[0m\n",
      "\u001b[32m[I 2021-09-20 14:58:24,510]\u001b[0m Trial 11 finished with value: 0.07588891696956808 and parameters: {'reg_alpha': 0.050015980240035944, 'reg_lambda': 0.029335480915000663, 'colsample_bytree': 1.0, 'subsample': 0.6, 'learning_rate': 0.14850532449739526, 'max_depth': 100, 'num_leaves': 290, 'min_child_samples': 237}. Best is trial 11 with value: 0.07588891696956808.\u001b[0m\n",
      "\u001b[32m[I 2021-09-20 14:58:50,351]\u001b[0m Trial 12 finished with value: 0.0745541896889087 and parameters: {'reg_alpha': 0.028586926008537072, 'reg_lambda': 0.010291693261999808, 'colsample_bytree': 1.0, 'subsample': 0.8, 'learning_rate': 0.29452685183834715, 'max_depth': 100, 'num_leaves': 580, 'min_child_samples': 246}. Best is trial 12 with value: 0.0745541896889087.\u001b[0m\n",
      "\u001b[32m[I 2021-09-20 14:59:14,552]\u001b[0m Trial 13 finished with value: 0.08100377039980111 and parameters: {'reg_alpha': 0.05211206168736997, 'reg_lambda': 0.0044738174086920175, 'colsample_bytree': 1.0, 'subsample': 1.0, 'learning_rate': 0.10336498331302854, 'max_depth': 99, 'num_leaves': 618, 'min_child_samples': 300}. Best is trial 12 with value: 0.0745541896889087.\u001b[0m\n",
      "\u001b[32m[I 2021-09-20 14:59:40,536]\u001b[0m Trial 14 finished with value: 0.07824261862164243 and parameters: {'reg_alpha': 0.1201519709245393, 'reg_lambda': 0.02890958178840943, 'colsample_bytree': 1.0, 'subsample': 0.4, 'learning_rate': 0.10838472374913459, 'max_depth': 99, 'num_leaves': 264, 'min_child_samples': 239}. Best is trial 12 with value: 0.0745541896889087.\u001b[0m\n",
      "\u001b[32m[I 2021-09-20 15:00:01,783]\u001b[0m Trial 15 finished with value: 0.08322408588636353 and parameters: {'reg_alpha': 0.09544345670469842, 'reg_lambda': 0.0070533633228955575, 'colsample_bytree': 0.3, 'subsample': 0.7, 'learning_rate': 0.10758997609146352, 'max_depth': 91, 'num_leaves': 635, 'min_child_samples': 219}. Best is trial 12 with value: 0.0745541896889087.\u001b[0m\n",
      "\u001b[32m[I 2021-09-20 15:00:24,671]\u001b[0m Trial 16 finished with value: 0.09514100442364096 and parameters: {'reg_alpha': 1.7708402782479173, 'reg_lambda': 0.003411794139715918, 'colsample_bytree': 1.0, 'subsample': 0.8, 'learning_rate': 0.035531069853894606, 'max_depth': 91, 'num_leaves': 272, 'min_child_samples': 260}. Best is trial 12 with value: 0.0745541896889087.\u001b[0m\n",
      "\u001b[32m[I 2021-09-20 15:00:53,021]\u001b[0m Trial 17 finished with value: 0.22421186226053225 and parameters: {'reg_alpha': 0.002482608328628413, 'reg_lambda': 0.061125017860445004, 'colsample_bytree': 1.0, 'subsample': 0.6, 'learning_rate': 0.0010225233222760778, 'max_depth': 90, 'num_leaves': 568, 'min_child_samples': 197}. Best is trial 12 with value: 0.0745541896889087.\u001b[0m\n",
      "\u001b[32m[I 2021-09-20 15:01:18,837]\u001b[0m Trial 18 finished with value: 0.07525943673979704 and parameters: {'reg_alpha': 0.014365487164528764, 'reg_lambda': 0.008625763534102526, 'colsample_bytree': 1.0, 'subsample': 0.8, 'learning_rate': 0.20202143493871616, 'max_depth': 64, 'num_leaves': 738, 'min_child_samples': 263}. Best is trial 12 with value: 0.0745541896889087.\u001b[0m\n",
      "\u001b[32m[I 2021-09-20 15:01:40,949]\u001b[0m Trial 19 finished with value: 0.08722924354067299 and parameters: {'reg_alpha': 0.00903720578851398, 'reg_lambda': 0.0011866967149997288, 'colsample_bytree': 0.5, 'subsample': 0.8, 'learning_rate': 0.05937024538384919, 'max_depth': 63, 'num_leaves': 989, 'min_child_samples': 268}. Best is trial 12 with value: 0.0745541896889087.\u001b[0m\n",
      "\u001b[32m[I 2021-09-20 15:02:02,308]\u001b[0m Trial 20 finished with value: 0.11239898005969776 and parameters: {'reg_alpha': 0.02217507629011756, 'reg_lambda': 0.0090216617714817, 'colsample_bytree': 0.3, 'subsample': 0.8, 'learning_rate': 0.0235663112610105, 'max_depth': 51, 'num_leaves': 768, 'min_child_samples': 203}. Best is trial 12 with value: 0.0745541896889087.\u001b[0m\n",
      "\u001b[32m[I 2021-09-20 15:02:28,129]\u001b[0m Trial 21 finished with value: 0.07561455572623936 and parameters: {'reg_alpha': 0.10426496637741958, 'reg_lambda': 0.012706145250941183, 'colsample_bytree': 1.0, 'subsample': 0.8, 'learning_rate': 0.17397615876235842, 'max_depth': 100, 'num_leaves': 810, 'min_child_samples': 251}. Best is trial 12 with value: 0.0745541896889087.\u001b[0m\n",
      "\u001b[32m[I 2021-09-20 15:02:54,086]\u001b[0m Trial 22 finished with value: 0.07567562871299814 and parameters: {'reg_alpha': 0.12603582886525558, 'reg_lambda': 0.0027586709169276137, 'colsample_bytree': 1.0, 'subsample': 0.8, 'learning_rate': 0.1902663827701547, 'max_depth': 71, 'num_leaves': 814, 'min_child_samples': 260}. Best is trial 12 with value: 0.0745541896889087.\u001b[0m\n",
      "\u001b[32m[I 2021-09-20 15:03:18,840]\u001b[0m Trial 23 finished with value: 0.07575935951693663 and parameters: {'reg_alpha': 0.0052078739827226194, 'reg_lambda': 0.012746611179454893, 'colsample_bytree': 1.0, 'subsample': 0.8, 'learning_rate': 0.2829839075498212, 'max_depth': 92, 'num_leaves': 882, 'min_child_samples': 292}. Best is trial 12 with value: 0.0745541896889087.\u001b[0m\n",
      "\u001b[32m[I 2021-09-20 15:03:39,865]\u001b[0m Trial 24 finished with value: 0.08544186383053677 and parameters: {'reg_alpha': 0.018659756573980415, 'reg_lambda': 0.08038730704057583, 'colsample_bytree': 0.4, 'subsample': 0.8, 'learning_rate': 0.07396572822771164, 'max_depth': 87, 'num_leaves': 722, 'min_child_samples': 252}. Best is trial 12 with value: 0.0745541896889087.\u001b[0m\n",
      "\u001b[32m[I 2021-09-20 15:04:07,098]\u001b[0m Trial 25 finished with value: 0.07381737609261155 and parameters: {'reg_alpha': 0.06357347923185593, 'reg_lambda': 0.002071957317152185, 'colsample_bytree': 1.0, 'subsample': 0.8, 'learning_rate': 0.17914700429544714, 'max_depth': 43, 'num_leaves': 556, 'min_child_samples': 204}. Best is trial 25 with value: 0.07381737609261155.\u001b[0m\n",
      "\u001b[32m[I 2021-09-20 15:04:34,005]\u001b[0m Trial 26 finished with value: 0.07488986692319109 and parameters: {'reg_alpha': 0.04737694624313257, 'reg_lambda': 0.0019060964175406884, 'colsample_bytree': 1.0, 'subsample': 0.8, 'learning_rate': 0.14346195299384282, 'max_depth': 41, 'num_leaves': 523, 'min_child_samples': 209}. Best is trial 25 with value: 0.07381737609261155.\u001b[0m\n",
      "\u001b[32m[I 2021-09-20 15:05:02,978]\u001b[0m Trial 27 finished with value: 0.07692253577781379 and parameters: {'reg_alpha': 0.04776624741091968, 'reg_lambda': 0.00184382016993662, 'colsample_bytree': 1.0, 'subsample': 0.7, 'learning_rate': 0.0862851963073575, 'max_depth': 38, 'num_leaves': 492, 'min_child_samples': 175}. Best is trial 25 with value: 0.07381737609261155.\u001b[0m\n",
      "\u001b[32m[I 2021-09-20 15:05:29,494]\u001b[0m Trial 28 finished with value: 0.07518377943619362 and parameters: {'reg_alpha': 0.25245427291657685, 'reg_lambda': 0.001999355511706542, 'colsample_bytree': 1.0, 'subsample': 0.5, 'learning_rate': 0.1457945125213507, 'max_depth': 49, 'num_leaves': 566, 'min_child_samples': 213}. Best is trial 25 with value: 0.07381737609261155.\u001b[0m\n",
      "\u001b[32m[I 2021-09-20 15:05:51,479]\u001b[0m Trial 29 finished with value: 0.10642162668714368 and parameters: {'reg_alpha': 1.723628770400063, 'reg_lambda': 0.004459929771398881, 'colsample_bytree': 0.5, 'subsample': 1.0, 'learning_rate': 0.023198696868199618, 'max_depth': 21, 'num_leaves': 647, 'min_child_samples': 127}. Best is trial 25 with value: 0.07381737609261155.\u001b[0m\n",
      "\u001b[32m[I 2021-09-20 15:06:17,494]\u001b[0m Trial 30 finished with value: 0.07518580824685742 and parameters: {'reg_alpha': 0.03186772612549046, 'reg_lambda': 0.005403796728197635, 'colsample_bytree': 0.8, 'subsample': 0.4, 'learning_rate': 0.29989052612476785, 'max_depth': 43, 'num_leaves': 551, 'min_child_samples': 193}. Best is trial 25 with value: 0.07381737609261155.\u001b[0m\n",
      "\u001b[32m[I 2021-09-20 15:06:44,604]\u001b[0m Trial 31 finished with value: 0.07543272198846165 and parameters: {'reg_alpha': 0.24365672523408002, 'reg_lambda': 0.0017659464003795815, 'colsample_bytree': 1.0, 'subsample': 0.5, 'learning_rate': 0.1397484156911373, 'max_depth': 51, 'num_leaves': 559, 'min_child_samples': 214}. Best is trial 25 with value: 0.07381737609261155.\u001b[0m\n",
      "\u001b[32m[I 2021-09-20 15:07:08,559]\u001b[0m Trial 32 finished with value: 0.07594003359406064 and parameters: {'reg_alpha': 0.18841721632679312, 'reg_lambda': 0.0025691885689384793, 'colsample_bytree': 0.7, 'subsample': 0.8, 'learning_rate': 0.15069359173705021, 'max_depth': 32, 'num_leaves': 425, 'min_child_samples': 214}. Best is trial 25 with value: 0.07381737609261155.\u001b[0m\n",
      "\u001b[32m[I 2021-09-20 15:08:15,106]\u001b[0m Trial 33 finished with value: 0.0683578093114261 and parameters: {'reg_alpha': 0.07849666964165539, 'reg_lambda': 0.0017033350344194495, 'colsample_bytree': 1.0, 'subsample': 0.5, 'learning_rate': 0.06675968989843854, 'max_depth': 56, 'num_leaves': 511, 'min_child_samples': 2}. Best is trial 33 with value: 0.0683578093114261.\u001b[0m\n",
      "\u001b[32m[I 2021-09-20 15:08:56,416]\u001b[0m Trial 34 finished with value: 0.07063757706924331 and parameters: {'reg_alpha': 0.0646296249512362, 'reg_lambda': 0.0011809195093511018, 'colsample_bytree': 0.6, 'subsample': 0.5, 'learning_rate': 0.06610136064282952, 'max_depth': 55, 'num_leaves': 342, 'min_child_samples': 1}. Best is trial 33 with value: 0.0683578093114261.\u001b[0m\n",
      "\u001b[32m[I 2021-09-20 15:09:37,793]\u001b[0m Trial 35 finished with value: 0.0779097663310693 and parameters: {'reg_alpha': 0.07115046425522742, 'reg_lambda': 0.0011925392411175652, 'colsample_bytree': 0.6, 'subsample': 0.5, 'learning_rate': 0.040173264053025806, 'max_depth': 58, 'num_leaves': 348, 'min_child_samples': 2}. Best is trial 33 with value: 0.0683578093114261.\u001b[0m\n",
      "\u001b[32m[I 2021-09-20 15:10:25,713]\u001b[0m Trial 36 finished with value: 0.14718130858121786 and parameters: {'reg_alpha': 0.027817394851537718, 'reg_lambda': 0.0010156744245388863, 'colsample_bytree': 0.6, 'subsample': 0.5, 'learning_rate': 0.00800429584613639, 'max_depth': 55, 'num_leaves': 486, 'min_child_samples': 9}. Best is trial 33 with value: 0.0683578093114261.\u001b[0m\n",
      "\u001b[32m[I 2021-09-20 15:10:51,674]\u001b[0m Trial 37 finished with value: 0.07739695931480192 and parameters: {'reg_alpha': 0.37417002654533243, 'reg_lambda': 0.15184854746607315, 'colsample_bytree': 0.6, 'subsample': 0.5, 'learning_rate': 0.06683881185972809, 'max_depth': 67, 'num_leaves': 157, 'min_child_samples': 31}. Best is trial 33 with value: 0.0683578093114261.\u001b[0m\n",
      "\u001b[32m[I 2021-09-20 15:11:19,648]\u001b[0m Trial 38 finished with value: 0.09188950651810583 and parameters: {'reg_alpha': 0.07359588450332216, 'reg_lambda': 0.004032963328195795, 'colsample_bytree': 0.4, 'subsample': 0.5, 'learning_rate': 0.03072938774103592, 'max_depth': 44, 'num_leaves': 454, 'min_child_samples': 85}. Best is trial 33 with value: 0.0683578093114261.\u001b[0m\n",
      "\u001b[32m[I 2021-09-20 15:11:38,318]\u001b[0m Trial 39 finished with value: 0.09827620605311352 and parameters: {'reg_alpha': 0.5250380345890444, 'reg_lambda': 1.1534666932260969, 'colsample_bytree': 0.7, 'subsample': 0.5, 'learning_rate': 0.053728741930462814, 'max_depth': 32, 'num_leaves': 19, 'min_child_samples': 66}. Best is trial 33 with value: 0.0683578093114261.\u001b[0m\n",
      "\u001b[32m[I 2021-09-20 15:12:06,408]\u001b[0m Trial 40 finished with value: 0.07141826205646071 and parameters: {'reg_alpha': 0.9726676489479936, 'reg_lambda': 0.00261629473013546, 'colsample_bytree': 0.9, 'subsample': 0.5, 'learning_rate': 0.2196395851402917, 'max_depth': 36, 'num_leaves': 337, 'min_child_samples': 116}. Best is trial 33 with value: 0.0683578093114261.\u001b[0m\n",
      "\u001b[32m[I 2021-09-20 15:12:34,876]\u001b[0m Trial 41 finished with value: 0.07142587598029501 and parameters: {'reg_alpha': 0.9848217418457087, 'reg_lambda': 0.0029276464395421617, 'colsample_bytree': 0.9, 'subsample': 0.5, 'learning_rate': 0.22381693806608427, 'max_depth': 55, 'num_leaves': 325, 'min_child_samples': 110}. Best is trial 33 with value: 0.0683578093114261.\u001b[0m\n",
      "\u001b[32m[I 2021-09-20 15:13:02,633]\u001b[0m Trial 42 finished with value: 0.07174877473737032 and parameters: {'reg_alpha': 1.0484030503274337, 'reg_lambda': 0.0028378976152998903, 'colsample_bytree': 0.9, 'subsample': 0.5, 'learning_rate': 0.2174538991136877, 'max_depth': 35, 'num_leaves': 367, 'min_child_samples': 121}. Best is trial 33 with value: 0.0683578093114261.\u001b[0m\n",
      "\u001b[32m[I 2021-09-20 15:13:30,258]\u001b[0m Trial 43 finished with value: 0.07127571949939188 and parameters: {'reg_alpha': 1.2486836192935307, 'reg_lambda': 0.00590319419027464, 'colsample_bytree': 0.9, 'subsample': 0.5, 'learning_rate': 0.22179414637696845, 'max_depth': 29, 'num_leaves': 339, 'min_child_samples': 113}. Best is trial 33 with value: 0.0683578093114261.\u001b[0m\n",
      "\u001b[32m[I 2021-09-20 15:13:54,622]\u001b[0m Trial 44 finished with value: 0.08066745966359866 and parameters: {'reg_alpha': 5.037514058580641, 'reg_lambda': 0.01764985319459968, 'colsample_bytree': 0.9, 'subsample': 0.5, 'learning_rate': 0.09994561613824188, 'max_depth': 27, 'num_leaves': 327, 'min_child_samples': 103}. Best is trial 33 with value: 0.0683578093114261.\u001b[0m\n",
      "\u001b[32m[I 2021-09-20 15:14:23,335]\u001b[0m Trial 45 finished with value: 0.07240797640576987 and parameters: {'reg_alpha': 2.429039740087695, 'reg_lambda': 0.004994769651653653, 'colsample_bytree': 0.9, 'subsample': 0.5, 'learning_rate': 0.2322188126256918, 'max_depth': 53, 'num_leaves': 200, 'min_child_samples': 25}. Best is trial 33 with value: 0.0683578093114261.\u001b[0m\n",
      "\u001b[32m[I 2021-09-20 15:14:52,942]\u001b[0m Trial 46 finished with value: 0.1354065344365444 and parameters: {'reg_alpha': 1.0425852511795486, 'reg_lambda': 0.001520861456515535, 'colsample_bytree': 0.9, 'subsample': 0.5, 'learning_rate': 0.010298757735763714, 'max_depth': 28, 'num_leaves': 392, 'min_child_samples': 61}. Best is trial 33 with value: 0.0683578093114261.\u001b[0m\n",
      "\u001b[32m[I 2021-09-20 15:15:17,384]\u001b[0m Trial 47 finished with value: 0.08307175980526459 and parameters: {'reg_alpha': 5.196426282729201, 'reg_lambda': 9.300558868463252, 'colsample_bytree': 0.9, 'subsample': 0.5, 'learning_rate': 0.08219417212400046, 'max_depth': 21, 'num_leaves': 292, 'min_child_samples': 105}. Best is trial 33 with value: 0.0683578093114261.\u001b[0m\n",
      "\u001b[32m[I 2021-09-20 15:15:44,152]\u001b[0m Trial 48 finished with value: 0.08420577530674007 and parameters: {'reg_alpha': 0.40295293254049225, 'reg_lambda': 0.006575358414546542, 'colsample_bytree': 0.9, 'subsample': 0.5, 'learning_rate': 0.045784186956708224, 'max_depth': 46, 'num_leaves': 196, 'min_child_samples': 158}. Best is trial 33 with value: 0.0683578093114261.\u001b[0m\n",
      "\u001b[32m[I 2021-09-20 15:16:09,522]\u001b[0m Trial 49 finished with value: 0.10849153377531387 and parameters: {'reg_alpha': 0.8497626562802495, 'reg_lambda': 3.736813387352836, 'colsample_bytree': 0.9, 'subsample': 0.5, 'learning_rate': 0.019132193285812376, 'max_depth': 37, 'num_leaves': 431, 'min_child_samples': 135}. Best is trial 33 with value: 0.0683578093114261.\u001b[0m\n"
     ]
    }
   ],
   "source": [
    "study = optuna.create_study(direction='minimize')\n",
    "study.optimize(objective_wp4, n_trials=50)\n",
    "#write_results('Data/Hyperparametrization/lgbm_vmd_50trials_cv.xlsx', 'wp1', study.trials_dataframe())\n",
    "params_4=study.best_trial.params\n",
    "#best_trial"
   ]
  },
  {
   "cell_type": "code",
   "execution_count": 36,
   "id": "808956f9-3702-4696-9f0a-fdd0905f8746",
   "metadata": {},
   "outputs": [
    {
     "data": {
      "text/plain": [
       "{'reg_alpha': 0.07849666964165539,\n",
       " 'reg_lambda': 0.0017033350344194495,\n",
       " 'colsample_bytree': 1.0,\n",
       " 'subsample': 0.5,\n",
       " 'learning_rate': 0.06675968989843854,\n",
       " 'max_depth': 56,\n",
       " 'num_leaves': 511,\n",
       " 'min_child_samples': 2}"
      ]
     },
     "execution_count": 36,
     "metadata": {},
     "output_type": "execute_result"
    }
   ],
   "source": [
    "params_4"
   ]
  },
  {
   "cell_type": "code",
   "execution_count": 37,
   "id": "1ee00770-5a81-48e2-a95e-30ce54f1b811",
   "metadata": {},
   "outputs": [
    {
     "name": "stdout",
     "output_type": "stream",
     "text": [
      "-----------LGBM CROSS VALIDATION BEGINNING-----------\n",
      "RMSE score: 0.0987960580644649\n",
      "MAE score: 0.06573301889609909\n",
      "None\n",
      "-------------------FOLD 1-----------------\n",
      "RMSE score: 0.10103360135680922\n",
      "MAE score: 0.06854243728906631\n",
      "None\n",
      "-------------------FOLD 2-----------------\n",
      "RMSE score: 0.10847525746985424\n",
      "MAE score: 0.07207916862965734\n",
      "None\n",
      "-------------------FOLD 3-----------------\n",
      "RMSE score: 0.10645820644997828\n",
      "MAE score: 0.0692416591681621\n",
      "None\n",
      "-------------------FOLD 4-----------------\n",
      "RMSE score: 0.10068858509979893\n",
      "MAE score: 0.06716859395533498\n",
      "None\n",
      "-------------------FOLD 5-----------------\n",
      "---------------CROSS VALIDATION COMPLETE-------------\n",
      "--------------------------RMSE-----------------------\n",
      "Scores: [0.0987960580644649, 0.10103360135680922, 0.10847525746985424, 0.10645820644997828, 0.10068858509979893]\n",
      "Mean: 0.10309034168818113\n",
      "Std: 0.0037088898169375067\n",
      "--------------------------MAE------------------------\n",
      "Scores: [0.06573301889609909, 0.06854243728906631, 0.07207916862965734, 0.0692416591681621, 0.06716859395533498]\n",
      "Mean: 0.06855297558766396\n",
      "Std: 0.002134343072020942\n"
     ]
    }
   ],
   "source": [
    "lgbm_scaled_cross_validation(X=X4,y=y4,params=params_4,cv=5)"
   ]
  },
  {
   "cell_type": "markdown",
   "id": "640e4455-cfc5-493a-b3e6-95b608171368",
   "metadata": {},
   "source": [
    "## WP5"
   ]
  },
  {
   "cell_type": "markdown",
   "id": "57cd823c-ff5c-41ba-9e0e-8b8d75cf2c65",
   "metadata": {},
   "source": [
    "| |  | Mean | Std |\n",
    "| --- | --- | --- | --- |\n",
    "| No params | RMSE | 0.11722129743692011 | 0.0017732599261516583 |\n",
    "| No params - Std | RMSE | 0.11729790317307003 | 0.0014884067903823003 |\n",
    "| After tuning - 50trials| RMSE | 0.07721413638593042 | 0.0011020420293213135 |\n",
    "| After tuning - 100trials| RMSE | 0.07297648991888442 | 0.0014970317509404526 |\n",
    "| After tuning - 100trials - warm start | RMSE | 0.07362803793800192 | 0.0013223501622953715 |\n",
    "| After tuning 50trials - std - warm start | RMSE | 0.07379631452164911 | 0.0019249511778190373 |\n",
    "| After tuning 50trials W.S - RobustScaler | RMSE | 0.07295312559507504 | 0.0017094978756410563 |\n",
    "| 50 trials per vmf | RMSE | 0.06800612721907516 | 0.001364694216955839 |\n",
    "| --- | --- | --- | --- |\n",
    "| No params | MAE | 0.08497074568090211 | 0.0009101526501392155 |\n",
    "| No params - Std | MAE | 0.0849648687365363 | 0.0011901882563545429 |\n",
    "| After tuning - 50trials| MAE | 0.051677856581467195 | 0.0006374939894477714 |\n",
    "| After tuning - 100trials| MAE | 0.04765271414503236 | 0.0006257356756510128 |\n",
    "| After tuning - 100trials - warm trials | MAE | 0.04785179154681675 | 0.0005795839605605526 |\n",
    "| After tuning 50trials - std - warm start | MAE | 0.0480147138609328 | 0.0008230908433814974 |\n",
    "| After tuning 50trials W.S - RobustScaler | MAE | 0.04783683731205745 | 0.0007485320718195094 |\n",
    "| 50 trials per vmf | MAE | 0.04587332776201404 | 0.0008842958670279714 |"
   ]
  },
  {
   "cell_type": "code",
   "execution_count": 38,
   "id": "44f38883-24ef-46f1-bc0b-1070f4e36d2f",
   "metadata": {},
   "outputs": [],
   "source": [
    "wp5_X = train_wp5[[c for c in train_wp5 if c not in [\"wp\"]] + [\"wp\"]].drop(to_drop, axis = 1)\n",
    "X5 = wp5_X.drop('wp', axis = 1)\n",
    "y5 = wp5_X['wp']"
   ]
  },
  {
   "cell_type": "code",
   "execution_count": 39,
   "id": "1d8183f6-4e22-46c9-a77d-0f727c1cb683",
   "metadata": {},
   "outputs": [],
   "source": [
    "def objective_wp5(trial,data=X5,target=y5,cv=5):\n",
    "    #train_x, test_x = create_dataset(data,0)\n",
    "    #train_y,test_y=create_dataset(target,0)\n",
    "    return hyperparametrization_cv(trial, data,target,cv)"
   ]
  },
  {
   "cell_type": "code",
   "execution_count": 40,
   "id": "13f56555-61ef-4156-a3d4-96ffea211a43",
   "metadata": {},
   "outputs": [
    {
     "name": "stderr",
     "output_type": "stream",
     "text": [
      "\u001b[32m[I 2021-09-20 15:17:21,060]\u001b[0m A new study created in memory with name: no-name-d41505d8-a92c-4a6d-80a9-26b42b0614dc\u001b[0m\n",
      "\u001b[32m[I 2021-09-20 15:17:41,685]\u001b[0m Trial 0 finished with value: 0.10294870386616226 and parameters: {'reg_alpha': 0.00664835472481104, 'reg_lambda': 2.693966081562147, 'colsample_bytree': 0.3, 'subsample': 0.8, 'learning_rate': 0.043484964788240946, 'max_depth': 52, 'num_leaves': 128, 'min_child_samples': 124}. Best is trial 0 with value: 0.10294870386616226.\u001b[0m\n",
      "\u001b[32m[I 2021-09-20 15:18:05,021]\u001b[0m Trial 1 finished with value: 0.16198752089901264 and parameters: {'reg_alpha': 5.372719859102916, 'reg_lambda': 1.1800016503863906, 'colsample_bytree': 0.9, 'subsample': 1.0, 'learning_rate': 0.009076457965320747, 'max_depth': 28, 'num_leaves': 381, 'min_child_samples': 56}. Best is trial 0 with value: 0.10294870386616226.\u001b[0m\n",
      "\u001b[32m[I 2021-09-20 15:18:24,684]\u001b[0m Trial 2 finished with value: 0.11484448554555231 and parameters: {'reg_alpha': 1.0851547438162845, 'reg_lambda': 5.4116259521562435, 'colsample_bytree': 0.4, 'subsample': 0.6, 'learning_rate': 0.02888958330055569, 'max_depth': 43, 'num_leaves': 271, 'min_child_samples': 220}. Best is trial 0 with value: 0.10294870386616226.\u001b[0m\n",
      "\u001b[32m[I 2021-09-20 15:18:43,366]\u001b[0m Trial 3 finished with value: 0.22392943652828792 and parameters: {'reg_alpha': 7.546452072233691, 'reg_lambda': 0.01876401748332544, 'colsample_bytree': 0.4, 'subsample': 0.7, 'learning_rate': 0.0030652326659297616, 'max_depth': 37, 'num_leaves': 56, 'min_child_samples': 20}. Best is trial 0 with value: 0.10294870386616226.\u001b[0m\n",
      "\u001b[32m[I 2021-09-20 15:19:04,772]\u001b[0m Trial 4 finished with value: 0.08716230640707959 and parameters: {'reg_alpha': 0.9432189416293112, 'reg_lambda': 1.2158139984831469, 'colsample_bytree': 0.4, 'subsample': 1.0, 'learning_rate': 0.2100008689477661, 'max_depth': 57, 'num_leaves': 947, 'min_child_samples': 232}. Best is trial 4 with value: 0.08716230640707959.\u001b[0m\n",
      "\u001b[32m[I 2021-09-20 15:19:26,525]\u001b[0m Trial 5 finished with value: 0.08875270868713041 and parameters: {'reg_alpha': 5.065250099586125, 'reg_lambda': 0.02670177223976791, 'colsample_bytree': 0.8, 'subsample': 1.0, 'learning_rate': 0.28428597767394065, 'max_depth': 79, 'num_leaves': 967, 'min_child_samples': 252}. Best is trial 4 with value: 0.08716230640707959.\u001b[0m\n",
      "\u001b[32m[I 2021-09-20 15:19:45,905]\u001b[0m Trial 6 finished with value: 0.09065630260815374 and parameters: {'reg_alpha': 0.21849845399853998, 'reg_lambda': 2.4555015518824845, 'colsample_bytree': 0.5, 'subsample': 1.0, 'learning_rate': 0.22304629598380626, 'max_depth': 84, 'num_leaves': 61, 'min_child_samples': 261}. Best is trial 4 with value: 0.08716230640707959.\u001b[0m\n",
      "\u001b[32m[I 2021-09-20 15:20:08,734]\u001b[0m Trial 7 finished with value: 0.10987109897712859 and parameters: {'reg_alpha': 2.404473463212173, 'reg_lambda': 0.001082388661581784, 'colsample_bytree': 1.0, 'subsample': 0.4, 'learning_rate': 0.02938001996833284, 'max_depth': 45, 'num_leaves': 813, 'min_child_samples': 199}. Best is trial 4 with value: 0.08716230640707959.\u001b[0m\n",
      "\u001b[32m[I 2021-09-20 15:20:29,955]\u001b[0m Trial 8 finished with value: 0.0884718661417729 and parameters: {'reg_alpha': 0.07239949356272922, 'reg_lambda': 1.7761961397683217, 'colsample_bytree': 0.3, 'subsample': 0.5, 'learning_rate': 0.21355787702413423, 'max_depth': 66, 'num_leaves': 292, 'min_child_samples': 206}. Best is trial 4 with value: 0.08716230640707959.\u001b[0m\n",
      "\u001b[32m[I 2021-09-20 15:20:54,205]\u001b[0m Trial 9 finished with value: 0.22062984687570908 and parameters: {'reg_alpha': 0.11300427502733429, 'reg_lambda': 0.06311700347518115, 'colsample_bytree': 0.8, 'subsample': 0.7, 'learning_rate': 0.0028392653486343207, 'max_depth': 57, 'num_leaves': 686, 'min_child_samples': 222}. Best is trial 4 with value: 0.08716230640707959.\u001b[0m\n",
      "\u001b[32m[I 2021-09-20 15:21:16,680]\u001b[0m Trial 10 finished with value: 0.09305276356907619 and parameters: {'reg_alpha': 0.0011838131090212583, 'reg_lambda': 0.3272038643094584, 'colsample_bytree': 0.7, 'subsample': 0.6, 'learning_rate': 0.08114497771709216, 'max_depth': 99, 'num_leaves': 616, 'min_child_samples': 296}. Best is trial 4 with value: 0.08716230640707959.\u001b[0m\n",
      "\u001b[32m[I 2021-09-20 15:21:39,865]\u001b[0m Trial 11 finished with value: 0.08682653887241445 and parameters: {'reg_alpha': 0.020625897288539318, 'reg_lambda': 0.32498855986369046, 'colsample_bytree': 0.3, 'subsample': 0.5, 'learning_rate': 0.10916579321783669, 'max_depth': 70, 'num_leaves': 471, 'min_child_samples': 145}. Best is trial 11 with value: 0.08682653887241445.\u001b[0m\n",
      "\u001b[32m[I 2021-09-20 15:22:06,975]\u001b[0m Trial 12 finished with value: 0.08262445394090329 and parameters: {'reg_alpha': 0.024526632377300746, 'reg_lambda': 0.2968173483855207, 'colsample_bytree': 0.6, 'subsample': 0.5, 'learning_rate': 0.09393463473805547, 'max_depth': 69, 'num_leaves': 557, 'min_child_samples': 133}. Best is trial 12 with value: 0.08262445394090329.\u001b[0m\n",
      "\u001b[32m[I 2021-09-20 15:22:33,995]\u001b[0m Trial 13 finished with value: 0.08539989211060997 and parameters: {'reg_alpha': 0.016678721470958224, 'reg_lambda': 0.23918224140127864, 'colsample_bytree': 0.6, 'subsample': 0.5, 'learning_rate': 0.07237018486651033, 'max_depth': 78, 'num_leaves': 536, 'min_child_samples': 132}. Best is trial 12 with value: 0.08262445394090329.\u001b[0m\n",
      "\u001b[32m[I 2021-09-20 15:23:04,760]\u001b[0m Trial 14 finished with value: 0.1509683472857112 and parameters: {'reg_alpha': 0.00817287834238686, 'reg_lambda': 0.19802909580169434, 'colsample_bytree': 0.6, 'subsample': 0.5, 'learning_rate': 0.010408415000176969, 'max_depth': 87, 'num_leaves': 582, 'min_child_samples': 93}. Best is trial 12 with value: 0.08262445394090329.\u001b[0m\n",
      "\u001b[32m[I 2021-09-20 15:23:30,074]\u001b[0m Trial 15 finished with value: 0.08730893412361924 and parameters: {'reg_alpha': 0.028975619277025605, 'reg_lambda': 0.0063064333981496315, 'colsample_bytree': 0.6, 'subsample': 0.5, 'learning_rate': 0.07759098501327244, 'max_depth': 74, 'num_leaves': 737, 'min_child_samples': 168}. Best is trial 12 with value: 0.08262445394090329.\u001b[0m\n",
      "\u001b[32m[I 2021-09-20 15:24:00,894]\u001b[0m Trial 16 finished with value: 0.08684053451723146 and parameters: {'reg_alpha': 0.0019015052070219748, 'reg_lambda': 0.10494759575431147, 'colsample_bytree': 0.6, 'subsample': 0.5, 'learning_rate': 0.051666547221825565, 'max_depth': 94, 'num_leaves': 481, 'min_child_samples': 94}. Best is trial 12 with value: 0.08262445394090329.\u001b[0m\n",
      "\u001b[32m[I 2021-09-20 15:24:24,099]\u001b[0m Trial 17 finished with value: 0.12699992824601605 and parameters: {'reg_alpha': 0.004697881990370665, 'reg_lambda': 9.896931245357804, 'colsample_bytree': 0.6, 'subsample': 0.4, 'learning_rate': 0.017607269872104425, 'max_depth': 65, 'num_leaves': 559, 'min_child_samples': 165}. Best is trial 12 with value: 0.08262445394090329.\u001b[0m\n",
      "\u001b[32m[I 2021-09-20 15:24:55,904]\u001b[0m Trial 18 finished with value: 0.24524902866041637 and parameters: {'reg_alpha': 0.026031403239215614, 'reg_lambda': 0.5559257737525183, 'colsample_bytree': 0.6, 'subsample': 0.8, 'learning_rate': 0.0011488803146532348, 'max_depth': 77, 'num_leaves': 805, 'min_child_samples': 81}. Best is trial 12 with value: 0.08262445394090329.\u001b[0m\n",
      "\u001b[32m[I 2021-09-20 15:25:28,652]\u001b[0m Trial 19 finished with value: 0.0797583588351681 and parameters: {'reg_alpha': 0.16500780158244738, 'reg_lambda': 0.03576000410459617, 'colsample_bytree': 1.0, 'subsample': 0.5, 'learning_rate': 0.1239411788816387, 'max_depth': 88, 'num_leaves': 378, 'min_child_samples': 121}. Best is trial 19 with value: 0.0797583588351681.\u001b[0m\n",
      "\u001b[32m[I 2021-09-20 15:26:08,934]\u001b[0m Trial 20 finished with value: 0.0768929425738124 and parameters: {'reg_alpha': 0.3699695929920406, 'reg_lambda': 0.004562704053080461, 'colsample_bytree': 1.0, 'subsample': 0.5, 'learning_rate': 0.13743003530022257, 'max_depth': 94, 'num_leaves': 246, 'min_child_samples': 24}. Best is trial 20 with value: 0.0768929425738124.\u001b[0m\n",
      "\u001b[32m[I 2021-09-20 15:26:45,528]\u001b[0m Trial 21 finished with value: 0.07736411375649686 and parameters: {'reg_alpha': 0.19304132227592832, 'reg_lambda': 0.0039094206161360895, 'colsample_bytree': 1.0, 'subsample': 0.5, 'learning_rate': 0.12542930548600173, 'max_depth': 90, 'num_leaves': 239, 'min_child_samples': 22}. Best is trial 20 with value: 0.0768929425738124.\u001b[0m\n",
      "\u001b[32m[I 2021-09-20 15:27:21,397]\u001b[0m Trial 22 finished with value: 0.0773559981275303 and parameters: {'reg_alpha': 0.28333482591835407, 'reg_lambda': 0.0034777244898955622, 'colsample_bytree': 1.0, 'subsample': 0.5, 'learning_rate': 0.145253762881543, 'max_depth': 93, 'num_leaves': 194, 'min_child_samples': 3}. Best is trial 20 with value: 0.0768929425738124.\u001b[0m\n",
      "\u001b[32m[I 2021-09-20 15:27:57,548]\u001b[0m Trial 23 finished with value: 0.07748342530237211 and parameters: {'reg_alpha': 0.34721739133059887, 'reg_lambda': 0.0025038395015863244, 'colsample_bytree': 1.0, 'subsample': 0.5, 'learning_rate': 0.14396551177242872, 'max_depth': 94, 'num_leaves': 204, 'min_child_samples': 3}. Best is trial 20 with value: 0.0768929425738124.\u001b[0m\n",
      "\u001b[32m[I 2021-09-20 15:28:27,208]\u001b[0m Trial 24 finished with value: 0.07859710082171252 and parameters: {'reg_alpha': 0.6518077805007045, 'reg_lambda': 0.007045101376267427, 'colsample_bytree': 1.0, 'subsample': 0.5, 'learning_rate': 0.15379960814247295, 'max_depth': 98, 'num_leaves': 170, 'min_child_samples': 40}. Best is trial 20 with value: 0.0768929425738124.\u001b[0m\n",
      "\u001b[32m[I 2021-09-20 15:28:45,444]\u001b[0m Trial 25 finished with value: 0.11381531451043354 and parameters: {'reg_alpha': 0.06260295080479365, 'reg_lambda': 0.006693633162415135, 'colsample_bytree': 1.0, 'subsample': 0.5, 'learning_rate': 0.05098035868167977, 'max_depth': 92, 'num_leaves': 11, 'min_child_samples': 49}. Best is trial 20 with value: 0.0768929425738124.\u001b[0m\n",
      "\u001b[32m[I 2021-09-20 15:29:27,763]\u001b[0m Trial 26 finished with value: 0.0781028005710981 and parameters: {'reg_alpha': 0.3361760574052011, 'reg_lambda': 0.0010131204709427427, 'colsample_bytree': 1.0, 'subsample': 0.6, 'learning_rate': 0.2930579547902572, 'max_depth': 87, 'num_leaves': 275, 'min_child_samples': 1}. Best is trial 20 with value: 0.0768929425738124.\u001b[0m\n",
      "\u001b[32m[I 2021-09-20 15:30:09,423]\u001b[0m Trial 27 finished with value: 0.10837734976045484 and parameters: {'reg_alpha': 0.4875107292338, 'reg_lambda': 0.002902307768943442, 'colsample_bytree': 1.0, 'subsample': 0.7, 'learning_rate': 0.020388103471820993, 'max_depth': 100, 'num_leaves': 364, 'min_child_samples': 29}. Best is trial 20 with value: 0.0768929425738124.\u001b[0m\n",
      "\u001b[32m[I 2021-09-20 15:30:37,682]\u001b[0m Trial 28 finished with value: 0.08036457162408536 and parameters: {'reg_alpha': 1.8048420652906894, 'reg_lambda': 0.012936177539488633, 'colsample_bytree': 0.9, 'subsample': 0.4, 'learning_rate': 0.16254948680413475, 'max_depth': 83, 'num_leaves': 209, 'min_child_samples': 63}. Best is trial 20 with value: 0.0768929425738124.\u001b[0m\n",
      "\u001b[32m[I 2021-09-20 15:31:02,857]\u001b[0m Trial 29 finished with value: 0.09991716893859207 and parameters: {'reg_alpha': 0.04958383872496078, 'reg_lambda': 0.0027594205895802065, 'colsample_bytree': 0.5, 'subsample': 0.8, 'learning_rate': 0.036545853537882964, 'max_depth': 92, 'num_leaves': 130, 'min_child_samples': 24}. Best is trial 20 with value: 0.0768929425738124.\u001b[0m\n",
      "\u001b[32m[I 2021-09-20 15:31:26,657]\u001b[0m Trial 30 finished with value: 0.09107317325052884 and parameters: {'reg_alpha': 0.1842206524596634, 'reg_lambda': 0.010900774678059577, 'colsample_bytree': 0.7, 'subsample': 0.8, 'learning_rate': 0.06429883473859384, 'max_depth': 20, 'num_leaves': 108, 'min_child_samples': 76}. Best is trial 20 with value: 0.0768929425738124.\u001b[0m\n",
      "\u001b[32m[I 2021-09-20 15:32:04,022]\u001b[0m Trial 31 finished with value: 0.07735559489226028 and parameters: {'reg_alpha': 0.3504732186912856, 'reg_lambda': 0.0028445227992322324, 'colsample_bytree': 1.0, 'subsample': 0.5, 'learning_rate': 0.14154823776473402, 'max_depth': 95, 'num_leaves': 228, 'min_child_samples': 4}. Best is trial 20 with value: 0.0768929425738124.\u001b[0m\n",
      "\u001b[32m[I 2021-09-20 15:32:46,373]\u001b[0m Trial 32 finished with value: 0.0765395174464619 and parameters: {'reg_alpha': 0.11559619504005254, 'reg_lambda': 0.0018819351671583626, 'colsample_bytree': 1.0, 'subsample': 0.5, 'learning_rate': 0.10452284852128699, 'max_depth': 91, 'num_leaves': 316, 'min_child_samples': 14}. Best is trial 32 with value: 0.0765395174464619.\u001b[0m\n",
      "\u001b[32m[I 2021-09-20 15:33:27,077]\u001b[0m Trial 33 finished with value: 0.07704481763922899 and parameters: {'reg_alpha': 1.5091547703580435, 'reg_lambda': 0.0015276113752679004, 'colsample_bytree': 1.0, 'subsample': 0.5, 'learning_rate': 0.18938070980073837, 'max_depth': 82, 'num_leaves': 338, 'min_child_samples': 5}. Best is trial 32 with value: 0.0765395174464619.\u001b[0m\n",
      "\u001b[32m[I 2021-09-20 15:33:54,101]\u001b[0m Trial 34 finished with value: 0.14752677428884067 and parameters: {'reg_alpha': 2.1703370546723284, 'reg_lambda': 0.0016619984344575154, 'colsample_bytree': 1.0, 'subsample': 0.5, 'learning_rate': 0.010851503866797894, 'max_depth': 82, 'num_leaves': 325, 'min_child_samples': 58}. Best is trial 32 with value: 0.0765395174464619.\u001b[0m\n",
      "\u001b[32m[I 2021-09-20 15:34:29,457]\u001b[0m Trial 35 finished with value: 0.0770000176259463 and parameters: {'reg_alpha': 1.238631859084193, 'reg_lambda': 0.001707361561264976, 'colsample_bytree': 0.9, 'subsample': 0.5, 'learning_rate': 0.18648860163491884, 'max_depth': 97, 'num_leaves': 428, 'min_child_samples': 37}. Best is trial 32 with value: 0.0765395174464619.\u001b[0m\n",
      "\u001b[32m[I 2021-09-20 15:35:05,783]\u001b[0m Trial 36 finished with value: 0.07775810947624434 and parameters: {'reg_alpha': 0.9868687743465869, 'reg_lambda': 0.00174582129358607, 'colsample_bytree': 0.9, 'subsample': 0.6, 'learning_rate': 0.21665186820892934, 'max_depth': 100, 'num_leaves': 434, 'min_child_samples': 36}. Best is trial 32 with value: 0.0765395174464619.\u001b[0m\n",
      "\u001b[32m[I 2021-09-20 15:35:27,826]\u001b[0m Trial 37 finished with value: 0.18351888197713243 and parameters: {'reg_alpha': 3.961068031812628, 'reg_lambda': 0.0015486427600527868, 'colsample_bytree': 0.9, 'subsample': 1.0, 'learning_rate': 0.006230406274294268, 'max_depth': 84, 'num_leaves': 427, 'min_child_samples': 105}. Best is trial 32 with value: 0.0765395174464619.\u001b[0m\n",
      "\u001b[32m[I 2021-09-20 15:35:52,578]\u001b[0m Trial 38 finished with value: 0.08449685742847216 and parameters: {'reg_alpha': 1.4726515674756389, 'reg_lambda': 0.004914723689285952, 'colsample_bytree': 0.4, 'subsample': 0.7, 'learning_rate': 0.28907526725903765, 'max_depth': 50, 'num_leaves': 330, 'min_child_samples': 69}. Best is trial 32 with value: 0.0765395174464619.\u001b[0m\n",
      "\u001b[32m[I 2021-09-20 15:36:28,935]\u001b[0m Trial 39 finished with value: 0.07693351399708336 and parameters: {'reg_alpha': 0.6716366222087454, 'reg_lambda': 0.013677136882008044, 'colsample_bytree': 0.9, 'subsample': 0.5, 'learning_rate': 0.18434811110003563, 'max_depth': 73, 'num_leaves': 390, 'min_child_samples': 48}. Best is trial 32 with value: 0.0765395174464619.\u001b[0m\n",
      "\u001b[32m[I 2021-09-20 15:37:11,709]\u001b[0m Trial 40 finished with value: 0.08703791676139432 and parameters: {'reg_alpha': 0.10254277198856011, 'reg_lambda': 0.03152607813554142, 'colsample_bytree': 0.9, 'subsample': 1.0, 'learning_rate': 0.039401330618463216, 'max_depth': 74, 'num_leaves': 426, 'min_child_samples': 47}. Best is trial 32 with value: 0.0765395174464619.\u001b[0m\n",
      "\u001b[32m[I 2021-09-20 15:37:50,800]\u001b[0m Trial 41 finished with value: 0.07605626925161615 and parameters: {'reg_alpha': 0.6270951487588436, 'reg_lambda': 0.018945486641889896, 'colsample_bytree': 0.9, 'subsample': 0.5, 'learning_rate': 0.184928300426814, 'max_depth': 81, 'num_leaves': 341, 'min_child_samples': 16}. Best is trial 41 with value: 0.07605626925161615.\u001b[0m\n",
      "\u001b[32m[I 2021-09-20 15:38:27,595]\u001b[0m Trial 42 finished with value: 0.07739229462891734 and parameters: {'reg_alpha': 0.6359364526055357, 'reg_lambda': 0.016797712562204924, 'colsample_bytree': 0.9, 'subsample': 0.5, 'learning_rate': 0.09956595903238841, 'max_depth': 61, 'num_leaves': 289, 'min_child_samples': 20}. Best is trial 41 with value: 0.07605626925161615.\u001b[0m\n",
      "\u001b[32m[I 2021-09-20 15:38:56,044]\u001b[0m Trial 43 finished with value: 0.08173291345684117 and parameters: {'reg_alpha': 3.60896535783076, 'reg_lambda': 0.009406209713543818, 'colsample_bytree': 0.9, 'subsample': 0.5, 'learning_rate': 0.21858382201077542, 'max_depth': 88, 'num_leaves': 403, 'min_child_samples': 37}. Best is trial 41 with value: 0.07605626925161615.\u001b[0m\n",
      "\u001b[32m[I 2021-09-20 15:39:39,214]\u001b[0m Trial 44 finished with value: 0.0762344436181647 and parameters: {'reg_alpha': 0.6679314419082699, 'reg_lambda': 0.02120126474613933, 'colsample_bytree': 0.9, 'subsample': 0.5, 'learning_rate': 0.1884295696497534, 'max_depth': 74, 'num_leaves': 481, 'min_child_samples': 19}. Best is trial 41 with value: 0.07605626925161615.\u001b[0m\n",
      "\u001b[32m[I 2021-09-20 15:40:23,190]\u001b[0m Trial 45 finished with value: 0.07612127143283313 and parameters: {'reg_alpha': 0.5501816460569856, 'reg_lambda': 0.07223729348529732, 'colsample_bytree': 0.8, 'subsample': 0.5, 'learning_rate': 0.10906366330773594, 'max_depth': 72, 'num_leaves': 501, 'min_child_samples': 19}. Best is trial 41 with value: 0.07605626925161615.\u001b[0m\n",
      "\u001b[32m[I 2021-09-20 15:40:51,499]\u001b[0m Trial 46 finished with value: 0.09452740035011198 and parameters: {'reg_alpha': 7.322644313767958, 'reg_lambda': 0.053307421261964534, 'colsample_bytree': 0.8, 'subsample': 0.4, 'learning_rate': 0.0587643671284311, 'max_depth': 65, 'num_leaves': 621, 'min_child_samples': 17}. Best is trial 41 with value: 0.07605626925161615.\u001b[0m\n",
      "\u001b[32m[I 2021-09-20 15:41:38,789]\u001b[0m Trial 47 finished with value: 0.07605533211432426 and parameters: {'reg_alpha': 0.471286553222722, 'reg_lambda': 0.10555787976936198, 'colsample_bytree': 0.8, 'subsample': 0.5, 'learning_rate': 0.09625106303517775, 'max_depth': 79, 'num_leaves': 510, 'min_child_samples': 14}. Best is trial 47 with value: 0.07605533211432426.\u001b[0m\n",
      "\u001b[32m[I 2021-09-20 15:42:19,497]\u001b[0m Trial 48 finished with value: 0.07710140986125986 and parameters: {'reg_alpha': 0.1504465465930275, 'reg_lambda': 0.11296520791287178, 'colsample_bytree': 0.8, 'subsample': 0.6, 'learning_rate': 0.0999618801753699, 'max_depth': 70, 'num_leaves': 524, 'min_child_samples': 58}. Best is trial 47 with value: 0.07605533211432426.\u001b[0m\n",
      "\u001b[32m[I 2021-09-20 15:43:07,877]\u001b[0m Trial 49 finished with value: 0.09613756765281718 and parameters: {'reg_alpha': 0.5399595282252553, 'reg_lambda': 0.051498158532490894, 'colsample_bytree': 0.8, 'subsample': 0.7, 'learning_rate': 0.0260885783301901, 'max_depth': 79, 'num_leaves': 635, 'min_child_samples': 15}. Best is trial 47 with value: 0.07605533211432426.\u001b[0m\n"
     ]
    }
   ],
   "source": [
    "study = optuna.create_study(direction='minimize')\n",
    "study.optimize(objective_wp5, n_trials=50)\n",
    "#write_results('Data/Hyperparametrization/lgbm_vmd_50trials_cv.xlsx', 'wp1', study.trials_dataframe())\n",
    "params_5=study.best_trial.params\n",
    "#best_trial"
   ]
  },
  {
   "cell_type": "code",
   "execution_count": 41,
   "id": "5667fa7b-c9ed-4430-8882-f519f9ef0076",
   "metadata": {},
   "outputs": [
    {
     "data": {
      "text/plain": [
       "{'reg_alpha': 0.471286553222722,\n",
       " 'reg_lambda': 0.10555787976936198,\n",
       " 'colsample_bytree': 0.8,\n",
       " 'subsample': 0.5,\n",
       " 'learning_rate': 0.09625106303517775,\n",
       " 'max_depth': 79,\n",
       " 'num_leaves': 510,\n",
       " 'min_child_samples': 14}"
      ]
     },
     "execution_count": 41,
     "metadata": {},
     "output_type": "execute_result"
    }
   ],
   "source": [
    "params_5"
   ]
  },
  {
   "cell_type": "code",
   "execution_count": 42,
   "id": "eca43925-4129-49fe-a353-3936f5488039",
   "metadata": {},
   "outputs": [
    {
     "name": "stdout",
     "output_type": "stream",
     "text": [
      "-----------LGBM CROSS VALIDATION BEGINNING-----------\n",
      "RMSE score: 0.10796566879558035\n",
      "MAE score: 0.07265940752576183\n",
      "None\n",
      "-------------------FOLD 1-----------------\n",
      "RMSE score: 0.10868536072861915\n",
      "MAE score: 0.07265479769030136\n",
      "None\n",
      "-------------------FOLD 2-----------------\n",
      "RMSE score: 0.11848871515910664\n",
      "MAE score: 0.07780580895325959\n",
      "None\n",
      "-------------------FOLD 3-----------------\n",
      "RMSE score: 0.11772448964398359\n",
      "MAE score: 0.07827057024530713\n",
      "None\n",
      "-------------------FOLD 4-----------------\n",
      "RMSE score: 0.1183575539940442\n",
      "MAE score: 0.07916669158465629\n",
      "None\n",
      "-------------------FOLD 5-----------------\n",
      "---------------CROSS VALIDATION COMPLETE-------------\n",
      "--------------------------RMSE-----------------------\n",
      "Scores: [0.10796566879558035, 0.10868536072861915, 0.11848871515910664, 0.11772448964398359, 0.1183575539940442]\n",
      "Mean: 0.1142443576642668\n",
      "Std: 0.004844969639282624\n",
      "--------------------------MAE------------------------\n",
      "Scores: [0.07265940752576183, 0.07265479769030136, 0.07780580895325959, 0.07827057024530713, 0.07916669158465629]\n",
      "Mean: 0.07611145519985724\n",
      "Std: 0.0028541967721498543\n"
     ]
    }
   ],
   "source": [
    "lgbm_scaled_cross_validation(X=X5,y=y5, params=params_5,cv=5)"
   ]
  },
  {
   "cell_type": "markdown",
   "id": "ccd547b2-24e6-4023-8959-d7955620108f",
   "metadata": {},
   "source": [
    "## WP6"
   ]
  },
  {
   "cell_type": "markdown",
   "id": "284dc175-a45f-4e3f-b577-2833794fe5ae",
   "metadata": {},
   "source": [
    "| |  | Mean | Std |\n",
    "| --- | --- | --- | --- |\n",
    "| No params | RMSE | 0.0940394026188472 | 0.0010749562915831372 |\n",
    "| No params - std | RMSE | 0.09409110695713666 | 0.0013476052174559326 |\n",
    "| After tuning - 50trials| RMSE | 0.05404362835213171 | 0.0008595325139047733 |\n",
    "| After tuning 100trials| RMSE | 0.054861488499908594 | 0.0007335378238383901 |\n",
    "| After tuning 50trials std - W.S. | RMSE |  0.05446642457662869 | 0.0009850877593637966 |\n",
    "| After tuning with W.S. - 50trials - RobustScaler | RMSE | 0.053430744425113176 | 0.0010865698281516414 ||\n",
    "| 50 trials per vmf | RMSE | 0.05055279132726877 | 0.0006313072455945034 |\n",
    "| --- | --- | --- | --- |\n",
    "| No params | MAE | 0.070455643271004 | 0.0006641538274191148 |\n",
    "| After tuning - 50trials| MAE | 0.03657758274248596 | 0.0005325521314198646 |\n",
    "| After tuning 100trials| MAE | 0.03783933495157941 | 0.00045956939815828987 |\n",
    "| After tuning 50trials std - warm start| MAE | 0.0367847898055025 | 0.00039001216012464674 |\n",
    "| After tuning with W.S. - 50trials - RobustScaler | RMSE | 0.03652663713189234 | 0.0006251342721346248 ||\n",
    "| 50 trials per vmf | MAE | 0.0357185614133554 | 0.00028295806558658535 |"
   ]
  },
  {
   "cell_type": "code",
   "execution_count": 43,
   "id": "da2f9ef4-ad90-4d75-9137-735cd41284fe",
   "metadata": {
    "tags": []
   },
   "outputs": [],
   "source": [
    "wp6_X = train_wp6[[c for c in train_wp6 if c not in [\"wp\"]] + [\"wp\"]].drop(to_drop, axis = 1)\n",
    "X6 = wp6_X.drop('wp', axis = 1)\n",
    "y6 = wp6_X['wp']\n"
   ]
  },
  {
   "cell_type": "code",
   "execution_count": 44,
   "id": "7346479d-b61f-4585-9f24-9908d0f003ba",
   "metadata": {},
   "outputs": [],
   "source": [
    "def objective_wp6(trial,data=X6,target=y6,cv=5):\n",
    "    #train_x, test_x = create_dataset(data,0)\n",
    "    #train_y,test_y=create_dataset(target,0)\n",
    "    return hyperparametrization_cv(trial, data,target,cv)"
   ]
  },
  {
   "cell_type": "code",
   "execution_count": 45,
   "id": "6e6c1b1d-88ce-43c0-9369-0776e7037a79",
   "metadata": {},
   "outputs": [
    {
     "name": "stderr",
     "output_type": "stream",
     "text": [
      "\u001b[32m[I 2021-09-20 15:43:57,517]\u001b[0m A new study created in memory with name: no-name-c56915a3-5af9-4e51-8947-06a4927c1961\u001b[0m\n",
      "\u001b[32m[I 2021-09-20 15:44:22,008]\u001b[0m Trial 0 finished with value: 0.11793019859215721 and parameters: {'reg_alpha': 2.56543763474529, 'reg_lambda': 0.949480120375089, 'colsample_bytree': 0.7, 'subsample': 0.6, 'learning_rate': 0.012294051071346929, 'max_depth': 92, 'num_leaves': 872, 'min_child_samples': 102}. Best is trial 0 with value: 0.11793019859215721.\u001b[0m\n",
      "\u001b[32m[I 2021-09-20 15:44:59,908]\u001b[0m Trial 1 finished with value: 0.06813519552733607 and parameters: {'reg_alpha': 0.014027221206028947, 'reg_lambda': 0.3728568191434699, 'colsample_bytree': 0.5, 'subsample': 0.5, 'learning_rate': 0.049850095083627984, 'max_depth': 33, 'num_leaves': 577, 'min_child_samples': 54}. Best is trial 1 with value: 0.06813519552733607.\u001b[0m\n",
      "\u001b[32m[I 2021-09-20 15:45:34,499]\u001b[0m Trial 2 finished with value: 0.11337652437052612 and parameters: {'reg_alpha': 0.0015734183378787443, 'reg_lambda': 7.969737983073143, 'colsample_bytree': 0.3, 'subsample': 0.6, 'learning_rate': 0.012875088529277736, 'max_depth': 33, 'num_leaves': 535, 'min_child_samples': 22}. Best is trial 1 with value: 0.06813519552733607.\u001b[0m\n",
      "\u001b[32m[I 2021-09-20 15:45:57,058]\u001b[0m Trial 3 finished with value: 0.18110701381830047 and parameters: {'reg_alpha': 0.8277399626090469, 'reg_lambda': 0.19672288639618377, 'colsample_bytree': 0.6, 'subsample': 0.6, 'learning_rate': 0.0011450171142169381, 'max_depth': 96, 'num_leaves': 669, 'min_child_samples': 197}. Best is trial 1 with value: 0.06813519552733607.\u001b[0m\n",
      "\u001b[32m[I 2021-09-20 15:46:19,646]\u001b[0m Trial 4 finished with value: 0.07030089191473475 and parameters: {'reg_alpha': 0.002301906841693269, 'reg_lambda': 0.011063395269381297, 'colsample_bytree': 0.6, 'subsample': 1.0, 'learning_rate': 0.29900270214332125, 'max_depth': 46, 'num_leaves': 752, 'min_child_samples': 275}. Best is trial 1 with value: 0.06813519552733607.\u001b[0m\n",
      "\u001b[32m[I 2021-09-20 15:46:45,872]\u001b[0m Trial 5 finished with value: 0.08001978320588413 and parameters: {'reg_alpha': 2.148568710105588, 'reg_lambda': 0.10754547201042881, 'colsample_bytree': 0.9, 'subsample': 0.5, 'learning_rate': 0.055388079385851226, 'max_depth': 77, 'num_leaves': 835, 'min_child_samples': 163}. Best is trial 1 with value: 0.06813519552733607.\u001b[0m\n",
      "\u001b[32m[I 2021-09-20 15:47:15,278]\u001b[0m Trial 6 finished with value: 0.06710965940908017 and parameters: {'reg_alpha': 0.012077579552012094, 'reg_lambda': 0.32042764170532495, 'colsample_bytree': 0.8, 'subsample': 0.6, 'learning_rate': 0.10055098866745879, 'max_depth': 85, 'num_leaves': 763, 'min_child_samples': 142}. Best is trial 6 with value: 0.06710965940908017.\u001b[0m\n",
      "\u001b[32m[I 2021-09-20 15:47:41,412]\u001b[0m Trial 7 finished with value: 0.0704549462648585 and parameters: {'reg_alpha': 0.5762116927353425, 'reg_lambda': 0.0889164176164378, 'colsample_bytree': 0.9, 'subsample': 0.5, 'learning_rate': 0.09539687895521737, 'max_depth': 81, 'num_leaves': 306, 'min_child_samples': 183}. Best is trial 6 with value: 0.06710965940908017.\u001b[0m\n",
      "\u001b[32m[I 2021-09-20 15:48:01,884]\u001b[0m Trial 8 finished with value: 0.0884978252245509 and parameters: {'reg_alpha': 0.0016060033649397695, 'reg_lambda': 0.3370571269900589, 'colsample_bytree': 0.4, 'subsample': 0.6, 'learning_rate': 0.04535826607615887, 'max_depth': 39, 'num_leaves': 217, 'min_child_samples': 263}. Best is trial 6 with value: 0.06710965940908017.\u001b[0m\n",
      "\u001b[32m[I 2021-09-20 15:48:21,787]\u001b[0m Trial 9 finished with value: 0.1281206319647989 and parameters: {'reg_alpha': 5.1942212786163156, 'reg_lambda': 1.5554458337452997, 'colsample_bytree': 0.7, 'subsample': 0.6, 'learning_rate': 0.010700773904760043, 'max_depth': 94, 'num_leaves': 213, 'min_child_samples': 248}. Best is trial 6 with value: 0.06710965940908017.\u001b[0m\n",
      "\u001b[32m[I 2021-09-20 15:48:58,542]\u001b[0m Trial 10 finished with value: 0.16280497450703582 and parameters: {'reg_alpha': 0.054107846263254114, 'reg_lambda': 0.0018820225967021344, 'colsample_bytree': 0.8, 'subsample': 0.7, 'learning_rate': 0.0028787856450577915, 'max_depth': 62, 'num_leaves': 995, 'min_child_samples': 84}. Best is trial 6 with value: 0.06710965940908017.\u001b[0m\n",
      "\u001b[32m[I 2021-09-20 15:49:45,057]\u001b[0m Trial 11 finished with value: 0.0637284906155317 and parameters: {'reg_alpha': 0.020019365374517387, 'reg_lambda': 0.028481816413572097, 'colsample_bytree': 0.5, 'subsample': 0.8, 'learning_rate': 0.19542893455625407, 'max_depth': 20, 'num_leaves': 504, 'min_child_samples': 1}. Best is trial 11 with value: 0.0637284906155317.\u001b[0m\n",
      "\u001b[32m[I 2021-09-20 15:50:18,702]\u001b[0m Trial 12 finished with value: 0.06511464228888508 and parameters: {'reg_alpha': 0.01276408850674523, 'reg_lambda': 0.01620805001430509, 'colsample_bytree': 1.0, 'subsample': 0.8, 'learning_rate': 0.29136455850055587, 'max_depth': 53, 'num_leaves': 370, 'min_child_samples': 115}. Best is trial 11 with value: 0.0637284906155317.\u001b[0m\n",
      "\u001b[32m[I 2021-09-20 15:50:36,411]\u001b[0m Trial 13 finished with value: 0.08938107506762324 and parameters: {'reg_alpha': 0.08546483508106575, 'reg_lambda': 0.01534476152312642, 'colsample_bytree': 1.0, 'subsample': 0.8, 'learning_rate': 0.2619956209731628, 'max_depth': 20, 'num_leaves': 11, 'min_child_samples': 1}. Best is trial 11 with value: 0.0637284906155317.\u001b[0m\n",
      "\u001b[32m[I 2021-09-20 15:51:10,971]\u001b[0m Trial 14 finished with value: 0.0633220496597761 and parameters: {'reg_alpha': 0.014910064647848404, 'reg_lambda': 0.018611549008773078, 'colsample_bytree': 1.0, 'subsample': 0.8, 'learning_rate': 0.16004529217592026, 'max_depth': 59, 'num_leaves': 399, 'min_child_samples': 115}. Best is trial 14 with value: 0.0633220496597761.\u001b[0m\n",
      "\u001b[32m[I 2021-09-20 15:51:44,177]\u001b[0m Trial 15 finished with value: 0.06292237916432711 and parameters: {'reg_alpha': 0.024699336635055642, 'reg_lambda': 0.0027488430797418056, 'colsample_bytree': 0.5, 'subsample': 0.8, 'learning_rate': 0.1315890653476952, 'max_depth': 67, 'num_leaves': 430, 'min_child_samples': 69}. Best is trial 15 with value: 0.06292237916432711.\u001b[0m\n",
      "\u001b[32m[I 2021-09-20 15:52:25,966]\u001b[0m Trial 16 finished with value: 0.08642749211731487 and parameters: {'reg_alpha': 0.20567767950225735, 'reg_lambda': 0.0018913694178632492, 'colsample_bytree': 1.0, 'subsample': 0.4, 'learning_rate': 0.023022331606002297, 'max_depth': 70, 'num_leaves': 399, 'min_child_samples': 60}. Best is trial 15 with value: 0.06292237916432711.\u001b[0m\n",
      "\u001b[32m[I 2021-09-20 15:52:45,525]\u001b[0m Trial 17 finished with value: 0.0775195241743215 and parameters: {'reg_alpha': 0.03707525498791228, 'reg_lambda': 0.0047026932979225035, 'colsample_bytree': 0.5, 'subsample': 0.8, 'learning_rate': 0.11241303502690586, 'max_depth': 63, 'num_leaves': 61, 'min_child_samples': 120}. Best is trial 15 with value: 0.06292237916432711.\u001b[0m\n",
      "\u001b[32m[I 2021-09-20 15:53:06,106]\u001b[0m Trial 18 finished with value: 0.09939078133579496 and parameters: {'reg_alpha': 0.20742791822936088, 'reg_lambda': 0.0011542769399817438, 'colsample_bytree': 0.3, 'subsample': 0.8, 'learning_rate': 0.02860122732135121, 'max_depth': 54, 'num_leaves': 420, 'min_child_samples': 217}. Best is trial 15 with value: 0.06292237916432711.\u001b[0m\n",
      "\u001b[32m[I 2021-09-20 15:53:28,996]\u001b[0m Trial 19 finished with value: 0.1428113707320651 and parameters: {'reg_alpha': 0.005678288985488157, 'reg_lambda': 0.006060890491849099, 'colsample_bytree': 0.4, 'subsample': 1.0, 'learning_rate': 0.0066070732665746085, 'max_depth': 71, 'num_leaves': 148, 'min_child_samples': 61}. Best is trial 15 with value: 0.06292237916432711.\u001b[0m\n",
      "\u001b[32m[I 2021-09-20 15:53:59,640]\u001b[0m Trial 20 finished with value: 0.06565116764108894 and parameters: {'reg_alpha': 0.004228106866040018, 'reg_lambda': 0.028971833704252454, 'colsample_bytree': 1.0, 'subsample': 0.4, 'learning_rate': 0.13453608605483328, 'max_depth': 54, 'num_leaves': 620, 'min_child_samples': 147}. Best is trial 15 with value: 0.06292237916432711.\u001b[0m\n",
      "\u001b[32m[I 2021-09-20 15:54:36,796]\u001b[0m Trial 21 finished with value: 0.06233010468625805 and parameters: {'reg_alpha': 0.026736901042669316, 'reg_lambda': 0.05017086021428232, 'colsample_bytree': 0.5, 'subsample': 0.8, 'learning_rate': 0.14815852074557637, 'max_depth': 24, 'num_leaves': 482, 'min_child_samples': 31}. Best is trial 21 with value: 0.06233010468625805.\u001b[0m\n",
      "\u001b[32m[I 2021-09-20 15:55:14,175]\u001b[0m Trial 22 finished with value: 0.06361601592088646 and parameters: {'reg_alpha': 0.02841357858572928, 'reg_lambda': 0.051779948157785034, 'colsample_bytree': 0.5, 'subsample': 0.8, 'learning_rate': 0.07000526081990459, 'max_depth': 70, 'num_leaves': 438, 'min_child_samples': 33}. Best is trial 21 with value: 0.06233010468625805.\u001b[0m\n",
      "\u001b[32m[I 2021-09-20 15:55:42,950]\u001b[0m Trial 23 finished with value: 0.06359506097116989 and parameters: {'reg_alpha': 0.15227894910227985, 'reg_lambda': 0.0048818868482069675, 'colsample_bytree': 0.5, 'subsample': 0.8, 'learning_rate': 0.15353211649794218, 'max_depth': 43, 'num_leaves': 295, 'min_child_samples': 74}. Best is trial 21 with value: 0.06233010468625805.\u001b[0m\n",
      "\u001b[32m[I 2021-09-20 15:56:12,935]\u001b[0m Trial 24 finished with value: 0.07928789437592546 and parameters: {'reg_alpha': 0.007441611562561658, 'reg_lambda': 0.04096007608192959, 'colsample_bytree': 0.5, 'subsample': 0.8, 'learning_rate': 0.035957928593047785, 'max_depth': 29, 'num_leaves': 477, 'min_child_samples': 94}. Best is trial 21 with value: 0.06233010468625805.\u001b[0m\n",
      "\u001b[32m[I 2021-09-20 15:56:44,930]\u001b[0m Trial 25 finished with value: 0.06344628998423778 and parameters: {'reg_alpha': 0.04470556558689294, 'reg_lambda': 0.00842222087911264, 'colsample_bytree': 0.5, 'subsample': 0.7, 'learning_rate': 0.17923769180303503, 'max_depth': 48, 'num_leaves': 338, 'min_child_samples': 37}. Best is trial 21 with value: 0.06233010468625805.\u001b[0m\n",
      "\u001b[32m[I 2021-09-20 15:57:25,516]\u001b[0m Trial 26 finished with value: 0.067007102468181 and parameters: {'reg_alpha': 0.0035381657466490054, 'reg_lambda': 0.07490084531000935, 'colsample_bytree': 1.0, 'subsample': 0.8, 'learning_rate': 0.08659372440667032, 'max_depth': 64, 'num_leaves': 664, 'min_child_samples': 121}. Best is trial 21 with value: 0.06233010468625805.\u001b[0m\n",
      "\u001b[32m[I 2021-09-20 15:57:53,554]\u001b[0m Trial 27 finished with value: 0.06405680537599943 and parameters: {'reg_alpha': 0.08992505658807105, 'reg_lambda': 0.002863735270811465, 'colsample_bytree': 0.5, 'subsample': 0.8, 'learning_rate': 0.1790673441213839, 'max_depth': 86, 'num_leaves': 243, 'min_child_samples': 45}. Best is trial 21 with value: 0.06233010468625805.\u001b[0m\n",
      "\u001b[32m[I 2021-09-20 15:58:23,779]\u001b[0m Trial 28 finished with value: 0.06818874766330082 and parameters: {'reg_alpha': 0.00857566203872151, 'reg_lambda': 0.022061444791096216, 'colsample_bytree': 0.4, 'subsample': 0.8, 'learning_rate': 0.06650159868155826, 'max_depth': 56, 'num_leaves': 543, 'min_child_samples': 77}. Best is trial 21 with value: 0.06233010468625805.\u001b[0m\n",
      "\u001b[32m[I 2021-09-20 15:58:50,255]\u001b[0m Trial 29 finished with value: 0.15132598703659622 and parameters: {'reg_alpha': 0.4761823946769071, 'reg_lambda': 0.003136844940558279, 'colsample_bytree': 0.6, 'subsample': 0.7, 'learning_rate': 0.004648571465988715, 'max_depth': 76, 'num_leaves': 458, 'min_child_samples': 104}. Best is trial 21 with value: 0.06233010468625805.\u001b[0m\n",
      "\u001b[32m[I 2021-09-20 15:59:42,988]\u001b[0m Trial 30 finished with value: 0.08684304485829038 and parameters: {'reg_alpha': 0.02450300805310333, 'reg_lambda': 0.0010088442846429902, 'colsample_bytree': 0.7, 'subsample': 0.4, 'learning_rate': 0.01886351030304652, 'max_depth': 90, 'num_leaves': 597, 'min_child_samples': 21}. Best is trial 21 with value: 0.06233010468625805.\u001b[0m\n",
      "\u001b[32m[I 2021-09-20 16:00:16,390]\u001b[0m Trial 31 finished with value: 0.06261592796770063 and parameters: {'reg_alpha': 0.049645725187411595, 'reg_lambda': 0.0070251888848334425, 'colsample_bytree': 0.5, 'subsample': 0.7, 'learning_rate': 0.17628524779304358, 'max_depth': 49, 'num_leaves': 343, 'min_child_samples': 47}. Best is trial 21 with value: 0.06233010468625805.\u001b[0m\n",
      "\u001b[32m[I 2021-09-20 16:00:49,402]\u001b[0m Trial 32 finished with value: 0.06345873686746252 and parameters: {'reg_alpha': 0.061707722887669486, 'reg_lambda': 0.009405097801550787, 'colsample_bytree': 0.5, 'subsample': 0.7, 'learning_rate': 0.1900156177353268, 'max_depth': 59, 'num_leaves': 360, 'min_child_samples': 63}. Best is trial 21 with value: 0.06233010468625805.\u001b[0m\n",
      "\u001b[32m[I 2021-09-20 16:01:18,195]\u001b[0m Trial 33 finished with value: 0.06456466281149914 and parameters: {'reg_alpha': 0.018773558792941604, 'reg_lambda': 0.014756447380067459, 'colsample_bytree': 0.5, 'subsample': 0.7, 'learning_rate': 0.12582531586594417, 'max_depth': 37, 'num_leaves': 285, 'min_child_samples': 97}. Best is trial 21 with value: 0.06233010468625805.\u001b[0m\n",
      "\u001b[32m[I 2021-09-20 16:01:42,688]\u001b[0m Trial 34 finished with value: 0.06893222825757309 and parameters: {'reg_alpha': 0.034881920426567466, 'reg_lambda': 8.721673454554079, 'colsample_bytree': 0.3, 'subsample': 1.0, 'learning_rate': 0.2228123539154092, 'max_depth': 28, 'num_leaves': 155, 'min_child_samples': 20}. Best is trial 21 with value: 0.06233010468625805.\u001b[0m\n",
      "\u001b[32m[I 2021-09-20 16:02:20,984]\u001b[0m Trial 35 finished with value: 0.07181119809272715 and parameters: {'reg_alpha': 0.1453312375024421, 'reg_lambda': 0.9288553532078251, 'colsample_bytree': 0.5, 'subsample': 0.7, 'learning_rate': 0.04080534206904321, 'max_depth': 48, 'num_leaves': 539, 'min_child_samples': 49}. Best is trial 21 with value: 0.06233010468625805.\u001b[0m\n",
      "\u001b[32m[I 2021-09-20 16:02:52,833]\u001b[0m Trial 36 finished with value: 0.0704890566784965 and parameters: {'reg_alpha': 0.011578136203507228, 'reg_lambda': 0.006733171156309508, 'colsample_bytree': 0.9, 'subsample': 0.5, 'learning_rate': 0.06594027715086886, 'max_depth': 66, 'num_leaves': 486, 'min_child_samples': 130}. Best is trial 21 with value: 0.06233010468625805.\u001b[0m\n",
      "\u001b[32m[I 2021-09-20 16:03:29,703]\u001b[0m Trial 37 finished with value: 0.17927598488379495 and parameters: {'reg_alpha': 0.002468207976920107, 'reg_lambda': 0.19150811603179732, 'colsample_bytree': 0.8, 'subsample': 0.8, 'learning_rate': 0.0011743497175309453, 'max_depth': 26, 'num_leaves': 399, 'min_child_samples': 84}. Best is trial 21 with value: 0.06233010468625805.\u001b[0m\n",
      "\u001b[32m[I 2021-09-20 16:03:52,093]\u001b[0m Trial 38 finished with value: 0.07843690210021934 and parameters: {'reg_alpha': 0.01843206014880072, 'reg_lambda': 0.04591585620237912, 'colsample_bytree': 0.6, 'subsample': 1.0, 'learning_rate': 0.08103695983622243, 'max_depth': 41, 'num_leaves': 661, 'min_child_samples': 296}. Best is trial 21 with value: 0.06233010468625805.\u001b[0m\n",
      "\u001b[32m[I 2021-09-20 16:04:29,562]\u001b[0m Trial 39 finished with value: 0.0616251364002238 and parameters: {'reg_alpha': 0.29989602232567175, 'reg_lambda': 0.003317793295518409, 'colsample_bytree': 0.7, 'subsample': 0.5, 'learning_rate': 0.1322139683565735, 'max_depth': 35, 'num_leaves': 325, 'min_child_samples': 25}. Best is trial 39 with value: 0.0616251364002238.\u001b[0m\n",
      "\u001b[32m[I 2021-09-20 16:04:57,641]\u001b[0m Trial 40 finished with value: 0.07634823725595846 and parameters: {'reg_alpha': 1.5469932679545888, 'reg_lambda': 0.0030724462305521823, 'colsample_bytree': 0.7, 'subsample': 0.5, 'learning_rate': 0.05384851383213728, 'max_depth': 100, 'num_leaves': 155, 'min_child_samples': 17}. Best is trial 39 with value: 0.0616251364002238.\u001b[0m\n",
      "\u001b[32m[I 2021-09-20 16:05:34,332]\u001b[0m Trial 41 finished with value: 0.061804611735549284 and parameters: {'reg_alpha': 0.40306593700834115, 'reg_lambda': 0.002099361452460346, 'colsample_bytree': 0.7, 'subsample': 0.8, 'learning_rate': 0.13062824099264164, 'max_depth': 33, 'num_leaves': 344, 'min_child_samples': 32}. Best is trial 39 with value: 0.0616251364002238.\u001b[0m\n",
      "\u001b[32m[I 2021-09-20 16:06:10,227]\u001b[0m Trial 42 finished with value: 0.06218187309619495 and parameters: {'reg_alpha': 0.5410694652928105, 'reg_lambda': 0.0016820470080020134, 'colsample_bytree': 0.7, 'subsample': 0.5, 'learning_rate': 0.12396479820094729, 'max_depth': 34, 'num_leaves': 343, 'min_child_samples': 33}. Best is trial 39 with value: 0.0616251364002238.\u001b[0m\n",
      "\u001b[32m[I 2021-09-20 16:06:42,852]\u001b[0m Trial 43 finished with value: 0.06333217908497477 and parameters: {'reg_alpha': 0.3876132133851758, 'reg_lambda': 0.0018867989449352092, 'colsample_bytree': 0.7, 'subsample': 0.5, 'learning_rate': 0.10728767637535665, 'max_depth': 33, 'num_leaves': 244, 'min_child_samples': 34}. Best is trial 39 with value: 0.0616251364002238.\u001b[0m\n",
      "\u001b[32m[I 2021-09-20 16:07:18,878]\u001b[0m Trial 44 finished with value: 0.06360716973887984 and parameters: {'reg_alpha': 1.0123953000974237, 'reg_lambda': 0.0012911760115427362, 'colsample_bytree': 0.7, 'subsample': 0.5, 'learning_rate': 0.2594454757038465, 'max_depth': 35, 'num_leaves': 342, 'min_child_samples': 8}. Best is trial 39 with value: 0.0616251364002238.\u001b[0m\n",
      "\u001b[32m[I 2021-09-20 16:07:52,671]\u001b[0m Trial 45 finished with value: 0.06373219937676305 and parameters: {'reg_alpha': 0.3133316583844683, 'reg_lambda': 0.004290068032710786, 'colsample_bytree': 0.7, 'subsample': 0.5, 'learning_rate': 0.08930421400036824, 'max_depth': 24, 'num_leaves': 290, 'min_child_samples': 46}. Best is trial 39 with value: 0.0616251364002238.\u001b[0m\n",
      "\u001b[32m[I 2021-09-20 16:08:21,731]\u001b[0m Trial 46 finished with value: 0.06393078959560446 and parameters: {'reg_alpha': 0.7836724616509341, 'reg_lambda': 0.001622805086652111, 'colsample_bytree': 0.7, 'subsample': 0.5, 'learning_rate': 0.23358130892088547, 'max_depth': 32, 'num_leaves': 203, 'min_child_samples': 30}. Best is trial 39 with value: 0.0616251364002238.\u001b[0m\n",
      "\u001b[32m[I 2021-09-20 16:08:49,352]\u001b[0m Trial 47 finished with value: 0.07281990332901699 and parameters: {'reg_alpha': 6.271648989479975, 'reg_lambda': 0.13937887969470503, 'colsample_bytree': 0.7, 'subsample': 0.6, 'learning_rate': 0.14399437089840222, 'max_depth': 24, 'num_leaves': 325, 'min_child_samples': 13}. Best is trial 39 with value: 0.0616251364002238.\u001b[0m\n",
      "\u001b[32m[I 2021-09-20 16:09:17,311]\u001b[0m Trial 48 finished with value: 0.07676843088856919 and parameters: {'reg_alpha': 3.046919458563166, 'reg_lambda': 4.220147157096628, 'colsample_bytree': 0.7, 'subsample': 0.5, 'learning_rate': 0.05653829468470717, 'max_depth': 43, 'num_leaves': 257, 'min_child_samples': 51}. Best is trial 39 with value: 0.0616251364002238.\u001b[0m\n",
      "\u001b[32m[I 2021-09-20 16:09:42,761]\u001b[0m Trial 49 finished with value: 0.11965288843416548 and parameters: {'reg_alpha': 0.2888116612293529, 'reg_lambda': 0.010621525179935004, 'colsample_bytree': 0.7, 'subsample': 0.5, 'learning_rate': 0.011603376773399078, 'max_depth': 37, 'num_leaves': 724, 'min_child_samples': 182}. Best is trial 39 with value: 0.0616251364002238.\u001b[0m\n"
     ]
    }
   ],
   "source": [
    "study = optuna.create_study(direction='minimize')\n",
    "study.optimize(objective_wp6, n_trials=50)\n",
    "#write_results('Data/Hyperparametrization/lgbm_vmd_50trials_cv.xlsx', 'wp1', study.trials_dataframe())\n",
    "params_6=study.best_trial.params\n",
    "#best_trial"
   ]
  },
  {
   "cell_type": "code",
   "execution_count": 46,
   "id": "4f19df79-e043-4266-9f00-57583480b7b9",
   "metadata": {},
   "outputs": [
    {
     "data": {
      "text/plain": [
       "{'reg_alpha': 0.29989602232567175,\n",
       " 'reg_lambda': 0.003317793295518409,\n",
       " 'colsample_bytree': 0.7,\n",
       " 'subsample': 0.5,\n",
       " 'learning_rate': 0.1322139683565735,\n",
       " 'max_depth': 35,\n",
       " 'num_leaves': 325,\n",
       " 'min_child_samples': 25}"
      ]
     },
     "execution_count": 46,
     "metadata": {},
     "output_type": "execute_result"
    }
   ],
   "source": [
    "params_6"
   ]
  },
  {
   "cell_type": "code",
   "execution_count": 47,
   "id": "a4078324-023c-40f0-94e8-320d85a49117",
   "metadata": {},
   "outputs": [
    {
     "name": "stdout",
     "output_type": "stream",
     "text": [
      "-----------LGBM CROSS VALIDATION BEGINNING-----------\n",
      "RMSE score: 0.08507500129034921\n",
      "MAE score: 0.059797503336323804\n",
      "None\n",
      "-------------------FOLD 1-----------------\n",
      "RMSE score: 0.0853233286773399\n",
      "MAE score: 0.06108715303888444\n",
      "None\n",
      "-------------------FOLD 2-----------------\n",
      "RMSE score: 0.09072952725754627\n",
      "MAE score: 0.06345330662848023\n",
      "None\n",
      "-------------------FOLD 3-----------------\n",
      "RMSE score: 0.0881607428560229\n",
      "MAE score: 0.06183888257358363\n",
      "None\n",
      "-------------------FOLD 4-----------------\n",
      "RMSE score: 0.08863848966383489\n",
      "MAE score: 0.06111321782873196\n",
      "None\n",
      "-------------------FOLD 5-----------------\n",
      "---------------CROSS VALIDATION COMPLETE-------------\n",
      "--------------------------RMSE-----------------------\n",
      "Scores: [0.08507500129034921, 0.0853233286773399, 0.09072952725754627, 0.0881607428560229, 0.08863848966383489]\n",
      "Mean: 0.08758541794901864\n",
      "Std: 0.002132820752070113\n",
      "--------------------------MAE------------------------\n",
      "Scores: [0.059797503336323804, 0.06108715303888444, 0.06345330662848023, 0.06183888257358363, 0.06111321782873196]\n",
      "Mean: 0.06145801268120081\n",
      "Std: 0.0011949871513941461\n"
     ]
    }
   ],
   "source": [
    "lgbm_scaled_cross_validation(X=X6, y=y6,params=params_6,cv=5)"
   ]
  },
  {
   "cell_type": "markdown",
   "id": "599f0c09-97e8-4e3b-a117-f707ed6235e2",
   "metadata": {},
   "source": [
    "# Predictions"
   ]
  },
  {
   "cell_type": "markdown",
   "id": "56a64913-6e53-4cb4-9cb5-2d7a5f33c2d2",
   "metadata": {},
   "source": [
    "## Functions"
   ]
  },
  {
   "cell_type": "code",
   "execution_count": 48,
   "id": "2e673e92-7f3f-4ffd-a822-c574b030dac4",
   "metadata": {},
   "outputs": [],
   "source": [
    "to_drop_test = ['date','wd','forecast_time', 'forecast', \"forecast_dist\", 'wp']+feature_corr\n",
    "def make_prediction_dataset(test, to_drop=to_drop_test):\n",
    "    test_to_predict = test.dropna(subset=['ws','u','v'], how = 'any') # keeps only lines with u,v,ws,wd\n",
    "    test_to_predict = test_to_predict[test_to_predict['wp'].isna()] # keeps only lines with no wp\n",
    "    test_to_predict = test_to_predict.sort_values(by=['date', 'forecast_time'], ascending = [True, False]).drop_duplicates(subset='date')\n",
    "    test_to_predict = test_to_predict.drop(to_drop, axis = 1)\n",
    "    return test_to_predict"
   ]
  },
  {
   "cell_type": "code",
   "execution_count": 49,
   "id": "48f2021e-773c-46ad-bedd-e332d6003c78",
   "metadata": {},
   "outputs": [],
   "source": [
    "def make_submission_file(lst_X_trains, lst_y_trains, lst_tests, lst_models, dates):\n",
    "    i = 1\n",
    "    lst_prediction = []\n",
    "    lst_models_trained = []\n",
    "    for X, y, test, model in zip(lst_X_trains, lst_y_trains, lst_tests, lst_models):\n",
    "        print(f'--------------Model {i}--------------')\n",
    "        model.fit(X, y)\n",
    "        print(f'True:\\n\\tMin:{min(y)}\\n\\tMax:{max(y)}\\n\\tMean:{y.mean()}')\n",
    "        predictions = model.predict(test)\n",
    "        print(f'Prediction:\\n\\tMin:{min(predictions)}\\n\\tMax:{max(predictions)}\\n\\tMean:{np.mean(predictions)}')\n",
    "#         predictions = [min(y) if i < 0 else i for i in predictions]\n",
    "#         predictions = [max(y) if i > max(y) else i for i in predictions]\n",
    "        predictions = [0 if i < 0 else i for i in predictions]\n",
    "        predictions = [1 if i > 1 else i for i in predictions]\n",
    "        print(f'Prediction corrected:\\n\\tMin:{min(predictions)}\\n\\tMax:{max(predictions)}\\n\\tMean:{np.mean(predictions)}')\n",
    "        lst_prediction.append(predictions)\n",
    "        lst_models_trained.append(model)\n",
    "        i+=1\n",
    "    \n",
    "    df_predictions = pd.DataFrame({\n",
    "        'date': test_dates,\n",
    "        'wp1': lst_prediction[0],\n",
    "        'wp2': lst_prediction[1],\n",
    "        'wp3': lst_prediction[2],\n",
    "        'wp4': lst_prediction[3],\n",
    "        'wp5': lst_prediction[4],\n",
    "        'wp6': lst_prediction[5],        \n",
    "    })\n",
    "    return df_predictions, lst_models_trained"
   ]
  },
  {
   "cell_type": "markdown",
   "id": "c8f21883-d940-4252-a2e8-0bf49e780a3d",
   "metadata": {},
   "source": [
    "## Submission "
   ]
  },
  {
   "cell_type": "code",
   "execution_count": 50,
   "id": "57c3c6c6-e343-471a-821a-6e8a8b428e32",
   "metadata": {},
   "outputs": [],
   "source": [
    "model_1 = Pipeline([('scaler', MaxAbsScaler()),('ridge', LGBMRegressor(**params_1))])\n",
    "model_2 = Pipeline([('scaler', MaxAbsScaler()),('ridge', LGBMRegressor(**params_2))])\n",
    "model_3 = Pipeline([('scaler', MaxAbsScaler()),('ridge', LGBMRegressor(**params_3))])\n",
    "model_4 = Pipeline([('scaler', MaxAbsScaler()),('ridge', LGBMRegressor(**params_4))])\n",
    "model_5 = Pipeline([('scaler', MaxAbsScaler()),('ridge', LGBMRegressor(**params_5))])\n",
    "model_6 = Pipeline([('scaler', MaxAbsScaler()),('ridge', LGBMRegressor(**params_6))])"
   ]
  },
  {
   "cell_type": "code",
   "execution_count": 52,
   "id": "8921365d-a1b4-4d3f-a6fa-693733ac2f3e",
   "metadata": {},
   "outputs": [],
   "source": [
    "lst_models = [model_1, model_2, model_3, model_4, model_5, model_6]\n",
    "lst_X_trains = [X1, X2, X3, X4, X5, X6]\n",
    "lst_y_trains = [y1, y2, y3, y4, y5, y6]"
   ]
  },
  {
   "cell_type": "code",
   "execution_count": 53,
   "id": "ca47f1f3-34a9-4a23-8312-2a9402f563ff",
   "metadata": {},
   "outputs": [],
   "source": [
    "lst_tests = []\n",
    "for test in [test_wp1, test_wp2, test_wp3, test_wp4, test_wp5, test_wp6]:\n",
    "    test = make_prediction_dataset(test)\n",
    "    lst_tests.append(test)"
   ]
  },
  {
   "cell_type": "code",
   "execution_count": 54,
   "id": "820a3372-b907-4068-b25d-714428bbe5e0",
   "metadata": {
    "tags": []
   },
   "outputs": [
    {
     "name": "stdout",
     "output_type": "stream",
     "text": [
      "--------------Model 1--------------\n",
      "True:\n",
      "\tMin:0.0\n",
      "\tMax:0.96\n",
      "\tMean:0.2845981952075702\n",
      "Prediction:\n",
      "\tMin:-0.012629501056262262\n",
      "\tMax:0.9362037364462557\n",
      "\tMean:0.2986602846264825\n",
      "Prediction corrected:\n",
      "\tMin:0\n",
      "\tMax:0.9362037364462557\n",
      "\tMean:0.2986840138836199\n",
      "--------------Model 2--------------\n",
      "True:\n",
      "\tMin:0.0\n",
      "\tMax:0.966\n",
      "\tMean:0.25890153769841273\n",
      "Prediction:\n",
      "\tMin:-0.013789645120279206\n",
      "\tMax:0.9662203426405734\n",
      "\tMean:0.25423219108420664\n",
      "Prediction corrected:\n",
      "\tMin:0\n",
      "\tMax:0.9662203426405734\n",
      "\tMean:0.2542494456135906\n",
      "--------------Model 3--------------\n",
      "True:\n",
      "\tMin:0.0\n",
      "\tMax:0.989\n",
      "\tMean:0.2625247252747253\n",
      "Prediction:\n",
      "\tMin:-0.011704978191967703\n",
      "\tMax:0.9598253715809746\n",
      "\tMean:0.2856813969565523\n",
      "Prediction corrected:\n",
      "\tMin:0\n",
      "\tMax:0.9598253715809746\n",
      "\tMean:0.2856940249117191\n",
      "--------------Model 4--------------\n",
      "True:\n",
      "\tMin:0.0\n",
      "\tMax:0.992\n",
      "\tMean:0.2763637820512821\n",
      "Prediction:\n",
      "\tMin:-0.01178447285079433\n",
      "\tMax:0.8991395755662723\n",
      "\tMean:0.280327535025914\n",
      "Prediction corrected:\n",
      "\tMin:0\n",
      "\tMax:0.8991395755662723\n",
      "\tMean:0.28034690112039395\n",
      "--------------Model 5--------------\n",
      "True:\n",
      "\tMin:0.0\n",
      "\tMax:0.978\n",
      "\tMean:0.32622119200244204\n",
      "Prediction:\n",
      "\tMin:-0.00783572436353279\n",
      "\tMax:0.9655349934159075\n",
      "\tMean:0.3309053115200955\n",
      "Prediction corrected:\n",
      "\tMin:0\n",
      "\tMax:0.9655349934159075\n",
      "\tMean:0.3309073560273635\n",
      "--------------Model 6--------------\n",
      "True:\n",
      "\tMin:0.0\n",
      "\tMax:0.947\n",
      "\tMean:0.2425176472832723\n",
      "Prediction:\n",
      "\tMin:-0.026047798890412314\n",
      "\tMax:0.8904244491945058\n",
      "\tMean:0.2353784726515093\n",
      "Prediction corrected:\n",
      "\tMin:0\n",
      "\tMax:0.8904244491945058\n",
      "\tMean:0.23541999847283854\n"
     ]
    }
   ],
   "source": [
    "df_predictions, lst_models_trained = make_submission_file(lst_X_trains, lst_y_trains, lst_tests, lst_models, test_dates)"
   ]
  },
  {
   "cell_type": "markdown",
   "id": "7a9f9df6-0310-4202-8e27-64a9fc7ac69a",
   "metadata": {},
   "source": [
    "## Saving models"
   ]
  },
  {
   "cell_type": "code",
   "execution_count": 58,
   "id": "a0d37c4a-98cf-43a3-8667-eaac2fc226f4",
   "metadata": {},
   "outputs": [],
   "source": [
    "nb_sub = 41\n",
    "model = \"robustscaler-lgbm-cv\"\n",
    "prepro = 'RobustScaler'\n",
    "postpro = \"Prediction limited by 0-1\""
   ]
  },
  {
   "cell_type": "code",
   "execution_count": 59,
   "id": "1fa2c859-6e63-40e3-adc4-045fe68c06de",
   "metadata": {},
   "outputs": [],
   "source": [
    "# df_predictions.to_csv('Predictions/submission_nb_10_full_maxabs-lgbm-featselect.csv', index=False, sep=';')\n",
    "df_predictions.to_csv(f'Predictions/submission_nb_{nb_sub}_{model}.csv', index=False, sep=';')"
   ]
  },
  {
   "cell_type": "code",
   "execution_count": 60,
   "id": "6275b9b6-2e34-415a-a162-ffba04c8bbae",
   "metadata": {},
   "outputs": [
    {
     "data": {
      "text/html": [
       "<div>\n",
       "<style scoped>\n",
       "    .dataframe tbody tr th:only-of-type {\n",
       "        vertical-align: middle;\n",
       "    }\n",
       "\n",
       "    .dataframe tbody tr th {\n",
       "        vertical-align: top;\n",
       "    }\n",
       "\n",
       "    .dataframe thead th {\n",
       "        text-align: right;\n",
       "    }\n",
       "</style>\n",
       "<table border=\"1\" class=\"dataframe\">\n",
       "  <thead>\n",
       "    <tr style=\"text-align: right;\">\n",
       "      <th></th>\n",
       "      <th>date</th>\n",
       "      <th>wp1</th>\n",
       "      <th>wp2</th>\n",
       "      <th>wp3</th>\n",
       "      <th>wp4</th>\n",
       "      <th>wp5</th>\n",
       "      <th>wp6</th>\n",
       "    </tr>\n",
       "  </thead>\n",
       "  <tbody>\n",
       "    <tr>\n",
       "      <th>0</th>\n",
       "      <td>2011010101</td>\n",
       "      <td>0.693398</td>\n",
       "      <td>0.588826</td>\n",
       "      <td>0.055611</td>\n",
       "      <td>0.501383</td>\n",
       "      <td>0.629562</td>\n",
       "      <td>0.563751</td>\n",
       "    </tr>\n",
       "    <tr>\n",
       "      <th>1</th>\n",
       "      <td>2011010102</td>\n",
       "      <td>0.609136</td>\n",
       "      <td>0.587803</td>\n",
       "      <td>0.052893</td>\n",
       "      <td>0.461121</td>\n",
       "      <td>0.647442</td>\n",
       "      <td>0.570213</td>\n",
       "    </tr>\n",
       "    <tr>\n",
       "      <th>2</th>\n",
       "      <td>2011010103</td>\n",
       "      <td>0.627847</td>\n",
       "      <td>0.487257</td>\n",
       "      <td>0.102975</td>\n",
       "      <td>0.457511</td>\n",
       "      <td>0.647029</td>\n",
       "      <td>0.568546</td>\n",
       "    </tr>\n",
       "    <tr>\n",
       "      <th>3</th>\n",
       "      <td>2011010104</td>\n",
       "      <td>0.760432</td>\n",
       "      <td>0.557049</td>\n",
       "      <td>0.138302</td>\n",
       "      <td>0.691063</td>\n",
       "      <td>0.635964</td>\n",
       "      <td>0.565386</td>\n",
       "    </tr>\n",
       "    <tr>\n",
       "      <th>4</th>\n",
       "      <td>2011010105</td>\n",
       "      <td>0.760352</td>\n",
       "      <td>0.409648</td>\n",
       "      <td>0.341826</td>\n",
       "      <td>0.685897</td>\n",
       "      <td>0.644460</td>\n",
       "      <td>0.576714</td>\n",
       "    </tr>\n",
       "  </tbody>\n",
       "</table>\n",
       "</div>"
      ],
      "text/plain": [
       "         date       wp1       wp2       wp3       wp4       wp5       wp6\n",
       "0  2011010101  0.693398  0.588826  0.055611  0.501383  0.629562  0.563751\n",
       "1  2011010102  0.609136  0.587803  0.052893  0.461121  0.647442  0.570213\n",
       "2  2011010103  0.627847  0.487257  0.102975  0.457511  0.647029  0.568546\n",
       "3  2011010104  0.760432  0.557049  0.138302  0.691063  0.635964  0.565386\n",
       "4  2011010105  0.760352  0.409648  0.341826  0.685897  0.644460  0.576714"
      ]
     },
     "execution_count": 60,
     "metadata": {},
     "output_type": "execute_result"
    }
   ],
   "source": [
    "df_predictions.head()"
   ]
  },
  {
   "cell_type": "code",
   "execution_count": null,
   "id": "faa99dc6-907a-4097-b5df-8f0810638f3c",
   "metadata": {},
   "outputs": [],
   "source": []
  }
 ],
 "metadata": {
  "kernelspec": {
   "display_name": "Python 3 (ipykernel)",
   "language": "python",
   "name": "python3"
  },
  "language_info": {
   "codemirror_mode": {
    "name": "ipython",
    "version": 3
   },
   "file_extension": ".py",
   "mimetype": "text/x-python",
   "name": "python",
   "nbconvert_exporter": "python",
   "pygments_lexer": "ipython3",
   "version": "3.9.7"
  }
 },
 "nbformat": 4,
 "nbformat_minor": 5
}
