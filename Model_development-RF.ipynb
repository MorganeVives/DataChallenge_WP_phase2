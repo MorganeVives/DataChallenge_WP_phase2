{
 "cells": [
  {
   "cell_type": "markdown",
   "id": "261ec557-50a0-4cd6-8bec-268d1dee685a",
   "metadata": {},
   "source": [
    "# LGBM Model development"
   ]
  },
  {
   "cell_type": "code",
   "execution_count": null,
   "id": "1399bb0f-0234-43a6-b724-73f21f9b28b7",
   "metadata": {},
   "outputs": [],
   "source": [
    "import pandas as pd\n",
    "import seaborn as sns\n",
    "import openpyxl\n",
    "from datetime import datetime, timedelta\n",
    "import matplotlib.pyplot as plt\n",
    "import numpy as np\n",
    "import os\n",
    "import pickle"
   ]
  },
  {
   "cell_type": "code",
   "execution_count": null,
   "id": "9a662ef3-a957-41fe-955d-1c5e99709226",
   "metadata": {},
   "outputs": [],
   "source": [
    "from sklearn.model_selection import KFold, train_test_split, cross_val_score\n",
    "from sklearn.ensemble import RandomForestRegressor\n",
    "from sklearn.metrics import mean_squared_error, mean_absolute_error\n",
    "import optuna"
   ]
  },
  {
   "cell_type": "code",
   "execution_count": null,
   "id": "0bc7dfff-4363-41ad-bfd2-5e5dd7c0ef63",
   "metadata": {},
   "outputs": [],
   "source": [
    "from Functions.helper_functions import * "
   ]
  },
  {
   "cell_type": "code",
   "execution_count": null,
   "id": "3c184629-3914-4a2c-ba3f-5f111909f344",
   "metadata": {},
   "outputs": [],
   "source": [
    "import warnings\n",
    "warnings.filterwarnings(action='ignore', category=UserWarning)\n",
    "pd.options.mode.chained_assignment = None  # default='warn'"
   ]
  },
  {
   "cell_type": "code",
   "execution_count": null,
   "id": "6333588b-f1b0-4a5b-afea-e53064be0d99",
   "metadata": {},
   "outputs": [],
   "source": [
    "np.random.seed(42)"
   ]
  },
  {
   "cell_type": "markdown",
   "id": "b617c0f5-e679-4a3f-9a62-12e03303d11f",
   "metadata": {},
   "source": [
    "# Data"
   ]
  },
  {
   "cell_type": "code",
   "execution_count": null,
   "id": "c4d3258c-6931-447d-84b7-ac52ed05673a",
   "metadata": {},
   "outputs": [],
   "source": [
    "train_wp1 = pd.read_csv('Data/Preprocessing/WP1_train_preprocessed.csv', sep=',')\n",
    "train_wp2 = pd.read_csv('Data/Preprocessing/WP2_train_preprocessed.csv', sep=',')\n",
    "train_wp3 = pd.read_csv('Data/Preprocessing/WP3_train_preprocessed.csv', sep=',')\n",
    "train_wp4 = pd.read_csv('Data/Preprocessing/WP4_train_preprocessed.csv', sep=',')\n",
    "train_wp5 = pd.read_csv('Data/Preprocessing/WP5_train_preprocessed.csv', sep=',')\n",
    "train_wp6 = pd.read_csv('Data/Preprocessing/WP6_train_preprocessed.csv', sep=',')"
   ]
  },
  {
   "cell_type": "code",
   "execution_count": null,
   "id": "69f752d4-63ed-43b9-9315-41ecaa114ce4",
   "metadata": {},
   "outputs": [],
   "source": [
    "test_wp1 = pd.read_csv('Data/Preprocessing/WP1_test_preprocessed.csv', sep=',')\n",
    "test_wp2 = pd.read_csv('Data/Preprocessing/WP2_test_preprocessed.csv', sep=',')\n",
    "test_wp3 = pd.read_csv('Data/Preprocessing/WP3_test_preprocessed.csv', sep=',')\n",
    "test_wp4 = pd.read_csv('Data/Preprocessing/WP4_test_preprocessed.csv', sep=',')\n",
    "test_wp5 = pd.read_csv('Data/Preprocessing/WP5_test_preprocessed.csv', sep=',')\n",
    "test_wp6 = pd.read_csv('Data/Preprocessing/WP6_test_preprocessed.csv', sep=',')\n",
    "test_dates = pd.read_csv('Data/Initial/test.csv', sep=',').date.values"
   ]
  },
  {
   "cell_type": "code",
   "execution_count": null,
   "id": "7540aa92-fc5e-4431-8e79-faba9f0cecad",
   "metadata": {},
   "outputs": [],
   "source": [
    "to_drop = ['date','wd','forecast_time', 'forecast', \"forecast_dist\"]"
   ]
  },
  {
   "cell_type": "code",
   "execution_count": null,
   "id": "b755c33f-be45-4038-bc57-d4e996c0bea8",
   "metadata": {},
   "outputs": [],
   "source": [
    "trials_file = 'Data/Hyperparametrization/rf_50trials.xlsx'"
   ]
  },
  {
   "cell_type": "markdown",
   "id": "d0204367-344e-4837-9d27-c07833112862",
   "metadata": {},
   "source": [
    "# RF functions"
   ]
  },
  {
   "cell_type": "code",
   "execution_count": null,
   "id": "0c2fd0c0-976c-4e83-8a23-a86d1864e2a7",
   "metadata": {
    "tags": []
   },
   "outputs": [],
   "source": [
    "def rf_cross_validation(X, y, params):\n",
    "    if params == None:\n",
    "        model = RandomForestRegressor()\n",
    "    else:\n",
    "        model = RandomForestRegressor(**params)\n",
    "\n",
    "    print('-----------RF CROSS VALIDATION BEGINNING-----------')\n",
    "    split = 10\n",
    "    kf = KFold(n_splits=split, shuffle=True)       \n",
    "    lgbm_rmse_scores = []\n",
    "    lgbm_mae_scores = []\n",
    "    i = 1\n",
    "    for (train_index, test_index) in kf.split(pd.DataFrame(X), pd.DataFrame(y)):\n",
    "        X_train, X_test = pd.DataFrame(X).iloc[train_index], pd.DataFrame(X).iloc[test_index]\n",
    "        Y_train, Y_test = pd.DataFrame(y).iloc[train_index],pd.DataFrame(y).iloc[test_index]\n",
    "\n",
    "        model.fit(X_train, Y_train, eval_set=[(X_test, Y_test)], verbose=100)\n",
    "\n",
    "        prediction = model.predict(X_test)\n",
    "        lgbm_rmse_scores.append(mean_squared_error(Y_test, prediction,squared=False))\n",
    "        lgbm_mae_scores.append(mean_absolute_error(Y_test, prediction))\n",
    "        \n",
    "        print(show_evaluation(prediction, Y_test))\n",
    "        print(f'-------------------FOLD {i}-----------------')\n",
    "        i+=1\n",
    "\n",
    "    print('---------------CROSS VALIDATION COMPLETE-------------')\n",
    "    print('--------------------------RMSE-----------------------')\n",
    "    display_scores(lgbm_rmse_scores)\n",
    "    print('--------------------------MAE------------------------')\n",
    "    display_scores(lgbm_mae_scores)"
   ]
  },
  {
   "cell_type": "code",
   "execution_count": null,
   "id": "2155b5a6-2476-434d-832f-2f92dd646d67",
   "metadata": {
    "tags": []
   },
   "outputs": [],
   "source": [
    "def hyperparametrization(trial, X, y):\n",
    "    param = { \n",
    "        'criterion': trial.suggest_categorical('criterion', ['gini', 'entropy']),\n",
    "        'bootstrap': trial.suggest_categorical('bootstrap', [True, False]),\n",
    "        'n_estimators':trial.suggest_int('num_leaves', 1, 2000),\n",
    "        'max_depth':trial.suggest_int(\"max_depth\", 10, 100),\n",
    "        'min_samples_split':trial.suggest_categorical('min_samples_split',[2, 5, 10]),\n",
    "        'min_samples_leaf':trial.suggest_categorical('min_samples_leaf',[1, 2, 4]),\n",
    "    }\n",
    "    \n",
    "    model = RandomForestRegressor(**param)  \n",
    "    rmse = - cross_val_score(clf, X, y, n_jobs=-1, cv=5, scoring = 'neg_root_mean_squared_error')\n",
    "    \n",
    "    return rmse"
   ]
  },
  {
   "cell_type": "markdown",
   "id": "bbc3509e-c676-463f-97ac-c0ac98b5f3ed",
   "metadata": {},
   "source": [
    "## WP1 "
   ]
  },
  {
   "cell_type": "markdown",
   "id": "7cd32285-01cf-4ab5-8fcb-706b7f8a294b",
   "metadata": {},
   "source": [
    "| |  | Mean | Std | Sum up |\n",
    "| --- | --- | --- | --- | --- |\n",
    "| No params | RMSE | 0.10344875448880764 | 0.0019070131550065564 |  |\n",
    "| After tuning 50trials| RMSE | 0.06830085723562579 | 0.0012998671387256361 | To keep, maybe redo optuna with warm start with it - first sub|\n",
    "| After tuning 100trials| RMSE | 0.0695930431604128 | 0.0015123892627707553 | |\n",
    "| After tuning warm start 60trials | RMSE | 0.0671868765178121 | 0.0019357892229500213 | second sub |\n",
    "| --- | --- | --- | --- | --- |\n",
    "| No params | MAE | 0.07306057409517844 | 0.0009857628815465762 |  |\n",
    "| After tuning 50trials| MAE | 0.04481696427654311 | 0.000727722171899004 |  |\n",
    "| After tuning 100trials| MAE | 0.045696725242359994 | 0.0008508558100930331 |  |\n",
    "| After tuning warm start 60trials | MAE | 0.04322865305311156 | 0.0009454253743042544 | |"
   ]
  },
  {
   "cell_type": "code",
   "execution_count": null,
   "id": "70c3af58-11fa-437e-80d2-d58c9901ce08",
   "metadata": {},
   "outputs": [],
   "source": [
    "wp1_X = train_wp1[[c for c in train_wp1 if c not in [\"wp\"]] + [\"wp\"]].drop(to_drop, axis = 1)\n",
    "\n",
    "X1 = wp1_X.drop('wp', axis=1)\n",
    "y1 = wp1_X['wp']\n",
    "\n",
    "def objective_wp1(trial,data=X1,target=y1):\n",
    "    return hyperparametrization(trial, data, target)"
   ]
  },
  {
   "cell_type": "code",
   "execution_count": null,
   "id": "ce60b0b1-b92e-42aa-8734-07709f0dc159",
   "metadata": {
    "tags": []
   },
   "outputs": [],
   "source": [
    "rf_cross_validation(X1, y1, None)"
   ]
  },
  {
   "cell_type": "code",
   "execution_count": null,
   "id": "b59a3d8b-ab17-406b-869d-15074de0454c",
   "metadata": {
    "tags": []
   },
   "outputs": [],
   "source": [
    "# try_these_first = []\n",
    "\n",
    "# study = optuna.create_study(direction='minimize')\n",
    "# study.enqueue_trial(try_these_first[0])\n",
    "# study.enqueue_trial(try_these_first[1])"
   ]
  },
  {
   "cell_type": "code",
   "execution_count": null,
   "id": "ab792f0b-e669-4e29-b434-8db786b194a2",
   "metadata": {
    "tags": []
   },
   "outputs": [],
   "source": [
    "study = optuna.create_study(direction='minimize')\n",
    "study.optimize(objective_wp1, n_trials=10)\n",
    "write_results(trials_file, 'wp1', study.trials_dataframe())\n",
    "best_trial = study.best_trial.params\n",
    "best_trial"
   ]
  },
  {
   "cell_type": "code",
   "execution_count": null,
   "id": "772ef566-6d0d-421c-b00d-7a1f91692384",
   "metadata": {},
   "outputs": [],
   "source": [
    "params_1 = best_trial"
   ]
  },
  {
   "cell_type": "code",
   "execution_count": null,
   "id": "6e8b9581-1e59-40fc-ba46-cac68640c7ff",
   "metadata": {
    "tags": []
   },
   "outputs": [],
   "source": [
    "rf_cross_validation(X1, y1, params_1)"
   ]
  },
  {
   "cell_type": "markdown",
   "id": "2d4d08ad-3af3-408b-8834-57c1349d328a",
   "metadata": {},
   "source": [
    "## WP2"
   ]
  },
  {
   "cell_type": "markdown",
   "id": "61678924-2941-418d-93bf-84336d13fc89",
   "metadata": {},
   "source": [
    "| |  | Mean | Std | Sum up|\n",
    "| --- | --- | --- | --- | |\n",
    "| No params | RMSE | 0.10935335541057582 | 0.0014425096116734836 | |\n",
    "| After tuning - 50trials| RMSE | 0.0725081520968898 | 0.0016974702626377217 | |\n",
    "| After tuning 100trials| RMSE | 0.0707064364904941 | 0.001396820290618349 | More stable, to keep |\n",
    "| --- | --- | --- | --- |---|\n",
    "| No params | MAE | 0.07681923856705511 | 0.0008670825615244791 | |\n",
    "| After tuning - 50trials| MAE | 0.04512164110351975 |  0.0006579433030966575 | |\n",
    "| After tuning 100trials| MAE | 0.04457902842458915 | 0.0006807155447311589 | |"
   ]
  },
  {
   "cell_type": "code",
   "execution_count": null,
   "id": "e6b8fee4-9fba-4818-a7df-29cd5d3806ad",
   "metadata": {},
   "outputs": [],
   "source": [
    "wp2_X = train_wp2[[c for c in train_wp2 if c not in [\"wp\"]] + [\"wp\"]].drop(to_drop, axis = 1)\n",
    "X2 = wp2_X.drop('wp', axis=1)\n",
    "y2 = wp2_X['wp']\n",
    "\n",
    "def objective_wp2(trial,data=X2,target=y2):\n",
    "    return hyperparametrization(trial, data, target)"
   ]
  },
  {
   "cell_type": "code",
   "execution_count": null,
   "id": "e297d1bd-f11e-4f8b-9fe2-634e78ca9c85",
   "metadata": {
    "tags": []
   },
   "outputs": [],
   "source": [
    "rf_cross_validation(X2, y2, None)"
   ]
  },
  {
   "cell_type": "code",
   "execution_count": null,
   "id": "0728372a-8909-4a7a-8cdc-be27e96cfc70",
   "metadata": {
    "tags": []
   },
   "outputs": [],
   "source": [
    "study = optuna.create_study(direction='minimize')\n",
    "study.optimize(objective_wp2, n_trials=50)\n",
    "write_results(trials_file, 'wp2', study.trials_dataframe())\n",
    "best_trial = study.best_trial.params\n",
    "best_trial"
   ]
  },
  {
   "cell_type": "code",
   "execution_count": null,
   "id": "9ae90b08-6b61-4c17-90d8-a0d0c0f8a455",
   "metadata": {},
   "outputs": [],
   "source": [
    "params_2 = best_trial"
   ]
  },
  {
   "cell_type": "code",
   "execution_count": null,
   "id": "4deb0297-bfb2-491c-9885-9795b2596248",
   "metadata": {
    "tags": []
   },
   "outputs": [],
   "source": [
    "rf_cross_validation(X2, y2, params_2)"
   ]
  },
  {
   "cell_type": "markdown",
   "id": "966468d2-d1a2-4c0a-a190-c37d85ef61f5",
   "metadata": {},
   "source": [
    "## WP3"
   ]
  },
  {
   "cell_type": "markdown",
   "id": "4c9c1b64-7897-4824-92b2-8f6ac0236b43",
   "metadata": {},
   "source": [
    "| |  | Mean | Std ||\n",
    "| --- | --- | --- | --- ||\n",
    "| No params | RMSE | 0.10392558077951244 | 0.0019038044796542812 ||\n",
    "| After tuning - 50trials| RMSE | 0.058253804820626545 | 0.0009893279354834155 | More stable, to keep |\n",
    "| After tuning 100trials| RMSE | 0.058338944346627106 | 0.0017133930174837203 ||\n",
    "| --- | --- | --- | --- | --- |\n",
    "| No params | MAE | 0.07550802464973318 | 0.0012006073434917633 ||\n",
    "| After tuning - 50trials| MAE | 0.03787310900962521 | 0.000442034368456366 ||\n",
    "| After tuning 100trials| MAE | 0.03838030476025398 | 0.0007480100565996748 ||"
   ]
  },
  {
   "cell_type": "code",
   "execution_count": null,
   "id": "1a19adfe-a591-4616-827c-70140477879b",
   "metadata": {},
   "outputs": [],
   "source": [
    "wp3_X = train_wp3[[c for c in train_wp3 if c not in [\"wp\"]] + [\"wp\"]].drop(to_drop, axis = 1)\n",
    "X3 = wp3_X.drop('wp', axis = 1)\n",
    "y3 = wp3_X['wp']\n",
    "\n",
    "def objective_wp3(trial,data = X3,target = y3):\n",
    "    return hyperparametrization(trial, X3, y3)"
   ]
  },
  {
   "cell_type": "code",
   "execution_count": null,
   "id": "de738d33-8e08-49d4-af3f-0e3fc5609cec",
   "metadata": {
    "tags": []
   },
   "outputs": [],
   "source": [
    "rf_cross_validation(X3, y3, None)"
   ]
  },
  {
   "cell_type": "code",
   "execution_count": null,
   "id": "76fcd3f6-9ee9-4a40-9208-371c72445408",
   "metadata": {
    "tags": []
   },
   "outputs": [],
   "source": [
    "study = optuna.create_study(direction='minimize')\n",
    "study.optimize(objective_wp3, n_trials=50)\n",
    "write_results('Data/Hyperparametrization/lgbm_100trials.xlsx', 'wp3', study.trials_dataframe())\n",
    "best_trial = study.best_trial.params\n",
    "best_trial"
   ]
  },
  {
   "cell_type": "code",
   "execution_count": null,
   "id": "0799bdb2-b009-446a-af9f-5f3e2fbed56b",
   "metadata": {},
   "outputs": [],
   "source": [
    "params_3 = best_trial"
   ]
  },
  {
   "cell_type": "code",
   "execution_count": null,
   "id": "b0d45d0b-664c-4c89-8493-ed650660fb0e",
   "metadata": {
    "tags": []
   },
   "outputs": [],
   "source": [
    "rf_cross_validation(X3, y3, params_3)"
   ]
  },
  {
   "cell_type": "markdown",
   "id": "cdc76c8c-9cc7-441f-b25e-e1ecf293298e",
   "metadata": {},
   "source": [
    "## WP4"
   ]
  },
  {
   "cell_type": "markdown",
   "id": "895876ff-0734-4527-a0b9-68cf9b097dec",
   "metadata": {},
   "source": [
    "| |  | Mean | Std |\n",
    "| --- | --- | --- | --- |\n",
    "| No params | RMSE | 0.10486204816363351 | 0.0015105949978751166 |\n",
    "| After tuning - 50trials| RMSE | 0.06513233717204232 | 0.0015891617240032727 |\n",
    "| After tuning 100trials| RMSE | 0.06357594848470964 | 0.0013676749030776929 |\n",
    "| No params | MAE | 0.07564776733421566 | 0.00104638869825841 |\n",
    "| After tuning - 50trials| MAE | 0.04219236028055372 | 0.0008190579419060266 |\n",
    "| After tuning 100trials| MAE |0.04172111697148837  | 0.0009349285385250968 |"
   ]
  },
  {
   "cell_type": "code",
   "execution_count": null,
   "id": "185fd52e-5fe9-4ab7-817d-03feda6a42ab",
   "metadata": {},
   "outputs": [],
   "source": [
    "wp4_X = train_wp4[[c for c in train_wp4 if c not in [\"wp\"]] + [\"wp\"]].drop(to_drop, axis = 1).drop(to_drop, axis = 1)\n",
    "X4 = wp4_X.drop('wp', axis = 1)\n",
    "y4 = wp4['wp']\n",
    "\n",
    "def objective_wp4(trial,data = X4,target = y4):\n",
    "    return hyperparametrization(trial, X4, y4)"
   ]
  },
  {
   "cell_type": "code",
   "execution_count": null,
   "id": "c96a6e3e-8a1b-4fe9-a162-1f2fa994023d",
   "metadata": {
    "tags": []
   },
   "outputs": [],
   "source": [
    "rf_cross_validation(X4, y4, None)"
   ]
  },
  {
   "cell_type": "code",
   "execution_count": null,
   "id": "713019ee-cf12-4fa6-8971-7a09d0aa227a",
   "metadata": {
    "tags": []
   },
   "outputs": [],
   "source": [
    "study = optuna.create_study(direction='minimize')\n",
    "study.optimize(objective_wp4, n_trials=50)\n",
    "write_results('Data/Hyperparametrization/lgbm_100trials.xlsx', 'wp4', study.trials_dataframe())\n",
    "best_trial = study.best_trial.params\n",
    "best_trial"
   ]
  },
  {
   "cell_type": "code",
   "execution_count": null,
   "id": "fc00a25c-08c8-4cbe-9373-bcf6ad6b429a",
   "metadata": {},
   "outputs": [],
   "source": [
    "params_4 = best_trial"
   ]
  },
  {
   "cell_type": "code",
   "execution_count": null,
   "id": "731ce6d4-2612-45d6-8e37-89e2c27e9be1",
   "metadata": {
    "tags": []
   },
   "outputs": [],
   "source": [
    "rf_cross_validation(X4, y4, params_4)"
   ]
  },
  {
   "cell_type": "markdown",
   "id": "640e4455-cfc5-493a-b3e6-95b608171368",
   "metadata": {},
   "source": [
    "## WP5"
   ]
  },
  {
   "cell_type": "markdown",
   "id": "57cd823c-ff5c-41ba-9e0e-8b8d75cf2c65",
   "metadata": {},
   "source": [
    "| |  | Mean | Std |\n",
    "| --- | --- | --- | --- |\n",
    "| No params | RMSE | 0.11722129743692011 | 0.0017732599261516583 |\n",
    "| After tuning - 50trials| RMSE | 0.07721413638593042 | 0.0011020420293213135 |\n",
    "| After tuning - 100trials| RMSE | 0.07297648991888442 | 0.0014970317509404526 |\n",
    "| After tuning - 100trials - warm trials | RMSE | 0.07362803793800192 | 0.0013223501622953715 |\n",
    "| --- | --- | --- | --- |\n",
    "| No params | MAE | 0.08497074568090211 | 0.0009101526501392155 |\n",
    "| After tuning - 50trials| MAE | 0.051677856581467195 | 0.0006374939894477714 |\n",
    "| After tuning - 100trials| MAE | 0.04765271414503236 | 0.0006257356756510128 |\n",
    "| After tuning - 100trials - warm trials | MAE | 0.04785179154681675 | 0.0005795839605605526 |"
   ]
  },
  {
   "cell_type": "code",
   "execution_count": null,
   "id": "44f38883-24ef-46f1-bc0b-1070f4e36d2f",
   "metadata": {},
   "outputs": [],
   "source": [
    "wp5_X = train_wp5[[c for c in train_wp5 if c not in [\"wp\"]] + [\"wp\"]].drop(to_drop, axis = 1)\n",
    "X5 = wp5_X.drop('wp', axis = 1)\n",
    "y5 = wp5_X['wp']\n",
    "\n",
    "def objective_wp5(trial, data = X5,target = y5):\n",
    "    return hyperparametrization(trial, X5, y5)"
   ]
  },
  {
   "cell_type": "code",
   "execution_count": null,
   "id": "c4ece078-3e34-4754-b23c-1ba712563b3e",
   "metadata": {
    "tags": []
   },
   "outputs": [],
   "source": [
    "rf_cross_validation(X5, y5, None)"
   ]
  },
  {
   "cell_type": "code",
   "execution_count": 1,
   "id": "4267a817-51ec-49d3-924f-899489bc6e12",
   "metadata": {
    "tags": []
   },
   "outputs": [],
   "source": [
    "# try_these_first = []\n",
    "\n",
    "# study = optuna.create_study(direction='minimize')\n",
    "# study.enqueue_trial(try_these_first[0])\n",
    "# study.enqueue_trial(try_these_first[1])"
   ]
  },
  {
   "cell_type": "code",
   "execution_count": null,
   "id": "eaa2050d-bf47-4311-b386-0a8d40eae30b",
   "metadata": {
    "tags": []
   },
   "outputs": [],
   "source": [
    "study = optuna.create_study(direction='minimize')\n",
    "study.optimize(objective_wp5, n_trials=50)\n",
    "write_results(trials_file, 'wp5', study.trials_dataframe())\n",
    "best_trial = study.best_trial.params\n",
    "best_trial"
   ]
  },
  {
   "cell_type": "code",
   "execution_count": null,
   "id": "dde520d3-4565-42ff-8382-d787e91e8c7b",
   "metadata": {
    "tags": []
   },
   "outputs": [],
   "source": [
    "params_5 = best_trial"
   ]
  },
  {
   "cell_type": "code",
   "execution_count": null,
   "id": "c45f8446-417b-4fc3-8180-88c091fe37cf",
   "metadata": {
    "tags": []
   },
   "outputs": [],
   "source": [
    "rf_cross_validation(X5, y5, params_5)"
   ]
  },
  {
   "cell_type": "markdown",
   "id": "ccd547b2-24e6-4023-8959-d7955620108f",
   "metadata": {},
   "source": [
    "## WP6"
   ]
  },
  {
   "cell_type": "markdown",
   "id": "284dc175-a45f-4e3f-b577-2833794fe5ae",
   "metadata": {},
   "source": [
    "| |  | Mean | Std |\n",
    "| --- | --- | --- | --- |\n",
    "| No params | RMSE | 0.0940394026188472 | 0.0010749562915831372 |\n",
    "| After tuning - 50trials| RMSE | 0.05404362835213171 | 0.0008595325139047733 |\n",
    "| After tuning 100trials| RMSE | 0.054861488499908594 | 0.0007335378238383901 |\n",
    "| No params | MAE | 0.070455643271004 | 0.0006641538274191148 |\n",
    "| After tuning - 50trials| MAE | 0.03657758274248596 | 0.0005325521314198646 |\n",
    "| After tuning 100trials| MAE | 0.03783933495157941 | 0.00045956939815828987 |"
   ]
  },
  {
   "cell_type": "code",
   "execution_count": null,
   "id": "da2f9ef4-ad90-4d75-9137-735cd41284fe",
   "metadata": {
    "tags": []
   },
   "outputs": [],
   "source": [
    "wp6_X = train_wp6[[c for c in train_wp6 if c not in [\"wp\"]] + [\"wp\"]].drop(to_drop, axis = 1)\n",
    "X6 = wp6_X.drop('wp', axis = 1)\n",
    "y6 = wp6_X['wp']\n",
    "\n",
    "def objective_wp6(trial, data = X6, target = y6):\n",
    "    return hyperparametrization(trial, X6, y6)"
   ]
  },
  {
   "cell_type": "code",
   "execution_count": null,
   "id": "9582d271-b478-4351-81aa-3be5cd3077b1",
   "metadata": {
    "tags": []
   },
   "outputs": [],
   "source": [
    "rf_cross_validation(X6, y6, None)"
   ]
  },
  {
   "cell_type": "code",
   "execution_count": null,
   "id": "cf4cb7dd-bf83-4cd6-ac64-483e7c498375",
   "metadata": {
    "tags": []
   },
   "outputs": [],
   "source": [
    "study = optuna.create_study(direction='minimize')\n",
    "study.optimize(objective_wp6, n_trials=50)\n",
    "write_results(trials_file, 'wp6', study.trials_dataframe())\n",
    "best_trial = study.best_trial.params\n",
    "best_trial"
   ]
  },
  {
   "cell_type": "code",
   "execution_count": null,
   "id": "267b98ff-3269-4adb-8f99-b7ce9bb55521",
   "metadata": {},
   "outputs": [],
   "source": [
    "params_6 = best_trial"
   ]
  },
  {
   "cell_type": "code",
   "execution_count": null,
   "id": "c6b49cfc-b7ed-4309-a114-0257264fe9bf",
   "metadata": {
    "tags": []
   },
   "outputs": [],
   "source": [
    "rf_cross_validation(X6, y6, params_6)"
   ]
  },
  {
   "cell_type": "markdown",
   "id": "599f0c09-97e8-4e3b-a117-f707ed6235e2",
   "metadata": {},
   "source": [
    "# Predictions"
   ]
  },
  {
   "cell_type": "markdown",
   "id": "56a64913-6e53-4cb4-9cb5-2d7a5f33c2d2",
   "metadata": {},
   "source": [
    "## Functions"
   ]
  },
  {
   "cell_type": "code",
   "execution_count": null,
   "id": "2e673e92-7f3f-4ffd-a822-c574b030dac4",
   "metadata": {},
   "outputs": [],
   "source": [
    "to_drop_test = ['date','wd','forecast_time', 'forecast', \"forecast_dist\", 'wp']\n",
    "def make_prediction_dataset(test, to_drop=to_drop_test):\n",
    "    test_to_predict = test.dropna(subset=['ws','u','v'], how = 'any') # keeps only lines with u,v,ws,wd\n",
    "    test_to_predict = test_to_predict[test_to_predict['wp'].isna()] # keeps only lines with no wp\n",
    "    test_to_predict = test_to_predict.sort_values(by=['date', 'forecast_time'], ascending = [True, False]).drop_duplicates(subset='date')\n",
    "    test_to_predict = test_to_predict.drop(to_drop, axis = 1)\n",
    "    return test_to_predict"
   ]
  },
  {
   "cell_type": "code",
   "execution_count": null,
   "id": "911631de-e039-4791-885d-73d714bc3115",
   "metadata": {},
   "outputs": [],
   "source": [
    "def make_submission_file(lst_X_trains, lst_y_trains, lst_tests, lst_models, dates):\n",
    "    i = 1\n",
    "    lst_prediction = []\n",
    "    for X, y, test, model in zip(lst_X_trains, lst_y_trains, lst_tests, lst_models):\n",
    "        print(f'--------------Model {i}--------------')\n",
    "        model.fit(X, y)\n",
    "        print(f'True:\\n\\tMin:{min(y)}\\n\\tMax:{max(y)}\\n\\tMean:{y.mean()}')\n",
    "        predictions = model.predict(test)\n",
    "        print(f'Prediction:\\n\\tMin:{min(predictions)}\\n\\tMax:{max(predictions)}\\n\\tMean:{np.mean(predictions)}')\n",
    "        predictions = [min(y) if i < 0 else i for i in predictions]\n",
    "        predictions = [max(y) if i > 1 else i for i in predictions]\n",
    "        print(f'Prediction corrected:\\n\\tMin:{min(predictions)}\\n\\tMax:{max(predictions)}\\n\\tMean:{np.mean(predictions)}')\n",
    "        lst_prediction.append(predictions)\n",
    "        i+=1\n",
    "    \n",
    "    df_predictions = pd.DataFrame({\n",
    "        'date': test_dates,\n",
    "        'wp1': lst_prediction[0],\n",
    "        'wp2': lst_prediction[1],\n",
    "        'wp3': lst_prediction[2],\n",
    "        'wp4': lst_prediction[3],\n",
    "        'wp5': lst_prediction[4],\n",
    "        'wp6': lst_prediction[5],        \n",
    "    })\n",
    "    return df_predictions"
   ]
  },
  {
   "cell_type": "markdown",
   "id": "c8f21883-d940-4252-a2e8-0bf49e780a3d",
   "metadata": {},
   "source": [
    "## Submission "
   ]
  },
  {
   "cell_type": "code",
   "execution_count": null,
   "id": "8921365d-a1b4-4d3f-a6fa-693733ac2f3e",
   "metadata": {},
   "outputs": [],
   "source": [
    "model_1 = RandomForestRegressor(**params_1)\n",
    "model_2 = RandomForestRegressor(**params_2)\n",
    "model_3 = RandomForestRegressor(**params_3)\n",
    "model_4 = RandomForestRegressor(**params_4)\n",
    "model_5 = RandomForestRegressor(**params_5)\n",
    "model_6 = RandomForestRegressor(**params_6)\n",
    "\n",
    "lst_models = [model_1, model_2, model_3, model_4, model_5, model_6]\n",
    "lst_X_trains = [X1, X2, X3, X4, X5, X6]\n",
    "lst_y_trains = [y1, y2, y3, y4, y5, y6]"
   ]
  },
  {
   "cell_type": "code",
   "execution_count": null,
   "id": "ca47f1f3-34a9-4a23-8312-2a9402f563ff",
   "metadata": {},
   "outputs": [],
   "source": [
    "lst_tests = []\n",
    "for test in [test_wp1, test_wp2, test_wp3, test_wp4, test_wp5, test_wp6]:\n",
    "    test = make_prediction_dataset(test)\n",
    "    lst_tests.append(test)"
   ]
  },
  {
   "cell_type": "code",
   "execution_count": null,
   "id": "df54ea09-8916-4fdd-a8be-0516f0ed5395",
   "metadata": {
    "tags": []
   },
   "outputs": [],
   "source": [
    "df_predictions = make_submission_file(lst_X_trains, lst_y_trains, lst_tests, lst_models, test_dates)"
   ]
  },
  {
   "cell_type": "code",
   "execution_count": null,
   "id": "1fa2c859-6e63-40e3-adc4-045fe68c06de",
   "metadata": {},
   "outputs": [],
   "source": [
    "df_predictions.to_csv('Predictions/submission_nb_3_full_rf.csv', index=False, sep=';')"
   ]
  },
  {
   "cell_type": "code",
   "execution_count": null,
   "id": "3b0d9b33-202a-433c-a1c3-9156bedd7492",
   "metadata": {},
   "outputs": [],
   "source": [
    "# pkl_model = \"Models/LGBM/LGBM-wp1-50trials_best_warm_start.pkl\"\n",
    "# with open(pkl_model, 'wb') as file:\n",
    "#     pickle.dump(model_1, file)\n",
    "    \n",
    "    \n",
    "# pkl_model = \"Models/LGBM/LGBM-wp2-100trials_best.pkl\"\n",
    "# with open(pkl_model, 'wb') as file:\n",
    "#     pickle.dump(model_2, file)\n",
    "    \n",
    "\n",
    "# pkl_model = \"Models/LGBM/LGBM-wp3-50trials_best.pkl\"\n",
    "# with open(pkl_model, 'wb') as file:\n",
    "#     pickle.dump(model_3, file)\n",
    "\n",
    "\n",
    "# pkl_model = \"Models/LGBM/LGBM-wp4-100trials_best.pkl\"\n",
    "# with open(pkl_model, 'wb') as file:\n",
    "#     pickle.dump(model_4, file)\n",
    "\n",
    "\n",
    "# pkl_model = \"Models/LGBM/LGBM-wp5-100trials_best.pkl\"\n",
    "# with open(pkl_model, 'wb') as file:\n",
    "#     pickle.dump(model_5, file)\n",
    "\n",
    "\n",
    "# pkl_model = \"Models/LGBM/LGBM-wp6-100trials_best.pkl\"\n",
    "# with open(pkl_model, 'wb') as file:\n",
    "#     pickle.dump(model_6, file)"
   ]
  }
 ],
 "metadata": {
  "kernelspec": {
   "display_name": "Python 3 (ipykernel)",
   "language": "python",
   "name": "python3"
  },
  "language_info": {
   "codemirror_mode": {
    "name": "ipython",
    "version": 3
   },
   "file_extension": ".py",
   "mimetype": "text/x-python",
   "name": "python",
   "nbconvert_exporter": "python",
   "pygments_lexer": "ipython3",
   "version": "3.9.6"
  }
 },
 "nbformat": 4,
 "nbformat_minor": 5
}
