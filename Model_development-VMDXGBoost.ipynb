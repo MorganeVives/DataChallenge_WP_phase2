{
 "cells": [
  {
   "cell_type": "markdown",
   "id": "261ec557-50a0-4cd6-8bec-268d1dee685a",
   "metadata": {},
   "source": [
    "# Model development"
   ]
  },
  {
   "cell_type": "markdown",
   "id": "080db2e8-f090-42a3-9f49-d563a929c6ef",
   "metadata": {},
   "source": [
    "Ici on fait nos modèles et prédictions. Le mieux c'est de faire des parties par modèles je pense ?"
   ]
  },
  {
   "cell_type": "markdown",
   "id": "ec86fdcd-e169-4431-8b0b-10686b89feca",
   "metadata": {},
   "source": [
    "Il faut aussi qu'on trouve un nomenclature pour les modèles si on les enregistre, afin de garder en tête les différents résultats"
   ]
  },
  {
   "cell_type": "code",
   "execution_count": 1,
   "id": "1399bb0f-0234-43a6-b724-73f21f9b28b7",
   "metadata": {},
   "outputs": [],
   "source": [
    "import pandas as pd\n",
    "import seaborn as sns\n",
    "import openpyxl\n",
    "from datetime import datetime, timedelta\n",
    "import matplotlib.pyplot as plt\n",
    "import numpy as np\n",
    "import os\n",
    "import pickle"
   ]
  },
  {
   "cell_type": "code",
   "execution_count": 2,
   "id": "9a662ef3-a957-41fe-955d-1c5e99709226",
   "metadata": {},
   "outputs": [],
   "source": [
    "from sklearn.model_selection import KFold, train_test_split\n",
    "from sklearn.preprocessing import MinMaxScaler, StandardScaler, MaxAbsScaler\n",
    "from sklearn.pipeline import Pipeline\n",
    "from sklearn.metrics import mean_squared_error, mean_absolute_error\n",
    "\n",
    "from xgboost import XGBRegressor\n",
    "import optuna"
   ]
  },
  {
   "cell_type": "code",
   "execution_count": 3,
   "id": "0bc7dfff-4363-41ad-bfd2-5e5dd7c0ef63",
   "metadata": {},
   "outputs": [],
   "source": [
    "from Functions.helper_functions import * "
   ]
  },
  {
   "cell_type": "code",
   "execution_count": 4,
   "id": "3c184629-3914-4a2c-ba3f-5f111909f344",
   "metadata": {},
   "outputs": [],
   "source": [
    "import warnings\n",
    "warnings.filterwarnings(action='ignore', category=UserWarning)\n",
    "pd.options.mode.chained_assignment = None  # default='warn'"
   ]
  },
  {
   "cell_type": "code",
   "execution_count": 5,
   "id": "6333588b-f1b0-4a5b-afea-e53064be0d99",
   "metadata": {},
   "outputs": [],
   "source": [
    "np.random.seed(42)"
   ]
  },
  {
   "cell_type": "code",
   "execution_count": 6,
   "id": "e13839bf-a704-4ce9-b196-5888cdc56a2b",
   "metadata": {},
   "outputs": [],
   "source": [
    "from vmdpy import VMD"
   ]
  },
  {
   "cell_type": "markdown",
   "id": "b617c0f5-e679-4a3f-9a62-12e03303d11f",
   "metadata": {},
   "source": [
    "# Data"
   ]
  },
  {
   "cell_type": "code",
   "execution_count": 7,
   "id": "c4d3258c-6931-447d-84b7-ac52ed05673a",
   "metadata": {},
   "outputs": [],
   "source": [
    "train_wp1 = pd.read_csv('Data/Preprocessing/WP1_train_preprocessed.csv', sep=',')\n",
    "train_wp2 = pd.read_csv('Data/Preprocessing/WP2_train_preprocessed.csv', sep=',')\n",
    "train_wp3 = pd.read_csv('Data/Preprocessing/WP3_train_preprocessed.csv', sep=',')\n",
    "train_wp4 = pd.read_csv('Data/Preprocessing/WP4_train_preprocessed.csv', sep=',')\n",
    "train_wp5 = pd.read_csv('Data/Preprocessing/WP5_train_preprocessed.csv', sep=',')\n",
    "train_wp6 = pd.read_csv('Data/Preprocessing/WP6_train_preprocessed.csv', sep=',')"
   ]
  },
  {
   "cell_type": "code",
   "execution_count": 8,
   "id": "69f752d4-63ed-43b9-9315-41ecaa114ce4",
   "metadata": {},
   "outputs": [],
   "source": [
    "test_wp1 = pd.read_csv('Data/Preprocessing/WP1_test_preprocessed.csv', sep=',')\n",
    "test_wp2 = pd.read_csv('Data/Preprocessing/WP2_test_preprocessed.csv', sep=',')\n",
    "test_wp3 = pd.read_csv('Data/Preprocessing/WP3_test_preprocessed.csv', sep=',')\n",
    "test_wp4 = pd.read_csv('Data/Preprocessing/WP4_test_preprocessed.csv', sep=',')\n",
    "test_wp5 = pd.read_csv('Data/Preprocessing/WP5_test_preprocessed.csv', sep=',')\n",
    "test_wp6 = pd.read_csv('Data/Preprocessing/WP6_test_preprocessed.csv', sep=',')\n",
    "test_dates = pd.read_csv('Data/Initial/test.csv', sep=',').date.values"
   ]
  },
  {
   "cell_type": "code",
   "execution_count": 9,
   "id": "7540aa92-fc5e-4431-8e79-faba9f0cecad",
   "metadata": {},
   "outputs": [],
   "source": [
    "to_drop = ['date','wd','forecast_time', 'forecast', \"forecast_dist\"]"
   ]
  },
  {
   "cell_type": "markdown",
   "id": "d0204367-344e-4837-9d27-c07833112862",
   "metadata": {},
   "source": [
    "# XGBoost"
   ]
  },
  {
   "cell_type": "code",
   "execution_count": 10,
   "id": "0c2fd0c0-976c-4e83-8a23-a86d1864e2a7",
   "metadata": {
    "tags": []
   },
   "outputs": [],
   "source": [
    "# def xgboost_cross_validation(X, y, params):\n",
    "#     if params == None:\n",
    "#         model = XGBRegressor()\n",
    "#     else:\n",
    "#         model = XGBRegressor(**params)\n",
    "\n",
    "#     print('-----------XGBOOST CROSS VALIDATION BEGINNING-----------')\n",
    "#     split = 10\n",
    "#     kf = KFold(n_splits=split, shuffle=True)       \n",
    "#     xgboost_rmse_scores = []\n",
    "#     xgboost_mae_scores = []\n",
    "#     i = 1\n",
    "#     for (train_index, test_index) in kf.split(pd.DataFrame(X), pd.DataFrame(y)):\n",
    "#         X_train, X_test = pd.DataFrame(X).iloc[train_index], pd.DataFrame(X).iloc[test_index]\n",
    "#         Y_train, Y_test = pd.DataFrame(y).iloc[train_index],pd.DataFrame(y).iloc[test_index]\n",
    "\n",
    "#         model.fit(X_train, Y_train, eval_set=[(X_test, Y_test)], verbose=100)\n",
    "\n",
    "#         prediction = model.predict(X_test)\n",
    "#         xgboost_rmse_scores.append(mean_squared_error(Y_test, prediction,squared=False))\n",
    "#         xgboost_mae_scores.append(mean_absolute_error(Y_test, prediction))\n",
    "        \n",
    "#         print(show_evaluation(prediction, Y_test))\n",
    "#         print(f'-------------------FOLD {i}-----------------')\n",
    "#         i+=1\n",
    "\n",
    "#     print('---------------CROSS VALIDATION COMPLETE-------------')\n",
    "#     print('--------------------------RMSE-----------------------')\n",
    "#     display_scores(xgboost_rmse_scores)\n",
    "#     print('--------------------------MAE------------------------')\n",
    "#     display_scores(xgboost_mae_scores)"
   ]
  },
  {
   "cell_type": "code",
   "execution_count": 11,
   "id": "5dcf8132-79d2-4c61-978d-d0b785a28f9c",
   "metadata": {},
   "outputs": [],
   "source": [
    "def xgboost_cross_validation(X, y, params):\n",
    "    if params == None:\n",
    "        model = Pipeline([('scaler', MaxAbsScaler()),('xgbr', XGBRegressor())])\n",
    "    else:\n",
    "        model = Pipeline([('scaler', MaxAbsScaler()),('xgbr', XGBRegressor(**params))])\n",
    "\n",
    "    print('-----------XGBOOST CROSS VALIDATION BEGINNING-----------')\n",
    "    split = 10\n",
    "    kf = KFold(n_splits=split, shuffle=True)       \n",
    "    xgboost_rmse_scores = []\n",
    "    xgboost_mae_scores = []\n",
    "    i = 1\n",
    "    for (train_index, test_index) in kf.split(pd.DataFrame(X), pd.DataFrame(y)):\n",
    "        X_train, X_test = pd.DataFrame(X).iloc[train_index], pd.DataFrame(X).iloc[test_index]\n",
    "        Y_train, Y_test = pd.DataFrame(y).iloc[train_index],pd.DataFrame(y).iloc[test_index]\n",
    "\n",
    "        model.fit(X_train, Y_train)\n",
    "\n",
    "        prediction = model.predict(X_test)\n",
    "        xgboost_rmse_scores.append(mean_squared_error(Y_test, prediction,squared=False))\n",
    "        xgboost_mae_scores.append(mean_absolute_error(Y_test, prediction))\n",
    "        \n",
    "        print(show_evaluation(prediction, Y_test))\n",
    "        print(f'-------------------FOLD {i}-----------------')\n",
    "        i+=1\n",
    "\n",
    "    print('---------------CROSS VALIDATION COMPLETE-------------')\n",
    "    print('--------------------------RMSE-----------------------')\n",
    "    display_scores(xgboost_rmse_scores)\n",
    "    print('--------------------------MAE------------------------')\n",
    "    display_scores(xgboost_mae_scores)"
   ]
  },
  {
   "cell_type": "code",
   "execution_count": 12,
   "id": "4cd0bee0-212f-461c-8942-0f33738960a5",
   "metadata": {
    "tags": []
   },
   "outputs": [],
   "source": [
    "# def hyperparametrization(trial, train_x, test_x, train_y, test_y):\n",
    "#     param = {\n",
    "#         'lambda': trial.suggest_loguniform('lambda', 1e-3, 10.0),\n",
    "#         'alpha': trial.suggest_loguniform('alpha', 1e-3, 10.0),\n",
    "#         'colsample_bytree': trial.suggest_loguniform('colsample_bytree', 1e-8, 1),\n",
    "#         'subsample': trial.suggest_categorical('subsample', [0.4,0.5,0.6,0.7,0.8,1.0]),\n",
    "#         'learning_rate': trial.suggest_loguniform('learning_rate', 1e-3, 0.3),\n",
    "#         'n_estimators': trial.suggest_int('n_estimators', 100, 700),\n",
    "#         'max_depth': trial.suggest_int(\"max_depth\", 20, 70),\n",
    "#         'min_child_weight': trial.suggest_int('min_child_weight', 1, 300),\n",
    "#         'eta' : trial.suggest_loguniform(\"eta\", 1e-8, 1.0),\n",
    "#         'gamma' : trial.suggest_loguniform(\"gamma\", 1e-8, 1.0),\n",
    "#         'grow_policy' : trial.suggest_categorical(\"grow_policy\", [\"depthwise\", \"lossguide\"])\n",
    "#     }\n",
    "#     model = XGBRegressor(**param)  \n",
    "    \n",
    "#     model.fit(train_x,train_y,eval_set=[(test_x,test_y)],early_stopping_rounds=100,verbose=False)\n",
    "    \n",
    "#     preds = model.predict(test_x)\n",
    "    \n",
    "#     rmse =  mean_squared_error(test_y, preds,squared=False)\n",
    "    \n",
    "#     return rmse"
   ]
  },
  {
   "cell_type": "code",
   "execution_count": 13,
   "id": "2155b5a6-2476-434d-832f-2f92dd646d67",
   "metadata": {
    "tags": []
   },
   "outputs": [],
   "source": [
    "def hyperparametrization(trial, train_x, test_x, train_y, test_y):\n",
    "    param = {\n",
    "        'lambda': trial.suggest_loguniform('lambda', 1e-3, 10.0),\n",
    "        'alpha': trial.suggest_loguniform('alpha', 1e-3, 10.0),\n",
    "        'colsample_bytree': trial.suggest_loguniform('colsample_bytree', 1e-8, 1),\n",
    "        'subsample': trial.suggest_categorical('subsample', [0.4,0.5,0.6,0.7,0.8,1.0]),\n",
    "        'learning_rate': trial.suggest_loguniform('learning_rate', 1e-3, 0.3),\n",
    "        'n_estimators': trial.suggest_int('n_estimators', 100, 700),\n",
    "        'max_depth': trial.suggest_int(\"max_depth\", 20, 70),\n",
    "        'min_child_weight': trial.suggest_int('min_child_weight', 1, 300),\n",
    "        'eta' : trial.suggest_loguniform(\"eta\", 1e-8, 1.0),\n",
    "        'gamma' : trial.suggest_loguniform(\"gamma\", 1e-8, 1.0),\n",
    "        'grow_policy' : trial.suggest_categorical(\"grow_policy\", [\"depthwise\", \"lossguide\"])\n",
    "    }\n",
    "    model = Pipeline([('scaler', MaxAbsScaler()),('xgbr', XGBRegressor(**param))]) \n",
    "    \n",
    "    model.fit(train_x,train_y)\n",
    "    \n",
    "    preds = model.predict(test_x)\n",
    "    \n",
    "    rmse =  mean_squared_error(test_y, preds,squared=False)\n",
    "    \n",
    "    return rmse"
   ]
  },
  {
   "cell_type": "code",
   "execution_count": 14,
   "id": "a819fc32-c483-4627-82c9-769b28a86392",
   "metadata": {},
   "outputs": [],
   "source": [
    "def vmd(y,k,alpha, tau,DC, init, tol):\n",
    "    \n",
    "    #Intrinsic mode generation\n",
    "     #Empirical Mode Decomposition\n",
    "    #. some sample parameters for VMD  \n",
    "    alpha = 1       # moderate bandwidth constraint  \n",
    "    tau = 0.           # noise-tolerance (no strict fidelity enforcement)  \n",
    "    K = k              # k modes  \n",
    "    DC = 0             # no DC part imposed  \n",
    "    init = 1           # initialize omegas uniformly  \n",
    "    tol = 1e-7\n",
    "    u, u_hat, omega = VMD(y,alpha, tau, K, DC, init, tol)\n",
    "    df_vmfs = pd.DataFrame()\n",
    "    #Integration in the dataframe\n",
    "    for num, imf in enumerate(u):\n",
    "        #print('----Creating VMFwp{0} EMD columns----'.format(num+1))\n",
    "        df_vmfs['IMFwp{0}'.format(num+1)] = imf\n",
    "    return df_vmfs"
   ]
  },
  {
   "cell_type": "markdown",
   "id": "bbc3509e-c676-463f-97ac-c0ac98b5f3ed",
   "metadata": {},
   "source": [
    "## WP1 "
   ]
  },
  {
   "cell_type": "markdown",
   "id": "7cd32285-01cf-4ab5-8fcb-706b7f8a294b",
   "metadata": {},
   "source": [
    "| |  | Mean | Std | Sum up |\n",
    "| --- | --- | --- | --- | --- |\n",
    "| No params | RMSE | 0.08791418461185974 | 0.001582447940959254 |  |\n",
    "| No params - MaxAbs | RMSE | 0.08777836846276121 | 0.0014715383851711332 |  |\n",
    "| After tuning 50trials| RMSE | 0.06871560882190697 | 0.0009799918898982718 |  |\n",
    "| After tuning 50trials - MaxAbs | RMSE | 0.06436201945957092 | 0.0016136864674464234 |  |\n",
    "| --- | --- | --- | --- | --- |\n",
    "| No params | MAE | 0.0614505433779813 | 0.0010902461358058533 |  |\n",
    "| No params - MaxAbs | MAE | 0.06135361126361555 | 0.0009797777856978493 |  |\n",
    "| After tuning 50trials| MAE | 0.0447212685268329 | 0.0006115489443412801 |  |\n",
    "| After tuning 50trials - MaxAbs | MAE | 0.04177557094032202 | 0.0008888330284581335 |  |"
   ]
  },
  {
   "cell_type": "code",
   "execution_count": 15,
   "id": "70c3af58-11fa-437e-80d2-d58c9901ce08",
   "metadata": {},
   "outputs": [],
   "source": [
    "wp1_X = train_wp1[[c for c in train_wp1 if c not in [\"wp\"]] + [\"wp\"]].drop(to_drop, axis = 1)\n",
    "X1 = wp1_X.drop('wp', axis=1)\n",
    "y1 = wp1_X['wp']\n",
    "y1_vmf = vmd(y1,4,0,0,0,0,0)['IMFwp1']\n",
    "\n",
    "def objective_wp1(trial,data=X1,target=y1_vmf):\n",
    "    train_x, test_x, train_y, test_y = train_test_split(data, target, test_size=0.15,random_state=42)\n",
    "    return hyperparametrization(trial, train_x, test_x, train_y, test_y)"
   ]
  },
  {
   "cell_type": "code",
   "execution_count": 16,
   "id": "ce60b0b1-b92e-42aa-8734-07709f0dc159",
   "metadata": {
    "tags": []
   },
   "outputs": [],
   "source": [
    "#xgboost_cross_validation(X1, y1_vmf, None)"
   ]
  },
  {
   "cell_type": "code",
   "execution_count": 17,
   "id": "048366c7-82b9-418c-87df-07fab6c0191a",
   "metadata": {
    "tags": []
   },
   "outputs": [],
   "source": [
    "# try_these_first = [{\n",
    "#     'lambda': 2.1359622347936646,\n",
    "#     'alpha': 0.016202766042783825,\n",
    "#     'colsample_bytree': 0.8075360516891219,\n",
    "#     'subsample': 0.8,\n",
    "#     'learning_rate': 0.06792370224097045,\n",
    "#     'n_estimators': 320,\n",
    "#     'max_depth': 58,\n",
    "#     'min_child_weight': 102,\n",
    "#     'eta': 6.934521001624072e-05,\n",
    "#     'gamma': 4.369012735807193e-06,\n",
    "#     'grow_policy': 'lossguide'\n",
    "# },  {\n",
    "#     'lambda': 0.3643806022565838,\n",
    "#     'alpha': 0.003650309466012506,\n",
    "#     'colsample_bytree': 0.9640425007241273,\n",
    "#     'subsample': 0.8,\n",
    "#     'learning_rate': 0.052762727588106954,\n",
    "#     'n_estimators': 700,\n",
    "#     'max_depth': 54,\n",
    "#     'min_child_weight': 96,\n",
    "#     'eta': 3.119364108002744e-05,\n",
    "#     'gamma': 5.177778739056542e-05,\n",
    "#     'grow_policy': 'lossguide'\n",
    "# }]\n",
    "\n",
    "# study = optuna.create_study(direction='minimize')\n",
    "# study.enqueue_trial(try_these_first[0])"
   ]
  },
  {
   "cell_type": "code",
   "execution_count": 18,
   "id": "ab792f0b-e669-4e29-b434-8db786b194a2",
   "metadata": {
    "tags": []
   },
   "outputs": [],
   "source": [
    "# # study = optuna.create_study(direction='minimize')\n",
    "# study.optimize(objective_wp1, n_trials=50)\n",
    "# # write_results('Data/Hyperparametrization/xgboost_50trials.xlsx', 'wp1', study.trials_dataframe())\n",
    "# best_trial = study.best_trial.params\n",
    "# best_trial"
   ]
  },
  {
   "cell_type": "code",
   "execution_count": 21,
   "id": "772ef566-6d0d-421c-b00d-7a1f91692384",
   "metadata": {},
   "outputs": [],
   "source": [
    "# Warm start MaxAbs\n",
    "params_1 = {\n",
    "    'lambda': 0.3643806022565838,\n",
    "    'alpha': 0.003650309466012506,\n",
    "    'colsample_bytree': 0.9640425007241273,\n",
    "    'subsample': 0.8,\n",
    "    'learning_rate': 0.052762727588106954,\n",
    "    'n_estimators': 100,\n",
    "    'max_depth': 54,\n",
    "    'min_child_weight': 96,\n",
    "    'eta': 3.119364108002744e-05,\n",
    "    'gamma': 5.177778739056542e-05,\n",
    "    'grow_policy': 'lossguide'\n",
    "}\n",
    "\n",
    "# 50 trials no scaler\n",
    "# params_1 = {\n",
    "#     'lambda': 2.1359622347936646,\n",
    "#     'alpha': 0.016202766042783825,\n",
    "#     'colsample_bytree': 0.8075360516891219,\n",
    "#     'subsample': 0.8,\n",
    "#     'learning_rate': 0.06792370224097045,\n",
    "#     'n_estimators': 320,\n",
    "#     'max_depth': 58,\n",
    "#     'min_child_weight': 102,\n",
    "#     'eta': 6.934521001624072e-05,\n",
    "#     'gamma': 4.369012735807193e-06,\n",
    "#     'grow_policy': 'lossguide'\n",
    "# }"
   ]
  },
  {
   "cell_type": "code",
   "execution_count": 22,
   "id": "6e8b9581-1e59-40fc-ba46-cac68640c7ff",
   "metadata": {
    "tags": []
   },
   "outputs": [
    {
     "name": "stdout",
     "output_type": "stream",
     "text": [
      "-----------XGBOOST CROSS VALIDATION BEGINNING-----------\n",
      "RMSE score: 0.06027794375545382\n",
      "MAE score: 0.039799655871442075\n",
      "None\n",
      "-------------------FOLD 1-----------------\n",
      "RMSE score: 0.06211235661539879\n",
      "MAE score: 0.04173993398324079\n",
      "None\n",
      "-------------------FOLD 2-----------------\n"
     ]
    },
    {
     "ename": "KeyboardInterrupt",
     "evalue": "",
     "output_type": "error",
     "traceback": [
      "\u001b[1;31m---------------------------------------------------------------------------\u001b[0m",
      "\u001b[1;31mKeyboardInterrupt\u001b[0m                         Traceback (most recent call last)",
      "\u001b[1;32mC:\\Users\\GERALD~1.CAS\\AppData\\Local\\Temp/ipykernel_15312/3760386006.py\u001b[0m in \u001b[0;36m<module>\u001b[1;34m\u001b[0m\n\u001b[1;32m----> 1\u001b[1;33m \u001b[0mxgboost_cross_validation\u001b[0m\u001b[1;33m(\u001b[0m\u001b[0mX1\u001b[0m\u001b[1;33m,\u001b[0m \u001b[0my1_vmf\u001b[0m\u001b[1;33m,\u001b[0m \u001b[0mparams_1\u001b[0m\u001b[1;33m)\u001b[0m\u001b[1;33m\u001b[0m\u001b[1;33m\u001b[0m\u001b[0m\n\u001b[0m",
      "\u001b[1;32mC:\\Users\\GERALD~1.CAS\\AppData\\Local\\Temp/ipykernel_15312/1430119056.py\u001b[0m in \u001b[0;36mxgboost_cross_validation\u001b[1;34m(X, y, params)\u001b[0m\n\u001b[0;32m     15\u001b[0m         \u001b[0mY_train\u001b[0m\u001b[1;33m,\u001b[0m \u001b[0mY_test\u001b[0m \u001b[1;33m=\u001b[0m \u001b[0mpd\u001b[0m\u001b[1;33m.\u001b[0m\u001b[0mDataFrame\u001b[0m\u001b[1;33m(\u001b[0m\u001b[0my\u001b[0m\u001b[1;33m)\u001b[0m\u001b[1;33m.\u001b[0m\u001b[0miloc\u001b[0m\u001b[1;33m[\u001b[0m\u001b[0mtrain_index\u001b[0m\u001b[1;33m]\u001b[0m\u001b[1;33m,\u001b[0m\u001b[0mpd\u001b[0m\u001b[1;33m.\u001b[0m\u001b[0mDataFrame\u001b[0m\u001b[1;33m(\u001b[0m\u001b[0my\u001b[0m\u001b[1;33m)\u001b[0m\u001b[1;33m.\u001b[0m\u001b[0miloc\u001b[0m\u001b[1;33m[\u001b[0m\u001b[0mtest_index\u001b[0m\u001b[1;33m]\u001b[0m\u001b[1;33m\u001b[0m\u001b[1;33m\u001b[0m\u001b[0m\n\u001b[0;32m     16\u001b[0m \u001b[1;33m\u001b[0m\u001b[0m\n\u001b[1;32m---> 17\u001b[1;33m         \u001b[0mmodel\u001b[0m\u001b[1;33m.\u001b[0m\u001b[0mfit\u001b[0m\u001b[1;33m(\u001b[0m\u001b[0mX_train\u001b[0m\u001b[1;33m,\u001b[0m \u001b[0mY_train\u001b[0m\u001b[1;33m)\u001b[0m\u001b[1;33m\u001b[0m\u001b[1;33m\u001b[0m\u001b[0m\n\u001b[0m\u001b[0;32m     18\u001b[0m \u001b[1;33m\u001b[0m\u001b[0m\n\u001b[0;32m     19\u001b[0m         \u001b[0mprediction\u001b[0m \u001b[1;33m=\u001b[0m \u001b[0mmodel\u001b[0m\u001b[1;33m.\u001b[0m\u001b[0mpredict\u001b[0m\u001b[1;33m(\u001b[0m\u001b[0mX_test\u001b[0m\u001b[1;33m)\u001b[0m\u001b[1;33m\u001b[0m\u001b[1;33m\u001b[0m\u001b[0m\n",
      "\u001b[1;32mc:\\users\\gerald.casterou\\venv\\datachallenge_wp_phase2\\lib\\site-packages\\sklearn\\pipeline.py\u001b[0m in \u001b[0;36mfit\u001b[1;34m(self, X, y, **fit_params)\u001b[0m\n\u001b[0;32m    344\u001b[0m             \u001b[1;32mif\u001b[0m \u001b[0mself\u001b[0m\u001b[1;33m.\u001b[0m\u001b[0m_final_estimator\u001b[0m \u001b[1;33m!=\u001b[0m \u001b[1;34m'passthrough'\u001b[0m\u001b[1;33m:\u001b[0m\u001b[1;33m\u001b[0m\u001b[1;33m\u001b[0m\u001b[0m\n\u001b[0;32m    345\u001b[0m                 \u001b[0mfit_params_last_step\u001b[0m \u001b[1;33m=\u001b[0m \u001b[0mfit_params_steps\u001b[0m\u001b[1;33m[\u001b[0m\u001b[0mself\u001b[0m\u001b[1;33m.\u001b[0m\u001b[0msteps\u001b[0m\u001b[1;33m[\u001b[0m\u001b[1;33m-\u001b[0m\u001b[1;36m1\u001b[0m\u001b[1;33m]\u001b[0m\u001b[1;33m[\u001b[0m\u001b[1;36m0\u001b[0m\u001b[1;33m]\u001b[0m\u001b[1;33m]\u001b[0m\u001b[1;33m\u001b[0m\u001b[1;33m\u001b[0m\u001b[0m\n\u001b[1;32m--> 346\u001b[1;33m                 \u001b[0mself\u001b[0m\u001b[1;33m.\u001b[0m\u001b[0m_final_estimator\u001b[0m\u001b[1;33m.\u001b[0m\u001b[0mfit\u001b[0m\u001b[1;33m(\u001b[0m\u001b[0mXt\u001b[0m\u001b[1;33m,\u001b[0m \u001b[0my\u001b[0m\u001b[1;33m,\u001b[0m \u001b[1;33m**\u001b[0m\u001b[0mfit_params_last_step\u001b[0m\u001b[1;33m)\u001b[0m\u001b[1;33m\u001b[0m\u001b[1;33m\u001b[0m\u001b[0m\n\u001b[0m\u001b[0;32m    347\u001b[0m \u001b[1;33m\u001b[0m\u001b[0m\n\u001b[0;32m    348\u001b[0m         \u001b[1;32mreturn\u001b[0m \u001b[0mself\u001b[0m\u001b[1;33m\u001b[0m\u001b[1;33m\u001b[0m\u001b[0m\n",
      "\u001b[1;32mc:\\users\\gerald.casterou\\venv\\datachallenge_wp_phase2\\lib\\site-packages\\xgboost\\core.py\u001b[0m in \u001b[0;36minner_f\u001b[1;34m(*args, **kwargs)\u001b[0m\n\u001b[0;32m    434\u001b[0m         \u001b[1;32mfor\u001b[0m \u001b[0mk\u001b[0m\u001b[1;33m,\u001b[0m \u001b[0marg\u001b[0m \u001b[1;32min\u001b[0m \u001b[0mzip\u001b[0m\u001b[1;33m(\u001b[0m\u001b[0msig\u001b[0m\u001b[1;33m.\u001b[0m\u001b[0mparameters\u001b[0m\u001b[1;33m,\u001b[0m \u001b[0margs\u001b[0m\u001b[1;33m)\u001b[0m\u001b[1;33m:\u001b[0m\u001b[1;33m\u001b[0m\u001b[1;33m\u001b[0m\u001b[0m\n\u001b[0;32m    435\u001b[0m             \u001b[0mkwargs\u001b[0m\u001b[1;33m[\u001b[0m\u001b[0mk\u001b[0m\u001b[1;33m]\u001b[0m \u001b[1;33m=\u001b[0m \u001b[0marg\u001b[0m\u001b[1;33m\u001b[0m\u001b[1;33m\u001b[0m\u001b[0m\n\u001b[1;32m--> 436\u001b[1;33m         \u001b[1;32mreturn\u001b[0m \u001b[0mf\u001b[0m\u001b[1;33m(\u001b[0m\u001b[1;33m**\u001b[0m\u001b[0mkwargs\u001b[0m\u001b[1;33m)\u001b[0m\u001b[1;33m\u001b[0m\u001b[1;33m\u001b[0m\u001b[0m\n\u001b[0m\u001b[0;32m    437\u001b[0m \u001b[1;33m\u001b[0m\u001b[0m\n\u001b[0;32m    438\u001b[0m     \u001b[1;32mreturn\u001b[0m \u001b[0minner_f\u001b[0m\u001b[1;33m\u001b[0m\u001b[1;33m\u001b[0m\u001b[0m\n",
      "\u001b[1;32mc:\\users\\gerald.casterou\\venv\\datachallenge_wp_phase2\\lib\\site-packages\\xgboost\\sklearn.py\u001b[0m in \u001b[0;36mfit\u001b[1;34m(self, X, y, sample_weight, base_margin, eval_set, eval_metric, early_stopping_rounds, verbose, xgb_model, sample_weight_eval_set, base_margin_eval_set, feature_weights, callbacks)\u001b[0m\n\u001b[0;32m    734\u001b[0m \u001b[1;33m\u001b[0m\u001b[0m\n\u001b[0;32m    735\u001b[0m         \u001b[0mmodel\u001b[0m\u001b[1;33m,\u001b[0m \u001b[0mfeval\u001b[0m\u001b[1;33m,\u001b[0m \u001b[0mparams\u001b[0m \u001b[1;33m=\u001b[0m \u001b[0mself\u001b[0m\u001b[1;33m.\u001b[0m\u001b[0m_configure_fit\u001b[0m\u001b[1;33m(\u001b[0m\u001b[0mxgb_model\u001b[0m\u001b[1;33m,\u001b[0m \u001b[0meval_metric\u001b[0m\u001b[1;33m,\u001b[0m \u001b[0mparams\u001b[0m\u001b[1;33m)\u001b[0m\u001b[1;33m\u001b[0m\u001b[1;33m\u001b[0m\u001b[0m\n\u001b[1;32m--> 736\u001b[1;33m         self._Booster = train(\n\u001b[0m\u001b[0;32m    737\u001b[0m             \u001b[0mparams\u001b[0m\u001b[1;33m,\u001b[0m\u001b[1;33m\u001b[0m\u001b[1;33m\u001b[0m\u001b[0m\n\u001b[0;32m    738\u001b[0m             \u001b[0mtrain_dmatrix\u001b[0m\u001b[1;33m,\u001b[0m\u001b[1;33m\u001b[0m\u001b[1;33m\u001b[0m\u001b[0m\n",
      "\u001b[1;32mc:\\users\\gerald.casterou\\venv\\datachallenge_wp_phase2\\lib\\site-packages\\xgboost\\training.py\u001b[0m in \u001b[0;36mtrain\u001b[1;34m(params, dtrain, num_boost_round, evals, obj, feval, maximize, early_stopping_rounds, evals_result, verbose_eval, xgb_model, callbacks)\u001b[0m\n\u001b[0;32m    187\u001b[0m     \u001b[0mBooster\u001b[0m \u001b[1;33m:\u001b[0m \u001b[0ma\u001b[0m \u001b[0mtrained\u001b[0m \u001b[0mbooster\u001b[0m \u001b[0mmodel\u001b[0m\u001b[1;33m\u001b[0m\u001b[1;33m\u001b[0m\u001b[0m\n\u001b[0;32m    188\u001b[0m     \"\"\"\n\u001b[1;32m--> 189\u001b[1;33m     bst = _train_internal(params, dtrain,\n\u001b[0m\u001b[0;32m    190\u001b[0m                           \u001b[0mnum_boost_round\u001b[0m\u001b[1;33m=\u001b[0m\u001b[0mnum_boost_round\u001b[0m\u001b[1;33m,\u001b[0m\u001b[1;33m\u001b[0m\u001b[1;33m\u001b[0m\u001b[0m\n\u001b[0;32m    191\u001b[0m                           \u001b[0mevals\u001b[0m\u001b[1;33m=\u001b[0m\u001b[0mevals\u001b[0m\u001b[1;33m,\u001b[0m\u001b[1;33m\u001b[0m\u001b[1;33m\u001b[0m\u001b[0m\n",
      "\u001b[1;32mc:\\users\\gerald.casterou\\venv\\datachallenge_wp_phase2\\lib\\site-packages\\xgboost\\training.py\u001b[0m in \u001b[0;36m_train_internal\u001b[1;34m(params, dtrain, num_boost_round, evals, obj, feval, xgb_model, callbacks, evals_result, maximize, verbose_eval, early_stopping_rounds)\u001b[0m\n\u001b[0;32m     79\u001b[0m         \u001b[1;32mif\u001b[0m \u001b[0mcallbacks\u001b[0m\u001b[1;33m.\u001b[0m\u001b[0mbefore_iteration\u001b[0m\u001b[1;33m(\u001b[0m\u001b[0mbst\u001b[0m\u001b[1;33m,\u001b[0m \u001b[0mi\u001b[0m\u001b[1;33m,\u001b[0m \u001b[0mdtrain\u001b[0m\u001b[1;33m,\u001b[0m \u001b[0mevals\u001b[0m\u001b[1;33m)\u001b[0m\u001b[1;33m:\u001b[0m\u001b[1;33m\u001b[0m\u001b[1;33m\u001b[0m\u001b[0m\n\u001b[0;32m     80\u001b[0m             \u001b[1;32mbreak\u001b[0m\u001b[1;33m\u001b[0m\u001b[1;33m\u001b[0m\u001b[0m\n\u001b[1;32m---> 81\u001b[1;33m         \u001b[0mbst\u001b[0m\u001b[1;33m.\u001b[0m\u001b[0mupdate\u001b[0m\u001b[1;33m(\u001b[0m\u001b[0mdtrain\u001b[0m\u001b[1;33m,\u001b[0m \u001b[0mi\u001b[0m\u001b[1;33m,\u001b[0m \u001b[0mobj\u001b[0m\u001b[1;33m)\u001b[0m\u001b[1;33m\u001b[0m\u001b[1;33m\u001b[0m\u001b[0m\n\u001b[0m\u001b[0;32m     82\u001b[0m         \u001b[1;32mif\u001b[0m \u001b[0mcallbacks\u001b[0m\u001b[1;33m.\u001b[0m\u001b[0mafter_iteration\u001b[0m\u001b[1;33m(\u001b[0m\u001b[0mbst\u001b[0m\u001b[1;33m,\u001b[0m \u001b[0mi\u001b[0m\u001b[1;33m,\u001b[0m \u001b[0mdtrain\u001b[0m\u001b[1;33m,\u001b[0m \u001b[0mevals\u001b[0m\u001b[1;33m)\u001b[0m\u001b[1;33m:\u001b[0m\u001b[1;33m\u001b[0m\u001b[1;33m\u001b[0m\u001b[0m\n\u001b[0;32m     83\u001b[0m             \u001b[1;32mbreak\u001b[0m\u001b[1;33m\u001b[0m\u001b[1;33m\u001b[0m\u001b[0m\n",
      "\u001b[1;32mc:\\users\\gerald.casterou\\venv\\datachallenge_wp_phase2\\lib\\site-packages\\xgboost\\core.py\u001b[0m in \u001b[0;36mupdate\u001b[1;34m(self, dtrain, iteration, fobj)\u001b[0m\n\u001b[0;32m   1497\u001b[0m \u001b[1;33m\u001b[0m\u001b[0m\n\u001b[0;32m   1498\u001b[0m         \u001b[1;32mif\u001b[0m \u001b[0mfobj\u001b[0m \u001b[1;32mis\u001b[0m \u001b[1;32mNone\u001b[0m\u001b[1;33m:\u001b[0m\u001b[1;33m\u001b[0m\u001b[1;33m\u001b[0m\u001b[0m\n\u001b[1;32m-> 1499\u001b[1;33m             _check_call(_LIB.XGBoosterUpdateOneIter(self.handle,\n\u001b[0m\u001b[0;32m   1500\u001b[0m                                                     \u001b[0mctypes\u001b[0m\u001b[1;33m.\u001b[0m\u001b[0mc_int\u001b[0m\u001b[1;33m(\u001b[0m\u001b[0miteration\u001b[0m\u001b[1;33m)\u001b[0m\u001b[1;33m,\u001b[0m\u001b[1;33m\u001b[0m\u001b[1;33m\u001b[0m\u001b[0m\n\u001b[0;32m   1501\u001b[0m                                                     dtrain.handle))\n",
      "\u001b[1;31mKeyboardInterrupt\u001b[0m: "
     ]
    }
   ],
   "source": [
    "xgboost_cross_validation(X1, y1_vmf, params_1)"
   ]
  },
  {
   "cell_type": "markdown",
   "id": "2d4d08ad-3af3-408b-8834-57c1349d328a",
   "metadata": {},
   "source": [
    "## WP2"
   ]
  },
  {
   "cell_type": "markdown",
   "id": "d4e11c2c-ca88-4828-bd30-2cbff1e0933b",
   "metadata": {},
   "source": [
    "| |  | Mean | Std | Sum up |\n",
    "| --- | --- | --- | --- | --- |\n",
    "| No params | RMSE | 0.09275649653219382 | 0.0018096321280782113 |  |\n",
    "| No params - MaxAbs | RMSE | 0.09230889203333872 | 0.0020804503145906636 |  |\n",
    "| After tuning 100trials| RMSE | 0.07182012947223423 | 0.0012496316182635523 |  |\n",
    "| After tuning 50trials - MaxAbs | RMSE | 0.06859684788065064 | 0.0016932252507600254 |  |\n",
    "| --- | --- | --- | --- | --- |\n",
    "| No params | MAE | 0.0639385458606043 | 0.0009679991365400539 |  |\n",
    "| No params - MaxAbs | MAE | 0.06371111009968947 | 0.001194440893727917 |  |\n",
    "| After tuning 100trials| MAE | 0.04649572151134333 | 0.0006489429134030307 |  |\n",
    "| After tuning 50trials - MaxAbs | MAE | 0.044900768162719054 | 0.0006831432438047666 |  |"
   ]
  },
  {
   "cell_type": "code",
   "execution_count": 22,
   "id": "e6b8fee4-9fba-4818-a7df-29cd5d3806ad",
   "metadata": {},
   "outputs": [],
   "source": [
    "wp2_X = train_wp2[[c for c in train_wp2 if c not in [\"wp\"]] + [\"wp\"]].drop(to_drop, axis = 1)\n",
    "X2 = wp2_X.drop('wp', axis=1)\n",
    "y2 = wp2_X['wp']\n",
    "\n",
    "def objective_wp2(trial,data = X2,target = y2):\n",
    "    train_x, test_x, train_y, test_y = train_test_split(data, target, test_size=0.15,random_state=42)\n",
    "    return hyperparametrization(trial, train_x, test_x, train_y, test_y)"
   ]
  },
  {
   "cell_type": "code",
   "execution_count": 23,
   "id": "e297d1bd-f11e-4f8b-9fe2-634e78ca9c85",
   "metadata": {
    "tags": []
   },
   "outputs": [],
   "source": [
    "# xgboost_cross_validation(X2, y2, None)"
   ]
  },
  {
   "cell_type": "code",
   "execution_count": 24,
   "id": "e213fa38-9021-4daa-8d27-550c87fdfe4e",
   "metadata": {
    "tags": []
   },
   "outputs": [],
   "source": [
    "# try_these_first = [{\n",
    "#     'lambda': 2.1359622347936646,\n",
    "#     'alpha': 0.016202766042783825,\n",
    "#     'colsample_bytree': 0.8075360516891219,\n",
    "#     'subsample': 0.8,\n",
    "#     'learning_rate': 0.06792370224097045,\n",
    "#     'n_estimators': 320,\n",
    "#     'max_depth': 58,\n",
    "#     'min_child_weight': 102,\n",
    "#     'eta': 6.934521001624072e-05,\n",
    "#     'gamma': 4.369012735807193e-06,\n",
    "#     'grow_policy': 'lossguide'\n",
    "# }]\n",
    "\n",
    "# study = optuna.create_study(direction='minimize')\n",
    "# study.enqueue_trial(try_these_first[0])"
   ]
  },
  {
   "cell_type": "code",
   "execution_count": 25,
   "id": "0728372a-8909-4a7a-8cdc-be27e96cfc70",
   "metadata": {
    "tags": []
   },
   "outputs": [],
   "source": [
    "# # study = optuna.create_study(direction='minimize')\n",
    "# study.optimize(objective_wp2, n_trials=50)\n",
    "# # write_results('Data/Hyperparametrization/xgboost_50trials.xlsx', 'wp2', study.trials_dataframe())\n",
    "# best_trial = study.best_trial.params\n",
    "# best_trial"
   ]
  },
  {
   "cell_type": "code",
   "execution_count": 26,
   "id": "9ae90b08-6b61-4c17-90d8-a0d0c0f8a455",
   "metadata": {},
   "outputs": [],
   "source": [
    "# 50 tirals - warm start MaxAbs\n",
    "params_2 = {\n",
    "    'lambda': 0.005195058020286749,\n",
    "    'alpha': 0.15427340616771562,\n",
    "    'colsample_bytree': 0.4794118698886291,\n",
    "    'subsample': 0.7,\n",
    "    'learning_rate': 0.13969003989794868,\n",
    "    'n_estimators': 583,\n",
    "    'max_depth': 20,\n",
    "    'min_child_weight': 81,\n",
    "    'eta': 0.0006994052800675432,\n",
    "    'gamma': 4.0927842177131904e-08,\n",
    "    'grow_policy': 'depthwise'\n",
    "}\n",
    "\n",
    "# {\n",
    "#     'lambda': 4.982427302967441,\n",
    "#     'alpha': 0.023879453147379343,\n",
    "#     'colsample_bytree': 0.29850970311481473,\n",
    "#     'subsample': 0.7,\n",
    "#     'learning_rate': 0.07986759823219342,\n",
    "#     'n_estimators': 634,\n",
    "#     'max_depth': 52,\n",
    "#     'min_child_weight': 142,\n",
    "#     'eta': 0.9698508070965183,\n",
    "#     'gamma': 6.168834828494383e-06,\n",
    "#     'grow_policy': 'depthwise'\n",
    "# }"
   ]
  },
  {
   "cell_type": "code",
   "execution_count": 27,
   "id": "4deb0297-bfb2-491c-9885-9795b2596248",
   "metadata": {
    "tags": []
   },
   "outputs": [],
   "source": [
    "# xgboost_cross_validation(X2, y2, params_2)"
   ]
  },
  {
   "cell_type": "markdown",
   "id": "966468d2-d1a2-4c0a-a190-c37d85ef61f5",
   "metadata": {},
   "source": [
    "## WP3"
   ]
  },
  {
   "cell_type": "markdown",
   "id": "ea949960-82ce-47cc-8a25-5bc0cc56b1d0",
   "metadata": {},
   "source": [
    "| |  | Mean | Std | Sum up |\n",
    "| --- | --- | --- | --- | --- |\n",
    "| No params | RMSE | 0.08531695654385577 | 0.0009512381902157176 |  |\n",
    "| No params - MaxAbs | RMSE | 0.08509439114002723 | 0.0018013097694686512 |  |\n",
    "| After tuning 100trials| RMSE | 0.0573197789387906 | 0.0008490715337388156 |  |\n",
    "| After tuning 50trials - MaxAbs | RMSE | 0.057135478429648404 | 0.0010258941390154284 |  |\n",
    "| --- | --- | --- | --- | --- |\n",
    "| No params | MAE | 0.06125227568636895 | 0.000538637024754324 |  |\n",
    "| No params - MaxAbs | MAE | 0.06109215580462539 | 0.0011200741022377755 |  |\n",
    "| After tuning 100trials| MAE | 0.04009718047732659 | 0.000599116601355594 |  |\n",
    "| After tuning 50trials - MaxAbs | MAE | 0.040053630091772346 | 0.0006140572130488917 |  |"
   ]
  },
  {
   "cell_type": "code",
   "execution_count": 28,
   "id": "1a19adfe-a591-4616-827c-70140477879b",
   "metadata": {},
   "outputs": [],
   "source": [
    "wp3_X = train_wp3[[c for c in train_wp3 if c not in [\"wp\"]] + [\"wp\"]].drop(to_drop, axis = 1)\n",
    "X3 = wp3_X.drop('wp', axis = 1)\n",
    "y3 = wp3_X['wp']\n",
    "\n",
    "def objective_wp3(trial,data = X3,target = y3):\n",
    "    train_x, test_x, train_y, test_y = train_test_split(data, target, test_size=0.15,random_state=42)\n",
    "    return hyperparametrization(trial, train_x, test_x, train_y, test_y)"
   ]
  },
  {
   "cell_type": "code",
   "execution_count": 29,
   "id": "de738d33-8e08-49d4-af3f-0e3fc5609cec",
   "metadata": {
    "tags": []
   },
   "outputs": [],
   "source": [
    "# xgboost_cross_validation(X3, y3, None)"
   ]
  },
  {
   "cell_type": "code",
   "execution_count": 30,
   "id": "e1ad8300-f27f-4464-99f9-a759bd738650",
   "metadata": {
    "tags": []
   },
   "outputs": [],
   "source": [
    "# try_these_first = [{\n",
    "#     'lambda': 0.018191871915246106,\n",
    "#     'alpha': 0.2397827070234125,\n",
    "#     'colsample_bytree': 0.4710946041352672,\n",
    "#     'subsample': 0.8,\n",
    "#     'learning_rate': 0.14812785561924302,\n",
    "#     'n_estimators': 688,\n",
    "#     'max_depth': 32,\n",
    "#     'min_child_weight': 218,\n",
    "#     'eta': 6.950960910550952e-08,\n",
    "#     'gamma': 2.0149702062428016e-07,\n",
    "#     'grow_policy': 'lossguide'\n",
    "# }]\n",
    "\n",
    "# study = optuna.create_study(direction='minimize')\n",
    "# study.enqueue_trial(try_these_first[0])"
   ]
  },
  {
   "cell_type": "code",
   "execution_count": 31,
   "id": "76fcd3f6-9ee9-4a40-9208-371c72445408",
   "metadata": {
    "tags": []
   },
   "outputs": [],
   "source": [
    "# # study = optuna.create_study(direction='minimize')\n",
    "# study.optimize(objective_wp3, n_trials=50)\n",
    "# # write_results('Data/Hyperparametrization/xgboost_50trials.xlsx', 'wp3', study.trials_dataframe())\n",
    "# best_trial = study.best_trial.params\n",
    "# best_trial"
   ]
  },
  {
   "cell_type": "code",
   "execution_count": 32,
   "id": "0799bdb2-b009-446a-af9f-5f3e2fbed56b",
   "metadata": {},
   "outputs": [],
   "source": [
    "# 50 tirals - warm start MaxAbs\n",
    "params_3 = {\n",
    "    'lambda': 0.018191871915246106,\n",
    "    'alpha': 0.2397827070234125,\n",
    "    'colsample_bytree': 0.4710946041352672,\n",
    "    'subsample': 0.8,\n",
    "    'learning_rate': 0.14812785561924302,\n",
    "    'n_estimators': 688,\n",
    "    'max_depth': 32,\n",
    "    'min_child_weight': 218,\n",
    "    'eta': 6.950960910550952e-08,\n",
    "    'gamma': 2.0149702062428016e-07,\n",
    "    'grow_policy': 'lossguide'\n",
    "}\n",
    "\n",
    "# {\n",
    "#     'lambda': 0.018191871915246106,\n",
    "#     'alpha': 0.2397827070234125,\n",
    "#     'colsample_bytree': 0.4710946041352672,\n",
    "#     'subsample': 0.8,\n",
    "#     'learning_rate': 0.14812785561924302,\n",
    "#     'n_estimators': 688,\n",
    "#     'max_depth': 32,\n",
    "#     'min_child_weight': 218,\n",
    "#     'eta': 6.950960910550952e-08,\n",
    "#     'gamma': 2.0149702062428016e-07,\n",
    "#     'grow_policy': 'lossguide'\n",
    "# }"
   ]
  },
  {
   "cell_type": "code",
   "execution_count": 33,
   "id": "b0d45d0b-664c-4c89-8493-ed650660fb0e",
   "metadata": {
    "tags": []
   },
   "outputs": [],
   "source": [
    "# xgboost_cross_validation(X3, y3, params_3)"
   ]
  },
  {
   "cell_type": "markdown",
   "id": "cdc76c8c-9cc7-441f-b25e-e1ecf293298e",
   "metadata": {},
   "source": [
    "## WP4"
   ]
  },
  {
   "cell_type": "markdown",
   "id": "6d0fc24d-b30e-444a-8745-6231872dfe8b",
   "metadata": {},
   "source": [
    "| |  | Mean | Std | Sum up |\n",
    "| --- | --- | --- | --- | --- |\n",
    "| No params | RMSE | 0.08705646834205574 | 0.0013432615911574354 |  |\n",
    "| No params - MaxAbs | RMSE | 0.0870757500361273 | 0.0014362323840110152 |  |\n",
    "| After tuning 100trials| RMSE | 0.06505388151301929 | 0.0009022910606251192 |  |\n",
    "| After tuning 50trials - MaxAbs | RMSE | 0.0626312118373484 | 0.0010312894520400255 |  |\n",
    "| --- | --- | --- | --- | --- |\n",
    "| No params | MAE | 0.06217383365682638 | 0.000883527934746644 |  |\n",
    "| No params - MaxAbs | MAE | 0.062254149447791104 | 0.062254149447791104 |  |\n",
    "| After tuning 100trials| MAE | 0.043762279489834674 | 0.0004905220832103441 |  |\n",
    "| After tuning 50trials - MaxAbs | MAE | 0.041378801055099515 | 0.0007406645752025426 |  |"
   ]
  },
  {
   "cell_type": "code",
   "execution_count": 34,
   "id": "185fd52e-5fe9-4ab7-817d-03feda6a42ab",
   "metadata": {},
   "outputs": [],
   "source": [
    "wp4_X = train_wp4[[c for c in train_wp4 if c not in [\"wp\"]] + [\"wp\"]].drop(to_drop, axis = 1)\n",
    "X4 = wp4_X.drop('wp', axis = 1)\n",
    "y4 = wp4_X['wp']\n",
    "\n",
    "def objective_wp4(trial,data = X4,target = y4):\n",
    "    train_x, test_x, train_y, test_y = train_test_split(data, target, test_size=0.15,random_state=42)\n",
    "    return hyperparametrization(trial, train_x, test_x, train_y, test_y)"
   ]
  },
  {
   "cell_type": "code",
   "execution_count": 35,
   "id": "c96a6e3e-8a1b-4fe9-a162-1f2fa994023d",
   "metadata": {
    "tags": []
   },
   "outputs": [],
   "source": [
    "# xgboost_cross_validation(X4, y4, None)"
   ]
  },
  {
   "cell_type": "code",
   "execution_count": 36,
   "id": "4c106d90-e59c-44f4-8196-c0e1a8cc72fd",
   "metadata": {
    "tags": []
   },
   "outputs": [],
   "source": [
    "# try_these_first = [{\n",
    "#     'lambda': 0.001340947773207149,\n",
    "#     'alpha': 0.002479638085657274,\n",
    "#     'colsample_bytree': 0.3030181981060389,\n",
    "#     'subsample': 0.7,\n",
    "#     'learning_rate': 0.07696248319007938,\n",
    "#     'n_estimators': 367,\n",
    "#     'max_depth': 31,\n",
    "#     'min_child_weight': 72,\n",
    "#     'eta': 3.704957186572025e-08,\n",
    "#     'gamma': 8.44315434172209e-05,\n",
    "#     'grow_policy': 'depthwise'\n",
    "# }, {\n",
    "#     'lambda': 0.13763482520556616,\n",
    "#     'alpha': 0.0010077676339636944,\n",
    "#     'colsample_bytree': 0.954734556572597,\n",
    "#     'subsample': 0.8,\n",
    "#     'learning_rate': 0.05499114408834853,\n",
    "#     'n_estimators': 546,\n",
    "#     'max_depth': 43,\n",
    "#     'min_child_weight': 94,\n",
    "#     'eta': 1.2784286267654713e-06,\n",
    "#     'gamma': 1.6935174502873177e-05,\n",
    "#     'grow_policy': 'depthwise'\n",
    "# }]\n",
    "\n",
    "# study = optuna.create_study(direction='minimize')\n",
    "# study.enqueue_trial(try_these_first[0])"
   ]
  },
  {
   "cell_type": "code",
   "execution_count": 37,
   "id": "713019ee-cf12-4fa6-8971-7a09d0aa227a",
   "metadata": {
    "tags": []
   },
   "outputs": [],
   "source": [
    "# # study = optuna.create_study(direction='minimize')\n",
    "# study.optimize(objective_wp4, n_trials=50)\n",
    "# # write_results('Data/Hyperparametrization/xgboost_50trials.xlsx', 'wp4', study.trials_dataframe())\n",
    "# best_trial = study.best_trial.params\n",
    "# best_trial"
   ]
  },
  {
   "cell_type": "code",
   "execution_count": 38,
   "id": "fc00a25c-08c8-4cbe-9373-bcf6ad6b429a",
   "metadata": {},
   "outputs": [],
   "source": [
    "# 50 tirals - warm start MaxAbs\n",
    "params_4 = {\n",
    "    'lambda': 0.13763482520556616,\n",
    "    'alpha': 0.0010077676339636944,\n",
    "    'colsample_bytree': 0.954734556572597,\n",
    "    'subsample': 0.8,\n",
    "    'learning_rate': 0.05499114408834853,\n",
    "    'n_estimators': 546,\n",
    "    'max_depth': 43,\n",
    "    'min_child_weight': 94,\n",
    "    'eta': 1.2784286267654713e-06,\n",
    "    'gamma': 1.6935174502873177e-05,\n",
    "    'grow_policy': 'depthwise'\n",
    "}\n",
    "\n",
    "# 50 trials\n",
    "# params_4 = {\n",
    "#     'lambda': 0.001340947773207149,\n",
    "#     'alpha': 0.002479638085657274,\n",
    "#     'colsample_bytree': 0.3030181981060389,\n",
    "#     'subsample': 0.7,\n",
    "#     'learning_rate': 0.07696248319007938,\n",
    "#     'n_estimators': 367,\n",
    "#     'max_depth': 31,\n",
    "#     'min_child_weight': 72,\n",
    "#     'eta': 3.704957186572025e-08,\n",
    "#     'gamma': 8.44315434172209e-05,\n",
    "#     'grow_policy': 'depthwise'\n",
    "# }"
   ]
  },
  {
   "cell_type": "code",
   "execution_count": 39,
   "id": "731ce6d4-2612-45d6-8e37-89e2c27e9be1",
   "metadata": {
    "tags": []
   },
   "outputs": [],
   "source": [
    "# xgboost_cross_validation(X4, y4, params_4)"
   ]
  },
  {
   "cell_type": "markdown",
   "id": "640e4455-cfc5-493a-b3e6-95b608171368",
   "metadata": {},
   "source": [
    "## WP5"
   ]
  },
  {
   "cell_type": "markdown",
   "id": "71612300-2513-41b2-ac57-ae0a7050e60e",
   "metadata": {},
   "source": [
    "| |  | Mean | Std | Sum up |\n",
    "| --- | --- | --- | --- | --- |\n",
    "| No params | RMSE | 0.09905505938942759 | 0.0010560057294061722 |  |\n",
    "| No params - MaxAbs | RMSE | 0.09902019521905119 | 0.0013460300390687509 |  |\n",
    "| After tuning 100trials| RMSE | 0.07467175992757297 | 0.0018566395951414925 |  |\n",
    "| After tuning 50trials - MaxAbs | RMSE | 0.07315316873758233 | 0.0021847037668090933 |  |\n",
    "| --- | --- | --- | --- | --- |\n",
    "| No params | MAE | 0.0703001590429472 | 0.0006221166408279179 |  |\n",
    "| No params - MaxAbs | MAE | 0.07031017432456337 | 0.0008486582761726584 |  |\n",
    "| After tuning 100trials| MAE | 0.05087662307993675 | 0.0010894679027767663 |  |\n",
    "| After tuning 50trials - MaxAbs | MAE | 0.04890386336557044 | 0.0010155747369788642 |  |"
   ]
  },
  {
   "cell_type": "code",
   "execution_count": 40,
   "id": "44f38883-24ef-46f1-bc0b-1070f4e36d2f",
   "metadata": {},
   "outputs": [],
   "source": [
    "wp5_X = train_wp5[[c for c in train_wp5 if c not in [\"wp\"]] + [\"wp\"]].drop(to_drop, axis = 1)\n",
    "X5 = wp5_X.drop('wp', axis = 1)\n",
    "y5 = wp5_X['wp']\n",
    "\n",
    "def objective_wp5(trial, data = X5,target = y5):\n",
    "    train_x, test_x, train_y, test_y = train_test_split(data, target, test_size=0.15,random_state=42)\n",
    "    return hyperparametrization(trial, train_x, test_x, train_y, test_y)"
   ]
  },
  {
   "cell_type": "code",
   "execution_count": 41,
   "id": "c4ece078-3e34-4754-b23c-1ba712563b3e",
   "metadata": {
    "tags": []
   },
   "outputs": [],
   "source": [
    "# xgboost_cross_validation(X5, y5, None)"
   ]
  },
  {
   "cell_type": "code",
   "execution_count": 42,
   "id": "1ffc2ed8-3e6f-4cdf-89cb-7de6274b09f8",
   "metadata": {
    "tags": []
   },
   "outputs": [],
   "source": [
    "# try_these_first = [{\n",
    "#     'lambda': 4.537995153532639,\n",
    "#     'alpha': 0.15887083612902936,\n",
    "#     'colsample_bytree': 0.35129085402309673,\n",
    "#     'subsample': 0.8,\n",
    "#     'learning_rate': 0.20146110291550628,\n",
    "#     'n_estimators': 354,\n",
    "#     'max_depth': 27,\n",
    "#     'min_child_weight': 91,\n",
    "#     'eta': 0.1963402390178624,\n",
    "#     'gamma': 4.730295821405375e-07,\n",
    "#     'grow_policy': 'lossguide'\n",
    "# }]\n",
    "\n",
    "# study = optuna.create_study(direction='minimize')\n",
    "# study.enqueue_trial(try_these_first[0])"
   ]
  },
  {
   "cell_type": "code",
   "execution_count": 43,
   "id": "eaa2050d-bf47-4311-b386-0a8d40eae30b",
   "metadata": {
    "tags": []
   },
   "outputs": [],
   "source": [
    "# # study = optuna.create_study(direction='minimize')\n",
    "# study.optimize(objective_wp5, n_trials=50)\n",
    "# # write_results('Data/Hyperparametrization/xgboost_50trials.xlsx', 'wp5', study.trials_dataframe())\n",
    "# best_trial = study.best_trial.params\n",
    "# best_trial"
   ]
  },
  {
   "cell_type": "code",
   "execution_count": 44,
   "id": "dde520d3-4565-42ff-8382-d787e91e8c7b",
   "metadata": {},
   "outputs": [],
   "source": [
    "# 50 start warm - MaxAbs\n",
    "params_5 = {\n",
    "    'lambda': 4.7653031074423104,\n",
    "    'alpha': 0.004963619239675007,\n",
    "    'colsample_bytree': 0.8616303151950829,\n",
    "    'subsample': 0.8,\n",
    "    'learning_rate': 0.167247240657064,\n",
    "    'n_estimators': 509,\n",
    "    'max_depth': 31,\n",
    "    'min_child_weight': 73,\n",
    "    'eta': 0.1392993925005545,\n",
    "    'gamma': 1.4909263616645174e-07,\n",
    "    'grow_policy': 'depthwise'\n",
    "}\n",
    "\n",
    "# 50 trials\n",
    "# params_5 = {\n",
    "#     'lambda': 4.537995153532639,\n",
    "#     'alpha': 0.15887083612902936,\n",
    "#     'colsample_bytree': 0.35129085402309673,\n",
    "#     'subsample': 0.8,\n",
    "#     'learning_rate': 0.20146110291550628,\n",
    "#     'n_estimators': 354,\n",
    "#     'max_depth': 27,\n",
    "#     'min_child_weight': 91,\n",
    "#     'eta': 0.1963402390178624,\n",
    "#     'gamma': 4.730295821405375e-07,\n",
    "#     'grow_policy': 'lossguide'\n",
    "# }"
   ]
  },
  {
   "cell_type": "code",
   "execution_count": 45,
   "id": "c45f8446-417b-4fc3-8180-88c091fe37cf",
   "metadata": {
    "tags": []
   },
   "outputs": [],
   "source": [
    "# xgboost_cross_validation(X5, y5, params_5)"
   ]
  },
  {
   "cell_type": "markdown",
   "id": "ccd547b2-24e6-4023-8959-d7955620108f",
   "metadata": {},
   "source": [
    "## WP6"
   ]
  },
  {
   "cell_type": "markdown",
   "id": "985e4cda-ae75-4992-84af-b0c899c95cf8",
   "metadata": {},
   "source": [
    "| |  | Mean | Std | Sum up |\n",
    "| --- | --- | --- | --- | --- |\n",
    "| No params | RMSE |  0.07704369819527615 | 0.0010801451601647142 |  |\n",
    "| No params - MaxAbs | RMSE | 0.07724267929514025 | 0.0015012274298760973 |  |\n",
    "| After tuning 100trials| RMSE | 0.052403202133489465 | 0.0010631888908178239 |  |\n",
    "| After tuning 50trials - warm start - MaxAbs | RMSE | 0.051604419990347344 | 0.0008376347497504802 |  |\n",
    "| --- | --- | --- | --- | --- |\n",
    "| No params | MAE | 0.056804680824990995 | 0.000879205156712233 |  |\n",
    "| No params - MaxAbs | MAE | 0.0568038624920563 | 0.0007877324372786336 |  |\n",
    "| After tuning 100trials| MAE | 0.03630430575055383 | 0.0007604647331428116 |  |\n",
    "| After tuning 50trials - warm start - MaxAbs | MAE | 0.03479476729901705 | 0.0004812579905210939 |  |"
   ]
  },
  {
   "cell_type": "code",
   "execution_count": 46,
   "id": "da2f9ef4-ad90-4d75-9137-735cd41284fe",
   "metadata": {
    "tags": []
   },
   "outputs": [],
   "source": [
    "wp6_X = train_wp6[[c for c in train_wp6 if c not in [\"wp\"]] + [\"wp\"]].drop(to_drop, axis = 1)\n",
    "X6 = wp6_X.drop('wp', axis = 1)\n",
    "y6 = wp6_X['wp']\n",
    "\n",
    "def objective_wp6(trial,data = X6,target = y6):\n",
    "    train_x, test_x, train_y, test_y = train_test_split(data, target, test_size=0.15,random_state=42)\n",
    "    return hyperparametrization(trial, train_x, test_x, train_y, test_y)"
   ]
  },
  {
   "cell_type": "code",
   "execution_count": 47,
   "id": "9582d271-b478-4351-81aa-3be5cd3077b1",
   "metadata": {
    "tags": []
   },
   "outputs": [],
   "source": [
    "# xgboost_cross_validation(X6, y6, None)"
   ]
  },
  {
   "cell_type": "code",
   "execution_count": 48,
   "id": "7287de94-ab28-484e-a339-755b0de15920",
   "metadata": {
    "tags": []
   },
   "outputs": [],
   "source": [
    "# try_these_first = [{\n",
    "#     'lambda': 0.5705269295320163,\n",
    "#     'alpha': 0.06713843687958011,\n",
    "#     'colsample_bytree': 0.8718486759988152,\n",
    "#     'subsample': 0.8,\n",
    "#     'learning_rate': 0.07668854905667996,\n",
    "#     'n_estimators': 582,\n",
    "#     'max_depth': 49,\n",
    "#     'min_child_weight': 143,\n",
    "#     'eta': 9.055710235537663e-07,\n",
    "#     'gamma': 1.111486195598291e-06,\n",
    "#     'grow_policy': 'depthwise'\n",
    "# }]\n",
    "\n",
    "# study = optuna.create_study(direction='minimize')\n",
    "# study.enqueue_trial(try_these_first[0])"
   ]
  },
  {
   "cell_type": "code",
   "execution_count": 49,
   "id": "cf4cb7dd-bf83-4cd6-ac64-483e7c498375",
   "metadata": {
    "tags": []
   },
   "outputs": [],
   "source": [
    "# # study = optuna.create_study(direction='minimize')\n",
    "# study.optimize(objective_wp6, n_trials=50)\n",
    "# # write_results('Data/Hyperparametrization/xgboost_50trials.xlsx', 'wp6', study.trials_dataframe())\n",
    "# best_trial = study.best_trial.params\n",
    "# best_trial"
   ]
  },
  {
   "cell_type": "code",
   "execution_count": 50,
   "id": "267b98ff-3269-4adb-8f99-b7ce9bb55521",
   "metadata": {},
   "outputs": [],
   "source": [
    "# 50 start warm - MaxAbs\n",
    "params_6 = {\n",
    "    'lambda': 6.198890709955999,\n",
    "    'alpha': 0.009212761583335095,\n",
    "    'colsample_bytree': 0.9364947872025757,\n",
    "    'subsample': 0.6,\n",
    "    'learning_rate': 0.0377294321765545,\n",
    "    'n_estimators': 458,\n",
    "    'max_depth': 50,\n",
    "    'min_child_weight': 28,\n",
    "    'eta': 1.0671149195024988e-08,\n",
    "    'gamma': 1.4697758952551594e-05,\n",
    "    'grow_policy': 'depthwise'\n",
    "}\n",
    "\n",
    "\n",
    "# A REFAIRE TOURNER\n",
    "# {\n",
    "#     'lambda': 0.5705269295320163,\n",
    "#     'alpha': 0.06713843687958011,\n",
    "#     'colsample_bytree': 0.8718486759988152,\n",
    "#     'subsample': 0.8,\n",
    "#     'learning_rate': 0.07668854905667996,\n",
    "#     'n_estimators': 582,\n",
    "#     'max_depth': 49,\n",
    "#     'min_child_weight': 143,\n",
    "#     'eta': 9.055710235537663e-07,\n",
    "#     'gamma': 1.111486195598291e-06,\n",
    "#     'grow_policy': 'depthwise'\n",
    "# }"
   ]
  },
  {
   "cell_type": "code",
   "execution_count": 51,
   "id": "c6b49cfc-b7ed-4309-a114-0257264fe9bf",
   "metadata": {
    "tags": []
   },
   "outputs": [],
   "source": [
    "# xgboost_cross_validation(X6, y6, params_6)"
   ]
  },
  {
   "cell_type": "markdown",
   "id": "599f0c09-97e8-4e3b-a117-f707ed6235e2",
   "metadata": {},
   "source": [
    "# XGBoost Predictions"
   ]
  },
  {
   "cell_type": "markdown",
   "id": "2b0f85a0-3a62-4985-b2d6-8fa0aecc6a4b",
   "metadata": {},
   "source": [
    "## Functions"
   ]
  },
  {
   "cell_type": "code",
   "execution_count": 52,
   "id": "2e673e92-7f3f-4ffd-a822-c574b030dac4",
   "metadata": {},
   "outputs": [],
   "source": [
    "to_drop = ['date','wd','forecast_time', 'forecast', \"forecast_dist\", 'wp']\n",
    "def make_prediction_dataset(test, to_drop=to_drop):\n",
    "    test_to_predict = test.dropna(subset=['ws','u','v'], how = 'any') # keeps only lines with u,v,ws,wd\n",
    "    test_to_predict = test_to_predict[test_to_predict['wp'].isna()] # keeps only lines with no wp\n",
    "    test_to_predict = test_to_predict.sort_values(by=['date', 'forecast_time'], ascending = [True, False]).drop_duplicates(subset='date')\n",
    "    test_to_predict = test_to_predict.drop(to_drop, axis = 1)\n",
    "    return test_to_predict"
   ]
  },
  {
   "cell_type": "code",
   "execution_count": 53,
   "id": "911631de-e039-4791-885d-73d714bc3115",
   "metadata": {},
   "outputs": [],
   "source": [
    "def make_submission_file(lst_X_trains, lst_y_trains, lst_tests, lst_models, dates):\n",
    "    i = 1\n",
    "    lst_prediction = []\n",
    "    lst_models_trained = []\n",
    "    for X, y, test, model in zip(lst_X_trains, lst_y_trains, lst_tests, lst_models):\n",
    "        print(f'--------------Model {i}--------------')\n",
    "        model.fit(X, y)\n",
    "        print(f'True:\\n\\tMin:{min(y)}\\n\\tMax:{max(y)}\\n\\tMean:{y.mean()}')\n",
    "        predictions = model.predict(test)\n",
    "        print(f'Prediction:\\n\\tMin:{min(predictions)}\\n\\tMax:{max(predictions)}\\n\\tMean:{np.mean(predictions)}')\n",
    "        predictions = [min(y) if i < 0 else i for i in predictions]\n",
    "        predictions = [max(y) if i > max(y) else i for i in predictions]\n",
    "        print(f'Prediction corrected:\\n\\tMin:{min(predictions)}\\n\\tMax:{max(predictions)}\\n\\tMean:{np.mean(predictions)}')\n",
    "        lst_prediction.append(predictions)\n",
    "        lst_models_trained.append(model)\n",
    "        i+=1\n",
    "    \n",
    "    df_predictions = pd.DataFrame({\n",
    "        'date': test_dates,\n",
    "        'wp1': lst_prediction[0],\n",
    "        'wp2': lst_prediction[1],\n",
    "        'wp3': lst_prediction[2],\n",
    "        'wp4': lst_prediction[3],\n",
    "        'wp5': lst_prediction[4],\n",
    "        'wp6': lst_prediction[5],        \n",
    "    })\n",
    "    return df_predictions, lst_models_trained"
   ]
  },
  {
   "cell_type": "markdown",
   "id": "b413c6e2-20eb-425f-9376-29f19676626b",
   "metadata": {},
   "source": [
    "## Submission"
   ]
  },
  {
   "cell_type": "code",
   "execution_count": 54,
   "id": "a4601749-8412-4d0f-8637-c22d9480cc8d",
   "metadata": {},
   "outputs": [],
   "source": [
    "model_1 = Pipeline([('scaler', MaxAbsScaler()),('xgbr', XGBRegressor(**params_1))])\n",
    "model_2 = Pipeline([('scaler', MaxAbsScaler()),('xgbr', XGBRegressor(**params_2))])\n",
    "model_3 = Pipeline([('scaler', MaxAbsScaler()),('xgbr', XGBRegressor(**params_3))])\n",
    "model_4 = Pipeline([('scaler', MaxAbsScaler()),('xgbr', XGBRegressor(**params_4))])\n",
    "model_5 = Pipeline([('scaler', MaxAbsScaler()),('xgbr', XGBRegressor(**params_5))])\n",
    "model_6 = Pipeline([('scaler', MaxAbsScaler()),('xgbr', XGBRegressor(**params_6))])"
   ]
  },
  {
   "cell_type": "code",
   "execution_count": 55,
   "id": "8921365d-a1b4-4d3f-a6fa-693733ac2f3e",
   "metadata": {},
   "outputs": [],
   "source": [
    "# model_1 = XGBRegressor(**params_1)\n",
    "# model_2 = XGBRegressor(**params_2)\n",
    "# model_3 = XGBRegressor(**params_3)\n",
    "# model_4 = XGBRegressor(**params_4)\n",
    "# model_5 = XGBRegressor(**params_5)\n",
    "# model_6 = XGBRegressor(**params_6)\n",
    "\n",
    "lst_models = [model_1, model_2, model_3, model_4, model_5, model_6]\n",
    "lst_X_trains = [X1, X2, X3, X4, X5, X6]\n",
    "lst_y_trains = [y1, y2, y3, y4, y5, y6]"
   ]
  },
  {
   "cell_type": "code",
   "execution_count": 56,
   "id": "ca47f1f3-34a9-4a23-8312-2a9402f563ff",
   "metadata": {},
   "outputs": [],
   "source": [
    "lst_tests = []\n",
    "for test in [test_wp1, test_wp2, test_wp3, test_wp4, test_wp5, test_wp6]:\n",
    "    test = make_prediction_dataset(test)\n",
    "    lst_tests.append(test)"
   ]
  },
  {
   "cell_type": "code",
   "execution_count": 57,
   "id": "df54ea09-8916-4fdd-a8be-0516f0ed5395",
   "metadata": {
    "tags": []
   },
   "outputs": [
    {
     "name": "stdout",
     "output_type": "stream",
     "text": [
      "--------------Model 1--------------\n",
      "True:\n",
      "\tMin:0.0\n",
      "\tMax:0.96\n",
      "\tMean:0.2845981952075702\n",
      "Prediction:\n",
      "\tMin:-0.040609680116176605\n",
      "\tMax:0.9584257006645203\n",
      "\tMean:0.2994403839111328\n",
      "Prediction corrected:\n",
      "\tMin:0.0\n",
      "\tMax:0.9584257006645203\n",
      "\tMean:0.299561041407802\n",
      "--------------Model 2--------------\n",
      "True:\n",
      "\tMin:0.0\n",
      "\tMax:0.966\n",
      "\tMean:0.25890153769841273\n",
      "Prediction:\n",
      "\tMin:-0.03859954699873924\n",
      "\tMax:1.0072672367095947\n",
      "\tMean:0.2552209198474884\n",
      "Prediction corrected:\n",
      "\tMin:0.0\n",
      "\tMax:0.966\n",
      "\tMean:0.2553686954124512\n",
      "--------------Model 3--------------\n",
      "True:\n",
      "\tMin:0.0\n",
      "\tMax:0.989\n",
      "\tMean:0.2625247252747253\n",
      "Prediction:\n",
      "\tMin:-0.07822347432374954\n",
      "\tMax:1.0252376794815063\n",
      "\tMean:0.2915489375591278\n",
      "Prediction corrected:\n",
      "\tMin:0.0\n",
      "\tMax:0.989\n",
      "\tMean:0.29178245276974524\n",
      "--------------Model 4--------------\n",
      "True:\n",
      "\tMin:0.0\n",
      "\tMax:0.992\n",
      "\tMean:0.2763637820512821\n",
      "Prediction:\n",
      "\tMin:-0.019250165671110153\n",
      "\tMax:0.9634188413619995\n",
      "\tMean:0.2832432985305786\n",
      "Prediction corrected:\n",
      "\tMin:0.0\n",
      "\tMax:0.9634188413619995\n",
      "\tMean:0.2833424258501441\n",
      "--------------Model 5--------------\n",
      "True:\n",
      "\tMin:0.0\n",
      "\tMax:0.978\n",
      "\tMean:0.32622119200244204\n",
      "Prediction:\n",
      "\tMin:-0.04621139168739319\n",
      "\tMax:1.0799273252487183\n",
      "\tMean:0.33305543661117554\n",
      "Prediction corrected:\n",
      "\tMin:0.0\n",
      "\tMax:0.978\n",
      "\tMean:0.33307137521291136\n",
      "--------------Model 6--------------\n",
      "True:\n",
      "\tMin:0.0\n",
      "\tMax:0.947\n",
      "\tMean:0.2425176472832723\n",
      "Prediction:\n",
      "\tMin:-0.0130529860034585\n",
      "\tMax:0.8685023188591003\n",
      "\tMean:0.2370697557926178\n",
      "Prediction corrected:\n",
      "\tMin:0.0\n",
      "\tMax:0.8685023188591003\n",
      "\tMean:0.23708150108524484\n"
     ]
    }
   ],
   "source": [
    "df_predictions, lst_models_trained = make_submission_file(lst_X_trains, lst_y_trains, lst_tests, lst_models, test_dates)"
   ]
  },
  {
   "cell_type": "code",
   "execution_count": 58,
   "id": "1fa2c859-6e63-40e3-adc4-045fe68c06de",
   "metadata": {},
   "outputs": [],
   "source": [
    "df_predictions.to_csv('Predictions/submission_nb_7_full_absmax-xgboost.csv', index=False, sep=';')"
   ]
  },
  {
   "cell_type": "code",
   "execution_count": 59,
   "id": "06adda7c-2354-45c5-8a09-1efade23848e",
   "metadata": {},
   "outputs": [],
   "source": [
    "pkl_model = \"Models/XGBOOST/XGBoost-maxabs-wp1-50trials_best.pkl\"\n",
    "with open(pkl_model, 'wb') as file:\n",
    "    pickle.dump(lst_models_trained[0], file)\n",
    "    \n",
    "pkl_model = \"Models/XGBOOST/XGBoost-maxabs-wp2-50trials_best.pkl\"\n",
    "with open(pkl_model, 'wb') as file:\n",
    "    pickle.dump(lst_models_trained[1], file)\n",
    "    \n",
    "pkl_model = \"Models/XGBOOST/XGBoost-maxabs-wp3-50trials_best.pkl\"\n",
    "with open(pkl_model, 'wb') as file:\n",
    "    pickle.dump(lst_models_trained[2], file)\n",
    "\n",
    "pkl_model = \"Models/XGBOOST/XGBoost-maxabs-wp4-50trials_best.pkl\"\n",
    "with open(pkl_model, 'wb') as file:\n",
    "    pickle.dump(lst_models_trained[3], file)\n",
    "    \n",
    "pkl_model = \"Models/XGBOOST/XGBoost-maxabs-wp5-50trials_best.pkl\"\n",
    "with open(pkl_model, 'wb') as file:\n",
    "    pickle.dump(lst_models_trained[4], file)\n",
    "    \n",
    "pkl_model = \"Models/XGBOOST/XGBoost-maxabs-wp6-50trials_best.pkl\"\n",
    "with open(pkl_model, 'wb') as file:\n",
    "    pickle.dump(lst_models_trained[5], file)"
   ]
  }
 ],
 "metadata": {
  "kernelspec": {
   "display_name": "Python 3 (ipykernel)",
   "language": "python",
   "name": "python3"
  },
  "language_info": {
   "codemirror_mode": {
    "name": "ipython",
    "version": 3
   },
   "file_extension": ".py",
   "mimetype": "text/x-python",
   "name": "python",
   "nbconvert_exporter": "python",
   "pygments_lexer": "ipython3",
   "version": "3.8.6"
  }
 },
 "nbformat": 4,
 "nbformat_minor": 5
}
