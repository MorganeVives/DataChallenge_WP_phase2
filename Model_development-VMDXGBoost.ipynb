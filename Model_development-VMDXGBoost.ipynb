{
 "cells": [
  {
   "cell_type": "markdown",
   "id": "261ec557-50a0-4cd6-8bec-268d1dee685a",
   "metadata": {},
   "source": [
    "# Model development"
   ]
  },
  {
   "cell_type": "markdown",
   "id": "080db2e8-f090-42a3-9f49-d563a929c6ef",
   "metadata": {},
   "source": [
    "Ici on fait nos modèles et prédictions. Le mieux c'est de faire des parties par modèles je pense ?"
   ]
  },
  {
   "cell_type": "markdown",
   "id": "ec86fdcd-e169-4431-8b0b-10686b89feca",
   "metadata": {},
   "source": [
    "Il faut aussi qu'on trouve un nomenclature pour les modèles si on les enregistre, afin de garder en tête les différents résultats"
   ]
  },
  {
   "cell_type": "code",
   "execution_count": 2,
   "id": "1399bb0f-0234-43a6-b724-73f21f9b28b7",
   "metadata": {},
   "outputs": [],
   "source": [
    "import pandas as pd\n",
    "import seaborn as sns\n",
    "import openpyxl\n",
    "from datetime import datetime, timedelta\n",
    "import matplotlib.pyplot as plt\n",
    "import numpy as np\n",
    "import os\n",
    "import pickle"
   ]
  },
  {
   "cell_type": "code",
   "execution_count": 3,
   "id": "9a662ef3-a957-41fe-955d-1c5e99709226",
   "metadata": {},
   "outputs": [],
   "source": [
    "from sklearn.model_selection import KFold, train_test_split\n",
    "from sklearn.preprocessing import MinMaxScaler, StandardScaler, MaxAbsScaler\n",
    "from sklearn.pipeline import Pipeline\n",
    "from sklearn.metrics import mean_squared_error, mean_absolute_error\n",
    "\n",
    "from xgboost import XGBRegressor\n",
    "import optuna"
   ]
  },
  {
   "cell_type": "code",
   "execution_count": 4,
   "id": "0bc7dfff-4363-41ad-bfd2-5e5dd7c0ef63",
   "metadata": {},
   "outputs": [],
   "source": [
    "from Functions.helper_functions import * "
   ]
  },
  {
   "cell_type": "code",
   "execution_count": 5,
   "id": "3c184629-3914-4a2c-ba3f-5f111909f344",
   "metadata": {},
   "outputs": [],
   "source": [
    "import warnings\n",
    "warnings.filterwarnings(action='ignore', category=UserWarning)\n",
    "pd.options.mode.chained_assignment = None  # default='warn'"
   ]
  },
  {
   "cell_type": "code",
   "execution_count": 6,
   "id": "6333588b-f1b0-4a5b-afea-e53064be0d99",
   "metadata": {},
   "outputs": [],
   "source": [
    "np.random.seed(42)"
   ]
  },
  {
   "cell_type": "code",
   "execution_count": 7,
   "id": "e13839bf-a704-4ce9-b196-5888cdc56a2b",
   "metadata": {},
   "outputs": [],
   "source": [
    "from vmdpy import VMD"
   ]
  },
  {
   "cell_type": "markdown",
   "id": "b617c0f5-e679-4a3f-9a62-12e03303d11f",
   "metadata": {},
   "source": [
    "# Data"
   ]
  },
  {
   "cell_type": "code",
   "execution_count": 8,
   "id": "c4d3258c-6931-447d-84b7-ac52ed05673a",
   "metadata": {},
   "outputs": [],
   "source": [
    "train_wp1 = pd.read_csv('Data/Preprocessing/WP1_train_preprocessed.csv', sep=',')\n",
    "train_wp2 = pd.read_csv('Data/Preprocessing/WP2_train_preprocessed.csv', sep=',')\n",
    "train_wp3 = pd.read_csv('Data/Preprocessing/WP3_train_preprocessed.csv', sep=',')\n",
    "train_wp4 = pd.read_csv('Data/Preprocessing/WP4_train_preprocessed.csv', sep=',')\n",
    "train_wp5 = pd.read_csv('Data/Preprocessing/WP5_train_preprocessed.csv', sep=',')\n",
    "train_wp6 = pd.read_csv('Data/Preprocessing/WP6_train_preprocessed.csv', sep=',')"
   ]
  },
  {
   "cell_type": "code",
   "execution_count": 9,
   "id": "69f752d4-63ed-43b9-9315-41ecaa114ce4",
   "metadata": {},
   "outputs": [],
   "source": [
    "test_wp1 = pd.read_csv('Data/Preprocessing/WP1_test_preprocessed.csv', sep=',')\n",
    "test_wp2 = pd.read_csv('Data/Preprocessing/WP2_test_preprocessed.csv', sep=',')\n",
    "test_wp3 = pd.read_csv('Data/Preprocessing/WP3_test_preprocessed.csv', sep=',')\n",
    "test_wp4 = pd.read_csv('Data/Preprocessing/WP4_test_preprocessed.csv', sep=',')\n",
    "test_wp5 = pd.read_csv('Data/Preprocessing/WP5_test_preprocessed.csv', sep=',')\n",
    "test_wp6 = pd.read_csv('Data/Preprocessing/WP6_test_preprocessed.csv', sep=',')\n",
    "test_dates = pd.read_csv('Data/Initial/test.csv', sep=',').date.values"
   ]
  },
  {
   "cell_type": "code",
   "execution_count": 10,
   "id": "7540aa92-fc5e-4431-8e79-faba9f0cecad",
   "metadata": {},
   "outputs": [],
   "source": [
    "to_drop = ['date','wd','forecast_time', 'forecast', \"forecast_dist\"]"
   ]
  },
  {
   "cell_type": "markdown",
   "id": "d0204367-344e-4837-9d27-c07833112862",
   "metadata": {},
   "source": [
    "# XGBoost"
   ]
  },
  {
   "cell_type": "code",
   "execution_count": 11,
   "id": "0c2fd0c0-976c-4e83-8a23-a86d1864e2a7",
   "metadata": {
    "tags": []
   },
   "outputs": [],
   "source": [
    "# def xgboost_cross_validation(X, y, params):\n",
    "#     if params == None:\n",
    "#         model = XGBRegressor()\n",
    "#     else:\n",
    "#         model = XGBRegressor(**params)\n",
    "\n",
    "#     print('-----------XGBOOST CROSS VALIDATION BEGINNING-----------')\n",
    "#     split = 10\n",
    "#     kf = KFold(n_splits=split, shuffle=True)       \n",
    "#     xgboost_rmse_scores = []\n",
    "#     xgboost_mae_scores = []\n",
    "#     i = 1\n",
    "#     for (train_index, test_index) in kf.split(pd.DataFrame(X), pd.DataFrame(y)):\n",
    "#         X_train, X_test = pd.DataFrame(X).iloc[train_index], pd.DataFrame(X).iloc[test_index]\n",
    "#         Y_train, Y_test = pd.DataFrame(y).iloc[train_index],pd.DataFrame(y).iloc[test_index]\n",
    "\n",
    "#         model.fit(X_train, Y_train, eval_set=[(X_test, Y_test)], verbose=100)\n",
    "\n",
    "#         prediction = model.predict(X_test)\n",
    "#         xgboost_rmse_scores.append(mean_squared_error(Y_test, prediction,squared=False))\n",
    "#         xgboost_mae_scores.append(mean_absolute_error(Y_test, prediction))\n",
    "        \n",
    "#         print(show_evaluation(prediction, Y_test))\n",
    "#         print(f'-------------------FOLD {i}-----------------')\n",
    "#         i+=1\n",
    "\n",
    "#     print('---------------CROSS VALIDATION COMPLETE-------------')\n",
    "#     print('--------------------------RMSE-----------------------')\n",
    "#     display_scores(xgboost_rmse_scores)\n",
    "#     print('--------------------------MAE------------------------')\n",
    "#     display_scores(xgboost_mae_scores)"
   ]
  },
  {
   "cell_type": "code",
   "execution_count": 12,
   "id": "5dcf8132-79d2-4c61-978d-d0b785a28f9c",
   "metadata": {},
   "outputs": [],
   "source": [
    "def xgboost_cross_validation(X, y, params):\n",
    "    if params == None:\n",
    "        model = Pipeline([('scaler', MaxAbsScaler()),('xgbr', XGBRegressor(tree_method='gpu_hist'))])\n",
    "    else:\n",
    "        model = Pipeline([('scaler', MaxAbsScaler()),('xgbr', XGBRegressor(**params))])\n",
    "\n",
    "    print('-----------XGBOOST CROSS VALIDATION BEGINNING-----------')\n",
    "    split = 10\n",
    "    kf = KFold(n_splits=split, shuffle=True)       \n",
    "    xgboost_rmse_scores = []\n",
    "    xgboost_mae_scores = []\n",
    "    i = 1\n",
    "    for (train_index, test_index) in kf.split(pd.DataFrame(X), pd.DataFrame(y)):\n",
    "        X_train, X_test = pd.DataFrame(X).iloc[train_index], pd.DataFrame(X).iloc[test_index]\n",
    "        Y_train, Y_test = pd.DataFrame(y).iloc[train_index],pd.DataFrame(y).iloc[test_index]\n",
    "\n",
    "        model.fit(X_train, Y_train)\n",
    "\n",
    "        prediction = model.predict(X_test)\n",
    "        xgboost_rmse_scores.append(mean_squared_error(Y_test, prediction,squared=False))\n",
    "        xgboost_mae_scores.append(mean_absolute_error(Y_test, prediction))\n",
    "        \n",
    "        print(show_evaluation(prediction, Y_test))\n",
    "        print(f'-------------------FOLD {i}-----------------')\n",
    "        i+=1\n",
    "\n",
    "    print('---------------CROSS VALIDATION COMPLETE-------------')\n",
    "    print('--------------------------RMSE-----------------------')\n",
    "    display_scores(xgboost_rmse_scores)\n",
    "    print('--------------------------MAE------------------------')\n",
    "    display_scores(xgboost_mae_scores)"
   ]
  },
  {
   "cell_type": "code",
   "execution_count": 13,
   "id": "4cd0bee0-212f-461c-8942-0f33738960a5",
   "metadata": {
    "tags": []
   },
   "outputs": [],
   "source": [
    "# def hyperparametrization(trial, train_x, test_x, train_y, test_y):\n",
    "#     param = {\n",
    "#         'lambda': trial.suggest_loguniform('lambda', 1e-3, 10.0),\n",
    "#         'alpha': trial.suggest_loguniform('alpha', 1e-3, 10.0),\n",
    "#         'colsample_bytree': trial.suggest_loguniform('colsample_bytree', 1e-8, 1),\n",
    "#         'subsample': trial.suggest_categorical('subsample', [0.4,0.5,0.6,0.7,0.8,1.0]),\n",
    "#         'learning_rate': trial.suggest_loguniform('learning_rate', 1e-3, 0.3),\n",
    "#         'n_estimators': trial.suggest_int('n_estimators', 100, 700),\n",
    "#         'max_depth': trial.suggest_int(\"max_depth\", 20, 70),\n",
    "#         'min_child_weight': trial.suggest_int('min_child_weight', 1, 300),\n",
    "#         'eta' : trial.suggest_loguniform(\"eta\", 1e-8, 1.0),\n",
    "#         'gamma' : trial.suggest_loguniform(\"gamma\", 1e-8, 1.0),\n",
    "#         'grow_policy' : trial.suggest_categorical(\"grow_policy\", [\"depthwise\", \"lossguide\"])\n",
    "#     }\n",
    "#     model = XGBRegressor(**param)  \n",
    "    \n",
    "#     model.fit(train_x,train_y,eval_set=[(test_x,test_y)],early_stopping_rounds=100,verbose=False)\n",
    "    \n",
    "#     preds = model.predict(test_x)\n",
    "    \n",
    "#     rmse =  mean_squared_error(test_y, preds,squared=False)\n",
    "    \n",
    "#     return rmse"
   ]
  },
  {
   "cell_type": "code",
   "execution_count": 19,
   "id": "2155b5a6-2476-434d-832f-2f92dd646d67",
   "metadata": {
    "tags": []
   },
   "outputs": [],
   "source": [
    "def hyperparametrization(trial, train_x, test_x, train_y, test_y):\n",
    "    param = {\n",
    "        'lambda': trial.suggest_loguniform('lambda', 1e-3, 10.0),\n",
    "        'alpha': trial.suggest_loguniform('alpha', 1e-3, 10.0),\n",
    "        'colsample_bytree': trial.suggest_loguniform('colsample_bytree', 1e-8, 1),\n",
    "        'subsample': trial.suggest_categorical('subsample', [0.4,0.5,0.6,0.7,0.8,1.0]),\n",
    "        'learning_rate': trial.suggest_loguniform('learning_rate', 1e-3, 0.3),\n",
    "        'n_estimators': trial.suggest_int('n_estimators', 100, 700),\n",
    "        'max_depth': trial.suggest_int(\"max_depth\", 10, 70),\n",
    "        'min_child_weight': trial.suggest_int('min_child_weight', 1, 300),\n",
    "        'eta' : trial.suggest_loguniform(\"eta\", 1e-8, 1.0),\n",
    "        'gamma' : trial.suggest_loguniform(\"gamma\", 1e-8, 1.0),\n",
    "        'grow_policy' : trial.suggest_categorical(\"grow_policy\", [\"depthwise\", \"lossguide\"])\n",
    "        \n",
    "    }\n",
    "    model = Pipeline([('scaler', MaxAbsScaler()),('xgbr', XGBRegressor(**param))]) \n",
    "    \n",
    "    model.fit(train_x,train_y)\n",
    "    \n",
    "    preds = model.predict(test_x)\n",
    "    \n",
    "    rmse =  mean_squared_error(test_y, preds,squared=False)\n",
    "    \n",
    "    return rmse"
   ]
  },
  {
   "cell_type": "code",
   "execution_count": 15,
   "id": "a819fc32-c483-4627-82c9-769b28a86392",
   "metadata": {},
   "outputs": [],
   "source": [
    "def vmd(y,k,alpha, tau,DC, init, tol):\n",
    "    \n",
    "    #Intrinsic mode generation\n",
    "     #Empirical Mode Decomposition\n",
    "    #. some sample parameters for VMD  \n",
    "    alpha = 1       # moderate bandwidth constraint  \n",
    "    tau = 0.           # noise-tolerance (no strict fidelity enforcement)  \n",
    "    K = k              # k modes  \n",
    "    DC = 0             # no DC part imposed  \n",
    "    init = 1           # initialize omegas uniformly  \n",
    "    tol = 1e-7\n",
    "    u, u_hat, omega = VMD(y,alpha, tau, K, DC, init, tol)\n",
    "    df_vmfs = pd.DataFrame()\n",
    "    #Integration in the dataframe\n",
    "    for num, imf in enumerate(u):\n",
    "        #print('----Creating VMFwp{0} EMD columns----'.format(num+1))\n",
    "        df_vmfs['IMFwp{0}'.format(num+1)] = imf\n",
    "    return df_vmfs"
   ]
  },
  {
   "cell_type": "markdown",
   "id": "bbc3509e-c676-463f-97ac-c0ac98b5f3ed",
   "metadata": {},
   "source": [
    "## WP1 "
   ]
  },
  {
   "cell_type": "markdown",
   "id": "7cd32285-01cf-4ab5-8fcb-706b7f8a294b",
   "metadata": {},
   "source": [
    "| |  | Mean | Std | Sum up |\n",
    "| --- | --- | --- | --- | --- |\n",
    "| No params | RMSE | 0.08791418461185974 | 0.001582447940959254 |  |\n",
    "| No params - MaxAbs | RMSE | 0.08777836846276121 | 0.0014715383851711332 |  |\n",
    "| After tuning 50trials| RMSE | 0.06871560882190697 | 0.0009799918898982718 |  |\n",
    "| After tuning 50trials - MaxAbs | RMSE | 0.06436201945957092 | 0.0016136864674464234 |  |\n",
    "| --- | --- | --- | --- | --- |\n",
    "| No params | MAE | 0.0614505433779813 | 0.0010902461358058533 |  |\n",
    "| No params - MaxAbs | MAE | 0.06135361126361555 | 0.0009797777856978493 |  |\n",
    "| After tuning 50trials| MAE | 0.0447212685268329 | 0.0006115489443412801 |  |\n",
    "| After tuning 50trials - MaxAbs | MAE | 0.04177557094032202 | 0.0008888330284581335 |  |"
   ]
  },
  {
   "cell_type": "code",
   "execution_count": 16,
   "id": "70c3af58-11fa-437e-80d2-d58c9901ce08",
   "metadata": {},
   "outputs": [],
   "source": [
    "wp1_X = train_wp1[[c for c in train_wp1 if c not in [\"wp\"]] + [\"wp\"]].drop(to_drop, axis = 1)\n",
    "X1 = wp1_X.drop('wp', axis=1)\n",
    "y1 = wp1_X['wp']\n",
    "vmf = vmd(y1,4,0,0,0,0,0)\n",
    "\n",
    "def objective_wp1(trial,data=X1,target=vmf['IMFwp1']):\n",
    "    train_x, test_x, train_y, test_y = train_test_split(data, target, test_size=0.15,random_state=42)\n",
    "    return hyperparametrization(trial, train_x, test_x, train_y, test_y)"
   ]
  },
  {
   "cell_type": "code",
   "execution_count": 17,
   "id": "ce60b0b1-b92e-42aa-8734-07709f0dc159",
   "metadata": {
    "tags": []
   },
   "outputs": [],
   "source": [
    "#xgboost_cross_validation(X1, y1_vmf, None)"
   ]
  },
  {
   "cell_type": "code",
   "execution_count": 18,
   "id": "048366c7-82b9-418c-87df-07fab6c0191a",
   "metadata": {
    "tags": []
   },
   "outputs": [],
   "source": [
    "# try_these_first = [{\n",
    "#     'lambda': 2.1359622347936646,\n",
    "#     'alpha': 0.016202766042783825,\n",
    "#     'colsample_bytree': 0.8075360516891219,\n",
    "#     'subsample': 0.8,\n",
    "#     'learning_rate': 0.06792370224097045,\n",
    "#     'n_estimators': 320,\n",
    "#     'max_depth': 58,\n",
    "#     'min_child_weight': 102,\n",
    "#     'eta': 6.934521001624072e-05,\n",
    "#     'gamma': 4.369012735807193e-06,\n",
    "#     'grow_policy': 'lossguide'\n",
    "# },  {\n",
    "#     'lambda': 0.3643806022565838,\n",
    "#     'alpha': 0.003650309466012506,\n",
    "#     'colsample_bytree': 0.9640425007241273,\n",
    "#     'subsample': 0.8,\n",
    "#     'learning_rate': 0.052762727588106954,\n",
    "#     'n_estimators': 700,\n",
    "#     'max_depth': 54,\n",
    "#     'min_child_weight': 96,\n",
    "#     'eta': 3.119364108002744e-05,\n",
    "#     'gamma': 5.177778739056542e-05,\n",
    "#     'grow_policy': 'lossguide'\n",
    "# }]\n",
    "\n",
    "# study = optuna.create_study(direction='minimize')\n",
    "# study.enqueue_trial(try_these_first[0])"
   ]
  },
  {
   "cell_type": "code",
   "execution_count": 19,
   "id": "ab792f0b-e669-4e29-b434-8db786b194a2",
   "metadata": {
    "tags": []
   },
   "outputs": [],
   "source": [
    "# # study = optuna.create_study(direction='minimize')\n",
    "# study.optimize(objective_wp1, n_trials=50)\n",
    "# # write_results('Data/Hyperparametrization/xgboost_50trials.xlsx', 'wp1', study.trials_dataframe())\n",
    "# best_trial = study.best_trial.params\n",
    "# best_trial"
   ]
  },
  {
   "cell_type": "code",
   "execution_count": 20,
   "id": "772ef566-6d0d-421c-b00d-7a1f91692384",
   "metadata": {},
   "outputs": [],
   "source": [
    "# Warm start MaxAbs\n",
    "params_1 = {\n",
    "    'lambda': 0.3643806022565838,\n",
    "    'alpha': 0.003650309466012506,\n",
    "    'colsample_bytree': 0.9640425007241273,\n",
    "    'subsample': 0.8,\n",
    "    'learning_rate': 0.052762727588106954,\n",
    "    'n_estimators': 100,\n",
    "    'max_depth': 54,\n",
    "    'min_child_weight': 96,\n",
    "    'eta': 3.119364108002744e-05,\n",
    "    'gamma': 5.177778739056542e-05,\n",
    "    'grow_policy': 'lossguide'\n",
    "}\n",
    "\n",
    "# 50 trials no scaler\n",
    "# params_1 = {\n",
    "#     'lambda': 2.1359622347936646,\n",
    "#     'alpha': 0.016202766042783825,\n",
    "#     'colsample_bytree': 0.8075360516891219,\n",
    "#     'subsample': 0.8,\n",
    "#     'learning_rate': 0.06792370224097045,\n",
    "#     'n_estimators': 320,\n",
    "#     'max_depth': 58,\n",
    "#     'min_child_weight': 102,\n",
    "#     'eta': 6.934521001624072e-05,\n",
    "#     'gamma': 4.369012735807193e-06,\n",
    "#     'grow_policy': 'lossguide'\n",
    "# }"
   ]
  },
  {
   "cell_type": "code",
   "execution_count": 24,
   "id": "6e8b9581-1e59-40fc-ba46-cac68640c7ff",
   "metadata": {
    "tags": []
   },
   "outputs": [
    {
     "name": "stdout",
     "output_type": "stream",
     "text": [
      "-----------XGBOOST CROSS VALIDATION BEGINNING-----------\n",
      "RMSE score: 0.06057812301669931\n",
      "MAE score: 0.042775656743432616\n",
      "None\n",
      "-------------------FOLD 1-----------------\n",
      "RMSE score: 0.06032872182499317\n",
      "MAE score: 0.04309534808347591\n",
      "None\n",
      "-------------------FOLD 2-----------------\n",
      "RMSE score: 0.06328727726705548\n",
      "MAE score: 0.04409757911259855\n",
      "None\n",
      "-------------------FOLD 3-----------------\n",
      "RMSE score: 0.062032798994190064\n",
      "MAE score: 0.04440077887219201\n",
      "None\n",
      "-------------------FOLD 4-----------------\n",
      "RMSE score: 0.061298783944471295\n",
      "MAE score: 0.04335361921885052\n",
      "None\n",
      "-------------------FOLD 5-----------------\n",
      "RMSE score: 0.06156145969603491\n",
      "MAE score: 0.04417991742708134\n",
      "None\n",
      "-------------------FOLD 6-----------------\n",
      "RMSE score: 0.060173268112709906\n",
      "MAE score: 0.04272940859192559\n",
      "None\n",
      "-------------------FOLD 7-----------------\n",
      "RMSE score: 0.06091489205420599\n",
      "MAE score: 0.04407818650951588\n",
      "None\n",
      "-------------------FOLD 8-----------------\n",
      "RMSE score: 0.06083611189366693\n",
      "MAE score: 0.04341864540749914\n",
      "None\n",
      "-------------------FOLD 9-----------------\n",
      "RMSE score: 0.061772128534841333\n",
      "MAE score: 0.04378007279326277\n",
      "None\n",
      "-------------------FOLD 10-----------------\n",
      "---------------CROSS VALIDATION COMPLETE-------------\n",
      "--------------------------RMSE-----------------------\n",
      "Scores: [0.06057812301669931, 0.06032872182499317, 0.06328727726705548, 0.062032798994190064, 0.061298783944471295, 0.06156145969603491, 0.060173268112709906, 0.06091489205420599, 0.06083611189366693, 0.061772128534841333]\n",
      "Mean: 0.06127835653388684\n",
      "Std: 0.0008871505866453472\n",
      "--------------------------MAE------------------------\n",
      "Scores: [0.042775656743432616, 0.04309534808347591, 0.04409757911259855, 0.04440077887219201, 0.04335361921885052, 0.04417991742708134, 0.04272940859192559, 0.04407818650951588, 0.04341864540749914, 0.04378007279326277]\n",
      "Mean: 0.04359092127598343\n",
      "Std: 0.0005719386377041144\n"
     ]
    }
   ],
   "source": [
    "xgboost_cross_validation(X1, vmf['IMFwp1'], None)"
   ]
  },
  {
   "cell_type": "code",
   "execution_count": 25,
   "id": "c0a5a356-5912-4abc-a2cc-4c57afd7764d",
   "metadata": {
    "tags": []
   },
   "outputs": [
    {
     "name": "stdout",
     "output_type": "stream",
     "text": [
      "-----------XGBOOST CROSS VALIDATION BEGINNING-----------\n",
      "RMSE score: 0.04262909253473789\n",
      "MAE score: 0.02978936108960794\n",
      "None\n",
      "-------------------FOLD 1-----------------\n",
      "RMSE score: 0.04313575512034449\n",
      "MAE score: 0.029909755414072613\n",
      "None\n",
      "-------------------FOLD 2-----------------\n",
      "RMSE score: 0.04202817488710953\n",
      "MAE score: 0.02955978044925836\n",
      "None\n",
      "-------------------FOLD 3-----------------\n",
      "RMSE score: 0.04157351943575789\n",
      "MAE score: 0.02910292684456247\n",
      "None\n",
      "-------------------FOLD 4-----------------\n",
      "RMSE score: 0.04290652706129447\n",
      "MAE score: 0.029776250217001195\n",
      "None\n",
      "-------------------FOLD 5-----------------\n",
      "RMSE score: 0.04316305645713036\n",
      "MAE score: 0.030069327366730497\n",
      "None\n",
      "-------------------FOLD 6-----------------\n",
      "RMSE score: 0.04209510210879881\n",
      "MAE score: 0.029267697061196266\n",
      "None\n",
      "-------------------FOLD 7-----------------\n",
      "RMSE score: 0.04358355220027695\n",
      "MAE score: 0.030139369457422033\n",
      "None\n",
      "-------------------FOLD 8-----------------\n",
      "RMSE score: 0.04206861785789724\n",
      "MAE score: 0.02952710811129963\n",
      "None\n",
      "-------------------FOLD 9-----------------\n",
      "RMSE score: 0.04318003803140794\n",
      "MAE score: 0.029809204832038142\n",
      "None\n",
      "-------------------FOLD 10-----------------\n",
      "---------------CROSS VALIDATION COMPLETE-------------\n",
      "--------------------------RMSE-----------------------\n",
      "Scores: [0.04262909253473789, 0.04313575512034449, 0.04202817488710953, 0.04157351943575789, 0.04290652706129447, 0.04316305645713036, 0.04209510210879881, 0.04358355220027695, 0.04206861785789724, 0.04318003803140794]\n",
      "Mean: 0.04263634356947556\n",
      "Std: 0.000625093353498974\n",
      "--------------------------MAE------------------------\n",
      "Scores: [0.02978936108960794, 0.029909755414072613, 0.02955978044925836, 0.02910292684456247, 0.029776250217001195, 0.030069327366730497, 0.029267697061196266, 0.030139369457422033, 0.02952710811129963, 0.029809204832038142]\n",
      "Mean: 0.02969507808431891\n",
      "Std: 0.00031493869432393354\n"
     ]
    }
   ],
   "source": [
    "xgboost_cross_validation(X1, vmf['IMFwp2'], None)"
   ]
  },
  {
   "cell_type": "code",
   "execution_count": 26,
   "id": "274e0071-9757-42de-86b3-831d72601596",
   "metadata": {
    "tags": []
   },
   "outputs": [
    {
     "name": "stdout",
     "output_type": "stream",
     "text": [
      "-----------XGBOOST CROSS VALIDATION BEGINNING-----------\n",
      "RMSE score: 0.04129917596645723\n",
      "MAE score: 0.030828756578315325\n",
      "None\n",
      "-------------------FOLD 1-----------------\n",
      "RMSE score: 0.03943331662131766\n",
      "MAE score: 0.02928815704961174\n",
      "None\n",
      "-------------------FOLD 2-----------------\n",
      "RMSE score: 0.040847523905038104\n",
      "MAE score: 0.03027411748733197\n",
      "None\n",
      "-------------------FOLD 3-----------------\n",
      "RMSE score: 0.040636105566062154\n",
      "MAE score: 0.029972308890185612\n",
      "None\n",
      "-------------------FOLD 4-----------------\n",
      "RMSE score: 0.04001832107204445\n",
      "MAE score: 0.02972495183869701\n",
      "None\n",
      "-------------------FOLD 5-----------------\n",
      "RMSE score: 0.040996846400815974\n",
      "MAE score: 0.030074514590287996\n",
      "None\n",
      "-------------------FOLD 6-----------------\n",
      "RMSE score: 0.039389486177013565\n",
      "MAE score: 0.029434209667706875\n",
      "None\n",
      "-------------------FOLD 7-----------------\n",
      "RMSE score: 0.040033556239026304\n",
      "MAE score: 0.029687494352526954\n",
      "None\n",
      "-------------------FOLD 8-----------------\n",
      "RMSE score: 0.04126623934345528\n",
      "MAE score: 0.030264882066289692\n",
      "None\n",
      "-------------------FOLD 9-----------------\n",
      "RMSE score: 0.041502340467357776\n",
      "MAE score: 0.030550804785175745\n",
      "None\n",
      "-------------------FOLD 10-----------------\n",
      "---------------CROSS VALIDATION COMPLETE-------------\n",
      "--------------------------RMSE-----------------------\n",
      "Scores: [0.04129917596645723, 0.03943331662131766, 0.040847523905038104, 0.040636105566062154, 0.04001832107204445, 0.040996846400815974, 0.039389486177013565, 0.040033556239026304, 0.04126623934345528, 0.041502340467357776]\n",
      "Mean: 0.04054229117585885\n",
      "Std: 0.0007361656486585083\n",
      "--------------------------MAE------------------------\n",
      "Scores: [0.030828756578315325, 0.02928815704961174, 0.03027411748733197, 0.029972308890185612, 0.02972495183869701, 0.030074514590287996, 0.029434209667706875, 0.029687494352526954, 0.030264882066289692, 0.030550804785175745]\n",
      "Mean: 0.030010019730612892\n",
      "Std: 0.0004627085380627889\n"
     ]
    }
   ],
   "source": [
    "xgboost_cross_validation(X1, vmf['IMFwp3'], None)"
   ]
  },
  {
   "cell_type": "code",
   "execution_count": 33,
   "id": "eb07d765-394f-4439-876b-e57d18ef761b",
   "metadata": {
    "tags": []
   },
   "outputs": [
    {
     "name": "stdout",
     "output_type": "stream",
     "text": [
      "-----------XGBOOST CROSS VALIDATION BEGINNING-----------\n",
      "RMSE score: 0.03052118518451264\n",
      "MAE score: 0.019211362990163693\n",
      "None\n",
      "-------------------FOLD 1-----------------\n",
      "RMSE score: 0.030615071413291332\n",
      "MAE score: 0.019431388037501662\n",
      "None\n",
      "-------------------FOLD 2-----------------\n",
      "RMSE score: 0.030802380796188165\n",
      "MAE score: 0.019621287484995375\n",
      "None\n",
      "-------------------FOLD 3-----------------\n",
      "RMSE score: 0.0314678107258099\n",
      "MAE score: 0.019919922891188307\n",
      "None\n",
      "-------------------FOLD 4-----------------\n",
      "RMSE score: 0.030705814259390504\n",
      "MAE score: 0.01953663924123908\n",
      "None\n",
      "-------------------FOLD 5-----------------\n",
      "RMSE score: 0.030325029399189733\n",
      "MAE score: 0.01917529656828518\n",
      "None\n",
      "-------------------FOLD 6-----------------\n",
      "RMSE score: 0.031020351505652452\n",
      "MAE score: 0.019495085348950003\n",
      "None\n",
      "-------------------FOLD 7-----------------\n",
      "RMSE score: 0.03193671046286926\n",
      "MAE score: 0.020309179500083024\n",
      "None\n",
      "-------------------FOLD 8-----------------\n",
      "RMSE score: 0.031070868530142622\n",
      "MAE score: 0.01939050005785638\n",
      "None\n",
      "-------------------FOLD 9-----------------\n",
      "RMSE score: 0.0311324510632384\n",
      "MAE score: 0.019829609354372158\n",
      "None\n",
      "-------------------FOLD 10-----------------\n",
      "---------------CROSS VALIDATION COMPLETE-------------\n",
      "--------------------------RMSE-----------------------\n",
      "Scores: [0.03052118518451264, 0.030615071413291332, 0.030802380796188165, 0.0314678107258099, 0.030705814259390504, 0.030325029399189733, 0.031020351505652452, 0.03193671046286926, 0.031070868530142622, 0.0311324510632384]\n",
      "Mean: 0.030959767334028505\n",
      "Std: 0.0004540577127267786\n",
      "--------------------------MAE------------------------\n",
      "Scores: [0.019211362990163693, 0.019431388037501662, 0.019621287484995375, 0.019919922891188307, 0.01953663924123908, 0.01917529656828518, 0.019495085348950003, 0.020309179500083024, 0.01939050005785638, 0.019829609354372158]\n",
      "Mean: 0.01959202714746349\n",
      "Std: 0.00032811244844374663\n"
     ]
    }
   ],
   "source": [
    "xgboost_cross_validation(X1, vmf['IMFwp4'], None)"
   ]
  },
  {
   "cell_type": "code",
   "execution_count": 20,
   "id": "25867822-481f-45d1-a504-dd02a264787b",
   "metadata": {},
   "outputs": [],
   "source": [
    "def objective_wp1(trial,data=X1,target=vmf['IMFwp2']):\n",
    "    train_x, test_x, train_y, test_y = train_test_split(data, target, test_size=0.15,random_state=42)\n",
    "    return hyperparametrization(trial, train_x, test_x, train_y, test_y)"
   ]
  },
  {
   "cell_type": "code",
   "execution_count": 21,
   "id": "71e7ec10-72c0-4428-a795-61fa80280466",
   "metadata": {},
   "outputs": [
    {
     "name": "stderr",
     "output_type": "stream",
     "text": [
      "\u001b[32m[I 2021-09-16 00:18:25,606]\u001b[0m A new study created in memory with name: no-name-7c597f2a-1678-47c5-afa5-f570639e080e\u001b[0m\n",
      "\u001b[32m[I 2021-09-16 00:18:51,474]\u001b[0m Trial 0 finished with value: 0.04811318518576165 and parameters: {'lambda': 0.4908182996998298, 'alpha': 0.22397144950547312, 'colsample_bytree': 0.0006746105322268837, 'subsample': 0.5, 'learning_rate': 0.057739198772501873, 'n_estimators': 375, 'max_depth': 32, 'min_child_weight': 22, 'eta': 0.08014958739171744, 'gamma': 4.135421540281637e-07, 'grow_policy': 'depthwise'}. Best is trial 0 with value: 0.04811318518576165.\u001b[0m\n",
      "\u001b[32m[I 2021-09-16 00:19:03,331]\u001b[0m Trial 1 finished with value: 0.04875833452581217 and parameters: {'lambda': 0.05418221786749847, 'alpha': 7.371222299173704, 'colsample_bytree': 0.005459786352106435, 'subsample': 0.6, 'learning_rate': 0.18056064073519404, 'n_estimators': 354, 'max_depth': 49, 'min_child_weight': 227, 'eta': 7.575465476850742e-05, 'gamma': 0.007142027123887631, 'grow_policy': 'lossguide'}. Best is trial 0 with value: 0.04811318518576165.\u001b[0m\n",
      "\u001b[32m[I 2021-09-16 00:19:20,859]\u001b[0m Trial 2 finished with value: 0.04896604833429554 and parameters: {'lambda': 0.0010918605406336377, 'alpha': 7.883923467716137, 'colsample_bytree': 0.004464005327580096, 'subsample': 0.6, 'learning_rate': 0.0443323201524337, 'n_estimators': 545, 'max_depth': 47, 'min_child_weight': 263, 'eta': 1.1722175624312204e-07, 'gamma': 2.899388181168737e-05, 'grow_policy': 'lossguide'}. Best is trial 0 with value: 0.04811318518576165.\u001b[0m\n",
      "\u001b[32m[I 2021-09-16 00:19:30,934]\u001b[0m Trial 3 finished with value: 0.04895876431714413 and parameters: {'lambda': 0.43471356486634727, 'alpha': 4.002502243842649, 'colsample_bytree': 0.0012993748820959495, 'subsample': 0.7, 'learning_rate': 0.05470613131777536, 'n_estimators': 262, 'max_depth': 48, 'min_child_weight': 15, 'eta': 0.03254921605916157, 'gamma': 3.609161489346423e-05, 'grow_policy': 'depthwise'}. Best is trial 0 with value: 0.04811318518576165.\u001b[0m\n",
      "\u001b[32m[I 2021-09-16 00:22:36,491]\u001b[0m Trial 4 finished with value: 0.03645381020677713 and parameters: {'lambda': 0.29914759286958886, 'alpha': 0.18381041407059884, 'colsample_bytree': 0.22172537761182806, 'subsample': 0.7, 'learning_rate': 0.21487483450799272, 'n_estimators': 425, 'max_depth': 17, 'min_child_weight': 113, 'eta': 0.2996585186498515, 'gamma': 0.0008669863243789897, 'grow_policy': 'lossguide'}. Best is trial 4 with value: 0.03645381020677713.\u001b[0m\n",
      "\u001b[32m[I 2021-09-16 00:22:41,623]\u001b[0m Trial 5 finished with value: 0.05131290820257529 and parameters: {'lambda': 5.282756852372127, 'alpha': 4.044210080157665, 'colsample_bytree': 0.001540662104612877, 'subsample': 0.5, 'learning_rate': 0.02592044522975583, 'n_estimators': 142, 'max_depth': 25, 'min_child_weight': 213, 'eta': 1.8208169710356863e-08, 'gamma': 0.4484682049120807, 'grow_policy': 'lossguide'}. Best is trial 4 with value: 0.03645381020677713.\u001b[0m\n",
      "\u001b[32m[I 2021-09-16 00:23:08,199]\u001b[0m Trial 6 finished with value: 0.04922830149570154 and parameters: {'lambda': 6.635628896145612, 'alpha': 0.02010074554552032, 'colsample_bytree': 1.61045852666428e-07, 'subsample': 0.8, 'learning_rate': 0.017750187487309166, 'n_estimators': 496, 'max_depth': 61, 'min_child_weight': 229, 'eta': 0.023036540916262543, 'gamma': 0.09379148840285523, 'grow_policy': 'lossguide'}. Best is trial 4 with value: 0.03645381020677713.\u001b[0m\n",
      "\u001b[32m[I 2021-09-16 00:23:24,085]\u001b[0m Trial 7 finished with value: 0.23198369538563077 and parameters: {'lambda': 0.011533702665965057, 'alpha': 0.24765168632054332, 'colsample_bytree': 2.148034329050263e-05, 'subsample': 0.7, 'learning_rate': 0.0015533734796357088, 'n_estimators': 511, 'max_depth': 60, 'min_child_weight': 104, 'eta': 1.3065873193932568e-06, 'gamma': 5.6954099114206634e-08, 'grow_policy': 'lossguide'}. Best is trial 4 with value: 0.03645381020677713.\u001b[0m\n",
      "\u001b[32m[I 2021-09-16 00:23:36,806]\u001b[0m Trial 8 finished with value: 0.04903500620551177 and parameters: {'lambda': 0.9251387557046333, 'alpha': 0.20362855134300728, 'colsample_bytree': 1.183043470293489e-05, 'subsample': 0.4, 'learning_rate': 0.18850615088356382, 'n_estimators': 205, 'max_depth': 51, 'min_child_weight': 134, 'eta': 1.0202226762286863e-06, 'gamma': 1.6071792964001454e-05, 'grow_policy': 'depthwise'}. Best is trial 4 with value: 0.03645381020677713.\u001b[0m\n",
      "\u001b[32m[I 2021-09-16 00:23:53,333]\u001b[0m Trial 9 finished with value: 0.051637109959624096 and parameters: {'lambda': 0.004618585290436484, 'alpha': 0.2678905119162874, 'colsample_bytree': 2.818783414390141e-05, 'subsample': 0.7, 'learning_rate': 0.007020090912429171, 'n_estimators': 502, 'max_depth': 44, 'min_child_weight': 124, 'eta': 1.596762274530819e-07, 'gamma': 0.00406318165667103, 'grow_policy': 'depthwise'}. Best is trial 4 with value: 0.03645381020677713.\u001b[0m\n",
      "\u001b[32m[I 2021-09-16 00:38:48,130]\u001b[0m Trial 10 finished with value: 0.044926657993545324 and parameters: {'lambda': 0.05580261391582111, 'alpha': 0.002246981733439429, 'colsample_bytree': 0.7427296806900578, 'subsample': 1.0, 'learning_rate': 0.005194155867744875, 'n_estimators': 693, 'max_depth': 13, 'min_child_weight': 64, 'eta': 0.6173784595089125, 'gamma': 0.0012248667335613061, 'grow_policy': 'lossguide'}. Best is trial 4 with value: 0.03645381020677713.\u001b[0m\n",
      "\u001b[32m[I 2021-09-16 00:45:05,830]\u001b[0m Trial 11 finished with value: 0.051132056310698414 and parameters: {'lambda': 0.07357358227206962, 'alpha': 0.001687814938740639, 'colsample_bytree': 0.6617928517051722, 'subsample': 0.4, 'learning_rate': 0.004556545215340606, 'n_estimators': 682, 'max_depth': 10, 'min_child_weight': 64, 'eta': 0.7991232877563804, 'gamma': 0.0008115744789910374, 'grow_policy': 'lossguide'}. Best is trial 4 with value: 0.03645381020677713.\u001b[0m\n",
      "\u001b[32m[I 2021-09-16 07:20:40,189]\u001b[0m Trial 12 finished with value: 0.04611695008022469 and parameters: {'lambda': 0.022688407759245997, 'alpha': 0.019625946545648403, 'colsample_bytree': 0.42593494673704924, 'subsample': 1.0, 'learning_rate': 0.00509496969202847, 'n_estimators': 689, 'max_depth': 12, 'min_child_weight': 76, 'eta': 0.0010063083146437354, 'gamma': 0.0005296102346544295, 'grow_policy': 'lossguide'}. Best is trial 4 with value: 0.03645381020677713.\u001b[0m\n",
      "\u001b[32m[I 2021-09-16 07:22:50,198]\u001b[0m Trial 13 finished with value: 0.1923566772283816 and parameters: {'lambda': 0.15174819109493742, 'alpha': 0.0010147333409581722, 'colsample_bytree': 0.06759486015303577, 'subsample': 1.0, 'learning_rate': 0.0016173059986601542, 'n_estimators': 612, 'max_depth': 20, 'min_child_weight': 75, 'eta': 0.6527386451354302, 'gamma': 0.013504272209689517, 'grow_policy': 'lossguide'}. Best is trial 4 with value: 0.03645381020677713.\u001b[0m\n",
      "\u001b[32m[I 2021-09-16 07:23:29,296]\u001b[0m Trial 14 finished with value: 0.06044153117979003 and parameters: {'lambda': 1.3630020131085852, 'alpha': 0.029711597328897874, 'colsample_bytree': 0.055770968736572425, 'subsample': 1.0, 'learning_rate': 0.008663486918232138, 'n_estimators': 300, 'max_depth': 34, 'min_child_weight': 179, 'eta': 0.0008368752644643278, 'gamma': 1.951017402627569e-06, 'grow_policy': 'lossguide'}. Best is trial 4 with value: 0.03645381020677713.\u001b[0m\n",
      "\u001b[32m[I 2021-09-16 07:23:52,114]\u001b[0m Trial 15 finished with value: 0.04802005774693928 and parameters: {'lambda': 0.21569920455034886, 'alpha': 1.0615532184948293, 'colsample_bytree': 1.0564488765084071e-08, 'subsample': 0.8, 'learning_rate': 0.27018398567565477, 'n_estimators': 406, 'max_depth': 20, 'min_child_weight': 178, 'eta': 0.0016927619068457349, 'gamma': 0.0003067823879599403, 'grow_policy': 'lossguide'}. Best is trial 4 with value: 0.03645381020677713.\u001b[0m\n",
      "\u001b[32m[I 2021-09-16 07:26:00,314]\u001b[0m Trial 16 finished with value: 0.10415774123331577 and parameters: {'lambda': 0.02368182870084218, 'alpha': 0.00666278897548558, 'colsample_bytree': 0.04850963416305689, 'subsample': 1.0, 'learning_rate': 0.002822479802443809, 'n_estimators': 599, 'max_depth': 19, 'min_child_weight': 44, 'eta': 4.900601974697252e-05, 'gamma': 0.05560920077789894, 'grow_policy': 'lossguide'}. Best is trial 4 with value: 0.03645381020677713.\u001b[0m\n",
      "\u001b[32m[I 2021-09-16 07:42:11,057]\u001b[0m Trial 17 finished with value: 0.034826676267067765 and parameters: {'lambda': 0.005324347574635748, 'alpha': 0.055543604359424084, 'colsample_bytree': 0.7629297845922669, 'subsample': 0.7, 'learning_rate': 0.1106743486862053, 'n_estimators': 466, 'max_depth': 30, 'min_child_weight': 101, 'eta': 0.1340415805792377, 'gamma': 5.080230501958659e-06, 'grow_policy': 'lossguide'}. Best is trial 17 with value: 0.034826676267067765.\u001b[0m\n",
      "\u001b[32m[I 2021-09-16 07:42:40,062]\u001b[0m Trial 18 finished with value: 0.0482956315090352 and parameters: {'lambda': 0.0013900192063727118, 'alpha': 0.06853292530141038, 'colsample_bytree': 2.0615110769619804e-06, 'subsample': 0.7, 'learning_rate': 0.09942613297643414, 'n_estimators': 416, 'max_depth': 32, 'min_child_weight': 165, 'eta': 0.006991033339731774, 'gamma': 3.4291550507703256e-06, 'grow_policy': 'depthwise'}. Best is trial 17 with value: 0.034826676267067765.\u001b[0m\n",
      "\u001b[32m[I 2021-09-16 07:43:17,427]\u001b[0m Trial 19 finished with value: 0.04169673714302175 and parameters: {'lambda': 0.004477488075845024, 'alpha': 0.8360406218676308, 'colsample_bytree': 0.02020314143012002, 'subsample': 0.7, 'learning_rate': 0.1056731684066463, 'n_estimators': 446, 'max_depth': 38, 'min_child_weight': 102, 'eta': 0.06940489775835536, 'gamma': 1.6386270392379587e-08, 'grow_policy': 'lossguide'}. Best is trial 17 with value: 0.034826676267067765.\u001b[0m\n",
      "\u001b[32m[I 2021-09-16 07:43:39,872]\u001b[0m Trial 20 finished with value: 0.04820154245968839 and parameters: {'lambda': 2.068711245497245, 'alpha': 0.07236727018647258, 'colsample_bytree': 0.00020841267373817806, 'subsample': 0.7, 'learning_rate': 0.10674317680471501, 'n_estimators': 326, 'max_depth': 25, 'min_child_weight': 145, 'eta': 1.8968121438719403e-05, 'gamma': 2.1169169603386956e-07, 'grow_policy': 'lossguide'}. Best is trial 17 with value: 0.034826676267067765.\u001b[0m\n",
      "\u001b[32m[I 2021-09-16 07:44:17,646]\u001b[0m Trial 21 finished with value: 0.04212180107064092 and parameters: {'lambda': 0.0039728857401648224, 'alpha': 0.5261986309163891, 'colsample_bytree': 0.016959924040399473, 'subsample': 0.7, 'learning_rate': 0.09366727048452422, 'n_estimators': 459, 'max_depth': 37, 'min_child_weight': 102, 'eta': 0.12769113783320174, 'gamma': 1.3755696506424474e-08, 'grow_policy': 'lossguide'}. Best is trial 17 with value: 0.034826676267067765.\u001b[0m\n",
      "\u001b[32m[I 2021-09-16 07:45:47,480]\u001b[0m Trial 22 finished with value: 0.03822600601081757 and parameters: {'lambda': 0.004545277946280744, 'alpha': 1.2176543607065953, 'colsample_bytree': 0.1004971153402946, 'subsample': 0.7, 'learning_rate': 0.24533155515086263, 'n_estimators': 440, 'max_depth': 41, 'min_child_weight': 105, 'eta': 0.004962052051991227, 'gamma': 1.8733220900069588e-06, 'grow_policy': 'lossguide'}. Best is trial 17 with value: 0.034826676267067765.\u001b[0m\n",
      "\u001b[32m[I 2021-09-16 07:49:45,765]\u001b[0m Trial 23 finished with value: 0.037264107260707335 and parameters: {'lambda': 0.009067309505007629, 'alpha': 1.6083252634040497, 'colsample_bytree': 0.26250666974428466, 'subsample': 0.7, 'learning_rate': 0.2872578584690098, 'n_estimators': 544, 'max_depth': 28, 'min_child_weight': 115, 'eta': 0.005526961068481907, 'gamma': 3.946989174249142e-06, 'grow_policy': 'lossguide'}. Best is trial 17 with value: 0.034826676267067765.\u001b[0m\n",
      "\u001b[32m[I 2021-09-16 07:52:29,908]\u001b[0m Trial 24 finished with value: 0.038278390468830414 and parameters: {'lambda': 0.0127455951915272, 'alpha': 2.037815566529677, 'colsample_bytree': 0.1697037318018095, 'subsample': 0.7, 'learning_rate': 0.2976587538633599, 'n_estimators': 584, 'max_depth': 26, 'min_child_weight': 126, 'eta': 0.009224774238176556, 'gamma': 0.00013117060284768457, 'grow_policy': 'lossguide'}. Best is trial 17 with value: 0.034826676267067765.\u001b[0m\n",
      "\u001b[32m[I 2021-09-16 08:14:38,823]\u001b[0m Trial 25 finished with value: 0.035383761779191315 and parameters: {'lambda': 0.027088134731413895, 'alpha': 0.03315654396561144, 'colsample_bytree': 0.9246825334944097, 'subsample': 0.7, 'learning_rate': 0.1558337636833017, 'n_estimators': 558, 'max_depth': 29, 'min_child_weight': 150, 'eta': 0.24571344488526997, 'gamma': 8.543030713599046e-06, 'grow_policy': 'lossguide'}. Best is trial 17 with value: 0.034826676267067765.\u001b[0m\n",
      "\u001b[32m[I 2021-09-16 08:15:11,649]\u001b[0m Trial 26 finished with value: 0.04561089242341885 and parameters: {'lambda': 0.028396428047314518, 'alpha': 0.00833840917443032, 'colsample_bytree': 0.010416620573221744, 'subsample': 0.7, 'learning_rate': 0.15338886706883204, 'n_estimators': 480, 'max_depth': 15, 'min_child_weight': 199, 'eta': 0.26928746435015194, 'gamma': 0.00010497744715221251, 'grow_policy': 'depthwise'}. Best is trial 17 with value: 0.034826676267067765.\u001b[0m\n",
      "\u001b[32m[I 2021-09-16 08:25:45,737]\u001b[0m Trial 27 finished with value: 0.04127432507975888 and parameters: {'lambda': 0.1473569105389027, 'alpha': 0.03348234217660747, 'colsample_bytree': 0.7345726854438844, 'subsample': 0.5, 'learning_rate': 0.03416792402957339, 'n_estimators': 619, 'max_depth': 17, 'min_child_weight': 158, 'eta': 0.00039183308532943765, 'gamma': 1.0191760518943468e-05, 'grow_policy': 'lossguide'}. Best is trial 17 with value: 0.034826676267067765.\u001b[0m\n",
      "\u001b[32m[I 2021-09-16 08:29:13,245]\u001b[0m Trial 28 finished with value: 0.040734954084928755 and parameters: {'lambda': 0.4145808771756761, 'alpha': 0.11411980093065703, 'colsample_bytree': 0.1904104943481871, 'subsample': 0.6, 'learning_rate': 0.07269757404146174, 'n_estimators': 548, 'max_depth': 29, 'min_child_weight': 280, 'eta': 0.12463917019526488, 'gamma': 5.581606445944185e-07, 'grow_policy': 'lossguide'}. Best is trial 17 with value: 0.034826676267067765.\u001b[0m\n",
      "\u001b[32m[I 2021-09-16 08:29:44,456]\u001b[0m Trial 29 finished with value: 0.05034681314104331 and parameters: {'lambda': 0.2597992425422062, 'alpha': 0.009221241152421185, 'colsample_bytree': 0.00020930301158306292, 'subsample': 0.4, 'learning_rate': 0.1425235417772216, 'n_estimators': 364, 'max_depth': 69, 'min_child_weight': 37, 'eta': 0.05532909988366638, 'gamma': 4.438650241902872e-07, 'grow_policy': 'depthwise'}. Best is trial 17 with value: 0.034826676267067765.\u001b[0m\n",
      "\u001b[32m[I 2021-09-16 08:31:04,893]\u001b[0m Trial 30 finished with value: 0.039172099576790895 and parameters: {'lambda': 0.0023304416642066306, 'alpha': 0.045546513359395684, 'colsample_bytree': 0.02131814615132228, 'subsample': 0.8, 'learning_rate': 0.0654458131100303, 'n_estimators': 640, 'max_depth': 23, 'min_child_weight': 83, 'eta': 0.2315157961383472, 'gamma': 0.002579414614819874, 'grow_policy': 'lossguide'}. Best is trial 17 with value: 0.034826676267067765.\u001b[0m\n",
      "\u001b[32m[I 2021-09-16 08:36:00,098]\u001b[0m Trial 31 finished with value: 0.03536766620802247 and parameters: {'lambda': 0.008990412236631622, 'alpha': 0.12590568762379525, 'colsample_bytree': 0.21446857016494578, 'subsample': 0.7, 'learning_rate': 0.18883613622200945, 'n_estimators': 557, 'max_depth': 30, 'min_child_weight': 120, 'eta': 0.01677816569026271, 'gamma': 3.953300899602694e-06, 'grow_policy': 'lossguide'}. Best is trial 17 with value: 0.034826676267067765.\u001b[0m\n",
      "\u001b[32m[I 2021-09-16 08:53:59,081]\u001b[0m Trial 32 finished with value: 0.03523814258209032 and parameters: {'lambda': 0.03984888106163212, 'alpha': 0.125409969123679, 'colsample_bytree': 0.8233600696533999, 'subsample': 0.7, 'learning_rate': 0.17974271907139175, 'n_estimators': 568, 'max_depth': 33, 'min_child_weight': 146, 'eta': 0.028125731836808453, 'gamma': 7.959353613752547e-06, 'grow_policy': 'lossguide'}. Best is trial 17 with value: 0.034826676267067765.\u001b[0m\n",
      "\u001b[32m[I 2021-09-16 09:12:04,373]\u001b[0m Trial 33 finished with value: 0.035113439814476184 and parameters: {'lambda': 0.028160880578230293, 'alpha': 0.11086104403603107, 'colsample_bytree': 0.7827661095314031, 'subsample': 0.7, 'learning_rate': 0.14566660716994723, 'n_estimators': 564, 'max_depth': 32, 'min_child_weight': 146, 'eta': 0.020349283518047996, 'gamma': 1.133256550597516e-05, 'grow_policy': 'lossguide'}. Best is trial 17 with value: 0.034826676267067765.\u001b[0m\n",
      "\u001b[32m[I 2021-09-16 09:12:45,615]\u001b[0m Trial 34 finished with value: 0.047734183366027666 and parameters: {'lambda': 0.00931235702169348, 'alpha': 0.42505155560703134, 'colsample_bytree': 0.005628181298541013, 'subsample': 0.6, 'learning_rate': 0.05076473998903155, 'n_estimators': 645, 'max_depth': 35, 'min_child_weight': 1, 'eta': 0.01964480407509586, 'gamma': 3.1250290605380215e-05, 'grow_policy': 'lossguide'}. Best is trial 17 with value: 0.034826676267067765.\u001b[0m\n",
      "\u001b[32m[I 2021-09-16 09:13:17,028]\u001b[0m Trial 35 finished with value: 0.048413462694468466 and parameters: {'lambda': 0.03978265573626806, 'alpha': 0.12299423150597212, 'colsample_bytree': 0.0021578464924448095, 'subsample': 0.7, 'learning_rate': 0.03321256657982326, 'n_estimators': 527, 'max_depth': 41, 'min_child_weight': 181, 'eta': 0.00020642446474439596, 'gamma': 7.784047507438386e-07, 'grow_policy': 'lossguide'}. Best is trial 17 with value: 0.034826676267067765.\u001b[0m\n",
      "\u001b[32m[I 2021-09-16 09:14:47,832]\u001b[0m Trial 36 finished with value: 0.03900253936619275 and parameters: {'lambda': 0.014305545415179019, 'alpha': 0.06743677339683528, 'colsample_bytree': 0.04781159999205921, 'subsample': 0.5, 'learning_rate': 0.1308445771950152, 'n_estimators': 590, 'max_depth': 32, 'min_child_weight': 133, 'eta': 0.0032430745048145286, 'gamma': 3.376297202172975e-05, 'grow_policy': 'lossguide'}. Best is trial 17 with value: 0.034826676267067765.\u001b[0m\n",
      "\u001b[32m[I 2021-09-16 09:20:29,464]\u001b[0m Trial 37 finished with value: 0.03926216055747129 and parameters: {'lambda': 0.0024083379649153394, 'alpha': 0.14234377796874856, 'colsample_bytree': 0.3068298908604004, 'subsample': 0.7, 'learning_rate': 0.07283783672472013, 'n_estimators': 473, 'max_depth': 44, 'min_child_weight': 237, 'eta': 0.017776792732751723, 'gamma': 1.3081663402205848e-07, 'grow_policy': 'lossguide'}. Best is trial 17 with value: 0.034826676267067765.\u001b[0m\n",
      "\u001b[32m[I 2021-09-16 09:23:10,232]\u001b[0m Trial 38 finished with value: 0.03676678291027368 and parameters: {'lambda': 0.07105662123590882, 'alpha': 0.44314687082614024, 'colsample_bytree': 0.1466631820818013, 'subsample': 0.7, 'learning_rate': 0.19532962089114903, 'n_estimators': 569, 'max_depth': 32, 'min_child_weight': 200, 'eta': 0.05149319546594301, 'gamma': 6.43672463851813e-05, 'grow_policy': 'depthwise'}. Best is trial 17 with value: 0.034826676267067765.\u001b[0m\n",
      "\u001b[32m[I 2021-09-16 09:29:31,857]\u001b[0m Trial 39 finished with value: 0.04260390413509144 and parameters: {'lambda': 0.006490666128514409, 'alpha': 0.01399133879503078, 'colsample_bytree': 0.30013868647146513, 'subsample': 0.6, 'learning_rate': 0.018447800014569898, 'n_estimators': 523, 'max_depth': 54, 'min_child_weight': 166, 'eta': 0.01592150842209379, 'gamma': 6.129148631821649e-06, 'grow_policy': 'lossguide'}. Best is trial 17 with value: 0.034826676267067765.\u001b[0m\n",
      "\u001b[32m[I 2021-09-16 09:30:10,828]\u001b[0m Trial 40 finished with value: 0.04810543531342929 and parameters: {'lambda': 0.039186837365663425, 'alpha': 0.2695771587452309, 'colsample_bytree': 0.004828599470555901, 'subsample': 0.7, 'learning_rate': 0.04133901019328155, 'n_estimators': 646, 'max_depth': 23, 'min_child_weight': 140, 'eta': 0.0016142261073337088, 'gamma': 1.0295128000521153e-06, 'grow_policy': 'lossguide'}. Best is trial 17 with value: 0.034826676267067765.\u001b[0m\n",
      "\u001b[32m[I 2021-09-16 09:52:08,157]\u001b[0m Trial 41 finished with value: 0.035454736295617455 and parameters: {'lambda': 0.013941227605285317, 'alpha': 0.04393691036147792, 'colsample_bytree': 0.9429828375432779, 'subsample': 0.7, 'learning_rate': 0.17115094216851598, 'n_estimators': 562, 'max_depth': 29, 'min_child_weight': 156, 'eta': 0.17439208969295578, 'gamma': 9.38675067116623e-06, 'grow_policy': 'lossguide'}. Best is trial 17 with value: 0.034826676267067765.\u001b[0m\n",
      "\u001b[32m[I 2021-09-16 10:12:36,475]\u001b[0m Trial 42 finished with value: 0.03512712869649879 and parameters: {'lambda': 0.022080703992811684, 'alpha': 0.09828579663080686, 'colsample_bytree': 0.972040669327736, 'subsample': 0.7, 'learning_rate': 0.20080848974328344, 'n_estimators': 513, 'max_depth': 36, 'min_child_weight': 91, 'eta': 0.048880565018675194, 'gamma': 1.7220308404797903e-05, 'grow_policy': 'lossguide'}. Best is trial 17 with value: 0.034826676267067765.\u001b[0m\n",
      "\u001b[32m[I 2021-09-16 10:20:50,259]\u001b[0m Trial 43 finished with value: 0.03553469983629749 and parameters: {'lambda': 0.09576638727523412, 'alpha': 0.0873932367327224, 'colsample_bytree': 0.3731449019546517, 'subsample': 0.7, 'learning_rate': 0.21256717047558357, 'n_estimators': 497, 'max_depth': 37, 'min_child_weight': 86, 'eta': 0.041289910579461235, 'gamma': 1.8530231722523826e-05, 'grow_policy': 'lossguide'}. Best is trial 17 with value: 0.034826676267067765.\u001b[0m\n",
      "\u001b[32m[I 2021-09-16 10:23:03,231]\u001b[0m Trial 44 finished with value: 0.03597080857336732 and parameters: {'lambda': 0.019885783594269624, 'alpha': 0.16839895428315083, 'colsample_bytree': 0.10693797836880813, 'subsample': 0.7, 'learning_rate': 0.12640229202732178, 'n_estimators': 388, 'max_depth': 45, 'min_child_weight': 93, 'eta': 0.013100391050692179, 'gamma': 2.7875303218746053e-06, 'grow_policy': 'lossguide'}. Best is trial 17 with value: 0.034826676267067765.\u001b[0m\n",
      "\u001b[32m[I 2021-09-16 10:23:54,679]\u001b[0m Trial 45 finished with value: 0.04102075246124223 and parameters: {'lambda': 0.00696162000985104, 'alpha': 0.27381689360145084, 'colsample_bytree': 0.03167415263615265, 'subsample': 0.4, 'learning_rate': 0.22858137831378275, 'n_estimators': 531, 'max_depth': 35, 'min_child_weight': 118, 'eta': 0.9507138343335423, 'gamma': 0.0002342653909104453, 'grow_policy': 'lossguide'}. Best is trial 17 with value: 0.034826676267067765.\u001b[0m\n",
      "\u001b[32m[I 2021-09-16 10:44:21,167]\u001b[0m Trial 46 finished with value: 0.03538376373282791 and parameters: {'lambda': 0.04283470180829723, 'alpha': 0.05746024711232157, 'colsample_bytree': 0.9150350450071612, 'subsample': 0.5, 'learning_rate': 0.08506876002408863, 'n_estimators': 490, 'max_depth': 40, 'min_child_weight': 65, 'eta': 9.634761894481019e-06, 'gamma': 5.4027446625477104e-05, 'grow_policy': 'depthwise'}. Best is trial 17 with value: 0.034826676267067765.\u001b[0m\n",
      "\u001b[32m[I 2021-09-16 10:44:38,588]\u001b[0m Trial 47 finished with value: 0.04864386749991386 and parameters: {'lambda': 0.0026361548202132137, 'alpha': 0.02281476173983446, 'colsample_bytree': 9.052018854097496e-07, 'subsample': 0.8, 'learning_rate': 0.18913287276908256, 'n_estimators': 212, 'max_depth': 34, 'min_child_weight': 130, 'eta': 0.0342666440735511, 'gamma': 1.7632373307986492e-05, 'grow_policy': 'lossguide'}. Best is trial 17 with value: 0.034826676267067765.\u001b[0m\n",
      "\u001b[32m[I 2021-09-16 10:53:12,784]\u001b[0m Trial 48 finished with value: 0.03953226488989744 and parameters: {'lambda': 0.01687141730574035, 'alpha': 0.10906958632581232, 'colsample_bytree': 0.3808855823937341, 'subsample': 0.7, 'learning_rate': 0.010809418078827104, 'n_estimators': 515, 'max_depth': 31, 'min_child_weight': 38, 'eta': 0.09156100165046056, 'gamma': 1.3362543204091073e-06, 'grow_policy': 'lossguide'}. Best is trial 17 with value: 0.034826676267067765.\u001b[0m\n",
      "\u001b[32m[I 2021-09-16 10:56:09,186]\u001b[0m Trial 49 finished with value: 0.03509575177558524 and parameters: {'lambda': 0.006834806480714541, 'alpha': 0.1765350662743967, 'colsample_bytree': 0.09253838728299607, 'subsample': 0.7, 'learning_rate': 0.11942590618050793, 'n_estimators': 582, 'max_depth': 50, 'min_child_weight': 56, 'eta': 0.0022613284302846134, 'gamma': 4.131503702010106e-06, 'grow_policy': 'lossguide'}. Best is trial 17 with value: 0.034826676267067765.\u001b[0m\n"
     ]
    },
    {
     "data": {
      "text/plain": [
       "{'lambda': 0.005324347574635748,\n",
       " 'alpha': 0.055543604359424084,\n",
       " 'colsample_bytree': 0.7629297845922669,\n",
       " 'subsample': 0.7,\n",
       " 'learning_rate': 0.1106743486862053,\n",
       " 'n_estimators': 466,\n",
       " 'max_depth': 30,\n",
       " 'min_child_weight': 101,\n",
       " 'eta': 0.1340415805792377,\n",
       " 'gamma': 5.080230501958659e-06,\n",
       " 'grow_policy': 'lossguide'}"
      ]
     },
     "execution_count": 21,
     "metadata": {},
     "output_type": "execute_result"
    }
   ],
   "source": [
    "study = optuna.create_study(direction='minimize')\n",
    "study.optimize(objective_wp1, n_trials=50)\n",
    "#write_results('Data/Hyperparametrization/xgboost_vmd_50trials.xlsx', 'wp1', study.trials_dataframe())\n",
    "best_trial = study.best_trial.params\n",
    "best_trial"
   ]
  },
  {
   "cell_type": "code",
   "execution_count": null,
   "id": "ce456993-60de-427c-af01-bf40caa8f230",
   "metadata": {},
   "outputs": [],
   "source": [
    "def objective_wp1_3(trial,data=X1,target=vmf['IMFwp3']):\n",
    "    train_x, test_x, train_y, test_y = train_test_split(data, target, test_size=0.15,random_state=42)\n",
    "    return hyperparametrization(trial, train_x, test_x, train_y, test_y)"
   ]
  },
  {
   "cell_type": "code",
   "execution_count": null,
   "id": "481b6afc-0efa-481e-a189-0b8cedd20eb7",
   "metadata": {},
   "outputs": [
    {
     "name": "stderr",
     "output_type": "stream",
     "text": [
      "\u001b[32m[I 2021-09-16 10:56:10,759]\u001b[0m A new study created in memory with name: no-name-36fc3a6c-27cb-47a7-a1fe-a6516d6a13e6\u001b[0m\n",
      "\u001b[32m[I 2021-09-16 10:56:20,476]\u001b[0m Trial 0 finished with value: 0.05711171538144366 and parameters: {'lambda': 0.007530905632890409, 'alpha': 0.26105630120909273, 'colsample_bytree': 9.728476164977582e-07, 'subsample': 0.4, 'learning_rate': 0.19991233509628872, 'n_estimators': 150, 'max_depth': 52, 'min_child_weight': 90, 'eta': 0.007727812275362516, 'gamma': 1.9501488404056895e-08, 'grow_policy': 'depthwise'}. Best is trial 0 with value: 0.05711171538144366.\u001b[0m\n",
      "\u001b[32m[I 2021-09-16 10:56:25,559]\u001b[0m Trial 1 finished with value: 0.42533351972866423 and parameters: {'lambda': 0.01750426233308182, 'alpha': 0.2590685275475, 'colsample_bytree': 0.00013816939674746225, 'subsample': 1.0, 'learning_rate': 0.0011424035572312635, 'n_estimators': 151, 'max_depth': 62, 'min_child_weight': 191, 'eta': 1.8025428324378372e-07, 'gamma': 1.0701155105925443e-05, 'grow_policy': 'depthwise'}. Best is trial 0 with value: 0.05711171538144366.\u001b[0m\n",
      "\u001b[32m[I 2021-09-16 10:56:49,605]\u001b[0m Trial 2 finished with value: 0.22927792801693464 and parameters: {'lambda': 4.780328233872632, 'alpha': 0.0026903158705215147, 'colsample_bytree': 0.5639976440401369, 'subsample': 0.4, 'learning_rate': 0.0068964904277085395, 'n_estimators': 118, 'max_depth': 52, 'min_child_weight': 106, 'eta': 1.0593183376543912e-05, 'gamma': 0.00040850807385649197, 'grow_policy': 'depthwise'}. Best is trial 0 with value: 0.05711171538144366.\u001b[0m\n",
      "\u001b[32m[I 2021-09-16 10:57:14,112]\u001b[0m Trial 3 finished with value: 0.05790656349475678 and parameters: {'lambda': 0.001793640814930639, 'alpha': 0.5544456591929345, 'colsample_bytree': 0.000143415340063933, 'subsample': 0.7, 'learning_rate': 0.05839945326396886, 'n_estimators': 434, 'max_depth': 16, 'min_child_weight': 74, 'eta': 6.28282984100226e-05, 'gamma': 0.04486498727859604, 'grow_policy': 'lossguide'}. Best is trial 0 with value: 0.05711171538144366.\u001b[0m\n",
      "\u001b[32m[I 2021-09-16 10:57:35,828]\u001b[0m Trial 4 finished with value: 0.05594017513607335 and parameters: {'lambda': 0.002727926714117421, 'alpha': 0.18679325771614058, 'colsample_bytree': 1.8552429543036992e-06, 'subsample': 0.5, 'learning_rate': 0.10413810987362113, 'n_estimators': 411, 'max_depth': 38, 'min_child_weight': 278, 'eta': 0.094882468404314, 'gamma': 4.950009452153542e-07, 'grow_policy': 'lossguide'}. Best is trial 4 with value: 0.05594017513607335.\u001b[0m\n",
      "\u001b[32m[I 2021-09-16 11:00:27,812]\u001b[0m Trial 5 finished with value: 0.045035633211139944 and parameters: {'lambda': 0.005316401837824278, 'alpha': 0.2046499818322751, 'colsample_bytree': 0.23720471872512014, 'subsample': 0.5, 'learning_rate': 0.02127304945321744, 'n_estimators': 509, 'max_depth': 31, 'min_child_weight': 228, 'eta': 7.500213926822155e-08, 'gamma': 4.399483771315223e-05, 'grow_policy': 'lossguide'}. Best is trial 5 with value: 0.045035633211139944.\u001b[0m\n",
      "\u001b[32m[I 2021-09-16 11:00:35,112]\u001b[0m Trial 6 finished with value: 0.359375330592333 and parameters: {'lambda': 1.5861030852655822, 'alpha': 1.1518752721150975, 'colsample_bytree': 0.006068263922547585, 'subsample': 0.8, 'learning_rate': 0.0015562369324165892, 'n_estimators': 222, 'max_depth': 62, 'min_child_weight': 246, 'eta': 2.3533064828853015e-07, 'gamma': 0.0051767097466064544, 'grow_policy': 'lossguide'}. Best is trial 5 with value: 0.045035633211139944.\u001b[0m\n",
      "\u001b[32m[I 2021-09-16 11:10:55,761]\u001b[0m Trial 7 finished with value: 0.056274865691066614 and parameters: {'lambda': 0.43047682630982964, 'alpha': 0.04147036127130965, 'colsample_bytree': 0.7346490726365211, 'subsample': 1.0, 'learning_rate': 0.0050988516190277776, 'n_estimators': 682, 'max_depth': 11, 'min_child_weight': 285, 'eta': 1.1711080483148559e-07, 'gamma': 0.2187568238030639, 'grow_policy': 'lossguide'}. Best is trial 5 with value: 0.045035633211139944.\u001b[0m\n",
      "\u001b[32m[I 2021-09-16 11:11:00,287]\u001b[0m Trial 8 finished with value: 0.27813791096043605 and parameters: {'lambda': 5.500767765750927, 'alpha': 0.0976560530529744, 'colsample_bytree': 1.284406892403039e-07, 'subsample': 0.4, 'learning_rate': 0.005181375194910565, 'n_estimators': 118, 'max_depth': 66, 'min_child_weight': 82, 'eta': 0.005382550944338391, 'gamma': 0.0008320665781119, 'grow_policy': 'depthwise'}. Best is trial 5 with value: 0.045035633211139944.\u001b[0m\n",
      "\u001b[32m[I 2021-09-16 11:11:21,266]\u001b[0m Trial 9 finished with value: 0.3084196909771166 and parameters: {'lambda': 0.02854114738084791, 'alpha': 0.011759157832668432, 'colsample_bytree': 8.69172001393079e-06, 'subsample': 0.6, 'learning_rate': 0.0010432993344836777, 'n_estimators': 483, 'max_depth': 63, 'min_child_weight': 194, 'eta': 3.318229195139698e-08, 'gamma': 1.9534862990483288e-07, 'grow_policy': 'depthwise'}. Best is trial 5 with value: 0.045035633211139944.\u001b[0m\n",
      "\u001b[32m[I 2021-09-16 11:11:40,609]\u001b[0m Trial 10 finished with value: 0.059905974628908586 and parameters: {'lambda': 0.1623767832465965, 'alpha': 9.605186741470801, 'colsample_bytree': 0.006271796078065017, 'subsample': 0.5, 'learning_rate': 0.02328234229513595, 'n_estimators': 583, 'max_depth': 27, 'min_child_weight': 161, 'eta': 4.5138735337824184e-06, 'gamma': 4.9257218024184094e-05, 'grow_policy': 'lossguide'}. Best is trial 5 with value: 0.045035633211139944.\u001b[0m\n",
      "\u001b[32m[I 2021-09-16 11:11:54,683]\u001b[0m Trial 11 finished with value: 0.056988045464923386 and parameters: {'lambda': 0.0015514993343674036, 'alpha': 1.834652372534609, 'colsample_bytree': 1.111909340626145e-07, 'subsample': 0.5, 'learning_rate': 0.12229815184194072, 'n_estimators': 309, 'max_depth': 35, 'min_child_weight': 7, 'eta': 0.6380818935752729, 'gamma': 7.008126571439741e-06, 'grow_policy': 'lossguide'}. Best is trial 5 with value: 0.045035633211139944.\u001b[0m\n",
      "\u001b[32m[I 2021-09-16 11:12:12,080]\u001b[0m Trial 12 finished with value: 0.05918236322937744 and parameters: {'lambda': 0.005730086476880677, 'alpha': 0.026433454563616853, 'colsample_bytree': 1.0467825441781181e-08, 'subsample': 0.5, 'learning_rate': 0.02631990437763268, 'n_estimators': 330, 'max_depth': 35, 'min_child_weight': 298, 'eta': 0.0026733580381739794, 'gamma': 5.338426323278547e-07, 'grow_policy': 'lossguide'}. Best is trial 5 with value: 0.045035633211139944.\u001b[0m\n",
      "\u001b[32m[I 2021-09-16 11:12:31,622]\u001b[0m Trial 13 finished with value: 0.058154265118493455 and parameters: {'lambda': 0.04294543106703362, 'alpha': 3.9879345367342225, 'colsample_bytree': 0.004497067002011993, 'subsample': 0.5, 'learning_rate': 0.05506859525931549, 'n_estimators': 529, 'max_depth': 24, 'min_child_weight': 240, 'eta': 0.5642158065637211, 'gamma': 5.900606401624083e-07, 'grow_policy': 'lossguide'}. Best is trial 5 with value: 0.045035633211139944.\u001b[0m\n",
      "\u001b[32m[I 2021-09-16 11:12:52,963]\u001b[0m Trial 14 finished with value: 0.05585582601603101 and parameters: {'lambda': 0.004422370596139376, 'alpha': 0.11214297423522195, 'colsample_bytree': 1.0445910516946525e-05, 'subsample': 0.5, 'learning_rate': 0.2802920877707993, 'n_estimators': 373, 'max_depth': 42, 'min_child_weight': 243, 'eta': 0.0005289903473481228, 'gamma': 1.9299191213635527e-08, 'grow_policy': 'lossguide'}. Best is trial 5 with value: 0.045035633211139944.\u001b[0m\n",
      "\u001b[32m[I 2021-09-16 11:15:26,817]\u001b[0m Trial 15 finished with value: 0.03393924610917297 and parameters: {'lambda': 0.008932895404717365, 'alpha': 0.00438351484143033, 'colsample_bytree': 0.06974874993967346, 'subsample': 0.7, 'learning_rate': 0.28505491608271516, 'n_estimators': 604, 'max_depth': 47, 'min_child_weight': 224, 'eta': 0.0003217311530288323, 'gamma': 1.5757600113273232e-08, 'grow_policy': 'lossguide'}. Best is trial 15 with value: 0.03393924610917297.\u001b[0m\n",
      "\u001b[32m[I 2021-09-16 11:17:31,216]\u001b[0m Trial 16 finished with value: 0.046884383241026374 and parameters: {'lambda': 0.10627252338753104, 'alpha': 0.0029028772412993727, 'colsample_bytree': 0.0793274033339816, 'subsample': 0.7, 'learning_rate': 0.010752257109309458, 'n_estimators': 636, 'max_depth': 46, 'min_child_weight': 204, 'eta': 2.570622525656381e-06, 'gamma': 0.006604308791681524, 'grow_policy': 'lossguide'}. Best is trial 15 with value: 0.03393924610917297.\u001b[0m\n",
      "\u001b[32m[I 2021-09-16 11:19:08,560]\u001b[0m Trial 17 finished with value: 0.038062288077061544 and parameters: {'lambda': 0.013306710323490243, 'alpha': 0.011087823023238408, 'colsample_bytree': 0.04595866316143075, 'subsample': 0.7, 'learning_rate': 0.03973174980943903, 'n_estimators': 560, 'max_depth': 28, 'min_child_weight': 145, 'eta': 9.10421214292265e-05, 'gamma': 1.2015248849049236e-05, 'grow_policy': 'lossguide'}. Best is trial 15 with value: 0.03393924610917297.\u001b[0m\n",
      "\u001b[32m[I 2021-09-16 11:20:26,533]\u001b[0m Trial 18 finished with value: 0.03750718892360709 and parameters: {'lambda': 0.01263864527084835, 'alpha': 0.008900353339469359, 'colsample_bytree': 0.03226785957688349, 'subsample': 0.7, 'learning_rate': 0.051193501001289145, 'n_estimators': 594, 'max_depth': 21, 'min_child_weight': 134, 'eta': 0.00020697776742669644, 'gamma': 4.652099013212122e-06, 'grow_policy': 'lossguide'}. Best is trial 15 with value: 0.03393924610917297.\u001b[0m\n",
      "\u001b[32m[I 2021-09-16 11:21:13,460]\u001b[0m Trial 19 finished with value: 0.05305250819069606 and parameters: {'lambda': 0.0658111310110934, 'alpha': 0.0012269643419569745, 'colsample_bytree': 0.0007165486974548411, 'subsample': 0.7, 'learning_rate': 0.1303517004709748, 'n_estimators': 695, 'max_depth': 21, 'min_child_weight': 133, 'eta': 0.0006496912123964598, 'gamma': 5.5337674029043057e-08, 'grow_policy': 'lossguide'}. Best is trial 15 with value: 0.03393924610917297.\u001b[0m\n",
      "\u001b[32m[I 2021-09-16 11:23:49,663]\u001b[0m Trial 20 finished with value: 0.033170024740793516 and parameters: {'lambda': 0.2712871389988264, 'alpha': 0.006426628417678597, 'colsample_bytree': 0.028304807814365764, 'subsample': 0.7, 'learning_rate': 0.0791015660210175, 'n_estimators': 612, 'max_depth': 52, 'min_child_weight': 31, 'eta': 0.023853554938331554, 'gamma': 2.693193821819779e-06, 'grow_policy': 'lossguide'}. Best is trial 20 with value: 0.033170024740793516.\u001b[0m\n",
      "\u001b[32m[I 2021-09-16 11:26:26,109]\u001b[0m Trial 21 finished with value: 0.03427482628876323 and parameters: {'lambda': 0.3785614572509329, 'alpha': 0.005294425840147339, 'colsample_bytree': 0.026888279548496576, 'subsample': 0.7, 'learning_rate': 0.06895018826447483, 'n_estimators': 622, 'max_depth': 51, 'min_child_weight': 19, 'eta': 0.03811982270706952, 'gamma': 2.1386616820472323e-06, 'grow_policy': 'lossguide'}. Best is trial 20 with value: 0.033170024740793516.\u001b[0m\n",
      "\u001b[32m[I 2021-09-16 11:27:46,300]\u001b[0m Trial 22 finished with value: 0.054325208322412784 and parameters: {'lambda': 0.43138350119628827, 'alpha': 0.004087829464408664, 'colsample_bytree': 0.0031791321819474414, 'subsample': 0.7, 'learning_rate': 0.09097513036760922, 'n_estimators': 631, 'max_depth': 54, 'min_child_weight': 1, 'eta': 0.04128188763741285, 'gamma': 2.406938871557887e-06, 'grow_policy': 'lossguide'}. Best is trial 20 with value: 0.033170024740793516.\u001b[0m\n",
      "\u001b[32m[I 2021-09-16 11:28:45,590]\u001b[0m Trial 23 finished with value: 0.0539403486920809 and parameters: {'lambda': 0.29666271189339516, 'alpha': 0.029537428102395014, 'colsample_bytree': 0.0005854050816080131, 'subsample': 0.7, 'learning_rate': 0.2446371692301006, 'n_estimators': 638, 'max_depth': 45, 'min_child_weight': 40, 'eta': 0.03451684922537269, 'gamma': 1.0903456894593011e-07, 'grow_policy': 'lossguide'}. Best is trial 20 with value: 0.033170024740793516.\u001b[0m\n",
      "\u001b[32m[I 2021-09-16 11:30:33,473]\u001b[0m Trial 24 finished with value: 0.03552752870686748 and parameters: {'lambda': 0.8436329908149149, 'alpha': 0.0011237725207275877, 'colsample_bytree': 0.026529574487763125, 'subsample': 0.6, 'learning_rate': 0.15981210909745927, 'n_estimators': 465, 'max_depth': 57, 'min_child_weight': 37, 'eta': 0.1479120098966261, 'gamma': 1.0570723245554628e-08, 'grow_policy': 'lossguide'}. Best is trial 20 with value: 0.033170024740793516.\u001b[0m\n",
      "\u001b[32m[I 2021-09-16 11:38:06,287]\u001b[0m Trial 25 finished with value: 0.029129327212941997 and parameters: {'lambda': 1.4543872090044472, 'alpha': 0.005610935157642341, 'colsample_bytree': 0.1699674735704381, 'subsample': 0.8, 'learning_rate': 0.07899908513041087, 'n_estimators': 538, 'max_depth': 48, 'min_child_weight': 57, 'eta': 0.018050304576846046, 'gamma': 7.575407082257441e-07, 'grow_policy': 'lossguide'}. Best is trial 25 with value: 0.029129327212941997.\u001b[0m\n",
      "\u001b[32m[I 2021-09-16 11:44:40,688]\u001b[0m Trial 26 finished with value: 0.030468058484896414 and parameters: {'lambda': 1.980183179901273, 'alpha': 0.01575561430909746, 'colsample_bytree': 0.15926338289500533, 'subsample': 0.8, 'learning_rate': 0.03815667003813805, 'n_estimators': 554, 'max_depth': 47, 'min_child_weight': 57, 'eta': 0.0016642512278683078, 'gamma': 6.671345959433098e-08, 'grow_policy': 'depthwise'}. Best is trial 25 with value: 0.029129327212941997.\u001b[0m\n",
      "\u001b[32m[I 2021-09-16 11:52:10,097]\u001b[0m Trial 27 finished with value: 0.030237642336869715 and parameters: {'lambda': 2.1725929399466057, 'alpha': 0.021387366812709543, 'colsample_bytree': 0.17042493306770468, 'subsample': 0.8, 'learning_rate': 0.03626928013769247, 'n_estimators': 551, 'max_depth': 57, 'min_child_weight': 55, 'eta': 0.0020916237878516827, 'gamma': 1.0639561471984373e-06, 'grow_policy': 'depthwise'}. Best is trial 25 with value: 0.029129327212941997.\u001b[0m\n",
      "\u001b[32m[I 2021-09-16 12:01:47,051]\u001b[0m Trial 28 finished with value: 0.03032251577077877 and parameters: {'lambda': 2.2873114320504078, 'alpha': 0.01849813161040704, 'colsample_bytree': 0.23162875768013283, 'subsample': 0.8, 'learning_rate': 0.03371700139711493, 'n_estimators': 544, 'max_depth': 58, 'min_child_weight': 61, 'eta': 0.001791092977265182, 'gamma': 1.1154843001090546e-07, 'grow_policy': 'depthwise'}. Best is trial 25 with value: 0.029129327212941997.\u001b[0m\n",
      "\u001b[32m[I 2021-09-16 12:11:26,887]\u001b[0m Trial 29 finished with value: 0.04211381527620004 and parameters: {'lambda': 9.933610263964196, 'alpha': 0.08448239023428626, 'colsample_bytree': 0.6802303000667732, 'subsample': 0.8, 'learning_rate': 0.0114206428529245, 'n_estimators': 472, 'max_depth': 68, 'min_child_weight': 102, 'eta': 0.010937749722258555, 'gamma': 3.571416501084018e-07, 'grow_policy': 'depthwise'}. Best is trial 25 with value: 0.029129327212941997.\u001b[0m\n",
      "\u001b[32m[I 2021-09-16 12:17:05,048]\u001b[0m Trial 30 finished with value: 0.03530305133628334 and parameters: {'lambda': 1.8295371785602665, 'alpha': 0.05102270470571992, 'colsample_bytree': 0.21214815471238632, 'subsample': 0.8, 'learning_rate': 0.014474546439629282, 'n_estimators': 524, 'max_depth': 58, 'min_child_weight': 59, 'eta': 3.5638195307931774e-05, 'gamma': 9.787575409789066e-07, 'grow_policy': 'depthwise'}. Best is trial 25 with value: 0.029129327212941997.\u001b[0m\n",
      "\u001b[32m[I 2021-09-16 12:23:39,321]\u001b[0m Trial 31 finished with value: 0.030927920401204415 and parameters: {'lambda': 2.010016590659554, 'alpha': 0.017897802579015607, 'colsample_bytree': 0.147718470979891, 'subsample': 0.8, 'learning_rate': 0.03467762385751436, 'n_estimators': 554, 'max_depth': 58, 'min_child_weight': 59, 'eta': 0.002332359504314302, 'gamma': 6.4091084068221e-08, 'grow_policy': 'depthwise'}. Best is trial 25 with value: 0.029129327212941997.\u001b[0m\n",
      "\u001b[32m[I 2021-09-16 12:32:56,781]\u001b[0m Trial 32 finished with value: 0.03037097155088149 and parameters: {'lambda': 0.8298763786246572, 'alpha': 0.019023912056427523, 'colsample_bytree': 0.22611752543351094, 'subsample': 0.8, 'learning_rate': 0.035563384368418424, 'n_estimators': 562, 'max_depth': 49, 'min_child_weight': 62, 'eta': 0.0014295691769567972, 'gamma': 7.326324128575183e-08, 'grow_policy': 'depthwise'}. Best is trial 25 with value: 0.029129327212941997.\u001b[0m\n",
      "\u001b[32m[I 2021-09-16 13:02:37,102]\u001b[0m Trial 33 finished with value: 0.033064052960220344 and parameters: {'lambda': 0.9119828426775858, 'alpha': 0.021165642264366482, 'colsample_bytree': 0.9504716796818244, 'subsample': 0.8, 'learning_rate': 0.028715772515866513, 'n_estimators': 500, 'max_depth': 55, 'min_child_weight': 107, 'eta': 0.006499957330424553, 'gamma': 1.9297700892796522e-07, 'grow_policy': 'depthwise'}. Best is trial 25 with value: 0.029129327212941997.\u001b[0m\n",
      "\u001b[32m[I 2021-09-16 13:03:12,615]\u001b[0m Trial 34 finished with value: 0.05078423577151287 and parameters: {'lambda': 3.731901886158576, 'alpha': 0.046302889725436294, 'colsample_bytree': 0.011645109690547668, 'subsample': 0.8, 'learning_rate': 0.01726603486245944, 'n_estimators': 436, 'max_depth': 50, 'min_child_weight': 87, 'eta': 0.0017076897418741184, 'gamma': 1.768578187327192e-05, 'grow_policy': 'depthwise'}. Best is trial 25 with value: 0.029129327212941997.\u001b[0m\n",
      "\u001b[32m[I 2021-09-16 13:03:43,602]\u001b[0m Trial 35 finished with value: 0.05547391926822313 and parameters: {'lambda': 0.9736463614968296, 'alpha': 0.0017304396059350717, 'colsample_bytree': 0.001473053769793732, 'subsample': 0.8, 'learning_rate': 0.04817335919979729, 'n_estimators': 376, 'max_depth': 61, 'min_child_weight': 69, 'eta': 0.14853145935990886, 'gamma': 0.00020688316166388008, 'grow_policy': 'depthwise'}. Best is trial 25 with value: 0.029129327212941997.\u001b[0m\n",
      "\u001b[32m[I 2021-09-16 13:11:05,140]\u001b[0m Trial 36 finished with value: 0.030186347214764063 and parameters: {'lambda': 3.654650539222451, 'alpha': 0.008210990890914123, 'colsample_bytree': 0.2656885027279691, 'subsample': 0.8, 'learning_rate': 0.17889123606261711, 'n_estimators': 444, 'max_depth': 39, 'min_child_weight': 111, 'eta': 0.01310151722293327, 'gamma': 4.675941439507494e-08, 'grow_policy': 'depthwise'}. Best is trial 25 with value: 0.029129327212941997.\u001b[0m\n",
      "\u001b[32m[I 2021-09-16 13:22:56,761]\u001b[0m Trial 37 finished with value: 0.030002330378471175 and parameters: {'lambda': 3.524397879309469, 'alpha': 0.0022826666279667485, 'colsample_bytree': 0.3652427095438318, 'subsample': 1.0, 'learning_rate': 0.1747645718591005, 'n_estimators': 436, 'max_depth': 41, 'min_child_weight': 109, 'eta': 0.01174948952869712, 'gamma': 3.4070756558687873e-08, 'grow_policy': 'depthwise'}. Best is trial 25 with value: 0.029129327212941997.\u001b[0m\n",
      "\u001b[32m[I 2021-09-16 13:23:33,714]\u001b[0m Trial 38 finished with value: 0.053564302830445 and parameters: {'lambda': 9.81274780793822, 'alpha': 0.0033506284966016804, 'colsample_bytree': 0.00013266312244486828, 'subsample': 1.0, 'learning_rate': 0.17774832035753171, 'n_estimators': 437, 'max_depth': 40, 'min_child_weight': 115, 'eta': 0.013045039822718178, 'gamma': 3.505687797335362e-08, 'grow_policy': 'depthwise'}. Best is trial 25 with value: 0.029129327212941997.\u001b[0m\n",
      "\u001b[32m[I 2021-09-16 13:24:14,100]\u001b[0m Trial 39 finished with value: 0.0380329677493854 and parameters: {'lambda': 4.110724477015668, 'alpha': 0.00198863237515833, 'colsample_bytree': 0.015180245738897757, 'subsample': 1.0, 'learning_rate': 0.20357774138464005, 'n_estimators': 307, 'max_depth': 43, 'min_child_weight': 169, 'eta': 0.09960459684042686, 'gamma': 1.183768093793757e-06, 'grow_policy': 'depthwise'}. Best is trial 25 with value: 0.029129327212941997.\u001b[0m\n",
      "\u001b[32m[I 2021-09-16 13:34:56,295]\u001b[0m Trial 40 finished with value: 0.0304787338224186 and parameters: {'lambda': 5.29618640966739, 'alpha': 0.006386303057236051, 'colsample_bytree': 0.4126783667228168, 'subsample': 1.0, 'learning_rate': 0.10868640780808342, 'n_estimators': 395, 'max_depth': 37, 'min_child_weight': 120, 'eta': 0.31228001297251956, 'gamma': 1.9173503426747446e-07, 'grow_policy': 'depthwise'}. Best is trial 25 with value: 0.029129327212941997.\u001b[0m\n",
      "\u001b[32m[I 2021-09-16 13:36:45,054]\u001b[0m Trial 41 finished with value: 0.03625920196328047 and parameters: {'lambda': 2.8014675220416425, 'alpha': 0.008178549887097361, 'colsample_bytree': 0.09618487599292079, 'subsample': 0.4, 'learning_rate': 0.07098382130995047, 'n_estimators': 450, 'max_depth': 40, 'min_child_weight': 96, 'eta': 0.004211647830326138, 'gamma': 2.3493576302632397e-08, 'grow_policy': 'depthwise'}. Best is trial 25 with value: 0.029129327212941997.\u001b[0m\n",
      "\u001b[32m[I 2021-09-16 13:49:13,381]\u001b[0m Trial 42 finished with value: 0.0298200857173115 and parameters: {'lambda': 1.25327321034056, 'alpha': 0.001827564646119147, 'colsample_bytree': 0.42863449354199595, 'subsample': 0.8, 'learning_rate': 0.15815974742596847, 'n_estimators': 514, 'max_depth': 32, 'min_child_weight': 80, 'eta': 0.013289971322886871, 'gamma': 1.2131030889657712e-07, 'grow_policy': 'depthwise'}. Best is trial 25 with value: 0.029129327212941997.\u001b[0m\n",
      "\u001b[32m[I 2021-09-16 13:52:20,283]\u001b[0m Trial 43 finished with value: 0.05837437002320107 and parameters: {'lambda': 1.205266398095359, 'alpha': 0.0021703120825563873, 'colsample_bytree': 0.41328589044209174, 'subsample': 0.8, 'learning_rate': 0.16251451065545314, 'n_estimators': 220, 'max_depth': 33, 'min_child_weight': 83, 'eta': 0.020043377320831886, 'gamma': 0.9567728011494518, 'grow_policy': 'depthwise'}. Best is trial 25 with value: 0.029129327212941997.\u001b[0m\n",
      "\u001b[32m[I 2021-09-16 14:19:47,664]\u001b[0m Trial 44 finished with value: 0.030150490710171864 and parameters: {'lambda': 0.620641474200507, 'alpha': 0.0017454556845581035, 'colsample_bytree': 0.9525769890521065, 'subsample': 1.0, 'learning_rate': 0.13753141688346282, 'n_estimators': 492, 'max_depth': 30, 'min_child_weight': 75, 'eta': 0.06237118851190859, 'gamma': 2.809405123245674e-07, 'grow_policy': 'depthwise'}. Best is trial 25 with value: 0.029129327212941997.\u001b[0m\n",
      "\u001b[32m[I 2021-09-16 14:37:49,132]\u001b[0m Trial 45 finished with value: 0.030951795130752933 and parameters: {'lambda': 0.49438954984117, 'alpha': 0.001027366305603606, 'colsample_bytree': 0.5694605368201049, 'subsample': 1.0, 'learning_rate': 0.21593009810102679, 'n_estimators': 499, 'max_depth': 32, 'min_child_weight': 78, 'eta': 0.06534840713756547, 'gamma': 3.070912239953657e-07, 'grow_policy': 'depthwise'}. Best is trial 25 with value: 0.029129327212941997.\u001b[0m\n",
      "\u001b[32m[I 2021-09-16 14:42:12,015]\u001b[0m Trial 46 finished with value: 0.2100139087489599 and parameters: {'lambda': 6.990028055002258, 'alpha': 0.0016749312507253285, 'colsample_bytree': 0.9917856512433324, 'subsample': 1.0, 'learning_rate': 0.0022442118484625826, 'n_estimators': 405, 'max_depth': 29, 'min_child_weight': 125, 'eta': 0.2880647398398848, 'gamma': 1.5905329506553748e-07, 'grow_policy': 'depthwise'}. Best is trial 25 with value: 0.029129327212941997.\u001b[0m\n",
      "\u001b[32m[I 2021-09-16 14:42:36,699]\u001b[0m Trial 47 finished with value: 0.05373331028971726 and parameters: {'lambda': 3.165316468239513, 'alpha': 0.3591848722703381, 'colsample_bytree': 3.402595332598828e-05, 'subsample': 1.0, 'learning_rate': 0.14070445560694195, 'n_estimators': 355, 'max_depth': 37, 'min_child_weight': 96, 'eta': 0.007750948404832447, 'gamma': 4.005851262099913e-08, 'grow_policy': 'depthwise'}. Best is trial 25 with value: 0.029129327212941997.\u001b[0m\n",
      "\u001b[32m[I 2021-09-16 14:44:27,097]\u001b[0m Trial 48 finished with value: 0.03488346652302795 and parameters: {'lambda': 1.3798433662885052, 'alpha': 0.002553722923968591, 'colsample_bytree': 0.08456273480521653, 'subsample': 0.6, 'learning_rate': 0.09496261861087524, 'n_estimators': 483, 'max_depth': 25, 'min_child_weight': 162, 'eta': 0.8327619479924646, 'gamma': 3.5042133522310085e-05, 'grow_policy': 'depthwise'}. Best is trial 25 with value: 0.029129327212941997.\u001b[0m\n",
      "\u001b[32m[I 2021-09-16 14:52:43,610]\u001b[0m Trial 49 finished with value: 0.030398688609833597 and parameters: {'lambda': 7.052699042486323, 'alpha': 0.0034414229559273373, 'colsample_bytree': 0.394510717774587, 'subsample': 0.4, 'learning_rate': 0.11398347150107388, 'n_estimators': 514, 'max_depth': 35, 'min_child_weight': 46, 'eta': 0.015219514228661546, 'gamma': 1.1128021818899971e-08, 'grow_policy': 'depthwise'}. Best is trial 25 with value: 0.029129327212941997.\u001b[0m\n"
     ]
    },
    {
     "data": {
      "text/plain": [
       "{'lambda': 1.4543872090044472,\n",
       " 'alpha': 0.005610935157642341,\n",
       " 'colsample_bytree': 0.1699674735704381,\n",
       " 'subsample': 0.8,\n",
       " 'learning_rate': 0.07899908513041087,\n",
       " 'n_estimators': 538,\n",
       " 'max_depth': 48,\n",
       " 'min_child_weight': 57,\n",
       " 'eta': 0.018050304576846046,\n",
       " 'gamma': 7.575407082257441e-07,\n",
       " 'grow_policy': 'lossguide'}"
      ]
     },
     "execution_count": 23,
     "metadata": {},
     "output_type": "execute_result"
    }
   ],
   "source": [
    "study = optuna.create_study(direction='minimize')\n",
    "study.optimize(objective_wp1_3, n_trials=50)\n",
    "#write_results('Data/Hyperparametrization/xgboost_vmd_50trials.xlsx', 'wp1', study.trials_dataframe())\n",
    "best_trial = study.best_trial.params\n",
    "best_trial"
   ]
  },
  {
   "cell_type": "code",
   "execution_count": null,
   "id": "ac17696e-8d92-4fac-bfcf-ed805d692d33",
   "metadata": {},
   "outputs": [],
   "source": [
    "def objective_wp1_4(trial,data=X1,target=vmf['IMFwp4']):\n",
    "    train_x, test_x, train_y, test_y = train_test_split(data, target, test_size=0.15,random_state=42)\n",
    "    return hyperparametrization(trial, train_x, test_x, train_y, test_y)"
   ]
  },
  {
   "cell_type": "code",
   "execution_count": null,
   "id": "af988e4c-3c6b-4641-a7ae-2b7d7461e7a9",
   "metadata": {},
   "outputs": [
    {
     "name": "stderr",
     "output_type": "stream",
     "text": [
      "\u001b[32m[I 2021-09-16 14:52:43,814]\u001b[0m A new study created in memory with name: no-name-020b5d44-3901-431f-906d-9436c19c759b\u001b[0m\n",
      "\u001b[32m[I 2021-09-16 14:53:15,436]\u001b[0m Trial 0 finished with value: 0.03320143507467138 and parameters: {'lambda': 0.26853331269620573, 'alpha': 0.0029215028280991395, 'colsample_bytree': 0.005144814557288592, 'subsample': 0.7, 'learning_rate': 0.1284475204262032, 'n_estimators': 447, 'max_depth': 17, 'min_child_weight': 19, 'eta': 4.1974271613460707e-08, 'gamma': 6.127280526360089e-06, 'grow_policy': 'depthwise'}. Best is trial 0 with value: 0.03320143507467138.\u001b[0m\n",
      "\u001b[32m[I 2021-09-16 14:53:26,693]\u001b[0m Trial 1 finished with value: 0.19935476724071355 and parameters: {'lambda': 0.1284050455261188, 'alpha': 0.6121939731813798, 'colsample_bytree': 0.0021742484450288967, 'subsample': 0.6, 'learning_rate': 0.0024347771390811662, 'n_estimators': 381, 'max_depth': 54, 'min_child_weight': 51, 'eta': 0.40408969488882884, 'gamma': 3.7215900645570416e-07, 'grow_policy': 'lossguide'}. Best is trial 0 with value: 0.03320143507467138.\u001b[0m\n",
      "\u001b[32m[I 2021-09-16 14:53:38,041]\u001b[0m Trial 2 finished with value: 0.22275294545725743 and parameters: {'lambda': 6.549464005637696, 'alpha': 0.001230057086466992, 'colsample_bytree': 4.923029100056391e-05, 'subsample': 0.8, 'learning_rate': 0.002116552178613638, 'n_estimators': 385, 'max_depth': 23, 'min_child_weight': 119, 'eta': 0.0002951374123825319, 'gamma': 7.36484888561647e-07, 'grow_policy': 'lossguide'}. Best is trial 0 with value: 0.03320143507467138.\u001b[0m\n",
      "\u001b[32m[I 2021-09-16 14:53:51,361]\u001b[0m Trial 3 finished with value: 0.03192556034080931 and parameters: {'lambda': 0.006061343552550731, 'alpha': 0.19182306524615134, 'colsample_bytree': 1.2627995259666061e-05, 'subsample': 0.4, 'learning_rate': 0.1433288746503902, 'n_estimators': 256, 'max_depth': 28, 'min_child_weight': 275, 'eta': 0.002059293290395134, 'gamma': 3.37930290284877e-08, 'grow_policy': 'lossguide'}. Best is trial 3 with value: 0.03192556034080931.\u001b[0m\n",
      "\u001b[32m[I 2021-09-16 14:54:14,360]\u001b[0m Trial 4 finished with value: 0.03146833724815295 and parameters: {'lambda': 2.9608224734760005, 'alpha': 0.007290741456551219, 'colsample_bytree': 8.146476331261772e-06, 'subsample': 0.7, 'learning_rate': 0.011253704053421004, 'n_estimators': 479, 'max_depth': 27, 'min_child_weight': 132, 'eta': 4.422098763314187e-06, 'gamma': 0.06439239326373632, 'grow_policy': 'lossguide'}. Best is trial 4 with value: 0.03146833724815295.\u001b[0m\n",
      "\u001b[32m[I 2021-09-16 14:54:26,901]\u001b[0m Trial 5 finished with value: 0.36563324410376363 and parameters: {'lambda': 0.019711028234708328, 'alpha': 0.1607885585621929, 'colsample_bytree': 0.19369430630533982, 'subsample': 0.7, 'learning_rate': 0.0012294664693310864, 'n_estimators': 256, 'max_depth': 19, 'min_child_weight': 54, 'eta': 0.000279823228029537, 'gamma': 0.024200620864681548, 'grow_policy': 'depthwise'}. Best is trial 4 with value: 0.03146833724815295.\u001b[0m\n",
      "\u001b[32m[I 2021-09-16 14:54:41,453]\u001b[0m Trial 6 finished with value: 0.04664108105441428 and parameters: {'lambda': 1.4971227989484792, 'alpha': 0.04597883231013163, 'colsample_bytree': 0.029050953745709818, 'subsample': 0.8, 'learning_rate': 0.007035646581577533, 'n_estimators': 376, 'max_depth': 25, 'min_child_weight': 91, 'eta': 0.0003852471479148778, 'gamma': 1.4429992017755007e-08, 'grow_policy': 'lossguide'}. Best is trial 4 with value: 0.03146833724815295.\u001b[0m\n",
      "\u001b[32m[I 2021-09-16 14:55:20,692]\u001b[0m Trial 7 finished with value: 0.03151549166734978 and parameters: {'lambda': 0.062269535149005725, 'alpha': 0.008723155339679774, 'colsample_bytree': 0.0003379545737240572, 'subsample': 0.8, 'learning_rate': 0.2254255650315154, 'n_estimators': 411, 'max_depth': 47, 'min_child_weight': 105, 'eta': 0.020818163171240873, 'gamma': 0.012511437115711186, 'grow_policy': 'depthwise'}. Best is trial 4 with value: 0.03146833724815295.\u001b[0m\n",
      "\u001b[32m[I 2021-09-16 14:55:28,413]\u001b[0m Trial 8 finished with value: 0.23120891340592387 and parameters: {'lambda': 0.8369531441635917, 'alpha': 0.006460746802618341, 'colsample_bytree': 7.073491507837269e-05, 'subsample': 1.0, 'learning_rate': 0.0027156638916243873, 'n_estimators': 286, 'max_depth': 52, 'min_child_weight': 174, 'eta': 0.0002681904074406947, 'gamma': 0.9522470818780382, 'grow_policy': 'depthwise'}. Best is trial 4 with value: 0.03146833724815295.\u001b[0m\n",
      "\u001b[32m[I 2021-09-16 14:57:38,421]\u001b[0m Trial 9 finished with value: 0.03158458721708897 and parameters: {'lambda': 0.04738837201847495, 'alpha': 0.2489054746857102, 'colsample_bytree': 0.0445138146049948, 'subsample': 0.8, 'learning_rate': 0.05067225091121284, 'n_estimators': 696, 'max_depth': 27, 'min_child_weight': 65, 'eta': 0.004002193243150835, 'gamma': 0.005521683392666108, 'grow_policy': 'depthwise'}. Best is trial 4 with value: 0.03146833724815295.\u001b[0m\n",
      "\u001b[32m[I 2021-09-16 14:57:56,067]\u001b[0m Trial 10 finished with value: 0.03141469888041913 and parameters: {'lambda': 0.001400969305084936, 'alpha': 3.7633995254290844, 'colsample_bytree': 1.0285640391860944e-07, 'subsample': 0.5, 'learning_rate': 0.01443559931669703, 'n_estimators': 581, 'max_depth': 69, 'min_child_weight': 192, 'eta': 1.9128425033243677e-06, 'gamma': 0.00017789354240855634, 'grow_policy': 'lossguide'}. Best is trial 10 with value: 0.03141469888041913.\u001b[0m\n",
      "\u001b[32m[I 2021-09-16 14:58:13,923]\u001b[0m Trial 11 finished with value: 0.03141842282258206 and parameters: {'lambda': 0.001060052872553835, 'alpha': 6.572644971523398, 'colsample_bytree': 5.878886543446816e-08, 'subsample': 0.5, 'learning_rate': 0.016823959948578805, 'n_estimators': 588, 'max_depth': 67, 'min_child_weight': 191, 'eta': 9.745001623527332e-07, 'gamma': 0.00036055679880023006, 'grow_policy': 'lossguide'}. Best is trial 10 with value: 0.03141469888041913.\u001b[0m\n",
      "\u001b[32m[I 2021-09-16 14:58:32,925]\u001b[0m Trial 12 finished with value: 0.03141734582863778 and parameters: {'lambda': 0.0011760743781680531, 'alpha': 9.730603074179873, 'colsample_bytree': 2.2054782913315335e-08, 'subsample': 0.5, 'learning_rate': 0.024171516748272337, 'n_estimators': 639, 'max_depth': 70, 'min_child_weight': 215, 'eta': 1.6939279886991866e-06, 'gamma': 0.0001927107840251023, 'grow_policy': 'lossguide'}. Best is trial 10 with value: 0.03141469888041913.\u001b[0m\n",
      "\u001b[32m[I 2021-09-16 14:58:50,993]\u001b[0m Trial 13 finished with value: 0.031415736275958964 and parameters: {'lambda': 0.0010189982878244658, 'alpha': 5.984041134029681, 'colsample_bytree': 1.7380565909510804e-08, 'subsample': 0.5, 'learning_rate': 0.04034756747516392, 'n_estimators': 603, 'max_depth': 69, 'min_child_weight': 228, 'eta': 4.820267680648364e-06, 'gamma': 0.00011449281936558118, 'grow_policy': 'lossguide'}. Best is trial 10 with value: 0.03141469888041913.\u001b[0m\n",
      "\u001b[32m[I 2021-09-16 14:58:55,148]\u001b[0m Trial 14 finished with value: 0.031526736658935024 and parameters: {'lambda': 0.005275042604487351, 'alpha': 1.8165523059685966, 'colsample_bytree': 5.673521334810936e-07, 'subsample': 0.5, 'learning_rate': 0.0443532720779484, 'n_estimators': 112, 'max_depth': 61, 'min_child_weight': 250, 'eta': 1.8056391889642842e-08, 'gamma': 4.176649728444231e-05, 'grow_policy': 'lossguide'}. Best is trial 10 with value: 0.03141469888041913.\u001b[0m\n",
      "\u001b[32m[I 2021-09-16 14:59:14,110]\u001b[0m Trial 15 finished with value: 0.03142291596053987 and parameters: {'lambda': 0.00603882552134704, 'alpha': 2.0773384779850694, 'colsample_bytree': 4.5731416372375013e-07, 'subsample': 0.5, 'learning_rate': 0.05434972075344691, 'n_estimators': 537, 'max_depth': 41, 'min_child_weight': 300, 'eta': 2.240118876696599e-05, 'gamma': 0.0007765042993438066, 'grow_policy': 'lossguide'}. Best is trial 10 with value: 0.03141469888041913.\u001b[0m\n",
      "\u001b[32m[I 2021-09-16 14:59:29,959]\u001b[0m Trial 16 finished with value: 0.03172887997667779 and parameters: {'lambda': 0.0026500904250189626, 'alpha': 2.2357722035117593, 'colsample_bytree': 2.521562488027796e-07, 'subsample': 0.5, 'learning_rate': 0.008362355523103744, 'n_estimators': 549, 'max_depth': 61, 'min_child_weight': 227, 'eta': 2.739732505288471e-07, 'gamma': 2.9190720274818162e-05, 'grow_policy': 'lossguide'}. Best is trial 10 with value: 0.03141469888041913.\u001b[0m\n",
      "\u001b[32m[I 2021-09-16 15:00:28,314]\u001b[0m Trial 17 finished with value: 0.0317896340045194 and parameters: {'lambda': 0.023961107683289684, 'alpha': 0.045307593216992646, 'colsample_bytree': 2.3965344375607436e-06, 'subsample': 1.0, 'learning_rate': 0.030050871970393134, 'n_estimators': 681, 'max_depth': 64, 'min_child_weight': 163, 'eta': 1.672833590450458e-05, 'gamma': 1.0174717773689932e-05, 'grow_policy': 'lossguide'}. Best is trial 10 with value: 0.03141469888041913.\u001b[0m\n",
      "\u001b[32m[I 2021-09-16 15:00:45,595]\u001b[0m Trial 18 finished with value: 0.04776552544972411 and parameters: {'lambda': 0.002463555472288698, 'alpha': 0.7640596799392446, 'colsample_bytree': 2.392424195351468e-08, 'subsample': 0.6, 'learning_rate': 0.004296387639163927, 'n_estimators': 607, 'max_depth': 35, 'min_child_weight': 206, 'eta': 1.5689709030449338e-07, 'gamma': 0.0021773816205835042, 'grow_policy': 'lossguide'}. Best is trial 10 with value: 0.03141469888041913.\u001b[0m\n",
      "\u001b[32m[I 2021-09-16 15:01:01,348]\u001b[0m Trial 19 finished with value: 0.03141484236196946 and parameters: {'lambda': 0.01756608372808264, 'alpha': 4.8620934128336755, 'colsample_bytree': 1.0523522464230327e-08, 'subsample': 0.4, 'learning_rate': 0.08928641422667462, 'n_estimators': 522, 'max_depth': 56, 'min_child_weight': 238, 'eta': 1.4980140540485327e-05, 'gamma': 2.246434833894935e-06, 'grow_policy': 'lossguide'}. Best is trial 10 with value: 0.03141469888041913.\u001b[0m\n",
      "\u001b[32m[I 2021-09-16 15:01:22,795]\u001b[0m Trial 20 finished with value: 0.0316681337631054 and parameters: {'lambda': 0.012347879156698317, 'alpha': 0.7614267093629186, 'colsample_bytree': 1.4179752314969155e-07, 'subsample': 0.4, 'learning_rate': 0.09732913100742743, 'n_estimators': 505, 'max_depth': 56, 'min_child_weight': 273, 'eta': 3.496892999857379e-05, 'gamma': 1.174419178247997e-06, 'grow_policy': 'lossguide'}. Best is trial 10 with value: 0.03141469888041913.\u001b[0m\n",
      "\u001b[32m[I 2021-09-16 15:01:39,783]\u001b[0m Trial 21 finished with value: 0.03141676361335906 and parameters: {'lambda': 0.0025393650825546576, 'alpha': 5.878148784351962, 'colsample_bytree': 1.3086028038899526e-08, 'subsample': 0.4, 'learning_rate': 0.07077360554423333, 'n_estimators': 569, 'max_depth': 69, 'min_child_weight': 241, 'eta': 2.0889482962386696e-06, 'gamma': 2.736275627708865e-06, 'grow_policy': 'lossguide'}. Best is trial 10 with value: 0.03141469888041913.\u001b[0m\n",
      "\u001b[32m[I 2021-09-16 15:01:59,163]\u001b[0m Trial 22 finished with value: 0.03142515530476245 and parameters: {'lambda': 0.0010502634162238072, 'alpha': 4.476742092396755, 'colsample_bytree': 1.089057895422851e-08, 'subsample': 0.4, 'learning_rate': 0.2906337574805309, 'n_estimators': 644, 'max_depth': 59, 'min_child_weight': 153, 'eta': 7.4933440204264725e-06, 'gamma': 1.4340975627709478e-07, 'grow_policy': 'lossguide'}. Best is trial 10 with value: 0.03141469888041913.\u001b[0m\n",
      "\u001b[32m[I 2021-09-16 15:02:15,083]\u001b[0m Trial 23 finished with value: 0.03141553317035597 and parameters: {'lambda': 0.01079250924385665, 'alpha': 3.0103439387153017, 'colsample_bytree': 8.693035426596011e-07, 'subsample': 0.5, 'learning_rate': 0.017691572989847523, 'n_estimators': 509, 'max_depth': 49, 'min_child_weight': 189, 'eta': 3.1163650373777334e-07, 'gamma': 6.028303718012405e-05, 'grow_policy': 'lossguide'}. Best is trial 10 with value: 0.03141469888041913.\u001b[0m\n",
      "\u001b[32m[I 2021-09-16 15:02:30,547]\u001b[0m Trial 24 finished with value: 0.03141569693428684 and parameters: {'lambda': 0.011490166031057864, 'alpha': 2.5405809925815097, 'colsample_bytree': 1.6351742119959875e-06, 'subsample': 0.5, 'learning_rate': 0.016155710301399267, 'n_estimators': 489, 'max_depth': 45, 'min_child_weight': 185, 'eta': 3.1921129280213844e-07, 'gamma': 2.3708415382635342e-05, 'grow_policy': 'lossguide'}. Best is trial 10 with value: 0.03141469888041913.\u001b[0m\n",
      "\u001b[32m[I 2021-09-16 15:02:46,002]\u001b[0m Trial 25 finished with value: 0.04032765084881746 and parameters: {'lambda': 0.1876580228919526, 'alpha': 0.514035204205164, 'colsample_bytree': 9.154977441099854e-08, 'subsample': 0.4, 'learning_rate': 0.005631194278211323, 'n_estimators': 524, 'max_depth': 49, 'min_child_weight': 203, 'eta': 6.906717014493264e-08, 'gamma': 0.001336293215784533, 'grow_policy': 'lossguide'}. Best is trial 10 with value: 0.03141469888041913.\u001b[0m\n",
      "\u001b[32m[I 2021-09-16 15:02:59,289]\u001b[0m Trial 26 finished with value: 0.031512460418756376 and parameters: {'lambda': 0.037058512297688716, 'alpha': 1.2647080380925724, 'colsample_bytree': 1.7135884980697506e-06, 'subsample': 0.5, 'learning_rate': 0.011461492576479349, 'n_estimators': 444, 'max_depth': 36, 'min_child_weight': 140, 'eta': 6.013756847872837e-07, 'gamma': 6.870474590221312e-05, 'grow_policy': 'depthwise'}. Best is trial 10 with value: 0.03141469888041913.\u001b[0m\n",
      "\u001b[32m[I 2021-09-16 15:03:13,461]\u001b[0m Trial 27 finished with value: 0.03141462001777752 and parameters: {'lambda': 0.01125430314778665, 'alpha': 3.4969323778087182, 'colsample_bytree': 8.854223842302385e-06, 'subsample': 0.6, 'learning_rate': 0.02073510114991492, 'n_estimators': 448, 'max_depth': 42, 'min_child_weight': 249, 'eta': 7.889384823763994e-05, 'gamma': 2.848789573900664e-06, 'grow_policy': 'lossguide'}. Best is trial 27 with value: 0.03141462001777752.\u001b[0m\n",
      "\u001b[32m[I 2021-09-16 15:03:27,260]\u001b[0m Trial 28 finished with value: 0.03141810699306002 and parameters: {'lambda': 0.3953278570281175, 'alpha': 9.534432042976903, 'colsample_bytree': 1.0777017282609233e-05, 'subsample': 0.6, 'learning_rate': 0.024444771196501295, 'n_estimators': 443, 'max_depth': 42, 'min_child_weight': 258, 'eta': 6.180282023497336e-05, 'gamma': 3.599934117057646e-06, 'grow_policy': 'lossguide'}. Best is trial 27 with value: 0.03141462001777752.\u001b[0m\n",
      "\u001b[32m[I 2021-09-16 15:03:48,349]\u001b[0m Trial 29 finished with value: 0.0322060002963094 and parameters: {'lambda': 0.0775547202235775, 'alpha': 0.062042119939935345, 'colsample_bytree': 6.890499306203243e-08, 'subsample': 0.6, 'learning_rate': 0.14367268143384437, 'n_estimators': 334, 'max_depth': 34, 'min_child_weight': 300, 'eta': 0.002681258796942924, 'gamma': 1.1820711780056163e-07, 'grow_policy': 'depthwise'}. Best is trial 27 with value: 0.03141462001777752.\u001b[0m\n",
      "\u001b[32m[I 2021-09-16 15:03:55,824]\u001b[0m Trial 30 finished with value: 0.031432477289425616 and parameters: {'lambda': 0.00458142312691959, 'alpha': 1.213553948816575, 'colsample_bytree': 0.0002798635153827428, 'subsample': 0.6, 'learning_rate': 0.06921139689207148, 'n_estimators': 181, 'max_depth': 12, 'min_child_weight': 274, 'eta': 0.03713446981105043, 'gamma': 8.784631293223108e-06, 'grow_policy': 'lossguide'}. Best is trial 27 with value: 0.03141462001777752.\u001b[0m\n",
      "\u001b[32m[I 2021-09-16 15:04:07,594]\u001b[0m Trial 31 finished with value: 0.03158551992674456 and parameters: {'lambda': 0.013599783124628225, 'alpha': 3.7283897562670267, 'colsample_bytree': 4.002501306361182e-07, 'subsample': 1.0, 'learning_rate': 0.010666927509786027, 'n_estimators': 456, 'max_depth': 50, 'min_child_weight': 229, 'eta': 7.38912772521083e-08, 'gamma': 9.888375648236337e-06, 'grow_policy': 'lossguide'}. Best is trial 27 with value: 0.03141462001777752.\u001b[0m\n",
      "\u001b[32m[I 2021-09-16 15:04:24,671]\u001b[0m Trial 32 finished with value: 0.03141947985786032 and parameters: {'lambda': 0.02778847377049036, 'alpha': 3.367188254639441, 'colsample_bytree': 2.1269620027551194e-06, 'subsample': 0.6, 'learning_rate': 0.02980570174725087, 'n_estimators': 521, 'max_depth': 55, 'min_child_weight': 12, 'eta': 7.165337046222349e-05, 'gamma': 1.158280541239239e-06, 'grow_policy': 'lossguide'}. Best is trial 27 with value: 0.03141462001777752.\u001b[0m\n",
      "\u001b[32m[I 2021-09-16 15:04:41,189]\u001b[0m Trial 33 finished with value: 0.031431888845484285 and parameters: {'lambda': 0.009501544862946814, 'alpha': 0.37608815932937184, 'colsample_bytree': 1.7177893221586124e-05, 'subsample': 0.7, 'learning_rate': 0.017640306522350012, 'n_estimators': 418, 'max_depth': 45, 'min_child_weight': 183, 'eta': 1.3577420534967273e-08, 'gamma': 3.233026199117574e-07, 'grow_policy': 'lossguide'}. Best is trial 27 with value: 0.03141462001777752.\u001b[0m\n",
      "\u001b[32m[I 2021-09-16 15:04:51,505]\u001b[0m Trial 34 finished with value: 0.14546932961672643 and parameters: {'lambda': 0.1270458729519508, 'alpha': 1.131180294329402, 'colsample_bytree': 4.8139345914248664e-08, 'subsample': 0.4, 'learning_rate': 0.0036181162737850964, 'n_estimators': 346, 'max_depth': 38, 'min_child_weight': 210, 'eta': 9.048181871522476e-06, 'gamma': 0.0003214066914109546, 'grow_policy': 'lossguide'}. Best is trial 27 with value: 0.03141462001777752.\u001b[0m\n",
      "\u001b[32m[I 2021-09-16 15:05:07,431]\u001b[0m Trial 35 finished with value: 0.031421947141225044 and parameters: {'lambda': 0.0034636933206956687, 'alpha': 3.196517197768693, 'colsample_bytree': 4.6966778641207145e-06, 'subsample': 0.5, 'learning_rate': 0.10439117283885714, 'n_estimators': 478, 'max_depth': 57, 'min_child_weight': 258, 'eta': 2.229343661618779e-06, 'gamma': 3.0151781783496897e-06, 'grow_policy': 'lossguide'}. Best is trial 27 with value: 0.03141462001777752.\u001b[0m\n",
      "\u001b[32m[I 2021-09-16 15:05:41,954]\u001b[0m Trial 36 finished with value: 0.03149261322424795 and parameters: {'lambda': 0.008160157503196689, 'alpha': 0.021641819676754083, 'colsample_bytree': 3.4661969806398354e-05, 'subsample': 0.6, 'learning_rate': 0.016019152071095312, 'n_estimators': 563, 'max_depth': 32, 'min_child_weight': 166, 'eta': 0.000972648411072633, 'gamma': 3.3602788112544205e-07, 'grow_policy': 'lossguide'}. Best is trial 27 with value: 0.03141462001777752.\u001b[0m\n",
      "\u001b[32m[I 2021-09-16 15:06:16,742]\u001b[0m Trial 37 finished with value: 0.03155175300236398 and parameters: {'lambda': 0.019716865600397877, 'alpha': 0.3431979571373966, 'colsample_bytree': 8.976634729800042e-07, 'subsample': 0.7, 'learning_rate': 0.034063905372980756, 'n_estimators': 632, 'max_depth': 65, 'min_child_weight': 194, 'eta': 7.563944819330636e-07, 'gamma': 2.1070400041113472e-05, 'grow_policy': 'lossguide'}. Best is trial 27 with value: 0.03141462001777752.\u001b[0m\n",
      "\u001b[32m[I 2021-09-16 15:06:30,384]\u001b[0m Trial 38 finished with value: 0.033097023205873995 and parameters: {'lambda': 0.046556304976002064, 'alpha': 1.5486443127754717, 'colsample_bytree': 0.002463509631095819, 'subsample': 0.4, 'learning_rate': 0.00807691601125746, 'n_estimators': 471, 'max_depth': 53, 'min_child_weight': 243, 'eta': 0.7874939777712406, 'gamma': 6.437027000688766e-08, 'grow_policy': 'depthwise'}. Best is trial 27 with value: 0.03141462001777752.\u001b[0m\n",
      "\u001b[32m[I 2021-09-16 15:06:41,520]\u001b[0m Trial 39 finished with value: 0.2940613512579525 and parameters: {'lambda': 0.0018910216422894852, 'alpha': 5.134269218599286, 'colsample_bytree': 1.834339779305453e-07, 'subsample': 0.5, 'learning_rate': 0.0014401275004312813, 'n_estimators': 371, 'max_depth': 45, 'min_child_weight': 138, 'eta': 1.0704509937927448e-05, 'gamma': 8.096274378975099e-07, 'grow_policy': 'lossguide'}. Best is trial 27 with value: 0.03141462001777752.\u001b[0m\n",
      "\u001b[32m[I 2021-09-16 15:07:12,090]\u001b[0m Trial 40 finished with value: 0.03144001166951796 and parameters: {'lambda': 0.25799858118756447, 'alpha': 0.1059080570227704, 'colsample_bytree': 0.0006019734803885536, 'subsample': 0.8, 'learning_rate': 0.02162823474030908, 'n_estimators': 503, 'max_depth': 51, 'min_child_weight': 110, 'eta': 0.00012918900044782072, 'gamma': 0.41086267795113396, 'grow_policy': 'lossguide'}. Best is trial 27 with value: 0.03141462001777752.\u001b[0m\n",
      "\u001b[32m[I 2021-09-16 15:07:27,419]\u001b[0m Trial 41 finished with value: 0.03141652305215332 and parameters: {'lambda': 0.011781923365447236, 'alpha': 3.369079625345852, 'colsample_bytree': 1.1269377218626005e-06, 'subsample': 0.5, 'learning_rate': 0.013220276883142925, 'n_estimators': 497, 'max_depth': 44, 'min_child_weight': 175, 'eta': 2.8070110976563913e-07, 'gamma': 1.7344087141946056e-05, 'grow_policy': 'lossguide'}. Best is trial 27 with value: 0.03141462001777752.\u001b[0m\n",
      "\u001b[32m[I 2021-09-16 15:07:39,818]\u001b[0m Trial 42 finished with value: 0.04600165357068977 and parameters: {'lambda': 5.634897558341312, 'alpha': 0.0011441474871379006, 'colsample_bytree': 3.6559101823763176e-06, 'subsample': 0.5, 'learning_rate': 0.006362776205382682, 'n_estimators': 420, 'max_depth': 48, 'min_child_weight': 221, 'eta': 1.5211212566807332e-07, 'gamma': 7.268266557378106e-05, 'grow_policy': 'lossguide'}. Best is trial 27 with value: 0.03141462001777752.\u001b[0m\n",
      "\u001b[32m[I 2021-09-16 15:07:58,414]\u001b[0m Trial 43 finished with value: 0.031414262434034085 and parameters: {'lambda': 0.008014543381869537, 'alpha': 2.4376379024594264, 'colsample_bytree': 0.00012718449466641497, 'subsample': 0.5, 'learning_rate': 0.019671495965030237, 'n_estimators': 581, 'max_depth': 39, 'min_child_weight': 189, 'eta': 3.6558870963350524e-08, 'gamma': 3.621358902386319e-06, 'grow_policy': 'lossguide'}. Best is trial 43 with value: 0.031414262434034085.\u001b[0m\n",
      "\u001b[32m[I 2021-09-16 15:08:16,232]\u001b[0m Trial 44 finished with value: 0.03141827283171179 and parameters: {'lambda': 0.0039839483770015205, 'alpha': 9.860277454718755, 'colsample_bytree': 0.00010601523338292827, 'subsample': 0.5, 'learning_rate': 0.02133910562322644, 'n_estimators': 592, 'max_depth': 38, 'min_child_weight': 198, 'eta': 4.2999202030640714e-08, 'gamma': 4.667105314323652e-06, 'grow_policy': 'lossguide'}. Best is trial 43 with value: 0.031414262434034085.\u001b[0m\n",
      "\u001b[32m[I 2021-09-16 15:08:59,356]\u001b[0m Trial 45 finished with value: 0.031523957484251304 and parameters: {'lambda': 0.0018606772571203279, 'alpha': 0.002851615952273415, 'colsample_bytree': 2.22121155047913e-05, 'subsample': 1.0, 'learning_rate': 0.00953000334812395, 'n_estimators': 558, 'max_depth': 31, 'min_child_weight': 154, 'eta': 4.3159628335224194e-06, 'gamma': 1.8292666620096725e-06, 'grow_policy': 'depthwise'}. Best is trial 43 with value: 0.031414262434034085.\u001b[0m\n",
      "\u001b[32m[I 2021-09-16 15:15:06,066]\u001b[0m Trial 46 finished with value: 0.03138452681495115 and parameters: {'lambda': 0.006943663009626057, 'alpha': 7.204777873898391, 'colsample_bytree': 0.7229522133307748, 'subsample': 0.8, 'learning_rate': 0.013248577512729443, 'n_estimators': 621, 'max_depth': 39, 'min_child_weight': 287, 'eta': 2.0931718433033757e-08, 'gamma': 1.3691615639471207e-08, 'grow_policy': 'lossguide'}. Best is trial 46 with value: 0.03138452681495115.\u001b[0m\n",
      "\u001b[32m[I 2021-09-16 15:16:29,357]\u001b[0m Trial 47 finished with value: 0.03617660394930845 and parameters: {'lambda': 0.006743434690715236, 'alpha': 5.932939497257648, 'colsample_bytree': 0.9424933199610779, 'subsample': 0.8, 'learning_rate': 0.004993897293573641, 'n_estimators': 659, 'max_depth': 30, 'min_child_weight': 284, 'eta': 2.261671837610151e-08, 'gamma': 2.1514069037876162e-08, 'grow_policy': 'lossguide'}. Best is trial 46 with value: 0.03138452681495115.\u001b[0m\n",
      "\u001b[32m[I 2021-09-16 15:16:52,823]\u001b[0m Trial 48 finished with value: 0.03141617981424015 and parameters: {'lambda': 0.016427210751286555, 'alpha': 1.8984728277947556, 'colsample_bytree': 0.012986786148670772, 'subsample': 0.8, 'learning_rate': 0.014023522107456516, 'n_estimators': 612, 'max_depth': 25, 'min_child_weight': 286, 'eta': 0.0006691036134643416, 'gamma': 3.834784554382762e-08, 'grow_policy': 'lossguide'}. Best is trial 46 with value: 0.03138452681495115.\u001b[0m\n",
      "\u001b[32m[I 2021-09-16 15:17:34,064]\u001b[0m Trial 49 finished with value: 0.03139803186274436 and parameters: {'lambda': 0.03538027834719361, 'alpha': 7.409877763519909, 'colsample_bytree': 0.07213885012150727, 'subsample': 0.8, 'learning_rate': 0.06177642957721243, 'n_estimators': 672, 'max_depth': 40, 'min_child_weight': 265, 'eta': 1.0880670356935138e-08, 'gamma': 1.2267182964914173e-08, 'grow_policy': 'depthwise'}. Best is trial 46 with value: 0.03138452681495115.\u001b[0m\n"
     ]
    },
    {
     "data": {
      "text/plain": [
       "{'lambda': 0.006943663009626057,\n",
       " 'alpha': 7.204777873898391,\n",
       " 'colsample_bytree': 0.7229522133307748,\n",
       " 'subsample': 0.8,\n",
       " 'learning_rate': 0.013248577512729443,\n",
       " 'n_estimators': 621,\n",
       " 'max_depth': 39,\n",
       " 'min_child_weight': 287,\n",
       " 'eta': 2.0931718433033757e-08,\n",
       " 'gamma': 1.3691615639471207e-08,\n",
       " 'grow_policy': 'lossguide'}"
      ]
     },
     "execution_count": 25,
     "metadata": {},
     "output_type": "execute_result"
    }
   ],
   "source": [
    "study = optuna.create_study(direction='minimize')\n",
    "study.optimize(objective_wp1_4, n_trials=50)\n",
    "#write_results('Data/Hyperparametrization/xgboost_vmd_50trials.xlsx', 'wp1', study.trials_dataframe())\n",
    "best_trial = study.best_trial.params\n",
    "best_trial"
   ]
  },
  {
   "cell_type": "code",
   "execution_count": 40,
   "id": "4014fd48-da04-4e00-9894-bdd1424e2935",
   "metadata": {},
   "outputs": [],
   "source": [
    "param_1_vmf1 = {'lambda': 3.8869492837835624, \n",
    "                'alpha': 0.04005974323232078,\n",
    "                'colsample_bytree': 0.0771186144640795, \n",
    "                'subsample': 0.4,\n",
    "                'learning_rate': 0.09581017787881291,\n",
    "                'n_estimators': 425, \n",
    "                'max_depth': 14, \n",
    "                'min_child_weight': 32,\n",
    "                'eta': 6.576929683032713e-07,\n",
    "                'gamma': 8.647469988990901e-05,\n",
    "                'grow_policy': 'lossguide'}\n"
   ]
  },
  {
   "cell_type": "markdown",
   "id": "2d4d08ad-3af3-408b-8834-57c1349d328a",
   "metadata": {},
   "source": [
    "## WP2"
   ]
  },
  {
   "cell_type": "markdown",
   "id": "d4e11c2c-ca88-4828-bd30-2cbff1e0933b",
   "metadata": {},
   "source": [
    "| |  | Mean | Std | Sum up |\n",
    "| --- | --- | --- | --- | --- |\n",
    "| No params | RMSE | 0.09275649653219382 | 0.0018096321280782113 |  |\n",
    "| No params - MaxAbs | RMSE | 0.09230889203333872 | 0.0020804503145906636 |  |\n",
    "| After tuning 100trials| RMSE | 0.07182012947223423 | 0.0012496316182635523 |  |\n",
    "| After tuning 50trials - MaxAbs | RMSE | 0.06859684788065064 | 0.0016932252507600254 |  |\n",
    "| --- | --- | --- | --- | --- |\n",
    "| No params | MAE | 0.0639385458606043 | 0.0009679991365400539 |  |\n",
    "| No params - MaxAbs | MAE | 0.06371111009968947 | 0.001194440893727917 |  |\n",
    "| After tuning 100trials| MAE | 0.04649572151134333 | 0.0006489429134030307 |  |\n",
    "| After tuning 50trials - MaxAbs | MAE | 0.044900768162719054 | 0.0006831432438047666 |  |"
   ]
  },
  {
   "cell_type": "code",
   "execution_count": 22,
   "id": "e6b8fee4-9fba-4818-a7df-29cd5d3806ad",
   "metadata": {},
   "outputs": [],
   "source": [
    "wp2_X = train_wp2[[c for c in train_wp2 if c not in [\"wp\"]] + [\"wp\"]].drop(to_drop, axis = 1)\n",
    "X2 = wp2_X.drop('wp', axis=1)\n",
    "y2 = wp2_X['wp']\n",
    "\n",
    "def objective_wp2(trial,data = X2,target = y2):\n",
    "    train_x, test_x, train_y, test_y = train_test_split(data, target, test_size=0.15,random_state=42)\n",
    "    return hyperparametrization(trial, train_x, test_x, train_y, test_y)"
   ]
  },
  {
   "cell_type": "code",
   "execution_count": 23,
   "id": "e297d1bd-f11e-4f8b-9fe2-634e78ca9c85",
   "metadata": {
    "tags": []
   },
   "outputs": [],
   "source": [
    "# xgboost_cross_validation(X2, y2, None)"
   ]
  },
  {
   "cell_type": "code",
   "execution_count": 24,
   "id": "e213fa38-9021-4daa-8d27-550c87fdfe4e",
   "metadata": {
    "tags": []
   },
   "outputs": [],
   "source": [
    "# try_these_first = [{\n",
    "#     'lambda': 2.1359622347936646,\n",
    "#     'alpha': 0.016202766042783825,\n",
    "#     'colsample_bytree': 0.8075360516891219,\n",
    "#     'subsample': 0.8,\n",
    "#     'learning_rate': 0.06792370224097045,\n",
    "#     'n_estimators': 320,\n",
    "#     'max_depth': 58,\n",
    "#     'min_child_weight': 102,\n",
    "#     'eta': 6.934521001624072e-05,\n",
    "#     'gamma': 4.369012735807193e-06,\n",
    "#     'grow_policy': 'lossguide'\n",
    "# }]\n",
    "\n",
    "# study = optuna.create_study(direction='minimize')\n",
    "# study.enqueue_trial(try_these_first[0])"
   ]
  },
  {
   "cell_type": "code",
   "execution_count": 25,
   "id": "0728372a-8909-4a7a-8cdc-be27e96cfc70",
   "metadata": {
    "tags": []
   },
   "outputs": [],
   "source": [
    "# # study = optuna.create_study(direction='minimize')\n",
    "# study.optimize(objective_wp2, n_trials=50)\n",
    "# # write_results('Data/Hyperparametrization/xgboost_50trials.xlsx', 'wp2', study.trials_dataframe())\n",
    "# best_trial = study.best_trial.params\n",
    "# best_trial"
   ]
  },
  {
   "cell_type": "code",
   "execution_count": 26,
   "id": "9ae90b08-6b61-4c17-90d8-a0d0c0f8a455",
   "metadata": {},
   "outputs": [],
   "source": [
    "# 50 tirals - warm start MaxAbs\n",
    "params_2 = {\n",
    "    'lambda': 0.005195058020286749,\n",
    "    'alpha': 0.15427340616771562,\n",
    "    'colsample_bytree': 0.4794118698886291,\n",
    "    'subsample': 0.7,\n",
    "    'learning_rate': 0.13969003989794868,\n",
    "    'n_estimators': 583,\n",
    "    'max_depth': 20,\n",
    "    'min_child_weight': 81,\n",
    "    'eta': 0.0006994052800675432,\n",
    "    'gamma': 4.0927842177131904e-08,\n",
    "    'grow_policy': 'depthwise'\n",
    "}\n",
    "\n",
    "# {\n",
    "#     'lambda': 4.982427302967441,\n",
    "#     'alpha': 0.023879453147379343,\n",
    "#     'colsample_bytree': 0.29850970311481473,\n",
    "#     'subsample': 0.7,\n",
    "#     'learning_rate': 0.07986759823219342,\n",
    "#     'n_estimators': 634,\n",
    "#     'max_depth': 52,\n",
    "#     'min_child_weight': 142,\n",
    "#     'eta': 0.9698508070965183,\n",
    "#     'gamma': 6.168834828494383e-06,\n",
    "#     'grow_policy': 'depthwise'\n",
    "# }"
   ]
  },
  {
   "cell_type": "code",
   "execution_count": 27,
   "id": "4deb0297-bfb2-491c-9885-9795b2596248",
   "metadata": {
    "tags": []
   },
   "outputs": [],
   "source": [
    "# xgboost_cross_validation(X2, y2, params_2)"
   ]
  },
  {
   "cell_type": "markdown",
   "id": "966468d2-d1a2-4c0a-a190-c37d85ef61f5",
   "metadata": {},
   "source": [
    "## WP3"
   ]
  },
  {
   "cell_type": "markdown",
   "id": "ea949960-82ce-47cc-8a25-5bc0cc56b1d0",
   "metadata": {},
   "source": [
    "| |  | Mean | Std | Sum up |\n",
    "| --- | --- | --- | --- | --- |\n",
    "| No params | RMSE | 0.08531695654385577 | 0.0009512381902157176 |  |\n",
    "| No params - MaxAbs | RMSE | 0.08509439114002723 | 0.0018013097694686512 |  |\n",
    "| After tuning 100trials| RMSE | 0.0573197789387906 | 0.0008490715337388156 |  |\n",
    "| After tuning 50trials - MaxAbs | RMSE | 0.057135478429648404 | 0.0010258941390154284 |  |\n",
    "| --- | --- | --- | --- | --- |\n",
    "| No params | MAE | 0.06125227568636895 | 0.000538637024754324 |  |\n",
    "| No params - MaxAbs | MAE | 0.06109215580462539 | 0.0011200741022377755 |  |\n",
    "| After tuning 100trials| MAE | 0.04009718047732659 | 0.000599116601355594 |  |\n",
    "| After tuning 50trials - MaxAbs | MAE | 0.040053630091772346 | 0.0006140572130488917 |  |"
   ]
  },
  {
   "cell_type": "code",
   "execution_count": 28,
   "id": "1a19adfe-a591-4616-827c-70140477879b",
   "metadata": {},
   "outputs": [],
   "source": [
    "wp3_X = train_wp3[[c for c in train_wp3 if c not in [\"wp\"]] + [\"wp\"]].drop(to_drop, axis = 1)\n",
    "X3 = wp3_X.drop('wp', axis = 1)\n",
    "y3 = wp3_X['wp']\n",
    "\n",
    "def objective_wp3(trial,data = X3,target = y3):\n",
    "    train_x, test_x, train_y, test_y = train_test_split(data, target, test_size=0.15,random_state=42)\n",
    "    return hyperparametrization(trial, train_x, test_x, train_y, test_y)"
   ]
  },
  {
   "cell_type": "code",
   "execution_count": 29,
   "id": "de738d33-8e08-49d4-af3f-0e3fc5609cec",
   "metadata": {
    "tags": []
   },
   "outputs": [],
   "source": [
    "# xgboost_cross_validation(X3, y3, None)"
   ]
  },
  {
   "cell_type": "code",
   "execution_count": 30,
   "id": "e1ad8300-f27f-4464-99f9-a759bd738650",
   "metadata": {
    "tags": []
   },
   "outputs": [],
   "source": [
    "# try_these_first = [{\n",
    "#     'lambda': 0.018191871915246106,\n",
    "#     'alpha': 0.2397827070234125,\n",
    "#     'colsample_bytree': 0.4710946041352672,\n",
    "#     'subsample': 0.8,\n",
    "#     'learning_rate': 0.14812785561924302,\n",
    "#     'n_estimators': 688,\n",
    "#     'max_depth': 32,\n",
    "#     'min_child_weight': 218,\n",
    "#     'eta': 6.950960910550952e-08,\n",
    "#     'gamma': 2.0149702062428016e-07,\n",
    "#     'grow_policy': 'lossguide'\n",
    "# }]\n",
    "\n",
    "# study = optuna.create_study(direction='minimize')\n",
    "# study.enqueue_trial(try_these_first[0])"
   ]
  },
  {
   "cell_type": "code",
   "execution_count": 31,
   "id": "76fcd3f6-9ee9-4a40-9208-371c72445408",
   "metadata": {
    "tags": []
   },
   "outputs": [],
   "source": [
    "# # study = optuna.create_study(direction='minimize')\n",
    "# study.optimize(objective_wp3, n_trials=50)\n",
    "# # write_results('Data/Hyperparametrization/xgboost_50trials.xlsx', 'wp3', study.trials_dataframe())\n",
    "# best_trial = study.best_trial.params\n",
    "# best_trial"
   ]
  },
  {
   "cell_type": "code",
   "execution_count": 32,
   "id": "0799bdb2-b009-446a-af9f-5f3e2fbed56b",
   "metadata": {},
   "outputs": [],
   "source": [
    "# 50 tirals - warm start MaxAbs\n",
    "params_3 = {\n",
    "    'lambda': 0.018191871915246106,\n",
    "    'alpha': 0.2397827070234125,\n",
    "    'colsample_bytree': 0.4710946041352672,\n",
    "    'subsample': 0.8,\n",
    "    'learning_rate': 0.14812785561924302,\n",
    "    'n_estimators': 688,\n",
    "    'max_depth': 32,\n",
    "    'min_child_weight': 218,\n",
    "    'eta': 6.950960910550952e-08,\n",
    "    'gamma': 2.0149702062428016e-07,\n",
    "    'grow_policy': 'lossguide'\n",
    "}\n",
    "\n",
    "# {\n",
    "#     'lambda': 0.018191871915246106,\n",
    "#     'alpha': 0.2397827070234125,\n",
    "#     'colsample_bytree': 0.4710946041352672,\n",
    "#     'subsample': 0.8,\n",
    "#     'learning_rate': 0.14812785561924302,\n",
    "#     'n_estimators': 688,\n",
    "#     'max_depth': 32,\n",
    "#     'min_child_weight': 218,\n",
    "#     'eta': 6.950960910550952e-08,\n",
    "#     'gamma': 2.0149702062428016e-07,\n",
    "#     'grow_policy': 'lossguide'\n",
    "# }"
   ]
  },
  {
   "cell_type": "code",
   "execution_count": 33,
   "id": "b0d45d0b-664c-4c89-8493-ed650660fb0e",
   "metadata": {
    "tags": []
   },
   "outputs": [],
   "source": [
    "# xgboost_cross_validation(X3, y3, params_3)"
   ]
  },
  {
   "cell_type": "markdown",
   "id": "cdc76c8c-9cc7-441f-b25e-e1ecf293298e",
   "metadata": {},
   "source": [
    "## WP4"
   ]
  },
  {
   "cell_type": "markdown",
   "id": "6d0fc24d-b30e-444a-8745-6231872dfe8b",
   "metadata": {},
   "source": [
    "| |  | Mean | Std | Sum up |\n",
    "| --- | --- | --- | --- | --- |\n",
    "| No params | RMSE | 0.08705646834205574 | 0.0013432615911574354 |  |\n",
    "| No params - MaxAbs | RMSE | 0.0870757500361273 | 0.0014362323840110152 |  |\n",
    "| After tuning 100trials| RMSE | 0.06505388151301929 | 0.0009022910606251192 |  |\n",
    "| After tuning 50trials - MaxAbs | RMSE | 0.0626312118373484 | 0.0010312894520400255 |  |\n",
    "| --- | --- | --- | --- | --- |\n",
    "| No params | MAE | 0.06217383365682638 | 0.000883527934746644 |  |\n",
    "| No params - MaxAbs | MAE | 0.062254149447791104 | 0.062254149447791104 |  |\n",
    "| After tuning 100trials| MAE | 0.043762279489834674 | 0.0004905220832103441 |  |\n",
    "| After tuning 50trials - MaxAbs | MAE | 0.041378801055099515 | 0.0007406645752025426 |  |"
   ]
  },
  {
   "cell_type": "code",
   "execution_count": 34,
   "id": "185fd52e-5fe9-4ab7-817d-03feda6a42ab",
   "metadata": {},
   "outputs": [],
   "source": [
    "wp4_X = train_wp4[[c for c in train_wp4 if c not in [\"wp\"]] + [\"wp\"]].drop(to_drop, axis = 1)\n",
    "X4 = wp4_X.drop('wp', axis = 1)\n",
    "y4 = wp4_X['wp']\n",
    "\n",
    "def objective_wp4(trial,data = X4,target = y4):\n",
    "    train_x, test_x, train_y, test_y = train_test_split(data, target, test_size=0.15,random_state=42)\n",
    "    return hyperparametrization(trial, train_x, test_x, train_y, test_y)"
   ]
  },
  {
   "cell_type": "code",
   "execution_count": 35,
   "id": "c96a6e3e-8a1b-4fe9-a162-1f2fa994023d",
   "metadata": {
    "tags": []
   },
   "outputs": [],
   "source": [
    "# xgboost_cross_validation(X4, y4, None)"
   ]
  },
  {
   "cell_type": "code",
   "execution_count": 36,
   "id": "4c106d90-e59c-44f4-8196-c0e1a8cc72fd",
   "metadata": {
    "tags": []
   },
   "outputs": [],
   "source": [
    "# try_these_first = [{\n",
    "#     'lambda': 0.001340947773207149,\n",
    "#     'alpha': 0.002479638085657274,\n",
    "#     'colsample_bytree': 0.3030181981060389,\n",
    "#     'subsample': 0.7,\n",
    "#     'learning_rate': 0.07696248319007938,\n",
    "#     'n_estimators': 367,\n",
    "#     'max_depth': 31,\n",
    "#     'min_child_weight': 72,\n",
    "#     'eta': 3.704957186572025e-08,\n",
    "#     'gamma': 8.44315434172209e-05,\n",
    "#     'grow_policy': 'depthwise'\n",
    "# }, {\n",
    "#     'lambda': 0.13763482520556616,\n",
    "#     'alpha': 0.0010077676339636944,\n",
    "#     'colsample_bytree': 0.954734556572597,\n",
    "#     'subsample': 0.8,\n",
    "#     'learning_rate': 0.05499114408834853,\n",
    "#     'n_estimators': 546,\n",
    "#     'max_depth': 43,\n",
    "#     'min_child_weight': 94,\n",
    "#     'eta': 1.2784286267654713e-06,\n",
    "#     'gamma': 1.6935174502873177e-05,\n",
    "#     'grow_policy': 'depthwise'\n",
    "# }]\n",
    "\n",
    "# study = optuna.create_study(direction='minimize')\n",
    "# study.enqueue_trial(try_these_first[0])"
   ]
  },
  {
   "cell_type": "code",
   "execution_count": 37,
   "id": "713019ee-cf12-4fa6-8971-7a09d0aa227a",
   "metadata": {
    "tags": []
   },
   "outputs": [],
   "source": [
    "# # study = optuna.create_study(direction='minimize')\n",
    "# study.optimize(objective_wp4, n_trials=50)\n",
    "# # write_results('Data/Hyperparametrization/xgboost_50trials.xlsx', 'wp4', study.trials_dataframe())\n",
    "# best_trial = study.best_trial.params\n",
    "# best_trial"
   ]
  },
  {
   "cell_type": "code",
   "execution_count": 38,
   "id": "fc00a25c-08c8-4cbe-9373-bcf6ad6b429a",
   "metadata": {},
   "outputs": [],
   "source": [
    "# 50 tirals - warm start MaxAbs\n",
    "params_4 = {\n",
    "    'lambda': 0.13763482520556616,\n",
    "    'alpha': 0.0010077676339636944,\n",
    "    'colsample_bytree': 0.954734556572597,\n",
    "    'subsample': 0.8,\n",
    "    'learning_rate': 0.05499114408834853,\n",
    "    'n_estimators': 546,\n",
    "    'max_depth': 43,\n",
    "    'min_child_weight': 94,\n",
    "    'eta': 1.2784286267654713e-06,\n",
    "    'gamma': 1.6935174502873177e-05,\n",
    "    'grow_policy': 'depthwise'\n",
    "}\n",
    "\n",
    "# 50 trials\n",
    "# params_4 = {\n",
    "#     'lambda': 0.001340947773207149,\n",
    "#     'alpha': 0.002479638085657274,\n",
    "#     'colsample_bytree': 0.3030181981060389,\n",
    "#     'subsample': 0.7,\n",
    "#     'learning_rate': 0.07696248319007938,\n",
    "#     'n_estimators': 367,\n",
    "#     'max_depth': 31,\n",
    "#     'min_child_weight': 72,\n",
    "#     'eta': 3.704957186572025e-08,\n",
    "#     'gamma': 8.44315434172209e-05,\n",
    "#     'grow_policy': 'depthwise'\n",
    "# }"
   ]
  },
  {
   "cell_type": "code",
   "execution_count": 39,
   "id": "731ce6d4-2612-45d6-8e37-89e2c27e9be1",
   "metadata": {
    "tags": []
   },
   "outputs": [],
   "source": [
    "# xgboost_cross_validation(X4, y4, params_4)"
   ]
  },
  {
   "cell_type": "markdown",
   "id": "640e4455-cfc5-493a-b3e6-95b608171368",
   "metadata": {},
   "source": [
    "## WP5"
   ]
  },
  {
   "cell_type": "markdown",
   "id": "71612300-2513-41b2-ac57-ae0a7050e60e",
   "metadata": {},
   "source": [
    "| |  | Mean | Std | Sum up |\n",
    "| --- | --- | --- | --- | --- |\n",
    "| No params | RMSE | 0.09905505938942759 | 0.0010560057294061722 |  |\n",
    "| No params - MaxAbs | RMSE | 0.09902019521905119 | 0.0013460300390687509 |  |\n",
    "| After tuning 100trials| RMSE | 0.07467175992757297 | 0.0018566395951414925 |  |\n",
    "| After tuning 50trials - MaxAbs | RMSE | 0.07315316873758233 | 0.0021847037668090933 |  |\n",
    "| --- | --- | --- | --- | --- |\n",
    "| No params | MAE | 0.0703001590429472 | 0.0006221166408279179 |  |\n",
    "| No params - MaxAbs | MAE | 0.07031017432456337 | 0.0008486582761726584 |  |\n",
    "| After tuning 100trials| MAE | 0.05087662307993675 | 0.0010894679027767663 |  |\n",
    "| After tuning 50trials - MaxAbs | MAE | 0.04890386336557044 | 0.0010155747369788642 |  |"
   ]
  },
  {
   "cell_type": "code",
   "execution_count": 40,
   "id": "44f38883-24ef-46f1-bc0b-1070f4e36d2f",
   "metadata": {},
   "outputs": [],
   "source": [
    "wp5_X = train_wp5[[c for c in train_wp5 if c not in [\"wp\"]] + [\"wp\"]].drop(to_drop, axis = 1)\n",
    "X5 = wp5_X.drop('wp', axis = 1)\n",
    "y5 = wp5_X['wp']\n",
    "\n",
    "def objective_wp5(trial, data = X5,target = y5):\n",
    "    train_x, test_x, train_y, test_y = train_test_split(data, target, test_size=0.15,random_state=42)\n",
    "    return hyperparametrization(trial, train_x, test_x, train_y, test_y)"
   ]
  },
  {
   "cell_type": "code",
   "execution_count": 41,
   "id": "c4ece078-3e34-4754-b23c-1ba712563b3e",
   "metadata": {
    "tags": []
   },
   "outputs": [],
   "source": [
    "# xgboost_cross_validation(X5, y5, None)"
   ]
  },
  {
   "cell_type": "code",
   "execution_count": 42,
   "id": "1ffc2ed8-3e6f-4cdf-89cb-7de6274b09f8",
   "metadata": {
    "tags": []
   },
   "outputs": [],
   "source": [
    "# try_these_first = [{\n",
    "#     'lambda': 4.537995153532639,\n",
    "#     'alpha': 0.15887083612902936,\n",
    "#     'colsample_bytree': 0.35129085402309673,\n",
    "#     'subsample': 0.8,\n",
    "#     'learning_rate': 0.20146110291550628,\n",
    "#     'n_estimators': 354,\n",
    "#     'max_depth': 27,\n",
    "#     'min_child_weight': 91,\n",
    "#     'eta': 0.1963402390178624,\n",
    "#     'gamma': 4.730295821405375e-07,\n",
    "#     'grow_policy': 'lossguide'\n",
    "# }]\n",
    "\n",
    "# study = optuna.create_study(direction='minimize')\n",
    "# study.enqueue_trial(try_these_first[0])"
   ]
  },
  {
   "cell_type": "code",
   "execution_count": 43,
   "id": "eaa2050d-bf47-4311-b386-0a8d40eae30b",
   "metadata": {
    "tags": []
   },
   "outputs": [],
   "source": [
    "# # study = optuna.create_study(direction='minimize')\n",
    "# study.optimize(objective_wp5, n_trials=50)\n",
    "# # write_results('Data/Hyperparametrization/xgboost_50trials.xlsx', 'wp5', study.trials_dataframe())\n",
    "# best_trial = study.best_trial.params\n",
    "# best_trial"
   ]
  },
  {
   "cell_type": "code",
   "execution_count": 44,
   "id": "dde520d3-4565-42ff-8382-d787e91e8c7b",
   "metadata": {},
   "outputs": [],
   "source": [
    "# 50 start warm - MaxAbs\n",
    "params_5 = {\n",
    "    'lambda': 4.7653031074423104,\n",
    "    'alpha': 0.004963619239675007,\n",
    "    'colsample_bytree': 0.8616303151950829,\n",
    "    'subsample': 0.8,\n",
    "    'learning_rate': 0.167247240657064,\n",
    "    'n_estimators': 509,\n",
    "    'max_depth': 31,\n",
    "    'min_child_weight': 73,\n",
    "    'eta': 0.1392993925005545,\n",
    "    'gamma': 1.4909263616645174e-07,\n",
    "    'grow_policy': 'depthwise'\n",
    "}\n",
    "\n",
    "# 50 trials\n",
    "# params_5 = {\n",
    "#     'lambda': 4.537995153532639,\n",
    "#     'alpha': 0.15887083612902936,\n",
    "#     'colsample_bytree': 0.35129085402309673,\n",
    "#     'subsample': 0.8,\n",
    "#     'learning_rate': 0.20146110291550628,\n",
    "#     'n_estimators': 354,\n",
    "#     'max_depth': 27,\n",
    "#     'min_child_weight': 91,\n",
    "#     'eta': 0.1963402390178624,\n",
    "#     'gamma': 4.730295821405375e-07,\n",
    "#     'grow_policy': 'lossguide'\n",
    "# }"
   ]
  },
  {
   "cell_type": "code",
   "execution_count": 45,
   "id": "c45f8446-417b-4fc3-8180-88c091fe37cf",
   "metadata": {
    "tags": []
   },
   "outputs": [],
   "source": [
    "# xgboost_cross_validation(X5, y5, params_5)"
   ]
  },
  {
   "cell_type": "markdown",
   "id": "ccd547b2-24e6-4023-8959-d7955620108f",
   "metadata": {},
   "source": [
    "## WP6"
   ]
  },
  {
   "cell_type": "markdown",
   "id": "985e4cda-ae75-4992-84af-b0c899c95cf8",
   "metadata": {},
   "source": [
    "| |  | Mean | Std | Sum up |\n",
    "| --- | --- | --- | --- | --- |\n",
    "| No params | RMSE |  0.07704369819527615 | 0.0010801451601647142 |  |\n",
    "| No params - MaxAbs | RMSE | 0.07724267929514025 | 0.0015012274298760973 |  |\n",
    "| After tuning 100trials| RMSE | 0.052403202133489465 | 0.0010631888908178239 |  |\n",
    "| After tuning 50trials - warm start - MaxAbs | RMSE | 0.051604419990347344 | 0.0008376347497504802 |  |\n",
    "| --- | --- | --- | --- | --- |\n",
    "| No params | MAE | 0.056804680824990995 | 0.000879205156712233 |  |\n",
    "| No params - MaxAbs | MAE | 0.0568038624920563 | 0.0007877324372786336 |  |\n",
    "| After tuning 100trials| MAE | 0.03630430575055383 | 0.0007604647331428116 |  |\n",
    "| After tuning 50trials - warm start - MaxAbs | MAE | 0.03479476729901705 | 0.0004812579905210939 |  |"
   ]
  },
  {
   "cell_type": "code",
   "execution_count": 46,
   "id": "da2f9ef4-ad90-4d75-9137-735cd41284fe",
   "metadata": {
    "tags": []
   },
   "outputs": [],
   "source": [
    "wp6_X = train_wp6[[c for c in train_wp6 if c not in [\"wp\"]] + [\"wp\"]].drop(to_drop, axis = 1)\n",
    "X6 = wp6_X.drop('wp', axis = 1)\n",
    "y6 = wp6_X['wp']\n",
    "\n",
    "def objective_wp6(trial,data = X6,target = y6):\n",
    "    train_x, test_x, train_y, test_y = train_test_split(data, target, test_size=0.15,random_state=42)\n",
    "    return hyperparametrization(trial, train_x, test_x, train_y, test_y)"
   ]
  },
  {
   "cell_type": "code",
   "execution_count": 47,
   "id": "9582d271-b478-4351-81aa-3be5cd3077b1",
   "metadata": {
    "tags": []
   },
   "outputs": [],
   "source": [
    "# xgboost_cross_validation(X6, y6, None)"
   ]
  },
  {
   "cell_type": "code",
   "execution_count": 48,
   "id": "7287de94-ab28-484e-a339-755b0de15920",
   "metadata": {
    "tags": []
   },
   "outputs": [],
   "source": [
    "# try_these_first = [{\n",
    "#     'lambda': 0.5705269295320163,\n",
    "#     'alpha': 0.06713843687958011,\n",
    "#     'colsample_bytree': 0.8718486759988152,\n",
    "#     'subsample': 0.8,\n",
    "#     'learning_rate': 0.07668854905667996,\n",
    "#     'n_estimators': 582,\n",
    "#     'max_depth': 49,\n",
    "#     'min_child_weight': 143,\n",
    "#     'eta': 9.055710235537663e-07,\n",
    "#     'gamma': 1.111486195598291e-06,\n",
    "#     'grow_policy': 'depthwise'\n",
    "# }]\n",
    "\n",
    "# study = optuna.create_study(direction='minimize')\n",
    "# study.enqueue_trial(try_these_first[0])"
   ]
  },
  {
   "cell_type": "code",
   "execution_count": 49,
   "id": "cf4cb7dd-bf83-4cd6-ac64-483e7c498375",
   "metadata": {
    "tags": []
   },
   "outputs": [],
   "source": [
    "# # study = optuna.create_study(direction='minimize')\n",
    "# study.optimize(objective_wp6, n_trials=50)\n",
    "# # write_results('Data/Hyperparametrization/xgboost_50trials.xlsx', 'wp6', study.trials_dataframe())\n",
    "# best_trial = study.best_trial.params\n",
    "# best_trial"
   ]
  },
  {
   "cell_type": "code",
   "execution_count": 50,
   "id": "267b98ff-3269-4adb-8f99-b7ce9bb55521",
   "metadata": {},
   "outputs": [],
   "source": [
    "# 50 start warm - MaxAbs\n",
    "params_6 = {\n",
    "    'lambda': 6.198890709955999,\n",
    "    'alpha': 0.009212761583335095,\n",
    "    'colsample_bytree': 0.9364947872025757,\n",
    "    'subsample': 0.6,\n",
    "    'learning_rate': 0.0377294321765545,\n",
    "    'n_estimators': 458,\n",
    "    'max_depth': 50,\n",
    "    'min_child_weight': 28,\n",
    "    'eta': 1.0671149195024988e-08,\n",
    "    'gamma': 1.4697758952551594e-05,\n",
    "    'grow_policy': 'depthwise'\n",
    "}\n",
    "\n",
    "\n",
    "# A REFAIRE TOURNER\n",
    "# {\n",
    "#     'lambda': 0.5705269295320163,\n",
    "#     'alpha': 0.06713843687958011,\n",
    "#     'colsample_bytree': 0.8718486759988152,\n",
    "#     'subsample': 0.8,\n",
    "#     'learning_rate': 0.07668854905667996,\n",
    "#     'n_estimators': 582,\n",
    "#     'max_depth': 49,\n",
    "#     'min_child_weight': 143,\n",
    "#     'eta': 9.055710235537663e-07,\n",
    "#     'gamma': 1.111486195598291e-06,\n",
    "#     'grow_policy': 'depthwise'\n",
    "# }"
   ]
  },
  {
   "cell_type": "code",
   "execution_count": 51,
   "id": "c6b49cfc-b7ed-4309-a114-0257264fe9bf",
   "metadata": {
    "tags": []
   },
   "outputs": [],
   "source": [
    "# xgboost_cross_validation(X6, y6, params_6)"
   ]
  },
  {
   "cell_type": "markdown",
   "id": "599f0c09-97e8-4e3b-a117-f707ed6235e2",
   "metadata": {},
   "source": [
    "# XGBoost Predictions"
   ]
  },
  {
   "cell_type": "markdown",
   "id": "2b0f85a0-3a62-4985-b2d6-8fa0aecc6a4b",
   "metadata": {},
   "source": [
    "## Functions"
   ]
  },
  {
   "cell_type": "code",
   "execution_count": 52,
   "id": "2e673e92-7f3f-4ffd-a822-c574b030dac4",
   "metadata": {},
   "outputs": [],
   "source": [
    "to_drop = ['date','wd','forecast_time', 'forecast', \"forecast_dist\", 'wp']\n",
    "def make_prediction_dataset(test, to_drop=to_drop):\n",
    "    test_to_predict = test.dropna(subset=['ws','u','v'], how = 'any') # keeps only lines with u,v,ws,wd\n",
    "    test_to_predict = test_to_predict[test_to_predict['wp'].isna()] # keeps only lines with no wp\n",
    "    test_to_predict = test_to_predict.sort_values(by=['date', 'forecast_time'], ascending = [True, False]).drop_duplicates(subset='date')\n",
    "    test_to_predict = test_to_predict.drop(to_drop, axis = 1)\n",
    "    return test_to_predict"
   ]
  },
  {
   "cell_type": "code",
   "execution_count": 53,
   "id": "911631de-e039-4791-885d-73d714bc3115",
   "metadata": {},
   "outputs": [],
   "source": [
    "def make_submission_file(lst_X_trains, lst_y_trains, lst_tests, lst_models, dates):\n",
    "    i = 1\n",
    "    lst_prediction = []\n",
    "    lst_models_trained = []\n",
    "    for X, y, test, model in zip(lst_X_trains, lst_y_trains, lst_tests, lst_models):\n",
    "        print(f'--------------Model {i}--------------')\n",
    "        model.fit(X, y)\n",
    "        print(f'True:\\n\\tMin:{min(y)}\\n\\tMax:{max(y)}\\n\\tMean:{y.mean()}')\n",
    "        predictions = model.predict(test)\n",
    "        print(f'Prediction:\\n\\tMin:{min(predictions)}\\n\\tMax:{max(predictions)}\\n\\tMean:{np.mean(predictions)}')\n",
    "        predictions = [min(y) if i < 0 else i for i in predictions]\n",
    "        predictions = [max(y) if i > max(y) else i for i in predictions]\n",
    "        print(f'Prediction corrected:\\n\\tMin:{min(predictions)}\\n\\tMax:{max(predictions)}\\n\\tMean:{np.mean(predictions)}')\n",
    "        lst_prediction.append(predictions)\n",
    "        lst_models_trained.append(model)\n",
    "        i+=1\n",
    "    \n",
    "    df_predictions = pd.DataFrame({\n",
    "        'date': test_dates,\n",
    "        'wp1': lst_prediction[0],\n",
    "        'wp2': lst_prediction[1],\n",
    "        'wp3': lst_prediction[2],\n",
    "        'wp4': lst_prediction[3],\n",
    "        'wp5': lst_prediction[4],\n",
    "        'wp6': lst_prediction[5],        \n",
    "    })\n",
    "    return df_predictions, lst_models_trained"
   ]
  },
  {
   "cell_type": "markdown",
   "id": "b413c6e2-20eb-425f-9376-29f19676626b",
   "metadata": {},
   "source": [
    "## Submission"
   ]
  },
  {
   "cell_type": "code",
   "execution_count": 54,
   "id": "a4601749-8412-4d0f-8637-c22d9480cc8d",
   "metadata": {},
   "outputs": [],
   "source": [
    "model_1 = Pipeline([('scaler', MaxAbsScaler()),('xgbr', XGBRegressor(**params_1))])\n",
    "model_2 = Pipeline([('scaler', MaxAbsScaler()),('xgbr', XGBRegressor(**params_2))])\n",
    "model_3 = Pipeline([('scaler', MaxAbsScaler()),('xgbr', XGBRegressor(**params_3))])\n",
    "model_4 = Pipeline([('scaler', MaxAbsScaler()),('xgbr', XGBRegressor(**params_4))])\n",
    "model_5 = Pipeline([('scaler', MaxAbsScaler()),('xgbr', XGBRegressor(**params_5))])\n",
    "model_6 = Pipeline([('scaler', MaxAbsScaler()),('xgbr', XGBRegressor(**params_6))])"
   ]
  },
  {
   "cell_type": "code",
   "execution_count": 55,
   "id": "8921365d-a1b4-4d3f-a6fa-693733ac2f3e",
   "metadata": {},
   "outputs": [],
   "source": [
    "# model_1 = XGBRegressor(**params_1)\n",
    "# model_2 = XGBRegressor(**params_2)\n",
    "# model_3 = XGBRegressor(**params_3)\n",
    "# model_4 = XGBRegressor(**params_4)\n",
    "# model_5 = XGBRegressor(**params_5)\n",
    "# model_6 = XGBRegressor(**params_6)\n",
    "\n",
    "lst_models = [model_1, model_2, model_3, model_4, model_5, model_6]\n",
    "lst_X_trains = [X1, X2, X3, X4, X5, X6]\n",
    "lst_y_trains = [y1, y2, y3, y4, y5, y6]"
   ]
  },
  {
   "cell_type": "code",
   "execution_count": 56,
   "id": "ca47f1f3-34a9-4a23-8312-2a9402f563ff",
   "metadata": {},
   "outputs": [],
   "source": [
    "lst_tests = []\n",
    "for test in [test_wp1, test_wp2, test_wp3, test_wp4, test_wp5, test_wp6]:\n",
    "    test = make_prediction_dataset(test)\n",
    "    lst_tests.append(test)"
   ]
  },
  {
   "cell_type": "code",
   "execution_count": 57,
   "id": "df54ea09-8916-4fdd-a8be-0516f0ed5395",
   "metadata": {
    "tags": []
   },
   "outputs": [
    {
     "name": "stdout",
     "output_type": "stream",
     "text": [
      "--------------Model 1--------------\n",
      "True:\n",
      "\tMin:0.0\n",
      "\tMax:0.96\n",
      "\tMean:0.2845981952075702\n",
      "Prediction:\n",
      "\tMin:-0.040609680116176605\n",
      "\tMax:0.9584257006645203\n",
      "\tMean:0.2994403839111328\n",
      "Prediction corrected:\n",
      "\tMin:0.0\n",
      "\tMax:0.9584257006645203\n",
      "\tMean:0.299561041407802\n",
      "--------------Model 2--------------\n",
      "True:\n",
      "\tMin:0.0\n",
      "\tMax:0.966\n",
      "\tMean:0.25890153769841273\n",
      "Prediction:\n",
      "\tMin:-0.03859954699873924\n",
      "\tMax:1.0072672367095947\n",
      "\tMean:0.2552209198474884\n",
      "Prediction corrected:\n",
      "\tMin:0.0\n",
      "\tMax:0.966\n",
      "\tMean:0.2553686954124512\n",
      "--------------Model 3--------------\n",
      "True:\n",
      "\tMin:0.0\n",
      "\tMax:0.989\n",
      "\tMean:0.2625247252747253\n",
      "Prediction:\n",
      "\tMin:-0.07822347432374954\n",
      "\tMax:1.0252376794815063\n",
      "\tMean:0.2915489375591278\n",
      "Prediction corrected:\n",
      "\tMin:0.0\n",
      "\tMax:0.989\n",
      "\tMean:0.29178245276974524\n",
      "--------------Model 4--------------\n",
      "True:\n",
      "\tMin:0.0\n",
      "\tMax:0.992\n",
      "\tMean:0.2763637820512821\n",
      "Prediction:\n",
      "\tMin:-0.019250165671110153\n",
      "\tMax:0.9634188413619995\n",
      "\tMean:0.2832432985305786\n",
      "Prediction corrected:\n",
      "\tMin:0.0\n",
      "\tMax:0.9634188413619995\n",
      "\tMean:0.2833424258501441\n",
      "--------------Model 5--------------\n",
      "True:\n",
      "\tMin:0.0\n",
      "\tMax:0.978\n",
      "\tMean:0.32622119200244204\n",
      "Prediction:\n",
      "\tMin:-0.04621139168739319\n",
      "\tMax:1.0799273252487183\n",
      "\tMean:0.33305543661117554\n",
      "Prediction corrected:\n",
      "\tMin:0.0\n",
      "\tMax:0.978\n",
      "\tMean:0.33307137521291136\n",
      "--------------Model 6--------------\n",
      "True:\n",
      "\tMin:0.0\n",
      "\tMax:0.947\n",
      "\tMean:0.2425176472832723\n",
      "Prediction:\n",
      "\tMin:-0.0130529860034585\n",
      "\tMax:0.8685023188591003\n",
      "\tMean:0.2370697557926178\n",
      "Prediction corrected:\n",
      "\tMin:0.0\n",
      "\tMax:0.8685023188591003\n",
      "\tMean:0.23708150108524484\n"
     ]
    }
   ],
   "source": [
    "df_predictions, lst_models_trained = make_submission_file(lst_X_trains, lst_y_trains, lst_tests, lst_models, test_dates)"
   ]
  },
  {
   "cell_type": "code",
   "execution_count": 58,
   "id": "1fa2c859-6e63-40e3-adc4-045fe68c06de",
   "metadata": {},
   "outputs": [],
   "source": [
    "df_predictions.to_csv('Predictions/submission_nb_7_full_absmax-xgboost.csv', index=False, sep=';')"
   ]
  },
  {
   "cell_type": "code",
   "execution_count": 59,
   "id": "06adda7c-2354-45c5-8a09-1efade23848e",
   "metadata": {},
   "outputs": [],
   "source": [
    "pkl_model = \"Models/XGBOOST/XGBoost-maxabs-wp1-50trials_best.pkl\"\n",
    "with open(pkl_model, 'wb') as file:\n",
    "    pickle.dump(lst_models_trained[0], file)\n",
    "    \n",
    "pkl_model = \"Models/XGBOOST/XGBoost-maxabs-wp2-50trials_best.pkl\"\n",
    "with open(pkl_model, 'wb') as file:\n",
    "    pickle.dump(lst_models_trained[1], file)\n",
    "    \n",
    "pkl_model = \"Models/XGBOOST/XGBoost-maxabs-wp3-50trials_best.pkl\"\n",
    "with open(pkl_model, 'wb') as file:\n",
    "    pickle.dump(lst_models_trained[2], file)\n",
    "\n",
    "pkl_model = \"Models/XGBOOST/XGBoost-maxabs-wp4-50trials_best.pkl\"\n",
    "with open(pkl_model, 'wb') as file:\n",
    "    pickle.dump(lst_models_trained[3], file)\n",
    "    \n",
    "pkl_model = \"Models/XGBOOST/XGBoost-maxabs-wp5-50trials_best.pkl\"\n",
    "with open(pkl_model, 'wb') as file:\n",
    "    pickle.dump(lst_models_trained[4], file)\n",
    "    \n",
    "pkl_model = \"Models/XGBOOST/XGBoost-maxabs-wp6-50trials_best.pkl\"\n",
    "with open(pkl_model, 'wb') as file:\n",
    "    pickle.dump(lst_models_trained[5], file)"
   ]
  }
 ],
 "metadata": {
  "kernelspec": {
   "display_name": "Python 3 (ipykernel)",
   "language": "python",
   "name": "python3"
  },
  "language_info": {
   "codemirror_mode": {
    "name": "ipython",
    "version": 3
   },
   "file_extension": ".py",
   "mimetype": "text/x-python",
   "name": "python",
   "nbconvert_exporter": "python",
   "pygments_lexer": "ipython3",
   "version": "3.9.7"
  }
 },
 "nbformat": 4,
 "nbformat_minor": 5
}
