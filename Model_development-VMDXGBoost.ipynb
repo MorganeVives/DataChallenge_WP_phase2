{
 "cells": [
  {
   "cell_type": "markdown",
   "id": "261ec557-50a0-4cd6-8bec-268d1dee685a",
   "metadata": {},
   "source": [
    "# Model development"
   ]
  },
  {
   "cell_type": "markdown",
   "id": "080db2e8-f090-42a3-9f49-d563a929c6ef",
   "metadata": {},
   "source": [
    "Ici on fait nos modèles et prédictions. Le mieux c'est de faire des parties par modèles je pense ?"
   ]
  },
  {
   "cell_type": "markdown",
   "id": "ec86fdcd-e169-4431-8b0b-10686b89feca",
   "metadata": {},
   "source": [
    "Il faut aussi qu'on trouve un nomenclature pour les modèles si on les enregistre, afin de garder en tête les différents résultats"
   ]
  },
  {
   "cell_type": "code",
   "execution_count": null,
   "id": "1399bb0f-0234-43a6-b724-73f21f9b28b7",
   "metadata": {},
   "outputs": [],
   "source": [
    "import pandas as pd\n",
    "import seaborn as sns\n",
    "import openpyxl\n",
    "from datetime import datetime, timedelta\n",
    "import matplotlib.pyplot as plt\n",
    "import numpy as np\n",
    "import os\n",
    "import pickle"
   ]
  },
  {
   "cell_type": "code",
   "execution_count": null,
   "id": "9a662ef3-a957-41fe-955d-1c5e99709226",
   "metadata": {},
   "outputs": [],
   "source": [
    "from sklearn.model_selection import KFold, train_test_split\n",
    "from sklearn.preprocessing import MinMaxScaler, StandardScaler, MaxAbsScaler\n",
    "from sklearn.pipeline import Pipeline\n",
    "from sklearn.metrics import mean_squared_error, mean_absolute_error\n",
    "\n",
    "from xgboost import XGBRegressor\n",
    "import optuna"
   ]
  },
  {
   "cell_type": "code",
   "execution_count": null,
   "id": "0bc7dfff-4363-41ad-bfd2-5e5dd7c0ef63",
   "metadata": {},
   "outputs": [],
   "source": [
    "from Functions.helper_functions import * "
   ]
  },
  {
   "cell_type": "code",
   "execution_count": null,
   "id": "3c184629-3914-4a2c-ba3f-5f111909f344",
   "metadata": {},
   "outputs": [],
   "source": [
    "import warnings\n",
    "warnings.filterwarnings(action='ignore', category=UserWarning)\n",
    "pd.options.mode.chained_assignment = None  # default='warn'"
   ]
  },
  {
   "cell_type": "code",
   "execution_count": null,
   "id": "6333588b-f1b0-4a5b-afea-e53064be0d99",
   "metadata": {},
   "outputs": [],
   "source": [
    "np.random.seed(42)"
   ]
  },
  {
   "cell_type": "code",
   "execution_count": null,
   "id": "e13839bf-a704-4ce9-b196-5888cdc56a2b",
   "metadata": {},
   "outputs": [],
   "source": [
    "from vmdpy import VMD"
   ]
  },
  {
   "cell_type": "markdown",
   "id": "b617c0f5-e679-4a3f-9a62-12e03303d11f",
   "metadata": {},
   "source": [
    "# Data"
   ]
  },
  {
   "cell_type": "code",
   "execution_count": null,
   "id": "c4d3258c-6931-447d-84b7-ac52ed05673a",
   "metadata": {},
   "outputs": [],
   "source": [
    "train_wp1 = pd.read_csv('Data/Preprocessing/WP1_train_preprocessed.csv', sep=',')\n",
    "train_wp2 = pd.read_csv('Data/Preprocessing/WP2_train_preprocessed.csv', sep=',')\n",
    "train_wp3 = pd.read_csv('Data/Preprocessing/WP3_train_preprocessed.csv', sep=',')\n",
    "train_wp4 = pd.read_csv('Data/Preprocessing/WP4_train_preprocessed.csv', sep=',')\n",
    "train_wp5 = pd.read_csv('Data/Preprocessing/WP5_train_preprocessed.csv', sep=',')\n",
    "train_wp6 = pd.read_csv('Data/Preprocessing/WP6_train_preprocessed.csv', sep=',')"
   ]
  },
  {
   "cell_type": "code",
   "execution_count": null,
   "id": "69f752d4-63ed-43b9-9315-41ecaa114ce4",
   "metadata": {},
   "outputs": [],
   "source": [
    "test_wp1 = pd.read_csv('Data/Preprocessing/WP1_test_preprocessed.csv', sep=',')\n",
    "test_wp2 = pd.read_csv('Data/Preprocessing/WP2_test_preprocessed.csv', sep=',')\n",
    "test_wp3 = pd.read_csv('Data/Preprocessing/WP3_test_preprocessed.csv', sep=',')\n",
    "test_wp4 = pd.read_csv('Data/Preprocessing/WP4_test_preprocessed.csv', sep=',')\n",
    "test_wp5 = pd.read_csv('Data/Preprocessing/WP5_test_preprocessed.csv', sep=',')\n",
    "test_wp6 = pd.read_csv('Data/Preprocessing/WP6_test_preprocessed.csv', sep=',')\n",
    "test_dates = pd.read_csv('Data/Initial/test.csv', sep=',').date.values"
   ]
  },
  {
   "cell_type": "code",
   "execution_count": null,
   "id": "7540aa92-fc5e-4431-8e79-faba9f0cecad",
   "metadata": {},
   "outputs": [],
   "source": [
    "to_drop = ['date','wd','forecast_time', 'forecast', \"forecast_dist\"]"
   ]
  },
  {
   "cell_type": "markdown",
   "id": "d0204367-344e-4837-9d27-c07833112862",
   "metadata": {
    "tags": []
   },
   "source": [
    "# XGBoost"
   ]
  },
  {
   "cell_type": "markdown",
   "id": "8968b0bc-4652-43b7-8f73-e75ae9bc7a6c",
   "metadata": {
    "tags": []
   },
   "source": [
    "## Functions"
   ]
  },
  {
   "cell_type": "code",
   "execution_count": null,
   "id": "5dcf8132-79d2-4c61-978d-d0b785a28f9c",
   "metadata": {},
   "outputs": [],
   "source": [
    "def xgboost_cross_validation_vmf(X, y1,y2,y3,y4,y_true, params):\n",
    "    if params == None:\n",
    "        model1 = Pipeline([('scaler', MaxAbsScaler()),('xgbr', XGBRegressor())])\n",
    "        model2 = Pipeline([('scaler', MaxAbsScaler()),('xgbr', XGBRegressor())])\n",
    "        model3 = Pipeline([('scaler', MaxAbsScaler()),('xgbr', XGBRegressor())])\n",
    "        model4 = Pipeline([('scaler', MaxAbsScaler()),('xgbr', XGBRegressor())])\n",
    "    else:\n",
    "        model1 = Pipeline([('scaler', MaxAbsScaler()),('xgbr', XGBRegressor(**params[0]))])\n",
    "        model2 = Pipeline([('scaler', MaxAbsScaler()),('xgbr', XGBRegressor(**params[1]))])\n",
    "        model3 = Pipeline([('scaler', MaxAbsScaler()),('xgbr', XGBRegressor(**params[2]))])\n",
    "        model4 = Pipeline([('scaler', MaxAbsScaler()),('xgbr', XGBRegressor(**params[3]))])\n",
    "\n",
    "    print('-----------XGBOOST CROSS VALIDATION BEGINNING-----------')\n",
    "    split = 10\n",
    "    kf = KFold(n_splits=split, shuffle=True)       \n",
    "    xgboost_rmse_scores = []\n",
    "    xgboost_mae_scores = []\n",
    "    i = 1\n",
    "    for (train_index, test_index) in kf.split(pd.DataFrame(X), pd.DataFrame(y)):\n",
    "        X_train, X_test = pd.DataFrame(X).iloc[train_index], pd.DataFrame(X).iloc[test_index]\n",
    "        Y1_train, Y1_test = pd.DataFrame(y1).iloc[train_index],pd.DataFrame(y1).iloc[test_index]\n",
    "        Y2_train, Y2_test = pd.DataFrame(y2).iloc[train_index],pd.DataFrame(y2).iloc[test_index]\n",
    "        Y3_train, Y3_test = pd.DataFrame(y3).iloc[train_index],pd.DataFrame(y3).iloc[test_index]\n",
    "        Y4_train, Y4_test = pd.DataFrame(y4).iloc[train_index],pd.DataFrame(y4).iloc[test_index]\n",
    "        Y_train, Y_test = pd.DataFrame(y_true).iloc[train_index],pd.DataFrame(y_true).iloc[test_index]\n",
    "\n",
    "        model1.fit(X_train, Y1_train)\n",
    "        model2.fit(X_train, Y2_train)\n",
    "        model3.fit(X_train, Y3_train)\n",
    "        model4.fit(X_train, Y4_train)\n",
    "\n",
    "        prediction = (model1.predict(X_test)+\n",
    "                      model2.predict(X_test)+\n",
    "                      model3.predict(X_test)+\n",
    "                      model4.predict(X_test))\n",
    "        \n",
    "        xgboost_rmse_scores.append(mean_squared_error(Y_test, prediction,squared=False))\n",
    "        xgboost_mae_scores.append(mean_absolute_error(Y_test, prediction))\n",
    "        \n",
    "        print(show_evaluation(prediction, Y_test))\n",
    "        print(f'-------------------FOLD {i}-----------------')\n",
    "        i+=1\n",
    "\n",
    "    print('---------------CROSS VALIDATION COMPLETE-------------')\n",
    "    print('--------------------------RMSE-----------------------')\n",
    "    display_scores(xgboost_rmse_scores)\n",
    "    print('--------------------------MAE------------------------')\n",
    "    display_scores(xgboost_mae_scores)"
   ]
  },
  {
   "cell_type": "code",
   "execution_count": null,
   "id": "274c8993-e826-4678-a630-08f64745aee1",
   "metadata": {
    "tags": []
   },
   "outputs": [],
   "source": [
    "def hyperparametrization_cv(trial, X, y):\n",
    "    param = {\n",
    "        'lambda': trial.suggest_loguniform('lambda', 1e-3, 10.0),\n",
    "        'alpha': trial.suggest_loguniform('alpha', 1e-3, 10.0),\n",
    "        'colsample_bytree': trial.suggest_loguniform('colsample_bytree', 1e-8, 1),\n",
    "        'subsample': trial.suggest_categorical('subsample', [0.4,0.5,0.6,0.7,0.8,1.0]),\n",
    "        'learning_rate': trial.suggest_loguniform('learning_rate', 1e-3, 0.3),\n",
    "        'n_estimators': trial.suggest_int('n_estimators', 100, 700),\n",
    "        'max_depth': trial.suggest_int(\"max_depth\", 10, 70),\n",
    "        'min_child_weight': trial.suggest_int('min_child_weight', 1, 300),\n",
    "        'eta' : trial.suggest_loguniform(\"eta\", 1e-8, 1.0),\n",
    "        'gamma' : trial.suggest_loguniform(\"gamma\", 1e-8, 1.0),\n",
    "        'grow_policy' : trial.suggest_categorical(\"grow_policy\", [\"depthwise\", \"lossguide\"])\n",
    "        \n",
    "    }\n",
    "    \n",
    "    model = Pipeline([('scaler', MaxAbsScaler()),('xgbr', XGBRegressor(**param))]) \n",
    "    rmse = - cross_val_score(model, X, y, cv=3, scoring = 'neg_root_mean_squared_error').mean()\n",
    "    \n",
    "    return rmse"
   ]
  },
  {
   "cell_type": "code",
   "execution_count": null,
   "id": "a819fc32-c483-4627-82c9-769b28a86392",
   "metadata": {},
   "outputs": [],
   "source": [
    "def vmd(y,k):\n",
    "    \n",
    "    #Intrinsic mode generation\n",
    "     #Empirical Mode Decomposition\n",
    "    #. some sample parameters for VMD  \n",
    "    alpha = 1       # moderate bandwidth constraint  \n",
    "    tau = 0.           # noise-tolerance (no strict fidelity enforcement)  \n",
    "    K = k              # k modes  \n",
    "    DC = 0             # no DC part imposed  \n",
    "    init = 1           # initialize omegas uniformly  \n",
    "    tol = 1e-7\n",
    "    u, u_hat, omega = VMD(y,alpha, tau, K, DC, init, tol)\n",
    "    df_vmfs = pd.DataFrame()\n",
    "    #Integration in the dataframe\n",
    "    for num, imf in enumerate(u):\n",
    "        #print('----Creating VMFwp{0} EMD columns----'.format(num+1))\n",
    "        df_vmfs['IMFwp{0}'.format(num+1)] = imf\n",
    "    return df_vmfs"
   ]
  },
  {
   "cell_type": "markdown",
   "id": "bbc3509e-c676-463f-97ac-c0ac98b5f3ed",
   "metadata": {},
   "source": [
    "## WP1 "
   ]
  },
  {
   "cell_type": "code",
   "execution_count": null,
   "id": "70c3af58-11fa-437e-80d2-d58c9901ce08",
   "metadata": {},
   "outputs": [],
   "source": [
    "wp1_X = train_wp1[[c for c in train_wp1 if c not in [\"wp\"]] + [\"wp\"]].drop(to_drop, axis = 1)\n",
    "X1 = wp1_X.drop('wp', axis=1)\n",
    "y1 = wp1_X['wp']\n",
    "vmf_1 = vmd(y1,4)\n",
    "\n",
    "#def objective_wp1(trial,data=X1,target=vmf['IMFwp1']):\n",
    " #   train_x, test_x, train_y, test_y = train_test_split(data, target, test_size=0.15,random_state=42)\n",
    "  #  return hyperparametrization(trial, train_x, test_x, train_y, test_y)"
   ]
  },
  {
   "cell_type": "code",
   "execution_count": null,
   "id": "6e8b9581-1e59-40fc-ba46-cac68640c7ff",
   "metadata": {
    "tags": []
   },
   "outputs": [],
   "source": [
    "xgboost_cross_validation_vmf(X1, vmf_1['IMFwp1'],vmf_1['IMFwp2'],vmf_1['IMFwp3'],vmf_1['IMFwp4'],y1, None)"
   ]
  },
  {
   "cell_type": "markdown",
   "id": "03801eac-a04e-4f88-8a9c-92b5889b3747",
   "metadata": {
    "jp-MarkdownHeadingCollapsed": true,
    "tags": []
   },
   "source": [
    "### Optuna Optim"
   ]
  },
  {
   "cell_type": "code",
   "execution_count": null,
   "id": "2466b120-ade9-4e35-9809-c1026744bd4d",
   "metadata": {},
   "outputs": [],
   "source": [
    "def objective_wp1(trial,data=X1,target=vmf_1['IMFwp1']):\n",
    "    train_x, test_x, train_y, test_y = train_test_split(data, target, test_size=0.15,random_state=42)\n",
    "    return hyperparametrization_cv(trial, train_x, test_x, train_y, test_y)"
   ]
  },
  {
   "cell_type": "code",
   "execution_count": null,
   "id": "caef0dfe-b591-425e-b528-ca4f345f176a",
   "metadata": {},
   "outputs": [],
   "source": [
    "study = optuna.create_study(direction='minimize')\n",
    "study.optimize(objective_wp1, n_trials=50)\n",
    "#write_results('Data/Hyperparametrization/xgboost_vmd_50trials.xlsx', 'wp1', study.trials_dataframe())\n",
    "best_trial_1_1 = study.best_trial.params\n",
    "best_trial_1_1"
   ]
  },
  {
   "cell_type": "code",
   "execution_count": null,
   "id": "130c3120-6ee0-47fd-b194-5cb381a182e4",
   "metadata": {},
   "outputs": [],
   "source": [
    "def objective_wp1(trial,data=X1,target=vmf_1['IMFwp2']):\n",
    "    train_x, test_x, train_y, test_y = train_test_split(data, target, test_size=0.15,random_state=42)\n",
    "    return hyperparametrization_cv(trial, train_x, test_x, train_y, test_y)"
   ]
  },
  {
   "cell_type": "code",
   "execution_count": null,
   "id": "5389f0de-f8b0-4daa-aa7a-97aff2a0f9d1",
   "metadata": {},
   "outputs": [],
   "source": [
    "study = optuna.create_study(direction='minimize')\n",
    "study.optimize(objective_wp1, n_trials=50)\n",
    "#write_results('Data/Hyperparametrization/xgboost_vmd_50trials.xlsx', 'wp1', study.trials_dataframe())\n",
    "best_trial_1_2 = study.best_trial.params\n",
    "best_trial_1_2"
   ]
  },
  {
   "cell_type": "code",
   "execution_count": null,
   "id": "fb6634cc-8cf0-409c-9662-ce3c877f7fdf",
   "metadata": {},
   "outputs": [],
   "source": [
    "def objective_wp1(trial,data=X1,target=vmf_1['IMFwp3']):\n",
    "    train_x, test_x, train_y, test_y = train_test_split(data, target, test_size=0.15,random_state=42)\n",
    "    return hyperparametrization_cv(trial, train_x, test_x, train_y, test_y)"
   ]
  },
  {
   "cell_type": "code",
   "execution_count": null,
   "id": "0ba44c9d-b95e-4e4d-a7b4-772cad98cd85",
   "metadata": {},
   "outputs": [],
   "source": [
    "study = optuna.create_study(direction='minimize')\n",
    "study.optimize(objective_wp1, n_trials=50)\n",
    "#write_results('Data/Hyperparametrization/xgboost_vmd_50trials.xlsx', 'wp1', study.trials_dataframe())\n",
    "best_trial_1_3 = study.best_trial.params\n",
    "best_trial_1_3"
   ]
  },
  {
   "cell_type": "code",
   "execution_count": null,
   "id": "25867822-481f-45d1-a504-dd02a264787b",
   "metadata": {},
   "outputs": [],
   "source": [
    "def objective_wp1(trial,data=X1,target=vmf_1['IMFwp4']):\n",
    "    train_x, test_x, train_y, test_y = train_test_split(data, target, test_size=0.15,random_state=42)\n",
    "    return hyperparametrization_cv(trial, train_x, test_x, train_y, test_y)"
   ]
  },
  {
   "cell_type": "code",
   "execution_count": null,
   "id": "71e7ec10-72c0-4428-a795-61fa80280466",
   "metadata": {},
   "outputs": [],
   "source": [
    "study = optuna.create_study(direction='minimize')\n",
    "study.optimize(objective_wp1, n_trials=50)\n",
    "#write_results('Data/Hyperparametrization/xgboost_vmd_50trials.xlsx', 'wp1', study.trials_dataframe())\n",
    "best_trial_1_4 = study.best_trial.params\n",
    "best_trial_1_4"
   ]
  },
  {
   "cell_type": "code",
   "execution_count": null,
   "id": "4014fd48-da04-4e00-9894-bdd1424e2935",
   "metadata": {},
   "outputs": [],
   "source": [
    "params_vmf_1 = [best_trial_1_1,best_trial_1_2,best_trial_1_3,best_trial_1_4]\n"
   ]
  },
  {
   "cell_type": "code",
   "execution_count": null,
   "id": "83ef5184-ada0-4903-900a-e981a084614c",
   "metadata": {},
   "outputs": [],
   "source": [
    "xgboost_cross_validation_vmf(X1, vmf_1['IMFwp1'],vmf_1['IMFwp2'],vmf_1['IMFwp3'],vmf_1['IMFwp4'],y1, params_vmf_1)"
   ]
  },
  {
   "cell_type": "markdown",
   "id": "2d4d08ad-3af3-408b-8834-57c1349d328a",
   "metadata": {},
   "source": [
    "## WP2"
   ]
  },
  {
   "cell_type": "code",
   "execution_count": null,
   "id": "e6b8fee4-9fba-4818-a7df-29cd5d3806ad",
   "metadata": {},
   "outputs": [],
   "source": [
    "wp2_X = train_wp2[[c for c in train_wp2 if c not in [\"wp\"]] + [\"wp\"]].drop(to_drop, axis = 1)\n",
    "X2 = wp2_X.drop('wp', axis=1)\n",
    "y2 = wp2_X['wp']\n",
    "vmf_2=vmd(y2,4)\n",
    "#def objective_wp2(trial,data = X2,target = y2):\n",
    "#    train_x, test_x, train_y, test_y = train_test_split(data, target, test_size=0.15,random_state=42)\n",
    "#    return hyperparametrization(trial, train_x, test_x, train_y, test_y)"
   ]
  },
  {
   "cell_type": "code",
   "execution_count": null,
   "id": "e21030a0-33dc-4803-b0c5-cf95a9a07dfb",
   "metadata": {},
   "outputs": [],
   "source": [
    "xgboost_cross_validation_vmf(X2, vmf_2['IMFwp1'],vmf_2['IMFwp2'],vmf_2['IMFwp3'],vmf_2['IMFwp4'],y2, None)"
   ]
  },
  {
   "cell_type": "markdown",
   "id": "5474c7be-3b77-4b66-92ba-bf3daa1db4a5",
   "metadata": {
    "jp-MarkdownHeadingCollapsed": true,
    "tags": []
   },
   "source": [
    "### Optuna Optim"
   ]
  },
  {
   "cell_type": "code",
   "execution_count": null,
   "id": "a69efdbd-76f9-4dd8-aca9-2424f3952d7c",
   "metadata": {},
   "outputs": [],
   "source": [
    "def objective_wp2(trial,data=X2,target=vmf_2['IMFwp1']):\n",
    "    train_x, test_x, train_y, test_y = train_test_split(data, target, test_size=0.15,random_state=42)\n",
    "    return hyperparametrization_cv(trial, train_x, test_x, train_y, test_y)"
   ]
  },
  {
   "cell_type": "code",
   "execution_count": null,
   "id": "d754f70c-5ddf-41aa-8faf-9f52d702608b",
   "metadata": {},
   "outputs": [],
   "source": [
    "study = optuna.create_study(direction='minimize')\n",
    "study.optimize(objective_wp2, n_trials=50)\n",
    "#write_results('Data/Hyperparametrization/xgboost_vmd_50trials.xlsx', 'wp1', study.trials_dataframe())\n",
    "best_trial_2_1 = study.best_trial.params\n",
    "best_trial_2_1"
   ]
  },
  {
   "cell_type": "code",
   "execution_count": null,
   "id": "39bc1bb0-7381-414c-af0b-e3263acb8898",
   "metadata": {},
   "outputs": [],
   "source": [
    "def objective_wp2(trial,data=X2,target=vmf_2['IMFwp2']):\n",
    "    train_x, test_x, train_y, test_y = train_test_split(data, target, test_size=0.15,random_state=42)\n",
    "    return hyperparametrization_cv(trial, train_x, test_x, train_y, test_y)"
   ]
  },
  {
   "cell_type": "code",
   "execution_count": null,
   "id": "f3892879-a074-46a2-8c10-f03d345987c3",
   "metadata": {},
   "outputs": [],
   "source": [
    "study = optuna.create_study(direction='minimize')\n",
    "study.optimize(objective_wp2, n_trials=50)\n",
    "#write_results('Data/Hyperparametrization/xgboost_vmd_50trials.xlsx', 'wp1', study.trials_dataframe())\n",
    "best_trial_2_2 = study.best_trial.params\n",
    "best_trial_2_2"
   ]
  },
  {
   "cell_type": "code",
   "execution_count": null,
   "id": "a8ef5003-c706-4fa0-a17f-85ddeadae46d",
   "metadata": {},
   "outputs": [],
   "source": [
    "def objective_wp2(trial,data=X2,target=vmf_2['IMFwp3']):\n",
    "    train_x, test_x, train_y, test_y = train_test_split(data, target, test_size=0.15,random_state=42)\n",
    "    return hyperparametrization_cv(trial, train_x, test_x, train_y, test_y)"
   ]
  },
  {
   "cell_type": "code",
   "execution_count": null,
   "id": "aa2705fb-565b-4ca7-9054-ac9200c6a7f5",
   "metadata": {},
   "outputs": [],
   "source": [
    "study = optuna.create_study(direction='minimize')\n",
    "study.optimize(objective_wp2, n_trials=50)\n",
    "#write_results('Data/Hyperparametrization/xgboost_vmd_50trials.xlsx', 'wp1', study.trials_dataframe())\n",
    "best_trial_2_3 = study.best_trial.params\n",
    "best_trial_2_3"
   ]
  },
  {
   "cell_type": "code",
   "execution_count": null,
   "id": "7aa82532-e04b-48b4-9c94-2ec937e2470a",
   "metadata": {},
   "outputs": [],
   "source": [
    "def objective_wp2(trial,data=X2,target=vmf_2['IMFwp4']):\n",
    "    train_x, test_x, train_y, test_y = train_test_split(data, target, test_size=0.15,random_state=42)\n",
    "    return hyperparametrization_cv(trial, train_x, test_x, train_y, test_y)"
   ]
  },
  {
   "cell_type": "code",
   "execution_count": null,
   "id": "d1e4b897-f75b-48ae-973f-1bf8c3df48f3",
   "metadata": {},
   "outputs": [],
   "source": [
    "study = optuna.create_study(direction='minimize')\n",
    "study.optimize(objective_wp2, n_trials=50)\n",
    "#write_results('Data/Hyperparametrization/xgboost_vmd_50trials.xlsx', 'wp1', study.trials_dataframe())\n",
    "best_trial_2_4 = study.best_trial.params\n",
    "best_trial_2_4"
   ]
  },
  {
   "cell_type": "code",
   "execution_count": null,
   "id": "de03588d-1afc-421e-b473-88f17afdb1a7",
   "metadata": {},
   "outputs": [],
   "source": [
    "params_vmf_2 = [best_trial_2_1,best_trial_2_2,best_trial_2_3,best_trial_2_4]"
   ]
  },
  {
   "cell_type": "code",
   "execution_count": null,
   "id": "a277005c-0dd9-4d25-b927-a5cbcfa5e4bf",
   "metadata": {},
   "outputs": [],
   "source": [
    "xgboost_cross_validation_vmf(X2, vmf_2['IMFwp1'],vmf_2['IMFwp2'],vmf_2['IMFwp3'],vmf_2['IMFwp4'],y2, params_vmf_2)"
   ]
  },
  {
   "cell_type": "markdown",
   "id": "966468d2-d1a2-4c0a-a190-c37d85ef61f5",
   "metadata": {},
   "source": [
    "## WP3"
   ]
  },
  {
   "cell_type": "code",
   "execution_count": null,
   "id": "1a19adfe-a591-4616-827c-70140477879b",
   "metadata": {},
   "outputs": [],
   "source": [
    "wp3_X = train_wp3[[c for c in train_wp3 if c not in [\"wp\"]] + [\"wp\"]].drop(to_drop, axis = 1)\n",
    "X3 = wp3_X.drop('wp', axis = 1)\n",
    "y3 = wp3_X['wp']\n",
    "vmf_3=vmd(y3,4)"
   ]
  },
  {
   "cell_type": "code",
   "execution_count": null,
   "id": "d62ba77f-b507-4c54-bc7e-e518b92a4a86",
   "metadata": {},
   "outputs": [],
   "source": [
    "xgboost_cross_validation_vmf(X3, vmf_3['IMFwp1'],vmf_3['IMFwp2'],vmf_3['IMFwp3'],vmf_3['IMFwp4'],y3, None)"
   ]
  },
  {
   "cell_type": "markdown",
   "id": "8547e3cb-e535-441b-9b5a-b2d427e188ff",
   "metadata": {
    "jp-MarkdownHeadingCollapsed": true,
    "tags": []
   },
   "source": [
    "### Optuna Optim"
   ]
  },
  {
   "cell_type": "code",
   "execution_count": null,
   "id": "d5701230-59bc-4589-a146-61e66dc55ec6",
   "metadata": {},
   "outputs": [],
   "source": [
    "def objective_wp3(trial,data=X3,target=vmf_3['IMFwp1']):\n",
    "    train_x, test_x, train_y, test_y = train_test_split(data, target, test_size=0.15,random_state=42)\n",
    "    return hyperparametrization_cv(trial, train_x, test_x, train_y, test_y)"
   ]
  },
  {
   "cell_type": "code",
   "execution_count": null,
   "id": "1abcfae6-86bb-46a6-82e2-38bd479d3883",
   "metadata": {},
   "outputs": [],
   "source": [
    "study = optuna.create_study(direction='minimize')\n",
    "study.optimize(objective_wp3, n_trials=50)\n",
    "#write_results('Data/Hyperparametrization/xgboost_vmd_50trials.xlsx', 'wp1', study.trials_dataframe())\n",
    "best_trial_3_1 = study.best_trial.params\n",
    "best_trial_3_1"
   ]
  },
  {
   "cell_type": "code",
   "execution_count": null,
   "id": "5162dd88-6d2e-4a23-aadd-1416f3181b72",
   "metadata": {},
   "outputs": [],
   "source": [
    "def objective_wp3(trial,data=X3,target=vmf_3['IMFwp2']):\n",
    "    train_x, test_x, train_y, test_y = train_test_split(data, target, test_size=0.15,random_state=42)\n",
    "    return hyperparametrization_cv(trial, train_x, test_x, train_y, test_y)"
   ]
  },
  {
   "cell_type": "code",
   "execution_count": null,
   "id": "4adb93f2-7f81-435b-86a0-9ff1aeb64940",
   "metadata": {},
   "outputs": [],
   "source": [
    "study = optuna.create_study(direction='minimize')\n",
    "study.optimize(objective_wp3, n_trials=50)\n",
    "#write_results('Data/Hyperparametrization/xgboost_vmd_50trials.xlsx', 'wp1', study.trials_dataframe())\n",
    "best_trial_3_2 = study.best_trial.params\n",
    "best_trial_3_2"
   ]
  },
  {
   "cell_type": "code",
   "execution_count": null,
   "id": "4790239c-9498-487c-abbb-2b87b2218b6e",
   "metadata": {},
   "outputs": [],
   "source": [
    "def objective_wp3(trial,data=X3,target=vmf_3['IMFwp3']):\n",
    "    train_x, test_x, train_y, test_y = train_test_split(data, target, test_size=0.15,random_state=42)\n",
    "    return hyperparametrization_cv(trial, train_x, test_x, train_y, test_y)"
   ]
  },
  {
   "cell_type": "code",
   "execution_count": null,
   "id": "056bec67-8997-416b-bb60-b881a18b9ab2",
   "metadata": {},
   "outputs": [],
   "source": [
    "study = optuna.create_study(direction='minimize')\n",
    "study.optimize(objective_wp3, n_trials=50)\n",
    "#write_results('Data/Hyperparametrization/xgboost_vmd_50trials.xlsx', 'wp1', study.trials_dataframe())\n",
    "best_trial_3_3 = study.best_trial.params\n",
    "best_trial_3_3"
   ]
  },
  {
   "cell_type": "code",
   "execution_count": null,
   "id": "ca46a976-a31f-40b8-bd88-36c93f92cc18",
   "metadata": {},
   "outputs": [],
   "source": [
    "def objective_wp3(trial,data=X3,target=vmf_3['IMFwp4']):\n",
    "    train_x, test_x, train_y, test_y = train_test_split(data, target, test_size=0.15,random_state=42)\n",
    "    return hyperparametrization_cv(trial, train_x, test_x, train_y, test_y)"
   ]
  },
  {
   "cell_type": "code",
   "execution_count": null,
   "id": "8eb92c8d-39a9-46e6-90c7-4c3973b2bf13",
   "metadata": {},
   "outputs": [],
   "source": [
    "study = optuna.create_study(direction='minimize')\n",
    "study.optimize(objective_wp3, n_trials=50)\n",
    "#write_results('Data/Hyperparametrization/xgboost_vmd_50trials.xlsx', 'wp1', study.trials_dataframe())\n",
    "best_trial_3_3 = study.best_trial.params\n",
    "best_trial_3_3"
   ]
  },
  {
   "cell_type": "code",
   "execution_count": null,
   "id": "22ff5327-0b2c-4ad1-9753-e312576c920a",
   "metadata": {},
   "outputs": [],
   "source": [
    "params_vmf_3 = [best_trial_3_1,best_trial_3_2,best_trial_3_3,best_trial_3_4]\n"
   ]
  },
  {
   "cell_type": "code",
   "execution_count": null,
   "id": "cc15bc20-994c-4a48-9370-fc4fd3c9e93e",
   "metadata": {},
   "outputs": [],
   "source": [
    "xgboost_cross_validation_vmf(X3, vmf_3['IMFwp1'],vmf_3['IMFwp2'],vmf_3['IMFwp3'],vmf_3['IMFwp4'],y3, params_vmf_3)"
   ]
  },
  {
   "cell_type": "markdown",
   "id": "cdc76c8c-9cc7-441f-b25e-e1ecf293298e",
   "metadata": {},
   "source": [
    "## WP4"
   ]
  },
  {
   "cell_type": "code",
   "execution_count": null,
   "id": "185fd52e-5fe9-4ab7-817d-03feda6a42ab",
   "metadata": {},
   "outputs": [],
   "source": [
    "wp4_X = train_wp4[[c for c in train_wp4 if c not in [\"wp\"]] + [\"wp\"]].drop(to_drop, axis = 1)\n",
    "X4 = wp4_X.drop('wp', axis = 1)\n",
    "y4 = wp4_X['wp']\n",
    "vmf_4=vmd(y4,4)"
   ]
  },
  {
   "cell_type": "code",
   "execution_count": null,
   "id": "0cf03b7c-1ac1-4e52-b7f1-d0f5e4622caa",
   "metadata": {},
   "outputs": [],
   "source": [
    "xgboost_cross_validation_vmf(X4, vmf_4['IMFwp1'],vmf_4['IMFwp2'],vmf_4['IMFwp3'],vmf_4['IMFwp4'],y4, None)"
   ]
  },
  {
   "cell_type": "markdown",
   "id": "25acbdd4-a473-46a3-a1a6-dfc2dfeca244",
   "metadata": {
    "jp-MarkdownHeadingCollapsed": true,
    "tags": []
   },
   "source": [
    "### Optuna Optim"
   ]
  },
  {
   "cell_type": "code",
   "execution_count": null,
   "id": "e44ed7e6-a505-4ba8-a5ce-753044199732",
   "metadata": {},
   "outputs": [],
   "source": [
    "def objective_wp4(trial,data=X4,target=vmf_4['IMFwp1']):\n",
    "    train_x, test_x, train_y, test_y = train_test_split(data, target, test_size=0.15,random_state=42)\n",
    "    return hyperparametrization_cv(trial, train_x, test_x, train_y, test_y)"
   ]
  },
  {
   "cell_type": "code",
   "execution_count": null,
   "id": "59f63eb4-a7f8-4662-90b8-660497b0bbbb",
   "metadata": {},
   "outputs": [],
   "source": [
    "study = optuna.create_study(direction='minimize')\n",
    "study.optimize(objective_wp4, n_trials=50)\n",
    "#write_results('Data/Hyperparametrization/xgboost_vmd_50trials.xlsx', 'wp1', study.trials_dataframe())\n",
    "best_trial_4_1 = study.best_trial.params\n",
    "best_trial_4_1"
   ]
  },
  {
   "cell_type": "code",
   "execution_count": null,
   "id": "663800b4-4698-4732-835f-694632f4010a",
   "metadata": {},
   "outputs": [],
   "source": [
    "def objective_wp4(trial,data=X4,target=vmf_4['IMFwp2']):\n",
    "    train_x, test_x, train_y, test_y = train_test_split(data, target, test_size=0.15,random_state=42)\n",
    "    return hyperparametrization_cv(trial, train_x, test_x, train_y, test_y)"
   ]
  },
  {
   "cell_type": "code",
   "execution_count": null,
   "id": "faca74a2-a37a-4166-9ffb-1331722139db",
   "metadata": {},
   "outputs": [],
   "source": [
    "study = optuna.create_study(direction='minimize')\n",
    "study.optimize(objective_wp4, n_trials=50)\n",
    "#write_results('Data/Hyperparametrization/xgboost_vmd_50trials.xlsx', 'wp1', study.trials_dataframe())\n",
    "best_trial_4_2 = study.best_trial.params\n",
    "best_trial_4_3"
   ]
  },
  {
   "cell_type": "code",
   "execution_count": null,
   "id": "8f21d124-5a2c-4217-841c-4cdaae64f264",
   "metadata": {},
   "outputs": [],
   "source": [
    "def objective_wp4(trial,data=X4,target=vmf_4['IMFwp3']):\n",
    "    train_x, test_x, train_y, test_y = train_test_split(data, target, test_size=0.15,random_state=42)\n",
    "    return hyperparametrization_cv(trial, train_x, test_x, train_y, test_y)"
   ]
  },
  {
   "cell_type": "code",
   "execution_count": null,
   "id": "2080d189-492e-4a69-8f82-0b8ffcd6e47e",
   "metadata": {},
   "outputs": [],
   "source": [
    "study = optuna.create_study(direction='minimize')\n",
    "study.optimize(objective_wp4, n_trials=50)\n",
    "#write_results('Data/Hyperparametrization/xgboost_vmd_50trials.xlsx', 'wp1', study.trials_dataframe())\n",
    "best_trial_4_3 = study.best_trial.params\n",
    "best_trial_4_3"
   ]
  },
  {
   "cell_type": "code",
   "execution_count": null,
   "id": "5da5acb4-0d3d-4535-8cb8-89023a384ddc",
   "metadata": {},
   "outputs": [],
   "source": [
    "def objective_wp4(trial,data=X4,target=vmf_4['IMFwp4']):\n",
    "    train_x, test_x, train_y, test_y = train_test_split(data, target, test_size=0.15,random_state=42)\n",
    "    return hyperparametrization_cv(trial, train_x, test_x, train_y, test_y)"
   ]
  },
  {
   "cell_type": "code",
   "execution_count": null,
   "id": "f76b0bb8-7b56-4845-b7af-0a4e1fb0528c",
   "metadata": {},
   "outputs": [],
   "source": [
    "study = optuna.create_study(direction='minimize')\n",
    "study.optimize(objective_wp4, n_trials=50)\n",
    "#write_results('Data/Hyperparametrization/xgboost_vmd_50trials.xlsx', 'wp1', study.trials_dataframe())\n",
    "best_trial_4_4 = study.best_trial.params\n",
    "best_trial_4_4"
   ]
  },
  {
   "cell_type": "code",
   "execution_count": null,
   "id": "28d285a3-d877-4959-a728-f8769ff1c831",
   "metadata": {},
   "outputs": [],
   "source": [
    "params_vmf_4 = [best_trial_4_1,best_trial_4_2,best_trial_4_3,best_trial_4_4]\n"
   ]
  },
  {
   "cell_type": "code",
   "execution_count": null,
   "id": "8d04c605-58ff-4f9d-ba2a-b4bb68bca760",
   "metadata": {},
   "outputs": [],
   "source": [
    "xgboost_cross_validation_vmf(X4, vmf_4['IMFwp1'],vmf_4['IMFwp2'],vmf_4['IMFwp3'],vmf_4['IMFwp4'],y4, params_vmf_4)"
   ]
  },
  {
   "cell_type": "markdown",
   "id": "640e4455-cfc5-493a-b3e6-95b608171368",
   "metadata": {},
   "source": [
    "## WP5"
   ]
  },
  {
   "cell_type": "code",
   "execution_count": null,
   "id": "44f38883-24ef-46f1-bc0b-1070f4e36d2f",
   "metadata": {},
   "outputs": [],
   "source": [
    "wp5_X = train_wp5[[c for c in train_wp5 if c not in [\"wp\"]] + [\"wp\"]].drop(to_drop, axis = 1)\n",
    "X5 = wp5_X.drop('wp', axis = 1)\n",
    "y5 = wp5_X['wp']\n",
    "vmf_5=vmd(y5,4)"
   ]
  },
  {
   "cell_type": "code",
   "execution_count": null,
   "id": "15f6bc27-af47-44d7-957b-c23059502952",
   "metadata": {},
   "outputs": [],
   "source": [
    "xgboost_cross_validation_vmf(X5, vmf_5['IMFwp1'],vmf_5['IMFwp2'],vmf_5['IMFwp3'],vmf_5['IMFwp4'],y5, None)"
   ]
  },
  {
   "cell_type": "markdown",
   "id": "d697a902-312e-44f8-9c9d-c7019ae19178",
   "metadata": {
    "jp-MarkdownHeadingCollapsed": true,
    "tags": []
   },
   "source": [
    "### Optuna Optim"
   ]
  },
  {
   "cell_type": "code",
   "execution_count": null,
   "id": "a327b16d-1f02-4cda-ba4b-e055013b0656",
   "metadata": {},
   "outputs": [],
   "source": [
    "def objective_wp5(trial,data=X5,target=vmf_5['IMFwp1']):\n",
    "    train_x, test_x, train_y, test_y = train_test_split(data, target, test_size=0.15,random_state=42)\n",
    "    return hyperparametrization_cv(trial, train_x, test_x, train_y, test_y)"
   ]
  },
  {
   "cell_type": "code",
   "execution_count": null,
   "id": "8b6e53a3-bf99-418f-b423-e9e3bfa2b8a9",
   "metadata": {},
   "outputs": [],
   "source": [
    "study = optuna.create_study(direction='minimize')\n",
    "study.optimize(objective_wp5, n_trials=50)\n",
    "#write_results('Data/Hyperparametrization/xgboost_vmd_50trials.xlsx', 'wp1', study.trials_dataframe())\n",
    "best_trial_5_1 = study.best_trial.params\n",
    "best_trial_5_1"
   ]
  },
  {
   "cell_type": "code",
   "execution_count": null,
   "id": "b31b72e2-3992-41d6-affd-35ae6eda6354",
   "metadata": {},
   "outputs": [],
   "source": [
    "def objective_wp5(trial,data=X5,target=vmf_5['IMFwp2']):\n",
    "    train_x, test_x, train_y, test_y = train_test_split(data, target, test_size=0.15,random_state=42)\n",
    "    return hyperparametrization_cv(trial, train_x, test_x, train_y, test_y)"
   ]
  },
  {
   "cell_type": "code",
   "execution_count": null,
   "id": "6aff5a67-71e3-4406-bf79-2291c17d67ad",
   "metadata": {},
   "outputs": [],
   "source": [
    "study = optuna.create_study(direction='minimize')\n",
    "study.optimize(objective_wp5, n_trials=50)\n",
    "#write_results('Data/Hyperparametrization/xgboost_vmd_50trials.xlsx', 'wp1', study.trials_dataframe())\n",
    "best_trial_5_2 = study.best_trial.params\n",
    "best_trial_5_2"
   ]
  },
  {
   "cell_type": "code",
   "execution_count": null,
   "id": "de91f5d0-2934-4943-baa8-64b48874e244",
   "metadata": {},
   "outputs": [],
   "source": [
    "def objective_wp5(trial,data=X5,target=vmf_5['IMFwp3']):\n",
    "    train_x, test_x, train_y, test_y = train_test_split(data, target, test_size=0.15,random_state=42)\n",
    "    return hyperparametrization_cv(trial, train_x, test_x, train_y, test_y)"
   ]
  },
  {
   "cell_type": "code",
   "execution_count": null,
   "id": "e91ba22f-c21e-445b-9f15-99a5af3924a8",
   "metadata": {},
   "outputs": [],
   "source": [
    "study = optuna.create_study(direction='minimize')\n",
    "study.optimize(objective_wp5, n_trials=50)\n",
    "#write_results('Data/Hyperparametrization/xgboost_vmd_50trials.xlsx', 'wp1', study.trials_dataframe())\n",
    "best_trial_5_2 = study.best_trial.params\n",
    "best_trial_5_2"
   ]
  },
  {
   "cell_type": "code",
   "execution_count": null,
   "id": "5e6083f5-63a9-4354-8e37-08d3c6de58fb",
   "metadata": {},
   "outputs": [],
   "source": [
    "def objective_wp5(trial,data=X5,target=vmf_5['IMFwp4']):\n",
    "    train_x, test_x, train_y, test_y = train_test_split(data, target, test_size=0.15,random_state=42)\n",
    "    return hyperparametrization_cv(trial, train_x, test_x, train_y, test_y)"
   ]
  },
  {
   "cell_type": "code",
   "execution_count": null,
   "id": "c2d8c717-0829-434e-97c3-492b9876c797",
   "metadata": {},
   "outputs": [],
   "source": [
    "study = optuna.create_study(direction='minimize')\n",
    "study.optimize(objective_wp5, n_trials=50)\n",
    "#write_results('Data/Hyperparametrization/xgboost_vmd_50trials.xlsx', 'wp1', study.trials_dataframe())\n",
    "best_trial_5_2 = study.best_trial.params\n",
    "best_trial_5_2"
   ]
  },
  {
   "cell_type": "code",
   "execution_count": null,
   "id": "3033bb1a-7904-404f-8005-46fcb1f331ff",
   "metadata": {},
   "outputs": [],
   "source": [
    "params_vmf_5 = [best_trial_5_1,best_trial_5_2,best_trial_5_3,best_trial_5_4]"
   ]
  },
  {
   "cell_type": "code",
   "execution_count": null,
   "id": "0f5dadb2-31bd-4a8d-9516-0adf4741a4a2",
   "metadata": {},
   "outputs": [],
   "source": [
    "xgboost_cross_validation_vmf(X5, vmf_5['IMFwp1'],vmf_5['IMFwp2'],vmf_5['IMFwp3'],vmf_5['IMFwp4'],y5, params_vmf_5)"
   ]
  },
  {
   "cell_type": "markdown",
   "id": "ccd547b2-24e6-4023-8959-d7955620108f",
   "metadata": {},
   "source": [
    "## WP6"
   ]
  },
  {
   "cell_type": "code",
   "execution_count": null,
   "id": "da2f9ef4-ad90-4d75-9137-735cd41284fe",
   "metadata": {
    "tags": []
   },
   "outputs": [],
   "source": [
    "wp6_X = train_wp6[[c for c in train_wp6 if c not in [\"wp\"]] + [\"wp\"]].drop(to_drop, axis = 1)\n",
    "X6 = wp6_X.drop('wp', axis = 1)\n",
    "y6 = wp6_X['wp']\n",
    "vmf_6=vmd(y6,4)"
   ]
  },
  {
   "cell_type": "code",
   "execution_count": null,
   "id": "fc3edb49-9723-46b7-8743-bd08061067dc",
   "metadata": {},
   "outputs": [],
   "source": [
    "xgboost_cross_validation_vmf(X6, vmf_6['IMFwp1'],vmf_6['IMFwp2'],vmf_6['IMFwp3'],vmf_6['IMFwp4'],y6, None)"
   ]
  },
  {
   "cell_type": "markdown",
   "id": "288bb57c-1014-46dd-b2bd-3a8659339001",
   "metadata": {
    "jp-MarkdownHeadingCollapsed": true,
    "tags": []
   },
   "source": [
    "### Optuna Optim"
   ]
  },
  {
   "cell_type": "code",
   "execution_count": null,
   "id": "3273e564-4d1c-43a2-897b-3ccbc6290f25",
   "metadata": {},
   "outputs": [],
   "source": [
    "def objective_wp6(trial,data=X6,target=vmf_6['IMFwp1']):\n",
    "    train_x, test_x, train_y, test_y = train_test_split(data, target, test_size=0.15,random_state=42)\n",
    "    return hyperparametrization_cv(trial, train_x, test_x, train_y, test_y)"
   ]
  },
  {
   "cell_type": "code",
   "execution_count": null,
   "id": "ca93d766-5d56-4236-8f19-d65f904c2164",
   "metadata": {},
   "outputs": [],
   "source": [
    "study = optuna.create_study(direction='minimize')\n",
    "study.optimize(objective_wp6, n_trials=50)\n",
    "#write_results('Data/Hyperparametrization/xgboost_vmd_50trials.xlsx', 'wp1', study.trials_dataframe())\n",
    "best_trial_6_1 = study.best_trial.params\n",
    "best_trial_6_1"
   ]
  },
  {
   "cell_type": "code",
   "execution_count": null,
   "id": "5196bcb3-26a4-44dc-b45f-4816e7925723",
   "metadata": {},
   "outputs": [],
   "source": [
    "def objective_wp6(trial,data=X6,target=vmf_6['IMFwp2']):\n",
    "    train_x, test_x, train_y, test_y = train_test_split(data, target, test_size=0.15,random_state=42)\n",
    "    return hyperparametrization_cv(trial, train_x, test_x, train_y, test_y)"
   ]
  },
  {
   "cell_type": "code",
   "execution_count": null,
   "id": "50a67f28-4de2-44e7-bb4c-9ee4150732f0",
   "metadata": {},
   "outputs": [],
   "source": [
    "study = optuna.create_study(direction='minimize')\n",
    "study.optimize(objective_wp6, n_trials=50)\n",
    "#write_results('Data/Hyperparametrization/xgboost_vmd_50trials.xlsx', 'wp1', study.trials_dataframe())\n",
    "best_trial_6_2 = study.best_trial.params\n",
    "best_trial_6_2"
   ]
  },
  {
   "cell_type": "code",
   "execution_count": null,
   "id": "e37eb78a-5d1d-4397-9e33-fef5a1ded5f3",
   "metadata": {},
   "outputs": [],
   "source": [
    "def objective_wp6(trial,data=X6,target=vmf_6['IMFwp3']):\n",
    "    train_x, test_x, train_y, test_y = train_test_split(data, target, test_size=0.15,random_state=42)\n",
    "    return hyperparametrization_cv(trial, train_x, test_x, train_y, test_y)"
   ]
  },
  {
   "cell_type": "code",
   "execution_count": null,
   "id": "9533340b-fa78-447b-9bb6-71a6ea8d0da6",
   "metadata": {},
   "outputs": [],
   "source": [
    "study = optuna.create_study(direction='minimize')\n",
    "study.optimize(objective_wp6, n_trials=50)\n",
    "#write_results('Data/Hyperparametrization/xgboost_vmd_50trials.xlsx', 'wp1', study.trials_dataframe())\n",
    "best_trial_6_3 = study.best_trial.params\n",
    "best_trial_6_3"
   ]
  },
  {
   "cell_type": "code",
   "execution_count": null,
   "id": "f460d0d8-2fd4-40d8-8228-0dd40c954de1",
   "metadata": {},
   "outputs": [],
   "source": [
    "def objective_wp6(trial,data=X6,target=vmf_6['IMFwp4']):\n",
    "    train_x, test_x, train_y, test_y = train_test_split(data, target, test_size=0.15,random_state=42)\n",
    "    return hyperparametrization_cv(trial, train_x, test_x, train_y, test_y)"
   ]
  },
  {
   "cell_type": "code",
   "execution_count": null,
   "id": "f7890111-1009-4222-a076-39427d56b150",
   "metadata": {},
   "outputs": [],
   "source": [
    "study = optuna.create_study(direction='minimize')\n",
    "study.optimize(objective_wp6, n_trials=50)\n",
    "#write_results('Data/Hyperparametrization/xgboost_vmd_50trials.xlsx', 'wp1', study.trials_dataframe())\n",
    "best_trial_6_4 = study.best_trial.params\n",
    "best_trial_6_4"
   ]
  },
  {
   "cell_type": "code",
   "execution_count": null,
   "id": "bc1c8b67-3312-49e2-b107-3b0c797fbddf",
   "metadata": {},
   "outputs": [],
   "source": [
    "params_vmf_6 = [best_trial_6_1,best_trial_5_2,best_trial_6_3,best_trial_6_4]"
   ]
  },
  {
   "cell_type": "code",
   "execution_count": null,
   "id": "b352be4b-f64e-4808-b50c-2d9137578eb8",
   "metadata": {},
   "outputs": [],
   "source": [
    "xgboost_cross_validation_vmf(X6, vmf_6['IMFwp1'],vmf_6['IMFwp2'],vmf_6['IMFwp3'],vmf_6['IMFwp4'],y6, params_vmf_6)"
   ]
  },
  {
   "cell_type": "markdown",
   "id": "599f0c09-97e8-4e3b-a117-f707ed6235e2",
   "metadata": {},
   "source": [
    "# XGBoost Predictions"
   ]
  },
  {
   "cell_type": "markdown",
   "id": "2b0f85a0-3a62-4985-b2d6-8fa0aecc6a4b",
   "metadata": {
    "tags": []
   },
   "source": [
    "## Functions"
   ]
  },
  {
   "cell_type": "code",
   "execution_count": null,
   "id": "2e673e92-7f3f-4ffd-a822-c574b030dac4",
   "metadata": {},
   "outputs": [],
   "source": [
    "to_drop = ['date','wd','forecast_time', 'forecast', \"forecast_dist\", 'wp']\n",
    "def make_prediction_dataset(test, to_drop=to_drop):\n",
    "    test_to_predict = test.dropna(subset=['ws','u','v'], how = 'any') # keeps only lines with u,v,ws,wd\n",
    "    test_to_predict = test_to_predict[test_to_predict['wp'].isna()] # keeps only lines with no wp\n",
    "    test_to_predict = test_to_predict.sort_values(by=['date', 'forecast_time'], ascending = [True, False]).drop_duplicates(subset='date')\n",
    "    test_to_predict = test_to_predict.drop(to_drop, axis = 1)\n",
    "    return test_to_predict"
   ]
  },
  {
   "cell_type": "code",
   "execution_count": null,
   "id": "b8145422-4c76-4511-9faa-528ba3f4245c",
   "metadata": {},
   "outputs": [],
   "source": [
    "def make_submission_file_nmodels(lst_X_trains, lst_y_trains,lst_y_vmfs,lst_tests, lst_models, dates):\n",
    "    i = 1\n",
    "    lst_prediction = []\n",
    "    lst_models_trained = []\n",
    "    for X, y, test, model in zip(lst_X_trains, lst_y_vmfs, lst_tests, lst_models):\n",
    "        print(f'--------------Model {i}--------------')\n",
    "        for n in range(len(model)):\n",
    "            model[n].fit(X,y[n])\n",
    "        \n",
    "        print(f'True:\\n\\tMin:{min(lst_y_trains[i-1])}\\n\\tMax:{max(lst_y_trains[i-1])}\\n\\tMean:{lst_y_trains[i-1].mean()}')\n",
    "        \n",
    "        for m in range(len(model)):\n",
    "            if m==0:\n",
    "                predictions = model[m].predict(test)\n",
    "            else:\n",
    "                predictions += model[m].predict(test)\n",
    "        print(f'Prediction:\\n\\tMin:{min(predictions)}\\n\\tMax:{max(predictions)}\\n\\tMean:{np.mean(predictions)}')\n",
    "#         predictions = [min(y) if i < 0 else i for i in predictions]\n",
    "#         predictions = [max(y) if i > max(y) else i for i in predictions]\n",
    "        predictions = [0 if i < 0 else i for i in predictions]\n",
    "        predictions = [1 if i > 1 else i for i in predictions]\n",
    "        print(f'Prediction corrected:\\n\\tMin:{min(predictions)}\\n\\tMax:{max(predictions)}\\n\\tMean:{np.mean(predictions)}')\n",
    "        lst_prediction.append(predictions)\n",
    "        lst_models_trained.append(model)\n",
    "        i+=1\n",
    "    \n",
    "    df_predictions = pd.DataFrame({\n",
    "        'date': test_dates,\n",
    "        'wp1': lst_prediction[0],\n",
    "        'wp2': lst_prediction[1],\n",
    "        'wp3': lst_prediction[2],\n",
    "        'wp4': lst_prediction[3],\n",
    "        'wp5': lst_prediction[4],\n",
    "        'wp6': lst_prediction[5],        \n",
    "    })\n",
    "    return df_predictions, lst_models_trained"
   ]
  },
  {
   "cell_type": "markdown",
   "id": "8ac13c8f-638d-42c5-8b7f-d95630fd6e68",
   "metadata": {
    "jp-MarkdownHeadingCollapsed": true,
    "tags": []
   },
   "source": [
    "### Optimized Algo"
   ]
  },
  {
   "cell_type": "code",
   "execution_count": null,
   "id": "2e994894-fe5e-486c-bf90-83214289a4fd",
   "metadata": {},
   "outputs": [],
   "source": [
    "model_1=[]\n",
    "model_2=[]\n",
    "model_3=[]\n",
    "model_4=[]\n",
    "model_5=[]\n",
    "model_6=[]\n",
    "for i in range(4):\n",
    "    model_1+=Pipeline([('scaler', MaxAbsScaler()),('xgbr', XGBRegressor(**params_vmf_1[i]))])\n",
    "    model_2+=Pipeline([('scaler', MaxAbsScaler()),('xgbr', XGBRegressor(**params_vmf_2[i]))])\n",
    "    model_3+=Pipeline([('scaler', MaxAbsScaler()),('xgbr', XGBRegressor(**params_vmf_3[i]))])\n",
    "    model_4+=Pipeline([('scaler', MaxAbsScaler()),('xgbr', XGBRegressor(**params_vmf_4[i]))])\n",
    "    model_5+=Pipeline([('scaler', MaxAbsScaler()),('xgbr', XGBRegressor(**params_vmf_5[i]))])\n",
    "    model_6+=Pipeline([('scaler', MaxAbsScaler()),('xgbr', XGBRegressor(**params_vmf_6[i]))])"
   ]
  },
  {
   "cell_type": "markdown",
   "id": "426d8e32-83d6-44be-988e-9678ab8b02e5",
   "metadata": {},
   "source": [
    "### Non-Optimized Algo"
   ]
  },
  {
   "cell_type": "code",
   "execution_count": null,
   "id": "95e18029-335b-4e04-a853-d1ba841ffbbc",
   "metadata": {},
   "outputs": [],
   "source": [
    "model_1=[]\n",
    "model_2=[]\n",
    "model_3=[]\n",
    "model_4=[]\n",
    "model_5=[]\n",
    "model_6=[]\n",
    "for i in range(4):\n",
    "    model=Pipeline([('scaler', MaxAbsScaler()),('ridge', XGBRegressor())])\n",
    "    model_1+=[model]\n",
    "    model_2+=[model]\n",
    "    model_3+=[model]\n",
    "    model_4+=[model]\n",
    "    model_5+=[model]\n",
    "    model_6+=[model]"
   ]
  },
  {
   "cell_type": "markdown",
   "id": "61feb93f-02f6-4e20-819a-b78d901c35e6",
   "metadata": {
    "tags": []
   },
   "source": [
    "## Submission"
   ]
  },
  {
   "cell_type": "code",
   "execution_count": null,
   "id": "f4396c28-f52d-4bbf-9ad3-4806307bfbfa",
   "metadata": {},
   "outputs": [],
   "source": [
    "y_vmf1=[]\n",
    "y_vmf2=[]\n",
    "y_vmf3=[]\n",
    "y_vmf4=[]\n",
    "y_vmf5=[]\n",
    "y_vmf6=[]\n",
    "for i in range(1,5):\n",
    "    y_vmf1.append(vmf_1['IMFwp'+str(i)])\n",
    "    y_vmf2.append(vmf_2['IMFwp'+str(i)])\n",
    "    y_vmf3.append(vmf_3['IMFwp'+str(i)])\n",
    "    y_vmf4.append(vmf_4['IMFwp'+str(i)])\n",
    "    y_vmf5.append(vmf_5['IMFwp'+str(i)])\n",
    "    y_vmf6.append(vmf_6['IMFwp'+str(i)])"
   ]
  },
  {
   "cell_type": "code",
   "execution_count": null,
   "id": "4688e613-7e68-44f7-b6a0-aa6d70166838",
   "metadata": {},
   "outputs": [],
   "source": [
    "lst_models = [model_1, model_2, model_3, model_4, model_5, model_6]\n",
    "lst_X_trains = [X1, X2, X3, X4, X5, X6]\n",
    "lst_y_trains = [y1, y2, y3, y4, y5, y6]\n",
    "lst_y_vmf=[y_vmf1, y_vmf2, y_vmf3, y_vmf4, y_vmf5, y_vmf6]"
   ]
  },
  {
   "cell_type": "code",
   "execution_count": null,
   "id": "b9a152dd-845e-4a62-b382-28225e553ec3",
   "metadata": {},
   "outputs": [],
   "source": [
    "lst_tests = []\n",
    "for test in [test_wp1, test_wp2, test_wp3, test_wp4, test_wp5, test_wp6]:\n",
    "    test = make_prediction_dataset(test)\n",
    "    lst_tests.append(test)"
   ]
  },
  {
   "cell_type": "code",
   "execution_count": null,
   "id": "894204cd-3c0a-4284-a34d-54c8902445ec",
   "metadata": {},
   "outputs": [],
   "source": [
    "df_predictions, lst_models_trained = make_submission_file_nmodels(lst_X_trains, lst_y_trains, lst_y_vmf,lst_tests, lst_models, test_dates)"
   ]
  },
  {
   "cell_type": "markdown",
   "id": "e97fb91c-cc7e-48ef-83df-4b6d131f1526",
   "metadata": {},
   "source": [
    "### Saving"
   ]
  },
  {
   "cell_type": "code",
   "execution_count": null,
   "id": "b5194ad0-b07c-429a-8d63-07333d2b2dba",
   "metadata": {},
   "outputs": [],
   "source": [
    "nb_sub = 39\n",
    "model = \"maxAbsScaler-xgb-vmf\"\n",
    "prepro = 'RobustScaler'\n",
    "postpro = \"Prediction limited by 0-1\""
   ]
  },
  {
   "cell_type": "code",
   "execution_count": null,
   "id": "42c1c09d-c157-4f05-ac95-d9be1dc9407e",
   "metadata": {},
   "outputs": [],
   "source": [
    "df_predictions.to_csv(f'Predictions/submission_nb_{nb_sub}_{model}.csv', index=False, sep=';')"
   ]
  },
  {
   "cell_type": "code",
   "execution_count": null,
   "id": "835df921-caaf-4315-8eef-cea5f1267208",
   "metadata": {},
   "outputs": [],
   "source": [
    "df_predictions.head()"
   ]
  }
 ],
 "metadata": {
  "kernelspec": {
   "display_name": "Python 3 (ipykernel)",
   "language": "python",
   "name": "python3"
  },
  "language_info": {
   "codemirror_mode": {
    "name": "ipython",
    "version": 3
   },
   "file_extension": ".py",
   "mimetype": "text/x-python",
   "name": "python",
   "nbconvert_exporter": "python",
   "pygments_lexer": "ipython3",
   "version": "3.8.6"
  }
 },
 "nbformat": 4,
 "nbformat_minor": 5
}
