{
 "cells": [
  {
   "cell_type": "code",
   "execution_count": 2,
   "id": "0fb86a79-f341-4643-82e6-0408219390f5",
   "metadata": {},
   "outputs": [],
   "source": [
    "import pandas as pd\n",
    "import seaborn as sns\n",
    "import openpyxl\n",
    "from datetime import datetime, timedelta\n",
    "import matplotlib.pyplot as plt\n",
    "import numpy as np\n",
    "import os\n",
    "import pickle"
   ]
  },
  {
   "cell_type": "code",
   "execution_count": 3,
   "id": "bfea910b-fb76-46a2-80ad-d1491d49567d",
   "metadata": {},
   "outputs": [],
   "source": [
    "from sklearn.model_selection import KFold, train_test_split, cross_val_score\n",
    "from sklearn.preprocessing import MinMaxScaler, StandardScaler, MaxAbsScaler\n",
    "from sklearn.pipeline import Pipeline\n",
    "from sklearn.metrics import mean_squared_error, mean_absolute_error\n",
    "import optuna"
   ]
  },
  {
   "cell_type": "code",
   "execution_count": 4,
   "id": "7739ed39-1815-4c23-a388-60e613451564",
   "metadata": {},
   "outputs": [],
   "source": [
    "from sklearn.ensemble import StackingRegressor, RandomForestRegressor\n",
    "from sklearn.linear_model import RidgeCV, Ridge \n",
    "from sklearn.svm import LinearSVR\n",
    "from lightgbm import LGBMRegressor\n",
    "from xgboost import XGBRegressor"
   ]
  },
  {
   "cell_type": "code",
   "execution_count": 5,
   "id": "e79f511c-f061-45ca-9203-95d32a1cc00d",
   "metadata": {},
   "outputs": [],
   "source": [
    "from Functions.helper_functions import * "
   ]
  },
  {
   "cell_type": "code",
   "execution_count": 6,
   "id": "a494bf38-9907-4251-8c47-0f094a34654a",
   "metadata": {},
   "outputs": [],
   "source": [
    "import warnings\n",
    "warnings.filterwarnings(action='ignore', category=UserWarning)\n",
    "pd.options.mode.chained_assignment = None  # default='warn'"
   ]
  },
  {
   "cell_type": "markdown",
   "id": "064f5361-1843-4ab9-a2a8-3dc04729bd13",
   "metadata": {},
   "source": [
    "# Data import"
   ]
  },
  {
   "cell_type": "code",
   "execution_count": 7,
   "id": "ea8b2ff1-d89d-4586-8889-49f4cf1658fd",
   "metadata": {},
   "outputs": [],
   "source": [
    "train_wp1 = pd.read_csv('Data/Preprocessing/WP1_train_preprocessed.csv', sep=',')\n",
    "train_wp2 = pd.read_csv('Data/Preprocessing/WP2_train_preprocessed.csv', sep=',')\n",
    "train_wp3 = pd.read_csv('Data/Preprocessing/WP3_train_preprocessed.csv', sep=',')\n",
    "train_wp4 = pd.read_csv('Data/Preprocessing/WP4_train_preprocessed.csv', sep=',')\n",
    "train_wp5 = pd.read_csv('Data/Preprocessing/WP5_train_preprocessed.csv', sep=',')\n",
    "train_wp6 = pd.read_csv('Data/Preprocessing/WP6_train_preprocessed.csv', sep=',')\n",
    "\n",
    "test_wp1 = pd.read_csv('Data/Preprocessing/WP1_test_preprocessed.csv', sep=',')\n",
    "test_wp2 = pd.read_csv('Data/Preprocessing/WP2_test_preprocessed.csv', sep=',')\n",
    "test_wp3 = pd.read_csv('Data/Preprocessing/WP3_test_preprocessed.csv', sep=',')\n",
    "test_wp4 = pd.read_csv('Data/Preprocessing/WP4_test_preprocessed.csv', sep=',')\n",
    "test_wp5 = pd.read_csv('Data/Preprocessing/WP5_test_preprocessed.csv', sep=',')\n",
    "test_wp6 = pd.read_csv('Data/Preprocessing/WP6_test_preprocessed.csv', sep=',')\n",
    "test_dates = pd.read_csv('Data/Initial/test.csv', sep=',').date.values"
   ]
  },
  {
   "cell_type": "code",
   "execution_count": 8,
   "id": "c9ffd483-8b23-4c81-8b5b-4e343d8d5509",
   "metadata": {},
   "outputs": [],
   "source": [
    "to_drop = ['date','wd','forecast_time', 'forecast', \"forecast_dist\"]"
   ]
  },
  {
   "cell_type": "markdown",
   "id": "20602fcc-6d85-4fca-8167-258ae4087151",
   "metadata": {},
   "source": [
    "# Voting from previous submissions"
   ]
  },
  {
   "cell_type": "code",
   "execution_count": 57,
   "id": "d66cc85d-e18c-4c86-ae48-77ed16584b77",
   "metadata": {},
   "outputs": [],
   "source": [
    "pred_stack = pd.read_csv('Predictions/submission_nb_16_stacking_0-2xgboost+2lgbm_1-LinearSVR.csv', sep=';')\n",
    "pred_dnn =  pd.read_csv('Predictions/submission_nb_6_full_dnn.csv', sep=';')\n",
    "pred_lgbm_maxabs = pd.read_csv('Predictions/submission_nb_9_full_maxabs-lgbm.csv', sep=';')\n",
    "pred_xgboost = pd.read_csv('Predictions/submission_nb_8_full_absmax-xgboost.csv', sep=';')\n",
    "pred_ridge = pd.read_csv('Predictions/submission_nb_6_full_ridgecv.csv', sep=';')\n",
    "pred_lgbm_std = pd.read_csv('Predictions/submission_nb_7_full_std-lgbm.csv', sep=';')"
   ]
  },
  {
   "cell_type": "markdown",
   "id": "63416dc2-e6d2-4744-bf41-79273cd0d682",
   "metadata": {},
   "source": [
    "# Voting method "
   ]
  },
  {
   "cell_type": "markdown",
   "id": "9b3d666e-dfee-4008-bc72-a01504df3a6c",
   "metadata": {},
   "source": [
    "## Simple average"
   ]
  },
  {
   "cell_type": "code",
   "execution_count": 66,
   "id": "c12e7ad1-79f8-4ffa-ab37-5fbb3e6946bd",
   "metadata": {},
   "outputs": [],
   "source": [
    "w_stack = 3\n",
    "w_lgbm_maxabs = 2\n",
    "w_dnn = 1\n",
    "w_xgboost = 1.5\n",
    "w_ridge = 1\n",
    "w_lgbm_std = 1\n",
    "sum_weights = w_stack + w_lgbm_std + w_ridge + w_xgboost + w_dnn + w_lgbm_maxabs\n",
    "\n",
    "pred_av = (w_stack*pred_stack + w_lgbm_maxabs*pred_lgbm_maxabs + w_dnn*pred_dnn + w_xgboost*pred_xgboost + w_ridge*pred_ridge + w_lgbm_std*pred_lgbm_std)/sum_weights\n",
    "\n",
    "pred_av[\"date\"] = pred_av[\"date\"].astype(int)"
   ]
  },
  {
   "cell_type": "code",
   "execution_count": 67,
   "id": "924aff83-a082-47ec-a583-4f4d4d7ddffa",
   "metadata": {},
   "outputs": [
    {
     "data": {
      "text/html": [
       "<div>\n",
       "<style scoped>\n",
       "    .dataframe tbody tr th:only-of-type {\n",
       "        vertical-align: middle;\n",
       "    }\n",
       "\n",
       "    .dataframe tbody tr th {\n",
       "        vertical-align: top;\n",
       "    }\n",
       "\n",
       "    .dataframe thead th {\n",
       "        text-align: right;\n",
       "    }\n",
       "</style>\n",
       "<table border=\"1\" class=\"dataframe\">\n",
       "  <thead>\n",
       "    <tr style=\"text-align: right;\">\n",
       "      <th></th>\n",
       "      <th>date</th>\n",
       "      <th>wp1</th>\n",
       "      <th>wp2</th>\n",
       "      <th>wp3</th>\n",
       "      <th>wp4</th>\n",
       "      <th>wp5</th>\n",
       "      <th>wp6</th>\n",
       "    </tr>\n",
       "  </thead>\n",
       "  <tbody>\n",
       "    <tr>\n",
       "      <th>0</th>\n",
       "      <td>2011010101</td>\n",
       "      <td>0.723491</td>\n",
       "      <td>0.290215</td>\n",
       "      <td>0.073634</td>\n",
       "      <td>0.543231</td>\n",
       "      <td>0.769381</td>\n",
       "      <td>0.641463</td>\n",
       "    </tr>\n",
       "    <tr>\n",
       "      <th>1</th>\n",
       "      <td>2011010102</td>\n",
       "      <td>0.680920</td>\n",
       "      <td>0.330876</td>\n",
       "      <td>0.036355</td>\n",
       "      <td>0.485683</td>\n",
       "      <td>0.751763</td>\n",
       "      <td>0.660941</td>\n",
       "    </tr>\n",
       "    <tr>\n",
       "      <th>2</th>\n",
       "      <td>2011010103</td>\n",
       "      <td>0.627073</td>\n",
       "      <td>0.355641</td>\n",
       "      <td>0.100430</td>\n",
       "      <td>0.492717</td>\n",
       "      <td>0.772331</td>\n",
       "      <td>0.648006</td>\n",
       "    </tr>\n",
       "    <tr>\n",
       "      <th>3</th>\n",
       "      <td>2011010104</td>\n",
       "      <td>0.623136</td>\n",
       "      <td>0.377850</td>\n",
       "      <td>0.172904</td>\n",
       "      <td>0.532702</td>\n",
       "      <td>0.708793</td>\n",
       "      <td>0.661650</td>\n",
       "    </tr>\n",
       "    <tr>\n",
       "      <th>4</th>\n",
       "      <td>2011010105</td>\n",
       "      <td>0.738028</td>\n",
       "      <td>0.311827</td>\n",
       "      <td>0.277828</td>\n",
       "      <td>0.598646</td>\n",
       "      <td>0.727939</td>\n",
       "      <td>0.654823</td>\n",
       "    </tr>\n",
       "    <tr>\n",
       "      <th>...</th>\n",
       "      <td>...</td>\n",
       "      <td>...</td>\n",
       "      <td>...</td>\n",
       "      <td>...</td>\n",
       "      <td>...</td>\n",
       "      <td>...</td>\n",
       "      <td>...</td>\n",
       "    </tr>\n",
       "    <tr>\n",
       "      <th>7435</th>\n",
       "      <td>2012062420</td>\n",
       "      <td>0.135034</td>\n",
       "      <td>0.031992</td>\n",
       "      <td>0.282083</td>\n",
       "      <td>0.113497</td>\n",
       "      <td>0.208935</td>\n",
       "      <td>0.167370</td>\n",
       "    </tr>\n",
       "    <tr>\n",
       "      <th>7436</th>\n",
       "      <td>2012062421</td>\n",
       "      <td>0.129431</td>\n",
       "      <td>0.019523</td>\n",
       "      <td>0.334578</td>\n",
       "      <td>0.097063</td>\n",
       "      <td>0.293264</td>\n",
       "      <td>0.213511</td>\n",
       "    </tr>\n",
       "    <tr>\n",
       "      <th>7437</th>\n",
       "      <td>2012062422</td>\n",
       "      <td>0.086057</td>\n",
       "      <td>0.037189</td>\n",
       "      <td>0.435155</td>\n",
       "      <td>0.065048</td>\n",
       "      <td>0.233037</td>\n",
       "      <td>0.191023</td>\n",
       "    </tr>\n",
       "    <tr>\n",
       "      <th>7438</th>\n",
       "      <td>2012062423</td>\n",
       "      <td>0.069453</td>\n",
       "      <td>0.032257</td>\n",
       "      <td>0.453232</td>\n",
       "      <td>0.025873</td>\n",
       "      <td>0.151968</td>\n",
       "      <td>0.172628</td>\n",
       "    </tr>\n",
       "    <tr>\n",
       "      <th>7439</th>\n",
       "      <td>2012062500</td>\n",
       "      <td>0.064055</td>\n",
       "      <td>0.020179</td>\n",
       "      <td>0.473706</td>\n",
       "      <td>0.006619</td>\n",
       "      <td>0.168290</td>\n",
       "      <td>0.160909</td>\n",
       "    </tr>\n",
       "  </tbody>\n",
       "</table>\n",
       "<p>7440 rows × 7 columns</p>\n",
       "</div>"
      ],
      "text/plain": [
       "            date       wp1       wp2       wp3       wp4       wp5       wp6\n",
       "0     2011010101  0.723491  0.290215  0.073634  0.543231  0.769381  0.641463\n",
       "1     2011010102  0.680920  0.330876  0.036355  0.485683  0.751763  0.660941\n",
       "2     2011010103  0.627073  0.355641  0.100430  0.492717  0.772331  0.648006\n",
       "3     2011010104  0.623136  0.377850  0.172904  0.532702  0.708793  0.661650\n",
       "4     2011010105  0.738028  0.311827  0.277828  0.598646  0.727939  0.654823\n",
       "...          ...       ...       ...       ...       ...       ...       ...\n",
       "7435  2012062420  0.135034  0.031992  0.282083  0.113497  0.208935  0.167370\n",
       "7436  2012062421  0.129431  0.019523  0.334578  0.097063  0.293264  0.213511\n",
       "7437  2012062422  0.086057  0.037189  0.435155  0.065048  0.233037  0.191023\n",
       "7438  2012062423  0.069453  0.032257  0.453232  0.025873  0.151968  0.172628\n",
       "7439  2012062500  0.064055  0.020179  0.473706  0.006619  0.168290  0.160909\n",
       "\n",
       "[7440 rows x 7 columns]"
      ]
     },
     "execution_count": 67,
     "metadata": {},
     "output_type": "execute_result"
    }
   ],
   "source": [
    "pred_stack"
   ]
  },
  {
   "cell_type": "code",
   "execution_count": 68,
   "id": "6d181be6-397e-4d7c-ba5a-584217813fe1",
   "metadata": {},
   "outputs": [],
   "source": [
    "nb_sub = 23\n",
    "model = \"votingreg\"\n",
    "models = \"dnn-stdlgbm-maxabslgbm-xgboost-ridge-stack\"\n",
    "weight = 'Weighted'\n",
    "\n",
    "pred_av.to_csv(f'Predictions/submission_nb_{nb_sub}_{model}_{models}.csv', index=False, sep=';')\n",
    "f = open(f\"Predictions/submission-{nb_sub}_{model}_{models}.txt\", \"x\")\n",
    "f.write(f\"Model1: Predictions/submission_nb_6_full_dnn.csv\\n\")\n",
    "f.write(f\"Model1 weight: {w_dnn}\\n\\n\")\n",
    "f.write(f\"Model2: Predictions/submission_nb_9_full_maxabs-lgbm.csv\\n\")\n",
    "f.write(f\"Model2 weight: {w_lgbm_maxabs}\\n\\n\")\n",
    "f.write(f\"Model3: Predictions/submission_nb_8_full_absmax-xgboost.csv\\n\")\n",
    "f.write(f\"Model3 weight: {w_xgboost}\\n\\n\")\n",
    "f.write(f\"Model4: Predictions/submission_nb_6_full_ridgecv.csv \\n\")\n",
    "f.write(f\"Model4 weight: {w_ridge}\\n\\n\")\n",
    "f.write(f\"Model5: Predictions/submission_nb_7_full_std-lgbm.csv\\n\")\n",
    "f.write(f\"Model5 weight: {w_lgbm_std}\\n\\n\")\n",
    "f.write(f\"Model5: Predictions/submission_nb_16_stacking_0-2xgboost+2lgbm_1-LinearSVR.csv\\n\")\n",
    "f.write(f\"Model5 weight: {w_stack}\\n\\n\")\n",
    "f.write(f\"Type of weighted : {weight}\")\n",
    "f.close()"
   ]
  }
 ],
 "metadata": {
  "kernelspec": {
   "display_name": "Python 3",
   "language": "python",
   "name": "python3"
  },
  "language_info": {
   "codemirror_mode": {
    "name": "ipython",
    "version": 3
   },
   "file_extension": ".py",
   "mimetype": "text/x-python",
   "name": "python",
   "nbconvert_exporter": "python",
   "pygments_lexer": "ipython3",
   "version": "3.8.5"
  }
 },
 "nbformat": 4,
 "nbformat_minor": 5
}
