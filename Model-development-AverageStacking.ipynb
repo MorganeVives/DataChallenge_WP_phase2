{
 "cells": [
  {
   "cell_type": "code",
   "execution_count": 1,
   "id": "0fb86a79-f341-4643-82e6-0408219390f5",
   "metadata": {},
   "outputs": [],
   "source": [
    "import pandas as pd\n",
    "import seaborn as sns\n",
    "import openpyxl\n",
    "from datetime import datetime, timedelta\n",
    "import matplotlib.pyplot as plt\n",
    "import numpy as np\n",
    "import os\n",
    "import pickle"
   ]
  },
  {
   "cell_type": "code",
   "execution_count": 2,
   "id": "bfea910b-fb76-46a2-80ad-d1491d49567d",
   "metadata": {},
   "outputs": [],
   "source": [
    "from sklearn.model_selection import KFold, train_test_split, cross_val_score\n",
    "from sklearn.preprocessing import MinMaxScaler, StandardScaler, MaxAbsScaler\n",
    "from sklearn.pipeline import Pipeline\n",
    "from sklearn.metrics import mean_squared_error, mean_absolute_error\n",
    "import optuna"
   ]
  },
  {
   "cell_type": "code",
   "execution_count": 3,
   "id": "7739ed39-1815-4c23-a388-60e613451564",
   "metadata": {},
   "outputs": [],
   "source": [
    "from sklearn.ensemble import StackingRegressor, RandomForestRegressor\n",
    "from sklearn.linear_model import RidgeCV, Ridge \n",
    "from sklearn.svm import LinearSVR\n",
    "from lightgbm import LGBMRegressor\n",
    "from xgboost import XGBRegressor"
   ]
  },
  {
   "cell_type": "code",
   "execution_count": 4,
   "id": "e79f511c-f061-45ca-9203-95d32a1cc00d",
   "metadata": {},
   "outputs": [],
   "source": [
    "from Functions.helper_functions import * "
   ]
  },
  {
   "cell_type": "code",
   "execution_count": 5,
   "id": "a494bf38-9907-4251-8c47-0f094a34654a",
   "metadata": {},
   "outputs": [],
   "source": [
    "import warnings\n",
    "warnings.filterwarnings(action='ignore', category=UserWarning)\n",
    "pd.options.mode.chained_assignment = None  # default='warn'"
   ]
  },
  {
   "cell_type": "markdown",
   "id": "064f5361-1843-4ab9-a2a8-3dc04729bd13",
   "metadata": {},
   "source": [
    "# Data import"
   ]
  },
  {
   "cell_type": "code",
   "execution_count": 6,
   "id": "ea8b2ff1-d89d-4586-8889-49f4cf1658fd",
   "metadata": {
    "jupyter": {
     "source_hidden": true
    },
    "tags": []
   },
   "outputs": [],
   "source": [
    "# train_wp1 = pd.read_csv('Data/Preprocessing/WP1_train_preprocessed.csv', sep=',')\n",
    "# train_wp2 = pd.read_csv('Data/Preprocessing/WP2_train_preprocessed.csv', sep=',')\n",
    "# train_wp3 = pd.read_csv('Data/Preprocessing/WP3_train_preprocessed.csv', sep=',')\n",
    "# train_wp4 = pd.read_csv('Data/Preprocessing/WP4_train_preprocessed.csv', sep=',')\n",
    "# train_wp5 = pd.read_csv('Data/Preprocessing/WP5_train_preprocessed.csv', sep=',')\n",
    "# train_wp6 = pd.read_csv('Data/Preprocessing/WP6_train_preprocessed.csv', sep=',')\n",
    "\n",
    "# test_wp1 = pd.read_csv('Data/Preprocessing/WP1_test_preprocessed.csv', sep=',')\n",
    "# test_wp2 = pd.read_csv('Data/Preprocessing/WP2_test_preprocessed.csv', sep=',')\n",
    "# test_wp3 = pd.read_csv('Data/Preprocessing/WP3_test_preprocessed.csv', sep=',')\n",
    "# test_wp4 = pd.read_csv('Data/Preprocessing/WP4_test_preprocessed.csv', sep=',')\n",
    "# test_wp5 = pd.read_csv('Data/Preprocessing/WP5_test_preprocessed.csv', sep=',')\n",
    "# test_wp6 = pd.read_csv('Data/Preprocessing/WP6_test_preprocessed.csv', sep=',')\n",
    "# test_dates = pd.read_csv('Data/Initial/test.csv', sep=',').date.values"
   ]
  },
  {
   "cell_type": "code",
   "execution_count": 7,
   "id": "c9ffd483-8b23-4c81-8b5b-4e343d8d5509",
   "metadata": {},
   "outputs": [],
   "source": [
    "to_drop = ['date','wd','forecast_time', 'forecast', \"forecast_dist\"]"
   ]
  },
  {
   "cell_type": "markdown",
   "id": "20602fcc-6d85-4fca-8167-258ae4087151",
   "metadata": {},
   "source": [
    "# Voting from previous submissions"
   ]
  },
  {
   "cell_type": "code",
   "execution_count": 48,
   "id": "d66cc85d-e18c-4c86-ae48-77ed16584b77",
   "metadata": {},
   "outputs": [],
   "source": [
    "pred_stack = pd.read_csv('Predictions/submission_nb_16_stacking_0-2xgboost+2lgbm_1-LinearSVR.csv', sep=';')\n",
    "pred_dnn =  pd.read_csv('Predictions/submission_nb_6_full_dnn.csv', sep=';')\n",
    "pred_lgbm_maxabs = pd.read_csv('Predictions/submission_nb_9_full_maxabs-lgbm.csv', sep=';')\n",
    "pred_xgboost = pd.read_csv('Predictions/submission_nb_8_full_absmax-xgboost.csv', sep=';')\n",
    "pred_ridge = pd.read_csv('Predictions/submission_nb_6_full_ridgecv.csv', sep=';')\n",
    "pred_lgbm_std = pd.read_csv('Predictions/submission_nb_7_full_std-lgbm.csv', sep=';')\n",
    "\n",
    "\n",
    "score_1 = 0.112119\n",
    "pred_1 = pd.read_csv('Predictions/submission_nb_31_blending_stacking_0-GBoost-RidgeCV-LinearSVR-ExtraTrees-KRR-ENet_1-LinearSVR.csv', sep=';')\n",
    "w_1 = 1\n",
    "\n",
    "score_2 = 0.112449\n",
    "pred_2 = pd.read_csv('Predictions/submission_nb_28_metalearner_stacking_0-2gboost-2lgbm-ridge-linearsvr-extratrees_1-Ridgecv.csv', sep=';')\n",
    "w_2 = 1\n",
    "\n",
    "score_3 = 0.115305\n",
    "pred_3 = pd.read_csv('Predictions/submission_nb_16_stacking_0-2xgboost+2lgbm_1-LinearSVR.csv', sep=';')\n",
    "w_3 = 1\n",
    "\n",
    "score_4 = 0.115536\n",
    "pred_4 = pd.read_csv('Predictions/submission_nb_32_blending_stacking_0-10-LGBM_1-RidgeCV.csv', sep=';')\n",
    "w_4 = 1\n",
    "\n",
    "score_5 = 0.116202\n",
    "pred_5 = pd.read_csv('Predictions/submission_nb_15_stacking_0-xgboost+lgbm_1-LinearSVR.csv', sep=';')\n",
    "w_5 = 1\n",
    "\n",
    "score_6 = 0.116523\n",
    "pred_6 = pd.read_csv('Predictions/submission_nb_33_blending_stacking_0-10-XGBOOST_1-RidgeCV.csv', sep=';')\n",
    "w_6 = 1\n",
    "\n",
    "score_7 = 0.118056\n",
    "pred_7 = pd.read_csv('Predictions/submission_nb_25_cv_stacking_0-ENet-GBoost-KRR-SVR-ridge-xtratree_1-Lasso.csv', sep=';')\n",
    "w_7 = 1\n",
    "\n",
    "\n",
    "score_8 = 0.119004\n",
    "pred_8 = pd.read_csv('Predictions/submission_nb_24_stacking_0-2gboost+2lgbm+ridge+linearsvr+extratrees_1-Ridgecv.csv', sep=';')\n",
    "w_8 = 1\n",
    "\n",
    "sum_weights = w_1 + w_2 + w_3 + w_4 + w_5 + w_6 + w_7 + w_8"
   ]
  },
  {
   "cell_type": "code",
   "execution_count": 49,
   "id": "bdc29d34-9568-49c3-b6ec-149d9e6af19f",
   "metadata": {},
   "outputs": [
    {
     "data": {
      "text/plain": [
       "8"
      ]
     },
     "execution_count": 49,
     "metadata": {},
     "output_type": "execute_result"
    }
   ],
   "source": [
    "sum_weights"
   ]
  },
  {
   "cell_type": "markdown",
   "id": "63416dc2-e6d2-4744-bf41-79273cd0d682",
   "metadata": {},
   "source": [
    "# Voting method "
   ]
  },
  {
   "cell_type": "markdown",
   "id": "9b3d666e-dfee-4008-bc72-a01504df3a6c",
   "metadata": {},
   "source": [
    "## Simple average"
   ]
  },
  {
   "cell_type": "code",
   "execution_count": 50,
   "id": "c12e7ad1-79f8-4ffa-ab37-5fbb3e6946bd",
   "metadata": {},
   "outputs": [],
   "source": [
    "pred_av = (w_1*pred_1 + w_2*pred_2 + w_3*pred_3 + w_4*pred_4 + w_5*pred_5 + w_6*pred_6 + w_7*pred_7 + + w_8*pred_8)/sum_weights"
   ]
  },
  {
   "cell_type": "code",
   "execution_count": 51,
   "id": "0c5c6765-cd73-41d3-b297-43af12d8fa86",
   "metadata": {},
   "outputs": [
    {
     "data": {
      "text/html": [
       "<div>\n",
       "<style scoped>\n",
       "    .dataframe tbody tr th:only-of-type {\n",
       "        vertical-align: middle;\n",
       "    }\n",
       "\n",
       "    .dataframe tbody tr th {\n",
       "        vertical-align: top;\n",
       "    }\n",
       "\n",
       "    .dataframe thead th {\n",
       "        text-align: right;\n",
       "    }\n",
       "</style>\n",
       "<table border=\"1\" class=\"dataframe\">\n",
       "  <thead>\n",
       "    <tr style=\"text-align: right;\">\n",
       "      <th></th>\n",
       "      <th>date</th>\n",
       "      <th>wp1</th>\n",
       "      <th>wp2</th>\n",
       "      <th>wp3</th>\n",
       "      <th>wp4</th>\n",
       "      <th>wp5</th>\n",
       "      <th>wp6</th>\n",
       "    </tr>\n",
       "  </thead>\n",
       "  <tbody>\n",
       "    <tr>\n",
       "      <th>0</th>\n",
       "      <td>2011010101</td>\n",
       "      <td>0.689188</td>\n",
       "      <td>0.329246</td>\n",
       "      <td>0.061754</td>\n",
       "      <td>0.540545</td>\n",
       "      <td>0.728689</td>\n",
       "      <td>0.596446</td>\n",
       "    </tr>\n",
       "    <tr>\n",
       "      <th>1</th>\n",
       "      <td>2011010102</td>\n",
       "      <td>0.633314</td>\n",
       "      <td>0.355099</td>\n",
       "      <td>0.033871</td>\n",
       "      <td>0.485653</td>\n",
       "      <td>0.725137</td>\n",
       "      <td>0.609132</td>\n",
       "    </tr>\n",
       "    <tr>\n",
       "      <th>2</th>\n",
       "      <td>2011010103</td>\n",
       "      <td>0.589158</td>\n",
       "      <td>0.389185</td>\n",
       "      <td>0.090877</td>\n",
       "      <td>0.487014</td>\n",
       "      <td>0.732418</td>\n",
       "      <td>0.617269</td>\n",
       "    </tr>\n",
       "    <tr>\n",
       "      <th>3</th>\n",
       "      <td>2011010104</td>\n",
       "      <td>0.612945</td>\n",
       "      <td>0.378562</td>\n",
       "      <td>0.170428</td>\n",
       "      <td>0.526409</td>\n",
       "      <td>0.718101</td>\n",
       "      <td>0.630358</td>\n",
       "    </tr>\n",
       "    <tr>\n",
       "      <th>4</th>\n",
       "      <td>2011010105</td>\n",
       "      <td>0.684021</td>\n",
       "      <td>0.293866</td>\n",
       "      <td>0.308869</td>\n",
       "      <td>0.604287</td>\n",
       "      <td>0.755498</td>\n",
       "      <td>0.632843</td>\n",
       "    </tr>\n",
       "    <tr>\n",
       "      <th>...</th>\n",
       "      <td>...</td>\n",
       "      <td>...</td>\n",
       "      <td>...</td>\n",
       "      <td>...</td>\n",
       "      <td>...</td>\n",
       "      <td>...</td>\n",
       "      <td>...</td>\n",
       "    </tr>\n",
       "    <tr>\n",
       "      <th>7435</th>\n",
       "      <td>2012062420</td>\n",
       "      <td>0.112774</td>\n",
       "      <td>0.045312</td>\n",
       "      <td>0.255537</td>\n",
       "      <td>0.119175</td>\n",
       "      <td>0.207148</td>\n",
       "      <td>0.184635</td>\n",
       "    </tr>\n",
       "    <tr>\n",
       "      <th>7436</th>\n",
       "      <td>2012062421</td>\n",
       "      <td>0.104274</td>\n",
       "      <td>0.035682</td>\n",
       "      <td>0.338672</td>\n",
       "      <td>0.115746</td>\n",
       "      <td>0.260539</td>\n",
       "      <td>0.212569</td>\n",
       "    </tr>\n",
       "    <tr>\n",
       "      <th>7437</th>\n",
       "      <td>2012062422</td>\n",
       "      <td>0.075431</td>\n",
       "      <td>0.033170</td>\n",
       "      <td>0.425077</td>\n",
       "      <td>0.090197</td>\n",
       "      <td>0.212895</td>\n",
       "      <td>0.193319</td>\n",
       "    </tr>\n",
       "    <tr>\n",
       "      <th>7438</th>\n",
       "      <td>2012062423</td>\n",
       "      <td>0.056973</td>\n",
       "      <td>0.030595</td>\n",
       "      <td>0.470779</td>\n",
       "      <td>0.046954</td>\n",
       "      <td>0.142213</td>\n",
       "      <td>0.165646</td>\n",
       "    </tr>\n",
       "    <tr>\n",
       "      <th>7439</th>\n",
       "      <td>2012062500</td>\n",
       "      <td>0.066226</td>\n",
       "      <td>0.025425</td>\n",
       "      <td>0.484795</td>\n",
       "      <td>0.033859</td>\n",
       "      <td>0.146746</td>\n",
       "      <td>0.164294</td>\n",
       "    </tr>\n",
       "  </tbody>\n",
       "</table>\n",
       "<p>7440 rows × 7 columns</p>\n",
       "</div>"
      ],
      "text/plain": [
       "            date       wp1       wp2       wp3       wp4       wp5       wp6\n",
       "0     2011010101  0.689188  0.329246  0.061754  0.540545  0.728689  0.596446\n",
       "1     2011010102  0.633314  0.355099  0.033871  0.485653  0.725137  0.609132\n",
       "2     2011010103  0.589158  0.389185  0.090877  0.487014  0.732418  0.617269\n",
       "3     2011010104  0.612945  0.378562  0.170428  0.526409  0.718101  0.630358\n",
       "4     2011010105  0.684021  0.293866  0.308869  0.604287  0.755498  0.632843\n",
       "...          ...       ...       ...       ...       ...       ...       ...\n",
       "7435  2012062420  0.112774  0.045312  0.255537  0.119175  0.207148  0.184635\n",
       "7436  2012062421  0.104274  0.035682  0.338672  0.115746  0.260539  0.212569\n",
       "7437  2012062422  0.075431  0.033170  0.425077  0.090197  0.212895  0.193319\n",
       "7438  2012062423  0.056973  0.030595  0.470779  0.046954  0.142213  0.165646\n",
       "7439  2012062500  0.066226  0.025425  0.484795  0.033859  0.146746  0.164294\n",
       "\n",
       "[7440 rows x 7 columns]"
      ]
     },
     "execution_count": 51,
     "metadata": {},
     "output_type": "execute_result"
    }
   ],
   "source": [
    "pred_av[\"date\"] = pred_av[\"date\"].astype(int)\n",
    "pred_av"
   ]
  },
  {
   "cell_type": "code",
   "execution_count": 52,
   "id": "6d181be6-397e-4d7c-ba5a-584217813fe1",
   "metadata": {},
   "outputs": [],
   "source": [
    "nb_sub = 35\n",
    "model = \"votingreg\"\n",
    "# models = \"dnn-stdlgbm-maxabslgbm-xgboost-ridge-stack\"\n",
    "models = \"8-best_models\"\n",
    "weight = 'Weighted'\n",
    "\n",
    "pred_av.to_csv(f'Predictions/submission_nb_{nb_sub}_{model}_{models}.csv', index=False, sep=';')\n",
    "f = open(f\"Predictions/submission-{nb_sub}_{model}_{models}.txt\", \"x\")\n",
    "f.write(f\"Model: Predictions/submission_nb_31_blending_stacking_0-GBoost-RidgeCV-LinearSVR-ExtraTrees-KRR-ENet_1-LinearSVR.csv\\n\")\n",
    "f.write(f\"Model weight: {w_1}\\n\\n\")\n",
    "f.write(f\"Model: Predictions/submission_nb_28_metalearner_stacking_0-2gboost-2lgbm-ridge-linearsvr-extratrees_1-Ridgecv.csv\\n\")\n",
    "f.write(f\"Model weight: {w_2}\\n\\n\")\n",
    "f.write(f\"Model: Predictions/submission_nb_16_stacking_0-2xgboost+2lgbm_1-LinearSVR.csv\\n\")\n",
    "f.write(f\"Model weight: {w_3}\\n\\n\")\n",
    "f.write(f\"Model: Predictions/submission_nb_32_blending_stacking_0-10-LGBM_1-RidgeCV.csv\\n\")\n",
    "f.write(f\"Model weight: {w_4}\\n\\n\")\n",
    "f.write(f\"Model: Predictions/submission_nb_15_stacking_0-xgboost+lgbm_1-LinearSVR.csv\\n\")\n",
    "f.write(f\"Model weight: {w_5}\\n\\n\")\n",
    "f.write(f\"Model: Predictions/submission_nb_33_blending_stacking_0-10-XGBOOST_1-RidgeCV.csv\\n\")\n",
    "f.write(f\"Model weight: {w_6}\\n\\n\")\n",
    "f.write(f\"Model: Predictions/submission_nb_25_cv_stacking_0-ENet-GBoost-KRR-SVR-ridge-xtratree_1-Lasso.csv\\n\")\n",
    "f.write(f\"Model weight: {w_7}\\n\\n\")\n",
    "f.write(f\"Model: Predictions/Predictions/submission_nb_24_stacking_0-2gboost+2lgbm+ridge+linearsvr+extratrees_1-Ridgecv.csv\\n\")\n",
    "f.write(f\"Model weight: {w_8}\\n\\n\")\n",
    "\n",
    "f.write(f\"Type of weighted : {weight}\")\n",
    "f.close()"
   ]
  }
 ],
 "metadata": {
  "kernelspec": {
   "display_name": "Python 3",
   "language": "python",
   "name": "python3"
  },
  "language_info": {
   "codemirror_mode": {
    "name": "ipython",
    "version": 3
   },
   "file_extension": ".py",
   "mimetype": "text/x-python",
   "name": "python",
   "nbconvert_exporter": "python",
   "pygments_lexer": "ipython3",
   "version": "3.9.2"
  }
 },
 "nbformat": 4,
 "nbformat_minor": 5
}
