{
 "cells": [
  {
   "cell_type": "markdown",
   "id": "261ec557-50a0-4cd6-8bec-268d1dee685a",
   "metadata": {},
   "source": [
    "# LGBM VMD Model development"
   ]
  },
  {
   "cell_type": "code",
   "execution_count": 1,
   "id": "1399bb0f-0234-43a6-b724-73f21f9b28b7",
   "metadata": {},
   "outputs": [],
   "source": [
    "import pandas as pd\n",
    "import seaborn as sns\n",
    "import openpyxl\n",
    "from datetime import datetime, timedelta\n",
    "import matplotlib.pyplot as plt\n",
    "import numpy as np\n",
    "import os\n",
    "import pickle"
   ]
  },
  {
   "cell_type": "code",
   "execution_count": 2,
   "id": "9a662ef3-a957-41fe-955d-1c5e99709226",
   "metadata": {},
   "outputs": [],
   "source": [
    "from sklearn.model_selection import KFold, train_test_split, cross_val_score\n",
    "from sklearn.preprocessing import MinMaxScaler, StandardScaler, MaxAbsScaler, RobustScaler\n",
    "from sklearn.pipeline import Pipeline\n",
    "from sklearn.metrics import mean_squared_error, mean_absolute_error\n",
    "import optuna\n",
    "from vmdpy import VMD"
   ]
  },
  {
   "cell_type": "code",
   "execution_count": 3,
   "id": "0bc7dfff-4363-41ad-bfd2-5e5dd7c0ef63",
   "metadata": {},
   "outputs": [],
   "source": [
    "from Functions.helper_functions import * "
   ]
  },
  {
   "cell_type": "code",
   "execution_count": 4,
   "id": "3c184629-3914-4a2c-ba3f-5f111909f344",
   "metadata": {},
   "outputs": [],
   "source": [
    "import warnings\n",
    "warnings.filterwarnings(action='ignore', category=UserWarning)\n",
    "pd.options.mode.chained_assignment = None  # default='warn'"
   ]
  },
  {
   "cell_type": "code",
   "execution_count": 5,
   "id": "6333588b-f1b0-4a5b-afea-e53064be0d99",
   "metadata": {},
   "outputs": [],
   "source": [
    "np.random.seed(42)"
   ]
  },
  {
   "cell_type": "markdown",
   "id": "b617c0f5-e679-4a3f-9a62-12e03303d11f",
   "metadata": {},
   "source": [
    "# Data"
   ]
  },
  {
   "cell_type": "code",
   "execution_count": 6,
   "id": "c4d3258c-6931-447d-84b7-ac52ed05673a",
   "metadata": {},
   "outputs": [],
   "source": [
    "train_wp1 = pd.read_csv('Data/Preprocessing/WP1_train_preprocessed.csv', sep=',')\n",
    "train_wp2 = pd.read_csv('Data/Preprocessing/WP2_train_preprocessed.csv', sep=',')\n",
    "train_wp3 = pd.read_csv('Data/Preprocessing/WP3_train_preprocessed.csv', sep=',')\n",
    "train_wp4 = pd.read_csv('Data/Preprocessing/WP4_train_preprocessed.csv', sep=',')\n",
    "train_wp5 = pd.read_csv('Data/Preprocessing/WP5_train_preprocessed.csv', sep=',')\n",
    "train_wp6 = pd.read_csv('Data/Preprocessing/WP6_train_preprocessed.csv', sep=',')"
   ]
  },
  {
   "cell_type": "code",
   "execution_count": 7,
   "id": "69f752d4-63ed-43b9-9315-41ecaa114ce4",
   "metadata": {},
   "outputs": [],
   "source": [
    "test_wp1 = pd.read_csv('Data/Preprocessing/WP1_test_preprocessed.csv', sep=',')\n",
    "test_wp2 = pd.read_csv('Data/Preprocessing/WP2_test_preprocessed.csv', sep=',')\n",
    "test_wp3 = pd.read_csv('Data/Preprocessing/WP3_test_preprocessed.csv', sep=',')\n",
    "test_wp4 = pd.read_csv('Data/Preprocessing/WP4_test_preprocessed.csv', sep=',')\n",
    "test_wp5 = pd.read_csv('Data/Preprocessing/WP5_test_preprocessed.csv', sep=',')\n",
    "test_wp6 = pd.read_csv('Data/Preprocessing/WP6_test_preprocessed.csv', sep=',')\n",
    "test_dates = pd.read_csv('Data/Initial/test.csv', sep=',').date.values"
   ]
  },
  {
   "cell_type": "code",
   "execution_count": 8,
   "id": "7540aa92-fc5e-4431-8e79-faba9f0cecad",
   "metadata": {},
   "outputs": [],
   "source": [
    "to_drop = ['date','wd','forecast_time', 'forecast', \"forecast_dist\"]"
   ]
  },
  {
   "cell_type": "code",
   "execution_count": 9,
   "id": "b0be88be-a88e-4777-a80f-66d64c4d0089",
   "metadata": {
    "tags": []
   },
   "outputs": [],
   "source": [
    "u_to_drop = [\n",
    "    'u_T_1', 'u_T_2', 'u_T_3', 'u_T_4', 'u_T_5', 'u_T_6', \n",
    "    'u_T_2_mean', 'u_T_3_mean', 'u_T_4_mean', 'u_T_5_mean', 'u_T_6_mean', 'u_T_7_mean',\n",
    "    'u_T_8_mean', 'u_T_9_mean', 'u_T_10_mean', 'u_T_11_mean', 'u_T_12_mean','u_T_24_mean',\n",
    "    'u_T_2_std', 'u_T_4_std', 'u_T_5_std', 'u_T_6_std',\n",
    "    'u_T_2_median', 'u_T_3_median', 'u_T_4_median', 'u_T_5_median', 'u_T_6_median', 'u_T_12_median','u_T_24_median', 'u_T_36_median',\n",
    "    'u_T_2_max', 'u_T_3_max', 'u_T_4_max', 'u_T_5_max', 'u_T_6_max', 'u_T_12_max',\n",
    "    'u_T_2_min', 'u_T_3_min', 'u_T_4_min', 'u_T_5_min', 'u_T_6_min', 'u_T_12_min',\n",
    "    'u2_T_1', 'u2_T_2', 'u2_T_3', 'u2_T_4', 'u2_T_5', 'u2_T_6', \n",
    "    'u2_T_2_mean', 'u2_T_3_mean', 'u2_T_4_mean', 'u2_T_5_mean', 'u2_T_6_mean', 'u2_T_7_mean',\n",
    "    'u2_T_8_mean', 'u2_T_9_mean', 'u2_T_10_mean', 'u2_T_11_mean', 'u2_T_12_mean','u2_T_24_mean',\n",
    "    'u2_T_2_std', 'u2_T_4_std', 'u2_T_5_std', 'u2_T_6_std', 'u2_T_24_std',\n",
    "    'u2_T_2_median', 'u2_T_3_median', 'u2_T_4_median', 'u2_T_5_median', 'u2_T_6_median', 'u2_T_12_median',\n",
    "    'u2_T_2_max','u2_T_3_max', 'u2_T_4_max','u2_T_5_max', 'u2_T_6_max', 'u2_T_12_max',\n",
    "    'u2_T_2_min', 'u2_T_3_min', 'u2_T_4_min', 'u2_T_5_min', 'u2_T_6_min',\n",
    "    'u2_T_12', 'u2_T_36_mean', 'u2_T_36_std', 'u2_T_24_median', 'u2_T_24_max',\n",
    "    'u_T_36_mean','u_T_12','u_T_24_max','u2_T_36_median','u_T_24_min'\n",
    "]\n",
    "ws_to_drop = [\n",
    "    'ws_T_1', 'ws_T_2', 'ws_T_3', 'ws_T_4', 'ws_T_5', 'ws_T_6', 'ws_T_7', 'ws_T_8', 'ws_T_10','ws_T_11', 'ws_T_12',\n",
    "    'ws_T_2_mean', 'ws_T_3_mean', 'ws_T_4_mean', 'ws_T_5_mean', 'ws_T_6_mean', 'ws_T_7_mean', 'ws_T_8_mean', 'ws_T_9_mean', \n",
    "    'ws_T_10_mean', 'ws_T_11_mean', 'ws_T_12_mean', 'ws_T_24_mean', \n",
    "    'ws_T_2_std', 'ws_T_3_std', 'ws_T_4_std', 'ws_T_5_std', \n",
    "    'ws_T_2_median', 'ws_T_3_median', 'ws_T_4_median', 'ws_T_5_median', 'ws_T_6_median',\n",
    "    'ws_T_12_median', 'ws_T_24_median', 'ws_T_36_median',\n",
    "    'ws_T_2_max', 'ws_T_3_max', 'ws_T_4_max', 'ws_T_5_max','ws_T_6_max', 'ws_T_12_max',\n",
    "     'ws_T_2_min', 'ws_T_3_min', 'ws_T_4_min', 'ws_T_5_min', 'ws_T_6_min', 'ws_T_12_min','ws_T_24_max','ws_T_24_min'\n",
    "]\n",
    "\n",
    "v_to_drop = [\n",
    "    'v_T_1', 'v_T_2', 'v_T_3', 'v_T_4', 'v_T_5', 'v_T_6', \n",
    "    'v_T_2_mean', 'v_T_3_mean', 'v_T_4_mean', 'v_T_5_mean', 'v_T_6_mean', 'v_T_7_mean',\n",
    "    'v_T_8_mean', 'v_T_9_mean', 'v_T_10_mean', 'v_T_11_mean', 'v_T_12_mean', 'v_T_24_mean','v_T_36_mean',\n",
    "    'v_T_3_std', 'v_T_4_std', 'v_T_5_std','v_T_6_std','v_T_24_std', 'v_T_36_median',\n",
    "    'v_T_2_median', 'v_T_3_median', 'v_T_4_median', 'v_T_5_median', 'v_T_6_median', \n",
    "    'v_T_2_max', 'v_T_3_max', 'v_T_4_max', 'v_T_5_max', 'v_T_6_max', 'v_T_12_max', \n",
    "    'v_T_2_min', 'v_T_3_min', 'v_T_4_min', 'v_T_5_min', 'v_T_6_min', 'v_T_12_min', \n",
    "    'v_T_36_min', 'v_T_36', 'v_T_24_max',  'v_T_12_median', 'v_T_24_median',\n",
    "]\n",
    "\n",
    "wd_to_drop = [\n",
    "    'coswd_1', 'coswd_2', 'coswd_3', 'coswd_4', 'coswd_5', 'coswd_6',\n",
    "    'coswd_2_mean', 'coswd_3_mean', 'coswd_4_mean', 'coswd_5_mean', 'coswd_6_mean', 'coswd_7_mean', \n",
    "    'coswd_8_mean', 'coswd_9_mean', 'coswd_10_mean', 'coswd_11_mean', 'coswd_12_mean', 'coswd_24_mean', \n",
    "    'coswd_3_std', 'coswd_4_std','coswd_5_std','coswd_2_median', 'coswd_3_median','coswd_4_median', \n",
    "    'coswd_5_median', 'coswd_6_median', 'coswd_36_median', 'coswd_24_median', 'coswd_12_median',\n",
    "    'coswd_2_max', 'coswd_3_max', 'coswd_4_max', 'coswd_5_max', 'coswd_6_max', 'coswd_12_max', 'coswd_24_max',\n",
    "    'coswd_2_min', 'coswd_3_min', 'coswd_4_min', 'coswd_5_min', 'coswd_6_min', 'coswd_12_min', 'coswd_24_min',\n",
    "    'ws_T_36_max', 'ws_T_36_min', 'coswd_12', 'coswd_24'\n",
    "]\n",
    "\n",
    "other_to_drop = [\n",
    "    'cos_day', 'u', 'v'\n",
    "]\n",
    "\n",
    "feature_corr = u_to_drop+ws_to_drop+v_to_drop+wd_to_drop+other_to_drop\n",
    "to_drop = feature_corr+to_drop"
   ]
  },
  {
   "cell_type": "markdown",
   "id": "d0204367-344e-4837-9d27-c07833112862",
   "metadata": {},
   "source": [
    "# LGBM functions"
   ]
  },
  {
   "cell_type": "code",
   "execution_count": 10,
   "id": "df77bdff-aa3c-42cd-91a2-4ecb5bffdead",
   "metadata": {
    "tags": []
   },
   "outputs": [],
   "source": [
    "from lightgbm import LGBMRegressor"
   ]
  },
  {
   "cell_type": "code",
   "execution_count": 11,
   "id": "0c2fd0c0-976c-4e83-8a23-a86d1864e2a7",
   "metadata": {
    "tags": []
   },
   "outputs": [],
   "source": [
    "# def lgbm_cross_validation(X, y, params):\n",
    "#     if params == None:\n",
    "#         model = LGBMRegressor()\n",
    "#     else:\n",
    "#         model = LGBMRegressor(**params)\n",
    "\n",
    "#     print('-----------LGBM CROSS VALIDATION BEGINNING-----------')\n",
    "#     split = 10\n",
    "#     kf = KFold(n_splits=split, shuffle=True)       \n",
    "#     lgbm_rmse_scores = []\n",
    "#     lgbm_mae_scores = []\n",
    "#     i = 1\n",
    "#     for (train_index, test_index) in kf.split(pd.DataFrame(X), pd.DataFrame(y)):\n",
    "#         X_train, X_test = pd.DataFrame(X).iloc[train_index], pd.DataFrame(X).iloc[test_index]\n",
    "#         Y_train, Y_test = pd.DataFrame(y).iloc[train_index],pd.DataFrame(y).iloc[test_index]\n",
    "\n",
    "#         model.fit(X_train, Y_train, eval_set=[(X_test, Y_test)], verbose=100)\n",
    "\n",
    "#         prediction = model.predict(X_test)\n",
    "#         lgbm_rmse_scores.append(mean_squared_error(Y_test, prediction,squared=False))\n",
    "#         lgbm_mae_scores.append(mean_absolute_error(Y_test, prediction))\n",
    "        \n",
    "#         print(show_evaluation(prediction, Y_test))\n",
    "#         print(f'-------------------FOLD {i}-----------------')\n",
    "#         i+=1\n",
    "\n",
    "#     print('---------------CROSS VALIDATION COMPLETE-------------')\n",
    "#     print('--------------------------RMSE-----------------------')\n",
    "#     display_scores(lgbm_rmse_scores)\n",
    "#     print('--------------------------MAE------------------------')\n",
    "#     display_scores(lgbm_mae_scores)"
   ]
  },
  {
   "cell_type": "code",
   "execution_count": 12,
   "id": "2f35f398-953b-4984-97de-0cc2e9c637b1",
   "metadata": {
    "tags": []
   },
   "outputs": [],
   "source": [
    "def lgbm_scaled_cross_validation(X, y, params):\n",
    "    if params == None:\n",
    "#         model = Pipeline([('scaler', MaxAbsScaler()),('ridge', LGBMRegressor())])\n",
    "        model = Pipeline([('scaler', RobustScaler()),('ridge', LGBMRegressor())])\n",
    "    else:\n",
    "#         model = Pipeline([('scaler', MaxAbsScaler()),('ridge', LGBMRegressor(**params))])\n",
    "        model = Pipeline([('scaler', RobustScaler()),('ridge', LGBMRegressor(**params))])\n",
    "\n",
    "    print('-----------LGBM CROSS VALIDATION BEGINNING-----------')\n",
    "    split = 10\n",
    "    kf = KFold(n_splits=split, shuffle=True)       \n",
    "    lgbm_rmse_scores = []\n",
    "    lgbm_mae_scores = []\n",
    "    i = 1\n",
    "    for (train_index, test_index) in kf.split(pd.DataFrame(X), pd.DataFrame(y)):\n",
    "        X_train, X_test = pd.DataFrame(X).iloc[train_index], pd.DataFrame(X).iloc[test_index]\n",
    "        Y_train, Y_test = pd.DataFrame(y).iloc[train_index],pd.DataFrame(y).iloc[test_index]\n",
    "\n",
    "        model.fit(X_train, Y_train)\n",
    "\n",
    "        prediction = model.predict(X_test)\n",
    "        lgbm_rmse_scores.append(mean_squared_error(Y_test, prediction,squared=False))\n",
    "        lgbm_mae_scores.append(mean_absolute_error(Y_test, prediction))\n",
    "        \n",
    "        print(show_evaluation(prediction, Y_test))\n",
    "        print(f'-------------------FOLD {i}-----------------')\n",
    "        i+=1\n",
    "\n",
    "    print('---------------CROSS VALIDATION COMPLETE-------------')\n",
    "    print('--------------------------RMSE-----------------------')\n",
    "    display_scores(lgbm_rmse_scores)\n",
    "    print('--------------------------MAE------------------------')\n",
    "    display_scores(lgbm_mae_scores)"
   ]
  },
  {
   "cell_type": "code",
   "execution_count": 13,
   "id": "2155b5a6-2476-434d-832f-2f92dd646d67",
   "metadata": {
    "tags": []
   },
   "outputs": [],
   "source": [
    "def hyperparametrization(trial, train_x, test_x, train_y, test_y):\n",
    "    param = {\n",
    "        'metric': 'rmse', \n",
    "        'reg_alpha': trial.suggest_loguniform('reg_alpha', 1e-3, 10.0),\n",
    "        'reg_lambda': trial.suggest_loguniform('reg_lambda', 1e-3, 10.0),\n",
    "        'colsample_bytree': trial.suggest_categorical('colsample_bytree', [0.3,0.4,0.5,0.6,0.7,0.8,0.9, 1.0]),\n",
    "        'subsample': trial.suggest_categorical('subsample', [0.4,0.5,0.6,0.7,0.8,1.0]),\n",
    "        'learning_rate': trial.suggest_loguniform('learning_rate', 1e-3, 0.3),\n",
    "        'max_depth': trial.suggest_int(\"max_depth\", 20, 100),\n",
    "        'num_leaves' : trial.suggest_int('num_leaves', 1, 1000),\n",
    "        'min_child_samples': trial.suggest_int('min_child_samples', 1, 300),\n",
    "    }\n",
    "    \n",
    "#     model = LGBMRegressor(**param)  \n",
    "    model = Pipeline([('scaler', MinMaxScaler()),('ridge', LGBMRegressor(**param))])\n",
    "#     model.fit(train_x,train_y,eval_set=[(test_x,test_y)],early_stopping_rounds=100,verbose=False)\n",
    "    model.fit(train_x,train_y)\n",
    "    \n",
    "    preds = model.predict(test_x)\n",
    "    \n",
    "    rmse =  mean_squared_error(test_y, preds,squared=False)\n",
    "    \n",
    "    return rmse"
   ]
  },
  {
   "cell_type": "code",
   "execution_count": 14,
   "id": "3859e13c-87d0-4249-b9ed-f479b3edc2ac",
   "metadata": {
    "tags": []
   },
   "outputs": [],
   "source": [
    "def hyperparametrization_cv(trial, X, y):\n",
    "    param = {\n",
    "        'metric': 'rmse', \n",
    "        'reg_alpha': trial.suggest_loguniform('reg_alpha', 1e-3, 10.0),\n",
    "        'reg_lambda': trial.suggest_loguniform('reg_lambda', 1e-3, 10.0),\n",
    "        'colsample_bytree': trial.suggest_categorical('colsample_bytree', [0.3,0.4,0.5,0.6,0.7,0.8,0.9, 1.0]),\n",
    "        'subsample': trial.suggest_categorical('subsample', [0.4,0.5,0.6,0.7,0.8,1.0]),\n",
    "        'learning_rate': trial.suggest_loguniform('learning_rate', 1e-3, 0.3),\n",
    "        'max_depth': trial.suggest_int(\"max_depth\", 20, 100),\n",
    "        'num_leaves' : trial.suggest_int('num_leaves', 1, 1000),\n",
    "        'min_child_samples': trial.suggest_int('min_child_samples', 1, 300),\n",
    "    }\n",
    "    \n",
    "    model = LGBMRegressor(**param)\n",
    "    rmse = - cross_val_score(model, X, y, cv=3, scoring = 'neg_root_mean_squared_error').mean()\n",
    "    \n",
    "    return rmse"
   ]
  },
  {
   "cell_type": "code",
   "execution_count": 15,
   "id": "bb1f232a-8c04-46e1-92df-858297f8384f",
   "metadata": {},
   "outputs": [],
   "source": [
    "def vmd(y,k,alpha, tau,DC, init, tol):\n",
    "    \n",
    "    #Intrinsic mode generation\n",
    "     #Empirical Mode Decomposition\n",
    "    #. some sample parameters for VMD  \n",
    "    alpha = 1       # moderate bandwidth constraint  \n",
    "    tau = 0.           # noise-tolerance (no strict fidelity enforcement)  \n",
    "    K = k              # k modes  \n",
    "    DC = 0             # no DC part imposed  \n",
    "    init = 1           # initialize omegas uniformly  \n",
    "    tol = 1e-7\n",
    "    u, u_hat, omega = VMD(y,alpha, tau, K, DC, init, tol)\n",
    "    df_vmfs = pd.DataFrame()\n",
    "    #Integration in the dataframe\n",
    "    for num, imf in enumerate(u):\n",
    "        #print('----Creating VMFwp{0} EMD columns----'.format(num+1))\n",
    "        df_vmfs['IMFwp{0}'.format(num+1)] = imf\n",
    "    return df_vmfs"
   ]
  },
  {
   "cell_type": "code",
   "execution_count": 16,
   "id": "9e0357f1-807c-4ed7-9c29-c5b53fc532d8",
   "metadata": {
    "tags": []
   },
   "outputs": [],
   "source": [
    "def lgbm_scaled_cross_validation_vmf(X, y1,y2,y3,y4,y_true, params):\n",
    "   # if params == None:\n",
    "#         model = Pipeline([('scaler', MaxAbsScaler()),('ridge', LGBMRegressor())])\n",
    "        #model = Pipeline([('scaler', RobustScaler()),('ridge', LGBMRegressor())])\n",
    "   # else:\n",
    "#         model = Pipeline([('scaler', MaxAbsScaler()),('ridge', LGBMRegressor(**params))])\n",
    "    model1 = Pipeline([('scaler', RobustScaler()),('ridge', LGBMRegressor(**params[0]))])\n",
    "    model2 = Pipeline([('scaler', RobustScaler()),('ridge', LGBMRegressor(**params[1]))])\n",
    "    model3 = Pipeline([('scaler', RobustScaler()),('ridge', LGBMRegressor(**params[2]))])\n",
    "    model4 = Pipeline([('scaler', RobustScaler()),('ridge', LGBMRegressor(**params[3]))])\n",
    "\n",
    "    print('-----------LGBM CROSS VALIDATION BEGINNING-----------')\n",
    "    split = 10\n",
    "    kf = KFold(n_splits=split, shuffle=True)       \n",
    "    lgbm_rmse_scores = []\n",
    "    lgbm_mae_scores = []\n",
    "    i = 1\n",
    "    for (train_index, test_index) in kf.split(pd.DataFrame(X), pd.DataFrame(y_true)):\n",
    "        X_train, X_test = pd.DataFrame(X).iloc[train_index], pd.DataFrame(X).iloc[test_index]\n",
    "        Y1_train, Y1_test = pd.DataFrame(y1).iloc[train_index],pd.DataFrame(y1).iloc[test_index]\n",
    "        Y2_train, Y2_test = pd.DataFrame(y2).iloc[train_index],pd.DataFrame(y2).iloc[test_index]\n",
    "        Y3_train, Y3_test = pd.DataFrame(y3).iloc[train_index],pd.DataFrame(y3).iloc[test_index]\n",
    "        Y4_train, Y4_test = pd.DataFrame(y4).iloc[train_index],pd.DataFrame(y4).iloc[test_index]\n",
    "        Y_train, Y_test = pd.DataFrame(y_true).iloc[train_index],pd.DataFrame(y_true).iloc[test_index]\n",
    "\n",
    "        model1.fit(X_train, Y1_train)\n",
    "        model2.fit(X_train, Y2_train)\n",
    "        model3.fit(X_train, Y3_train)\n",
    "        model4.fit(X_train, Y4_train)\n",
    "\n",
    "        prediction = model1.predict(X_test)+model2.predict(X_test)+model3.predict(X_test)+model4.predict(X_test)\n",
    "        lgbm_rmse_scores.append(mean_squared_error(Y_test, prediction,squared=False))\n",
    "        lgbm_mae_scores.append(mean_absolute_error(Y_test, prediction))\n",
    "        \n",
    "        print(show_evaluation(prediction, Y_test))\n",
    "        print(f'-------------------FOLD {i}-----------------')\n",
    "        i+=1\n",
    "\n",
    "    print('---------------CROSS VALIDATION COMPLETE-------------')\n",
    "    print('--------------------------RMSE-----------------------')\n",
    "    display_scores(lgbm_rmse_scores)\n",
    "    print('--------------------------MAE------------------------')\n",
    "    display_scores(lgbm_mae_scores)"
   ]
  },
  {
   "cell_type": "markdown",
   "id": "bbc3509e-c676-463f-97ac-c0ac98b5f3ed",
   "metadata": {},
   "source": [
    "## WP1 "
   ]
  },
  {
   "cell_type": "markdown",
   "id": "7cd32285-01cf-4ab5-8fcb-706b7f8a294b",
   "metadata": {},
   "source": [
    "| |  | Mean | Std | Sum up |\n",
    "| --- | --- | --- | --- | --- |\n",
    "| No params | RMSE | 0.10344875448880764 | 0.0019070131550065564 |  |\n",
    "| No params - StandardScaler | RMSE | 0.10355855436437653 | 0.0019043784372002228 |  |\n",
    "| After tuning 50trials| RMSE | 0.06830085723562579 | 0.0012998671387256361 | To keep, maybe redo optuna with warm start with it - first sub|\n",
    "| After tuning 100trials| RMSE | 0.0695930431604128 | 0.0015123892627707553 | |\n",
    "| After tuning W.S 60trials | RMSE | 0.0671868765178121 | 0.0019357892229500213 | second sub - BETTER |\n",
    "| After tuning W.S 50trials - StandardScaler | RMSE | 0.06705406618054667 | 0.0013509038914922506 | with warm start 1 parameters |\n",
    "| After tuning W.S 50trials - RobustScaler | RMSE | 0.06736753027260156 | 0.0009971394767292064 | |\n",
    "| --- | --- | --- | --- | --- |\n",
    "| No params | MAE | 0.07306057409517844 | 0.0009857628815465762 |  |\n",
    "| No params - StandardScaler | MAE | 0.07310137331348271 | 0.0010945145617042643 |  |\n",
    "| After tuning 50trials| MAE | 0.04481696427654311 | 0.000727722171899004 |  |\n",
    "| After tuning 100trials| MAE | 0.045696725242359994 | 0.0008508558100930331 |  |\n",
    "| After tuning W.S 60trials | MAE | 0.04322865305311156 | 0.0009454253743042544 | |\n",
    "| After tuning W.S 50trials - StandardScaler | MAE | 0.043173032898780175 | 0.0007696056550296055 | with warm start 1 parameters |\n",
    "| After tuning W.S 50trials - RobustScaler | MAE | 0.043246198690701294 | 0.000596545751975941 | |"
   ]
  },
  {
   "cell_type": "code",
   "execution_count": 87,
   "id": "70c3af58-11fa-437e-80d2-d58c9901ce08",
   "metadata": {
    "tags": []
   },
   "outputs": [],
   "source": [
    "wp1_X = train_wp1[[c for c in train_wp1 if c not in [\"wp\"]] + [\"wp\"]].drop(to_drop+feature_corr, axis = 1)\n",
    "X1 = wp1_X.drop('wp', axis=1)\n",
    "y1 = wp1_X['wp']"
   ]
  },
  {
   "cell_type": "code",
   "execution_count": null,
   "id": "ce60b0b1-b92e-42aa-8734-07709f0dc159",
   "metadata": {
    "tags": []
   },
   "outputs": [],
   "source": [
    "# lgbm_cross_validation(X1, y1, None)\n",
    "lgbm_scaled_cross_validation(X1, vmf_1['IMFwp1'], None)"
   ]
  },
  {
   "cell_type": "code",
   "execution_count": null,
   "id": "15b56a24-3472-44a4-b520-c1084edcedff",
   "metadata": {
    "tags": []
   },
   "outputs": [],
   "source": [
    "# lgbm_cross_validation(X1, y1, None)\n",
    "lgbm_scaled_cross_validation(X1, vmf_1['IMFwp2'], None)"
   ]
  },
  {
   "cell_type": "code",
   "execution_count": null,
   "id": "30f11913-a036-4d3f-89d5-1cc2001b987b",
   "metadata": {
    "tags": []
   },
   "outputs": [],
   "source": [
    "# lgbm_cross_validation(X1, y1, None)\n",
    "lgbm_scaled_cross_validation(X1, vmf_1['IMFwp3'], None)"
   ]
  },
  {
   "cell_type": "code",
   "execution_count": null,
   "id": "488910f9-0d00-4b2e-8064-d27cd2e24ad7",
   "metadata": {
    "tags": []
   },
   "outputs": [],
   "source": [
    "# lgbm_cross_validation(X1, y1, None)\n",
    "lgbm_scaled_cross_validation(X1, vmf_1['IMFwp4'], None)"
   ]
  },
  {
   "cell_type": "code",
   "execution_count": 88,
   "id": "7b697370-1d87-4ce0-8b0e-80439e2764c3",
   "metadata": {},
   "outputs": [],
   "source": [
    "vmf_1 = vmd(y1,4,0,0,0,0,0)"
   ]
  },
  {
   "cell_type": "code",
   "execution_count": 27,
   "id": "7dfe1062-91d9-4442-a175-4bf6442ed93d",
   "metadata": {},
   "outputs": [],
   "source": [
    "def objective_wp1(trial,data=X1,target=vmf_1['IMFwp4']):\n",
    "    train_x, test_x, train_y, test_y = train_test_split(data, target, test_size=0.15,random_state=42)\n",
    "    return hyperparametrization(trial, train_x, test_x, train_y, test_y)"
   ]
  },
  {
   "cell_type": "code",
   "execution_count": null,
   "id": "ab792f0b-e669-4e29-b434-8db786b194a2",
   "metadata": {
    "tags": []
   },
   "outputs": [],
   "source": [
    "study = optuna.create_study(direction='minimize')\n",
    "study.optimize(objective_wp1, n_trials=30)\n",
    "#write_results('Data/Hyperparametrization/lgbm_vmd_50trials_cv.xlsx', 'wp1', study.trials_dataframe())\n",
    "best_trial = study.best_trial.params\n",
    "best_trial"
   ]
  },
  {
   "cell_type": "code",
   "execution_count": 89,
   "id": "155f4d19-4b83-46bb-9b9e-775357faeb38",
   "metadata": {},
   "outputs": [
    {
     "ename": "NameError",
     "evalue": "name 'param_1_vmf1' is not defined",
     "output_type": "error",
     "traceback": [
      "\u001b[1;31m---------------------------------------------------------------------------\u001b[0m",
      "\u001b[1;31mNameError\u001b[0m                                 Traceback (most recent call last)",
      "\u001b[1;32mC:\\Users\\GERALD~1.CAS\\AppData\\Local\\Temp/ipykernel_9816/3925199924.py\u001b[0m in \u001b[0;36m<module>\u001b[1;34m\u001b[0m\n\u001b[0;32m     37\u001b[0m  'min_child_samples': 29}\n\u001b[0;32m     38\u001b[0m \u001b[1;33m\u001b[0m\u001b[0m\n\u001b[1;32m---> 39\u001b[1;33m \u001b[0mparams_vmf\u001b[0m\u001b[1;33m=\u001b[0m\u001b[1;33m[\u001b[0m\u001b[0mparam_1_vmf1\u001b[0m\u001b[1;33m,\u001b[0m\u001b[0mparam_1_vmf2\u001b[0m\u001b[1;33m,\u001b[0m\u001b[0mparam_1_vmf3\u001b[0m\u001b[1;33m,\u001b[0m\u001b[0mparam_1_vmf4\u001b[0m\u001b[1;33m]\u001b[0m\u001b[1;33m\u001b[0m\u001b[1;33m\u001b[0m\u001b[0m\n\u001b[0m",
      "\u001b[1;31mNameError\u001b[0m: name 'param_1_vmf1' is not defined"
     ]
    }
   ],
   "source": [
    "#30\n",
    "param_1_1 = {\n",
    "        'reg_alpha': 0.005623861124729257,\n",
    "   'reg_lambda': 0.22406174588522088,\n",
    "    'colsample_bytree': 0.7,\n",
    " 'subsample': 0.4,\n",
    " 'learning_rate': 0.11907721244377018,\n",
    " 'max_depth': 31,\n",
    " 'num_leaves': 776,\n",
    " 'min_child_samples': 29}\n",
    "#\n",
    "param_1_2 = {'reg_alpha': 0.003075982697697176,\n",
    " 'reg_lambda': 9.876348984550155,\n",
    " 'colsample_bytree': 0.3,\n",
    " 'subsample': 0.7,\n",
    " 'learning_rate': 0.15883690225856262,\n",
    " 'max_depth': 64,\n",
    " 'num_leaves': 657,\n",
    " 'min_child_samples': 20}\n",
    "#\n",
    "param_1_3 = {'reg_alpha': 0.018182754684069484,\n",
    " 'reg_lambda': 0.006831890665560452,\n",
    " 'colsample_bytree': 0.5,\n",
    " 'subsample': 0.5,\n",
    " 'learning_rate': 0.11202987530753453,\n",
    " 'max_depth': 53,\n",
    " 'num_leaves': 848,\n",
    " 'min_child_samples': 27}\n",
    "    \n",
    "param_1_4 = {'reg_alpha': 0.0038530142853001356,\n",
    " 'reg_lambda': 0.0021589196685704304,\n",
    " 'colsample_bytree': 1.0,\n",
    " 'subsample': 0.6,\n",
    " 'learning_rate': 0.05089100428869571,\n",
    " 'max_depth': 94,\n",
    " 'num_leaves': 881,\n",
    " 'min_child_samples': 29}\n",
    "\n",
    "params_vmf=[param_1_vmf1,param_1_vmf2,param_1_vmf3,param_1_vmf4]"
   ]
  },
  {
   "cell_type": "code",
   "execution_count": 33,
   "id": "ff52651e-8cdd-45bf-b810-41757048b7b9",
   "metadata": {},
   "outputs": [],
   "source": [
    "y1_vmfs = []\n",
    "for i in range(1,5):\n",
    "    y_vmfs.append(vmf_1['IMFwp'+str(i)])\n",
    "#y_vmfs"
   ]
  },
  {
   "cell_type": "code",
   "execution_count": 41,
   "id": "db8ce085-5a12-4114-aa31-73d871ce5b3c",
   "metadata": {},
   "outputs": [
    {
     "name": "stdout",
     "output_type": "stream",
     "text": [
      "-----------LGBM CROSS VALIDATION BEGINNING-----------\n",
      "RMSE score: 0.06247878471752004\n",
      "MAE score: 0.04219094218762699\n",
      "None\n",
      "-------------------FOLD 1-----------------\n",
      "RMSE score: 0.06160200834397176\n",
      "MAE score: 0.04139354072845678\n",
      "None\n",
      "-------------------FOLD 2-----------------\n",
      "RMSE score: 0.06074324030276923\n",
      "MAE score: 0.04092018458683762\n",
      "None\n",
      "-------------------FOLD 3-----------------\n",
      "RMSE score: 0.0617519139893874\n",
      "MAE score: 0.04164207713823465\n",
      "None\n",
      "-------------------FOLD 4-----------------\n",
      "RMSE score: 0.06205431054386787\n",
      "MAE score: 0.04113493309160323\n",
      "None\n",
      "-------------------FOLD 5-----------------\n",
      "RMSE score: 0.060349677858007426\n",
      "MAE score: 0.04103568153928476\n",
      "None\n",
      "-------------------FOLD 6-----------------\n",
      "RMSE score: 0.06157415042244582\n",
      "MAE score: 0.04139739465012538\n",
      "None\n",
      "-------------------FOLD 7-----------------\n",
      "RMSE score: 0.0636795056658864\n",
      "MAE score: 0.042088777860623046\n",
      "None\n",
      "-------------------FOLD 8-----------------\n",
      "RMSE score: 0.06453613020898885\n",
      "MAE score: 0.04237819236854625\n",
      "None\n",
      "-------------------FOLD 9-----------------\n",
      "RMSE score: 0.06264471777951122\n",
      "MAE score: 0.04246640570892839\n",
      "None\n",
      "-------------------FOLD 10-----------------\n",
      "---------------CROSS VALIDATION COMPLETE-------------\n",
      "--------------------------RMSE-----------------------\n",
      "Scores: [0.06247878471752004, 0.06160200834397176, 0.06074324030276923, 0.0617519139893874, 0.06205431054386787, 0.060349677858007426, 0.06157415042244582, 0.0636795056658864, 0.06453613020898885, 0.06264471777951122]\n",
      "Mean: 0.0621414439832356\n",
      "Std: 0.0012001990322211581\n",
      "--------------------------MAE------------------------\n",
      "Scores: [0.04219094218762699, 0.04139354072845678, 0.04092018458683762, 0.04164207713823465, 0.04113493309160323, 0.04103568153928476, 0.04139739465012538, 0.042088777860623046, 0.04237819236854625, 0.04246640570892839]\n",
      "Mean: 0.04166481298602671\n",
      "Std: 0.0005463229671203504\n"
     ]
    }
   ],
   "source": [
    "lgbm_scaled_cross_validation_vmf(X1, vmf_1['IMFwp1'],vmf_1['IMFwp2'],vmf_1['IMFwp3'],vmf_1['IMFwp4'],y1, params_vmf)"
   ]
  },
  {
   "cell_type": "code",
   "execution_count": 17,
   "id": "6e8b9581-1e59-40fc-ba46-cac68640c7ff",
   "metadata": {
    "tags": []
   },
   "outputs": [],
   "source": [
    "# lgbm_cross_validation(X1, y1, params_1)\n",
    "#lgbm_scaled_cross_validation(X1, y1, params_1)"
   ]
  },
  {
   "cell_type": "markdown",
   "id": "2d4d08ad-3af3-408b-8834-57c1349d328a",
   "metadata": {},
   "source": [
    "## WP2"
   ]
  },
  {
   "cell_type": "markdown",
   "id": "61678924-2941-418d-93bf-84336d13fc89",
   "metadata": {},
   "source": [
    "| |  | Mean | Std | Sum up|\n",
    "| --- | --- | --- | --- | |\n",
    "| No params | RMSE | 0.10935335541057582 | 0.0014425096116734836 | |\n",
    "| No params - StandardScaler | RMSE | 0.10938240918068962 | 0.002563571983412213 |  |\n",
    "| After tuning - 50trials| RMSE | 0.0725081520968898 | 0.0016974702626377217 | |\n",
    "| After tuning 100trials| RMSE | 0.0707064364904941 | 0.001396820290618349 | More stable, to keep |\n",
    "| After tuning W.S. 50trials - StandardScaler | RMSE | 0.07072007438762447 | 0.0010396359382112443 | With 100trials parameters |\n",
    "| After tuning W.S. 50trials - RobustScaler | RMSE | 0.07014346508497502 | 0.0013671602187583412 | |\n",
    "| 50 trials per vmf - RobustScaler | RMSE | 0.06362570142793085 |0.001287144743120583 | |\n",
    "| --- | --- | --- | --- |---|\n",
    "| No params | MAE | 0.07681923856705511 | 0.0008670825615244791 | |\n",
    "| No params - StandardScaler | MAE | 0.0768829843356125 | 0.0017568758903956435 |  |\n",
    "| After tuning - 50trials| MAE | 0.04512164110351975 |  0.0006579433030966575 | |\n",
    "| After tuning 100trials| MAE | 0.04457902842458915 | 0.0006807155447311589 | |\n",
    "| After tuning W.S. 50trials - StandardScaler | MAE | 0.04456161763710905 | 0.0005342365137369251 | With 100trials parameters |\n",
    "| After tuning W.S. 50trials - RobustScaler | MAE | 0.044471464183373825 | 0.0007098731360466324 | |\n",
    "| 50 trials per vmf - RobustScaler | MAE | 0.04180182904890137 |0.000707244027895384 | |"
   ]
  },
  {
   "cell_type": "code",
   "execution_count": 18,
   "id": "e6b8fee4-9fba-4818-a7df-29cd5d3806ad",
   "metadata": {},
   "outputs": [],
   "source": [
    "wp2_X = train_wp2[[c for c in train_wp2 if c not in [\"wp\"]] + [\"wp\"]].drop(to_drop, axis = 1)\n",
    "X2 = wp2_X.drop('wp', axis=1)\n",
    "y2 = wp2_X['wp']"
   ]
  },
  {
   "cell_type": "code",
   "execution_count": 19,
   "id": "e297d1bd-f11e-4f8b-9fe2-634e78ca9c85",
   "metadata": {
    "tags": []
   },
   "outputs": [],
   "source": [
    "# lgbm_cross_validation(X2, y2, None)\n",
    "#lgbm_scaled_cross_validation(X2, y2, None)"
   ]
  },
  {
   "cell_type": "code",
   "execution_count": 20,
   "id": "08e46471-867c-4be0-acdf-1b67a94f005b",
   "metadata": {},
   "outputs": [],
   "source": [
    "vmf_2=vmd(y2,4,0,0,0,0,0)"
   ]
  },
  {
   "cell_type": "code",
   "execution_count": 21,
   "id": "67b9113c-e773-4b1a-b759-d107e41af2ba",
   "metadata": {},
   "outputs": [],
   "source": [
    "def objective_wp2(trial,data = X2,target = vmf_2['IMFwp1']):\n",
    "    train_x, test_x, train_y, test_y = train_test_split(data, target, test_size=0.15,random_state=42)\n",
    "    return hyperparametrization(trial, train_x, test_x, train_y, test_y)"
   ]
  },
  {
   "cell_type": "code",
   "execution_count": null,
   "id": "0728372a-8909-4a7a-8cdc-be27e96cfc70",
   "metadata": {
    "tags": []
   },
   "outputs": [],
   "source": [
    "study = optuna.create_study(direction='minimize')\n",
    "study.optimize(objective_wp2, n_trials=50)\n",
    "# write_results('Data/Hyperparametrization/lgbm_100trials.xlsx', 'wp2', study.trials_dataframe())\n",
    "best_trial = study.best_trial.params\n",
    "best_trial"
   ]
  },
  {
   "cell_type": "code",
   "execution_count": 24,
   "id": "32f3a86d-6bb5-4b91-ac2d-1fc218be0d61",
   "metadata": {},
   "outputs": [],
   "source": [
    "def objective_wp2(trial,data = X2,target = vmf_2['IMFwp2']):\n",
    "    train_x, test_x, train_y, test_y = train_test_split(data, target, test_size=0.15,random_state=42)\n",
    "    return hyperparametrization(trial, train_x, test_x, train_y, test_y)"
   ]
  },
  {
   "cell_type": "code",
   "execution_count": null,
   "id": "8b472f74-9dc8-4e3a-afd0-4c8bc7233b2d",
   "metadata": {
    "tags": []
   },
   "outputs": [],
   "source": [
    "study = optuna.create_study(direction='minimize')\n",
    "study.optimize(objective_wp2, n_trials=50)\n",
    "# write_results('Data/Hyperparametrization/lgbm_100trials.xlsx', 'wp2', study.trials_dataframe())\n",
    "best_trial = study.best_trial.params\n",
    "best_trial"
   ]
  },
  {
   "cell_type": "code",
   "execution_count": 26,
   "id": "acc00eee-7c9b-499d-a4f8-36b712eac88e",
   "metadata": {},
   "outputs": [],
   "source": [
    "def objective_wp2(trial,data = X2,target = vmf_2['IMFwp3']):\n",
    "    train_x, test_x, train_y, test_y = train_test_split(data, target, test_size=0.15,random_state=42)\n",
    "    return hyperparametrization(trial, train_x, test_x, train_y, test_y)"
   ]
  },
  {
   "cell_type": "code",
   "execution_count": null,
   "id": "57970a1e-1d82-40dd-a29d-6b2587ce5109",
   "metadata": {
    "tags": []
   },
   "outputs": [],
   "source": [
    "study = optuna.create_study(direction='minimize')\n",
    "study.optimize(objective_wp2, n_trials=50)\n",
    "# write_results('Data/Hyperparametrization/lgbm_100trials.xlsx', 'wp2', study.trials_dataframe())\n",
    "best_trial = study.best_trial.params\n",
    "best_trial"
   ]
  },
  {
   "cell_type": "code",
   "execution_count": 28,
   "id": "c1b0d1c3-9b8f-40c1-b439-4eea36443cfa",
   "metadata": {},
   "outputs": [],
   "source": [
    "def objective_wp2(trial,data = X2,target = vmf_2['IMFwp4']):\n",
    "    train_x, test_x, train_y, test_y = train_test_split(data, target, test_size=0.15,random_state=42)\n",
    "    return hyperparametrization(trial, train_x, test_x, train_y, test_y)"
   ]
  },
  {
   "cell_type": "code",
   "execution_count": null,
   "id": "ac0b3384-802d-4416-ad18-ac33eef82bec",
   "metadata": {
    "tags": []
   },
   "outputs": [],
   "source": [
    "study = optuna.create_study(direction='minimize')\n",
    "study.optimize(objective_wp2, n_trials=50)\n",
    "# write_results('Data/Hyperparametrization/lgbm_100trials.xlsx', 'wp2', study.trials_dataframe())\n",
    "best_trial = study.best_trial.params\n",
    "best_trial"
   ]
  },
  {
   "cell_type": "code",
   "execution_count": 30,
   "id": "ac1a6dba-741a-40b0-b7c4-fadd0c2347f3",
   "metadata": {},
   "outputs": [],
   "source": [
    "param_2_1 ={'reg_alpha': 0.045585103284025534,\n",
    " 'reg_lambda': 0.009928472317054265,\n",
    " 'colsample_bytree': 0.7,\n",
    " 'subsample': 0.5,\n",
    " 'learning_rate': 0.11386316009595464,\n",
    " 'max_depth': 40,\n",
    " 'num_leaves': 824,\n",
    " 'min_child_samples': 15}\n",
    "\n",
    "\n",
    "param_2_2 ={'reg_alpha': 0.028080639879528732,\n",
    " 'reg_lambda': 0.110783705692678,\n",
    " 'colsample_bytree': 0.8,\n",
    " 'subsample': 0.5,\n",
    " 'learning_rate': 0.20799079399613676,\n",
    " 'max_depth': 70,\n",
    " 'num_leaves': 517,\n",
    " 'min_child_samples': 11}\n",
    "\n",
    "\n",
    "param_2_3 ={'reg_alpha': 0.07246945784504784,\n",
    " 'reg_lambda': 0.016214373928923043,\n",
    " 'colsample_bytree': 1.0,\n",
    " 'subsample': 0.5,\n",
    " 'learning_rate': 0.17209666016784908,\n",
    " 'max_depth': 34,\n",
    " 'num_leaves': 650,\n",
    " 'min_child_samples': 12}\n",
    "\n",
    "\n",
    "param_2_4 ={'reg_alpha': 0.07559865044607995,\n",
    " 'reg_lambda': 0.0011384763043129388,\n",
    " 'colsample_bytree': 0.7,\n",
    " 'subsample': 0.4,\n",
    " 'learning_rate': 0.12470087079296706,\n",
    " 'max_depth': 99,\n",
    " 'num_leaves': 977,\n",
    " 'min_child_samples': 2}\n",
    "\n",
    "\n",
    "params_2_vmf = [param_2_1,param_2_2,param_2_3,param_2_4]"
   ]
  },
  {
   "cell_type": "code",
   "execution_count": 31,
   "id": "bf5a9ed4-82f3-432e-b648-48ed4649db59",
   "metadata": {},
   "outputs": [
    {
     "name": "stdout",
     "output_type": "stream",
     "text": [
      "-----------LGBM CROSS VALIDATION BEGINNING-----------\n",
      "RMSE score: 0.06435222767885826\n",
      "MAE score: 0.04160794282249754\n",
      "None\n",
      "-------------------FOLD 1-----------------\n",
      "RMSE score: 0.06417987832155933\n",
      "MAE score: 0.042819693509640815\n",
      "None\n",
      "-------------------FOLD 2-----------------\n",
      "RMSE score: 0.06447763896692986\n",
      "MAE score: 0.04227375382273011\n",
      "None\n",
      "-------------------FOLD 3-----------------\n",
      "RMSE score: 0.06616824987685402\n",
      "MAE score: 0.04234023806832774\n",
      "None\n",
      "-------------------FOLD 4-----------------\n",
      "RMSE score: 0.06218364973127905\n",
      "MAE score: 0.04177397988401415\n",
      "None\n",
      "-------------------FOLD 5-----------------\n",
      "RMSE score: 0.06179046386914042\n",
      "MAE score: 0.04026940043180599\n",
      "None\n",
      "-------------------FOLD 6-----------------\n",
      "RMSE score: 0.06466715692052402\n",
      "MAE score: 0.042595893456079566\n",
      "None\n",
      "-------------------FOLD 7-----------------\n",
      "RMSE score: 0.06284073054672021\n",
      "MAE score: 0.041632449894930604\n",
      "None\n",
      "-------------------FOLD 8-----------------\n",
      "RMSE score: 0.0629107599099142\n",
      "MAE score: 0.041310546963216635\n",
      "None\n",
      "-------------------FOLD 9-----------------\n",
      "RMSE score: 0.06268625845752901\n",
      "MAE score: 0.041394391635770536\n",
      "None\n",
      "-------------------FOLD 10-----------------\n",
      "---------------CROSS VALIDATION COMPLETE-------------\n",
      "--------------------------RMSE-----------------------\n",
      "Scores: [0.06435222767885826, 0.06417987832155933, 0.06447763896692986, 0.06616824987685402, 0.06218364973127905, 0.06179046386914042, 0.06466715692052402, 0.06284073054672021, 0.0629107599099142, 0.06268625845752901]\n",
      "Mean: 0.06362570142793085\n",
      "Std: 0.001287144743120583\n",
      "--------------------------MAE------------------------\n",
      "Scores: [0.04160794282249754, 0.042819693509640815, 0.04227375382273011, 0.04234023806832774, 0.04177397988401415, 0.04026940043180599, 0.042595893456079566, 0.041632449894930604, 0.041310546963216635, 0.041394391635770536]\n",
      "Mean: 0.04180182904890137\n",
      "Std: 0.000707244027895384\n"
     ]
    }
   ],
   "source": [
    "lgbm_scaled_cross_validation_vmf(X2, vmf_2['IMFwp1'],vmf_2['IMFwp2'],vmf_2['IMFwp3'],vmf_2['IMFwp4'],y2, params_2_vmf)"
   ]
  },
  {
   "cell_type": "markdown",
   "id": "966468d2-d1a2-4c0a-a190-c37d85ef61f5",
   "metadata": {},
   "source": [
    "## WP3"
   ]
  },
  {
   "cell_type": "markdown",
   "id": "4c9c1b64-7897-4824-92b2-8f6ac0236b43",
   "metadata": {},
   "source": [
    "| |  | Mean | Std ||\n",
    "| --- | --- | --- | --- ||\n",
    "| No params | RMSE | 0.10392558077951244 | 0.0019038044796542812 ||\n",
    "| No params - StandardScaler | RMSE | 0.10354114984428979 | 0.0013629826554706927 ||\n",
    "| After tuning - 50trials| RMSE | 0.058253804820626545 | 0.0009893279354834155 | More stable, to keep |\n",
    "| After tuning - 100trials| RMSE | 0.058338944346627106 | 0.0017133930174837203 ||\n",
    "| After tuning W.S. - 50trials - StandardScaler | RMSE | 0.05839355310487706 | 0.0009599824558874801 ||\n",
    "| After tuning - 50trial - StandardScaler | RMSE | 0.05828701989178382 | 0.0013469437248627486 | with 50trials best|\n",
    "| After tuning - 50trial W.S. - RobustScaler | RMSE | 0.05907568414783913 | 0.0010120672015320588 | |\n",
    "| 50 trials per vmf - RobustScaler | RMSE | 0.055222505478173776 |0.001617631570145444 | |\n",
    "| --- | --- | --- | --- | --- |\n",
    "| No params | MAE | 0.07550802464973318 | 0.0012006073434917633 ||\n",
    "| No params - StandardScaler | MAE | 0.0753220326933334 | 0.0007353049410651828 | |\n",
    "| After tuning - 50trials| MAE | 0.03787310900962521 | 0.000442034368456366 ||\n",
    "| After tuning - 100trials| MAE | 0.03838030476025398 | 0.0007480100565996748 ||\n",
    "| After tuning W.S. - 50trials -StandardScaler | MAE | 0.03838277636708219 | 0.0006195357541130345 ||\n",
    "| After tuning - 50trials - StandardScaler | MAE | 0.03796602386426936 | 0.0006588818520419181 | with 50trials best|\n",
    "| After tuning - 50trial W.S. - RobustScaler | MAE | 0.03824961618901729 | 0.0007043585347168141 | |\n",
    "| 50 trials per vmf - RobustScaler | MAE | 0.03743940912757508 |0.0007763774066394942 | |\n"
   ]
  },
  {
   "cell_type": "code",
   "execution_count": 32,
   "id": "1a19adfe-a591-4616-827c-70140477879b",
   "metadata": {},
   "outputs": [],
   "source": [
    "wp3_X = train_wp3[[c for c in train_wp3 if c not in [\"wp\"]] + [\"wp\"]].drop(to_drop, axis = 1)\n",
    "X3 = wp3_X.drop('wp', axis = 1)\n",
    "y3 = wp3_X['wp']\n"
   ]
  },
  {
   "cell_type": "code",
   "execution_count": 33,
   "id": "bb7ec842-b244-4688-82a5-b7d876f33c80",
   "metadata": {},
   "outputs": [],
   "source": [
    "vmf_3=vmd(y3,4,0,0,0,0,0)"
   ]
  },
  {
   "cell_type": "code",
   "execution_count": 34,
   "id": "981ac23e-508f-417d-9297-cf3ab8a25e97",
   "metadata": {},
   "outputs": [],
   "source": [
    "def objective_wp3(trial,data = X3,target = vmf_3['IMFwp1']):\n",
    "    train_x, test_x, train_y, test_y = train_test_split(data, target, test_size=0.15,random_state=42)\n",
    "    return hyperparametrization(trial, train_x, test_x, train_y, test_y)"
   ]
  },
  {
   "cell_type": "code",
   "execution_count": null,
   "id": "76fcd3f6-9ee9-4a40-9208-371c72445408",
   "metadata": {
    "tags": []
   },
   "outputs": [],
   "source": [
    "study = optuna.create_study(direction='minimize')\n",
    "study.optimize(objective_wp3, n_trials=50)\n",
    "# write_results('Data/Hyperparametrization/lgbm_100trials.xlsx', 'wp3', study.trials_dataframe())\n",
    "best_trial = study.best_trial.params\n",
    "best_trial"
   ]
  },
  {
   "cell_type": "code",
   "execution_count": 36,
   "id": "6d643cff-9d4a-42ea-a8a3-c85abed3d1e1",
   "metadata": {},
   "outputs": [],
   "source": [
    "def objective_wp3(trial,data = X3,target = vmf_3['IMFwp2']):\n",
    "    train_x, test_x, train_y, test_y = train_test_split(data, target, test_size=0.15,random_state=42)\n",
    "    return hyperparametrization(trial, train_x, test_x, train_y, test_y)"
   ]
  },
  {
   "cell_type": "code",
   "execution_count": null,
   "id": "374253cc-1034-4a82-a86a-c89e035a74a4",
   "metadata": {
    "tags": []
   },
   "outputs": [],
   "source": [
    "study = optuna.create_study(direction='minimize')\n",
    "study.optimize(objective_wp3, n_trials=50)\n",
    "# write_results('Data/Hyperparametrization/lgbm_100trials.xlsx', 'wp3', study.trials_dataframe())\n",
    "best_trial = study.best_trial.params\n",
    "best_trial"
   ]
  },
  {
   "cell_type": "code",
   "execution_count": 39,
   "id": "f9e9a03d-97e9-4df5-94ce-71ac5ce28dcc",
   "metadata": {},
   "outputs": [],
   "source": [
    "def objective_wp3(trial,data = X3,target = vmf_3['IMFwp3']):\n",
    "    train_x, test_x, train_y, test_y = train_test_split(data, target, test_size=0.15,random_state=42)\n",
    "    return hyperparametrization(trial, train_x, test_x, train_y, test_y)"
   ]
  },
  {
   "cell_type": "code",
   "execution_count": null,
   "id": "188e3fc9-20f0-46c8-bd16-86f9293a7c74",
   "metadata": {
    "tags": []
   },
   "outputs": [],
   "source": [
    "study = optuna.create_study(direction='minimize')\n",
    "study.optimize(objective_wp3, n_trials=50)\n",
    "# write_results('Data/Hyperparametrization/lgbm_100trials.xlsx', 'wp3', study.trials_dataframe())\n",
    "best_trial = study.best_trial.params\n",
    "best_trial"
   ]
  },
  {
   "cell_type": "code",
   "execution_count": 41,
   "id": "74a755ae-1059-43d0-8f47-34ab9320dcee",
   "metadata": {},
   "outputs": [],
   "source": [
    "def objective_wp3(trial,data = X3,target = vmf_3['IMFwp4']):\n",
    "    train_x, test_x, train_y, test_y = train_test_split(data, target, test_size=0.15,random_state=42)\n",
    "    return hyperparametrization(trial, train_x, test_x, train_y, test_y)"
   ]
  },
  {
   "cell_type": "code",
   "execution_count": null,
   "id": "2bb28835-0407-47e9-b5ac-d3e58db9c6fc",
   "metadata": {
    "tags": []
   },
   "outputs": [],
   "source": [
    "study = optuna.create_study(direction='minimize')\n",
    "study.optimize(objective_wp3, n_trials=50)\n",
    "# write_results('Data/Hyperparametrization/lgbm_100trials.xlsx', 'wp3', study.trials_dataframe())\n",
    "best_trial = study.best_trial.params\n",
    "best_trial"
   ]
  },
  {
   "cell_type": "code",
   "execution_count": 43,
   "id": "79929779-3594-40e1-9839-1993c5a3a3b4",
   "metadata": {},
   "outputs": [],
   "source": [
    "param_3_1={'reg_alpha': 0.09154624212451326,\n",
    " 'reg_lambda': 3.243003547398231,\n",
    " 'colsample_bytree': 0.6,\n",
    " 'subsample': 0.5,\n",
    " 'learning_rate': 0.08674967041071543,\n",
    " 'max_depth': 36,\n",
    " 'num_leaves': 991,\n",
    " 'min_child_samples': 4}\n",
    "\n",
    "param_3_2={'reg_alpha': 0.015851789162864068,\n",
    " 'reg_lambda': 1.1709973762604666,\n",
    " 'colsample_bytree': 0.5,\n",
    " 'subsample': 0.8,\n",
    " 'learning_rate': 0.1264481324316636,\n",
    " 'max_depth': 64,\n",
    " 'num_leaves': 754,\n",
    " 'min_child_samples': 24}\n",
    "\n",
    "param_3_3={'reg_alpha': 0.009208658021513315,\n",
    " 'reg_lambda': 0.11295923333720627,\n",
    " 'colsample_bytree': 0.6,\n",
    " 'subsample': 0.4,\n",
    " 'learning_rate': 0.13684811179845982,\n",
    " 'max_depth': 62,\n",
    " 'num_leaves': 769,\n",
    " 'min_child_samples': 16}\n",
    "\n",
    "\n",
    "param_3_4={'reg_alpha': 0.0043699543264321735,\n",
    " 'reg_lambda': 0.7966979080149321,\n",
    " 'colsample_bytree': 0.5,\n",
    " 'subsample': 0.7,\n",
    " 'learning_rate': 0.15721415799888475,\n",
    " 'max_depth': 35,\n",
    " 'num_leaves': 502,\n",
    " 'min_child_samples': 1}\n",
    "\n",
    "params_3_vmf = [param_3_1,param_3_2,param_3_3,param_3_4]"
   ]
  },
  {
   "cell_type": "code",
   "execution_count": 44,
   "id": "5cbcd443-c32b-44a3-a6a6-c61930cb8efc",
   "metadata": {},
   "outputs": [
    {
     "name": "stdout",
     "output_type": "stream",
     "text": [
      "-----------LGBM CROSS VALIDATION BEGINNING-----------\n",
      "RMSE score: 0.053138613206103975\n",
      "MAE score: 0.03644171385000484\n",
      "None\n",
      "-------------------FOLD 1-----------------\n",
      "RMSE score: 0.05511795907919635\n",
      "MAE score: 0.0376264776465745\n",
      "None\n",
      "-------------------FOLD 2-----------------\n",
      "RMSE score: 0.05530458988968696\n",
      "MAE score: 0.03789593955017934\n",
      "None\n",
      "-------------------FOLD 3-----------------\n",
      "RMSE score: 0.0543504044736086\n",
      "MAE score: 0.036521578154908835\n",
      "None\n",
      "-------------------FOLD 4-----------------\n",
      "RMSE score: 0.05582276204889331\n",
      "MAE score: 0.037871117917446934\n",
      "None\n",
      "-------------------FOLD 5-----------------\n",
      "RMSE score: 0.05670638543572619\n",
      "MAE score: 0.03796059472508727\n",
      "None\n",
      "-------------------FOLD 6-----------------\n",
      "RMSE score: 0.05295193495600955\n",
      "MAE score: 0.03629569541249994\n",
      "None\n",
      "-------------------FOLD 7-----------------\n",
      "RMSE score: 0.058660671103486994\n",
      "MAE score: 0.038746318004650566\n",
      "None\n",
      "-------------------FOLD 8-----------------\n",
      "RMSE score: 0.0542284108890289\n",
      "MAE score: 0.03703766506740347\n",
      "None\n",
      "-------------------FOLD 9-----------------\n",
      "RMSE score: 0.055943323699996925\n",
      "MAE score: 0.037996990946995116\n",
      "None\n",
      "-------------------FOLD 10-----------------\n",
      "---------------CROSS VALIDATION COMPLETE-------------\n",
      "--------------------------RMSE-----------------------\n",
      "Scores: [0.053138613206103975, 0.05511795907919635, 0.05530458988968696, 0.0543504044736086, 0.05582276204889331, 0.05670638543572619, 0.05295193495600955, 0.058660671103486994, 0.0542284108890289, 0.055943323699996925]\n",
      "Mean: 0.055222505478173776\n",
      "Std: 0.001617631570145444\n",
      "--------------------------MAE------------------------\n",
      "Scores: [0.03644171385000484, 0.0376264776465745, 0.03789593955017934, 0.036521578154908835, 0.037871117917446934, 0.03796059472508727, 0.03629569541249994, 0.038746318004650566, 0.03703766506740347, 0.037996990946995116]\n",
      "Mean: 0.03743940912757508\n",
      "Std: 0.0007763774066394942\n"
     ]
    }
   ],
   "source": [
    "lgbm_scaled_cross_validation_vmf(X3, vmf_3['IMFwp1'],vmf_3['IMFwp2'],vmf_3['IMFwp3'],vmf_3['IMFwp4'],y3, params_3_vmf)"
   ]
  },
  {
   "cell_type": "markdown",
   "id": "cdc76c8c-9cc7-441f-b25e-e1ecf293298e",
   "metadata": {},
   "source": [
    "## WP4"
   ]
  },
  {
   "cell_type": "markdown",
   "id": "895876ff-0734-4527-a0b9-68cf9b097dec",
   "metadata": {},
   "source": [
    "| |  | Mean | Std | |\n",
    "| --- | --- | --- | --- | --- |\n",
    "| No params | RMSE | 0.10486204816363351 | 0.0015105949978751166 ||\n",
    "| No params  - Std | RMSE | 0.10480849342496516 | 0.0010370863436755212 ||\n",
    "| After tuning - 50trials| RMSE | 0.06513233717204232 | 0.0015891617240032727 ||\n",
    "| After tuning 100trials| RMSE | 0.06357594848470964 | 0.0013676749030776929 ||\n",
    "| After tuning with W.S - 50trials - Std | RMSE | 0.06339401569270936 | 0.001228053306037005 ||\n",
    "| After tuning with W.S. - 50trials - RobustScaler | RMSE | 0.0632324115841705 | 0.0010081050240456021 ||\n",
    "| 50 trials per vmf - RobustScaler | RMSE |0.0593103048767063  |0.0011712884174825636 | |\n",
    "| --- | --- | --- | --- | --- |\n",
    "| No params | MAE | 0.07564776733421566 | 0.00104638869825841 ||\n",
    "| No params  - Std | MAE | 0.07570794104041156 | 0.0008419207475550308 ||\n",
    "| After tuning - 50trials| MAE | 0.04219236028055372 | 0.0008190579419060266 ||\n",
    "| After tuning 100trials| MAE |0.04172111697148837  | 0.0009349285385250968 ||\n",
    "| After tuning with W.S - 50trials  - Std | MAE | 0.04150668920859586 | 0.0005729825500890684 ||\n",
    "| After tuning with W.S. - 50trials - RobustScaler | MAE | 0.04170428506837879 | 0.0006101247158768171 ||\n",
    "| 50 trials per vmf - RobustScaler | MAE | 0.04115807160847805 |0.0006471350512019214 | |"
   ]
  },
  {
   "cell_type": "code",
   "execution_count": 45,
   "id": "185fd52e-5fe9-4ab7-817d-03feda6a42ab",
   "metadata": {},
   "outputs": [],
   "source": [
    "wp4_X = train_wp4[[c for c in train_wp4 if c not in [\"wp\"]] + [\"wp\"]].drop(to_drop, axis = 1)\n",
    "X4 = wp4_X.drop('wp', axis = 1)\n",
    "y4 = wp4_X['wp']"
   ]
  },
  {
   "cell_type": "code",
   "execution_count": 46,
   "id": "600d33ec-0f2b-4c52-9685-a9e019686f5e",
   "metadata": {},
   "outputs": [],
   "source": [
    "vmf_4 = vmd(y4,4,0,0,0,0,0)"
   ]
  },
  {
   "cell_type": "code",
   "execution_count": 47,
   "id": "70c531b2-00c2-4c60-b53a-5f2dd8d8a1c1",
   "metadata": {},
   "outputs": [],
   "source": [
    "def objective_wp4(trial,data = X4,target = vmf_4['IMFwp1']):\n",
    "    train_x, test_x, train_y, test_y = train_test_split(data, target, test_size=0.15,random_state=42)\n",
    "    return hyperparametrization(trial, train_x, test_x, train_y, test_y)"
   ]
  },
  {
   "cell_type": "code",
   "execution_count": null,
   "id": "713019ee-cf12-4fa6-8971-7a09d0aa227a",
   "metadata": {
    "tags": []
   },
   "outputs": [],
   "source": [
    "study = optuna.create_study(direction='minimize')\n",
    "study.optimize(objective_wp4, n_trials=50)\n",
    "# write_results('Data/Hyperparametrization/scaled_lgbm_50trials.xlsx', 'wp4', study.trials_dataframe())\n",
    "best_trial = study.best_trial.params\n",
    "best_trial"
   ]
  },
  {
   "cell_type": "code",
   "execution_count": 49,
   "id": "63713153-d02c-423a-b69e-db0cbf2aebaf",
   "metadata": {},
   "outputs": [],
   "source": [
    "def objective_wp4(trial,data = X4,target = vmf_4['IMFwp2']):\n",
    "    train_x, test_x, train_y, test_y = train_test_split(data, target, test_size=0.15,random_state=42)\n",
    "    return hyperparametrization(trial, train_x, test_x, train_y, test_y)"
   ]
  },
  {
   "cell_type": "code",
   "execution_count": null,
   "id": "c61c06f6-d433-4cae-bee5-0d27cd41cc0e",
   "metadata": {
    "tags": []
   },
   "outputs": [],
   "source": [
    "study = optuna.create_study(direction='minimize')\n",
    "study.optimize(objective_wp4, n_trials=50)\n",
    "# write_results('Data/Hyperparametrization/scaled_lgbm_50trials.xlsx', 'wp4', study.trials_dataframe())\n",
    "best_trial = study.best_trial.params\n",
    "best_trial"
   ]
  },
  {
   "cell_type": "code",
   "execution_count": 51,
   "id": "9572cd37-9836-4e25-a36e-11cf464947c1",
   "metadata": {},
   "outputs": [],
   "source": [
    "def objective_wp4(trial,data = X4,target = vmf_4['IMFwp3']):\n",
    "    train_x, test_x, train_y, test_y = train_test_split(data, target, test_size=0.15,random_state=42)\n",
    "    return hyperparametrization(trial, train_x, test_x, train_y, test_y)"
   ]
  },
  {
   "cell_type": "code",
   "execution_count": null,
   "id": "fd726634-2f9f-4d3e-a332-5b022e9a249b",
   "metadata": {
    "tags": []
   },
   "outputs": [],
   "source": [
    "study = optuna.create_study(direction='minimize')\n",
    "study.optimize(objective_wp4, n_trials=50)\n",
    "# write_results('Data/Hyperparametrization/scaled_lgbm_50trials.xlsx', 'wp4', study.trials_dataframe())\n",
    "best_trial = study.best_trial.params\n",
    "best_trial"
   ]
  },
  {
   "cell_type": "code",
   "execution_count": 53,
   "id": "b12af6b9-fbf9-41ca-8d8e-b1e09b6ed951",
   "metadata": {},
   "outputs": [],
   "source": [
    "def objective_wp4(trial,data = X4,target = vmf_4['IMFwp4']):\n",
    "    train_x, test_x, train_y, test_y = train_test_split(data, target, test_size=0.15,random_state=42)\n",
    "    return hyperparametrization(trial, train_x, test_x, train_y, test_y)"
   ]
  },
  {
   "cell_type": "code",
   "execution_count": null,
   "id": "958ccb97-9d44-4093-8d90-e734fa47dd8b",
   "metadata": {
    "tags": []
   },
   "outputs": [],
   "source": [
    "study = optuna.create_study(direction='minimize')\n",
    "study.optimize(objective_wp4, n_trials=50)\n",
    "# write_results('Data/Hyperparametrization/scaled_lgbm_50trials.xlsx', 'wp4', study.trials_dataframe())\n",
    "best_trial = study.best_trial.params\n",
    "best_trial"
   ]
  },
  {
   "cell_type": "code",
   "execution_count": 56,
   "id": "301024f1-71ca-474d-9519-df2f15b57cbd",
   "metadata": {},
   "outputs": [],
   "source": [
    "param_4_1={'reg_alpha': 0.01530039580244078,\n",
    " 'reg_lambda': 1.4574880119337652,\n",
    " 'colsample_bytree': 0.4,\n",
    " 'subsample': 0.8,\n",
    " 'learning_rate': 0.10927203044997952,\n",
    " 'max_depth': 74,\n",
    " 'num_leaves': 922,\n",
    " 'min_child_samples': 5}\n",
    "\n",
    "param_4_2={'reg_alpha': 0.050090771650523815,\n",
    " 'reg_lambda': 0.006257336992207459,\n",
    " 'colsample_bytree': 0.9,\n",
    " 'subsample': 0.7,\n",
    " 'learning_rate': 0.1759118344278427,\n",
    " 'max_depth': 34,\n",
    " 'num_leaves': 776,\n",
    " 'min_child_samples': 14}\n",
    "\n",
    "param_4_3={'reg_alpha': 0.009643730294464633,\n",
    " 'reg_lambda': 7.295356241344702,\n",
    " 'colsample_bytree': 0.8,\n",
    " 'subsample': 1.0,\n",
    " 'learning_rate': 0.18968035096862862,\n",
    " 'max_depth': 90,\n",
    " 'num_leaves': 1000,\n",
    " 'min_child_samples': 73}\n",
    "\n",
    "param_4_4={'reg_alpha': 0.015957473793195013,\n",
    " 'reg_lambda': 1.7448348871971726,\n",
    " 'colsample_bytree': 0.4,\n",
    " 'subsample': 0.7,\n",
    " 'learning_rate': 0.11203629767171021,\n",
    " 'max_depth': 89,\n",
    " 'num_leaves': 236,\n",
    " 'min_child_samples': 1}\n",
    "params_4_vmf = [param_4_1,param_4_2,param_4_3,param_4_4]"
   ]
  },
  {
   "cell_type": "code",
   "execution_count": 57,
   "id": "1ee00770-5a81-48e2-a95e-30ce54f1b811",
   "metadata": {},
   "outputs": [
    {
     "name": "stdout",
     "output_type": "stream",
     "text": [
      "-----------LGBM CROSS VALIDATION BEGINNING-----------\n",
      "RMSE score: 0.058602128011655784\n",
      "MAE score: 0.040974426723734816\n",
      "None\n",
      "-------------------FOLD 1-----------------\n",
      "RMSE score: 0.05721199940328143\n",
      "MAE score: 0.03978904673934377\n",
      "None\n",
      "-------------------FOLD 2-----------------\n",
      "RMSE score: 0.058716476837484696\n",
      "MAE score: 0.04095169723167431\n",
      "None\n",
      "-------------------FOLD 3-----------------\n",
      "RMSE score: 0.05942364186626939\n",
      "MAE score: 0.04095029004922764\n",
      "None\n",
      "-------------------FOLD 4-----------------\n",
      "RMSE score: 0.05918029009762694\n",
      "MAE score: 0.04119418882178776\n",
      "None\n",
      "-------------------FOLD 5-----------------\n",
      "RMSE score: 0.060148403141174055\n",
      "MAE score: 0.04138230952019754\n",
      "None\n",
      "-------------------FOLD 6-----------------\n",
      "RMSE score: 0.05890160240984948\n",
      "MAE score: 0.041387199817516575\n",
      "None\n",
      "-------------------FOLD 7-----------------\n",
      "RMSE score: 0.06087719172054634\n",
      "MAE score: 0.04210986557718243\n",
      "None\n",
      "-------------------FOLD 8-----------------\n",
      "RMSE score: 0.05858911974330959\n",
      "MAE score: 0.04069765132393896\n",
      "None\n",
      "-------------------FOLD 9-----------------\n",
      "RMSE score: 0.06145219553586524\n",
      "MAE score: 0.04214404028017665\n",
      "None\n",
      "-------------------FOLD 10-----------------\n",
      "---------------CROSS VALIDATION COMPLETE-------------\n",
      "--------------------------RMSE-----------------------\n",
      "Scores: [0.058602128011655784, 0.05721199940328143, 0.058716476837484696, 0.05942364186626939, 0.05918029009762694, 0.060148403141174055, 0.05890160240984948, 0.06087719172054634, 0.05858911974330959, 0.06145219553586524]\n",
      "Mean: 0.0593103048767063\n",
      "Std: 0.0011712884174825636\n",
      "--------------------------MAE------------------------\n",
      "Scores: [0.040974426723734816, 0.03978904673934377, 0.04095169723167431, 0.04095029004922764, 0.04119418882178776, 0.04138230952019754, 0.041387199817516575, 0.04210986557718243, 0.04069765132393896, 0.04214404028017665]\n",
      "Mean: 0.04115807160847805\n",
      "Std: 0.0006471350512019214\n"
     ]
    }
   ],
   "source": [
    "lgbm_scaled_cross_validation_vmf(X4, vmf_4['IMFwp1'],vmf_4['IMFwp2'],vmf_4['IMFwp3'],vmf_4['IMFwp4'],y4, params_4_vmf)"
   ]
  },
  {
   "cell_type": "markdown",
   "id": "640e4455-cfc5-493a-b3e6-95b608171368",
   "metadata": {},
   "source": [
    "## WP5"
   ]
  },
  {
   "cell_type": "markdown",
   "id": "57cd823c-ff5c-41ba-9e0e-8b8d75cf2c65",
   "metadata": {},
   "source": [
    "| |  | Mean | Std |\n",
    "| --- | --- | --- | --- |\n",
    "| No params | RMSE | 0.11722129743692011 | 0.0017732599261516583 |\n",
    "| No params - Std | RMSE | 0.11729790317307003 | 0.0014884067903823003 |\n",
    "| After tuning - 50trials| RMSE | 0.07721413638593042 | 0.0011020420293213135 |\n",
    "| After tuning - 100trials| RMSE | 0.07297648991888442 | 0.0014970317509404526 |\n",
    "| After tuning - 100trials - warm start | RMSE | 0.07362803793800192 | 0.0013223501622953715 |\n",
    "| After tuning 50trials - std - warm start | RMSE | 0.07379631452164911 | 0.0019249511778190373 |\n",
    "| After tuning 50trials W.S - RobustScaler | RMSE | 0.07295312559507504 | 0.0017094978756410563 |\n",
    "| 50 trials per vmf | RMSE | 0.06800612721907516 | 0.001364694216955839 |\n",
    "| --- | --- | --- | --- |\n",
    "| No params | MAE | 0.08497074568090211 | 0.0009101526501392155 |\n",
    "| No params - Std | MAE | 0.0849648687365363 | 0.0011901882563545429 |\n",
    "| After tuning - 50trials| MAE | 0.051677856581467195 | 0.0006374939894477714 |\n",
    "| After tuning - 100trials| MAE | 0.04765271414503236 | 0.0006257356756510128 |\n",
    "| After tuning - 100trials - warm trials | MAE | 0.04785179154681675 | 0.0005795839605605526 |\n",
    "| After tuning 50trials - std - warm start | MAE | 0.0480147138609328 | 0.0008230908433814974 |\n",
    "| After tuning 50trials W.S - RobustScaler | MAE | 0.04783683731205745 | 0.0007485320718195094 |\n",
    "| 50 trials per vmf | MAE | 0.04587332776201404 | 0.0008842958670279714 |"
   ]
  },
  {
   "cell_type": "code",
   "execution_count": 58,
   "id": "44f38883-24ef-46f1-bc0b-1070f4e36d2f",
   "metadata": {},
   "outputs": [],
   "source": [
    "wp5_X = train_wp5[[c for c in train_wp5 if c not in [\"wp\"]] + [\"wp\"]].drop(to_drop, axis = 1)\n",
    "X5 = wp5_X.drop('wp', axis = 1)\n",
    "y5 = wp5_X['wp']"
   ]
  },
  {
   "cell_type": "code",
   "execution_count": 59,
   "id": "266a426e-78b3-4ebe-b07b-c721d4a1a580",
   "metadata": {},
   "outputs": [],
   "source": [
    "vmf_5=vmd(y5,4,0,0,0,0,0)"
   ]
  },
  {
   "cell_type": "code",
   "execution_count": 60,
   "id": "3d7704ed-1452-4d39-bf9a-d6bbb874cf67",
   "metadata": {},
   "outputs": [],
   "source": [
    "def objective_wp5(trial, data = X5,target = vmf_5['IMFwp1']):\n",
    "    train_x, test_x, train_y, test_y = train_test_split(data, target, test_size=0.15,random_state=42)\n",
    "    return hyperparametrization(trial, train_x, test_x, train_y, test_y)"
   ]
  },
  {
   "cell_type": "code",
   "execution_count": null,
   "id": "eaa2050d-bf47-4311-b386-0a8d40eae30b",
   "metadata": {
    "tags": []
   },
   "outputs": [],
   "source": [
    "study = optuna.create_study(direction='minimize')\n",
    "study.optimize(objective_wp5, n_trials=50)\n",
    "# write_results('Data/Hyperparametrization/scaled_lgbm_50trials.xlsx', 'wp5', study.trials_dataframe())\n",
    "best_trial = study.best_trial.params\n",
    "best_trial"
   ]
  },
  {
   "cell_type": "code",
   "execution_count": 62,
   "id": "98d3103b-0722-4c62-92da-9ad79c8a2e98",
   "metadata": {},
   "outputs": [],
   "source": [
    "def objective_wp5(trial, data = X5,target = vmf_5['IMFwp2']):\n",
    "    train_x, test_x, train_y, test_y = train_test_split(data, target, test_size=0.15,random_state=42)\n",
    "    return hyperparametrization(trial, train_x, test_x, train_y, test_y)"
   ]
  },
  {
   "cell_type": "code",
   "execution_count": null,
   "id": "dcc1f2b1-44d5-4ab9-93e8-277e8474e077",
   "metadata": {
    "tags": []
   },
   "outputs": [],
   "source": [
    "study = optuna.create_study(direction='minimize')\n",
    "study.optimize(objective_wp5, n_trials=50)\n",
    "# write_results('Data/Hyperparametrization/scaled_lgbm_50trials.xlsx', 'wp5', study.trials_dataframe())\n",
    "best_trial = study.best_trial.params\n",
    "best_trial"
   ]
  },
  {
   "cell_type": "code",
   "execution_count": 64,
   "id": "c4936c30-9a3a-4f0b-a6d9-9adb07cea11e",
   "metadata": {},
   "outputs": [],
   "source": [
    "def objective_wp5(trial, data = X5,target = vmf_5['IMFwp3']):\n",
    "    train_x, test_x, train_y, test_y = train_test_split(data, target, test_size=0.15,random_state=42)\n",
    "    return hyperparametrization(trial, train_x, test_x, train_y, test_y)"
   ]
  },
  {
   "cell_type": "code",
   "execution_count": null,
   "id": "7db98239-72fa-425f-bcc7-74bec513fcf4",
   "metadata": {
    "tags": []
   },
   "outputs": [],
   "source": [
    "study = optuna.create_study(direction='minimize')\n",
    "study.optimize(objective_wp5, n_trials=50)\n",
    "# write_results('Data/Hyperparametrization/scaled_lgbm_50trials.xlsx', 'wp5', study.trials_dataframe())\n",
    "best_trial = study.best_trial.params\n",
    "best_trial"
   ]
  },
  {
   "cell_type": "code",
   "execution_count": 66,
   "id": "6cb7769d-a948-4808-9d67-af97d3080572",
   "metadata": {},
   "outputs": [],
   "source": [
    "def objective_wp5(trial, data = X5,target = vmf_5['IMFwp4']):\n",
    "    train_x, test_x, train_y, test_y = train_test_split(data, target, test_size=0.15,random_state=42)\n",
    "    return hyperparametrization(trial, train_x, test_x, train_y, test_y)"
   ]
  },
  {
   "cell_type": "code",
   "execution_count": null,
   "id": "589f7bb4-0ed6-45b6-82a8-0e18029dc4d0",
   "metadata": {
    "tags": []
   },
   "outputs": [],
   "source": [
    "study = optuna.create_study(direction='minimize')\n",
    "study.optimize(objective_wp5, n_trials=50)\n",
    "# write_results('Data/Hyperparametrization/scaled_lgbm_50trials.xlsx', 'wp5', study.trials_dataframe())\n",
    "best_trial = study.best_trial.params\n",
    "best_trial"
   ]
  },
  {
   "cell_type": "code",
   "execution_count": 68,
   "id": "41cb73ca-22bc-4c19-adbe-5ae24e9a17e3",
   "metadata": {},
   "outputs": [],
   "source": [
    "param_5_1={'reg_alpha': 0.0034661042818018295,\n",
    " 'reg_lambda': 2.9022067856985667,\n",
    " 'colsample_bytree': 0.7,\n",
    " 'subsample': 0.5,\n",
    " 'learning_rate': 0.11393879966016535,\n",
    " 'max_depth': 62,\n",
    " 'num_leaves': 506,\n",
    " 'min_child_samples': 5}\n",
    "\n",
    "param_5_2={'reg_alpha': 0.015434682291175304,\n",
    " 'reg_lambda': 7.507396765471906,\n",
    " 'colsample_bytree': 0.9,\n",
    " 'subsample': 1.0,\n",
    " 'learning_rate': 0.19527682029160215,\n",
    " 'max_depth': 100,\n",
    " 'num_leaves': 996,\n",
    " 'min_child_samples': 10}\n",
    "\n",
    "param_5_3={'reg_alpha': 0.02638276086890781,\n",
    " 'reg_lambda': 0.2470032961411219,\n",
    " 'colsample_bytree': 0.7,\n",
    " 'subsample': 1.0,\n",
    " 'learning_rate': 0.1159631366255844,\n",
    " 'max_depth': 76,\n",
    " 'num_leaves': 943,\n",
    " 'min_child_samples': 1}\n",
    "\n",
    "param_5_4={'reg_alpha': 0.04377254363611993,\n",
    " 'reg_lambda': 4.39351044880846,\n",
    " 'colsample_bytree': 0.4,\n",
    " 'subsample': 0.7,\n",
    " 'learning_rate': 0.07358585964995908,\n",
    " 'max_depth': 46,\n",
    " 'num_leaves': 822,\n",
    " 'min_child_samples': 15}\n",
    "\n",
    "params_5_vmf = [param_5_1,param_5_2,param_5_3,param_5_4]"
   ]
  },
  {
   "cell_type": "code",
   "execution_count": 69,
   "id": "eca43925-4129-49fe-a353-3936f5488039",
   "metadata": {},
   "outputs": [
    {
     "name": "stdout",
     "output_type": "stream",
     "text": [
      "-----------LGBM CROSS VALIDATION BEGINNING-----------\n",
      "RMSE score: 0.0677073567325694\n",
      "MAE score: 0.04540471162023237\n",
      "None\n",
      "-------------------FOLD 1-----------------\n",
      "RMSE score: 0.06744174720669406\n",
      "MAE score: 0.04532773252931264\n",
      "None\n",
      "-------------------FOLD 2-----------------\n",
      "RMSE score: 0.06891569210628036\n",
      "MAE score: 0.04637317816556597\n",
      "None\n",
      "-------------------FOLD 3-----------------\n",
      "RMSE score: 0.06978729450217731\n",
      "MAE score: 0.04711666199673882\n",
      "None\n",
      "-------------------FOLD 4-----------------\n",
      "RMSE score: 0.0659621660329265\n",
      "MAE score: 0.044801029135439846\n",
      "None\n",
      "-------------------FOLD 5-----------------\n",
      "RMSE score: 0.06766523137736596\n",
      "MAE score: 0.04570656207942218\n",
      "None\n",
      "-------------------FOLD 6-----------------\n",
      "RMSE score: 0.06677912193219068\n",
      "MAE score: 0.04533530390800361\n",
      "None\n",
      "-------------------FOLD 7-----------------\n",
      "RMSE score: 0.06647969961264442\n",
      "MAE score: 0.04467676134338677\n",
      "None\n",
      "-------------------FOLD 8-----------------\n",
      "RMSE score: 0.06911087067981043\n",
      "MAE score: 0.04678517732364539\n",
      "None\n",
      "-------------------FOLD 9-----------------\n",
      "RMSE score: 0.07021209200809249\n",
      "MAE score: 0.047206159518392826\n",
      "None\n",
      "-------------------FOLD 10-----------------\n",
      "---------------CROSS VALIDATION COMPLETE-------------\n",
      "--------------------------RMSE-----------------------\n",
      "Scores: [0.0677073567325694, 0.06744174720669406, 0.06891569210628036, 0.06978729450217731, 0.0659621660329265, 0.06766523137736596, 0.06677912193219068, 0.06647969961264442, 0.06911087067981043, 0.07021209200809249]\n",
      "Mean: 0.06800612721907516\n",
      "Std: 0.001364694216955839\n",
      "--------------------------MAE------------------------\n",
      "Scores: [0.04540471162023237, 0.04532773252931264, 0.04637317816556597, 0.04711666199673882, 0.044801029135439846, 0.04570656207942218, 0.04533530390800361, 0.04467676134338677, 0.04678517732364539, 0.047206159518392826]\n",
      "Mean: 0.04587332776201404\n",
      "Std: 0.0008842958670279714\n"
     ]
    }
   ],
   "source": [
    "lgbm_scaled_cross_validation_vmf(X5, vmf_5['IMFwp1'],vmf_5['IMFwp2'],vmf_5['IMFwp3'],vmf_5['IMFwp4'],y5, params_5_vmf)"
   ]
  },
  {
   "cell_type": "markdown",
   "id": "ccd547b2-24e6-4023-8959-d7955620108f",
   "metadata": {},
   "source": [
    "## WP6"
   ]
  },
  {
   "cell_type": "markdown",
   "id": "284dc175-a45f-4e3f-b577-2833794fe5ae",
   "metadata": {},
   "source": [
    "| |  | Mean | Std |\n",
    "| --- | --- | --- | --- |\n",
    "| No params | RMSE | 0.0940394026188472 | 0.0010749562915831372 |\n",
    "| No params - std | RMSE | 0.09409110695713666 | 0.0013476052174559326 |\n",
    "| After tuning - 50trials| RMSE | 0.05404362835213171 | 0.0008595325139047733 |\n",
    "| After tuning 100trials| RMSE | 0.054861488499908594 | 0.0007335378238383901 |\n",
    "| After tuning 50trials std - W.S. | RMSE |  0.05446642457662869 | 0.0009850877593637966 |\n",
    "| After tuning with W.S. - 50trials - RobustScaler | RMSE | 0.053430744425113176 | 0.0010865698281516414 ||\n",
    "| 50 trials per vmf | RMSE | 0.05055279132726877 | 0.0006313072455945034 |\n",
    "| --- | --- | --- | --- |\n",
    "| No params | MAE | 0.070455643271004 | 0.0006641538274191148 |\n",
    "| After tuning - 50trials| MAE | 0.03657758274248596 | 0.0005325521314198646 |\n",
    "| After tuning 100trials| MAE | 0.03783933495157941 | 0.00045956939815828987 |\n",
    "| After tuning 50trials std - warm start| MAE | 0.0367847898055025 | 0.00039001216012464674 |\n",
    "| After tuning with W.S. - 50trials - RobustScaler | RMSE | 0.03652663713189234 | 0.0006251342721346248 ||\n",
    "| 50 trials per vmf | MAE | 0.0357185614133554 | 0.00028295806558658535 |"
   ]
  },
  {
   "cell_type": "code",
   "execution_count": 70,
   "id": "da2f9ef4-ad90-4d75-9137-735cd41284fe",
   "metadata": {
    "tags": []
   },
   "outputs": [],
   "source": [
    "wp6_X = train_wp6[[c for c in train_wp6 if c not in [\"wp\"]] + [\"wp\"]].drop(to_drop, axis = 1)\n",
    "X6 = wp6_X.drop('wp', axis = 1)\n",
    "y6 = wp6_X['wp']\n"
   ]
  },
  {
   "cell_type": "code",
   "execution_count": 71,
   "id": "8fe5a92c-2e3c-4254-b6d0-6c568268e624",
   "metadata": {},
   "outputs": [],
   "source": [
    "vmf_6=vmd(y6,4,0,0,0,0,0)"
   ]
  },
  {
   "cell_type": "code",
   "execution_count": 72,
   "id": "709a29ba-f5e0-4838-836a-1a48fcf1d059",
   "metadata": {},
   "outputs": [],
   "source": [
    "def objective_wp6(trial,data = X6,target = vmf_6['IMFwp1']):\n",
    "    train_x, test_x, train_y, test_y = train_test_split(data, target, test_size=0.15,random_state=42)\n",
    "    return hyperparametrization(trial, train_x, test_x, train_y, test_y)"
   ]
  },
  {
   "cell_type": "code",
   "execution_count": null,
   "id": "ee1df46e-4de8-431a-b8bb-51aa12006899",
   "metadata": {
    "tags": []
   },
   "outputs": [],
   "source": [
    "study = optuna.create_study(direction='minimize')\n",
    "study.optimize(objective_wp6, n_trials=50)\n",
    "# write_results('Data/Hyperparametrization/scaled_lgbm_50trials.xlsx', 'wp5', study.trials_dataframe())\n",
    "best_trial = study.best_trial.params\n",
    "best_trial"
   ]
  },
  {
   "cell_type": "code",
   "execution_count": 74,
   "id": "cd312ade-e390-402c-aa27-7e9b39568423",
   "metadata": {},
   "outputs": [],
   "source": [
    "def objective_wp6(trial,data = X6,target = vmf_6['IMFwp2']):\n",
    "    train_x, test_x, train_y, test_y = train_test_split(data, target, test_size=0.15,random_state=42)\n",
    "    return hyperparametrization(trial, train_x, test_x, train_y, test_y)"
   ]
  },
  {
   "cell_type": "code",
   "execution_count": null,
   "id": "6c4fd4b9-0fe4-40c7-a1c3-75a9bbc20e81",
   "metadata": {
    "tags": []
   },
   "outputs": [],
   "source": [
    "study = optuna.create_study(direction='minimize')\n",
    "study.optimize(objective_wp6, n_trials=50)\n",
    "# write_results('Data/Hyperparametrization/scaled_lgbm_50trials.xlsx', 'wp5', study.trials_dataframe())\n",
    "best_trial = study.best_trial.params\n",
    "best_trial"
   ]
  },
  {
   "cell_type": "code",
   "execution_count": 76,
   "id": "727e10b9-58a0-4b46-a824-ab77f56badb2",
   "metadata": {},
   "outputs": [],
   "source": [
    "def objective_wp6(trial,data = X6,target = vmf_6['IMFwp3']):\n",
    "    train_x, test_x, train_y, test_y = train_test_split(data, target, test_size=0.15,random_state=42)\n",
    "    return hyperparametrization(trial, train_x, test_x, train_y, test_y)"
   ]
  },
  {
   "cell_type": "code",
   "execution_count": null,
   "id": "1bca1c55-f407-49cf-8218-7053acb2e7b1",
   "metadata": {
    "tags": []
   },
   "outputs": [],
   "source": [
    "study = optuna.create_study(direction='minimize')\n",
    "study.optimize(objective_wp6, n_trials=50)\n",
    "# write_results('Data/Hyperparametrization/scaled_lgbm_50trials.xlsx', 'wp5', study.trials_dataframe())\n",
    "best_trial = study.best_trial.params\n",
    "best_trial"
   ]
  },
  {
   "cell_type": "code",
   "execution_count": 78,
   "id": "9967bfd6-0161-4ac8-a373-967b6e4be767",
   "metadata": {},
   "outputs": [],
   "source": [
    "def objective_wp6(trial,data = X6,target = vmf_6['IMFwp4']):\n",
    "    train_x, test_x, train_y, test_y = train_test_split(data, target, test_size=0.15,random_state=42)\n",
    "    return hyperparametrization(trial, train_x, test_x, train_y, test_y)"
   ]
  },
  {
   "cell_type": "code",
   "execution_count": null,
   "id": "3c226e7a-4e80-4173-be53-b18ba3649319",
   "metadata": {
    "tags": []
   },
   "outputs": [],
   "source": [
    "study = optuna.create_study(direction='minimize')\n",
    "study.optimize(objective_wp6, n_trials=50)\n",
    "# write_results('Data/Hyperparametrization/scaled_lgbm_50trials.xlsx', 'wp5', study.trials_dataframe())\n",
    "best_trial = study.best_trial.params\n",
    "best_trial"
   ]
  },
  {
   "cell_type": "code",
   "execution_count": 80,
   "id": "1da32967-6a7f-483d-a9c4-89f7f0f92726",
   "metadata": {},
   "outputs": [],
   "source": [
    "param_6_1={'reg_alpha': 0.051515195307871846,\n",
    " 'reg_lambda': 0.03926024162189102,\n",
    " 'colsample_bytree': 0.5,\n",
    " 'subsample': 0.6,\n",
    " 'learning_rate': 0.07848954278195815,\n",
    " 'max_depth': 57,\n",
    " 'num_leaves': 868,\n",
    " 'min_child_samples': 39}\n",
    "\n",
    "param_6_2={'reg_alpha': 0.13037305839892488,\n",
    " 'reg_lambda': 1.58383134640443,\n",
    " 'colsample_bytree': 0.4,\n",
    " 'subsample': 0.8,\n",
    " 'learning_rate': 0.1361232166626021,\n",
    " 'max_depth': 23,\n",
    " 'num_leaves': 539,\n",
    " 'min_child_samples': 16}\n",
    "\n",
    "param_6_3={'reg_alpha': 0.01609775594879223,\n",
    " 'reg_lambda': 0.00244176632269803,\n",
    " 'colsample_bytree': 0.8,\n",
    " 'subsample': 0.8,\n",
    " 'learning_rate': 0.13915227536127003,\n",
    " 'max_depth': 21,\n",
    " 'num_leaves': 646,\n",
    " 'min_child_samples': 14}\n",
    "\n",
    "param_6_4={'reg_alpha': 0.08888327814702261,\n",
    " 'reg_lambda': 0.06078209167150264,\n",
    " 'colsample_bytree': 0.8,\n",
    " 'subsample': 1.0,\n",
    " 'learning_rate': 0.10127033570296538,\n",
    " 'max_depth': 75,\n",
    " 'num_leaves': 471,\n",
    " 'min_child_samples': 4}\n",
    "\n",
    "params_6_vmf = [param_6_1,param_6_2,param_6_3,param_6_4]"
   ]
  },
  {
   "cell_type": "code",
   "execution_count": 81,
   "id": "a4078324-023c-40f0-94e8-320d85a49117",
   "metadata": {},
   "outputs": [
    {
     "name": "stdout",
     "output_type": "stream",
     "text": [
      "-----------LGBM CROSS VALIDATION BEGINNING-----------\n",
      "RMSE score: 0.04949259498664572\n",
      "MAE score: 0.035567974732241756\n",
      "None\n",
      "-------------------FOLD 1-----------------\n",
      "RMSE score: 0.049974513619843126\n",
      "MAE score: 0.03516693218255585\n",
      "None\n",
      "-------------------FOLD 2-----------------\n",
      "RMSE score: 0.05183019008176159\n",
      "MAE score: 0.036241341505116265\n",
      "None\n",
      "-------------------FOLD 3-----------------\n",
      "RMSE score: 0.05067231580700801\n",
      "MAE score: 0.03572179972979816\n",
      "None\n",
      "-------------------FOLD 4-----------------\n",
      "RMSE score: 0.05133481534936137\n",
      "MAE score: 0.03612293360739645\n",
      "None\n",
      "-------------------FOLD 5-----------------\n",
      "RMSE score: 0.05009850517099491\n",
      "MAE score: 0.035590098894691384\n",
      "None\n",
      "-------------------FOLD 6-----------------\n",
      "RMSE score: 0.05058459449218789\n",
      "MAE score: 0.035619599641763734\n",
      "None\n",
      "-------------------FOLD 7-----------------\n",
      "RMSE score: 0.05065045023033785\n",
      "MAE score: 0.035652872012177164\n",
      "None\n",
      "-------------------FOLD 8-----------------\n",
      "RMSE score: 0.05056599333368089\n",
      "MAE score: 0.03579650312716887\n",
      "None\n",
      "-------------------FOLD 9-----------------\n",
      "RMSE score: 0.05032394020086632\n",
      "MAE score: 0.0357055587006444\n",
      "None\n",
      "-------------------FOLD 10-----------------\n",
      "---------------CROSS VALIDATION COMPLETE-------------\n",
      "--------------------------RMSE-----------------------\n",
      "Scores: [0.04949259498664572, 0.049974513619843126, 0.05183019008176159, 0.05067231580700801, 0.05133481534936137, 0.05009850517099491, 0.05058459449218789, 0.05065045023033785, 0.05056599333368089, 0.05032394020086632]\n",
      "Mean: 0.05055279132726877\n",
      "Std: 0.0006313072455945034\n",
      "--------------------------MAE------------------------\n",
      "Scores: [0.035567974732241756, 0.03516693218255585, 0.036241341505116265, 0.03572179972979816, 0.03612293360739645, 0.035590098894691384, 0.035619599641763734, 0.035652872012177164, 0.03579650312716887, 0.0357055587006444]\n",
      "Mean: 0.0357185614133554\n",
      "Std: 0.00028295806558658535\n"
     ]
    }
   ],
   "source": [
    "lgbm_scaled_cross_validation_vmf(X6, vmf_6['IMFwp1'],vmf_6['IMFwp2'],vmf_6['IMFwp3'],vmf_6['IMFwp4'],y6, params_6_vmf)"
   ]
  },
  {
   "cell_type": "markdown",
   "id": "599f0c09-97e8-4e3b-a117-f707ed6235e2",
   "metadata": {},
   "source": [
    "# Predictions"
   ]
  },
  {
   "cell_type": "markdown",
   "id": "56a64913-6e53-4cb4-9cb5-2d7a5f33c2d2",
   "metadata": {},
   "source": [
    "## Functions"
   ]
  },
  {
   "cell_type": "code",
   "execution_count": 82,
   "id": "2e673e92-7f3f-4ffd-a822-c574b030dac4",
   "metadata": {},
   "outputs": [],
   "source": [
    "to_drop_test = ['date','wd','forecast_time', 'forecast', \"forecast_dist\", 'wp']+feature_corr\n",
    "def make_prediction_dataset(test, to_drop=to_drop_test):\n",
    "    test_to_predict = test.dropna(subset=['ws','u','v'], how = 'any') # keeps only lines with u,v,ws,wd\n",
    "    test_to_predict = test_to_predict[test_to_predict['wp'].isna()] # keeps only lines with no wp\n",
    "    test_to_predict = test_to_predict.sort_values(by=['date', 'forecast_time'], ascending = [True, False]).drop_duplicates(subset='date')\n",
    "    test_to_predict = test_to_predict.drop(to_drop, axis = 1)\n",
    "    return test_to_predict"
   ]
  },
  {
   "cell_type": "code",
   "execution_count": 122,
   "id": "911631de-e039-4791-885d-73d714bc3115",
   "metadata": {},
   "outputs": [],
   "source": [
    "def make_submission_file(lst_X_trains, lst_y_trains,lst_y_vmfs,lst_tests, lst_models, dates):\n",
    "    i = 1\n",
    "    lst_prediction = []\n",
    "    lst_models_trained = []\n",
    "    for X, y, test, model in zip(lst_X_trains, lst_y_vmfs, lst_tests, lst_models):\n",
    "        print(f'--------------Model {i}--------------')\n",
    "        model[0].fit(X, y[0])\n",
    "        model[1].fit(X, y[1])\n",
    "        model[2].fit(X, y[2])\n",
    "        model[3].fit(X, y[3])\n",
    "        print(f'True:\\n\\tMin:{min(lst_y_trains[i-1])}\\n\\tMax:{max(lst_y_trains[i-1])}\\n\\tMean:{lst_y_trains[i-1].mean()}')\n",
    "        predictions = (model[0].predict(test)+\n",
    "                       model[1].predict(test)+\n",
    "                       model[2].predict(test)+\n",
    "                       model[3].predict(test))\n",
    "        print(f'Prediction:\\n\\tMin:{min(predictions)}\\n\\tMax:{max(predictions)}\\n\\tMean:{np.mean(predictions)}')\n",
    "#         predictions = [min(y) if i < 0 else i for i in predictions]\n",
    "#         predictions = [max(y) if i > max(y) else i for i in predictions]\n",
    "        predictions = [0 if i < 0 else i for i in predictions]\n",
    "        predictions = [1 if i > 1 else i for i in predictions]\n",
    "        print(f'Prediction corrected:\\n\\tMin:{min(predictions)}\\n\\tMax:{max(predictions)}\\n\\tMean:{np.mean(predictions)}')\n",
    "        lst_prediction.append(predictions)\n",
    "        lst_models_trained.append(model)\n",
    "        i+=1\n",
    "    \n",
    "    df_predictions = pd.DataFrame({\n",
    "        'date': test_dates,\n",
    "        'wp1': lst_prediction[0],\n",
    "        'wp2': lst_prediction[1],\n",
    "        'wp3': lst_prediction[2],\n",
    "        'wp4': lst_prediction[3],\n",
    "        'wp5': lst_prediction[4],\n",
    "        'wp6': lst_prediction[5],        \n",
    "    })\n",
    "    return df_predictions, lst_models_trained"
   ]
  },
  {
   "cell_type": "code",
   "execution_count": 123,
   "id": "00891316-887e-4bfe-9380-e697d854aa74",
   "metadata": {},
   "outputs": [],
   "source": [
    "def make_submission_file_nmodels(lst_X_trains, lst_y_trains,lst_y_vmfs,lst_tests, lst_models, dates):\n",
    "    i = 1\n",
    "    lst_prediction = []\n",
    "    lst_models_trained = []\n",
    "    for X, y, test, model in zip(lst_X_trains, lst_y_vmfs, lst_tests, lst_models):\n",
    "        print(f'--------------Model {i}--------------')\n",
    "        for n in range(len(model)):\n",
    "            model[n].fit(X,y[n])\n",
    "        \n",
    "        print(f'True:\\n\\tMin:{min(lst_y_trains[i-1])}\\n\\tMax:{max(lst_y_trains[i-1])}\\n\\tMean:{lst_y_trains[i-1].mean()}')\n",
    "        \n",
    "        for m in range(len(model)):\n",
    "            if m==0:\n",
    "                predictions = model[m].predict(test)\n",
    "            else:\n",
    "                predictions += model[m].predict(test)\n",
    "        print(f'Prediction:\\n\\tMin:{min(predictions)}\\n\\tMax:{max(predictions)}\\n\\tMean:{np.mean(predictions)}')\n",
    "#         predictions = [min(y) if i < 0 else i for i in predictions]\n",
    "#         predictions = [max(y) if i > max(y) else i for i in predictions]\n",
    "        predictions = [0 if i < 0 else i for i in predictions]\n",
    "        predictions = [1 if i > 1 else i for i in predictions]\n",
    "        print(f'Prediction corrected:\\n\\tMin:{min(predictions)}\\n\\tMax:{max(predictions)}\\n\\tMean:{np.mean(predictions)}')\n",
    "        lst_prediction.append(predictions)\n",
    "        lst_models_trained.append(model)\n",
    "        i+=1\n",
    "    \n",
    "    df_predictions = pd.DataFrame({\n",
    "        'date': test_dates,\n",
    "        'wp1': lst_prediction[0],\n",
    "        'wp2': lst_prediction[1],\n",
    "        'wp3': lst_prediction[2],\n",
    "        'wp4': lst_prediction[3],\n",
    "        'wp5': lst_prediction[4],\n",
    "        'wp6': lst_prediction[5],        \n",
    "    })\n",
    "    return df_predictions, lst_models_trained"
   ]
  },
  {
   "cell_type": "markdown",
   "id": "c8f21883-d940-4252-a2e8-0bf49e780a3d",
   "metadata": {},
   "source": [
    "## Submission "
   ]
  },
  {
   "cell_type": "code",
   "execution_count": 91,
   "id": "e5441a77-c516-4594-acd1-026138dcbb2c",
   "metadata": {},
   "outputs": [],
   "source": [
    "model_1_1 = Pipeline([('scaler', MaxAbsScaler()),('ridge', LGBMRegressor(**param_1_1))])\n",
    "model_1_2 = Pipeline([('scaler', MaxAbsScaler()),('ridge', LGBMRegressor(**param_1_2))])\n",
    "model_1_3 = Pipeline([('scaler', MaxAbsScaler()),('ridge', LGBMRegressor(**param_1_3))])\n",
    "model_1_4 = Pipeline([('scaler', MaxAbsScaler()),('ridge', LGBMRegressor(**param_1_4))])\n",
    "model_1=[model_1_1, model_1_2, model_1_3, model_1_4]\n",
    "model_2_1 = Pipeline([('scaler', MaxAbsScaler()),('ridge', LGBMRegressor(**param_2_1))])\n",
    "model_2_2 = Pipeline([('scaler', MaxAbsScaler()),('ridge', LGBMRegressor(**param_2_2))])\n",
    "model_2_3 = Pipeline([('scaler', MaxAbsScaler()),('ridge', LGBMRegressor(**param_2_3))])\n",
    "model_2_4 = Pipeline([('scaler', MaxAbsScaler()),('ridge', LGBMRegressor(**param_2_4))])\n",
    "model_2=[model_2_1, model_2_2, model_2_3, model_2_4]\n",
    "model_3_1 = Pipeline([('scaler', MaxAbsScaler()),('ridge', LGBMRegressor(**param_3_1))])\n",
    "model_3_2 = Pipeline([('scaler', MaxAbsScaler()),('ridge', LGBMRegressor(**param_3_2))])\n",
    "model_3_3 = Pipeline([('scaler', MaxAbsScaler()),('ridge', LGBMRegressor(**param_3_3))])\n",
    "model_3_4 = Pipeline([('scaler', MaxAbsScaler()),('ridge', LGBMRegressor(**param_3_4))])\n",
    "model_3=[model_3_1, model_3_2, model_3_3, model_3_4]\n",
    "model_4_1 = Pipeline([('scaler', MaxAbsScaler()),('ridge', LGBMRegressor(**param_4_1))])\n",
    "model_4_2 = Pipeline([('scaler', MaxAbsScaler()),('ridge', LGBMRegressor(**param_4_2))])\n",
    "model_4_3 = Pipeline([('scaler', MaxAbsScaler()),('ridge', LGBMRegressor(**param_4_3))])\n",
    "model_4_4 = Pipeline([('scaler', MaxAbsScaler()),('ridge', LGBMRegressor(**param_4_4))])\n",
    "model_4=[model_4_1, model_4_2, model_4_3, model_4_4]\n",
    "model_5_1 = Pipeline([('scaler', MaxAbsScaler()),('ridge', LGBMRegressor(**param_5_1))])\n",
    "model_5_2 = Pipeline([('scaler', MaxAbsScaler()),('ridge', LGBMRegressor(**param_5_2))])\n",
    "model_5_3 = Pipeline([('scaler', MaxAbsScaler()),('ridge', LGBMRegressor(**param_5_3))])\n",
    "model_5_4 = Pipeline([('scaler', MaxAbsScaler()),('ridge', LGBMRegressor(**param_5_4))])\n",
    "model_5=[model_5_1, model_5_2, model_5_3, model_5_4]\n",
    "model_6_1 = Pipeline([('scaler', MaxAbsScaler()),('ridge', LGBMRegressor(**param_6_1))])\n",
    "model_6_2 = Pipeline([('scaler', MaxAbsScaler()),('ridge', LGBMRegressor(**param_6_2))])\n",
    "model_6_3 = Pipeline([('scaler', MaxAbsScaler()),('ridge', LGBMRegressor(**param_6_3))])\n",
    "model_6_4 = Pipeline([('scaler', MaxAbsScaler()),('ridge', LGBMRegressor(**param_6_4))])\n",
    "model_6=[model_6_1, model_6_2, model_6_3, model_6_4]"
   ]
  },
  {
   "cell_type": "code",
   "execution_count": 107,
   "id": "b259fa94-561a-4462-98b1-89d8a60099fd",
   "metadata": {},
   "outputs": [],
   "source": [
    "model_1_1 = Pipeline([('scaler', MaxAbsScaler()),('ridge', LGBMRegressor())])\n",
    "model_1_2 = Pipeline([('scaler', MaxAbsScaler()),('ridge', LGBMRegressor())])\n",
    "model_1_3 = Pipeline([('scaler', MaxAbsScaler()),('ridge', LGBMRegressor())])\n",
    "model_1_4 = Pipeline([('scaler', MaxAbsScaler()),('ridge', LGBMRegressor())])\n",
    "model_1=[model_1_1, model_1_2, model_1_3, model_1_4]\n",
    "model_2_1 = Pipeline([('scaler', MaxAbsScaler()),('ridge', LGBMRegressor())])\n",
    "model_2_2 = Pipeline([('scaler', MaxAbsScaler()),('ridge', LGBMRegressor())])\n",
    "model_2_3 = Pipeline([('scaler', MaxAbsScaler()),('ridge', LGBMRegressor())])\n",
    "model_2_4 = Pipeline([('scaler', MaxAbsScaler()),('ridge', LGBMRegressor())])\n",
    "model_2=[model_2_1, model_2_2, model_2_3, model_2_4]\n",
    "model_3_1 = Pipeline([('scaler', MaxAbsScaler()),('ridge', LGBMRegressor())])\n",
    "model_3_2 = Pipeline([('scaler', MaxAbsScaler()),('ridge', LGBMRegressor())])\n",
    "model_3_3 = Pipeline([('scaler', MaxAbsScaler()),('ridge', LGBMRegressor())])\n",
    "model_3_4 = Pipeline([('scaler', MaxAbsScaler()),('ridge', LGBMRegressor())])\n",
    "model_3=[model_3_1, model_3_2, model_3_3, model_3_4]\n",
    "model_4_1 = Pipeline([('scaler', MaxAbsScaler()),('ridge', LGBMRegressor())])\n",
    "model_4_2 = Pipeline([('scaler', MaxAbsScaler()),('ridge', LGBMRegressor())])\n",
    "model_4_3 = Pipeline([('scaler', MaxAbsScaler()),('ridge', LGBMRegressor())])\n",
    "model_4_4 = Pipeline([('scaler', MaxAbsScaler()),('ridge', LGBMRegressor())])\n",
    "model_4=[model_4_1, model_4_2, model_4_3, model_4_4]\n",
    "model_5_1 = Pipeline([('scaler', MaxAbsScaler()),('ridge', LGBMRegressor())])\n",
    "model_5_2 = Pipeline([('scaler', MaxAbsScaler()),('ridge', LGBMRegressor())])\n",
    "model_5_3 = Pipeline([('scaler', MaxAbsScaler()),('ridge', LGBMRegressor())])\n",
    "model_5_4 = Pipeline([('scaler', MaxAbsScaler()),('ridge', LGBMRegressor())])\n",
    "model_5=[model_5_1, model_5_2, model_5_3, model_5_4]\n",
    "model_6_1 = Pipeline([('scaler', MaxAbsScaler()),('ridge', LGBMRegressor())])\n",
    "model_6_2 = Pipeline([('scaler', MaxAbsScaler()),('ridge', LGBMRegressor())])\n",
    "model_6_3 = Pipeline([('scaler', MaxAbsScaler()),('ridge', LGBMRegressor())])\n",
    "model_6_4 = Pipeline([('scaler', MaxAbsScaler()),('ridge', LGBMRegressor())])\n",
    "model_6=[model_6_1, model_6_2, model_6_3, model_6_4]"
   ]
  },
  {
   "cell_type": "code",
   "execution_count": 142,
   "id": "2c94739a-d385-48ce-bebf-85972976cef4",
   "metadata": {},
   "outputs": [],
   "source": [
    "def vmd(y,k,alpha, tau,DC, init, tol):\n",
    "    \n",
    "    #Intrinsic mode generation\n",
    "     #Empirical Mode Decomposition\n",
    "    #. some sample parameters for VMD  \n",
    "   \n",
    "    u, u_hat, omega = VMD(y,alpha, tau, k, DC, init, tol)\n",
    "    df_vmfs = pd.DataFrame()\n",
    "    #Integration in the dataframe\n",
    "    for num, imf in enumerate(u):\n",
    "        #print('----Creating VMFwp{0} EMD columns----'.format(num+1))\n",
    "        df_vmfs['IMFwp{0}'.format(num+1)] = imf\n",
    "    return df_vmfs"
   ]
  },
  {
   "cell_type": "code",
   "execution_count": 204,
   "id": "5e29efbb-5ad3-4409-8977-3e7aba1d7181",
   "metadata": {},
   "outputs": [],
   "source": [
    "alpha = 1       # moderate bandwidth constraint  \n",
    "tau = 0          # noise-tolerance (no strict fidelity enforcement)  \n",
    "k = 4              # k modes  \n",
    "DC = 0             # no DC part imposed  \n",
    "init = 1           # initialize omegas randomly \n",
    "tol = 1e-6\n",
    "vmf_1=vmd(y1,k,alpha, tau,DC, init, tol)\n",
    "vmf_2=vmd(y2,k,alpha, tau,DC, init, tol)\n",
    "vmf_3=vmd(y3,k,alpha, tau,DC, init, tol)\n",
    "vmf_4=vmd(y4,k,alpha, tau,DC, init, tol)\n",
    "vmf_5=vmd(y5,k,alpha, tau,DC, init, tol)\n",
    "vmf_6=vmd(y6,k,alpha, tau,DC, init, tol)"
   ]
  },
  {
   "cell_type": "code",
   "execution_count": 244,
   "id": "bb92fbf4-59bf-438f-8efd-aa528d9d7feb",
   "metadata": {},
   "outputs": [],
   "source": [
    "n_estimators = 50\n",
    "model_1=[]\n",
    "model_2=[]\n",
    "model_3=[]\n",
    "model_4=[]\n",
    "model_5=[]\n",
    "model_6=[]\n",
    "for i in range(k):\n",
    "    model=Pipeline([('scaler', MaxAbsScaler()),('ridge', LGBMRegressor(num_iterations=n_estimators))])\n",
    "    model_1+=[model]\n",
    "    model_2+=[model]\n",
    "    model_3+=[model]\n",
    "    model_4+=[model]\n",
    "    model_5+=[model]\n",
    "    model_6+=[model]"
   ]
  },
  {
   "cell_type": "code",
   "execution_count": 245,
   "id": "937cf911-1ece-4694-9eac-d32b4f0f6aa2",
   "metadata": {},
   "outputs": [],
   "source": [
    "y_vmf1=[]\n",
    "y_vmf2=[]\n",
    "y_vmf3=[]\n",
    "y_vmf4=[]\n",
    "y_vmf5=[]\n",
    "y_vmf6=[]\n",
    "for i in range(1,k+1):\n",
    "    y_vmf1.append(vmf_1['IMFwp'+str(i)])\n",
    "    y_vmf2.append(vmf_2['IMFwp'+str(i)])\n",
    "    y_vmf3.append(vmf_3['IMFwp'+str(i)])\n",
    "    y_vmf4.append(vmf_4['IMFwp'+str(i)])\n",
    "    y_vmf5.append(vmf_5['IMFwp'+str(i)])\n",
    "    y_vmf6.append(vmf_6['IMFwp'+str(i)])"
   ]
  },
  {
   "cell_type": "code",
   "execution_count": 246,
   "id": "8921365d-a1b4-4d3f-a6fa-693733ac2f3e",
   "metadata": {},
   "outputs": [],
   "source": [
    "# model_1 = LGBMRegressor(**params_1)\n",
    "# model_2 = LGBMRegressor(**params_2)\n",
    "# model_3 = LGBMRegressor(**params_3)\n",
    "# model_4 = LGBMRegressor(**params_4)\n",
    "# model_5 = LGBMRegressor(**params_5)\n",
    "# model_6 = LGBMRegressor(**params_6)\n",
    "\n",
    "lst_models = [model_1, model_2, model_3, model_4, model_5, model_6]\n",
    "#lst_params_none=[ , , , ]\n",
    "#lst_models=[lst_params_none,lst_params_none,lst_params_none,lst_params_none,lst_params_none,lst_params_none]\n",
    "lst_X_trains = [X1, X2, X3, X4, X5, X6]\n",
    "lst_y_trains = [y1, y2, y3, y4, y5, y6]\n",
    "lst_y_vmf=[y_vmf1, y_vmf2, y_vmf3, y_vmf4, y_vmf5, y_vmf6]"
   ]
  },
  {
   "cell_type": "code",
   "execution_count": 247,
   "id": "ca47f1f3-34a9-4a23-8312-2a9402f563ff",
   "metadata": {},
   "outputs": [],
   "source": [
    "lst_tests = []\n",
    "for test in [test_wp1, test_wp2, test_wp3, test_wp4, test_wp5, test_wp6]:\n",
    "    test = make_prediction_dataset(test)\n",
    "    lst_tests.append(test)"
   ]
  },
  {
   "cell_type": "code",
   "execution_count": 248,
   "id": "df54ea09-8916-4fdd-a8be-0516f0ed5395",
   "metadata": {
    "tags": []
   },
   "outputs": [],
   "source": [
    "#df_predictions, lst_models_trained = make_submission_file(lst_X_trains, lst_y_trains, lst_y_vmf,lst_tests, lst_models, test_dates)"
   ]
  },
  {
   "cell_type": "code",
   "execution_count": 249,
   "id": "89043140-6139-4c1f-b251-c1ffb81aaa8f",
   "metadata": {},
   "outputs": [
    {
     "name": "stdout",
     "output_type": "stream",
     "text": [
      "--------------Model 1--------------\n",
      "True:\n",
      "\tMin:0.0\n",
      "\tMax:0.96\n",
      "\tMean:0.2845981952075702\n",
      "Prediction:\n",
      "\tMin:-0.027970308356061187\n",
      "\tMax:0.9891221566016872\n",
      "\tMean:0.2994843806165412\n",
      "Prediction corrected:\n",
      "\tMin:0\n",
      "\tMax:0.9891221566016872\n",
      "\tMean:0.2995193926117491\n",
      "--------------Model 2--------------\n",
      "True:\n",
      "\tMin:0.0\n",
      "\tMax:0.966\n",
      "\tMean:0.25890153769841273\n",
      "Prediction:\n",
      "\tMin:-0.039105545128389804\n",
      "\tMax:1.0583572350399826\n",
      "\tMean:0.25129887543327006\n",
      "Prediction corrected:\n",
      "\tMin:0\n",
      "\tMax:1\n",
      "\tMean:0.2513070621840327\n",
      "--------------Model 3--------------\n",
      "True:\n",
      "\tMin:0.0\n",
      "\tMax:0.989\n",
      "\tMean:0.2625247252747253\n",
      "Prediction:\n",
      "\tMin:-0.03049342198583596\n",
      "\tMax:0.9700561985700036\n",
      "\tMean:0.2922949445663781\n",
      "Prediction corrected:\n",
      "\tMin:0\n",
      "\tMax:0.9700561985700036\n",
      "\tMean:0.29235550234899166\n",
      "--------------Model 4--------------\n",
      "True:\n",
      "\tMin:0.0\n",
      "\tMax:0.992\n",
      "\tMean:0.2763637820512821\n",
      "Prediction:\n",
      "\tMin:-0.030183240720419217\n",
      "\tMax:0.9707391187601604\n",
      "\tMean:0.2827602302246812\n",
      "Prediction corrected:\n",
      "\tMin:0\n",
      "\tMax:0.9707391187601604\n",
      "\tMean:0.2828100830857916\n",
      "--------------Model 5--------------\n",
      "True:\n",
      "\tMin:0.0\n",
      "\tMax:0.978\n",
      "\tMean:0.32622119200244204\n",
      "Prediction:\n",
      "\tMin:-0.00876231398729547\n",
      "\tMax:1.045930019494238\n",
      "\tMean:0.3374414682161652\n",
      "Prediction corrected:\n",
      "\tMin:0\n",
      "\tMax:1\n",
      "\tMean:0.33743408327155444\n",
      "--------------Model 6--------------\n",
      "True:\n",
      "\tMin:0.0\n",
      "\tMax:0.947\n",
      "\tMean:0.2425176472832723\n",
      "Prediction:\n",
      "\tMin:-0.030026933590509546\n",
      "\tMax:0.9135685897319206\n",
      "\tMean:0.24375732671611589\n",
      "Prediction corrected:\n",
      "\tMin:0\n",
      "\tMax:0.9135685897319206\n",
      "\tMean:0.24378469268478706\n"
     ]
    }
   ],
   "source": [
    "df_predictions, lst_models_trained = make_submission_file_nmodels(lst_X_trains, lst_y_trains, lst_y_vmf,lst_tests, lst_models, test_dates)"
   ]
  },
  {
   "cell_type": "markdown",
   "id": "7a9f9df6-0310-4202-8e27-64a9fc7ac69a",
   "metadata": {},
   "source": [
    "## Saving models"
   ]
  },
  {
   "cell_type": "code",
   "execution_count": 250,
   "id": "a0d37c4a-98cf-43a3-8667-eaac2fc226f4",
   "metadata": {},
   "outputs": [],
   "source": [
    "nb_sub = 39\n",
    "model = \"robustscaler-lgbm-vmf\"\n",
    "prepro = 'RobustScaler'\n",
    "postpro = \"Prediction limited by 0-1\""
   ]
  },
  {
   "cell_type": "code",
   "execution_count": 251,
   "id": "1fa2c859-6e63-40e3-adc4-045fe68c06de",
   "metadata": {},
   "outputs": [],
   "source": [
    "# df_predictions.to_csv('Predictions/submission_nb_10_full_maxabs-lgbm-featselect.csv', index=False, sep=';')\n",
    "df_predictions.to_csv(f'Predictions/submission_nb_{nb_sub}_{model}.csv', index=False, sep=';')"
   ]
  },
  {
   "cell_type": "code",
   "execution_count": 252,
   "id": "6275b9b6-2e34-415a-a162-ffba04c8bbae",
   "metadata": {},
   "outputs": [
    {
     "data": {
      "text/html": [
       "<div>\n",
       "<style scoped>\n",
       "    .dataframe tbody tr th:only-of-type {\n",
       "        vertical-align: middle;\n",
       "    }\n",
       "\n",
       "    .dataframe tbody tr th {\n",
       "        vertical-align: top;\n",
       "    }\n",
       "\n",
       "    .dataframe thead th {\n",
       "        text-align: right;\n",
       "    }\n",
       "</style>\n",
       "<table border=\"1\" class=\"dataframe\">\n",
       "  <thead>\n",
       "    <tr style=\"text-align: right;\">\n",
       "      <th></th>\n",
       "      <th>date</th>\n",
       "      <th>wp1</th>\n",
       "      <th>wp2</th>\n",
       "      <th>wp3</th>\n",
       "      <th>wp4</th>\n",
       "      <th>wp5</th>\n",
       "      <th>wp6</th>\n",
       "    </tr>\n",
       "  </thead>\n",
       "  <tbody>\n",
       "    <tr>\n",
       "      <th>0</th>\n",
       "      <td>2011010101</td>\n",
       "      <td>0.629442</td>\n",
       "      <td>0.452856</td>\n",
       "      <td>0.075060</td>\n",
       "      <td>0.610177</td>\n",
       "      <td>0.715494</td>\n",
       "      <td>0.616345</td>\n",
       "    </tr>\n",
       "    <tr>\n",
       "      <th>1</th>\n",
       "      <td>2011010102</td>\n",
       "      <td>0.587563</td>\n",
       "      <td>0.459752</td>\n",
       "      <td>0.110097</td>\n",
       "      <td>0.578175</td>\n",
       "      <td>0.728987</td>\n",
       "      <td>0.620321</td>\n",
       "    </tr>\n",
       "    <tr>\n",
       "      <th>2</th>\n",
       "      <td>2011010103</td>\n",
       "      <td>0.604269</td>\n",
       "      <td>0.417637</td>\n",
       "      <td>0.130435</td>\n",
       "      <td>0.579207</td>\n",
       "      <td>0.766609</td>\n",
       "      <td>0.628782</td>\n",
       "    </tr>\n",
       "    <tr>\n",
       "      <th>3</th>\n",
       "      <td>2011010104</td>\n",
       "      <td>0.644538</td>\n",
       "      <td>0.366657</td>\n",
       "      <td>0.279766</td>\n",
       "      <td>0.625416</td>\n",
       "      <td>0.738293</td>\n",
       "      <td>0.627693</td>\n",
       "    </tr>\n",
       "    <tr>\n",
       "      <th>4</th>\n",
       "      <td>2011010105</td>\n",
       "      <td>0.668218</td>\n",
       "      <td>0.281546</td>\n",
       "      <td>0.472776</td>\n",
       "      <td>0.717688</td>\n",
       "      <td>0.733243</td>\n",
       "      <td>0.639035</td>\n",
       "    </tr>\n",
       "  </tbody>\n",
       "</table>\n",
       "</div>"
      ],
      "text/plain": [
       "         date       wp1       wp2       wp3       wp4       wp5       wp6\n",
       "0  2011010101  0.629442  0.452856  0.075060  0.610177  0.715494  0.616345\n",
       "1  2011010102  0.587563  0.459752  0.110097  0.578175  0.728987  0.620321\n",
       "2  2011010103  0.604269  0.417637  0.130435  0.579207  0.766609  0.628782\n",
       "3  2011010104  0.644538  0.366657  0.279766  0.625416  0.738293  0.627693\n",
       "4  2011010105  0.668218  0.281546  0.472776  0.717688  0.733243  0.639035"
      ]
     },
     "execution_count": 252,
     "metadata": {},
     "output_type": "execute_result"
    }
   ],
   "source": [
    "df_predictions.head()"
   ]
  },
  {
   "cell_type": "code",
   "execution_count": null,
   "id": "faa99dc6-907a-4097-b5df-8f0810638f3c",
   "metadata": {},
   "outputs": [],
   "source": []
  }
 ],
 "metadata": {
  "kernelspec": {
   "display_name": "Python 3 (ipykernel)",
   "language": "python",
   "name": "python3"
  },
  "language_info": {
   "codemirror_mode": {
    "name": "ipython",
    "version": 3
   },
   "file_extension": ".py",
   "mimetype": "text/x-python",
   "name": "python",
   "nbconvert_exporter": "python",
   "pygments_lexer": "ipython3",
   "version": "3.8.6"
  }
 },
 "nbformat": 4,
 "nbformat_minor": 5
}
