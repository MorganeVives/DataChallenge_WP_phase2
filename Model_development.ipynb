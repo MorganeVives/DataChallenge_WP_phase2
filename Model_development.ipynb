{
 "cells": [
  {
   "cell_type": "markdown",
   "id": "261ec557-50a0-4cd6-8bec-268d1dee685a",
   "metadata": {},
   "source": [
    "# Model development"
   ]
  },
  {
   "cell_type": "markdown",
   "id": "080db2e8-f090-42a3-9f49-d563a929c6ef",
   "metadata": {},
   "source": [
    "Ici on fait nos modèles et prédictions. Le mieux c'est de faire des parties par modèles je pense ?"
   ]
  },
  {
   "cell_type": "markdown",
   "id": "ec86fdcd-e169-4431-8b0b-10686b89feca",
   "metadata": {},
   "source": [
    "Il faut aussi qu'on trouve un nomenclature pour les modèles si on les enregistre, afin de garder en tête les différents résultats"
   ]
  },
  {
   "cell_type": "code",
   "execution_count": 1,
   "id": "1399bb0f-0234-43a6-b724-73f21f9b28b7",
   "metadata": {},
   "outputs": [],
   "source": [
    "import pandas as pd\n",
    "import seaborn as sns\n",
    "import openpyxl\n",
    "from datetime import datetime, timedelta\n",
    "import matplotlib.pyplot as plt\n",
    "import numpy as np\n",
    "import os"
   ]
  },
  {
   "cell_type": "code",
   "execution_count": 2,
   "id": "9a662ef3-a957-41fe-955d-1c5e99709226",
   "metadata": {},
   "outputs": [],
   "source": [
    "from sklearn.model_selection import KFold, train_test_split\n",
    "\n",
    "from sklearn.metrics import mean_squared_error, mean_absolute_error\n",
    "import optuna"
   ]
  },
  {
   "cell_type": "code",
   "execution_count": 3,
   "id": "0bc7dfff-4363-41ad-bfd2-5e5dd7c0ef63",
   "metadata": {},
   "outputs": [],
   "source": [
    "from Functions.helper_functions import * "
   ]
  },
  {
   "cell_type": "code",
   "execution_count": 4,
   "id": "3c184629-3914-4a2c-ba3f-5f111909f344",
   "metadata": {},
   "outputs": [],
   "source": [
    "import warnings\n",
    "warnings.filterwarnings(action='ignore', category=UserWarning)\n",
    "pd.options.mode.chained_assignment = None  # default='warn'"
   ]
  },
  {
   "cell_type": "code",
   "execution_count": 5,
   "id": "6333588b-f1b0-4a5b-afea-e53064be0d99",
   "metadata": {},
   "outputs": [],
   "source": [
    "np.random.seed(42)"
   ]
  },
  {
   "cell_type": "markdown",
   "id": "b617c0f5-e679-4a3f-9a62-12e03303d11f",
   "metadata": {},
   "source": [
    "# Data"
   ]
  },
  {
   "cell_type": "code",
   "execution_count": 6,
   "id": "c4d3258c-6931-447d-84b7-ac52ed05673a",
   "metadata": {},
   "outputs": [],
   "source": [
    "train_wp1 = pd.read_csv('Data/Preprocessing/WP1_train_preprocessed.csv', sep=',')\n",
    "train_wp2 = pd.read_csv('Data/Preprocessing/WP2_train_preprocessed.csv', sep=',')\n",
    "train_wp3 = pd.read_csv('Data/Preprocessing/WP3_train_preprocessed.csv', sep=',')\n",
    "train_wp4 = pd.read_csv('Data/Preprocessing/WP4_train_preprocessed.csv', sep=',')\n",
    "train_wp5 = pd.read_csv('Data/Preprocessing/WP5_train_preprocessed.csv', sep=',')\n",
    "train_wp6 = pd.read_csv('Data/Preprocessing/WP6_train_preprocessed.csv', sep=',')"
   ]
  },
  {
   "cell_type": "code",
   "execution_count": 7,
   "id": "7540aa92-fc5e-4431-8e79-faba9f0cecad",
   "metadata": {},
   "outputs": [],
   "source": [
    "to_drop = ['date','wd','forecast_time', 'forecast', \"forecast_dist\"]"
   ]
  },
  {
   "cell_type": "markdown",
   "id": "d0204367-344e-4837-9d27-c07833112862",
   "metadata": {},
   "source": [
    "# LGBMs"
   ]
  },
  {
   "cell_type": "code",
   "execution_count": 8,
   "id": "df77bdff-aa3c-42cd-91a2-4ecb5bffdead",
   "metadata": {},
   "outputs": [],
   "source": [
    "from lightgbm import LGBMRegressor"
   ]
  },
  {
   "cell_type": "code",
   "execution_count": 9,
   "id": "0c2fd0c0-976c-4e83-8a23-a86d1864e2a7",
   "metadata": {
    "tags": []
   },
   "outputs": [],
   "source": [
    "def lgbm_cross_validation(X, y, params):\n",
    "    if params == None:\n",
    "        model = LGBMRegressor()\n",
    "    else:\n",
    "        model = LGBMRegressor(**params)\n",
    "\n",
    "    print('-----------LGBM CROSS VALIDATION BEGINNING-----------')\n",
    "    split = 10\n",
    "    kf = KFold(n_splits=split, shuffle=True)       \n",
    "    lgbm_rmse_scores = []\n",
    "    lgbm_mae_scores = []\n",
    "    i = 1\n",
    "    for (train_index, test_index) in kf.split(pd.DataFrame(X), pd.DataFrame(y)):\n",
    "        X_train, X_test = pd.DataFrame(X).iloc[train_index], pd.DataFrame(X).iloc[test_index]\n",
    "        Y_train, Y_test = pd.DataFrame(y).iloc[train_index],pd.DataFrame(y).iloc[test_index]\n",
    "\n",
    "        model.fit(X_train, Y_train, eval_set=[(X_test, Y_test)], verbose=100)\n",
    "\n",
    "        prediction = model.predict(X_test)\n",
    "        lgbm_rmse_scores.append(mean_squared_error(Y_test, prediction,squared=False))\n",
    "        lgbm_mae_scores.append(mean_absolute_error(Y_test, prediction))\n",
    "        \n",
    "        print(show_evaluation(prediction, Y_test))\n",
    "        print(f'-------------------FOLD {i}-----------------')\n",
    "        i+=1\n",
    "\n",
    "    print('---------------CROSS VALIDATION COMPLETE-------------')\n",
    "    print('--------------------------RMSE-----------------------')\n",
    "    display_scores(lgbm_rmse_scores)\n",
    "    print('--------------------------MAE------------------------')\n",
    "    display_scores(lgbm_mae_scores)"
   ]
  },
  {
   "cell_type": "code",
   "execution_count": 24,
   "id": "2155b5a6-2476-434d-832f-2f92dd646d67",
   "metadata": {
    "tags": []
   },
   "outputs": [],
   "source": [
    "def hyperparametrization(trial, train_x, test_x, train_y, test_y):\n",
    "    param = {\n",
    "        'metric': 'rmse', \n",
    "        'reg_alpha': trial.suggest_loguniform('reg_alpha', 1e-3, 10.0),\n",
    "        'reg_lambda': trial.suggest_loguniform('reg_lambda', 1e-3, 10.0),\n",
    "        'colsample_bytree': trial.suggest_categorical('colsample_bytree', [0.3,0.4,0.5,0.6,0.7,0.8,0.9, 1.0]),\n",
    "        'subsample': trial.suggest_categorical('subsample', [0.4,0.5,0.6,0.7,0.8,1.0]),\n",
    "        'learning_rate': trial.suggest_loguniform('learning_rate', 1e-3, 0.3),\n",
    "        'max_depth': trial.suggest_int(\"max_depth\", 20, 100),\n",
    "        'num_leaves' : trial.suggest_int('num_leaves', 1, 1000),\n",
    "        'min_child_samples': trial.suggest_int('min_child_samples', 1, 300),\n",
    "        'cat_smooth' : trial.suggest_int('min_data_per_groups', 1, 100)\n",
    "    }\n",
    "    \n",
    "    model = LGBMRegressor(**param)  \n",
    "    \n",
    "    model.fit(train_x,train_y,eval_set=[(test_x,test_y)],early_stopping_rounds=100,verbose=False)\n",
    "    \n",
    "    preds = model.predict(test_x)\n",
    "    \n",
    "    rmse =  mean_squared_error(test_y, preds,squared=False)\n",
    "    \n",
    "    return rmse"
   ]
  },
  {
   "cell_type": "markdown",
   "id": "bbc3509e-c676-463f-97ac-c0ac98b5f3ed",
   "metadata": {},
   "source": [
    "## WP1 "
   ]
  },
  {
   "cell_type": "markdown",
   "id": "7cd32285-01cf-4ab5-8fcb-706b7f8a294b",
   "metadata": {},
   "source": [
    "| |  | Mean | Std |\n",
    "| --- | --- | --- | --- |\n",
    "| No params | RMSE | 0.10335401115522524 | 0.0018269668363797113 |\n",
    "| No params | MAE | 0.07294693686735004 | 0.000991859760708556 |\n",
    "| After tuning 50trials| RMSE | 0.06830085723562579 | 0.0012998671387256361 |\n",
    "| After tuning 50trials| MAE | 0.04481696427654311 | 0.000727722171899004 |"
   ]
  },
  {
   "cell_type": "code",
   "execution_count": 11,
   "id": "70c3af58-11fa-437e-80d2-d58c9901ce08",
   "metadata": {},
   "outputs": [],
   "source": [
    "train_wp1 = train_wp1[[c for c in train_wp1 if c not in [\"wp\"]] + [\"wp\"]]\n",
    "wp1_X = train_wp1.drop(to_drop, axis = 1)\n",
    "\n",
    "X_train1, X_test1, y_train1, y_test1 = train_test_split(wp1_X.drop('wp', axis = 1), wp1_X['wp'], test_size=0.20, random_state=42)\n",
    "X1 = X_train2.append(X_test1)\n",
    "y1 = y_train2.append(y_test1)"
   ]
  },
  {
   "cell_type": "code",
   "execution_count": 12,
   "id": "8e43e8ac-9721-49b8-9549-adbe154ec4cd",
   "metadata": {},
   "outputs": [],
   "source": [
    "def objective_wp1(trial,data=X1,target=y1):\n",
    "    train_x, test_x, train_y, test_y = train_test_split(data, target, test_size=0.15,random_state=42)\n",
    "    return hyperparametrization(trial, train_x, test_x, train_y, test_y)"
   ]
  },
  {
   "cell_type": "code",
   "execution_count": 13,
   "id": "ce60b0b1-b92e-42aa-8734-07709f0dc159",
   "metadata": {
    "collapsed": true,
    "jupyter": {
     "outputs_hidden": true
    },
    "tags": []
   },
   "outputs": [
    {
     "name": "stdout",
     "output_type": "stream",
     "text": [
      "-----------LGBM CROSS VALIDATION BEGINNING-----------\n",
      "[100]\tvalid_0's l2: 0.0105542\n",
      "RMSE score: 0.1027337832371307\n",
      "MAE score: 0.07285847370568564\n",
      "None\n",
      "-------------------FOLD 1-----------------\n",
      "[100]\tvalid_0's l2: 0.0106684\n",
      "RMSE score: 0.10328794524554154\n",
      "MAE score: 0.07310300492057431\n",
      "None\n",
      "-------------------FOLD 2-----------------\n",
      "[100]\tvalid_0's l2: 0.0106743\n",
      "RMSE score: 0.1033164967104661\n",
      "MAE score: 0.07308431358003745\n",
      "None\n",
      "-------------------FOLD 3-----------------\n",
      "[100]\tvalid_0's l2: 0.0103395\n",
      "RMSE score: 0.10168330262192399\n",
      "MAE score: 0.07332568219013001\n",
      "None\n",
      "-------------------FOLD 4-----------------\n",
      "[100]\tvalid_0's l2: 0.0099116\n",
      "RMSE score: 0.09955704092593376\n",
      "MAE score: 0.07082081105397789\n",
      "None\n",
      "-------------------FOLD 5-----------------\n",
      "[100]\tvalid_0's l2: 0.0105422\n",
      "RMSE score: 0.10267499969955379\n",
      "MAE score: 0.07212390267283442\n",
      "None\n",
      "-------------------FOLD 6-----------------\n",
      "[100]\tvalid_0's l2: 0.0107644\n",
      "RMSE score: 0.10375140144915475\n",
      "MAE score: 0.07210930288582018\n",
      "None\n",
      "-------------------FOLD 7-----------------\n",
      "[100]\tvalid_0's l2: 0.0113019\n",
      "RMSE score: 0.10631024254151293\n",
      "MAE score: 0.07434630263688571\n",
      "None\n",
      "-------------------FOLD 8-----------------\n",
      "[100]\tvalid_0's l2: 0.0111211\n",
      "RMSE score: 0.10545660266325028\n",
      "MAE score: 0.07413077494229948\n",
      "None\n",
      "-------------------FOLD 9-----------------\n",
      "[100]\tvalid_0's l2: 0.0109764\n",
      "RMSE score: 0.10476829645778472\n",
      "MAE score: 0.07356680008525529\n",
      "None\n",
      "-------------------FOLD 10-----------------\n",
      "---------------CROSS VALIDATION COMPLETE-------------\n",
      "--------------------------RMSE-----------------------\n",
      "Scores: [0.1027337832371307, 0.10328794524554154, 0.1033164967104661, 0.10168330262192399, 0.09955704092593376, 0.10267499969955379, 0.10375140144915475, 0.10631024254151293, 0.10545660266325028, 0.10476829645778472]\n",
      "Mean: 0.10335401115522524\n",
      "Std: 0.0018269668363797113\n",
      "--------------------------MAE------------------------\n",
      "Scores: [0.07285847370568564, 0.07310300492057431, 0.07308431358003745, 0.07332568219013001, 0.07082081105397789, 0.07212390267283442, 0.07210930288582018, 0.07434630263688571, 0.07413077494229948, 0.07356680008525529]\n",
      "Mean: 0.07294693686735004\n",
      "Std: 0.000991859760708556\n"
     ]
    }
   ],
   "source": [
    "lgbm_cross_validation(X1, y1, None)"
   ]
  },
  {
   "cell_type": "code",
   "execution_count": 14,
   "id": "ab792f0b-e669-4e29-b434-8db786b194a2",
   "metadata": {
    "tags": []
   },
   "outputs": [],
   "source": [
    "# study = optuna.create_study(direction='minimize')\n",
    "# study.optimize(objective_wp1, n_trials=100)\n",
    "# study.trials_dataframe().to_excel('Data/Hyperparametrization/lgbm_wp1_100trials.xlsx', index=False)\n",
    "# best_trial = study.best_trial.params\n",
    "# best_trial"
   ]
  },
  {
   "cell_type": "code",
   "execution_count": 15,
   "id": "772ef566-6d0d-421c-b00d-7a1f91692384",
   "metadata": {},
   "outputs": [],
   "source": [
    "params_1 = {\n",
    "    'reg_alpha': 0.664265743859848,\n",
    "    'reg_lambda': 9.83047434398735,\n",
    "    'colsample_bytree': 1.0,\n",
    "    'subsample': 1.0,\n",
    "    'learning_rate': 0.24237997149103074,\n",
    "    'max_depth': 77,\n",
    "    'num_leaves': 389,\n",
    "    'min_child_samples': 2,\n",
    "    'min_data_per_groups': 75\n",
    "}"
   ]
  },
  {
   "cell_type": "code",
   "execution_count": 16,
   "id": "6e8b9581-1e59-40fc-ba46-cac68640c7ff",
   "metadata": {
    "collapsed": true,
    "jupyter": {
     "outputs_hidden": true
    },
    "tags": []
   },
   "outputs": [
    {
     "name": "stdout",
     "output_type": "stream",
     "text": [
      "-----------LGBM CROSS VALIDATION BEGINNING-----------\n",
      "[100]\tvalid_0's l2: 0.00497808\n",
      "RMSE score: 0.07055548799734954\n",
      "MAE score: 0.04634581387801592\n",
      "None\n",
      "-------------------FOLD 1-----------------\n",
      "[100]\tvalid_0's l2: 0.00475082\n",
      "RMSE score: 0.06892615813699253\n",
      "MAE score: 0.04441365688959473\n",
      "None\n",
      "-------------------FOLD 2-----------------\n",
      "[100]\tvalid_0's l2: 0.00465164\n",
      "RMSE score: 0.06820293783972789\n",
      "MAE score: 0.044789601412267815\n",
      "None\n",
      "-------------------FOLD 3-----------------\n",
      "[100]\tvalid_0's l2: 0.00470489\n",
      "RMSE score: 0.06859221873541076\n",
      "MAE score: 0.04484449341732311\n",
      "None\n",
      "-------------------FOLD 4-----------------\n",
      "[100]\tvalid_0's l2: 0.00463465\n",
      "RMSE score: 0.06807824945906427\n",
      "MAE score: 0.044879790363565104\n",
      "None\n",
      "-------------------FOLD 5-----------------\n",
      "[100]\tvalid_0's l2: 0.00452369\n",
      "RMSE score: 0.06725837870970279\n",
      "MAE score: 0.044616574221668696\n",
      "None\n",
      "-------------------FOLD 6-----------------\n",
      "[100]\tvalid_0's l2: 0.00481751\n",
      "RMSE score: 0.06940831934294442\n",
      "MAE score: 0.04517606782487528\n",
      "None\n",
      "-------------------FOLD 7-----------------\n",
      "[100]\tvalid_0's l2: 0.0046807\n",
      "RMSE score: 0.06841565848858067\n",
      "MAE score: 0.04523493029852713\n",
      "None\n",
      "-------------------FOLD 8-----------------\n",
      "[100]\tvalid_0's l2: 0.00426529\n",
      "RMSE score: 0.06530916412048912\n",
      "MAE score: 0.04326783400465146\n",
      "None\n",
      "-------------------FOLD 9-----------------\n",
      "[100]\tvalid_0's l2: 0.0046597\n",
      "RMSE score: 0.06826199952599588\n",
      "MAE score: 0.04460088045494182\n",
      "None\n",
      "-------------------FOLD 10-----------------\n",
      "---------------CROSS VALIDATION COMPLETE-------------\n",
      "--------------------------RMSE-----------------------\n",
      "Scores: [0.07055548799734954, 0.06892615813699253, 0.06820293783972789, 0.06859221873541076, 0.06807824945906427, 0.06725837870970279, 0.06940831934294442, 0.06841565848858067, 0.06530916412048912, 0.06826199952599588]\n",
      "Mean: 0.06830085723562579\n",
      "Std: 0.0012998671387256361\n",
      "--------------------------MAE------------------------\n",
      "Scores: [0.04634581387801592, 0.04441365688959473, 0.044789601412267815, 0.04484449341732311, 0.044879790363565104, 0.044616574221668696, 0.04517606782487528, 0.04523493029852713, 0.04326783400465146, 0.04460088045494182]\n",
      "Mean: 0.04481696427654311\n",
      "Std: 0.000727722171899004\n"
     ]
    }
   ],
   "source": [
    "lgbm_cross_validation(X1, y1, params_1)"
   ]
  },
  {
   "cell_type": "markdown",
   "id": "2d4d08ad-3af3-408b-8834-57c1349d328a",
   "metadata": {},
   "source": [
    "## WP2"
   ]
  },
  {
   "cell_type": "markdown",
   "id": "61678924-2941-418d-93bf-84336d13fc89",
   "metadata": {},
   "source": [
    "| |  | Mean | Std |\n",
    "| --- | --- | --- | --- |\n",
    "| No params | RMSE | 0.10935335541057582 | 0.0014425096116734836 |\n",
    "| No params | MAE | 0.07681923856705511 | 0.0008670825615244791 |\n",
    "| After tuning - 50trials| RMSE | 0.06970100668304041 | 0.001166583796670067 |\n",
    "| After tuning - 50trials| MAE | 0.04421560437745413 | 0.0005536593190500475 |"
   ]
  },
  {
   "cell_type": "code",
   "execution_count": 18,
   "id": "e6b8fee4-9fba-4818-a7df-29cd5d3806ad",
   "metadata": {},
   "outputs": [],
   "source": [
    "train_wp2 = train_wp2[[c for c in train_wp2 if c not in [\"wp\"]] + [\"wp\"]]\n",
    "wp2_X = train_wp2.drop(to_drop, axis = 1)\n",
    "\n",
    "X_train2, X_test2, y_train2, y_test2 = train_test_split(wp2_X.drop('wp', axis = 1), wp2_X['wp'], test_size=0.20, random_state=42)\n",
    "X2 = X_train2.append(X_test2)\n",
    "y2 = y_train2.append(y_test2)"
   ]
  },
  {
   "cell_type": "code",
   "execution_count": 19,
   "id": "70148d8e-6c11-4c30-a989-f5baaafce6d1",
   "metadata": {},
   "outputs": [],
   "source": [
    "def objective_wp2(trial,data = X2,target = y2):\n",
    "    train_x, test_x, train_y, test_y = train_test_split(data, target, test_size=0.15,random_state=42)\n",
    "    return hyperparametrization(trial, train_x, test_x, train_y, test_y)"
   ]
  },
  {
   "cell_type": "code",
   "execution_count": 42,
   "id": "e297d1bd-f11e-4f8b-9fe2-634e78ca9c85",
   "metadata": {
    "tags": []
   },
   "outputs": [
    {
     "name": "stdout",
     "output_type": "stream",
     "text": [
      "-----------LGBM CROSS VALIDATION BEGINNING-----------\n",
      "[100]\tvalid_0's l2: 0.012581\n",
      "RMSE score: 0.11216513130764552\n",
      "MAE score: 0.07809914701092714\n",
      "None\n",
      "-------------------FOLD 1-----------------\n",
      "[100]\tvalid_0's l2: 0.011739\n",
      "RMSE score: 0.1083466051043113\n",
      "MAE score: 0.07635896828680372\n",
      "None\n",
      "-------------------FOLD 2-----------------\n",
      "[100]\tvalid_0's l2: 0.0117763\n",
      "RMSE score: 0.10851881061196905\n",
      "MAE score: 0.07655464613519548\n",
      "None\n",
      "-------------------FOLD 3-----------------\n",
      "[100]\tvalid_0's l2: 0.0116526\n",
      "RMSE score: 0.10794712265054236\n",
      "MAE score: 0.076153935787008\n",
      "None\n",
      "-------------------FOLD 4-----------------\n",
      "[100]\tvalid_0's l2: 0.0115482\n",
      "RMSE score: 0.10746244909528826\n",
      "MAE score: 0.07586833563169988\n",
      "None\n",
      "-------------------FOLD 5-----------------\n",
      "[100]\tvalid_0's l2: 0.0119061\n",
      "RMSE score: 0.10911507746057371\n",
      "MAE score: 0.07610085695869068\n",
      "None\n",
      "-------------------FOLD 6-----------------\n",
      "[100]\tvalid_0's l2: 0.0121253\n",
      "RMSE score: 0.11011478009743106\n",
      "MAE score: 0.07714359630288058\n",
      "None\n",
      "-------------------FOLD 7-----------------\n",
      "[100]\tvalid_0's l2: 0.0120076\n",
      "RMSE score: 0.10957931616418577\n",
      "MAE score: 0.07676582430026223\n",
      "None\n",
      "-------------------FOLD 8-----------------\n",
      "[100]\tvalid_0's l2: 0.0118332\n",
      "RMSE score: 0.10878064408558981\n",
      "MAE score: 0.07645787937339014\n",
      "None\n",
      "-------------------FOLD 9-----------------\n",
      "[100]\tvalid_0's l2: 0.0124331\n",
      "RMSE score: 0.11150361752822141\n",
      "MAE score: 0.07868919588369327\n",
      "None\n",
      "-------------------FOLD 10-----------------\n",
      "---------------CROSS VALIDATION COMPLETE-------------\n",
      "--------------------------RMSE-----------------------\n",
      "Scores: [0.11216513130764552, 0.1083466051043113, 0.10851881061196905, 0.10794712265054236, 0.10746244909528826, 0.10911507746057371, 0.11011478009743106, 0.10957931616418577, 0.10878064408558981, 0.11150361752822141]\n",
      "Mean: 0.10935335541057582\n",
      "Std: 0.0014425096116734836\n",
      "--------------------------MAE------------------------\n",
      "Scores: [0.07809914701092714, 0.07635896828680372, 0.07655464613519548, 0.076153935787008, 0.07586833563169988, 0.07610085695869068, 0.07714359630288058, 0.07676582430026223, 0.07645787937339014, 0.07868919588369327]\n",
      "Mean: 0.07681923856705511\n",
      "Std: 0.0008670825615244791\n"
     ]
    }
   ],
   "source": [
    "lgbm_cross_validation(X2, y2, None)"
   ]
  },
  {
   "cell_type": "code",
   "execution_count": null,
   "id": "0728372a-8909-4a7a-8cdc-be27e96cfc70",
   "metadata": {
    "tags": []
   },
   "outputs": [],
   "source": [
    "# study = optuna.create_study(direction='minimize')\n",
    "# study.optimize(objective_wp2, n_trials=50)\n",
    "# write_results('Data/Hyperparametrization/lgbm_50trials.xlsx', 'wp2', study.trials_dataframe())\n",
    "# best_trial = study.best_trial.params\n",
    "# best_trial"
   ]
  },
  {
   "cell_type": "code",
   "execution_count": 30,
   "id": "9ae90b08-6b61-4c17-90d8-a0d0c0f8a455",
   "metadata": {},
   "outputs": [],
   "source": [
    "params_2 = {'reg_alpha': 0.04439450895032273,\n",
    " 'reg_lambda': 0.7790968728875318,\n",
    " 'colsample_bytree': 0.4,\n",
    " 'subsample': 1.0,\n",
    " 'learning_rate': 0.09520041095092219,\n",
    " 'max_depth': 31,\n",
    " 'num_leaves': 883,\n",
    " 'min_child_samples': 18,\n",
    " 'min_data_per_groups': 56}"
   ]
  },
  {
   "cell_type": "code",
   "execution_count": null,
   "id": "4deb0297-bfb2-491c-9885-9795b2596248",
   "metadata": {
    "tags": []
   },
   "outputs": [
    {
     "name": "stdout",
     "output_type": "stream",
     "text": [
      "-----------LGBM CROSS VALIDATION BEGINNING-----------\n"
     ]
    }
   ],
   "source": [
    "lgbm_cross_validation(X2, y2, params_2)"
   ]
  },
  {
   "cell_type": "markdown",
   "id": "966468d2-d1a2-4c0a-a190-c37d85ef61f5",
   "metadata": {},
   "source": [
    "## WP3"
   ]
  },
  {
   "cell_type": "markdown",
   "id": "4c9c1b64-7897-4824-92b2-8f6ac0236b43",
   "metadata": {},
   "source": [
    "| |  | Mean | Std |\n",
    "| --- | --- | --- | --- |\n",
    "| No params | RMSE | 0.10392558077951244 | 0.0019038044796542812 |\n",
    "| No params | MAE | 0.07550802464973318 | 0.0012006073434917633 |\n",
    "| After tuning - 50trials| RMSE | 0.058253804820626545 | 0.0009893279354834155 |\n",
    "| After tuning - 50trials| MAE | 0.03787310900962521 | 0.000442034368456366 |"
   ]
  },
  {
   "cell_type": "code",
   "execution_count": 32,
   "id": "1a19adfe-a591-4616-827c-70140477879b",
   "metadata": {},
   "outputs": [],
   "source": [
    "train_wp3 = train_wp3[[c for c in train_wp3 if c not in [\"wp\"]] + [\"wp\"]]\n",
    "wp3_X = train_wp3.drop(to_drop, axis = 1)\n",
    "\n",
    "X_train3, X_test3, y_train3, y_test3 = train_test_split(wp3_X.drop('wp', axis = 1), wp3_X['wp'], test_size=0.20, random_state=42)\n",
    "X3 = X_train3.append(X_test3)\n",
    "y3 = y_train3.append(y_test3)"
   ]
  },
  {
   "cell_type": "code",
   "execution_count": 33,
   "id": "731a65d9-1176-446f-80e9-c8a23babf93f",
   "metadata": {},
   "outputs": [],
   "source": [
    "def objective_wp3(trial,data = X3,target = y3):\n",
    "    train_x, test_x, train_y, test_y = train_test_split(data, target, test_size=0.15,random_state=42)\n",
    "    return hyperparametrization(trial, train_x, test_x, train_y, test_y)"
   ]
  },
  {
   "cell_type": "code",
   "execution_count": 39,
   "id": "de738d33-8e08-49d4-af3f-0e3fc5609cec",
   "metadata": {
    "collapsed": true,
    "jupyter": {
     "outputs_hidden": true
    },
    "tags": []
   },
   "outputs": [
    {
     "name": "stdout",
     "output_type": "stream",
     "text": [
      "-----------LGBM CROSS VALIDATION BEGINNING-----------\n",
      "[100]\tvalid_0's l2: 0.0101759\n",
      "RMSE score: 0.10087541934048462\n",
      "MAE score: 0.07457730117952695\n",
      "None\n",
      "-------------------FOLD 1-----------------\n",
      "[100]\tvalid_0's l2: 0.0108271\n",
      "RMSE score: 0.1040535900745228\n",
      "MAE score: 0.0749764961707013\n",
      "None\n",
      "-------------------FOLD 2-----------------\n",
      "[100]\tvalid_0's l2: 0.0113774\n",
      "RMSE score: 0.10666484815226834\n",
      "MAE score: 0.07663574251973151\n",
      "None\n",
      "-------------------FOLD 3-----------------\n",
      "[100]\tvalid_0's l2: 0.010356\n",
      "RMSE score: 0.10176422177215298\n",
      "MAE score: 0.0737619231132376\n",
      "None\n",
      "-------------------FOLD 4-----------------\n",
      "[100]\tvalid_0's l2: 0.0102758\n",
      "RMSE score: 0.10136977412348909\n",
      "MAE score: 0.07331261317956127\n",
      "None\n",
      "-------------------FOLD 5-----------------\n",
      "[100]\tvalid_0's l2: 0.0111312\n",
      "RMSE score: 0.10550435372712953\n",
      "MAE score: 0.07671797145858211\n",
      "None\n",
      "-------------------FOLD 6-----------------\n",
      "[100]\tvalid_0's l2: 0.0107609\n",
      "RMSE score: 0.10373480008995818\n",
      "MAE score: 0.07659805954759628\n",
      "None\n",
      "-------------------FOLD 7-----------------\n",
      "[100]\tvalid_0's l2: 0.0110817\n",
      "RMSE score: 0.10526972256129953\n",
      "MAE score: 0.07630899718155258\n",
      "None\n",
      "-------------------FOLD 8-----------------\n",
      "[100]\tvalid_0's l2: 0.010844\n",
      "RMSE score: 0.10413430516412756\n",
      "MAE score: 0.07582983099222172\n",
      "None\n",
      "-------------------FOLD 9-----------------\n",
      "[100]\tvalid_0's l2: 0.0112116\n",
      "RMSE score: 0.10588477278969177\n",
      "MAE score: 0.07636131115462029\n",
      "None\n",
      "-------------------FOLD 10-----------------\n",
      "---------------CROSS VALIDATION COMPLETE-------------\n",
      "--------------------------RMSE-----------------------\n",
      "Scores: [0.10087541934048462, 0.1040535900745228, 0.10666484815226834, 0.10176422177215298, 0.10136977412348909, 0.10550435372712953, 0.10373480008995818, 0.10526972256129953, 0.10413430516412756, 0.10588477278969177]\n",
      "Mean: 0.10392558077951244\n",
      "Std: 0.0019038044796542812\n",
      "--------------------------MAE------------------------\n",
      "Scores: [0.07457730117952695, 0.0749764961707013, 0.07663574251973151, 0.0737619231132376, 0.07331261317956127, 0.07671797145858211, 0.07659805954759628, 0.07630899718155258, 0.07582983099222172, 0.07636131115462029]\n",
      "Mean: 0.07550802464973318\n",
      "Std: 0.0012006073434917633\n"
     ]
    }
   ],
   "source": [
    "lgbm_cross_validation(X3, y3, None)"
   ]
  },
  {
   "cell_type": "code",
   "execution_count": 38,
   "id": "76fcd3f6-9ee9-4a40-9208-371c72445408",
   "metadata": {},
   "outputs": [],
   "source": [
    "# study = optuna.create_study(direction='minimize')\n",
    "# study.optimize(objective_wp3, n_trials=50)\n",
    "# write_results('Data/Hyperparametrization/lgbm_50trials.xlsx', 'wp3', study.trials_dataframe())\n",
    "# best_trial = study.best_trial.params\n",
    "# best_trial"
   ]
  },
  {
   "cell_type": "code",
   "execution_count": 40,
   "id": "0799bdb2-b009-446a-af9f-5f3e2fbed56b",
   "metadata": {},
   "outputs": [],
   "source": [
    "params_3 = {\n",
    "    'reg_alpha': 0.002937356908910416,\n",
    "    'reg_lambda': 0.003822180117262245,\n",
    "    'colsample_bytree': 0.8,\n",
    "    'subsample': 1.0,\n",
    "    'learning_rate': 0.09489749817678472,\n",
    "    'max_depth': 41,\n",
    "    'num_leaves': 842,\n",
    "    'min_child_samples': 18,\n",
    "    'min_data_per_groups': 46\n",
    "}"
   ]
  },
  {
   "cell_type": "code",
   "execution_count": 41,
   "id": "b0d45d0b-664c-4c89-8493-ed650660fb0e",
   "metadata": {
    "collapsed": true,
    "jupyter": {
     "outputs_hidden": true
    },
    "tags": []
   },
   "outputs": [
    {
     "name": "stdout",
     "output_type": "stream",
     "text": [
      "-----------LGBM CROSS VALIDATION BEGINNING-----------\n",
      "[100]\tvalid_0's l2: 0.00347678\n",
      "RMSE score: 0.05896421336810876\n",
      "MAE score: 0.038357187179331176\n",
      "None\n",
      "-------------------FOLD 1-----------------\n",
      "[100]\tvalid_0's l2: 0.00335425\n",
      "RMSE score: 0.0579158663790702\n",
      "MAE score: 0.03773183429418428\n",
      "None\n",
      "-------------------FOLD 2-----------------\n",
      "[100]\tvalid_0's l2: 0.00321283\n",
      "RMSE score: 0.05668179832213056\n",
      "MAE score: 0.0373643965891432\n",
      "None\n",
      "-------------------FOLD 3-----------------\n",
      "[100]\tvalid_0's l2: 0.003323\n",
      "RMSE score: 0.05764545793595014\n",
      "MAE score: 0.03720880596082158\n",
      "None\n",
      "-------------------FOLD 4-----------------\n",
      "[100]\tvalid_0's l2: 0.00329718\n",
      "RMSE score: 0.057421086443220845\n",
      "MAE score: 0.037892180335313\n",
      "None\n",
      "-------------------FOLD 5-----------------\n",
      "[100]\tvalid_0's l2: 0.00353375\n",
      "RMSE score: 0.059445374095947544\n",
      "MAE score: 0.03831585330353137\n",
      "None\n",
      "-------------------FOLD 6-----------------\n",
      "[100]\tvalid_0's l2: 0.00340596\n",
      "RMSE score: 0.05836064259791145\n",
      "MAE score: 0.03780532752623225\n",
      "None\n",
      "-------------------FOLD 7-----------------\n",
      "[100]\tvalid_0's l2: 0.00351639\n",
      "RMSE score: 0.05929911538222579\n",
      "MAE score: 0.038267055021838504\n",
      "None\n",
      "-------------------FOLD 8-----------------\n",
      "[100]\tvalid_0's l2: 0.00326773\n",
      "RMSE score: 0.057164081100790985\n",
      "MAE score: 0.037327435316436876\n",
      "None\n",
      "-------------------FOLD 9-----------------\n",
      "[100]\tvalid_0's l2: 0.00355698\n",
      "RMSE score: 0.059640412580909095\n",
      "MAE score: 0.03846101456941987\n",
      "None\n",
      "-------------------FOLD 10-----------------\n",
      "---------------CROSS VALIDATION COMPLETE-------------\n",
      "--------------------------RMSE-----------------------\n",
      "Scores: [0.05896421336810876, 0.0579158663790702, 0.05668179832213056, 0.05764545793595014, 0.057421086443220845, 0.059445374095947544, 0.05836064259791145, 0.05929911538222579, 0.057164081100790985, 0.059640412580909095]\n",
      "Mean: 0.058253804820626545\n",
      "Std: 0.0009893279354834155\n",
      "--------------------------MAE------------------------\n",
      "Scores: [0.038357187179331176, 0.03773183429418428, 0.0373643965891432, 0.03720880596082158, 0.037892180335313, 0.03831585330353137, 0.03780532752623225, 0.038267055021838504, 0.037327435316436876, 0.03846101456941987]\n",
      "Mean: 0.03787310900962521\n",
      "Std: 0.000442034368456366\n"
     ]
    }
   ],
   "source": [
    "lgbm_cross_validation(X3, y3, params_3)"
   ]
  },
  {
   "cell_type": "markdown",
   "id": "cdc76c8c-9cc7-441f-b25e-e1ecf293298e",
   "metadata": {},
   "source": [
    "## WP4"
   ]
  },
  {
   "cell_type": "markdown",
   "id": "895876ff-0734-4527-a0b9-68cf9b097dec",
   "metadata": {},
   "source": [
    "| |  | Mean | Std |\n",
    "| --- | --- | --- | --- |\n",
    "| No params | RMSE |  |  |\n",
    "| No params | MAE |  |  |\n",
    "| After tuning - 50trials| RMSE |  | |\n",
    "| After tuning - 50trials| MAE |  |  |"
   ]
  },
  {
   "cell_type": "code",
   "execution_count": null,
   "id": "185fd52e-5fe9-4ab7-817d-03feda6a42ab",
   "metadata": {},
   "outputs": [],
   "source": [
    "train_wp4 = train_wp4[[c for c in train_wp4 if c not in [\"wp\"]] + [\"wp\"]]\n",
    "wp4_X = train_wp4.drop(to_drop, axis = 1)\n",
    "\n",
    "X_train4, X_test4, y_train4, y_test4 = train_test_split(wp4_X.drop('wp', axis = 1), wp4_X['wp'], test_size=0.20, random_state=42)\n",
    "X4 = X_train4.append(X_test4)\n",
    "y4 = y_train4.append(y_test4)"
   ]
  },
  {
   "cell_type": "code",
   "execution_count": null,
   "id": "cccbce1b-c0d5-4aca-b2e3-6737933b2780",
   "metadata": {},
   "outputs": [],
   "source": [
    "def objective_wp4(trial,data = X4,target = y4):\n",
    "    train_x, test_x, train_y, test_y = train_test_split(data, target, test_size=0.15,random_state=42)\n",
    "    return hyperparametrization(trial, train_x, test_x, train_y, test_y)"
   ]
  },
  {
   "cell_type": "code",
   "execution_count": null,
   "id": "c96a6e3e-8a1b-4fe9-a162-1f2fa994023d",
   "metadata": {},
   "outputs": [],
   "source": [
    "lgbm_cross_validation(X4, y4, None)"
   ]
  },
  {
   "cell_type": "code",
   "execution_count": null,
   "id": "713019ee-cf12-4fa6-8971-7a09d0aa227a",
   "metadata": {},
   "outputs": [],
   "source": [
    "study = optuna.create_study(direction='minimize')\n",
    "study.optimize(objective_wp4, n_trials=50)\n",
    "write_results('Data/Hyperparametrization/lgbm_50trials.xlsx', 'wp4', study.trials_dataframe())\n",
    "best_trial = study.best_trial.params\n",
    "best_trial"
   ]
  },
  {
   "cell_type": "code",
   "execution_count": null,
   "id": "fc00a25c-08c8-4cbe-9373-bcf6ad6b429a",
   "metadata": {},
   "outputs": [],
   "source": [
    "params_4 = "
   ]
  },
  {
   "cell_type": "code",
   "execution_count": null,
   "id": "731ce6d4-2612-45d6-8e37-89e2c27e9be1",
   "metadata": {},
   "outputs": [],
   "source": [
    "lgbm_cross_validation(X4, y4, params_4)"
   ]
  },
  {
   "cell_type": "markdown",
   "id": "640e4455-cfc5-493a-b3e6-95b608171368",
   "metadata": {},
   "source": [
    "## WP5"
   ]
  },
  {
   "cell_type": "markdown",
   "id": "57cd823c-ff5c-41ba-9e0e-8b8d75cf2c65",
   "metadata": {},
   "source": [
    "| |  | Mean | Std |\n",
    "| --- | --- | --- | --- |\n",
    "| No params | RMSE |  |  |\n",
    "| No params | MAE |  |  |\n",
    "| After tuning - 50trials| RMSE |  | |\n",
    "| After tuning - 50trials| MAE |  |  |"
   ]
  },
  {
   "cell_type": "code",
   "execution_count": null,
   "id": "44f38883-24ef-46f1-bc0b-1070f4e36d2f",
   "metadata": {},
   "outputs": [],
   "source": [
    "train_wp5 = train_wp5[[c for c in train_wp5 if c not in [\"wp\"]] + [\"wp\"]]\n",
    "wp5_X = train_wp5.drop(to_drop, axis = 1)\n",
    "\n",
    "X_train5, X_test5, y_train5, y_test5 = train_test_split(wp5_X.drop('wp', axis = 1), wp5_X['wp'], test_size=0.20, random_state=42)\n",
    "X5 = X_train5.append(X_test5)\n",
    "y5 = y_train5.append(y_test5)"
   ]
  },
  {
   "cell_type": "code",
   "execution_count": null,
   "id": "6fdb3b27-103f-41b6-84d2-3367b10564d2",
   "metadata": {},
   "outputs": [],
   "source": [
    "def objective_wp5(trial, data = X5,target = y5):\n",
    "    train_x, test_x, train_y, test_y = train_test_split(data, target, test_size=0.15,random_state=42)\n",
    "    return hyperparametrization(trial, train_x, test_x, train_y, test_y)"
   ]
  },
  {
   "cell_type": "code",
   "execution_count": null,
   "id": "c4ece078-3e34-4754-b23c-1ba712563b3e",
   "metadata": {},
   "outputs": [],
   "source": [
    "lgbm_cross_validation(X5, y5, None)"
   ]
  },
  {
   "cell_type": "code",
   "execution_count": null,
   "id": "eaa2050d-bf47-4311-b386-0a8d40eae30b",
   "metadata": {},
   "outputs": [],
   "source": [
    "study = optuna.create_study(direction='minimize')\n",
    "study.optimize(objective_wp5, n_trials=50)\n",
    "write_results('Data/Hyperparametrization/lgbm_50trials.xlsx', 'wp5', study.trials_dataframe())\n",
    "best_trial = study.best_trial.params\n",
    "best_trial"
   ]
  },
  {
   "cell_type": "code",
   "execution_count": null,
   "id": "dde520d3-4565-42ff-8382-d787e91e8c7b",
   "metadata": {},
   "outputs": [],
   "source": [
    "params_5 = "
   ]
  },
  {
   "cell_type": "code",
   "execution_count": null,
   "id": "c45f8446-417b-4fc3-8180-88c091fe37cf",
   "metadata": {},
   "outputs": [],
   "source": [
    "lgbm_cross_validation(X5, y5, params_5)"
   ]
  },
  {
   "cell_type": "markdown",
   "id": "ccd547b2-24e6-4023-8959-d7955620108f",
   "metadata": {},
   "source": [
    "# WP6"
   ]
  },
  {
   "cell_type": "markdown",
   "id": "284dc175-a45f-4e3f-b577-2833794fe5ae",
   "metadata": {},
   "source": [
    "| |  | Mean | Std |\n",
    "| --- | --- | --- | --- |\n",
    "| No params | RMSE |  |  |\n",
    "| No params | MAE |  |  |\n",
    "| After tuning - 50trials| RMSE |  | |\n",
    "| After tuning - 50trials| MAE |  |  |"
   ]
  },
  {
   "cell_type": "code",
   "execution_count": null,
   "id": "da2f9ef4-ad90-4d75-9137-735cd41284fe",
   "metadata": {},
   "outputs": [],
   "source": [
    "train_wp6 = train_wp6[[c for c in train_wp6 if c not in [\"wp\"]] + [\"wp\"]]\n",
    "wp6_X = train_wp6.drop(to_drop, axis = 1)\n",
    "\n",
    "X_train6, X_test6, y_train6, y_test6 = train_test_split(wp6_X.drop('wp', axis = 1), wp6_X['wp'], test_size=0.20, random_state=42)\n",
    "X6 = X_train6.append(X_test6)\n",
    "y6 = y_train6.append(y_test6)"
   ]
  },
  {
   "cell_type": "code",
   "execution_count": null,
   "id": "26da7aab-0d22-4f12-9278-82b6e9e02553",
   "metadata": {},
   "outputs": [],
   "source": [
    "def objective_wp6(trial,data = X6,target = y6):\n",
    "    train_x, test_x, train_y, test_y = train_test_split(data, target, test_size=0.15,random_state=42)\n",
    "    return hyperparametrization(trial, train_x, test_x, train_y, test_y)"
   ]
  },
  {
   "cell_type": "code",
   "execution_count": null,
   "id": "9582d271-b478-4351-81aa-3be5cd3077b1",
   "metadata": {},
   "outputs": [],
   "source": [
    "lgbm_cross_validation(X6, y6, None)"
   ]
  },
  {
   "cell_type": "code",
   "execution_count": null,
   "id": "cf4cb7dd-bf83-4cd6-ac64-483e7c498375",
   "metadata": {},
   "outputs": [],
   "source": [
    "study = optuna.create_study(direction='minimize')\n",
    "study.optimize(objective_wp6, n_trials=50)\n",
    "write_results('Data/Hyperparametrization/lgbm_50trials.xlsx', 'wp6', study.trials_dataframe())\n",
    "best_trial = study.best_trial.params\n",
    "best_trial"
   ]
  },
  {
   "cell_type": "code",
   "execution_count": null,
   "id": "267b98ff-3269-4adb-8f99-b7ce9bb55521",
   "metadata": {},
   "outputs": [],
   "source": [
    "params_6 ="
   ]
  },
  {
   "cell_type": "code",
   "execution_count": null,
   "id": "c6b49cfc-b7ed-4309-a114-0257264fe9bf",
   "metadata": {},
   "outputs": [],
   "source": [
    "lgbm_cross_validation(X6, y6, params_6)"
   ]
  }
 ],
 "metadata": {
  "kernelspec": {
   "display_name": "Python 3",
   "language": "python",
   "name": "python3"
  },
  "language_info": {
   "codemirror_mode": {
    "name": "ipython",
    "version": 3
   },
   "file_extension": ".py",
   "mimetype": "text/x-python",
   "name": "python",
   "nbconvert_exporter": "python",
   "pygments_lexer": "ipython3",
   "version": "3.8.5"
  }
 },
 "nbformat": 4,
 "nbformat_minor": 5
}
