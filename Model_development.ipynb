{
 "cells": [
  {
   "cell_type": "markdown",
   "id": "261ec557-50a0-4cd6-8bec-268d1dee685a",
   "metadata": {},
   "source": [
    "# Model development"
   ]
  },
  {
   "cell_type": "markdown",
   "id": "080db2e8-f090-42a3-9f49-d563a929c6ef",
   "metadata": {},
   "source": [
    "Ici on fait nos modèles et prédictions. Le mieux c'est de faire des parties par modèles je pense ?"
   ]
  },
  {
   "cell_type": "markdown",
   "id": "ec86fdcd-e169-4431-8b0b-10686b89feca",
   "metadata": {},
   "source": [
    "Il faut aussi qu'on trouve un nomenclature pour les modèles si on les enregistre, afin de garder en tête les différents résultats"
   ]
  },
  {
   "cell_type": "code",
   "execution_count": 1,
   "id": "1399bb0f-0234-43a6-b724-73f21f9b28b7",
   "metadata": {},
   "outputs": [],
   "source": [
    "import pandas as pd\n",
    "import seaborn as sns\n",
    "import openpyxl\n",
    "from datetime import datetime, timedelta\n",
    "import matplotlib.pyplot as plt\n",
    "import numpy as np\n",
    "import os"
   ]
  },
  {
   "cell_type": "code",
   "execution_count": 2,
   "id": "9a662ef3-a957-41fe-955d-1c5e99709226",
   "metadata": {},
   "outputs": [],
   "source": [
    "from sklearn.model_selection import KFold, train_test_split\n",
    "\n",
    "from sklearn.metrics import mean_squared_error, mean_absolute_error\n",
    "import optuna"
   ]
  },
  {
   "cell_type": "code",
   "execution_count": 3,
   "id": "0bc7dfff-4363-41ad-bfd2-5e5dd7c0ef63",
   "metadata": {},
   "outputs": [],
   "source": [
    "from Functions.helper_functions import * "
   ]
  },
  {
   "cell_type": "code",
   "execution_count": 4,
   "id": "3c184629-3914-4a2c-ba3f-5f111909f344",
   "metadata": {},
   "outputs": [],
   "source": [
    "import warnings\n",
    "warnings.filterwarnings(action='ignore', category=UserWarning)\n",
    "pd.options.mode.chained_assignment = None  # default='warn'"
   ]
  },
  {
   "cell_type": "code",
   "execution_count": 5,
   "id": "6333588b-f1b0-4a5b-afea-e53064be0d99",
   "metadata": {},
   "outputs": [],
   "source": [
    "np.random.seed(42)"
   ]
  },
  {
   "cell_type": "markdown",
   "id": "b617c0f5-e679-4a3f-9a62-12e03303d11f",
   "metadata": {},
   "source": [
    "# Data"
   ]
  },
  {
   "cell_type": "code",
   "execution_count": 6,
   "id": "c4d3258c-6931-447d-84b7-ac52ed05673a",
   "metadata": {},
   "outputs": [],
   "source": [
    "train_wp1 = pd.read_csv('Data/Preprocessing/WP1_train_preprocessed.csv', sep=',')\n",
    "train_wp2 = pd.read_csv('Data/Preprocessing/WP2_train_preprocessed.csv', sep=',')\n",
    "train_wp3 = pd.read_csv('Data/Preprocessing/WP3_train_preprocessed.csv', sep=',')\n",
    "train_wp4 = pd.read_csv('Data/Preprocessing/WP4_train_preprocessed.csv', sep=',')\n",
    "train_wp5 = pd.read_csv('Data/Preprocessing/WP5_train_preprocessed.csv', sep=',')\n",
    "train_wp6 = pd.read_csv('Data/Preprocessing/WP6_train_preprocessed.csv', sep=',')"
   ]
  },
  {
   "cell_type": "code",
   "execution_count": null,
   "id": "69f752d4-63ed-43b9-9315-41ecaa114ce4",
   "metadata": {},
   "outputs": [],
   "source": [
    "test_wp1 = pd.read_csv('Data/Preprocessing/WP1_test_preprocessed.csv', sep=',')\n",
    "test_wp2 = pd.read_csv('Data/Preprocessing/WP2_test_preprocessed.csv', sep=',')\n",
    "test_wp3 = pd.read_csv('Data/Preprocessing/WP3_test_preprocessed.csv', sep=',')\n",
    "test_wp4 = pd.read_csv('Data/Preprocessing/WP4_test_preprocessed.csv', sep=',')\n",
    "test_wp5 = pd.read_csv('Data/Preprocessing/WP5_test_preprocessed.csv', sep=',')\n",
    "test_wp6 = pd.read_csv('Data/Preprocessing/WP6_test_preprocessed.csv', sep=',')\n",
    "test_dates = pd.read_csv('Data/Initial/test.csv', sep=',').date.values"
   ]
  },
  {
   "cell_type": "code",
   "execution_count": 7,
   "id": "7540aa92-fc5e-4431-8e79-faba9f0cecad",
   "metadata": {},
   "outputs": [],
   "source": [
    "to_drop = ['date','wd','forecast_time', 'forecast', \"forecast_dist\"]"
   ]
  },
  {
   "cell_type": "markdown",
   "id": "d0204367-344e-4837-9d27-c07833112862",
   "metadata": {},
   "source": [
    "# LGBMs"
   ]
  },
  {
   "cell_type": "code",
   "execution_count": 8,
   "id": "df77bdff-aa3c-42cd-91a2-4ecb5bffdead",
   "metadata": {
    "tags": []
   },
   "outputs": [],
   "source": [
    "from lightgbm import LGBMRegressor"
   ]
  },
  {
   "cell_type": "code",
   "execution_count": 9,
   "id": "0c2fd0c0-976c-4e83-8a23-a86d1864e2a7",
   "metadata": {
    "jupyter": {
     "source_hidden": true
    },
    "tags": []
   },
   "outputs": [],
   "source": [
    "def lgbm_cross_validation(X, y, params):\n",
    "    if params == None:\n",
    "        model = LGBMRegressor()\n",
    "    else:\n",
    "        model = LGBMRegressor(**params)\n",
    "\n",
    "    print('-----------LGBM CROSS VALIDATION BEGINNING-----------')\n",
    "    split = 10\n",
    "    kf = KFold(n_splits=split, shuffle=True)       \n",
    "    lgbm_rmse_scores = []\n",
    "    lgbm_mae_scores = []\n",
    "    i = 1\n",
    "    for (train_index, test_index) in kf.split(pd.DataFrame(X), pd.DataFrame(y)):\n",
    "        X_train, X_test = pd.DataFrame(X).iloc[train_index], pd.DataFrame(X).iloc[test_index]\n",
    "        Y_train, Y_test = pd.DataFrame(y).iloc[train_index],pd.DataFrame(y).iloc[test_index]\n",
    "\n",
    "        model.fit(X_train, Y_train, eval_set=[(X_test, Y_test)], verbose=100)\n",
    "\n",
    "        prediction = model.predict(X_test)\n",
    "        lgbm_rmse_scores.append(mean_squared_error(Y_test, prediction,squared=False))\n",
    "        lgbm_mae_scores.append(mean_absolute_error(Y_test, prediction))\n",
    "        \n",
    "        print(show_evaluation(prediction, Y_test))\n",
    "        print(f'-------------------FOLD {i}-----------------')\n",
    "        i+=1\n",
    "\n",
    "    print('---------------CROSS VALIDATION COMPLETE-------------')\n",
    "    print('--------------------------RMSE-----------------------')\n",
    "    display_scores(lgbm_rmse_scores)\n",
    "    print('--------------------------MAE------------------------')\n",
    "    display_scores(lgbm_mae_scores)"
   ]
  },
  {
   "cell_type": "code",
   "execution_count": 10,
   "id": "2155b5a6-2476-434d-832f-2f92dd646d67",
   "metadata": {
    "jupyter": {
     "source_hidden": true
    },
    "tags": []
   },
   "outputs": [],
   "source": [
    "def hyperparametrization(trial, train_x, test_x, train_y, test_y):\n",
    "    param = {\n",
    "        'metric': 'rmse', \n",
    "        'reg_alpha': trial.suggest_loguniform('reg_alpha', 1e-3, 10.0),\n",
    "        'reg_lambda': trial.suggest_loguniform('reg_lambda', 1e-3, 10.0),\n",
    "        'colsample_bytree': trial.suggest_categorical('colsample_bytree', [0.3,0.4,0.5,0.6,0.7,0.8,0.9, 1.0]),\n",
    "        'subsample': trial.suggest_categorical('subsample', [0.4,0.5,0.6,0.7,0.8,1.0]),\n",
    "        'learning_rate': trial.suggest_loguniform('learning_rate', 1e-3, 0.3),\n",
    "        'max_depth': trial.suggest_int(\"max_depth\", 20, 100),\n",
    "        'num_leaves' : trial.suggest_int('num_leaves', 1, 1000),\n",
    "        'min_child_samples': trial.suggest_int('min_child_samples', 1, 300),\n",
    "        'cat_smooth' : trial.suggest_int('min_data_per_groups', 1, 100)\n",
    "    }\n",
    "    \n",
    "    model = LGBMRegressor(**param)  \n",
    "    \n",
    "    model.fit(train_x,train_y,eval_set=[(test_x,test_y)],early_stopping_rounds=100,verbose=False)\n",
    "    \n",
    "    preds = model.predict(test_x)\n",
    "    \n",
    "    rmse =  mean_squared_error(test_y, preds,squared=False)\n",
    "    \n",
    "    return rmse"
   ]
  },
  {
   "cell_type": "markdown",
   "id": "bbc3509e-c676-463f-97ac-c0ac98b5f3ed",
   "metadata": {},
   "source": [
    "## WP1 "
   ]
  },
  {
   "cell_type": "markdown",
   "id": "7cd32285-01cf-4ab5-8fcb-706b7f8a294b",
   "metadata": {},
   "source": [
    "| |  | Mean | Std | Sum up |\n",
    "| --- | --- | --- | --- | --- |\n",
    "| No params | RMSE | 0.10344875448880764 | 0.0019070131550065564 |  |\n",
    "| After tuning 50trials| RMSE | 0.06830085723562579 | 0.0012998671387256361 | To keep, maybe redo optuna with warm start with it |\n",
    "| After tuning 100trials| RMSE | 0.0695930431604128 | 0.0015123892627707553 |  |\n",
    "| --- | --- | --- | --- | --- |\n",
    "| No params | MAE | 0.07306057409517844 | 0.0009857628815465762 |  |\n",
    "| After tuning 50trials| MAE | 0.04481696427654311 | 0.000727722171899004 |  |\n",
    "| After tuning 100trials| MAE | 0.045696725242359994 | 0.0008508558100930331 |  |"
   ]
  },
  {
   "cell_type": "code",
   "execution_count": 11,
   "id": "70c3af58-11fa-437e-80d2-d58c9901ce08",
   "metadata": {},
   "outputs": [],
   "source": [
    "train_wp1 = train_wp1[[c for c in train_wp1 if c not in [\"wp\"]] + [\"wp\"]]\n",
    "wp1_X = train_wp1.drop(to_drop, axis = 1)\n",
    "\n",
    "X_train1, X_test1, y_train1, y_test1 = train_test_split(wp1_X.drop('wp', axis = 1), wp1_X['wp'], test_size=0.20, random_state=42)\n",
    "X1 = X_train1.append(X_test1)\n",
    "y1 = y_train1.append(y_test1)"
   ]
  },
  {
   "cell_type": "code",
   "execution_count": 12,
   "id": "8e43e8ac-9721-49b8-9549-adbe154ec4cd",
   "metadata": {},
   "outputs": [],
   "source": [
    "def objective_wp1(trial,data=X1,target=y1):\n",
    "    train_x, test_x, train_y, test_y = train_test_split(data, target, test_size=0.15,random_state=42)\n",
    "    return hyperparametrization(trial, train_x, test_x, train_y, test_y)"
   ]
  },
  {
   "cell_type": "code",
   "execution_count": 13,
   "id": "ce60b0b1-b92e-42aa-8734-07709f0dc159",
   "metadata": {
    "tags": []
   },
   "outputs": [],
   "source": [
    "# lgbm_cross_validation(X1, y1, None)"
   ]
  },
  {
   "cell_type": "code",
   "execution_count": 14,
   "id": "ab792f0b-e669-4e29-b434-8db786b194a2",
   "metadata": {
    "tags": []
   },
   "outputs": [],
   "source": [
    "# study = optuna.create_study(direction='minimize')\n",
    "# study.optimize(objective_wp1, n_trials=100)\n",
    "# write_results('Data/Hyperparametrization/lgbm_100trials.xlsx', 'wp1', study.trials_dataframe())\n",
    "# best_trial = study.best_trial.params\n",
    "# best_trial"
   ]
  },
  {
   "cell_type": "code",
   "execution_count": 15,
   "id": "772ef566-6d0d-421c-b00d-7a1f91692384",
   "metadata": {},
   "outputs": [],
   "source": [
    "# # 100\n",
    "# params_1 = {\n",
    "#     'reg_alpha': 0.8314449043001416,\n",
    "#     'reg_lambda': 9.093012403173608,\n",
    "#     'colsample_bytree': 0.9,\n",
    "#     'subsample': 0.4,\n",
    "#     'learning_rate': 0.2033256175102991,\n",
    "#     'max_depth': 55,\n",
    "#     'num_leaves': 964,\n",
    "#     'min_child_samples': 25,\n",
    "#     'min_data_per_groups': 36\n",
    "# }\n",
    "\n",
    "#50\n",
    "params_1 = {\n",
    "    'reg_alpha': 0.664265743859848,\n",
    "    'reg_lambda': 9.83047434398735,\n",
    "    'colsample_bytree': 1.0,\n",
    "    'subsample': 1.0,\n",
    "    'learning_rate': 0.24237997149103074,\n",
    "    'max_depth': 77,\n",
    "    'num_leaves': 389,\n",
    "    'min_child_samples': 2,\n",
    "    'min_data_per_groups': 75\n",
    "}"
   ]
  },
  {
   "cell_type": "code",
   "execution_count": 16,
   "id": "6e8b9581-1e59-40fc-ba46-cac68640c7ff",
   "metadata": {
    "tags": []
   },
   "outputs": [],
   "source": [
    "# lgbm_cross_validation(X1, y1, params_1)"
   ]
  },
  {
   "cell_type": "markdown",
   "id": "2d4d08ad-3af3-408b-8834-57c1349d328a",
   "metadata": {},
   "source": [
    "## WP2"
   ]
  },
  {
   "cell_type": "markdown",
   "id": "61678924-2941-418d-93bf-84336d13fc89",
   "metadata": {},
   "source": [
    "| |  | Mean | Std | Sum up|\n",
    "| --- | --- | --- | --- | |\n",
    "| No params | RMSE | 0.10935335541057582 | 0.0014425096116734836 | |\n",
    "| After tuning - 50trials| RMSE | 0.0725081520968898 | 0.0016974702626377217 | |\n",
    "| After tuning 100trials| RMSE | 0.0707064364904941 | 0.001396820290618349 | More stable, to keep |\n",
    "| --- | --- | --- | --- |---|\n",
    "| No params | MAE | 0.07681923856705511 | 0.0008670825615244791 | |\n",
    "| After tuning - 50trials| MAE | 0.04512164110351975 |  0.0006579433030966575 | |\n",
    "| After tuning 100trials| MAE | 0.04457902842458915 | 0.0006807155447311589 | |"
   ]
  },
  {
   "cell_type": "code",
   "execution_count": 17,
   "id": "e6b8fee4-9fba-4818-a7df-29cd5d3806ad",
   "metadata": {},
   "outputs": [],
   "source": [
    "train_wp2 = train_wp2[[c for c in train_wp2 if c not in [\"wp\"]] + [\"wp\"]]\n",
    "wp2_X = train_wp2.drop(to_drop, axis = 1)\n",
    "\n",
    "X_train2, X_test2, y_train2, y_test2 = train_test_split(wp2_X.drop('wp', axis = 1), wp2_X['wp'], test_size=0.20, random_state=42)\n",
    "X2 = X_train2.append(X_test2)\n",
    "y2 = y_train2.append(y_test2)"
   ]
  },
  {
   "cell_type": "code",
   "execution_count": 18,
   "id": "70148d8e-6c11-4c30-a989-f5baaafce6d1",
   "metadata": {},
   "outputs": [],
   "source": [
    "# def objective_wp2(trial,data = X2,target = y2):\n",
    "#     train_x, test_x, train_y, test_y = train_test_split(data, target, test_size=0.15,random_state=42)\n",
    "#     return hyperparametrization(trial, train_x, test_x, train_y, test_y)"
   ]
  },
  {
   "cell_type": "code",
   "execution_count": 19,
   "id": "e297d1bd-f11e-4f8b-9fe2-634e78ca9c85",
   "metadata": {
    "tags": []
   },
   "outputs": [],
   "source": [
    "# lgbm_cross_validation(X2, y2, None)"
   ]
  },
  {
   "cell_type": "code",
   "execution_count": 20,
   "id": "0728372a-8909-4a7a-8cdc-be27e96cfc70",
   "metadata": {
    "tags": []
   },
   "outputs": [],
   "source": [
    "# study = optuna.create_study(direction='minimize')\n",
    "# study.optimize(objective_wp2, n_trials=100)\n",
    "# write_results('Data/Hyperparametrization/lgbm_100trials.xlsx', 'wp2', study.trials_dataframe())\n",
    "# best_trial = study.best_trial.params\n",
    "# best_trial"
   ]
  },
  {
   "cell_type": "code",
   "execution_count": 21,
   "id": "9ae90b08-6b61-4c17-90d8-a0d0c0f8a455",
   "metadata": {},
   "outputs": [],
   "source": [
    "# 100\n",
    "params_2 = {\n",
    "    'reg_alpha': 0.18268883436586145,\n",
    "    'reg_lambda': 0.15916821051528962,\n",
    "    'colsample_bytree': 1.0,\n",
    "    'subsample': 0.6,\n",
    "    'learning_rate': 0.18007000714755378,\n",
    "    'max_depth': 77,\n",
    "    'num_leaves': 425,\n",
    "    'min_child_samples': 10,\n",
    "    'min_data_per_groups': 19\n",
    "}\n",
    "\n",
    "# 50\n",
    "# params_2 = {\n",
    "#  'reg_alpha': 0.04439450895032273,\n",
    "#  'reg_lambda': 0.7790968728875318,\n",
    "#  'colsample_bytree': 0.4,\n",
    "#  'subsample': 1.0,\n",
    "#  'learning_rate': 0.09520041095092219,\n",
    "#  'max_depth': 31,\n",
    "#  'num_leaves': 883,\n",
    "#  'min_child_samples': 18,\n",
    "#  'min_data_per_groups': 56}"
   ]
  },
  {
   "cell_type": "code",
   "execution_count": 22,
   "id": "4deb0297-bfb2-491c-9885-9795b2596248",
   "metadata": {
    "tags": []
   },
   "outputs": [],
   "source": [
    "# lgbm_cross_validation(X2, y2, params_2)"
   ]
  },
  {
   "cell_type": "markdown",
   "id": "966468d2-d1a2-4c0a-a190-c37d85ef61f5",
   "metadata": {},
   "source": [
    "## WP3"
   ]
  },
  {
   "cell_type": "markdown",
   "id": "4c9c1b64-7897-4824-92b2-8f6ac0236b43",
   "metadata": {},
   "source": [
    "| |  | Mean | Std ||\n",
    "| --- | --- | --- | --- ||\n",
    "| No params | RMSE | 0.10392558077951244 | 0.0019038044796542812 ||\n",
    "| After tuning - 50trials| RMSE | 0.058253804820626545 | 0.0009893279354834155 | More stable, to keep |\n",
    "| After tuning 100trials| RMSE | 0.058338944346627106 | 0.0017133930174837203 ||\n",
    "| --- | --- | --- | --- | --- |\n",
    "| No params | MAE | 0.07550802464973318 | 0.0012006073434917633 ||\n",
    "| After tuning - 50trials| MAE | 0.03787310900962521 | 0.000442034368456366 ||\n",
    "| After tuning 100trials| MAE | 0.03838030476025398 | 0.0007480100565996748 ||"
   ]
  },
  {
   "cell_type": "code",
   "execution_count": 23,
   "id": "1a19adfe-a591-4616-827c-70140477879b",
   "metadata": {},
   "outputs": [],
   "source": [
    "train_wp3 = train_wp3[[c for c in train_wp3 if c not in [\"wp\"]] + [\"wp\"]]\n",
    "wp3_X = train_wp3.drop(to_drop, axis = 1)\n",
    "\n",
    "X_train3, X_test3, y_train3, y_test3 = train_test_split(wp3_X.drop('wp', axis = 1), wp3_X['wp'], test_size=0.20, random_state=42)\n",
    "X3 = X_train3.append(X_test3)\n",
    "y3 = y_train3.append(y_test3)"
   ]
  },
  {
   "cell_type": "code",
   "execution_count": 24,
   "id": "731a65d9-1176-446f-80e9-c8a23babf93f",
   "metadata": {},
   "outputs": [],
   "source": [
    "# def objective_wp3(trial,data = X3,target = y3):\n",
    "#     train_x, test_x, train_y, test_y = train_test_split(data, target, test_size=0.15,random_state=42)\n",
    "#     return hyperparametrization(trial, train_x, test_x, train_y, test_y)"
   ]
  },
  {
   "cell_type": "code",
   "execution_count": 25,
   "id": "de738d33-8e08-49d4-af3f-0e3fc5609cec",
   "metadata": {
    "tags": []
   },
   "outputs": [],
   "source": [
    "# lgbm_cross_validation(X3, y3, None)"
   ]
  },
  {
   "cell_type": "code",
   "execution_count": 26,
   "id": "76fcd3f6-9ee9-4a40-9208-371c72445408",
   "metadata": {
    "tags": []
   },
   "outputs": [],
   "source": [
    "# study = optuna.create_study(direction='minimize')\n",
    "# study.optimize(objective_wp3, n_trials=100)\n",
    "# write_results('Data/Hyperparametrization/lgbm_100trials.xlsx', 'wp3', study.trials_dataframe())\n",
    "# best_trial = study.best_trial.params\n",
    "# best_trial"
   ]
  },
  {
   "cell_type": "code",
   "execution_count": 27,
   "id": "0799bdb2-b009-446a-af9f-5f3e2fbed56b",
   "metadata": {},
   "outputs": [],
   "source": [
    "# # 100\n",
    "# params_3 = {\n",
    "#     'reg_alpha': 0.26013926149282945,\n",
    "#     'reg_lambda': 0.002325658512162904,\n",
    "#     'colsample_bytree': 1.0,\n",
    "#     'subsample': 0.7,\n",
    "#     'learning_rate': 0.10619054458258967,\n",
    "#     'max_depth': 83,\n",
    "#     'num_leaves': 647,\n",
    "#     'min_child_samples': 3,\n",
    "#     'min_data_per_groups': 24\n",
    "# }\n",
    "\n",
    "# 50\n",
    "params_3 = {\n",
    "    'reg_alpha': 0.002937356908910416,\n",
    "    'reg_lambda': 0.003822180117262245,\n",
    "    'colsample_bytree': 0.8,\n",
    "    'subsample': 1.0,\n",
    "    'learning_rate': 0.09489749817678472,\n",
    "    'max_depth': 41,\n",
    "    'num_leaves': 842,\n",
    "    'min_child_samples': 18,\n",
    "    'min_data_per_groups': 46\n",
    "}"
   ]
  },
  {
   "cell_type": "code",
   "execution_count": 28,
   "id": "b0d45d0b-664c-4c89-8493-ed650660fb0e",
   "metadata": {
    "tags": []
   },
   "outputs": [],
   "source": [
    "# lgbm_cross_validation(X3, y3, params_3)"
   ]
  },
  {
   "cell_type": "markdown",
   "id": "cdc76c8c-9cc7-441f-b25e-e1ecf293298e",
   "metadata": {},
   "source": [
    "## WP4"
   ]
  },
  {
   "cell_type": "markdown",
   "id": "895876ff-0734-4527-a0b9-68cf9b097dec",
   "metadata": {},
   "source": [
    "| |  | Mean | Std |\n",
    "| --- | --- | --- | --- |\n",
    "| No params | RMSE | 0.10486204816363351 | 0.0015105949978751166 |\n",
    "| After tuning - 50trials| RMSE | 0.06513233717204232 | 0.0015891617240032727 |\n",
    "| After tuning 100trials| RMSE | 0.06357594848470964 | 0.0013676749030776929 |\n",
    "| No params | MAE | 0.07564776733421566 | 0.00104638869825841 |\n",
    "| After tuning - 50trials| MAE | 0.04219236028055372 | 0.0008190579419060266 |\n",
    "| After tuning 100trials| MAE |0.04172111697148837  | 0.0009349285385250968 |"
   ]
  },
  {
   "cell_type": "code",
   "execution_count": 29,
   "id": "185fd52e-5fe9-4ab7-817d-03feda6a42ab",
   "metadata": {},
   "outputs": [],
   "source": [
    "train_wp4 = train_wp4[[c for c in train_wp4 if c not in [\"wp\"]] + [\"wp\"]]\n",
    "wp4_X = train_wp4.drop(to_drop, axis = 1)\n",
    "\n",
    "X_train4, X_test4, y_train4, y_test4 = train_test_split(wp4_X.drop('wp', axis = 1), wp4_X['wp'], test_size=0.20, random_state=42)\n",
    "X4 = X_train4.append(X_test4)\n",
    "y4 = y_train4.append(y_test4)"
   ]
  },
  {
   "cell_type": "code",
   "execution_count": 30,
   "id": "cccbce1b-c0d5-4aca-b2e3-6737933b2780",
   "metadata": {},
   "outputs": [],
   "source": [
    "def objective_wp4(trial,data = X4,target = y4):\n",
    "    train_x, test_x, train_y, test_y = train_test_split(data, target, test_size=0.15,random_state=42)\n",
    "    return hyperparametrization(trial, train_x, test_x, train_y, test_y)"
   ]
  },
  {
   "cell_type": "code",
   "execution_count": 31,
   "id": "c96a6e3e-8a1b-4fe9-a162-1f2fa994023d",
   "metadata": {
    "tags": []
   },
   "outputs": [],
   "source": [
    "# lgbm_cross_validation(X4, y4, None)"
   ]
  },
  {
   "cell_type": "code",
   "execution_count": 32,
   "id": "713019ee-cf12-4fa6-8971-7a09d0aa227a",
   "metadata": {
    "tags": []
   },
   "outputs": [],
   "source": [
    "# study = optuna.create_study(direction='minimize')\n",
    "# study.optimize(objective_wp4, n_trials=100)\n",
    "# write_results('Data/Hyperparametrization/lgbm_100trials.xlsx', 'wp4', study.trials_dataframe())\n",
    "# best_trial = study.best_trial.params\n",
    "# best_trial"
   ]
  },
  {
   "cell_type": "code",
   "execution_count": 33,
   "id": "fc00a25c-08c8-4cbe-9373-bcf6ad6b429a",
   "metadata": {},
   "outputs": [],
   "source": [
    "# 100\n",
    "params_4 = {\n",
    "    'reg_alpha': 0.08714703614419553,\n",
    "    'reg_lambda': 9.983645262139024,\n",
    "    'colsample_bytree': 0.9,\n",
    "    'subsample': 0.8,\n",
    "    'learning_rate': 0.13413154768816146,\n",
    "    'max_depth': 41,\n",
    "    'num_leaves': 613,\n",
    "    'min_child_samples': 15,\n",
    "    'min_data_per_groups': 29\n",
    "}\n",
    "\n",
    "# {\n",
    "#     'reg_alpha': 0.15331128149569725,\n",
    "#     'reg_lambda': 0.28560184971009756,\n",
    "#     'colsample_bytree': 0.7,\n",
    "#     'subsample': 0.5,\n",
    "#     'learning_rate': 0.11430869527789024,\n",
    "#     'max_depth': 24,\n",
    "#     'num_leaves': 856,\n",
    "#     'min_child_samples': 14,\n",
    "#     'min_data_per_groups': 33\n",
    "# }"
   ]
  },
  {
   "cell_type": "code",
   "execution_count": 34,
   "id": "731ce6d4-2612-45d6-8e37-89e2c27e9be1",
   "metadata": {
    "tags": []
   },
   "outputs": [],
   "source": [
    "# lgbm_cross_validation(X4, y4, params_4)"
   ]
  },
  {
   "cell_type": "markdown",
   "id": "640e4455-cfc5-493a-b3e6-95b608171368",
   "metadata": {},
   "source": [
    "## WP5"
   ]
  },
  {
   "cell_type": "markdown",
   "id": "57cd823c-ff5c-41ba-9e0e-8b8d75cf2c65",
   "metadata": {},
   "source": [
    "| |  | Mean | Std |\n",
    "| --- | --- | --- | --- |\n",
    "| No params | RMSE | 0.11722129743692011 | 0.0017732599261516583 |\n",
    "| After tuning - 50trials| RMSE | 0.07721413638593042 | 0.0011020420293213135 |\n",
    "| After tuning - 100trials| RMSE | 0.07297648991888442 | 0.0014970317509404526 |\n",
    "| No params | MAE | 0.08497074568090211 | 0.0009101526501392155 |\n",
    "| After tuning - 50trials| MAE | 0.051677856581467195 | 0.0006374939894477714 |\n",
    "| After tuning - 100trials| MAE | 0.04765271414503236 | 0.0006257356756510128 |"
   ]
  },
  {
   "cell_type": "code",
   "execution_count": 35,
   "id": "44f38883-24ef-46f1-bc0b-1070f4e36d2f",
   "metadata": {},
   "outputs": [],
   "source": [
    "train_wp5 = train_wp5[[c for c in train_wp5 if c not in [\"wp\"]] + [\"wp\"]]\n",
    "wp5_X = train_wp5.drop(to_drop, axis = 1)\n",
    "\n",
    "X_train5, X_test5, y_train5, y_test5 = train_test_split(wp5_X.drop('wp', axis = 1), wp5_X['wp'], test_size=0.20, random_state=42)\n",
    "X5 = X_train5.append(X_test5)\n",
    "y5 = y_train5.append(y_test5)"
   ]
  },
  {
   "cell_type": "code",
   "execution_count": 36,
   "id": "6fdb3b27-103f-41b6-84d2-3367b10564d2",
   "metadata": {},
   "outputs": [],
   "source": [
    "# def objective_wp5(trial, data = X5,target = y5):\n",
    "#     train_x, test_x, train_y, test_y = train_test_split(data, target, test_size=0.15,random_state=42)\n",
    "#     return hyperparametrization(trial, train_x, test_x, train_y, test_y)"
   ]
  },
  {
   "cell_type": "code",
   "execution_count": 37,
   "id": "c4ece078-3e34-4754-b23c-1ba712563b3e",
   "metadata": {
    "tags": []
   },
   "outputs": [],
   "source": [
    "# lgbm_cross_validation(X5, y5, None)"
   ]
  },
  {
   "cell_type": "code",
   "execution_count": 38,
   "id": "eaa2050d-bf47-4311-b386-0a8d40eae30b",
   "metadata": {
    "tags": []
   },
   "outputs": [],
   "source": [
    "# study = optuna.create_study(direction='minimize')\n",
    "# study.optimize(objective_wp5, n_trials=100)\n",
    "# write_results('Data/Hyperparametrization/lgbm_100trials.xlsx', 'wp5', study.trials_dataframe())\n",
    "# best_trial = study.best_trial.params\n",
    "# best_trial"
   ]
  },
  {
   "cell_type": "code",
   "execution_count": 39,
   "id": "dde520d3-4565-42ff-8382-d787e91e8c7b",
   "metadata": {},
   "outputs": [],
   "source": [
    "# 100\n",
    "params_5 = {\n",
    "    'reg_alpha': 0.04781362061382749,\n",
    "    'reg_lambda': 9.716980953182604,\n",
    "    'colsample_bytree': 0.9,\n",
    "    'subsample': 0.7,\n",
    "    'learning_rate': 0.14614317149730652,\n",
    "    'max_depth': 57,\n",
    "    'num_leaves': 532,\n",
    "    'min_child_samples': 7,\n",
    "    'min_data_per_groups': 84\n",
    "}\n",
    "\n",
    "# # 50\n",
    "# params_5 = {\n",
    "#     'reg_alpha': 0.0025641515787025067,\n",
    "#     'reg_lambda': 0.024580995322705475,\n",
    "#     'colsample_bytree': 0.8,\n",
    "#     'subsample': 0.4,\n",
    "#     'learning_rate': 0.11844862032615265,\n",
    "#     'max_depth': 69,\n",
    "#     'num_leaves': 328,\n",
    "#     'min_child_samples': 62,\n",
    "#     'min_data_per_groups': 34\n",
    "# }"
   ]
  },
  {
   "cell_type": "code",
   "execution_count": 40,
   "id": "c45f8446-417b-4fc3-8180-88c091fe37cf",
   "metadata": {
    "tags": []
   },
   "outputs": [],
   "source": [
    "# lgbm_cross_validation(X5, y5, params_5)"
   ]
  },
  {
   "cell_type": "markdown",
   "id": "ccd547b2-24e6-4023-8959-d7955620108f",
   "metadata": {},
   "source": [
    "## WP6"
   ]
  },
  {
   "cell_type": "markdown",
   "id": "284dc175-a45f-4e3f-b577-2833794fe5ae",
   "metadata": {},
   "source": [
    "| |  | Mean | Std |\n",
    "| --- | --- | --- | --- |\n",
    "| No params | RMSE | 0.0940394026188472 | 0.0010749562915831372 |\n",
    "| After tuning - 50trials| RMSE | 0.05404362835213171 | 0.0008595325139047733 |\n",
    "| After tuning 100trials| RMSE | 0.054861488499908594 | 0.0007335378238383901 |\n",
    "| No params | MAE | 0.070455643271004 | 0.0006641538274191148 |\n",
    "| After tuning - 50trials| MAE | 0.03657758274248596 | 0.0005325521314198646 |\n",
    "| After tuning 100trials| MAE | 0.03783933495157941 | 0.00045956939815828987 |"
   ]
  },
  {
   "cell_type": "code",
   "execution_count": 41,
   "id": "da2f9ef4-ad90-4d75-9137-735cd41284fe",
   "metadata": {
    "tags": []
   },
   "outputs": [],
   "source": [
    "train_wp6 = train_wp6[[c for c in train_wp6 if c not in [\"wp\"]] + [\"wp\"]]\n",
    "wp6_X = train_wp6.drop(to_drop, axis = 1)\n",
    "\n",
    "X_train6, X_test6, y_train6, y_test6 = train_test_split(wp6_X.drop('wp', axis = 1), wp6_X['wp'], test_size=0.20, random_state=42)\n",
    "X6 = X_train6.append(X_test6)\n",
    "y6 = y_train6.append(y_test6)"
   ]
  },
  {
   "cell_type": "code",
   "execution_count": 42,
   "id": "26da7aab-0d22-4f12-9278-82b6e9e02553",
   "metadata": {
    "tags": []
   },
   "outputs": [],
   "source": [
    "def objective_wp6(trial,data = X6,target = y6):\n",
    "    train_x, test_x, train_y, test_y = train_test_split(data, target, test_size=0.15,random_state=42)\n",
    "    return hyperparametrization(trial, train_x, test_x, train_y, test_y)"
   ]
  },
  {
   "cell_type": "code",
   "execution_count": 43,
   "id": "9582d271-b478-4351-81aa-3be5cd3077b1",
   "metadata": {
    "tags": []
   },
   "outputs": [],
   "source": [
    "# lgbm_cross_validation(X6, y6, None)"
   ]
  },
  {
   "cell_type": "code",
   "execution_count": 44,
   "id": "cf4cb7dd-bf83-4cd6-ac64-483e7c498375",
   "metadata": {
    "tags": []
   },
   "outputs": [],
   "source": [
    "# study = optuna.create_study(direction='minimize')\n",
    "# study.optimize(objective_wp6, n_trials=100)\n",
    "# write_results('Data/Hyperparametrization/lgbm_100trials.xlsx', 'wp6', study.trials_dataframe())\n",
    "# best_trial = study.best_trial.params\n",
    "# best_trial"
   ]
  },
  {
   "cell_type": "code",
   "execution_count": 45,
   "id": "267b98ff-3269-4adb-8f99-b7ce9bb55521",
   "metadata": {},
   "outputs": [],
   "source": [
    "# 100\n",
    "params_6 = {\n",
    "    'reg_alpha': 0.23451110075396234,\n",
    "    'reg_lambda': 0.796705483623135,\n",
    "    'colsample_bytree': 0.9,\n",
    "    'subsample': 0.4,\n",
    "    'learning_rate': 0.1561492653707781,\n",
    "    'max_depth': 67,\n",
    "    'num_leaves': 998,\n",
    "    'min_child_samples': 45,\n",
    "    'min_data_per_groups': 48\n",
    "}\n",
    "\n",
    "# # 50\n",
    "# params_6 = {\n",
    "#     'reg_alpha': 0.11420484028619322,\n",
    "#     'reg_lambda': 2.6106462927544216,\n",
    "#     'colsample_bytree': 0.5,\n",
    "#     'subsample': 0.4,\n",
    "#     'learning_rate': 0.13579539259861131,\n",
    "#     'max_depth': 35,\n",
    "#     'num_leaves': 765,\n",
    "#     'min_child_samples': 3,\n",
    "#     'min_data_per_groups': 29\n",
    "# }"
   ]
  },
  {
   "cell_type": "code",
   "execution_count": 46,
   "id": "c6b49cfc-b7ed-4309-a114-0257264fe9bf",
   "metadata": {
    "tags": []
   },
   "outputs": [],
   "source": [
    "# lgbm_cross_validation(X6, y6, params_6)"
   ]
  },
  {
   "cell_type": "markdown",
   "id": "599f0c09-97e8-4e3b-a117-f707ed6235e2",
   "metadata": {},
   "source": [
    "## LGBM Predictions"
   ]
  },
  {
   "cell_type": "code",
   "execution_count": 47,
   "id": "2e673e92-7f3f-4ffd-a822-c574b030dac4",
   "metadata": {},
   "outputs": [],
   "source": [
    "to_drop = ['date','wd','forecast_time', 'forecast', \"forecast_dist\", 'wp']\n",
    "def make_prediction_dataset(test, to_drop=to_drop):\n",
    "    test_to_predict = test.dropna(subset=['ws','u','v'], how = 'any') # keeps only lines with u,v,ws,wd\n",
    "    test_to_predict = test_to_predict[test_to_predict['wp'].isna()] # keeps only lines with no wp\n",
    "    test_to_predict = test_to_predict.sort_values(by=['date', 'forecast_time'], ascending = [True, False]).drop_duplicates(subset='date')\n",
    "    test_to_predict = test_to_predict.drop(to_drop, axis = 1)\n",
    "    return test_to_predict"
   ]
  },
  {
   "cell_type": "code",
   "execution_count": 48,
   "id": "911631de-e039-4791-885d-73d714bc3115",
   "metadata": {},
   "outputs": [],
   "source": [
    "def make_submission_file(lst_X_trains, lst_y_trains, lst_tests, lst_models, dates):\n",
    "    i = 1\n",
    "    lst_prediction = []\n",
    "    for X, y, test, model in zip(lst_X_trains, lst_y_trains, lst_tests, lst_models):\n",
    "        print(f'--------------Model {i}--------------')\n",
    "        model.fit(X, y)\n",
    "        print(f'True:\\n\\tMin:{min(y)}\\n\\tMax:{max(y)}\\n\\tMean:{y.mean()}')\n",
    "        predictions = model.predict(test)\n",
    "        print(f'Prediction:\\n\\tMin:{min(predictions)}\\n\\tMax:{max(predictions)}\\n\\tMean:{np.mean(predictions)}')\n",
    "        predictions = [min(y) if i < 0 else i for i in predictions]\n",
    "        predictions = [max(y) if i > 1 else i for i in predictions]\n",
    "        print(f'Prediction corrected:\\n\\tMin:{min(predictions)}\\n\\tMax:{max(predictions)}\\n\\tMean:{np.mean(predictions)}')\n",
    "        lst_prediction.append(predictions)\n",
    "        i+=1\n",
    "    \n",
    "    df_predictions = pd.DataFrame({\n",
    "        'date': test_dates,\n",
    "        'wp1': lst_prediction[0],\n",
    "        'wp2': lst_prediction[1],\n",
    "        'wp3': lst_prediction[2],\n",
    "        'wp4': lst_prediction[3],\n",
    "        'wp5': lst_prediction[4],\n",
    "        'wp6': lst_prediction[5],        \n",
    "    })\n",
    "    return df_predictions"
   ]
  },
  {
   "cell_type": "code",
   "execution_count": 50,
   "id": "8921365d-a1b4-4d3f-a6fa-693733ac2f3e",
   "metadata": {},
   "outputs": [],
   "source": [
    "model_1 = LGBMRegressor(**params_1)\n",
    "model_2 = LGBMRegressor(**params_2)\n",
    "model_3 = LGBMRegressor(**params_3)\n",
    "model_4 = LGBMRegressor(**params_4)\n",
    "model_5 = LGBMRegressor(**params_5)\n",
    "model_6 = LGBMRegressor(**params_6)\n",
    "\n",
    "lst_models = [model_1, model_2, model_3, model_4, model_5, model_6]\n",
    "lst_X_trains = [X1, X2, X3, X4, X5, X6]\n",
    "lst_y_trains = [y1, y2, y3, y4, y5, y6]"
   ]
  },
  {
   "cell_type": "code",
   "execution_count": 51,
   "id": "ca47f1f3-34a9-4a23-8312-2a9402f563ff",
   "metadata": {},
   "outputs": [],
   "source": [
    "lst_tests = []\n",
    "for test in [test_wp1, test_wp2, test_wp3, test_wp4, test_wp5, test_wp6]:\n",
    "    test = make_prediction_dataset(test)\n",
    "    lst_tests.append(test)"
   ]
  },
  {
   "cell_type": "code",
   "execution_count": 52,
   "id": "df54ea09-8916-4fdd-a8be-0516f0ed5395",
   "metadata": {
    "tags": []
   },
   "outputs": [
    {
     "name": "stdout",
     "output_type": "stream",
     "text": [
      "--------------Model 1--------------\n",
      "True:\n",
      "\tMin:0.0\n",
      "\tMax:0.96\n",
      "\tMean:0.28459819520757024\n",
      "Prediction:\n",
      "\tMin:-0.022194848783538994\n",
      "\tMax:0.958845943771023\n",
      "\tMean:0.29647903856901203\n",
      "Prediction corrected:\n",
      "\tMin:0.0\n",
      "\tMax:0.958845943771023\n",
      "\tMean:0.2965935331440954\n",
      "--------------Model 2--------------\n",
      "True:\n",
      "\tMin:0.0\n",
      "\tMax:0.966\n",
      "\tMean:0.25890153769841273\n",
      "Prediction:\n",
      "\tMin:-0.01725407854145281\n",
      "\tMax:0.9883402029479273\n",
      "\tMean:0.2519910450757791\n",
      "Prediction corrected:\n",
      "\tMin:0.0\n",
      "\tMax:0.9883402029479273\n",
      "\tMean:0.25201789111610734\n",
      "--------------Model 3--------------\n",
      "True:\n",
      "\tMin:0.0\n",
      "\tMax:0.989\n",
      "\tMean:0.26252472527472526\n",
      "Prediction:\n",
      "\tMin:-0.011775425483345798\n",
      "\tMax:0.9556402894892506\n",
      "\tMean:0.2880111253562854\n",
      "Prediction corrected:\n",
      "\tMin:0.0\n",
      "\tMax:0.9556402894892506\n",
      "\tMean:0.28801720482185034\n",
      "--------------Model 4--------------\n",
      "True:\n",
      "\tMin:0.0\n",
      "\tMax:0.992\n",
      "\tMean:0.2763637820512821\n",
      "Prediction:\n",
      "\tMin:-0.018291852701813067\n",
      "\tMax:0.9194936750713967\n",
      "\tMean:0.281148685671947\n",
      "Prediction corrected:\n",
      "\tMin:0.0\n",
      "\tMax:0.9194936750713967\n",
      "\tMean:0.28119099371346834\n",
      "--------------Model 5--------------\n",
      "True:\n",
      "\tMin:0.0\n",
      "\tMax:0.978\n",
      "\tMean:0.326221192002442\n",
      "Prediction:\n",
      "\tMin:-0.006099604696084361\n",
      "\tMax:0.9906886267160427\n",
      "\tMean:0.3313824610791004\n",
      "Prediction corrected:\n",
      "\tMin:0.0\n",
      "\tMax:0.9906886267160427\n",
      "\tMean:0.33138345302964584\n",
      "--------------Model 6--------------\n",
      "True:\n",
      "\tMin:0.0\n",
      "\tMax:0.947\n",
      "\tMean:0.2425176472832723\n",
      "Prediction:\n",
      "\tMin:-0.014564830590834382\n",
      "\tMax:0.9016994569873461\n",
      "\tMean:0.23498668412821755\n",
      "Prediction corrected:\n",
      "\tMin:0.0\n",
      "\tMax:0.9016994569873461\n",
      "\tMean:0.23501446979648768\n"
     ]
    }
   ],
   "source": [
    "df_predictions = make_submission_file(lst_X_trains, lst_y_trains, lst_tests, lst_models, test_dates)"
   ]
  },
  {
   "cell_type": "code",
   "execution_count": 53,
   "id": "1fa2c859-6e63-40e3-adc4-045fe68c06de",
   "metadata": {},
   "outputs": [],
   "source": [
    "df_predictions.to_csv('Predictions/submission_nb_1_full_lgbm.csv', index=False, sep=';')"
   ]
  }
 ],
 "metadata": {
  "kernelspec": {
   "display_name": "Python 3",
   "language": "python",
   "name": "python3"
  },
  "language_info": {
   "codemirror_mode": {
    "name": "ipython",
    "version": 3
   },
   "file_extension": ".py",
   "mimetype": "text/x-python",
   "name": "python",
   "nbconvert_exporter": "python",
   "pygments_lexer": "ipython3",
   "version": "3.8.5"
  }
 },
 "nbformat": 4,
 "nbformat_minor": 5
}
