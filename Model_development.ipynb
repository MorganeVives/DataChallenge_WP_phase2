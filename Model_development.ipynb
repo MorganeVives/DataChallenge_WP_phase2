{
 "cells": [
  {
   "cell_type": "markdown",
   "id": "261ec557-50a0-4cd6-8bec-268d1dee685a",
   "metadata": {},
   "source": [
    "# Model development"
   ]
  },
  {
   "cell_type": "markdown",
   "id": "080db2e8-f090-42a3-9f49-d563a929c6ef",
   "metadata": {},
   "source": [
    "Ici on fait nos modèles et prédictions. Le mieux c'est de faire des parties par modèles je pense ?"
   ]
  },
  {
   "cell_type": "markdown",
   "id": "ec86fdcd-e169-4431-8b0b-10686b89feca",
   "metadata": {},
   "source": [
    "Il faut aussi qu'on trouve un nomenclature pour les modèles si on les enregistre, afin de garder en tête les différents résultats"
   ]
  },
  {
   "cell_type": "code",
   "execution_count": null,
   "id": "1399bb0f-0234-43a6-b724-73f21f9b28b7",
   "metadata": {},
   "outputs": [],
   "source": []
  }
 ],
 "metadata": {
  "kernelspec": {
   "display_name": "Python 3",
   "language": "python",
   "name": "python3"
  },
  "language_info": {
   "codemirror_mode": {
    "name": "ipython",
    "version": 3
   },
   "file_extension": ".py",
   "mimetype": "text/x-python",
   "name": "python",
   "nbconvert_exporter": "python",
   "pygments_lexer": "ipython3",
   "version": "3.8.5"
  }
 },
 "nbformat": 4,
 "nbformat_minor": 5
}
