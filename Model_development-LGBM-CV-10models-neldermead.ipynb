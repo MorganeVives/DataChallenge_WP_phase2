{
 "cells": [
  {
   "cell_type": "markdown",
   "id": "261ec557-50a0-4cd6-8bec-268d1dee685a",
   "metadata": {},
   "source": [
    "# LGBM Model development - CV one model per fold - optim NelderMead"
   ]
  },
  {
   "cell_type": "code",
   "execution_count": 1,
   "id": "1399bb0f-0234-43a6-b724-73f21f9b28b7",
   "metadata": {},
   "outputs": [],
   "source": [
    "import pandas as pd\n",
    "import seaborn as sns\n",
    "import openpyxl\n",
    "from datetime import datetime, timedelta\n",
    "import matplotlib.pyplot as plt\n",
    "import numpy as np\n",
    "import os\n",
    "import pickle\n",
    "import time"
   ]
  },
  {
   "cell_type": "code",
   "execution_count": 2,
   "id": "9a662ef3-a957-41fe-955d-1c5e99709226",
   "metadata": {},
   "outputs": [],
   "source": [
    "from sklearn.model_selection import KFold, train_test_split, cross_val_score\n",
    "from sklearn.preprocessing import MinMaxScaler, StandardScaler, MaxAbsScaler, RobustScaler\n",
    "from sklearn.pipeline import Pipeline\n",
    "from sklearn.metrics import mean_squared_error, mean_absolute_error\n",
    "import optuna\n",
    "optuna.logging.set_verbosity(0)\n",
    "from vmdpy import VMD"
   ]
  },
  {
   "cell_type": "code",
   "execution_count": 3,
   "id": "f54f8406-f577-4449-8edb-631854c78d48",
   "metadata": {},
   "outputs": [],
   "source": [
    "from scipy.optimize import minimize"
   ]
  },
  {
   "cell_type": "code",
   "execution_count": 4,
   "id": "0bc7dfff-4363-41ad-bfd2-5e5dd7c0ef63",
   "metadata": {},
   "outputs": [],
   "source": [
    "from Functions.helper_functions import * "
   ]
  },
  {
   "cell_type": "code",
   "execution_count": 5,
   "id": "3c184629-3914-4a2c-ba3f-5f111909f344",
   "metadata": {},
   "outputs": [],
   "source": [
    "import warnings\n",
    "warnings.filterwarnings(action='ignore', category=UserWarning)\n",
    "pd.options.mode.chained_assignment = None  # default='warn'"
   ]
  },
  {
   "cell_type": "code",
   "execution_count": 6,
   "id": "6333588b-f1b0-4a5b-afea-e53064be0d99",
   "metadata": {},
   "outputs": [],
   "source": [
    "np.random.seed(42)"
   ]
  },
  {
   "cell_type": "markdown",
   "id": "b617c0f5-e679-4a3f-9a62-12e03303d11f",
   "metadata": {},
   "source": [
    "# Data"
   ]
  },
  {
   "cell_type": "code",
   "execution_count": 7,
   "id": "c4d3258c-6931-447d-84b7-ac52ed05673a",
   "metadata": {},
   "outputs": [],
   "source": [
    "train_wp1 = pd.read_csv('Data/Preprocessing/WP1_train_preprocessed.csv', sep=',')\n",
    "train_wp2 = pd.read_csv('Data/Preprocessing/WP2_train_preprocessed.csv', sep=',')\n",
    "train_wp3 = pd.read_csv('Data/Preprocessing/WP3_train_preprocessed.csv', sep=',')\n",
    "train_wp4 = pd.read_csv('Data/Preprocessing/WP4_train_preprocessed.csv', sep=',')\n",
    "train_wp5 = pd.read_csv('Data/Preprocessing/WP5_train_preprocessed.csv', sep=',')\n",
    "train_wp6 = pd.read_csv('Data/Preprocessing/WP6_train_preprocessed.csv', sep=',')"
   ]
  },
  {
   "cell_type": "code",
   "execution_count": 8,
   "id": "69f752d4-63ed-43b9-9315-41ecaa114ce4",
   "metadata": {},
   "outputs": [],
   "source": [
    "test_wp1 = pd.read_csv('Data/Preprocessing/WP1_test_preprocessed.csv', sep=',')\n",
    "test_wp2 = pd.read_csv('Data/Preprocessing/WP2_test_preprocessed.csv', sep=',')\n",
    "test_wp3 = pd.read_csv('Data/Preprocessing/WP3_test_preprocessed.csv', sep=',')\n",
    "test_wp4 = pd.read_csv('Data/Preprocessing/WP4_test_preprocessed.csv', sep=',')\n",
    "test_wp5 = pd.read_csv('Data/Preprocessing/WP5_test_preprocessed.csv', sep=',')\n",
    "test_wp6 = pd.read_csv('Data/Preprocessing/WP6_test_preprocessed.csv', sep=',')\n",
    "test_dates = pd.read_csv('Data/Initial/test.csv', sep=',').date.values"
   ]
  },
  {
   "cell_type": "code",
   "execution_count": 9,
   "id": "7540aa92-fc5e-4431-8e79-faba9f0cecad",
   "metadata": {},
   "outputs": [],
   "source": [
    "to_drop = ['date','wd','forecast_time', 'forecast', \"forecast_dist\"]"
   ]
  },
  {
   "cell_type": "code",
   "execution_count": 10,
   "id": "b0be88be-a88e-4777-a80f-66d64c4d0089",
   "metadata": {
    "tags": []
   },
   "outputs": [],
   "source": [
    "u_to_drop = [\n",
    "    'u_T_1', 'u_T_2', 'u_T_3', 'u_T_4', 'u_T_5', 'u_T_6', \n",
    "    'u_T_2_mean', 'u_T_3_mean', 'u_T_4_mean', 'u_T_5_mean', 'u_T_6_mean', 'u_T_7_mean',\n",
    "    'u_T_8_mean', 'u_T_9_mean', 'u_T_10_mean', 'u_T_11_mean', 'u_T_12_mean','u_T_24_mean',\n",
    "    'u_T_2_std', 'u_T_4_std', 'u_T_5_std', 'u_T_6_std',\n",
    "    'u_T_2_median', 'u_T_3_median', 'u_T_4_median', 'u_T_5_median', 'u_T_6_median', 'u_T_12_median','u_T_24_median', 'u_T_36_median',\n",
    "    'u_T_2_max', 'u_T_3_max', 'u_T_4_max', 'u_T_5_max', 'u_T_6_max', 'u_T_12_max',\n",
    "    'u_T_2_min', 'u_T_3_min', 'u_T_4_min', 'u_T_5_min', 'u_T_6_min', 'u_T_12_min',\n",
    "    'u2_T_1', 'u2_T_2', 'u2_T_3', 'u2_T_4', 'u2_T_5', 'u2_T_6', \n",
    "    'u2_T_2_mean', 'u2_T_3_mean', 'u2_T_4_mean', 'u2_T_5_mean', 'u2_T_6_mean', 'u2_T_7_mean',\n",
    "    'u2_T_8_mean', 'u2_T_9_mean', 'u2_T_10_mean', 'u2_T_11_mean', 'u2_T_12_mean','u2_T_24_mean',\n",
    "    'u2_T_2_std', 'u2_T_4_std', 'u2_T_5_std', 'u2_T_6_std', 'u2_T_24_std',\n",
    "    'u2_T_2_median', 'u2_T_3_median', 'u2_T_4_median', 'u2_T_5_median', 'u2_T_6_median', 'u2_T_12_median',\n",
    "    'u2_T_2_max','u2_T_3_max', 'u2_T_4_max','u2_T_5_max', 'u2_T_6_max', 'u2_T_12_max',\n",
    "    'u2_T_2_min', 'u2_T_3_min', 'u2_T_4_min', 'u2_T_5_min', 'u2_T_6_min',\n",
    "    'u2_T_12', 'u2_T_36_mean', 'u2_T_36_std', 'u2_T_24_median', 'u2_T_24_max',\n",
    "    'u_T_36_mean','u_T_12','u_T_24_max','u2_T_36_median','u_T_24_min'\n",
    "]\n",
    "ws_to_drop = [\n",
    "    'ws_T_1', 'ws_T_2', 'ws_T_3', 'ws_T_4', 'ws_T_5', 'ws_T_6', 'ws_T_7', 'ws_T_8', 'ws_T_10','ws_T_11', 'ws_T_12',\n",
    "    'ws_T_2_mean', 'ws_T_3_mean', 'ws_T_4_mean', 'ws_T_5_mean', 'ws_T_6_mean', 'ws_T_7_mean', 'ws_T_8_mean', 'ws_T_9_mean', \n",
    "    'ws_T_10_mean', 'ws_T_11_mean', 'ws_T_12_mean', 'ws_T_24_mean', \n",
    "    'ws_T_2_std', 'ws_T_3_std', 'ws_T_4_std', 'ws_T_5_std', \n",
    "    'ws_T_2_median', 'ws_T_3_median', 'ws_T_4_median', 'ws_T_5_median', 'ws_T_6_median',\n",
    "    'ws_T_12_median', 'ws_T_24_median', 'ws_T_36_median',\n",
    "    'ws_T_2_max', 'ws_T_3_max', 'ws_T_4_max', 'ws_T_5_max','ws_T_6_max', 'ws_T_12_max',\n",
    "     'ws_T_2_min', 'ws_T_3_min', 'ws_T_4_min', 'ws_T_5_min', 'ws_T_6_min', 'ws_T_12_min','ws_T_24_max','ws_T_24_min'\n",
    "]\n",
    "\n",
    "v_to_drop = [\n",
    "    'v_T_1', 'v_T_2', 'v_T_3', 'v_T_4', 'v_T_5', 'v_T_6', \n",
    "    'v_T_2_mean', 'v_T_3_mean', 'v_T_4_mean', 'v_T_5_mean', 'v_T_6_mean', 'v_T_7_mean',\n",
    "    'v_T_8_mean', 'v_T_9_mean', 'v_T_10_mean', 'v_T_11_mean', 'v_T_12_mean', 'v_T_24_mean','v_T_36_mean',\n",
    "    'v_T_3_std', 'v_T_4_std', 'v_T_5_std','v_T_6_std','v_T_24_std', 'v_T_36_median',\n",
    "    'v_T_2_median', 'v_T_3_median', 'v_T_4_median', 'v_T_5_median', 'v_T_6_median', \n",
    "    'v_T_2_max', 'v_T_3_max', 'v_T_4_max', 'v_T_5_max', 'v_T_6_max', 'v_T_12_max', \n",
    "    'v_T_2_min', 'v_T_3_min', 'v_T_4_min', 'v_T_5_min', 'v_T_6_min', 'v_T_12_min', \n",
    "    'v_T_36_min', 'v_T_36', 'v_T_24_max',  'v_T_12_median', 'v_T_24_median',\n",
    "]\n",
    "\n",
    "wd_to_drop = [\n",
    "    'coswd_1', 'coswd_2', 'coswd_3', 'coswd_4', 'coswd_5', 'coswd_6',\n",
    "    'coswd_2_mean', 'coswd_3_mean', 'coswd_4_mean', 'coswd_5_mean', 'coswd_6_mean', 'coswd_7_mean', \n",
    "    'coswd_8_mean', 'coswd_9_mean', 'coswd_10_mean', 'coswd_11_mean', 'coswd_12_mean', 'coswd_24_mean', \n",
    "    'coswd_3_std', 'coswd_4_std','coswd_5_std','coswd_2_median', 'coswd_3_median','coswd_4_median', \n",
    "    'coswd_5_median', 'coswd_6_median', 'coswd_36_median', 'coswd_24_median', 'coswd_12_median',\n",
    "    'coswd_2_max', 'coswd_3_max', 'coswd_4_max', 'coswd_5_max', 'coswd_6_max', 'coswd_12_max', 'coswd_24_max',\n",
    "    'coswd_2_min', 'coswd_3_min', 'coswd_4_min', 'coswd_5_min', 'coswd_6_min', 'coswd_12_min', 'coswd_24_min',\n",
    "    'ws_T_36_max', 'ws_T_36_min', 'coswd_12', 'coswd_24'\n",
    "]\n",
    "\n",
    "other_to_drop = [\n",
    "    'cos_day', 'u', 'v'\n",
    "]\n",
    "\n",
    "feature_corr = u_to_drop+ws_to_drop+v_to_drop+wd_to_drop+other_to_drop\n",
    "#to_drop = to_drop+feature_corr"
   ]
  },
  {
   "cell_type": "markdown",
   "id": "d0204367-344e-4837-9d27-c07833112862",
   "metadata": {
    "jp-MarkdownHeadingCollapsed": true,
    "tags": []
   },
   "source": [
    "# LGBM functions"
   ]
  },
  {
   "cell_type": "code",
   "execution_count": 14,
   "id": "df77bdff-aa3c-42cd-91a2-4ecb5bffdead",
   "metadata": {
    "tags": []
   },
   "outputs": [],
   "source": [
    "from lightgbm import LGBMRegressor"
   ]
  },
  {
   "cell_type": "code",
   "execution_count": 21,
   "id": "06b25086-f413-4305-a2a3-ca3de93887f1",
   "metadata": {},
   "outputs": [],
   "source": [
    "def create_dataset(data,n,split):\n",
    "    n_batch=int(len(data)/84)\n",
    "    new_data=np.array_split(data,n_batch)\n",
    "    train = pd.DataFrame()\n",
    "    val=pd.DataFrame()\n",
    "    for i in range(n_batch):\n",
    "        if (i+n)%split ==0:\n",
    "            val = pd.concat([val,new_data[i]])\n",
    "        else:\n",
    "            train=pd.concat([train,new_data[i]])\n",
    "    return train,val"
   ]
  },
  {
   "cell_type": "code",
   "execution_count": 22,
   "id": "71b925ab-bed2-43ee-9ea5-514ba40b9f0d",
   "metadata": {},
   "outputs": [],
   "source": [
    "def create_lst_dataset(x,y,cv):\n",
    "    lst_X=[]\n",
    "    lst_Y=[]\n",
    "    split=cv\n",
    "    for n in range(cv):\n",
    "        print('-----Creating {0} Xs-----'.format(n+1))\n",
    "        X_train,X_test=create_dataset(data=x,n=n,split=split)\n",
    "        lst_X.append(X_train)\n",
    "        print('-----Creating {0} Ys-----'.format(n+1))\n",
    "        Y_train,Y_test=create_dataset(data=y,n=n,split=split)\n",
    "        lst_Y.append(Y_train)\n",
    "        try:\n",
    "            len(X_train)==len(Y_train)\n",
    "        except:\n",
    "            print('/!\\ lengh non identicale')\n",
    "    return lst_X, lst_Y"
   ]
  },
  {
   "cell_type": "code",
   "execution_count": 23,
   "id": "d65dc789-3fea-4c32-8e13-89dc54654109",
   "metadata": {},
   "outputs": [],
   "source": [
    "def create_lst_lst_dataset(x,y,cv):\n",
    "    lst_dataset_Y=[]\n",
    "    lst_dataset_X=[]\n",
    "    i=0\n",
    "    for x,y in zip(x,y):\n",
    "        start_time = time.time()\n",
    "        \n",
    "\n",
    "        print('----Start Creating {0} dataset list----'.format(i+1))\n",
    "        X_train,Y_train=create_lst_dataset(x=x,y=y,cv=cv)\n",
    "        print('--------Appending-----')\n",
    "        lst_dataset_X.append(X_train)\n",
    "        lst_dataset_Y.append(Y_train)\n",
    "        print('-----completed round {0}'.format(i+1))\n",
    "        i+=1\n",
    "        print(\"--- %s seconds ---\" % (time.time() - start_time))\n",
    "    return lst_dataset_X,lst_dataset_Y"
   ]
  },
  {
   "cell_type": "code",
   "execution_count": 24,
   "id": "38829e20-4afe-4300-90c4-770c194f75ea",
   "metadata": {},
   "outputs": [],
   "source": [
    "def create_lst_model(cv,n_estimators):\n",
    "    model_1=[]\n",
    "    model_2=[]\n",
    "    model_3=[]\n",
    "    model_4=[]\n",
    "    model_5=[]\n",
    "    model_6=[]\n",
    "    for i in range(cv):\n",
    "        model=Pipeline([('scaler', RobustScaler()),('ridge', LGBMRegressor(num_iterations=n_estimators,n_jobs=-1))])\n",
    "        model_1+=[model]\n",
    "        model_2+=[model]\n",
    "        model_3+=[model]\n",
    "        model_4+=[model]\n",
    "        model_5+=[model]\n",
    "        model_6+=[model]\n",
    "    return [model_1,model_2,model_3,model_4,model_5,model_6]"
   ]
  },
  {
   "cell_type": "code",
   "execution_count": 61,
   "id": "d097be71-bf56-4323-a15c-0d09027675b1",
   "metadata": {},
   "outputs": [],
   "source": [
    "def create_lst_model_params(cv,n_estimators):\n",
    "    model_1=[]\n",
    "    model_2=[]\n",
    "    model_3=[]\n",
    "    model_4=[]\n",
    "    model_5=[]\n",
    "    model_6=[]\n",
    "    for i in range(cv):\n",
    "        #model=Pipeline([('scaler', RobustScaler()),('ridge', LGBMRegressor(num_iterations=n_estimators,n_jobs=-1))])\n",
    "        model_1+=[Pipeline([('scaler', RobustScaler()),('ridge', LGBMRegressor(**params_1[i]))])]\n",
    "        model_2+=[Pipeline([('scaler', RobustScaler()),('ridge', LGBMRegressor(**params_2[i]))])]\n",
    "        model_3+=[Pipeline([('scaler', RobustScaler()),('ridge', LGBMRegressor(**params_3[i]))])]\n",
    "        model_4+=[Pipeline([('scaler', RobustScaler()),('ridge', LGBMRegressor(**params_4[i]))])]\n",
    "        model_5+=[Pipeline([('scaler', RobustScaler()),('ridge', LGBMRegressor(**params_5[i]))])]\n",
    "        model_6+=[Pipeline([('scaler', RobustScaler()),('ridge', LGBMRegressor(**params_6[i]))])]\n",
    "    return [model_1,model_2,model_3,model_4,model_5,model_6]"
   ]
  },
  {
   "cell_type": "code",
   "execution_count": 41,
   "id": "fa522e8f-a8ec-4f41-8af5-94c6dfded3cf",
   "metadata": {
    "tags": []
   },
   "outputs": [],
   "source": [
    "def hyperparametrization(trial, train_x, test_x, train_y, test_y):\n",
    "    param = {\n",
    "        'n_jobs':-1,\n",
    "        'num_iterations':trial.suggest_int('num_iterations',10,200),\n",
    "        'metric': 'rmse', \n",
    "        'reg_alpha': trial.suggest_loguniform('reg_alpha', 1e-3, 10.0),\n",
    "        'reg_lambda': trial.suggest_loguniform('reg_lambda', 1e-3, 10.0),\n",
    "        'colsample_bytree': trial.suggest_categorical('colsample_bytree', [0.3,0.4,0.5,0.6,0.7,0.8,0.9, 1.0]),\n",
    "        'subsample': trial.suggest_categorical('subsample', [0.4,0.5,0.6,0.7,0.8,1.0]),\n",
    "        'learning_rate': trial.suggest_loguniform('learning_rate', 1e-3, 0.3),\n",
    "        'max_depth': trial.suggest_int(\"max_depth\", 20, 100),\n",
    "        'num_leaves' : trial.suggest_int('num_leaves', 2, 1000),\n",
    "        'min_child_samples': trial.suggest_int('min_child_samples', 1, 300),\n",
    "    }\n",
    "    \n",
    "#     model = LGBMRegressor(**param)  \n",
    "    model = Pipeline([('scaler', RobustScaler()),('ridge', LGBMRegressor(**param))])\n",
    "#     model.fit(train_x,train_y,eval_set=[(test_x,test_y)],early_stopping_rounds=100,verbose=False)\n",
    "    model.fit(train_x,train_y)\n",
    "    \n",
    "    preds = model.predict(test_x)\n",
    "    \n",
    "    rmse =  mean_squared_error(test_y, preds,squared=False)\n",
    "    \n",
    "    return rmse"
   ]
  },
  {
   "cell_type": "markdown",
   "id": "b78ff012-f8a3-49e7-a5e5-ab5afd7ae9a6",
   "metadata": {
    "jp-MarkdownHeadingCollapsed": true,
    "tags": []
   },
   "source": [
    "# DATA"
   ]
  },
  {
   "cell_type": "code",
   "execution_count": 31,
   "id": "9d6619b7-3127-4695-9099-e2eb9b098eeb",
   "metadata": {
    "tags": []
   },
   "outputs": [],
   "source": [
    "wp1_X = train_wp1[[c for c in train_wp1 if c not in [\"wp\"]] + [\"wp\"]].drop(to_drop, axis = 1)\n",
    "X1 = wp1_X.drop('wp', axis=1)\n",
    "y1 = wp1_X['wp']"
   ]
  },
  {
   "cell_type": "code",
   "execution_count": 55,
   "id": "963168d9-5603-43b1-849c-44027e745841",
   "metadata": {},
   "outputs": [],
   "source": [
    "wp2_X = train_wp2[[c for c in train_wp2 if c not in [\"wp\"]] + [\"wp\"]].drop(to_drop, axis = 1)\n",
    "X2 = wp2_X.drop('wp', axis=1)\n",
    "y2 = wp2_X['wp']"
   ]
  },
  {
   "cell_type": "code",
   "execution_count": 56,
   "id": "ec857fb9-02d5-4524-8edd-43bbe5c79da4",
   "metadata": {},
   "outputs": [],
   "source": [
    "wp3_X = train_wp3[[c for c in train_wp3 if c not in [\"wp\"]] + [\"wp\"]].drop(to_drop, axis = 1)\n",
    "X3 = wp3_X.drop('wp', axis = 1)\n",
    "y3 = wp3_X['wp']\n"
   ]
  },
  {
   "cell_type": "code",
   "execution_count": 57,
   "id": "b3d5a0f0-2fc9-432c-bd7f-378fa37aeb0b",
   "metadata": {},
   "outputs": [],
   "source": [
    "wp4_X = train_wp4[[c for c in train_wp4 if c not in [\"wp\"]] + [\"wp\"]].drop(to_drop, axis = 1)\n",
    "X4 = wp4_X.drop('wp', axis = 1)\n",
    "y4 = wp4_X['wp']"
   ]
  },
  {
   "cell_type": "code",
   "execution_count": 58,
   "id": "2b517321-b217-46e1-b80a-3200bd61e747",
   "metadata": {},
   "outputs": [],
   "source": [
    "wp5_X = train_wp5[[c for c in train_wp5 if c not in [\"wp\"]] + [\"wp\"]].drop(to_drop, axis = 1)\n",
    "X5 = wp5_X.drop('wp', axis = 1)\n",
    "y5 = wp5_X['wp']"
   ]
  },
  {
   "cell_type": "code",
   "execution_count": 59,
   "id": "736f3edb-9f25-4a7b-a266-816425438b42",
   "metadata": {
    "tags": []
   },
   "outputs": [],
   "source": [
    "wp6_X = train_wp6[[c for c in train_wp6 if c not in [\"wp\"]] + [\"wp\"]].drop(to_drop, axis = 1)\n",
    "X6 = wp6_X.drop('wp', axis = 1)\n",
    "y6 = wp6_X['wp']"
   ]
  },
  {
   "cell_type": "markdown",
   "id": "50001434-5b44-4a93-8005-ab7794310e1d",
   "metadata": {
    "jp-MarkdownHeadingCollapsed": true,
    "tags": []
   },
   "source": [
    "# Creating the 10 dataset per WP"
   ]
  },
  {
   "cell_type": "code",
   "execution_count": 42,
   "id": "4d992224-3e4e-44bb-90b2-f248b696b11b",
   "metadata": {},
   "outputs": [
    {
     "name": "stdout",
     "output_type": "stream",
     "text": [
      "----Start Creating 1 dataset list----\n",
      "-----Creating 1 Xs-----\n",
      "-----Creating 1 Ys-----\n",
      "-----Creating 2 Xs-----\n",
      "-----Creating 2 Ys-----\n",
      "-----Creating 3 Xs-----\n",
      "-----Creating 3 Ys-----\n",
      "-----Creating 4 Xs-----\n",
      "-----Creating 4 Ys-----\n",
      "-----Creating 5 Xs-----\n",
      "-----Creating 5 Ys-----\n",
      "-----Creating 6 Xs-----\n",
      "-----Creating 6 Ys-----\n",
      "-----Creating 7 Xs-----\n",
      "-----Creating 7 Ys-----\n",
      "-----Creating 8 Xs-----\n",
      "-----Creating 8 Ys-----\n",
      "-----Creating 9 Xs-----\n",
      "-----Creating 9 Ys-----\n",
      "-----Creating 10 Xs-----\n",
      "-----Creating 10 Ys-----\n",
      "--------Appending-----\n",
      "-----completed round 1\n",
      "--- 182.14605903625488 seconds ---\n",
      "----Start Creating 2 dataset list----\n",
      "-----Creating 1 Xs-----\n",
      "-----Creating 1 Ys-----\n",
      "-----Creating 2 Xs-----\n",
      "-----Creating 2 Ys-----\n",
      "-----Creating 3 Xs-----\n",
      "-----Creating 3 Ys-----\n",
      "-----Creating 4 Xs-----\n",
      "-----Creating 4 Ys-----\n",
      "-----Creating 5 Xs-----\n",
      "-----Creating 5 Ys-----\n",
      "-----Creating 6 Xs-----\n",
      "-----Creating 6 Ys-----\n",
      "-----Creating 7 Xs-----\n",
      "-----Creating 7 Ys-----\n",
      "-----Creating 8 Xs-----\n",
      "-----Creating 8 Ys-----\n",
      "-----Creating 9 Xs-----\n",
      "-----Creating 9 Ys-----\n",
      "-----Creating 10 Xs-----\n",
      "-----Creating 10 Ys-----\n",
      "--------Appending-----\n",
      "-----completed round 2\n",
      "--- 210.08258771896362 seconds ---\n",
      "----Start Creating 3 dataset list----\n",
      "-----Creating 1 Xs-----\n",
      "-----Creating 1 Ys-----\n",
      "-----Creating 2 Xs-----\n",
      "-----Creating 2 Ys-----\n",
      "-----Creating 3 Xs-----\n",
      "-----Creating 3 Ys-----\n",
      "-----Creating 4 Xs-----\n",
      "-----Creating 4 Ys-----\n",
      "-----Creating 5 Xs-----\n",
      "-----Creating 5 Ys-----\n",
      "-----Creating 6 Xs-----\n",
      "-----Creating 6 Ys-----\n",
      "-----Creating 7 Xs-----\n",
      "-----Creating 7 Ys-----\n",
      "-----Creating 8 Xs-----\n",
      "-----Creating 8 Ys-----\n",
      "-----Creating 9 Xs-----\n",
      "-----Creating 9 Ys-----\n",
      "-----Creating 10 Xs-----\n",
      "-----Creating 10 Ys-----\n",
      "--------Appending-----\n",
      "-----completed round 3\n",
      "--- 199.88898229599 seconds ---\n",
      "----Start Creating 4 dataset list----\n",
      "-----Creating 1 Xs-----\n",
      "-----Creating 1 Ys-----\n",
      "-----Creating 2 Xs-----\n",
      "-----Creating 2 Ys-----\n",
      "-----Creating 3 Xs-----\n",
      "-----Creating 3 Ys-----\n",
      "-----Creating 4 Xs-----\n",
      "-----Creating 4 Ys-----\n",
      "-----Creating 5 Xs-----\n",
      "-----Creating 5 Ys-----\n",
      "-----Creating 6 Xs-----\n",
      "-----Creating 6 Ys-----\n",
      "-----Creating 7 Xs-----\n",
      "-----Creating 7 Ys-----\n",
      "-----Creating 8 Xs-----\n",
      "-----Creating 8 Ys-----\n",
      "-----Creating 9 Xs-----\n",
      "-----Creating 9 Ys-----\n",
      "-----Creating 10 Xs-----\n",
      "-----Creating 10 Ys-----\n",
      "--------Appending-----\n",
      "-----completed round 4\n",
      "--- 209.25647139549255 seconds ---\n",
      "----Start Creating 5 dataset list----\n",
      "-----Creating 1 Xs-----\n",
      "-----Creating 1 Ys-----\n",
      "-----Creating 2 Xs-----\n",
      "-----Creating 2 Ys-----\n",
      "-----Creating 3 Xs-----\n",
      "-----Creating 3 Ys-----\n",
      "-----Creating 4 Xs-----\n",
      "-----Creating 4 Ys-----\n",
      "-----Creating 5 Xs-----\n",
      "-----Creating 5 Ys-----\n",
      "-----Creating 6 Xs-----\n",
      "-----Creating 6 Ys-----\n",
      "-----Creating 7 Xs-----\n",
      "-----Creating 7 Ys-----\n",
      "-----Creating 8 Xs-----\n",
      "-----Creating 8 Ys-----\n",
      "-----Creating 9 Xs-----\n",
      "-----Creating 9 Ys-----\n",
      "-----Creating 10 Xs-----\n",
      "-----Creating 10 Ys-----\n",
      "--------Appending-----\n",
      "-----completed round 5\n",
      "--- 315.4579620361328 seconds ---\n",
      "----Start Creating 6 dataset list----\n",
      "-----Creating 1 Xs-----\n",
      "-----Creating 1 Ys-----\n",
      "-----Creating 2 Xs-----\n",
      "-----Creating 2 Ys-----\n",
      "-----Creating 3 Xs-----\n",
      "-----Creating 3 Ys-----\n",
      "-----Creating 4 Xs-----\n",
      "-----Creating 4 Ys-----\n",
      "-----Creating 5 Xs-----\n",
      "-----Creating 5 Ys-----\n",
      "-----Creating 6 Xs-----\n",
      "-----Creating 6 Ys-----\n",
      "-----Creating 7 Xs-----\n",
      "-----Creating 7 Ys-----\n",
      "-----Creating 8 Xs-----\n",
      "-----Creating 8 Ys-----\n",
      "-----Creating 9 Xs-----\n",
      "-----Creating 9 Ys-----\n",
      "-----Creating 10 Xs-----\n",
      "-----Creating 10 Ys-----\n",
      "--------Appending-----\n",
      "-----completed round 6\n",
      "--- 321.0930976867676 seconds ---\n"
     ]
    }
   ],
   "source": [
    "cv=10\n",
    "lst_X = [X1, X2, X3, X4, X5, X6]\n",
    "lst_Y = [y1, y2, y3, y4, y5, y6]\n",
    "lst_X_trains_split, lst_Y_trains_split = create_lst_lst_dataset(x=lst_X,y=lst_Y,cv=cv)"
   ]
  },
  {
   "cell_type": "code",
   "execution_count": 43,
   "id": "61ff5086-4914-4b5d-a50a-086bc9a69767",
   "metadata": {},
   "outputs": [
    {
     "name": "stdout",
     "output_type": "stream",
     "text": [
      "------cv n°:0-------\n",
      "------cv n°:1-------\n",
      "------cv n°:2-------\n",
      "------cv n°:3-------\n",
      "------cv n°:4-------\n",
      "------cv n°:5-------\n",
      "------cv n°:6-------\n",
      "------cv n°:7-------\n",
      "------cv n°:8-------\n",
      "------cv n°:9-------\n"
     ]
    }
   ],
   "source": [
    "params_1=[]\n",
    "for i in range(cv):\n",
    "    def objective_wp1(trial,data=X1,target=y1):\n",
    "        train_x, test_x = create_dataset(data,i,cv)\n",
    "        train_y,test_y=create_dataset(target,i,cv)\n",
    "        return hyperparametrization(trial, train_x, test_x, train_y, test_y)\n",
    "    study = optuna.create_study(direction='minimize')\n",
    "    study.optimize(objective_wp1, n_trials=20)\n",
    "    #write_results('Data/Hyperparametrization/lgbm_vmd_50trials_cv.xlsx', 'wp1', study.trials_dataframe())\n",
    "    params_1.append(study.best_trial.params)\n",
    "    print('------cv n°:{0}-------'.format(i))\n",
    "    #best_trial"
   ]
  },
  {
   "cell_type": "code",
   "execution_count": 44,
   "id": "f0757791-fbc9-44dd-8119-f0f712e8bb7c",
   "metadata": {},
   "outputs": [
    {
     "name": "stdout",
     "output_type": "stream",
     "text": [
      "------cv n°:0-------\n",
      "------cv n°:1-------\n",
      "------cv n°:2-------\n",
      "------cv n°:3-------\n",
      "------cv n°:4-------\n",
      "------cv n°:5-------\n",
      "------cv n°:6-------\n",
      "------cv n°:7-------\n",
      "------cv n°:8-------\n",
      "------cv n°:9-------\n"
     ]
    }
   ],
   "source": [
    "params_2=[]\n",
    "for i in range(cv):\n",
    "    def objective_wp2(trial,data=X2,target=y2):\n",
    "        train_x, test_x = create_dataset(data,i,cv)\n",
    "        train_y,test_y=create_dataset(target,i,cv)\n",
    "        return hyperparametrization(trial, train_x, test_x, train_y, test_y)\n",
    "    study = optuna.create_study(direction='minimize')\n",
    "    study.optimize(objective_wp2, n_trials=20)\n",
    "    #write_results('Data/Hyperparametrization/lgbm_vmd_50trials_cv.xlsx', 'wp1', study.trials_dataframe())\n",
    "    params_2.append(study.best_trial.params)\n",
    "    print('------cv n°:{0}-------'.format(i))\n",
    "    #best_trial"
   ]
  },
  {
   "cell_type": "code",
   "execution_count": 45,
   "id": "b26cd04c-30da-4dee-9f05-1e19ae3a1702",
   "metadata": {},
   "outputs": [
    {
     "name": "stdout",
     "output_type": "stream",
     "text": [
      "------cv n°:0-------\n",
      "------cv n°:1-------\n",
      "------cv n°:2-------\n",
      "------cv n°:3-------\n",
      "------cv n°:4-------\n",
      "------cv n°:5-------\n",
      "------cv n°:6-------\n",
      "------cv n°:7-------\n",
      "------cv n°:8-------\n",
      "------cv n°:9-------\n"
     ]
    }
   ],
   "source": [
    "params_3=[]\n",
    "for i in range(cv):\n",
    "    def objective_wp3(trial,data=X3,target=y3):\n",
    "        train_x, test_x = create_dataset(data,i,cv)\n",
    "        train_y,test_y=create_dataset(target,i,cv)\n",
    "        return hyperparametrization(trial, train_x, test_x, train_y, test_y)\n",
    "    study = optuna.create_study(direction='minimize')\n",
    "    study.optimize(objective_wp3, n_trials=20)\n",
    "    #write_results('Data/Hyperparametrization/lgbm_vmd_50trials_cv.xlsx', 'wp1', study.trials_dataframe())\n",
    "    params_3.append(study.best_trial.params)\n",
    "    print('------cv n°:{0}-------'.format(i))\n",
    "    #best_trial"
   ]
  },
  {
   "cell_type": "code",
   "execution_count": 46,
   "id": "18085631-8a6e-4f1f-a960-0192ede45e01",
   "metadata": {},
   "outputs": [
    {
     "name": "stdout",
     "output_type": "stream",
     "text": [
      "------cv n°:0-------\n",
      "------cv n°:1-------\n",
      "------cv n°:2-------\n",
      "------cv n°:3-------\n",
      "------cv n°:4-------\n",
      "------cv n°:5-------\n",
      "------cv n°:6-------\n",
      "------cv n°:7-------\n",
      "------cv n°:8-------\n",
      "------cv n°:9-------\n"
     ]
    }
   ],
   "source": [
    "params_4=[]\n",
    "for i in range(cv):\n",
    "    def objective_wp4(trial,data=X4,target=y4):\n",
    "        train_x, test_x = create_dataset(data,i,cv)\n",
    "        train_y,test_y=create_dataset(target,i,cv)\n",
    "        return hyperparametrization(trial, train_x, test_x, train_y, test_y)\n",
    "    study = optuna.create_study(direction='minimize')\n",
    "    study.optimize(objective_wp4, n_trials=20)\n",
    "    #write_results('Data/Hyperparametrization/lgbm_vmd_50trials_cv.xlsx', 'wp1', study.trials_dataframe())\n",
    "    params_4.append(study.best_trial.params)\n",
    "    print('------cv n°:{0}-------'.format(i))\n",
    "    #best_trial"
   ]
  },
  {
   "cell_type": "code",
   "execution_count": null,
   "id": "f8eb1efc-9242-4a3d-9a4b-740d6b881e52",
   "metadata": {},
   "outputs": [
    {
     "name": "stdout",
     "output_type": "stream",
     "text": [
      "------cv n°:0-------\n",
      "------cv n°:1-------\n",
      "------cv n°:2-------\n",
      "------cv n°:3-------\n",
      "------cv n°:4-------\n",
      "------cv n°:5-------\n",
      "------cv n°:6-------\n",
      "------cv n°:7-------\n",
      "------cv n°:8-------\n",
      "------cv n°:9-------\n"
     ]
    }
   ],
   "source": [
    "params_5=[]\n",
    "for i in range(cv):\n",
    "    def objective_wp5(trial,data=X5,target=y5):\n",
    "        train_x, test_x = create_dataset(data,i,cv)\n",
    "        train_y,test_y=create_dataset(target,i,cv)\n",
    "        return hyperparametrization(trial, train_x, test_x, train_y, test_y)\n",
    "    study = optuna.create_study(direction='minimize')\n",
    "    study.optimize(objective_wp5, n_trials=20)\n",
    "    #write_results('Data/Hyperparametrization/lgbm_vmd_50trials_cv.xlsx', 'wp1', study.trials_dataframe())\n",
    "    params_5.append(study.best_trial.params)\n",
    "    print('------cv n°:{0}-------'.format(i))\n",
    "    #best_trial"
   ]
  },
  {
   "cell_type": "code",
   "execution_count": null,
   "id": "f09cad76-ae8a-4a33-bbd6-0980c4911767",
   "metadata": {},
   "outputs": [
    {
     "name": "stdout",
     "output_type": "stream",
     "text": [
      "------cv n°:0-------\n",
      "------cv n°:1-------\n",
      "------cv n°:2-------\n",
      "------cv n°:3-------\n",
      "------cv n°:4-------\n",
      "------cv n°:5-------\n",
      "------cv n°:6-------\n",
      "------cv n°:7-------\n",
      "------cv n°:8-------\n",
      "------cv n°:9-------\n"
     ]
    }
   ],
   "source": [
    "params_6=[]\n",
    "for i in range(cv):\n",
    "    def objective_wp6(trial,data=X6,target=y6):\n",
    "        train_x, test_x = create_dataset(data,i,cv)\n",
    "        train_y,test_y=create_dataset(target,i,cv)\n",
    "        return hyperparametrization(trial, train_x, test_x, train_y, test_y)\n",
    "    study = optuna.create_study(direction='minimize')\n",
    "    study.optimize(objective_wp6, n_trials=20)\n",
    "    #write_results('Data/Hyperparametrization/lgbm_vmd_50trials_cv.xlsx', 'wp1', study.trials_dataframe())\n",
    "    params_6.append(study.best_trial.params)\n",
    "    print('------cv n°:{0}-------'.format(i))\n",
    "    #best_trial"
   ]
  },
  {
   "cell_type": "code",
   "execution_count": 62,
   "id": "1f7aae7d-4be1-4038-8374-f00f1dc13971",
   "metadata": {},
   "outputs": [],
   "source": [
    "#lst_model = create_lst_model(cv=cv,n_estimators=50)\n",
    "lst_model = create_lst_model_params(cv=cv,n_estimators=50)"
   ]
  },
  {
   "cell_type": "code",
   "execution_count": 60,
   "id": "11d59b56-c96d-44a7-8670-bd3c4cc184a9",
   "metadata": {},
   "outputs": [
    {
     "data": {
      "text/plain": [
       "Pipeline(steps=[('scaler', RobustScaler()),\n",
       "                ('ridge',\n",
       "                 LGBMRegressor(colsample_bytree=0.8,\n",
       "                               learning_rate=0.06530909015442644, max_depth=100,\n",
       "                               min_child_samples=81, num_iterations=188,\n",
       "                               num_leaves=277, reg_alpha=0.23651797761143137,\n",
       "                               reg_lambda=0.43480032497704474,\n",
       "                               subsample=0.6))])"
      ]
     },
     "execution_count": 60,
     "metadata": {},
     "output_type": "execute_result"
    }
   ],
   "source": [
    "lst_model[0][1]\n"
   ]
  },
  {
   "cell_type": "code",
   "execution_count": 77,
   "id": "9990f48b-99df-4b02-b24a-604a56be7aea",
   "metadata": {},
   "outputs": [],
   "source": [
    "#for model,x,y in zip(lst_model,lst_X_trains_split,lst_Y_trains_split):\n",
    " #   for i in range(cv):\n",
    "  #      model[i].fit(x[i],y[i])"
   ]
  },
  {
   "cell_type": "code",
   "execution_count": 63,
   "id": "ee067d19-75ef-4c52-8b94-e8e3141366e5",
   "metadata": {},
   "outputs": [],
   "source": [
    "lst_predictions_all=[]\n",
    "for model,x_all,x,y in zip(lst_model,lst_X,lst_X_trains_split,lst_Y_trains_split):\n",
    "    lst_predictions=[]\n",
    "    for i in range(cv):\n",
    "        clf=model[i]\n",
    "        clf.fit(x[i],y[i])\n",
    "        lst_predictions.append(clf.predict(x_all))\n",
    "    lst_predictions_all.append(lst_predictions)"
   ]
  },
  {
   "cell_type": "code",
   "execution_count": 64,
   "id": "54b63ec8-2f0e-46c2-b52c-a01d8d8e0cb6",
   "metadata": {},
   "outputs": [],
   "source": [
    "#lst_predictions_all=[]\n",
    "#for model,x in zip(lst_model,lst_X):\n",
    "#    lst_predictions=[]\n",
    "#    for i in range(cv):\n",
    "#        lst_predictions.append(model[i].predict(x))\n",
    "#    lst_predictions_all.append(lst_predictions)\n",
    "        "
   ]
  },
  {
   "cell_type": "code",
   "execution_count": 65,
   "id": "581bfe66-25c4-42f9-bdff-40a3e1c30ff4",
   "metadata": {},
   "outputs": [
    {
     "data": {
      "text/plain": [
       "(6, 10, 52416)"
      ]
     },
     "execution_count": 65,
     "metadata": {},
     "output_type": "execute_result"
    }
   ],
   "source": [
    "np.shape(lst_predictions_all)"
   ]
  },
  {
   "cell_type": "code",
   "execution_count": 66,
   "id": "8fffa11b-9464-4354-b7b2-b44b5274d71a",
   "metadata": {},
   "outputs": [],
   "source": [
    "weights_all=[]\n",
    "for pred,y in zip(lst_predictions_all,lst_Y):\n",
    "    weights=[]\n",
    "    for i in range(cv):\n",
    "        weights.append(0)\n",
    "        \n",
    "    def mae_func(weights):\n",
    "        #final_prediction=0\n",
    "        for i in range(len(weights)):\n",
    "            if i==0:\n",
    "                final_prediction = weights[i]*pred[i]\n",
    "            else:\n",
    "                final_prediction += weights[i]*pred[i]\n",
    "        return mean_absolute_error(y, final_prediction)\n",
    "    res = minimize(mae_func, weights, method='Nelder-Mead')\n",
    "    weights_all.append(res['x'])\n",
    "        \n",
    "    "
   ]
  },
  {
   "cell_type": "code",
   "execution_count": 67,
   "id": "a54f39c1-1cdf-438f-ab82-bc073248e258",
   "metadata": {},
   "outputs": [
    {
     "data": {
      "text/plain": [
       "(6, 10)"
      ]
     },
     "execution_count": 67,
     "metadata": {},
     "output_type": "execute_result"
    }
   ],
   "source": [
    "np.shape(weights_all)"
   ]
  },
  {
   "cell_type": "code",
   "execution_count": 68,
   "id": "fbbb6b91-61b4-4a58-bd25-9e2fb238e765",
   "metadata": {},
   "outputs": [
    {
     "name": "stdout",
     "output_type": "stream",
     "text": [
      "[ 0.31991014 -0.0238613  -0.10940174 -0.19349788  0.07031025  0.23880206\n",
      "  0.00186802  0.37715865  0.09788769  0.22418375]\n",
      "[-0.06244564  0.09586822  0.37371852 -0.22258204  0.06510213  0.21254207\n",
      "  0.14458159  0.26435358  0.25844112 -0.12824824]\n",
      "[ 0.23057355 -0.04131105 -0.02482222  0.27681608  0.14429401  0.36054735\n",
      "  0.08135188 -0.10824421  0.11694401 -0.02939328]\n",
      "[ 0.48898097  0.22743608  0.32609225  0.1101067   0.10906726 -0.02270059\n",
      " -0.04484524 -0.24096601  0.06755364 -0.01755197]\n",
      "[-0.08591238 -0.0231156   0.24821044  0.42984388 -0.08387205 -0.06078966\n",
      "  0.29066019  0.04894939  0.16601354  0.07244438]\n",
      "[-0.02101669  0.40865147  0.35348165  0.21041043  0.01536501  0.05036303\n",
      " -0.1908781  -0.02696856  0.10860408  0.09457782]\n"
     ]
    }
   ],
   "source": [
    "for i in range(6):\n",
    "    print(weights_all[i])"
   ]
  },
  {
   "cell_type": "code",
   "execution_count": 45,
   "id": "d6a68dba-37fd-4a66-a09c-10a2eba53657",
   "metadata": {},
   "outputs": [],
   "source": [
    "to_drop_test = ['date','wd','forecast_time', 'forecast', \"forecast_dist\", 'wp']#+feature_corr\n",
    "def make_prediction_dataset(test, to_drop=to_drop_test):\n",
    "    test_to_predict = test.dropna(subset=['ws','u','v'], how = 'any') # keeps only lines with u,v,ws,wd\n",
    "    test_to_predict = test_to_predict[test_to_predict['wp'].isna()] # keeps only lines with no wp\n",
    "    test_to_predict = test_to_predict.sort_values(by=['date', 'forecast_time'], ascending = [True, False]).drop_duplicates(subset='date')\n",
    "    test_to_predict = test_to_predict.drop(to_drop, axis = 1)\n",
    "    return test_to_predict"
   ]
  },
  {
   "cell_type": "code",
   "execution_count": 46,
   "id": "7cb4d554-befd-4329-bae2-4a0bc37f0d7d",
   "metadata": {},
   "outputs": [],
   "source": [
    "lst_tests = []\n",
    "for test in [test_wp1, test_wp2, test_wp3, test_wp4, test_wp5, test_wp6]:\n",
    "    test = make_prediction_dataset(test)\n",
    "    lst_tests.append(test)"
   ]
  },
  {
   "cell_type": "code",
   "execution_count": 71,
   "id": "de2237cd-6edc-4476-a424-0b709e6a0532",
   "metadata": {},
   "outputs": [],
   "source": [
    "#lst_prediction=[]\n",
    "#for weights,model,test in zip(weights_all,lst_model,lst_tests):\n",
    "#    for i in range(cv):\n",
    "#        if i==0:\n",
    "#            y_pred=model[i].predict(test)*weights[i]\n",
    "#        else:\n",
    "#            y_pred+=model[i].predict(test)*weights[i]\n",
    "#    lst_prediction.append(y_pred)\n",
    "        "
   ]
  },
  {
   "cell_type": "code",
   "execution_count": 72,
   "id": "c4bc52d9-1700-4858-9444-068a72f7b6fd",
   "metadata": {},
   "outputs": [],
   "source": [
    "lst_final_prediction=[]\n",
    "for weights,model,test,x_train,y_train in zip(weights_all,lst_model,lst_tests,lst_X_trains_split,lst_Y_trains_split):\n",
    "    for i in range(cv):\n",
    "        clf=model[i]\n",
    "        clf.fit(x_train[0],y_train[0])\n",
    "        if i==0:\n",
    "            y_pred=clf.predict(test)*weights[i]\n",
    "        else:\n",
    "            y_pred+=clf.predict(test)*weights[i]\n",
    "    lst_final_prediction.append(y_pred)\n",
    "        "
   ]
  },
  {
   "cell_type": "code",
   "execution_count": 73,
   "id": "b9b4a433-d66b-4691-b2c2-0d4f4aae144f",
   "metadata": {},
   "outputs": [],
   "source": [
    "df_predictions = pd.DataFrame({\n",
    "        'date': test_dates,\n",
    "        'wp1': lst_final_prediction[0],\n",
    "        'wp2': lst_final_prediction[1],\n",
    "        'wp3': lst_final_prediction[2],\n",
    "        'wp4': lst_final_prediction[3],\n",
    "        'wp5': lst_final_prediction[4],\n",
    "        'wp6': lst_final_prediction[5],        \n",
    "    })"
   ]
  },
  {
   "cell_type": "code",
   "execution_count": 74,
   "id": "30f05146-63fb-45e5-98bc-7ac38a9cbdd5",
   "metadata": {},
   "outputs": [],
   "source": [
    "nb_sub = 1\n",
    "model = \"xxx-lgm_10models\"\n",
    "prepro = 'RobustScaler'\n",
    "postpro = \"Prediction limited by 0-1\""
   ]
  },
  {
   "cell_type": "code",
   "execution_count": 75,
   "id": "6af942d5-fb66-44cf-b893-c4fc178a0199",
   "metadata": {},
   "outputs": [
    {
     "data": {
      "text/html": [
       "<div>\n",
       "<style scoped>\n",
       "    .dataframe tbody tr th:only-of-type {\n",
       "        vertical-align: middle;\n",
       "    }\n",
       "\n",
       "    .dataframe tbody tr th {\n",
       "        vertical-align: top;\n",
       "    }\n",
       "\n",
       "    .dataframe thead th {\n",
       "        text-align: right;\n",
       "    }\n",
       "</style>\n",
       "<table border=\"1\" class=\"dataframe\">\n",
       "  <thead>\n",
       "    <tr style=\"text-align: right;\">\n",
       "      <th></th>\n",
       "      <th>date</th>\n",
       "      <th>wp1</th>\n",
       "      <th>wp2</th>\n",
       "      <th>wp3</th>\n",
       "      <th>wp4</th>\n",
       "      <th>wp5</th>\n",
       "      <th>wp6</th>\n",
       "    </tr>\n",
       "  </thead>\n",
       "  <tbody>\n",
       "    <tr>\n",
       "      <th>0</th>\n",
       "      <td>2011010101</td>\n",
       "      <td>0.727103</td>\n",
       "      <td>0.386094</td>\n",
       "      <td>0.060713</td>\n",
       "      <td>0.498558</td>\n",
       "      <td>0.721578</td>\n",
       "      <td>0.537591</td>\n",
       "    </tr>\n",
       "    <tr>\n",
       "      <th>1</th>\n",
       "      <td>2011010102</td>\n",
       "      <td>0.645368</td>\n",
       "      <td>0.391740</td>\n",
       "      <td>0.032693</td>\n",
       "      <td>0.457985</td>\n",
       "      <td>0.696621</td>\n",
       "      <td>0.594817</td>\n",
       "    </tr>\n",
       "    <tr>\n",
       "      <th>2</th>\n",
       "      <td>2011010103</td>\n",
       "      <td>0.591685</td>\n",
       "      <td>0.421102</td>\n",
       "      <td>0.092002</td>\n",
       "      <td>0.478924</td>\n",
       "      <td>0.701911</td>\n",
       "      <td>0.610174</td>\n",
       "    </tr>\n",
       "    <tr>\n",
       "      <th>3</th>\n",
       "      <td>2011010104</td>\n",
       "      <td>0.575016</td>\n",
       "      <td>0.364737</td>\n",
       "      <td>0.193376</td>\n",
       "      <td>0.519291</td>\n",
       "      <td>0.673011</td>\n",
       "      <td>0.642027</td>\n",
       "    </tr>\n",
       "    <tr>\n",
       "      <th>4</th>\n",
       "      <td>2011010105</td>\n",
       "      <td>0.688413</td>\n",
       "      <td>0.236107</td>\n",
       "      <td>0.325698</td>\n",
       "      <td>0.616210</td>\n",
       "      <td>0.702053</td>\n",
       "      <td>0.667779</td>\n",
       "    </tr>\n",
       "  </tbody>\n",
       "</table>\n",
       "</div>"
      ],
      "text/plain": [
       "         date       wp1       wp2       wp3       wp4       wp5       wp6\n",
       "0  2011010101  0.727103  0.386094  0.060713  0.498558  0.721578  0.537591\n",
       "1  2011010102  0.645368  0.391740  0.032693  0.457985  0.696621  0.594817\n",
       "2  2011010103  0.591685  0.421102  0.092002  0.478924  0.701911  0.610174\n",
       "3  2011010104  0.575016  0.364737  0.193376  0.519291  0.673011  0.642027\n",
       "4  2011010105  0.688413  0.236107  0.325698  0.616210  0.702053  0.667779"
      ]
     },
     "execution_count": 75,
     "metadata": {},
     "output_type": "execute_result"
    }
   ],
   "source": [
    "df_predictions.head()"
   ]
  },
  {
   "cell_type": "code",
   "execution_count": 76,
   "id": "877399db-73c5-453c-94b7-ac5ef7041abe",
   "metadata": {},
   "outputs": [],
   "source": [
    "# df_predictions.to_csv('Predictions/submission_nb_10_full_maxabs-lgbm-featselect.csv', index=False, sep=';')\n",
    "df_predictions.to_csv(f'Predictions/submission_nb_{nb_sub}_{model}.csv', index=False, sep=';')"
   ]
  },
  {
   "cell_type": "markdown",
   "id": "1b38f648-cd80-4519-b574-4f841615860e",
   "metadata": {},
   "source": [
    "# METHODE 2 - MV Train test split"
   ]
  },
  {
   "cell_type": "code",
   "execution_count": 15,
   "id": "b47ad612-2391-4e6c-a8ce-1449d82d0507",
   "metadata": {},
   "outputs": [],
   "source": [
    "from lightgbm import LGBMRegressor"
   ]
  },
  {
   "cell_type": "code",
   "execution_count": 17,
   "id": "047168eb-80e0-42cc-8b80-d64709205e8c",
   "metadata": {},
   "outputs": [],
   "source": [
    "from Functions.preprocessing import *"
   ]
  },
  {
   "cell_type": "code",
   "execution_count": 24,
   "id": "3ca3ab70-eac2-4515-80a8-372048142ee1",
   "metadata": {},
   "outputs": [],
   "source": [
    "lst_X1_train, lst_y1_train,lst_X1_test,lst_y1_test =  splitting_train_test_forecast(df_wp=train_wp1)"
   ]
  },
  {
   "cell_type": "code",
   "execution_count": 68,
   "id": "373c9208-e834-46be-9665-f07c9879a76f",
   "metadata": {},
   "outputs": [
    {
     "ename": "KeyError",
     "evalue": "\"['date' 'wd' 'forecast_time' 'forecast' 'forecast_dist'] not found in axis\"",
     "output_type": "error",
     "traceback": [
      "\u001b[1;31m---------------------------------------------------------------------------\u001b[0m",
      "\u001b[1;31mKeyError\u001b[0m                                  Traceback (most recent call last)",
      "\u001b[1;32m~\\AppData\\Local\\Temp/ipykernel_1624/3665171901.py\u001b[0m in \u001b[0;36m<module>\u001b[1;34m\u001b[0m\n\u001b[0;32m      1\u001b[0m \u001b[1;32mfor\u001b[0m \u001b[0mi\u001b[0m \u001b[1;32min\u001b[0m \u001b[0mrange\u001b[0m\u001b[1;33m(\u001b[0m\u001b[0mlen\u001b[0m\u001b[1;33m(\u001b[0m\u001b[0mlst_X1_train\u001b[0m\u001b[1;33m)\u001b[0m\u001b[1;33m)\u001b[0m\u001b[1;33m:\u001b[0m\u001b[1;33m\u001b[0m\u001b[1;33m\u001b[0m\u001b[0m\n\u001b[1;32m----> 2\u001b[1;33m     \u001b[0mlst_X1_train\u001b[0m\u001b[1;33m[\u001b[0m\u001b[0mi\u001b[0m\u001b[1;33m]\u001b[0m \u001b[1;33m=\u001b[0m \u001b[0mlst_X1_train\u001b[0m\u001b[1;33m[\u001b[0m\u001b[0mi\u001b[0m\u001b[1;33m]\u001b[0m\u001b[1;33m.\u001b[0m\u001b[0mdrop\u001b[0m\u001b[1;33m(\u001b[0m\u001b[0mto_drop\u001b[0m\u001b[1;33m,\u001b[0m\u001b[0maxis\u001b[0m\u001b[1;33m=\u001b[0m\u001b[1;36m1\u001b[0m\u001b[1;33m)\u001b[0m\u001b[1;33m\u001b[0m\u001b[1;33m\u001b[0m\u001b[0m\n\u001b[0m\u001b[0;32m      3\u001b[0m     \u001b[0mlst_X1_test\u001b[0m\u001b[1;33m[\u001b[0m\u001b[0mi\u001b[0m\u001b[1;33m]\u001b[0m \u001b[1;33m=\u001b[0m \u001b[0mlst_X1_test\u001b[0m\u001b[1;33m[\u001b[0m\u001b[0mi\u001b[0m\u001b[1;33m]\u001b[0m\u001b[1;33m.\u001b[0m\u001b[0mdrop\u001b[0m\u001b[1;33m(\u001b[0m\u001b[0mto_drop\u001b[0m\u001b[1;33m,\u001b[0m\u001b[0maxis\u001b[0m\u001b[1;33m=\u001b[0m\u001b[1;36m1\u001b[0m\u001b[1;33m)\u001b[0m\u001b[1;33m\u001b[0m\u001b[1;33m\u001b[0m\u001b[0m\n",
      "\u001b[1;32m~\\venv\\DataChallenge\\lib\\site-packages\\pandas\\util\\_decorators.py\u001b[0m in \u001b[0;36mwrapper\u001b[1;34m(*args, **kwargs)\u001b[0m\n\u001b[0;32m    309\u001b[0m                     \u001b[0mstacklevel\u001b[0m\u001b[1;33m=\u001b[0m\u001b[0mstacklevel\u001b[0m\u001b[1;33m,\u001b[0m\u001b[1;33m\u001b[0m\u001b[1;33m\u001b[0m\u001b[0m\n\u001b[0;32m    310\u001b[0m                 )\n\u001b[1;32m--> 311\u001b[1;33m             \u001b[1;32mreturn\u001b[0m \u001b[0mfunc\u001b[0m\u001b[1;33m(\u001b[0m\u001b[1;33m*\u001b[0m\u001b[0margs\u001b[0m\u001b[1;33m,\u001b[0m \u001b[1;33m**\u001b[0m\u001b[0mkwargs\u001b[0m\u001b[1;33m)\u001b[0m\u001b[1;33m\u001b[0m\u001b[1;33m\u001b[0m\u001b[0m\n\u001b[0m\u001b[0;32m    312\u001b[0m \u001b[1;33m\u001b[0m\u001b[0m\n\u001b[0;32m    313\u001b[0m         \u001b[1;32mreturn\u001b[0m \u001b[0mwrapper\u001b[0m\u001b[1;33m\u001b[0m\u001b[1;33m\u001b[0m\u001b[0m\n",
      "\u001b[1;32m~\\venv\\DataChallenge\\lib\\site-packages\\pandas\\core\\frame.py\u001b[0m in \u001b[0;36mdrop\u001b[1;34m(self, labels, axis, index, columns, level, inplace, errors)\u001b[0m\n\u001b[0;32m   4904\u001b[0m                 \u001b[0mweight\u001b[0m  \u001b[1;36m1.0\u001b[0m     \u001b[1;36m0.8\u001b[0m\u001b[1;33m\u001b[0m\u001b[1;33m\u001b[0m\u001b[0m\n\u001b[0;32m   4905\u001b[0m         \"\"\"\n\u001b[1;32m-> 4906\u001b[1;33m         return super().drop(\n\u001b[0m\u001b[0;32m   4907\u001b[0m             \u001b[0mlabels\u001b[0m\u001b[1;33m=\u001b[0m\u001b[0mlabels\u001b[0m\u001b[1;33m,\u001b[0m\u001b[1;33m\u001b[0m\u001b[1;33m\u001b[0m\u001b[0m\n\u001b[0;32m   4908\u001b[0m             \u001b[0maxis\u001b[0m\u001b[1;33m=\u001b[0m\u001b[0maxis\u001b[0m\u001b[1;33m,\u001b[0m\u001b[1;33m\u001b[0m\u001b[1;33m\u001b[0m\u001b[0m\n",
      "\u001b[1;32m~\\venv\\DataChallenge\\lib\\site-packages\\pandas\\core\\generic.py\u001b[0m in \u001b[0;36mdrop\u001b[1;34m(self, labels, axis, index, columns, level, inplace, errors)\u001b[0m\n\u001b[0;32m   4148\u001b[0m         \u001b[1;32mfor\u001b[0m \u001b[0maxis\u001b[0m\u001b[1;33m,\u001b[0m \u001b[0mlabels\u001b[0m \u001b[1;32min\u001b[0m \u001b[0maxes\u001b[0m\u001b[1;33m.\u001b[0m\u001b[0mitems\u001b[0m\u001b[1;33m(\u001b[0m\u001b[1;33m)\u001b[0m\u001b[1;33m:\u001b[0m\u001b[1;33m\u001b[0m\u001b[1;33m\u001b[0m\u001b[0m\n\u001b[0;32m   4149\u001b[0m             \u001b[1;32mif\u001b[0m \u001b[0mlabels\u001b[0m \u001b[1;32mis\u001b[0m \u001b[1;32mnot\u001b[0m \u001b[1;32mNone\u001b[0m\u001b[1;33m:\u001b[0m\u001b[1;33m\u001b[0m\u001b[1;33m\u001b[0m\u001b[0m\n\u001b[1;32m-> 4150\u001b[1;33m                 \u001b[0mobj\u001b[0m \u001b[1;33m=\u001b[0m \u001b[0mobj\u001b[0m\u001b[1;33m.\u001b[0m\u001b[0m_drop_axis\u001b[0m\u001b[1;33m(\u001b[0m\u001b[0mlabels\u001b[0m\u001b[1;33m,\u001b[0m \u001b[0maxis\u001b[0m\u001b[1;33m,\u001b[0m \u001b[0mlevel\u001b[0m\u001b[1;33m=\u001b[0m\u001b[0mlevel\u001b[0m\u001b[1;33m,\u001b[0m \u001b[0merrors\u001b[0m\u001b[1;33m=\u001b[0m\u001b[0merrors\u001b[0m\u001b[1;33m)\u001b[0m\u001b[1;33m\u001b[0m\u001b[1;33m\u001b[0m\u001b[0m\n\u001b[0m\u001b[0;32m   4151\u001b[0m \u001b[1;33m\u001b[0m\u001b[0m\n\u001b[0;32m   4152\u001b[0m         \u001b[1;32mif\u001b[0m \u001b[0minplace\u001b[0m\u001b[1;33m:\u001b[0m\u001b[1;33m\u001b[0m\u001b[1;33m\u001b[0m\u001b[0m\n",
      "\u001b[1;32m~\\venv\\DataChallenge\\lib\\site-packages\\pandas\\core\\generic.py\u001b[0m in \u001b[0;36m_drop_axis\u001b[1;34m(self, labels, axis, level, errors)\u001b[0m\n\u001b[0;32m   4183\u001b[0m                 \u001b[0mnew_axis\u001b[0m \u001b[1;33m=\u001b[0m \u001b[0maxis\u001b[0m\u001b[1;33m.\u001b[0m\u001b[0mdrop\u001b[0m\u001b[1;33m(\u001b[0m\u001b[0mlabels\u001b[0m\u001b[1;33m,\u001b[0m \u001b[0mlevel\u001b[0m\u001b[1;33m=\u001b[0m\u001b[0mlevel\u001b[0m\u001b[1;33m,\u001b[0m \u001b[0merrors\u001b[0m\u001b[1;33m=\u001b[0m\u001b[0merrors\u001b[0m\u001b[1;33m)\u001b[0m\u001b[1;33m\u001b[0m\u001b[1;33m\u001b[0m\u001b[0m\n\u001b[0;32m   4184\u001b[0m             \u001b[1;32melse\u001b[0m\u001b[1;33m:\u001b[0m\u001b[1;33m\u001b[0m\u001b[1;33m\u001b[0m\u001b[0m\n\u001b[1;32m-> 4185\u001b[1;33m                 \u001b[0mnew_axis\u001b[0m \u001b[1;33m=\u001b[0m \u001b[0maxis\u001b[0m\u001b[1;33m.\u001b[0m\u001b[0mdrop\u001b[0m\u001b[1;33m(\u001b[0m\u001b[0mlabels\u001b[0m\u001b[1;33m,\u001b[0m \u001b[0merrors\u001b[0m\u001b[1;33m=\u001b[0m\u001b[0merrors\u001b[0m\u001b[1;33m)\u001b[0m\u001b[1;33m\u001b[0m\u001b[1;33m\u001b[0m\u001b[0m\n\u001b[0m\u001b[0;32m   4186\u001b[0m             \u001b[0mresult\u001b[0m \u001b[1;33m=\u001b[0m \u001b[0mself\u001b[0m\u001b[1;33m.\u001b[0m\u001b[0mreindex\u001b[0m\u001b[1;33m(\u001b[0m\u001b[1;33m**\u001b[0m\u001b[1;33m{\u001b[0m\u001b[0maxis_name\u001b[0m\u001b[1;33m:\u001b[0m \u001b[0mnew_axis\u001b[0m\u001b[1;33m}\u001b[0m\u001b[1;33m)\u001b[0m\u001b[1;33m\u001b[0m\u001b[1;33m\u001b[0m\u001b[0m\n\u001b[0;32m   4187\u001b[0m \u001b[1;33m\u001b[0m\u001b[0m\n",
      "\u001b[1;32m~\\venv\\DataChallenge\\lib\\site-packages\\pandas\\core\\indexes\\base.py\u001b[0m in \u001b[0;36mdrop\u001b[1;34m(self, labels, errors)\u001b[0m\n\u001b[0;32m   6015\u001b[0m         \u001b[1;32mif\u001b[0m \u001b[0mmask\u001b[0m\u001b[1;33m.\u001b[0m\u001b[0many\u001b[0m\u001b[1;33m(\u001b[0m\u001b[1;33m)\u001b[0m\u001b[1;33m:\u001b[0m\u001b[1;33m\u001b[0m\u001b[1;33m\u001b[0m\u001b[0m\n\u001b[0;32m   6016\u001b[0m             \u001b[1;32mif\u001b[0m \u001b[0merrors\u001b[0m \u001b[1;33m!=\u001b[0m \u001b[1;34m\"ignore\"\u001b[0m\u001b[1;33m:\u001b[0m\u001b[1;33m\u001b[0m\u001b[1;33m\u001b[0m\u001b[0m\n\u001b[1;32m-> 6017\u001b[1;33m                 \u001b[1;32mraise\u001b[0m \u001b[0mKeyError\u001b[0m\u001b[1;33m(\u001b[0m\u001b[1;34mf\"{labels[mask]} not found in axis\"\u001b[0m\u001b[1;33m)\u001b[0m\u001b[1;33m\u001b[0m\u001b[1;33m\u001b[0m\u001b[0m\n\u001b[0m\u001b[0;32m   6018\u001b[0m             \u001b[0mindexer\u001b[0m \u001b[1;33m=\u001b[0m \u001b[0mindexer\u001b[0m\u001b[1;33m[\u001b[0m\u001b[1;33m~\u001b[0m\u001b[0mmask\u001b[0m\u001b[1;33m]\u001b[0m\u001b[1;33m\u001b[0m\u001b[1;33m\u001b[0m\u001b[0m\n\u001b[0;32m   6019\u001b[0m         \u001b[1;32mreturn\u001b[0m \u001b[0mself\u001b[0m\u001b[1;33m.\u001b[0m\u001b[0mdelete\u001b[0m\u001b[1;33m(\u001b[0m\u001b[0mindexer\u001b[0m\u001b[1;33m)\u001b[0m\u001b[1;33m\u001b[0m\u001b[1;33m\u001b[0m\u001b[0m\n",
      "\u001b[1;31mKeyError\u001b[0m: \"['date' 'wd' 'forecast_time' 'forecast' 'forecast_dist'] not found in axis\""
     ]
    }
   ],
   "source": [
    "for i in range(len(lst_X1_train)):\n",
    "    lst_X1_train[i] = lst_X1_train[i].drop(to_drop,axis=1)\n",
    "    lst_X1_test[i] = lst_X1_test[i].drop(to_drop,axis=1)"
   ]
  },
  {
   "cell_type": "code",
   "execution_count": 60,
   "id": "c5d463fc-f742-433e-97de-d4452ece105d",
   "metadata": {},
   "outputs": [],
   "source": [
    "lst_X = [X1, X2, X3, X4, X5, X6]\n",
    "lst_Y = [y1, y2, y3, y4, y5, y6]"
   ]
  },
  {
   "cell_type": "code",
   "execution_count": 61,
   "id": "f124902c-27c2-4c90-ae1c-ea729d3d28fd",
   "metadata": {},
   "outputs": [],
   "source": [
    "lst_X2_train, lst_y2_train,lst_X2_test,lst_y2_test =  splitting_train_test_forecast(df_wp=train_wp2)"
   ]
  },
  {
   "cell_type": "code",
   "execution_count": 69,
   "id": "56468f28-0b33-4256-a9b7-c7c7da5a2491",
   "metadata": {},
   "outputs": [],
   "source": [
    "for i in range(len(lst_X1_train)):\n",
    "    lst_X2_train[i] = lst_X2_train[i].drop(to_drop,axis=1)\n",
    "    lst_X2_test[i] = lst_X2_test[i].drop(to_drop,axis=1)"
   ]
  },
  {
   "cell_type": "code",
   "execution_count": 84,
   "id": "859c4c0a-afc6-43c3-92a4-384a209be34c",
   "metadata": {},
   "outputs": [],
   "source": [
    "lst_X3_train, lst_y3_train,lst_X3_test,lst_y3_test =  splitting_train_test_forecast(df_wp=train_wp3)"
   ]
  },
  {
   "cell_type": "code",
   "execution_count": 85,
   "id": "b44fe2be-de30-44b6-aa24-23b599613f11",
   "metadata": {},
   "outputs": [],
   "source": [
    "for i in range(len(lst_X3_train)):\n",
    "    lst_X3_train[i] = lst_X3_train[i].drop(to_drop,axis=1)\n",
    "    lst_X3_test[i] = lst_X3_test[i].drop(to_drop,axis=1)"
   ]
  },
  {
   "cell_type": "code",
   "execution_count": 63,
   "id": "ec9abe61-90ea-4f7d-98f6-e8f7797db151",
   "metadata": {},
   "outputs": [],
   "source": [
    "lst_X4_train, lst_y4_train,lst_X4_test,lst_y4_test =  splitting_train_test_forecast(df_wp=train_wp4)"
   ]
  },
  {
   "cell_type": "code",
   "execution_count": 73,
   "id": "e492b835-2aad-4ae2-9a61-dc4cd34cd96f",
   "metadata": {},
   "outputs": [],
   "source": [
    "for i in range(len(lst_X4_train)):\n",
    "    lst_X4_train[i] = lst_X4_train[i].drop(to_drop,axis=1)\n",
    "    lst_X4_test[i] = lst_X4_test[i].drop(to_drop,axis=1)"
   ]
  },
  {
   "cell_type": "code",
   "execution_count": 64,
   "id": "4a8e4faf-cea3-4e79-941d-be7f106601c4",
   "metadata": {},
   "outputs": [],
   "source": [
    "lst_X5_train, lst_y5_train,lst_X5_test,lst_y5_test =  splitting_train_test_forecast(df_wp=train_wp5)"
   ]
  },
  {
   "cell_type": "code",
   "execution_count": 74,
   "id": "9456c9f4-f04b-4179-9fe9-d524a3a79e48",
   "metadata": {},
   "outputs": [],
   "source": [
    "for i in range(len(lst_X5_train)):\n",
    "    lst_X5_train[i] = lst_X5_train[i].drop(to_drop,axis=1)\n",
    "    lst_X5_test[i] = lst_X5_test[i].drop(to_drop,axis=1)"
   ]
  },
  {
   "cell_type": "code",
   "execution_count": 65,
   "id": "b2570913-7dee-45fa-a3d6-61c09bfd4aaf",
   "metadata": {},
   "outputs": [],
   "source": [
    "lst_X6_train, lst_y6_train,lst_X6_test,lst_y6_test =  splitting_train_test_forecast(df_wp=train_wp6)"
   ]
  },
  {
   "cell_type": "code",
   "execution_count": 75,
   "id": "7d267e53-cdac-41eb-96c8-9da74f11fb22",
   "metadata": {},
   "outputs": [],
   "source": [
    "for i in range(len(lst_X6_train)):\n",
    "    lst_X6_train[i] = lst_X6_train[i].drop(to_drop,axis=1)\n",
    "    lst_X6_test[i] = lst_X6_test[i].drop(to_drop,axis=1)"
   ]
  },
  {
   "cell_type": "code",
   "execution_count": 66,
   "id": "998d59ec-812d-4cf7-ac08-a10dd7523d6c",
   "metadata": {},
   "outputs": [],
   "source": [
    "def create_lst_model(cv,n_estimators):\n",
    "    model_1=[]\n",
    "    model_2=[]\n",
    "    model_3=[]\n",
    "    model_4=[]\n",
    "    model_5=[]\n",
    "    model_6=[]\n",
    "    for i in range(cv):\n",
    "        model=Pipeline([('scaler', RobustScaler()),('ridge', LGBMRegressor(num_iterations=n_estimators,n_jobs=-1))])\n",
    "        model_1+=[model]\n",
    "        model_2+=[model]\n",
    "        model_3+=[model]\n",
    "        model_4+=[model]\n",
    "        model_5+=[model]\n",
    "        model_6+=[model]\n",
    "    return [model_1,model_2,model_3,model_4,model_5,model_6]"
   ]
  },
  {
   "cell_type": "code",
   "execution_count": 95,
   "id": "97bd81ef-e388-4612-8f30-87f2a647c76e",
   "metadata": {},
   "outputs": [],
   "source": [
    "lst_model = create_lst_model(cv=8,n_estimators=50)"
   ]
  },
  {
   "cell_type": "code",
   "execution_count": 96,
   "id": "b310e7c4-ab2d-4ae5-b122-f9fd5f9f3d6e",
   "metadata": {},
   "outputs": [],
   "source": [
    "lst_X_trains_split = [lst_X1_train,lst_X2_train,lst_X3_train,lst_X4_train,lst_X5_train,lst_X6_train]\n",
    "lst_Y_trains_split = [lst_y1_train,lst_y2_train,lst_y3_train,lst_y4_train,lst_y5_train,lst_y6_train]"
   ]
  },
  {
   "cell_type": "code",
   "execution_count": 97,
   "id": "33dfe7b6-578d-469e-a1fc-3200c1b59c3f",
   "metadata": {},
   "outputs": [
    {
     "name": "stdout",
     "output_type": "stream",
     "text": [
      "1\n",
      "2\n",
      "3\n",
      "4\n",
      "5\n",
      "6\n"
     ]
    }
   ],
   "source": [
    "lst_predictions_all=[]\n",
    "t=1\n",
    "for model,x_all,x,y in zip(lst_model,lst_X,lst_X_trains_split,lst_Y_trains_split):\n",
    "    lst_predictions=[]\n",
    "    print(t)\n",
    "    for i in range(8):\n",
    "        #print(t)\n",
    "        clf=model[i]\n",
    "        clf.fit(x[i],y[i])\n",
    "        lst_predictions.append(clf.predict(x_all))\n",
    "    lst_predictions_all.append(lst_predictions)\n",
    "    t+=1"
   ]
  },
  {
   "cell_type": "code",
   "execution_count": 98,
   "id": "324b09d2-28eb-4f38-b5e0-e57fc86d57d2",
   "metadata": {},
   "outputs": [],
   "source": [
    "weights_all=[]\n",
    "for pred,y in zip(lst_predictions_all,lst_Y):\n",
    "    weights=[]\n",
    "    for i in range(8):\n",
    "        weights.append(0)\n",
    "        \n",
    "    def mae_func(weights):\n",
    "        #final_prediction=0\n",
    "        for i in range(len(weights)):\n",
    "            if i==0:\n",
    "                final_prediction = weights[i]*pred[i]\n",
    "            else:\n",
    "                final_prediction += weights[i]*pred[i]\n",
    "        return mean_absolute_error(y, final_prediction)\n",
    "    res = minimize(mae_func, weights, method='Nelder-Mead')\n",
    "    weights_all.append(res['x'])\n",
    "        \n",
    "    "
   ]
  },
  {
   "cell_type": "code",
   "execution_count": 99,
   "id": "257c4e71-c3e3-4c18-ab70-7bc6a82d8db9",
   "metadata": {},
   "outputs": [],
   "source": [
    "lst_final_prediction=[]\n",
    "for weights,model,test,x_train,y_train in zip(weights_all,lst_model,lst_tests,lst_X_trains_split,lst_Y_trains_split):\n",
    "    for i in range(8):\n",
    "        clf=model[i]\n",
    "        clf.fit(x_train[i],y_train[i])\n",
    "        if i==0:\n",
    "            y_pred=clf.predict(test)*weights[i]\n",
    "        else:\n",
    "            y_pred+=clf.predict(test)*weights[i]\n",
    "    lst_final_prediction.append(y_pred)\n",
    "        "
   ]
  },
  {
   "cell_type": "code",
   "execution_count": 100,
   "id": "c5b79102-1550-4180-9ca1-3110f8391a91",
   "metadata": {},
   "outputs": [],
   "source": [
    "df_predictions = pd.DataFrame({\n",
    "        'date': test_dates,\n",
    "        'wp1': lst_final_prediction[0],\n",
    "        'wp2': lst_final_prediction[1],\n",
    "        'wp3': lst_final_prediction[2],\n",
    "        'wp4': lst_final_prediction[3],\n",
    "        'wp5': lst_final_prediction[4],\n",
    "        'wp6': lst_final_prediction[5],        \n",
    "    })"
   ]
  },
  {
   "cell_type": "code",
   "execution_count": 101,
   "id": "f7e7b09f-aea0-42cd-8fa7-e588bee12760",
   "metadata": {},
   "outputs": [],
   "source": [
    "nb_sub = 3\n",
    "model = \"xxx-lgm_10models\"\n",
    "prepro = 'RobustScaler'\n",
    "postpro = \"Prediction limited by 0-1\""
   ]
  },
  {
   "cell_type": "code",
   "execution_count": 102,
   "id": "0589296c-913e-4f8b-b726-0994e95a3971",
   "metadata": {},
   "outputs": [],
   "source": [
    "# df_predictions.to_csv('Predictions/submission_nb_10_full_maxabs-lgbm-featselect.csv', index=False, sep=';')\n",
    "df_predictions.to_csv(f'Predictions/submission_nb_{nb_sub}_{model}.csv', index=False, sep=';')"
   ]
  },
  {
   "cell_type": "markdown",
   "id": "240aad19-d992-4e34-b44d-c2b94efc6c5d",
   "metadata": {
    "jp-MarkdownHeadingCollapsed": true,
    "tags": []
   },
   "source": [
    "# test on WP1"
   ]
  },
  {
   "cell_type": "code",
   "execution_count": 25,
   "id": "f215a4e9-967d-44a4-9a98-a62f2640a502",
   "metadata": {},
   "outputs": [
    {
     "data": {
      "text/plain": [
       "(22464, 292)"
      ]
     },
     "execution_count": 25,
     "metadata": {},
     "output_type": "execute_result"
    }
   ],
   "source": [
    "np.shape(lst_X1_train[0])"
   ]
  },
  {
   "cell_type": "code",
   "execution_count": 29,
   "id": "f2b2294a-5ba9-4ff8-a447-83909d82ee5f",
   "metadata": {},
   "outputs": [],
   "source": [
    "for i in range(len(lst_X1_train)):\n",
    "    lst_X1_train[i] = lst_X1_train[i].drop(to_drop,axis=1)\n",
    "    lst_X1_test[i] = lst_X1_test[i].drop(to_drop,axis=1)"
   ]
  },
  {
   "cell_type": "code",
   "execution_count": 30,
   "id": "9a6a9d9e-a0f8-4817-83d2-bf707b15ec5c",
   "metadata": {},
   "outputs": [
    {
     "data": {
      "text/plain": [
       "(22464, 287)"
      ]
     },
     "execution_count": 30,
     "metadata": {},
     "output_type": "execute_result"
    }
   ],
   "source": [
    "np.shape(lst_X1_train[0])"
   ]
  },
  {
   "cell_type": "code",
   "execution_count": 39,
   "id": "9f67d852-a622-4b3c-9152-02438b664095",
   "metadata": {},
   "outputs": [],
   "source": [
    "lst_model=[]\n",
    "for i in range(8):\n",
    "    model=Pipeline([('scaler', RobustScaler()),('ridge', LGBMRegressor(num_iterations=50,n_jobs=-1))])\n",
    "    lst_model.append(model)"
   ]
  },
  {
   "cell_type": "code",
   "execution_count": 40,
   "id": "0f83f371-7327-479a-a795-07c563887cea",
   "metadata": {},
   "outputs": [
    {
     "name": "stdout",
     "output_type": "stream",
     "text": [
      "Pipeline(steps=[('scaler', RobustScaler()),\n",
      "                ('ridge', LGBMRegressor(num_iterations=50))])\n",
      "Pipeline(steps=[('scaler', RobustScaler()),\n",
      "                ('ridge', LGBMRegressor(num_iterations=50))])\n",
      "Pipeline(steps=[('scaler', RobustScaler()),\n",
      "                ('ridge', LGBMRegressor(num_iterations=50))])\n",
      "Pipeline(steps=[('scaler', RobustScaler()),\n",
      "                ('ridge', LGBMRegressor(num_iterations=50))])\n",
      "Pipeline(steps=[('scaler', RobustScaler()),\n",
      "                ('ridge', LGBMRegressor(num_iterations=50))])\n",
      "Pipeline(steps=[('scaler', RobustScaler()),\n",
      "                ('ridge', LGBMRegressor(num_iterations=50))])\n",
      "Pipeline(steps=[('scaler', RobustScaler()),\n",
      "                ('ridge', LGBMRegressor(num_iterations=50))])\n",
      "Pipeline(steps=[('scaler', RobustScaler()),\n",
      "                ('ridge', LGBMRegressor(num_iterations=50))])\n"
     ]
    }
   ],
   "source": [
    "for model in lst_model:\n",
    "    print(model)"
   ]
  },
  {
   "cell_type": "code",
   "execution_count": 49,
   "id": "7f936d24-290a-4d6e-bd16-d3547583b372",
   "metadata": {},
   "outputs": [],
   "source": [
    "lst_predictions_train=[]\n",
    "lst_predictions_test=[]\n",
    "for model,x,y in zip(lst_model,lst_X1_train,lst_y1_train):\n",
    "    model.fit(x,y)\n",
    "    lst_predictions_train.append(model.predict(X1))\n",
    "    lst_predictions_test.append(model.predict(X_test))"
   ]
  },
  {
   "cell_type": "code",
   "execution_count": 44,
   "id": "2e6aeddf-7d8c-4b5d-8791-37f56baac289",
   "metadata": {},
   "outputs": [
    {
     "name": "stdout",
     "output_type": "stream",
     "text": [
      "[ 0.15228283  0.28953147 -0.04358191  0.27913313  0.14975101 -0.00208192\n",
      "  0.03742032  0.1615039 ]\n"
     ]
    }
   ],
   "source": [
    "weights=[]\n",
    "for i in range(8):\n",
    "    weights.append(0)\n",
    "        \n",
    "def mae_func(weights):\n",
    "    for i in range(len(weights)):\n",
    "        if i==0:\n",
    "            final_prediction = weights[i]*lst_predictions_vrai[i]\n",
    "        else:\n",
    "            final_prediction += weights[i]*lst_predictions_vrai[i]\n",
    "    return mean_absolute_error(y1, final_prediction)\n",
    "res = minimize(mae_func, weights, method='Nelder-Mead')\n",
    "print(res['x'])\n",
    "        \n",
    "    "
   ]
  },
  {
   "cell_type": "code",
   "execution_count": 47,
   "id": "fc057d68-d675-4998-9dc5-07791d57c5ec",
   "metadata": {},
   "outputs": [
    {
     "data": {
      "text/html": [
       "<div>\n",
       "<style scoped>\n",
       "    .dataframe tbody tr th:only-of-type {\n",
       "        vertical-align: middle;\n",
       "    }\n",
       "\n",
       "    .dataframe tbody tr th {\n",
       "        vertical-align: top;\n",
       "    }\n",
       "\n",
       "    .dataframe thead th {\n",
       "        text-align: right;\n",
       "    }\n",
       "</style>\n",
       "<table border=\"1\" class=\"dataframe\">\n",
       "  <thead>\n",
       "    <tr style=\"text-align: right;\">\n",
       "      <th></th>\n",
       "      <th>u</th>\n",
       "      <th>v</th>\n",
       "      <th>ws</th>\n",
       "      <th>cos_hour</th>\n",
       "      <th>sin_hour</th>\n",
       "      <th>cos_day</th>\n",
       "      <th>sin_day</th>\n",
       "      <th>cos_month</th>\n",
       "      <th>sin_month</th>\n",
       "      <th>cos_wd</th>\n",
       "      <th>...</th>\n",
       "      <th>v_T_24_max</th>\n",
       "      <th>v_T_36_max</th>\n",
       "      <th>v_T_2_min</th>\n",
       "      <th>v_T_3_min</th>\n",
       "      <th>v_T_4_min</th>\n",
       "      <th>v_T_5_min</th>\n",
       "      <th>v_T_6_min</th>\n",
       "      <th>v_T_12_min</th>\n",
       "      <th>v_T_24_min</th>\n",
       "      <th>v_T_36_min</th>\n",
       "    </tr>\n",
       "  </thead>\n",
       "  <tbody>\n",
       "    <tr>\n",
       "      <th>216</th>\n",
       "      <td>2.27</td>\n",
       "      <td>7.04</td>\n",
       "      <td>2.720294</td>\n",
       "      <td>0.965926</td>\n",
       "      <td>0.258819</td>\n",
       "      <td>0.999852</td>\n",
       "      <td>0.017213</td>\n",
       "      <td>0.866025</td>\n",
       "      <td>0.5</td>\n",
       "      <td>0.951862</td>\n",
       "      <td>...</td>\n",
       "      <td>9.1</td>\n",
       "      <td>9.1</td>\n",
       "      <td>7.04</td>\n",
       "      <td>7.04</td>\n",
       "      <td>7.04</td>\n",
       "      <td>7.04</td>\n",
       "      <td>7.04</td>\n",
       "      <td>7.04</td>\n",
       "      <td>7.04</td>\n",
       "      <td>7.04</td>\n",
       "    </tr>\n",
       "    <tr>\n",
       "      <th>217</th>\n",
       "      <td>1.95</td>\n",
       "      <td>6.93</td>\n",
       "      <td>2.681418</td>\n",
       "      <td>0.866025</td>\n",
       "      <td>0.500000</td>\n",
       "      <td>0.999852</td>\n",
       "      <td>0.017213</td>\n",
       "      <td>0.866025</td>\n",
       "      <td>0.5</td>\n",
       "      <td>0.962739</td>\n",
       "      <td>...</td>\n",
       "      <td>9.1</td>\n",
       "      <td>9.1</td>\n",
       "      <td>6.93</td>\n",
       "      <td>6.93</td>\n",
       "      <td>6.93</td>\n",
       "      <td>6.93</td>\n",
       "      <td>6.93</td>\n",
       "      <td>6.93</td>\n",
       "      <td>6.93</td>\n",
       "      <td>6.93</td>\n",
       "    </tr>\n",
       "    <tr>\n",
       "      <th>218</th>\n",
       "      <td>1.49</td>\n",
       "      <td>7.09</td>\n",
       "      <td>2.690725</td>\n",
       "      <td>0.707107</td>\n",
       "      <td>0.707107</td>\n",
       "      <td>0.999852</td>\n",
       "      <td>0.017213</td>\n",
       "      <td>0.866025</td>\n",
       "      <td>0.5</td>\n",
       "      <td>0.978617</td>\n",
       "      <td>...</td>\n",
       "      <td>9.1</td>\n",
       "      <td>9.1</td>\n",
       "      <td>6.93</td>\n",
       "      <td>6.93</td>\n",
       "      <td>6.93</td>\n",
       "      <td>6.93</td>\n",
       "      <td>6.93</td>\n",
       "      <td>6.93</td>\n",
       "      <td>6.93</td>\n",
       "      <td>6.93</td>\n",
       "    </tr>\n",
       "    <tr>\n",
       "      <th>219</th>\n",
       "      <td>0.95</td>\n",
       "      <td>7.43</td>\n",
       "      <td>2.738613</td>\n",
       "      <td>0.500000</td>\n",
       "      <td>0.866025</td>\n",
       "      <td>0.999852</td>\n",
       "      <td>0.017213</td>\n",
       "      <td>0.866025</td>\n",
       "      <td>0.5</td>\n",
       "      <td>0.991961</td>\n",
       "      <td>...</td>\n",
       "      <td>9.1</td>\n",
       "      <td>9.1</td>\n",
       "      <td>7.09</td>\n",
       "      <td>6.93</td>\n",
       "      <td>6.93</td>\n",
       "      <td>6.93</td>\n",
       "      <td>6.93</td>\n",
       "      <td>6.93</td>\n",
       "      <td>6.93</td>\n",
       "      <td>6.93</td>\n",
       "    </tr>\n",
       "    <tr>\n",
       "      <th>220</th>\n",
       "      <td>0.37</td>\n",
       "      <td>7.84</td>\n",
       "      <td>2.801785</td>\n",
       "      <td>0.258819</td>\n",
       "      <td>0.965926</td>\n",
       "      <td>0.999852</td>\n",
       "      <td>0.017213</td>\n",
       "      <td>0.866025</td>\n",
       "      <td>0.5</td>\n",
       "      <td>0.998914</td>\n",
       "      <td>...</td>\n",
       "      <td>9.1</td>\n",
       "      <td>9.1</td>\n",
       "      <td>7.43</td>\n",
       "      <td>7.09</td>\n",
       "      <td>6.93</td>\n",
       "      <td>6.93</td>\n",
       "      <td>6.93</td>\n",
       "      <td>6.93</td>\n",
       "      <td>6.93</td>\n",
       "      <td>6.93</td>\n",
       "    </tr>\n",
       "  </tbody>\n",
       "</table>\n",
       "<p>5 rows × 287 columns</p>\n",
       "</div>"
      ],
      "text/plain": [
       "        u     v        ws  cos_hour  sin_hour   cos_day   sin_day  cos_month  \\\n",
       "216  2.27  7.04  2.720294  0.965926  0.258819  0.999852  0.017213   0.866025   \n",
       "217  1.95  6.93  2.681418  0.866025  0.500000  0.999852  0.017213   0.866025   \n",
       "218  1.49  7.09  2.690725  0.707107  0.707107  0.999852  0.017213   0.866025   \n",
       "219  0.95  7.43  2.738613  0.500000  0.866025  0.999852  0.017213   0.866025   \n",
       "220  0.37  7.84  2.801785  0.258819  0.965926  0.999852  0.017213   0.866025   \n",
       "\n",
       "     sin_month    cos_wd  ...  v_T_24_max  v_T_36_max  v_T_2_min  v_T_3_min  \\\n",
       "216        0.5  0.951862  ...         9.1         9.1       7.04       7.04   \n",
       "217        0.5  0.962739  ...         9.1         9.1       6.93       6.93   \n",
       "218        0.5  0.978617  ...         9.1         9.1       6.93       6.93   \n",
       "219        0.5  0.991961  ...         9.1         9.1       7.09       6.93   \n",
       "220        0.5  0.998914  ...         9.1         9.1       7.43       7.09   \n",
       "\n",
       "     v_T_4_min  v_T_5_min  v_T_6_min  v_T_12_min  v_T_24_min  v_T_36_min  \n",
       "216       7.04       7.04       7.04        7.04        7.04        7.04  \n",
       "217       6.93       6.93       6.93        6.93        6.93        6.93  \n",
       "218       6.93       6.93       6.93        6.93        6.93        6.93  \n",
       "219       6.93       6.93       6.93        6.93        6.93        6.93  \n",
       "220       6.93       6.93       6.93        6.93        6.93        6.93  \n",
       "\n",
       "[5 rows x 287 columns]"
      ]
     },
     "execution_count": 47,
     "metadata": {},
     "output_type": "execute_result"
    }
   ],
   "source": [
    "X_test = lst_tests[0]\n",
    "X_test.head()"
   ]
  },
  {
   "cell_type": "code",
   "execution_count": 50,
   "id": "eb4eccf6-f14a-4b6c-a4f3-7759626d1fa3",
   "metadata": {},
   "outputs": [],
   "source": [
    "for i in range(8):\n",
    "    if i==0:\n",
    "        prediction = res['x'][i]*lst_predictions_test[i]\n",
    "    else:\n",
    "        prediction += res['x'][i]*lst_predictions_test[i]"
   ]
  },
  {
   "cell_type": "code",
   "execution_count": 51,
   "id": "61bad483-f42f-4199-9aa6-e1c8ac04f3dc",
   "metadata": {},
   "outputs": [],
   "source": [
    "df_predictions = pd.DataFrame({\n",
    "        'date': test_dates,\n",
    "        'wp1': prediction,        \n",
    "    })"
   ]
  },
  {
   "cell_type": "code",
   "execution_count": 54,
   "id": "598deaad-121a-476c-904a-5c3f95477581",
   "metadata": {},
   "outputs": [],
   "source": [
    "df_predictions.to_csv('blablabla.csv', index=False, sep=';')"
   ]
  },
  {
   "cell_type": "code",
   "execution_count": null,
   "id": "ac4a1b28-5ec6-4616-8e11-5cdf31a23620",
   "metadata": {},
   "outputs": [],
   "source": []
  }
 ],
 "metadata": {
  "kernelspec": {
   "display_name": "Python 3 (ipykernel)",
   "language": "python",
   "name": "python3"
  },
  "language_info": {
   "codemirror_mode": {
    "name": "ipython",
    "version": 3
   },
   "file_extension": ".py",
   "mimetype": "text/x-python",
   "name": "python",
   "nbconvert_exporter": "python",
   "pygments_lexer": "ipython3",
   "version": "3.9.7"
  }
 },
 "nbformat": 4,
 "nbformat_minor": 5
}
