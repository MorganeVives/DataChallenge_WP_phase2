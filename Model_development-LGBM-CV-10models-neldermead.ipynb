{
 "cells": [
  {
   "cell_type": "markdown",
   "id": "261ec557-50a0-4cd6-8bec-268d1dee685a",
   "metadata": {},
   "source": [
    "# LGBM Model development - CV one model per fold - optim NelderMead"
   ]
  },
  {
   "cell_type": "code",
   "execution_count": 1,
   "id": "1399bb0f-0234-43a6-b724-73f21f9b28b7",
   "metadata": {},
   "outputs": [],
   "source": [
    "import pandas as pd\n",
    "import seaborn as sns\n",
    "import openpyxl\n",
    "from datetime import datetime, timedelta\n",
    "import matplotlib.pyplot as plt\n",
    "import numpy as np\n",
    "import os\n",
    "import pickle\n",
    "import time"
   ]
  },
  {
   "cell_type": "code",
   "execution_count": 2,
   "id": "9a662ef3-a957-41fe-955d-1c5e99709226",
   "metadata": {},
   "outputs": [],
   "source": [
    "from sklearn.model_selection import KFold, train_test_split, cross_val_score\n",
    "from sklearn.preprocessing import MinMaxScaler, StandardScaler, MaxAbsScaler, RobustScaler\n",
    "from sklearn.pipeline import Pipeline\n",
    "from sklearn.metrics import mean_squared_error, mean_absolute_error\n",
    "import optuna\n",
    "from vmdpy import VMD"
   ]
  },
  {
   "cell_type": "code",
   "execution_count": 3,
   "id": "f54f8406-f577-4449-8edb-631854c78d48",
   "metadata": {},
   "outputs": [],
   "source": [
    "from scipy.optimize import minimize"
   ]
  },
  {
   "cell_type": "code",
   "execution_count": 4,
   "id": "0bc7dfff-4363-41ad-bfd2-5e5dd7c0ef63",
   "metadata": {},
   "outputs": [],
   "source": [
    "from Functions.helper_functions import * "
   ]
  },
  {
   "cell_type": "code",
   "execution_count": 5,
   "id": "3c184629-3914-4a2c-ba3f-5f111909f344",
   "metadata": {},
   "outputs": [],
   "source": [
    "import warnings\n",
    "warnings.filterwarnings(action='ignore', category=UserWarning)\n",
    "pd.options.mode.chained_assignment = None  # default='warn'"
   ]
  },
  {
   "cell_type": "code",
   "execution_count": 6,
   "id": "6333588b-f1b0-4a5b-afea-e53064be0d99",
   "metadata": {},
   "outputs": [],
   "source": [
    "np.random.seed(42)"
   ]
  },
  {
   "cell_type": "markdown",
   "id": "b617c0f5-e679-4a3f-9a62-12e03303d11f",
   "metadata": {},
   "source": [
    "# Data"
   ]
  },
  {
   "cell_type": "code",
   "execution_count": 7,
   "id": "c4d3258c-6931-447d-84b7-ac52ed05673a",
   "metadata": {},
   "outputs": [],
   "source": [
    "train_wp1 = pd.read_csv('Data/Preprocessing/WP1_train_preprocessed.csv', sep=',')\n",
    "train_wp2 = pd.read_csv('Data/Preprocessing/WP2_train_preprocessed.csv', sep=',')\n",
    "train_wp3 = pd.read_csv('Data/Preprocessing/WP3_train_preprocessed.csv', sep=',')\n",
    "train_wp4 = pd.read_csv('Data/Preprocessing/WP4_train_preprocessed.csv', sep=',')\n",
    "train_wp5 = pd.read_csv('Data/Preprocessing/WP5_train_preprocessed.csv', sep=',')\n",
    "train_wp6 = pd.read_csv('Data/Preprocessing/WP6_train_preprocessed.csv', sep=',')"
   ]
  },
  {
   "cell_type": "code",
   "execution_count": 8,
   "id": "69f752d4-63ed-43b9-9315-41ecaa114ce4",
   "metadata": {},
   "outputs": [],
   "source": [
    "test_wp1 = pd.read_csv('Data/Preprocessing/WP1_test_preprocessed.csv', sep=',')\n",
    "test_wp2 = pd.read_csv('Data/Preprocessing/WP2_test_preprocessed.csv', sep=',')\n",
    "test_wp3 = pd.read_csv('Data/Preprocessing/WP3_test_preprocessed.csv', sep=',')\n",
    "test_wp4 = pd.read_csv('Data/Preprocessing/WP4_test_preprocessed.csv', sep=',')\n",
    "test_wp5 = pd.read_csv('Data/Preprocessing/WP5_test_preprocessed.csv', sep=',')\n",
    "test_wp6 = pd.read_csv('Data/Preprocessing/WP6_test_preprocessed.csv', sep=',')\n",
    "test_dates = pd.read_csv('Data/Initial/test.csv', sep=',').date.values"
   ]
  },
  {
   "cell_type": "code",
   "execution_count": 166,
   "id": "7540aa92-fc5e-4431-8e79-faba9f0cecad",
   "metadata": {},
   "outputs": [],
   "source": [
    "to_drop = ['date','wd','forecast_time', 'forecast', \"forecast_dist\"]"
   ]
  },
  {
   "cell_type": "code",
   "execution_count": 167,
   "id": "b0be88be-a88e-4777-a80f-66d64c4d0089",
   "metadata": {
    "tags": []
   },
   "outputs": [],
   "source": [
    "u_to_drop = [\n",
    "    'u_T_1', 'u_T_2', 'u_T_3', 'u_T_4', 'u_T_5', 'u_T_6', \n",
    "    'u_T_2_mean', 'u_T_3_mean', 'u_T_4_mean', 'u_T_5_mean', 'u_T_6_mean', 'u_T_7_mean',\n",
    "    'u_T_8_mean', 'u_T_9_mean', 'u_T_10_mean', 'u_T_11_mean', 'u_T_12_mean','u_T_24_mean',\n",
    "    'u_T_2_std', 'u_T_4_std', 'u_T_5_std', 'u_T_6_std',\n",
    "    'u_T_2_median', 'u_T_3_median', 'u_T_4_median', 'u_T_5_median', 'u_T_6_median', 'u_T_12_median','u_T_24_median', 'u_T_36_median',\n",
    "    'u_T_2_max', 'u_T_3_max', 'u_T_4_max', 'u_T_5_max', 'u_T_6_max', 'u_T_12_max',\n",
    "    'u_T_2_min', 'u_T_3_min', 'u_T_4_min', 'u_T_5_min', 'u_T_6_min', 'u_T_12_min',\n",
    "    'u2_T_1', 'u2_T_2', 'u2_T_3', 'u2_T_4', 'u2_T_5', 'u2_T_6', \n",
    "    'u2_T_2_mean', 'u2_T_3_mean', 'u2_T_4_mean', 'u2_T_5_mean', 'u2_T_6_mean', 'u2_T_7_mean',\n",
    "    'u2_T_8_mean', 'u2_T_9_mean', 'u2_T_10_mean', 'u2_T_11_mean', 'u2_T_12_mean','u2_T_24_mean',\n",
    "    'u2_T_2_std', 'u2_T_4_std', 'u2_T_5_std', 'u2_T_6_std', 'u2_T_24_std',\n",
    "    'u2_T_2_median', 'u2_T_3_median', 'u2_T_4_median', 'u2_T_5_median', 'u2_T_6_median', 'u2_T_12_median',\n",
    "    'u2_T_2_max','u2_T_3_max', 'u2_T_4_max','u2_T_5_max', 'u2_T_6_max', 'u2_T_12_max',\n",
    "    'u2_T_2_min', 'u2_T_3_min', 'u2_T_4_min', 'u2_T_5_min', 'u2_T_6_min',\n",
    "    'u2_T_12', 'u2_T_36_mean', 'u2_T_36_std', 'u2_T_24_median', 'u2_T_24_max',\n",
    "    'u_T_36_mean','u_T_12','u_T_24_max','u2_T_36_median','u_T_24_min'\n",
    "]\n",
    "ws_to_drop = [\n",
    "    'ws_T_1', 'ws_T_2', 'ws_T_3', 'ws_T_4', 'ws_T_5', 'ws_T_6', 'ws_T_7', 'ws_T_8', 'ws_T_10','ws_T_11', 'ws_T_12',\n",
    "    'ws_T_2_mean', 'ws_T_3_mean', 'ws_T_4_mean', 'ws_T_5_mean', 'ws_T_6_mean', 'ws_T_7_mean', 'ws_T_8_mean', 'ws_T_9_mean', \n",
    "    'ws_T_10_mean', 'ws_T_11_mean', 'ws_T_12_mean', 'ws_T_24_mean', \n",
    "    'ws_T_2_std', 'ws_T_3_std', 'ws_T_4_std', 'ws_T_5_std', \n",
    "    'ws_T_2_median', 'ws_T_3_median', 'ws_T_4_median', 'ws_T_5_median', 'ws_T_6_median',\n",
    "    'ws_T_12_median', 'ws_T_24_median', 'ws_T_36_median',\n",
    "    'ws_T_2_max', 'ws_T_3_max', 'ws_T_4_max', 'ws_T_5_max','ws_T_6_max', 'ws_T_12_max',\n",
    "     'ws_T_2_min', 'ws_T_3_min', 'ws_T_4_min', 'ws_T_5_min', 'ws_T_6_min', 'ws_T_12_min','ws_T_24_max','ws_T_24_min'\n",
    "]\n",
    "\n",
    "v_to_drop = [\n",
    "    'v_T_1', 'v_T_2', 'v_T_3', 'v_T_4', 'v_T_5', 'v_T_6', \n",
    "    'v_T_2_mean', 'v_T_3_mean', 'v_T_4_mean', 'v_T_5_mean', 'v_T_6_mean', 'v_T_7_mean',\n",
    "    'v_T_8_mean', 'v_T_9_mean', 'v_T_10_mean', 'v_T_11_mean', 'v_T_12_mean', 'v_T_24_mean','v_T_36_mean',\n",
    "    'v_T_3_std', 'v_T_4_std', 'v_T_5_std','v_T_6_std','v_T_24_std', 'v_T_36_median',\n",
    "    'v_T_2_median', 'v_T_3_median', 'v_T_4_median', 'v_T_5_median', 'v_T_6_median', \n",
    "    'v_T_2_max', 'v_T_3_max', 'v_T_4_max', 'v_T_5_max', 'v_T_6_max', 'v_T_12_max', \n",
    "    'v_T_2_min', 'v_T_3_min', 'v_T_4_min', 'v_T_5_min', 'v_T_6_min', 'v_T_12_min', \n",
    "    'v_T_36_min', 'v_T_36', 'v_T_24_max',  'v_T_12_median', 'v_T_24_median',\n",
    "]\n",
    "\n",
    "wd_to_drop = [\n",
    "    'coswd_1', 'coswd_2', 'coswd_3', 'coswd_4', 'coswd_5', 'coswd_6',\n",
    "    'coswd_2_mean', 'coswd_3_mean', 'coswd_4_mean', 'coswd_5_mean', 'coswd_6_mean', 'coswd_7_mean', \n",
    "    'coswd_8_mean', 'coswd_9_mean', 'coswd_10_mean', 'coswd_11_mean', 'coswd_12_mean', 'coswd_24_mean', \n",
    "    'coswd_3_std', 'coswd_4_std','coswd_5_std','coswd_2_median', 'coswd_3_median','coswd_4_median', \n",
    "    'coswd_5_median', 'coswd_6_median', 'coswd_36_median', 'coswd_24_median', 'coswd_12_median',\n",
    "    'coswd_2_max', 'coswd_3_max', 'coswd_4_max', 'coswd_5_max', 'coswd_6_max', 'coswd_12_max', 'coswd_24_max',\n",
    "    'coswd_2_min', 'coswd_3_min', 'coswd_4_min', 'coswd_5_min', 'coswd_6_min', 'coswd_12_min', 'coswd_24_min',\n",
    "    'ws_T_36_max', 'ws_T_36_min', 'coswd_12', 'coswd_24'\n",
    "]\n",
    "\n",
    "other_to_drop = [\n",
    "    'cos_day', 'u', 'v'\n",
    "]\n",
    "\n",
    "feature_corr = u_to_drop+ws_to_drop+v_to_drop+wd_to_drop+other_to_drop\n",
    "#to_drop = to_drop+feature_corr"
   ]
  },
  {
   "cell_type": "markdown",
   "id": "d0204367-344e-4837-9d27-c07833112862",
   "metadata": {},
   "source": [
    "# LGBM functions"
   ]
  },
  {
   "cell_type": "code",
   "execution_count": 141,
   "id": "df77bdff-aa3c-42cd-91a2-4ecb5bffdead",
   "metadata": {
    "tags": []
   },
   "outputs": [],
   "source": [
    "from lightgbm import LGBMRegressor"
   ]
  },
  {
   "cell_type": "code",
   "execution_count": 142,
   "id": "06b25086-f413-4305-a2a3-ca3de93887f1",
   "metadata": {},
   "outputs": [],
   "source": [
    "def create_dataset(data,n,split):\n",
    "    n_batch=int(len(data)/84)\n",
    "    new_data=np.array_split(data,n_batch)\n",
    "    train = pd.DataFrame()\n",
    "    val=pd.DataFrame()\n",
    "    for i in range(n_batch):\n",
    "        if (i+n)%split ==0:\n",
    "            val = pd.concat([val,new_data[i]])\n",
    "        else:\n",
    "            train=pd.concat([train,new_data[i]])\n",
    "    return train,val"
   ]
  },
  {
   "cell_type": "code",
   "execution_count": 143,
   "id": "71b925ab-bed2-43ee-9ea5-514ba40b9f0d",
   "metadata": {},
   "outputs": [],
   "source": [
    "def create_lst_dataset(x,y,cv):\n",
    "    lst_X=[]\n",
    "    lst_Y=[]\n",
    "    split=cv\n",
    "    for n in range(cv):\n",
    "        print('-----Creating {0} Xs-----'.format(n+1))\n",
    "        X_train,X_test=create_dataset(data=x,n=n,split=split)\n",
    "        lst_X.append(X_train)\n",
    "        print('-----Creating {0} Ys-----'.format(n+1))\n",
    "        Y_train,Y_test=create_dataset(data=y,n=n,split=split)\n",
    "        lst_Y.append(Y_train)\n",
    "        try:\n",
    "            len(X_train)==len(Y_train)\n",
    "        except:\n",
    "            print('/!\\ lengh non identicale')\n",
    "    return lst_X, lst_Y"
   ]
  },
  {
   "cell_type": "code",
   "execution_count": 144,
   "id": "d65dc789-3fea-4c32-8e13-89dc54654109",
   "metadata": {},
   "outputs": [],
   "source": [
    "def create_lst_lst_dataset(x,y,cv):\n",
    "    lst_dataset_Y=[]\n",
    "    lst_dataset_X=[]\n",
    "    i=0\n",
    "    for x,y in zip(x,y):\n",
    "        start_time = time.time()\n",
    "        \n",
    "\n",
    "        print('----Start Creating {0} dataset list----'.format(i+1))\n",
    "        X_train,Y_train=create_lst_dataset(x=x,y=y,cv=cv)\n",
    "        print('--------Appending-----')\n",
    "        lst_dataset_X.append(X_train)\n",
    "        lst_dataset_Y.append(Y_train)\n",
    "        print('-----completed round {0}'.format(i+1))\n",
    "        i+=1\n",
    "        print(\"--- %s seconds ---\" % (time.time() - start_time))\n",
    "    return lst_dataset_X,lst_dataset_Y"
   ]
  },
  {
   "cell_type": "code",
   "execution_count": 145,
   "id": "38829e20-4afe-4300-90c4-770c194f75ea",
   "metadata": {},
   "outputs": [],
   "source": [
    "def create_lst_model(cv,n_estimators):\n",
    "    model_1=[]\n",
    "    model_2=[]\n",
    "    model_3=[]\n",
    "    model_4=[]\n",
    "    model_5=[]\n",
    "    model_6=[]\n",
    "    for i in range(cv):\n",
    "        model=Pipeline([('scaler', MaxAbsScaler()),('ridge', LGBMRegressor(num_iterations=n_estimators,n_jobs=-1))])\n",
    "        model_1+=[model]\n",
    "        model_2+=[model]\n",
    "        model_3+=[model]\n",
    "        model_4+=[model]\n",
    "        model_5+=[model]\n",
    "        model_6+=[model]\n",
    "    return [model_1,model_2,model_3,model_4,model_5,model_6]"
   ]
  },
  {
   "cell_type": "markdown",
   "id": "b78ff012-f8a3-49e7-a5e5-ab5afd7ae9a6",
   "metadata": {},
   "source": [
    "# DATA"
   ]
  },
  {
   "cell_type": "code",
   "execution_count": 168,
   "id": "9d6619b7-3127-4695-9099-e2eb9b098eeb",
   "metadata": {
    "tags": []
   },
   "outputs": [],
   "source": [
    "wp1_X = train_wp1[[c for c in train_wp1 if c not in [\"wp\"]] + [\"wp\"]].drop(to_drop, axis = 1)\n",
    "X1 = wp1_X.drop('wp', axis=1)\n",
    "y1 = wp1_X['wp']"
   ]
  },
  {
   "cell_type": "code",
   "execution_count": 169,
   "id": "963168d9-5603-43b1-849c-44027e745841",
   "metadata": {},
   "outputs": [],
   "source": [
    "wp2_X = train_wp2[[c for c in train_wp2 if c not in [\"wp\"]] + [\"wp\"]].drop(to_drop, axis = 1)\n",
    "X2 = wp2_X.drop('wp', axis=1)\n",
    "y2 = wp2_X['wp']"
   ]
  },
  {
   "cell_type": "code",
   "execution_count": 170,
   "id": "ec857fb9-02d5-4524-8edd-43bbe5c79da4",
   "metadata": {},
   "outputs": [],
   "source": [
    "wp3_X = train_wp3[[c for c in train_wp3 if c not in [\"wp\"]] + [\"wp\"]].drop(to_drop, axis = 1)\n",
    "X3 = wp3_X.drop('wp', axis = 1)\n",
    "y3 = wp3_X['wp']\n"
   ]
  },
  {
   "cell_type": "code",
   "execution_count": 171,
   "id": "b3d5a0f0-2fc9-432c-bd7f-378fa37aeb0b",
   "metadata": {},
   "outputs": [],
   "source": [
    "wp4_X = train_wp4[[c for c in train_wp4 if c not in [\"wp\"]] + [\"wp\"]].drop(to_drop, axis = 1)\n",
    "X4 = wp4_X.drop('wp', axis = 1)\n",
    "y4 = wp4_X['wp']"
   ]
  },
  {
   "cell_type": "code",
   "execution_count": 172,
   "id": "2b517321-b217-46e1-b80a-3200bd61e747",
   "metadata": {},
   "outputs": [],
   "source": [
    "wp5_X = train_wp5[[c for c in train_wp5 if c not in [\"wp\"]] + [\"wp\"]].drop(to_drop, axis = 1)\n",
    "X5 = wp5_X.drop('wp', axis = 1)\n",
    "y5 = wp5_X['wp']"
   ]
  },
  {
   "cell_type": "code",
   "execution_count": 173,
   "id": "736f3edb-9f25-4a7b-a266-816425438b42",
   "metadata": {
    "tags": []
   },
   "outputs": [],
   "source": [
    "wp6_X = train_wp6[[c for c in train_wp6 if c not in [\"wp\"]] + [\"wp\"]].drop(to_drop, axis = 1)\n",
    "X6 = wp6_X.drop('wp', axis = 1)\n",
    "y6 = wp6_X['wp']"
   ]
  },
  {
   "cell_type": "markdown",
   "id": "50001434-5b44-4a93-8005-ab7794310e1d",
   "metadata": {},
   "source": [
    "# Creating the 10 dataset per WP"
   ]
  },
  {
   "cell_type": "code",
   "execution_count": 174,
   "id": "4d992224-3e4e-44bb-90b2-f248b696b11b",
   "metadata": {},
   "outputs": [
    {
     "name": "stdout",
     "output_type": "stream",
     "text": [
      "----Start Creating 1 dataset list----\n",
      "-----Creating 1 Xs-----\n",
      "-----Creating 1 Ys-----\n",
      "-----Creating 2 Xs-----\n",
      "-----Creating 2 Ys-----\n",
      "-----Creating 3 Xs-----\n",
      "-----Creating 3 Ys-----\n",
      "-----Creating 4 Xs-----\n",
      "-----Creating 4 Ys-----\n",
      "-----Creating 5 Xs-----\n",
      "-----Creating 5 Ys-----\n",
      "-----Creating 6 Xs-----\n",
      "-----Creating 6 Ys-----\n",
      "-----Creating 7 Xs-----\n",
      "-----Creating 7 Ys-----\n",
      "-----Creating 8 Xs-----\n",
      "-----Creating 8 Ys-----\n",
      "-----Creating 9 Xs-----\n",
      "-----Creating 9 Ys-----\n",
      "-----Creating 10 Xs-----\n",
      "-----Creating 10 Ys-----\n",
      "--------Appending-----\n",
      "-----completed round 1\n",
      "--- 209.99046516418457 seconds ---\n",
      "----Start Creating 2 dataset list----\n",
      "-----Creating 1 Xs-----\n",
      "-----Creating 1 Ys-----\n",
      "-----Creating 2 Xs-----\n",
      "-----Creating 2 Ys-----\n",
      "-----Creating 3 Xs-----\n",
      "-----Creating 3 Ys-----\n",
      "-----Creating 4 Xs-----\n",
      "-----Creating 4 Ys-----\n",
      "-----Creating 5 Xs-----\n",
      "-----Creating 5 Ys-----\n",
      "-----Creating 6 Xs-----\n",
      "-----Creating 6 Ys-----\n",
      "-----Creating 7 Xs-----\n",
      "-----Creating 7 Ys-----\n",
      "-----Creating 8 Xs-----\n",
      "-----Creating 8 Ys-----\n",
      "-----Creating 9 Xs-----\n",
      "-----Creating 9 Ys-----\n",
      "-----Creating 10 Xs-----\n",
      "-----Creating 10 Ys-----\n",
      "--------Appending-----\n",
      "-----completed round 2\n",
      "--- 171.94823503494263 seconds ---\n",
      "----Start Creating 3 dataset list----\n",
      "-----Creating 1 Xs-----\n",
      "-----Creating 1 Ys-----\n",
      "-----Creating 2 Xs-----\n",
      "-----Creating 2 Ys-----\n",
      "-----Creating 3 Xs-----\n",
      "-----Creating 3 Ys-----\n",
      "-----Creating 4 Xs-----\n",
      "-----Creating 4 Ys-----\n",
      "-----Creating 5 Xs-----\n",
      "-----Creating 5 Ys-----\n",
      "-----Creating 6 Xs-----\n",
      "-----Creating 6 Ys-----\n",
      "-----Creating 7 Xs-----\n",
      "-----Creating 7 Ys-----\n",
      "-----Creating 8 Xs-----\n",
      "-----Creating 8 Ys-----\n",
      "-----Creating 9 Xs-----\n",
      "-----Creating 9 Ys-----\n",
      "-----Creating 10 Xs-----\n",
      "-----Creating 10 Ys-----\n",
      "--------Appending-----\n",
      "-----completed round 3\n",
      "--- 192.87671375274658 seconds ---\n",
      "----Start Creating 4 dataset list----\n",
      "-----Creating 1 Xs-----\n",
      "-----Creating 1 Ys-----\n",
      "-----Creating 2 Xs-----\n",
      "-----Creating 2 Ys-----\n",
      "-----Creating 3 Xs-----\n",
      "-----Creating 3 Ys-----\n",
      "-----Creating 4 Xs-----\n",
      "-----Creating 4 Ys-----\n",
      "-----Creating 5 Xs-----\n",
      "-----Creating 5 Ys-----\n",
      "-----Creating 6 Xs-----\n",
      "-----Creating 6 Ys-----\n",
      "-----Creating 7 Xs-----\n",
      "-----Creating 7 Ys-----\n",
      "-----Creating 8 Xs-----\n",
      "-----Creating 8 Ys-----\n",
      "-----Creating 9 Xs-----\n",
      "-----Creating 9 Ys-----\n",
      "-----Creating 10 Xs-----\n",
      "-----Creating 10 Ys-----\n",
      "--------Appending-----\n",
      "-----completed round 4\n",
      "--- 188.39235186576843 seconds ---\n",
      "----Start Creating 5 dataset list----\n",
      "-----Creating 1 Xs-----\n",
      "-----Creating 1 Ys-----\n",
      "-----Creating 2 Xs-----\n",
      "-----Creating 2 Ys-----\n",
      "-----Creating 3 Xs-----\n",
      "-----Creating 3 Ys-----\n",
      "-----Creating 4 Xs-----\n",
      "-----Creating 4 Ys-----\n",
      "-----Creating 5 Xs-----\n",
      "-----Creating 5 Ys-----\n",
      "-----Creating 6 Xs-----\n",
      "-----Creating 6 Ys-----\n",
      "-----Creating 7 Xs-----\n",
      "-----Creating 7 Ys-----\n",
      "-----Creating 8 Xs-----\n",
      "-----Creating 8 Ys-----\n",
      "-----Creating 9 Xs-----\n",
      "-----Creating 9 Ys-----\n",
      "-----Creating 10 Xs-----\n",
      "-----Creating 10 Ys-----\n",
      "--------Appending-----\n",
      "-----completed round 5\n",
      "--- 189.34741759300232 seconds ---\n",
      "----Start Creating 6 dataset list----\n",
      "-----Creating 1 Xs-----\n",
      "-----Creating 1 Ys-----\n",
      "-----Creating 2 Xs-----\n",
      "-----Creating 2 Ys-----\n",
      "-----Creating 3 Xs-----\n",
      "-----Creating 3 Ys-----\n",
      "-----Creating 4 Xs-----\n",
      "-----Creating 4 Ys-----\n",
      "-----Creating 5 Xs-----\n",
      "-----Creating 5 Ys-----\n",
      "-----Creating 6 Xs-----\n",
      "-----Creating 6 Ys-----\n",
      "-----Creating 7 Xs-----\n",
      "-----Creating 7 Ys-----\n",
      "-----Creating 8 Xs-----\n",
      "-----Creating 8 Ys-----\n",
      "-----Creating 9 Xs-----\n",
      "-----Creating 9 Ys-----\n",
      "-----Creating 10 Xs-----\n",
      "-----Creating 10 Ys-----\n",
      "--------Appending-----\n",
      "-----completed round 6\n",
      "--- 485.7708435058594 seconds ---\n"
     ]
    }
   ],
   "source": [
    "cv=10\n",
    "lst_X = [X1, X2, X3, X4, X5, X6]\n",
    "lst_Y = [y1, y2, y3, y4, y5, y6]\n",
    "\n",
    "lst_X_trains_split, lst_Y_trains_split = create_lst_lst_dataset(x=lst_X,y=lst_Y,cv=cv)"
   ]
  },
  {
   "cell_type": "code",
   "execution_count": 175,
   "id": "1f7aae7d-4be1-4038-8374-f00f1dc13971",
   "metadata": {},
   "outputs": [],
   "source": [
    "lst_model = create_lst_model(cv=cv,n_estimators=50)"
   ]
  },
  {
   "cell_type": "code",
   "execution_count": 176,
   "id": "1cdfd8cd-aafb-4b72-9f7f-a8952af1c9c3",
   "metadata": {},
   "outputs": [
    {
     "data": {
      "text/plain": [
       "(47124, 287)"
      ]
     },
     "execution_count": 176,
     "metadata": {},
     "output_type": "execute_result"
    }
   ],
   "source": [
    "np.shape(lst_X_trains_split[0][0])"
   ]
  },
  {
   "cell_type": "code",
   "execution_count": 177,
   "id": "9990f48b-99df-4b02-b24a-604a56be7aea",
   "metadata": {},
   "outputs": [],
   "source": [
    "#for model,x,y in zip(lst_model,lst_X_trains_split,lst_Y_trains_split):\n",
    " #   for i in range(cv):\n",
    "  #      model[i].fit(x[i],y[i])"
   ]
  },
  {
   "cell_type": "code",
   "execution_count": 178,
   "id": "ee067d19-75ef-4c52-8b94-e8e3141366e5",
   "metadata": {},
   "outputs": [],
   "source": [
    "lst_predictions_all=[]\n",
    "for model,x_all,x,y in zip(lst_model,lst_X,lst_X_trains_split,lst_Y_trains_split):\n",
    "    lst_predictions=[]\n",
    "    for i in range(cv):\n",
    "        clf=model[i]\n",
    "        clf.fit(x[i],y[i])\n",
    "        lst_predictions.append(clf.predict(x_all))\n",
    "    lst_predictions_all.append(lst_predictions)"
   ]
  },
  {
   "cell_type": "code",
   "execution_count": 179,
   "id": "54b63ec8-2f0e-46c2-b52c-a01d8d8e0cb6",
   "metadata": {},
   "outputs": [],
   "source": [
    "#lst_predictions_all=[]\n",
    "#for model,x in zip(lst_model,lst_X):\n",
    "#    lst_predictions=[]\n",
    "#    for i in range(cv):\n",
    "#        lst_predictions.append(model[i].predict(x))\n",
    "#    lst_predictions_all.append(lst_predictions)\n",
    "        "
   ]
  },
  {
   "cell_type": "code",
   "execution_count": 180,
   "id": "581bfe66-25c4-42f9-bdff-40a3e1c30ff4",
   "metadata": {},
   "outputs": [
    {
     "data": {
      "text/plain": [
       "(6, 10, 52416)"
      ]
     },
     "execution_count": 180,
     "metadata": {},
     "output_type": "execute_result"
    }
   ],
   "source": [
    "np.shape(lst_predictions_all)"
   ]
  },
  {
   "cell_type": "code",
   "execution_count": 181,
   "id": "8fffa11b-9464-4354-b7b2-b44b5274d71a",
   "metadata": {},
   "outputs": [],
   "source": [
    "weights_all=[]\n",
    "for pred,y in zip(lst_predictions_all,lst_Y):\n",
    "    weights=[]\n",
    "    for i in range(cv):\n",
    "        weights.append(0)\n",
    "        \n",
    "    def mae_func(weights):\n",
    "        #final_prediction=0\n",
    "        for i in range(len(weights)):\n",
    "            if i==0:\n",
    "                final_prediction = weights[i]*pred[i]\n",
    "            else:\n",
    "                final_prediction += weights[i]*pred[i]\n",
    "        return mean_absolute_error(y, final_prediction)\n",
    "    res = minimize(mae_func, weights, method='Nelder-Mead')\n",
    "    weights_all.append(res['x'])\n",
    "        \n",
    "    "
   ]
  },
  {
   "cell_type": "code",
   "execution_count": 182,
   "id": "a54f39c1-1cdf-438f-ab82-bc073248e258",
   "metadata": {},
   "outputs": [
    {
     "data": {
      "text/plain": [
       "(6, 10)"
      ]
     },
     "execution_count": 182,
     "metadata": {},
     "output_type": "execute_result"
    }
   ],
   "source": [
    "np.shape(weights_all)"
   ]
  },
  {
   "cell_type": "code",
   "execution_count": 183,
   "id": "fbbb6b91-61b4-4a58-bd25-9e2fb238e765",
   "metadata": {},
   "outputs": [
    {
     "name": "stdout",
     "output_type": "stream",
     "text": [
      "[ 0.0276698   0.40474727  0.08374892  0.03634743  0.04754457  0.25196456\n",
      "  0.17129103 -0.02859922  0.15363488 -0.12286536]\n",
      "[ 0.40678342  0.02783575  0.15442511  0.08419277  0.03656284 -0.12358874\n",
      "  0.25321849 -0.02872975  0.17209357  0.04777072]\n",
      "[ 0.40827092  0.17262445 -0.12383225  0.02794989  0.15498584  0.25396152\n",
      "  0.08449633  0.03662861  0.04799305 -0.02879317]\n",
      "[ 0.40774193  0.17259683  0.08442932  0.25391487 -0.12389491  0.15484956\n",
      "  0.04792071 -0.02880406  0.03658159  0.02787659]\n",
      "[-0.12350761 -0.02882424  0.03653592  0.40723416  0.04785688  0.17236359\n",
      "  0.25345559  0.08420649  0.15457112  0.02784825]\n",
      "[ 0.02775796  0.17210608 -0.02867244  0.4071074   0.25321854  0.0365818\n",
      "  0.08429822  0.15449387  0.04778374 -0.12350635]\n"
     ]
    }
   ],
   "source": [
    "for i in range(6):\n",
    "    print(weights_all[i])"
   ]
  },
  {
   "cell_type": "code",
   "execution_count": 184,
   "id": "d6a68dba-37fd-4a66-a09c-10a2eba53657",
   "metadata": {},
   "outputs": [],
   "source": [
    "to_drop_test = ['date','wd','forecast_time', 'forecast', \"forecast_dist\", 'wp']#+feature_corr\n",
    "def make_prediction_dataset(test, to_drop=to_drop_test):\n",
    "    test_to_predict = test.dropna(subset=['ws','u','v'], how = 'any') # keeps only lines with u,v,ws,wd\n",
    "    test_to_predict = test_to_predict[test_to_predict['wp'].isna()] # keeps only lines with no wp\n",
    "    test_to_predict = test_to_predict.sort_values(by=['date', 'forecast_time'], ascending = [True, False]).drop_duplicates(subset='date')\n",
    "    test_to_predict = test_to_predict.drop(to_drop, axis = 1)\n",
    "    return test_to_predict"
   ]
  },
  {
   "cell_type": "code",
   "execution_count": 185,
   "id": "7cb4d554-befd-4329-bae2-4a0bc37f0d7d",
   "metadata": {},
   "outputs": [],
   "source": [
    "lst_tests = []\n",
    "for test in [test_wp1, test_wp2, test_wp3, test_wp4, test_wp5, test_wp6]:\n",
    "    test = make_prediction_dataset(test)\n",
    "    lst_tests.append(test)"
   ]
  },
  {
   "cell_type": "code",
   "execution_count": 186,
   "id": "de2237cd-6edc-4476-a424-0b709e6a0532",
   "metadata": {},
   "outputs": [],
   "source": [
    "#lst_prediction=[]\n",
    "#for weights,model,test in zip(weights_all,lst_model,lst_tests):\n",
    "#    for i in range(cv):\n",
    "#        if i==0:\n",
    "#            y_pred=model[i].predict(test)*weights[i]\n",
    "#        else:\n",
    "#            y_pred+=model[i].predict(test)*weights[i]\n",
    "#    lst_prediction.append(y_pred)\n",
    "        "
   ]
  },
  {
   "cell_type": "code",
   "execution_count": 187,
   "id": "c4bc52d9-1700-4858-9444-068a72f7b6fd",
   "metadata": {},
   "outputs": [],
   "source": [
    "lst_final_prediction=[]\n",
    "for weights,model,test,x_train,y_train in zip(weights_all,lst_model,lst_tests,lst_X_trains_split,lst_Y_trains_split):\n",
    "    for i in range(cv):\n",
    "        clf=model[i]\n",
    "        clf.fit(x_train[0],y_train[0])\n",
    "        if i==0:\n",
    "            y_pred=clf.predict(test)*weights[i]\n",
    "        else:\n",
    "            y_pred+=clf.predict(test)*weights[i]\n",
    "    lst_final_prediction.append(y_pred)\n",
    "        "
   ]
  },
  {
   "cell_type": "code",
   "execution_count": 188,
   "id": "b9b4a433-d66b-4691-b2c2-0d4f4aae144f",
   "metadata": {},
   "outputs": [],
   "source": [
    "df_predictions = pd.DataFrame({\n",
    "        'date': test_dates,\n",
    "        'wp1': lst_final_prediction[0],\n",
    "        'wp2': lst_final_prediction[1],\n",
    "        'wp3': lst_final_prediction[2],\n",
    "        'wp4': lst_final_prediction[3],\n",
    "        'wp5': lst_final_prediction[4],\n",
    "        'wp6': lst_final_prediction[5],        \n",
    "    })"
   ]
  },
  {
   "cell_type": "code",
   "execution_count": 189,
   "id": "30f05146-63fb-45e5-98bc-7ac38a9cbdd5",
   "metadata": {},
   "outputs": [],
   "source": [
    "nb_sub = 45\n",
    "model = \"lgm_10models\"\n",
    "prepro = 'MaxAbsScaler'\n",
    "postpro = \"Prediction limited by 0-1\""
   ]
  },
  {
   "cell_type": "code",
   "execution_count": 190,
   "id": "6af942d5-fb66-44cf-b893-c4fc178a0199",
   "metadata": {},
   "outputs": [
    {
     "data": {
      "text/html": [
       "<div>\n",
       "<style scoped>\n",
       "    .dataframe tbody tr th:only-of-type {\n",
       "        vertical-align: middle;\n",
       "    }\n",
       "\n",
       "    .dataframe tbody tr th {\n",
       "        vertical-align: top;\n",
       "    }\n",
       "\n",
       "    .dataframe thead th {\n",
       "        text-align: right;\n",
       "    }\n",
       "</style>\n",
       "<table border=\"1\" class=\"dataframe\">\n",
       "  <thead>\n",
       "    <tr style=\"text-align: right;\">\n",
       "      <th></th>\n",
       "      <th>date</th>\n",
       "      <th>wp1</th>\n",
       "      <th>wp2</th>\n",
       "      <th>wp3</th>\n",
       "      <th>wp4</th>\n",
       "      <th>wp5</th>\n",
       "      <th>wp6</th>\n",
       "    </tr>\n",
       "  </thead>\n",
       "  <tbody>\n",
       "    <tr>\n",
       "      <th>0</th>\n",
       "      <td>2011010101</td>\n",
       "      <td>0.675777</td>\n",
       "      <td>0.388518</td>\n",
       "      <td>0.110718</td>\n",
       "      <td>0.655784</td>\n",
       "      <td>0.738502</td>\n",
       "      <td>0.651295</td>\n",
       "    </tr>\n",
       "    <tr>\n",
       "      <th>1</th>\n",
       "      <td>2011010102</td>\n",
       "      <td>0.656002</td>\n",
       "      <td>0.398256</td>\n",
       "      <td>0.136802</td>\n",
       "      <td>0.569115</td>\n",
       "      <td>0.732579</td>\n",
       "      <td>0.675604</td>\n",
       "    </tr>\n",
       "    <tr>\n",
       "      <th>2</th>\n",
       "      <td>2011010103</td>\n",
       "      <td>0.654136</td>\n",
       "      <td>0.386581</td>\n",
       "      <td>0.126663</td>\n",
       "      <td>0.579000</td>\n",
       "      <td>0.754484</td>\n",
       "      <td>0.691360</td>\n",
       "    </tr>\n",
       "    <tr>\n",
       "      <th>3</th>\n",
       "      <td>2011010104</td>\n",
       "      <td>0.652536</td>\n",
       "      <td>0.354690</td>\n",
       "      <td>0.175976</td>\n",
       "      <td>0.625470</td>\n",
       "      <td>0.772127</td>\n",
       "      <td>0.658792</td>\n",
       "    </tr>\n",
       "    <tr>\n",
       "      <th>4</th>\n",
       "      <td>2011010105</td>\n",
       "      <td>0.682563</td>\n",
       "      <td>0.340131</td>\n",
       "      <td>0.312660</td>\n",
       "      <td>0.636555</td>\n",
       "      <td>0.753277</td>\n",
       "      <td>0.645904</td>\n",
       "    </tr>\n",
       "  </tbody>\n",
       "</table>\n",
       "</div>"
      ],
      "text/plain": [
       "         date       wp1       wp2       wp3       wp4       wp5       wp6\n",
       "0  2011010101  0.675777  0.388518  0.110718  0.655784  0.738502  0.651295\n",
       "1  2011010102  0.656002  0.398256  0.136802  0.569115  0.732579  0.675604\n",
       "2  2011010103  0.654136  0.386581  0.126663  0.579000  0.754484  0.691360\n",
       "3  2011010104  0.652536  0.354690  0.175976  0.625470  0.772127  0.658792\n",
       "4  2011010105  0.682563  0.340131  0.312660  0.636555  0.753277  0.645904"
      ]
     },
     "execution_count": 190,
     "metadata": {},
     "output_type": "execute_result"
    }
   ],
   "source": [
    "df_predictions.head()"
   ]
  },
  {
   "cell_type": "code",
   "execution_count": 191,
   "id": "877399db-73c5-453c-94b7-ac5ef7041abe",
   "metadata": {},
   "outputs": [],
   "source": [
    "# df_predictions.to_csv('Predictions/submission_nb_10_full_maxabs-lgbm-featselect.csv', index=False, sep=';')\n",
    "df_predictions.to_csv(f'Predictions/submission_nb_{nb_sub}_{model}.csv', index=False, sep=';')"
   ]
  },
  {
   "cell_type": "code",
   "execution_count": null,
   "id": "78af07e2-1464-46fc-b77e-f428a29811e6",
   "metadata": {},
   "outputs": [],
   "source": []
  }
 ],
 "metadata": {
  "kernelspec": {
   "display_name": "Python 3 (ipykernel)",
   "language": "python",
   "name": "python3"
  },
  "language_info": {
   "codemirror_mode": {
    "name": "ipython",
    "version": 3
   },
   "file_extension": ".py",
   "mimetype": "text/x-python",
   "name": "python",
   "nbconvert_exporter": "python",
   "pygments_lexer": "ipython3",
   "version": "3.8.6"
  }
 },
 "nbformat": 4,
 "nbformat_minor": 5
}
