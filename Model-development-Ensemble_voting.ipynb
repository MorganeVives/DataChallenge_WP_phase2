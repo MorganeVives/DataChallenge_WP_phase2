{
 "cells": [
  {
   "cell_type": "markdown",
   "id": "bf19910b-3236-44cb-b4d9-9e78a8712503",
   "metadata": {},
   "source": [
    "# Averaging base models"
   ]
  },
  {
   "cell_type": "code",
   "execution_count": 70,
   "id": "0fb86a79-f341-4643-82e6-0408219390f5",
   "metadata": {},
   "outputs": [],
   "source": [
    "import pandas as pd\n",
    "import seaborn as sns\n",
    "import openpyxl\n",
    "from datetime import datetime, timedelta\n",
    "import matplotlib.pyplot as plt\n",
    "import numpy as np\n",
    "import os\n",
    "import pickle"
   ]
  },
  {
   "cell_type": "code",
   "execution_count": 71,
   "id": "bfea910b-fb76-46a2-80ad-d1491d49567d",
   "metadata": {},
   "outputs": [],
   "source": [
    "from sklearn.model_selection import KFold, train_test_split, cross_val_score\n",
    "from sklearn.preprocessing import MinMaxScaler, StandardScaler, MaxAbsScaler\n",
    "from sklearn.pipeline import Pipeline\n",
    "from sklearn.metrics import mean_squared_error, mean_absolute_error\n",
    "import optuna"
   ]
  },
  {
   "cell_type": "code",
   "execution_count": 72,
   "id": "7739ed39-1815-4c23-a388-60e613451564",
   "metadata": {},
   "outputs": [],
   "source": [
    "from sklearn.ensemble import StackingRegressor, RandomForestRegressor\n",
    "from sklearn.linear_model import RidgeCV, Ridge \n",
    "from sklearn.svm import LinearSVR\n",
    "from lightgbm import LGBMRegressor\n",
    "from xgboost import XGBRegressor"
   ]
  },
  {
   "cell_type": "code",
   "execution_count": 73,
   "id": "e79f511c-f061-45ca-9203-95d32a1cc00d",
   "metadata": {},
   "outputs": [],
   "source": [
    "from Functions.helper_functions import * "
   ]
  },
  {
   "cell_type": "code",
   "execution_count": 74,
   "id": "a494bf38-9907-4251-8c47-0f094a34654a",
   "metadata": {},
   "outputs": [],
   "source": [
    "import warnings\n",
    "warnings.filterwarnings(action='ignore', category=UserWarning)\n",
    "pd.options.mode.chained_assignment = None  # default='warn'"
   ]
  },
  {
   "cell_type": "markdown",
   "id": "064f5361-1843-4ab9-a2a8-3dc04729bd13",
   "metadata": {},
   "source": [
    "# Data import"
   ]
  },
  {
   "cell_type": "code",
   "execution_count": 78,
   "id": "ea8b2ff1-d89d-4586-8889-49f4cf1658fd",
   "metadata": {},
   "outputs": [],
   "source": [
    "# train_wp1 = pd.read_csv('Data/Preprocessing/WP1_train_preprocessed.csv', sep=',')\n",
    "# train_wp2 = pd.read_csv('Data/Preprocessing/WP2_train_preprocessed.csv', sep=',')\n",
    "# train_wp3 = pd.read_csv('Data/Preprocessing/WP3_train_preprocessed.csv', sep=',')\n",
    "# train_wp4 = pd.read_csv('Data/Preprocessing/WP4_train_preprocessed.csv', sep=',')\n",
    "# train_wp5 = pd.read_csv('Data/Preprocessing/WP5_train_preprocessed.csv', sep=',')\n",
    "# train_wp6 = pd.read_csv('Data/Preprocessing/WP6_train_preprocessed.csv', sep=',')\n",
    "\n",
    "# test_wp1 = pd.read_csv('Data/Preprocessing/WP1_test_preprocessed.csv', sep=',')\n",
    "# test_wp2 = pd.read_csv('Data/Preprocessing/WP2_test_preprocessed.csv', sep=',')\n",
    "# test_wp3 = pd.read_csv('Data/Preprocessing/WP3_test_preprocessed.csv', sep=',')\n",
    "# test_wp4 = pd.read_csv('Data/Preprocessing/WP4_test_preprocessed.csv', sep=',')\n",
    "# test_wp5 = pd.read_csv('Data/Preprocessing/WP5_test_preprocessed.csv', sep=',')\n",
    "# test_wp6 = pd.read_csv('Data/Preprocessing/WP6_test_preprocessed.csv', sep=',')\n",
    "# test_dates = pd.read_csv('Data/Initial/test.csv', sep=',').date.values"
   ]
  },
  {
   "cell_type": "code",
   "execution_count": 76,
   "id": "c9ffd483-8b23-4c81-8b5b-4e343d8d5509",
   "metadata": {},
   "outputs": [],
   "source": [
    "to_drop = ['date','wd','forecast_time', 'forecast', \"forecast_dist\"]"
   ]
  },
  {
   "cell_type": "markdown",
   "id": "20602fcc-6d85-4fca-8167-258ae4087151",
   "metadata": {},
   "source": [
    "# Voting from previous submissions"
   ]
  },
  {
   "cell_type": "code",
   "execution_count": 77,
   "id": "d66cc85d-e18c-4c86-ae48-77ed16584b77",
   "metadata": {},
   "outputs": [],
   "source": [
    "pred_stack = pd.read_csv('Predictions/submission_nb_16_stacking_0-2xgboost+2lgbm_1-LinearSVR.csv', sep=';')\n",
    "pred_dnn =  pd.read_csv('Predictions/submission_nb_6_full_dnn.csv', sep=';')\n",
    "pred_lgbm_maxabs = pd.read_csv('Predictions/submission_nb_9_full_maxabs-lgbm.csv', sep=';')\n",
    "pred_xgboost = pd.read_csv('Predictions/submission_nb_8_full_absmax-xgboost.csv', sep=';')\n",
    "pred_ridge = pd.read_csv('Predictions/submission_nb_6_full_ridgecv.csv', sep=';')\n",
    "pred_lgbm_std = pd.read_csv('Predictions/submission_nb_7_full_std-lgbm.csv', sep=';')\n",
    "pred_stack_2 = pd.read_csv('Predictions/submission_nb_25_cv_stacking_0-ENet-GBoost-KRR-SVR-ridge-xtratree_1-Lasso.csv', sep=';')"
   ]
  },
  {
   "cell_type": "markdown",
   "id": "63416dc2-e6d2-4744-bf41-79273cd0d682",
   "metadata": {},
   "source": [
    "# Voting method "
   ]
  },
  {
   "cell_type": "markdown",
   "id": "9b3d666e-dfee-4008-bc72-a01504df3a6c",
   "metadata": {},
   "source": [
    "## Simple average"
   ]
  },
  {
   "cell_type": "code",
   "execution_count": 127,
   "id": "c12e7ad1-79f8-4ffa-ab37-5fbb3e6946bd",
   "metadata": {},
   "outputs": [],
   "source": [
    "# w_stack = 3\n",
    "w_stack_2 = 2\n",
    "w_lgbm_maxabs = 1.7\n",
    "w_dnn = 1\n",
    "w_xgboost = 1.3\n",
    "w_ridge = 1\n",
    "w_lgbm_std = 1.2\n",
    "sum_weights = w_stack_2 + w_lgbm_maxabs + w_xgboost + w_lgbm_std + w_ridge + w_dnn\n",
    "\n",
    "pred_av = (pred_lgbm_std*w_lgbm_std + w_ridge*pred_ridge + w_dnn*pred_dnn + w_stack_2*pred_stack_2 + w_lgbm_maxabs*pred_lgbm_maxabs + w_xgboost*pred_xgboost)/sum_weights\n",
    "\n",
    "pred_av[\"date\"] = pred_av[\"date\"].astype(int)"
   ]
  },
  {
   "cell_type": "code",
   "execution_count": 128,
   "id": "924aff83-a082-47ec-a583-4f4d4d7ddffa",
   "metadata": {},
   "outputs": [
    {
     "data": {
      "text/plain": [
       "8.2"
      ]
     },
     "execution_count": 128,
     "metadata": {},
     "output_type": "execute_result"
    }
   ],
   "source": [
    "sum_weights"
   ]
  },
  {
   "cell_type": "code",
   "execution_count": 129,
   "id": "166bb798-6910-4d57-88ea-c0bfd9ff5661",
   "metadata": {},
   "outputs": [
    {
     "data": {
      "text/html": [
       "<div>\n",
       "<style scoped>\n",
       "    .dataframe tbody tr th:only-of-type {\n",
       "        vertical-align: middle;\n",
       "    }\n",
       "\n",
       "    .dataframe tbody tr th {\n",
       "        vertical-align: top;\n",
       "    }\n",
       "\n",
       "    .dataframe thead th {\n",
       "        text-align: right;\n",
       "    }\n",
       "</style>\n",
       "<table border=\"1\" class=\"dataframe\">\n",
       "  <thead>\n",
       "    <tr style=\"text-align: right;\">\n",
       "      <th></th>\n",
       "      <th>date</th>\n",
       "      <th>wp1</th>\n",
       "      <th>wp2</th>\n",
       "      <th>wp3</th>\n",
       "      <th>wp4</th>\n",
       "      <th>wp5</th>\n",
       "      <th>wp6</th>\n",
       "    </tr>\n",
       "  </thead>\n",
       "  <tbody>\n",
       "    <tr>\n",
       "      <th>0</th>\n",
       "      <td>2011010101</td>\n",
       "      <td>0.649911</td>\n",
       "      <td>0.363403</td>\n",
       "      <td>0.059179</td>\n",
       "      <td>0.543417</td>\n",
       "      <td>0.735196</td>\n",
       "      <td>0.607317</td>\n",
       "    </tr>\n",
       "    <tr>\n",
       "      <th>1</th>\n",
       "      <td>2011010102</td>\n",
       "      <td>0.606110</td>\n",
       "      <td>0.375853</td>\n",
       "      <td>0.049719</td>\n",
       "      <td>0.504106</td>\n",
       "      <td>0.709168</td>\n",
       "      <td>0.633917</td>\n",
       "    </tr>\n",
       "    <tr>\n",
       "      <th>2</th>\n",
       "      <td>2011010103</td>\n",
       "      <td>0.573756</td>\n",
       "      <td>0.379575</td>\n",
       "      <td>0.101526</td>\n",
       "      <td>0.502508</td>\n",
       "      <td>0.698208</td>\n",
       "      <td>0.644225</td>\n",
       "    </tr>\n",
       "    <tr>\n",
       "      <th>3</th>\n",
       "      <td>2011010104</td>\n",
       "      <td>0.584983</td>\n",
       "      <td>0.365566</td>\n",
       "      <td>0.177145</td>\n",
       "      <td>0.539205</td>\n",
       "      <td>0.703019</td>\n",
       "      <td>0.645604</td>\n",
       "    </tr>\n",
       "    <tr>\n",
       "      <th>4</th>\n",
       "      <td>2011010105</td>\n",
       "      <td>0.649048</td>\n",
       "      <td>0.308137</td>\n",
       "      <td>0.282475</td>\n",
       "      <td>0.597372</td>\n",
       "      <td>0.749244</td>\n",
       "      <td>0.651318</td>\n",
       "    </tr>\n",
       "    <tr>\n",
       "      <th>...</th>\n",
       "      <td>...</td>\n",
       "      <td>...</td>\n",
       "      <td>...</td>\n",
       "      <td>...</td>\n",
       "      <td>...</td>\n",
       "      <td>...</td>\n",
       "      <td>...</td>\n",
       "    </tr>\n",
       "    <tr>\n",
       "      <th>7435</th>\n",
       "      <td>2012062420</td>\n",
       "      <td>0.117406</td>\n",
       "      <td>0.066067</td>\n",
       "      <td>0.254181</td>\n",
       "      <td>0.142087</td>\n",
       "      <td>0.241056</td>\n",
       "      <td>0.216190</td>\n",
       "    </tr>\n",
       "    <tr>\n",
       "      <th>7436</th>\n",
       "      <td>2012062421</td>\n",
       "      <td>0.101403</td>\n",
       "      <td>0.052761</td>\n",
       "      <td>0.335033</td>\n",
       "      <td>0.114088</td>\n",
       "      <td>0.260828</td>\n",
       "      <td>0.238274</td>\n",
       "    </tr>\n",
       "    <tr>\n",
       "      <th>7437</th>\n",
       "      <td>2012062422</td>\n",
       "      <td>0.070279</td>\n",
       "      <td>0.041621</td>\n",
       "      <td>0.416943</td>\n",
       "      <td>0.089511</td>\n",
       "      <td>0.207959</td>\n",
       "      <td>0.230926</td>\n",
       "    </tr>\n",
       "    <tr>\n",
       "      <th>7438</th>\n",
       "      <td>2012062423</td>\n",
       "      <td>0.071717</td>\n",
       "      <td>0.035070</td>\n",
       "      <td>0.453314</td>\n",
       "      <td>0.075263</td>\n",
       "      <td>0.148364</td>\n",
       "      <td>0.197434</td>\n",
       "    </tr>\n",
       "    <tr>\n",
       "      <th>7439</th>\n",
       "      <td>2012062500</td>\n",
       "      <td>0.081425</td>\n",
       "      <td>0.035606</td>\n",
       "      <td>0.463921</td>\n",
       "      <td>0.076895</td>\n",
       "      <td>0.150266</td>\n",
       "      <td>0.195718</td>\n",
       "    </tr>\n",
       "  </tbody>\n",
       "</table>\n",
       "<p>7440 rows × 7 columns</p>\n",
       "</div>"
      ],
      "text/plain": [
       "            date       wp1       wp2       wp3       wp4       wp5       wp6\n",
       "0     2011010101  0.649911  0.363403  0.059179  0.543417  0.735196  0.607317\n",
       "1     2011010102  0.606110  0.375853  0.049719  0.504106  0.709168  0.633917\n",
       "2     2011010103  0.573756  0.379575  0.101526  0.502508  0.698208  0.644225\n",
       "3     2011010104  0.584983  0.365566  0.177145  0.539205  0.703019  0.645604\n",
       "4     2011010105  0.649048  0.308137  0.282475  0.597372  0.749244  0.651318\n",
       "...          ...       ...       ...       ...       ...       ...       ...\n",
       "7435  2012062420  0.117406  0.066067  0.254181  0.142087  0.241056  0.216190\n",
       "7436  2012062421  0.101403  0.052761  0.335033  0.114088  0.260828  0.238274\n",
       "7437  2012062422  0.070279  0.041621  0.416943  0.089511  0.207959  0.230926\n",
       "7438  2012062423  0.071717  0.035070  0.453314  0.075263  0.148364  0.197434\n",
       "7439  2012062500  0.081425  0.035606  0.463921  0.076895  0.150266  0.195718\n",
       "\n",
       "[7440 rows x 7 columns]"
      ]
     },
     "execution_count": 129,
     "metadata": {},
     "output_type": "execute_result"
    }
   ],
   "source": [
    "pred_av"
   ]
  },
  {
   "cell_type": "code",
   "execution_count": 130,
   "id": "6d181be6-397e-4d7c-ba5a-584217813fe1",
   "metadata": {},
   "outputs": [],
   "source": [
    "nb_sub = 27\n",
    "model = \"votingreg\"\n",
    "models = \"stacknb2-maxabslgbm-xgboost-ridge-dnn-stack1\"\n",
    "weight = 'Weighted'\n",
    "\n",
    "pred_av.to_csv(f'Predictions/submission_nb_{nb_sub}_{model}_{models}.csv', index=False, sep=';')\n",
    "f = open(f\"Predictions/submission-{nb_sub}_{model}_{models}.txt\", \"x\")\n",
    "f.write(f\"Model1: Predictions/submission_nb_6_full_dnn.csv\\n\")\n",
    "f.write(f\"Model1 weight: {w_dnn}\\n\\n\")\n",
    "f.write(f\"Model2: Predictions/submission_nb_9_full_maxabs-lgbm.csv\\n\")\n",
    "f.write(f\"Model2 weight: {w_lgbm_maxabs}\\n\\n\")\n",
    "f.write(f\"Model3: Predictions/submission_nb_8_full_absmax-xgboost.csv\\n\")\n",
    "f.write(f\"Model3 weight: {w_xgboost}\\n\\n\")\n",
    "f.write(f\"Model6: Predictions/submission_nb_25_cv_stacking_0-ENet-GBoost-KRR-SVR-ridge-xtratree_1-Lasso.csv\\n\")\n",
    "f.write(f\"Model6 weight: {w_stack_2}\\n\\n\")\n",
    "f.write(f\"Model4: Predictions/submission_nb_6_full_ridgecv.csv \\n\")\n",
    "f.write(f\"Model4 weight: {w_ridge}\\n\\n\")\n",
    "f.write(f\"Model5: Predictions/submission_nb_7_full_std-lgbm.csv\\n\")\n",
    "f.write(f\"Model5 weight: {w_lgbm_std}\\n\\n\")\n",
    "f.write(f\"Model5: Predictions/submission_nb_16_stacking_0-2xgboost+2lgbm_1-LinearSVR.csv\\n\")\n",
    "f.write(f\"Model5 weight: {w_stack}\\n\\n\")\n",
    "f.write(f\"Type of weighted : {weight}\")\n",
    "f.close()"
   ]
  }
 ],
 "metadata": {
  "kernelspec": {
   "display_name": "Python 3",
   "language": "python",
   "name": "python3"
  },
  "language_info": {
   "codemirror_mode": {
    "name": "ipython",
    "version": 3
   },
   "file_extension": ".py",
   "mimetype": "text/x-python",
   "name": "python",
   "nbconvert_exporter": "python",
   "pygments_lexer": "ipython3",
   "version": "3.8.5"
  }
 },
 "nbformat": 4,
 "nbformat_minor": 5
}
